{
 "cells": [
  {
   "cell_type": "code",
   "execution_count": 1,
   "metadata": {},
   "outputs": [],
   "source": [
    "##ignore\n",
    "from vuepy.utils import magic"
   ]
  },
  {
   "cell_type": "markdown",
   "metadata": {
    "collapsed": true,
    "jupyter": {
     "outputs_hidden": true
    },
    "pycharm": {
     "name": "#%% md\n"
    }
   },
   "source": [
    "## 简介\n",
    "vuep.py是一个用于构建用户界面的python框架。它基于标准html、python构建，并提供一套声明式、组件化的编程模型，与Vue3.js组合式API几乎完全兼容。\n",
    "\n",
    "核心功能：\n",
    "* 声明式渲染：Vue.py 基于标准 HTML 拓展了一套模板语法，使得我们可以声明式地描述最终输出的 HTML 和 Python 状态之间的关系。\n",
    "* 响应性：Vue.py 会自动跟踪 Python 状态并在其发生变化时响应式地更新 DOM。"
   ]
  },
  {
   "cell_type": "markdown",
   "metadata": {},
   "source": [
    "## 单文件组件 SFC\n",
    "\n",
    "语法和vue.js一致，不同点在与使用`<script lang='py'></script>`来包裹实现组件逻辑的python代码，以下为vuepy组合式API构建的SFC组件示例：\n",
    "\n",
    "```vue\n",
    "<template>\n",
    "  <Button :label=\"f'Count is: {count.value}'\"\n",
    "          @click='counter()'\n",
    "  ></Button>\n",
    "</template>\n",
    "\n",
    "<script lang='py'>\n",
    "from vuepy import ref\n",
    "\n",
    "count = ref(0)\n",
    "\n",
    "def counter():\n",
    "    count.value += 1\n",
    "</script>\n",
    "```\n",
    "\n",
    "### SFC 语法定义\n",
    "\n",
    "一个 Vue.py 单文件组件 (SFC)，通常使用 *.vue 作为文件扩展名，它是一种使用了类似 HTML 语法的自定义文件格式，用于定义 Vue.py 组件。一个 Vue.py 单文件组件在语法上是兼容 HTML 的。和vue.js的sfc组件非常相似。\n",
    "\n",
    "相同点：有template、script等语言块。  \n",
    "不同点：\n",
    "* 最多包含一个`<script lang='py'>`，这个标签里的内容（python代码）将被预处理为组件的 setup() 函数，这意味着它将为每一个组件实例都执行。`<script lang='py'>` 中的顶层绑定都将自动暴露给模板。\n",
    "* 可以通过script的src导入python文件，如`<script src=\"./app.py\"></script>`，src为相对路径时以`./`开头，表示相对于当前vue文件的路径，src文件中需要定义setup函数。\n",
    "```python\n",
    "def setup(props, context, app):\n",
    "    # 和<script lang='py'>中的规则一致\n",
    "```\n",
    "* `<script lang='py'>`和`<script src=\"./app.py\"></script>`只能选一种\n"
   ]
  },
  {
   "cell_type": "markdown",
   "metadata": {},
   "source": [
    "## 创建Vue.py应用\n",
    "\n",
    "```python\n",
    "from vuepy import create_app, import_sfc\n",
    "App = import_sfc(\"./App.vue\")\n",
    "app = create_app(App)\n",
    "app.mount()\n",
    "```"
   ]
  },
  {
   "cell_type": "markdown",
   "metadata": {},
   "source": [
    "## 模板语法\n",
    "\n",
    "和vue.js基本一致，不同的是表达式是 python 表达式。\n",
    "\n",
    "文本插值\n",
    "```vue\n",
    "<span>{{ exp }}</span>\n",
    "```\n",
    "\n",
    "Attribute绑定\n",
    "```vue\n",
    "<div v-bind:id=\"dynamicId\"></div>\n",
    "<div :id=\"dynamicId\"></div>\n",
    "```\n",
    "\n",
    "使用Python表达式，支持完整的Python表达式，以当前组件实例为作用域解析执行\n",
    "```vue\n",
    "<span>\n",
    "{{ var.value + 1 }}\n",
    "{{ 'Y' if ok.value else 'N' }}\n",
    "{{ ','.join(msgs) }}\n",
    "{{ format(data) }}\n",
    "</span>\n",
    "<Input :value=\"f'list-{did.value}'\"></Input>\n",
    "```\n",
    "\n",
    "指令 Directives：带有`v-`前缀的特殊attribute。指令attribute的期望值一般为一个Python表达式。其表达式的值变化时会响应式地更新UI。\n",
    "```vue\n",
    "\n",
    "```"
   ]
  },
  {
   "cell_type": "markdown",
   "metadata": {},
   "source": [
    "## 响应式基础\n",
    "\n",
    "ref、reactive和vue.js的基本一致。  \n",
    "不同点：\n",
    "* 获取ref对象的值需要显式地访问ref对象的value属性。"
   ]
  },
  {
   "cell_type": "markdown",
   "metadata": {},
   "source": [
    "## 计算属性\n",
    "\n",
    "ref、reactive和vue.js的基本一致。  \n",
    "不同点：\n",
    "* 可以使用装饰器声明计算属性\n",
    "```python\n",
    "from vuepy import ref, computed\n",
    "\n",
    "count = ref(1)\n",
    "\n",
    "@computed\n",
    "def plus_one():\n",
    "  return count.value + 1\n",
    "```"
   ]
  },
  {
   "cell_type": "markdown",
   "metadata": {},
   "source": [
    "## 条件渲染\n",
    "\n",
    "v-if、v-else-if、v-else、v-show和vue.js的基本一致。"
   ]
  },
  {
   "cell_type": "markdown",
   "metadata": {},
   "source": [
    "## 列表渲染\n",
    "\n",
    "v-for和vue.js的基本一致。  \n",
    "不同点：\n",
    "* 当有两个参数时，位置索引参数是第一个参数，更符合python习惯。\n",
    "  ```vue\n",
    "  <li v-for=\"(index, item) in items\">\n",
    "  ```\n",
    "* Vue.py 能够侦听响应式数组的变更方法：append ,clear ,extend ,insert ,pop ,remove ,reverse ,sort。"
   ]
  },
  {
   "cell_type": "markdown",
   "metadata": {},
   "source": [
    "## 事件处理\n",
    "\n",
    "v-on和vue.js的基本一致。  \n",
    "不同点：\n",
    "* 只支持自定义组件(如 Button等)，暂不支持原生 html 元素（如 span等）\n",
    "* 只实现了最基础的功能"
   ]
  },
  {
   "cell_type": "markdown",
   "metadata": {},
   "source": [
    "## 表单输入绑定\n",
    "\n",
    "v-model和vue.js的基本一致。  \n",
    "不同点：\n",
    "* 只支持自定义组件(如 Input、Dropdown等)，暂不支持原生 html 元素（如 input 等）\n",
    "* 只实现了最基础的功能"
   ]
  },
  {
   "cell_type": "markdown",
   "metadata": {},
   "source": [
    "## 生命周期钩子\n",
    "\n",
    "当前版本未实现。"
   ]
  },
  {
   "cell_type": "markdown",
   "metadata": {},
   "source": [
    "## 帧听器\n",
    "\n",
    "watch和vue.js的基本一致。  \n",
    "不同点：\n",
    "* 只实现了最基础的功能\n",
    "* 支持装饰器的使用方式\n",
    "```py\n",
    "# 单个 ref\n",
    "@watch(x)\n",
    "def x_update(newX, oldX, on_cleanup):\n",
    "    print(f'x is {newX}')\n",
    "\n",
    "# 停止帧听器\n",
    "x_update()\n",
    "```\n"
   ]
  },
  {
   "cell_type": "markdown",
   "metadata": {},
   "source": [
    "## 模板引用\n",
    "\n",
    "ref和vue.js的基本一致。  \n",
    "不同点：\n",
    "* ref引用的是元素对应的widget对象\n",
    "* ref未实现自动解包"
   ]
  },
  {
   "cell_type": "markdown",
   "metadata": {},
   "source": [
    "## 组件\n",
    "\n",
    "### 组件定义\n",
    "和vue.js的SFC基本一致，可以定义在`.vue`文件中。  \n",
    "不同点：\n",
    "* 组件逻辑包裹在`<script lang='py'></script>`中，使用python语言\n",
    "```vue\n",
    "<template>\n",
    "  <Button :label=\"f'Count is: {count.value}'\"\n",
    "          @click='counter()'\n",
    "  ></Button>\n",
    "</template>\n",
    "\n",
    "<script lang='py'>\n",
    "from vuepy import ref\n",
    "\n",
    "count = ref(0)\n",
    "\n",
    "def counter():\n",
    "    count.value += 1\n",
    "</script>\n",
    "```\n",
    "\n",
    "\n",
    "### 使用组件\n",
    "\n",
    "1. 局部注册的方式\n",
    "\n",
    "```vue\n",
    "<template>\n",
    "  <h1>hello</h1>\n",
    "  <Counter></Counter>\n",
    "</template>\n",
    "\n",
    "<script lang='py'>\n",
    "from vuepy import import_sfc\n",
    "Counter = import_sfc('./Counter.vue')\n",
    "</script>\n",
    "```\n",
    "\n",
    "2. 全局注册的方式\n",
    "\n",
    "```python\n",
    "from vuepy import import_sfc\n",
    "\n",
    "MyComponent = import_sfc('./Component.vue')\n",
    "app.component('MyComponent', MyComponent)\n",
    "```\n",
    "\n",
    "### 传递props\n",
    "\n",
    "defineProps和vue.js基本相同。  \n",
    "不同点：\n",
    "* 需要显式导入`from vuepy import defineProps`\n",
    "* 需要显示地访问value来获取值`props.title.value`\n",
    "\n",
    "### 监听事件\n",
    "\n",
    "defineEmits和vue.js基本相同。  \n",
    "不同点：\n",
    "* 需要显式导入`from vuepy import defineEmits`\n",
    "* 原生html标签的监听事件暂不支持\n",
    "\n",
    "### 组件 v-model\n",
    "\n",
    "definModel和vue.js基本相同  \n",
    "不同点：\n",
    "* 需要显式导入`from vuepy import defineModel`\n",
    "* 需要显示地访问value来获取值`xxx.value`\n",
    "* 不支持处理v-model修饰符\n",
    "\n",
    "### 通过slot分配内容\n",
    "\n",
    "slot和vue.js基本相同  \n",
    "不同点：\n",
    "* 只实现了最基本的功能\n",
    "* 不支持动态插槽名\n",
    "* 不支持作用域插槽\n",
    "\n",
    "### 模版解析注意事项\n",
    "\n",
    "和vue.js基本相同  \n",
    "不同点：\n",
    "* 不支持闭合标签，必须显式地写出关闭标签`<A></A>`\n",
    "* 元素位置限制，在HTML元素中不支持嵌套自定义组件，例如div中不能放置Input等自定义组件，可以使用VBox或HBox替代div作为一种解决方案。\n"
   ]
  }
 ],
 "metadata": {
  "kernelspec": {
   "display_name": "Python 3 (ipykernel)",
   "language": "python",
   "name": "python3"
  },
  "language_info": {
   "codemirror_mode": {
    "name": "ipython",
    "version": 3
   },
   "file_extension": ".py",
   "mimetype": "text/x-python",
   "name": "python",
   "nbconvert_exporter": "python",
   "pygments_lexer": "ipython3",
   "version": "3.10.12"
  },
  "widgets": {
   "application/vnd.jupyter.widget-state+json": {
    "state": {
     "01054aa40b004f6fb515b54ea7b40227": {
      "model_module": "@jupyter-widgets/controls",
      "model_module_version": "2.0.0",
      "model_name": "ButtonStyleModel",
      "state": {
       "font_family": null,
       "font_size": null,
       "font_style": null,
       "font_variant": null,
       "font_weight": null,
       "text_color": null,
       "text_decoration": null
      }
     },
     "0b8cd9de0758496a9c7e4ab335dfffa9": {
      "model_module": "@jupyter-widgets/controls",
      "model_module_version": "2.0.0",
      "model_name": "VBoxModel",
      "state": {
       "children": [
        "IPY_MODEL_9b04ce68ef8143498d9651b0fdf67454",
        "IPY_MODEL_40646c5d89544cc0b7a6e9705d4b7b56"
       ],
       "layout": "IPY_MODEL_b2fd658d47e04f8f94742db8ce199912"
      }
     },
     "1358124969d1455f94348d53d5c414dc": {
      "model_module": "@jupyter-widgets/base",
      "model_module_version": "2.0.0",
      "model_name": "LayoutModel",
      "state": {}
     },
     "198e8db4a17a4525a29c9d658aeb4991": {
      "model_module": "@jupyter-widgets/base",
      "model_module_version": "2.0.0",
      "model_name": "LayoutModel",
      "state": {}
     },
     "24ac7cbbaa4a42a7b6c34c0f50fec67f": {
      "model_module": "@jupyter-widgets/controls",
      "model_module_version": "2.0.0",
      "model_name": "ButtonModel",
      "state": {
       "description": "Enlarge text",
       "layout": "IPY_MODEL_58fc7840d1eb4957953db8a1eea34a26",
       "style": "IPY_MODEL_01054aa40b004f6fb515b54ea7b40227",
       "tooltip": null
      }
     },
     "337b9b91eee043d9a111e33613c344aa": {
      "model_module": "anywidget",
      "model_module_version": "0.9.3",
      "model_name": "AnyModel",
      "state": {
       "_anywidget_id": "ipywui.widgets.custom.message.MessageWidget",
       "_css": ".wui-message-root {\n    display: flex;\n    position: absolute;\n    left: 0;\n    right: 0;\n    top: 0;\n}\n\n.wui-message-container {\n    align-items: center;\n    display: flex;\n    flex-direction: column-reverse;\n    justify-content: center;\n    min-height: 100%;\n    outline: none;\n    width: 100%;\n\n    -webkit-tap-highlight-color: rgba(0,0,0,0);\n    bottom: 0;\n    left: 0;\n    right: 0;\n    top: 0;\n}\n\n.wui-message--success {\n    --wui-message-bg-color: #f0f9eb;\n    --wui-message-border-color: #e1f3d8;\n    --wui-message-text-color: #67c23a;\n}\n.wui-message--warning {\n    --wui-message-bg-color: #fdf6ec;\n    --wui-message-border-color: #faecd8;\n    --wui-message-text-color: #e6a23c;\n}\n.wui-message--info {\n    --wui-message-bg-color: #f4f4f5;\n    --wui-message-border-color: #e9e9eb;\n    --wui-message-text-color: #909399;\n}\n.wui-message--error {\n    --wui-message-bg-color: #fef0f0;\n    --wui-message-border-color: #fde2e2;\n    --wui-message-text-color: #f56c6c;\n}\n\n@keyframes msg-open {\n    0% {\n        opacity: 0;\n        -webkit-transform: translateY(-120%);\n        transform: translateY(-120%)\n    }\n    to {\n        -webkit-transform: translateY(0);\n        transform: translateY(0)\n    }\n}\n\n@keyframes msg-close {\n    0% {\n        opacity: 1;\n        -webkit-transform: scale(1);\n        transform: scale(1)\n    }\n    to {\n        opacity: 0;\n        -webkit-transform: scale(.9);\n        transform: scale(.9)\n    }\n}\n.wui-message[data-state=entered],.wui-message[data-state=entering] {\n    -webkit-animation: msg-open .24s cubic-bezier(.175,.885,.32,1.175) both;\n    animation: msg-open .24s cubic-bezier(.175,.885,.32,1.175) both\n}\n\n.wui-message[data-state=exiting] {\n    -webkit-animation: msg-close .12s cubic-bezier(.4,0,1,1) both;\n    animation: msg-close .12s cubic-bezier(.4,0,1,1) both\n}\n\n.wui-message {\n    width: -webkit-fit-content;\n    width: -moz-fit-content;\n    width: fit-content;\n    z-index: 2004;\n    max-width: calc(100% - 32px);\n    margin-top: 8px;\n    box-sizing: border-box;\n    /*border-radius: var(--wui-border-radius-base);*/\n    /*border-width: var(--wui-border-width);*/\n    /*border-style: var(--wui-border-style);*/\n    border-color: var(--wui-message-border-color);\n    /*left: 50%;*/\n    /*top: 20px;*/\n    /*transform: translateX(-50%);*/\n    background-color: var(--wui-message-bg-color);\n    /*transition: opacity var(--wui-transition-duration),transform .4s,top .4s;*/\n    /*padding: var(--wui-message-padding);*/\n    display: flex;\n    align-items: center;\n}\n\n/*.wui-message--success */\n.wui-message__content {\n    color: var(--wui-message-text-color);\n    font-size: 14px;\n    line-height: 18px;\n    margin: 10px 14px 10px 14px;\n    overflow-wrap: break-word;\n}\n\n.wui-message__closeBtn {\n    /*cursor: pointer;*/\n    font-style: normal;\n    /*color: gray;*/\n    padding-right: 14px;\n    /*font-size: 13px;*/\n    user-select: none;\n\n    background: transparent;\n    border: none;\n    color: gray;\n    cursor: pointer;\n    font-size: 13px;\n    font-weight: 400;\n    line-height: 1;\n    outline: none;\n    /*padding: 4px;*/\n    text-align: center;\n    transition: opacity .3s;\n    /*width: 100%;*/\n}",
       "_esm": "function closeMsg(msgDom) {\n  if (!msgDom) {\n    return;\n  }\n  msgDom.setAttribute('data-state', 'exiting');\n  msgDom.remove();\n}\n\nfunction createMsg(options) {\n  const {message, msg_id, type = 'info', show_close = false} = options;\n  const msgDom = document.createElement('div');\n  msgDom.className += ` wui-message--${type} wui-message`;\n  msgDom.setAttribute('data-state', 'entered');\n  msgDom.setAttribute('id', msg_id);\n  const msgContent = document.createElement('p');\n  msgContent.className += ` wui-message--${type} wui-message__content`;\n  msgContent.innerText = message;\n  msgDom.appendChild(msgContent);\n  if (show_close) {\n    const closeBtn = document.createElement('i');\n    closeBtn.className += 'wui-message__closeBtn';\n    closeBtn.innerText = 'x';\n    closeBtn.addEventListener('click', (ev) => {\n      closeMsg(msgDom);\n    })\n    msgDom.appendChild(closeBtn);\n  }\n  return msgDom;\n}\n\nexport async function render(view) {\n  let model = view.model;\n  const msgRoot = view.el;\n  msgRoot.className += ' wui-message-root'\n\n  const msgContainer = document.createElement('div');\n  msgContainer.className += ' wui-message-container';\n  msgRoot.appendChild(msgContainer)\n\n  model.on(\"change:message_options\", () => {\n    const options = model.get(\"message_options\");\n    const msg = createMsg(options);\n    msgContainer.appendChild(msg);\n    const {duration = 3000} = options;\n    if (duration > 0) {\n      setTimeout(() => {\n        closeMsg(msg)\n      }, duration);\n    }\n  })\n\n  model.on(\"change:close_msg_id\", () => {\n    const msg_id = model.get(\"close_msg_id\");\n    const msgDom = document.getElementById(msg_id);\n    closeMsg(msgDom);\n  })\n}\n",
       "_model_module": "anywidget",
       "_model_module_version": "0.9.3",
       "_model_name": "AnyModel",
       "_view_module": "anywidget",
       "_view_module_version": "0.9.3",
       "_view_name": "AnyView",
       "close_msg_id": "",
       "layout": "IPY_MODEL_aa143d5f90544ee5bd54ecba38ec5540",
       "message_options": {
        "duration": 3000,
        "message": "",
        "show_close": false,
        "type": "info"
       }
      }
     },
     "39ac9d36be66414c8958709f29b48c3b": {
      "model_module": "@jupyter-widgets/base",
      "model_module_version": "2.0.0",
      "model_name": "LayoutModel",
      "state": {}
     },
     "40646c5d89544cc0b7a6e9705d4b7b56": {
      "model_module": "@jupyter-widgets/controls",
      "model_module_version": "2.0.0",
      "model_name": "VBoxModel",
      "state": {
       "children": [
        "IPY_MODEL_ad259394338f47848915bacd0419ae81"
       ],
       "layout": "IPY_MODEL_4161837db0af47d0893ddf64d7aab4db"
      }
     },
     "40f6e76591914254a697e4a206221f5e": {
      "model_module": "@jupyter-widgets/controls",
      "model_module_version": "2.0.0",
      "model_name": "VBoxModel",
      "state": {
       "children": [
        "IPY_MODEL_794383d276b645329fca8f0e44a5a6b0",
        "IPY_MODEL_24ac7cbbaa4a42a7b6c34c0f50fec67f"
       ],
       "layout": "IPY_MODEL_1358124969d1455f94348d53d5c414dc"
      }
     },
     "4161837db0af47d0893ddf64d7aab4db": {
      "model_module": "@jupyter-widgets/base",
      "model_module_version": "2.0.0",
      "model_name": "LayoutModel",
      "state": {}
     },
     "58fc7840d1eb4957953db8a1eea34a26": {
      "model_module": "@jupyter-widgets/base",
      "model_module_version": "2.0.0",
      "model_name": "LayoutModel",
      "state": {}
     },
     "673f66c893f246b985b7da2cd076090e": {
      "model_module": "@jupyter-widgets/controls",
      "model_module_version": "2.0.0",
      "model_name": "LabelStyleModel",
      "state": {
       "description_width": "",
       "font_family": null,
       "font_size": "12px",
       "font_style": null,
       "font_variant": null,
       "font_weight": null,
       "text_color": null,
       "text_decoration": null
      }
     },
     "681fc4e68f7c47a7857ddb304581290a": {
      "model_module": "@jupyter-widgets/controls",
      "model_module_version": "2.0.0",
      "model_name": "VBoxModel",
      "state": {
       "children": [
        "IPY_MODEL_0b8cd9de0758496a9c7e4ab335dfffa9"
       ],
       "layout": "IPY_MODEL_198e8db4a17a4525a29c9d658aeb4991"
      }
     },
     "794383d276b645329fca8f0e44a5a6b0": {
      "model_module": "@jupyter-widgets/controls",
      "model_module_version": "2.0.0",
      "model_name": "LabelModel",
      "state": {
       "layout": "IPY_MODEL_d99f40338e0241f0a785c57c7b84042b",
       "style": "IPY_MODEL_673f66c893f246b985b7da2cd076090e",
       "value": "Label text"
      }
     },
     "7b94ca5d3a274dd38e15748cf1f4a431": {
      "model_module": "@jupyter-widgets/base",
      "model_module_version": "2.0.0",
      "model_name": "LayoutModel",
      "state": {}
     },
     "876f2f2bb9e6452e9de4f1a82e4276b2": {
      "model_module": "@jupyter-widgets/base",
      "model_module_version": "2.0.0",
      "model_name": "LayoutModel",
      "state": {}
     },
     "8e24ef9c64c94349beb1f0c39f6bd972": {
      "model_module": "@jupyter-widgets/controls",
      "model_module_version": "2.0.0",
      "model_name": "HTMLStyleModel",
      "state": {
       "description_width": "",
       "font_size": null,
       "text_color": null
      }
     },
     "9b04ce68ef8143498d9651b0fdf67454": {
      "model_module": "anywidget",
      "model_module_version": "0.9.3",
      "model_name": "AnyModel",
      "state": {
       "_anywidget_id": "ipywui.widgets.custom.message.MessageWidget",
       "_css": ".wui-message-root {\n    display: flex;\n    position: absolute;\n    left: 0;\n    right: 0;\n    top: 0;\n}\n\n.wui-message-container {\n    align-items: center;\n    display: flex;\n    flex-direction: column-reverse;\n    justify-content: center;\n    min-height: 100%;\n    outline: none;\n    width: 100%;\n\n    -webkit-tap-highlight-color: rgba(0,0,0,0);\n    bottom: 0;\n    left: 0;\n    right: 0;\n    top: 0;\n}\n\n.wui-message--success {\n    --wui-message-bg-color: #f0f9eb;\n    --wui-message-border-color: #e1f3d8;\n    --wui-message-text-color: #67c23a;\n}\n.wui-message--warning {\n    --wui-message-bg-color: #fdf6ec;\n    --wui-message-border-color: #faecd8;\n    --wui-message-text-color: #e6a23c;\n}\n.wui-message--info {\n    --wui-message-bg-color: #f4f4f5;\n    --wui-message-border-color: #e9e9eb;\n    --wui-message-text-color: #909399;\n}\n.wui-message--error {\n    --wui-message-bg-color: #fef0f0;\n    --wui-message-border-color: #fde2e2;\n    --wui-message-text-color: #f56c6c;\n}\n\n@keyframes msg-open {\n    0% {\n        opacity: 0;\n        -webkit-transform: translateY(-120%);\n        transform: translateY(-120%)\n    }\n    to {\n        -webkit-transform: translateY(0);\n        transform: translateY(0)\n    }\n}\n\n@keyframes msg-close {\n    0% {\n        opacity: 1;\n        -webkit-transform: scale(1);\n        transform: scale(1)\n    }\n    to {\n        opacity: 0;\n        -webkit-transform: scale(.9);\n        transform: scale(.9)\n    }\n}\n.wui-message[data-state=entered],.wui-message[data-state=entering] {\n    -webkit-animation: msg-open .24s cubic-bezier(.175,.885,.32,1.175) both;\n    animation: msg-open .24s cubic-bezier(.175,.885,.32,1.175) both\n}\n\n.wui-message[data-state=exiting] {\n    -webkit-animation: msg-close .12s cubic-bezier(.4,0,1,1) both;\n    animation: msg-close .12s cubic-bezier(.4,0,1,1) both\n}\n\n.wui-message {\n    width: -webkit-fit-content;\n    width: -moz-fit-content;\n    width: fit-content;\n    z-index: 2004;\n    max-width: calc(100% - 32px);\n    margin-top: 8px;\n    box-sizing: border-box;\n    /*border-radius: var(--wui-border-radius-base);*/\n    /*border-width: var(--wui-border-width);*/\n    /*border-style: var(--wui-border-style);*/\n    border-color: var(--wui-message-border-color);\n    /*left: 50%;*/\n    /*top: 20px;*/\n    /*transform: translateX(-50%);*/\n    background-color: var(--wui-message-bg-color);\n    /*transition: opacity var(--wui-transition-duration),transform .4s,top .4s;*/\n    /*padding: var(--wui-message-padding);*/\n    display: flex;\n    align-items: center;\n}\n\n/*.wui-message--success */\n.wui-message__content {\n    color: var(--wui-message-text-color);\n    font-size: 14px;\n    line-height: 18px;\n    margin: 10px 14px 10px 14px;\n    overflow-wrap: break-word;\n}\n\n.wui-message__closeBtn {\n    /*cursor: pointer;*/\n    font-style: normal;\n    /*color: gray;*/\n    padding-right: 14px;\n    /*font-size: 13px;*/\n    user-select: none;\n\n    background: transparent;\n    border: none;\n    color: gray;\n    cursor: pointer;\n    font-size: 13px;\n    font-weight: 400;\n    line-height: 1;\n    outline: none;\n    /*padding: 4px;*/\n    text-align: center;\n    transition: opacity .3s;\n    /*width: 100%;*/\n}",
       "_esm": "function closeMsg(msgDom) {\n  if (!msgDom) {\n    return;\n  }\n  msgDom.setAttribute('data-state', 'exiting');\n  msgDom.remove();\n}\n\nfunction createMsg(options) {\n  const {message, msg_id, type = 'info', show_close = false} = options;\n  const msgDom = document.createElement('div');\n  msgDom.className += ` wui-message--${type} wui-message`;\n  msgDom.setAttribute('data-state', 'entered');\n  msgDom.setAttribute('id', msg_id);\n  const msgContent = document.createElement('p');\n  msgContent.className += ` wui-message--${type} wui-message__content`;\n  msgContent.innerText = message;\n  msgDom.appendChild(msgContent);\n  if (show_close) {\n    const closeBtn = document.createElement('i');\n    closeBtn.className += 'wui-message__closeBtn';\n    closeBtn.innerText = 'x';\n    closeBtn.addEventListener('click', (ev) => {\n      closeMsg(msgDom);\n    })\n    msgDom.appendChild(closeBtn);\n  }\n  return msgDom;\n}\n\nexport async function render(view) {\n  let model = view.model;\n  const msgRoot = view.el;\n  msgRoot.className += ' wui-message-root'\n\n  const msgContainer = document.createElement('div');\n  msgContainer.className += ' wui-message-container';\n  msgRoot.appendChild(msgContainer)\n\n  model.on(\"change:message_options\", () => {\n    const options = model.get(\"message_options\");\n    const msg = createMsg(options);\n    msgContainer.appendChild(msg);\n    const {duration = 3000} = options;\n    if (duration > 0) {\n      setTimeout(() => {\n        closeMsg(msg)\n      }, duration);\n    }\n  })\n\n  model.on(\"change:close_msg_id\", () => {\n    const msg_id = model.get(\"close_msg_id\");\n    const msgDom = document.getElementById(msg_id);\n    closeMsg(msgDom);\n  })\n}\n",
       "_model_module": "anywidget",
       "_model_module_version": "0.9.3",
       "_model_name": "AnyModel",
       "_view_module": "anywidget",
       "_view_module_version": "0.9.3",
       "_view_name": "AnyView",
       "close_msg_id": "",
       "layout": "IPY_MODEL_39ac9d36be66414c8958709f29b48c3b",
       "message_options": {
        "duration": 3000,
        "message": "",
        "show_close": false,
        "type": "info"
       }
      }
     },
     "9cd0587adbb74e4ebd4644ae06573ec3": {
      "model_module": "@jupyter-widgets/output",
      "model_module_version": "1.0.0",
      "model_name": "OutputModel",
      "state": {
       "layout": "IPY_MODEL_7b94ca5d3a274dd38e15748cf1f4a431",
       "outputs": [
        {
         "name": "stdout",
         "output_type": "stream",
         "text": "2025-02-20 23:36:56,997 [INFO] api_create_app.py:render:124 - App render end.\n"
        },
        {
         "name": "stdout",
         "output_type": "stream",
         "text": "2025-02-20 23:36:56,995 [INFO] codegen.py:render:270 - 🔥 Rerender SFC<__tmp_for_str.vue> at 4578931424\n"
        },
        {
         "name": "stdout",
         "output_type": "stream",
         "text": "2025-02-20 23:36:56,991 [INFO] codegen.py:render:270 - 🔥 Rerender SFC<__tmp_for_str.vue> at 4578925712\n"
        },
        {
         "name": "stdout",
         "output_type": "stream",
         "text": "2025-02-20 23:36:56,991 [INFO] api_create_app.py:render:114 - App render start.\n"
        }
       ]
      }
     },
     "aa143d5f90544ee5bd54ecba38ec5540": {
      "model_module": "@jupyter-widgets/base",
      "model_module_version": "2.0.0",
      "model_name": "LayoutModel",
      "state": {}
     },
     "ad259394338f47848915bacd0419ae81": {
      "model_module": "@jupyter-widgets/controls",
      "model_module_version": "2.0.0",
      "model_name": "VBoxModel",
      "state": {
       "children": [
        "IPY_MODEL_bc932859f63742139c0d0c5ad9dfeec4",
        "IPY_MODEL_cab4264f6ec74262a60adf8dd487bdaf"
       ],
       "layout": "IPY_MODEL_b10fac30672841e898a6a76cb247b1a1"
      }
     },
     "b10fac30672841e898a6a76cb247b1a1": {
      "model_module": "@jupyter-widgets/base",
      "model_module_version": "2.0.0",
      "model_name": "LayoutModel",
      "state": {}
     },
     "b2fd658d47e04f8f94742db8ce199912": {
      "model_module": "@jupyter-widgets/base",
      "model_module_version": "2.0.0",
      "model_name": "LayoutModel",
      "state": {}
     },
     "bc932859f63742139c0d0c5ad9dfeec4": {
      "model_module": "@jupyter-widgets/controls",
      "model_module_version": "2.0.0",
      "model_name": "HTMLModel",
      "state": {
       "layout": "IPY_MODEL_e95189672f7d41fba554a99829fb1967",
       "style": "IPY_MODEL_8e24ef9c64c94349beb1f0c39f6bd972",
       "value": "\n                <p >\n                  font-size: 12\n                </p>"
      }
     },
     "cab4264f6ec74262a60adf8dd487bdaf": {
      "model_module": "@jupyter-widgets/controls",
      "model_module_version": "2.0.0",
      "model_name": "VBoxModel",
      "state": {
       "children": [
        "IPY_MODEL_40f6e76591914254a697e4a206221f5e"
       ],
       "layout": "IPY_MODEL_876f2f2bb9e6452e9de4f1a82e4276b2"
      }
     },
     "d99f40338e0241f0a785c57c7b84042b": {
      "model_module": "@jupyter-widgets/base",
      "model_module_version": "2.0.0",
      "model_name": "LayoutModel",
      "state": {}
     },
     "e95189672f7d41fba554a99829fb1967": {
      "model_module": "@jupyter-widgets/base",
      "model_module_version": "2.0.0",
      "model_name": "LayoutModel",
      "state": {}
     },
     "eabd4438ced34f2e9e7011c2bbfda741": {
      "model_module": "@jupyter-widgets/controls",
      "model_module_version": "2.0.0",
      "model_name": "LabelStyleModel",
      "state": {
       "description_width": "",
       "font_family": null,
       "font_size": "12px",
       "font_style": null,
       "font_variant": null,
       "font_weight": null,
       "text_color": null,
       "text_decoration": null
      }
     }
    },
    "version_major": 2,
    "version_minor": 0
   }
  }
 },
 "nbformat": 4,
 "nbformat_minor": 4
}
