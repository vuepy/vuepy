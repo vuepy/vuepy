{
 "cells": [
  {
   "cell_type": "code",
   "execution_count": 1,
   "metadata": {},
   "outputs": [],
   "source": [
    "##ignore\n",
    "import os\n",
    "import pathlib\n",
    "from vuepy.utils import magic\n",
    "\n",
    "cur_path = magic.get_curr_ipynb_dir()\n",
    "source_root = cur_path.parent.parent\n",
    "os.chdir(source_root / 'ipywui')"
   ]
  },
  {
   "cell_type": "markdown",
   "metadata": {},
   "source": [
    "## ipywui组件库\n",
    "\n",
    "IPywUI 是基于 Vue.py 和 ipywidgets 开发的 UI 组件库。当前作为 Vue.py 内置的 UI 组件库。\n",
    "\n",
    "ipywui组件作为Vuepy的插件提供，一般会自动注册，也可以手动注册：\n",
    "```py\n",
    "from ipywui import wui\n",
    "app.use(wui)\n",
    "```\n",
    "\n",
    "设置ipywui组件的style属性可以改变其样式（与css非常相似）：\n",
    "```\n",
    "Sizes相关\n",
    "* height\n",
    "* width\n",
    "* max_height\n",
    "* max_width\n",
    "* min_height\n",
    "* min_width\n",
    "\n",
    "颜色相关\n",
    "* background-color\n",
    "* color\n",
    "\n",
    "Display相关\n",
    "* visibility\n",
    "* display\n",
    "* overflow\n",
    "\n",
    "Box model相关\n",
    "* border\n",
    "* margin\n",
    "* padding\n",
    "\n",
    "Positioning相关\n",
    "* top\n",
    "* left\n",
    "* bottom\n",
    "* right\n",
    "```\n",
    "示例\n",
    "```vue\n",
    "<Button style=\"background-color: #626aef;\"></Button>\n",
    "<Button style=\"width: 90px; height: 60px\"></Button>\n",
    "```"
   ]
  },
  {
   "cell_type": "markdown",
   "metadata": {},
   "source": [
    "### Component, Button\n",
    "\n",
    "特别注意：对于click的事件处理函数有两种方式：\n",
    "1. 指定参数的方式：`@click=far()` 或 `@click=far(arg)`\n",
    "2. 不指定参数的方式：`@click=handle`，会自动传入btn参数(当前按钮的widget对象)，所以handle函数必须接受一个参数：\n",
    "```python\n",
    "def handle(btn):\n",
    "  ...\n",
    "```\n",
    "\n",
    " 可以通过icon属性为按钮添加图标，图标为fontawesome v5。\n",
    "\n",
    " 支持Events\n",
    "\n",
    "| 事件名 | 说明                  | 类型                                   |\n",
    "| ---   | ---                  | ---                                    |\n",
    "| click | 当按钮被点击时触发的事件 |  `Callable[button: Widget, None]` |\n"
   ]
  },
  {
   "cell_type": "code",
   "execution_count": 2,
   "metadata": {},
   "outputs": [
    {
     "name": "stdout",
     "output_type": "stream",
     "text": [
      "{\"vue\": \"<!-- button/basic.vue -->\\n<template>\\n  <HBox>\\n    <Button @click=\\\"on_click()\\\">Default</Button>\\n    <Button type=\\\"info\\\">Info</Button>\\n    <Button type=\\\"success\\\">Success</Button>\\n    <Button type=\\\"warning\\\">Warning</Button>\\n    <Button label=\\\"Danger\\\" type=\\\"danger\\\"></Button>\\n  </HBox>\\n  <HBox>\\n    <Button icon=\\\"search\\\" @click=\\\"on_click2\\\"></Button>\\n    <Button type=\\\"info\\\" icon=\\\"edit\\\"></Button>\\n    <Button type=\\\"success\\\" icon=\\\"check\\\"></Button>\\n    <Button type=\\\"warning\\\" icon=\\\"star\\\">{{ count.value }}</Button>\\n    <Button type=\\\"danger\\\" icon=\\\"trash-alt\\\"></Button>\\n  </HBox>\\n</template>\\n\\n<script setup>\\nimport Button from \\\"../../../src/ipywui/components/Button\\\";\\nimport HBox from \\\"../../../src/ipywui/components/HBox\\\";\\n</script>\\n<script lang=\\\"py\\\">\\nfrom vuepy import ref\\n\\ncount = ref(1)\\n\\ndef on_click():\\n  count.value += 1\\n  print(\\\"on click\\\")\\n\\ndef on_click2(btn):\\n  print(f\\\"{btn} on click\\\") # Button(icon='search', style=ButtonStyle()) on click\\n</script>\", \"setup\": 0}\n"
     ]
    },
    {
     "data": {
      "application/vnd.jupyter.widget-view+json": {
       "model_id": "1d0124107c334dea9e87b89f20658fe2",
       "version_major": 2,
       "version_minor": 0
      },
      "text/plain": [
       "Document(children=(Dom(children=(MessageWidget(message_options={'message': '', 'type': 'info', 'show_close': F…"
      ]
     },
     "execution_count": 2,
     "metadata": {},
     "output_type": "execute_result"
    }
   ],
   "source": [
    "%vuepy_demo button/basic.vue"
   ]
  },
  {
   "cell_type": "code",
   "execution_count": 3,
   "metadata": {},
   "outputs": [
    {
     "name": "stdout",
     "output_type": "stream",
     "text": [
      "{\"vue\": \"<!-- button/loading.vue -->\\n<template>\\n  <Button type=\\\"info\\\" loading @click=\\\"click1\\\">Default Loading</Button>\\n  <Button loading-icon=\\\"snowflake\\\"\\n          :loading=\\\"loading.value\\\"\\n          @click=\\\"click2()\\\"\\n  >Custom Loading</Button>\\n</template>\\n<script setup>\\nimport Button from \\\"../../../src/ipywui/components/Button\\\";\\n</script>\\n<script lang=\\\"py\\\">\\nfrom vuepy import ref\\n\\ndef click1(btn):\\n    btn.loading = not btn.loading\\n\\n\\nloading = ref(True)\\n\\ndef click2():\\n    loading.value = not loading.value\\n</script>\", \"setup\": 0}\n"
     ]
    },
    {
     "data": {
      "application/vnd.jupyter.widget-view+json": {
       "model_id": "510299b5f72f4d22b05f7f75889a5f28",
       "version_major": 2,
       "version_minor": 0
      },
      "text/plain": [
       "Document(children=(Dom(children=(MessageWidget(message_options={'message': '', 'type': 'info', 'show_close': F…"
      ]
     },
     "execution_count": 3,
     "metadata": {},
     "output_type": "execute_result"
    }
   ],
   "source": [
    "%vuepy_demo button/loading.vue"
   ]
  },
  {
   "cell_type": "markdown",
   "metadata": {},
   "source": [
    "### Component, Layout\n",
    "\n",
    "通过基础的24分栏创建布局。"
   ]
  },
  {
   "cell_type": "code",
   "execution_count": 4,
   "metadata": {},
   "outputs": [
    {
     "name": "stdout",
     "output_type": "stream",
     "text": [
      "{\"vue\": \"<!-- layout/layout-basic.vue -->\\n<template>\\n  <Row>\\n    <Col :span=\\\"24\\\">\\n      <Button label=\\\"span 24\\\" style=\\\"width: auto; background-color: #9dacc1\\\"></Button>\\n    </Col>\\n  </Row>\\n\\n  <Row>\\n    <Col :span=\\\"12\\\">\\n      <Button label=\\\"span 12\\\" style=\\\"width: auto; background-color: #d4dde6\\\"></Button>\\n    </Col>\\n    <Col :span=\\\"12\\\">\\n      <Button label=\\\"span 12\\\" style=\\\"width: auto; background-color: #e5e9f2\\\"></Button>\\n    </Col>\\n  </Row>\\n\\n  <Row>\\n    <Col :span=\\\"8\\\">\\n      <Button label=\\\"span 8\\\" style=\\\"width: auto; background-color: #d4dde6\\\"></Button>\\n    </Col>\\n    <Col :span=\\\"8\\\">\\n      <Button label=\\\"span 8\\\" style=\\\"width: auto; background-color: #e5e9f2\\\"></Button>\\n    </Col>\\n    <Col :span=\\\"8\\\">\\n      <Button label=\\\"span 8\\\" style=\\\"width: auto; background-color: #d4dde6\\\"></Button>\\n    </Col>\\n  </Row>\\n\\n  <Row>\\n    <Col :span=\\\"6\\\">\\n      <Button label=\\\"span 6\\\" style=\\\"width: auto; background-color: #d4dde6\\\"></Button>\\n    </Col>\\n    <Col :span=\\\"6\\\">\\n      <Button label=\\\"span 6\\\" style=\\\"width: auto; background-color: #e5e9f2\\\"></Button>\\n    </Col>\\n    <Col :span=\\\"6\\\">\\n      <Button label=\\\"span 6\\\" style=\\\"width: auto; background-color: #d4dde6\\\"></Button>\\n    </Col>\\n    <Col :span=\\\"6\\\">\\n      <Button label=\\\"span 6\\\" style=\\\"width: auto; background-color: #e5e9f2\\\"></Button>\\n    </Col>\\n  </Row>\\n</template>\\n\\n<script setup>\\nimport Col from \\\"../../../src/ipywui/components/Col\\\";\\nimport Row from \\\"../../../src/ipywui/components/Row\\\";\\nimport Button from \\\"../../../src/ipywui/components/Button\\\";\\n</script>\", \"setup\": 0}\n"
     ]
    },
    {
     "data": {
      "application/vnd.jupyter.widget-view+json": {
       "model_id": "99dbef18b8824f9d91e421e75a01502b",
       "version_major": 2,
       "version_minor": 0
      },
      "text/plain": [
       "Document(children=(Dom(children=(MessageWidget(message_options={'message': '', 'type': 'info', 'show_close': F…"
      ]
     },
     "execution_count": 4,
     "metadata": {},
     "output_type": "execute_result"
    }
   ],
   "source": [
    "%vuepy_demo layout/layout-basic.vue"
   ]
  },
  {
   "cell_type": "markdown",
   "metadata": {},
   "source": [
    "### Component, AppLayout\n",
    "\n",
    "用于布局的容器组件，方便搭建页面的基本结构："
   ]
  },
  {
   "cell_type": "code",
   "execution_count": 5,
   "metadata": {},
   "outputs": [
    {
     "name": "stdout",
     "output_type": "stream",
     "text": [
      "{\"vue\": \"<!-- layout_app/layout-hc.vue -->\\n<template>\\n  <AppLayout>\\n    <template v-slot:header>\\n      <Button\\n          label=\\\"header\\\"\\n          style=\\\"width: auto; height: auto; background-color: #c8e3fe\\\"\\n      ></Button>\\n    </template>\\n    <template v-slot:center>\\n      <Button\\n          style=\\\"width: auto; height: auto; background-color: #ecf5fe\\\"\\n      ></Button>\\n      <Button\\n          label=\\\"center\\\"\\n          style=\\\"width: auto; height: auto; background-color: #ecf5fe\\\"\\n      ></Button>\\n      <Button\\n          style=\\\"width: auto; height: auto; background-color: #ecf5fe\\\"\\n      ></Button>\\n    </template>\\n  </AppLayout>\\n</template>\\n\\n<script setup>\\nimport Button from \\\"../../../src/ipywui/components/Button\\\";\\nimport AppLayout from \\\"../../../src/ipywui/components/AppLayout\\\";\\n</script>\", \"setup\": 0}\n"
     ]
    },
    {
     "data": {
      "application/vnd.jupyter.widget-view+json": {
       "model_id": "fcd081cacff34bc5872142b53ecd5015",
       "version_major": 2,
       "version_minor": 0
      },
      "text/plain": [
       "Document(children=(Dom(children=(MessageWidget(message_options={'message': '', 'type': 'info', 'show_close': F…"
      ]
     },
     "execution_count": 5,
     "metadata": {},
     "output_type": "execute_result"
    }
   ],
   "source": [
    "%vuepy_demo layout_app/layout-hc.vue"
   ]
  },
  {
   "cell_type": "code",
   "execution_count": 6,
   "metadata": {},
   "outputs": [
    {
     "name": "stdout",
     "output_type": "stream",
     "text": [
      "{\"vue\": \"<!-- layout_app/custom.vue -->\\n<template>\\n  <AppLayout :pane_widths=\\\"['100px', 1, 1]\\\" :pane_heights=\\\"[1, 3, '30px']\\\">\\n    <template v-slot:header>\\n      <Button label=\\\"header\\\" style=\\\"width: auto; height: auto; background-color: #c8e3fe\\\"></Button>\\n    </template>\\n    <template v-slot:left_sidebar>\\n      <Button label=\\\"\\\" style=\\\"width: auto; height: auto; background-color: #dbecfe\\\"></Button>\\n      <Button label=\\\"left 100px\\\" style=\\\"width: auto; height: auto; background-color: #dbecfe\\\"></Button>\\n      <Button label=\\\"\\\" style=\\\"width: auto; height: auto; background-color: #dbecfe\\\"></Button>\\n    </template>\\n    <template v-slot:right_sidebar>\\n      <Button label=\\\"\\\" style=\\\"width: auto; height: auto; background-color: #dbecfe\\\"></Button>\\n      <Button label=\\\"right\\\" style=\\\"width: auto; height: auto; background-color: #dbecfe\\\"></Button>\\n      <Button label=\\\"\\\" style=\\\"width: auto; height: auto; background-color: #dbecfe\\\"></Button>\\n    </template>\\n    <template v-slot:center>\\n      <Button style=\\\"width: auto; height: auto; background-color: #ecf5fe\\\"></Button>\\n      <Button label=\\\"center\\\" style=\\\"width: auto; height: auto; background-color: #ecf5fe\\\"></Button>\\n      <Button style=\\\"width: auto; height: auto; background-color: #ecf5fe\\\"></Button>\\n    </template>\\n    <template v-slot:footer>\\n      <Button label=\\\"footer\\\" style=\\\"width: auto; height: auto; background-color: #c8e3fe\\\"></Button>\\n    </template>\\n  </AppLayout>\\n</template>\\n\\n<script setup>\\nimport Button from \\\"../../../src/ipywui/components/Button\\\";\\nimport AppLayout from \\\"../../../src/ipywui/components/AppLayout\\\";\\n</script>\", \"setup\": 0}\n"
     ]
    },
    {
     "data": {
      "application/vnd.jupyter.widget-view+json": {
       "model_id": "5473ff7ed0fc47fa8d9932a3f8d475e0",
       "version_major": 2,
       "version_minor": 0
      },
      "text/plain": [
       "Document(children=(Dom(children=(MessageWidget(message_options={'message': '', 'type': 'info', 'show_close': F…"
      ]
     },
     "execution_count": 6,
     "metadata": {},
     "output_type": "execute_result"
    }
   ],
   "source": [
    "%vuepy_demo layout_app/custom.vue"
   ]
  },
  {
   "cell_type": "markdown",
   "metadata": {},
   "source": [
    "您还可以使用以下参数自定义面板宽高：\n",
    "* `pane_widths`: 左侧边栏，主要区域，右侧边栏的绝对或相对宽度\n",
    "* `pane_heights`: 顶栏，主要区域，底栏的绝对或相对高度\n",
    "\n",
    "两者都接受3个元素的序列，每个元素要么是整数或`'1fr'`（与整数相同）表示相对占比。或者为`'100px'`形式，表示绝对占比。\n",
    "\n",
    "注意使用绑定属性的形式：\n",
    "\n",
    "```vue\n",
    "<AppLayout :pane_widths=\"['100px', 1, 1]\" :pane_heights=\"[1, 5, '60px']\">\n",
    "...\n",
    "</AppLayout>\n",
    "```"
   ]
  },
  {
   "cell_type": "markdown",
   "metadata": {},
   "source": [
    "### Component, Box Layout "
   ]
  },
  {
   "cell_type": "code",
   "execution_count": 7,
   "metadata": {},
   "outputs": [
    {
     "name": "stdout",
     "output_type": "stream",
     "text": [
      "{\"vue\": \"<!-- layout_box/vbox-basic.vue -->\\n<template>\\n  <VBox>\\n    <Button label=\\\"1\\\" style=\\\"width: auto; background-color: #c8e3fe\\\"></Button>\\n    <Button label=\\\"2\\\" style=\\\"width: auto; background-color: #ecf5fe\\\"></Button>\\n    <Button label=\\\"3\\\" style=\\\"width: auto; background-color: #c8e3fe\\\"></Button>\\n  </VBox>\\n</template>\\n\\n<script setup>\\nimport Button from \\\"../../../src/ipywui/components/Button\\\";\\nimport VBox from \\\"../../../src/ipywui/components/VBox\\\";\\n</script>\", \"setup\": 0}\n"
     ]
    },
    {
     "data": {
      "application/vnd.jupyter.widget-view+json": {
       "model_id": "6c5d760d37074d3eac12ad53eafb8437",
       "version_major": 2,
       "version_minor": 0
      },
      "text/plain": [
       "Document(children=(Dom(children=(MessageWidget(message_options={'message': '', 'type': 'info', 'show_close': F…"
      ]
     },
     "execution_count": 7,
     "metadata": {},
     "output_type": "execute_result"
    }
   ],
   "source": [
    "%vuepy_demo layout_box/vbox-basic.vue"
   ]
  },
  {
   "cell_type": "code",
   "execution_count": 8,
   "metadata": {},
   "outputs": [
    {
     "name": "stdout",
     "output_type": "stream",
     "text": [
      "{\"vue\": \"<!-- layout_box/hbox-basic.vue -->\\n<template>\\n  <HBox>\\n    <Button label=\\\"1\\\" style=\\\"width: auto;background-color: #c8e3fe\\\"></Button>\\n    <Button label=\\\"2\\\" style=\\\"width: auto;background-color: #ecf5fe\\\"></Button>\\n    <Button label=\\\"3\\\" style=\\\"width: auto;background-color: #c8e3fe\\\"></Button>\\n  </HBox>\\n</template>\\n\\n<script setup>\\nimport Button from \\\"../../../src/ipywui/components/Button\\\";\\nimport HBox from \\\"../../../src/ipywui/components/HBox\\\";\\n</script>\", \"setup\": 0}\n"
     ]
    },
    {
     "data": {
      "application/vnd.jupyter.widget-view+json": {
       "model_id": "f53b43e911f44012a0645910e224fef9",
       "version_major": 2,
       "version_minor": 0
      },
      "text/plain": [
       "Document(children=(Dom(children=(MessageWidget(message_options={'message': '', 'type': 'info', 'show_close': F…"
      ]
     },
     "execution_count": 8,
     "metadata": {},
     "output_type": "execute_result"
    }
   ],
   "source": [
    "%vuepy_demo layout_box/hbox-basic.vue"
   ]
  },
  {
   "cell_type": "markdown",
   "metadata": {},
   "source": [
    "### Component, Checkbox"
   ]
  },
  {
   "cell_type": "code",
   "execution_count": 9,
   "metadata": {},
   "outputs": [
    {
     "name": "stdout",
     "output_type": "stream",
     "text": [
      "{\"vue\": \"<!-- checkbox/basic.vue -->\\n<template>\\n  <HBox>\\n    <Checkbox v-model=\\\"checked1.value\\\" label=\\\"Option1\\\" @change=\\\"on_change\\\"></Checkbox>\\n    <Checkbox v-model=\\\"checked2.value\\\" label=\\\"Option2\\\"></Checkbox>\\n    <Checkbox v-model=\\\"checked3.value\\\" label=\\\"Option3\\\"></Checkbox>\\n  </HBox>\\n  <HBox>\\n    <Checkbox v-model=\\\"checked1.value\\\" label=\\\"Option1\\\" :disabled=\\\"True\\\"></Checkbox>\\n    <Checkbox v-model=\\\"checked2.value\\\" label=\\\"Option2\\\" :disabled=\\\"True\\\"></Checkbox>\\n    <Checkbox v-model=\\\"checked3.value\\\" label=\\\"Option3\\\" :disabled=\\\"True\\\"></Checkbox>\\n  </HBox>\\n</template>\\n<script setup>\\nimport HBox from \\\"../../../src/ipywui/components/HBox\\\";\\nimport Checkbox from \\\"../../../src/ipywui/components/Checkbox\\\";\\n</script>\\n<script lang=\\\"py\\\">\\nfrom vuepy import ref\\n\\nchecked1 = ref(True)\\nchecked2 = ref(True)\\nchecked3 = ref(True)\\n\\ndef on_change(event):\\n    print(event) # {'new': True, 'old': False, 'owner': Checkbox(...)}\\n</script>\", \"setup\": 0}\n"
     ]
    },
    {
     "data": {
      "application/vnd.jupyter.widget-view+json": {
       "model_id": "ea82973a09ab4102a793a1cfb7d9b4c7",
       "version_major": 2,
       "version_minor": 0
      },
      "text/plain": [
       "Document(children=(Dom(children=(MessageWidget(message_options={'message': '', 'type': 'info', 'show_close': F…"
      ]
     },
     "execution_count": 9,
     "metadata": {},
     "output_type": "execute_result"
    }
   ],
   "source": [
    "%vuepy_demo checkbox/basic.vue"
   ]
  },
  {
   "cell_type": "markdown",
   "metadata": {},
   "source": [
    "### Component, ColorPicker"
   ]
  },
  {
   "cell_type": "code",
   "execution_count": 10,
   "metadata": {},
   "outputs": [
    {
     "name": "stdout",
     "output_type": "stream",
     "text": [
      "{\"vue\": \"<!-- color_picker/basic.vue -->\\n<template>\\n  <ColorPicker label=\\\"Pick1\\\"\\n               v-model=\\\"color1.value\\\" @change=\\\"on_change\\\"></ColorPicker>\\n\\n  <ColorPicker label=\\\"Pick2\\\"\\n               value=\\\"lightblue\\\"></ColorPicker>\\n\\n  <ColorPicker label=\\\"Concise\\\"\\n               v-model=\\\"color2.value\\\" concise></ColorPicker>\\n</template>\\n\\n<script setup>\\nimport ColorPicker from \\\"../../../src/ipywui/components/ColorPicker\\\";\\n</script>\\n<script lang=\\\"py\\\">\\nfrom vuepy import ref\\n\\ncolor1 = ref(\\\"#8f8fcc\\\")\\ncolor2 = ref(\\\"green\\\")\\n\\ndef on_change(event):\\n    print(event) # {'new': '#3737ae', 'old': '#8f8fcc', 'owner': ColorPicker(...)}\\n</script>\", \"setup\": 0}\n"
     ]
    },
    {
     "data": {
      "application/vnd.jupyter.widget-view+json": {
       "model_id": "736d65cfc22f49b9982dc3057bfbc363",
       "version_major": 2,
       "version_minor": 0
      },
      "text/plain": [
       "Document(children=(Dom(children=(MessageWidget(message_options={'message': '', 'type': 'info', 'show_close': F…"
      ]
     },
     "execution_count": 10,
     "metadata": {},
     "output_type": "execute_result"
    }
   ],
   "source": [
    "%vuepy_demo color_picker/basic.vue"
   ]
  },
  {
   "cell_type": "markdown",
   "metadata": {},
   "source": [
    "### Component, Combobox\n",
    "\n",
    "Provide corresponding input suggestions based on the input content."
   ]
  },
  {
   "cell_type": "code",
   "execution_count": 11,
   "metadata": {},
   "outputs": [
    {
     "name": "stdout",
     "output_type": "stream",
     "text": [
      "{\"vue\": \"<!-- combobox/basic.vue -->\\n<template>\\n  <Combobox label=\\\"auto\\\"\\n            placeholder=\\\"Choose someone\\\"\\n            v-model=\\\"someone.value\\\"\\n            :options=\\\"['Paul', 'John', 'George', 'Ringo']\\\"\\n  ></Combobox>\\n</template>\\n\\n<script src=\\\"./basic_setup.py\\\"></script>\\n<script setup>\\nimport Combobox from \\\"../../../src/ipywui/components/Combobox\\\";\\n</script>\", \"setup\": \"# ./basic_setup.py\\n\\nfrom vuepy import ref\\n\\n\\ndef setup(props, ctx, vm):\\n    someone = ref('')\\n\\n    return locals()\\n\"}\n"
     ]
    },
    {
     "data": {
      "application/vnd.jupyter.widget-view+json": {
       "model_id": "7328dc21ac7146c3a1cf274d2a4a24f8",
       "version_major": 2,
       "version_minor": 0
      },
      "text/plain": [
       "Document(children=(Dom(children=(MessageWidget(message_options={'message': '', 'type': 'info', 'show_close': F…"
      ]
     },
     "execution_count": 11,
     "metadata": {},
     "output_type": "execute_result"
    }
   ],
   "source": [
    "%vuepy_demo combobox/basic.vue"
   ]
  },
  {
   "cell_type": "markdown",
   "metadata": {},
   "source": [
    "### Component, DatePicker"
   ]
  },
  {
   "cell_type": "code",
   "execution_count": 12,
   "metadata": {},
   "outputs": [
    {
     "name": "stdout",
     "output_type": "stream",
     "text": [
      "{\"vue\": \"<!-- date_picker/basic.vue -->\\n<template>\\n  <DatePicker label=\\\"Pick a day\\\" v-model=\\\"date.value\\\" @change=\\\"on_change\\\"></DatePicker>\\n</template>\\n\\n<script src=\\\"./basic_setup.py\\\"></script>\\n<script setup>\\nimport DatePicker from \\\"../../../src/ipywui/components/DatePicker\\\";\\n</script>\", \"setup\": \"# ./basic_setup.py\\n\\nfrom vuepy import ref\\n\\n\\ndef setup(props, ctx, vm):\\n    date = ref(None)\\n\\n    def on_change(event):\\n        print(event) # {'new': datetime.date(2025, 3, 22), 'old': None, 'owner': DatePicker(...)}\\n\\n    return locals()\\n\"}\n"
     ]
    },
    {
     "data": {
      "application/vnd.jupyter.widget-view+json": {
       "model_id": "fde10a5f0fff4ed0bbf547e33535fbbf",
       "version_major": 2,
       "version_minor": 0
      },
      "text/plain": [
       "Document(children=(Dom(children=(MessageWidget(message_options={'message': '', 'type': 'info', 'show_close': F…"
      ]
     },
     "execution_count": 12,
     "metadata": {},
     "output_type": "execute_result"
    }
   ],
   "source": [
    "%vuepy_demo date_picker/basic.vue"
   ]
  },
  {
   "cell_type": "code",
   "execution_count": 13,
   "metadata": {},
   "outputs": [
    {
     "name": "stdout",
     "output_type": "stream",
     "text": [
      "{\"vue\": \"<!-- date_picker/basic-range.vue -->\\n<template>\\n  <Input :value=\\\"str(min_day) + ' to ' + str(max_day)\\\"></Input>\\n  <DatePicker label=\\\"Pick a day\\\"\\n              v-model=\\\"day.value\\\"\\n              :min=\\\"min_day\\\"\\n              :max=\\\"max_day\\\"\\n  ></DatePicker>\\n</template>\\n\\n<script src=\\\"./basic_range_setup.py\\\"></script>\\n<script setup>\\nimport DatePicker from \\\"../../../src/ipywui/components/DatePicker\\\";\\nimport Input from \\\"../../../src/ipywui/components/Input\\\";\\n</script>\", \"setup\": \"# ./basic_range_setup.py\\n\\nimport datetime\\n\\nfrom vuepy import ref\\n\\n\\ndef setup(props, ctx, vm):\\n    day = ref(None)\\n\\n    min_day = datetime.date(2021, 1, 1)\\n    max_day = datetime.date(2024, 1, 1)\\n\\n    return locals()\\n\"}\n"
     ]
    },
    {
     "data": {
      "application/vnd.jupyter.widget-view+json": {
       "model_id": "350ddf740e63410cba4e514a63f9bf59",
       "version_major": 2,
       "version_minor": 0
      },
      "text/plain": [
       "Document(children=(Dom(children=(MessageWidget(message_options={'message': '', 'type': 'info', 'show_close': F…"
      ]
     },
     "execution_count": 13,
     "metadata": {},
     "output_type": "execute_result"
    }
   ],
   "source": [
    "%vuepy_demo date_picker/basic-range.vue"
   ]
  },
  {
   "cell_type": "markdown",
   "metadata": {},
   "source": [
    "### Component, DateTimePicker"
   ]
  },
  {
   "cell_type": "code",
   "execution_count": 14,
   "metadata": {},
   "outputs": [
    {
     "name": "stdout",
     "output_type": "stream",
     "text": [
      "{\"vue\": \"<!-- datetime_picker/basic.vue -->\\n<template>\\n  <DateTimePicker label=\\\"Pick a time\\\"\\n                  v-model=\\\"datetime.value\\\"\\n                  @change=\\\"on_change\\\"\\n  ></DateTimePicker>\\n</template>\\n\\n<script src=\\\"./basic_setup.py\\\"></script>\\n<script setup>\\nimport DateTimePicker from \\\"../../../src/ipywui/components/DateTimePicker\\\";\\n</script>\", \"setup\": \"# ./basic_setup.py\\n\\nfrom vuepy import ref\\n\\n\\ndef setup(props, ctx, vm):\\n    datetime = ref(None)\\n\\n    def on_change(event):\\n        print(event) # {'new': datetime.datetime(2025, 3, 22, 12, 0), 'old': None, 'owner': DateTimePicker(...)}\\n\\n    return locals()\\n\"}\n"
     ]
    },
    {
     "data": {
      "application/vnd.jupyter.widget-view+json": {
       "model_id": "477458fbb6ba41eeb41acc216be385ec",
       "version_major": 2,
       "version_minor": 0
      },
      "text/plain": [
       "Document(children=(Dom(children=(MessageWidget(message_options={'message': '', 'type': 'info', 'show_close': F…"
      ]
     },
     "execution_count": 14,
     "metadata": {},
     "output_type": "execute_result"
    }
   ],
   "source": [
    "%vuepy_demo datetime_picker/basic.vue"
   ]
  },
  {
   "cell_type": "code",
   "execution_count": 15,
   "metadata": {},
   "outputs": [
    {
     "name": "stdout",
     "output_type": "stream",
     "text": [
      "{\"vue\": \"<!-- datetime_picker/basic-range.vue -->\\n<template>\\n  <Input :value=\\\"str(min_time) + ' to ' + str(max_time)\\\"></Input>\\n  <DateTimePicker label=\\\"Pick a day\\\"\\n              v-model=\\\"time.value\\\"\\n              :min=\\\"min_time\\\"\\n              :max=\\\"max_time\\\"\\n  ></DateTimePicker>\\n</template>\\n\\n<script src=\\\"./basic_range_setup.py\\\"></script>\\n<script setup>\\nimport DateTimePicker from \\\"../../../src/ipywui/components/DateTimePicker\\\";\\nimport Input from \\\"../../../src/ipywui/components/Input\\\";\\n</script>\", \"setup\": \"# ./basic_range_setup.py\\n\\nimport datetime\\n\\nfrom vuepy import ref\\n\\n\\ndef setup(props, ctx, vm):\\n    time = ref(None)\\n\\n    tz = datetime.timezone(datetime.timedelta(seconds=28800), 'CST')\\n    min_time = datetime.datetime(2021, 1, 1, tzinfo=tz)\\n    max_time = datetime.datetime(2024, 1, 1, tzinfo=tz)\\n\\n    return locals()\\n\"}\n"
     ]
    },
    {
     "data": {
      "application/vnd.jupyter.widget-view+json": {
       "model_id": "8315e62cab8a422d9b1d2e3f709a7731",
       "version_major": 2,
       "version_minor": 0
      },
      "text/plain": [
       "Document(children=(Dom(children=(MessageWidget(message_options={'message': '', 'type': 'info', 'show_close': F…"
      ]
     },
     "execution_count": 15,
     "metadata": {},
     "output_type": "execute_result"
    }
   ],
   "source": [
    "%vuepy_demo datetime_picker/basic-range.vue"
   ]
  },
  {
   "cell_type": "markdown",
   "metadata": {},
   "source": [
    "### Component, TimePicker"
   ]
  },
  {
   "cell_type": "code",
   "execution_count": 16,
   "metadata": {},
   "outputs": [
    {
     "name": "stdout",
     "output_type": "stream",
     "text": [
      "{\"vue\": \"<!-- time_picker/basic.vue -->\\n<template>\\n  <TimePicker label=\\\"HH::mm\\\"\\n              v-model=\\\"time.value\\\"\\n              @change=\\\"on_change\\\"\\n  ></TimePicker>\\n\\n  <TimePicker label=\\\"HH::mm::ss\\\"\\n              v-model=\\\"time.value\\\"\\n              :step=\\\"1\\\"\\n  ></TimePicker>\\n</template>\\n\\n<script setup>\\nimport TimePicker from \\\"../../../src/ipywui/components/TimePicker\\\";\\n</script>\\n<script lang=\\\"py\\\">\\nfrom vuepy import ref\\n\\ntime = ref(None)\\n\\ndef on_change(event):\\n    print(event) # {'new': datetime.time(12, 0), 'old': None, 'owner': TimePicker(...)}\\n\\n</script>\", \"setup\": 0}\n"
     ]
    },
    {
     "data": {
      "application/vnd.jupyter.widget-view+json": {
       "model_id": "fff0c6b7deeb47e58349bffc49454b6a",
       "version_major": 2,
       "version_minor": 0
      },
      "text/plain": [
       "Document(children=(Dom(children=(MessageWidget(message_options={'message': '', 'type': 'info', 'show_close': F…"
      ]
     },
     "execution_count": 16,
     "metadata": {},
     "output_type": "execute_result"
    }
   ],
   "source": [
    "%vuepy_demo time_picker/basic.vue"
   ]
  },
  {
   "cell_type": "code",
   "execution_count": 17,
   "metadata": {},
   "outputs": [
    {
     "name": "stdout",
     "output_type": "stream",
     "text": [
      "{\"vue\": \"<!-- time_picker/basic-range.vue -->\\n<template>\\n  <Input :value=\\\"str(min_time) + ' to ' + str(max_time)\\\"></Input>\\n  <TimePicker label=\\\"HH::mm::ss\\\"\\n              v-model=\\\"time.value\\\"\\n              :min=\\\"min_time\\\"\\n              :max=\\\"max_time\\\"\\n              :step=\\\"1\\\"\\n  ></TimePicker>\\n</template>\\n\\n<script src=\\\"./basic_range_setup.py\\\"></script>\\n<script setup>\\nimport TimePicker from \\\"../../../src/ipywui/components/TimePicker\\\";\\nimport Input from \\\"../../../src/ipywui/components/Input\\\";\\n</script>\", \"setup\": \"# ./basic_range_setup.py\\n\\nimport datetime\\n\\nfrom vuepy import ref\\n\\n\\ndef setup(props, ctx, vm):\\n    time = ref(None)\\n    min_time = datetime.time(10, 10, 0)\\n    max_time = datetime.time(12, 10, 0)\\n\\n    return locals()\\n\"}\n"
     ]
    },
    {
     "data": {
      "application/vnd.jupyter.widget-view+json": {
       "model_id": "9330995671634f758f0cb84bbde69770",
       "version_major": 2,
       "version_minor": 0
      },
      "text/plain": [
       "Document(children=(Dom(children=(MessageWidget(message_options={'message': '', 'type': 'info', 'show_close': F…"
      ]
     },
     "execution_count": 17,
     "metadata": {},
     "output_type": "execute_result"
    }
   ],
   "source": [
    "%vuepy_demo time_picker/basic-range.vue"
   ]
  },
  {
   "cell_type": "markdown",
   "metadata": {},
   "source": [
    "### Component, Input\n",
    "\n",
    "输入字符串"
   ]
  },
  {
   "cell_type": "code",
   "execution_count": 18,
   "metadata": {},
   "outputs": [
    {
     "name": "stdout",
     "output_type": "stream",
     "text": [
      "{\"vue\": \"<!-- input/basic.vue -->\\n<template>\\n  <VBox>\\n    <Input label=\\\"input\\\"\\n           placeholder=\\\"Please input\\\"\\n           v-model=\\\"text1.value\\\"\\n           @change=\\\"on_change\\\"\\n    ></Input>\\n\\n    <Input label=\\\"input\\\"\\n           placeholder=\\\"continuous update\\\"\\n           v-model=\\\"text2.value\\\"\\n           continuous_update\\n           @change=\\\"on_change2\\\"\\n    ></Input>\\n  </VBox>\\n</template>\\n\\n<script setup>\\nimport VBox from \\\"../../../src/ipywui/components/VBox\\\";\\nimport Input from \\\"../../../src/ipywui/components/Input\\\";\\n</script>\\n<script lang=\\\"py\\\">\\nfrom vuepy import ref\\n\\ntext1 = ref(\\\"\\\")\\ntext2 = ref(\\\"\\\")\\n\\n# called when enter key is pressed or the input is blurred\\ndef on_change(value):\\n    print(value) # {'new': 'hello', 'old': '', 'owner': Text(...)}\\n\\n# called when the input is changed\\ndef on_change2(value):\\n    print(value) # {'new': 'hello', 'old': '', 'owner': Text(...)}\\n</script>\\n\", \"setup\": 0}\n"
     ]
    },
    {
     "data": {
      "application/vnd.jupyter.widget-view+json": {
       "model_id": "6cffc81eb88e49a292fcc0f89f5a5457",
       "version_major": 2,
       "version_minor": 0
      },
      "text/plain": [
       "Document(children=(Dom(children=(MessageWidget(message_options={'message': '', 'type': 'info', 'show_close': F…"
      ]
     },
     "execution_count": 18,
     "metadata": {},
     "output_type": "execute_result"
    }
   ],
   "source": [
    "%vuepy_demo input/basic.vue"
   ]
  },
  {
   "cell_type": "code",
   "execution_count": 19,
   "metadata": {},
   "outputs": [
    {
     "name": "stdout",
     "output_type": "stream",
     "text": [
      "{\"vue\": \"<!-- input/textarea.vue -->\\n<template>\\n  <Input label=\\\"Textarea\\\" type=\\\"textarea\\\" value=\\\"Please input\\\"></Input>\\n</template>\\n\\n<script setup>\\nimport Input from \\\"../../../src/ipywui/components/Input\\\";\\n</script>\", \"setup\": 0}\n"
     ]
    },
    {
     "data": {
      "application/vnd.jupyter.widget-view+json": {
       "model_id": "08f2fd51de9d422aa55824cc34d2dfa4",
       "version_major": 2,
       "version_minor": 0
      },
      "text/plain": [
       "Document(children=(Dom(children=(MessageWidget(message_options={'message': '', 'type': 'info', 'show_close': F…"
      ]
     },
     "execution_count": 19,
     "metadata": {},
     "output_type": "execute_result"
    }
   ],
   "source": [
    "%vuepy_demo input/textarea.vue"
   ]
  },
  {
   "cell_type": "code",
   "execution_count": 20,
   "metadata": {},
   "outputs": [
    {
     "name": "stdout",
     "output_type": "stream",
     "text": [
      "{\"vue\": \"<!-- input/password.vue -->\\n<template>\\n  <Input label=\\\"Password\\\" type=\\\"password\\\" value=\\\"xxx\\\"></Input>\\n</template>\\n\\n<script setup>\\nimport Input from \\\"../../../src/ipywui/components/Input\\\";\\n</script>\", \"setup\": 0}\n"
     ]
    },
    {
     "data": {
      "application/vnd.jupyter.widget-view+json": {
       "model_id": "8241c477d8b043d8a4998b1bad61c1e3",
       "version_major": 2,
       "version_minor": 0
      },
      "text/plain": [
       "Document(children=(Dom(children=(MessageWidget(message_options={'message': '', 'type': 'info', 'show_close': F…"
      ]
     },
     "execution_count": 20,
     "metadata": {},
     "output_type": "execute_result"
    }
   ],
   "source": [
    "%vuepy_demo input/password.vue"
   ]
  },
  {
   "cell_type": "markdown",
   "metadata": {},
   "source": [
    "### Component, Input Number\n",
    "\n",
    "输入标准的数字值，可定义范围"
   ]
  },
  {
   "cell_type": "code",
   "execution_count": 21,
   "metadata": {},
   "outputs": [
    {
     "name": "stdout",
     "output_type": "stream",
     "text": [
      "{\"vue\": \"<!-- input_number/basic.vue -->\\n<template>\\n  <VBox>\\n    <InputNumber description=\\\"int number\\\"\\n                 v-model=\\\"num.value\\\"\\n                 :min=\\\"1\\\"\\n                 :max=\\\"100\\\"\\n                 @change=\\\"on_change\\\"\\n    ></InputNumber>\\n\\n    <InputNumber description=\\\"float number\\\"\\n                 v-model=\\\"num_float.value\\\"\\n                 :min=\\\"1\\\"\\n                 :max=\\\"100\\\"\\n    ></InputNumber>\\n  </VBox>\\n</template>\\n\\n<script setup>\\nimport InputNumber from \\\"../../../src/ipywui/components/InputNumber\\\";\\nimport VBox from \\\"../../../src/ipywui/components/VBox\\\";\\n</script>\\n<script lang=\\\"py\\\">\\nfrom vuepy import ref\\n\\nnum = ref(1)\\nnum_float = ref(1.1)\\n\\n# called when enter key is pressed or the input is blurred\\ndef on_change(value):\\n    print(value) # {'new': 1, 'old': 1, 'owner': IntText(...)}\\n</script>\\n\", \"setup\": 0}\n"
     ]
    },
    {
     "data": {
      "application/vnd.jupyter.widget-view+json": {
       "model_id": "51be4eb010404316ab847c4bcb61fc84",
       "version_major": 2,
       "version_minor": 0
      },
      "text/plain": [
       "Document(children=(Dom(children=(MessageWidget(message_options={'message': '', 'type': 'info', 'show_close': F…"
      ]
     },
     "execution_count": 21,
     "metadata": {},
     "output_type": "execute_result"
    }
   ],
   "source": [
    "%vuepy_demo input_number/basic.vue"
   ]
  },
  {
   "cell_type": "code",
   "execution_count": 22,
   "metadata": {},
   "outputs": [
    {
     "name": "stdout",
     "output_type": "stream",
     "text": [
      "{\"vue\": \"<!-- input_number/steps.vue -->\\n<template>\\n  <InputNumber description=\\\"step\\\" :step=\\\"2\\\"></InputNumber>\\n</template>\\n\\n<script setup>\\nimport InputNumber from \\\"../../../src/ipywui/components/InputNumber\\\";\\n</script>\", \"setup\": 0}\n"
     ]
    },
    {
     "data": {
      "application/vnd.jupyter.widget-view+json": {
       "model_id": "fe15dc702ea14ff7b5755d3dc63545af",
       "version_major": 2,
       "version_minor": 0
      },
      "text/plain": [
       "Document(children=(Dom(children=(MessageWidget(message_options={'message': '', 'type': 'info', 'show_close': F…"
      ]
     },
     "execution_count": 22,
     "metadata": {},
     "output_type": "execute_result"
    }
   ],
   "source": [
    "%vuepy_demo input_number/steps.vue"
   ]
  },
  {
   "cell_type": "markdown",
   "metadata": {},
   "source": [
    "### Component, RadioButtons\n",
    "\n",
    "`v-model` 或初始值必须是 options 中的值或者为`None`。"
   ]
  },
  {
   "cell_type": "code",
   "execution_count": 23,
   "metadata": {},
   "outputs": [
    {
     "name": "stdout",
     "output_type": "stream",
     "text": [
      "{\"vue\": \"<!-- radio_buttons/basic.vue -->\\n<template>\\n  <RadioButtons description=\\\"Options ['pepperoni', 'pineapple', 'anchovies']\\\"\\n                v-model=\\\"choice1.value\\\"\\n                :options=\\\"options1\\\"\\n                @change=\\\"on_change1\\\"\\n  ></RadioButtons>\\n\\n  <RadioButtons description=\\\"Options [('One', 1), ('Two', 2), ('Three', 3)]\\\"\\n                v-model=\\\"choice2.value\\\"\\n                :options=\\\"options2\\\"\\n                @change=\\\"on_change2\\\"\\n  ></RadioButtons>\\n\\n</template>\\n\\n<script setup>\\nimport RadioButtons from \\\"../../../src/ipywui/components/RadioButtons\\\";\\n</script>\\n<script lang=\\\"py\\\">\\nfrom vuepy import ref\\n\\noptions1 = ['pepperoni', 'pineapple', 'anchovies']\\nchoice1 = ref(options1[0])\\n\\noptions2 = [('One', 1), ('Two', 2), ('Three', 3)]\\nchoice2 = ref(options2[0][1])\\n\\ndef on_change1(event):\\n    print(event) # {'new': 'pineapple', 'old': 'pepperoni', 'owner': RadioButtons(...)}\\n\\ndef on_change2(event):\\n    print(event) # {'new': 2, 'old': 1, 'owner': RadioButtons(...)} \\n</script>\", \"setup\": 0}\n"
     ]
    },
    {
     "data": {
      "application/vnd.jupyter.widget-view+json": {
       "model_id": "8673745f61eb452bbee47ac7bca6a54c",
       "version_major": 2,
       "version_minor": 0
      },
      "text/plain": [
       "Document(children=(Dom(children=(MessageWidget(message_options={'message': '', 'type': 'info', 'show_close': F…"
      ]
     },
     "execution_count": 23,
     "metadata": {},
     "output_type": "execute_result"
    }
   ],
   "source": [
    "%vuepy_demo radio_buttons/basic.vue"
   ]
  },
  {
   "cell_type": "markdown",
   "metadata": {},
   "source": [
    "### Component, Select"
   ]
  },
  {
   "cell_type": "code",
   "execution_count": 24,
   "metadata": {},
   "outputs": [
    {
     "name": "stdout",
     "output_type": "stream",
     "text": [
      "{\"vue\": \"<!-- select/basic.vue -->\\n<template>\\n  <Select description=\\\"OS:\\\"\\n          :rows=\\\"1\\\"\\n          :options=\\\"['Linux', 'Win', 'macOS']\\\"\\n          v-model=\\\"choice.value\\\"\\n          @change=\\\"on_change\\\"\\n  ></Select>\\n\\n  <Select description=\\\"OS:\\\"\\n          :options=\\\"radio_items\\\"\\n          v-model=\\\"choice2.value\\\"\\n          @change=\\\"on_change2\\\"\\n  ></Select>\\n</template>\\n\\n<script setup>\\nimport Select from \\\"../../../src/ipywui/components/Select\\\";\\n</script>\\n<script lang=\\\"py\\\">\\nfrom vuepy import ref\\n\\nchoice = ref('macOS')\\n\\nradio_items = [('One', 1), ('Two', 2), ('Three', 3)]\\nchoice2 = ref(radio_items[0][1])\\n\\ndef on_change(event):\\n    print(event) # {'new': 'Linux', 'old': 'macOS', 'owner': Select(...)}\\n\\ndef on_change2(event):\\n    print(event) # {'new': 2, 'old': 1, 'owner': Select(...)}\\n\\n</script>\", \"setup\": 0}\n"
     ]
    },
    {
     "data": {
      "application/vnd.jupyter.widget-view+json": {
       "model_id": "6a5911b978ae45f286400ebf031ac713",
       "version_major": 2,
       "version_minor": 0
      },
      "text/plain": [
       "Document(children=(Dom(children=(MessageWidget(message_options={'message': '', 'type': 'info', 'show_close': F…"
      ]
     },
     "execution_count": 24,
     "metadata": {},
     "output_type": "execute_result"
    }
   ],
   "source": [
    "%vuepy_demo select/basic.vue"
   ]
  },
  {
   "cell_type": "code",
   "execution_count": 25,
   "metadata": {},
   "outputs": [
    {
     "name": "stdout",
     "output_type": "stream",
     "text": [
      "{\"vue\": \"<!-- select/multiple.vue -->\\n<template>\\n  <Select description=\\\"OS:\\\"\\n          :options=\\\"options\\\"\\n          v-model=\\\"choices.value\\\"\\n          :rows=\\\"2\\\"\\n          @change=\\\"on_change\\\"\\n          multiple\\n  ></Select>\\n\\n  <Select description=\\\"OS:\\\"\\n          :options=\\\"options\\\"\\n          v-model=\\\"choices2.value\\\"\\n          multiple\\n          @change=\\\"on_change2\\\"\\n  ></Select>\\n</template>\\n<script setup>\\nimport Select from \\\"../../../src/ipywui/components/Select\\\";\\n</script>\\n<script lang=\\\"py\\\">\\nfrom vuepy import ref\\n\\noptions = ['Linux', 'Win', 'macOS']\\nchoices = ref([])\\n\\nchoices2 = ref(options[:2])\\n\\ndef on_change(event):\\n    print(event) # {'new': ('Linux', 'macOS'), 'old': (), 'owner': Select(...)}\\n\\ndef on_change2(event):\\n    print(event) # {'new': ('Linux', ), 'old': ('Linux', 'Win'), 'owner': Select(...)}\\n\\n</script>\", \"setup\": 0}\n"
     ]
    },
    {
     "data": {
      "application/vnd.jupyter.widget-view+json": {
       "model_id": "3928671bea1b4e73afb54cbe68cf9cc0",
       "version_major": 2,
       "version_minor": 0
      },
      "text/plain": [
       "Document(children=(Dom(children=(MessageWidget(message_options={'message': '', 'type': 'info', 'show_close': F…"
      ]
     },
     "execution_count": 25,
     "metadata": {},
     "output_type": "execute_result"
    }
   ],
   "source": [
    "%vuepy_demo select/multiple.vue"
   ]
  },
  {
   "cell_type": "markdown",
   "metadata": {},
   "source": [
    "### Component, SelectColors"
   ]
  },
  {
   "cell_type": "code",
   "execution_count": 26,
   "metadata": {},
   "outputs": [
    {
     "name": "stdout",
     "output_type": "stream",
     "text": [
      "{\"vue\": \"<!-- select_colors/basic.vue -->\\n<template>\\n  <SelectColors v-model=\\\"colors.value\\\"></SelectColors>\\n  <Input :value=\\\"', '.join(colors.value)\\\"></Input>\\n\\n  <SelectColors unique></SelectColors>\\n</template>\\n\\n<script src=\\\"./basic_setup.py\\\"></script>\\n<script setup>\\nimport SelectColors from \\\"../../../src/ipywui/components/SelectColors\\\";\\nimport Input from \\\"../../../src/ipywui/components/Input\\\";\\n</script>\", \"setup\": \"# ./basic_setup.py\\n\\nfrom vuepy import ref\\n\\n\\ndef setup(props, ctx, vm):\\n    colors = ref(['red', 'green', '#0000ff'])\\n    return locals()\\n\"}\n"
     ]
    },
    {
     "data": {
      "application/vnd.jupyter.widget-view+json": {
       "model_id": "dfc00925dab94901a1178363f259e7b4",
       "version_major": 2,
       "version_minor": 0
      },
      "text/plain": [
       "Document(children=(Dom(children=(MessageWidget(message_options={'message': '', 'type': 'info', 'show_close': F…"
      ]
     },
     "execution_count": 26,
     "metadata": {},
     "output_type": "execute_result"
    }
   ],
   "source": [
    "%vuepy_demo select_colors/basic.vue"
   ]
  },
  {
   "cell_type": "code",
   "execution_count": 27,
   "metadata": {},
   "outputs": [
    {
     "name": "stdout",
     "output_type": "stream",
     "text": [
      "{\"vue\": \"<!-- select_colors/allowed_tags.vue -->\\n<template>\\n  <SelectColors\\n      :value=\\\"['lightgreen', 'lightgray']\\\"\\n      :allowed_tags=\\\"['lightgreen', 'lightgray', 'lightblue']\\\"\\n  ></SelectColors>\\n</template>\\n\\n<script setup>\\nimport SelectColors from \\\"../../../src/ipywui/components/SelectColors\\\";\\n</script>\", \"setup\": 0}\n"
     ]
    },
    {
     "data": {
      "application/vnd.jupyter.widget-view+json": {
       "model_id": "2739a791399f4a94ac16aad73df1e397",
       "version_major": 2,
       "version_minor": 0
      },
      "text/plain": [
       "Document(children=(Dom(children=(MessageWidget(message_options={'message': '', 'type': 'info', 'show_close': F…"
      ]
     },
     "execution_count": 27,
     "metadata": {},
     "output_type": "execute_result"
    }
   ],
   "source": [
    "%vuepy_demo select_colors/allowed_tags.vue"
   ]
  },
  {
   "cell_type": "markdown",
   "metadata": {},
   "source": [
    "### Component, SelectNumbers"
   ]
  },
  {
   "cell_type": "code",
   "execution_count": 28,
   "metadata": {},
   "outputs": [
    {
     "name": "stdout",
     "output_type": "stream",
     "text": [
      "{\"vue\": \"<!-- select_numbers/basic.vue -->\\n<template>\\n  <SelectNumbers v-model=\\\"nums.value\\\"\\n                 @change=\\\"on_change\\\"\\n  ></SelectNumbers>\\n  <p>float nums: {{ nums.value }}</p>\\n\\n  <SelectNumbers v-model=\\\"int_nums.value\\\"\\n                 data_type=\\\"int\\\"\\n  ></SelectNumbers>\\n  <p>int nums: {{ int_nums.value }}</p>\\n</template>\\n<script setup>\\nimport SelectNumbers from \\\"../../../src/ipywui/components/SelectNumbers\\\";\\n</script>\\n<script lang=\\\"py\\\">\\nfrom vuepy import ref\\n\\nnums = ref([1, 2, 3])\\nint_nums = ref([1, 2, 3])\\n\\n# called when enter key is pressed or the input is blurred\\ndef on_change(value):\\n    print(value) # {'new': [1, 2], 'old': [1, 2, 3], 'owner': FloatsInput(...)}\\n\\n</script>\\n\", \"setup\": 0}\n"
     ]
    },
    {
     "data": {
      "application/vnd.jupyter.widget-view+json": {
       "model_id": "49b61c19431f4cebad6051d32ee07d54",
       "version_major": 2,
       "version_minor": 0
      },
      "text/plain": [
       "Document(children=(Dom(children=(MessageWidget(message_options={'message': '', 'type': 'info', 'show_close': F…"
      ]
     },
     "execution_count": 28,
     "metadata": {},
     "output_type": "execute_result"
    }
   ],
   "source": [
    "%vuepy_demo select_numbers/basic.vue"
   ]
  },
  {
   "cell_type": "code",
   "execution_count": 29,
   "metadata": {},
   "outputs": [
    {
     "name": "stdout",
     "output_type": "stream",
     "text": [
      "{\"vue\": \"<!-- select_numbers/basic-range.vue -->\\n<template>\\n  <SelectNumbers :value=\\\"[1, 2, 3]\\\" :min=\\\"1\\\" :max=\\\"10\\\"\\n                 data_type=\\\"int\\\"></SelectNumbers>\\n</template>\\n\\n<script setup>\\nimport SelectNumbers from \\\"../../../src/ipywui/components/SelectNumbers\\\";\\n</script>\", \"setup\": 0}\n"
     ]
    },
    {
     "data": {
      "application/vnd.jupyter.widget-view+json": {
       "model_id": "eaf230939de448bf9a6ec7c43ad21d52",
       "version_major": 2,
       "version_minor": 0
      },
      "text/plain": [
       "Document(children=(Dom(children=(MessageWidget(message_options={'message': '', 'type': 'info', 'show_close': F…"
      ]
     },
     "execution_count": 29,
     "metadata": {},
     "output_type": "execute_result"
    }
   ],
   "source": [
    "%vuepy_demo select_numbers/basic-range.vue"
   ]
  },
  {
   "cell_type": "markdown",
   "metadata": {},
   "source": [
    "### Component, SelectTags"
   ]
  },
  {
   "cell_type": "code",
   "execution_count": 30,
   "metadata": {},
   "outputs": [
    {
     "name": "stdout",
     "output_type": "stream",
     "text": [
      "{\"vue\": \"<!-- select_tags/basic.vue -->\\n<template>\\n  <SelectTags v-model=\\\"tags.value\\\"\\n             @change=\\\"on_change\\\"\\n  ></SelectTags>\\n  <p>basic: {{ tags.value }}</p>\\n\\n  <SelectTags v-model=\\\"unique_tags.value\\\" unique></SelectTags>\\n  <p>unique: {{ unique_tags.value }}</p>\\n</template>\\n\\n<script setup>\\nimport SelectTags from \\\"../../../src/ipywui/components/SelectTags\\\";\\n</script>\\n<script lang=\\\"py\\\">\\nfrom vuepy import ref\\n\\ntags = ref(['tag1', 'tag2', 'tag3'])\\nunique_tags = ref(['t1', 't2', 't3'])\\n\\n# called when enter key is pressed or the input is blurred\\ndef on_change(value):\\n    print(value) # {'new': ['tag1', 'tag2'], 'old': ['tag1', 'tag2', 'tag3'], 'owner': TagsInput(...)}\\n</script>\\n\", \"setup\": 0}\n"
     ]
    },
    {
     "data": {
      "application/vnd.jupyter.widget-view+json": {
       "model_id": "e44bd600bc3548229dc12d7b6b0ddd32",
       "version_major": 2,
       "version_minor": 0
      },
      "text/plain": [
       "Document(children=(Dom(children=(MessageWidget(message_options={'message': '', 'type': 'info', 'show_close': F…"
      ]
     },
     "execution_count": 30,
     "metadata": {},
     "output_type": "execute_result"
    }
   ],
   "source": [
    "%vuepy_demo select_tags/basic.vue"
   ]
  },
  {
   "cell_type": "code",
   "execution_count": 31,
   "metadata": {},
   "outputs": [
    {
     "name": "stdout",
     "output_type": "stream",
     "text": [
      "{\"vue\": \"<!-- select_tags/allowed_tags.vue -->\\n<template>\\n  <Input value=\\\"allowed_tags ['a', 'b', 'c']\\\"></Input>\\n  <SelectTags\\n      :value=\\\"['a', 'b']\\\"\\n      :allowed_tags=\\\"['a', 'b', 'c']\\\"\\n  ></SelectTags>\\n</template>\\n\\n<script setup>\\nimport Input from \\\"../../../src/ipywui/components/Input\\\";\\nimport SelectTags from \\\"../../../src/ipywui/components/SelectTags\\\";\\n</script>\", \"setup\": 0}\n"
     ]
    },
    {
     "data": {
      "application/vnd.jupyter.widget-view+json": {
       "model_id": "865326df276c42cb8c241dc0a4be480e",
       "version_major": 2,
       "version_minor": 0
      },
      "text/plain": [
       "Document(children=(Dom(children=(MessageWidget(message_options={'message': '', 'type': 'info', 'show_close': F…"
      ]
     },
     "execution_count": 31,
     "metadata": {},
     "output_type": "execute_result"
    }
   ],
   "source": [
    "%vuepy_demo select_tags/allowed_tags.vue"
   ]
  },
  {
   "cell_type": "markdown",
   "metadata": {},
   "source": [
    "### Component, Slider"
   ]
  },
  {
   "cell_type": "code",
   "execution_count": 32,
   "metadata": {},
   "outputs": [
    {
     "name": "stdout",
     "output_type": "stream",
     "text": [
      "{\"vue\": \"<!-- slider/basic.vue -->\\n<template>\\n  <Slider description=\\\"Default\\\" v-model=\\\"default.value\\\"></Slider>\\n  <Slider description=\\\"Init val 5\\\" v-model=\\\"init_val.value\\\"></Slider>\\n  <Slider description=\\\"Float\\\"\\n          v-model=\\\"float_val.value\\\"\\n          :min=\\\"0\\\"\\n          :max=\\\"30\\\"\\n          @change=\\\"on_change\\\"\\n  ></Slider>\\n  <Slider description=\\\"Selection\\\"\\n          v-model=\\\"selection_val.value\\\"\\n          :options=\\\"selection_options\\\"\\n  ></Slider>\\n  <Slider description=\\\"Disabled\\\" :value=\\\"1\\\" disabled></Slider>\\n</template>\\n\\n<script setup>\\nimport Slider from \\\"../../../src/ipywui/components/Slider\\\";\\n</script>\\n<script lang=\\\"py\\\">\\nfrom vuepy import ref\\n\\ndefault = ref(0)\\ninit_val = ref(5)\\nfloat_val = ref(10.1)\\nselection_val = ref('a')\\nselection_options = ['a', 'b', 'c', 'd']\\n\\ndef on_change(event):\\n    print(event) # {'new': 10.1, 'old': 10.1, 'owner': Slider(...)}\\n\\n</script>\", \"setup\": 0}\n"
     ]
    },
    {
     "data": {
      "application/vnd.jupyter.widget-view+json": {
       "model_id": "5c9a51cb68f14905948020e09a722c90",
       "version_major": 2,
       "version_minor": 0
      },
      "text/plain": [
       "Document(children=(Dom(children=(MessageWidget(message_options={'message': '', 'type': 'info', 'show_close': F…"
      ]
     },
     "execution_count": 32,
     "metadata": {},
     "output_type": "execute_result"
    }
   ],
   "source": [
    "%vuepy_demo slider/basic.vue"
   ]
  },
  {
   "cell_type": "code",
   "execution_count": 33,
   "metadata": {},
   "outputs": [
    {
     "name": "stdout",
     "output_type": "stream",
     "text": [
      "{\"vue\": \"<!-- slider/range-selection.vue -->\\n<template>\\n  <Slider description=\\\"Int range\\\"\\n          v-model=\\\"int_range.value\\\"\\n          :max=\\\"10\\\"\\n          range\\n          @change=\\\"on_change\\\"\\n  ></Slider>\\n  <Slider description=\\\"Float range\\\"\\n          v-model=\\\"float_range.value\\\"\\n          :min=\\\"0.0\\\"\\n          :max=\\\"10.0\\\"\\n          range\\n  ></Slider>\\n  <Slider description=\\\"Selection range\\\"\\n          v-model=\\\"selection_range.value\\\"\\n          :options=\\\"selection_options\\\"\\n          style=\\\"description-width: 100px\\\"\\n          range\\n  ></Slider>\\n</template>\\n\\n<script setup>\\nimport Slider from \\\"../../../src/ipywui/components/Slider\\\";\\n</script>\\n<script lang=\\\"py\\\">\\nfrom vuepy import ref\\n\\nint_range = ref([1, 3])\\nfloat_range = ref([1.1, 3.1])\\nselection_range = ref(['a', 'c'])\\nselection_options = ['a', 'b', 'c', 'd']\\n\\ndef on_change(event):\\n    print(event) # {'new': (1, 3), 'old': (1, 5), 'owner': Slider(...)}\\n\\n</script>\", \"setup\": 0}\n"
     ]
    },
    {
     "data": {
      "application/vnd.jupyter.widget-view+json": {
       "model_id": "b184e23be47f4c07bf5586273fd6c373",
       "version_major": 2,
       "version_minor": 0
      },
      "text/plain": [
       "Document(children=(Dom(children=(MessageWidget(message_options={'message': '', 'type': 'info', 'show_close': F…"
      ]
     },
     "execution_count": 33,
     "metadata": {},
     "output_type": "execute_result"
    }
   ],
   "source": [
    "%vuepy_demo slider/range-selection.vue"
   ]
  },
  {
   "cell_type": "code",
   "execution_count": 34,
   "metadata": {},
   "outputs": [
    {
     "name": "stdout",
     "output_type": "stream",
     "text": [
      "{\"vue\": \"<!-- slider/vertical.vue -->\\n<template>\\n  <HBox>\\n    <Slider description=\\\"Float\\\"\\n            :value=\\\"3\\\"\\n            :min=\\\"0.0\\\"\\n            :max=\\\"30\\\"\\n            vertical\\n    ></Slider>\\n    <Slider description=\\\"Selection\\\"\\n            value=\\\"b\\\"\\n            :options=\\\"['a', 'b', 'c']\\\"\\n            vertical\\n    ></Slider>\\n  </HBox>\\n</template>\\n\\n<script setup>\\nimport Slider from \\\"../../../src/ipywui/components/Slider\\\";\\nimport HBox from \\\"../../../src/ipywui/components/HBox\\\";\\n</script>\", \"setup\": 0}\n"
     ]
    },
    {
     "data": {
      "application/vnd.jupyter.widget-view+json": {
       "model_id": "bcaf9a11604f48b6af05ccb380ed745c",
       "version_major": 2,
       "version_minor": 0
      },
      "text/plain": [
       "Document(children=(Dom(children=(MessageWidget(message_options={'message': '', 'type': 'info', 'show_close': F…"
      ]
     },
     "execution_count": 34,
     "metadata": {},
     "output_type": "execute_result"
    }
   ],
   "source": [
    "%vuepy_demo slider/vertical.vue"
   ]
  },
  {
   "cell_type": "code",
   "execution_count": 35,
   "metadata": {},
   "outputs": [
    {
     "name": "stdout",
     "output_type": "stream",
     "text": [
      "{\"vue\": \"<!-- slider/show-marks.vue -->\\n<template>\\n  <Input :value=\\\"str(selection.value)\\\"></Input>\\n  <Slider description=\\\"Selection\\\"\\n          v-model=\\\"selection.value\\\"\\n          :options=\\\"selection_options\\\"\\n          style=\\\"description-width: 100px\\\"\\n  ></Slider>\\n  <Input :value=\\\"str(selection_range.value)\\\"></Input>\\n  <Slider description=\\\"Selection range\\\"\\n          v-model=\\\"selection_range.value\\\"\\n          :options=\\\"selection_options\\\"\\n          style=\\\"description-width: 100px\\\"\\n          range\\n  ></Slider>\\n</template>\\n\\n<script src=\\\"./show_marks_setup.py\\\"></script>\\n<script setup>\\nimport Slider from \\\"../../../src/ipywui/components/Slider\\\";\\nimport Input from \\\"../../../src/ipywui/components/Input\\\";\\n</script>\\n\", \"setup\": \"# ./show_marks_setup.py\\n\\nfrom vuepy import ref\\n\\n\\ndef setup(props, ctx, vm):\\n    selection_options = [('0\\u00b0C', 0), ('5\\u00b0C', 5), ('10\\u00b0C', 10), ('37\\u00b0C', 37)]\\n    selection = ref(10)\\n    selection_range = ref([5, 37])\\n\\n    return locals()\\n\"}\n"
     ]
    },
    {
     "data": {
      "application/vnd.jupyter.widget-view+json": {
       "model_id": "69ae97bfb7ed4764ac7b182395ab64c0",
       "version_major": 2,
       "version_minor": 0
      },
      "text/plain": [
       "Document(children=(Dom(children=(MessageWidget(message_options={'message': '', 'type': 'info', 'show_close': F…"
      ]
     },
     "execution_count": 35,
     "metadata": {},
     "output_type": "execute_result"
    }
   ],
   "source": [
    "%vuepy_demo slider/show-marks.vue"
   ]
  },
  {
   "cell_type": "markdown",
   "metadata": {},
   "source": [
    "### Component, ToggleButton\n",
    "\n",
    "表示两种相互对立的状态间的切换，多用于触发「开/关」"
   ]
  },
  {
   "cell_type": "code",
   "execution_count": 36,
   "metadata": {},
   "outputs": [
    {
     "name": "stdout",
     "output_type": "stream",
     "text": [
      "{\"vue\": \"<!-- toggle_button/basic.vue -->\\n<template>\\n  <HBox>\\n    <ToggleButton label=\\\"on\\\" :value=\\\"True\\\" @change=\\\"on_change\\\"></ToggleButton>\\n    <ToggleButton label=\\\"off\\\" :value=\\\"False\\\"></ToggleButton>\\n  </HBox>\\n  <HBox>\\n    <ToggleButton type=\\\"info\\\" :value=\\\"True\\\"></ToggleButton>\\n    <ToggleButton type=\\\"info\\\" :value=\\\"False\\\"></ToggleButton>\\n    </HBox>\\n  <HBox>\\n    <ToggleButton type=\\\"success\\\" v-model=\\\"val1.value\\\"></ToggleButton>\\n    <ToggleButton type=\\\"success\\\" :value=\\\"False\\\"></ToggleButton>\\n    </HBox>\\n  <HBox>\\n    <ToggleButton type=\\\"warning\\\" :value=\\\"True\\\"></ToggleButton>\\n    <ToggleButton type=\\\"warning\\\"></ToggleButton>\\n    </HBox>\\n  <HBox>\\n    <ToggleButton type=\\\"danger\\\" :value=\\\"True\\\"></ToggleButton>\\n    <ToggleButton type=\\\"danger\\\" :value=\\\"False\\\"></ToggleButton>\\n  </HBox>\\n</template>\\n\\n<script setup>\\nimport ToggleButton from \\\"../../../src/ipywui/components/ToggleButton\\\";\\nimport HBox from \\\"../../../src/ipywui/components/HBox\\\";\\n</script>\\n<script lang=\\\"py\\\">\\nfrom vuepy import ref\\n\\nval1 = ref(True)\\n\\ndef on_change(event):\\n    print(event) # {'new': False, 'old': True, 'owner': ToggleButton(...)}\\n\\n</script>\", \"setup\": 0}\n"
     ]
    },
    {
     "data": {
      "application/vnd.jupyter.widget-view+json": {
       "model_id": "13c76760908b426581b4984a97dd8ff0",
       "version_major": 2,
       "version_minor": 0
      },
      "text/plain": [
       "Document(children=(Dom(children=(MessageWidget(message_options={'message': '', 'type': 'info', 'show_close': F…"
      ]
     },
     "execution_count": 36,
     "metadata": {},
     "output_type": "execute_result"
    }
   ],
   "source": [
    "%vuepy_demo toggle_button/basic.vue"
   ]
  },
  {
   "cell_type": "markdown",
   "metadata": {},
   "source": [
    "### Component, ToggleButtons\n",
    "\n",
    "在一组备选项中进行单选"
   ]
  },
  {
   "cell_type": "code",
   "execution_count": 37,
   "metadata": {},
   "outputs": [
    {
     "name": "stdout",
     "output_type": "stream",
     "text": [
      "{\"vue\": \"<!-- toggle_buttons/basic.vue -->\\n<template>\\n  <ToggleButtons description=\\\"Options ['pepperoni', 'pineapple', 'anchovies']\\\"\\n                 v-model=\\\"choice1.value\\\"\\n                 :options=\\\"options1\\\"\\n                 @change=\\\"on_change\\\"\\n  ></ToggleButtons>\\n\\n  <ToggleButtons description=\\\"Options [('One', 1), ('Two', 2), ('Three', 3)]\\\"\\n                 v-model=\\\"choice2.value\\\"\\n                 :options=\\\"options2\\\"\\n                 @change=\\\"on_change\\\"\\n  ></ToggleButtons>\\n\\n  <!--  style-->\\n  <ToggleButtons description=\\\"Style success\\\"\\n                 type=\\\"success\\\"\\n                 :options=\\\"options2\\\"\\n  ></ToggleButtons>\\n  <ToggleButtons description=\\\"Style info\\\"\\n                 type=\\\"info\\\"\\n                 :options=\\\"options2\\\"\\n  ></ToggleButtons>\\n  <ToggleButtons description=\\\"Style warning\\\"\\n                 type=\\\"warning\\\"\\n                 :options=\\\"options2\\\"\\n  ></ToggleButtons>\\n  <ToggleButtons description=\\\"Style danger\\\"\\n                 type=\\\"danger\\\"\\n                 :options=\\\"options2\\\"\\n  ></ToggleButtons>\\n\\n  <!--  icon-->\\n  <ToggleButtons description=\\\"With icons\\\"\\n                 :icons=\\\"['walking', 'car-side', 'plane']\\\"\\n                 :options=\\\"['walking ', 'car ', 'plane ']\\\"\\n  ></ToggleButtons>\\n\\n</template>\\n\\n<script setup>\\nimport ToggleButtons from \\\"../../../src/ipywui/components/ToggleButtons\\\";\\n</script>\\n<script lang=\\\"py\\\">\\nfrom vuepy import ref\\n\\noptions1 = ['pepperoni', 'pineapple', 'anchovies']\\nchoice1 = ref(options1[0])\\n\\noptions2 = [('One', 1), ('Two', 2), ('Three', 3)]\\nchoice2 = ref(options2[0][1])\\n\\ndef on_change(event):\\n    print(event) # {'new': 'pepperoni', 'old': 'pineapple', 'owner': ToggleButtons(...)}\\n\\ndef on_change2(event):\\n    print(event) # {'new': 1, 'old': 0, 'owner': ToggleButtons(...)}\\n\\n</script>\", \"setup\": 0}\n"
     ]
    },
    {
     "data": {
      "application/vnd.jupyter.widget-view+json": {
       "model_id": "977bd348ee8f4d018457ec0d40e0eba9",
       "version_major": 2,
       "version_minor": 0
      },
      "text/plain": [
       "Document(children=(Dom(children=(MessageWidget(message_options={'message': '', 'type': 'info', 'show_close': F…"
      ]
     },
     "execution_count": 37,
     "metadata": {},
     "output_type": "execute_result"
    }
   ],
   "source": [
    "%vuepy_demo toggle_buttons/basic.vue"
   ]
  },
  {
   "cell_type": "markdown",
   "metadata": {},
   "source": [
    "### Component, File Upload"
   ]
  },
  {
   "cell_type": "code",
   "execution_count": 38,
   "metadata": {},
   "outputs": [
    {
     "name": "stdout",
     "output_type": "stream",
     "text": [
      "{\"vue\": \"<!-- file_upload/basic.vue -->\\n<template>\\n  <FileUpload v-model=\\\"files.value\\\" accept=\\\".txt\\\"></FileUpload>\\n  <Input label=\\\"file info\\\"\\n         :value=\\\"upload_file.value\\\"\\n         type=\\\"textarea\\\"\\n         style=\\\"height: 200px\\\"\\n  ></Input>\\n</template>\\n\\n<script src=\\\"./basic_setup.py\\\"></script>\\n<script setup>\\nimport FileUpload from \\\"../../../src/ipywui/components/FileUpload\\\";\\nimport Input from \\\"../../../src/ipywui/components/Input\\\";\\n</script>\", \"setup\": \"# ./basic_setup.py\\n\\nimport codecs\\nimport json\\n\\nfrom vuepy import computed\\nfrom vuepy import ref\\n\\n\\ndef setup(props, ctx, vm):\\n    files = ref([])\\n\\n    def get_first_file():\\n        file_info = {}\\n        if files.value:\\n            file_info = files.value[0]\\n            content = file_info['content']\\n            file_info['content'] = codecs.decode(content, encoding='utf-8')\\n            file_info['last_modified'] = str(file_info['last_modified'])\\n\\n        return json.dumps(file_info, indent=2)\\n\\n    upload_file = computed(get_first_file)\\n\\n    return locals()\\n\"}\n"
     ]
    },
    {
     "data": {
      "application/vnd.jupyter.widget-view+json": {
       "model_id": "bc632002446d48e79e94a2fdad061548",
       "version_major": 2,
       "version_minor": 0
      },
      "text/plain": [
       "Document(children=(Dom(children=(MessageWidget(message_options={'message': '', 'type': 'info', 'show_close': F…"
      ]
     },
     "execution_count": 38,
     "metadata": {},
     "output_type": "execute_result"
    }
   ],
   "source": [
    "%vuepy_demo file_upload/basic.vue"
   ]
  },
  {
   "cell_type": "markdown",
   "metadata": {},
   "source": [
    "### Component, Accordion"
   ]
  },
  {
   "cell_type": "code",
   "execution_count": 39,
   "metadata": {},
   "outputs": [
    {
     "name": "stdout",
     "output_type": "stream",
     "text": [
      "{\"vue\": \"<!-- accordion/basic.vue -->\\n<template>\\n  <Accordion v-model=\\\"selected.value\\\" @change=\\\"on_change\\\">\\n    <AccordionItem title=\\\"Item0\\\">\\n      <Slider description=\\\"slider\\\"></Slider>\\n    </AccordionItem>\\n\\n    <AccordionItem title=\\\"Item1\\\">\\n      <Input placeholder=\\\"input\\\"></Input>\\n    </AccordionItem>\\n\\n    <AccordionItem title=\\\"Item2\\\">\\n      <Button label=\\\"click\\\" type=\\\"info\\\"></Button>\\n    </AccordionItem>\\n\\n  </Accordion>\\n</template>\\n<script setup>\\nimport Accordion from \\\"../../../src/ipywui/components/Accordion\\\";\\nimport AccordionItem from \\\"../../../src/ipywui/components/AccordionItem\\\";\\nimport Slider from \\\"../../../src/ipywui/components/Slider\\\";\\nimport Input from \\\"../../../src/ipywui/components/Input\\\";\\nimport Button from \\\"../../../src/ipywui/components/Button\\\";\\n</script>\\n<script lang=\\\"py\\\">\\nfrom vuepy import ref\\n\\nselected = ref(1)\\n\\ndef on_change(event):\\n    print(event) # {'new': 1, 'old': 0, 'owner': Accordion(...)}\\n</script>\", \"setup\": 0}\n"
     ]
    },
    {
     "data": {
      "application/vnd.jupyter.widget-view+json": {
       "model_id": "23bc7ef5e0f348d692d04c5048d8df8c",
       "version_major": 2,
       "version_minor": 0
      },
      "text/plain": [
       "Document(children=(Dom(children=(MessageWidget(message_options={'message': '', 'type': 'info', 'show_close': F…"
      ]
     },
     "execution_count": 39,
     "metadata": {},
     "output_type": "execute_result"
    }
   ],
   "source": [
    "%vuepy_demo accordion/basic.vue"
   ]
  },
  {
   "cell_type": "markdown",
   "metadata": {},
   "source": [
    "### Component, Display\n",
    "\n",
    "支持IPython提供的所有display tools，如Video、Audio、HTML等，也可以用来集成并展示第三方组件。"
   ]
  },
  {
   "cell_type": "markdown",
   "metadata": {},
   "source": [
    "展示 matplotlib 绘制的图，并利用布局组件进行排列。"
   ]
  },
  {
   "cell_type": "code",
   "execution_count": 40,
   "metadata": {},
   "outputs": [
    {
     "name": "stdout",
     "output_type": "stream",
     "text": [
      "{\"vue\": \"<!-- display/matplotlib.vue -->\\n<template>\\n  <HBox>\\n    <Display :obj=\\\"plt1.value\\\"></Display>\\n    <Display :obj=\\\"plt2.value\\\"></Display>\\n  </HBox>\\n  <Display :obj=\\\"plt3.value\\\" multi_thread></Display>\\n</template>\\n\\n<script src=\\\"./matplotlib_setup.py\\\"></script>\\n<script setup>\\nimport Display from \\\"../../../src/ipywui/components/Display\\\";\\nimport HBox from \\\"../../../src/ipywui/components/HBox\\\";\\n</script>\", \"setup\": \"# ./matplotlib_setup.py\\n\\nimport matplotlib.pyplot as plt\\nimport numpy as np\\n\\nfrom vuepy import ref\\n\\n\\ndef plt_to_img(title, xlabel, ylabel):\\n    \\\"\\\"\\\"\\n    plt to matplotlib.figure.Figure\\n    \\\"\\\"\\\"\\n    plt.xlabel(xlabel)\\n    plt.ylabel(ylabel)\\n    plt.title(title)\\n    plt.grid(True)\\n    # plt.show()\\n    im = plt.gcf()\\n    plt.close()\\n    return im\\n\\n\\ndef plt_sin():\\n    x = np.arange(0, 5 * np.pi, 0.1)\\n    y = np.sin(x)\\n    plt.plot(x, y, color='green')\\n    return plt_to_img('Sine Curve using Matplotlib', 'x', 'sin(x)')\\n\\n\\ndef plt_cos():\\n    x = np.arange(0, 5 * np.pi, 0.1)\\n    y = np.cos(x)\\n    plt.plot(x, y, color='blue')\\n    return plt_to_img('Cosine Curve using Matplotlib', 'x', 'sin(x)')\\n\\n\\ndef plt_scatter():\\n    np.random.seed(1)\\n    data_x = np.random.randn(100)\\n    data_y = np.random.randn(100)\\n    plt.scatter(data_x, data_y, color='blue', alpha=0.5)\\n    return plt_to_img('Scatter Plot Example', 'x', 'y')\\n\\n\\ndef setup(props, ctx, vm):\\n    plt1 = ref(plt_sin())\\n    plt2 = ref(plt_scatter())\\n    plt3 = ref(plt_cos())\\n\\n    return locals()\\n\"}\n"
     ]
    },
    {
     "data": {
      "application/vnd.jupyter.widget-view+json": {
       "model_id": "a9cdcb1b7a8f4040b19477db99d43ca0",
       "version_major": 2,
       "version_minor": 0
      },
      "text/plain": [
       "Document(children=(Dom(children=(MessageWidget(message_options={'message': '', 'type': 'info', 'show_close': F…"
      ]
     },
     "execution_count": 40,
     "metadata": {},
     "output_type": "execute_result"
    }
   ],
   "source": [
    "%vuepy_demo display/matplotlib.vue"
   ]
  },
  {
   "cell_type": "markdown",
   "metadata": {},
   "source": [
    "展示 PIL 图片\n",
    "```vue\n",
    "<!-- pil.vue -->\n",
    "<template>\n",
    "  <Display :obj=\"pil_img\"></Display>\n",
    "</template>\n",
    "\n",
    "<script setup>\n",
    "import Display from \"../../../src/ipywui/components/Display\";\n",
    "</script>\n",
    "<script lang=\"py\">\n",
    "from PIL import Image\n",
    "\n",
    "pil_img = Image.open(\"jupyter_logo.jpg\")\n",
    "\n",
    "</script>\n",
    "```"
   ]
  },
  {
   "cell_type": "code",
   "execution_count": 41,
   "metadata": {},
   "outputs": [],
   "source": [
    "# %vuepy_demo display/pil.vue"
   ]
  },
  {
   "cell_type": "markdown",
   "metadata": {},
   "source": [
    "展示 Video、Audio"
   ]
  },
  {
   "cell_type": "code",
   "execution_count": 42,
   "metadata": {},
   "outputs": [
    {
     "name": "stdout",
     "output_type": "stream",
     "text": [
      "{\"vue\": \"<!-- display/video_audio.vue -->\\n<template>\\n  <Display :obj=\\\"video\\\"></Display>\\n  <p>\\u6ce8\\u610f\\uff1a\\u5148\\u8c03\\u8282\\u97f3\\u91cf</p>\\n  <Display :obj=\\\"audio\\\"></Display>\\n</template>\\n\\n<script setup>\\nimport Display from \\\"../../../src/ipywui/components/Display\\\";\\n</script>\\n<script lang=\\\"py\\\">\\nimport numpy as np\\nfrom IPython.display import Video\\nfrom IPython.display import Audio\\n\\nvideo_src = \\\"https://github.com/vuepy/vuepy/raw/refs/heads/master/examples/ipywui/display/sora.mp4\\\"\\nvideo = Video(video_src, width=350)\\n\\n# gen sound\\nsr = 22050\\nT = 0.5\\nt = np.linspace(0, T, int(T * sr), endpoint=False)\\nx = 0.5 * np.sin(2 * np.pi * 440 * t)\\n\\naudio = Audio(x, rate=sr)\\n\\n\\n</script>\\n\", \"setup\": 0}\n"
     ]
    },
    {
     "data": {
      "application/vnd.jupyter.widget-view+json": {
       "model_id": "3f90efe70cfe49e5bf8df2e856fa45c3",
       "version_major": 2,
       "version_minor": 0
      },
      "text/plain": [
       "Document(children=(Dom(children=(MessageWidget(message_options={'message': '', 'type': 'info', 'show_close': F…"
      ]
     },
     "execution_count": 42,
     "metadata": {},
     "output_type": "execute_result"
    }
   ],
   "source": [
    "%vuepy_demo display/video_audio.vue"
   ]
  },
  {
   "cell_type": "markdown",
   "metadata": {},
   "source": [
    "展示 Pandas Dataframe"
   ]
  },
  {
   "cell_type": "code",
   "execution_count": 43,
   "metadata": {},
   "outputs": [
    {
     "name": "stdout",
     "output_type": "stream",
     "text": [
      "{\"vue\": \"<!-- display/pandas-dataframe.vue -->\\n<template>\\n  <Display :obj=\\\"df1\\\"></Display>\\n  <Display :obj=\\\"df2\\\"></Display>\\n</template>\\n\\n<script setup>\\nimport Display from \\\"../../../src/ipywui/components/Display\\\";\\n</script>\\n<script lang=\\\"py\\\">\\nimport pandas as pd\\n\\ndf1 = pd.DataFrame(data={\\n    'col1': [1, 2],\\n    'col2': [3, 4],\\n    'col3': [5, 6],\\n})\\n\\ndf2 = pd.DataFrame(data={\\n    'col1': ['a', 'b'],\\n    'col2': ['c', 'd'],\\n    'col3': ['e', 'f'],\\n})\\n\\n</script>\\n\", \"setup\": 0}\n"
     ]
    },
    {
     "data": {
      "application/vnd.jupyter.widget-view+json": {
       "model_id": "59c6d907d1324f7d924178268077360d",
       "version_major": 2,
       "version_minor": 0
      },
      "text/plain": [
       "Document(children=(Dom(children=(MessageWidget(message_options={'message': '', 'type': 'info', 'show_close': F…"
      ]
     },
     "execution_count": 43,
     "metadata": {},
     "output_type": "execute_result"
    }
   ],
   "source": [
    "%vuepy_demo display/pandas-dataframe.vue"
   ]
  },
  {
   "cell_type": "markdown",
   "metadata": {},
   "source": [
    "利用 Display 组件集成基于 plotly 的绘图组件。"
   ]
  },
  {
   "cell_type": "code",
   "execution_count": 44,
   "metadata": {},
   "outputs": [
    {
     "name": "stdout",
     "output_type": "stream",
     "text": [
      "{\"vue\": \"<!-- display/plotly.vue -->\\n<template>\\n  <Dropdown v-model=\\\"freq.value\\\" :options=\\\"frequencies\\\" description=\\\"Frequency\\\"></Dropdown>\\n  <Slider v-model=\\\"amplitude.value\\\" description=\\\"Amplitude\\\"></Slider>\\n  <Display :obj=\\\"fig\\\"></Display>\\n</template>\\n\\n<script setup>\\nimport Display from \\\"../../../src/ipywui/components/Display\\\";\\nimport Dropdown from \\\"../../../src/ipywui/components/Dropdown\\\";\\nimport Slider from \\\"../../../src/ipywui/components/Slider\\\";\\n</script>\\n<script lang=\\\"py\\\">\\nimport plotly.graph_objects as go\\nimport numpy as np\\nfrom vuepy import ref, watch\\n\\nfrequencies = [1, 2, 3, 4]\\n\\nfreq = ref(frequencies[0])\\namplitude = ref(1.0)\\n\\nfig = go.FigureWidget()\\nx = np.linspace(0, 10, 400)\\nwaves = {f: np.sin(x * f) for f in frequencies}\\nfig.add_trace(go.Scatter(x=x, y=waves[freq.value], name=f'Frequency {freq.value}'))\\n\\n\\n@watch([freq, amplitude])\\ndef update_figure(new_val, _, __):\\n    frequency, amplitude = new_val\\n    fig.data[0].y = waves[frequency] * amplitude\\n    fig.data[0].name = f'Frequency {frequency} (Amp: {amplitude:.1f})'\\n    fig.update_layout(title=f'Interactive Sine Wave (Frequency: {frequency}, Amplitude: {amplitude:.1f})')\\n\\n</script>\\n\", \"setup\": 0}\n"
     ]
    },
    {
     "data": {
      "application/vnd.jupyter.widget-view+json": {
       "model_id": "a3d1b7b4a0fd4cdda94680a090aa84ff",
       "version_major": 2,
       "version_minor": 0
      },
      "text/plain": [
       "Document(children=(Dom(children=(MessageWidget(message_options={'message': '', 'type': 'info', 'show_close': F…"
      ]
     },
     "execution_count": 44,
     "metadata": {},
     "output_type": "execute_result"
    }
   ],
   "source": [
    "%vuepy_demo display/plotly.vue"
   ]
  },
  {
   "cell_type": "markdown",
   "metadata": {},
   "source": [
    "利用 Display 组件集成基于 ipywidgets 的任意 widget。"
   ]
  },
  {
   "cell_type": "code",
   "execution_count": 45,
   "metadata": {},
   "outputs": [
    {
     "name": "stdout",
     "output_type": "stream",
     "text": [
      "{\"vue\": \"<!-- display/ipywidgets.vue -->\\n<template>\\n<Display :obj=\\\"widget.value\\\"></Display>\\n</template>\\n\\n<script src=\\\"./ipywidgets_setup.py\\\"></script>\\n<script setup>\\nimport Display from \\\"../../../src/ipywui/components/Display\\\";\\n</script>\", \"setup\": \"# ./ipywidgets_setup.py\\n\\nimport ipywidgets as widgets\\nfrom IPython.display import display\\n\\nfrom vuepy import ref\\n\\n\\ndef setup(props, ctx, vm):\\n    a = widgets.IntSlider(description='a')\\n    b = widgets.IntSlider(description='b')\\n    c = widgets.IntSlider(description='c')\\n\\n    def f(a, b, c):\\n        html = '<p style=\\\"color: red\\\">{}*{}*{}={}</p>'.format(a, b, c, a * b * c)\\n        display(widgets.HTML(html))\\n\\n    out = widgets.interactive_output(f, {'a': a, 'b': b, 'c': c})\\n    vbox = widgets.VBox([widgets.VBox([a, b, c]), out])\\n    widget = ref(vbox)\\n\\n    return locals()\\n\"}\n"
     ]
    },
    {
     "data": {
      "application/vnd.jupyter.widget-view+json": {
       "model_id": "92992bb667dd42bca6ee8f4dd9d2a9ce",
       "version_major": 2,
       "version_minor": 0
      },
      "text/plain": [
       "Document(children=(Dom(children=(MessageWidget(message_options={'message': '', 'type': 'info', 'show_close': F…"
      ]
     },
     "execution_count": 45,
     "metadata": {},
     "output_type": "execute_result"
    }
   ],
   "source": [
    "%vuepy_demo display/ipywidgets.vue"
   ]
  },
  {
   "cell_type": "markdown",
   "metadata": {},
   "source": [
    "### Component, Image"
   ]
  },
  {
   "cell_type": "code",
   "execution_count": 46,
   "metadata": {},
   "outputs": [
    {
     "name": "stdout",
     "output_type": "stream",
     "text": [
      "{\"vue\": \"<!-- image/basic.vue -->\\n<template>\\n  <Image v-model=\\\"img.value\\\" format=\\\"png\\\" style=\\\"width: 200px\\\"></Image>\\n\\n  <Image\\n      v-model=\\\"img.value\\\" format=\\\"png\\\"\\n      style=\\\"width: 200px; border: 2px solid deepskyblue\\\"\\n  ></Image>\\n\\n  <Image\\n      v-model=\\\"img.value\\\" format=\\\"png\\\"\\n      :style=\\\"'width: 200px; border: 2px solid {}'.format('blue')\\\"\\n  ></Image>\\n</template>\\n\\n<script setup>\\nimport Image from \\\"../../../src/ipywui/components/Image\\\";\\n</script>\\n<script lang=\\\"py\\\">\\nfrom vuepy import ref\\n\\nfile = open(\\\"jupyter_logo.png\\\", \\\"rb\\\")\\nimg = ref(file.read())\\n</script>\", \"setup\": 0}\n"
     ]
    },
    {
     "data": {
      "application/vnd.jupyter.widget-view+json": {
       "model_id": "0c3aeb8273db4e6bbd6a8706a688c0ab",
       "version_major": 2,
       "version_minor": 0
      },
      "text/plain": [
       "Document(children=(Dom(children=(MessageWidget(message_options={'message': '', 'type': 'info', 'show_close': F…"
      ]
     },
     "execution_count": 46,
     "metadata": {},
     "output_type": "execute_result"
    }
   ],
   "source": [
    "%vuepy_demo image/basic.vue"
   ]
  },
  {
   "cell_type": "code",
   "execution_count": 47,
   "metadata": {},
   "outputs": [
    {
     "name": "stdout",
     "output_type": "stream",
     "text": [
      "{\"vue\": \"<!-- image/pil_img.vue -->\\n<template>\\n  <Image :value=\\\"pil_img\\\" style=\\\"width: 200px\\\"></Image>\\n</template>\\n\\n<script setup>\\nimport Image from \\\"../../../src/ipywui/components/Image\\\";\\n</script>\\n<script lang=\\\"py\\\">\\nfrom vuepy import ref\\nfrom PIL import Image\\n\\npil_img = Image.open(\\\"jupyter_logo.png\\\")\\n</script>\", \"setup\": 0}\n"
     ]
    },
    {
     "data": {
      "application/vnd.jupyter.widget-view+json": {
       "model_id": "5ec7f3b547ec49df9bece8e51f09ce42",
       "version_major": 2,
       "version_minor": 0
      },
      "text/plain": [
       "Document(children=(Dom(children=(MessageWidget(message_options={'message': '', 'type': 'info', 'show_close': F…"
      ]
     },
     "execution_count": 47,
     "metadata": {},
     "output_type": "execute_result"
    }
   ],
   "source": [
    "%vuepy_demo image/pil_img.vue"
   ]
  },
  {
   "cell_type": "code",
   "execution_count": 48,
   "metadata": {},
   "outputs": [
    {
     "name": "stdout",
     "output_type": "stream",
     "text": [
      "{\"vue\": \"<!-- image/numpy_ndarray.vue -->\\n<template>\\n  <Image :value=\\\"rgb_png\\\" width=\\\"30%\\\"></Image>\\n  <Image :value=\\\"gray_png\\\" width=\\\"100px\\\"></Image>\\n  <Image :value=\\\"img_png\\\" width=\\\"100px\\\"></Image>\\n</template>\\n\\n<script src=\\\"./numpy_ndarray.py\\\"></script>\\n<script>\\nimport Image from \\\"../../../src/ipywui/components/Image\\\";\\n</script>\\n\", \"setup\": \"# ./numpy_ndarray.py\\n\\nimport numpy as np\\nfrom PIL import Image\\n\\nfrom vuepy.utils.image_processer import convert_opencv_image_to_bin\\nfrom vuepy.utils.image_processer import convert_pil_image_to_bin\\n\\n\\ndef setup(props, ctx, vm):\\n    img_array = np.zeros([100, 100, 3], dtype=np.uint8)\\n    img_array[:, :, 2] = 200\\n    # ndarray to rgb img\\n    rgb_png = Image.fromarray(img_array, mode='RGB')\\n    # \\u5fc5\\u987b\\u6307\\u5b9aformat\\n    rgb_png.format = 'PNG'\\n\\n\\n    img_array = np.zeros([100, 100, 1], dtype=np.uint8)\\n    img_array += 122\\n    # ndarray to gray img\\n    img = Image.fromarray(img_array.squeeze(), 'L')\\n    gray_png = convert_pil_image_to_bin(img, 'PNG')\\n\\n\\n    import cv2 as cv\\n    cv_img = cv.imread(\\\"jupyter_logo.png\\\", cv.IMREAD_UNCHANGED)\\n\\n    # method1: opencv to pil\\n    img_png = Image.fromarray(cv.cvtColor(cv_img, cv.COLOR_BGRA2RGBA))\\n    img_png.format = \\\"PNG\\\"\\n\\n    # # method2: opencv to bin\\n    # img_png = convert_opencv_image_to_bin(cv_img, '.png')\\n\\n    return locals()\\n\"}\n"
     ]
    },
    {
     "data": {
      "application/vnd.jupyter.widget-view+json": {
       "model_id": "bcacf085d89c43a8afc09bfd2c1bd3a8",
       "version_major": 2,
       "version_minor": 0
      },
      "text/plain": [
       "Document(children=(Dom(children=(MessageWidget(message_options={'message': '', 'type': 'info', 'show_close': F…"
      ]
     },
     "execution_count": 48,
     "metadata": {},
     "output_type": "execute_result"
    }
   ],
   "source": [
    "%vuepy_demo image/numpy_ndarray.vue"
   ]
  },
  {
   "cell_type": "markdown",
   "metadata": {},
   "source": [
    "### Component, Label"
   ]
  },
  {
   "cell_type": "code",
   "execution_count": 49,
   "metadata": {},
   "outputs": [
    {
     "name": "stdout",
     "output_type": "stream",
     "text": [
      "{\"vue\": \"<!-- label/basic.vue -->\\n<template>\\n  <HBox>\\n    <Label>The $E=mc^2$ </Label><Slider :value=\\\"1.0\\\"></Slider>\\n  </HBox>\\n  <HBox>\\n    <Label>Value {{ val.value }}</Label><Slider v-model=\\\"val.value\\\"></Slider>\\n  </HBox>\\n  <HBox>\\n    <Label value=\\\"slider\\\"></Label><Slider :value=\\\"1.0\\\"></Slider>\\n  </HBox>\\n</template>\\n\\n<script setup>\\nimport Label from \\\"../../../src/ipywui/components/Label\\\";\\nimport Slider from \\\"../../../src/ipywui/components/Slider\\\";\\nimport HBox from \\\"../../../src/ipywui/components/HBox\\\";\\n</script>\\n<script lang=\\\"py\\\">\\nfrom vuepy import ref\\n\\nval = ref(1)\\n</script>\", \"setup\": 0}\n"
     ]
    },
    {
     "data": {
      "application/vnd.jupyter.widget-view+json": {
       "model_id": "aa28f3830b3a4900b9673d94411b3c07",
       "version_major": 2,
       "version_minor": 0
      },
      "text/plain": [
       "Document(children=(Dom(children=(MessageWidget(message_options={'message': '', 'type': 'info', 'show_close': F…"
      ]
     },
     "execution_count": 49,
     "metadata": {},
     "output_type": "execute_result"
    }
   ],
   "source": [
    "%vuepy_demo label/basic.vue"
   ]
  },
  {
   "cell_type": "code",
   "execution_count": 50,
   "metadata": {},
   "outputs": [
    {
     "name": "stdout",
     "output_type": "stream",
     "text": [
      "{\"vue\": \"<!-- label/custom.vue -->\\n<template>\\n  <Label value=\\\"background lightblue\\\" style=\\\"background: lightblue\\\"></Label>\\n  <Label value=\\\"description-width: 100px\\\" style=\\\"description-width: 100px\\\"></Label>\\n  <Label value=\\\"font-size 16px\\\" style=\\\"font-size: 16px\\\"></Label>\\n  <Label value=\\\"font-style italic\\\" style=\\\"font-style: italic\\\"></Label>\\n  <Label value=\\\"font-weight bold\\\" style=\\\"font-weight: bold\\\"></Label>\\n  <Label value=\\\"color red\\\" style=\\\"color: red\\\"></Label>\\n  <Label value=\\\"text-decoration: underline\\\" style=\\\"text-decoration: underline\\\"></Label>\\n</template>\\n\\n<script setup>\\nimport Label from \\\"../../../src/ipywui/components/Label\\\";\\n</script>\", \"setup\": 0}\n"
     ]
    },
    {
     "data": {
      "application/vnd.jupyter.widget-view+json": {
       "model_id": "ec92946e5da545ab9dcdc55c5dfee0ca",
       "version_major": 2,
       "version_minor": 0
      },
      "text/plain": [
       "Document(children=(Dom(children=(MessageWidget(message_options={'message': '', 'type': 'info', 'show_close': F…"
      ]
     },
     "execution_count": 50,
     "metadata": {},
     "output_type": "execute_result"
    }
   ],
   "source": [
    "%vuepy_demo label/custom.vue"
   ]
  },
  {
   "cell_type": "markdown",
   "metadata": {},
   "source": [
    "### Component, MarkdownViewer"
   ]
  },
  {
   "cell_type": "code",
   "execution_count": 51,
   "metadata": {},
   "outputs": [
    {
     "name": "stdout",
     "output_type": "stream",
     "text": [
      "{\"vue\": \"<!-- markdown_viewer/basic.vue -->\\n<template>\\n  <HBox>\\n    <Input v-model=\\\"md.value\\\" type=\\\"textarea\\\" style=\\\"height: 400px\\\">\\n    </Input>\\n    <MarkdownViewer :value=\\\"md.value\\\"></MarkdownViewer>\\n  </HBox>\\n</template>\\n\\n<script src=\\\"./basic_setup.py\\\"></script>\\n<script setup>\\nimport Input from \\\"../../../src/ipywui/components/Input\\\";\\nimport MarkdownViewer from\\n      \\\"../../../src/ipywui/components/MarkdownViewer\\\";\\nimport HBox from \\\"../../../src/ipywui/components/HBox\\\";\\n</script>\", \"setup\": \"# ./basic_setup.py\\n\\nfrom vuepy import ref\\n\\nmd_src = r\\\"\\\"\\\"\\n### H3\\n\\nThis is a **bold** text and this is an *italic* text.   \\nlink to [vuepy](https://github.com/vuepy)\\n\\n### Code\\n\\n    def foo():\\n        print(\\\"hello world\\\")\\n        return 1\\n\\n### List\\n\\n- item1\\n- item2\\n\\n### LaTeX\\n$$\\na > b,b > c \\\\Rightarrow a > c \\n$$\\n\\n$$\\n\\\\begin{array}{c} \\n  \\\\forall A \\\\in S \\\\\\\\ \\n  P \\\\left( A \\\\right) \\\\ge 0 \\n\\\\end{array}\\n$$\\n\\\"\\\"\\\"\\n\\ndef setup(props, ctx, vm):\\n    md = ref(md_src)\\n    return locals()\\n\"}\n"
     ]
    },
    {
     "data": {
      "application/vnd.jupyter.widget-view+json": {
       "model_id": "a16c9f89a36b4982a460f97f9d79d64e",
       "version_major": 2,
       "version_minor": 0
      },
      "text/plain": [
       "Document(children=(Dom(children=(MessageWidget(message_options={'message': '', 'type': 'info', 'show_close': F…"
      ]
     },
     "execution_count": 51,
     "metadata": {},
     "output_type": "execute_result"
    }
   ],
   "source": [
    "%vuepy_demo markdown_viewer/basic.vue"
   ]
  },
  {
   "cell_type": "markdown",
   "metadata": {},
   "source": [
    "### Component, Play"
   ]
  },
  {
   "cell_type": "code",
   "execution_count": 52,
   "metadata": {},
   "outputs": [
    {
     "name": "stdout",
     "output_type": "stream",
     "text": [
      "{\"vue\": \"<!-- play/basic.vue -->\\n<template>\\n  <VBox>\\n    <Input :value=\\\"str(frame.value)\\\"></Input>\\n    <Play label=\\\"int\\\"\\n          v-model=\\\"frame.value\\\"\\n          :min=\\\"1\\\"\\n          :max=\\\"10\\\"\\n          :step=\\\"1\\\"\\n          :interval=\\\"500\\\"\\n    ></Play>\\n\\n    <Input :value=\\\"str(frame2.value)\\\"></Input>\\n    <Play label=\\\"int\\\"\\n          v-model=\\\"frame2.value\\\"\\n          :min=\\\"1\\\"\\n          :max=\\\"10\\\"\\n          :step=\\\"1\\\"\\n          :interval=\\\"1000\\\"\\n    ></Play>\\n  </VBox>\\n</template>\\n\\n<script src=\\\"./basic_setup.py\\\"></script>\\n<script setup>\\nimport VBox from \\\"../../../src/ipywui/components/VBox\\\";\\nimport Play from \\\"../../../src/ipywui/components/Play\\\";\\nimport Input from \\\"../../../src/ipywui/components/Input\\\";\\n</script>\", \"setup\": \"# ./basic_setup.py\\n\\nfrom vuepy import ref\\n\\n\\ndef setup(props, ctx, vm):\\n    frame = ref(1)\\n    frame2 = ref(1)\\n    return locals()\\n\"}\n"
     ]
    },
    {
     "data": {
      "application/vnd.jupyter.widget-view+json": {
       "model_id": "c1546bbd6baa4bfeb062e06cf03405b0",
       "version_major": 2,
       "version_minor": 0
      },
      "text/plain": [
       "Document(children=(Dom(children=(MessageWidget(message_options={'message': '', 'type': 'info', 'show_close': F…"
      ]
     },
     "execution_count": 52,
     "metadata": {},
     "output_type": "execute_result"
    }
   ],
   "source": [
    "%vuepy_demo play/basic.vue"
   ]
  },
  {
   "cell_type": "markdown",
   "metadata": {},
   "source": [
    "### Component, Progress"
   ]
  },
  {
   "cell_type": "code",
   "execution_count": 53,
   "metadata": {},
   "outputs": [
    {
     "name": "stdout",
     "output_type": "stream",
     "text": [
      "{\"vue\": \"<!-- progress/basic.vue -->\\n<template>\\n  <VBox>\\n    <Progress label=\\\"Default\\\"\\n              :value=\\\"80\\\" :min=\\\"1\\\" :max=\\\"100\\\"></Progress>\\n\\n    <Progress label=\\\"Info\\\" type=\\\"info\\\"\\n              :value=\\\"60\\\" :min=\\\"1\\\" :max=\\\"100\\\"></Progress>\\n\\n    <Progress label=\\\"Success\\\" type=\\\"success\\\"\\n              :value=\\\"50\\\" :min=\\\"1\\\" :max=\\\"100\\\"></Progress>\\n\\n    <Progress label=\\\"Warning\\\" type=\\\"warning\\\"\\n              :value=\\\"40\\\" :min=\\\"1\\\" :max=\\\"100\\\"></Progress>\\n\\n    <Progress label=\\\"Danger\\\" type=\\\"danger\\\"\\n              :value=\\\"30\\\" :min=\\\"1\\\" :max=\\\"100\\\"></Progress>\\n  </VBox>\\n</template>\\n\\n<script src=\\\"./basic_setup.py\\\"></script>\\n<script setup>\\nimport Progress from \\\"../../../src/ipywui/components/Progress\\\";\\nimport VBox from \\\"../../../src/ipywui/components/VBox\\\";\\n</script>\", \"setup\": \"# ./basic_setup.py\\n\\nfrom vuepy import ref\\n\\n\\ndef setup(props, ctx, vm):\\n    progress = ref(0)\\n    return locals()\\n\"}\n"
     ]
    },
    {
     "data": {
      "application/vnd.jupyter.widget-view+json": {
       "model_id": "42cc0918fee54d3a810c868d7bbe0cb2",
       "version_major": 2,
       "version_minor": 0
      },
      "text/plain": [
       "Document(children=(Dom(children=(MessageWidget(message_options={'message': '', 'type': 'info', 'show_close': F…"
      ]
     },
     "execution_count": 53,
     "metadata": {},
     "output_type": "execute_result"
    }
   ],
   "source": [
    "%vuepy_demo progress/basic.vue"
   ]
  },
  {
   "cell_type": "code",
   "execution_count": 54,
   "metadata": {},
   "outputs": [
    {
     "name": "stdout",
     "output_type": "stream",
     "text": [
      "{\"vue\": \"<!-- progress/vertical.vue -->\\n\\n<template>\\n  <HBox>\\n    <Progress label=\\\"Default\\\" vertical\\n              :value=\\\"80\\\" :min=\\\"1\\\" :max=\\\"100\\\"></Progress>\\n\\n    <Progress label=\\\"Info\\\" type=\\\"info\\\" vertical\\n              :value=\\\"60\\\" :min=\\\"1\\\" :max=\\\"100\\\"></Progress>\\n\\n    <Progress label=\\\"Success\\\" type=\\\"success\\\" vertical\\n              :value=\\\"50\\\" :min=\\\"1\\\" :max=\\\"100\\\"></Progress>\\n\\n    <Progress label=\\\"Warning\\\" type=\\\"warning\\\" vertical\\n              :value=\\\"40\\\" :min=\\\"1\\\" :max=\\\"100\\\"></Progress>\\n\\n    <Progress label=\\\"Danger\\\" type=\\\"danger\\\" vertical\\n              :value=\\\"30\\\" :min=\\\"1\\\" :max=\\\"100\\\"></Progress>\\n  </HBox>\\n</template>\\n\\n<script src=\\\"./basic_setup.py\\\"></script>\\n<script setup>\\nimport Progress from \\\"../../../src/ipywui/components/Progress\\\";\\nimport HBox from \\\"../../../src/ipywui/components/HBox\\\";\\n</script>\", \"setup\": \"# ./basic_setup.py\\n\\nfrom vuepy import ref\\n\\n\\ndef setup(props, ctx, vm):\\n    progress = ref(0)\\n    return locals()\\n\"}\n"
     ]
    },
    {
     "data": {
      "application/vnd.jupyter.widget-view+json": {
       "model_id": "f4f2f5ea58af4c438554bc8a5b4be62e",
       "version_major": 2,
       "version_minor": 0
      },
      "text/plain": [
       "Document(children=(Dom(children=(MessageWidget(message_options={'message': '', 'type': 'info', 'show_close': F…"
      ]
     },
     "execution_count": 54,
     "metadata": {},
     "output_type": "execute_result"
    }
   ],
   "source": [
    "%vuepy_demo progress/vertical.vue"
   ]
  },
  {
   "cell_type": "code",
   "execution_count": 55,
   "metadata": {},
   "outputs": [
    {
     "name": "stdout",
     "output_type": "stream",
     "text": [
      "{\"vue\": \"<!-- progress/custom.vue -->\\n\\n<template>\\n  <VBox>\\n    <Progress label=\\\"lightblue\\\"\\n              style=\\\"color: lightblue\\\"\\n              :value=\\\"80\\\" :min=\\\"1\\\" :max=\\\"100\\\"></Progress>\\n\\n    <Progress label=\\\"#8a54a8\\\"\\n              style=\\\"color: #8a54a8\\\"\\n              :value=\\\"60\\\" :min=\\\"1\\\" :max=\\\"100\\\"></Progress>\\n  </VBox>\\n</template>\", \"setup\": 0}\n"
     ]
    },
    {
     "data": {
      "application/vnd.jupyter.widget-view+json": {
       "model_id": "e0fd422a6ea94e349658e649b32fd2ab",
       "version_major": 2,
       "version_minor": 0
      },
      "text/plain": [
       "Document(children=(Dom(children=(MessageWidget(message_options={'message': '', 'type': 'info', 'show_close': F…"
      ]
     },
     "execution_count": 55,
     "metadata": {},
     "output_type": "execute_result"
    }
   ],
   "source": [
    "%vuepy_demo progress/custom.vue"
   ]
  },
  {
   "cell_type": "markdown",
   "metadata": {},
   "source": [
    "### Component, Valid"
   ]
  },
  {
   "cell_type": "code",
   "execution_count": 56,
   "metadata": {},
   "outputs": [
    {
     "name": "stdout",
     "output_type": "stream",
     "text": [
      "{\"vue\": \"<!-- valid/basic.vue -->\\n<template>\\n  <Valid :value=\\\"True\\\" description=\\\"Valid\\\"></Valid>\\n  <Valid :value=\\\"False\\\" description=\\\"Invalid\\\"></Valid>\\n</template>\\n\\n<script setup>\\nimport Valid from \\\"../../../src/ipywui/components/Valid\\\";\\n</script>\", \"setup\": 0}\n"
     ]
    },
    {
     "data": {
      "application/vnd.jupyter.widget-view+json": {
       "model_id": "551ece5c85b743b78855c7cdedc27302",
       "version_major": 2,
       "version_minor": 0
      },
      "text/plain": [
       "Document(children=(Dom(children=(MessageWidget(message_options={'message': '', 'type': 'info', 'show_close': F…"
      ]
     },
     "execution_count": 56,
     "metadata": {},
     "output_type": "execute_result"
    }
   ],
   "source": [
    "%vuepy_demo valid/basic.vue"
   ]
  },
  {
   "cell_type": "markdown",
   "metadata": {},
   "source": [
    "### Component, Dropdown\n",
    "\n",
    "v-model 或初始值必须是 options 中的值或者为`None`"
   ]
  },
  {
   "cell_type": "code",
   "execution_count": 57,
   "metadata": {},
   "outputs": [
    {
     "name": "stdout",
     "output_type": "stream",
     "text": [
      "{\"vue\": \"<!-- dropdown/basic.vue -->\\n<template>\\n  <VBox>\\n    <Dropdown description=\\\"dropdown1\\\"\\n              v-model=\\\"choice1.value\\\"\\n              :options=\\\"dropdown_items1\\\"\\n              @change=\\\"on_change\\\"\\n    ></Dropdown>\\n\\n    <Dropdown description=\\\"dropdown2\\\"\\n              v-model=\\\"choice2.value\\\"\\n              :options=\\\"dropdown_items2\\\"\\n              @change=\\\"on_change2\\\"\\n    ></Dropdown>\\n  </VBox>\\n</template>\\n\\n<script src=\\\"./basic_setup.py\\\"></script>\\n<script setup>\\nimport VBox from \\\"../../../src/ipywui/components/VBox\\\";\\nimport Dropdown from \\\"../../../src/ipywui/components/Dropdown\\\";\\n</script>\", \"setup\": \"# ./basic_setup.py\\n\\nfrom vuepy import ref\\n\\n\\ndef setup(props, ctx, vm):\\n    dropdown_items1 = ['A', 'B', 'C']\\n    choice1 = ref(dropdown_items1[0])\\n\\n    # list of (name, val)\\n    dropdown_items2 = [('One', 1), ('Two', 2), ('Three', 3)]\\n    choice2 = ref(dropdown_items2[0][1])\\n\\n    def on_change(event):\\n        print(event) # {'new': 'A', 'old': 'B', 'owner': Dropdown(...)}\\n\\n    def on_change2(event):\\n        print(event) # {'new': 1, 'old': 2, 'owner': Dropdown(...)}\\n\\n    return locals()\\n\"}\n"
     ]
    },
    {
     "data": {
      "application/vnd.jupyter.widget-view+json": {
       "model_id": "4596a1371077417caf3585ab40e88a27",
       "version_major": 2,
       "version_minor": 0
      },
      "text/plain": [
       "Document(children=(Dom(children=(MessageWidget(message_options={'message': '', 'type': 'info', 'show_close': F…"
      ]
     },
     "execution_count": 57,
     "metadata": {},
     "output_type": "execute_result"
    }
   ],
   "source": [
    "%vuepy_demo dropdown/basic.vue"
   ]
  },
  {
   "cell_type": "markdown",
   "metadata": {},
   "source": [
    "### Component, Tabs"
   ]
  },
  {
   "cell_type": "code",
   "execution_count": 58,
   "metadata": {},
   "outputs": [
    {
     "name": "stdout",
     "output_type": "stream",
     "text": [
      "{\"vue\": \"<!-- tabs/basic.vue -->\\n<template>\\n  <Tabs v-model=\\\"selected.value\\\" @change=\\\"on_change\\\">\\n    <TabPane title=\\\"Tab1\\\">\\n      <Slider description=\\\"slider\\\"></Slider>\\n    </TabPane>\\n\\n    <TabPane title=\\\"Tab2\\\">\\n      <Input placeholder=\\\"input\\\"></Input>\\n    </TabPane>\\n\\n    <TabPane title=\\\"Tab3\\\">\\n      <Button label=\\\"click\\\" type=\\\"info\\\"></Button>\\n    </TabPane>\\n\\n  </Tabs>\\n</template>\\n\\n<script setup>\\nimport Tabs from \\\"../../../src/ipywui/components/Tabs\\\";\\nimport TabPane from \\\"../../../src/ipywui/components/TabPane\\\";\\nimport Slider from \\\"../../../src/ipywui/components/Slider\\\";\\nimport Input from \\\"../../../src/ipywui/components/Input\\\";\\nimport Button from \\\"../../../src/ipywui/components/Button\\\";\\n</script>\\n<script lang=\\\"py\\\">\\nfrom vuepy import ref\\n\\nselected = ref(1)\\n\\ndef on_change(event):\\n    # get selected index\\n    print(event) # {'new': 0, 'old': 1, 'owner': Tabs(...)}\\n\\n</script>\", \"setup\": 0}\n"
     ]
    },
    {
     "data": {
      "application/vnd.jupyter.widget-view+json": {
       "model_id": "0fce7780a37547be898e00d0d3dde38d",
       "version_major": 2,
       "version_minor": 0
      },
      "text/plain": [
       "Document(children=(Dom(children=(MessageWidget(message_options={'message': '', 'type': 'info', 'show_close': F…"
      ]
     },
     "execution_count": 58,
     "metadata": {},
     "output_type": "execute_result"
    }
   ],
   "source": [
    "%vuepy_demo tabs/basic.vue"
   ]
  },
  {
   "cell_type": "markdown",
   "metadata": {},
   "source": [
    "### Component, Stack"
   ]
  },
  {
   "cell_type": "code",
   "execution_count": 59,
   "metadata": {},
   "outputs": [
    {
     "name": "stdout",
     "output_type": "stream",
     "text": [
      "{\"vue\": \"<!-- stack/basic.vue -->\\n<template>\\n  <HBox>\\n    <Button label=\\\"s1\\\" style=\\\"width: auto\\\" @click=\\\"to('s1')\\\"></Button>\\n    <Button label=\\\"s2\\\" style=\\\"width: auto\\\" @click=\\\"to('s2')\\\"></Button>\\n    <Button label=\\\"s3\\\" style=\\\"width: auto\\\" @click=\\\"to('s3')\\\"></Button>\\n  </HBox>\\n\\n  <Stack v-model=\\\"selected.value\\\" @change=\\\"on_change\\\">\\n    <StackItem label=\\\"s1\\\">\\n      <Slider description=\\\"s1 slider\\\"></Slider>\\n    </StackItem>\\n\\n    <StackItem label=\\\"s2\\\">\\n      <Input placeholder=\\\"s2 input\\\"></Input>\\n    </StackItem>\\n\\n    <StackItem label=\\\"s3\\\">\\n      <Button label=\\\"s3 click\\\" type=\\\"info\\\"></Button>\\n    </StackItem>\\n\\n  </Stack>\\n</template>\\n\\n<script setup>\\nimport Stack from \\\"../../../src/ipywui/components/Stack\\\";\\nimport StackItem from \\\"../../../src/ipywui/components/StackItem\\\";\\nimport Slider from \\\"../../../src/ipywui/components/Slider\\\";\\nimport Input from \\\"../../../src/ipywui/components/Input\\\";\\nimport Button from \\\"../../../src/ipywui/components/Button\\\";\\nimport HBox from \\\"../../../src/ipywui/components/HBox\\\";\\n</script>\\n<script lang=\\\"py\\\">\\nfrom vuepy import ref\\n\\nselected = ref('s1')\\n\\ndef to(label):\\n    selected.value = label\\n\\ndef on_change(event):\\n    # get selected index\\n    print(event) # {'new': 1, 'old': 0, 'owner': Stack(...)}\\n\\n</script>\", \"setup\": 0}\n"
     ]
    },
    {
     "data": {
      "application/vnd.jupyter.widget-view+json": {
       "model_id": "52fc5dcdc62540618d6d2cc42c32861c",
       "version_major": 2,
       "version_minor": 0
      },
      "text/plain": [
       "Document(children=(Dom(children=(MessageWidget(message_options={'message': '', 'type': 'info', 'show_close': F…"
      ]
     },
     "execution_count": 59,
     "metadata": {},
     "output_type": "execute_result"
    }
   ],
   "source": [
    "%vuepy_demo stack/basic.vue"
   ]
  },
  {
   "cell_type": "markdown",
   "metadata": {},
   "source": [
    "### Component, Dialog"
   ]
  },
  {
   "cell_type": "code",
   "execution_count": 60,
   "metadata": {},
   "outputs": [
    {
     "name": "stdout",
     "output_type": "stream",
     "text": [
      "{\"vue\": \"<!-- dialog/basic.vue -->\\n<template>\\n  <Button label=\\\"show dialog\\\" type='info' @click=\\\"show()\\\"></Button>\\n  <Label value=\\\"Placeholder\\\" style=\\\"height: 200px\\\"></Label>\\n  <Dialog title=\\\"Shipping address\\\" v-model=\\\"is_show.value\\\" width=\\\"55%\\\">\\n    <template>\\n      <Input placeholder=\\\"name\\\"></Input>\\n    </template>\\n    <template v-slot:footer>\\n      <HBox>\\n        <Button label=\\\"Cancel\\\" type=\\\"warning\\\" @click=\\\"close()\\\"></Button>\\n        <Button label=\\\"Ok\\\" type=\\\"info\\\" @click=\\\"close()\\\"></Button>\\n      </HBox>\\n    </template>\\n  </Dialog>\\n</template>\\n\\n<script src=\\\"./basic_setup.py\\\"></script>\\n<script setup>\\nimport Dialog from \\\"../../../src/ipywui/components/Dialog\\\";\\nimport Button from \\\"../../../src/ipywui/components/Button\\\";\\nimport Label from \\\"../../../src/ipywui/components/Label\\\";\\nimport Input from \\\"../../../src/ipywui/components/Input\\\";\\nimport HBox from \\\"../../../src/ipywui/components/HBox\\\";\\n</script>\", \"setup\": \"# ./basic_setup.py\\n\\nfrom vuepy import ref\\n\\n\\ndef setup(props, ctx, vm):\\n    is_show = ref(True)\\n\\n    def show():\\n        is_show.value = True\\n\\n    def close():\\n        is_show.value = False\\n\\n    return locals()\\n\"}\n"
     ]
    },
    {
     "data": {
      "application/vnd.jupyter.widget-view+json": {
       "model_id": "91e8708e691940bf86dd19097cf1115e",
       "version_major": 2,
       "version_minor": 0
      },
      "text/plain": [
       "Document(children=(Dom(children=(MessageWidget(message_options={'message': '', 'type': 'info', 'show_close': F…"
      ]
     },
     "execution_count": 60,
     "metadata": {},
     "output_type": "execute_result"
    }
   ],
   "source": [
    "%vuepy_demo dialog/basic.vue"
   ]
  },
  {
   "cell_type": "code",
   "execution_count": 61,
   "metadata": {},
   "outputs": [
    {
     "name": "stdout",
     "output_type": "stream",
     "text": [
      "{\"vue\": \"<!-- dialog/events.vue -->\\n<template>\\n  <Button label=\\\"show dialog\\\" type='info' @click=\\\"show()\\\"></Button>\\n  <Label :value=\\\"state.value\\\" style=\\\"height: 200px\\\"></Label>\\n  <Dialog title=\\\"Shipping address\\\" v-model=\\\"is_show.value\\\" width=\\\"55%\\\"\\n          @close=\\\"handle_close()\\\"\\n          @open=\\\"handle_open()\\\"\\n  >\\n    <template>\\n      <Input placeholder=\\\"name\\\"></Input>\\n    </template>\\n    <template v-slot:footer>\\n      <HBox>\\n        <Button label=\\\"Cancel\\\" type=\\\"warning\\\" @click=\\\"close()\\\"></Button>\\n        <Button label=\\\"Ok\\\" type=\\\"info\\\" @click=\\\"close()\\\"></Button>\\n      </HBox>\\n    </template>\\n  </Dialog>\\n</template>\\n\\n<script src=\\\"./events_setup.py\\\"></script>\\n<script setup>\\nimport Dialog from \\\"../../../src/ipywui/components/Dialog\\\";\\nimport Button from \\\"../../../src/ipywui/components/Button\\\";\\nimport Label from \\\"../../../src/ipywui/components/Label\\\";\\nimport Input from \\\"../../../src/ipywui/components/Input\\\";\\nimport HBox from \\\"../../../src/ipywui/components/HBox\\\";\\n</script>\", \"setup\": \"# ./events_setup.py\\n\\nfrom vuepy import ref\\n\\n\\ndef setup(props, ctx, vm):\\n    is_show = ref(True)\\n\\n    state = ref(\\\"-\\\")\\n\\n    def show():\\n        is_show.value = True\\n\\n    def close():\\n        is_show.value = False\\n\\n    def handle_open():\\n        state.value = 'open'\\n\\n    def handle_close():\\n        state.value = 'close'\\n\\n    return locals()\\n\"}\n"
     ]
    },
    {
     "data": {
      "application/vnd.jupyter.widget-view+json": {
       "model_id": "730fef2987e242ceae8d7d0b39be88b7",
       "version_major": 2,
       "version_minor": 0
      },
      "text/plain": [
       "Document(children=(Dom(children=(MessageWidget(message_options={'message': '', 'type': 'info', 'show_close': F…"
      ]
     },
     "execution_count": 61,
     "metadata": {},
     "output_type": "execute_result"
    }
   ],
   "source": [
    "%vuepy_demo dialog/events.vue"
   ]
  },
  {
   "cell_type": "markdown",
   "metadata": {},
   "source": [
    "### Component, Message "
   ]
  },
  {
   "cell_type": "code",
   "execution_count": 62,
   "metadata": {},
   "outputs": [
    {
     "name": "stdout",
     "output_type": "stream",
     "text": [
      "{\"vue\": \"<!-- message/basic.vue -->\\n<template>\\n  <Button label=\\\"Show Message\\\" type=\\\"info\\\" @click=\\\"show_msg()\\\"></Button>\\n  <Label value=\\\"\\\" style=\\\"height: 80px\\\"></Label>\\n</template>\\n\\n<script src=\\\"./basic_setup.py\\\"></script>\\n<script setup>\\nimport Button from \\\"../../../src/ipywui/components/Button\\\";\\nimport Label from \\\"../../../src/ipywui/components/Label\\\";\\n</script>\", \"setup\": \"# ./basic_setup.py\\n\\n\\ndef setup(props, ctx, vm):\\n    def show_msg():\\n        vm.message.info({\\n            'message': 'This is message.',\\n            'duration': 2000,\\n        })\\n\\n    return locals()\\n\"}\n"
     ]
    },
    {
     "data": {
      "application/vnd.jupyter.widget-view+json": {
       "model_id": "7b06cb3707a3408da3d2a87bb39bd9c0",
       "version_major": 2,
       "version_minor": 0
      },
      "text/plain": [
       "Document(children=(Dom(children=(MessageWidget(message_options={'message': '', 'type': 'info', 'show_close': F…"
      ]
     },
     "execution_count": 62,
     "metadata": {},
     "output_type": "execute_result"
    }
   ],
   "source": [
    "%vuepy_demo message/basic.vue"
   ]
  },
  {
   "cell_type": "code",
   "execution_count": 63,
   "metadata": {},
   "outputs": [
    {
     "name": "stdout",
     "output_type": "stream",
     "text": [
      "{\"vue\": \"<!-- message/different-types.vue -->\\n<template>\\n  <Button label=\\\"Success\\\" type=\\\"info\\\" @click=\\\"show_success()\\\"></Button>\\n  <Button label=\\\"Info\\\" type=\\\"info\\\" @click=\\\"show_info()\\\"></Button>\\n  <Button label=\\\"Warning\\\" type=\\\"info\\\" @click=\\\"show_warning()\\\"></Button>\\n  <Button label=\\\"Error\\\" type=\\\"info\\\" @click=\\\"show_error()\\\"></Button>\\n  <Label value=\\\"\\\" style=\\\"height: 80px\\\"></Label>\\n</template>\\n\\n<script src=\\\"./different_types_setup.py\\\"></script>\\n<script setup>\\nimport Button from \\\"../../../src/ipywui/components/Button\\\";\\nimport Label from \\\"../../../src/ipywui/components/Label\\\";\\n</script>\", \"setup\": \"# ./different_types_setup.py\\n\\n\\ndef setup(props, ctx, vm):\\n    def show_success():\\n        vm.message.success({\\n            'message': 'Congrats, this is a success message.',\\n        })\\n\\n    def show_info():\\n        vm.message.info({\\n            'message': 'This is message.',\\n        })\\n\\n    def show_warning():\\n        vm.message.warning({\\n            'message': 'Warning, this is a warning message.',\\n        })\\n\\n    def show_error():\\n        vm.message.error({\\n            'message': 'Oops, this is a error message.',\\n        })\\n\\n    return locals()\\n\"}\n"
     ]
    },
    {
     "data": {
      "application/vnd.jupyter.widget-view+json": {
       "model_id": "194b95e0e5fc4dad9cf8a7f384383844",
       "version_major": 2,
       "version_minor": 0
      },
      "text/plain": [
       "Document(children=(Dom(children=(MessageWidget(message_options={'message': '', 'type': 'info', 'show_close': F…"
      ]
     },
     "execution_count": 63,
     "metadata": {},
     "output_type": "execute_result"
    }
   ],
   "source": [
    "%vuepy_demo message/different-types.vue"
   ]
  },
  {
   "cell_type": "code",
   "execution_count": 64,
   "metadata": {},
   "outputs": [
    {
     "name": "stdout",
     "output_type": "stream",
     "text": [
      "{\"vue\": \"<!-- message/closeable.vue -->\\n<template>\\n  <Button label=\\\"show\\\" type=\\\"info\\\" @click=\\\"show()\\\"></Button>\\n  <Label value=\\\"\\\" style=\\\"height: 80px\\\"></Label>\\n</template>\\n\\n<script src=\\\"./closeable_setup.py\\\"></script>\\n<script setup>\\nimport Button from \\\"../../../src/ipywui/components/Button\\\";\\nimport Label from \\\"../../../src/ipywui/components/Label\\\";\\n</script>\", \"setup\": \"# ./closeable_setup.py\\n\\n\\ndef setup(props, ctx, vm):\\n    def show():\\n        msg = vm.message.success({\\n            'message': 'Congrats, this is a success message.',\\n            'show_close': True,\\n        })\\n        # tips: you can use msg.close() to close the message box\\n        # msg.close()\\n\\n    return locals()\\n\"}\n"
     ]
    },
    {
     "data": {
      "application/vnd.jupyter.widget-view+json": {
       "model_id": "da0cf464000b4d85a4a38c0561d87103",
       "version_major": 2,
       "version_minor": 0
      },
      "text/plain": [
       "Document(children=(Dom(children=(MessageWidget(message_options={'message': '', 'type': 'info', 'show_close': F…"
      ]
     },
     "execution_count": 64,
     "metadata": {},
     "output_type": "execute_result"
    }
   ],
   "source": [
    "%vuepy_demo message/closeable.vue"
   ]
  },
  {
   "cell_type": "markdown",
   "metadata": {},
   "source": [
    "### Component, Clipboard"
   ]
  },
  {
   "cell_type": "code",
   "execution_count": 65,
   "metadata": {},
   "outputs": [
    {
     "name": "stdout",
     "output_type": "stream",
     "text": [
      "{\"vue\": \"<!-- clipboard/basic.vue -->\\n<template>\\n  <HBox>\\n    <Input v-model=\\\"copytext.value\\\"></Input>\\n    <Clipboard :copy=\\\"copytext.value\\\">\\n      <Button label=\\\"copy\\\" type=\\\"info\\\"></Button>\\n    </Clipboard>\\n  </HBox>\\n</template>\\n\\n<script src=\\\"./basic_setup.py\\\"></script>\\n<script setup>\\nimport Clipboard from \\\"../../../src/ipywui/components/Clipboard\\\";\\nimport Button from \\\"../../../src/ipywui/components/Button\\\";\\nimport HBox from \\\"../../../src/ipywui/components/HBox\\\";\\nimport Input from \\\"../../../src/ipywui/components/Input\\\";\\n</script>\", \"setup\": \"# ./basic_setup.py\\n\\nfrom vuepy import ref\\n\\n\\ndef setup(props, ctx, vm):\\n    copytext = ref(\\\"hello\\\")\\n\\n    return locals()\\n\"}\n"
     ]
    },
    {
     "data": {
      "application/vnd.jupyter.widget-view+json": {
       "model_id": "2f5aa5387f1443d99f70619a12476f4e",
       "version_major": 2,
       "version_minor": 0
      },
      "text/plain": [
       "Document(children=(Dom(children=(MessageWidget(message_options={'message': '', 'type': 'info', 'show_close': F…"
      ]
     },
     "execution_count": 65,
     "metadata": {},
     "output_type": "execute_result"
    }
   ],
   "source": [
    "%vuepy_demo clipboard/basic.vue"
   ]
  }
 ],
 "metadata": {
  "kernelspec": {
   "display_name": "Python 3 (ipykernel)",
   "language": "python",
   "name": "python3"
  },
  "language_info": {
   "codemirror_mode": {
    "name": "ipython",
    "version": 3
   },
   "file_extension": ".py",
   "mimetype": "text/x-python",
   "name": "python",
   "nbconvert_exporter": "python",
   "pygments_lexer": "ipython3",
   "version": "3.10.12"
  },
  "widgets": {
   "application/vnd.jupyter.widget-state+json": {
    "state": {},
    "version_major": 2,
    "version_minor": 0
   }
  }
 },
 "nbformat": 4,
 "nbformat_minor": 4
}
