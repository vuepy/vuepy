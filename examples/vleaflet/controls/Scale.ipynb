{
 "cells": [
  {
   "cell_type": "markdown",
   "id": "a1e2fa29-7566-4426-be1e-a750658d83a5",
   "metadata": {},
   "source": [
    "# Scale Control\n",
    "\n",
    "A control which shows the Map scale."
   ]
  },
  {
   "cell_type": "markdown",
   "id": "7cdc5e8c-2aa8-41d1-9461-3e451f6ef6ea",
   "metadata": {},
   "source": [
    "## 基础用法\n"
   ]
  },
  {
   "cell_type": "code",
   "execution_count": 1,
   "id": "f5928b17-e8c8-47b0-9774-a8bb1f7e6af3",
   "metadata": {},
   "outputs": [],
   "source": [
    "import os\n",
    "import pathlib\n",
    "from vuepy.utils import magic\n",
    "from vleaflet import leaflet\n",
    "%load_ext vuepy"
   ]
  },
  {
   "cell_type": "code",
   "execution_count": 6,
   "id": "7982482f-985d-44b5-89d6-57b3bb2c3427",
   "metadata": {},
   "outputs": [
    {
     "name": "stdout",
     "output_type": "stream",
     "text": [
      "{\"vue\": \"<template>\\n  <vl-map :center=\\\"p\\\">\\n    <template #controls>\\n      <vl-scale-control position='topleft'></vl-scale-control>\\n      <vl-layers-control position='topleft' :collapsed='False'/>\\n    </template>\\n  </vl-map>\\n</template>\\n<script lang='py'>\\nfrom vuepy import ref\\n\\np = [52.204793, 360.121558]\\n</script>\\n\", \"setup\": \"\"}\n"
     ]
    },
    {
     "data": {
      "application/vnd.jupyter.widget-view+json": {
       "model_id": "a147458f8acd4f53a25ad40729601c2d",
       "version_major": 2,
       "version_minor": 0
      },
      "text/plain": [
       "Document(children=(Dom(children=(MessageWidget(message_options={'message': '', 'type': 'info', 'show_close': F…"
      ]
     },
     "execution_count": 6,
     "metadata": {},
     "output_type": "execute_result"
    }
   ],
   "source": [
    "%%vuepy_run --plugins leaflet --show-code\n",
    "<template>\n",
    "  <vl-map :center=\"p\">\n",
    "    <template #controls>\n",
    "      <vl-scale-control position='topleft'></vl-scale-control>\n",
    "    </template>\n",
    "  </vl-map>\n",
    "</template>\n",
    "<script lang='py'>\n",
    "from vuepy import ref\n",
    "\n",
    "p = [52.204793, 360.121558]\n",
    "</script>"
   ]
  },
  {
   "cell_type": "markdown",
   "id": "392aa25a-4073-4d2b-93f9-d89666b38369",
   "metadata": {},
   "source": [
    "## 禁用状态\n",
    "\n",
    "你可以使用 `disabled` 属性来定义是否被禁用。  \n",
    "使用 `disabled` 属性来控制是否为禁用状态。该属性接受一个 `bool` 类型的值。"
   ]
  },
  {
   "cell_type": "code",
   "execution_count": 3,
   "id": "4555cd32-d66d-411b-8b39-01153e8fb53d",
   "metadata": {},
   "outputs": [
    {
     "ename": "FileNotFoundError",
     "evalue": "[Errno 2] No such file or directory: 'disabled.vue'",
     "output_type": "error",
     "traceback": [
      "\u001b[0;31m---------------------------------------------------------------------------\u001b[0m",
      "\u001b[0;31mFileNotFoundError\u001b[0m                         Traceback (most recent call last)",
      "Cell \u001b[0;32mIn[3], line 1\u001b[0m\n\u001b[0;32m----> 1\u001b[0m \u001b[43mget_ipython\u001b[49m\u001b[43m(\u001b[49m\u001b[43m)\u001b[49m\u001b[38;5;241;43m.\u001b[39;49m\u001b[43mrun_line_magic\u001b[49m\u001b[43m(\u001b[49m\u001b[38;5;124;43m'\u001b[39;49m\u001b[38;5;124;43mvuepy_demo\u001b[39;49m\u001b[38;5;124;43m'\u001b[39;49m\u001b[43m,\u001b[49m\u001b[43m \u001b[49m\u001b[38;5;124;43m'\u001b[39;49m\u001b[38;5;124;43mdisabled.vue\u001b[39;49m\u001b[38;5;124;43m'\u001b[39;49m\u001b[43m)\u001b[49m\n",
      "File \u001b[0;32m~/miniforge3/envs/textgen/lib/python3.10/site-packages/IPython/core/interactiveshell.py:2482\u001b[0m, in \u001b[0;36mInteractiveShell.run_line_magic\u001b[0;34m(self, magic_name, line, _stack_depth)\u001b[0m\n\u001b[1;32m   2480\u001b[0m     kwargs[\u001b[38;5;124m'\u001b[39m\u001b[38;5;124mlocal_ns\u001b[39m\u001b[38;5;124m'\u001b[39m] \u001b[38;5;241m=\u001b[39m \u001b[38;5;28mself\u001b[39m\u001b[38;5;241m.\u001b[39mget_local_scope(stack_depth)\n\u001b[1;32m   2481\u001b[0m \u001b[38;5;28;01mwith\u001b[39;00m \u001b[38;5;28mself\u001b[39m\u001b[38;5;241m.\u001b[39mbuiltin_trap:\n\u001b[0;32m-> 2482\u001b[0m     result \u001b[38;5;241m=\u001b[39m \u001b[43mfn\u001b[49m\u001b[43m(\u001b[49m\u001b[38;5;241;43m*\u001b[39;49m\u001b[43margs\u001b[49m\u001b[43m,\u001b[49m\u001b[43m \u001b[49m\u001b[38;5;241;43m*\u001b[39;49m\u001b[38;5;241;43m*\u001b[39;49m\u001b[43mkwargs\u001b[49m\u001b[43m)\u001b[49m\n\u001b[1;32m   2484\u001b[0m \u001b[38;5;66;03m# The code below prevents the output from being displayed\u001b[39;00m\n\u001b[1;32m   2485\u001b[0m \u001b[38;5;66;03m# when using magics with decorator @output_can_be_silenced\u001b[39;00m\n\u001b[1;32m   2486\u001b[0m \u001b[38;5;66;03m# when the last Python token in the expression is a ';'.\u001b[39;00m\n\u001b[1;32m   2487\u001b[0m \u001b[38;5;28;01mif\u001b[39;00m \u001b[38;5;28mgetattr\u001b[39m(fn, magic\u001b[38;5;241m.\u001b[39mMAGIC_OUTPUT_CAN_BE_SILENCED, \u001b[38;5;28;01mFalse\u001b[39;00m):\n",
      "File \u001b[0;32m~/proj/bb/url2io.com/open_sesame/nb_llm/pyvue/src/vuepy/utils/magic.py:95\u001b[0m, in \u001b[0;36mvuepy_demo\u001b[0;34m(vue_sfc)\u001b[0m\n\u001b[1;32m     92\u001b[0m     return_app \u001b[38;5;241m=\u001b[39m \u001b[38;5;124m'\u001b[39m\u001b[38;5;124mno\u001b[39m\u001b[38;5;124m'\u001b[39m\n\u001b[1;32m     94\u001b[0m sfc_file_path \u001b[38;5;241m=\u001b[39m Path(vue_sfc\u001b[38;5;241m.\u001b[39mstrip())\n\u001b[0;32m---> 95\u001b[0m sfc_metadata \u001b[38;5;241m=\u001b[39m \u001b[43mSFCMetadata\u001b[49m\u001b[38;5;241;43m.\u001b[39;49m\u001b[43mload\u001b[49m\u001b[43m(\u001b[49m\u001b[43msfc_file_path\u001b[49m\u001b[43m)\u001b[49m\n\u001b[1;32m     97\u001b[0m script_content \u001b[38;5;241m=\u001b[39m \u001b[38;5;241m0\u001b[39m\n\u001b[1;32m     98\u001b[0m \u001b[38;5;28;01mif\u001b[39;00m sfc_metadata\u001b[38;5;241m.\u001b[39mscript_src:\n",
      "File \u001b[0;32m~/proj/bb/url2io.com/open_sesame/nb_llm/pyvue/src/vuepy/compiler_sfc/sfc_parser.py:117\u001b[0m, in \u001b[0;36mSFCMetadata.load\u001b[0;34m(cls, sfc_file)\u001b[0m\n\u001b[1;32m    114\u001b[0m \u001b[38;5;129m@classmethod\u001b[39m\n\u001b[1;32m    115\u001b[0m \u001b[38;5;28;01mdef\u001b[39;00m\u001b[38;5;250m \u001b[39m\u001b[38;5;21mload\u001b[39m(\u001b[38;5;28mcls\u001b[39m, sfc_file):\n\u001b[1;32m    116\u001b[0m     sfc_file \u001b[38;5;241m=\u001b[39m pathlib\u001b[38;5;241m.\u001b[39mPath(sfc_file)\n\u001b[0;32m--> 117\u001b[0m     \u001b[38;5;28;01mwith\u001b[39;00m \u001b[38;5;28;43mopen\u001b[39;49m\u001b[43m(\u001b[49m\u001b[43msfc_file\u001b[49m\u001b[43m)\u001b[49m \u001b[38;5;28;01mas\u001b[39;00m f:\n\u001b[1;32m    118\u001b[0m         raw_content \u001b[38;5;241m=\u001b[39m f\u001b[38;5;241m.\u001b[39mread()\n\u001b[1;32m    120\u001b[0m     \u001b[38;5;28;01mreturn\u001b[39;00m \u001b[38;5;28mcls\u001b[39m\u001b[38;5;241m.\u001b[39mloads(raw_content, sfc_file)\n",
      "\u001b[0;31mFileNotFoundError\u001b[0m: [Errno 2] No such file or directory: 'disabled.vue'"
     ]
    }
   ],
   "source": [
    "%vuepy_demo disabled.vue"
   ]
  },
  {
   "cell_type": "markdown",
   "id": "8685d144-029f-4afa-8547-4f3d84529504",
   "metadata": {},
   "source": [
    "## API\n",
    "\n",
    "### 属性\n",
    "\n",
    "| 属性名    | 说明                 | 类型                                                           | 默认值 |\n",
    "| -------- | ------------------- | ---------------------------------------------------------------| ------- |\n",
    "| v-model/value | 绑定值             | ^[str]                                                      | —       |\n",
    "| desc     | 按钮文字             | ^[str]                                                         | —       |\n",
    "| icon     | 按钮图标             | ^[str]                                                         | —       |\n",
    "| type     | 类型                | ^[enum]`''\\| 'success'\\| 'warning'\\| 'danger'\\| 'info'`        | —       |\n",
    "| tooltip  | 提示信息             | ^[str]                                                         | —       |\n",
    "| disabled | 按钮是否为禁用状态     | ^[boolean]                                                     | false   |\n",
    "| style    | 自定义css样式             | ^[str]                                                         | -       |\n",
    "\n",
    "### Events\n",
    "\n",
    "| 事件名 | 说明                  | 类型                                   |\n",
    "| ---   | ---                  | ---                                    |\n",
    "| click | 当按钮被点击时触发的事件 |  ^[Callable]`(button: Widget) -> None` |\n",
    "\n",
    "\n",
    "### Slots\n",
    "\n",
    "| 插槽名   | 说明               |\n",
    "| ---     | ---               |\n",
    "| default | 自定义默认内容      |\n",
    "\n",
    "\n",
    "### 方法\n",
    "\n",
    "| 属性名 | 说明 | 类型 |\n",
    "| --- | --- | --- |"
   ]
  },
  {
   "cell_type": "code",
   "execution_count": null,
   "id": "db17c770-7085-4365-b5f0-bd4f66ebc948",
   "metadata": {},
   "outputs": [],
   "source": []
  }
 ],
 "metadata": {
  "kernelspec": {
   "display_name": "Python 3 (ipykernel)",
   "language": "python",
   "name": "python3"
  },
  "language_info": {
   "codemirror_mode": {
    "name": "ipython",
    "version": 3
   },
   "file_extension": ".py",
   "mimetype": "text/x-python",
   "name": "python",
   "nbconvert_exporter": "python",
   "pygments_lexer": "ipython3",
   "version": "3.10.12"
  },
  "widgets": {
   "application/vnd.jupyter.widget-state+json": {
    "state": {
     "04f61ac2bda240e88d32761b0aa4ecc2": {
      "model_module": "@jupyter-widgets/base",
      "model_module_version": "2.0.0",
      "model_name": "LayoutModel",
      "state": {}
     },
     "0af1ac13ace54599810e8cf6cba33979": {
      "model_module": "anywidget",
      "model_module_version": "~0.9.*",
      "model_name": "AnyModel",
      "state": {
       "_anywidget_id": "ipywui.widgets.custom.message.MessageWidget",
       "_css": ".wui-message-root {\n    display: flex;\n    position: absolute;\n    left: 0;\n    right: 0;\n    top: 0;\n}\n\n.wui-message-container {\n    align-items: center;\n    display: flex;\n    flex-direction: column-reverse;\n    justify-content: center;\n    min-height: 100%;\n    outline: none;\n    width: 100%;\n\n    -webkit-tap-highlight-color: rgba(0,0,0,0);\n    bottom: 0;\n    left: 0;\n    right: 0;\n    top: 0;\n}\n\n.wui-message--success {\n    --wui-message-bg-color: #f0f9eb;\n    --wui-message-border-color: #e1f3d8;\n    --wui-message-text-color: #67c23a;\n}\n.wui-message--warning {\n    --wui-message-bg-color: #fdf6ec;\n    --wui-message-border-color: #faecd8;\n    --wui-message-text-color: #e6a23c;\n}\n.wui-message--info {\n    --wui-message-bg-color: #f4f4f5;\n    --wui-message-border-color: #e9e9eb;\n    --wui-message-text-color: #909399;\n}\n.wui-message--error {\n    --wui-message-bg-color: #fef0f0;\n    --wui-message-border-color: #fde2e2;\n    --wui-message-text-color: #f56c6c;\n}\n\n@keyframes msg-open {\n    0% {\n        opacity: 0;\n        -webkit-transform: translateY(-120%);\n        transform: translateY(-120%)\n    }\n    to {\n        -webkit-transform: translateY(0);\n        transform: translateY(0)\n    }\n}\n\n@keyframes msg-close {\n    0% {\n        opacity: 1;\n        -webkit-transform: scale(1);\n        transform: scale(1)\n    }\n    to {\n        opacity: 0;\n        -webkit-transform: scale(.9);\n        transform: scale(.9)\n    }\n}\n.wui-message[data-state=entered],.wui-message[data-state=entering] {\n    -webkit-animation: msg-open .24s cubic-bezier(.175,.885,.32,1.175) both;\n    animation: msg-open .24s cubic-bezier(.175,.885,.32,1.175) both\n}\n\n.wui-message[data-state=exiting] {\n    -webkit-animation: msg-close .12s cubic-bezier(.4,0,1,1) both;\n    animation: msg-close .12s cubic-bezier(.4,0,1,1) both\n}\n\n.wui-message {\n    width: -webkit-fit-content;\n    width: -moz-fit-content;\n    width: fit-content;\n    z-index: 2004;\n    max-width: calc(100% - 32px);\n    margin-top: 8px;\n    box-sizing: border-box;\n    /*border-radius: var(--wui-border-radius-base);*/\n    /*border-width: var(--wui-border-width);*/\n    /*border-style: var(--wui-border-style);*/\n    border-color: var(--wui-message-border-color);\n    /*left: 50%;*/\n    /*top: 20px;*/\n    /*transform: translateX(-50%);*/\n    background-color: var(--wui-message-bg-color);\n    /*transition: opacity var(--wui-transition-duration),transform .4s,top .4s;*/\n    /*padding: var(--wui-message-padding);*/\n    display: flex;\n    align-items: center;\n}\n\n/*.wui-message--success */\n.wui-message__content {\n    color: var(--wui-message-text-color);\n    font-size: 14px;\n    line-height: 18px;\n    margin: 10px 14px 10px 14px;\n    overflow-wrap: break-word;\n}\n\n.wui-message__closeBtn {\n    /*cursor: pointer;*/\n    font-style: normal;\n    /*color: gray;*/\n    padding-right: 14px;\n    /*font-size: 13px;*/\n    user-select: none;\n\n    background: transparent;\n    border: none;\n    color: gray;\n    cursor: pointer;\n    font-size: 13px;\n    font-weight: 400;\n    line-height: 1;\n    outline: none;\n    /*padding: 4px;*/\n    text-align: center;\n    transition: opacity .3s;\n    /*width: 100%;*/\n}",
       "_esm": "function closeMsg(msgDom) {\n  if (!msgDom) {\n    return;\n  }\n  msgDom.setAttribute('data-state', 'exiting');\n  msgDom.remove();\n}\n\nfunction createMsg(options) {\n  const {message, msg_id, type = 'info', show_close = false} = options;\n  const msgDom = document.createElement('div');\n  msgDom.className += ` wui-message--${type} wui-message`;\n  msgDom.setAttribute('data-state', 'entered');\n  msgDom.setAttribute('id', msg_id);\n  const msgContent = document.createElement('p');\n  msgContent.className += ` wui-message--${type} wui-message__content`;\n  msgContent.innerText = message;\n  msgDom.appendChild(msgContent);\n  if (show_close) {\n    const closeBtn = document.createElement('i');\n    closeBtn.className += 'wui-message__closeBtn';\n    closeBtn.innerText = 'x';\n    closeBtn.addEventListener('click', (ev) => {\n      closeMsg(msgDom);\n    })\n    msgDom.appendChild(closeBtn);\n  }\n  return msgDom;\n}\n\nexport async function render(view) {\n  let model = view.model;\n  const msgRoot = view.el;\n  msgRoot.className += ' wui-message-root'\n\n  const msgContainer = document.createElement('div');\n  msgContainer.className += ' wui-message-container';\n  msgRoot.appendChild(msgContainer)\n\n  model.on(\"change:message_options\", () => {\n    const options = model.get(\"message_options\");\n    const msg = createMsg(options);\n    msgContainer.appendChild(msg);\n    const {duration = 3000} = options;\n    if (duration > 0) {\n      setTimeout(() => {\n        closeMsg(msg)\n      }, duration);\n    }\n  })\n\n  model.on(\"change:close_msg_id\", () => {\n    const msg_id = model.get(\"close_msg_id\");\n    const msgDom = document.getElementById(msg_id);\n    closeMsg(msgDom);\n  })\n}\n",
       "_model_module": "anywidget",
       "_model_module_version": "~0.9.*",
       "_model_name": "AnyModel",
       "_view_module": "anywidget",
       "_view_module_version": "~0.9.*",
       "_view_name": "AnyView",
       "close_msg_id": "",
       "layout": "IPY_MODEL_8bf607676c9d43cdbff4882fb91c940d",
       "message_options": {
        "duration": 3000,
        "message": "",
        "show_close": false,
        "type": "info"
       }
      }
     },
     "0c0f28628b964fdbb681c219aba76856": {
      "model_module": "jupyter-leaflet",
      "model_module_version": "^0.19",
      "model_name": "LeafletZoomControlModel",
      "state": {
       "_model_module_version": "^0.19",
       "_view_module_version": "^0.19",
       "options": [
        "position",
        "zoom_in_text",
        "zoom_in_title",
        "zoom_out_text",
        "zoom_out_title"
       ]
      }
     },
     "101de018829143b58bdbe2b75acba4b0": {
      "model_module": "jupyter-leaflet",
      "model_module_version": "^0.19",
      "model_name": "LeafletMapModel",
      "state": {
       "_model_module_version": "^0.19",
       "_view_module_version": "^0.19",
       "bottom": 2763315,
       "center": [
        52.204793,
        360.121558
       ],
       "controls": [
        "IPY_MODEL_7c5e6c937c8046e6a05b81835cd90f83",
        "IPY_MODEL_1778854b395d4bb59b9059e1b4916e77",
        "IPY_MODEL_b48d99d134e04c4fb577e4e53273e0de",
        "IPY_MODEL_47981947ae30488392a8a12e391c4776"
       ],
       "default_style": "IPY_MODEL_a7a846c65bc842fd9c3185350ea5ef3e",
       "dragging_style": "IPY_MODEL_ab5e057e849c4d39bc2272c984971500",
       "east": 360.1449680328369,
       "fullscreen": false,
       "interpolation": "bilinear",
       "layers": [
        "IPY_MODEL_1fe7ddee45a347b6a1715d4e5cff70fd"
       ],
       "layout": "IPY_MODEL_04f61ac2bda240e88d32761b0aa4ecc2",
       "left": 12585199,
       "modisdate": "2025-04-08",
       "north": 52.21005237674974,
       "options": [
        "bounce_at_zoom_limits",
        "box_zoom",
        "center",
        "close_popup_on_click",
        "double_click_zoom",
        "dragging",
        "fullscreen",
        "inertia",
        "inertia_deceleration",
        "inertia_max_speed",
        "interpolation",
        "keyboard",
        "keyboard_pan_offset",
        "keyboard_zoom_offset",
        "max_zoom",
        "min_zoom",
        "prefer_canvas",
        "scroll_wheel_zoom",
        "tap",
        "tap_tolerance",
        "touch_zoom",
        "world_copy_jump",
        "zoom",
        "zoom_animation_threshold",
        "zoom_delta",
        "zoom_snap"
       ],
       "prefer_canvas": false,
       "right": 12586290,
       "south": 52.1995322644825,
       "style": "IPY_MODEL_a7a846c65bc842fd9c3185350ea5ef3e",
       "top": 2762915,
       "west": 360.098147392273,
       "window_url": "http://localhost:2071/lab/tree/nb_llm/pyvue/examples/vleaflet/controls/Scale.ipynb",
       "zoom": 15
      }
     },
     "1024ac8ce1104510aa6ccacecf01e9d8": {
      "model_module": "jupyter-leaflet",
      "model_module_version": "^0.19",
      "model_name": "LeafletAttributionControlModel",
      "state": {
       "_model_module_version": "^0.19",
       "_view_module_version": "^0.19",
       "options": [
        "position",
        "prefix"
       ],
       "position": "bottomright",
       "prefix": "ipyleaflet"
      }
     },
     "1425e519397b4adfac73c1401c6f5f91": {
      "model_module": "@jupyter-widgets/output",
      "model_module_version": "1.0.0",
      "model_name": "OutputModel",
      "state": {
       "layout": "IPY_MODEL_742017a79b0a44488b2ceeb98d652eff",
       "outputs": [
        {
         "name": "stdout",
         "output_type": "stream",
         "text": "2025-04-09 00:26:23,295 [INFO] api_create_app.py:render:126 - App render end.\n"
        },
        {
         "name": "stdout",
         "output_type": "stream",
         "text": "2025-04-09 00:26:23,291 [INFO] sfc_codegen.py:render:165 - 🔥 Rerender SFC<__tmp_for_str.vue> at 4389311712\n"
        },
        {
         "name": "stdout",
         "output_type": "stream",
         "text": "2025-04-09 00:26:23,291 [INFO] api_create_app.py:render:116 - App render start.\n"
        },
        {
         "name": "stdout",
         "output_type": "stream",
         "text": "2025-04-09 00:26:05,903 [INFO] api_create_app.py:render:126 - App render end.\n"
        },
        {
         "name": "stdout",
         "output_type": "stream",
         "text": "2025-04-09 00:26:05,899 [INFO] sfc_codegen.py:render:165 - 🔥 Rerender SFC<__tmp_for_str.vue> at 4389314640\n"
        },
        {
         "name": "stdout",
         "output_type": "stream",
         "text": "2025-04-09 00:26:05,898 [INFO] api_create_app.py:render:116 - App render start.\n"
        },
        {
         "name": "stdout",
         "output_type": "stream",
         "text": "2025-04-09 00:18:57,581 [INFO] api_create_app.py:render:126 - App render end.\n"
        },
        {
         "name": "stdout",
         "output_type": "stream",
         "text": "2025-04-09 00:18:57,576 [INFO] sfc_codegen.py:render:165 - 🔥 Rerender SFC<__tmp_for_str.vue> at 4389309888\n"
        },
        {
         "name": "stdout",
         "output_type": "stream",
         "text": "2025-04-09 00:18:57,575 [INFO] api_create_app.py:render:116 - App render start.\n"
        },
        {
         "name": "stdout",
         "output_type": "stream",
         "text": "2025-04-09 00:18:47,496 [INFO] api_create_app.py:render:126 - App render end.\n"
        },
        {
         "name": "stdout",
         "output_type": "stream",
         "text": "2025-04-09 00:18:47,473 [INFO] sfc_codegen.py:render:165 - 🔥 Rerender SFC<__tmp_for_str.vue> at 4381175824\n"
        },
        {
         "name": "stdout",
         "output_type": "stream",
         "text": "2025-04-09 00:18:47,472 [INFO] api_create_app.py:render:116 - App render start.\n"
        }
       ]
      }
     },
     "14b73574f3e44d0e80cc05d9d568e024": {
      "model_module": "jupyter-leaflet",
      "model_module_version": "^0.19",
      "model_name": "LeafletMapStyleModel",
      "state": {
       "_model_module_version": "^0.19"
      }
     },
     "15a35f36f0514e52b24f59efbaa68abc": {
      "model_module": "@jupyter-widgets/base",
      "model_module_version": "2.0.0",
      "model_name": "LayoutModel",
      "state": {}
     },
     "1778854b395d4bb59b9059e1b4916e77": {
      "model_module": "jupyter-leaflet",
      "model_module_version": "^0.19",
      "model_name": "LeafletAttributionControlModel",
      "state": {
       "_model_module_version": "^0.19",
       "_view_module_version": "^0.19",
       "options": [
        "position",
        "prefix"
       ],
       "position": "bottomright",
       "prefix": "ipyleaflet"
      }
     },
     "17d4627023b54362b9bcd4831583a462": {
      "model_module": "@jupyter-widgets/base",
      "model_module_version": "2.0.0",
      "model_name": "LayoutModel",
      "state": {}
     },
     "1d1e72e193db49b7a48817d01c4958e1": {
      "model_module": "@jupyter-widgets/controls",
      "model_module_version": "2.0.0",
      "model_name": "VBoxModel",
      "state": {
       "children": [
        "IPY_MODEL_e218551f342b4cea9d57e1fa1e18d5b2",
        "IPY_MODEL_597c94f44856440c827097d0b2b4da29"
       ],
       "layout": "IPY_MODEL_f6d0ea8c88f3401998db6e0982c83213"
      }
     },
     "1fe7ddee45a347b6a1715d4e5cff70fd": {
      "model_module": "jupyter-leaflet",
      "model_module_version": "^0.19",
      "model_name": "LeafletTileLayerModel",
      "state": {
       "_model_module_version": "^0.19",
       "_view_module_version": "^0.19",
       "attribution": "&copy; <a href=\"https://www.openstreetmap.org/copyright\">OpenStreetMap</a> contributors",
       "base": true,
       "max_zoom": 19,
       "min_zoom": 1,
       "name": "OpenStreetMap.Mapnik",
       "options": [
        "attribution",
        "bounds",
        "detect_retina",
        "max_native_zoom",
        "max_zoom",
        "min_native_zoom",
        "min_zoom",
        "no_wrap",
        "tile_size",
        "tms",
        "zoom_offset"
       ],
       "url": "https://tile.openstreetmap.org/{z}/{x}/{y}.png"
      }
     },
     "21e393c5e398430fb96d2b6718c87021": {
      "model_module": "@jupyter-widgets/controls",
      "model_module_version": "2.0.0",
      "model_name": "VBoxModel",
      "state": {
       "children": [
        "IPY_MODEL_edf8ef6ec2844a67bbcd9327fbf6e55c",
        "IPY_MODEL_b53c76aa2e624ebeb6218628affc0be8"
       ],
       "layout": "IPY_MODEL_c2b6c8848bc64b218fde9ec37ec5eff9"
      }
     },
     "24076152df394834baf9737ed8a44d35": {
      "model_module": "@jupyter-widgets/base",
      "model_module_version": "2.0.0",
      "model_name": "LayoutModel",
      "state": {}
     },
     "2510ed0cbb734a0aa663bb9ce3872167": {
      "model_module": "jupyter-leaflet",
      "model_module_version": "^0.19",
      "model_name": "LeafletAttributionControlModel",
      "state": {
       "_model_module_version": "^0.19",
       "_view_module_version": "^0.19",
       "options": [
        "position",
        "prefix"
       ],
       "position": "bottomright",
       "prefix": "ipyleaflet"
      }
     },
     "29e8e91aad404c3f9ef3fccd397ca8e3": {
      "model_module": "@jupyter-widgets/base",
      "model_module_version": "2.0.0",
      "model_name": "LayoutModel",
      "state": {}
     },
     "2e61a24551ae4cfc8a32c1758f3cec84": {
      "model_module": "@jupyter-widgets/base",
      "model_module_version": "2.0.0",
      "model_name": "LayoutModel",
      "state": {}
     },
     "369f44c73cd34e83ad8e1524d668a661": {
      "model_module": "@jupyter-widgets/base",
      "model_module_version": "2.0.0",
      "model_name": "LayoutModel",
      "state": {}
     },
     "39fb9ae7edd54f15a89920443ee2ec32": {
      "model_module": "jupyter-leaflet",
      "model_module_version": "^0.19",
      "model_name": "LeafletMapStyleModel",
      "state": {
       "_model_module_version": "^0.19"
      }
     },
     "3ef0888058114687ae30395fa3ded545": {
      "model_module": "@jupyter-widgets/base",
      "model_module_version": "2.0.0",
      "model_name": "LayoutModel",
      "state": {}
     },
     "4228b666efdd40e4b843ef8cdccc1ff0": {
      "model_module": "@jupyter-widgets/controls",
      "model_module_version": "2.0.0",
      "model_name": "VBoxModel",
      "state": {
       "children": [
        "IPY_MODEL_5e197d821ce84172864afd38e7148003",
        "IPY_MODEL_c6f4ea5044d442408362570e41da55ae"
       ],
       "layout": "IPY_MODEL_24076152df394834baf9737ed8a44d35"
      }
     },
     "449d75b9374643d19c7b5035b24b76d0": {
      "model_module": "@jupyter-widgets/base",
      "model_module_version": "2.0.0",
      "model_name": "LayoutModel",
      "state": {}
     },
     "47981947ae30488392a8a12e391c4776": {
      "model_module": "jupyter-leaflet",
      "model_module_version": "^0.19",
      "model_name": "LeafletLayersControlModel",
      "state": {
       "_model_module_version": "^0.19",
       "_view_module_version": "^0.19",
       "collapsed": false,
       "options": [
        "collapsed",
        "position"
       ]
      }
     },
     "488c5f5184bc4d0789e8396abbb6d3ca": {
      "model_module": "@jupyter-widgets/controls",
      "model_module_version": "2.0.0",
      "model_name": "VBoxModel",
      "state": {
       "children": [
        "IPY_MODEL_b3df95fe005a47e785d78b4fe33bad9b"
       ],
       "layout": "IPY_MODEL_15a35f36f0514e52b24f59efbaa68abc"
      }
     },
     "49b46cdd0c8d42308eee846020a54d01": {
      "model_module": "@jupyter-widgets/base",
      "model_module_version": "2.0.0",
      "model_name": "LayoutModel",
      "state": {}
     },
     "4d8dd9dfb7dc4462b65b266d6a2d1085": {
      "model_module": "jupyter-leaflet",
      "model_module_version": "^0.19",
      "model_name": "LeafletMapStyleModel",
      "state": {
       "_model_module_version": "^0.19",
       "cursor": "move"
      }
     },
     "58cf4cd8a1ab4ba2b191b3c4c76733ef": {
      "model_module": "@jupyter-widgets/base",
      "model_module_version": "2.0.0",
      "model_name": "LayoutModel",
      "state": {}
     },
     "597c94f44856440c827097d0b2b4da29": {
      "model_module": "jupyter-leaflet",
      "model_module_version": "^0.19",
      "model_name": "LeafletLayersControlModel",
      "state": {
       "_model_module_version": "^0.19",
       "_view_module_version": "^0.19",
       "collapsed": false,
       "options": [
        "collapsed",
        "position"
       ]
      }
     },
     "59cd298e6c7f4ca7bd92572cf09001a1": {
      "model_module": "anywidget",
      "model_module_version": "~0.9.*",
      "model_name": "AnyModel",
      "state": {
       "_anywidget_id": "ipywui.widgets.custom.message.MessageWidget",
       "_css": ".wui-message-root {\n    display: flex;\n    position: absolute;\n    left: 0;\n    right: 0;\n    top: 0;\n}\n\n.wui-message-container {\n    align-items: center;\n    display: flex;\n    flex-direction: column-reverse;\n    justify-content: center;\n    min-height: 100%;\n    outline: none;\n    width: 100%;\n\n    -webkit-tap-highlight-color: rgba(0,0,0,0);\n    bottom: 0;\n    left: 0;\n    right: 0;\n    top: 0;\n}\n\n.wui-message--success {\n    --wui-message-bg-color: #f0f9eb;\n    --wui-message-border-color: #e1f3d8;\n    --wui-message-text-color: #67c23a;\n}\n.wui-message--warning {\n    --wui-message-bg-color: #fdf6ec;\n    --wui-message-border-color: #faecd8;\n    --wui-message-text-color: #e6a23c;\n}\n.wui-message--info {\n    --wui-message-bg-color: #f4f4f5;\n    --wui-message-border-color: #e9e9eb;\n    --wui-message-text-color: #909399;\n}\n.wui-message--error {\n    --wui-message-bg-color: #fef0f0;\n    --wui-message-border-color: #fde2e2;\n    --wui-message-text-color: #f56c6c;\n}\n\n@keyframes msg-open {\n    0% {\n        opacity: 0;\n        -webkit-transform: translateY(-120%);\n        transform: translateY(-120%)\n    }\n    to {\n        -webkit-transform: translateY(0);\n        transform: translateY(0)\n    }\n}\n\n@keyframes msg-close {\n    0% {\n        opacity: 1;\n        -webkit-transform: scale(1);\n        transform: scale(1)\n    }\n    to {\n        opacity: 0;\n        -webkit-transform: scale(.9);\n        transform: scale(.9)\n    }\n}\n.wui-message[data-state=entered],.wui-message[data-state=entering] {\n    -webkit-animation: msg-open .24s cubic-bezier(.175,.885,.32,1.175) both;\n    animation: msg-open .24s cubic-bezier(.175,.885,.32,1.175) both\n}\n\n.wui-message[data-state=exiting] {\n    -webkit-animation: msg-close .12s cubic-bezier(.4,0,1,1) both;\n    animation: msg-close .12s cubic-bezier(.4,0,1,1) both\n}\n\n.wui-message {\n    width: -webkit-fit-content;\n    width: -moz-fit-content;\n    width: fit-content;\n    z-index: 2004;\n    max-width: calc(100% - 32px);\n    margin-top: 8px;\n    box-sizing: border-box;\n    /*border-radius: var(--wui-border-radius-base);*/\n    /*border-width: var(--wui-border-width);*/\n    /*border-style: var(--wui-border-style);*/\n    border-color: var(--wui-message-border-color);\n    /*left: 50%;*/\n    /*top: 20px;*/\n    /*transform: translateX(-50%);*/\n    background-color: var(--wui-message-bg-color);\n    /*transition: opacity var(--wui-transition-duration),transform .4s,top .4s;*/\n    /*padding: var(--wui-message-padding);*/\n    display: flex;\n    align-items: center;\n}\n\n/*.wui-message--success */\n.wui-message__content {\n    color: var(--wui-message-text-color);\n    font-size: 14px;\n    line-height: 18px;\n    margin: 10px 14px 10px 14px;\n    overflow-wrap: break-word;\n}\n\n.wui-message__closeBtn {\n    /*cursor: pointer;*/\n    font-style: normal;\n    /*color: gray;*/\n    padding-right: 14px;\n    /*font-size: 13px;*/\n    user-select: none;\n\n    background: transparent;\n    border: none;\n    color: gray;\n    cursor: pointer;\n    font-size: 13px;\n    font-weight: 400;\n    line-height: 1;\n    outline: none;\n    /*padding: 4px;*/\n    text-align: center;\n    transition: opacity .3s;\n    /*width: 100%;*/\n}",
       "_esm": "function closeMsg(msgDom) {\n  if (!msgDom) {\n    return;\n  }\n  msgDom.setAttribute('data-state', 'exiting');\n  msgDom.remove();\n}\n\nfunction createMsg(options) {\n  const {message, msg_id, type = 'info', show_close = false} = options;\n  const msgDom = document.createElement('div');\n  msgDom.className += ` wui-message--${type} wui-message`;\n  msgDom.setAttribute('data-state', 'entered');\n  msgDom.setAttribute('id', msg_id);\n  const msgContent = document.createElement('p');\n  msgContent.className += ` wui-message--${type} wui-message__content`;\n  msgContent.innerText = message;\n  msgDom.appendChild(msgContent);\n  if (show_close) {\n    const closeBtn = document.createElement('i');\n    closeBtn.className += 'wui-message__closeBtn';\n    closeBtn.innerText = 'x';\n    closeBtn.addEventListener('click', (ev) => {\n      closeMsg(msgDom);\n    })\n    msgDom.appendChild(closeBtn);\n  }\n  return msgDom;\n}\n\nexport async function render(view) {\n  let model = view.model;\n  const msgRoot = view.el;\n  msgRoot.className += ' wui-message-root'\n\n  const msgContainer = document.createElement('div');\n  msgContainer.className += ' wui-message-container';\n  msgRoot.appendChild(msgContainer)\n\n  model.on(\"change:message_options\", () => {\n    const options = model.get(\"message_options\");\n    const msg = createMsg(options);\n    msgContainer.appendChild(msg);\n    const {duration = 3000} = options;\n    if (duration > 0) {\n      setTimeout(() => {\n        closeMsg(msg)\n      }, duration);\n    }\n  })\n\n  model.on(\"change:close_msg_id\", () => {\n    const msg_id = model.get(\"close_msg_id\");\n    const msgDom = document.getElementById(msg_id);\n    closeMsg(msgDom);\n  })\n}\n",
       "_model_module": "anywidget",
       "_model_module_version": "~0.9.*",
       "_model_name": "AnyModel",
       "_view_module": "anywidget",
       "_view_module_version": "~0.9.*",
       "_view_name": "AnyView",
       "close_msg_id": "",
       "layout": "IPY_MODEL_7c735f05eba649a69fdb699a071a1d5d",
       "message_options": {
        "duration": 3000,
        "message": "",
        "show_close": false,
        "type": "info"
       }
      }
     },
     "5e197d821ce84172864afd38e7148003": {
      "model_module": "anywidget",
      "model_module_version": "~0.9.*",
      "model_name": "AnyModel",
      "state": {
       "_anywidget_id": "ipywui.widgets.custom.message.MessageWidget",
       "_css": ".wui-message-root {\n    display: flex;\n    position: absolute;\n    left: 0;\n    right: 0;\n    top: 0;\n}\n\n.wui-message-container {\n    align-items: center;\n    display: flex;\n    flex-direction: column-reverse;\n    justify-content: center;\n    min-height: 100%;\n    outline: none;\n    width: 100%;\n\n    -webkit-tap-highlight-color: rgba(0,0,0,0);\n    bottom: 0;\n    left: 0;\n    right: 0;\n    top: 0;\n}\n\n.wui-message--success {\n    --wui-message-bg-color: #f0f9eb;\n    --wui-message-border-color: #e1f3d8;\n    --wui-message-text-color: #67c23a;\n}\n.wui-message--warning {\n    --wui-message-bg-color: #fdf6ec;\n    --wui-message-border-color: #faecd8;\n    --wui-message-text-color: #e6a23c;\n}\n.wui-message--info {\n    --wui-message-bg-color: #f4f4f5;\n    --wui-message-border-color: #e9e9eb;\n    --wui-message-text-color: #909399;\n}\n.wui-message--error {\n    --wui-message-bg-color: #fef0f0;\n    --wui-message-border-color: #fde2e2;\n    --wui-message-text-color: #f56c6c;\n}\n\n@keyframes msg-open {\n    0% {\n        opacity: 0;\n        -webkit-transform: translateY(-120%);\n        transform: translateY(-120%)\n    }\n    to {\n        -webkit-transform: translateY(0);\n        transform: translateY(0)\n    }\n}\n\n@keyframes msg-close {\n    0% {\n        opacity: 1;\n        -webkit-transform: scale(1);\n        transform: scale(1)\n    }\n    to {\n        opacity: 0;\n        -webkit-transform: scale(.9);\n        transform: scale(.9)\n    }\n}\n.wui-message[data-state=entered],.wui-message[data-state=entering] {\n    -webkit-animation: msg-open .24s cubic-bezier(.175,.885,.32,1.175) both;\n    animation: msg-open .24s cubic-bezier(.175,.885,.32,1.175) both\n}\n\n.wui-message[data-state=exiting] {\n    -webkit-animation: msg-close .12s cubic-bezier(.4,0,1,1) both;\n    animation: msg-close .12s cubic-bezier(.4,0,1,1) both\n}\n\n.wui-message {\n    width: -webkit-fit-content;\n    width: -moz-fit-content;\n    width: fit-content;\n    z-index: 2004;\n    max-width: calc(100% - 32px);\n    margin-top: 8px;\n    box-sizing: border-box;\n    /*border-radius: var(--wui-border-radius-base);*/\n    /*border-width: var(--wui-border-width);*/\n    /*border-style: var(--wui-border-style);*/\n    border-color: var(--wui-message-border-color);\n    /*left: 50%;*/\n    /*top: 20px;*/\n    /*transform: translateX(-50%);*/\n    background-color: var(--wui-message-bg-color);\n    /*transition: opacity var(--wui-transition-duration),transform .4s,top .4s;*/\n    /*padding: var(--wui-message-padding);*/\n    display: flex;\n    align-items: center;\n}\n\n/*.wui-message--success */\n.wui-message__content {\n    color: var(--wui-message-text-color);\n    font-size: 14px;\n    line-height: 18px;\n    margin: 10px 14px 10px 14px;\n    overflow-wrap: break-word;\n}\n\n.wui-message__closeBtn {\n    /*cursor: pointer;*/\n    font-style: normal;\n    /*color: gray;*/\n    padding-right: 14px;\n    /*font-size: 13px;*/\n    user-select: none;\n\n    background: transparent;\n    border: none;\n    color: gray;\n    cursor: pointer;\n    font-size: 13px;\n    font-weight: 400;\n    line-height: 1;\n    outline: none;\n    /*padding: 4px;*/\n    text-align: center;\n    transition: opacity .3s;\n    /*width: 100%;*/\n}",
       "_esm": "function closeMsg(msgDom) {\n  if (!msgDom) {\n    return;\n  }\n  msgDom.setAttribute('data-state', 'exiting');\n  msgDom.remove();\n}\n\nfunction createMsg(options) {\n  const {message, msg_id, type = 'info', show_close = false} = options;\n  const msgDom = document.createElement('div');\n  msgDom.className += ` wui-message--${type} wui-message`;\n  msgDom.setAttribute('data-state', 'entered');\n  msgDom.setAttribute('id', msg_id);\n  const msgContent = document.createElement('p');\n  msgContent.className += ` wui-message--${type} wui-message__content`;\n  msgContent.innerText = message;\n  msgDom.appendChild(msgContent);\n  if (show_close) {\n    const closeBtn = document.createElement('i');\n    closeBtn.className += 'wui-message__closeBtn';\n    closeBtn.innerText = 'x';\n    closeBtn.addEventListener('click', (ev) => {\n      closeMsg(msgDom);\n    })\n    msgDom.appendChild(closeBtn);\n  }\n  return msgDom;\n}\n\nexport async function render(view) {\n  let model = view.model;\n  const msgRoot = view.el;\n  msgRoot.className += ' wui-message-root'\n\n  const msgContainer = document.createElement('div');\n  msgContainer.className += ' wui-message-container';\n  msgRoot.appendChild(msgContainer)\n\n  model.on(\"change:message_options\", () => {\n    const options = model.get(\"message_options\");\n    const msg = createMsg(options);\n    msgContainer.appendChild(msg);\n    const {duration = 3000} = options;\n    if (duration > 0) {\n      setTimeout(() => {\n        closeMsg(msg)\n      }, duration);\n    }\n  })\n\n  model.on(\"change:close_msg_id\", () => {\n    const msg_id = model.get(\"close_msg_id\");\n    const msgDom = document.getElementById(msg_id);\n    closeMsg(msgDom);\n  })\n}\n",
       "_model_module": "anywidget",
       "_model_module_version": "~0.9.*",
       "_model_name": "AnyModel",
       "_view_module": "anywidget",
       "_view_module_version": "~0.9.*",
       "_view_name": "AnyView",
       "close_msg_id": "",
       "layout": "IPY_MODEL_b09143433dff49be8c5146e4a125942f",
       "message_options": {
        "duration": 3000,
        "message": "",
        "show_close": false,
        "type": "info"
       }
      }
     },
     "679b69492c804424b0bf49361c3dec1d": {
      "model_module": "@jupyter-widgets/base",
      "model_module_version": "2.0.0",
      "model_name": "LayoutModel",
      "state": {}
     },
     "71abd6303dbe4910b88b53d6bbe129de": {
      "model_module": "jupyter-leaflet",
      "model_module_version": "^0.19",
      "model_name": "LeafletMapStyleModel",
      "state": {
       "_model_module_version": "^0.19",
       "cursor": "move"
      }
     },
     "742017a79b0a44488b2ceeb98d652eff": {
      "model_module": "@jupyter-widgets/base",
      "model_module_version": "2.0.0",
      "model_name": "LayoutModel",
      "state": {}
     },
     "79af9e02fb1441a9a04af95a5e781243": {
      "model_module": "@jupyter-widgets/base",
      "model_module_version": "2.0.0",
      "model_name": "LayoutModel",
      "state": {}
     },
     "7c5e6c937c8046e6a05b81835cd90f83": {
      "model_module": "jupyter-leaflet",
      "model_module_version": "^0.19",
      "model_name": "LeafletZoomControlModel",
      "state": {
       "_model_module_version": "^0.19",
       "_view_module_version": "^0.19",
       "options": [
        "position",
        "zoom_in_text",
        "zoom_in_title",
        "zoom_out_text",
        "zoom_out_title"
       ]
      }
     },
     "7c735f05eba649a69fdb699a071a1d5d": {
      "model_module": "@jupyter-widgets/base",
      "model_module_version": "2.0.0",
      "model_name": "LayoutModel",
      "state": {}
     },
     "80e463ea73ae4ef19b056127ecea7dd6": {
      "model_module": "jupyter-leaflet",
      "model_module_version": "^0.19",
      "model_name": "LeafletTileLayerModel",
      "state": {
       "_model_module_version": "^0.19",
       "_view_module_version": "^0.19",
       "attribution": "&copy; <a href=\"https://www.openstreetmap.org/copyright\">OpenStreetMap</a> contributors",
       "base": true,
       "max_zoom": 19,
       "min_zoom": 1,
       "name": "OpenStreetMap.Mapnik",
       "options": [
        "attribution",
        "bounds",
        "detect_retina",
        "max_native_zoom",
        "max_zoom",
        "min_native_zoom",
        "min_zoom",
        "no_wrap",
        "tile_size",
        "tms",
        "zoom_offset"
       ],
       "url": "https://tile.openstreetmap.org/{z}/{x}/{y}.png"
      }
     },
     "85c51c1c0e5d496cba8c793864501ce7": {
      "model_module": "jupyter-leaflet",
      "model_module_version": "^0.19",
      "model_name": "LeafletZoomControlModel",
      "state": {
       "_model_module_version": "^0.19",
       "_view_module_version": "^0.19",
       "options": [
        "position",
        "zoom_in_text",
        "zoom_in_title",
        "zoom_out_text",
        "zoom_out_title"
       ]
      }
     },
     "8bf607676c9d43cdbff4882fb91c940d": {
      "model_module": "@jupyter-widgets/base",
      "model_module_version": "2.0.0",
      "model_name": "LayoutModel",
      "state": {}
     },
     "8c671aea83144f71859df7ddc7922a10": {
      "model_module": "@jupyter-widgets/base",
      "model_module_version": "2.0.0",
      "model_name": "LayoutModel",
      "state": {}
     },
     "934be00949ba454aa2f4c972decef73e": {
      "model_module": "@jupyter-widgets/base",
      "model_module_version": "2.0.0",
      "model_name": "LayoutModel",
      "state": {}
     },
     "96b1cd9c79b74d1fa9642a24050fa2f0": {
      "model_module": "@jupyter-widgets/controls",
      "model_module_version": "2.0.0",
      "model_name": "VBoxModel",
      "state": {
       "children": [
        "IPY_MODEL_99fe104192fc4f738cbd4d302526eb4a"
       ],
       "layout": "IPY_MODEL_dd92a91555e042babdb562b0b9f174bf"
      }
     },
     "99fe104192fc4f738cbd4d302526eb4a": {
      "model_module": "jupyter-leaflet",
      "model_module_version": "^0.19",
      "model_name": "LeafletMapModel",
      "state": {
       "_model_module_version": "^0.19",
       "_view_module_version": "^0.19",
       "bottom": 345589,
       "center": [
        52.204793,
        360.121558
       ],
       "controls": [
        "IPY_MODEL_85c51c1c0e5d496cba8c793864501ce7",
        "IPY_MODEL_1024ac8ce1104510aa6ccacecf01e9d8"
       ],
       "default_style": "IPY_MODEL_a70883781747441397e994cd907fd026",
       "dragging_style": "IPY_MODEL_4d8dd9dfb7dc4462b65b266d6a2d1085",
       "east": 360.3089904785157,
       "fullscreen": false,
       "interpolation": "bilinear",
       "layers": [
        "IPY_MODEL_bffd7ceed4084402aa87d2ccc2425ab0"
       ],
       "layout": "IPY_MODEL_9ab77065e6754a3b9fabaf30160dc7b4",
       "left": 1572673,
       "modisdate": "2025-04-08",
       "north": 52.246931984439186,
       "options": [
        "bounce_at_zoom_limits",
        "box_zoom",
        "center",
        "close_popup_on_click",
        "double_click_zoom",
        "dragging",
        "fullscreen",
        "inertia",
        "inertia_deceleration",
        "inertia_max_speed",
        "interpolation",
        "keyboard",
        "keyboard_pan_offset",
        "keyboard_zoom_offset",
        "max_zoom",
        "min_zoom",
        "prefer_canvas",
        "scroll_wheel_zoom",
        "tap",
        "tap_tolerance",
        "touch_zoom",
        "world_copy_jump",
        "zoom",
        "zoom_animation_threshold",
        "zoom_delta",
        "zoom_snap"
       ],
       "prefer_canvas": false,
       "right": 1573764,
       "south": 52.16277123080451,
       "style": "IPY_MODEL_a52c77bb30714cc6ad13aecb626091d4",
       "top": 345189,
       "west": 359.9344253540039,
       "window_url": "http://localhost:2071/lab/tree/nb_llm/pyvue/examples/vleaflet/controls/Scale.ipynb"
      }
     },
     "9ab77065e6754a3b9fabaf30160dc7b4": {
      "model_module": "@jupyter-widgets/base",
      "model_module_version": "2.0.0",
      "model_name": "LayoutModel",
      "state": {}
     },
     "a073a207020d4017bfbdcdb9b4952c59": {
      "model_module": "@jupyter-widgets/controls",
      "model_module_version": "2.0.0",
      "model_name": "VBoxModel",
      "state": {
       "children": [
        "IPY_MODEL_f1429392a6834fe283cab178a56e100e"
       ],
       "layout": "IPY_MODEL_a255dd17782f4775a322de0de56bfad4"
      }
     },
     "a147458f8acd4f53a25ad40729601c2d": {
      "model_module": "@jupyter-widgets/controls",
      "model_module_version": "2.0.0",
      "model_name": "VBoxModel",
      "state": {
       "children": [
        "IPY_MODEL_21e393c5e398430fb96d2b6718c87021"
       ],
       "layout": "IPY_MODEL_17d4627023b54362b9bcd4831583a462"
      }
     },
     "a255dd17782f4775a322de0de56bfad4": {
      "model_module": "@jupyter-widgets/base",
      "model_module_version": "2.0.0",
      "model_name": "LayoutModel",
      "state": {}
     },
     "a52c77bb30714cc6ad13aecb626091d4": {
      "model_module": "jupyter-leaflet",
      "model_module_version": "^0.19",
      "model_name": "LeafletMapStyleModel",
      "state": {
       "_model_module_version": "^0.19"
      }
     },
     "a5cfd4ce377640658aa0638c0a5df328": {
      "model_module": "jupyter-leaflet",
      "model_module_version": "^0.19",
      "model_name": "LeafletMapStyleModel",
      "state": {
       "_model_module_version": "^0.19",
       "cursor": "move"
      }
     },
     "a70883781747441397e994cd907fd026": {
      "model_module": "jupyter-leaflet",
      "model_module_version": "^0.19",
      "model_name": "LeafletMapStyleModel",
      "state": {
       "_model_module_version": "^0.19"
      }
     },
     "a7a846c65bc842fd9c3185350ea5ef3e": {
      "model_module": "jupyter-leaflet",
      "model_module_version": "^0.19",
      "model_name": "LeafletMapStyleModel",
      "state": {
       "_model_module_version": "^0.19"
      }
     },
     "a7ea53ca628341909d82790c9a5a839c": {
      "model_module": "jupyter-leaflet",
      "model_module_version": "^0.19",
      "model_name": "LeafletLayersControlModel",
      "state": {
       "_model_module_version": "^0.19",
       "_view_module_version": "^0.19",
       "collapsed": false,
       "options": [
        "collapsed",
        "position"
       ]
      }
     },
     "ab5e057e849c4d39bc2272c984971500": {
      "model_module": "jupyter-leaflet",
      "model_module_version": "^0.19",
      "model_name": "LeafletMapStyleModel",
      "state": {
       "_model_module_version": "^0.19",
       "cursor": "move"
      }
     },
     "af3415e9f9054a5d92941c51d2b111bf": {
      "model_module": "jupyter-leaflet",
      "model_module_version": "^0.19",
      "model_name": "LeafletMapStyleModel",
      "state": {
       "_model_module_version": "^0.19"
      }
     },
     "b09143433dff49be8c5146e4a125942f": {
      "model_module": "@jupyter-widgets/base",
      "model_module_version": "2.0.0",
      "model_name": "LayoutModel",
      "state": {}
     },
     "b1871573389e4cfb991e1986d55a2662": {
      "model_module": "jupyter-leaflet",
      "model_module_version": "^0.19",
      "model_name": "LeafletScaleControlModel",
      "state": {
       "_model_module_version": "^0.19",
       "_view_module_version": "^0.19",
       "imperial": true,
       "max_width": 100,
       "metric": true,
       "options": [
        "imperial",
        "max_width",
        "metric",
        "position",
        "update_when_idle"
       ],
       "update_when_idle": false
      }
     },
     "b3c451c6a9694bdfa3abaa86aeb7030f": {
      "model_module": "@jupyter-widgets/controls",
      "model_module_version": "2.0.0",
      "model_name": "VBoxModel",
      "state": {
       "children": [
        "IPY_MODEL_0af1ac13ace54599810e8cf6cba33979",
        "IPY_MODEL_96b1cd9c79b74d1fa9642a24050fa2f0"
       ],
       "layout": "IPY_MODEL_e924e64012bc466482904d4611dde830"
      }
     },
     "b3df95fe005a47e785d78b4fe33bad9b": {
      "model_module": "@jupyter-widgets/controls",
      "model_module_version": "2.0.0",
      "model_name": "HTMLMathModel",
      "state": {
       "layout": "IPY_MODEL_679b69492c804424b0bf49361c3dec1d",
       "style": "IPY_MODEL_d36420d714c14aa6a2658efc7d7e2e9b",
       "value": "\n                <VlFullscreenControl position='topleft'>\n                  \n                </VlFullscreenControl>"
      }
     },
     "b48d99d134e04c4fb577e4e53273e0de": {
      "model_module": "jupyter-leaflet",
      "model_module_version": "^0.19",
      "model_name": "LeafletScaleControlModel",
      "state": {
       "_model_module_version": "^0.19",
       "_view_module_version": "^0.19",
       "imperial": true,
       "max_width": 100,
       "metric": true,
       "options": [
        "imperial",
        "max_width",
        "metric",
        "position",
        "update_when_idle"
       ],
       "update_when_idle": false
      }
     },
     "b53c76aa2e624ebeb6218628affc0be8": {
      "model_module": "@jupyter-widgets/controls",
      "model_module_version": "2.0.0",
      "model_name": "VBoxModel",
      "state": {
       "children": [
        "IPY_MODEL_c9f43b073f6a445ba291b53df9d1d7ed"
       ],
       "layout": "IPY_MODEL_c7dbdb6ea9884dfe9147c422fd3ccfd9"
      }
     },
     "b8fb9522322544e9a65d64a002cbd01a": {
      "model_module": "jupyter-leaflet",
      "model_module_version": "^0.19",
      "model_name": "LeafletAttributionControlModel",
      "state": {
       "_model_module_version": "^0.19",
       "_view_module_version": "^0.19",
       "options": [
        "position",
        "prefix"
       ],
       "position": "bottomright",
       "prefix": "ipyleaflet"
      }
     },
     "b957afc75be246d1b7fcfec6e5b43f5c": {
      "model_module": "@jupyter-widgets/controls",
      "model_module_version": "2.0.0",
      "model_name": "VBoxModel",
      "state": {
       "children": [
        "IPY_MODEL_f3cd82ca982a4e8ab8077124e7a8cd7b"
       ],
       "layout": "IPY_MODEL_449d75b9374643d19c7b5035b24b76d0"
      }
     },
     "bf6f1bd5231144f8a6c64931e6f0aa38": {
      "model_module": "@jupyter-widgets/controls",
      "model_module_version": "2.0.0",
      "model_name": "VBoxModel",
      "state": {
       "children": [
        "IPY_MODEL_b48d99d134e04c4fb577e4e53273e0de",
        "IPY_MODEL_47981947ae30488392a8a12e391c4776"
       ],
       "layout": "IPY_MODEL_934be00949ba454aa2f4c972decef73e"
      }
     },
     "bffd7ceed4084402aa87d2ccc2425ab0": {
      "model_module": "jupyter-leaflet",
      "model_module_version": "^0.19",
      "model_name": "LeafletTileLayerModel",
      "state": {
       "_model_module_version": "^0.19",
       "_view_module_version": "^0.19",
       "attribution": "&copy; <a href=\"https://www.openstreetmap.org/copyright\">OpenStreetMap</a> contributors",
       "base": true,
       "max_zoom": 19,
       "min_zoom": 1,
       "name": "OpenStreetMap.Mapnik",
       "options": [
        "attribution",
        "bounds",
        "detect_retina",
        "max_native_zoom",
        "max_zoom",
        "min_native_zoom",
        "min_zoom",
        "no_wrap",
        "tile_size",
        "tms",
        "zoom_offset"
       ],
       "url": "https://tile.openstreetmap.org/{z}/{x}/{y}.png"
      }
     },
     "c2b6c8848bc64b218fde9ec37ec5eff9": {
      "model_module": "@jupyter-widgets/base",
      "model_module_version": "2.0.0",
      "model_name": "LayoutModel",
      "state": {}
     },
     "c61d080925ff4582b8d0116fbc892408": {
      "model_module": "@jupyter-widgets/controls",
      "model_module_version": "2.0.0",
      "model_name": "VBoxModel",
      "state": {
       "children": [
        "IPY_MODEL_b3c451c6a9694bdfa3abaa86aeb7030f"
       ],
       "layout": "IPY_MODEL_369f44c73cd34e83ad8e1524d668a661"
      }
     },
     "c6f4ea5044d442408362570e41da55ae": {
      "model_module": "@jupyter-widgets/controls",
      "model_module_version": "2.0.0",
      "model_name": "VBoxModel",
      "state": {
       "children": [
        "IPY_MODEL_101de018829143b58bdbe2b75acba4b0"
       ],
       "layout": "IPY_MODEL_49b46cdd0c8d42308eee846020a54d01"
      }
     },
     "c7dbdb6ea9884dfe9147c422fd3ccfd9": {
      "model_module": "@jupyter-widgets/base",
      "model_module_version": "2.0.0",
      "model_name": "LayoutModel",
      "state": {}
     },
     "c9f43b073f6a445ba291b53df9d1d7ed": {
      "model_module": "jupyter-leaflet",
      "model_module_version": "^0.19",
      "model_name": "LeafletMapModel",
      "state": {
       "_model_module_version": "^0.19",
       "_view_module_version": "^0.19",
       "bottom": 345589,
       "center": [
        52.204793,
        360.121558
       ],
       "controls": [
        "IPY_MODEL_0c0f28628b964fdbb681c219aba76856",
        "IPY_MODEL_2510ed0cbb734a0aa663bb9ce3872167",
        "IPY_MODEL_b1871573389e4cfb991e1986d55a2662",
        "IPY_MODEL_a7ea53ca628341909d82790c9a5a839c"
       ],
       "default_style": "IPY_MODEL_af3415e9f9054a5d92941c51d2b111bf",
       "dragging_style": "IPY_MODEL_a5cfd4ce377640658aa0638c0a5df328",
       "east": 360.3089904785157,
       "fullscreen": false,
       "interpolation": "bilinear",
       "layers": [
        "IPY_MODEL_d9c2f43d786d46feb2b78c48249a608a"
       ],
       "layout": "IPY_MODEL_8c671aea83144f71859df7ddc7922a10",
       "left": 1572673,
       "modisdate": "2025-04-08",
       "north": 52.246931984439186,
       "options": [
        "bounce_at_zoom_limits",
        "box_zoom",
        "center",
        "close_popup_on_click",
        "double_click_zoom",
        "dragging",
        "fullscreen",
        "inertia",
        "inertia_deceleration",
        "inertia_max_speed",
        "interpolation",
        "keyboard",
        "keyboard_pan_offset",
        "keyboard_zoom_offset",
        "max_zoom",
        "min_zoom",
        "prefer_canvas",
        "scroll_wheel_zoom",
        "tap",
        "tap_tolerance",
        "touch_zoom",
        "world_copy_jump",
        "zoom",
        "zoom_animation_threshold",
        "zoom_delta",
        "zoom_snap"
       ],
       "prefer_canvas": false,
       "right": 1573764,
       "south": 52.16277123080451,
       "style": "IPY_MODEL_39fb9ae7edd54f15a89920443ee2ec32",
       "top": 345189,
       "west": 359.9344253540039,
       "window_url": "http://localhost:2071/lab/tree/nb_llm/pyvue/examples/vleaflet/controls/Scale.ipynb"
      }
     },
     "cd82814fb3124e07a3af518aeaa75489": {
      "model_module": "anywidget",
      "model_module_version": "~0.9.*",
      "model_name": "AnyModel",
      "state": {
       "_anywidget_id": "ipywui.widgets.custom.message.MessageWidget",
       "_css": ".wui-message-root {\n    display: flex;\n    position: absolute;\n    left: 0;\n    right: 0;\n    top: 0;\n}\n\n.wui-message-container {\n    align-items: center;\n    display: flex;\n    flex-direction: column-reverse;\n    justify-content: center;\n    min-height: 100%;\n    outline: none;\n    width: 100%;\n\n    -webkit-tap-highlight-color: rgba(0,0,0,0);\n    bottom: 0;\n    left: 0;\n    right: 0;\n    top: 0;\n}\n\n.wui-message--success {\n    --wui-message-bg-color: #f0f9eb;\n    --wui-message-border-color: #e1f3d8;\n    --wui-message-text-color: #67c23a;\n}\n.wui-message--warning {\n    --wui-message-bg-color: #fdf6ec;\n    --wui-message-border-color: #faecd8;\n    --wui-message-text-color: #e6a23c;\n}\n.wui-message--info {\n    --wui-message-bg-color: #f4f4f5;\n    --wui-message-border-color: #e9e9eb;\n    --wui-message-text-color: #909399;\n}\n.wui-message--error {\n    --wui-message-bg-color: #fef0f0;\n    --wui-message-border-color: #fde2e2;\n    --wui-message-text-color: #f56c6c;\n}\n\n@keyframes msg-open {\n    0% {\n        opacity: 0;\n        -webkit-transform: translateY(-120%);\n        transform: translateY(-120%)\n    }\n    to {\n        -webkit-transform: translateY(0);\n        transform: translateY(0)\n    }\n}\n\n@keyframes msg-close {\n    0% {\n        opacity: 1;\n        -webkit-transform: scale(1);\n        transform: scale(1)\n    }\n    to {\n        opacity: 0;\n        -webkit-transform: scale(.9);\n        transform: scale(.9)\n    }\n}\n.wui-message[data-state=entered],.wui-message[data-state=entering] {\n    -webkit-animation: msg-open .24s cubic-bezier(.175,.885,.32,1.175) both;\n    animation: msg-open .24s cubic-bezier(.175,.885,.32,1.175) both\n}\n\n.wui-message[data-state=exiting] {\n    -webkit-animation: msg-close .12s cubic-bezier(.4,0,1,1) both;\n    animation: msg-close .12s cubic-bezier(.4,0,1,1) both\n}\n\n.wui-message {\n    width: -webkit-fit-content;\n    width: -moz-fit-content;\n    width: fit-content;\n    z-index: 2004;\n    max-width: calc(100% - 32px);\n    margin-top: 8px;\n    box-sizing: border-box;\n    /*border-radius: var(--wui-border-radius-base);*/\n    /*border-width: var(--wui-border-width);*/\n    /*border-style: var(--wui-border-style);*/\n    border-color: var(--wui-message-border-color);\n    /*left: 50%;*/\n    /*top: 20px;*/\n    /*transform: translateX(-50%);*/\n    background-color: var(--wui-message-bg-color);\n    /*transition: opacity var(--wui-transition-duration),transform .4s,top .4s;*/\n    /*padding: var(--wui-message-padding);*/\n    display: flex;\n    align-items: center;\n}\n\n/*.wui-message--success */\n.wui-message__content {\n    color: var(--wui-message-text-color);\n    font-size: 14px;\n    line-height: 18px;\n    margin: 10px 14px 10px 14px;\n    overflow-wrap: break-word;\n}\n\n.wui-message__closeBtn {\n    /*cursor: pointer;*/\n    font-style: normal;\n    /*color: gray;*/\n    padding-right: 14px;\n    /*font-size: 13px;*/\n    user-select: none;\n\n    background: transparent;\n    border: none;\n    color: gray;\n    cursor: pointer;\n    font-size: 13px;\n    font-weight: 400;\n    line-height: 1;\n    outline: none;\n    /*padding: 4px;*/\n    text-align: center;\n    transition: opacity .3s;\n    /*width: 100%;*/\n}",
       "_esm": "function closeMsg(msgDom) {\n  if (!msgDom) {\n    return;\n  }\n  msgDom.setAttribute('data-state', 'exiting');\n  msgDom.remove();\n}\n\nfunction createMsg(options) {\n  const {message, msg_id, type = 'info', show_close = false} = options;\n  const msgDom = document.createElement('div');\n  msgDom.className += ` wui-message--${type} wui-message`;\n  msgDom.setAttribute('data-state', 'entered');\n  msgDom.setAttribute('id', msg_id);\n  const msgContent = document.createElement('p');\n  msgContent.className += ` wui-message--${type} wui-message__content`;\n  msgContent.innerText = message;\n  msgDom.appendChild(msgContent);\n  if (show_close) {\n    const closeBtn = document.createElement('i');\n    closeBtn.className += 'wui-message__closeBtn';\n    closeBtn.innerText = 'x';\n    closeBtn.addEventListener('click', (ev) => {\n      closeMsg(msgDom);\n    })\n    msgDom.appendChild(closeBtn);\n  }\n  return msgDom;\n}\n\nexport async function render(view) {\n  let model = view.model;\n  const msgRoot = view.el;\n  msgRoot.className += ' wui-message-root'\n\n  const msgContainer = document.createElement('div');\n  msgContainer.className += ' wui-message-container';\n  msgRoot.appendChild(msgContainer)\n\n  model.on(\"change:message_options\", () => {\n    const options = model.get(\"message_options\");\n    const msg = createMsg(options);\n    msgContainer.appendChild(msg);\n    const {duration = 3000} = options;\n    if (duration > 0) {\n      setTimeout(() => {\n        closeMsg(msg)\n      }, duration);\n    }\n  })\n\n  model.on(\"change:close_msg_id\", () => {\n    const msg_id = model.get(\"close_msg_id\");\n    const msgDom = document.getElementById(msg_id);\n    closeMsg(msgDom);\n  })\n}\n",
       "_model_module": "anywidget",
       "_model_module_version": "~0.9.*",
       "_model_name": "AnyModel",
       "_view_module": "anywidget",
       "_view_module_version": "~0.9.*",
       "_view_name": "AnyView",
       "close_msg_id": "",
       "layout": "IPY_MODEL_d602b28405414a86bab117b3baf377b1",
       "message_options": {
        "duration": 3000,
        "message": "",
        "show_close": false,
        "type": "info"
       }
      }
     },
     "d36420d714c14aa6a2658efc7d7e2e9b": {
      "model_module": "@jupyter-widgets/controls",
      "model_module_version": "2.0.0",
      "model_name": "HTMLMathStyleModel",
      "state": {
       "description_width": "",
       "font_size": null,
       "text_color": null
      }
     },
     "d602b28405414a86bab117b3baf377b1": {
      "model_module": "@jupyter-widgets/base",
      "model_module_version": "2.0.0",
      "model_name": "LayoutModel",
      "state": {}
     },
     "d9c2f43d786d46feb2b78c48249a608a": {
      "model_module": "jupyter-leaflet",
      "model_module_version": "^0.19",
      "model_name": "LeafletTileLayerModel",
      "state": {
       "_model_module_version": "^0.19",
       "_view_module_version": "^0.19",
       "attribution": "&copy; <a href=\"https://www.openstreetmap.org/copyright\">OpenStreetMap</a> contributors",
       "base": true,
       "max_zoom": 19,
       "min_zoom": 1,
       "name": "OpenStreetMap.Mapnik",
       "options": [
        "attribution",
        "bounds",
        "detect_retina",
        "max_native_zoom",
        "max_zoom",
        "min_native_zoom",
        "min_zoom",
        "no_wrap",
        "tile_size",
        "tms",
        "zoom_offset"
       ],
       "url": "https://tile.openstreetmap.org/{z}/{x}/{y}.png"
      }
     },
     "dd92a91555e042babdb562b0b9f174bf": {
      "model_module": "@jupyter-widgets/base",
      "model_module_version": "2.0.0",
      "model_name": "LayoutModel",
      "state": {}
     },
     "e218551f342b4cea9d57e1fa1e18d5b2": {
      "model_module": "jupyter-leaflet",
      "model_module_version": "^0.19",
      "model_name": "LeafletScaleControlModel",
      "state": {
       "_model_module_version": "^0.19",
       "_view_module_version": "^0.19",
       "imperial": true,
       "max_width": 100,
       "metric": true,
       "options": [
        "imperial",
        "max_width",
        "metric",
        "position",
        "update_when_idle"
       ],
       "update_when_idle": false
      }
     },
     "e4ab2e43106547439c4178022043fbad": {
      "model_module": "jupyter-leaflet",
      "model_module_version": "^0.19",
      "model_name": "LeafletMapStyleModel",
      "state": {
       "_model_module_version": "^0.19"
      }
     },
     "e924e64012bc466482904d4611dde830": {
      "model_module": "@jupyter-widgets/base",
      "model_module_version": "2.0.0",
      "model_name": "LayoutModel",
      "state": {}
     },
     "eb1c06a026cb46cdbb5d8df5f83f3bed": {
      "model_module": "@jupyter-widgets/controls",
      "model_module_version": "2.0.0",
      "model_name": "VBoxModel",
      "state": {
       "children": [
        "IPY_MODEL_b1871573389e4cfb991e1986d55a2662",
        "IPY_MODEL_a7ea53ca628341909d82790c9a5a839c"
       ],
       "layout": "IPY_MODEL_3ef0888058114687ae30395fa3ded545"
      }
     },
     "edf8ef6ec2844a67bbcd9327fbf6e55c": {
      "model_module": "anywidget",
      "model_module_version": "~0.9.*",
      "model_name": "AnyModel",
      "state": {
       "_anywidget_id": "ipywui.widgets.custom.message.MessageWidget",
       "_css": ".wui-message-root {\n    display: flex;\n    position: absolute;\n    left: 0;\n    right: 0;\n    top: 0;\n}\n\n.wui-message-container {\n    align-items: center;\n    display: flex;\n    flex-direction: column-reverse;\n    justify-content: center;\n    min-height: 100%;\n    outline: none;\n    width: 100%;\n\n    -webkit-tap-highlight-color: rgba(0,0,0,0);\n    bottom: 0;\n    left: 0;\n    right: 0;\n    top: 0;\n}\n\n.wui-message--success {\n    --wui-message-bg-color: #f0f9eb;\n    --wui-message-border-color: #e1f3d8;\n    --wui-message-text-color: #67c23a;\n}\n.wui-message--warning {\n    --wui-message-bg-color: #fdf6ec;\n    --wui-message-border-color: #faecd8;\n    --wui-message-text-color: #e6a23c;\n}\n.wui-message--info {\n    --wui-message-bg-color: #f4f4f5;\n    --wui-message-border-color: #e9e9eb;\n    --wui-message-text-color: #909399;\n}\n.wui-message--error {\n    --wui-message-bg-color: #fef0f0;\n    --wui-message-border-color: #fde2e2;\n    --wui-message-text-color: #f56c6c;\n}\n\n@keyframes msg-open {\n    0% {\n        opacity: 0;\n        -webkit-transform: translateY(-120%);\n        transform: translateY(-120%)\n    }\n    to {\n        -webkit-transform: translateY(0);\n        transform: translateY(0)\n    }\n}\n\n@keyframes msg-close {\n    0% {\n        opacity: 1;\n        -webkit-transform: scale(1);\n        transform: scale(1)\n    }\n    to {\n        opacity: 0;\n        -webkit-transform: scale(.9);\n        transform: scale(.9)\n    }\n}\n.wui-message[data-state=entered],.wui-message[data-state=entering] {\n    -webkit-animation: msg-open .24s cubic-bezier(.175,.885,.32,1.175) both;\n    animation: msg-open .24s cubic-bezier(.175,.885,.32,1.175) both\n}\n\n.wui-message[data-state=exiting] {\n    -webkit-animation: msg-close .12s cubic-bezier(.4,0,1,1) both;\n    animation: msg-close .12s cubic-bezier(.4,0,1,1) both\n}\n\n.wui-message {\n    width: -webkit-fit-content;\n    width: -moz-fit-content;\n    width: fit-content;\n    z-index: 2004;\n    max-width: calc(100% - 32px);\n    margin-top: 8px;\n    box-sizing: border-box;\n    /*border-radius: var(--wui-border-radius-base);*/\n    /*border-width: var(--wui-border-width);*/\n    /*border-style: var(--wui-border-style);*/\n    border-color: var(--wui-message-border-color);\n    /*left: 50%;*/\n    /*top: 20px;*/\n    /*transform: translateX(-50%);*/\n    background-color: var(--wui-message-bg-color);\n    /*transition: opacity var(--wui-transition-duration),transform .4s,top .4s;*/\n    /*padding: var(--wui-message-padding);*/\n    display: flex;\n    align-items: center;\n}\n\n/*.wui-message--success */\n.wui-message__content {\n    color: var(--wui-message-text-color);\n    font-size: 14px;\n    line-height: 18px;\n    margin: 10px 14px 10px 14px;\n    overflow-wrap: break-word;\n}\n\n.wui-message__closeBtn {\n    /*cursor: pointer;*/\n    font-style: normal;\n    /*color: gray;*/\n    padding-right: 14px;\n    /*font-size: 13px;*/\n    user-select: none;\n\n    background: transparent;\n    border: none;\n    color: gray;\n    cursor: pointer;\n    font-size: 13px;\n    font-weight: 400;\n    line-height: 1;\n    outline: none;\n    /*padding: 4px;*/\n    text-align: center;\n    transition: opacity .3s;\n    /*width: 100%;*/\n}",
       "_esm": "function closeMsg(msgDom) {\n  if (!msgDom) {\n    return;\n  }\n  msgDom.setAttribute('data-state', 'exiting');\n  msgDom.remove();\n}\n\nfunction createMsg(options) {\n  const {message, msg_id, type = 'info', show_close = false} = options;\n  const msgDom = document.createElement('div');\n  msgDom.className += ` wui-message--${type} wui-message`;\n  msgDom.setAttribute('data-state', 'entered');\n  msgDom.setAttribute('id', msg_id);\n  const msgContent = document.createElement('p');\n  msgContent.className += ` wui-message--${type} wui-message__content`;\n  msgContent.innerText = message;\n  msgDom.appendChild(msgContent);\n  if (show_close) {\n    const closeBtn = document.createElement('i');\n    closeBtn.className += 'wui-message__closeBtn';\n    closeBtn.innerText = 'x';\n    closeBtn.addEventListener('click', (ev) => {\n      closeMsg(msgDom);\n    })\n    msgDom.appendChild(closeBtn);\n  }\n  return msgDom;\n}\n\nexport async function render(view) {\n  let model = view.model;\n  const msgRoot = view.el;\n  msgRoot.className += ' wui-message-root'\n\n  const msgContainer = document.createElement('div');\n  msgContainer.className += ' wui-message-container';\n  msgRoot.appendChild(msgContainer)\n\n  model.on(\"change:message_options\", () => {\n    const options = model.get(\"message_options\");\n    const msg = createMsg(options);\n    msgContainer.appendChild(msg);\n    const {duration = 3000} = options;\n    if (duration > 0) {\n      setTimeout(() => {\n        closeMsg(msg)\n      }, duration);\n    }\n  })\n\n  model.on(\"change:close_msg_id\", () => {\n    const msg_id = model.get(\"close_msg_id\");\n    const msgDom = document.getElementById(msg_id);\n    closeMsg(msgDom);\n  })\n}\n",
       "_model_module": "anywidget",
       "_model_module_version": "~0.9.*",
       "_model_name": "AnyModel",
       "_view_module": "anywidget",
       "_view_module_version": "~0.9.*",
       "_view_name": "AnyView",
       "close_msg_id": "",
       "layout": "IPY_MODEL_29e8e91aad404c3f9ef3fccd397ca8e3",
       "message_options": {
        "duration": 3000,
        "message": "",
        "show_close": false,
        "type": "info"
       }
      }
     },
     "f0def20e46834247906b6a0ff20ae549": {
      "model_module": "@jupyter-widgets/controls",
      "model_module_version": "2.0.0",
      "model_name": "VBoxModel",
      "state": {
       "children": [
        "IPY_MODEL_4228b666efdd40e4b843ef8cdccc1ff0"
       ],
       "layout": "IPY_MODEL_79af9e02fb1441a9a04af95a5e781243"
      }
     },
     "f1429392a6834fe283cab178a56e100e": {
      "model_module": "@jupyter-widgets/controls",
      "model_module_version": "2.0.0",
      "model_name": "VBoxModel",
      "state": {
       "children": [
        "IPY_MODEL_59cd298e6c7f4ca7bd92572cf09001a1",
        "IPY_MODEL_b957afc75be246d1b7fcfec6e5b43f5c"
       ],
       "layout": "IPY_MODEL_2e61a24551ae4cfc8a32c1758f3cec84"
      }
     },
     "f26245435d4a4760b7d527af316f56eb": {
      "model_module": "jupyter-leaflet",
      "model_module_version": "^0.19",
      "model_name": "LeafletMapStyleModel",
      "state": {
       "_model_module_version": "^0.19"
      }
     },
     "f3cd82ca982a4e8ab8077124e7a8cd7b": {
      "model_module": "jupyter-leaflet",
      "model_module_version": "^0.19",
      "model_name": "LeafletMapModel",
      "state": {
       "_model_module_version": "^0.19",
       "_view_module_version": "^0.19",
       "bottom": 345589,
       "center": [
        52.204793,
        360.121558
       ],
       "controls": [
        "IPY_MODEL_b8fb9522322544e9a65d64a002cbd01a",
        "IPY_MODEL_e218551f342b4cea9d57e1fa1e18d5b2",
        "IPY_MODEL_597c94f44856440c827097d0b2b4da29"
       ],
       "default_style": "IPY_MODEL_f26245435d4a4760b7d527af316f56eb",
       "dragging_style": "IPY_MODEL_71abd6303dbe4910b88b53d6bbe129de",
       "east": 360.3089904785157,
       "fullscreen": false,
       "interpolation": "bilinear",
       "layers": [
        "IPY_MODEL_80e463ea73ae4ef19b056127ecea7dd6"
       ],
       "layout": "IPY_MODEL_58cf4cd8a1ab4ba2b191b3c4c76733ef",
       "left": 1572673,
       "modisdate": "2025-04-08",
       "north": 52.246931984439186,
       "options": [
        "bounce_at_zoom_limits",
        "box_zoom",
        "center",
        "close_popup_on_click",
        "double_click_zoom",
        "dragging",
        "fullscreen",
        "inertia",
        "inertia_deceleration",
        "inertia_max_speed",
        "interpolation",
        "keyboard",
        "keyboard_pan_offset",
        "keyboard_zoom_offset",
        "max_zoom",
        "min_zoom",
        "prefer_canvas",
        "scroll_wheel_zoom",
        "tap",
        "tap_tolerance",
        "touch_zoom",
        "world_copy_jump",
        "zoom",
        "zoom_animation_threshold",
        "zoom_delta",
        "zoom_snap"
       ],
       "prefer_canvas": false,
       "right": 1573764,
       "south": 52.16277123080451,
       "style": "IPY_MODEL_14b73574f3e44d0e80cc05d9d568e024",
       "top": 345189,
       "west": 359.9344253540039,
       "window_url": "http://localhost:2071/lab/tree/nb_llm/pyvue/examples/vleaflet/controls/Scale.ipynb"
      }
     },
     "f6d0ea8c88f3401998db6e0982c83213": {
      "model_module": "@jupyter-widgets/base",
      "model_module_version": "2.0.0",
      "model_name": "LayoutModel",
      "state": {}
     }
    },
    "version_major": 2,
    "version_minor": 0
   }
  }
 },
 "nbformat": 4,
 "nbformat_minor": 5
}
