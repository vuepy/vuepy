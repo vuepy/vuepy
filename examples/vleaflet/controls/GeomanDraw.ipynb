{
 "cells": [
  {
   "cell_type": "markdown",
   "id": "a1e2fa29-7566-4426-be1e-a750658d83a5",
   "metadata": {},
   "source": [
    "# Geoman Draw Control\n",
    "\n",
    "GeomanDrawControl allows one to draw various shapes on the map. The drawing functionality on the front-end is provided by [geoman](https://geoman.io/).\n",
    "\n",
    "The following shapes are supported: - marker - circlemarker - circle - polyline - rectangle - polygon - text\n",
    "\n",
    "Additionally, there are modes that allow editing of previously drawn shapes:\n",
    "* edit\n",
    "* drag\n",
    "* remove\n",
    "* cut\n",
    "* rotate\n",
    "\n",
    "To have a drawing tool active on the map, pass it a non-empty dictionary with the desired options, see [geoman documentation](https://www.geoman.io/docs/modes/draw-mode#customize-style) for details."
   ]
  },
  {
   "cell_type": "markdown",
   "id": "7cdc5e8c-2aa8-41d1-9461-3e451f6ef6ea",
   "metadata": {},
   "source": [
    "## 基础用法\n"
   ]
  },
  {
   "cell_type": "code",
   "execution_count": 1,
   "id": "f5928b17-e8c8-47b0-9774-a8bb1f7e6af3",
   "metadata": {},
   "outputs": [],
   "source": [
    "import os\n",
    "import pathlib\n",
    "from vuepy.utils import magic\n",
    "from vleaflet import leaflet\n",
    "%load_ext vuepy"
   ]
  },
  {
   "cell_type": "code",
   "execution_count": 4,
   "id": "7982482f-985d-44b5-89d6-57b3bb2c3427",
   "metadata": {},
   "outputs": [
    {
     "name": "stdout",
     "output_type": "stream",
     "text": [
      "{\"vue\": \"<template>\\n  <vl-map :center=\\\"p\\\" :zoom-control='False'>\\n    <template #controls>\\n      <vl-geoman-draw-control \\n        position='topright' \\n        :polyline=\\\"polyline\\\" \\n        :polygon=\\\"polygon\\\" \\n        :circlemarker=\\\"circlemarker\\\" \\n        :rectangle=\\\"rectangle\\\" \\n      />\\n    </template>\\n  </vl-map>\\n</template>\\n<script lang='py'>\\nfrom vuepy import ref\\n\\np = [52.204793, 360.121558]\\npolyline = {\\n    \\\"pathOptions\\\": {\\n        \\\"color\\\": \\\"red\\\",\\n        \\\"weight\\\": 8,\\n        \\\"opacity\\\": 1.0\\n    }\\n}\\n\\npolygon = {\\n    \\\"pathOptions\\\": {\\n        \\\"fillColor\\\": \\\"#6be5c3\\\",\\n        \\\"color\\\": \\\"#6be5c3\\\",\\n        \\\"fillOpacity\\\": 1.0\\n    }\\n}\\ncirclemarker = {\\n    \\\"pathOptions\\\": {\\n        \\\"fillColor\\\": \\\"#efed69\\\",\\n        \\\"color\\\": \\\"#efed69\\\",\\n        \\\"fillOpacity\\\": 0.62\\n    }\\n}\\nrectangle = {\\n    \\\"pathOptions\\\": {\\n        \\\"fillColor\\\": \\\"#fca45d\\\",\\n        \\\"color\\\": \\\"#fca45d\\\",\\n        \\\"fillOpacity\\\": 1.0\\n    }\\n}\\n</script>\\n\", \"setup\": \"\"}\n"
     ]
    },
    {
     "data": {
      "application/vnd.jupyter.widget-view+json": {
       "model_id": "34baed80232f43628116d5c4cae416e9",
       "version_major": 2,
       "version_minor": 0
      },
      "text/plain": [
       "Document(children=(Dom(children=(MessageWidget(message_options={'message': '', 'type': 'info', 'show_close': F…"
      ]
     },
     "execution_count": 4,
     "metadata": {},
     "output_type": "execute_result"
    }
   ],
   "source": [
    "%%vuepy_run --plugins leaflet --show-code\n",
    "<template>\n",
    "  <vl-map :center=\"p\" :zoom-control='False'>\n",
    "    <template #controls>\n",
    "      <vl-geoman-draw-control \n",
    "        position='topright' \n",
    "        :polyline=\"polyline\" \n",
    "        :polygon=\"polygon\" \n",
    "        :circlemarker=\"circlemarker\" \n",
    "        :rectangle=\"rectangle\" \n",
    "      />\n",
    "    </template>\n",
    "  </vl-map>\n",
    "</template>\n",
    "<script lang='py'>\n",
    "from vuepy import ref\n",
    "\n",
    "p = [52.204793, 360.121558]\n",
    "polyline = {\n",
    "    \"pathOptions\": {\n",
    "        \"color\": \"red\",\n",
    "        \"weight\": 8,\n",
    "        \"opacity\": 1.0\n",
    "    }\n",
    "}\n",
    "\n",
    "polygon = {\n",
    "    \"pathOptions\": {\n",
    "        \"fillColor\": \"#6be5c3\",\n",
    "        \"color\": \"#6be5c3\",\n",
    "        \"fillOpacity\": 1.0\n",
    "    }\n",
    "}\n",
    "circlemarker = {\n",
    "    \"pathOptions\": {\n",
    "        \"fillColor\": \"#efed69\",\n",
    "        \"color\": \"#efed69\",\n",
    "        \"fillOpacity\": 0.62\n",
    "    }\n",
    "}\n",
    "rectangle = {\n",
    "    \"pathOptions\": {\n",
    "        \"fillColor\": \"#fca45d\",\n",
    "        \"color\": \"#fca45d\",\n",
    "        \"fillOpacity\": 1.0\n",
    "    }\n",
    "}\n",
    "</script>"
   ]
  },
  {
   "cell_type": "markdown",
   "id": "8685d144-029f-4afa-8547-4f3d84529504",
   "metadata": {},
   "source": [
    "## API\n",
    "\n",
    "### 属性\n",
    "\n",
    "| 属性名 | 说明 | 类型 | 默认值 |\n",
    "|--------|------|------|--------|\n",
    "| position | 控件位置 | ^[enum]`'topleft'\\|'topright'\\|'bottomleft'\\|'bottomright'` | 'topleft' |\n",
    "| draw | 绘制选项 | ^[object] | {} |\n",
    "| edit | 编辑选项 | ^[object] | {} |\n",
    "\n",
    "### Events\n",
    "\n",
    "| 事件名 | 说明 | 类型 |\n",
    "|--------|------|------|\n",
    "| draw | 绘制完成时触发 | `(layer: any) => void` |\n",
    "\n",
    "### Slots\n",
    "\n",
    "| 插槽名 | 说明 |\n",
    "|--------|------|\n",
    "\n",
    "### 方法\n",
    "\n",
    "| 方法名 | 说明 | 类型 |\n",
    "|--------|------|------|\n",
    "|clear_text() | 清除所有文字 ||"
   ]
  }
 ],
 "metadata": {
  "kernelspec": {
   "display_name": "Python 3 (ipykernel)",
   "language": "python",
   "name": "python3"
  },
  "language_info": {
   "codemirror_mode": {
    "name": "ipython",
    "version": 3
   },
   "file_extension": ".py",
   "mimetype": "text/x-python",
   "name": "python",
   "nbconvert_exporter": "python",
   "pygments_lexer": "ipython3",
   "version": "3.10.12"
  },
  "widgets": {
   "application/vnd.jupyter.widget-state+json": {
    "state": {},
    "version_major": 2,
    "version_minor": 0
   }
  }
 },
 "nbformat": 4,
 "nbformat_minor": 5
}
