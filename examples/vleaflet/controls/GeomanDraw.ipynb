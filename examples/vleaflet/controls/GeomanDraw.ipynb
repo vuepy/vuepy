{
 "cells": [
  {
   "cell_type": "markdown",
   "id": "a1e2fa29-7566-4426-be1e-a750658d83a5",
   "metadata": {},
   "source": [
    "# Geoman Draw Control\n",
    "\n",
    "GeomanDrawControl allows one to draw various shapes on the map. The drawing functionality on the front-end is provided by [geoman](https://geoman.io/).\n",
    "\n",
    "The following shapes are supported: - marker - circlemarker - circle - polyline - rectangle - polygon - text\n",
    "\n",
    "Additionally, there are modes that allow editing of previously drawn shapes:\n",
    "* edit\n",
    "* drag\n",
    "* remove\n",
    "* cut\n",
    "* rotate\n",
    "\n",
    "To have a drawing tool active on the map, pass it a non-empty dictionary with the desired options, see [geoman documentation](https://www.geoman.io/docs/modes/draw-mode#customize-style) for details."
   ]
  },
  {
   "cell_type": "markdown",
   "id": "7cdc5e8c-2aa8-41d1-9461-3e451f6ef6ea",
   "metadata": {},
   "source": [
    "## 基础用法\n"
   ]
  },
  {
   "cell_type": "code",
   "execution_count": 1,
   "id": "f5928b17-e8c8-47b0-9774-a8bb1f7e6af3",
   "metadata": {},
   "outputs": [],
   "source": [
    "import os\n",
    "import pathlib\n",
    "from vuepy.utils import magic\n",
    "from vleaflet import leaflet\n",
    "%load_ext vuepy"
   ]
  },
  {
   "cell_type": "code",
   "execution_count": 4,
   "id": "7982482f-985d-44b5-89d6-57b3bb2c3427",
   "metadata": {},
   "outputs": [
    {
     "name": "stdout",
     "output_type": "stream",
     "text": [
      "{\"vue\": \"<template>\\n  <vl-map :center=\\\"p\\\" :zoom-control='False'>\\n    <template #controls>\\n      <vl-geoman-draw-control \\n        position='topright' \\n        :polyline=\\\"polyline\\\" \\n        :polygon=\\\"polygon\\\" \\n        :circlemarker=\\\"circlemarker\\\" \\n        :rectangle=\\\"rectangle\\\" \\n      />\\n    </template>\\n  </vl-map>\\n</template>\\n<script lang='py'>\\nfrom vuepy import ref\\n\\np = [52.204793, 360.121558]\\npolyline = {\\n    \\\"pathOptions\\\": {\\n        \\\"color\\\": \\\"red\\\",\\n        \\\"weight\\\": 8,\\n        \\\"opacity\\\": 1.0\\n    }\\n}\\n\\npolygon = {\\n    \\\"pathOptions\\\": {\\n        \\\"fillColor\\\": \\\"#6be5c3\\\",\\n        \\\"color\\\": \\\"#6be5c3\\\",\\n        \\\"fillOpacity\\\": 1.0\\n    }\\n}\\ncirclemarker = {\\n    \\\"pathOptions\\\": {\\n        \\\"fillColor\\\": \\\"#efed69\\\",\\n        \\\"color\\\": \\\"#efed69\\\",\\n        \\\"fillOpacity\\\": 0.62\\n    }\\n}\\nrectangle = {\\n    \\\"pathOptions\\\": {\\n        \\\"fillColor\\\": \\\"#fca45d\\\",\\n        \\\"color\\\": \\\"#fca45d\\\",\\n        \\\"fillOpacity\\\": 1.0\\n    }\\n}\\n</script>\\n\", \"setup\": \"\"}\n"
     ]
    },
    {
     "data": {
      "application/vnd.jupyter.widget-view+json": {
       "model_id": "34baed80232f43628116d5c4cae416e9",
       "version_major": 2,
       "version_minor": 0
      },
      "text/plain": [
       "Document(children=(Dom(children=(MessageWidget(message_options={'message': '', 'type': 'info', 'show_close': F…"
      ]
     },
     "execution_count": 4,
     "metadata": {},
     "output_type": "execute_result"
    }
   ],
   "source": [
    "%%vuepy_run --plugins leaflet --show-code\n",
    "<template>\n",
    "  <vl-map :center=\"p\" :zoom-control='False'>\n",
    "    <template #controls>\n",
    "      <vl-geoman-draw-control \n",
    "        position='topright' \n",
    "        :polyline=\"polyline\" \n",
    "        :polygon=\"polygon\" \n",
    "        :circlemarker=\"circlemarker\" \n",
    "        :rectangle=\"rectangle\" \n",
    "      />\n",
    "    </template>\n",
    "  </vl-map>\n",
    "</template>\n",
    "<script lang='py'>\n",
    "from vuepy import ref\n",
    "\n",
    "p = [52.204793, 360.121558]\n",
    "polyline = {\n",
    "    \"pathOptions\": {\n",
    "        \"color\": \"red\",\n",
    "        \"weight\": 8,\n",
    "        \"opacity\": 1.0\n",
    "    }\n",
    "}\n",
    "\n",
    "polygon = {\n",
    "    \"pathOptions\": {\n",
    "        \"fillColor\": \"#6be5c3\",\n",
    "        \"color\": \"#6be5c3\",\n",
    "        \"fillOpacity\": 1.0\n",
    "    }\n",
    "}\n",
    "circlemarker = {\n",
    "    \"pathOptions\": {\n",
    "        \"fillColor\": \"#efed69\",\n",
    "        \"color\": \"#efed69\",\n",
    "        \"fillOpacity\": 0.62\n",
    "    }\n",
    "}\n",
    "rectangle = {\n",
    "    \"pathOptions\": {\n",
    "        \"fillColor\": \"#fca45d\",\n",
    "        \"color\": \"#fca45d\",\n",
    "        \"fillOpacity\": 1.0\n",
    "    }\n",
    "}\n",
    "</script>"
   ]
  },
  {
   "cell_type": "markdown",
   "id": "392aa25a-4073-4d2b-93f9-d89666b38369",
   "metadata": {},
   "source": [
    "## 禁用状态\n",
    "\n",
    "你可以使用 `disabled` 属性来定义是否被禁用。  \n",
    "使用 `disabled` 属性来控制是否为禁用状态。该属性接受一个 `bool` 类型的值。"
   ]
  },
  {
   "cell_type": "code",
   "execution_count": 3,
   "id": "4555cd32-d66d-411b-8b39-01153e8fb53d",
   "metadata": {},
   "outputs": [
    {
     "ename": "FileNotFoundError",
     "evalue": "[Errno 2] No such file or directory: 'disabled.vue'",
     "output_type": "error",
     "traceback": [
      "\u001b[0;31m---------------------------------------------------------------------------\u001b[0m",
      "\u001b[0;31mFileNotFoundError\u001b[0m                         Traceback (most recent call last)",
      "Cell \u001b[0;32mIn[3], line 1\u001b[0m\n\u001b[0;32m----> 1\u001b[0m \u001b[43mget_ipython\u001b[49m\u001b[43m(\u001b[49m\u001b[43m)\u001b[49m\u001b[38;5;241;43m.\u001b[39;49m\u001b[43mrun_line_magic\u001b[49m\u001b[43m(\u001b[49m\u001b[38;5;124;43m'\u001b[39;49m\u001b[38;5;124;43mvuepy_demo\u001b[39;49m\u001b[38;5;124;43m'\u001b[39;49m\u001b[43m,\u001b[49m\u001b[43m \u001b[49m\u001b[38;5;124;43m'\u001b[39;49m\u001b[38;5;124;43mdisabled.vue\u001b[39;49m\u001b[38;5;124;43m'\u001b[39;49m\u001b[43m)\u001b[49m\n",
      "File \u001b[0;32m~/miniforge3/envs/textgen/lib/python3.10/site-packages/IPython/core/interactiveshell.py:2482\u001b[0m, in \u001b[0;36mInteractiveShell.run_line_magic\u001b[0;34m(self, magic_name, line, _stack_depth)\u001b[0m\n\u001b[1;32m   2480\u001b[0m     kwargs[\u001b[38;5;124m'\u001b[39m\u001b[38;5;124mlocal_ns\u001b[39m\u001b[38;5;124m'\u001b[39m] \u001b[38;5;241m=\u001b[39m \u001b[38;5;28mself\u001b[39m\u001b[38;5;241m.\u001b[39mget_local_scope(stack_depth)\n\u001b[1;32m   2481\u001b[0m \u001b[38;5;28;01mwith\u001b[39;00m \u001b[38;5;28mself\u001b[39m\u001b[38;5;241m.\u001b[39mbuiltin_trap:\n\u001b[0;32m-> 2482\u001b[0m     result \u001b[38;5;241m=\u001b[39m \u001b[43mfn\u001b[49m\u001b[43m(\u001b[49m\u001b[38;5;241;43m*\u001b[39;49m\u001b[43margs\u001b[49m\u001b[43m,\u001b[49m\u001b[43m \u001b[49m\u001b[38;5;241;43m*\u001b[39;49m\u001b[38;5;241;43m*\u001b[39;49m\u001b[43mkwargs\u001b[49m\u001b[43m)\u001b[49m\n\u001b[1;32m   2484\u001b[0m \u001b[38;5;66;03m# The code below prevents the output from being displayed\u001b[39;00m\n\u001b[1;32m   2485\u001b[0m \u001b[38;5;66;03m# when using magics with decorator @output_can_be_silenced\u001b[39;00m\n\u001b[1;32m   2486\u001b[0m \u001b[38;5;66;03m# when the last Python token in the expression is a ';'.\u001b[39;00m\n\u001b[1;32m   2487\u001b[0m \u001b[38;5;28;01mif\u001b[39;00m \u001b[38;5;28mgetattr\u001b[39m(fn, magic\u001b[38;5;241m.\u001b[39mMAGIC_OUTPUT_CAN_BE_SILENCED, \u001b[38;5;28;01mFalse\u001b[39;00m):\n",
      "File \u001b[0;32m~/proj/bb/url2io.com/open_sesame/nb_llm/pyvue/src/vuepy/utils/magic.py:95\u001b[0m, in \u001b[0;36mvuepy_demo\u001b[0;34m(vue_sfc)\u001b[0m\n\u001b[1;32m     92\u001b[0m     return_app \u001b[38;5;241m=\u001b[39m \u001b[38;5;124m'\u001b[39m\u001b[38;5;124mno\u001b[39m\u001b[38;5;124m'\u001b[39m\n\u001b[1;32m     94\u001b[0m sfc_file_path \u001b[38;5;241m=\u001b[39m Path(vue_sfc\u001b[38;5;241m.\u001b[39mstrip())\n\u001b[0;32m---> 95\u001b[0m sfc_metadata \u001b[38;5;241m=\u001b[39m \u001b[43mSFCMetadata\u001b[49m\u001b[38;5;241;43m.\u001b[39;49m\u001b[43mload\u001b[49m\u001b[43m(\u001b[49m\u001b[43msfc_file_path\u001b[49m\u001b[43m)\u001b[49m\n\u001b[1;32m     97\u001b[0m script_content \u001b[38;5;241m=\u001b[39m \u001b[38;5;241m0\u001b[39m\n\u001b[1;32m     98\u001b[0m \u001b[38;5;28;01mif\u001b[39;00m sfc_metadata\u001b[38;5;241m.\u001b[39mscript_src:\n",
      "File \u001b[0;32m~/proj/bb/url2io.com/open_sesame/nb_llm/pyvue/src/vuepy/compiler_sfc/sfc_parser.py:117\u001b[0m, in \u001b[0;36mSFCMetadata.load\u001b[0;34m(cls, sfc_file)\u001b[0m\n\u001b[1;32m    114\u001b[0m \u001b[38;5;129m@classmethod\u001b[39m\n\u001b[1;32m    115\u001b[0m \u001b[38;5;28;01mdef\u001b[39;00m\u001b[38;5;250m \u001b[39m\u001b[38;5;21mload\u001b[39m(\u001b[38;5;28mcls\u001b[39m, sfc_file):\n\u001b[1;32m    116\u001b[0m     sfc_file \u001b[38;5;241m=\u001b[39m pathlib\u001b[38;5;241m.\u001b[39mPath(sfc_file)\n\u001b[0;32m--> 117\u001b[0m     \u001b[38;5;28;01mwith\u001b[39;00m \u001b[38;5;28;43mopen\u001b[39;49m\u001b[43m(\u001b[49m\u001b[43msfc_file\u001b[49m\u001b[43m)\u001b[49m \u001b[38;5;28;01mas\u001b[39;00m f:\n\u001b[1;32m    118\u001b[0m         raw_content \u001b[38;5;241m=\u001b[39m f\u001b[38;5;241m.\u001b[39mread()\n\u001b[1;32m    120\u001b[0m     \u001b[38;5;28;01mreturn\u001b[39;00m \u001b[38;5;28mcls\u001b[39m\u001b[38;5;241m.\u001b[39mloads(raw_content, sfc_file)\n",
      "\u001b[0;31mFileNotFoundError\u001b[0m: [Errno 2] No such file or directory: 'disabled.vue'"
     ]
    }
   ],
   "source": [
    "%vuepy_demo disabled.vue"
   ]
  },
  {
   "cell_type": "markdown",
   "id": "8685d144-029f-4afa-8547-4f3d84529504",
   "metadata": {},
   "source": [
    "## API\n",
    "\n",
    "### 属性\n",
    "\n",
    "| 属性名    | 说明                 | 类型                                                           | 默认值 |\n",
    "| -------- | ------------------- | ---------------------------------------------------------------| ------- |\n",
    "| v-model/value | 绑定值             | ^[str]                                                      | —       |\n",
    "| desc     | 按钮文字             | ^[str]                                                         | —       |\n",
    "| icon     | 按钮图标             | ^[str]                                                         | —       |\n",
    "| type     | 类型                | ^[enum]`''\\| 'success'\\| 'warning'\\| 'danger'\\| 'info'`        | —       |\n",
    "| tooltip  | 提示信息             | ^[str]                                                         | —       |\n",
    "| disabled | 按钮是否为禁用状态     | ^[boolean]                                                     | false   |\n",
    "| style    | 自定义css样式             | ^[str]                                                         | -       |\n",
    "\n",
    "### Events\n",
    "\n",
    "| 事件名 | 说明                  | 类型                                   |\n",
    "| ---   | ---                  | ---                                    |\n",
    "| click | 当按钮被点击时触发的事件 |  ^[Callable]`(button: Widget) -> None` |\n",
    "\n",
    "\n",
    "### Slots\n",
    "\n",
    "| 插槽名   | 说明               |\n",
    "| ---     | ---               |\n",
    "| default | 自定义默认内容      |\n",
    "\n",
    "\n",
    "### 方法\n",
    "\n",
    "| 属性名 | 说明 | 类型 |\n",
    "| --- | --- | --- |"
   ]
  },
  {
   "cell_type": "code",
   "execution_count": null,
   "id": "db17c770-7085-4365-b5f0-bd4f66ebc948",
   "metadata": {},
   "outputs": [],
   "source": []
  }
 ],
 "metadata": {
  "kernelspec": {
   "display_name": "Python 3 (ipykernel)",
   "language": "python",
   "name": "python3"
  },
  "language_info": {
   "codemirror_mode": {
    "name": "ipython",
    "version": 3
   },
   "file_extension": ".py",
   "mimetype": "text/x-python",
   "name": "python",
   "nbconvert_exporter": "python",
   "pygments_lexer": "ipython3",
   "version": "3.10.12"
  },
  "widgets": {
   "application/vnd.jupyter.widget-state+json": {
    "state": {},
    "version_major": 2,
    "version_minor": 0
   }
  }
 },
 "nbformat": 4,
 "nbformat_minor": 5
}
