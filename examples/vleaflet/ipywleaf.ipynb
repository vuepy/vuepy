{
 "cells": [
  {
   "cell_type": "code",
   "execution_count": 4,
   "id": "e516284a-d8ba-4434-924e-9dc1e3c45ced",
   "metadata": {},
   "outputs": [],
   "source": [
    "import ipyleaflet\n",
    "from ipyleaflet import Map"
   ]
  },
  {
   "cell_type": "code",
   "execution_count": 1,
   "id": "865180a6-e6a3-467c-a9b4-225b7e0f2c6e",
   "metadata": {},
   "outputs": [],
   "source": [
    "from vleaflet import leaflet\n",
    "%load_ext vuepy"
   ]
  },
  {
   "cell_type": "code",
   "execution_count": 2,
   "id": "54942e47-c74f-45a4-a47b-6f9eb004dda3",
   "metadata": {},
   "outputs": [
    {
     "data": {
      "application/vnd.jupyter.widget-view+json": {
       "model_id": "0b81f337163242ae859aa71321a2d083",
       "version_major": 2,
       "version_minor": 0
      },
      "text/plain": [
       "Document(children=(Dom(children=(MessageWidget(message_options={'message': '', 'type': 'info', 'show_close': F…"
      ]
     },
     "execution_count": 2,
     "metadata": {},
     "output_type": "execute_result"
    }
   ],
   "source": [
    "%%vuepy_run --plugins leaflet\n",
    "<template>\n",
    "  <Slider v-model=mark_opacity.value description='opacity' :min=0 :max=1></Slider>\n",
    "  <p>zoom {{ zoom.value }}</p>\n",
    "  <p>marker on {{ mark_loc.value }}</p>\n",
    "  <vl-map\n",
    "    :center=\"[39.9042, 116.4074]\"\n",
    "    v-model:zoom=\"zoom.value\"\n",
    "    :max-zoom=\"13\"\n",
    "    :min-zoom=\"3\"\n",
    "    :zoom-control='False'\n",
    "    :scroll-wheel-zoom='True'\n",
    "    :keyboard=\"True\"\n",
    "    :basemap=\"basemaps.Esri.WorldTopoMap\"\n",
    "    ref=m\n",
    "  >\n",
    "    <template #controls>\n",
    "      <vl-zoom-control position='topleft'></vl-zoom-control>\n",
    "      <vl-scale-control position='topleft'></vl-scale-control>\n",
    "      <vl-layers-control position='topleft' :collapsed='True'></vl-layers-control>\n",
    "      <vl-fullscreen-control position='topleft'></vl-fullscreen-control>\n",
    "      <vl-measure-control position='topleft'></vl-measure-control>\n",
    "      <vl-widget-control position='topright'>\n",
    "        <HBox>\n",
    "          <Dropdown v-model=mapname.value :options=maps @change=change_map></Dropdown>\n",
    "          <Button @click=clear_layers()>Clear Layers</Button>\n",
    "          <Button @click=add_marker() icon='map-marker'>+</Button>\n",
    "        </HBox>\n",
    "      </vl-widget-control>\n",
    "      <vl-search-control \n",
    "        url=\"https://nominatim.openstreetmap.org/search?format=json&q={s}\" \n",
    "        position=\"topleft\" @location_found=on_loc @feature_found=on_feat\n",
    "        placeholder='search.'\n",
    "      >\n",
    "        <vl-marker v-model=\"mark_loc.value\" name=\"mark1\" @move=\"on_move\" :opacity=\"mark_opacity.value\" title=\"drag\" >\n",
    "          <template #popup>\n",
    "            loc: {{ loc_ret.value }}\n",
    "            feat: {{ feat_ret.value }}\n",
    "          </template>\n",
    "        </vl-marker>\n",
    "      </vl-search-control>\n",
    "      <vl-geoman-draw-control position='topright' :polyline=\"polyline\" ></vl-geoman-draw-control>\n",
    "    </template>\n",
    "    <template #layers>\n",
    "      <vl-marker v-model=\"mark_loc.value\" name=\"mark1\" @move=\"on_move\" :opacity=\"mark_opacity.value\" title=\"drag\" >\n",
    "        <template #popup>\n",
    "          <div>Some html with a list of items\n",
    "          <ul class='list-group'>\n",
    "            <li class='list-group-item'>Item A</li>\n",
    "            <li class='list-group-item'>Item B</li>\n",
    "          </ul></div>\n",
    "        </template>\n",
    "      </vl-marker>\n",
    "    </template>\n",
    "  </vl-map>\n",
    "</template>\n",
    "<script lang='py'>\n",
    "from ipyleaflet import basemaps, Marker\n",
    "from vuepy import ref\n",
    "\n",
    "p = (39.9042, 116.4074)\n",
    "mark_opacity = ref(1.0)\n",
    "mark_loc = ref(p)\n",
    "m = ref(None)\n",
    "maps = list(basemaps.Esri)\n",
    "mapname = ref(None)\n",
    "\n",
    "zoom = ref(13)\n",
    "\n",
    "loc_ret = ref(None)\n",
    "feat_ret = ref(None)\n",
    "\n",
    "def on_loc(**kwargs):\n",
    "    print('on_loc', kwargs) # {'event': 'locationfound', 'text': '杭州市, 浙江省, 中国', 'feature': None, 'location': [30.2489634, 120.2052342]}\n",
    "    loc_ret.value = str(kwargs)\n",
    "\n",
    "def on_feat(**kwargs):\n",
    "    print('on_feat', kwargs) # {'event': 'locationfound', 'text': '杭州市, 浙江省, 中国', 'feature': None, 'location': [30.2489634, 120.2052342]}\n",
    "    feat_ret.value = str(kwargs)\n",
    "    \n",
    "\n",
    "polyline = {\n",
    "    \"pathOptions\": {\n",
    "        \"color\": \"red\",\n",
    "        \"weight\": 8,\n",
    "        \"opacity\": 1.0\n",
    "    }\n",
    "}\n",
    "\n",
    "def add_marker():\n",
    "    m.value.add(Marker(location=p))\n",
    "\n",
    "def change_map(e):\n",
    "    esri = basemaps.Esri[e['new']]\n",
    "    print(esri)\n",
    "    print('---')\n",
    "    m.value.basemap = esri\n",
    "\n",
    "def clear_layers():\n",
    "    m.value.clear_layers()\n",
    "\n",
    "def on_move(**kwargs):\n",
    "    print(kwargs)\n",
    "    print(\"--\")\n",
    "</script>"
   ]
  },
  {
   "cell_type": "code",
   "execution_count": 21,
   "id": "1a2538c0-a059-45bb-9483-b3a2550ae33c",
   "metadata": {},
   "outputs": [
    {
     "data": {
      "application/vnd.jupyter.widget-view+json": {
       "model_id": "f645bb2097f14d1da4f75b9cd20b135a",
       "version_major": 2,
       "version_minor": 0
      },
      "text/plain": [
       "VBox(children=(Map(center=[30.600093873550072, 104.1064453125], controls=(ZoomControl(options=['position', 'zo…"
      ]
     },
     "execution_count": 21,
     "metadata": {},
     "output_type": "execute_result"
    }
   ],
   "source": [
    "from ipyleaflet import *\n",
    "from ipywidgets import VBox, HTML\n",
    "\n",
    "p = [30.600093873550072, 104.1064453125]\n",
    "icon = AwesomeIcon(\n",
    "    name='bus',\n",
    "    marker_color='blue',\n",
    "    icon_color='black'\n",
    ")\n",
    "mark = Marker(location=p, icon=icon, name=')\n",
    "def at_move(*args, **kwargs):\n",
    "    print(args)\n",
    "    print(kwargs)\n",
    "# mark.on_mouseup(at_move)\n",
    "html_widget = HTML(\n",
    "    value=\"\"\"\n",
    "        <div>Some html with a list of items\n",
    "        <ul class='list-group'>\n",
    "            <li class='list-group-item'>Item A</li>\n",
    "            <li class='list-group-item'>Item B</li>\n",
    "            <li class='list-group-item'>Item C</li>\n",
    "        </ul></div>\"\"\",\n",
    "    placeholder=\"\",\n",
    "    description=\"\",\n",
    ")\n",
    "# mark.on_move(at_move)\n",
    "mark.observe(lambda x: print(x), names='location')\n",
    "mark.popup = html_widget\n",
    "\n",
    "# popup\n",
    "popup = Popup(\n",
    "    location=p,\n",
    "    child=HTML(\"hello\"),\n",
    "    auto_close=False,\n",
    "    close_button=True,\n",
    ")\n",
    "\n",
    "zoom = ZoomControl(position='topright')\n",
    "\n",
    "streetmap = basemap_to_tiles(basemaps.Esri.WorldStreetMap)\n",
    "streetmap.name = 'world street'\n",
    "layers = [streetmap, mark]\n",
    "m = Map(center=p, zoom=10, scroll_wheel_zoom=True, layers=layers)  # 北京坐标\n",
    "# m = Map(center=p, zoom=10, scroll_wheel_zoom=True, basemap=basemaps.Esri.WorldStreetMap)  # 北京坐标\n",
    "# m = Map(center=p, zoom=10, zoom_control=False)\n",
    "# m.add(mark)\n",
    "m.add(zoom)\n",
    "# m.add(popup)\n",
    "\n",
    "control = LayersControl(position='topright', collapsed=False)\n",
    "m.add(control)\n",
    "\n",
    "measure = MeasureControl(\n",
    "    position='bottomleft',\n",
    "    active_color = 'orange',\n",
    "    primary_length_unit = 'kilometers'\n",
    ")\n",
    "m.add(measure)\n",
    "\n",
    "draw_control = GeomanDrawControl()\n",
    "draw_control.polyline =  {\n",
    "    \"pathOptions\": {\n",
    "        \"color\": \"#6bc2e5\",\n",
    "        \"weight\": 8,\n",
    "        \"opacity\": 1.0\n",
    "    }\n",
    "}\n",
    "m.add(draw_control)\n",
    "\n",
    "marker = Marker(icon=AwesomeIcon(name=\"check\", marker_color='green', icon_color='darkgreen'))\n",
    "\n",
    "sc = SearchControl(\n",
    "  position=\"topright\",\n",
    "  url='https://nominatim.openstreetmap.org/search?format=json&q={s}',\n",
    "  zoom=5,\n",
    "  marker=marker\n",
    ")\n",
    "m.add(sc)\n",
    "\n",
    "VBox(children=[m])"
   ]
  },
  {
   "cell_type": "code",
   "execution_count": 5,
   "id": "7f9da911-f1de-46b8-830c-ab6fa238738e",
   "metadata": {},
   "outputs": [],
   "source": [
    "from ipyleaflet import basemaps, basemap_to_tiles\n",
    "\n",
    "l = basemaps.Esri"
   ]
  },
  {
   "cell_type": "code",
   "execution_count": null,
   "id": "81d6da13-2db2-49f9-849d-8c7987015a09",
   "metadata": {},
   "outputs": [],
   "source": []
  }
 ],
 "metadata": {
  "kernelspec": {
   "display_name": "Python 3 (ipykernel)",
   "language": "python",
   "name": "python3"
  },
  "language_info": {
   "codemirror_mode": {
    "name": "ipython",
    "version": 3
   },
   "file_extension": ".py",
   "mimetype": "text/x-python",
   "name": "python",
   "nbconvert_exporter": "python",
   "pygments_lexer": "ipython3",
   "version": "3.10.12"
  },
  "widgets": {
   "application/vnd.jupyter.widget-state+json": {
    "state": {
     "00f80f19258a405086f7b885cb231716": {
      "model_module": "@jupyter-widgets/controls",
      "model_module_version": "2.0.0",
      "model_name": "HTMLStyleModel",
      "state": {
       "description_width": "",
       "font_size": null,
       "text_color": null
      }
     },
     "01d0053a28604573b83b4f63744601f2": {
      "model_module": "@jupyter-widgets/controls",
      "model_module_version": "2.0.0",
      "model_name": "HTMLStyleModel",
      "state": {
       "description_width": "",
       "font_size": null,
       "text_color": null
      }
     },
     "03cd87d991c84736bf05933804655b63": {
      "model_module": "@jupyter-widgets/base",
      "model_module_version": "2.0.0",
      "model_name": "LayoutModel",
      "state": {}
     },
     "0440c317679b4c958af8ec6cd29bbf2f": {
      "model_module": "@jupyter-widgets/controls",
      "model_module_version": "2.0.0",
      "model_name": "VBoxModel",
      "state": {
       "children": [
        "IPY_MODEL_d78f22fb0d7e47e1a31479a15a9d1076"
       ],
       "layout": "IPY_MODEL_526b5bbfff9c4bdd92d216ce1982e618"
      }
     },
     "0464a1b72739499f9016444349d014bb": {
      "model_module": "jupyter-leaflet",
      "model_module_version": "^0.19",
      "model_name": "LeafletMapModel",
      "state": {
       "_model_module_version": "^0.19",
       "_view_module_version": "^0.19",
       "bottom": 12456,
       "center": [
        41.244772343082076,
        118.32275390625001
       ],
       "controls": [
        "IPY_MODEL_a85226eab288475096cee88f050a7c52",
        "IPY_MODEL_9975b82e465a40fcaa1a0e8daa1ca7fd",
        "IPY_MODEL_b117182c7efa44cd8cf4593d946f0635",
        "IPY_MODEL_33af825d7e9443f0a473d715c0496c2f",
        "IPY_MODEL_a04cfc7633ff4c45874c79c6501eb88a",
        "IPY_MODEL_07e4e252ecef4968b52d1d76995ea9c1",
        "IPY_MODEL_14890876de2b4bc0957b37360a2f950c",
        "IPY_MODEL_e436afa6635f4cb1ad6405d5ae2d578a"
       ],
       "default_style": "IPY_MODEL_1f0f9dc909de4c2487e1032edf5b7a05",
       "dragging_style": "IPY_MODEL_ba8769a86dce4989b6edea7a4be54da4",
       "east": 125.37597656250001,
       "fullscreen": false,
       "interpolation": "bilinear",
       "layers": [
        "IPY_MODEL_58012d95e7f148f8983801b83c64074f",
        "IPY_MODEL_e86e7484c00b416d8b490c62ac45f8dd"
       ],
       "layout": "IPY_MODEL_3ffe9b4db080454a87fc3e495b015ccf",
       "left": 26511,
       "max_zoom": 13,
       "min_zoom": 3,
       "modisdate": "2025-04-05",
       "north": 42.87596410238256,
       "options": [
        "bounce_at_zoom_limits",
        "box_zoom",
        "center",
        "close_popup_on_click",
        "double_click_zoom",
        "dragging",
        "fullscreen",
        "inertia",
        "inertia_deceleration",
        "inertia_max_speed",
        "interpolation",
        "keyboard",
        "keyboard_pan_offset",
        "keyboard_zoom_offset",
        "max_zoom",
        "min_zoom",
        "prefer_canvas",
        "scroll_wheel_zoom",
        "tap",
        "tap_tolerance",
        "touch_zoom",
        "world_copy_jump",
        "zoom",
        "zoom_animation_threshold",
        "zoom_delta",
        "zoom_snap"
       ],
       "prefer_canvas": false,
       "right": 27796,
       "scroll_wheel_zoom": true,
       "south": 39.57182223734374,
       "style": "IPY_MODEL_1f0f9dc909de4c2487e1032edf5b7a05",
       "top": 12056,
       "west": 111.25854492187501,
       "window_url": "http://localhost:2071/lab/tree/nb_llm/pyvue/examples/vleaflet/ipywleaf.ipynb",
       "zoom": 7
      }
     },
     "047afc839b544224a4dde8be00eb2965": {
      "model_module": "jupyter-leaflet",
      "model_module_version": "^0.19",
      "model_name": "LeafletSearchControlModel",
      "state": {
       "_model_module_version": "^0.19",
       "_view_module_version": "^0.19",
       "marker": "IPY_MODEL_9c522a89c6ac4a6d8fb888f2adc681af",
       "options": [
        "animate_location",
        "auto_collapse",
        "auto_type",
        "found_style",
        "jsonp_param",
        "position",
        "property_loc",
        "property_name",
        "url",
        "zoom"
       ],
       "position": "topright",
       "url": "https://nominatim.openstreetmap.org/search?format=json&q={s}",
       "zoom": 5
      }
     },
     "07e4e252ecef4968b52d1d76995ea9c1": {
      "model_module": "jupyter-leaflet",
      "model_module_version": "^0.19",
      "model_name": "LeafletWidgetControlModel",
      "state": {
       "_model_module_version": "^0.19",
       "_view_module_version": "^0.19",
       "options": [
        "position",
        "transparent_bg"
       ],
       "position": "topright",
       "widget": "IPY_MODEL_ba5dc2a862454276bc7b584d0f81ab99"
      }
     },
     "08a9b02488a94fd0a9b1141a60364fd7": {
      "model_module": "@jupyter-widgets/controls",
      "model_module_version": "2.0.0",
      "model_name": "ButtonModel",
      "state": {
       "description": "+",
       "icon": "map-marker",
       "layout": "IPY_MODEL_b08b13839bfa4df89b8bf0c160065842",
       "style": "IPY_MODEL_cdc96501f07b4b8f855281b1a551e80b",
       "tooltip": null
      }
     },
     "0b81f337163242ae859aa71321a2d083": {
      "model_module": "@jupyter-widgets/controls",
      "model_module_version": "2.0.0",
      "model_name": "VBoxModel",
      "state": {
       "children": [
        "IPY_MODEL_29a08445543345da91ce746974d94b57"
       ],
       "layout": "IPY_MODEL_332438a10b7d4885833c0fdaa2d4efe4"
      }
     },
     "0d4a972860f743f5a833f6c9ee457d5f": {
      "model_module": "jupyter-leaflet",
      "model_module_version": "^0.19",
      "model_name": "LeafletMapStyleModel",
      "state": {
       "_model_module_version": "^0.19"
      }
     },
     "0dcbfc7063634812a6bc8c7695003984": {
      "model_module": "@jupyter-widgets/controls",
      "model_module_version": "2.0.0",
      "model_name": "HTMLModel",
      "state": {
       "layout": "IPY_MODEL_d4a75677d9b941ea8210ad37bf841410",
       "style": "IPY_MODEL_3366ee0b2f9b41d38435bd0bc3eddf96",
       "value": "\n                <li class='list-group-item'>\n                  Item B\n                </li>"
      }
     },
     "0f2376c3101a48099d8c47676487a362": {
      "model_module": "jupyter-leaflet",
      "model_module_version": "^0.19",
      "model_name": "LeafletGeomanDrawControlModel",
      "state": {
       "_model_module_version": "^0.19",
       "_view_module_version": "^0.19",
       "cut": true,
       "drag": true,
       "options": [
        "position"
       ],
       "polyline": {
        "pathOptions": {
         "color": "#6bc2e5",
         "opacity": 1,
         "weight": 8
        }
       },
       "rotate": true
      }
     },
     "11153e78b97a4f54929beeafc23aa226": {
      "model_module": "@jupyter-widgets/controls",
      "model_module_version": "2.0.0",
      "model_name": "HTMLModel",
      "state": {
       "layout": "IPY_MODEL_8f1fac8189d4453fbf93644000b56b8e",
       "style": "IPY_MODEL_655029c148654b13b933efd846baa87a",
       "value": "hello"
      }
     },
     "11fc1d866f774df7b1624f1797927bc4": {
      "model_module": "jupyter-leaflet",
      "model_module_version": "^0.19",
      "model_name": "LeafletMapModel",
      "state": {
       "_model_module_version": "^0.19",
       "_view_module_version": "^0.19",
       "center": [
        30.600093873550072,
        104.1064453125
       ],
       "controls": [
        "IPY_MODEL_128a890aca364430a0e331abd196cf8d",
        "IPY_MODEL_9b1a3dda73ab4cb6b07ea1ddfdb828e3",
        "IPY_MODEL_1c85e81c9edd46f095b71a59cf40d9a1",
        "IPY_MODEL_ce275fa00ff4494fa60af64c5c052582",
        "IPY_MODEL_9cfc6c877c0644c38b05f3f693fb0e7e",
        "IPY_MODEL_e75b3c155bec493ab68a50049cb8ff36",
        "IPY_MODEL_f763606ddfd24b44ade4c05af3e9f7b8"
       ],
       "default_style": "IPY_MODEL_34455eda38a9407fa4603d56867fee6a",
       "dragging_style": "IPY_MODEL_e8b50cae637743bf9a2a039508733c46",
       "east": null,
       "fullscreen": false,
       "interpolation": "bilinear",
       "layers": [
        "IPY_MODEL_7029b67f956a43a88afd80ad9a71b4c9",
        "IPY_MODEL_d134c9232358443fa0209ba4690825ea"
       ],
       "layout": "IPY_MODEL_c591c7119c3949eb86c0d04e81e14bc9",
       "modisdate": "2025-04-05",
       "north": -90,
       "options": [
        "bounce_at_zoom_limits",
        "box_zoom",
        "center",
        "close_popup_on_click",
        "double_click_zoom",
        "dragging",
        "fullscreen",
        "inertia",
        "inertia_deceleration",
        "inertia_max_speed",
        "interpolation",
        "keyboard",
        "keyboard_pan_offset",
        "keyboard_zoom_offset",
        "max_zoom",
        "min_zoom",
        "prefer_canvas",
        "scroll_wheel_zoom",
        "tap",
        "tap_tolerance",
        "touch_zoom",
        "world_copy_jump",
        "zoom",
        "zoom_animation_threshold",
        "zoom_delta",
        "zoom_snap"
       ],
       "prefer_canvas": false,
       "scroll_wheel_zoom": true,
       "south": 90,
       "style": "IPY_MODEL_34455eda38a9407fa4603d56867fee6a",
       "west": null,
       "window_url": "http://localhost:2071/lab/tree/nb_llm/pyvue/examples/vleaflet/ipywleaf.ipynb",
       "zoom": 10
      }
     },
     "128a890aca364430a0e331abd196cf8d": {
      "model_module": "jupyter-leaflet",
      "model_module_version": "^0.19",
      "model_name": "LeafletZoomControlModel",
      "state": {
       "_model_module_version": "^0.19",
       "_view_module_version": "^0.19",
       "options": [
        "position",
        "zoom_in_text",
        "zoom_in_title",
        "zoom_out_text",
        "zoom_out_title"
       ]
      }
     },
     "144631bc01f94d48b7163af08c5fe037": {
      "model_module": "@jupyter-widgets/base",
      "model_module_version": "2.0.0",
      "model_name": "LayoutModel",
      "state": {}
     },
     "14890876de2b4bc0957b37360a2f950c": {
      "model_module": "jupyter-leaflet",
      "model_module_version": "^0.19",
      "model_name": "LeafletSearchControlModel",
      "state": {
       "_model_module_version": "^0.19",
       "_view_module_version": "^0.19",
       "marker": "IPY_MODEL_553f9100aa15460eb65387ca4f84ed47",
       "options": [
        "animate_location",
        "auto_collapse",
        "auto_type",
        "found_style",
        "jsonp_param",
        "position",
        "property_loc",
        "property_name",
        "url",
        "zoom"
       ],
       "url": "https://nominatim.openstreetmap.org/search?format=json&q={s}"
      }
     },
     "156f4a20fe4d40079b9287a51c1c44b0": {
      "model_module": "@jupyter-widgets/controls",
      "model_module_version": "2.0.0",
      "model_name": "HTMLStyleModel",
      "state": {
       "description_width": "",
       "font_size": null,
       "text_color": null
      }
     },
     "15b09a3f152040c6a7e9e474cd8bb776": {
      "model_module": "jupyter-leaflet",
      "model_module_version": "^0.19",
      "model_name": "LeafletAttributionControlModel",
      "state": {
       "_model_module_version": "^0.19",
       "_view_module_version": "^0.19",
       "options": [
        "position",
        "prefix"
       ],
       "position": "bottomright",
       "prefix": "ipyleaflet"
      }
     },
     "16d381b7ba0d412d9ba82fd757dbe25d": {
      "model_module": "@jupyter-widgets/base",
      "model_module_version": "2.0.0",
      "model_name": "LayoutModel",
      "state": {}
     },
     "16d937c1c84948e682a90e479528b370": {
      "model_module": "@jupyter-widgets/base",
      "model_module_version": "2.0.0",
      "model_name": "LayoutModel",
      "state": {}
     },
     "197e779a2842442e93b3ea4f0b50fe5e": {
      "model_module": "@jupyter-widgets/base",
      "model_module_version": "2.0.0",
      "model_name": "LayoutModel",
      "state": {}
     },
     "19e2e5e0493141f78d5aea5586ac1e67": {
      "model_module": "jupyter-leaflet",
      "model_module_version": "^0.19",
      "model_name": "LeafletAttributionControlModel",
      "state": {
       "_model_module_version": "^0.19",
       "_view_module_version": "^0.19",
       "options": [
        "position",
        "prefix"
       ],
       "position": "bottomright",
       "prefix": "ipyleaflet"
      }
     },
     "1a067c4a131d484b966b6305d3652acb": {
      "model_module": "@jupyter-widgets/base",
      "model_module_version": "2.0.0",
      "model_name": "LayoutModel",
      "state": {}
     },
     "1a5c854e694043af8c3bf79722cc377d": {
      "model_module": "jupyter-leaflet",
      "model_module_version": "^0.19",
      "model_name": "LeafletLayersControlModel",
      "state": {
       "_model_module_version": "^0.19",
       "_view_module_version": "^0.19",
       "collapsed": false,
       "options": [
        "collapsed",
        "position"
       ],
       "position": "topright"
      }
     },
     "1bef877d738c427aa958024154a157ab": {
      "model_module": "@jupyter-widgets/controls",
      "model_module_version": "2.0.0",
      "model_name": "HTMLStyleModel",
      "state": {
       "description_width": "",
       "font_size": null,
       "text_color": null
      }
     },
     "1c16b185fff84f4a8d5734fbddd27a14": {
      "model_module": "jupyter-leaflet",
      "model_module_version": "^0.19",
      "model_name": "LeafletMapModel",
      "state": {
       "_model_module_version": "^0.19",
       "_view_module_version": "^0.19",
       "center": [
        30.600093873550072,
        104.1064453125
       ],
       "controls": [
        "IPY_MODEL_595c931d927c414990af2c1765724b88",
        "IPY_MODEL_19e2e5e0493141f78d5aea5586ac1e67",
        "IPY_MODEL_d5efef4bde0d449db4166011bf4ddbf8",
        "IPY_MODEL_5d05f2794e484a43b42e7d53181e3941",
        "IPY_MODEL_f6d933a8850a4ec8bdf56c67e4e1ae81",
        "IPY_MODEL_a93e57471d97467a91996762105f659c",
        "IPY_MODEL_37d211149b4b4aafab3491e9f657ff4b"
       ],
       "default_style": "IPY_MODEL_d5c9957a2b5247949d67dd8ab460033f",
       "dragging_style": "IPY_MODEL_33fc6082a28b4d81ad73f9d959d6bfad",
       "east": null,
       "fullscreen": false,
       "interpolation": "bilinear",
       "layers": [
        "IPY_MODEL_52c77a466eb24bf3b7390b8e00eaba2f",
        "IPY_MODEL_ab967c6368b34592abec5401bce8e6c5"
       ],
       "layout": "IPY_MODEL_467f09ca1ff94bfa8bd452a1750d3de9",
       "modisdate": "2025-04-05",
       "north": -90,
       "options": [
        "bounce_at_zoom_limits",
        "box_zoom",
        "center",
        "close_popup_on_click",
        "double_click_zoom",
        "dragging",
        "fullscreen",
        "inertia",
        "inertia_deceleration",
        "inertia_max_speed",
        "interpolation",
        "keyboard",
        "keyboard_pan_offset",
        "keyboard_zoom_offset",
        "max_zoom",
        "min_zoom",
        "prefer_canvas",
        "scroll_wheel_zoom",
        "tap",
        "tap_tolerance",
        "touch_zoom",
        "world_copy_jump",
        "zoom",
        "zoom_animation_threshold",
        "zoom_delta",
        "zoom_snap"
       ],
       "prefer_canvas": false,
       "scroll_wheel_zoom": true,
       "south": 90,
       "style": "IPY_MODEL_d5c9957a2b5247949d67dd8ab460033f",
       "west": null,
       "window_url": "http://localhost:2071/lab/tree/nb_llm/pyvue/examples/vleaflet/ipywleaf.ipynb",
       "zoom": 10
      }
     },
     "1c85e81c9edd46f095b71a59cf40d9a1": {
      "model_module": "jupyter-leaflet",
      "model_module_version": "^0.19",
      "model_name": "LeafletZoomControlModel",
      "state": {
       "_model_module_version": "^0.19",
       "_view_module_version": "^0.19",
       "options": [
        "position",
        "zoom_in_text",
        "zoom_in_title",
        "zoom_out_text",
        "zoom_out_title"
       ],
       "position": "topright"
      }
     },
     "1d4a0b98304647c4bc455dadb583d570": {
      "model_module": "jupyter-leaflet",
      "model_module_version": "^0.19",
      "model_name": "LeafletAwesomeIconModel",
      "state": {
       "_model_module_version": "^0.19",
       "_view_module_version": "^0.19",
       "icon_color": "darkgreen",
       "marker_color": "green",
       "name": "check"
      }
     },
     "1f0f9dc909de4c2487e1032edf5b7a05": {
      "model_module": "jupyter-leaflet",
      "model_module_version": "^0.19",
      "model_name": "LeafletMapStyleModel",
      "state": {
       "_model_module_version": "^0.19"
      }
     },
     "1f73789d101d4667b6ef9a8f8e49345b": {
      "model_module": "jupyter-leaflet",
      "model_module_version": "^0.19",
      "model_name": "LeafletZoomControlModel",
      "state": {
       "_model_module_version": "^0.19",
       "_view_module_version": "^0.19",
       "options": [
        "position",
        "zoom_in_text",
        "zoom_in_title",
        "zoom_out_text",
        "zoom_out_title"
       ],
       "position": "topright"
      }
     },
     "2139dbd920f541758a77d78d3eb15e4d": {
      "model_module": "@jupyter-widgets/controls",
      "model_module_version": "2.0.0",
      "model_name": "HTMLModel",
      "state": {
       "layout": "IPY_MODEL_8735c604abbe416eb5359e28e324cccd",
       "style": "IPY_MODEL_e8222956cc474ca4a208fc29aaa365fd",
       "value": "\n                <li class='list-group-item'>\n                  Item A\n                </li>"
      }
     },
     "246c407ca389477bb33ab6f0e0b19903": {
      "model_module": "@jupyter-widgets/controls",
      "model_module_version": "2.0.0",
      "model_name": "DropdownModel",
      "state": {
       "_options_labels": [
        "WorldStreetMap",
        "WorldTopoMap",
        "WorldImagery",
        "WorldTerrain",
        "WorldShadedRelief",
        "WorldPhysical",
        "OceanBasemap",
        "NatGeoWorldMap",
        "WorldGrayCanvas",
        "ArcticImagery",
        "ArcticOceanBase",
        "ArcticOceanReference",
        "AntarcticImagery",
        "AntarcticBasemap"
       ],
       "index": null,
       "layout": "IPY_MODEL_692e7d4b16dc4deeb017ddabedb57982",
       "style": "IPY_MODEL_7a44d5af96c44331846cd3a9d6eb169e"
      }
     },
     "29a08445543345da91ce746974d94b57": {
      "model_module": "@jupyter-widgets/controls",
      "model_module_version": "2.0.0",
      "model_name": "VBoxModel",
      "state": {
       "children": [
        "IPY_MODEL_54f07b2d2a904880a1be9d6845089b76",
        "IPY_MODEL_5d64b2f49dc2455484abef2657e3a0c7"
       ],
       "layout": "IPY_MODEL_b247555418f648219b1ab5360f103d9d"
      }
     },
     "2dae15a4a5ae4f88b27cad788479d705": {
      "model_module": "jupyter-leaflet",
      "model_module_version": "^0.19",
      "model_name": "LeafletMapStyleModel",
      "state": {
       "_model_module_version": "^0.19"
      }
     },
     "2e0b908bc4764878b4b50299db6fc79b": {
      "model_module": "@jupyter-widgets/base",
      "model_module_version": "2.0.0",
      "model_name": "LayoutModel",
      "state": {}
     },
     "2ed7820bb6e34fcda36002640542643c": {
      "model_module": "jupyter-leaflet",
      "model_module_version": "^0.19",
      "model_name": "LeafletAwesomeIconModel",
      "state": {
       "_model_module_version": "^0.19",
       "_view_module_version": "^0.19",
       "icon_color": "black",
       "name": "bus"
      }
     },
     "3118df3e4d5a4fa8b2cc5a4b82ce2c23": {
      "model_module": "jupyter-leaflet",
      "model_module_version": "^0.19",
      "model_name": "LeafletMapStyleModel",
      "state": {
       "_model_module_version": "^0.19"
      }
     },
     "31a28639f66a42eeab7df4ebc561d4de": {
      "model_module": "@jupyter-widgets/controls",
      "model_module_version": "2.0.0",
      "model_name": "HTMLStyleModel",
      "state": {
       "description_width": "",
       "font_size": null,
       "text_color": null
      }
     },
     "328e58d3bba54ae0877ac3a7b30e2511": {
      "model_module": "jupyter-leaflet",
      "model_module_version": "^0.19",
      "model_name": "LeafletMapStyleModel",
      "state": {
       "_model_module_version": "^0.19"
      }
     },
     "3312ffeedd2745f883219e26cbf0e664": {
      "model_module": "@jupyter-widgets/controls",
      "model_module_version": "2.0.0",
      "model_name": "HTMLModel",
      "state": {
       "layout": "IPY_MODEL_6701575e8d8949719b8dbac141712d2a",
       "style": "IPY_MODEL_cf2aa2150e5b4f7e8a30416b174f8bfe",
       "value": "hello"
      }
     },
     "332438a10b7d4885833c0fdaa2d4efe4": {
      "model_module": "@jupyter-widgets/base",
      "model_module_version": "2.0.0",
      "model_name": "LayoutModel",
      "state": {}
     },
     "3366ee0b2f9b41d38435bd0bc3eddf96": {
      "model_module": "@jupyter-widgets/controls",
      "model_module_version": "2.0.0",
      "model_name": "HTMLStyleModel",
      "state": {
       "description_width": "",
       "font_size": null,
       "text_color": null
      }
     },
     "33af825d7e9443f0a473d715c0496c2f": {
      "model_module": "jupyter-leaflet",
      "model_module_version": "^0.19",
      "model_name": "LeafletLayersControlModel",
      "state": {
       "_model_module_version": "^0.19",
       "_view_module_version": "^0.19",
       "collapsed": true,
       "options": [
        "collapsed",
        "position"
       ]
      }
     },
     "33fc6082a28b4d81ad73f9d959d6bfad": {
      "model_module": "jupyter-leaflet",
      "model_module_version": "^0.19",
      "model_name": "LeafletMapStyleModel",
      "state": {
       "_model_module_version": "^0.19",
       "cursor": "move"
      }
     },
     "34455eda38a9407fa4603d56867fee6a": {
      "model_module": "jupyter-leaflet",
      "model_module_version": "^0.19",
      "model_name": "LeafletMapStyleModel",
      "state": {
       "_model_module_version": "^0.19"
      }
     },
     "3596a1e5c4484722b0aa396a3d6f5daf": {
      "model_module": "@jupyter-widgets/controls",
      "model_module_version": "2.0.0",
      "model_name": "VBoxModel",
      "state": {
       "children": [
        "IPY_MODEL_e86e7484c00b416d8b490c62ac45f8dd"
       ],
       "layout": "IPY_MODEL_e380b86646cb41908d30d26e2f8087ab"
      }
     },
     "35e7e6438e7f46faaa11bef8743195d0": {
      "model_module": "jupyter-leaflet",
      "model_module_version": "^0.19",
      "model_name": "LeafletZoomControlModel",
      "state": {
       "_model_module_version": "^0.19",
       "_view_module_version": "^0.19",
       "options": [
        "position",
        "zoom_in_text",
        "zoom_in_title",
        "zoom_out_text",
        "zoom_out_title"
       ]
      }
     },
     "364c1a90cba64bba8ef1e5320725f8b1": {
      "model_module": "@jupyter-widgets/controls",
      "model_module_version": "2.0.0",
      "model_name": "VBoxModel",
      "state": {
       "children": [
        "IPY_MODEL_11fc1d866f774df7b1624f1797927bc4"
       ],
       "layout": "IPY_MODEL_6218d4435c87417ca511401c4636a251"
      }
     },
     "376947f7cb194c138df3b3584cd54dcf": {
      "model_module": "jupyter-leaflet",
      "model_module_version": "^0.19",
      "model_name": "LeafletTileLayerModel",
      "state": {
       "_model_module_version": "^0.19",
       "_view_module_version": "^0.19",
       "attribution": "Tiles &copy; Esri &mdash; Source: Esri, DeLorme, NAVTEQ, USGS, Intermap, iPC, NRCAN, Esri Japan, METI, Esri China (Hong Kong), Esri (Thailand), TomTom, 2012",
       "min_zoom": 1,
       "name": "world street",
       "options": [
        "attribution",
        "bounds",
        "detect_retina",
        "max_native_zoom",
        "max_zoom",
        "min_native_zoom",
        "min_zoom",
        "no_wrap",
        "tile_size",
        "tms",
        "zoom_offset"
       ],
       "url": "https://server.arcgisonline.com/ArcGIS/rest/services/World_Street_Map/MapServer/tile/{z}/{y}/{x}"
      }
     },
     "377dcc59d38d4e619c37e61e4d6d1bb7": {
      "model_module": "@jupyter-widgets/controls",
      "model_module_version": "2.0.0",
      "model_name": "HTMLModel",
      "state": {
       "layout": "IPY_MODEL_9f9a858f828f478ab1d301a6541c7531",
       "style": "IPY_MODEL_471d861e185d45fe9d15456c8726f040",
       "value": "\n                <p >\n                  zoom 7.0\n                </p>"
      }
     },
     "37d211149b4b4aafab3491e9f657ff4b": {
      "model_module": "jupyter-leaflet",
      "model_module_version": "^0.19",
      "model_name": "LeafletSearchControlModel",
      "state": {
       "_model_module_version": "^0.19",
       "_view_module_version": "^0.19",
       "marker": "IPY_MODEL_a6209a1c442941f5adfb1a45325bdd97",
       "options": [
        "animate_location",
        "auto_collapse",
        "auto_type",
        "found_style",
        "jsonp_param",
        "position",
        "property_loc",
        "property_name",
        "url",
        "zoom"
       ],
       "position": "topright",
       "url": "https://nominatim.openstreetmap.org/search?format=json&q={s}",
       "zoom": 5
      }
     },
     "37e0d8170fee4fb7bb6e9c64a2af7a86": {
      "model_module": "@jupyter-widgets/base",
      "model_module_version": "2.0.0",
      "model_name": "LayoutModel",
      "state": {}
     },
     "391ce16fc41c4df094155d642613ae53": {
      "model_module": "jupyter-leaflet",
      "model_module_version": "^0.19",
      "model_name": "LeafletMapStyleModel",
      "state": {
       "_model_module_version": "^0.19"
      }
     },
     "393f424ddd4f4ed68b113e3ef9e3296b": {
      "model_module": "@jupyter-widgets/base",
      "model_module_version": "2.0.0",
      "model_name": "LayoutModel",
      "state": {}
     },
     "396d8290795f48d68f78f69d6795de6a": {
      "model_module": "jupyter-leaflet",
      "model_module_version": "^0.19",
      "model_name": "LeafletMapStyleModel",
      "state": {
       "_model_module_version": "^0.19"
      }
     },
     "398822ff41744b059d1f715f1c0d08b7": {
      "model_module": "@jupyter-widgets/controls",
      "model_module_version": "2.0.0",
      "model_name": "HTMLModel",
      "state": {
       "layout": "IPY_MODEL_37e0d8170fee4fb7bb6e9c64a2af7a86",
       "placeholder": "",
       "style": "IPY_MODEL_7795cce64361474e99f80e86c1f5d21e",
       "value": "\n        <div>Some html with a list of items\n        <ul class='list-group'>\n            <li class='list-group-item'>Item A</li>\n            <li class='list-group-item'>Item B</li>\n            <li class='list-group-item'>Item C</li>\n        </ul></div>"
      }
     },
     "39dd590102614ec18ab21c047bc0c4b5": {
      "model_module": "@jupyter-widgets/controls",
      "model_module_version": "2.0.0",
      "model_name": "HTMLModel",
      "state": {
       "layout": "IPY_MODEL_b5cb810723694321a3aec4da43c514d4",
       "style": "IPY_MODEL_7cdffaa1e65b4eeb81249acbe3f604de",
       "value": "\n            loc: None\n            feat: None\n          "
      }
     },
     "3c8d201bc22147d3b036cc60491e0515": {
      "model_module": "jupyter-leaflet",
      "model_module_version": "^0.19",
      "model_name": "LeafletMarkerModel",
      "state": {
       "_model_module_version": "^0.19",
       "_view_module_version": "^0.19",
       "icon": "IPY_MODEL_db6af3bfed144826b1bc5379f3b37123",
       "location": [
        30.600093873550072,
        104.1064453125
       ],
       "options": [
        "alt",
        "draggable",
        "keyboard",
        "rise_offset",
        "rise_on_hover",
        "rotation_angle",
        "rotation_origin",
        "title",
        "z_index_offset"
       ],
       "popup": "IPY_MODEL_89c1d1fa63e24a90b80285daf1caeeaf"
      }
     },
     "3cf54fb794c148109e517fbc6bcb9296": {
      "model_module": "@jupyter-widgets/base",
      "model_module_version": "2.0.0",
      "model_name": "LayoutModel",
      "state": {}
     },
     "3dab57a120734227a1ba2b3cf72ffa01": {
      "model_module": "@jupyter-widgets/controls",
      "model_module_version": "2.0.0",
      "model_name": "HTMLModel",
      "state": {
       "layout": "IPY_MODEL_d504f0c4ae884cc6a771cf25b451af45",
       "style": "IPY_MODEL_156f4a20fe4d40079b9287a51c1c44b0",
       "value": "hello"
      }
     },
     "3ea1beae0ee347adb38db584b724214f": {
      "model_module": "@jupyter-widgets/controls",
      "model_module_version": "2.0.0",
      "model_name": "HTMLModel",
      "state": {
       "layout": "IPY_MODEL_b3291bc5157845d0b6910262116009d4",
       "style": "IPY_MODEL_c9bb047d73ac4c9bb9146e8d617e0405",
       "value": "\n                <p >\n                  marker on (39.9042, 116.4074)\n                </p>"
      }
     },
     "3ffe9b4db080454a87fc3e495b015ccf": {
      "model_module": "@jupyter-widgets/base",
      "model_module_version": "2.0.0",
      "model_name": "LayoutModel",
      "state": {}
     },
     "428e5ef304f040d48989c4e2e4ae1ec4": {
      "model_module": "jupyter-leaflet",
      "model_module_version": "^0.19",
      "model_name": "LeafletMapModel",
      "state": {
       "_model_module_version": "^0.19",
       "_view_module_version": "^0.19",
       "bottom": 430918,
       "center": [
        30.5628522034418,
        103.92620086669923
       ],
       "controls": [
        "IPY_MODEL_f65bdad2af974b0e9fa6161a0da6ed84",
        "IPY_MODEL_5c30406d7ed045949d6bd765aee67f5b",
        "IPY_MODEL_99bfd270744248259f17cd868aec2bb6",
        "IPY_MODEL_709b29330f8746c1bb632b11d7716f80",
        "IPY_MODEL_e9c717615b6d4c65a7e98f023cec381e",
        "IPY_MODEL_0f2376c3101a48099d8c47676487a362",
        "IPY_MODEL_047afc839b544224a4dde8be00eb2965"
       ],
       "default_style": "IPY_MODEL_3118df3e4d5a4fa8b2cc5a4b82ce2c23",
       "dragging_style": "IPY_MODEL_d4783bb5d157468aa0db92727ca50b0c",
       "east": 104.14661407470703,
       "fullscreen": false,
       "interpolation": "bilinear",
       "layers": [
        "IPY_MODEL_376947f7cb194c138df3b3584cd54dcf",
        "IPY_MODEL_97bc5aff6456405584dbc8e2e03c4ecc"
       ],
       "layout": "IPY_MODEL_16d381b7ba0d412d9ba82fd757dbe25d",
       "left": 826352,
       "modisdate": "2025-04-05",
       "north": 30.621959295939355,
       "options": [
        "bounce_at_zoom_limits",
        "box_zoom",
        "center",
        "close_popup_on_click",
        "double_click_zoom",
        "dragging",
        "fullscreen",
        "inertia",
        "inertia_deceleration",
        "inertia_max_speed",
        "interpolation",
        "keyboard",
        "keyboard_pan_offset",
        "keyboard_zoom_offset",
        "max_zoom",
        "min_zoom",
        "prefer_canvas",
        "scroll_wheel_zoom",
        "tap",
        "tap_tolerance",
        "touch_zoom",
        "world_copy_jump",
        "zoom",
        "zoom_animation_threshold",
        "zoom_delta",
        "zoom_snap"
       ],
       "prefer_canvas": false,
       "right": 827637,
       "scroll_wheel_zoom": true,
       "south": 30.503709081429676,
       "style": "IPY_MODEL_3118df3e4d5a4fa8b2cc5a4b82ce2c23",
       "top": 430518,
       "west": 103.70544433593751,
       "window_url": "http://localhost:2071/lab/tree/nb_llm/pyvue/examples/vleaflet/ipywleaf.ipynb"
      }
     },
     "44b7bcd3daf049fa99e2d60f8e99ee94": {
      "model_module": "@jupyter-widgets/base",
      "model_module_version": "2.0.0",
      "model_name": "LayoutModel",
      "state": {}
     },
     "463c19dc558a46b7ae97d995efe86034": {
      "model_module": "jupyter-leaflet",
      "model_module_version": "^0.19",
      "model_name": "LeafletGeomanDrawControlModel",
      "state": {
       "_model_module_version": "^0.19",
       "_view_module_version": "^0.19",
       "cut": true,
       "drag": true,
       "options": [
        "position"
       ],
       "polyline": {
        "pathOptions": {
         "color": "#6bc2e5",
         "opacity": 1,
         "weight": 8
        }
       },
       "rotate": true
      }
     },
     "467f09ca1ff94bfa8bd452a1750d3de9": {
      "model_module": "@jupyter-widgets/base",
      "model_module_version": "2.0.0",
      "model_name": "LayoutModel",
      "state": {}
     },
     "47163767a0f54ad0b28ead561fb1eb9f": {
      "model_module": "@jupyter-widgets/base",
      "model_module_version": "2.0.0",
      "model_name": "LayoutModel",
      "state": {}
     },
     "471d861e185d45fe9d15456c8726f040": {
      "model_module": "@jupyter-widgets/controls",
      "model_module_version": "2.0.0",
      "model_name": "HTMLStyleModel",
      "state": {
       "description_width": "",
       "font_size": null,
       "text_color": null
      }
     },
     "477a006307f84c67933545eeb090f4d7": {
      "model_module": "@jupyter-widgets/controls",
      "model_module_version": "2.0.0",
      "model_name": "HTMLStyleModel",
      "state": {
       "description_width": "",
       "font_size": null,
       "text_color": null
      }
     },
     "4ab1f67d52f845908e29e845843e9536": {
      "model_module": "jupyter-leaflet",
      "model_module_version": "^0.19",
      "model_name": "LeafletMapStyleModel",
      "state": {
       "_model_module_version": "^0.19",
       "cursor": "move"
      }
     },
     "4addb4ae7eb64e60865ace0563bfd366": {
      "model_module": "anywidget",
      "model_module_version": "~0.9.*",
      "model_name": "AnyModel",
      "state": {
       "_anywidget_id": "ipywui.widgets.custom.message.MessageWidget",
       "_css": ".wui-message-root {\n    display: flex;\n    position: absolute;\n    left: 0;\n    right: 0;\n    top: 0;\n}\n\n.wui-message-container {\n    align-items: center;\n    display: flex;\n    flex-direction: column-reverse;\n    justify-content: center;\n    min-height: 100%;\n    outline: none;\n    width: 100%;\n\n    -webkit-tap-highlight-color: rgba(0,0,0,0);\n    bottom: 0;\n    left: 0;\n    right: 0;\n    top: 0;\n}\n\n.wui-message--success {\n    --wui-message-bg-color: #f0f9eb;\n    --wui-message-border-color: #e1f3d8;\n    --wui-message-text-color: #67c23a;\n}\n.wui-message--warning {\n    --wui-message-bg-color: #fdf6ec;\n    --wui-message-border-color: #faecd8;\n    --wui-message-text-color: #e6a23c;\n}\n.wui-message--info {\n    --wui-message-bg-color: #f4f4f5;\n    --wui-message-border-color: #e9e9eb;\n    --wui-message-text-color: #909399;\n}\n.wui-message--error {\n    --wui-message-bg-color: #fef0f0;\n    --wui-message-border-color: #fde2e2;\n    --wui-message-text-color: #f56c6c;\n}\n\n@keyframes msg-open {\n    0% {\n        opacity: 0;\n        -webkit-transform: translateY(-120%);\n        transform: translateY(-120%)\n    }\n    to {\n        -webkit-transform: translateY(0);\n        transform: translateY(0)\n    }\n}\n\n@keyframes msg-close {\n    0% {\n        opacity: 1;\n        -webkit-transform: scale(1);\n        transform: scale(1)\n    }\n    to {\n        opacity: 0;\n        -webkit-transform: scale(.9);\n        transform: scale(.9)\n    }\n}\n.wui-message[data-state=entered],.wui-message[data-state=entering] {\n    -webkit-animation: msg-open .24s cubic-bezier(.175,.885,.32,1.175) both;\n    animation: msg-open .24s cubic-bezier(.175,.885,.32,1.175) both\n}\n\n.wui-message[data-state=exiting] {\n    -webkit-animation: msg-close .12s cubic-bezier(.4,0,1,1) both;\n    animation: msg-close .12s cubic-bezier(.4,0,1,1) both\n}\n\n.wui-message {\n    width: -webkit-fit-content;\n    width: -moz-fit-content;\n    width: fit-content;\n    z-index: 2004;\n    max-width: calc(100% - 32px);\n    margin-top: 8px;\n    box-sizing: border-box;\n    /*border-radius: var(--wui-border-radius-base);*/\n    /*border-width: var(--wui-border-width);*/\n    /*border-style: var(--wui-border-style);*/\n    border-color: var(--wui-message-border-color);\n    /*left: 50%;*/\n    /*top: 20px;*/\n    /*transform: translateX(-50%);*/\n    background-color: var(--wui-message-bg-color);\n    /*transition: opacity var(--wui-transition-duration),transform .4s,top .4s;*/\n    /*padding: var(--wui-message-padding);*/\n    display: flex;\n    align-items: center;\n}\n\n/*.wui-message--success */\n.wui-message__content {\n    color: var(--wui-message-text-color);\n    font-size: 14px;\n    line-height: 18px;\n    margin: 10px 14px 10px 14px;\n    overflow-wrap: break-word;\n}\n\n.wui-message__closeBtn {\n    /*cursor: pointer;*/\n    font-style: normal;\n    /*color: gray;*/\n    padding-right: 14px;\n    /*font-size: 13px;*/\n    user-select: none;\n\n    background: transparent;\n    border: none;\n    color: gray;\n    cursor: pointer;\n    font-size: 13px;\n    font-weight: 400;\n    line-height: 1;\n    outline: none;\n    /*padding: 4px;*/\n    text-align: center;\n    transition: opacity .3s;\n    /*width: 100%;*/\n}",
       "_esm": "function closeMsg(msgDom) {\n  if (!msgDom) {\n    return;\n  }\n  msgDom.setAttribute('data-state', 'exiting');\n  msgDom.remove();\n}\n\nfunction createMsg(options) {\n  const {message, msg_id, type = 'info', show_close = false} = options;\n  const msgDom = document.createElement('div');\n  msgDom.className += ` wui-message--${type} wui-message`;\n  msgDom.setAttribute('data-state', 'entered');\n  msgDom.setAttribute('id', msg_id);\n  const msgContent = document.createElement('p');\n  msgContent.className += ` wui-message--${type} wui-message__content`;\n  msgContent.innerText = message;\n  msgDom.appendChild(msgContent);\n  if (show_close) {\n    const closeBtn = document.createElement('i');\n    closeBtn.className += 'wui-message__closeBtn';\n    closeBtn.innerText = 'x';\n    closeBtn.addEventListener('click', (ev) => {\n      closeMsg(msgDom);\n    })\n    msgDom.appendChild(closeBtn);\n  }\n  return msgDom;\n}\n\nexport async function render(view) {\n  let model = view.model;\n  const msgRoot = view.el;\n  msgRoot.className += ' wui-message-root'\n\n  const msgContainer = document.createElement('div');\n  msgContainer.className += ' wui-message-container';\n  msgRoot.appendChild(msgContainer)\n\n  model.on(\"change:message_options\", () => {\n    const options = model.get(\"message_options\");\n    const msg = createMsg(options);\n    msgContainer.appendChild(msg);\n    const {duration = 3000} = options;\n    if (duration > 0) {\n      setTimeout(() => {\n        closeMsg(msg)\n      }, duration);\n    }\n  })\n\n  model.on(\"change:close_msg_id\", () => {\n    const msg_id = model.get(\"close_msg_id\");\n    const msgDom = document.getElementById(msg_id);\n    closeMsg(msgDom);\n  })\n}\n",
       "_model_module": "anywidget",
       "_model_module_version": "~0.9.*",
       "_model_name": "AnyModel",
       "_view_module": "anywidget",
       "_view_module_version": "~0.9.*",
       "_view_name": "AnyView",
       "close_msg_id": "",
       "layout": "IPY_MODEL_be71cc8f39e74f4a8b798ba8a3576560",
       "message_options": {
        "duration": 3000,
        "message": "",
        "show_close": false,
        "type": "info"
       }
      }
     },
     "4ae954c38bf14f90a80acce14b76fc50": {
      "model_module": "@jupyter-widgets/base",
      "model_module_version": "2.0.0",
      "model_name": "LayoutModel",
      "state": {}
     },
     "526b5bbfff9c4bdd92d216ce1982e618": {
      "model_module": "@jupyter-widgets/base",
      "model_module_version": "2.0.0",
      "model_name": "LayoutModel",
      "state": {}
     },
     "52c77a466eb24bf3b7390b8e00eaba2f": {
      "model_module": "jupyter-leaflet",
      "model_module_version": "^0.19",
      "model_name": "LeafletTileLayerModel",
      "state": {
       "_model_module_version": "^0.19",
       "_view_module_version": "^0.19",
       "attribution": "Tiles &copy; Esri &mdash; Source: Esri, DeLorme, NAVTEQ, USGS, Intermap, iPC, NRCAN, Esri Japan, METI, Esri China (Hong Kong), Esri (Thailand), TomTom, 2012",
       "min_zoom": 1,
       "name": "world street",
       "options": [
        "attribution",
        "bounds",
        "detect_retina",
        "max_native_zoom",
        "max_zoom",
        "min_native_zoom",
        "min_zoom",
        "no_wrap",
        "tile_size",
        "tms",
        "zoom_offset"
       ],
       "url": "https://server.arcgisonline.com/ArcGIS/rest/services/World_Street_Map/MapServer/tile/{z}/{y}/{x}"
      }
     },
     "54f07b2d2a904880a1be9d6845089b76": {
      "model_module": "anywidget",
      "model_module_version": "~0.9.*",
      "model_name": "AnyModel",
      "state": {
       "_anywidget_id": "ipywui.widgets.custom.message.MessageWidget",
       "_css": ".wui-message-root {\n    display: flex;\n    position: absolute;\n    left: 0;\n    right: 0;\n    top: 0;\n}\n\n.wui-message-container {\n    align-items: center;\n    display: flex;\n    flex-direction: column-reverse;\n    justify-content: center;\n    min-height: 100%;\n    outline: none;\n    width: 100%;\n\n    -webkit-tap-highlight-color: rgba(0,0,0,0);\n    bottom: 0;\n    left: 0;\n    right: 0;\n    top: 0;\n}\n\n.wui-message--success {\n    --wui-message-bg-color: #f0f9eb;\n    --wui-message-border-color: #e1f3d8;\n    --wui-message-text-color: #67c23a;\n}\n.wui-message--warning {\n    --wui-message-bg-color: #fdf6ec;\n    --wui-message-border-color: #faecd8;\n    --wui-message-text-color: #e6a23c;\n}\n.wui-message--info {\n    --wui-message-bg-color: #f4f4f5;\n    --wui-message-border-color: #e9e9eb;\n    --wui-message-text-color: #909399;\n}\n.wui-message--error {\n    --wui-message-bg-color: #fef0f0;\n    --wui-message-border-color: #fde2e2;\n    --wui-message-text-color: #f56c6c;\n}\n\n@keyframes msg-open {\n    0% {\n        opacity: 0;\n        -webkit-transform: translateY(-120%);\n        transform: translateY(-120%)\n    }\n    to {\n        -webkit-transform: translateY(0);\n        transform: translateY(0)\n    }\n}\n\n@keyframes msg-close {\n    0% {\n        opacity: 1;\n        -webkit-transform: scale(1);\n        transform: scale(1)\n    }\n    to {\n        opacity: 0;\n        -webkit-transform: scale(.9);\n        transform: scale(.9)\n    }\n}\n.wui-message[data-state=entered],.wui-message[data-state=entering] {\n    -webkit-animation: msg-open .24s cubic-bezier(.175,.885,.32,1.175) both;\n    animation: msg-open .24s cubic-bezier(.175,.885,.32,1.175) both\n}\n\n.wui-message[data-state=exiting] {\n    -webkit-animation: msg-close .12s cubic-bezier(.4,0,1,1) both;\n    animation: msg-close .12s cubic-bezier(.4,0,1,1) both\n}\n\n.wui-message {\n    width: -webkit-fit-content;\n    width: -moz-fit-content;\n    width: fit-content;\n    z-index: 2004;\n    max-width: calc(100% - 32px);\n    margin-top: 8px;\n    box-sizing: border-box;\n    /*border-radius: var(--wui-border-radius-base);*/\n    /*border-width: var(--wui-border-width);*/\n    /*border-style: var(--wui-border-style);*/\n    border-color: var(--wui-message-border-color);\n    /*left: 50%;*/\n    /*top: 20px;*/\n    /*transform: translateX(-50%);*/\n    background-color: var(--wui-message-bg-color);\n    /*transition: opacity var(--wui-transition-duration),transform .4s,top .4s;*/\n    /*padding: var(--wui-message-padding);*/\n    display: flex;\n    align-items: center;\n}\n\n/*.wui-message--success */\n.wui-message__content {\n    color: var(--wui-message-text-color);\n    font-size: 14px;\n    line-height: 18px;\n    margin: 10px 14px 10px 14px;\n    overflow-wrap: break-word;\n}\n\n.wui-message__closeBtn {\n    /*cursor: pointer;*/\n    font-style: normal;\n    /*color: gray;*/\n    padding-right: 14px;\n    /*font-size: 13px;*/\n    user-select: none;\n\n    background: transparent;\n    border: none;\n    color: gray;\n    cursor: pointer;\n    font-size: 13px;\n    font-weight: 400;\n    line-height: 1;\n    outline: none;\n    /*padding: 4px;*/\n    text-align: center;\n    transition: opacity .3s;\n    /*width: 100%;*/\n}",
       "_esm": "function closeMsg(msgDom) {\n  if (!msgDom) {\n    return;\n  }\n  msgDom.setAttribute('data-state', 'exiting');\n  msgDom.remove();\n}\n\nfunction createMsg(options) {\n  const {message, msg_id, type = 'info', show_close = false} = options;\n  const msgDom = document.createElement('div');\n  msgDom.className += ` wui-message--${type} wui-message`;\n  msgDom.setAttribute('data-state', 'entered');\n  msgDom.setAttribute('id', msg_id);\n  const msgContent = document.createElement('p');\n  msgContent.className += ` wui-message--${type} wui-message__content`;\n  msgContent.innerText = message;\n  msgDom.appendChild(msgContent);\n  if (show_close) {\n    const closeBtn = document.createElement('i');\n    closeBtn.className += 'wui-message__closeBtn';\n    closeBtn.innerText = 'x';\n    closeBtn.addEventListener('click', (ev) => {\n      closeMsg(msgDom);\n    })\n    msgDom.appendChild(closeBtn);\n  }\n  return msgDom;\n}\n\nexport async function render(view) {\n  let model = view.model;\n  const msgRoot = view.el;\n  msgRoot.className += ' wui-message-root'\n\n  const msgContainer = document.createElement('div');\n  msgContainer.className += ' wui-message-container';\n  msgRoot.appendChild(msgContainer)\n\n  model.on(\"change:message_options\", () => {\n    const options = model.get(\"message_options\");\n    const msg = createMsg(options);\n    msgContainer.appendChild(msg);\n    const {duration = 3000} = options;\n    if (duration > 0) {\n      setTimeout(() => {\n        closeMsg(msg)\n      }, duration);\n    }\n  })\n\n  model.on(\"change:close_msg_id\", () => {\n    const msg_id = model.get(\"close_msg_id\");\n    const msgDom = document.getElementById(msg_id);\n    closeMsg(msgDom);\n  })\n}\n",
       "_model_module": "anywidget",
       "_model_module_version": "~0.9.*",
       "_model_name": "AnyModel",
       "_view_module": "anywidget",
       "_view_module_version": "~0.9.*",
       "_view_name": "AnyView",
       "close_msg_id": "",
       "layout": "IPY_MODEL_753ba35fd6b245ff93425f705f499241",
       "message_options": {
        "duration": 3000,
        "message": "",
        "show_close": false,
        "type": "info"
       }
      }
     },
     "553f9100aa15460eb65387ca4f84ed47": {
      "model_module": "jupyter-leaflet",
      "model_module_version": "^0.19",
      "model_name": "LeafletMarkerModel",
      "state": {
       "_model_module_version": "^0.19",
       "_view_module_version": "^0.19",
       "location": [
        39.9042,
        116.4074
       ],
       "name": "mark1",
       "options": [
        "alt",
        "draggable",
        "keyboard",
        "rise_offset",
        "rise_on_hover",
        "rotation_angle",
        "rotation_origin",
        "title",
        "z_index_offset"
       ],
       "popup": "IPY_MODEL_9cf0fa073263441c9189681d32a6137d",
       "title": "drag"
      }
     },
     "55a0d59bd68f48d484bcbb4aaeb948ca": {
      "model_module": "@jupyter-widgets/base",
      "model_module_version": "2.0.0",
      "model_name": "LayoutModel",
      "state": {}
     },
     "567ad00c0e2f4280bdf87807b5cc4e53": {
      "model_module": "jupyter-leaflet",
      "model_module_version": "^0.19",
      "model_name": "LeafletMeasureControlModel",
      "state": {
       "_model_module_version": "^0.19",
       "_view_module_version": "^0.19",
       "active_color": "orange",
       "options": [
        "active_color",
        "capture_z_index",
        "completed_color",
        "popup_options",
        "position",
        "primary_area_unit",
        "primary_length_unit",
        "secondary_area_unit",
        "secondary_length_unit"
       ],
       "position": "bottomleft",
       "primary_length_unit": "kilometers",
       "secondary_area_unit": null,
       "secondary_length_unit": null
      }
     },
     "57d26b89541f415b976d543d29c9455b": {
      "model_module": "jupyter-leaflet",
      "model_module_version": "^0.19",
      "model_name": "LeafletAwesomeIconModel",
      "state": {
       "_model_module_version": "^0.19",
       "_view_module_version": "^0.19",
       "icon_color": "darkgreen",
       "marker_color": "green",
       "name": "check"
      }
     },
     "58012d95e7f148f8983801b83c64074f": {
      "model_module": "jupyter-leaflet",
      "model_module_version": "^0.19",
      "model_name": "LeafletTileLayerModel",
      "state": {
       "_model_module_version": "^0.19",
       "_view_module_version": "^0.19",
       "attribution": "Tiles &copy; Esri &mdash; Esri, DeLorme, NAVTEQ, TomTom, Intermap, iPC, USGS, FAO, NPS, NRCAN, GeoBase, Kadaster NL, Ordnance Survey, Esri Japan, METI, Esri China (Hong Kong), and the GIS User Community",
       "base": true,
       "min_zoom": 1,
       "name": "Esri.WorldTopoMap",
       "options": [
        "attribution",
        "bounds",
        "detect_retina",
        "max_native_zoom",
        "max_zoom",
        "min_native_zoom",
        "min_zoom",
        "no_wrap",
        "tile_size",
        "tms",
        "zoom_offset"
       ],
       "url": "https://server.arcgisonline.com/ArcGIS/rest/services/World_Topo_Map/MapServer/tile/{z}/{y}/{x}"
      }
     },
     "584cab2a9ff9410c83f4c63bb9071db7": {
      "model_module": "@jupyter-widgets/controls",
      "model_module_version": "2.0.0",
      "model_name": "HTMLModel",
      "state": {
       "layout": "IPY_MODEL_8924a002a39045fc94b8729d0dd94279",
       "placeholder": "",
       "style": "IPY_MODEL_eb0a00d737284a10b6e432bb5ffb58cb",
       "value": "\n        <div>Some html with a list of items\n        <ul class='list-group'>\n            <li class='list-group-item'>Item A</li>\n            <li class='list-group-item'>Item B</li>\n            <li class='list-group-item'>Item C</li>\n        </ul></div>"
      }
     },
     "595c931d927c414990af2c1765724b88": {
      "model_module": "jupyter-leaflet",
      "model_module_version": "^0.19",
      "model_name": "LeafletZoomControlModel",
      "state": {
       "_model_module_version": "^0.19",
       "_view_module_version": "^0.19",
       "options": [
        "position",
        "zoom_in_text",
        "zoom_in_title",
        "zoom_out_text",
        "zoom_out_title"
       ]
      }
     },
     "5c30406d7ed045949d6bd765aee67f5b": {
      "model_module": "jupyter-leaflet",
      "model_module_version": "^0.19",
      "model_name": "LeafletAttributionControlModel",
      "state": {
       "_model_module_version": "^0.19",
       "_view_module_version": "^0.19",
       "options": [
        "position",
        "prefix"
       ],
       "position": "bottomright",
       "prefix": "ipyleaflet"
      }
     },
     "5d05f2794e484a43b42e7d53181e3941": {
      "model_module": "jupyter-leaflet",
      "model_module_version": "^0.19",
      "model_name": "LeafletLayersControlModel",
      "state": {
       "_model_module_version": "^0.19",
       "_view_module_version": "^0.19",
       "collapsed": false,
       "options": [
        "collapsed",
        "position"
       ],
       "position": "topright"
      }
     },
     "5d3559d5ff3644f48cee24e51f3d4895": {
      "model_module": "@jupyter-widgets/base",
      "model_module_version": "2.0.0",
      "model_name": "LayoutModel",
      "state": {}
     },
     "5d64b2f49dc2455484abef2657e3a0c7": {
      "model_module": "@jupyter-widgets/controls",
      "model_module_version": "2.0.0",
      "model_name": "VBoxModel",
      "state": {
       "children": [
        "IPY_MODEL_8e3a2220f7c5494594ca47fc34cd2a46"
       ],
       "layout": "IPY_MODEL_e058119d757f483ea71392a33aa3ebce"
      }
     },
     "6072819d8cdf43edba943b0e76165a90": {
      "model_module": "@jupyter-widgets/base",
      "model_module_version": "2.0.0",
      "model_name": "LayoutModel",
      "state": {}
     },
     "6218d4435c87417ca511401c4636a251": {
      "model_module": "@jupyter-widgets/base",
      "model_module_version": "2.0.0",
      "model_name": "LayoutModel",
      "state": {}
     },
     "62213d1e3420425e843b7f3a9e46ff47": {
      "model_module": "@jupyter-widgets/controls",
      "model_module_version": "2.0.0",
      "model_name": "HTMLModel",
      "state": {
       "layout": "IPY_MODEL_4ae954c38bf14f90a80acce14b76fc50",
       "style": "IPY_MODEL_477a006307f84c67933545eeb090f4d7",
       "value": "hello"
      }
     },
     "636bd39c13c645f185d63b5e0328a8ec": {
      "model_module": "jupyter-leaflet",
      "model_module_version": "^0.19",
      "model_name": "LeafletMapStyleModel",
      "state": {
       "_model_module_version": "^0.19"
      }
     },
     "655029c148654b13b933efd846baa87a": {
      "model_module": "@jupyter-widgets/controls",
      "model_module_version": "2.0.0",
      "model_name": "HTMLStyleModel",
      "state": {
       "description_width": "",
       "font_size": null,
       "text_color": null
      }
     },
     "6701575e8d8949719b8dbac141712d2a": {
      "model_module": "@jupyter-widgets/base",
      "model_module_version": "2.0.0",
      "model_name": "LayoutModel",
      "state": {}
     },
     "67b7d0626fb84ddd9ce2ffdb58c19fd0": {
      "model_module": "jupyter-leaflet",
      "model_module_version": "^0.19",
      "model_name": "LeafletGeomanDrawControlModel",
      "state": {
       "_model_module_version": "^0.19",
       "_view_module_version": "^0.19",
       "cut": true,
       "drag": true,
       "options": [
        "position"
       ],
       "polyline": {
        "pathOptions": {
         "color": "#6bc2e5",
         "opacity": 1,
         "weight": 8
        }
       },
       "rotate": true
      }
     },
     "6820427746ff4cc6bdab1c88b922af23": {
      "model_module": "jupyter-leaflet",
      "model_module_version": "^0.19",
      "model_name": "LeafletPopupModel",
      "state": {
       "_model_module_version": "^0.19",
       "_view_module_version": "^0.19",
       "auto_close": false,
       "auto_pan": true,
       "auto_pan_padding": [
        5,
        5
       ],
       "auto_pan_padding_bottom_right": null,
       "auto_pan_padding_top_left": null,
       "child": "IPY_MODEL_11153e78b97a4f54929beeafc23aa226",
       "close_button": true,
       "close_on_escape_key": true,
       "keep_in_view": false,
       "location": [
        30.600093873550072,
        104.1064453125
       ],
       "options": [
        "auto_close",
        "auto_pan",
        "auto_pan_padding",
        "auto_pan_padding_bottom_right",
        "auto_pan_padding_top_left",
        "close_button",
        "close_on_escape_key",
        "keep_in_view",
        "max_height",
        "max_width",
        "min_width"
       ]
      }
     },
     "687a2e89e6344bc7bad8b1894fea608c": {
      "model_module": "@jupyter-widgets/controls",
      "model_module_version": "2.0.0",
      "model_name": "HTMLModel",
      "state": {
       "layout": "IPY_MODEL_44b7bcd3daf049fa99e2d60f8e99ee94",
       "placeholder": "",
       "style": "IPY_MODEL_00f80f19258a405086f7b885cb231716",
       "value": "\n        <div>Some html with a list of items\n        <ul class='list-group'>\n            <li class='list-group-item'>Item A</li>\n            <li class='list-group-item'>Item B</li>\n            <li class='list-group-item'>Item C</li>\n        </ul></div>"
      }
     },
     "68991717896d49e3816272a9b9aa93f6": {
      "model_module": "jupyter-leaflet",
      "model_module_version": "^0.19",
      "model_name": "LeafletAwesomeIconModel",
      "state": {
       "_model_module_version": "^0.19",
       "_view_module_version": "^0.19",
       "icon_color": "darkgreen",
       "marker_color": "green",
       "name": "check"
      }
     },
     "692e7d4b16dc4deeb017ddabedb57982": {
      "model_module": "@jupyter-widgets/base",
      "model_module_version": "2.0.0",
      "model_name": "LayoutModel",
      "state": {}
     },
     "69e53986014f4ee09fc6eae3fd8cbfc2": {
      "model_module": "jupyter-leaflet",
      "model_module_version": "^0.19",
      "model_name": "LeafletPopupModel",
      "state": {
       "_model_module_version": "^0.19",
       "_view_module_version": "^0.19",
       "auto_close": false,
       "auto_pan": true,
       "auto_pan_padding": [
        5,
        5
       ],
       "auto_pan_padding_bottom_right": null,
       "auto_pan_padding_top_left": null,
       "child": "IPY_MODEL_a1074d2d4cef4ae193a6cada429740a7",
       "close_button": true,
       "close_on_escape_key": true,
       "keep_in_view": false,
       "location": [
        30.600093873550072,
        104.1064453125
       ],
       "options": [
        "auto_close",
        "auto_pan",
        "auto_pan_padding",
        "auto_pan_padding_bottom_right",
        "auto_pan_padding_top_left",
        "close_button",
        "close_on_escape_key",
        "keep_in_view",
        "max_height",
        "max_width",
        "min_width"
       ]
      }
     },
     "6e1fa04f533d472f9e75205887aaa4dd": {
      "model_module": "jupyter-leaflet",
      "model_module_version": "^0.19",
      "model_name": "LeafletMapStyleModel",
      "state": {
       "_model_module_version": "^0.19",
       "cursor": "move"
      }
     },
     "7029b67f956a43a88afd80ad9a71b4c9": {
      "model_module": "jupyter-leaflet",
      "model_module_version": "^0.19",
      "model_name": "LeafletTileLayerModel",
      "state": {
       "_model_module_version": "^0.19",
       "_view_module_version": "^0.19",
       "attribution": "Tiles &copy; Esri &mdash; Source: Esri, DeLorme, NAVTEQ, USGS, Intermap, iPC, NRCAN, Esri Japan, METI, Esri China (Hong Kong), Esri (Thailand), TomTom, 2012",
       "min_zoom": 1,
       "name": "world street",
       "options": [
        "attribution",
        "bounds",
        "detect_retina",
        "max_native_zoom",
        "max_zoom",
        "min_native_zoom",
        "min_zoom",
        "no_wrap",
        "tile_size",
        "tms",
        "zoom_offset"
       ],
       "url": "https://server.arcgisonline.com/ArcGIS/rest/services/World_Street_Map/MapServer/tile/{z}/{y}/{x}"
      }
     },
     "709b29330f8746c1bb632b11d7716f80": {
      "model_module": "jupyter-leaflet",
      "model_module_version": "^0.19",
      "model_name": "LeafletLayersControlModel",
      "state": {
       "_model_module_version": "^0.19",
       "_view_module_version": "^0.19",
       "collapsed": false,
       "options": [
        "collapsed",
        "position"
       ],
       "position": "topright"
      }
     },
     "73ac08d2a23b42d8b99bfd66e40d1bc3": {
      "model_module": "@jupyter-widgets/base",
      "model_module_version": "2.0.0",
      "model_name": "LayoutModel",
      "state": {}
     },
     "753ba35fd6b245ff93425f705f499241": {
      "model_module": "@jupyter-widgets/base",
      "model_module_version": "2.0.0",
      "model_name": "LayoutModel",
      "state": {}
     },
     "7702b4f226f34fb6b8e24f628b6c391c": {
      "model_module": "jupyter-leaflet",
      "model_module_version": "^0.19",
      "model_name": "LeafletAwesomeIconModel",
      "state": {
       "_model_module_version": "^0.19",
       "_view_module_version": "^0.19",
       "icon_color": "black",
       "name": "bus"
      }
     },
     "7795cce64361474e99f80e86c1f5d21e": {
      "model_module": "@jupyter-widgets/controls",
      "model_module_version": "2.0.0",
      "model_name": "HTMLStyleModel",
      "state": {
       "description_width": "",
       "font_size": null,
       "text_color": null
      }
     },
     "7a44d5af96c44331846cd3a9d6eb169e": {
      "model_module": "@jupyter-widgets/controls",
      "model_module_version": "2.0.0",
      "model_name": "DescriptionStyleModel",
      "state": {
       "description_width": ""
      }
     },
     "7c6ed9da2a084e66a852f01fd2fa9a45": {
      "model_module": "jupyter-leaflet",
      "model_module_version": "^0.19",
      "model_name": "LeafletZoomControlModel",
      "state": {
       "_model_module_version": "^0.19",
       "_view_module_version": "^0.19",
       "options": [
        "position",
        "zoom_in_text",
        "zoom_in_title",
        "zoom_out_text",
        "zoom_out_title"
       ],
       "position": "topright"
      }
     },
     "7cdffaa1e65b4eeb81249acbe3f604de": {
      "model_module": "@jupyter-widgets/controls",
      "model_module_version": "2.0.0",
      "model_name": "HTMLStyleModel",
      "state": {
       "description_width": "",
       "font_size": null,
       "text_color": null
      }
     },
     "7d7858f8e6f8445fa89b02ba70936aba": {
      "model_module": "@jupyter-widgets/controls",
      "model_module_version": "2.0.0",
      "model_name": "HTMLStyleModel",
      "state": {
       "description_width": "",
       "font_size": null,
       "text_color": null
      }
     },
     "7f2968fe4d604fbdb532515936fe341f": {
      "model_module": "@jupyter-widgets/controls",
      "model_module_version": "2.0.0",
      "model_name": "HTMLStyleModel",
      "state": {
       "description_width": "",
       "font_size": null,
       "text_color": null
      }
     },
     "81ffacc54c074e78b38ee9275638e379": {
      "model_module": "jupyter-leaflet",
      "model_module_version": "^0.19",
      "model_name": "LeafletMapStyleModel",
      "state": {
       "_model_module_version": "^0.19"
      }
     },
     "867ad91d751b4defb68e711f5fa9ce0a": {
      "model_module": "jupyter-leaflet",
      "model_module_version": "^0.19",
      "model_name": "LeafletMarkerModel",
      "state": {
       "_model_module_version": "^0.19",
       "_view_module_version": "^0.19",
       "icon": "IPY_MODEL_eec5ecc711154348a26042e8e0f24cc0",
       "location": [
        30.600093873550072,
        104.1064453125
       ],
       "options": [
        "alt",
        "draggable",
        "keyboard",
        "rise_offset",
        "rise_on_hover",
        "rotation_angle",
        "rotation_origin",
        "title",
        "z_index_offset"
       ],
       "popup": "IPY_MODEL_a3370395e4df487eb7e8c9dba02efb07"
      }
     },
     "87011ef7e3e64328aa5a7cf9154df12e": {
      "model_module": "jupyter-leaflet",
      "model_module_version": "^0.19",
      "model_name": "LeafletMarkerModel",
      "state": {
       "_model_module_version": "^0.19",
       "_view_module_version": "^0.19",
       "icon": "IPY_MODEL_1d4a0b98304647c4bc455dadb583d570",
       "options": [
        "alt",
        "draggable",
        "keyboard",
        "rise_offset",
        "rise_on_hover",
        "rotation_angle",
        "rotation_origin",
        "title",
        "z_index_offset"
       ]
      }
     },
     "8735c604abbe416eb5359e28e324cccd": {
      "model_module": "@jupyter-widgets/base",
      "model_module_version": "2.0.0",
      "model_name": "LayoutModel",
      "state": {}
     },
     "8924a002a39045fc94b8729d0dd94279": {
      "model_module": "@jupyter-widgets/base",
      "model_module_version": "2.0.0",
      "model_name": "LayoutModel",
      "state": {}
     },
     "893937118f2d4fed8adc5c5c2b3d61a8": {
      "model_module": "jupyter-leaflet",
      "model_module_version": "^0.19",
      "model_name": "LeafletMeasureControlModel",
      "state": {
       "_model_module_version": "^0.19",
       "_view_module_version": "^0.19",
       "active_color": "orange",
       "options": [
        "active_color",
        "capture_z_index",
        "completed_color",
        "popup_options",
        "position",
        "primary_area_unit",
        "primary_length_unit",
        "secondary_area_unit",
        "secondary_length_unit"
       ],
       "position": "bottomleft",
       "primary_length_unit": "kilometers",
       "secondary_area_unit": null,
       "secondary_length_unit": null
      }
     },
     "89c1d1fa63e24a90b80285daf1caeeaf": {
      "model_module": "@jupyter-widgets/controls",
      "model_module_version": "2.0.0",
      "model_name": "HTMLModel",
      "state": {
       "layout": "IPY_MODEL_393f424ddd4f4ed68b113e3ef9e3296b",
       "placeholder": "",
       "style": "IPY_MODEL_01d0053a28604573b83b4f63744601f2",
       "value": "\n        <div>Some html with a list of items\n        <ul class='list-group'>\n            <li class='list-group-item'>Item A</li>\n            <li class='list-group-item'>Item B</li>\n            <li class='list-group-item'>Item C</li>\n        </ul></div>"
      }
     },
     "8bd934bcb2564e78bbcdd1fb9fdfe1bf": {
      "model_module": "jupyter-leaflet",
      "model_module_version": "^0.19",
      "model_name": "LeafletMarkerModel",
      "state": {
       "_model_module_version": "^0.19",
       "_view_module_version": "^0.19",
       "icon": "IPY_MODEL_96f8bfd4e0434fc7a814b792d148250b",
       "options": [
        "alt",
        "draggable",
        "keyboard",
        "rise_offset",
        "rise_on_hover",
        "rotation_angle",
        "rotation_origin",
        "title",
        "z_index_offset"
       ]
      }
     },
     "8c31aa7db7e24878b2b45f6f25b277f2": {
      "model_module": "@jupyter-widgets/base",
      "model_module_version": "2.0.0",
      "model_name": "LayoutModel",
      "state": {}
     },
     "8e378ffa9f9044b1b4a21eb41810627a": {
      "model_module": "@jupyter-widgets/output",
      "model_module_version": "1.0.0",
      "model_name": "OutputModel",
      "state": {
       "layout": "IPY_MODEL_2e0b908bc4764878b4b50299db6fc79b",
       "outputs": [
        {
         "name": "stdout",
         "output_type": "stream",
         "text": "2025-04-06 13:34:27,687 [INFO] api_create_app.py:render:126 - App render end.\n"
        },
        {
         "name": "stdout",
         "output_type": "stream",
         "text": "2025-04-06 13:34:27,657 [INFO] sfc_codegen.py:render:165 - 🔥 Rerender SFC<__tmp_for_str.vue> at 4417207360\n"
        },
        {
         "name": "stdout",
         "output_type": "stream",
         "text": "2025-04-06 13:34:27,657 [INFO] api_create_app.py:render:116 - App render start.\n"
        }
       ]
      }
     },
     "8e3a2220f7c5494594ca47fc34cd2a46": {
      "model_module": "@jupyter-widgets/controls",
      "model_module_version": "2.0.0",
      "model_name": "VBoxModel",
      "state": {
       "children": [
        "IPY_MODEL_b8da31efde7d4ce0bd5684e4ef99332b",
        "IPY_MODEL_377dcc59d38d4e619c37e61e4d6d1bb7",
        "IPY_MODEL_3ea1beae0ee347adb38db584b724214f",
        "IPY_MODEL_0464a1b72739499f9016444349d014bb"
       ],
       "layout": "IPY_MODEL_73ac08d2a23b42d8b99bfd66e40d1bc3"
      }
     },
     "8f1fac8189d4453fbf93644000b56b8e": {
      "model_module": "@jupyter-widgets/base",
      "model_module_version": "2.0.0",
      "model_name": "LayoutModel",
      "state": {}
     },
     "90c86cab02924284ba15ac00a6dbb859": {
      "model_module": "jupyter-leaflet",
      "model_module_version": "^0.19",
      "model_name": "LeafletZoomControlModel",
      "state": {
       "_model_module_version": "^0.19",
       "_view_module_version": "^0.19",
       "options": [
        "position",
        "zoom_in_text",
        "zoom_in_title",
        "zoom_out_text",
        "zoom_out_title"
       ]
      }
     },
     "91996457c73241ea8d056ab6f995e8b7": {
      "model_module": "@jupyter-widgets/base",
      "model_module_version": "2.0.0",
      "model_name": "LayoutModel",
      "state": {}
     },
     "932ba51200e042cb941d076d26908684": {
      "model_module": "jupyter-leaflet",
      "model_module_version": "^0.19",
      "model_name": "LeafletPopupModel",
      "state": {
       "_model_module_version": "^0.19",
       "_view_module_version": "^0.19",
       "auto_close": false,
       "auto_pan": true,
       "auto_pan_padding": [
        5,
        5
       ],
       "auto_pan_padding_bottom_right": null,
       "auto_pan_padding_top_left": null,
       "child": "IPY_MODEL_3312ffeedd2745f883219e26cbf0e664",
       "close_button": true,
       "close_on_escape_key": true,
       "keep_in_view": false,
       "location": [
        30.600093873550072,
        104.1064453125
       ],
       "options": [
        "auto_close",
        "auto_pan",
        "auto_pan_padding",
        "auto_pan_padding_bottom_right",
        "auto_pan_padding_top_left",
        "close_button",
        "close_on_escape_key",
        "keep_in_view",
        "max_height",
        "max_width",
        "min_width"
       ]
      }
     },
     "961f50094117444a8a1251bd02dbef00": {
      "model_module": "@jupyter-widgets/controls",
      "model_module_version": "2.0.0",
      "model_name": "HTMLModel",
      "state": {
       "layout": "IPY_MODEL_dfc38b4147054917953e93b558fb1446",
       "style": "IPY_MODEL_7d7858f8e6f8445fa89b02ba70936aba",
       "value": "hello"
      }
     },
     "96f8bfd4e0434fc7a814b792d148250b": {
      "model_module": "jupyter-leaflet",
      "model_module_version": "^0.19",
      "model_name": "LeafletAwesomeIconModel",
      "state": {
       "_model_module_version": "^0.19",
       "_view_module_version": "^0.19",
       "icon_color": "darkgreen",
       "marker_color": "green",
       "name": "check"
      }
     },
     "96fcc3547f044b9eae80a723aee66e80": {
      "model_module": "jupyter-leaflet",
      "model_module_version": "^0.19",
      "model_name": "LeafletAwesomeIconModel",
      "state": {
       "_model_module_version": "^0.19",
       "_view_module_version": "^0.19",
       "icon_color": "darkgreen",
       "marker_color": "green",
       "name": "check"
      }
     },
     "97bc5aff6456405584dbc8e2e03c4ecc": {
      "model_module": "jupyter-leaflet",
      "model_module_version": "^0.19",
      "model_name": "LeafletMarkerModel",
      "state": {
       "_model_module_version": "^0.19",
       "_view_module_version": "^0.19",
       "icon": "IPY_MODEL_dd047b5ac52f42a9bc0203b875cc7da2",
       "location": [
        30.600093873550072,
        104.1064453125
       ],
       "name": "mark1",
       "options": [
        "alt",
        "draggable",
        "keyboard",
        "rise_offset",
        "rise_on_hover",
        "rotation_angle",
        "rotation_origin",
        "title",
        "z_index_offset"
       ],
       "popup": "IPY_MODEL_584cab2a9ff9410c83f4c63bb9071db7"
      }
     },
     "982460fe3be848dc97abca69a209b95d": {
      "model_module": "jupyter-leaflet",
      "model_module_version": "^0.19",
      "model_name": "LeafletTileLayerModel",
      "state": {
       "_model_module_version": "^0.19",
       "_view_module_version": "^0.19",
       "attribution": "Tiles &copy; Esri &mdash; Source: Esri, DeLorme, NAVTEQ, USGS, Intermap, iPC, NRCAN, Esri Japan, METI, Esri China (Hong Kong), Esri (Thailand), TomTom, 2012",
       "min_zoom": 1,
       "name": "world street",
       "options": [
        "attribution",
        "bounds",
        "detect_retina",
        "max_native_zoom",
        "max_zoom",
        "min_native_zoom",
        "min_zoom",
        "no_wrap",
        "tile_size",
        "tms",
        "zoom_offset"
       ],
       "url": "https://server.arcgisonline.com/ArcGIS/rest/services/World_Street_Map/MapServer/tile/{z}/{y}/{x}"
      }
     },
     "98ed44c542ab48488100c9b5fcebcb29": {
      "model_module": "jupyter-leaflet",
      "model_module_version": "^0.19",
      "model_name": "LeafletLayersControlModel",
      "state": {
       "_model_module_version": "^0.19",
       "_view_module_version": "^0.19",
       "collapsed": false,
       "options": [
        "collapsed",
        "position"
       ],
       "position": "topright"
      }
     },
     "9975b82e465a40fcaa1a0e8daa1ca7fd": {
      "model_module": "jupyter-leaflet",
      "model_module_version": "^0.19",
      "model_name": "LeafletZoomControlModel",
      "state": {
       "_model_module_version": "^0.19",
       "_view_module_version": "^0.19",
       "options": [
        "position",
        "zoom_in_text",
        "zoom_in_title",
        "zoom_out_text",
        "zoom_out_title"
       ]
      }
     },
     "99bfd270744248259f17cd868aec2bb6": {
      "model_module": "jupyter-leaflet",
      "model_module_version": "^0.19",
      "model_name": "LeafletZoomControlModel",
      "state": {
       "_model_module_version": "^0.19",
       "_view_module_version": "^0.19",
       "options": [
        "position",
        "zoom_in_text",
        "zoom_in_title",
        "zoom_out_text",
        "zoom_out_title"
       ],
       "position": "topright"
      }
     },
     "9b1a3dda73ab4cb6b07ea1ddfdb828e3": {
      "model_module": "jupyter-leaflet",
      "model_module_version": "^0.19",
      "model_name": "LeafletAttributionControlModel",
      "state": {
       "_model_module_version": "^0.19",
       "_view_module_version": "^0.19",
       "options": [
        "position",
        "prefix"
       ],
       "position": "bottomright",
       "prefix": "ipyleaflet"
      }
     },
     "9c522a89c6ac4a6d8fb888f2adc681af": {
      "model_module": "jupyter-leaflet",
      "model_module_version": "^0.19",
      "model_name": "LeafletMarkerModel",
      "state": {
       "_model_module_version": "^0.19",
       "_view_module_version": "^0.19",
       "icon": "IPY_MODEL_57d26b89541f415b976d543d29c9455b",
       "options": [
        "alt",
        "draggable",
        "keyboard",
        "rise_offset",
        "rise_on_hover",
        "rotation_angle",
        "rotation_origin",
        "title",
        "z_index_offset"
       ]
      }
     },
     "9cf0fa073263441c9189681d32a6137d": {
      "model_module": "@jupyter-widgets/controls",
      "model_module_version": "2.0.0",
      "model_name": "VBoxModel",
      "state": {
       "children": [
        "IPY_MODEL_39dd590102614ec18ab21c047bc0c4b5"
       ],
       "layout": "IPY_MODEL_3cf54fb794c148109e517fbc6bcb9296"
      }
     },
     "9cfc6c877c0644c38b05f3f693fb0e7e": {
      "model_module": "jupyter-leaflet",
      "model_module_version": "^0.19",
      "model_name": "LeafletMeasureControlModel",
      "state": {
       "_model_module_version": "^0.19",
       "_view_module_version": "^0.19",
       "active_color": "orange",
       "options": [
        "active_color",
        "capture_z_index",
        "completed_color",
        "popup_options",
        "position",
        "primary_area_unit",
        "primary_length_unit",
        "secondary_area_unit",
        "secondary_length_unit"
       ],
       "position": "bottomleft",
       "primary_length_unit": "kilometers",
       "secondary_area_unit": null,
       "secondary_length_unit": null
      }
     },
     "9f9a858f828f478ab1d301a6541c7531": {
      "model_module": "@jupyter-widgets/base",
      "model_module_version": "2.0.0",
      "model_name": "LayoutModel",
      "state": {}
     },
     "a04cfc7633ff4c45874c79c6501eb88a": {
      "model_module": "jupyter-leaflet",
      "model_module_version": "^0.19",
      "model_name": "LeafletMeasureControlModel",
      "state": {
       "_model_module_version": "^0.19",
       "_view_module_version": "^0.19",
       "options": [
        "active_color",
        "capture_z_index",
        "completed_color",
        "popup_options",
        "position",
        "primary_area_unit",
        "primary_length_unit",
        "secondary_area_unit",
        "secondary_length_unit"
       ],
       "secondary_area_unit": null,
       "secondary_length_unit": null
      }
     },
     "a09e8afd26c84d88b345c01b01411237": {
      "model_module": "@jupyter-widgets/base",
      "model_module_version": "2.0.0",
      "model_name": "LayoutModel",
      "state": {}
     },
     "a1074d2d4cef4ae193a6cada429740a7": {
      "model_module": "@jupyter-widgets/controls",
      "model_module_version": "2.0.0",
      "model_name": "HTMLModel",
      "state": {
       "layout": "IPY_MODEL_91996457c73241ea8d056ab6f995e8b7",
       "style": "IPY_MODEL_c903f92e9b0d48b1a9a5f22411f0e13d",
       "value": "hello"
      }
     },
     "a3370395e4df487eb7e8c9dba02efb07": {
      "model_module": "@jupyter-widgets/controls",
      "model_module_version": "2.0.0",
      "model_name": "HTMLModel",
      "state": {
       "layout": "IPY_MODEL_16d937c1c84948e682a90e479528b370",
       "placeholder": "",
       "style": "IPY_MODEL_b92a4a9c49974094849279d276619a36",
       "value": "\n        <div>Some html with a list of items\n        <ul class='list-group'>\n            <li class='list-group-item'>Item A</li>\n            <li class='list-group-item'>Item B</li>\n            <li class='list-group-item'>Item C</li>\n        </ul></div>"
      }
     },
     "a414563cfe3a441fab697d6c0f6873f0": {
      "model_module": "@jupyter-widgets/base",
      "model_module_version": "2.0.0",
      "model_name": "LayoutModel",
      "state": {}
     },
     "a6209a1c442941f5adfb1a45325bdd97": {
      "model_module": "jupyter-leaflet",
      "model_module_version": "^0.19",
      "model_name": "LeafletMarkerModel",
      "state": {
       "_model_module_version": "^0.19",
       "_view_module_version": "^0.19",
       "icon": "IPY_MODEL_68991717896d49e3816272a9b9aa93f6",
       "options": [
        "alt",
        "draggable",
        "keyboard",
        "rise_offset",
        "rise_on_hover",
        "rotation_angle",
        "rotation_origin",
        "title",
        "z_index_offset"
       ]
      }
     },
     "a620ad09a49b41a89e424d18b76e8154": {
      "model_module": "@jupyter-widgets/base",
      "model_module_version": "2.0.0",
      "model_name": "LayoutModel",
      "state": {}
     },
     "a725f4b89fc049959b2f2011fed865e5": {
      "model_module": "@jupyter-widgets/controls",
      "model_module_version": "2.0.0",
      "model_name": "VBoxModel",
      "state": {
       "children": [
        "IPY_MODEL_9975b82e465a40fcaa1a0e8daa1ca7fd",
        "IPY_MODEL_b117182c7efa44cd8cf4593d946f0635",
        "IPY_MODEL_33af825d7e9443f0a473d715c0496c2f",
        "IPY_MODEL_c64c347a57024fedb5a8474b21863e57",
        "IPY_MODEL_a04cfc7633ff4c45874c79c6501eb88a",
        "IPY_MODEL_07e4e252ecef4968b52d1d76995ea9c1",
        "IPY_MODEL_14890876de2b4bc0957b37360a2f950c",
        "IPY_MODEL_e436afa6635f4cb1ad6405d5ae2d578a"
       ],
       "layout": "IPY_MODEL_b79aed0e02924dac856287efcb8f511b"
      }
     },
     "a85226eab288475096cee88f050a7c52": {
      "model_module": "jupyter-leaflet",
      "model_module_version": "^0.19",
      "model_name": "LeafletAttributionControlModel",
      "state": {
       "_model_module_version": "^0.19",
       "_view_module_version": "^0.19",
       "options": [
        "position",
        "prefix"
       ],
       "position": "bottomright",
       "prefix": "ipyleaflet"
      }
     },
     "a93e57471d97467a91996762105f659c": {
      "model_module": "jupyter-leaflet",
      "model_module_version": "^0.19",
      "model_name": "LeafletGeomanDrawControlModel",
      "state": {
       "_model_module_version": "^0.19",
       "_view_module_version": "^0.19",
       "cut": true,
       "drag": true,
       "options": [
        "position"
       ],
       "polyline": {
        "pathOptions": {
         "color": "#6bc2e5",
         "opacity": 1,
         "weight": 8
        }
       },
       "rotate": true
      }
     },
     "ab298c23f7e84898b13abcaf0821fa60": {
      "model_module": "jupyter-leaflet",
      "model_module_version": "^0.19",
      "model_name": "LeafletAttributionControlModel",
      "state": {
       "_model_module_version": "^0.19",
       "_view_module_version": "^0.19",
       "options": [
        "position",
        "prefix"
       ],
       "position": "bottomright",
       "prefix": "ipyleaflet"
      }
     },
     "ab967c6368b34592abec5401bce8e6c5": {
      "model_module": "jupyter-leaflet",
      "model_module_version": "^0.19",
      "model_name": "LeafletMarkerModel",
      "state": {
       "_model_module_version": "^0.19",
       "_view_module_version": "^0.19",
       "icon": "IPY_MODEL_f46d5337c95541e6a9a32f2dd9484d12",
       "location": [
        30.600093873550072,
        104.1064453125
       ],
       "options": [
        "alt",
        "draggable",
        "keyboard",
        "rise_offset",
        "rise_on_hover",
        "rotation_angle",
        "rotation_origin",
        "title",
        "z_index_offset"
       ],
       "popup": "IPY_MODEL_687a2e89e6344bc7bad8b1894fea608c"
      }
     },
     "ad7e6d145115499aaa88de81a44c62c3": {
      "model_module": "@jupyter-widgets/controls",
      "model_module_version": "2.0.0",
      "model_name": "VBoxModel",
      "state": {
       "children": [
        "IPY_MODEL_e75e73a0e4954129b9b436caf1f75d2a"
       ],
       "layout": "IPY_MODEL_55a0d59bd68f48d484bcbb4aaeb948ca"
      }
     },
     "ae68456fdafd4bc2b8a6c305e5a413cb": {
      "model_module": "jupyter-leaflet",
      "model_module_version": "^0.19",
      "model_name": "LeafletMarkerModel",
      "state": {
       "_model_module_version": "^0.19",
       "_view_module_version": "^0.19",
       "icon": "IPY_MODEL_2ed7820bb6e34fcda36002640542643c",
       "location": [
        30.600093873550072,
        104.1064453125
       ],
       "options": [
        "alt",
        "draggable",
        "keyboard",
        "rise_offset",
        "rise_on_hover",
        "rotation_angle",
        "rotation_origin",
        "title",
        "z_index_offset"
       ],
       "popup": "IPY_MODEL_fbd3a1be5c3f453b803d42f19fe76c89"
      }
     },
     "afeb7d4564404cd18893a0debd6c3266": {
      "model_module": "jupyter-leaflet",
      "model_module_version": "^0.19",
      "model_name": "LeafletMarkerModel",
      "state": {
       "_model_module_version": "^0.19",
       "_view_module_version": "^0.19",
       "icon": "IPY_MODEL_96fcc3547f044b9eae80a723aee66e80",
       "options": [
        "alt",
        "draggable",
        "keyboard",
        "rise_offset",
        "rise_on_hover",
        "rotation_angle",
        "rotation_origin",
        "title",
        "z_index_offset"
       ]
      }
     },
     "affac31160064acbadab471c418bbeaf": {
      "model_module": "@jupyter-widgets/base",
      "model_module_version": "2.0.0",
      "model_name": "LayoutModel",
      "state": {}
     },
     "b08b13839bfa4df89b8bf0c160065842": {
      "model_module": "@jupyter-widgets/base",
      "model_module_version": "2.0.0",
      "model_name": "LayoutModel",
      "state": {}
     },
     "b117182c7efa44cd8cf4593d946f0635": {
      "model_module": "jupyter-leaflet",
      "model_module_version": "^0.19",
      "model_name": "LeafletScaleControlModel",
      "state": {
       "_model_module_version": "^0.19",
       "_view_module_version": "^0.19",
       "imperial": true,
       "max_width": 100,
       "metric": true,
       "options": [
        "imperial",
        "max_width",
        "metric",
        "position",
        "update_when_idle"
       ],
       "update_when_idle": false
      }
     },
     "b247555418f648219b1ab5360f103d9d": {
      "model_module": "@jupyter-widgets/base",
      "model_module_version": "2.0.0",
      "model_name": "LayoutModel",
      "state": {}
     },
     "b3291bc5157845d0b6910262116009d4": {
      "model_module": "@jupyter-widgets/base",
      "model_module_version": "2.0.0",
      "model_name": "LayoutModel",
      "state": {}
     },
     "b3a6d145e08942ef8089c0fd867a5de0": {
      "model_module": "jupyter-leaflet",
      "model_module_version": "^0.19",
      "model_name": "LeafletSearchControlModel",
      "state": {
       "_model_module_version": "^0.19",
       "_view_module_version": "^0.19",
       "marker": "IPY_MODEL_8bd934bcb2564e78bbcdd1fb9fdfe1bf",
       "options": [
        "animate_location",
        "auto_collapse",
        "auto_type",
        "found_style",
        "jsonp_param",
        "position",
        "property_loc",
        "property_name",
        "url",
        "zoom"
       ],
       "position": "topright",
       "url": "https://nominatim.openstreetmap.org/search?format=json&q={s}",
       "zoom": 5
      }
     },
     "b500cff0f6454bba9015e76965e6d8ba": {
      "model_module": "@jupyter-widgets/controls",
      "model_module_version": "2.0.0",
      "model_name": "ButtonStyleModel",
      "state": {
       "font_family": null,
       "font_size": null,
       "font_style": null,
       "font_variant": null,
       "font_weight": null,
       "text_color": null,
       "text_decoration": null
      }
     },
     "b5cb810723694321a3aec4da43c514d4": {
      "model_module": "@jupyter-widgets/base",
      "model_module_version": "2.0.0",
      "model_name": "LayoutModel",
      "state": {}
     },
     "b79aed0e02924dac856287efcb8f511b": {
      "model_module": "@jupyter-widgets/base",
      "model_module_version": "2.0.0",
      "model_name": "LayoutModel",
      "state": {}
     },
     "b8da31efde7d4ce0bd5684e4ef99332b": {
      "model_module": "@jupyter-widgets/controls",
      "model_module_version": "2.0.0",
      "model_name": "FloatSliderModel",
      "state": {
       "behavior": "drag-tap",
       "continuous_update": false,
       "description": "opacity",
       "layout": "IPY_MODEL_47163767a0f54ad0b28ead561fb1eb9f",
       "max": 1,
       "step": 0.1,
       "style": "IPY_MODEL_e65995ed82b64e8aa913568386cfff4a",
       "value": 1
      }
     },
     "b92a4a9c49974094849279d276619a36": {
      "model_module": "@jupyter-widgets/controls",
      "model_module_version": "2.0.0",
      "model_name": "HTMLStyleModel",
      "state": {
       "description_width": "",
       "font_size": null,
       "text_color": null
      }
     },
     "ba5dc2a862454276bc7b584d0f81ab99": {
      "model_module": "@jupyter-widgets/controls",
      "model_module_version": "2.0.0",
      "model_name": "HBoxModel",
      "state": {
       "children": [
        "IPY_MODEL_246c407ca389477bb33ab6f0e0b19903",
        "IPY_MODEL_cd83138ed53a4185a979f2de87518b37",
        "IPY_MODEL_08a9b02488a94fd0a9b1141a60364fd7"
       ],
       "layout": "IPY_MODEL_8c31aa7db7e24878b2b45f6f25b277f2"
      }
     },
     "ba8769a86dce4989b6edea7a4be54da4": {
      "model_module": "jupyter-leaflet",
      "model_module_version": "^0.19",
      "model_name": "LeafletMapStyleModel",
      "state": {
       "_model_module_version": "^0.19",
       "cursor": "move"
      }
     },
     "be71cc8f39e74f4a8b798ba8a3576560": {
      "model_module": "@jupyter-widgets/base",
      "model_module_version": "2.0.0",
      "model_name": "LayoutModel",
      "state": {}
     },
     "c1471df4be5c41a798035db2d3b5279f": {
      "model_module": "@jupyter-widgets/controls",
      "model_module_version": "2.0.0",
      "model_name": "HTMLStyleModel",
      "state": {
       "description_width": "",
       "font_size": null,
       "text_color": null
      }
     },
     "c3e726b2dbb241d7ae3ff737279b7e39": {
      "model_module": "@jupyter-widgets/base",
      "model_module_version": "2.0.0",
      "model_name": "LayoutModel",
      "state": {}
     },
     "c591c7119c3949eb86c0d04e81e14bc9": {
      "model_module": "@jupyter-widgets/base",
      "model_module_version": "2.0.0",
      "model_name": "LayoutModel",
      "state": {}
     },
     "c63077147c54429caf5eda6d0e5d31ff": {
      "model_module": "@jupyter-widgets/controls",
      "model_module_version": "2.0.0",
      "model_name": "VBoxModel",
      "state": {
       "children": [
        "IPY_MODEL_1c16b185fff84f4a8d5734fbddd27a14"
       ],
       "layout": "IPY_MODEL_a09e8afd26c84d88b345c01b01411237"
      }
     },
     "c64c347a57024fedb5a8474b21863e57": {
      "model_module": "@jupyter-widgets/controls",
      "model_module_version": "2.0.0",
      "model_name": "HTMLModel",
      "state": {
       "layout": "IPY_MODEL_1a067c4a131d484b966b6305d3652acb",
       "style": "IPY_MODEL_cc3516e7908b458fa628f1166892ca60",
       "value": "\n                <VlFullscreenControl position='topleft'>\n                  \n                </VlFullscreenControl>"
      }
     },
     "c6aeec2447b44e3f87bfde4ffb1e1d1f": {
      "model_module": "@jupyter-widgets/controls",
      "model_module_version": "2.0.0",
      "model_name": "HTMLModel",
      "state": {
       "layout": "IPY_MODEL_6072819d8cdf43edba943b0e76165a90",
       "style": "IPY_MODEL_e04fb53665e5452bb3830ef189fe53f0",
       "value": "Clear Layers"
      }
     },
     "c903f92e9b0d48b1a9a5f22411f0e13d": {
      "model_module": "@jupyter-widgets/controls",
      "model_module_version": "2.0.0",
      "model_name": "HTMLStyleModel",
      "state": {
       "description_width": "",
       "font_size": null,
       "text_color": null
      }
     },
     "c9bb047d73ac4c9bb9146e8d617e0405": {
      "model_module": "@jupyter-widgets/controls",
      "model_module_version": "2.0.0",
      "model_name": "HTMLStyleModel",
      "state": {
       "description_width": "",
       "font_size": null,
       "text_color": null
      }
     },
     "cc0e1773cad54c49aae5834cccac4a0b": {
      "model_module": "jupyter-leaflet",
      "model_module_version": "^0.19",
      "model_name": "LeafletTileLayerModel",
      "state": {
       "_model_module_version": "^0.19",
       "_view_module_version": "^0.19",
       "attribution": "Tiles &copy; Esri &mdash; Source: Esri, DeLorme, NAVTEQ, USGS, Intermap, iPC, NRCAN, Esri Japan, METI, Esri China (Hong Kong), Esri (Thailand), TomTom, 2012",
       "min_zoom": 1,
       "name": "Esri.WorldStreetMap",
       "options": [
        "attribution",
        "bounds",
        "detect_retina",
        "max_native_zoom",
        "max_zoom",
        "min_native_zoom",
        "min_zoom",
        "no_wrap",
        "tile_size",
        "tms",
        "zoom_offset"
       ],
       "url": "https://server.arcgisonline.com/ArcGIS/rest/services/World_Street_Map/MapServer/tile/{z}/{y}/{x}"
      }
     },
     "cc3516e7908b458fa628f1166892ca60": {
      "model_module": "@jupyter-widgets/controls",
      "model_module_version": "2.0.0",
      "model_name": "HTMLStyleModel",
      "state": {
       "description_width": "",
       "font_size": null,
       "text_color": null
      }
     },
     "cd83138ed53a4185a979f2de87518b37": {
      "model_module": "@jupyter-widgets/controls",
      "model_module_version": "2.0.0",
      "model_name": "ButtonModel",
      "state": {
       "description": "Clear Layers",
       "layout": "IPY_MODEL_03cd87d991c84736bf05933804655b63",
       "style": "IPY_MODEL_b500cff0f6454bba9015e76965e6d8ba",
       "tooltip": null
      }
     },
     "cd9e3b90146b45c797d3ae24297b73fb": {
      "model_module": "jupyter-leaflet",
      "model_module_version": "^0.19",
      "model_name": "LeafletZoomControlModel",
      "state": {
       "_model_module_version": "^0.19",
       "_view_module_version": "^0.19",
       "options": [
        "position",
        "zoom_in_text",
        "zoom_in_title",
        "zoom_out_text",
        "zoom_out_title"
       ],
       "position": "topright"
      }
     },
     "cdc96501f07b4b8f855281b1a551e80b": {
      "model_module": "@jupyter-widgets/controls",
      "model_module_version": "2.0.0",
      "model_name": "ButtonStyleModel",
      "state": {
       "font_family": null,
       "font_size": null,
       "font_style": null,
       "font_variant": null,
       "font_weight": null,
       "text_color": null,
       "text_decoration": null
      }
     },
     "ce275fa00ff4494fa60af64c5c052582": {
      "model_module": "jupyter-leaflet",
      "model_module_version": "^0.19",
      "model_name": "LeafletLayersControlModel",
      "state": {
       "_model_module_version": "^0.19",
       "_view_module_version": "^0.19",
       "collapsed": false,
       "options": [
        "collapsed",
        "position"
       ],
       "position": "topright"
      }
     },
     "cf2aa2150e5b4f7e8a30416b174f8bfe": {
      "model_module": "@jupyter-widgets/controls",
      "model_module_version": "2.0.0",
      "model_name": "HTMLStyleModel",
      "state": {
       "description_width": "",
       "font_size": null,
       "text_color": null
      }
     },
     "d134c9232358443fa0209ba4690825ea": {
      "model_module": "jupyter-leaflet",
      "model_module_version": "^0.19",
      "model_name": "LeafletMarkerModel",
      "state": {
       "_model_module_version": "^0.19",
       "_view_module_version": "^0.19",
       "icon": "IPY_MODEL_7702b4f226f34fb6b8e24f628b6c391c",
       "location": [
        30.600093873550072,
        104.1064453125
       ],
       "options": [
        "alt",
        "draggable",
        "keyboard",
        "rise_offset",
        "rise_on_hover",
        "rotation_angle",
        "rotation_origin",
        "title",
        "z_index_offset"
       ],
       "popup": "IPY_MODEL_398822ff41744b059d1f715f1c0d08b7"
      }
     },
     "d32430f22d5a4810a27a1223499bd0fc": {
      "model_module": "jupyter-leaflet",
      "model_module_version": "^0.19",
      "model_name": "LeafletPopupModel",
      "state": {
       "_model_module_version": "^0.19",
       "_view_module_version": "^0.19",
       "auto_close": false,
       "auto_pan": true,
       "auto_pan_padding": [
        5,
        5
       ],
       "auto_pan_padding_bottom_right": null,
       "auto_pan_padding_top_left": null,
       "child": "IPY_MODEL_3dab57a120734227a1ba2b3cf72ffa01",
       "close_button": true,
       "close_on_escape_key": true,
       "keep_in_view": false,
       "location": [
        30.600093873550072,
        104.1064453125
       ],
       "options": [
        "auto_close",
        "auto_pan",
        "auto_pan_padding",
        "auto_pan_padding_bottom_right",
        "auto_pan_padding_top_left",
        "close_button",
        "close_on_escape_key",
        "keep_in_view",
        "max_height",
        "max_width",
        "min_width"
       ]
      }
     },
     "d4783bb5d157468aa0db92727ca50b0c": {
      "model_module": "jupyter-leaflet",
      "model_module_version": "^0.19",
      "model_name": "LeafletMapStyleModel",
      "state": {
       "_model_module_version": "^0.19",
       "cursor": "move"
      }
     },
     "d4a75677d9b941ea8210ad37bf841410": {
      "model_module": "@jupyter-widgets/base",
      "model_module_version": "2.0.0",
      "model_name": "LayoutModel",
      "state": {}
     },
     "d504f0c4ae884cc6a771cf25b451af45": {
      "model_module": "@jupyter-widgets/base",
      "model_module_version": "2.0.0",
      "model_name": "LayoutModel",
      "state": {}
     },
     "d5634ae74be843b1b923693798647d97": {
      "model_module": "jupyter-leaflet",
      "model_module_version": "^0.19",
      "model_name": "LeafletPopupModel",
      "state": {
       "_model_module_version": "^0.19",
       "_view_module_version": "^0.19",
       "auto_close": false,
       "auto_pan": true,
       "auto_pan_padding": [
        5,
        5
       ],
       "auto_pan_padding_bottom_right": null,
       "auto_pan_padding_top_left": null,
       "child": "IPY_MODEL_961f50094117444a8a1251bd02dbef00",
       "close_button": true,
       "close_on_escape_key": true,
       "keep_in_view": false,
       "location": [
        30.600093873550072,
        104.1064453125
       ],
       "options": [
        "auto_close",
        "auto_pan",
        "auto_pan_padding",
        "auto_pan_padding_bottom_right",
        "auto_pan_padding_top_left",
        "close_button",
        "close_on_escape_key",
        "keep_in_view",
        "max_height",
        "max_width",
        "min_width"
       ]
      }
     },
     "d5c9957a2b5247949d67dd8ab460033f": {
      "model_module": "jupyter-leaflet",
      "model_module_version": "^0.19",
      "model_name": "LeafletMapStyleModel",
      "state": {
       "_model_module_version": "^0.19"
      }
     },
     "d5efef4bde0d449db4166011bf4ddbf8": {
      "model_module": "jupyter-leaflet",
      "model_module_version": "^0.19",
      "model_name": "LeafletZoomControlModel",
      "state": {
       "_model_module_version": "^0.19",
       "_view_module_version": "^0.19",
       "options": [
        "position",
        "zoom_in_text",
        "zoom_in_title",
        "zoom_out_text",
        "zoom_out_title"
       ],
       "position": "topright"
      }
     },
     "d67a80607a784fbf8786baad3bd786a4": {
      "model_module": "@jupyter-widgets/controls",
      "model_module_version": "2.0.0",
      "model_name": "VBoxModel",
      "state": {
       "children": [
        "IPY_MODEL_e31ca9d8e11547978abf3f3c589124ee"
       ],
       "layout": "IPY_MODEL_c3e726b2dbb241d7ae3ff737279b7e39"
      }
     },
     "d78f22fb0d7e47e1a31479a15a9d1076": {
      "model_module": "jupyter-leaflet",
      "model_module_version": "^0.19",
      "model_name": "LeafletMapModel",
      "state": {
       "_model_module_version": "^0.19",
       "_view_module_version": "^0.19",
       "center": [
        30.661688532927442,
        104.08859252929689
       ],
       "controls": [
        "IPY_MODEL_90c86cab02924284ba15ac00a6dbb859",
        "IPY_MODEL_ab298c23f7e84898b13abcaf0821fa60",
        "IPY_MODEL_1f73789d101d4667b6ef9a8f8e49345b",
        "IPY_MODEL_1a5c854e694043af8c3bf79722cc377d",
        "IPY_MODEL_893937118f2d4fed8adc5c5c2b3d61a8",
        "IPY_MODEL_67b7d0626fb84ddd9ce2ffdb58c19fd0",
        "IPY_MODEL_b3a6d145e08942ef8089c0fd867a5de0"
       ],
       "default_style": "IPY_MODEL_f4c981c2bba54bd1980b7bc13c703521",
       "dragging_style": "IPY_MODEL_6e1fa04f533d472f9e75205887aaa4dd",
       "east": null,
       "fullscreen": false,
       "interpolation": "bilinear",
       "layers": [
        "IPY_MODEL_982460fe3be848dc97abca69a209b95d",
        "IPY_MODEL_867ad91d751b4defb68e711f5fa9ce0a"
       ],
       "layout": "IPY_MODEL_a414563cfe3a441fab697d6c0f6873f0",
       "modisdate": "2025-04-05",
       "north": -90,
       "options": [
        "bounce_at_zoom_limits",
        "box_zoom",
        "center",
        "close_popup_on_click",
        "double_click_zoom",
        "dragging",
        "fullscreen",
        "inertia",
        "inertia_deceleration",
        "inertia_max_speed",
        "interpolation",
        "keyboard",
        "keyboard_pan_offset",
        "keyboard_zoom_offset",
        "max_zoom",
        "min_zoom",
        "prefer_canvas",
        "scroll_wheel_zoom",
        "tap",
        "tap_tolerance",
        "touch_zoom",
        "world_copy_jump",
        "zoom",
        "zoom_animation_threshold",
        "zoom_delta",
        "zoom_snap"
       ],
       "prefer_canvas": false,
       "scroll_wheel_zoom": true,
       "south": 90,
       "style": "IPY_MODEL_f4c981c2bba54bd1980b7bc13c703521",
       "west": null,
       "window_url": "http://localhost:2071/lab/tree/nb_llm/pyvue/examples/vleaflet/ipywleaf.ipynb",
       "zoom": 13
      }
     },
     "dab3841654f5459e898b5cd5487172f9": {
      "model_module": "@jupyter-widgets/base",
      "model_module_version": "2.0.0",
      "model_name": "LayoutModel",
      "state": {}
     },
     "db6af3bfed144826b1bc5379f3b37123": {
      "model_module": "jupyter-leaflet",
      "model_module_version": "^0.19",
      "model_name": "LeafletAwesomeIconModel",
      "state": {
       "_model_module_version": "^0.19",
       "_view_module_version": "^0.19",
       "icon_color": "black",
       "name": "bus"
      }
     },
     "dccc0204770d46428caf593464309252": {
      "model_module": "jupyter-leaflet",
      "model_module_version": "^0.19",
      "model_name": "LeafletSearchControlModel",
      "state": {
       "_model_module_version": "^0.19",
       "_view_module_version": "^0.19",
       "marker": "IPY_MODEL_afeb7d4564404cd18893a0debd6c3266",
       "options": [
        "animate_location",
        "auto_collapse",
        "auto_type",
        "found_style",
        "jsonp_param",
        "position",
        "property_loc",
        "property_name",
        "url",
        "zoom"
       ],
       "position": "topright",
       "url": "https://nominatim.openstreetmap.org/search?format=json&q={s}",
       "zoom": 5
      }
     },
     "dd047b5ac52f42a9bc0203b875cc7da2": {
      "model_module": "jupyter-leaflet",
      "model_module_version": "^0.19",
      "model_name": "LeafletAwesomeIconModel",
      "state": {
       "_model_module_version": "^0.19",
       "_view_module_version": "^0.19",
       "icon_color": "black",
       "name": "bus"
      }
     },
     "dfc38b4147054917953e93b558fb1446": {
      "model_module": "@jupyter-widgets/base",
      "model_module_version": "2.0.0",
      "model_name": "LayoutModel",
      "state": {}
     },
     "e04fb53665e5452bb3830ef189fe53f0": {
      "model_module": "@jupyter-widgets/controls",
      "model_module_version": "2.0.0",
      "model_name": "HTMLStyleModel",
      "state": {
       "description_width": "",
       "font_size": null,
       "text_color": null
      }
     },
     "e058119d757f483ea71392a33aa3ebce": {
      "model_module": "@jupyter-widgets/base",
      "model_module_version": "2.0.0",
      "model_name": "LayoutModel",
      "state": {}
     },
     "e31ca9d8e11547978abf3f3c589124ee": {
      "model_module": "@jupyter-widgets/controls",
      "model_module_version": "2.0.0",
      "model_name": "HTMLModel",
      "state": {
       "layout": "IPY_MODEL_144631bc01f94d48b7163af08c5fe037",
       "style": "IPY_MODEL_c1471df4be5c41a798035db2d3b5279f",
       "value": "\n                <div >\n                  Some html with a list of items\n           \n                <ul class='list-group'>\n                  \n                <li class='list-group-item'>\n                  Item A\n                </li> \n                <li class='list-group-item'>\n                  Item B\n                </li>\n                </ul>\n                </div>"
      }
     },
     "e380b86646cb41908d30d26e2f8087ab": {
      "model_module": "@jupyter-widgets/base",
      "model_module_version": "2.0.0",
      "model_name": "LayoutModel",
      "state": {}
     },
     "e436afa6635f4cb1ad6405d5ae2d578a": {
      "model_module": "jupyter-leaflet",
      "model_module_version": "^0.19",
      "model_name": "LeafletGeomanDrawControlModel",
      "state": {
       "_model_module_version": "^0.19",
       "_view_module_version": "^0.19",
       "cut": true,
       "drag": true,
       "options": [
        "position"
       ],
       "polyline": {
        "pathOptions": {
         "color": "red",
         "opacity": 1,
         "weight": 8
        }
       },
       "position": "topright",
       "rotate": true
      }
     },
     "e53657f875e44b56a3d838b571ec4cd3": {
      "model_module": "jupyter-leaflet",
      "model_module_version": "^0.19",
      "model_name": "LeafletPopupModel",
      "state": {
       "_model_module_version": "^0.19",
       "_view_module_version": "^0.19",
       "auto_close": false,
       "auto_pan": true,
       "auto_pan_padding": [
        5,
        5
       ],
       "auto_pan_padding_bottom_right": null,
       "auto_pan_padding_top_left": null,
       "child": "IPY_MODEL_62213d1e3420425e843b7f3a9e46ff47",
       "close_button": true,
       "close_on_escape_key": true,
       "keep_in_view": false,
       "location": [
        30.600093873550072,
        104.1064453125
       ],
       "options": [
        "auto_close",
        "auto_pan",
        "auto_pan_padding",
        "auto_pan_padding_bottom_right",
        "auto_pan_padding_top_left",
        "close_button",
        "close_on_escape_key",
        "keep_in_view",
        "max_height",
        "max_width",
        "min_width"
       ]
      }
     },
     "e65995ed82b64e8aa913568386cfff4a": {
      "model_module": "@jupyter-widgets/controls",
      "model_module_version": "2.0.0",
      "model_name": "SliderStyleModel",
      "state": {
       "description_width": ""
      }
     },
     "e75b3c155bec493ab68a50049cb8ff36": {
      "model_module": "jupyter-leaflet",
      "model_module_version": "^0.19",
      "model_name": "LeafletGeomanDrawControlModel",
      "state": {
       "_model_module_version": "^0.19",
       "_view_module_version": "^0.19",
       "cut": true,
       "drag": true,
       "options": [
        "position"
       ],
       "polyline": {
        "pathOptions": {
         "color": "#6bc2e5",
         "opacity": 1,
         "weight": 8
        }
       },
       "rotate": true
      }
     },
     "e75e73a0e4954129b9b436caf1f75d2a": {
      "model_module": "jupyter-leaflet",
      "model_module_version": "^0.19",
      "model_name": "LeafletMapModel",
      "state": {
       "_model_module_version": "^0.19",
       "_view_module_version": "^0.19",
       "center": [
        30.600093873550072,
        104.1064453125
       ],
       "controls": [
        "IPY_MODEL_35e7e6438e7f46faaa11bef8743195d0",
        "IPY_MODEL_15b09a3f152040c6a7e9e474cd8bb776",
        "IPY_MODEL_7c6ed9da2a084e66a852f01fd2fa9a45",
        "IPY_MODEL_98ed44c542ab48488100c9b5fcebcb29",
        "IPY_MODEL_567ad00c0e2f4280bdf87807b5cc4e53",
        "IPY_MODEL_463c19dc558a46b7ae97d995efe86034",
        "IPY_MODEL_dccc0204770d46428caf593464309252"
       ],
       "default_style": "IPY_MODEL_81ffacc54c074e78b38ee9275638e379",
       "dragging_style": "IPY_MODEL_4ab1f67d52f845908e29e845843e9536",
       "east": null,
       "fullscreen": false,
       "interpolation": "bilinear",
       "layers": [
        "IPY_MODEL_cc0e1773cad54c49aae5834cccac4a0b",
        "IPY_MODEL_3c8d201bc22147d3b036cc60491e0515"
       ],
       "layout": "IPY_MODEL_197e779a2842442e93b3ea4f0b50fe5e",
       "modisdate": "2025-04-05",
       "north": -90,
       "options": [
        "bounce_at_zoom_limits",
        "box_zoom",
        "center",
        "close_popup_on_click",
        "double_click_zoom",
        "dragging",
        "fullscreen",
        "inertia",
        "inertia_deceleration",
        "inertia_max_speed",
        "interpolation",
        "keyboard",
        "keyboard_pan_offset",
        "keyboard_zoom_offset",
        "max_zoom",
        "min_zoom",
        "prefer_canvas",
        "scroll_wheel_zoom",
        "tap",
        "tap_tolerance",
        "touch_zoom",
        "world_copy_jump",
        "zoom",
        "zoom_animation_threshold",
        "zoom_delta",
        "zoom_snap"
       ],
       "prefer_canvas": false,
       "scroll_wheel_zoom": true,
       "south": 90,
       "style": "IPY_MODEL_81ffacc54c074e78b38ee9275638e379",
       "west": null,
       "window_url": "http://localhost:2071/lab/tree/nb_llm/pyvue/examples/vleaflet/ipywleaf.ipynb",
       "zoom": 10
      }
     },
     "e8222956cc474ca4a208fc29aaa365fd": {
      "model_module": "@jupyter-widgets/controls",
      "model_module_version": "2.0.0",
      "model_name": "HTMLStyleModel",
      "state": {
       "description_width": "",
       "font_size": null,
       "text_color": null
      }
     },
     "e86e7484c00b416d8b490c62ac45f8dd": {
      "model_module": "jupyter-leaflet",
      "model_module_version": "^0.19",
      "model_name": "LeafletMarkerModel",
      "state": {
       "_model_module_version": "^0.19",
       "_view_module_version": "^0.19",
       "location": [
        39.9042,
        116.4074
       ],
       "name": "mark1",
       "options": [
        "alt",
        "draggable",
        "keyboard",
        "rise_offset",
        "rise_on_hover",
        "rotation_angle",
        "rotation_origin",
        "title",
        "z_index_offset"
       ],
       "popup": "IPY_MODEL_d67a80607a784fbf8786baad3bd786a4",
       "title": "drag"
      }
     },
     "e8b50cae637743bf9a2a039508733c46": {
      "model_module": "jupyter-leaflet",
      "model_module_version": "^0.19",
      "model_name": "LeafletMapStyleModel",
      "state": {
       "_model_module_version": "^0.19",
       "cursor": "move"
      }
     },
     "e9c717615b6d4c65a7e98f023cec381e": {
      "model_module": "jupyter-leaflet",
      "model_module_version": "^0.19",
      "model_name": "LeafletMeasureControlModel",
      "state": {
       "_model_module_version": "^0.19",
       "_view_module_version": "^0.19",
       "active_color": "orange",
       "options": [
        "active_color",
        "capture_z_index",
        "completed_color",
        "popup_options",
        "position",
        "primary_area_unit",
        "primary_length_unit",
        "secondary_area_unit",
        "secondary_length_unit"
       ],
       "position": "bottomleft",
       "primary_length_unit": "kilometers",
       "secondary_area_unit": null,
       "secondary_length_unit": null
      }
     },
     "eb0a00d737284a10b6e432bb5ffb58cb": {
      "model_module": "@jupyter-widgets/controls",
      "model_module_version": "2.0.0",
      "model_name": "HTMLStyleModel",
      "state": {
       "description_width": "",
       "font_size": null,
       "text_color": null
      }
     },
     "eec5ecc711154348a26042e8e0f24cc0": {
      "model_module": "jupyter-leaflet",
      "model_module_version": "^0.19",
      "model_name": "LeafletAwesomeIconModel",
      "state": {
       "_model_module_version": "^0.19",
       "_view_module_version": "^0.19",
       "icon_color": "black",
       "name": "bus"
      }
     },
     "f0774e9ba4aa4badb5112a9665c14a50": {
      "model_module": "@jupyter-widgets/controls",
      "model_module_version": "2.0.0",
      "model_name": "HTMLModel",
      "state": {
       "layout": "IPY_MODEL_dab3841654f5459e898b5cd5487172f9",
       "style": "IPY_MODEL_1bef877d738c427aa958024154a157ab",
       "value": "+"
      }
     },
     "f46d5337c95541e6a9a32f2dd9484d12": {
      "model_module": "jupyter-leaflet",
      "model_module_version": "^0.19",
      "model_name": "LeafletAwesomeIconModel",
      "state": {
       "_model_module_version": "^0.19",
       "_view_module_version": "^0.19",
       "icon_color": "black",
       "name": "bus"
      }
     },
     "f4c981c2bba54bd1980b7bc13c703521": {
      "model_module": "jupyter-leaflet",
      "model_module_version": "^0.19",
      "model_name": "LeafletMapStyleModel",
      "state": {
       "_model_module_version": "^0.19"
      }
     },
     "f645bb2097f14d1da4f75b9cd20b135a": {
      "model_module": "@jupyter-widgets/controls",
      "model_module_version": "2.0.0",
      "model_name": "VBoxModel",
      "state": {
       "children": [
        "IPY_MODEL_428e5ef304f040d48989c4e2e4ae1ec4"
       ],
       "layout": "IPY_MODEL_affac31160064acbadab471c418bbeaf"
      }
     },
     "f65bdad2af974b0e9fa6161a0da6ed84": {
      "model_module": "jupyter-leaflet",
      "model_module_version": "^0.19",
      "model_name": "LeafletZoomControlModel",
      "state": {
       "_model_module_version": "^0.19",
       "_view_module_version": "^0.19",
       "options": [
        "position",
        "zoom_in_text",
        "zoom_in_title",
        "zoom_out_text",
        "zoom_out_title"
       ]
      }
     },
     "f6d933a8850a4ec8bdf56c67e4e1ae81": {
      "model_module": "jupyter-leaflet",
      "model_module_version": "^0.19",
      "model_name": "LeafletMeasureControlModel",
      "state": {
       "_model_module_version": "^0.19",
       "_view_module_version": "^0.19",
       "active_color": "orange",
       "options": [
        "active_color",
        "capture_z_index",
        "completed_color",
        "popup_options",
        "position",
        "primary_area_unit",
        "primary_length_unit",
        "secondary_area_unit",
        "secondary_length_unit"
       ],
       "position": "bottomleft",
       "primary_length_unit": "kilometers",
       "secondary_area_unit": null,
       "secondary_length_unit": null
      }
     },
     "f763606ddfd24b44ade4c05af3e9f7b8": {
      "model_module": "jupyter-leaflet",
      "model_module_version": "^0.19",
      "model_name": "LeafletSearchControlModel",
      "state": {
       "_model_module_version": "^0.19",
       "_view_module_version": "^0.19",
       "marker": "IPY_MODEL_87011ef7e3e64328aa5a7cf9154df12e",
       "options": [
        "animate_location",
        "auto_collapse",
        "auto_type",
        "found_style",
        "jsonp_param",
        "position",
        "property_loc",
        "property_name",
        "url",
        "zoom"
       ],
       "position": "topright",
       "url": "https://nominatim.openstreetmap.org/search?format=json&q={s}",
       "zoom": 5
      }
     },
     "f8e618bad9174cac856cf5f1f0cdb69c": {
      "model_module": "@jupyter-widgets/controls",
      "model_module_version": "2.0.0",
      "model_name": "HTMLModel",
      "state": {
       "layout": "IPY_MODEL_a620ad09a49b41a89e424d18b76e8154",
       "style": "IPY_MODEL_31a28639f66a42eeab7df4ebc561d4de",
       "value": "\n                <ul class='list-group'>\n                  \n                <li class='list-group-item'>\n                  Item A\n                </li> \n                <li class='list-group-item'>\n                  Item B\n                </li>\n                </ul>"
      }
     },
     "fbd3a1be5c3f453b803d42f19fe76c89": {
      "model_module": "@jupyter-widgets/controls",
      "model_module_version": "2.0.0",
      "model_name": "HTMLModel",
      "state": {
       "layout": "IPY_MODEL_5d3559d5ff3644f48cee24e51f3d4895",
       "placeholder": "",
       "style": "IPY_MODEL_7f2968fe4d604fbdb532515936fe341f",
       "value": "\n        <div>Some html with a list of items\n        <ul class='list-group'>\n            <li class='list-group-item'>Item A</li>\n            <li class='list-group-item'>Item B</li>\n            <li class='list-group-item'>Item C</li>\n        </ul></div>"
      }
     }
    },
    "version_major": 2,
    "version_minor": 0
   }
  }
 },
 "nbformat": 4,
 "nbformat_minor": 5
}
