{
 "cells": [
  {
   "cell_type": "markdown",
   "id": "a1e2fa29-7566-4426-be1e-a750658d83a5",
   "metadata": {},
   "source": [
    "# GeoData\n",
    "\n",
    "Layer created from a GeoPandas dataframe."
   ]
  },
  {
   "cell_type": "markdown",
   "id": "7cdc5e8c-2aa8-41d1-9461-3e451f6ef6ea",
   "metadata": {},
   "source": [
    "## 基础用法\n"
   ]
  },
  {
   "cell_type": "code",
   "execution_count": 1,
   "id": "f5928b17-e8c8-47b0-9774-a8bb1f7e6af3",
   "metadata": {},
   "outputs": [],
   "source": [
    "import os\n",
    "import pathlib\n",
    "from vuepy.utils import magic\n",
    "from vleaflet import leaflet\n",
    "%load_ext vuepy"
   ]
  },
  {
   "cell_type": "code",
   "execution_count": 3,
   "id": "3c29600e-a115-4d14-957a-29cb8e8c6600",
   "metadata": {},
   "outputs": [
    {
     "name": "stdout",
     "output_type": "stream",
     "text": [
      "{\"vue\": \"<template>\\n  <vl-map :center=\\\"[46.91, 7.43]\\\" :zoom=15 >\\n    <template #layers>\\n      <vl-geo-data name='geo data' @click=on_click\\n                   :geo_dataframe=\\\"gdf\\\" :style='style' \\n                   :hover_style='hover_style'\\n                   :point_style='point_style' />\\n    </template>\\n    <template #controls>\\n      <vl-layers-control position='topleft' :collapsed='False'/>\\n    </template>\\n  </vl-map>\\n</template>\\n<script lang='py'>\\nimport geopandas, pandas as pd, numpy as np\\n\\nnumpoints = 10\\ncenter = (7.43, 46.91)\\n\\ndf = pd.DataFrame(\\n    {'Conc': 1 * np.random.randn(numpoints) + 17,\\n     'Longitude': 0.0004 * np.random.randn(numpoints) + center[0],\\n     'Latitude': 0.0004 * np.random.randn(numpoints) + center[1]})\\n\\ngdf = geopandas.GeoDataFrame(\\n    df, geometry=geopandas.points_from_xy(df.Longitude, df.Latitude))\\n\\nstyle ={\\n    'color': 'black',\\n    'radius':8,\\n    'fillColor': '#3366cc',\\n    'opacity':0.5,\\n    'weight':1.9,\\n    'dashArray':'2',\\n    'fillOpacity':0.6\\n}\\npoint_style = {\\n    'radius': 5,\\n    'color': 'red',\\n    'fillOpacity': 0.8,\\n    'fillColor': 'blue',\\n    'weight': 3\\n}\\nhover_style = {'fillColor': 'red' , 'fillOpacity': 0.2}\\n\\ndef on_click(**kwargs):\\n    print(kwargs)\\n\\n</script>\\n\", \"setup\": \"\"}\n"
     ]
    },
    {
     "data": {
      "application/vnd.jupyter.widget-view+json": {
       "model_id": "ff7f31e691ab48ca959a79118eb366ce",
       "version_major": 2,
       "version_minor": 0
      },
      "text/plain": [
       "Document(children=(Dom(children=(MessageWidget(message_options={'message': '', 'type': 'info', 'show_close': F…"
      ]
     },
     "execution_count": 3,
     "metadata": {},
     "output_type": "execute_result"
    }
   ],
   "source": [
    "%%vuepy_run --plugins leaflet --show-code\n",
    "<template>\n",
    "  <vl-map :center=\"[46.91, 7.43]\" :zoom=15 >\n",
    "    <template #layers>\n",
    "      <vl-geo-data name='geo data' @click=on_click\n",
    "                   :geo_dataframe=\"gdf\" :style='style' \n",
    "                   :hover_style='hover_style'\n",
    "                   :point_style='point_style' />\n",
    "    </template>\n",
    "    <template #controls>\n",
    "      <vl-layers-control position='topleft' :collapsed='False'/>\n",
    "    </template>\n",
    "  </vl-map>\n",
    "</template>\n",
    "<script lang='py'>\n",
    "import geopandas, pandas as pd, numpy as np\n",
    "\n",
    "numpoints = 10\n",
    "center = (7.43, 46.91)\n",
    "\n",
    "df = pd.DataFrame(\n",
    "    {'Conc': 1 * np.random.randn(numpoints) + 17,\n",
    "     'Longitude': 0.0004 * np.random.randn(numpoints) + center[0],\n",
    "     'Latitude': 0.0004 * np.random.randn(numpoints) + center[1]})\n",
    "\n",
    "gdf = geopandas.GeoDataFrame(\n",
    "    df, geometry=geopandas.points_from_xy(df.Longitude, df.Latitude))\n",
    "\n",
    "style ={\n",
    "    'color': 'black',\n",
    "    'radius':8,\n",
    "    'fillColor': '#3366cc',\n",
    "    'opacity':0.5,\n",
    "    'weight':1.9,\n",
    "    'dashArray':'2',\n",
    "    'fillOpacity':0.6\n",
    "}\n",
    "point_style = {\n",
    "    'radius': 5,\n",
    "    'color': 'red',\n",
    "    'fillOpacity': 0.8,\n",
    "    'fillColor': 'blue',\n",
    "    'weight': 3\n",
    "}\n",
    "hover_style = {'fillColor': 'red' , 'fillOpacity': 0.2}\n",
    "\n",
    "def on_click(**kwargs):\n",
    "    print(kwargs) # {'event': 'click', \n",
    "                  #  'feature': {\n",
    "                  #    'id': '2', 'type': 'Feature', \n",
    "                  #    'properties': {'Conc': 15.9, 'Longitude': 7.4, 'Latitude': 46.9}, \n",
    "                  #    'geometry': {'type': 'Point', 'coordinates': [7.4, 46.9]}\n",
    "                  #  }, \n",
    "                  #  'properties': {'Conc': 15.9, 'Longitude': 7.4, 'Latitude': 46.9}, \n",
    "                  #  'id': '2'\n",
    "                  # }\n",
    "</script>"
   ]
  },
  {
   "cell_type": "markdown",
   "id": "8685d144-029f-4afa-8547-4f3d84529504",
   "metadata": {},
   "source": [
    "## API\n",
    "\n",
    "### 属性\n",
    "\n",
    "| 属性名 | 说明 | 类型 | 默认值 | 必填 | 备注 |\n",
    "|--------|------|------|--------|------|------|\n",
    "| geo_dataframe | 使用的GeoPandas数据框 | Object | - | 是 | 必须包含有效的GeoDataFrame数据 |\n",
    "| name | 图层名称 | string | '' | 否 | - |\n",
    "| style | 应用到要素的额外样式 | Object | `{}` | 否 | 支持Leaflet样式对象 |\n",
    "| hover_style | 鼠标悬停时的要素样式 | Object | `{}` | 否 | 支持Leaflet样式对象 |\n",
    "| point_style | 应用到点要素的额外样式 | Object | `{}` | 否 | 支持Leaflet样式对象 |\n",
    "| style_callback | 要素样式回调函数 | Function | null | 否 | 接收feature参数，返回样式对象 |\n",
    "\n",
    "### 事件\n",
    "\n",
    "| 事件名 | 说明 | 参数 |\n",
    "|--------|------|------|\n",
    "| click | 点击要素时触发 | feature: 被点击的要素数据 |\n",
    "| hover | 鼠标悬停要素时触发 | feature: 被悬停的要素数据 |\n",
    "\n",
    "### 插槽\n",
    "\n",
    "| 插槽名 | 说明 |\n",
    "|--------|------|\n",
    "| - | - |\n",
    "\n",
    "### 方法\n",
    "\n",
    "| 方法名 | 说明 | 参数 | 返回值 |\n",
    "|--------|------|------|--------|\n",
    "| - | - | - | - |"
   ]
  },
  {
   "cell_type": "code",
   "execution_count": null,
   "id": "db17c770-7085-4365-b5f0-bd4f66ebc948",
   "metadata": {},
   "outputs": [],
   "source": []
  }
 ],
 "metadata": {
  "kernelspec": {
   "display_name": "Python 3 (ipykernel)",
   "language": "python",
   "name": "python3"
  },
  "language_info": {
   "codemirror_mode": {
    "name": "ipython",
    "version": 3
   },
   "file_extension": ".py",
   "mimetype": "text/x-python",
   "name": "python",
   "nbconvert_exporter": "python",
   "pygments_lexer": "ipython3",
   "version": "3.10.12"
  },
  "widgets": {
   "application/vnd.jupyter.widget-state+json": {
    "state": {
     "00af44d9cb2e414c9fdfe213904dbad4": {
      "model_module": "jupyter-leaflet",
      "model_module_version": "^0.19",
      "model_name": "LeafletGeoJSONModel",
      "state": {
       "_model_module_version": "^0.19",
       "_view_module_version": "^0.19",
       "data": {
        "features": [
         {
          "geometry": {
           "coordinates": [
            7.42999093333924,
            46.91027669147886
           ],
           "type": "Point"
          },
          "id": "0",
          "properties": {
           "Conc": 18.548252547304863,
           "Latitude": 46.91027669147886,
           "Longitude": 7.42999093333924
          },
          "type": "Feature"
         },
         {
          "geometry": {
           "coordinates": [
            7.4303546063308215,
            46.91023485083763
           ],
           "type": "Point"
          },
          "id": "1",
          "properties": {
           "Conc": 16.046828749484927,
           "Latitude": 46.91023485083763,
           "Longitude": 7.4303546063308215
          },
          "type": "Feature"
         },
         {
          "geometry": {
           "coordinates": [
            7.429697695571276,
            46.90945028886319
           ],
           "type": "Point"
          },
          "id": "2",
          "properties": {
           "Conc": 15.946765289602393,
           "Latitude": 46.90945028886319,
           "Longitude": 7.429697695571276
          },
          "type": "Feature"
         },
         {
          "geometry": {
           "coordinates": [
            7.4303082923060115,
            46.910532983429775
           ],
           "type": "Point"
          },
          "id": "3",
          "properties": {
           "Conc": 16.850952418864846,
           "Latitude": 46.910532983429775,
           "Longitude": 7.4303082923060115
          },
          "type": "Feature"
         },
         {
          "geometry": {
           "coordinates": [
            7.429859126316137,
            46.90986794355584
           ],
           "type": "Point"
          },
          "id": "4",
          "properties": {
           "Conc": 16.89740772815254,
           "Latitude": 46.90986794355584,
           "Longitude": 7.429859126316137
          },
          "type": "Feature"
         },
         {
          "geometry": {
           "coordinates": [
            7.430221329892428,
            46.91044096445952
           ],
           "type": "Point"
          },
          "id": "5",
          "properties": {
           "Conc": 17.71327210860719,
           "Latitude": 46.91044096445952,
           "Longitude": 7.430221329892428
          },
          "type": "Feature"
         },
         {
          "geometry": {
           "coordinates": [
            7.429910664068539,
            46.909982759969424
           ],
           "type": "Point"
          },
          "id": "6",
          "properties": {
           "Conc": 15.31404833346036,
           "Latitude": 46.909982759969424,
           "Longitude": 7.429910664068539
          },
          "type": "Feature"
         },
         {
          "geometry": {
           "coordinates": [
            7.430388850481319,
            46.9100380921818
           ],
           "type": "Point"
          },
          "id": "7",
          "properties": {
           "Conc": 16.685696222692194,
           "Latitude": 46.9100380921818,
           "Longitude": 7.430388850481319
          },
          "type": "Feature"
         },
         {
          "geometry": {
           "coordinates": [
            7.429924787377337,
            46.91010001942981
           ],
           "type": "Point"
          },
          "id": "8",
          "properties": {
           "Conc": 16.982625993381554,
           "Latitude": 46.91010001942981,
           "Longitude": 7.429924787377337
          },
          "type": "Feature"
         },
         {
          "geometry": {
           "coordinates": [
            7.429777286948148,
            46.909924875925114
           ],
           "type": "Point"
          },
          "id": "9",
          "properties": {
           "Conc": 16.76221303189166,
           "Latitude": 46.909924875925114,
           "Longitude": 7.429777286948148
          },
          "type": "Feature"
         }
        ],
        "type": "FeatureCollection"
       },
       "hover_style": {
        "fillColor": "red",
        "fillOpacity": 0.2
       },
       "name": "geo data",
       "point_style": {
        "color": "red",
        "fillColor": "blue",
        "fillOpacity": 0.8,
        "radius": 5,
        "weight": 3
       },
       "style": {
        "color": "black",
        "dashArray": "2",
        "fillColor": "#3366cc",
        "fillOpacity": 0.6,
        "opacity": 0.5,
        "radius": 8,
        "weight": 1.9
       }
      }
     },
     "0529aa2ce9914eaebac432c9d18646d9": {
      "model_module": "@jupyter-widgets/controls",
      "model_module_version": "2.0.0",
      "model_name": "VBoxModel",
      "state": {
       "children": [
        "IPY_MODEL_4fbfe9c28807465280a701d3560217e8",
        "IPY_MODEL_7ba002fe797444d5adf91849bcdbaecf"
       ],
       "layout": "IPY_MODEL_22620545b3c040bbb18af7635755a7ed"
      }
     },
     "07e6a3fd76064e618ef67c042ca0bc49": {
      "model_module": "jupyter-leaflet",
      "model_module_version": "^0.19",
      "model_name": "LeafletMapModel",
      "state": {
       "_model_module_version": "^0.19",
       "_view_module_version": "^0.19",
       "bottom": 2953766,
       "center": [
        46.91,
        7.43
       ],
       "controls": [
        "IPY_MODEL_18a39179566e4fe0a3df28e2777504fb",
        "IPY_MODEL_c444c5abc219463e884e85873bbf1526",
        "IPY_MODEL_577252217ec245b3bb1897b74e9bd600"
       ],
       "default_style": "IPY_MODEL_0f74b066470d4434bc4d722fc5ace33d",
       "dragging_style": "IPY_MODEL_5450293f869849feae2606c4b46af778",
       "east": 7.458043098449708,
       "fullscreen": false,
       "interpolation": "bilinear",
       "layers": [
        "IPY_MODEL_dddd0802de964f7ba7fc332dac9e237c",
        "IPY_MODEL_00af44d9cb2e414c9fdfe213904dbad4"
       ],
       "layout": "IPY_MODEL_d539e3caf8514ee19f724d5b0b4cf414",
       "left": 4366783,
       "modisdate": "2025-04-11",
       "north": 46.91585835751299,
       "options": [
        "bounce_at_zoom_limits",
        "box_zoom",
        "center",
        "close_popup_on_click",
        "double_click_zoom",
        "dragging",
        "fullscreen",
        "inertia",
        "inertia_deceleration",
        "inertia_max_speed",
        "interpolation",
        "keyboard",
        "keyboard_pan_offset",
        "keyboard_zoom_offset",
        "max_zoom",
        "min_zoom",
        "prefer_canvas",
        "scroll_wheel_zoom",
        "tap",
        "tap_tolerance",
        "touch_zoom",
        "world_copy_jump",
        "zoom",
        "zoom_animation_threshold",
        "zoom_delta",
        "zoom_snap"
       ],
       "prefer_canvas": false,
       "right": 4368089,
       "south": 46.90413137255998,
       "style": "IPY_MODEL_27ca770314cc461ba367888c608b717a",
       "top": 2953366,
       "west": 7.401995658874513,
       "window_url": "http://localhost:2071/lab/tree/nb_llm/pyvue/examples/vleaflet/layers/GeoData.ipynb",
       "zoom": 15
      }
     },
     "0e131367b53b4190a70fb5efd065e2ff": {
      "model_module": "@jupyter-widgets/controls",
      "model_module_version": "2.0.0",
      "model_name": "VBoxModel",
      "state": {
       "children": [
        "IPY_MODEL_b6f4f272684c418d91fa669b01ff69d4"
       ],
       "layout": "IPY_MODEL_bfbe4f96f7094745809fd17d222d1464"
      }
     },
     "0f74b066470d4434bc4d722fc5ace33d": {
      "model_module": "jupyter-leaflet",
      "model_module_version": "^0.19",
      "model_name": "LeafletMapStyleModel",
      "state": {
       "_model_module_version": "^0.19"
      }
     },
     "13d118b4f0e146b297af5c1843f53397": {
      "model_module": "jupyter-leaflet",
      "model_module_version": "^0.19",
      "model_name": "LeafletMapStyleModel",
      "state": {
       "_model_module_version": "^0.19"
      }
     },
     "15906e6903c7448c9734f27c39ecfbe3": {
      "model_module": "jupyter-leaflet",
      "model_module_version": "^0.19",
      "model_name": "LeafletMapStyleModel",
      "state": {
       "_model_module_version": "^0.19"
      }
     },
     "16914e47bdda483a88f9e5562a1d4c9d": {
      "model_module": "@jupyter-widgets/base",
      "model_module_version": "2.0.0",
      "model_name": "LayoutModel",
      "state": {}
     },
     "18a39179566e4fe0a3df28e2777504fb": {
      "model_module": "jupyter-leaflet",
      "model_module_version": "^0.19",
      "model_name": "LeafletZoomControlModel",
      "state": {
       "_model_module_version": "^0.19",
       "_view_module_version": "^0.19",
       "options": [
        "position",
        "zoom_in_text",
        "zoom_in_title",
        "zoom_out_text",
        "zoom_out_title"
       ]
      }
     },
     "1c4fe2d733a04b77b667b4319a08b4ca": {
      "model_module": "@jupyter-widgets/base",
      "model_module_version": "2.0.0",
      "model_name": "LayoutModel",
      "state": {}
     },
     "1fa1ce0e7f8a4380af9c95aebb57199b": {
      "model_module": "@jupyter-widgets/base",
      "model_module_version": "2.0.0",
      "model_name": "LayoutModel",
      "state": {}
     },
     "22620545b3c040bbb18af7635755a7ed": {
      "model_module": "@jupyter-widgets/base",
      "model_module_version": "2.0.0",
      "model_name": "LayoutModel",
      "state": {}
     },
     "27ca770314cc461ba367888c608b717a": {
      "model_module": "jupyter-leaflet",
      "model_module_version": "^0.19",
      "model_name": "LeafletMapStyleModel",
      "state": {
       "_model_module_version": "^0.19"
      }
     },
     "2a7d8062aee74d84821b32559d1eb79b": {
      "model_module": "@jupyter-widgets/base",
      "model_module_version": "2.0.0",
      "model_name": "LayoutModel",
      "state": {}
     },
     "2b7a050085c84cebbe9ab58f8c9df71c": {
      "model_module": "@jupyter-widgets/controls",
      "model_module_version": "2.0.0",
      "model_name": "VBoxModel",
      "state": {
       "children": [
        "IPY_MODEL_c43cacb40d204f81abb0daf1a79dc2b3",
        "IPY_MODEL_b980d84627184348b504c28dd0d80838"
       ],
       "layout": "IPY_MODEL_93fd077c9a1e4648a4bfc639fb64ac1d"
      }
     },
     "2dd2b332e6074a618420f148823b2487": {
      "model_module": "@jupyter-widgets/base",
      "model_module_version": "2.0.0",
      "model_name": "LayoutModel",
      "state": {}
     },
     "3eb651a254b442fcbd5ed44309bc22eb": {
      "model_module": "@jupyter-widgets/controls",
      "model_module_version": "2.0.0",
      "model_name": "VBoxModel",
      "state": {
       "children": [
        "IPY_MODEL_577252217ec245b3bb1897b74e9bd600"
       ],
       "layout": "IPY_MODEL_2a7d8062aee74d84821b32559d1eb79b"
      }
     },
     "4fbfe9c28807465280a701d3560217e8": {
      "model_module": "anywidget",
      "model_module_version": "~0.9.*",
      "model_name": "AnyModel",
      "state": {
       "_anywidget_id": "ipywui.widgets.custom.message.MessageWidget",
       "_css": ".wui-message-root {\n    display: flex;\n    position: absolute;\n    left: 0;\n    right: 0;\n    top: 0;\n}\n\n.wui-message-container {\n    align-items: center;\n    display: flex;\n    flex-direction: column-reverse;\n    justify-content: center;\n    min-height: 100%;\n    outline: none;\n    width: 100%;\n\n    -webkit-tap-highlight-color: rgba(0,0,0,0);\n    bottom: 0;\n    left: 0;\n    right: 0;\n    top: 0;\n}\n\n.wui-message--success {\n    --wui-message-bg-color: #f0f9eb;\n    --wui-message-border-color: #e1f3d8;\n    --wui-message-text-color: #67c23a;\n}\n.wui-message--warning {\n    --wui-message-bg-color: #fdf6ec;\n    --wui-message-border-color: #faecd8;\n    --wui-message-text-color: #e6a23c;\n}\n.wui-message--info {\n    --wui-message-bg-color: #f4f4f5;\n    --wui-message-border-color: #e9e9eb;\n    --wui-message-text-color: #909399;\n}\n.wui-message--error {\n    --wui-message-bg-color: #fef0f0;\n    --wui-message-border-color: #fde2e2;\n    --wui-message-text-color: #f56c6c;\n}\n\n@keyframes msg-open {\n    0% {\n        opacity: 0;\n        -webkit-transform: translateY(-120%);\n        transform: translateY(-120%)\n    }\n    to {\n        -webkit-transform: translateY(0);\n        transform: translateY(0)\n    }\n}\n\n@keyframes msg-close {\n    0% {\n        opacity: 1;\n        -webkit-transform: scale(1);\n        transform: scale(1)\n    }\n    to {\n        opacity: 0;\n        -webkit-transform: scale(.9);\n        transform: scale(.9)\n    }\n}\n.wui-message[data-state=entered],.wui-message[data-state=entering] {\n    -webkit-animation: msg-open .24s cubic-bezier(.175,.885,.32,1.175) both;\n    animation: msg-open .24s cubic-bezier(.175,.885,.32,1.175) both\n}\n\n.wui-message[data-state=exiting] {\n    -webkit-animation: msg-close .12s cubic-bezier(.4,0,1,1) both;\n    animation: msg-close .12s cubic-bezier(.4,0,1,1) both\n}\n\n.wui-message {\n    width: -webkit-fit-content;\n    width: -moz-fit-content;\n    width: fit-content;\n    z-index: 2004;\n    max-width: calc(100% - 32px);\n    margin-top: 8px;\n    box-sizing: border-box;\n    /*border-radius: var(--wui-border-radius-base);*/\n    /*border-width: var(--wui-border-width);*/\n    /*border-style: var(--wui-border-style);*/\n    border-color: var(--wui-message-border-color);\n    /*left: 50%;*/\n    /*top: 20px;*/\n    /*transform: translateX(-50%);*/\n    background-color: var(--wui-message-bg-color);\n    /*transition: opacity var(--wui-transition-duration),transform .4s,top .4s;*/\n    /*padding: var(--wui-message-padding);*/\n    display: flex;\n    align-items: center;\n}\n\n/*.wui-message--success */\n.wui-message__content {\n    color: var(--wui-message-text-color);\n    font-size: 14px;\n    line-height: 18px;\n    margin: 10px 14px 10px 14px;\n    overflow-wrap: break-word;\n}\n\n.wui-message__closeBtn {\n    /*cursor: pointer;*/\n    font-style: normal;\n    /*color: gray;*/\n    padding-right: 14px;\n    /*font-size: 13px;*/\n    user-select: none;\n\n    background: transparent;\n    border: none;\n    color: gray;\n    cursor: pointer;\n    font-size: 13px;\n    font-weight: 400;\n    line-height: 1;\n    outline: none;\n    /*padding: 4px;*/\n    text-align: center;\n    transition: opacity .3s;\n    /*width: 100%;*/\n}",
       "_esm": "function closeMsg(msgDom) {\n  if (!msgDom) {\n    return;\n  }\n  msgDom.setAttribute('data-state', 'exiting');\n  msgDom.remove();\n}\n\nfunction createMsg(options) {\n  const {message, msg_id, type = 'info', show_close = false} = options;\n  const msgDom = document.createElement('div');\n  msgDom.className += ` wui-message--${type} wui-message`;\n  msgDom.setAttribute('data-state', 'entered');\n  msgDom.setAttribute('id', msg_id);\n  const msgContent = document.createElement('p');\n  msgContent.className += ` wui-message--${type} wui-message__content`;\n  msgContent.innerText = message;\n  msgDom.appendChild(msgContent);\n  if (show_close) {\n    const closeBtn = document.createElement('i');\n    closeBtn.className += 'wui-message__closeBtn';\n    closeBtn.innerText = 'x';\n    closeBtn.addEventListener('click', (ev) => {\n      closeMsg(msgDom);\n    })\n    msgDom.appendChild(closeBtn);\n  }\n  return msgDom;\n}\n\nexport async function render(view) {\n  let model = view.model;\n  const msgRoot = view.el;\n  msgRoot.className += ' wui-message-root'\n\n  const msgContainer = document.createElement('div');\n  msgContainer.className += ' wui-message-container';\n  msgRoot.appendChild(msgContainer)\n\n  model.on(\"change:message_options\", () => {\n    const options = model.get(\"message_options\");\n    const msg = createMsg(options);\n    msgContainer.appendChild(msg);\n    const {duration = 3000} = options;\n    if (duration > 0) {\n      setTimeout(() => {\n        closeMsg(msg)\n      }, duration);\n    }\n  })\n\n  model.on(\"change:close_msg_id\", () => {\n    const msg_id = model.get(\"close_msg_id\");\n    const msgDom = document.getElementById(msg_id);\n    closeMsg(msgDom);\n  })\n}\n",
       "_model_module": "anywidget",
       "_model_module_version": "~0.9.*",
       "_model_name": "AnyModel",
       "_view_module": "anywidget",
       "_view_module_version": "~0.9.*",
       "_view_name": "AnyView",
       "close_msg_id": "",
       "layout": "IPY_MODEL_1fa1ce0e7f8a4380af9c95aebb57199b",
       "message_options": {
        "duration": 3000,
        "message": "",
        "show_close": false,
        "type": "info"
       }
      }
     },
     "50cb6b5454d244358510b73d44b770b7": {
      "model_module": "jupyter-leaflet",
      "model_module_version": "^0.19",
      "model_name": "LeafletTileLayerModel",
      "state": {
       "_model_module_version": "^0.19",
       "_view_module_version": "^0.19",
       "attribution": "&copy; <a href=\"https://www.openstreetmap.org/copyright\">OpenStreetMap</a> contributors",
       "base": true,
       "max_zoom": 19,
       "min_zoom": 1,
       "name": "OpenStreetMap.Mapnik",
       "options": [
        "attribution",
        "bounds",
        "detect_retina",
        "max_native_zoom",
        "max_zoom",
        "min_native_zoom",
        "min_zoom",
        "no_wrap",
        "tile_size",
        "tms",
        "zoom_offset"
       ],
       "url": "https://tile.openstreetmap.org/{z}/{x}/{y}.png"
      }
     },
     "5450293f869849feae2606c4b46af778": {
      "model_module": "jupyter-leaflet",
      "model_module_version": "^0.19",
      "model_name": "LeafletMapStyleModel",
      "state": {
       "_model_module_version": "^0.19",
       "cursor": "move"
      }
     },
     "55fa1a69f6a84077a5672a578750ba8b": {
      "model_module": "jupyter-leaflet",
      "model_module_version": "^0.19",
      "model_name": "LeafletMapStyleModel",
      "state": {
       "_model_module_version": "^0.19",
       "cursor": "move"
      }
     },
     "577252217ec245b3bb1897b74e9bd600": {
      "model_module": "jupyter-leaflet",
      "model_module_version": "^0.19",
      "model_name": "LeafletLayersControlModel",
      "state": {
       "_model_module_version": "^0.19",
       "_view_module_version": "^0.19",
       "collapsed": false,
       "options": [
        "collapsed",
        "position"
       ]
      }
     },
     "57fff8d847284de4aed27183dc802f91": {
      "model_module": "@jupyter-widgets/controls",
      "model_module_version": "2.0.0",
      "model_name": "VBoxModel",
      "state": {
       "children": [
        "IPY_MODEL_69c59319d2494136ad4362f8a2f6a216"
       ],
       "layout": "IPY_MODEL_de915e947e8440b49604c22e51d9e4cf"
      }
     },
     "5ab517872c17485cbd31b15b42b2d986": {
      "model_module": "jupyter-leaflet",
      "model_module_version": "^0.19",
      "model_name": "LeafletMapModel",
      "state": {
       "_model_module_version": "^0.19",
       "_view_module_version": "^0.19",
       "bottom": 2953766,
       "center": [
        46.91,
        7.43
       ],
       "controls": [
        "IPY_MODEL_8bf385dc7ecd4655b46059bc7b5e48bb",
        "IPY_MODEL_b2341ecc280b461093da09e9674d2793",
        "IPY_MODEL_69c59319d2494136ad4362f8a2f6a216"
       ],
       "default_style": "IPY_MODEL_15906e6903c7448c9734f27c39ecfbe3",
       "dragging_style": "IPY_MODEL_55fa1a69f6a84077a5672a578750ba8b",
       "east": 7.458043098449708,
       "fullscreen": false,
       "interpolation": "bilinear",
       "layers": [
        "IPY_MODEL_50cb6b5454d244358510b73d44b770b7",
        "IPY_MODEL_b6f4f272684c418d91fa669b01ff69d4"
       ],
       "layout": "IPY_MODEL_1c4fe2d733a04b77b667b4319a08b4ca",
       "left": 4366783,
       "modisdate": "2025-04-11",
       "north": 46.91585835751299,
       "options": [
        "bounce_at_zoom_limits",
        "box_zoom",
        "center",
        "close_popup_on_click",
        "double_click_zoom",
        "dragging",
        "fullscreen",
        "inertia",
        "inertia_deceleration",
        "inertia_max_speed",
        "interpolation",
        "keyboard",
        "keyboard_pan_offset",
        "keyboard_zoom_offset",
        "max_zoom",
        "min_zoom",
        "prefer_canvas",
        "scroll_wheel_zoom",
        "tap",
        "tap_tolerance",
        "touch_zoom",
        "world_copy_jump",
        "zoom",
        "zoom_animation_threshold",
        "zoom_delta",
        "zoom_snap"
       ],
       "prefer_canvas": false,
       "right": 4368089,
       "south": 46.90413137255998,
       "style": "IPY_MODEL_13d118b4f0e146b297af5c1843f53397",
       "top": 2953366,
       "west": 7.401995658874513,
       "window_url": "http://localhost:2071/lab/tree/nb_llm/pyvue/examples/vleaflet/layers/GeoData.ipynb",
       "zoom": 15
      }
     },
     "69c59319d2494136ad4362f8a2f6a216": {
      "model_module": "jupyter-leaflet",
      "model_module_version": "^0.19",
      "model_name": "LeafletLayersControlModel",
      "state": {
       "_model_module_version": "^0.19",
       "_view_module_version": "^0.19",
       "collapsed": false,
       "options": [
        "collapsed",
        "position"
       ]
      }
     },
     "6bb867b7a92142c6a93d4a3e84420ff0": {
      "model_module": "@jupyter-widgets/base",
      "model_module_version": "2.0.0",
      "model_name": "LayoutModel",
      "state": {}
     },
     "6cb6bc445d9a488288dd284a941e020f": {
      "model_module": "anywidget",
      "model_module_version": "~0.9.*",
      "model_name": "AnyModel",
      "state": {
       "_anywidget_id": "ipywui.widgets.custom.message.MessageWidget",
       "_css": ".wui-message-root {\n    display: flex;\n    position: absolute;\n    left: 0;\n    right: 0;\n    top: 0;\n}\n\n.wui-message-container {\n    align-items: center;\n    display: flex;\n    flex-direction: column-reverse;\n    justify-content: center;\n    min-height: 100%;\n    outline: none;\n    width: 100%;\n\n    -webkit-tap-highlight-color: rgba(0,0,0,0);\n    bottom: 0;\n    left: 0;\n    right: 0;\n    top: 0;\n}\n\n.wui-message--success {\n    --wui-message-bg-color: #f0f9eb;\n    --wui-message-border-color: #e1f3d8;\n    --wui-message-text-color: #67c23a;\n}\n.wui-message--warning {\n    --wui-message-bg-color: #fdf6ec;\n    --wui-message-border-color: #faecd8;\n    --wui-message-text-color: #e6a23c;\n}\n.wui-message--info {\n    --wui-message-bg-color: #f4f4f5;\n    --wui-message-border-color: #e9e9eb;\n    --wui-message-text-color: #909399;\n}\n.wui-message--error {\n    --wui-message-bg-color: #fef0f0;\n    --wui-message-border-color: #fde2e2;\n    --wui-message-text-color: #f56c6c;\n}\n\n@keyframes msg-open {\n    0% {\n        opacity: 0;\n        -webkit-transform: translateY(-120%);\n        transform: translateY(-120%)\n    }\n    to {\n        -webkit-transform: translateY(0);\n        transform: translateY(0)\n    }\n}\n\n@keyframes msg-close {\n    0% {\n        opacity: 1;\n        -webkit-transform: scale(1);\n        transform: scale(1)\n    }\n    to {\n        opacity: 0;\n        -webkit-transform: scale(.9);\n        transform: scale(.9)\n    }\n}\n.wui-message[data-state=entered],.wui-message[data-state=entering] {\n    -webkit-animation: msg-open .24s cubic-bezier(.175,.885,.32,1.175) both;\n    animation: msg-open .24s cubic-bezier(.175,.885,.32,1.175) both\n}\n\n.wui-message[data-state=exiting] {\n    -webkit-animation: msg-close .12s cubic-bezier(.4,0,1,1) both;\n    animation: msg-close .12s cubic-bezier(.4,0,1,1) both\n}\n\n.wui-message {\n    width: -webkit-fit-content;\n    width: -moz-fit-content;\n    width: fit-content;\n    z-index: 2004;\n    max-width: calc(100% - 32px);\n    margin-top: 8px;\n    box-sizing: border-box;\n    /*border-radius: var(--wui-border-radius-base);*/\n    /*border-width: var(--wui-border-width);*/\n    /*border-style: var(--wui-border-style);*/\n    border-color: var(--wui-message-border-color);\n    /*left: 50%;*/\n    /*top: 20px;*/\n    /*transform: translateX(-50%);*/\n    background-color: var(--wui-message-bg-color);\n    /*transition: opacity var(--wui-transition-duration),transform .4s,top .4s;*/\n    /*padding: var(--wui-message-padding);*/\n    display: flex;\n    align-items: center;\n}\n\n/*.wui-message--success */\n.wui-message__content {\n    color: var(--wui-message-text-color);\n    font-size: 14px;\n    line-height: 18px;\n    margin: 10px 14px 10px 14px;\n    overflow-wrap: break-word;\n}\n\n.wui-message__closeBtn {\n    /*cursor: pointer;*/\n    font-style: normal;\n    /*color: gray;*/\n    padding-right: 14px;\n    /*font-size: 13px;*/\n    user-select: none;\n\n    background: transparent;\n    border: none;\n    color: gray;\n    cursor: pointer;\n    font-size: 13px;\n    font-weight: 400;\n    line-height: 1;\n    outline: none;\n    /*padding: 4px;*/\n    text-align: center;\n    transition: opacity .3s;\n    /*width: 100%;*/\n}",
       "_esm": "function closeMsg(msgDom) {\n  if (!msgDom) {\n    return;\n  }\n  msgDom.setAttribute('data-state', 'exiting');\n  msgDom.remove();\n}\n\nfunction createMsg(options) {\n  const {message, msg_id, type = 'info', show_close = false} = options;\n  const msgDom = document.createElement('div');\n  msgDom.className += ` wui-message--${type} wui-message`;\n  msgDom.setAttribute('data-state', 'entered');\n  msgDom.setAttribute('id', msg_id);\n  const msgContent = document.createElement('p');\n  msgContent.className += ` wui-message--${type} wui-message__content`;\n  msgContent.innerText = message;\n  msgDom.appendChild(msgContent);\n  if (show_close) {\n    const closeBtn = document.createElement('i');\n    closeBtn.className += 'wui-message__closeBtn';\n    closeBtn.innerText = 'x';\n    closeBtn.addEventListener('click', (ev) => {\n      closeMsg(msgDom);\n    })\n    msgDom.appendChild(closeBtn);\n  }\n  return msgDom;\n}\n\nexport async function render(view) {\n  let model = view.model;\n  const msgRoot = view.el;\n  msgRoot.className += ' wui-message-root'\n\n  const msgContainer = document.createElement('div');\n  msgContainer.className += ' wui-message-container';\n  msgRoot.appendChild(msgContainer)\n\n  model.on(\"change:message_options\", () => {\n    const options = model.get(\"message_options\");\n    const msg = createMsg(options);\n    msgContainer.appendChild(msg);\n    const {duration = 3000} = options;\n    if (duration > 0) {\n      setTimeout(() => {\n        closeMsg(msg)\n      }, duration);\n    }\n  })\n\n  model.on(\"change:close_msg_id\", () => {\n    const msg_id = model.get(\"close_msg_id\");\n    const msgDom = document.getElementById(msg_id);\n    closeMsg(msgDom);\n  })\n}\n",
       "_model_module": "anywidget",
       "_model_module_version": "~0.9.*",
       "_model_name": "AnyModel",
       "_view_module": "anywidget",
       "_view_module_version": "~0.9.*",
       "_view_name": "AnyView",
       "close_msg_id": "",
       "layout": "IPY_MODEL_7acf2e01c9414d8b83fdb4681f0078dd",
       "message_options": {
        "duration": 3000,
        "message": "",
        "show_close": false,
        "type": "info"
       }
      }
     },
     "77ed218cad164c81b675114ea3b7b757": {
      "model_module": "@jupyter-widgets/base",
      "model_module_version": "2.0.0",
      "model_name": "LayoutModel",
      "state": {}
     },
     "7acf2e01c9414d8b83fdb4681f0078dd": {
      "model_module": "@jupyter-widgets/base",
      "model_module_version": "2.0.0",
      "model_name": "LayoutModel",
      "state": {}
     },
     "7ba002fe797444d5adf91849bcdbaecf": {
      "model_module": "@jupyter-widgets/controls",
      "model_module_version": "2.0.0",
      "model_name": "VBoxModel",
      "state": {
       "children": [
        "IPY_MODEL_5ab517872c17485cbd31b15b42b2d986"
       ],
       "layout": "IPY_MODEL_6bb867b7a92142c6a93d4a3e84420ff0"
      }
     },
     "89b1b63a9b3343f59eeeda5353e4519e": {
      "model_module": "@jupyter-widgets/base",
      "model_module_version": "2.0.0",
      "model_name": "LayoutModel",
      "state": {}
     },
     "8bf385dc7ecd4655b46059bc7b5e48bb": {
      "model_module": "jupyter-leaflet",
      "model_module_version": "^0.19",
      "model_name": "LeafletZoomControlModel",
      "state": {
       "_model_module_version": "^0.19",
       "_view_module_version": "^0.19",
       "options": [
        "position",
        "zoom_in_text",
        "zoom_in_title",
        "zoom_out_text",
        "zoom_out_title"
       ]
      }
     },
     "8fa48e1e5f854e158c90fc8215730e5f": {
      "model_module": "@jupyter-widgets/base",
      "model_module_version": "2.0.0",
      "model_name": "LayoutModel",
      "state": {}
     },
     "93fd077c9a1e4648a4bfc639fb64ac1d": {
      "model_module": "@jupyter-widgets/base",
      "model_module_version": "2.0.0",
      "model_name": "LayoutModel",
      "state": {}
     },
     "9487bb3bfee44870b0542364b57017dd": {
      "model_module": "@jupyter-widgets/controls",
      "model_module_version": "2.0.0",
      "model_name": "VBoxModel",
      "state": {
       "children": [
        "IPY_MODEL_00af44d9cb2e414c9fdfe213904dbad4"
       ],
       "layout": "IPY_MODEL_89b1b63a9b3343f59eeeda5353e4519e"
      }
     },
     "b2341ecc280b461093da09e9674d2793": {
      "model_module": "jupyter-leaflet",
      "model_module_version": "^0.19",
      "model_name": "LeafletAttributionControlModel",
      "state": {
       "_model_module_version": "^0.19",
       "_view_module_version": "^0.19",
       "options": [
        "position",
        "prefix"
       ],
       "position": "bottomright",
       "prefix": "ipyleaflet"
      }
     },
     "b6f4f272684c418d91fa669b01ff69d4": {
      "model_module": "jupyter-leaflet",
      "model_module_version": "^0.19",
      "model_name": "LeafletGeoJSONModel",
      "state": {
       "_model_module_version": "^0.19",
       "_view_module_version": "^0.19",
       "data": {
        "features": [
         {
          "geometry": {
           "coordinates": [
            7.42968486254918,
            46.91025906665259
           ],
           "type": "Point"
          },
          "id": "0",
          "properties": {
           "Conc": 15.464321468283796,
           "Latitude": 46.91025906665259,
           "Longitude": 7.42968486254918
          },
          "type": "Feature"
         },
         {
          "geometry": {
           "coordinates": [
            7.430516097306938,
            46.910104190819155
           ],
           "type": "Point"
          },
          "id": "1",
          "properties": {
           "Conc": 18.690025988321484,
           "Latitude": 46.910104190819155,
           "Longitude": 7.430516097306938
          },
          "type": "Feature"
         },
         {
          "geometry": {
           "coordinates": [
            7.429018315063635,
            46.90974073373028
           ],
           "type": "Point"
          },
          "id": "2",
          "properties": {
           "Conc": 14.305781323629143,
           "Latitude": 46.90974073373028,
           "Longitude": 7.429018315063635
          },
          "type": "Feature"
         },
         {
          "geometry": {
           "coordinates": [
            7.430118372223579,
            46.90988701406107
           ],
           "type": "Point"
          },
          "id": "3",
          "properties": {
           "Conc": 16.86990183533043,
           "Latitude": 46.90988701406107,
           "Longitude": 7.430118372223579
          },
          "type": "Feature"
         },
         {
          "geometry": {
           "coordinates": [
            7.429430780231347,
            46.91049370382143
           ],
           "type": "Point"
          },
          "id": "4",
          "properties": {
           "Conc": 17.095969522459907,
           "Latitude": 46.91049370382143,
           "Longitude": 7.429430780231347
          },
          "type": "Feature"
         },
         {
          "geometry": {
           "coordinates": [
            7.429997916189068,
            46.909722625391936
           ],
           "type": "Point"
          },
          "id": "5",
          "properties": {
           "Conc": 17.006674243231206,
           "Latitude": 46.909722625391936,
           "Longitude": 7.429997916189068
          },
          "type": "Feature"
         },
         {
          "geometry": {
           "coordinates": [
            7.4302255977098115,
            46.910030828470504
           ],
           "type": "Point"
          },
          "id": "6",
          "properties": {
           "Conc": 17.62612024135508,
           "Latitude": 46.910030828470504,
           "Longitude": 7.4302255977098115
          },
          "type": "Feature"
         },
         {
          "geometry": {
           "coordinates": [
            7.429783985813942,
            46.91006825959163
           ],
           "type": "Point"
          },
          "id": "7",
          "properties": {
           "Conc": 16.90715903948817,
           "Latitude": 46.91006825959163,
           "Longitude": 7.429783985813942
          },
          "type": "Feature"
         },
         {
          "geometry": {
           "coordinates": [
            7.429798101226448,
            46.910740319152595
           ],
           "type": "Point"
          },
          "id": "8",
          "properties": {
           "Conc": 18.73923756947111,
           "Latitude": 46.910740319152595,
           "Longitude": 7.429798101226448
          },
          "type": "Feature"
         },
         {
          "geometry": {
           "coordinates": [
            7.429740937527242,
            46.91032427361262
           ],
           "type": "Point"
          },
          "id": "9",
          "properties": {
           "Conc": 17.528818142683495,
           "Latitude": 46.91032427361262,
           "Longitude": 7.429740937527242
          },
          "type": "Feature"
         }
        ],
        "type": "FeatureCollection"
       },
       "hover_style": {
        "fillColor": "red",
        "fillOpacity": 0.2
       },
       "name": "geo data",
       "point_style": {
        "color": "red",
        "fillColor": "blue",
        "fillOpacity": 0.8,
        "radius": 5,
        "weight": 3
       },
       "style": {
        "color": "black",
        "dashArray": "2",
        "fillColor": "#3366cc",
        "fillOpacity": 0.6,
        "opacity": 0.5,
        "radius": 8,
        "weight": 1.9
       }
      }
     },
     "b980d84627184348b504c28dd0d80838": {
      "model_module": "@jupyter-widgets/controls",
      "model_module_version": "2.0.0",
      "model_name": "VBoxModel",
      "state": {
       "children": [
        "IPY_MODEL_07e6a3fd76064e618ef67c042ca0bc49"
       ],
       "layout": "IPY_MODEL_16914e47bdda483a88f9e5562a1d4c9d"
      }
     },
     "bfbe4f96f7094745809fd17d222d1464": {
      "model_module": "@jupyter-widgets/base",
      "model_module_version": "2.0.0",
      "model_name": "LayoutModel",
      "state": {}
     },
     "c43cacb40d204f81abb0daf1a79dc2b3": {
      "model_module": "anywidget",
      "model_module_version": "~0.9.*",
      "model_name": "AnyModel",
      "state": {
       "_anywidget_id": "ipywui.widgets.custom.message.MessageWidget",
       "_css": ".wui-message-root {\n    display: flex;\n    position: absolute;\n    left: 0;\n    right: 0;\n    top: 0;\n}\n\n.wui-message-container {\n    align-items: center;\n    display: flex;\n    flex-direction: column-reverse;\n    justify-content: center;\n    min-height: 100%;\n    outline: none;\n    width: 100%;\n\n    -webkit-tap-highlight-color: rgba(0,0,0,0);\n    bottom: 0;\n    left: 0;\n    right: 0;\n    top: 0;\n}\n\n.wui-message--success {\n    --wui-message-bg-color: #f0f9eb;\n    --wui-message-border-color: #e1f3d8;\n    --wui-message-text-color: #67c23a;\n}\n.wui-message--warning {\n    --wui-message-bg-color: #fdf6ec;\n    --wui-message-border-color: #faecd8;\n    --wui-message-text-color: #e6a23c;\n}\n.wui-message--info {\n    --wui-message-bg-color: #f4f4f5;\n    --wui-message-border-color: #e9e9eb;\n    --wui-message-text-color: #909399;\n}\n.wui-message--error {\n    --wui-message-bg-color: #fef0f0;\n    --wui-message-border-color: #fde2e2;\n    --wui-message-text-color: #f56c6c;\n}\n\n@keyframes msg-open {\n    0% {\n        opacity: 0;\n        -webkit-transform: translateY(-120%);\n        transform: translateY(-120%)\n    }\n    to {\n        -webkit-transform: translateY(0);\n        transform: translateY(0)\n    }\n}\n\n@keyframes msg-close {\n    0% {\n        opacity: 1;\n        -webkit-transform: scale(1);\n        transform: scale(1)\n    }\n    to {\n        opacity: 0;\n        -webkit-transform: scale(.9);\n        transform: scale(.9)\n    }\n}\n.wui-message[data-state=entered],.wui-message[data-state=entering] {\n    -webkit-animation: msg-open .24s cubic-bezier(.175,.885,.32,1.175) both;\n    animation: msg-open .24s cubic-bezier(.175,.885,.32,1.175) both\n}\n\n.wui-message[data-state=exiting] {\n    -webkit-animation: msg-close .12s cubic-bezier(.4,0,1,1) both;\n    animation: msg-close .12s cubic-bezier(.4,0,1,1) both\n}\n\n.wui-message {\n    width: -webkit-fit-content;\n    width: -moz-fit-content;\n    width: fit-content;\n    z-index: 2004;\n    max-width: calc(100% - 32px);\n    margin-top: 8px;\n    box-sizing: border-box;\n    /*border-radius: var(--wui-border-radius-base);*/\n    /*border-width: var(--wui-border-width);*/\n    /*border-style: var(--wui-border-style);*/\n    border-color: var(--wui-message-border-color);\n    /*left: 50%;*/\n    /*top: 20px;*/\n    /*transform: translateX(-50%);*/\n    background-color: var(--wui-message-bg-color);\n    /*transition: opacity var(--wui-transition-duration),transform .4s,top .4s;*/\n    /*padding: var(--wui-message-padding);*/\n    display: flex;\n    align-items: center;\n}\n\n/*.wui-message--success */\n.wui-message__content {\n    color: var(--wui-message-text-color);\n    font-size: 14px;\n    line-height: 18px;\n    margin: 10px 14px 10px 14px;\n    overflow-wrap: break-word;\n}\n\n.wui-message__closeBtn {\n    /*cursor: pointer;*/\n    font-style: normal;\n    /*color: gray;*/\n    padding-right: 14px;\n    /*font-size: 13px;*/\n    user-select: none;\n\n    background: transparent;\n    border: none;\n    color: gray;\n    cursor: pointer;\n    font-size: 13px;\n    font-weight: 400;\n    line-height: 1;\n    outline: none;\n    /*padding: 4px;*/\n    text-align: center;\n    transition: opacity .3s;\n    /*width: 100%;*/\n}",
       "_esm": "function closeMsg(msgDom) {\n  if (!msgDom) {\n    return;\n  }\n  msgDom.setAttribute('data-state', 'exiting');\n  msgDom.remove();\n}\n\nfunction createMsg(options) {\n  const {message, msg_id, type = 'info', show_close = false} = options;\n  const msgDom = document.createElement('div');\n  msgDom.className += ` wui-message--${type} wui-message`;\n  msgDom.setAttribute('data-state', 'entered');\n  msgDom.setAttribute('id', msg_id);\n  const msgContent = document.createElement('p');\n  msgContent.className += ` wui-message--${type} wui-message__content`;\n  msgContent.innerText = message;\n  msgDom.appendChild(msgContent);\n  if (show_close) {\n    const closeBtn = document.createElement('i');\n    closeBtn.className += 'wui-message__closeBtn';\n    closeBtn.innerText = 'x';\n    closeBtn.addEventListener('click', (ev) => {\n      closeMsg(msgDom);\n    })\n    msgDom.appendChild(closeBtn);\n  }\n  return msgDom;\n}\n\nexport async function render(view) {\n  let model = view.model;\n  const msgRoot = view.el;\n  msgRoot.className += ' wui-message-root'\n\n  const msgContainer = document.createElement('div');\n  msgContainer.className += ' wui-message-container';\n  msgRoot.appendChild(msgContainer)\n\n  model.on(\"change:message_options\", () => {\n    const options = model.get(\"message_options\");\n    const msg = createMsg(options);\n    msgContainer.appendChild(msg);\n    const {duration = 3000} = options;\n    if (duration > 0) {\n      setTimeout(() => {\n        closeMsg(msg)\n      }, duration);\n    }\n  })\n\n  model.on(\"change:close_msg_id\", () => {\n    const msg_id = model.get(\"close_msg_id\");\n    const msgDom = document.getElementById(msg_id);\n    closeMsg(msgDom);\n  })\n}\n",
       "_model_module": "anywidget",
       "_model_module_version": "~0.9.*",
       "_model_name": "AnyModel",
       "_view_module": "anywidget",
       "_view_module_version": "~0.9.*",
       "_view_name": "AnyView",
       "close_msg_id": "",
       "layout": "IPY_MODEL_8fa48e1e5f854e158c90fc8215730e5f",
       "message_options": {
        "duration": 3000,
        "message": "",
        "show_close": false,
        "type": "info"
       }
      }
     },
     "c444c5abc219463e884e85873bbf1526": {
      "model_module": "jupyter-leaflet",
      "model_module_version": "^0.19",
      "model_name": "LeafletAttributionControlModel",
      "state": {
       "_model_module_version": "^0.19",
       "_view_module_version": "^0.19",
       "options": [
        "position",
        "prefix"
       ],
       "position": "bottomright",
       "prefix": "ipyleaflet"
      }
     },
     "cafb40b0208946c98666f01a012ee376": {
      "model_module": "@jupyter-widgets/output",
      "model_module_version": "1.0.0",
      "model_name": "OutputModel",
      "state": {
       "layout": "IPY_MODEL_f4fdd89274ed45e79a3f98bbc9219b12",
       "outputs": [
        {
         "name": "stdout",
         "output_type": "stream",
         "text": "2025-04-12 00:35:55,233 [INFO] api_create_app.py:render:126 - App render end.\n"
        },
        {
         "name": "stdout",
         "output_type": "stream",
         "text": "2025-04-12 00:35:55,225 [WARNING] common.py:has_changed:17 - Run has_changed failed, The truth value of a DataFrame is ambiguous. Use a.empty, a.bool(), a.item(), a.any() or a.all().\n"
        },
        {
         "name": "stdout",
         "output_type": "stream",
         "text": "2025-04-12 00:35:55,224 [WARNING] common.py:has_changed:17 - Run has_changed failed, The truth value of a DataFrame is ambiguous. Use a.empty, a.bool(), a.item(), a.any() or a.all().\n"
        },
        {
         "name": "stdout",
         "output_type": "stream",
         "text": "2025-04-12 00:35:55,211 [INFO] sfc_codegen.py:render:165 - 🔥 Rerender SFC<__tmp_for_str.vue> at 4349225344\n"
        },
        {
         "name": "stdout",
         "output_type": "stream",
         "text": "2025-04-12 00:35:55,211 [INFO] api_create_app.py:render:116 - App render start.\n"
        },
        {
         "name": "stdout",
         "output_type": "stream",
         "text": "2025-04-12 00:34:07,163 [INFO] api_create_app.py:render:126 - App render end.\n"
        },
        {
         "name": "stdout",
         "output_type": "stream",
         "text": "2025-04-12 00:34:07,156 [WARNING] common.py:has_changed:17 - Run has_changed failed, The truth value of a DataFrame is ambiguous. Use a.empty, a.bool(), a.item(), a.any() or a.all().\n"
        },
        {
         "name": "stdout",
         "output_type": "stream",
         "text": "2025-04-12 00:34:07,155 [WARNING] common.py:has_changed:17 - Run has_changed failed, The truth value of a DataFrame is ambiguous. Use a.empty, a.bool(), a.item(), a.any() or a.all().\n"
        },
        {
         "name": "stdout",
         "output_type": "stream",
         "text": "2025-04-12 00:34:07,141 [INFO] sfc_codegen.py:render:165 - 🔥 Rerender SFC<__tmp_for_str.vue> at 4668024544\n"
        },
        {
         "name": "stdout",
         "output_type": "stream",
         "text": "2025-04-12 00:34:07,141 [INFO] api_create_app.py:render:116 - App render start.\n"
        }
       ]
      }
     },
     "d539e3caf8514ee19f724d5b0b4cf414": {
      "model_module": "@jupyter-widgets/base",
      "model_module_version": "2.0.0",
      "model_name": "LayoutModel",
      "state": {}
     },
     "dddd0802de964f7ba7fc332dac9e237c": {
      "model_module": "jupyter-leaflet",
      "model_module_version": "^0.19",
      "model_name": "LeafletTileLayerModel",
      "state": {
       "_model_module_version": "^0.19",
       "_view_module_version": "^0.19",
       "attribution": "&copy; <a href=\"https://www.openstreetmap.org/copyright\">OpenStreetMap</a> contributors",
       "base": true,
       "max_zoom": 19,
       "min_zoom": 1,
       "name": "OpenStreetMap.Mapnik",
       "options": [
        "attribution",
        "bounds",
        "detect_retina",
        "max_native_zoom",
        "max_zoom",
        "min_native_zoom",
        "min_zoom",
        "no_wrap",
        "tile_size",
        "tms",
        "zoom_offset"
       ],
       "url": "https://tile.openstreetmap.org/{z}/{x}/{y}.png"
      }
     },
     "de915e947e8440b49604c22e51d9e4cf": {
      "model_module": "@jupyter-widgets/base",
      "model_module_version": "2.0.0",
      "model_name": "LayoutModel",
      "state": {}
     },
     "ecf53dfd2e404057a9522818f8a319a4": {
      "model_module": "@jupyter-widgets/controls",
      "model_module_version": "2.0.0",
      "model_name": "VBoxModel",
      "state": {
       "children": [
        "IPY_MODEL_0529aa2ce9914eaebac432c9d18646d9"
       ],
       "layout": "IPY_MODEL_77ed218cad164c81b675114ea3b7b757"
      }
     },
     "f4fdd89274ed45e79a3f98bbc9219b12": {
      "model_module": "@jupyter-widgets/base",
      "model_module_version": "2.0.0",
      "model_name": "LayoutModel",
      "state": {}
     },
     "ff7f31e691ab48ca959a79118eb366ce": {
      "model_module": "@jupyter-widgets/controls",
      "model_module_version": "2.0.0",
      "model_name": "VBoxModel",
      "state": {
       "children": [
        "IPY_MODEL_2b7a050085c84cebbe9ab58f8c9df71c"
       ],
       "layout": "IPY_MODEL_2dd2b332e6074a618420f148823b2487"
      }
     }
    },
    "version_major": 2,
    "version_minor": 0
   }
  }
 },
 "nbformat": 4,
 "nbformat_minor": 5
}
