{
 "cells": [
  {
   "cell_type": "markdown",
   "id": "a1e2fa29-7566-4426-be1e-a750658d83a5",
   "metadata": {},
   "source": [
    "# WKT Layer\n",
    "\n",
    "WKTLayer is an ipyleaflet class that allows you to visualize a WKT data on the Map."
   ]
  },
  {
   "cell_type": "markdown",
   "id": "7cdc5e8c-2aa8-41d1-9461-3e451f6ef6ea",
   "metadata": {},
   "source": [
    "## 基础用法\n"
   ]
  },
  {
   "cell_type": "code",
   "execution_count": 1,
   "id": "f5928b17-e8c8-47b0-9774-a8bb1f7e6af3",
   "metadata": {},
   "outputs": [],
   "source": [
    "import os\n",
    "import pathlib\n",
    "from vuepy.utils import magic\n",
    "from vleaflet import leaflet\n",
    "%load_ext vuepy"
   ]
  },
  {
   "cell_type": "code",
   "execution_count": 2,
   "id": "7982482f-985d-44b5-89d6-57b3bb2c3427",
   "metadata": {},
   "outputs": [
    {
     "name": "stdout",
     "output_type": "stream",
     "text": [
      "{\"vue\": \"<template>\\n  <vl-map :center=\\\"[42.3152960829043, -71.1031627617667]\\\" :zoom=17>\\n    <template #layers>\\n      <vl-wkt-layer :path=\\\"path\\\" :hover_style='hover_style' name='wkt file'\\n      ></vl-wkt-layer>\\n      <vl-wkt-layer :wkt_string=\\\"wkt_string\\\" \\n                    :hover_style='hover_style' name='wkt str'></vl-wkt-layer>\\n    </template>\\n    <template #controls>\\n      <vl-layers-control position='topleft' :collapsed='False'></vl-layers-control>\\n    </template>\\n  </vl-map>\\n</template>\\n<script lang='py'>\\nimport os\\nimport requests\\n\\nhover_style = {\\\"fillColor\\\": \\\"red\\\"}\\npath = \\\"test.wkt\\\"\\nif not os.path.exists(path):\\n    url = \\\"https://github.com/jupyter-widgets/ipyleaflet/raw/master/examples/data/test.wkt\\\"\\n    r = requests.get(url)\\n    with open(path, \\\"w\\\") as f:\\n        f.write(r.content.decode(\\\"utf-8\\\"))\\n\\nwkt_string=\\\"POLYGON((10.689697265625 -25.0927734375, 34.595947265625 -20.1708984375, 38.814697265625 -35.6396484375, 13.502197265625 -39.1552734375, 10.689697265625 -25.0927734375))\\\"\\n</script>\\n\", \"setup\": \"\"}\n"
     ]
    },
    {
     "data": {
      "application/vnd.jupyter.widget-view+json": {
       "model_id": "e6091f8fce1c4489b0fa708635b164cd",
       "version_major": 2,
       "version_minor": 0
      },
      "text/plain": [
       "Document(children=(Dom(children=(MessageWidget(message_options={'message': '', 'type': 'info', 'show_close': F…"
      ]
     },
     "execution_count": 2,
     "metadata": {},
     "output_type": "execute_result"
    }
   ],
   "source": [
    "%%vuepy_run --plugins leaflet --show-code\n",
    "<template>\n",
    "  <vl-map :center=\"[42.3152960829043, -71.1031627617667]\" :zoom=17>\n",
    "    <template #layers>\n",
    "      <vl-wkt-layer :path=\"path\" :hover_style='hover_style' name='wkt file'\n",
    "      ></vl-wkt-layer>\n",
    "      <vl-wkt-layer :wkt_string=\"wkt_string\" \n",
    "                    :hover_style='hover_style' name='wkt str'></vl-wkt-layer>\n",
    "    </template>\n",
    "    <template #controls>\n",
    "      <vl-layers-control position='topleft' :collapsed='False'></vl-layers-control>\n",
    "    </template>\n",
    "  </vl-map>\n",
    "</template>\n",
    "<script lang='py'>\n",
    "import os\n",
    "import requests\n",
    "\n",
    "hover_style = {\"fillColor\": \"red\"}\n",
    "path = \"test.wkt\"\n",
    "if not os.path.exists(path):\n",
    "    url = \"https://github.com/jupyter-widgets/ipyleaflet/raw/master/examples/data/test.wkt\"\n",
    "    r = requests.get(url)\n",
    "    with open(path, \"w\") as f:\n",
    "        f.write(r.content.decode(\"utf-8\"))\n",
    "\n",
    "wkt_string=\"POLYGON((10.689697265625 -25.0927734375, 34.595947265625 -20.1708984375, 38.814697265625 -35.6396484375, 13.502197265625 -39.1552734375, 10.689697265625 -25.0927734375))\"\n",
    "</script>"
   ]
  },
  {
   "cell_type": "markdown",
   "id": "392aa25a-4073-4d2b-93f9-d89666b38369",
   "metadata": {},
   "source": [
    "## 禁用状态\n",
    "\n",
    "你可以使用 `disabled` 属性来定义是否被禁用。  \n",
    "使用 `disabled` 属性来控制是否为禁用状态。该属性接受一个 `bool` 类型的值。"
   ]
  },
  {
   "cell_type": "code",
   "execution_count": 3,
   "id": "4555cd32-d66d-411b-8b39-01153e8fb53d",
   "metadata": {},
   "outputs": [
    {
     "ename": "FileNotFoundError",
     "evalue": "[Errno 2] No such file or directory: 'disabled.vue'",
     "output_type": "error",
     "traceback": [
      "\u001b[0;31m---------------------------------------------------------------------------\u001b[0m",
      "\u001b[0;31mFileNotFoundError\u001b[0m                         Traceback (most recent call last)",
      "Cell \u001b[0;32mIn[3], line 1\u001b[0m\n\u001b[0;32m----> 1\u001b[0m \u001b[43mget_ipython\u001b[49m\u001b[43m(\u001b[49m\u001b[43m)\u001b[49m\u001b[38;5;241;43m.\u001b[39;49m\u001b[43mrun_line_magic\u001b[49m\u001b[43m(\u001b[49m\u001b[38;5;124;43m'\u001b[39;49m\u001b[38;5;124;43mvuepy_demo\u001b[39;49m\u001b[38;5;124;43m'\u001b[39;49m\u001b[43m,\u001b[49m\u001b[43m \u001b[49m\u001b[38;5;124;43m'\u001b[39;49m\u001b[38;5;124;43mdisabled.vue\u001b[39;49m\u001b[38;5;124;43m'\u001b[39;49m\u001b[43m)\u001b[49m\n",
      "File \u001b[0;32m~/miniforge3/envs/textgen/lib/python3.10/site-packages/IPython/core/interactiveshell.py:2482\u001b[0m, in \u001b[0;36mInteractiveShell.run_line_magic\u001b[0;34m(self, magic_name, line, _stack_depth)\u001b[0m\n\u001b[1;32m   2480\u001b[0m     kwargs[\u001b[38;5;124m'\u001b[39m\u001b[38;5;124mlocal_ns\u001b[39m\u001b[38;5;124m'\u001b[39m] \u001b[38;5;241m=\u001b[39m \u001b[38;5;28mself\u001b[39m\u001b[38;5;241m.\u001b[39mget_local_scope(stack_depth)\n\u001b[1;32m   2481\u001b[0m \u001b[38;5;28;01mwith\u001b[39;00m \u001b[38;5;28mself\u001b[39m\u001b[38;5;241m.\u001b[39mbuiltin_trap:\n\u001b[0;32m-> 2482\u001b[0m     result \u001b[38;5;241m=\u001b[39m \u001b[43mfn\u001b[49m\u001b[43m(\u001b[49m\u001b[38;5;241;43m*\u001b[39;49m\u001b[43margs\u001b[49m\u001b[43m,\u001b[49m\u001b[43m \u001b[49m\u001b[38;5;241;43m*\u001b[39;49m\u001b[38;5;241;43m*\u001b[39;49m\u001b[43mkwargs\u001b[49m\u001b[43m)\u001b[49m\n\u001b[1;32m   2484\u001b[0m \u001b[38;5;66;03m# The code below prevents the output from being displayed\u001b[39;00m\n\u001b[1;32m   2485\u001b[0m \u001b[38;5;66;03m# when using magics with decorator @output_can_be_silenced\u001b[39;00m\n\u001b[1;32m   2486\u001b[0m \u001b[38;5;66;03m# when the last Python token in the expression is a ';'.\u001b[39;00m\n\u001b[1;32m   2487\u001b[0m \u001b[38;5;28;01mif\u001b[39;00m \u001b[38;5;28mgetattr\u001b[39m(fn, magic\u001b[38;5;241m.\u001b[39mMAGIC_OUTPUT_CAN_BE_SILENCED, \u001b[38;5;28;01mFalse\u001b[39;00m):\n",
      "File \u001b[0;32m~/proj/bb/url2io.com/open_sesame/nb_llm/pyvue/src/vuepy/utils/magic.py:95\u001b[0m, in \u001b[0;36mvuepy_demo\u001b[0;34m(vue_sfc)\u001b[0m\n\u001b[1;32m     92\u001b[0m     return_app \u001b[38;5;241m=\u001b[39m \u001b[38;5;124m'\u001b[39m\u001b[38;5;124mno\u001b[39m\u001b[38;5;124m'\u001b[39m\n\u001b[1;32m     94\u001b[0m sfc_file_path \u001b[38;5;241m=\u001b[39m Path(vue_sfc\u001b[38;5;241m.\u001b[39mstrip())\n\u001b[0;32m---> 95\u001b[0m sfc_metadata \u001b[38;5;241m=\u001b[39m \u001b[43mSFCMetadata\u001b[49m\u001b[38;5;241;43m.\u001b[39;49m\u001b[43mload\u001b[49m\u001b[43m(\u001b[49m\u001b[43msfc_file_path\u001b[49m\u001b[43m)\u001b[49m\n\u001b[1;32m     97\u001b[0m script_content \u001b[38;5;241m=\u001b[39m \u001b[38;5;241m0\u001b[39m\n\u001b[1;32m     98\u001b[0m \u001b[38;5;28;01mif\u001b[39;00m sfc_metadata\u001b[38;5;241m.\u001b[39mscript_src:\n",
      "File \u001b[0;32m~/proj/bb/url2io.com/open_sesame/nb_llm/pyvue/src/vuepy/compiler_sfc/sfc_parser.py:117\u001b[0m, in \u001b[0;36mSFCMetadata.load\u001b[0;34m(cls, sfc_file)\u001b[0m\n\u001b[1;32m    114\u001b[0m \u001b[38;5;129m@classmethod\u001b[39m\n\u001b[1;32m    115\u001b[0m \u001b[38;5;28;01mdef\u001b[39;00m\u001b[38;5;250m \u001b[39m\u001b[38;5;21mload\u001b[39m(\u001b[38;5;28mcls\u001b[39m, sfc_file):\n\u001b[1;32m    116\u001b[0m     sfc_file \u001b[38;5;241m=\u001b[39m pathlib\u001b[38;5;241m.\u001b[39mPath(sfc_file)\n\u001b[0;32m--> 117\u001b[0m     \u001b[38;5;28;01mwith\u001b[39;00m \u001b[38;5;28;43mopen\u001b[39;49m\u001b[43m(\u001b[49m\u001b[43msfc_file\u001b[49m\u001b[43m)\u001b[49m \u001b[38;5;28;01mas\u001b[39;00m f:\n\u001b[1;32m    118\u001b[0m         raw_content \u001b[38;5;241m=\u001b[39m f\u001b[38;5;241m.\u001b[39mread()\n\u001b[1;32m    120\u001b[0m     \u001b[38;5;28;01mreturn\u001b[39;00m \u001b[38;5;28mcls\u001b[39m\u001b[38;5;241m.\u001b[39mloads(raw_content, sfc_file)\n",
      "\u001b[0;31mFileNotFoundError\u001b[0m: [Errno 2] No such file or directory: 'disabled.vue'"
     ]
    }
   ],
   "source": [
    "%vuepy_demo disabled.vue"
   ]
  },
  {
   "cell_type": "markdown",
   "id": "8685d144-029f-4afa-8547-4f3d84529504",
   "metadata": {},
   "source": [
    "## API\n",
    "\n",
    "### 属性\n",
    "\n",
    "| 属性名    | 说明                 | 类型                                                           | 默认值 |\n",
    "| -------- | ------------------- | ---------------------------------------------------------------| ------- |\n",
    "| v-model/value | 绑定值             | ^[str]                                                      | —       |\n",
    "| desc     | 按钮文字             | ^[str]                                                         | —       |\n",
    "| icon     | 按钮图标             | ^[str]                                                         | —       |\n",
    "| type     | 类型                | ^[enum]`''\\| 'success'\\| 'warning'\\| 'danger'\\| 'info'`        | —       |\n",
    "| tooltip  | 提示信息             | ^[str]                                                         | —       |\n",
    "| disabled | 按钮是否为禁用状态     | ^[boolean]                                                     | false   |\n",
    "| style    | 自定义css样式             | ^[str]                                                         | -       |\n",
    "\n",
    "### Events\n",
    "\n",
    "| 事件名 | 说明                  | 类型                                   |\n",
    "| ---   | ---                  | ---                                    |\n",
    "| click | 当按钮被点击时触发的事件 |  ^[Callable]`(button: Widget) -> None` |\n",
    "\n",
    "\n",
    "### Slots\n",
    "\n",
    "| 插槽名   | 说明               |\n",
    "| ---     | ---               |\n",
    "| default | 自定义默认内容      |\n",
    "\n",
    "\n",
    "### 方法\n",
    "\n",
    "| 属性名 | 说明 | 类型 |\n",
    "| --- | --- | --- |"
   ]
  },
  {
   "cell_type": "code",
   "execution_count": null,
   "id": "db17c770-7085-4365-b5f0-bd4f66ebc948",
   "metadata": {},
   "outputs": [],
   "source": []
  }
 ],
 "metadata": {
  "kernelspec": {
   "display_name": "Python 3 (ipykernel)",
   "language": "python",
   "name": "python3"
  },
  "language_info": {
   "codemirror_mode": {
    "name": "ipython",
    "version": 3
   },
   "file_extension": ".py",
   "mimetype": "text/x-python",
   "name": "python",
   "nbconvert_exporter": "python",
   "pygments_lexer": "ipython3",
   "version": "3.10.12"
  },
  "widgets": {
   "application/vnd.jupyter.widget-state+json": {
    "state": {
     "028a5f2a2fb64152b65ed5be079456f6": {
      "model_module": "anywidget",
      "model_module_version": "~0.9.*",
      "model_name": "AnyModel",
      "state": {
       "_anywidget_id": "ipywui.widgets.custom.message.MessageWidget",
       "_css": ".wui-message-root {\n    display: flex;\n    position: absolute;\n    left: 0;\n    right: 0;\n    top: 0;\n}\n\n.wui-message-container {\n    align-items: center;\n    display: flex;\n    flex-direction: column-reverse;\n    justify-content: center;\n    min-height: 100%;\n    outline: none;\n    width: 100%;\n\n    -webkit-tap-highlight-color: rgba(0,0,0,0);\n    bottom: 0;\n    left: 0;\n    right: 0;\n    top: 0;\n}\n\n.wui-message--success {\n    --wui-message-bg-color: #f0f9eb;\n    --wui-message-border-color: #e1f3d8;\n    --wui-message-text-color: #67c23a;\n}\n.wui-message--warning {\n    --wui-message-bg-color: #fdf6ec;\n    --wui-message-border-color: #faecd8;\n    --wui-message-text-color: #e6a23c;\n}\n.wui-message--info {\n    --wui-message-bg-color: #f4f4f5;\n    --wui-message-border-color: #e9e9eb;\n    --wui-message-text-color: #909399;\n}\n.wui-message--error {\n    --wui-message-bg-color: #fef0f0;\n    --wui-message-border-color: #fde2e2;\n    --wui-message-text-color: #f56c6c;\n}\n\n@keyframes msg-open {\n    0% {\n        opacity: 0;\n        -webkit-transform: translateY(-120%);\n        transform: translateY(-120%)\n    }\n    to {\n        -webkit-transform: translateY(0);\n        transform: translateY(0)\n    }\n}\n\n@keyframes msg-close {\n    0% {\n        opacity: 1;\n        -webkit-transform: scale(1);\n        transform: scale(1)\n    }\n    to {\n        opacity: 0;\n        -webkit-transform: scale(.9);\n        transform: scale(.9)\n    }\n}\n.wui-message[data-state=entered],.wui-message[data-state=entering] {\n    -webkit-animation: msg-open .24s cubic-bezier(.175,.885,.32,1.175) both;\n    animation: msg-open .24s cubic-bezier(.175,.885,.32,1.175) both\n}\n\n.wui-message[data-state=exiting] {\n    -webkit-animation: msg-close .12s cubic-bezier(.4,0,1,1) both;\n    animation: msg-close .12s cubic-bezier(.4,0,1,1) both\n}\n\n.wui-message {\n    width: -webkit-fit-content;\n    width: -moz-fit-content;\n    width: fit-content;\n    z-index: 2004;\n    max-width: calc(100% - 32px);\n    margin-top: 8px;\n    box-sizing: border-box;\n    /*border-radius: var(--wui-border-radius-base);*/\n    /*border-width: var(--wui-border-width);*/\n    /*border-style: var(--wui-border-style);*/\n    border-color: var(--wui-message-border-color);\n    /*left: 50%;*/\n    /*top: 20px;*/\n    /*transform: translateX(-50%);*/\n    background-color: var(--wui-message-bg-color);\n    /*transition: opacity var(--wui-transition-duration),transform .4s,top .4s;*/\n    /*padding: var(--wui-message-padding);*/\n    display: flex;\n    align-items: center;\n}\n\n/*.wui-message--success */\n.wui-message__content {\n    color: var(--wui-message-text-color);\n    font-size: 14px;\n    line-height: 18px;\n    margin: 10px 14px 10px 14px;\n    overflow-wrap: break-word;\n}\n\n.wui-message__closeBtn {\n    /*cursor: pointer;*/\n    font-style: normal;\n    /*color: gray;*/\n    padding-right: 14px;\n    /*font-size: 13px;*/\n    user-select: none;\n\n    background: transparent;\n    border: none;\n    color: gray;\n    cursor: pointer;\n    font-size: 13px;\n    font-weight: 400;\n    line-height: 1;\n    outline: none;\n    /*padding: 4px;*/\n    text-align: center;\n    transition: opacity .3s;\n    /*width: 100%;*/\n}",
       "_esm": "function closeMsg(msgDom) {\n  if (!msgDom) {\n    return;\n  }\n  msgDom.setAttribute('data-state', 'exiting');\n  msgDom.remove();\n}\n\nfunction createMsg(options) {\n  const {message, msg_id, type = 'info', show_close = false} = options;\n  const msgDom = document.createElement('div');\n  msgDom.className += ` wui-message--${type} wui-message`;\n  msgDom.setAttribute('data-state', 'entered');\n  msgDom.setAttribute('id', msg_id);\n  const msgContent = document.createElement('p');\n  msgContent.className += ` wui-message--${type} wui-message__content`;\n  msgContent.innerText = message;\n  msgDom.appendChild(msgContent);\n  if (show_close) {\n    const closeBtn = document.createElement('i');\n    closeBtn.className += 'wui-message__closeBtn';\n    closeBtn.innerText = 'x';\n    closeBtn.addEventListener('click', (ev) => {\n      closeMsg(msgDom);\n    })\n    msgDom.appendChild(closeBtn);\n  }\n  return msgDom;\n}\n\nexport async function render(view) {\n  let model = view.model;\n  const msgRoot = view.el;\n  msgRoot.className += ' wui-message-root'\n\n  const msgContainer = document.createElement('div');\n  msgContainer.className += ' wui-message-container';\n  msgRoot.appendChild(msgContainer)\n\n  model.on(\"change:message_options\", () => {\n    const options = model.get(\"message_options\");\n    const msg = createMsg(options);\n    msgContainer.appendChild(msg);\n    const {duration = 3000} = options;\n    if (duration > 0) {\n      setTimeout(() => {\n        closeMsg(msg)\n      }, duration);\n    }\n  })\n\n  model.on(\"change:close_msg_id\", () => {\n    const msg_id = model.get(\"close_msg_id\");\n    const msgDom = document.getElementById(msg_id);\n    closeMsg(msgDom);\n  })\n}\n",
       "_model_module": "anywidget",
       "_model_module_version": "~0.9.*",
       "_model_name": "AnyModel",
       "_view_module": "anywidget",
       "_view_module_version": "~0.9.*",
       "_view_name": "AnyView",
       "close_msg_id": "",
       "layout": "IPY_MODEL_d218d43e81e8461f90c8180c7af5916f",
       "message_options": {
        "duration": 3000,
        "message": "",
        "show_close": false,
        "type": "info"
       }
      }
     },
     "069a0b16ebab471ca830df7c08cbbf6f": {
      "model_module": "@jupyter-widgets/controls",
      "model_module_version": "2.0.0",
      "model_name": "VBoxModel",
      "state": {
       "children": [
        "IPY_MODEL_e92e90938c4c479f89457335e96e6e99"
       ],
       "layout": "IPY_MODEL_9829e26bdf034ecebb9b5eba861eea99"
      }
     },
     "09a22d15094a42e28c97959b98f3e7d8": {
      "model_module": "jupyter-leaflet",
      "model_module_version": "^0.19",
      "model_name": "LeafletTileLayerModel",
      "state": {
       "_model_module_version": "^0.19",
       "_view_module_version": "^0.19",
       "attribution": "&copy; <a href=\"https://www.openstreetmap.org/copyright\">OpenStreetMap</a> contributors",
       "base": true,
       "max_zoom": 19,
       "min_zoom": 1,
       "name": "OpenStreetMap.Mapnik",
       "options": [
        "attribution",
        "bounds",
        "detect_retina",
        "max_native_zoom",
        "max_zoom",
        "min_native_zoom",
        "min_zoom",
        "no_wrap",
        "tile_size",
        "tms",
        "zoom_offset"
       ],
       "url": "https://tile.openstreetmap.org/{z}/{x}/{y}.png"
      }
     },
     "11c8841ddde9460c9fa7b8a70550eb22": {
      "model_module": "jupyter-leaflet",
      "model_module_version": "^0.19",
      "model_name": "LeafletMapModel",
      "state": {
       "_model_module_version": "^0.19",
       "_view_module_version": "^0.19",
       "bottom": 12416647,
       "center": [
        42.31439325010473,
        -71.10137436536279
       ],
       "controls": [
        "IPY_MODEL_639b14ecb6214359847294ac9f02bfd5",
        "IPY_MODEL_afc2e20e64c94379accba64e35cbd196",
        "IPY_MODEL_7edf95bcd82840e684f421de77120671"
       ],
       "default_style": "IPY_MODEL_2b70305d1a97467a84a3640fa411c63b",
       "dragging_style": "IPY_MODEL_8758f57200ff436f8892a60a157cafb1",
       "east": -71.09602604058709,
       "fullscreen": false,
       "interpolation": "bilinear",
       "layers": [
        "IPY_MODEL_09a22d15094a42e28c97959b98f3e7d8",
        "IPY_MODEL_68ff35458892464b89230fd904bdbfe1"
       ],
       "layout": "IPY_MODEL_14c5864cfb7549e2b2d31612dac7287b",
       "left": 10149589.079863587,
       "modisdate": "2025-04-06",
       "north": 42.31597994342635,
       "options": [
        "bounce_at_zoom_limits",
        "box_zoom",
        "center",
        "close_popup_on_click",
        "double_click_zoom",
        "dragging",
        "fullscreen",
        "inertia",
        "inertia_deceleration",
        "inertia_max_speed",
        "interpolation",
        "keyboard",
        "keyboard_pan_offset",
        "keyboard_zoom_offset",
        "max_zoom",
        "min_zoom",
        "prefer_canvas",
        "scroll_wheel_zoom",
        "tap",
        "tap_tolerance",
        "touch_zoom",
        "world_copy_jump",
        "zoom",
        "zoom_animation_threshold",
        "zoom_delta",
        "zoom_snap"
       ],
       "prefer_canvas": false,
       "right": 10150586.079863587,
       "south": 42.31280651677929,
       "style": "IPY_MODEL_2b70305d1a97467a84a3640fa411c63b",
       "top": 12416247,
       "west": -71.10672269013848,
       "window_url": "http://localhost:2071/lab/tree/nb_llm/pyvue/examples/vleaflet/layers/WKTLayer.ipynb",
       "zoom": 17
      }
     },
     "11d5e74291394c97bcb162b09beb462c": {
      "model_module": "@jupyter-widgets/controls",
      "model_module_version": "2.0.0",
      "model_name": "VBoxModel",
      "state": {
       "children": [
        "IPY_MODEL_177b553b5f3c4e96954a7152afd82e28"
       ],
       "layout": "IPY_MODEL_79d9a3faffd2406e84cc0d8a81d26e93"
      }
     },
     "14c5864cfb7549e2b2d31612dac7287b": {
      "model_module": "@jupyter-widgets/base",
      "model_module_version": "2.0.0",
      "model_name": "LayoutModel",
      "state": {}
     },
     "150a2a5f6b12481d9ed635489b5b5997": {
      "model_module": "@jupyter-widgets/base",
      "model_module_version": "2.0.0",
      "model_name": "LayoutModel",
      "state": {}
     },
     "152bfae25a2a443688113f2a8e43ce51": {
      "model_module": "jupyter-leaflet",
      "model_module_version": "^0.19",
      "model_name": "LeafletMapStyleModel",
      "state": {
       "_model_module_version": "^0.19"
      }
     },
     "177b553b5f3c4e96954a7152afd82e28": {
      "model_module": "anywidget",
      "model_module_version": "~0.9.*",
      "model_name": "AnyModel",
      "state": {
       "_anywidget_id": "ipywui.widgets.custom.message.MessageWidget",
       "_css": ".wui-message-root {\n    display: flex;\n    position: absolute;\n    left: 0;\n    right: 0;\n    top: 0;\n}\n\n.wui-message-container {\n    align-items: center;\n    display: flex;\n    flex-direction: column-reverse;\n    justify-content: center;\n    min-height: 100%;\n    outline: none;\n    width: 100%;\n\n    -webkit-tap-highlight-color: rgba(0,0,0,0);\n    bottom: 0;\n    left: 0;\n    right: 0;\n    top: 0;\n}\n\n.wui-message--success {\n    --wui-message-bg-color: #f0f9eb;\n    --wui-message-border-color: #e1f3d8;\n    --wui-message-text-color: #67c23a;\n}\n.wui-message--warning {\n    --wui-message-bg-color: #fdf6ec;\n    --wui-message-border-color: #faecd8;\n    --wui-message-text-color: #e6a23c;\n}\n.wui-message--info {\n    --wui-message-bg-color: #f4f4f5;\n    --wui-message-border-color: #e9e9eb;\n    --wui-message-text-color: #909399;\n}\n.wui-message--error {\n    --wui-message-bg-color: #fef0f0;\n    --wui-message-border-color: #fde2e2;\n    --wui-message-text-color: #f56c6c;\n}\n\n@keyframes msg-open {\n    0% {\n        opacity: 0;\n        -webkit-transform: translateY(-120%);\n        transform: translateY(-120%)\n    }\n    to {\n        -webkit-transform: translateY(0);\n        transform: translateY(0)\n    }\n}\n\n@keyframes msg-close {\n    0% {\n        opacity: 1;\n        -webkit-transform: scale(1);\n        transform: scale(1)\n    }\n    to {\n        opacity: 0;\n        -webkit-transform: scale(.9);\n        transform: scale(.9)\n    }\n}\n.wui-message[data-state=entered],.wui-message[data-state=entering] {\n    -webkit-animation: msg-open .24s cubic-bezier(.175,.885,.32,1.175) both;\n    animation: msg-open .24s cubic-bezier(.175,.885,.32,1.175) both\n}\n\n.wui-message[data-state=exiting] {\n    -webkit-animation: msg-close .12s cubic-bezier(.4,0,1,1) both;\n    animation: msg-close .12s cubic-bezier(.4,0,1,1) both\n}\n\n.wui-message {\n    width: -webkit-fit-content;\n    width: -moz-fit-content;\n    width: fit-content;\n    z-index: 2004;\n    max-width: calc(100% - 32px);\n    margin-top: 8px;\n    box-sizing: border-box;\n    /*border-radius: var(--wui-border-radius-base);*/\n    /*border-width: var(--wui-border-width);*/\n    /*border-style: var(--wui-border-style);*/\n    border-color: var(--wui-message-border-color);\n    /*left: 50%;*/\n    /*top: 20px;*/\n    /*transform: translateX(-50%);*/\n    background-color: var(--wui-message-bg-color);\n    /*transition: opacity var(--wui-transition-duration),transform .4s,top .4s;*/\n    /*padding: var(--wui-message-padding);*/\n    display: flex;\n    align-items: center;\n}\n\n/*.wui-message--success */\n.wui-message__content {\n    color: var(--wui-message-text-color);\n    font-size: 14px;\n    line-height: 18px;\n    margin: 10px 14px 10px 14px;\n    overflow-wrap: break-word;\n}\n\n.wui-message__closeBtn {\n    /*cursor: pointer;*/\n    font-style: normal;\n    /*color: gray;*/\n    padding-right: 14px;\n    /*font-size: 13px;*/\n    user-select: none;\n\n    background: transparent;\n    border: none;\n    color: gray;\n    cursor: pointer;\n    font-size: 13px;\n    font-weight: 400;\n    line-height: 1;\n    outline: none;\n    /*padding: 4px;*/\n    text-align: center;\n    transition: opacity .3s;\n    /*width: 100%;*/\n}",
       "_esm": "function closeMsg(msgDom) {\n  if (!msgDom) {\n    return;\n  }\n  msgDom.setAttribute('data-state', 'exiting');\n  msgDom.remove();\n}\n\nfunction createMsg(options) {\n  const {message, msg_id, type = 'info', show_close = false} = options;\n  const msgDom = document.createElement('div');\n  msgDom.className += ` wui-message--${type} wui-message`;\n  msgDom.setAttribute('data-state', 'entered');\n  msgDom.setAttribute('id', msg_id);\n  const msgContent = document.createElement('p');\n  msgContent.className += ` wui-message--${type} wui-message__content`;\n  msgContent.innerText = message;\n  msgDom.appendChild(msgContent);\n  if (show_close) {\n    const closeBtn = document.createElement('i');\n    closeBtn.className += 'wui-message__closeBtn';\n    closeBtn.innerText = 'x';\n    closeBtn.addEventListener('click', (ev) => {\n      closeMsg(msgDom);\n    })\n    msgDom.appendChild(closeBtn);\n  }\n  return msgDom;\n}\n\nexport async function render(view) {\n  let model = view.model;\n  const msgRoot = view.el;\n  msgRoot.className += ' wui-message-root'\n\n  const msgContainer = document.createElement('div');\n  msgContainer.className += ' wui-message-container';\n  msgRoot.appendChild(msgContainer)\n\n  model.on(\"change:message_options\", () => {\n    const options = model.get(\"message_options\");\n    const msg = createMsg(options);\n    msgContainer.appendChild(msg);\n    const {duration = 3000} = options;\n    if (duration > 0) {\n      setTimeout(() => {\n        closeMsg(msg)\n      }, duration);\n    }\n  })\n\n  model.on(\"change:close_msg_id\", () => {\n    const msg_id = model.get(\"close_msg_id\");\n    const msgDom = document.getElementById(msg_id);\n    closeMsg(msgDom);\n  })\n}\n",
       "_model_module": "anywidget",
       "_model_module_version": "~0.9.*",
       "_model_name": "AnyModel",
       "_view_module": "anywidget",
       "_view_module_version": "~0.9.*",
       "_view_name": "AnyView",
       "close_msg_id": "",
       "layout": "IPY_MODEL_fc35a338027341cbadb7495d9d136e88",
       "message_options": {
        "duration": 3000,
        "message": "",
        "show_close": false,
        "type": "info"
       }
      }
     },
     "18d6d59270294143a855547ee8b2a003": {
      "model_module": "@jupyter-widgets/base",
      "model_module_version": "2.0.0",
      "model_name": "LayoutModel",
      "state": {}
     },
     "195dbacef086406ab4dbd9e6c73c9b5c": {
      "model_module": "@jupyter-widgets/controls",
      "model_module_version": "2.0.0",
      "model_name": "VBoxModel",
      "state": {
       "children": [
        "IPY_MODEL_46ddaf7031dc496c8ed4a13eb051d0da"
       ],
       "layout": "IPY_MODEL_f82dec63056c403ba0485b621a6ac250"
      }
     },
     "19c6aa15e4e243e698ac5c021e9db830": {
      "model_module": "@jupyter-widgets/base",
      "model_module_version": "2.0.0",
      "model_name": "LayoutModel",
      "state": {}
     },
     "1a464d5e04f440d7a2f163e1335dabfe": {
      "model_module": "@jupyter-widgets/base",
      "model_module_version": "2.0.0",
      "model_name": "LayoutModel",
      "state": {}
     },
     "1e2bfd738f67453b8cdb61767c412395": {
      "model_module": "@jupyter-widgets/base",
      "model_module_version": "2.0.0",
      "model_name": "LayoutModel",
      "state": {}
     },
     "21d7449da61648208988540cf6ea5818": {
      "model_module": "@jupyter-widgets/controls",
      "model_module_version": "2.0.0",
      "model_name": "VBoxModel",
      "state": {
       "children": [
        "IPY_MODEL_68ff35458892464b89230fd904bdbfe1"
       ],
       "layout": "IPY_MODEL_82bcf0692ca7454e8ef6cfb9037e50f3"
      }
     },
     "252e2ad309d24880b99f681fd590a46e": {
      "model_module": "@jupyter-widgets/base",
      "model_module_version": "2.0.0",
      "model_name": "LayoutModel",
      "state": {}
     },
     "258c226dec42462180ab71c773980d51": {
      "model_module": "anywidget",
      "model_module_version": "~0.9.*",
      "model_name": "AnyModel",
      "state": {
       "_anywidget_id": "ipywui.widgets.custom.message.MessageWidget",
       "_css": ".wui-message-root {\n    display: flex;\n    position: absolute;\n    left: 0;\n    right: 0;\n    top: 0;\n}\n\n.wui-message-container {\n    align-items: center;\n    display: flex;\n    flex-direction: column-reverse;\n    justify-content: center;\n    min-height: 100%;\n    outline: none;\n    width: 100%;\n\n    -webkit-tap-highlight-color: rgba(0,0,0,0);\n    bottom: 0;\n    left: 0;\n    right: 0;\n    top: 0;\n}\n\n.wui-message--success {\n    --wui-message-bg-color: #f0f9eb;\n    --wui-message-border-color: #e1f3d8;\n    --wui-message-text-color: #67c23a;\n}\n.wui-message--warning {\n    --wui-message-bg-color: #fdf6ec;\n    --wui-message-border-color: #faecd8;\n    --wui-message-text-color: #e6a23c;\n}\n.wui-message--info {\n    --wui-message-bg-color: #f4f4f5;\n    --wui-message-border-color: #e9e9eb;\n    --wui-message-text-color: #909399;\n}\n.wui-message--error {\n    --wui-message-bg-color: #fef0f0;\n    --wui-message-border-color: #fde2e2;\n    --wui-message-text-color: #f56c6c;\n}\n\n@keyframes msg-open {\n    0% {\n        opacity: 0;\n        -webkit-transform: translateY(-120%);\n        transform: translateY(-120%)\n    }\n    to {\n        -webkit-transform: translateY(0);\n        transform: translateY(0)\n    }\n}\n\n@keyframes msg-close {\n    0% {\n        opacity: 1;\n        -webkit-transform: scale(1);\n        transform: scale(1)\n    }\n    to {\n        opacity: 0;\n        -webkit-transform: scale(.9);\n        transform: scale(.9)\n    }\n}\n.wui-message[data-state=entered],.wui-message[data-state=entering] {\n    -webkit-animation: msg-open .24s cubic-bezier(.175,.885,.32,1.175) both;\n    animation: msg-open .24s cubic-bezier(.175,.885,.32,1.175) both\n}\n\n.wui-message[data-state=exiting] {\n    -webkit-animation: msg-close .12s cubic-bezier(.4,0,1,1) both;\n    animation: msg-close .12s cubic-bezier(.4,0,1,1) both\n}\n\n.wui-message {\n    width: -webkit-fit-content;\n    width: -moz-fit-content;\n    width: fit-content;\n    z-index: 2004;\n    max-width: calc(100% - 32px);\n    margin-top: 8px;\n    box-sizing: border-box;\n    /*border-radius: var(--wui-border-radius-base);*/\n    /*border-width: var(--wui-border-width);*/\n    /*border-style: var(--wui-border-style);*/\n    border-color: var(--wui-message-border-color);\n    /*left: 50%;*/\n    /*top: 20px;*/\n    /*transform: translateX(-50%);*/\n    background-color: var(--wui-message-bg-color);\n    /*transition: opacity var(--wui-transition-duration),transform .4s,top .4s;*/\n    /*padding: var(--wui-message-padding);*/\n    display: flex;\n    align-items: center;\n}\n\n/*.wui-message--success */\n.wui-message__content {\n    color: var(--wui-message-text-color);\n    font-size: 14px;\n    line-height: 18px;\n    margin: 10px 14px 10px 14px;\n    overflow-wrap: break-word;\n}\n\n.wui-message__closeBtn {\n    /*cursor: pointer;*/\n    font-style: normal;\n    /*color: gray;*/\n    padding-right: 14px;\n    /*font-size: 13px;*/\n    user-select: none;\n\n    background: transparent;\n    border: none;\n    color: gray;\n    cursor: pointer;\n    font-size: 13px;\n    font-weight: 400;\n    line-height: 1;\n    outline: none;\n    /*padding: 4px;*/\n    text-align: center;\n    transition: opacity .3s;\n    /*width: 100%;*/\n}",
       "_esm": "function closeMsg(msgDom) {\n  if (!msgDom) {\n    return;\n  }\n  msgDom.setAttribute('data-state', 'exiting');\n  msgDom.remove();\n}\n\nfunction createMsg(options) {\n  const {message, msg_id, type = 'info', show_close = false} = options;\n  const msgDom = document.createElement('div');\n  msgDom.className += ` wui-message--${type} wui-message`;\n  msgDom.setAttribute('data-state', 'entered');\n  msgDom.setAttribute('id', msg_id);\n  const msgContent = document.createElement('p');\n  msgContent.className += ` wui-message--${type} wui-message__content`;\n  msgContent.innerText = message;\n  msgDom.appendChild(msgContent);\n  if (show_close) {\n    const closeBtn = document.createElement('i');\n    closeBtn.className += 'wui-message__closeBtn';\n    closeBtn.innerText = 'x';\n    closeBtn.addEventListener('click', (ev) => {\n      closeMsg(msgDom);\n    })\n    msgDom.appendChild(closeBtn);\n  }\n  return msgDom;\n}\n\nexport async function render(view) {\n  let model = view.model;\n  const msgRoot = view.el;\n  msgRoot.className += ' wui-message-root'\n\n  const msgContainer = document.createElement('div');\n  msgContainer.className += ' wui-message-container';\n  msgRoot.appendChild(msgContainer)\n\n  model.on(\"change:message_options\", () => {\n    const options = model.get(\"message_options\");\n    const msg = createMsg(options);\n    msgContainer.appendChild(msg);\n    const {duration = 3000} = options;\n    if (duration > 0) {\n      setTimeout(() => {\n        closeMsg(msg)\n      }, duration);\n    }\n  })\n\n  model.on(\"change:close_msg_id\", () => {\n    const msg_id = model.get(\"close_msg_id\");\n    const msgDom = document.getElementById(msg_id);\n    closeMsg(msgDom);\n  })\n}\n",
       "_model_module": "anywidget",
       "_model_module_version": "~0.9.*",
       "_model_name": "AnyModel",
       "_view_module": "anywidget",
       "_view_module_version": "~0.9.*",
       "_view_name": "AnyView",
       "close_msg_id": "",
       "layout": "IPY_MODEL_c0fc87fdbf874b748b369f1cf5affcdb",
       "message_options": {
        "duration": 3000,
        "message": "",
        "show_close": false,
        "type": "info"
       }
      }
     },
     "25f75d5e987d46f7924491905c49cf45": {
      "model_module": "@jupyter-widgets/base",
      "model_module_version": "2.0.0",
      "model_name": "LayoutModel",
      "state": {}
     },
     "26fdd9e327054082997904478a3e7b66": {
      "model_module": "@jupyter-widgets/base",
      "model_module_version": "2.0.0",
      "model_name": "LayoutModel",
      "state": {}
     },
     "27d1f456d88a46e7aea340584ce48a13": {
      "model_module": "jupyter-leaflet",
      "model_module_version": "^0.19",
      "model_name": "LeafletZoomControlModel",
      "state": {
       "_model_module_version": "^0.19",
       "_view_module_version": "^0.19",
       "options": [
        "position",
        "zoom_in_text",
        "zoom_in_title",
        "zoom_out_text",
        "zoom_out_title"
       ]
      }
     },
     "2834b79a417e41b6905b07c54bcd96d0": {
      "model_module": "@jupyter-widgets/controls",
      "model_module_version": "2.0.0",
      "model_name": "VBoxModel",
      "state": {
       "children": [
        "IPY_MODEL_63df4b88b91d404783e4c1b3e8e04ea9"
       ],
       "layout": "IPY_MODEL_4bfbcfa804ea4f9090d4bb24a4d56097"
      }
     },
     "2b70305d1a97467a84a3640fa411c63b": {
      "model_module": "jupyter-leaflet",
      "model_module_version": "^0.19",
      "model_name": "LeafletMapStyleModel",
      "state": {
       "_model_module_version": "^0.19"
      }
     },
     "318143ea40ff43b8aab631600bd2ec9c": {
      "model_module": "jupyter-leaflet",
      "model_module_version": "^0.19",
      "model_name": "LeafletTileLayerModel",
      "state": {
       "_model_module_version": "^0.19",
       "_view_module_version": "^0.19",
       "attribution": "&copy; <a href=\"https://www.openstreetmap.org/copyright\">OpenStreetMap</a> contributors",
       "base": true,
       "max_zoom": 19,
       "min_zoom": 1,
       "name": "OpenStreetMap.Mapnik",
       "options": [
        "attribution",
        "bounds",
        "detect_retina",
        "max_native_zoom",
        "max_zoom",
        "min_native_zoom",
        "min_zoom",
        "no_wrap",
        "tile_size",
        "tms",
        "zoom_offset"
       ],
       "url": "https://tile.openstreetmap.org/{z}/{x}/{y}.png"
      }
     },
     "32bbe498eeb543e9aa885a879a3d361f": {
      "model_module": "jupyter-leaflet",
      "model_module_version": "^0.19",
      "model_name": "LeafletMapStyleModel",
      "state": {
       "_model_module_version": "^0.19"
      }
     },
     "32ca21570dd04d92b4946af5ecefe704": {
      "model_module": "jupyter-leaflet",
      "model_module_version": "^0.19",
      "model_name": "LeafletMapStyleModel",
      "state": {
       "_model_module_version": "^0.19",
       "cursor": "move"
      }
     },
     "34cc201d59e34d6fbc206436b2c36c6a": {
      "model_module": "@jupyter-widgets/base",
      "model_module_version": "2.0.0",
      "model_name": "LayoutModel",
      "state": {}
     },
     "3c3d94f121d546519ad39e9a4096f539": {
      "model_module": "jupyter-leaflet",
      "model_module_version": "^0.19",
      "model_name": "LeafletTileLayerModel",
      "state": {
       "_model_module_version": "^0.19",
       "_view_module_version": "^0.19",
       "attribution": "&copy; <a href=\"https://www.openstreetmap.org/copyright\">OpenStreetMap</a> contributors",
       "base": true,
       "max_zoom": 19,
       "min_zoom": 1,
       "name": "OpenStreetMap.Mapnik",
       "options": [
        "attribution",
        "bounds",
        "detect_retina",
        "max_native_zoom",
        "max_zoom",
        "min_native_zoom",
        "min_zoom",
        "no_wrap",
        "tile_size",
        "tms",
        "zoom_offset"
       ],
       "url": "https://tile.openstreetmap.org/{z}/{x}/{y}.png"
      }
     },
     "3f39642b17a04bbd93cf0cf7a229d906": {
      "model_module": "@jupyter-widgets/base",
      "model_module_version": "2.0.0",
      "model_name": "LayoutModel",
      "state": {}
     },
     "3faefd3062f047769f13be6ba0f8feec": {
      "model_module": "anywidget",
      "model_module_version": "~0.9.*",
      "model_name": "AnyModel",
      "state": {
       "_anywidget_id": "ipywui.widgets.custom.message.MessageWidget",
       "_css": ".wui-message-root {\n    display: flex;\n    position: absolute;\n    left: 0;\n    right: 0;\n    top: 0;\n}\n\n.wui-message-container {\n    align-items: center;\n    display: flex;\n    flex-direction: column-reverse;\n    justify-content: center;\n    min-height: 100%;\n    outline: none;\n    width: 100%;\n\n    -webkit-tap-highlight-color: rgba(0,0,0,0);\n    bottom: 0;\n    left: 0;\n    right: 0;\n    top: 0;\n}\n\n.wui-message--success {\n    --wui-message-bg-color: #f0f9eb;\n    --wui-message-border-color: #e1f3d8;\n    --wui-message-text-color: #67c23a;\n}\n.wui-message--warning {\n    --wui-message-bg-color: #fdf6ec;\n    --wui-message-border-color: #faecd8;\n    --wui-message-text-color: #e6a23c;\n}\n.wui-message--info {\n    --wui-message-bg-color: #f4f4f5;\n    --wui-message-border-color: #e9e9eb;\n    --wui-message-text-color: #909399;\n}\n.wui-message--error {\n    --wui-message-bg-color: #fef0f0;\n    --wui-message-border-color: #fde2e2;\n    --wui-message-text-color: #f56c6c;\n}\n\n@keyframes msg-open {\n    0% {\n        opacity: 0;\n        -webkit-transform: translateY(-120%);\n        transform: translateY(-120%)\n    }\n    to {\n        -webkit-transform: translateY(0);\n        transform: translateY(0)\n    }\n}\n\n@keyframes msg-close {\n    0% {\n        opacity: 1;\n        -webkit-transform: scale(1);\n        transform: scale(1)\n    }\n    to {\n        opacity: 0;\n        -webkit-transform: scale(.9);\n        transform: scale(.9)\n    }\n}\n.wui-message[data-state=entered],.wui-message[data-state=entering] {\n    -webkit-animation: msg-open .24s cubic-bezier(.175,.885,.32,1.175) both;\n    animation: msg-open .24s cubic-bezier(.175,.885,.32,1.175) both\n}\n\n.wui-message[data-state=exiting] {\n    -webkit-animation: msg-close .12s cubic-bezier(.4,0,1,1) both;\n    animation: msg-close .12s cubic-bezier(.4,0,1,1) both\n}\n\n.wui-message {\n    width: -webkit-fit-content;\n    width: -moz-fit-content;\n    width: fit-content;\n    z-index: 2004;\n    max-width: calc(100% - 32px);\n    margin-top: 8px;\n    box-sizing: border-box;\n    /*border-radius: var(--wui-border-radius-base);*/\n    /*border-width: var(--wui-border-width);*/\n    /*border-style: var(--wui-border-style);*/\n    border-color: var(--wui-message-border-color);\n    /*left: 50%;*/\n    /*top: 20px;*/\n    /*transform: translateX(-50%);*/\n    background-color: var(--wui-message-bg-color);\n    /*transition: opacity var(--wui-transition-duration),transform .4s,top .4s;*/\n    /*padding: var(--wui-message-padding);*/\n    display: flex;\n    align-items: center;\n}\n\n/*.wui-message--success */\n.wui-message__content {\n    color: var(--wui-message-text-color);\n    font-size: 14px;\n    line-height: 18px;\n    margin: 10px 14px 10px 14px;\n    overflow-wrap: break-word;\n}\n\n.wui-message__closeBtn {\n    /*cursor: pointer;*/\n    font-style: normal;\n    /*color: gray;*/\n    padding-right: 14px;\n    /*font-size: 13px;*/\n    user-select: none;\n\n    background: transparent;\n    border: none;\n    color: gray;\n    cursor: pointer;\n    font-size: 13px;\n    font-weight: 400;\n    line-height: 1;\n    outline: none;\n    /*padding: 4px;*/\n    text-align: center;\n    transition: opacity .3s;\n    /*width: 100%;*/\n}",
       "_esm": "function closeMsg(msgDom) {\n  if (!msgDom) {\n    return;\n  }\n  msgDom.setAttribute('data-state', 'exiting');\n  msgDom.remove();\n}\n\nfunction createMsg(options) {\n  const {message, msg_id, type = 'info', show_close = false} = options;\n  const msgDom = document.createElement('div');\n  msgDom.className += ` wui-message--${type} wui-message`;\n  msgDom.setAttribute('data-state', 'entered');\n  msgDom.setAttribute('id', msg_id);\n  const msgContent = document.createElement('p');\n  msgContent.className += ` wui-message--${type} wui-message__content`;\n  msgContent.innerText = message;\n  msgDom.appendChild(msgContent);\n  if (show_close) {\n    const closeBtn = document.createElement('i');\n    closeBtn.className += 'wui-message__closeBtn';\n    closeBtn.innerText = 'x';\n    closeBtn.addEventListener('click', (ev) => {\n      closeMsg(msgDom);\n    })\n    msgDom.appendChild(closeBtn);\n  }\n  return msgDom;\n}\n\nexport async function render(view) {\n  let model = view.model;\n  const msgRoot = view.el;\n  msgRoot.className += ' wui-message-root'\n\n  const msgContainer = document.createElement('div');\n  msgContainer.className += ' wui-message-container';\n  msgRoot.appendChild(msgContainer)\n\n  model.on(\"change:message_options\", () => {\n    const options = model.get(\"message_options\");\n    const msg = createMsg(options);\n    msgContainer.appendChild(msg);\n    const {duration = 3000} = options;\n    if (duration > 0) {\n      setTimeout(() => {\n        closeMsg(msg)\n      }, duration);\n    }\n  })\n\n  model.on(\"change:close_msg_id\", () => {\n    const msg_id = model.get(\"close_msg_id\");\n    const msgDom = document.getElementById(msg_id);\n    closeMsg(msgDom);\n  })\n}\n",
       "_model_module": "anywidget",
       "_model_module_version": "~0.9.*",
       "_model_name": "AnyModel",
       "_view_module": "anywidget",
       "_view_module_version": "~0.9.*",
       "_view_name": "AnyView",
       "close_msg_id": "",
       "layout": "IPY_MODEL_66455ece41714c4484bc3d1373d207f6",
       "message_options": {
        "duration": 3000,
        "message": "",
        "show_close": false,
        "type": "info"
       }
      }
     },
     "44e8b28bb1af4444bd7a82d615df576e": {
      "model_module": "jupyter-leaflet",
      "model_module_version": "^0.19",
      "model_name": "LeafletMapStyleModel",
      "state": {
       "_model_module_version": "^0.19",
       "cursor": "move"
      }
     },
     "46ddaf7031dc496c8ed4a13eb051d0da": {
      "model_module": "@jupyter-widgets/controls",
      "model_module_version": "2.0.0",
      "model_name": "VBoxModel",
      "state": {
       "children": [
        "IPY_MODEL_3faefd3062f047769f13be6ba0f8feec"
       ],
       "layout": "IPY_MODEL_76d3cb66284a4567a34b5efa11a74575"
      }
     },
     "4bfbcfa804ea4f9090d4bb24a4d56097": {
      "model_module": "@jupyter-widgets/base",
      "model_module_version": "2.0.0",
      "model_name": "LayoutModel",
      "state": {}
     },
     "4ce97dcacb2a4f03aafcee7143d84585": {
      "model_module": "@jupyter-widgets/base",
      "model_module_version": "2.0.0",
      "model_name": "LayoutModel",
      "state": {}
     },
     "4d9f6382fb4e43c6a5b31787a56d5b9b": {
      "model_module": "@jupyter-widgets/base",
      "model_module_version": "2.0.0",
      "model_name": "LayoutModel",
      "state": {}
     },
     "4e1f3478fb77491abf7f724a495878b3": {
      "model_module": "@jupyter-widgets/controls",
      "model_module_version": "2.0.0",
      "model_name": "VBoxModel",
      "state": {
       "children": [
        "IPY_MODEL_956b386e40ac4766aa75d0dcc57ff84f"
       ],
       "layout": "IPY_MODEL_cbaf1b65851b41d8895d887f8deff29a"
      }
     },
     "4e2e083be4fa4619bf4d218ce97dd62e": {
      "model_module": "@jupyter-widgets/base",
      "model_module_version": "2.0.0",
      "model_name": "LayoutModel",
      "state": {}
     },
     "4f39af9446d1466f8249e47cd4bf556c": {
      "model_module": "@jupyter-widgets/controls",
      "model_module_version": "2.0.0",
      "model_name": "VBoxModel",
      "state": {
       "children": [
        "IPY_MODEL_11d5e74291394c97bcb162b09beb462c"
       ],
       "layout": "IPY_MODEL_4d9f6382fb4e43c6a5b31787a56d5b9b"
      }
     },
     "50819908d09743c8902333a9c86e9751": {
      "model_module": "@jupyter-widgets/controls",
      "model_module_version": "2.0.0",
      "model_name": "VBoxModel",
      "state": {
       "children": [
        "IPY_MODEL_948183b5873a4cde888da181dfb20954"
       ],
       "layout": "IPY_MODEL_3f39642b17a04bbd93cf0cf7a229d906"
      }
     },
     "52c21098270e4ca4945baa4b7e0b3c12": {
      "model_module": "jupyter-leaflet",
      "model_module_version": "^0.19",
      "model_name": "LeafletTileLayerModel",
      "state": {
       "_model_module_version": "^0.19",
       "_view_module_version": "^0.19",
       "attribution": "&copy; <a href=\"https://www.openstreetmap.org/copyright\">OpenStreetMap</a> contributors",
       "base": true,
       "max_zoom": 19,
       "min_zoom": 1,
       "name": "OpenStreetMap.Mapnik",
       "options": [
        "attribution",
        "bounds",
        "detect_retina",
        "max_native_zoom",
        "max_zoom",
        "min_native_zoom",
        "min_zoom",
        "no_wrap",
        "tile_size",
        "tms",
        "zoom_offset"
       ],
       "url": "https://tile.openstreetmap.org/{z}/{x}/{y}.png"
      }
     },
     "54ea3891a9244f4d81c7338b5395467f": {
      "model_module": "@jupyter-widgets/controls",
      "model_module_version": "2.0.0",
      "model_name": "VBoxModel",
      "state": {
       "children": [
        "IPY_MODEL_7e35ea406e6e453a8dacfe75f253a8f5",
        "IPY_MODEL_929e3955c73e4beb81080f0913c402ce"
       ],
       "layout": "IPY_MODEL_1e2bfd738f67453b8cdb61767c412395"
      }
     },
     "572224a6de074342891d89463af3e417": {
      "model_module": "@jupyter-widgets/output",
      "model_module_version": "1.0.0",
      "model_name": "OutputModel",
      "state": {
       "layout": "IPY_MODEL_67eadd50825f4416a2b82feb486e2eac",
       "outputs": [
        {
         "name": "stdout",
         "output_type": "stream",
         "text": "2025-04-07 00:23:10,746 [INFO] api_create_app.py:render:126 - App render end.\n"
        },
        {
         "name": "stdout",
         "output_type": "stream",
         "text": "2025-04-07 00:23:10,687 [INFO] sfc_codegen.py:render:165 - 🔥 Rerender SFC<__tmp_for_str.vue> at 4428282032\n"
        },
        {
         "name": "stdout",
         "output_type": "stream",
         "text": "2025-04-07 00:23:10,687 [INFO] api_create_app.py:render:116 - App render start.\n"
        }
       ]
      }
     },
     "579cda8946de45a38b326d3cd2c9c274": {
      "model_module": "jupyter-leaflet",
      "model_module_version": "^0.19",
      "model_name": "LeafletZoomControlModel",
      "state": {
       "_model_module_version": "^0.19",
       "_view_module_version": "^0.19",
       "options": [
        "position",
        "zoom_in_text",
        "zoom_in_title",
        "zoom_out_text",
        "zoom_out_title"
       ]
      }
     },
     "5bc7ee2bc69441b0ad2d28e5777492dc": {
      "model_module": "jupyter-leaflet",
      "model_module_version": "^0.19",
      "model_name": "LeafletMapModel",
      "state": {
       "_model_module_version": "^0.19",
       "_view_module_version": "^0.19",
       "bottom": 6208301,
       "center": [
        42.31633694391067,
        -71.1002004146576
       ],
       "controls": [
        "IPY_MODEL_579cda8946de45a38b326d3cd2c9c274",
        "IPY_MODEL_bbad06450d43488da7469f6cb219c865",
        "IPY_MODEL_5bdc5af2db0e449b8fe6283067f4d52a"
       ],
       "default_style": "IPY_MODEL_8a6f6dde4376498bb495e07b1d67c271",
       "dragging_style": "IPY_MODEL_e1a0684e86f74b959e150518b95ce6ed",
       "east": -71.08950376510622,
       "fullscreen": false,
       "interpolation": "bilinear",
       "layers": [
        "IPY_MODEL_318143ea40ff43b8aab631600bd2ec9c",
        "IPY_MODEL_afc6581d11cb4a9a9e73405852f1d7a9",
        "IPY_MODEL_c381fceeb3cc469488621f4adea05879"
       ],
       "layout": "IPY_MODEL_34cc201d59e34d6fbc206436b2c36c6a",
       "left": 5074600,
       "modisdate": "2025-04-06",
       "north": 42.319510192539724,
       "options": [
        "bounce_at_zoom_limits",
        "box_zoom",
        "center",
        "close_popup_on_click",
        "double_click_zoom",
        "dragging",
        "fullscreen",
        "inertia",
        "inertia_deceleration",
        "inertia_max_speed",
        "interpolation",
        "keyboard",
        "keyboard_pan_offset",
        "keyboard_zoom_offset",
        "max_zoom",
        "min_zoom",
        "prefer_canvas",
        "scroll_wheel_zoom",
        "tap",
        "tap_tolerance",
        "touch_zoom",
        "world_copy_jump",
        "zoom",
        "zoom_animation_threshold",
        "zoom_delta",
        "zoom_snap"
       ],
       "prefer_canvas": false,
       "right": 5075597,
       "south": 42.313163535265346,
       "style": "IPY_MODEL_8a6f6dde4376498bb495e07b1d67c271",
       "top": 6207901,
       "west": -71.110897064209,
       "window_url": "http://localhost:2071/lab/tree/nb_llm/pyvue/examples/vleaflet/layers/WKTLayer.ipynb",
       "zoom": 16
      }
     },
     "5bdc5af2db0e449b8fe6283067f4d52a": {
      "model_module": "jupyter-leaflet",
      "model_module_version": "^0.19",
      "model_name": "LeafletLayersControlModel",
      "state": {
       "_model_module_version": "^0.19",
       "_view_module_version": "^0.19",
       "collapsed": false,
       "options": [
        "collapsed",
        "position"
       ]
      }
     },
     "5cfecf69cf1645d284b753391f51e139": {
      "model_module": "jupyter-leaflet",
      "model_module_version": "^0.19",
      "model_name": "LeafletMapStyleModel",
      "state": {
       "_model_module_version": "^0.19",
       "cursor": "move"
      }
     },
     "6010dd2d04124a3b8e4927de836ff13d": {
      "model_module": "jupyter-leaflet",
      "model_module_version": "^0.19",
      "model_name": "LeafletGeoJSONModel",
      "state": {
       "_model_module_version": "^0.19",
       "_view_module_version": "^0.19",
       "data": {
        "geometry": {
         "coordinates": [
          [
           [
            [
             -71.1031880899493,
             42.3152774590236
            ],
            [
             -71.1031627617667,
             42.3152960829043
            ],
            [
             -71.102923838298,
             42.3149156848307
            ],
            [
             -71.1023097974109,
             42.3151969047397
            ],
            [
             -71.1019285062273,
             42.3147384934248
            ],
            [
             -71.102505233663,
             42.3144722937587
            ],
            [
             -71.10277487471,
             42.3141658254797
            ],
            [
             -71.103113945163,
             42.3142739188902
            ],
            [
             -71.10324876416,
             42.31402489987
            ],
            [
             -71.1033002961013,
             42.3140393340215
            ],
            [
             -71.1033488797549,
             42.3139495090772
            ],
            [
             -71.103396240451,
             42.3138632439557
            ],
            [
             -71.1041521907712,
             42.3141153348029
            ],
            [
             -71.1041411411543,
             42.3141545014533
            ],
            [
             -71.1041287795912,
             42.3142114839058
            ],
            [
             -71.1041188134329,
             42.3142693656241
            ],
            [
             -71.1041112482575,
             42.3143272556118
            ],
            [
             -71.1041072845732,
             42.3143851580048
            ],
            [
             -71.1041057218871,
             42.3144430686681
            ],
            [
             -71.1041065602059,
             42.3145009876017
            ],
            [
             -71.1041097995362,
             42.3145589148055
            ],
            [
             -71.1041166403905,
             42.3146168544148
            ],
            [
             -71.1041258822717,
             42.3146748022936
            ],
            [
             -71.1041375307579,
             42.3147318674446
            ],
            [
             -71.1041492906949,
             42.3147711126569
            ],
            [
             -71.1041598612795,
             42.314808571739
            ],
            [
             -71.1042515013869,
             42.3151287620809
            ],
            [
             -71.1041173835118,
             42.3150739481917
            ],
            [
             -71.1040809891419,
             42.3151344119048
            ],
            [
             -71.1040438678912,
             42.3151191367447
            ],
            [
             -71.1040194562988,
             42.3151832057859
            ],
            [
             -71.1038734225584,
             42.3151140942995
            ],
            [
             -71.1038446938243,
             42.3151006300338
            ],
            [
             -71.1038315271889,
             42.315094347535
            ],
            [
             -71.1037393329282,
             42.315054824985
            ],
            [
             -71.1035447555574,
             42.3152608696313
            ],
            [
             -71.1033436658644,
             42.3151648370544
            ],
            [
             -71.1032580383161,
             42.3152269126061
            ],
            [
             -71.103223066939,
             42.3152517403219
            ],
            [
             -71.1031880899493,
             42.3152774590236
            ]
           ]
          ],
          [
           [
            [
             -71.1043632495873,
             42.315113108546
            ],
            [
             -71.1043583974082,
             42.3151211109857
            ],
            [
             -71.1043443253471,
             42.3150676015829
            ],
            [
             -71.1043850704575,
             42.3150793250568
            ],
            [
             -71.1043632495873,
             42.315113108546
            ]
           ]
          ]
         ],
         "type": "MultiPolygon"
        },
        "properties": {},
        "type": "Feature"
       },
       "hover_style": {
        "fillColor": "red"
       },
       "name": "wkt file"
      }
     },
     "62bffff5c0cb44738073ac5f84f78999": {
      "model_module": "@jupyter-widgets/controls",
      "model_module_version": "2.0.0",
      "model_name": "VBoxModel",
      "state": {
       "children": [
        "IPY_MODEL_7c1600cccc914110b1eb03f902027e25",
        "IPY_MODEL_ddd7a413adb94f7b8440eebfdac8b15c"
       ],
       "layout": "IPY_MODEL_f1fa4bbd54a84151b370a8c7a2c791bb"
      }
     },
     "639b14ecb6214359847294ac9f02bfd5": {
      "model_module": "jupyter-leaflet",
      "model_module_version": "^0.19",
      "model_name": "LeafletZoomControlModel",
      "state": {
       "_model_module_version": "^0.19",
       "_view_module_version": "^0.19",
       "options": [
        "position",
        "zoom_in_text",
        "zoom_in_title",
        "zoom_out_text",
        "zoom_out_title"
       ]
      }
     },
     "63d280849f1b4208abba14f9bdf2d20e": {
      "model_module": "@jupyter-widgets/base",
      "model_module_version": "2.0.0",
      "model_name": "LayoutModel",
      "state": {}
     },
     "63df4b88b91d404783e4c1b3e8e04ea9": {
      "model_module": "@jupyter-widgets/controls",
      "model_module_version": "2.0.0",
      "model_name": "VBoxModel",
      "state": {
       "children": [
        "IPY_MODEL_abf6090fa5aa48b4ba050a04061045b6"
       ],
       "layout": "IPY_MODEL_25f75d5e987d46f7924491905c49cf45"
      }
     },
     "659aa036e3e94577ae8f4ff36184a9b4": {
      "model_module": "anywidget",
      "model_module_version": "~0.9.*",
      "model_name": "AnyModel",
      "state": {
       "_anywidget_id": "ipywui.widgets.custom.message.MessageWidget",
       "_css": ".wui-message-root {\n    display: flex;\n    position: absolute;\n    left: 0;\n    right: 0;\n    top: 0;\n}\n\n.wui-message-container {\n    align-items: center;\n    display: flex;\n    flex-direction: column-reverse;\n    justify-content: center;\n    min-height: 100%;\n    outline: none;\n    width: 100%;\n\n    -webkit-tap-highlight-color: rgba(0,0,0,0);\n    bottom: 0;\n    left: 0;\n    right: 0;\n    top: 0;\n}\n\n.wui-message--success {\n    --wui-message-bg-color: #f0f9eb;\n    --wui-message-border-color: #e1f3d8;\n    --wui-message-text-color: #67c23a;\n}\n.wui-message--warning {\n    --wui-message-bg-color: #fdf6ec;\n    --wui-message-border-color: #faecd8;\n    --wui-message-text-color: #e6a23c;\n}\n.wui-message--info {\n    --wui-message-bg-color: #f4f4f5;\n    --wui-message-border-color: #e9e9eb;\n    --wui-message-text-color: #909399;\n}\n.wui-message--error {\n    --wui-message-bg-color: #fef0f0;\n    --wui-message-border-color: #fde2e2;\n    --wui-message-text-color: #f56c6c;\n}\n\n@keyframes msg-open {\n    0% {\n        opacity: 0;\n        -webkit-transform: translateY(-120%);\n        transform: translateY(-120%)\n    }\n    to {\n        -webkit-transform: translateY(0);\n        transform: translateY(0)\n    }\n}\n\n@keyframes msg-close {\n    0% {\n        opacity: 1;\n        -webkit-transform: scale(1);\n        transform: scale(1)\n    }\n    to {\n        opacity: 0;\n        -webkit-transform: scale(.9);\n        transform: scale(.9)\n    }\n}\n.wui-message[data-state=entered],.wui-message[data-state=entering] {\n    -webkit-animation: msg-open .24s cubic-bezier(.175,.885,.32,1.175) both;\n    animation: msg-open .24s cubic-bezier(.175,.885,.32,1.175) both\n}\n\n.wui-message[data-state=exiting] {\n    -webkit-animation: msg-close .12s cubic-bezier(.4,0,1,1) both;\n    animation: msg-close .12s cubic-bezier(.4,0,1,1) both\n}\n\n.wui-message {\n    width: -webkit-fit-content;\n    width: -moz-fit-content;\n    width: fit-content;\n    z-index: 2004;\n    max-width: calc(100% - 32px);\n    margin-top: 8px;\n    box-sizing: border-box;\n    /*border-radius: var(--wui-border-radius-base);*/\n    /*border-width: var(--wui-border-width);*/\n    /*border-style: var(--wui-border-style);*/\n    border-color: var(--wui-message-border-color);\n    /*left: 50%;*/\n    /*top: 20px;*/\n    /*transform: translateX(-50%);*/\n    background-color: var(--wui-message-bg-color);\n    /*transition: opacity var(--wui-transition-duration),transform .4s,top .4s;*/\n    /*padding: var(--wui-message-padding);*/\n    display: flex;\n    align-items: center;\n}\n\n/*.wui-message--success */\n.wui-message__content {\n    color: var(--wui-message-text-color);\n    font-size: 14px;\n    line-height: 18px;\n    margin: 10px 14px 10px 14px;\n    overflow-wrap: break-word;\n}\n\n.wui-message__closeBtn {\n    /*cursor: pointer;*/\n    font-style: normal;\n    /*color: gray;*/\n    padding-right: 14px;\n    /*font-size: 13px;*/\n    user-select: none;\n\n    background: transparent;\n    border: none;\n    color: gray;\n    cursor: pointer;\n    font-size: 13px;\n    font-weight: 400;\n    line-height: 1;\n    outline: none;\n    /*padding: 4px;*/\n    text-align: center;\n    transition: opacity .3s;\n    /*width: 100%;*/\n}",
       "_esm": "function closeMsg(msgDom) {\n  if (!msgDom) {\n    return;\n  }\n  msgDom.setAttribute('data-state', 'exiting');\n  msgDom.remove();\n}\n\nfunction createMsg(options) {\n  const {message, msg_id, type = 'info', show_close = false} = options;\n  const msgDom = document.createElement('div');\n  msgDom.className += ` wui-message--${type} wui-message`;\n  msgDom.setAttribute('data-state', 'entered');\n  msgDom.setAttribute('id', msg_id);\n  const msgContent = document.createElement('p');\n  msgContent.className += ` wui-message--${type} wui-message__content`;\n  msgContent.innerText = message;\n  msgDom.appendChild(msgContent);\n  if (show_close) {\n    const closeBtn = document.createElement('i');\n    closeBtn.className += 'wui-message__closeBtn';\n    closeBtn.innerText = 'x';\n    closeBtn.addEventListener('click', (ev) => {\n      closeMsg(msgDom);\n    })\n    msgDom.appendChild(closeBtn);\n  }\n  return msgDom;\n}\n\nexport async function render(view) {\n  let model = view.model;\n  const msgRoot = view.el;\n  msgRoot.className += ' wui-message-root'\n\n  const msgContainer = document.createElement('div');\n  msgContainer.className += ' wui-message-container';\n  msgRoot.appendChild(msgContainer)\n\n  model.on(\"change:message_options\", () => {\n    const options = model.get(\"message_options\");\n    const msg = createMsg(options);\n    msgContainer.appendChild(msg);\n    const {duration = 3000} = options;\n    if (duration > 0) {\n      setTimeout(() => {\n        closeMsg(msg)\n      }, duration);\n    }\n  })\n\n  model.on(\"change:close_msg_id\", () => {\n    const msg_id = model.get(\"close_msg_id\");\n    const msgDom = document.getElementById(msg_id);\n    closeMsg(msgDom);\n  })\n}\n",
       "_model_module": "anywidget",
       "_model_module_version": "~0.9.*",
       "_model_name": "AnyModel",
       "_view_module": "anywidget",
       "_view_module_version": "~0.9.*",
       "_view_name": "AnyView",
       "close_msg_id": "",
       "layout": "IPY_MODEL_f2b9d2dbaed446a4b614a4bae5ac5e65",
       "message_options": {
        "duration": 3000,
        "message": "",
        "show_close": false,
        "type": "info"
       }
      }
     },
     "66455ece41714c4484bc3d1373d207f6": {
      "model_module": "@jupyter-widgets/base",
      "model_module_version": "2.0.0",
      "model_name": "LayoutModel",
      "state": {}
     },
     "6697e2fda6504fb0b0da3b37ede067da": {
      "model_module": "@jupyter-widgets/base",
      "model_module_version": "2.0.0",
      "model_name": "LayoutModel",
      "state": {}
     },
     "67eadd50825f4416a2b82feb486e2eac": {
      "model_module": "@jupyter-widgets/base",
      "model_module_version": "2.0.0",
      "model_name": "LayoutModel",
      "state": {}
     },
     "68ff35458892464b89230fd904bdbfe1": {
      "model_module": "jupyter-leaflet",
      "model_module_version": "^0.19",
      "model_name": "LeafletGeoJSONModel",
      "state": {
       "_model_module_version": "^0.19",
       "_view_module_version": "^0.19",
       "data": {
        "geometry": {
         "coordinates": [
          [
           [
            [
             -71.1031880899493,
             42.3152774590236
            ],
            [
             -71.1031627617667,
             42.3152960829043
            ],
            [
             -71.102923838298,
             42.3149156848307
            ],
            [
             -71.1023097974109,
             42.3151969047397
            ],
            [
             -71.1019285062273,
             42.3147384934248
            ],
            [
             -71.102505233663,
             42.3144722937587
            ],
            [
             -71.10277487471,
             42.3141658254797
            ],
            [
             -71.103113945163,
             42.3142739188902
            ],
            [
             -71.10324876416,
             42.31402489987
            ],
            [
             -71.1033002961013,
             42.3140393340215
            ],
            [
             -71.1033488797549,
             42.3139495090772
            ],
            [
             -71.103396240451,
             42.3138632439557
            ],
            [
             -71.1041521907712,
             42.3141153348029
            ],
            [
             -71.1041411411543,
             42.3141545014533
            ],
            [
             -71.1041287795912,
             42.3142114839058
            ],
            [
             -71.1041188134329,
             42.3142693656241
            ],
            [
             -71.1041112482575,
             42.3143272556118
            ],
            [
             -71.1041072845732,
             42.3143851580048
            ],
            [
             -71.1041057218871,
             42.3144430686681
            ],
            [
             -71.1041065602059,
             42.3145009876017
            ],
            [
             -71.1041097995362,
             42.3145589148055
            ],
            [
             -71.1041166403905,
             42.3146168544148
            ],
            [
             -71.1041258822717,
             42.3146748022936
            ],
            [
             -71.1041375307579,
             42.3147318674446
            ],
            [
             -71.1041492906949,
             42.3147711126569
            ],
            [
             -71.1041598612795,
             42.314808571739
            ],
            [
             -71.1042515013869,
             42.3151287620809
            ],
            [
             -71.1041173835118,
             42.3150739481917
            ],
            [
             -71.1040809891419,
             42.3151344119048
            ],
            [
             -71.1040438678912,
             42.3151191367447
            ],
            [
             -71.1040194562988,
             42.3151832057859
            ],
            [
             -71.1038734225584,
             42.3151140942995
            ],
            [
             -71.1038446938243,
             42.3151006300338
            ],
            [
             -71.1038315271889,
             42.315094347535
            ],
            [
             -71.1037393329282,
             42.315054824985
            ],
            [
             -71.1035447555574,
             42.3152608696313
            ],
            [
             -71.1033436658644,
             42.3151648370544
            ],
            [
             -71.1032580383161,
             42.3152269126061
            ],
            [
             -71.103223066939,
             42.3152517403219
            ],
            [
             -71.1031880899493,
             42.3152774590236
            ]
           ]
          ],
          [
           [
            [
             -71.1043632495873,
             42.315113108546
            ],
            [
             -71.1043583974082,
             42.3151211109857
            ],
            [
             -71.1043443253471,
             42.3150676015829
            ],
            [
             -71.1043850704575,
             42.3150793250568
            ],
            [
             -71.1043632495873,
             42.315113108546
            ]
           ]
          ]
         ],
         "type": "MultiPolygon"
        },
        "properties": {},
        "type": "Feature"
       },
       "hover_style": {
        "fillColor": "red"
       },
       "name": "wkt"
      }
     },
     "6f2c0d73e5394103940e5e519d1269bd": {
      "model_module": "@jupyter-widgets/base",
      "model_module_version": "2.0.0",
      "model_name": "LayoutModel",
      "state": {}
     },
     "72749de8c2764b178875bf5fa6b3a983": {
      "model_module": "@jupyter-widgets/controls",
      "model_module_version": "2.0.0",
      "model_name": "VBoxModel",
      "state": {
       "layout": "IPY_MODEL_c5a88c1074144919ae261d751b107bd9"
      }
     },
     "733480e5566745a3af8e655d9f23f39c": {
      "model_module": "anywidget",
      "model_module_version": "~0.9.*",
      "model_name": "AnyModel",
      "state": {
       "_anywidget_id": "ipywui.widgets.custom.message.MessageWidget",
       "_css": ".wui-message-root {\n    display: flex;\n    position: absolute;\n    left: 0;\n    right: 0;\n    top: 0;\n}\n\n.wui-message-container {\n    align-items: center;\n    display: flex;\n    flex-direction: column-reverse;\n    justify-content: center;\n    min-height: 100%;\n    outline: none;\n    width: 100%;\n\n    -webkit-tap-highlight-color: rgba(0,0,0,0);\n    bottom: 0;\n    left: 0;\n    right: 0;\n    top: 0;\n}\n\n.wui-message--success {\n    --wui-message-bg-color: #f0f9eb;\n    --wui-message-border-color: #e1f3d8;\n    --wui-message-text-color: #67c23a;\n}\n.wui-message--warning {\n    --wui-message-bg-color: #fdf6ec;\n    --wui-message-border-color: #faecd8;\n    --wui-message-text-color: #e6a23c;\n}\n.wui-message--info {\n    --wui-message-bg-color: #f4f4f5;\n    --wui-message-border-color: #e9e9eb;\n    --wui-message-text-color: #909399;\n}\n.wui-message--error {\n    --wui-message-bg-color: #fef0f0;\n    --wui-message-border-color: #fde2e2;\n    --wui-message-text-color: #f56c6c;\n}\n\n@keyframes msg-open {\n    0% {\n        opacity: 0;\n        -webkit-transform: translateY(-120%);\n        transform: translateY(-120%)\n    }\n    to {\n        -webkit-transform: translateY(0);\n        transform: translateY(0)\n    }\n}\n\n@keyframes msg-close {\n    0% {\n        opacity: 1;\n        -webkit-transform: scale(1);\n        transform: scale(1)\n    }\n    to {\n        opacity: 0;\n        -webkit-transform: scale(.9);\n        transform: scale(.9)\n    }\n}\n.wui-message[data-state=entered],.wui-message[data-state=entering] {\n    -webkit-animation: msg-open .24s cubic-bezier(.175,.885,.32,1.175) both;\n    animation: msg-open .24s cubic-bezier(.175,.885,.32,1.175) both\n}\n\n.wui-message[data-state=exiting] {\n    -webkit-animation: msg-close .12s cubic-bezier(.4,0,1,1) both;\n    animation: msg-close .12s cubic-bezier(.4,0,1,1) both\n}\n\n.wui-message {\n    width: -webkit-fit-content;\n    width: -moz-fit-content;\n    width: fit-content;\n    z-index: 2004;\n    max-width: calc(100% - 32px);\n    margin-top: 8px;\n    box-sizing: border-box;\n    /*border-radius: var(--wui-border-radius-base);*/\n    /*border-width: var(--wui-border-width);*/\n    /*border-style: var(--wui-border-style);*/\n    border-color: var(--wui-message-border-color);\n    /*left: 50%;*/\n    /*top: 20px;*/\n    /*transform: translateX(-50%);*/\n    background-color: var(--wui-message-bg-color);\n    /*transition: opacity var(--wui-transition-duration),transform .4s,top .4s;*/\n    /*padding: var(--wui-message-padding);*/\n    display: flex;\n    align-items: center;\n}\n\n/*.wui-message--success */\n.wui-message__content {\n    color: var(--wui-message-text-color);\n    font-size: 14px;\n    line-height: 18px;\n    margin: 10px 14px 10px 14px;\n    overflow-wrap: break-word;\n}\n\n.wui-message__closeBtn {\n    /*cursor: pointer;*/\n    font-style: normal;\n    /*color: gray;*/\n    padding-right: 14px;\n    /*font-size: 13px;*/\n    user-select: none;\n\n    background: transparent;\n    border: none;\n    color: gray;\n    cursor: pointer;\n    font-size: 13px;\n    font-weight: 400;\n    line-height: 1;\n    outline: none;\n    /*padding: 4px;*/\n    text-align: center;\n    transition: opacity .3s;\n    /*width: 100%;*/\n}",
       "_esm": "function closeMsg(msgDom) {\n  if (!msgDom) {\n    return;\n  }\n  msgDom.setAttribute('data-state', 'exiting');\n  msgDom.remove();\n}\n\nfunction createMsg(options) {\n  const {message, msg_id, type = 'info', show_close = false} = options;\n  const msgDom = document.createElement('div');\n  msgDom.className += ` wui-message--${type} wui-message`;\n  msgDom.setAttribute('data-state', 'entered');\n  msgDom.setAttribute('id', msg_id);\n  const msgContent = document.createElement('p');\n  msgContent.className += ` wui-message--${type} wui-message__content`;\n  msgContent.innerText = message;\n  msgDom.appendChild(msgContent);\n  if (show_close) {\n    const closeBtn = document.createElement('i');\n    closeBtn.className += 'wui-message__closeBtn';\n    closeBtn.innerText = 'x';\n    closeBtn.addEventListener('click', (ev) => {\n      closeMsg(msgDom);\n    })\n    msgDom.appendChild(closeBtn);\n  }\n  return msgDom;\n}\n\nexport async function render(view) {\n  let model = view.model;\n  const msgRoot = view.el;\n  msgRoot.className += ' wui-message-root'\n\n  const msgContainer = document.createElement('div');\n  msgContainer.className += ' wui-message-container';\n  msgRoot.appendChild(msgContainer)\n\n  model.on(\"change:message_options\", () => {\n    const options = model.get(\"message_options\");\n    const msg = createMsg(options);\n    msgContainer.appendChild(msg);\n    const {duration = 3000} = options;\n    if (duration > 0) {\n      setTimeout(() => {\n        closeMsg(msg)\n      }, duration);\n    }\n  })\n\n  model.on(\"change:close_msg_id\", () => {\n    const msg_id = model.get(\"close_msg_id\");\n    const msgDom = document.getElementById(msg_id);\n    closeMsg(msgDom);\n  })\n}\n",
       "_model_module": "anywidget",
       "_model_module_version": "~0.9.*",
       "_model_name": "AnyModel",
       "_view_module": "anywidget",
       "_view_module_version": "~0.9.*",
       "_view_name": "AnyView",
       "close_msg_id": "",
       "layout": "IPY_MODEL_e349c2844a4641adb377fc2946abc3a0",
       "message_options": {
        "duration": 3000,
        "message": "",
        "show_close": false,
        "type": "info"
       }
      }
     },
     "76d3cb66284a4567a34b5efa11a74575": {
      "model_module": "@jupyter-widgets/base",
      "model_module_version": "2.0.0",
      "model_name": "LayoutModel",
      "state": {}
     },
     "78baf8187dcc4d72b9b7517a70c93793": {
      "model_module": "jupyter-leaflet",
      "model_module_version": "^0.19",
      "model_name": "LeafletMapStyleModel",
      "state": {
       "_model_module_version": "^0.19"
      }
     },
     "79d9a3faffd2406e84cc0d8a81d26e93": {
      "model_module": "@jupyter-widgets/base",
      "model_module_version": "2.0.0",
      "model_name": "LayoutModel",
      "state": {}
     },
     "7b3f781b21c24c47abc011fbbc9f6f8b": {
      "model_module": "@jupyter-widgets/controls",
      "model_module_version": "2.0.0",
      "model_name": "VBoxModel",
      "state": {
       "children": [
        "IPY_MODEL_b0fc7a0c19114bf9b5c40e6f59c7a6ca"
       ],
       "layout": "IPY_MODEL_18d6d59270294143a855547ee8b2a003"
      }
     },
     "7c1600cccc914110b1eb03f902027e25": {
      "model_module": "jupyter-leaflet",
      "model_module_version": "^0.19",
      "model_name": "LeafletGeoJSONModel",
      "state": {
       "_model_module_version": "^0.19",
       "_view_module_version": "^0.19",
       "data": {
        "geometry": {
         "coordinates": [
          [
           [
            [
             -71.1031880899493,
             42.3152774590236
            ],
            [
             -71.1031627617667,
             42.3152960829043
            ],
            [
             -71.102923838298,
             42.3149156848307
            ],
            [
             -71.1023097974109,
             42.3151969047397
            ],
            [
             -71.1019285062273,
             42.3147384934248
            ],
            [
             -71.102505233663,
             42.3144722937587
            ],
            [
             -71.10277487471,
             42.3141658254797
            ],
            [
             -71.103113945163,
             42.3142739188902
            ],
            [
             -71.10324876416,
             42.31402489987
            ],
            [
             -71.1033002961013,
             42.3140393340215
            ],
            [
             -71.1033488797549,
             42.3139495090772
            ],
            [
             -71.103396240451,
             42.3138632439557
            ],
            [
             -71.1041521907712,
             42.3141153348029
            ],
            [
             -71.1041411411543,
             42.3141545014533
            ],
            [
             -71.1041287795912,
             42.3142114839058
            ],
            [
             -71.1041188134329,
             42.3142693656241
            ],
            [
             -71.1041112482575,
             42.3143272556118
            ],
            [
             -71.1041072845732,
             42.3143851580048
            ],
            [
             -71.1041057218871,
             42.3144430686681
            ],
            [
             -71.1041065602059,
             42.3145009876017
            ],
            [
             -71.1041097995362,
             42.3145589148055
            ],
            [
             -71.1041166403905,
             42.3146168544148
            ],
            [
             -71.1041258822717,
             42.3146748022936
            ],
            [
             -71.1041375307579,
             42.3147318674446
            ],
            [
             -71.1041492906949,
             42.3147711126569
            ],
            [
             -71.1041598612795,
             42.314808571739
            ],
            [
             -71.1042515013869,
             42.3151287620809
            ],
            [
             -71.1041173835118,
             42.3150739481917
            ],
            [
             -71.1040809891419,
             42.3151344119048
            ],
            [
             -71.1040438678912,
             42.3151191367447
            ],
            [
             -71.1040194562988,
             42.3151832057859
            ],
            [
             -71.1038734225584,
             42.3151140942995
            ],
            [
             -71.1038446938243,
             42.3151006300338
            ],
            [
             -71.1038315271889,
             42.315094347535
            ],
            [
             -71.1037393329282,
             42.315054824985
            ],
            [
             -71.1035447555574,
             42.3152608696313
            ],
            [
             -71.1033436658644,
             42.3151648370544
            ],
            [
             -71.1032580383161,
             42.3152269126061
            ],
            [
             -71.103223066939,
             42.3152517403219
            ],
            [
             -71.1031880899493,
             42.3152774590236
            ]
           ]
          ],
          [
           [
            [
             -71.1043632495873,
             42.315113108546
            ],
            [
             -71.1043583974082,
             42.3151211109857
            ],
            [
             -71.1043443253471,
             42.3150676015829
            ],
            [
             -71.1043850704575,
             42.3150793250568
            ],
            [
             -71.1043632495873,
             42.315113108546
            ]
           ]
          ]
         ],
         "type": "MultiPolygon"
        },
        "properties": {},
        "type": "Feature"
       },
       "hover_style": {
        "fillColor": "red"
       },
       "name": "wkt file"
      }
     },
     "7d63a47b0a4043eb800f6733ec36869a": {
      "model_module": "@jupyter-widgets/base",
      "model_module_version": "2.0.0",
      "model_name": "LayoutModel",
      "state": {}
     },
     "7e35ea406e6e453a8dacfe75f253a8f5": {
      "model_module": "anywidget",
      "model_module_version": "~0.9.*",
      "model_name": "AnyModel",
      "state": {
       "_anywidget_id": "ipywui.widgets.custom.message.MessageWidget",
       "_css": ".wui-message-root {\n    display: flex;\n    position: absolute;\n    left: 0;\n    right: 0;\n    top: 0;\n}\n\n.wui-message-container {\n    align-items: center;\n    display: flex;\n    flex-direction: column-reverse;\n    justify-content: center;\n    min-height: 100%;\n    outline: none;\n    width: 100%;\n\n    -webkit-tap-highlight-color: rgba(0,0,0,0);\n    bottom: 0;\n    left: 0;\n    right: 0;\n    top: 0;\n}\n\n.wui-message--success {\n    --wui-message-bg-color: #f0f9eb;\n    --wui-message-border-color: #e1f3d8;\n    --wui-message-text-color: #67c23a;\n}\n.wui-message--warning {\n    --wui-message-bg-color: #fdf6ec;\n    --wui-message-border-color: #faecd8;\n    --wui-message-text-color: #e6a23c;\n}\n.wui-message--info {\n    --wui-message-bg-color: #f4f4f5;\n    --wui-message-border-color: #e9e9eb;\n    --wui-message-text-color: #909399;\n}\n.wui-message--error {\n    --wui-message-bg-color: #fef0f0;\n    --wui-message-border-color: #fde2e2;\n    --wui-message-text-color: #f56c6c;\n}\n\n@keyframes msg-open {\n    0% {\n        opacity: 0;\n        -webkit-transform: translateY(-120%);\n        transform: translateY(-120%)\n    }\n    to {\n        -webkit-transform: translateY(0);\n        transform: translateY(0)\n    }\n}\n\n@keyframes msg-close {\n    0% {\n        opacity: 1;\n        -webkit-transform: scale(1);\n        transform: scale(1)\n    }\n    to {\n        opacity: 0;\n        -webkit-transform: scale(.9);\n        transform: scale(.9)\n    }\n}\n.wui-message[data-state=entered],.wui-message[data-state=entering] {\n    -webkit-animation: msg-open .24s cubic-bezier(.175,.885,.32,1.175) both;\n    animation: msg-open .24s cubic-bezier(.175,.885,.32,1.175) both\n}\n\n.wui-message[data-state=exiting] {\n    -webkit-animation: msg-close .12s cubic-bezier(.4,0,1,1) both;\n    animation: msg-close .12s cubic-bezier(.4,0,1,1) both\n}\n\n.wui-message {\n    width: -webkit-fit-content;\n    width: -moz-fit-content;\n    width: fit-content;\n    z-index: 2004;\n    max-width: calc(100% - 32px);\n    margin-top: 8px;\n    box-sizing: border-box;\n    /*border-radius: var(--wui-border-radius-base);*/\n    /*border-width: var(--wui-border-width);*/\n    /*border-style: var(--wui-border-style);*/\n    border-color: var(--wui-message-border-color);\n    /*left: 50%;*/\n    /*top: 20px;*/\n    /*transform: translateX(-50%);*/\n    background-color: var(--wui-message-bg-color);\n    /*transition: opacity var(--wui-transition-duration),transform .4s,top .4s;*/\n    /*padding: var(--wui-message-padding);*/\n    display: flex;\n    align-items: center;\n}\n\n/*.wui-message--success */\n.wui-message__content {\n    color: var(--wui-message-text-color);\n    font-size: 14px;\n    line-height: 18px;\n    margin: 10px 14px 10px 14px;\n    overflow-wrap: break-word;\n}\n\n.wui-message__closeBtn {\n    /*cursor: pointer;*/\n    font-style: normal;\n    /*color: gray;*/\n    padding-right: 14px;\n    /*font-size: 13px;*/\n    user-select: none;\n\n    background: transparent;\n    border: none;\n    color: gray;\n    cursor: pointer;\n    font-size: 13px;\n    font-weight: 400;\n    line-height: 1;\n    outline: none;\n    /*padding: 4px;*/\n    text-align: center;\n    transition: opacity .3s;\n    /*width: 100%;*/\n}",
       "_esm": "function closeMsg(msgDom) {\n  if (!msgDom) {\n    return;\n  }\n  msgDom.setAttribute('data-state', 'exiting');\n  msgDom.remove();\n}\n\nfunction createMsg(options) {\n  const {message, msg_id, type = 'info', show_close = false} = options;\n  const msgDom = document.createElement('div');\n  msgDom.className += ` wui-message--${type} wui-message`;\n  msgDom.setAttribute('data-state', 'entered');\n  msgDom.setAttribute('id', msg_id);\n  const msgContent = document.createElement('p');\n  msgContent.className += ` wui-message--${type} wui-message__content`;\n  msgContent.innerText = message;\n  msgDom.appendChild(msgContent);\n  if (show_close) {\n    const closeBtn = document.createElement('i');\n    closeBtn.className += 'wui-message__closeBtn';\n    closeBtn.innerText = 'x';\n    closeBtn.addEventListener('click', (ev) => {\n      closeMsg(msgDom);\n    })\n    msgDom.appendChild(closeBtn);\n  }\n  return msgDom;\n}\n\nexport async function render(view) {\n  let model = view.model;\n  const msgRoot = view.el;\n  msgRoot.className += ' wui-message-root'\n\n  const msgContainer = document.createElement('div');\n  msgContainer.className += ' wui-message-container';\n  msgRoot.appendChild(msgContainer)\n\n  model.on(\"change:message_options\", () => {\n    const options = model.get(\"message_options\");\n    const msg = createMsg(options);\n    msgContainer.appendChild(msg);\n    const {duration = 3000} = options;\n    if (duration > 0) {\n      setTimeout(() => {\n        closeMsg(msg)\n      }, duration);\n    }\n  })\n\n  model.on(\"change:close_msg_id\", () => {\n    const msg_id = model.get(\"close_msg_id\");\n    const msgDom = document.getElementById(msg_id);\n    closeMsg(msgDom);\n  })\n}\n",
       "_model_module": "anywidget",
       "_model_module_version": "~0.9.*",
       "_model_name": "AnyModel",
       "_view_module": "anywidget",
       "_view_module_version": "~0.9.*",
       "_view_name": "AnyView",
       "close_msg_id": "",
       "layout": "IPY_MODEL_903e5005991642c8b8d919b1d3b5ac2c",
       "message_options": {
        "duration": 3000,
        "message": "",
        "show_close": false,
        "type": "info"
       }
      }
     },
     "7eb5ce06708844efb6bfdbbc2ee535b5": {
      "model_module": "@jupyter-widgets/base",
      "model_module_version": "2.0.0",
      "model_name": "LayoutModel",
      "state": {}
     },
     "7edf95bcd82840e684f421de77120671": {
      "model_module": "jupyter-leaflet",
      "model_module_version": "^0.19",
      "model_name": "LeafletLayersControlModel",
      "state": {
       "_model_module_version": "^0.19",
       "_view_module_version": "^0.19",
       "collapsed": false,
       "options": [
        "collapsed",
        "position"
       ]
      }
     },
     "803608e4e4514e7bae2502063a3f0edd": {
      "model_module": "@jupyter-widgets/controls",
      "model_module_version": "2.0.0",
      "model_name": "VBoxModel",
      "state": {
       "children": [
        "IPY_MODEL_e67a939cdb824c1a8a69203c1037c7bb"
       ],
       "layout": "IPY_MODEL_9d40af4770f949dfbcb13b51f30ba3a1"
      }
     },
     "81323c35bff14e8794dc6c97dd502c4d": {
      "model_module": "@jupyter-widgets/controls",
      "model_module_version": "2.0.0",
      "model_name": "VBoxModel",
      "state": {
       "children": [
        "IPY_MODEL_afc6581d11cb4a9a9e73405852f1d7a9",
        "IPY_MODEL_c381fceeb3cc469488621f4adea05879"
       ],
       "layout": "IPY_MODEL_cd211f50e17c438bbf376394b0961f78"
      }
     },
     "82772cade3c74364b5f718016d90f8bb": {
      "model_module": "@jupyter-widgets/controls",
      "model_module_version": "2.0.0",
      "model_name": "VBoxModel",
      "state": {
       "children": [
        "IPY_MODEL_a5fbe0b164cd4d7282011605f7553848"
       ],
       "layout": "IPY_MODEL_4e2e083be4fa4619bf4d218ce97dd62e"
      }
     },
     "82bcf0692ca7454e8ef6cfb9037e50f3": {
      "model_module": "@jupyter-widgets/base",
      "model_module_version": "2.0.0",
      "model_name": "LayoutModel",
      "state": {}
     },
     "864f4af730f14465a0c452cc3bb88829": {
      "model_module": "@jupyter-widgets/base",
      "model_module_version": "2.0.0",
      "model_name": "LayoutModel",
      "state": {}
     },
     "86a86bc5084e4860b8ce012ddebfebbd": {
      "model_module": "jupyter-leaflet",
      "model_module_version": "^0.19",
      "model_name": "LeafletMapModel",
      "state": {
       "_model_module_version": "^0.19",
       "_view_module_version": "^0.19",
       "bottom": 12416533,
       "center": [
        42.3152960829043,
        -71.1031627617667
       ],
       "controls": [
        "IPY_MODEL_f6716c08c73445dcaf33018e5bb0fc54",
        "IPY_MODEL_9f42c5a3142f448e932017377cf8a694",
        "IPY_MODEL_f947b73e3aad47b2ae9e4b06656b2e8f"
       ],
       "default_style": "IPY_MODEL_d8b31c991759475a8760314950ba6667",
       "dragging_style": "IPY_MODEL_32ca21570dd04d92b4946af5ecefe704",
       "east": -71.09781861305238,
       "fullscreen": false,
       "interpolation": "bilinear",
       "layers": [
        "IPY_MODEL_3c3d94f121d546519ad39e9a4096f539",
        "IPY_MODEL_d9029fe8868d4a15b4168cb87b6e26ce",
        "IPY_MODEL_ee115ebd01384ddea48766bc560c4acd"
       ],
       "layout": "IPY_MODEL_edf9847a57f74c4780fe2ef6486ed0e4",
       "left": 10149422,
       "modisdate": "2025-04-06",
       "north": 42.3168843407199,
       "options": [
        "bounce_at_zoom_limits",
        "box_zoom",
        "center",
        "close_popup_on_click",
        "double_click_zoom",
        "dragging",
        "fullscreen",
        "inertia",
        "inertia_deceleration",
        "inertia_max_speed",
        "interpolation",
        "keyboard",
        "keyboard_pan_offset",
        "keyboard_zoom_offset",
        "max_zoom",
        "min_zoom",
        "prefer_canvas",
        "scroll_wheel_zoom",
        "tap",
        "tap_tolerance",
        "touch_zoom",
        "world_copy_jump",
        "zoom",
        "zoom_animation_threshold",
        "zoom_delta",
        "zoom_snap"
       ],
       "prefer_canvas": false,
       "right": 10150419,
       "south": 42.31371095967724,
       "style": "IPY_MODEL_152bfae25a2a443688113f2a8e43ce51",
       "top": 12416133,
       "west": -71.10851526260377,
       "window_url": "http://localhost:2071/lab/tree/nb_llm/pyvue/examples/vleaflet/layers/WKTLayer.ipynb",
       "zoom": 17
      }
     },
     "8758f57200ff436f8892a60a157cafb1": {
      "model_module": "jupyter-leaflet",
      "model_module_version": "^0.19",
      "model_name": "LeafletMapStyleModel",
      "state": {
       "_model_module_version": "^0.19",
       "cursor": "move"
      }
     },
     "8993c99452354e539a8de9b3655b823d": {
      "model_module": "@jupyter-widgets/controls",
      "model_module_version": "2.0.0",
      "model_name": "VBoxModel",
      "state": {
       "children": [
        "IPY_MODEL_5bdc5af2db0e449b8fe6283067f4d52a"
       ],
       "layout": "IPY_MODEL_4ce97dcacb2a4f03aafcee7143d84585"
      }
     },
     "89b29f631df648ef83f33299679a329e": {
      "model_module": "@jupyter-widgets/controls",
      "model_module_version": "2.0.0",
      "model_name": "VBoxModel",
      "state": {
       "layout": "IPY_MODEL_d4208a2e90aa4b29a2ffb91814bc8aad"
      }
     },
     "8a6f6dde4376498bb495e07b1d67c271": {
      "model_module": "jupyter-leaflet",
      "model_module_version": "^0.19",
      "model_name": "LeafletMapStyleModel",
      "state": {
       "_model_module_version": "^0.19"
      }
     },
     "8ab46fc0f0dd4c63b74b9e38e7d7fe69": {
      "model_module": "jupyter-leaflet",
      "model_module_version": "^0.19",
      "model_name": "LeafletGeoJSONModel",
      "state": {
       "_model_module_version": "^0.19",
       "_view_module_version": "^0.19",
       "data": {
        "geometry": {
         "coordinates": [
          [
           [
            [
             -71.1031880899493,
             42.3152774590236
            ],
            [
             -71.1031627617667,
             42.3152960829043
            ],
            [
             -71.102923838298,
             42.3149156848307
            ],
            [
             -71.1023097974109,
             42.3151969047397
            ],
            [
             -71.1019285062273,
             42.3147384934248
            ],
            [
             -71.102505233663,
             42.3144722937587
            ],
            [
             -71.10277487471,
             42.3141658254797
            ],
            [
             -71.103113945163,
             42.3142739188902
            ],
            [
             -71.10324876416,
             42.31402489987
            ],
            [
             -71.1033002961013,
             42.3140393340215
            ],
            [
             -71.1033488797549,
             42.3139495090772
            ],
            [
             -71.103396240451,
             42.3138632439557
            ],
            [
             -71.1041521907712,
             42.3141153348029
            ],
            [
             -71.1041411411543,
             42.3141545014533
            ],
            [
             -71.1041287795912,
             42.3142114839058
            ],
            [
             -71.1041188134329,
             42.3142693656241
            ],
            [
             -71.1041112482575,
             42.3143272556118
            ],
            [
             -71.1041072845732,
             42.3143851580048
            ],
            [
             -71.1041057218871,
             42.3144430686681
            ],
            [
             -71.1041065602059,
             42.3145009876017
            ],
            [
             -71.1041097995362,
             42.3145589148055
            ],
            [
             -71.1041166403905,
             42.3146168544148
            ],
            [
             -71.1041258822717,
             42.3146748022936
            ],
            [
             -71.1041375307579,
             42.3147318674446
            ],
            [
             -71.1041492906949,
             42.3147711126569
            ],
            [
             -71.1041598612795,
             42.314808571739
            ],
            [
             -71.1042515013869,
             42.3151287620809
            ],
            [
             -71.1041173835118,
             42.3150739481917
            ],
            [
             -71.1040809891419,
             42.3151344119048
            ],
            [
             -71.1040438678912,
             42.3151191367447
            ],
            [
             -71.1040194562988,
             42.3151832057859
            ],
            [
             -71.1038734225584,
             42.3151140942995
            ],
            [
             -71.1038446938243,
             42.3151006300338
            ],
            [
             -71.1038315271889,
             42.315094347535
            ],
            [
             -71.1037393329282,
             42.315054824985
            ],
            [
             -71.1035447555574,
             42.3152608696313
            ],
            [
             -71.1033436658644,
             42.3151648370544
            ],
            [
             -71.1032580383161,
             42.3152269126061
            ],
            [
             -71.103223066939,
             42.3152517403219
            ],
            [
             -71.1031880899493,
             42.3152774590236
            ]
           ]
          ],
          [
           [
            [
             -71.1043632495873,
             42.315113108546
            ],
            [
             -71.1043583974082,
             42.3151211109857
            ],
            [
             -71.1043443253471,
             42.3150676015829
            ],
            [
             -71.1043850704575,
             42.3150793250568
            ],
            [
             -71.1043632495873,
             42.315113108546
            ]
           ]
          ]
         ],
         "type": "MultiPolygon"
        },
        "properties": {},
        "type": "Feature"
       },
       "hover_style": {
        "fillColor": "red"
       },
       "name": "wkt file"
      }
     },
     "8aff82cb2ed84fecbb83a35473adc984": {
      "model_module": "jupyter-leaflet",
      "model_module_version": "^0.19",
      "model_name": "LeafletMapStyleModel",
      "state": {
       "_model_module_version": "^0.19"
      }
     },
     "8d6d3a6e01964b6b9639f7d0531f572a": {
      "model_module": "jupyter-leaflet",
      "model_module_version": "^0.19",
      "model_name": "LeafletAttributionControlModel",
      "state": {
       "_model_module_version": "^0.19",
       "_view_module_version": "^0.19",
       "options": [
        "position",
        "prefix"
       ],
       "position": "bottomright",
       "prefix": "ipyleaflet"
      }
     },
     "903e5005991642c8b8d919b1d3b5ac2c": {
      "model_module": "@jupyter-widgets/base",
      "model_module_version": "2.0.0",
      "model_name": "LayoutModel",
      "state": {}
     },
     "929e3955c73e4beb81080f0913c402ce": {
      "model_module": "@jupyter-widgets/controls",
      "model_module_version": "2.0.0",
      "model_name": "VBoxModel",
      "state": {
       "children": [
        "IPY_MODEL_b310d054d3934cedb05238b325ae79d7"
       ],
       "layout": "IPY_MODEL_19c6aa15e4e243e698ac5c021e9db830"
      }
     },
     "948183b5873a4cde888da181dfb20954": {
      "model_module": "jupyter-leaflet",
      "model_module_version": "^0.19",
      "model_name": "LeafletMapModel",
      "state": {
       "_model_module_version": "^0.19",
       "_view_module_version": "^0.19",
       "bottom": 12416533,
       "center": [
        42.3152960829043,
        -71.1031627617667
       ],
       "controls": [
        "IPY_MODEL_eae095f3af674ce9bb4b1b08a0994380",
        "IPY_MODEL_8d6d3a6e01964b6b9639f7d0531f572a",
        "IPY_MODEL_e92e90938c4c479f89457335e96e6e99"
       ],
       "default_style": "IPY_MODEL_32bbe498eeb543e9aa885a879a3d361f",
       "dragging_style": "IPY_MODEL_44e8b28bb1af4444bd7a82d615df576e",
       "east": -71.09781861305238,
       "fullscreen": false,
       "interpolation": "bilinear",
       "layers": [
        "IPY_MODEL_96b53a139fed47be9d07308327f41d68",
        "IPY_MODEL_7c1600cccc914110b1eb03f902027e25",
        "IPY_MODEL_ddd7a413adb94f7b8440eebfdac8b15c"
       ],
       "layout": "IPY_MODEL_1a464d5e04f440d7a2f163e1335dabfe",
       "left": 10149422,
       "modisdate": "2025-04-06",
       "north": 42.3168843407199,
       "options": [
        "bounce_at_zoom_limits",
        "box_zoom",
        "center",
        "close_popup_on_click",
        "double_click_zoom",
        "dragging",
        "fullscreen",
        "inertia",
        "inertia_deceleration",
        "inertia_max_speed",
        "interpolation",
        "keyboard",
        "keyboard_pan_offset",
        "keyboard_zoom_offset",
        "max_zoom",
        "min_zoom",
        "prefer_canvas",
        "scroll_wheel_zoom",
        "tap",
        "tap_tolerance",
        "touch_zoom",
        "world_copy_jump",
        "zoom",
        "zoom_animation_threshold",
        "zoom_delta",
        "zoom_snap"
       ],
       "prefer_canvas": false,
       "right": 10150419,
       "south": 42.31371095967724,
       "style": "IPY_MODEL_32bbe498eeb543e9aa885a879a3d361f",
       "top": 12416133,
       "west": -71.10851526260377,
       "window_url": "http://localhost:2071/lab/tree/nb_llm/pyvue/examples/vleaflet/layers/WKTLayer.ipynb",
       "zoom": 17
      }
     },
     "956b386e40ac4766aa75d0dcc57ff84f": {
      "model_module": "@jupyter-widgets/controls",
      "model_module_version": "2.0.0",
      "model_name": "VBoxModel",
      "state": {
       "children": [
        "IPY_MODEL_733480e5566745a3af8e655d9f23f39c",
        "IPY_MODEL_d19ef7558445432ab53a03e38ac68977"
       ],
       "layout": "IPY_MODEL_b5827a25ac8040d4bc0f10526f08a72c"
      }
     },
     "96b53a139fed47be9d07308327f41d68": {
      "model_module": "jupyter-leaflet",
      "model_module_version": "^0.19",
      "model_name": "LeafletTileLayerModel",
      "state": {
       "_model_module_version": "^0.19",
       "_view_module_version": "^0.19",
       "attribution": "&copy; <a href=\"https://www.openstreetmap.org/copyright\">OpenStreetMap</a> contributors",
       "base": true,
       "max_zoom": 19,
       "min_zoom": 1,
       "name": "OpenStreetMap.Mapnik",
       "options": [
        "attribution",
        "bounds",
        "detect_retina",
        "max_native_zoom",
        "max_zoom",
        "min_native_zoom",
        "min_zoom",
        "no_wrap",
        "tile_size",
        "tms",
        "zoom_offset"
       ],
       "url": "https://tile.openstreetmap.org/{z}/{x}/{y}.png"
      }
     },
     "9829e26bdf034ecebb9b5eba861eea99": {
      "model_module": "@jupyter-widgets/base",
      "model_module_version": "2.0.0",
      "model_name": "LayoutModel",
      "state": {}
     },
     "9c5f39ae26a84f739b8cc63f698b677b": {
      "model_module": "@jupyter-widgets/base",
      "model_module_version": "2.0.0",
      "model_name": "LayoutModel",
      "state": {}
     },
     "9d40af4770f949dfbcb13b51f30ba3a1": {
      "model_module": "@jupyter-widgets/base",
      "model_module_version": "2.0.0",
      "model_name": "LayoutModel",
      "state": {}
     },
     "9f42c5a3142f448e932017377cf8a694": {
      "model_module": "jupyter-leaflet",
      "model_module_version": "^0.19",
      "model_name": "LeafletAttributionControlModel",
      "state": {
       "_model_module_version": "^0.19",
       "_view_module_version": "^0.19",
       "options": [
        "position",
        "prefix"
       ],
       "position": "bottomright",
       "prefix": "ipyleaflet"
      }
     },
     "a5fbe0b164cd4d7282011605f7553848": {
      "model_module": "@jupyter-widgets/controls",
      "model_module_version": "2.0.0",
      "model_name": "VBoxModel",
      "state": {
       "children": [
        "IPY_MODEL_659aa036e3e94577ae8f4ff36184a9b4",
        "IPY_MODEL_fc86f9f683d74b958051354f7fe677e1"
       ],
       "layout": "IPY_MODEL_9c5f39ae26a84f739b8cc63f698b677b"
      }
     },
     "a6fb1140d5114c0585f3ed082d16a3c1": {
      "model_module": "jupyter-leaflet",
      "model_module_version": "^0.19",
      "model_name": "LeafletLayersControlModel",
      "state": {
       "_model_module_version": "^0.19",
       "_view_module_version": "^0.19",
       "collapsed": false,
       "options": [
        "collapsed",
        "position"
       ]
      }
     },
     "a73fb56a51d1415ba9d45429a9c6e8d4": {
      "model_module": "@jupyter-widgets/controls",
      "model_module_version": "2.0.0",
      "model_name": "VBoxModel",
      "state": {
       "children": [
        "IPY_MODEL_a6fb1140d5114c0585f3ed082d16a3c1"
       ],
       "layout": "IPY_MODEL_6697e2fda6504fb0b0da3b37ede067da"
      }
     },
     "a754fb14fd7846af93fe34bde30bd35f": {
      "model_module": "jupyter-leaflet",
      "model_module_version": "^0.19",
      "model_name": "LeafletGeoJSONModel",
      "state": {
       "_model_module_version": "^0.19",
       "_view_module_version": "^0.19",
       "data": {
        "geometry": {
         "coordinates": [
          [
           [
            10.689697265625,
            -25.0927734375
           ],
           [
            34.595947265625,
            -20.1708984375
           ],
           [
            38.814697265625,
            -35.6396484375
           ],
           [
            13.502197265625,
            -39.1552734375
           ],
           [
            10.689697265625,
            -25.0927734375
           ]
          ]
         ],
         "type": "Polygon"
        },
        "properties": {},
        "type": "Feature"
       },
       "hover_style": {
        "fillColor": "red"
       },
       "name": "wkt str"
      }
     },
     "abf6090fa5aa48b4ba050a04061045b6": {
      "model_module": "anywidget",
      "model_module_version": "~0.9.*",
      "model_name": "AnyModel",
      "state": {
       "_anywidget_id": "ipywui.widgets.custom.message.MessageWidget",
       "_css": ".wui-message-root {\n    display: flex;\n    position: absolute;\n    left: 0;\n    right: 0;\n    top: 0;\n}\n\n.wui-message-container {\n    align-items: center;\n    display: flex;\n    flex-direction: column-reverse;\n    justify-content: center;\n    min-height: 100%;\n    outline: none;\n    width: 100%;\n\n    -webkit-tap-highlight-color: rgba(0,0,0,0);\n    bottom: 0;\n    left: 0;\n    right: 0;\n    top: 0;\n}\n\n.wui-message--success {\n    --wui-message-bg-color: #f0f9eb;\n    --wui-message-border-color: #e1f3d8;\n    --wui-message-text-color: #67c23a;\n}\n.wui-message--warning {\n    --wui-message-bg-color: #fdf6ec;\n    --wui-message-border-color: #faecd8;\n    --wui-message-text-color: #e6a23c;\n}\n.wui-message--info {\n    --wui-message-bg-color: #f4f4f5;\n    --wui-message-border-color: #e9e9eb;\n    --wui-message-text-color: #909399;\n}\n.wui-message--error {\n    --wui-message-bg-color: #fef0f0;\n    --wui-message-border-color: #fde2e2;\n    --wui-message-text-color: #f56c6c;\n}\n\n@keyframes msg-open {\n    0% {\n        opacity: 0;\n        -webkit-transform: translateY(-120%);\n        transform: translateY(-120%)\n    }\n    to {\n        -webkit-transform: translateY(0);\n        transform: translateY(0)\n    }\n}\n\n@keyframes msg-close {\n    0% {\n        opacity: 1;\n        -webkit-transform: scale(1);\n        transform: scale(1)\n    }\n    to {\n        opacity: 0;\n        -webkit-transform: scale(.9);\n        transform: scale(.9)\n    }\n}\n.wui-message[data-state=entered],.wui-message[data-state=entering] {\n    -webkit-animation: msg-open .24s cubic-bezier(.175,.885,.32,1.175) both;\n    animation: msg-open .24s cubic-bezier(.175,.885,.32,1.175) both\n}\n\n.wui-message[data-state=exiting] {\n    -webkit-animation: msg-close .12s cubic-bezier(.4,0,1,1) both;\n    animation: msg-close .12s cubic-bezier(.4,0,1,1) both\n}\n\n.wui-message {\n    width: -webkit-fit-content;\n    width: -moz-fit-content;\n    width: fit-content;\n    z-index: 2004;\n    max-width: calc(100% - 32px);\n    margin-top: 8px;\n    box-sizing: border-box;\n    /*border-radius: var(--wui-border-radius-base);*/\n    /*border-width: var(--wui-border-width);*/\n    /*border-style: var(--wui-border-style);*/\n    border-color: var(--wui-message-border-color);\n    /*left: 50%;*/\n    /*top: 20px;*/\n    /*transform: translateX(-50%);*/\n    background-color: var(--wui-message-bg-color);\n    /*transition: opacity var(--wui-transition-duration),transform .4s,top .4s;*/\n    /*padding: var(--wui-message-padding);*/\n    display: flex;\n    align-items: center;\n}\n\n/*.wui-message--success */\n.wui-message__content {\n    color: var(--wui-message-text-color);\n    font-size: 14px;\n    line-height: 18px;\n    margin: 10px 14px 10px 14px;\n    overflow-wrap: break-word;\n}\n\n.wui-message__closeBtn {\n    /*cursor: pointer;*/\n    font-style: normal;\n    /*color: gray;*/\n    padding-right: 14px;\n    /*font-size: 13px;*/\n    user-select: none;\n\n    background: transparent;\n    border: none;\n    color: gray;\n    cursor: pointer;\n    font-size: 13px;\n    font-weight: 400;\n    line-height: 1;\n    outline: none;\n    /*padding: 4px;*/\n    text-align: center;\n    transition: opacity .3s;\n    /*width: 100%;*/\n}",
       "_esm": "function closeMsg(msgDom) {\n  if (!msgDom) {\n    return;\n  }\n  msgDom.setAttribute('data-state', 'exiting');\n  msgDom.remove();\n}\n\nfunction createMsg(options) {\n  const {message, msg_id, type = 'info', show_close = false} = options;\n  const msgDom = document.createElement('div');\n  msgDom.className += ` wui-message--${type} wui-message`;\n  msgDom.setAttribute('data-state', 'entered');\n  msgDom.setAttribute('id', msg_id);\n  const msgContent = document.createElement('p');\n  msgContent.className += ` wui-message--${type} wui-message__content`;\n  msgContent.innerText = message;\n  msgDom.appendChild(msgContent);\n  if (show_close) {\n    const closeBtn = document.createElement('i');\n    closeBtn.className += 'wui-message__closeBtn';\n    closeBtn.innerText = 'x';\n    closeBtn.addEventListener('click', (ev) => {\n      closeMsg(msgDom);\n    })\n    msgDom.appendChild(closeBtn);\n  }\n  return msgDom;\n}\n\nexport async function render(view) {\n  let model = view.model;\n  const msgRoot = view.el;\n  msgRoot.className += ' wui-message-root'\n\n  const msgContainer = document.createElement('div');\n  msgContainer.className += ' wui-message-container';\n  msgRoot.appendChild(msgContainer)\n\n  model.on(\"change:message_options\", () => {\n    const options = model.get(\"message_options\");\n    const msg = createMsg(options);\n    msgContainer.appendChild(msg);\n    const {duration = 3000} = options;\n    if (duration > 0) {\n      setTimeout(() => {\n        closeMsg(msg)\n      }, duration);\n    }\n  })\n\n  model.on(\"change:close_msg_id\", () => {\n    const msg_id = model.get(\"close_msg_id\");\n    const msgDom = document.getElementById(msg_id);\n    closeMsg(msgDom);\n  })\n}\n",
       "_model_module": "anywidget",
       "_model_module_version": "~0.9.*",
       "_model_name": "AnyModel",
       "_view_module": "anywidget",
       "_view_module_version": "~0.9.*",
       "_view_name": "AnyView",
       "close_msg_id": "",
       "layout": "IPY_MODEL_f449882c83ba4b398c3d08c3c21d4b62",
       "message_options": {
        "duration": 3000,
        "message": "",
        "show_close": false,
        "type": "info"
       }
      }
     },
     "afc2e20e64c94379accba64e35cbd196": {
      "model_module": "jupyter-leaflet",
      "model_module_version": "^0.19",
      "model_name": "LeafletAttributionControlModel",
      "state": {
       "_model_module_version": "^0.19",
       "_view_module_version": "^0.19",
       "options": [
        "position",
        "prefix"
       ],
       "position": "bottomright",
       "prefix": "ipyleaflet"
      }
     },
     "afc6581d11cb4a9a9e73405852f1d7a9": {
      "model_module": "jupyter-leaflet",
      "model_module_version": "^0.19",
      "model_name": "LeafletGeoJSONModel",
      "state": {
       "_model_module_version": "^0.19",
       "_view_module_version": "^0.19",
       "data": {
        "geometry": {
         "coordinates": [
          [
           [
            [
             -71.1031880899493,
             42.3152774590236
            ],
            [
             -71.1031627617667,
             42.3152960829043
            ],
            [
             -71.102923838298,
             42.3149156848307
            ],
            [
             -71.1023097974109,
             42.3151969047397
            ],
            [
             -71.1019285062273,
             42.3147384934248
            ],
            [
             -71.102505233663,
             42.3144722937587
            ],
            [
             -71.10277487471,
             42.3141658254797
            ],
            [
             -71.103113945163,
             42.3142739188902
            ],
            [
             -71.10324876416,
             42.31402489987
            ],
            [
             -71.1033002961013,
             42.3140393340215
            ],
            [
             -71.1033488797549,
             42.3139495090772
            ],
            [
             -71.103396240451,
             42.3138632439557
            ],
            [
             -71.1041521907712,
             42.3141153348029
            ],
            [
             -71.1041411411543,
             42.3141545014533
            ],
            [
             -71.1041287795912,
             42.3142114839058
            ],
            [
             -71.1041188134329,
             42.3142693656241
            ],
            [
             -71.1041112482575,
             42.3143272556118
            ],
            [
             -71.1041072845732,
             42.3143851580048
            ],
            [
             -71.1041057218871,
             42.3144430686681
            ],
            [
             -71.1041065602059,
             42.3145009876017
            ],
            [
             -71.1041097995362,
             42.3145589148055
            ],
            [
             -71.1041166403905,
             42.3146168544148
            ],
            [
             -71.1041258822717,
             42.3146748022936
            ],
            [
             -71.1041375307579,
             42.3147318674446
            ],
            [
             -71.1041492906949,
             42.3147711126569
            ],
            [
             -71.1041598612795,
             42.314808571739
            ],
            [
             -71.1042515013869,
             42.3151287620809
            ],
            [
             -71.1041173835118,
             42.3150739481917
            ],
            [
             -71.1040809891419,
             42.3151344119048
            ],
            [
             -71.1040438678912,
             42.3151191367447
            ],
            [
             -71.1040194562988,
             42.3151832057859
            ],
            [
             -71.1038734225584,
             42.3151140942995
            ],
            [
             -71.1038446938243,
             42.3151006300338
            ],
            [
             -71.1038315271889,
             42.315094347535
            ],
            [
             -71.1037393329282,
             42.315054824985
            ],
            [
             -71.1035447555574,
             42.3152608696313
            ],
            [
             -71.1033436658644,
             42.3151648370544
            ],
            [
             -71.1032580383161,
             42.3152269126061
            ],
            [
             -71.103223066939,
             42.3152517403219
            ],
            [
             -71.1031880899493,
             42.3152774590236
            ]
           ]
          ],
          [
           [
            [
             -71.1043632495873,
             42.315113108546
            ],
            [
             -71.1043583974082,
             42.3151211109857
            ],
            [
             -71.1043443253471,
             42.3150676015829
            ],
            [
             -71.1043850704575,
             42.3150793250568
            ],
            [
             -71.1043632495873,
             42.315113108546
            ]
           ]
          ]
         ],
         "type": "MultiPolygon"
        },
        "properties": {},
        "type": "Feature"
       },
       "hover_style": {
        "fillColor": "red"
       },
       "name": "wkt file"
      }
     },
     "b0fc7a0c19114bf9b5c40e6f59c7a6ca": {
      "model_module": "@jupyter-widgets/controls",
      "model_module_version": "2.0.0",
      "model_name": "VBoxModel",
      "state": {
       "children": [
        "IPY_MODEL_258c226dec42462180ab71c773980d51",
        "IPY_MODEL_c10dcdfb27064e7d95460cc8b352c606"
       ],
       "layout": "IPY_MODEL_dae72fe69376482280e0c397b7673649"
      }
     },
     "b310d054d3934cedb05238b325ae79d7": {
      "model_module": "jupyter-leaflet",
      "model_module_version": "^0.19",
      "model_name": "LeafletMapModel",
      "state": {
       "_model_module_version": "^0.19",
       "_view_module_version": "^0.19",
       "bottom": 12416533,
       "center": [
        42.3152960829043,
        -71.1031627617667
       ],
       "controls": [
        "IPY_MODEL_27d1f456d88a46e7aea340584ce48a13",
        "IPY_MODEL_bfbd9301087d435db3832f743def01b3",
        "IPY_MODEL_a6fb1140d5114c0585f3ed082d16a3c1"
       ],
       "default_style": "IPY_MODEL_bac2328779854210966d4b0435697661",
       "dragging_style": "IPY_MODEL_5cfecf69cf1645d284b753391f51e139",
       "east": -71.09781861305238,
       "fullscreen": false,
       "interpolation": "bilinear",
       "layers": [
        "IPY_MODEL_52c21098270e4ca4945baa4b7e0b3c12",
        "IPY_MODEL_f6f7ab49da574879a41122a4aa2c5243",
        "IPY_MODEL_a754fb14fd7846af93fe34bde30bd35f"
       ],
       "layout": "IPY_MODEL_b48e39e675bd45ee8d9e2b6d2020fb8b",
       "left": 10149422,
       "modisdate": "2025-04-06",
       "north": 42.3168843407199,
       "options": [
        "bounce_at_zoom_limits",
        "box_zoom",
        "center",
        "close_popup_on_click",
        "double_click_zoom",
        "dragging",
        "fullscreen",
        "inertia",
        "inertia_deceleration",
        "inertia_max_speed",
        "interpolation",
        "keyboard",
        "keyboard_pan_offset",
        "keyboard_zoom_offset",
        "max_zoom",
        "min_zoom",
        "prefer_canvas",
        "scroll_wheel_zoom",
        "tap",
        "tap_tolerance",
        "touch_zoom",
        "world_copy_jump",
        "zoom",
        "zoom_animation_threshold",
        "zoom_delta",
        "zoom_snap"
       ],
       "prefer_canvas": false,
       "right": 10150419,
       "south": 42.31371095967724,
       "style": "IPY_MODEL_e036c40268c64c04a34d0f56b6a98a00",
       "top": 12416133,
       "west": -71.10851526260377,
       "window_url": "http://localhost:2071/lab/tree/nb_llm/pyvue/examples/vleaflet/layers/WKTLayer.ipynb",
       "zoom": 17
      }
     },
     "b48e39e675bd45ee8d9e2b6d2020fb8b": {
      "model_module": "@jupyter-widgets/base",
      "model_module_version": "2.0.0",
      "model_name": "LayoutModel",
      "state": {}
     },
     "b5827a25ac8040d4bc0f10526f08a72c": {
      "model_module": "@jupyter-widgets/base",
      "model_module_version": "2.0.0",
      "model_name": "LayoutModel",
      "state": {}
     },
     "bac2328779854210966d4b0435697661": {
      "model_module": "jupyter-leaflet",
      "model_module_version": "^0.19",
      "model_name": "LeafletMapStyleModel",
      "state": {
       "_model_module_version": "^0.19"
      }
     },
     "bbad06450d43488da7469f6cb219c865": {
      "model_module": "jupyter-leaflet",
      "model_module_version": "^0.19",
      "model_name": "LeafletAttributionControlModel",
      "state": {
       "_model_module_version": "^0.19",
       "_view_module_version": "^0.19",
       "options": [
        "position",
        "prefix"
       ],
       "position": "bottomright",
       "prefix": "ipyleaflet"
      }
     },
     "bfbd9301087d435db3832f743def01b3": {
      "model_module": "jupyter-leaflet",
      "model_module_version": "^0.19",
      "model_name": "LeafletAttributionControlModel",
      "state": {
       "_model_module_version": "^0.19",
       "_view_module_version": "^0.19",
       "options": [
        "position",
        "prefix"
       ],
       "position": "bottomright",
       "prefix": "ipyleaflet"
      }
     },
     "c0fc87fdbf874b748b369f1cf5affcdb": {
      "model_module": "@jupyter-widgets/base",
      "model_module_version": "2.0.0",
      "model_name": "LayoutModel",
      "state": {}
     },
     "c10dcdfb27064e7d95460cc8b352c606": {
      "model_module": "@jupyter-widgets/controls",
      "model_module_version": "2.0.0",
      "model_name": "VBoxModel",
      "state": {
       "children": [
        "IPY_MODEL_11c8841ddde9460c9fa7b8a70550eb22"
       ],
       "layout": "IPY_MODEL_6f2c0d73e5394103940e5e519d1269bd"
      }
     },
     "c1a0335e06af4e0d8d25f483f6b2e9cd": {
      "model_module": "@jupyter-widgets/base",
      "model_module_version": "2.0.0",
      "model_name": "LayoutModel",
      "state": {}
     },
     "c381fceeb3cc469488621f4adea05879": {
      "model_module": "jupyter-leaflet",
      "model_module_version": "^0.19",
      "model_name": "LeafletGeoJSONModel",
      "state": {
       "_model_module_version": "^0.19",
       "_view_module_version": "^0.19",
       "data": {
        "geometry": {
         "coordinates": [
          [
           [
            -71.1043632495873,
            42.315113108546
           ],
           [
            -71.1043583974082,
            42.3151211109857
           ],
           [
            -71.1043443253471,
            42.3150676015829
           ],
           [
            -71.1043850704575,
            42.3150793250568
           ],
           [
            -71.1043632495873,
            42.315113108546
           ]
          ]
         ],
         "type": "Polygon"
        },
        "properties": {},
        "type": "Feature"
       },
       "hover_style": {
        "fillColor": "red"
       },
       "name": "wkt str"
      }
     },
     "c5a88c1074144919ae261d751b107bd9": {
      "model_module": "@jupyter-widgets/base",
      "model_module_version": "2.0.0",
      "model_name": "LayoutModel",
      "state": {}
     },
     "cbaf1b65851b41d8895d887f8deff29a": {
      "model_module": "@jupyter-widgets/base",
      "model_module_version": "2.0.0",
      "model_name": "LayoutModel",
      "state": {}
     },
     "cc4fd4cac51f498abbae164c343c2b16": {
      "model_module": "anywidget",
      "model_module_version": "~0.9.*",
      "model_name": "AnyModel",
      "state": {
       "_anywidget_id": "ipywui.widgets.custom.message.MessageWidget",
       "_css": ".wui-message-root {\n    display: flex;\n    position: absolute;\n    left: 0;\n    right: 0;\n    top: 0;\n}\n\n.wui-message-container {\n    align-items: center;\n    display: flex;\n    flex-direction: column-reverse;\n    justify-content: center;\n    min-height: 100%;\n    outline: none;\n    width: 100%;\n\n    -webkit-tap-highlight-color: rgba(0,0,0,0);\n    bottom: 0;\n    left: 0;\n    right: 0;\n    top: 0;\n}\n\n.wui-message--success {\n    --wui-message-bg-color: #f0f9eb;\n    --wui-message-border-color: #e1f3d8;\n    --wui-message-text-color: #67c23a;\n}\n.wui-message--warning {\n    --wui-message-bg-color: #fdf6ec;\n    --wui-message-border-color: #faecd8;\n    --wui-message-text-color: #e6a23c;\n}\n.wui-message--info {\n    --wui-message-bg-color: #f4f4f5;\n    --wui-message-border-color: #e9e9eb;\n    --wui-message-text-color: #909399;\n}\n.wui-message--error {\n    --wui-message-bg-color: #fef0f0;\n    --wui-message-border-color: #fde2e2;\n    --wui-message-text-color: #f56c6c;\n}\n\n@keyframes msg-open {\n    0% {\n        opacity: 0;\n        -webkit-transform: translateY(-120%);\n        transform: translateY(-120%)\n    }\n    to {\n        -webkit-transform: translateY(0);\n        transform: translateY(0)\n    }\n}\n\n@keyframes msg-close {\n    0% {\n        opacity: 1;\n        -webkit-transform: scale(1);\n        transform: scale(1)\n    }\n    to {\n        opacity: 0;\n        -webkit-transform: scale(.9);\n        transform: scale(.9)\n    }\n}\n.wui-message[data-state=entered],.wui-message[data-state=entering] {\n    -webkit-animation: msg-open .24s cubic-bezier(.175,.885,.32,1.175) both;\n    animation: msg-open .24s cubic-bezier(.175,.885,.32,1.175) both\n}\n\n.wui-message[data-state=exiting] {\n    -webkit-animation: msg-close .12s cubic-bezier(.4,0,1,1) both;\n    animation: msg-close .12s cubic-bezier(.4,0,1,1) both\n}\n\n.wui-message {\n    width: -webkit-fit-content;\n    width: -moz-fit-content;\n    width: fit-content;\n    z-index: 2004;\n    max-width: calc(100% - 32px);\n    margin-top: 8px;\n    box-sizing: border-box;\n    /*border-radius: var(--wui-border-radius-base);*/\n    /*border-width: var(--wui-border-width);*/\n    /*border-style: var(--wui-border-style);*/\n    border-color: var(--wui-message-border-color);\n    /*left: 50%;*/\n    /*top: 20px;*/\n    /*transform: translateX(-50%);*/\n    background-color: var(--wui-message-bg-color);\n    /*transition: opacity var(--wui-transition-duration),transform .4s,top .4s;*/\n    /*padding: var(--wui-message-padding);*/\n    display: flex;\n    align-items: center;\n}\n\n/*.wui-message--success */\n.wui-message__content {\n    color: var(--wui-message-text-color);\n    font-size: 14px;\n    line-height: 18px;\n    margin: 10px 14px 10px 14px;\n    overflow-wrap: break-word;\n}\n\n.wui-message__closeBtn {\n    /*cursor: pointer;*/\n    font-style: normal;\n    /*color: gray;*/\n    padding-right: 14px;\n    /*font-size: 13px;*/\n    user-select: none;\n\n    background: transparent;\n    border: none;\n    color: gray;\n    cursor: pointer;\n    font-size: 13px;\n    font-weight: 400;\n    line-height: 1;\n    outline: none;\n    /*padding: 4px;*/\n    text-align: center;\n    transition: opacity .3s;\n    /*width: 100%;*/\n}",
       "_esm": "function closeMsg(msgDom) {\n  if (!msgDom) {\n    return;\n  }\n  msgDom.setAttribute('data-state', 'exiting');\n  msgDom.remove();\n}\n\nfunction createMsg(options) {\n  const {message, msg_id, type = 'info', show_close = false} = options;\n  const msgDom = document.createElement('div');\n  msgDom.className += ` wui-message--${type} wui-message`;\n  msgDom.setAttribute('data-state', 'entered');\n  msgDom.setAttribute('id', msg_id);\n  const msgContent = document.createElement('p');\n  msgContent.className += ` wui-message--${type} wui-message__content`;\n  msgContent.innerText = message;\n  msgDom.appendChild(msgContent);\n  if (show_close) {\n    const closeBtn = document.createElement('i');\n    closeBtn.className += 'wui-message__closeBtn';\n    closeBtn.innerText = 'x';\n    closeBtn.addEventListener('click', (ev) => {\n      closeMsg(msgDom);\n    })\n    msgDom.appendChild(closeBtn);\n  }\n  return msgDom;\n}\n\nexport async function render(view) {\n  let model = view.model;\n  const msgRoot = view.el;\n  msgRoot.className += ' wui-message-root'\n\n  const msgContainer = document.createElement('div');\n  msgContainer.className += ' wui-message-container';\n  msgRoot.appendChild(msgContainer)\n\n  model.on(\"change:message_options\", () => {\n    const options = model.get(\"message_options\");\n    const msg = createMsg(options);\n    msgContainer.appendChild(msg);\n    const {duration = 3000} = options;\n    if (duration > 0) {\n      setTimeout(() => {\n        closeMsg(msg)\n      }, duration);\n    }\n  })\n\n  model.on(\"change:close_msg_id\", () => {\n    const msg_id = model.get(\"close_msg_id\");\n    const msgDom = document.getElementById(msg_id);\n    closeMsg(msgDom);\n  })\n}\n",
       "_model_module": "anywidget",
       "_model_module_version": "~0.9.*",
       "_model_name": "AnyModel",
       "_view_module": "anywidget",
       "_view_module_version": "~0.9.*",
       "_view_name": "AnyView",
       "close_msg_id": "",
       "layout": "IPY_MODEL_e36f44801ba44e53b7c30998d21ea03c",
       "message_options": {
        "duration": 3000,
        "message": "",
        "show_close": false,
        "type": "info"
       }
      }
     },
     "cd211f50e17c438bbf376394b0961f78": {
      "model_module": "@jupyter-widgets/base",
      "model_module_version": "2.0.0",
      "model_name": "LayoutModel",
      "state": {}
     },
     "d19ef7558445432ab53a03e38ac68977": {
      "model_module": "@jupyter-widgets/controls",
      "model_module_version": "2.0.0",
      "model_name": "VBoxModel",
      "state": {
       "children": [
        "IPY_MODEL_86a86bc5084e4860b8ce012ddebfebbd"
       ],
       "layout": "IPY_MODEL_ef1b9d4d6cf849038e79d48419c1f32c"
      }
     },
     "d1c8f0c971524e4f8ccf4c20f499f9ec": {
      "model_module": "@jupyter-widgets/controls",
      "model_module_version": "2.0.0",
      "model_name": "VBoxModel",
      "state": {
       "children": [
        "IPY_MODEL_7edf95bcd82840e684f421de77120671"
       ],
       "layout": "IPY_MODEL_7d63a47b0a4043eb800f6733ec36869a"
      }
     },
     "d218d43e81e8461f90c8180c7af5916f": {
      "model_module": "@jupyter-widgets/base",
      "model_module_version": "2.0.0",
      "model_name": "LayoutModel",
      "state": {}
     },
     "d4208a2e90aa4b29a2ffb91814bc8aad": {
      "model_module": "@jupyter-widgets/base",
      "model_module_version": "2.0.0",
      "model_name": "LayoutModel",
      "state": {}
     },
     "d8b31c991759475a8760314950ba6667": {
      "model_module": "jupyter-leaflet",
      "model_module_version": "^0.19",
      "model_name": "LeafletMapStyleModel",
      "state": {
       "_model_module_version": "^0.19"
      }
     },
     "d9029fe8868d4a15b4168cb87b6e26ce": {
      "model_module": "jupyter-leaflet",
      "model_module_version": "^0.19",
      "model_name": "LeafletGeoJSONModel",
      "state": {
       "_model_module_version": "^0.19",
       "_view_module_version": "^0.19",
       "data": {
        "geometry": {
         "coordinates": [
          [
           [
            [
             -71.1031880899493,
             42.3152774590236
            ],
            [
             -71.1031627617667,
             42.3152960829043
            ],
            [
             -71.102923838298,
             42.3149156848307
            ],
            [
             -71.1023097974109,
             42.3151969047397
            ],
            [
             -71.1019285062273,
             42.3147384934248
            ],
            [
             -71.102505233663,
             42.3144722937587
            ],
            [
             -71.10277487471,
             42.3141658254797
            ],
            [
             -71.103113945163,
             42.3142739188902
            ],
            [
             -71.10324876416,
             42.31402489987
            ],
            [
             -71.1033002961013,
             42.3140393340215
            ],
            [
             -71.1033488797549,
             42.3139495090772
            ],
            [
             -71.103396240451,
             42.3138632439557
            ],
            [
             -71.1041521907712,
             42.3141153348029
            ],
            [
             -71.1041411411543,
             42.3141545014533
            ],
            [
             -71.1041287795912,
             42.3142114839058
            ],
            [
             -71.1041188134329,
             42.3142693656241
            ],
            [
             -71.1041112482575,
             42.3143272556118
            ],
            [
             -71.1041072845732,
             42.3143851580048
            ],
            [
             -71.1041057218871,
             42.3144430686681
            ],
            [
             -71.1041065602059,
             42.3145009876017
            ],
            [
             -71.1041097995362,
             42.3145589148055
            ],
            [
             -71.1041166403905,
             42.3146168544148
            ],
            [
             -71.1041258822717,
             42.3146748022936
            ],
            [
             -71.1041375307579,
             42.3147318674446
            ],
            [
             -71.1041492906949,
             42.3147711126569
            ],
            [
             -71.1041598612795,
             42.314808571739
            ],
            [
             -71.1042515013869,
             42.3151287620809
            ],
            [
             -71.1041173835118,
             42.3150739481917
            ],
            [
             -71.1040809891419,
             42.3151344119048
            ],
            [
             -71.1040438678912,
             42.3151191367447
            ],
            [
             -71.1040194562988,
             42.3151832057859
            ],
            [
             -71.1038734225584,
             42.3151140942995
            ],
            [
             -71.1038446938243,
             42.3151006300338
            ],
            [
             -71.1038315271889,
             42.315094347535
            ],
            [
             -71.1037393329282,
             42.315054824985
            ],
            [
             -71.1035447555574,
             42.3152608696313
            ],
            [
             -71.1033436658644,
             42.3151648370544
            ],
            [
             -71.1032580383161,
             42.3152269126061
            ],
            [
             -71.103223066939,
             42.3152517403219
            ],
            [
             -71.1031880899493,
             42.3152774590236
            ]
           ]
          ],
          [
           [
            [
             -71.1043632495873,
             42.315113108546
            ],
            [
             -71.1043583974082,
             42.3151211109857
            ],
            [
             -71.1043443253471,
             42.3150676015829
            ],
            [
             -71.1043850704575,
             42.3150793250568
            ],
            [
             -71.1043632495873,
             42.315113108546
            ]
           ]
          ]
         ],
         "type": "MultiPolygon"
        },
        "properties": {},
        "type": "Feature"
       },
       "hover_style": {
        "fillColor": "red"
       },
       "name": "wkt file"
      }
     },
     "dae72fe69376482280e0c397b7673649": {
      "model_module": "@jupyter-widgets/base",
      "model_module_version": "2.0.0",
      "model_name": "LayoutModel",
      "state": {}
     },
     "ddd7a413adb94f7b8440eebfdac8b15c": {
      "model_module": "jupyter-leaflet",
      "model_module_version": "^0.19",
      "model_name": "LeafletGeoJSONModel",
      "state": {
       "_model_module_version": "^0.19",
       "_view_module_version": "^0.19",
       "data": {
        "geometry": {
         "coordinates": [
          [
           [
            10.689697265625,
            -25.0927734375
           ],
           [
            34.595947265625,
            -20.1708984375
           ],
           [
            38.814697265625,
            -35.6396484375
           ],
           [
            13.502197265625,
            -39.1552734375
           ],
           [
            10.689697265625,
            -25.0927734375
           ]
          ]
         ],
         "type": "Polygon"
        },
        "properties": {},
        "type": "Feature"
       },
       "hover_style": {
        "fillColor": "red"
       },
       "name": "wkt str"
      }
     },
     "e036c40268c64c04a34d0f56b6a98a00": {
      "model_module": "jupyter-leaflet",
      "model_module_version": "^0.19",
      "model_name": "LeafletMapStyleModel",
      "state": {
       "_model_module_version": "^0.19"
      }
     },
     "e1a0684e86f74b959e150518b95ce6ed": {
      "model_module": "jupyter-leaflet",
      "model_module_version": "^0.19",
      "model_name": "LeafletMapStyleModel",
      "state": {
       "_model_module_version": "^0.19",
       "cursor": "move"
      }
     },
     "e349c2844a4641adb377fc2946abc3a0": {
      "model_module": "@jupyter-widgets/base",
      "model_module_version": "2.0.0",
      "model_name": "LayoutModel",
      "state": {}
     },
     "e36f44801ba44e53b7c30998d21ea03c": {
      "model_module": "@jupyter-widgets/base",
      "model_module_version": "2.0.0",
      "model_name": "LayoutModel",
      "state": {}
     },
     "e45374c4d7e64d1c9019adccc19ed111": {
      "model_module": "@jupyter-widgets/controls",
      "model_module_version": "2.0.0",
      "model_name": "VBoxModel",
      "state": {
       "children": [
        "IPY_MODEL_d9029fe8868d4a15b4168cb87b6e26ce",
        "IPY_MODEL_ee115ebd01384ddea48766bc560c4acd"
       ],
       "layout": "IPY_MODEL_63d280849f1b4208abba14f9bdf2d20e"
      }
     },
     "e6091f8fce1c4489b0fa708635b164cd": {
      "model_module": "@jupyter-widgets/controls",
      "model_module_version": "2.0.0",
      "model_name": "VBoxModel",
      "state": {
       "children": [
        "IPY_MODEL_54ea3891a9244f4d81c7338b5395467f"
       ],
       "layout": "IPY_MODEL_c1a0335e06af4e0d8d25f483f6b2e9cd"
      }
     },
     "e67a939cdb824c1a8a69203c1037c7bb": {
      "model_module": "@jupyter-widgets/controls",
      "model_module_version": "2.0.0",
      "model_name": "VBoxModel",
      "state": {
       "children": [
        "IPY_MODEL_cc4fd4cac51f498abbae164c343c2b16",
        "IPY_MODEL_50819908d09743c8902333a9c86e9751"
       ],
       "layout": "IPY_MODEL_864f4af730f14465a0c452cc3bb88829"
      }
     },
     "e92e90938c4c479f89457335e96e6e99": {
      "model_module": "jupyter-leaflet",
      "model_module_version": "^0.19",
      "model_name": "LeafletLayersControlModel",
      "state": {
       "_model_module_version": "^0.19",
       "_view_module_version": "^0.19",
       "collapsed": false,
       "options": [
        "collapsed",
        "position"
       ]
      }
     },
     "eae095f3af674ce9bb4b1b08a0994380": {
      "model_module": "jupyter-leaflet",
      "model_module_version": "^0.19",
      "model_name": "LeafletZoomControlModel",
      "state": {
       "_model_module_version": "^0.19",
       "_view_module_version": "^0.19",
       "options": [
        "position",
        "zoom_in_text",
        "zoom_in_title",
        "zoom_out_text",
        "zoom_out_title"
       ]
      }
     },
     "ed58f4997e894b4092b54abc2496c777": {
      "model_module": "@jupyter-widgets/controls",
      "model_module_version": "2.0.0",
      "model_name": "VBoxModel",
      "state": {
       "children": [
        "IPY_MODEL_f6f7ab49da574879a41122a4aa2c5243",
        "IPY_MODEL_a754fb14fd7846af93fe34bde30bd35f"
       ],
       "layout": "IPY_MODEL_fd7c9467cb0e411ea966ed64206fc5ac"
      }
     },
     "edf9847a57f74c4780fe2ef6486ed0e4": {
      "model_module": "@jupyter-widgets/base",
      "model_module_version": "2.0.0",
      "model_name": "LayoutModel",
      "state": {}
     },
     "ee115ebd01384ddea48766bc560c4acd": {
      "model_module": "jupyter-leaflet",
      "model_module_version": "^0.19",
      "model_name": "LeafletGeoJSONModel",
      "state": {
       "_model_module_version": "^0.19",
       "_view_module_version": "^0.19",
       "data": {
        "geometry": {
         "coordinates": [
          [
           [
            10.689697265625,
            -25.0927734375
           ],
           [
            34.595947265625,
            -20.1708984375
           ],
           [
            38.814697265625,
            -35.6396484375
           ],
           [
            13.502197265625,
            -39.1552734375
           ],
           [
            10.689697265625,
            -25.0927734375
           ]
          ]
         ],
         "type": "Polygon"
        },
        "properties": {},
        "type": "Feature"
       },
       "hover_style": {
        "fillColor": "red"
       },
       "name": "wkt str"
      }
     },
     "ef1b9d4d6cf849038e79d48419c1f32c": {
      "model_module": "@jupyter-widgets/base",
      "model_module_version": "2.0.0",
      "model_name": "LayoutModel",
      "state": {}
     },
     "f0796ec4b981457b906d88b6ee8b85fc": {
      "model_module": "@jupyter-widgets/output",
      "model_module_version": "1.0.0",
      "model_name": "OutputModel",
      "state": {
       "layout": "IPY_MODEL_f16d82687e754d16b952c5dbf612943b",
       "outputs": [
        {
         "name": "stdout",
         "output_type": "stream",
         "text": "2025-04-07 00:21:14,415 [INFO] api_create_app.py:render:126 - App render end.\n"
        },
        {
         "name": "stdout",
         "output_type": "stream",
         "text": "2025-04-07 00:21:14,408 [INFO] sfc_codegen.py:render:165 - 🔥 Rerender SFC<__tmp_for_str.vue> at 4484411072\n"
        },
        {
         "name": "stdout",
         "output_type": "stream",
         "text": "2025-04-07 00:21:14,408 [INFO] api_create_app.py:render:116 - App render start.\n"
        },
        {
         "name": "stdout",
         "output_type": "stream",
         "text": "2025-04-07 00:20:59,569 [INFO] sfc_codegen.py:render:165 - 🔥 Rerender SFC<__tmp_for_str.vue> at 4519968192\n"
        },
        {
         "name": "stdout",
         "output_type": "stream",
         "text": "2025-04-07 00:20:59,568 [INFO] api_create_app.py:render:116 - App render start.\n"
        },
        {
         "name": "stdout",
         "output_type": "stream",
         "text": "2025-04-07 00:20:33,227 [INFO] sfc_codegen.py:render:165 - 🔥 Rerender SFC<__tmp_for_str.vue> at 4392517200\n"
        },
        {
         "name": "stdout",
         "output_type": "stream",
         "text": "2025-04-07 00:20:33,227 [INFO] api_create_app.py:render:116 - App render start.\n"
        },
        {
         "name": "stdout",
         "output_type": "stream",
         "text": "2025-04-07 00:19:48,197 [INFO] api_create_app.py:render:126 - App render end.\n"
        },
        {
         "name": "stdout",
         "output_type": "stream",
         "text": "2025-04-07 00:19:48,189 [INFO] sfc_codegen.py:render:165 - 🔥 Rerender SFC<__tmp_for_str.vue> at 4484509376\n"
        },
        {
         "name": "stdout",
         "output_type": "stream",
         "text": "2025-04-07 00:19:48,188 [INFO] api_create_app.py:render:116 - App render start.\n"
        },
        {
         "name": "stdout",
         "output_type": "stream",
         "text": "2025-04-07 00:17:41,768 [INFO] api_create_app.py:render:126 - App render end.\n"
        },
        {
         "name": "stdout",
         "output_type": "stream",
         "text": "2025-04-07 00:17:41,759 [INFO] sfc_codegen.py:render:165 - 🔥 Rerender SFC<__tmp_for_str.vue> at 4484414912\n"
        },
        {
         "name": "stdout",
         "output_type": "stream",
         "text": "2025-04-07 00:17:41,759 [INFO] api_create_app.py:render:116 - App render start.\n"
        },
        {
         "name": "stdout",
         "output_type": "stream",
         "text": "2025-04-07 00:14:13,054 [INFO] api_create_app.py:render:126 - App render end.\n"
        },
        {
         "name": "stdout",
         "output_type": "stream",
         "text": "2025-04-07 00:14:10,739 [INFO] sfc_codegen.py:render:165 - 🔥 Rerender SFC<__tmp_for_str.vue> at 4475779632\n"
        },
        {
         "name": "stdout",
         "output_type": "stream",
         "text": "2025-04-07 00:14:10,738 [INFO] api_create_app.py:render:116 - App render start.\n"
        },
        {
         "name": "stdout",
         "output_type": "stream",
         "text": "2025-04-07 00:13:36,616 [INFO] sfc_codegen.py:render:165 - 🔥 Rerender SFC<__tmp_for_str.vue> at 4426432224\n"
        },
        {
         "name": "stdout",
         "output_type": "stream",
         "text": "2025-04-07 00:13:36,616 [INFO] api_create_app.py:render:116 - App render start.\n"
        }
       ]
      }
     },
     "f0cf2170d7f34660ba2a7448e159c5b8": {
      "model_module": "jupyter-leaflet",
      "model_module_version": "^0.19",
      "model_name": "LeafletMapStyleModel",
      "state": {
       "_model_module_version": "^0.19"
      }
     },
     "f16d82687e754d16b952c5dbf612943b": {
      "model_module": "@jupyter-widgets/base",
      "model_module_version": "2.0.0",
      "model_name": "LayoutModel",
      "state": {}
     },
     "f1fa4bbd54a84151b370a8c7a2c791bb": {
      "model_module": "@jupyter-widgets/base",
      "model_module_version": "2.0.0",
      "model_name": "LayoutModel",
      "state": {}
     },
     "f2b9d2dbaed446a4b614a4bae5ac5e65": {
      "model_module": "@jupyter-widgets/base",
      "model_module_version": "2.0.0",
      "model_name": "LayoutModel",
      "state": {}
     },
     "f449882c83ba4b398c3d08c3c21d4b62": {
      "model_module": "@jupyter-widgets/base",
      "model_module_version": "2.0.0",
      "model_name": "LayoutModel",
      "state": {}
     },
     "f6716c08c73445dcaf33018e5bb0fc54": {
      "model_module": "jupyter-leaflet",
      "model_module_version": "^0.19",
      "model_name": "LeafletZoomControlModel",
      "state": {
       "_model_module_version": "^0.19",
       "_view_module_version": "^0.19",
       "options": [
        "position",
        "zoom_in_text",
        "zoom_in_title",
        "zoom_out_text",
        "zoom_out_title"
       ]
      }
     },
     "f6f7ab49da574879a41122a4aa2c5243": {
      "model_module": "jupyter-leaflet",
      "model_module_version": "^0.19",
      "model_name": "LeafletGeoJSONModel",
      "state": {
       "_model_module_version": "^0.19",
       "_view_module_version": "^0.19",
       "data": {
        "geometry": {
         "coordinates": [
          [
           [
            [
             -71.1031880899493,
             42.3152774590236
            ],
            [
             -71.1031627617667,
             42.3152960829043
            ],
            [
             -71.102923838298,
             42.3149156848307
            ],
            [
             -71.1023097974109,
             42.3151969047397
            ],
            [
             -71.1019285062273,
             42.3147384934248
            ],
            [
             -71.102505233663,
             42.3144722937587
            ],
            [
             -71.10277487471,
             42.3141658254797
            ],
            [
             -71.103113945163,
             42.3142739188902
            ],
            [
             -71.10324876416,
             42.31402489987
            ],
            [
             -71.1033002961013,
             42.3140393340215
            ],
            [
             -71.1033488797549,
             42.3139495090772
            ],
            [
             -71.103396240451,
             42.3138632439557
            ],
            [
             -71.1041521907712,
             42.3141153348029
            ],
            [
             -71.1041411411543,
             42.3141545014533
            ],
            [
             -71.1041287795912,
             42.3142114839058
            ],
            [
             -71.1041188134329,
             42.3142693656241
            ],
            [
             -71.1041112482575,
             42.3143272556118
            ],
            [
             -71.1041072845732,
             42.3143851580048
            ],
            [
             -71.1041057218871,
             42.3144430686681
            ],
            [
             -71.1041065602059,
             42.3145009876017
            ],
            [
             -71.1041097995362,
             42.3145589148055
            ],
            [
             -71.1041166403905,
             42.3146168544148
            ],
            [
             -71.1041258822717,
             42.3146748022936
            ],
            [
             -71.1041375307579,
             42.3147318674446
            ],
            [
             -71.1041492906949,
             42.3147711126569
            ],
            [
             -71.1041598612795,
             42.314808571739
            ],
            [
             -71.1042515013869,
             42.3151287620809
            ],
            [
             -71.1041173835118,
             42.3150739481917
            ],
            [
             -71.1040809891419,
             42.3151344119048
            ],
            [
             -71.1040438678912,
             42.3151191367447
            ],
            [
             -71.1040194562988,
             42.3151832057859
            ],
            [
             -71.1038734225584,
             42.3151140942995
            ],
            [
             -71.1038446938243,
             42.3151006300338
            ],
            [
             -71.1038315271889,
             42.315094347535
            ],
            [
             -71.1037393329282,
             42.315054824985
            ],
            [
             -71.1035447555574,
             42.3152608696313
            ],
            [
             -71.1033436658644,
             42.3151648370544
            ],
            [
             -71.1032580383161,
             42.3152269126061
            ],
            [
             -71.103223066939,
             42.3152517403219
            ],
            [
             -71.1031880899493,
             42.3152774590236
            ]
           ]
          ],
          [
           [
            [
             -71.1043632495873,
             42.315113108546
            ],
            [
             -71.1043583974082,
             42.3151211109857
            ],
            [
             -71.1043443253471,
             42.3150676015829
            ],
            [
             -71.1043850704575,
             42.3150793250568
            ],
            [
             -71.1043632495873,
             42.315113108546
            ]
           ]
          ]
         ],
         "type": "MultiPolygon"
        },
        "properties": {},
        "type": "Feature"
       },
       "hover_style": {
        "fillColor": "red"
       },
       "name": "wkt file"
      }
     },
     "f71e22a368c24485ab2b040470606e39": {
      "model_module": "@jupyter-widgets/controls",
      "model_module_version": "2.0.0",
      "model_name": "VBoxModel",
      "state": {
       "children": [
        "IPY_MODEL_f947b73e3aad47b2ae9e4b06656b2e8f"
       ],
       "layout": "IPY_MODEL_252e2ad309d24880b99f681fd590a46e"
      }
     },
     "f82dec63056c403ba0485b621a6ac250": {
      "model_module": "@jupyter-widgets/base",
      "model_module_version": "2.0.0",
      "model_name": "LayoutModel",
      "state": {}
     },
     "f8d7353c4eee441284e28013205939a5": {
      "model_module": "@jupyter-widgets/controls",
      "model_module_version": "2.0.0",
      "model_name": "VBoxModel",
      "state": {
       "layout": "IPY_MODEL_150a2a5f6b12481d9ed635489b5b5997"
      }
     },
     "f947b73e3aad47b2ae9e4b06656b2e8f": {
      "model_module": "jupyter-leaflet",
      "model_module_version": "^0.19",
      "model_name": "LeafletLayersControlModel",
      "state": {
       "_model_module_version": "^0.19",
       "_view_module_version": "^0.19",
       "collapsed": false,
       "options": [
        "collapsed",
        "position"
       ]
      }
     },
     "fc35a338027341cbadb7495d9d136e88": {
      "model_module": "@jupyter-widgets/base",
      "model_module_version": "2.0.0",
      "model_name": "LayoutModel",
      "state": {}
     },
     "fc86f9f683d74b958051354f7fe677e1": {
      "model_module": "@jupyter-widgets/controls",
      "model_module_version": "2.0.0",
      "model_name": "VBoxModel",
      "state": {
       "children": [
        "IPY_MODEL_5bc7ee2bc69441b0ad2d28e5777492dc"
       ],
       "layout": "IPY_MODEL_26fdd9e327054082997904478a3e7b66"
      }
     },
     "fd7c9467cb0e411ea966ed64206fc5ac": {
      "model_module": "@jupyter-widgets/base",
      "model_module_version": "2.0.0",
      "model_name": "LayoutModel",
      "state": {}
     },
     "fde4d1a048df48dcbbf8f14a19111a1e": {
      "model_module": "anywidget",
      "model_module_version": "~0.9.*",
      "model_name": "AnyModel",
      "state": {
       "_anywidget_id": "ipywui.widgets.custom.message.MessageWidget",
       "_css": ".wui-message-root {\n    display: flex;\n    position: absolute;\n    left: 0;\n    right: 0;\n    top: 0;\n}\n\n.wui-message-container {\n    align-items: center;\n    display: flex;\n    flex-direction: column-reverse;\n    justify-content: center;\n    min-height: 100%;\n    outline: none;\n    width: 100%;\n\n    -webkit-tap-highlight-color: rgba(0,0,0,0);\n    bottom: 0;\n    left: 0;\n    right: 0;\n    top: 0;\n}\n\n.wui-message--success {\n    --wui-message-bg-color: #f0f9eb;\n    --wui-message-border-color: #e1f3d8;\n    --wui-message-text-color: #67c23a;\n}\n.wui-message--warning {\n    --wui-message-bg-color: #fdf6ec;\n    --wui-message-border-color: #faecd8;\n    --wui-message-text-color: #e6a23c;\n}\n.wui-message--info {\n    --wui-message-bg-color: #f4f4f5;\n    --wui-message-border-color: #e9e9eb;\n    --wui-message-text-color: #909399;\n}\n.wui-message--error {\n    --wui-message-bg-color: #fef0f0;\n    --wui-message-border-color: #fde2e2;\n    --wui-message-text-color: #f56c6c;\n}\n\n@keyframes msg-open {\n    0% {\n        opacity: 0;\n        -webkit-transform: translateY(-120%);\n        transform: translateY(-120%)\n    }\n    to {\n        -webkit-transform: translateY(0);\n        transform: translateY(0)\n    }\n}\n\n@keyframes msg-close {\n    0% {\n        opacity: 1;\n        -webkit-transform: scale(1);\n        transform: scale(1)\n    }\n    to {\n        opacity: 0;\n        -webkit-transform: scale(.9);\n        transform: scale(.9)\n    }\n}\n.wui-message[data-state=entered],.wui-message[data-state=entering] {\n    -webkit-animation: msg-open .24s cubic-bezier(.175,.885,.32,1.175) both;\n    animation: msg-open .24s cubic-bezier(.175,.885,.32,1.175) both\n}\n\n.wui-message[data-state=exiting] {\n    -webkit-animation: msg-close .12s cubic-bezier(.4,0,1,1) both;\n    animation: msg-close .12s cubic-bezier(.4,0,1,1) both\n}\n\n.wui-message {\n    width: -webkit-fit-content;\n    width: -moz-fit-content;\n    width: fit-content;\n    z-index: 2004;\n    max-width: calc(100% - 32px);\n    margin-top: 8px;\n    box-sizing: border-box;\n    /*border-radius: var(--wui-border-radius-base);*/\n    /*border-width: var(--wui-border-width);*/\n    /*border-style: var(--wui-border-style);*/\n    border-color: var(--wui-message-border-color);\n    /*left: 50%;*/\n    /*top: 20px;*/\n    /*transform: translateX(-50%);*/\n    background-color: var(--wui-message-bg-color);\n    /*transition: opacity var(--wui-transition-duration),transform .4s,top .4s;*/\n    /*padding: var(--wui-message-padding);*/\n    display: flex;\n    align-items: center;\n}\n\n/*.wui-message--success */\n.wui-message__content {\n    color: var(--wui-message-text-color);\n    font-size: 14px;\n    line-height: 18px;\n    margin: 10px 14px 10px 14px;\n    overflow-wrap: break-word;\n}\n\n.wui-message__closeBtn {\n    /*cursor: pointer;*/\n    font-style: normal;\n    /*color: gray;*/\n    padding-right: 14px;\n    /*font-size: 13px;*/\n    user-select: none;\n\n    background: transparent;\n    border: none;\n    color: gray;\n    cursor: pointer;\n    font-size: 13px;\n    font-weight: 400;\n    line-height: 1;\n    outline: none;\n    /*padding: 4px;*/\n    text-align: center;\n    transition: opacity .3s;\n    /*width: 100%;*/\n}",
       "_esm": "function closeMsg(msgDom) {\n  if (!msgDom) {\n    return;\n  }\n  msgDom.setAttribute('data-state', 'exiting');\n  msgDom.remove();\n}\n\nfunction createMsg(options) {\n  const {message, msg_id, type = 'info', show_close = false} = options;\n  const msgDom = document.createElement('div');\n  msgDom.className += ` wui-message--${type} wui-message`;\n  msgDom.setAttribute('data-state', 'entered');\n  msgDom.setAttribute('id', msg_id);\n  const msgContent = document.createElement('p');\n  msgContent.className += ` wui-message--${type} wui-message__content`;\n  msgContent.innerText = message;\n  msgDom.appendChild(msgContent);\n  if (show_close) {\n    const closeBtn = document.createElement('i');\n    closeBtn.className += 'wui-message__closeBtn';\n    closeBtn.innerText = 'x';\n    closeBtn.addEventListener('click', (ev) => {\n      closeMsg(msgDom);\n    })\n    msgDom.appendChild(closeBtn);\n  }\n  return msgDom;\n}\n\nexport async function render(view) {\n  let model = view.model;\n  const msgRoot = view.el;\n  msgRoot.className += ' wui-message-root'\n\n  const msgContainer = document.createElement('div');\n  msgContainer.className += ' wui-message-container';\n  msgRoot.appendChild(msgContainer)\n\n  model.on(\"change:message_options\", () => {\n    const options = model.get(\"message_options\");\n    const msg = createMsg(options);\n    msgContainer.appendChild(msg);\n    const {duration = 3000} = options;\n    if (duration > 0) {\n      setTimeout(() => {\n        closeMsg(msg)\n      }, duration);\n    }\n  })\n\n  model.on(\"change:close_msg_id\", () => {\n    const msg_id = model.get(\"close_msg_id\");\n    const msgDom = document.getElementById(msg_id);\n    closeMsg(msgDom);\n  })\n}\n",
       "_model_module": "anywidget",
       "_model_module_version": "~0.9.*",
       "_model_name": "AnyModel",
       "_view_module": "anywidget",
       "_view_module_version": "~0.9.*",
       "_view_name": "AnyView",
       "close_msg_id": "",
       "layout": "IPY_MODEL_7eb5ce06708844efb6bfdbbc2ee535b5",
       "message_options": {
        "duration": 3000,
        "message": "",
        "show_close": false,
        "type": "info"
       }
      }
     }
    },
    "version_major": 2,
    "version_minor": 0
   }
  }
 },
 "nbformat": 4,
 "nbformat_minor": 5
}
