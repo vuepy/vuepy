{
 "cells": [
  {
   "cell_type": "markdown",
   "id": "a1e2fa29-7566-4426-be1e-a750658d83a5",
   "metadata": {},
   "source": [
    "# Vector Tile Layer\n"
   ]
  },
  {
   "cell_type": "markdown",
   "id": "7cdc5e8c-2aa8-41d1-9461-3e451f6ef6ea",
   "metadata": {},
   "source": [
    "## 基础用法\n"
   ]
  },
  {
   "cell_type": "code",
   "execution_count": 1,
   "id": "f5928b17-e8c8-47b0-9774-a8bb1f7e6af3",
   "metadata": {},
   "outputs": [],
   "source": [
    "import os\n",
    "import pathlib\n",
    "from vuepy.utils import magic\n",
    "from vleaflet import leaflet\n",
    "%load_ext vuepy"
   ]
  },
  {
   "cell_type": "code",
   "execution_count": 4,
   "id": "7982482f-985d-44b5-89d6-57b3bb2c3427",
   "metadata": {},
   "outputs": [
    {
     "name": "stdout",
     "output_type": "stream",
     "text": [
      "{\"vue\": \"<template>\\n  <vl-map :center=\\\"center\\\" :zoom=9 ref='m'>\\n    <template #controls>\\n      <vl-layers-control position='topleft' :collapsed='False'/>\\n    </template>\\n  </vl-map>\\n</template>\\n<script lang='py'>\\nfrom ipyleaflet import VectorTileLayer\\nfrom traitlets import Unicode\\nfrom vuepy import ref, onMounted\\n\\nm = ref(None)\\ncenter = [52.204793, 360.121558]\\n\\n# This is a custom VectorTileLayer subclass, allowing to pass our api key to the url\\nclass CustomVectorTileLayer(VectorTileLayer):\\n    api_key = Unicode('gCZXZglvRQa6sB2z7JzL1w').tag(sync=True, o=True)\\n\\nwater_style = dict(\\nfill=\\\"true\\\",\\nweight=1,\\nfillColor=\\\"#06cccc\\\",\\ncolor=\\\"#06cccc\\\",\\nfillOpacity=0.2,\\nopacity=0.4,\\n)\\n\\nwaterway_style = dict(\\n    weight=1, fillColor=\\\"#2375e0\\\", color=\\\"#2375e0\\\", fillOpacity=0.2, opacity=0.4\\n)\\n\\nadmin_style = dict(\\n    weight=1, fillColor=\\\"pink\\\", color=\\\"pink\\\", fillOpacity=0.2, opacity=0.4\\n)\\n\\nlandcover_style = dict(\\n    fill=\\\"true\\\",\\n    weight=1,\\n    fillColor=\\\"#53e033\\\",\\n    color=\\\"#53e033\\\",\\n    fillOpacity=0.2,\\n    opacity=0.4,\\n)\\n\\nlanduse_style = dict(\\n    fill=\\\"true\\\",\\n    weight=1,\\n    fillColor=\\\"#e5b404\\\",\\n    color=\\\"#e5b404\\\",\\n    fillOpacity=0.2,\\n    opacity=0.4,\\n)\\n\\npark_style = dict(\\n    fill=\\\"true\\\",\\n    weight=1,\\n    fillColor=\\\"#84ea5b\\\",\\n    color=\\\"#84ea5b\\\",\\n    fillOpacity=0.2,\\n    opacity=0.4,\\n)\\n\\nboundary_style = dict(\\n    weight=1, fillColor=\\\"#c545d3\\\", color=\\\"#c545d3\\\", fillOpacity=0.2, opacity=0.4\\n)\\n\\naeroway = dict(\\n    weight=1, fillColor=\\\"#51aeb5\\\", color=\\\"#51aeb5\\\", fillOpacity=0.2, opacity=0.4\\n)\\n\\nroad = dict(\\n    weight=1, fillColor=\\\"#f2b648\\\", color=\\\"#f2b648\\\", fillOpacity=0.2, opacity=0.4\\n)\\n\\ntransit = dict(\\n    weight=0.5, fillColor=\\\"#f2b648\\\", color=\\\"#f2b648\\\", fillOpacity=0.2, opacity=0.4\\n)\\n\\nbuildings = dict(\\n    fill=\\\"true\\\",\\n    weight=1,\\n    fillColor=\\\"#2b2b2b\\\",\\n    color=\\\"#2b2b2b\\\",\\n    fillOpacity=0.2,\\n    opacity=0.4,\\n)\\n\\nwater_name = dict(\\n    weight=1, fillColor=\\\"#022c5b\\\", color=\\\"#022c5b\\\", fillOpacity=0.2, opacity=0.4\\n)\\n\\ntransportation_name = dict(\\n    weight=1, fillColor=\\\"#bc6b38\\\", color=\\\"#bc6b38\\\", fillOpacity=0.2, opacity=0.4\\n)\\n\\nplace = dict(\\n    weight=1, fillColor=\\\"#f20e93\\\", color=\\\"#f20e93\\\", fillOpacity=0.2, opacity=0.4\\n)\\n\\nhousenumber = dict(\\n    weight=1, fillColor=\\\"#ef4c8b\\\", color=\\\"#ef4c8b\\\", fillOpacity=0.2, opacity=0.4\\n)\\n\\npoi = dict(weight=1, fillColor=\\\"#3bb50a\\\", color=\\\"#3bb50a\\\", fillOpacity=0.2, opacity=0.4)\\n\\nearth = dict(\\n    fill=\\\"true\\\",\\n    weight=1,\\n    fillColor=\\\"#c0c0c0\\\",\\n    color=\\\"#c0c0c0\\\",\\n    fillOpacity=0.2,\\n    opacity=0.4,\\n)\\n\\nurl = 'https://tile.nextzen.org/tilezen/vector/v1/512/all/{z}/{x}/{y}.mvt?api_key={apiKey}'\\nvector_tile_layer_styles = dict(\\n    water=water_style,\\n    waterway=waterway_style,\\n    admin=admin_style,\\n    andcover=landcover_style,\\n    landuse=landuse_style,\\n    park=park_style,\\n    boundaries=boundary_style,\\n    aeroway=aeroway,\\n    roads=road,\\n    transit=transit,\\n    buildings=buildings,\\n    water_name=water_name,\\n    transportation_name=transportation_name,\\n    places=place,\\n    housenumber=housenumber,\\n    pois=poi,\\n    earth=earth\\n)\\n\\nvl = CustomVectorTileLayer(\\n    name='custom', url=url, vector_tile_layer_styles=vector_tile_layer_styles)\\n\\n@onMounted\\ndef add_layer():\\n    m.value.add(vl)\\n    \\n</script>\\n\", \"setup\": \"\"}\n"
     ]
    },
    {
     "data": {
      "application/vnd.jupyter.widget-view+json": {
       "model_id": "6638ed6cf3de425597e2e5a13dfdd693",
       "version_major": 2,
       "version_minor": 0
      },
      "text/plain": [
       "Document(children=(Dom(children=(MessageWidget(message_options={'message': '', 'type': 'info', 'show_close': F…"
      ]
     },
     "execution_count": 4,
     "metadata": {},
     "output_type": "execute_result"
    }
   ],
   "source": [
    "%%vuepy_run --plugins leaflet --show-code\n",
    "<template>\n",
    "  <vl-map :center=\"center\" :zoom=9 ref='m'>\n",
    "    <template #controls>\n",
    "      <vl-layers-control position='topleft' :collapsed='False'/>\n",
    "    </template>\n",
    "  </vl-map>\n",
    "</template>\n",
    "<script lang='py'>\n",
    "from ipyleaflet import VectorTileLayer\n",
    "from traitlets import Unicode\n",
    "from vuepy import ref, onMounted\n",
    "\n",
    "m = ref(None)\n",
    "center = [52.204793, 360.121558]\n",
    "\n",
    "# This is a custom VectorTileLayer subclass, allowing to pass our api key to the url\n",
    "class CustomVectorTileLayer(VectorTileLayer):\n",
    "    api_key = Unicode('gCZXZglvRQa6sB2z7JzL1w').tag(sync=True, o=True)\n",
    "\n",
    "water_style = dict(\n",
    "fill=\"true\",\n",
    "weight=1,\n",
    "fillColor=\"#06cccc\",\n",
    "color=\"#06cccc\",\n",
    "fillOpacity=0.2,\n",
    "opacity=0.4,\n",
    ")\n",
    "\n",
    "waterway_style = dict(\n",
    "    weight=1, fillColor=\"#2375e0\", color=\"#2375e0\", fillOpacity=0.2, opacity=0.4\n",
    ")\n",
    "\n",
    "admin_style = dict(\n",
    "    weight=1, fillColor=\"pink\", color=\"pink\", fillOpacity=0.2, opacity=0.4\n",
    ")\n",
    "\n",
    "landcover_style = dict(\n",
    "    fill=\"true\",\n",
    "    weight=1,\n",
    "    fillColor=\"#53e033\",\n",
    "    color=\"#53e033\",\n",
    "    fillOpacity=0.2,\n",
    "    opacity=0.4,\n",
    ")\n",
    "\n",
    "landuse_style = dict(\n",
    "    fill=\"true\",\n",
    "    weight=1,\n",
    "    fillColor=\"#e5b404\",\n",
    "    color=\"#e5b404\",\n",
    "    fillOpacity=0.2,\n",
    "    opacity=0.4,\n",
    ")\n",
    "\n",
    "park_style = dict(\n",
    "    fill=\"true\",\n",
    "    weight=1,\n",
    "    fillColor=\"#84ea5b\",\n",
    "    color=\"#84ea5b\",\n",
    "    fillOpacity=0.2,\n",
    "    opacity=0.4,\n",
    ")\n",
    "\n",
    "boundary_style = dict(\n",
    "    weight=1, fillColor=\"#c545d3\", color=\"#c545d3\", fillOpacity=0.2, opacity=0.4\n",
    ")\n",
    "\n",
    "aeroway = dict(\n",
    "    weight=1, fillColor=\"#51aeb5\", color=\"#51aeb5\", fillOpacity=0.2, opacity=0.4\n",
    ")\n",
    "\n",
    "road = dict(\n",
    "    weight=1, fillColor=\"#f2b648\", color=\"#f2b648\", fillOpacity=0.2, opacity=0.4\n",
    ")\n",
    "\n",
    "transit = dict(\n",
    "    weight=0.5, fillColor=\"#f2b648\", color=\"#f2b648\", fillOpacity=0.2, opacity=0.4\n",
    ")\n",
    "\n",
    "buildings = dict(\n",
    "    fill=\"true\",\n",
    "    weight=1,\n",
    "    fillColor=\"#2b2b2b\",\n",
    "    color=\"#2b2b2b\",\n",
    "    fillOpacity=0.2,\n",
    "    opacity=0.4,\n",
    ")\n",
    "\n",
    "water_name = dict(\n",
    "    weight=1, fillColor=\"#022c5b\", color=\"#022c5b\", fillOpacity=0.2, opacity=0.4\n",
    ")\n",
    "\n",
    "transportation_name = dict(\n",
    "    weight=1, fillColor=\"#bc6b38\", color=\"#bc6b38\", fillOpacity=0.2, opacity=0.4\n",
    ")\n",
    "\n",
    "place = dict(\n",
    "    weight=1, fillColor=\"#f20e93\", color=\"#f20e93\", fillOpacity=0.2, opacity=0.4\n",
    ")\n",
    "\n",
    "housenumber = dict(\n",
    "    weight=1, fillColor=\"#ef4c8b\", color=\"#ef4c8b\", fillOpacity=0.2, opacity=0.4\n",
    ")\n",
    "\n",
    "poi = dict(weight=1, fillColor=\"#3bb50a\", color=\"#3bb50a\", fillOpacity=0.2, opacity=0.4)\n",
    "\n",
    "earth = dict(\n",
    "    fill=\"true\",\n",
    "    weight=1,\n",
    "    fillColor=\"#c0c0c0\",\n",
    "    color=\"#c0c0c0\",\n",
    "    fillOpacity=0.2,\n",
    "    opacity=0.4,\n",
    ")\n",
    "\n",
    "url = 'https://tile.nextzen.org/tilezen/vector/v1/512/all/{z}/{x}/{y}.mvt?api_key={apiKey}'\n",
    "vector_tile_layer_styles = dict(\n",
    "    water=water_style,\n",
    "    waterway=waterway_style,\n",
    "    admin=admin_style,\n",
    "    andcover=landcover_style,\n",
    "    landuse=landuse_style,\n",
    "    park=park_style,\n",
    "    boundaries=boundary_style,\n",
    "    aeroway=aeroway,\n",
    "    roads=road,\n",
    "    transit=transit,\n",
    "    buildings=buildings,\n",
    "    water_name=water_name,\n",
    "    transportation_name=transportation_name,\n",
    "    places=place,\n",
    "    housenumber=housenumber,\n",
    "    pois=poi,\n",
    "    earth=earth\n",
    ")\n",
    "\n",
    "vl = CustomVectorTileLayer(\n",
    "    name='custom', url=url, vector_tile_layer_styles=vector_tile_layer_styles)\n",
    "\n",
    "@onMounted\n",
    "def add_layer():\n",
    "    m.value.add(vl)\n",
    "    \n",
    "</script>"
   ]
  },
  {
   "cell_type": "markdown",
   "id": "392aa25a-4073-4d2b-93f9-d89666b38369",
   "metadata": {},
   "source": [
    "## 禁用状态\n",
    "\n",
    "你可以使用 `disabled` 属性来定义是否被禁用。  \n",
    "使用 `disabled` 属性来控制是否为禁用状态。该属性接受一个 `bool` 类型的值。"
   ]
  },
  {
   "cell_type": "code",
   "execution_count": 3,
   "id": "4555cd32-d66d-411b-8b39-01153e8fb53d",
   "metadata": {},
   "outputs": [
    {
     "ename": "FileNotFoundError",
     "evalue": "[Errno 2] No such file or directory: 'disabled.vue'",
     "output_type": "error",
     "traceback": [
      "\u001b[0;31m---------------------------------------------------------------------------\u001b[0m",
      "\u001b[0;31mFileNotFoundError\u001b[0m                         Traceback (most recent call last)",
      "Cell \u001b[0;32mIn[3], line 1\u001b[0m\n\u001b[0;32m----> 1\u001b[0m \u001b[43mget_ipython\u001b[49m\u001b[43m(\u001b[49m\u001b[43m)\u001b[49m\u001b[38;5;241;43m.\u001b[39;49m\u001b[43mrun_line_magic\u001b[49m\u001b[43m(\u001b[49m\u001b[38;5;124;43m'\u001b[39;49m\u001b[38;5;124;43mvuepy_demo\u001b[39;49m\u001b[38;5;124;43m'\u001b[39;49m\u001b[43m,\u001b[49m\u001b[43m \u001b[49m\u001b[38;5;124;43m'\u001b[39;49m\u001b[38;5;124;43mdisabled.vue\u001b[39;49m\u001b[38;5;124;43m'\u001b[39;49m\u001b[43m)\u001b[49m\n",
      "File \u001b[0;32m~/miniforge3/envs/textgen/lib/python3.10/site-packages/IPython/core/interactiveshell.py:2482\u001b[0m, in \u001b[0;36mInteractiveShell.run_line_magic\u001b[0;34m(self, magic_name, line, _stack_depth)\u001b[0m\n\u001b[1;32m   2480\u001b[0m     kwargs[\u001b[38;5;124m'\u001b[39m\u001b[38;5;124mlocal_ns\u001b[39m\u001b[38;5;124m'\u001b[39m] \u001b[38;5;241m=\u001b[39m \u001b[38;5;28mself\u001b[39m\u001b[38;5;241m.\u001b[39mget_local_scope(stack_depth)\n\u001b[1;32m   2481\u001b[0m \u001b[38;5;28;01mwith\u001b[39;00m \u001b[38;5;28mself\u001b[39m\u001b[38;5;241m.\u001b[39mbuiltin_trap:\n\u001b[0;32m-> 2482\u001b[0m     result \u001b[38;5;241m=\u001b[39m \u001b[43mfn\u001b[49m\u001b[43m(\u001b[49m\u001b[38;5;241;43m*\u001b[39;49m\u001b[43margs\u001b[49m\u001b[43m,\u001b[49m\u001b[43m \u001b[49m\u001b[38;5;241;43m*\u001b[39;49m\u001b[38;5;241;43m*\u001b[39;49m\u001b[43mkwargs\u001b[49m\u001b[43m)\u001b[49m\n\u001b[1;32m   2484\u001b[0m \u001b[38;5;66;03m# The code below prevents the output from being displayed\u001b[39;00m\n\u001b[1;32m   2485\u001b[0m \u001b[38;5;66;03m# when using magics with decorator @output_can_be_silenced\u001b[39;00m\n\u001b[1;32m   2486\u001b[0m \u001b[38;5;66;03m# when the last Python token in the expression is a ';'.\u001b[39;00m\n\u001b[1;32m   2487\u001b[0m \u001b[38;5;28;01mif\u001b[39;00m \u001b[38;5;28mgetattr\u001b[39m(fn, magic\u001b[38;5;241m.\u001b[39mMAGIC_OUTPUT_CAN_BE_SILENCED, \u001b[38;5;28;01mFalse\u001b[39;00m):\n",
      "File \u001b[0;32m~/proj/bb/url2io.com/open_sesame/nb_llm/pyvue/src/vuepy/utils/magic.py:95\u001b[0m, in \u001b[0;36mvuepy_demo\u001b[0;34m(vue_sfc)\u001b[0m\n\u001b[1;32m     92\u001b[0m     return_app \u001b[38;5;241m=\u001b[39m \u001b[38;5;124m'\u001b[39m\u001b[38;5;124mno\u001b[39m\u001b[38;5;124m'\u001b[39m\n\u001b[1;32m     94\u001b[0m sfc_file_path \u001b[38;5;241m=\u001b[39m Path(vue_sfc\u001b[38;5;241m.\u001b[39mstrip())\n\u001b[0;32m---> 95\u001b[0m sfc_metadata \u001b[38;5;241m=\u001b[39m \u001b[43mSFCMetadata\u001b[49m\u001b[38;5;241;43m.\u001b[39;49m\u001b[43mload\u001b[49m\u001b[43m(\u001b[49m\u001b[43msfc_file_path\u001b[49m\u001b[43m)\u001b[49m\n\u001b[1;32m     97\u001b[0m script_content \u001b[38;5;241m=\u001b[39m \u001b[38;5;241m0\u001b[39m\n\u001b[1;32m     98\u001b[0m \u001b[38;5;28;01mif\u001b[39;00m sfc_metadata\u001b[38;5;241m.\u001b[39mscript_src:\n",
      "File \u001b[0;32m~/proj/bb/url2io.com/open_sesame/nb_llm/pyvue/src/vuepy/compiler_sfc/sfc_parser.py:117\u001b[0m, in \u001b[0;36mSFCMetadata.load\u001b[0;34m(cls, sfc_file)\u001b[0m\n\u001b[1;32m    114\u001b[0m \u001b[38;5;129m@classmethod\u001b[39m\n\u001b[1;32m    115\u001b[0m \u001b[38;5;28;01mdef\u001b[39;00m\u001b[38;5;250m \u001b[39m\u001b[38;5;21mload\u001b[39m(\u001b[38;5;28mcls\u001b[39m, sfc_file):\n\u001b[1;32m    116\u001b[0m     sfc_file \u001b[38;5;241m=\u001b[39m pathlib\u001b[38;5;241m.\u001b[39mPath(sfc_file)\n\u001b[0;32m--> 117\u001b[0m     \u001b[38;5;28;01mwith\u001b[39;00m \u001b[38;5;28;43mopen\u001b[39;49m\u001b[43m(\u001b[49m\u001b[43msfc_file\u001b[49m\u001b[43m)\u001b[49m \u001b[38;5;28;01mas\u001b[39;00m f:\n\u001b[1;32m    118\u001b[0m         raw_content \u001b[38;5;241m=\u001b[39m f\u001b[38;5;241m.\u001b[39mread()\n\u001b[1;32m    120\u001b[0m     \u001b[38;5;28;01mreturn\u001b[39;00m \u001b[38;5;28mcls\u001b[39m\u001b[38;5;241m.\u001b[39mloads(raw_content, sfc_file)\n",
      "\u001b[0;31mFileNotFoundError\u001b[0m: [Errno 2] No such file or directory: 'disabled.vue'"
     ]
    }
   ],
   "source": [
    "%vuepy_demo disabled.vue"
   ]
  },
  {
   "cell_type": "markdown",
   "id": "8685d144-029f-4afa-8547-4f3d84529504",
   "metadata": {},
   "source": [
    "## API\n",
    "\n",
    "### 属性\n",
    "\n",
    "| 属性名    | 说明                 | 类型                                                           | 默认值 |\n",
    "| -------- | ------------------- | ---------------------------------------------------------------| ------- |\n",
    "| v-model/value | 绑定值             | ^[str]                                                      | —       |\n",
    "| desc     | 按钮文字             | ^[str]                                                         | —       |\n",
    "| icon     | 按钮图标             | ^[str]                                                         | —       |\n",
    "| type     | 类型                | ^[enum]`''\\| 'success'\\| 'warning'\\| 'danger'\\| 'info'`        | —       |\n",
    "| tooltip  | 提示信息             | ^[str]                                                         | —       |\n",
    "| disabled | 按钮是否为禁用状态     | ^[boolean]                                                     | false   |\n",
    "| style    | 自定义css样式             | ^[str]                                                         | -       |\n",
    "\n",
    "### Events\n",
    "\n",
    "| 事件名 | 说明                  | 类型                                   |\n",
    "| ---   | ---                  | ---                                    |\n",
    "| click | 当按钮被点击时触发的事件 |  ^[Callable]`(button: Widget) -> None` |\n",
    "\n",
    "\n",
    "### Slots\n",
    "\n",
    "| 插槽名   | 说明               |\n",
    "| ---     | ---               |\n",
    "| default | 自定义默认内容      |\n",
    "\n",
    "\n",
    "### 方法\n",
    "\n",
    "| 属性名 | 说明 | 类型 |\n",
    "| --- | --- | --- |"
   ]
  },
  {
   "cell_type": "code",
   "execution_count": null,
   "id": "db17c770-7085-4365-b5f0-bd4f66ebc948",
   "metadata": {},
   "outputs": [],
   "source": []
  }
 ],
 "metadata": {
  "kernelspec": {
   "display_name": "Python 3 (ipykernel)",
   "language": "python",
   "name": "python3"
  },
  "language_info": {
   "codemirror_mode": {
    "name": "ipython",
    "version": 3
   },
   "file_extension": ".py",
   "mimetype": "text/x-python",
   "name": "python",
   "nbconvert_exporter": "python",
   "pygments_lexer": "ipython3",
   "version": "3.10.12"
  },
  "widgets": {
   "application/vnd.jupyter.widget-state+json": {
    "state": {
     "096483afca3b451d8f3540586c885c73": {
      "model_module": "@jupyter-widgets/base",
      "model_module_version": "2.0.0",
      "model_name": "LayoutModel",
      "state": {}
     },
     "0b94b048a0604a3e81496350e3a1963b": {
      "model_module": "@jupyter-widgets/base",
      "model_module_version": "2.0.0",
      "model_name": "LayoutModel",
      "state": {}
     },
     "143b4636e28b41ee9aaedfb38067a09e": {
      "model_module": "@jupyter-widgets/controls",
      "model_module_version": "2.0.0",
      "model_name": "VBoxModel",
      "state": {
       "children": [
        "IPY_MODEL_a4105f8df2844c60a1db26ed77264474"
       ],
       "layout": "IPY_MODEL_558b70d720a44bc6aa804d088de34fb9"
      }
     },
     "167bb3fd952c4823a8485a7303134626": {
      "model_module": "@jupyter-widgets/base",
      "model_module_version": "2.0.0",
      "model_name": "LayoutModel",
      "state": {}
     },
     "172ceb7883944eeaafcf8d78237e9c33": {
      "model_module": "@jupyter-widgets/base",
      "model_module_version": "2.0.0",
      "model_name": "LayoutModel",
      "state": {}
     },
     "1c82c26291634ceca05fc2fd191fc928": {
      "model_module": "@jupyter-widgets/controls",
      "model_module_version": "2.0.0",
      "model_name": "VBoxModel",
      "state": {
       "children": [
        "IPY_MODEL_4e2bbd490a2346d68b97646b7ff72fac"
       ],
       "layout": "IPY_MODEL_26b467e4cf6f4a8f82c67ba20e4d1b18"
      }
     },
     "1f9255aef08b47d2b79cad65470b6a66": {
      "model_module": "@jupyter-widgets/base",
      "model_module_version": "2.0.0",
      "model_name": "LayoutModel",
      "state": {}
     },
     "26b467e4cf6f4a8f82c67ba20e4d1b18": {
      "model_module": "@jupyter-widgets/base",
      "model_module_version": "2.0.0",
      "model_name": "LayoutModel",
      "state": {}
     },
     "29ad1f80c64a46218cdad53dbdec1b0a": {
      "model_module": "@jupyter-widgets/base",
      "model_module_version": "2.0.0",
      "model_name": "LayoutModel",
      "state": {}
     },
     "29cbc8d19126429194a4cad8fc74bbd2": {
      "model_module": "@jupyter-widgets/controls",
      "model_module_version": "2.0.0",
      "model_name": "VBoxModel",
      "state": {
       "children": [
        "IPY_MODEL_703578d276de43d2a846721f04435627"
       ],
       "layout": "IPY_MODEL_1f9255aef08b47d2b79cad65470b6a66"
      }
     },
     "3b8d91e8b0a947eeb7d8b4de84241bd1": {
      "model_module": "@jupyter-widgets/base",
      "model_module_version": "2.0.0",
      "model_name": "LayoutModel",
      "state": {}
     },
     "4e2bbd490a2346d68b97646b7ff72fac": {
      "model_module": "jupyter-leaflet",
      "model_module_version": "^0.19",
      "model_name": "LeafletLayersControlModel",
      "state": {
       "_model_module_version": "^0.19",
       "_view_module_version": "^0.19",
       "collapsed": false,
       "options": [
        "collapsed",
        "position"
       ]
      }
     },
     "558b70d720a44bc6aa804d088de34fb9": {
      "model_module": "@jupyter-widgets/base",
      "model_module_version": "2.0.0",
      "model_name": "LayoutModel",
      "state": {}
     },
     "5a18a9f9e92b4aa995f32aef2d6bcba7": {
      "model_module": "jupyter-leaflet",
      "model_module_version": "^0.19",
      "model_name": "LeafletMapModel",
      "state": {
       "_model_module_version": "^0.19",
       "_view_module_version": "^0.19",
       "bottom": 43374,
       "center": [
        52.204793,
        360.121558
       ],
       "controls": [
        "IPY_MODEL_b3d2c30095a046ad8ec95302013a0bb6",
        "IPY_MODEL_a947bfd70c674417be77302e45ec47fa",
        "IPY_MODEL_4e2bbd490a2346d68b97646b7ff72fac"
       ],
       "default_style": "IPY_MODEL_5c578a9213f64e9db0e8e2ccba6e5537",
       "dragging_style": "IPY_MODEL_6df3c290edfe4481af267cf8481ba2e2",
       "east": 361.30187988281256,
       "fullscreen": false,
       "interpolation": "bilinear",
       "layers": [
        "IPY_MODEL_6557b3b1f2a04fc2bec3a5825951e39f",
        "IPY_MODEL_d03830176c9e4c39903b99528c3df4a7"
       ],
       "layout": "IPY_MODEL_096483afca3b451d8f3540586c885c73",
       "left": 196222,
       "modisdate": "2025-04-07",
       "north": 52.53961418106945,
       "options": [
        "bounce_at_zoom_limits",
        "box_zoom",
        "center",
        "close_popup_on_click",
        "double_click_zoom",
        "dragging",
        "fullscreen",
        "inertia",
        "inertia_deceleration",
        "inertia_max_speed",
        "interpolation",
        "keyboard",
        "keyboard_pan_offset",
        "keyboard_zoom_offset",
        "max_zoom",
        "min_zoom",
        "prefer_canvas",
        "scroll_wheel_zoom",
        "tap",
        "tap_tolerance",
        "touch_zoom",
        "world_copy_jump",
        "zoom",
        "zoom_animation_threshold",
        "zoom_delta",
        "zoom_snap"
       ],
       "prefer_canvas": false,
       "right": 197082,
       "south": 51.86631606154492,
       "style": "IPY_MODEL_a9ee6e7d17e24001bfad294b65d99e28",
       "top": 42974,
       "west": 358.93981933593756,
       "window_url": "http://localhost:2071/lab/tree/nb_llm/pyvue/examples/vleaflet/layers/VectorTileLayer.ipynb",
       "zoom": 9
      }
     },
     "5c578a9213f64e9db0e8e2ccba6e5537": {
      "model_module": "jupyter-leaflet",
      "model_module_version": "^0.19",
      "model_name": "LeafletMapStyleModel",
      "state": {
       "_model_module_version": "^0.19"
      }
     },
     "5d8f1d52dfca43df82274a48032c78a6": {
      "model_module": "jupyter-leaflet",
      "model_module_version": "^0.19",
      "model_name": "LeafletLayersControlModel",
      "state": {
       "_model_module_version": "^0.19",
       "_view_module_version": "^0.19",
       "collapsed": false,
       "options": [
        "collapsed",
        "position"
       ]
      }
     },
     "5eb31868adfe43a3929ef645d6640177": {
      "model_module": "jupyter-leaflet",
      "model_module_version": "^0.19",
      "model_name": "LeafletMapStyleModel",
      "state": {
       "_model_module_version": "^0.19",
       "cursor": "move"
      }
     },
     "63077e65fbc341acba4a0a3578f8ba1a": {
      "model_module": "anywidget",
      "model_module_version": "~0.9.*",
      "model_name": "AnyModel",
      "state": {
       "_anywidget_id": "ipywui.widgets.custom.message.MessageWidget",
       "_css": ".wui-message-root {\n    display: flex;\n    position: absolute;\n    left: 0;\n    right: 0;\n    top: 0;\n}\n\n.wui-message-container {\n    align-items: center;\n    display: flex;\n    flex-direction: column-reverse;\n    justify-content: center;\n    min-height: 100%;\n    outline: none;\n    width: 100%;\n\n    -webkit-tap-highlight-color: rgba(0,0,0,0);\n    bottom: 0;\n    left: 0;\n    right: 0;\n    top: 0;\n}\n\n.wui-message--success {\n    --wui-message-bg-color: #f0f9eb;\n    --wui-message-border-color: #e1f3d8;\n    --wui-message-text-color: #67c23a;\n}\n.wui-message--warning {\n    --wui-message-bg-color: #fdf6ec;\n    --wui-message-border-color: #faecd8;\n    --wui-message-text-color: #e6a23c;\n}\n.wui-message--info {\n    --wui-message-bg-color: #f4f4f5;\n    --wui-message-border-color: #e9e9eb;\n    --wui-message-text-color: #909399;\n}\n.wui-message--error {\n    --wui-message-bg-color: #fef0f0;\n    --wui-message-border-color: #fde2e2;\n    --wui-message-text-color: #f56c6c;\n}\n\n@keyframes msg-open {\n    0% {\n        opacity: 0;\n        -webkit-transform: translateY(-120%);\n        transform: translateY(-120%)\n    }\n    to {\n        -webkit-transform: translateY(0);\n        transform: translateY(0)\n    }\n}\n\n@keyframes msg-close {\n    0% {\n        opacity: 1;\n        -webkit-transform: scale(1);\n        transform: scale(1)\n    }\n    to {\n        opacity: 0;\n        -webkit-transform: scale(.9);\n        transform: scale(.9)\n    }\n}\n.wui-message[data-state=entered],.wui-message[data-state=entering] {\n    -webkit-animation: msg-open .24s cubic-bezier(.175,.885,.32,1.175) both;\n    animation: msg-open .24s cubic-bezier(.175,.885,.32,1.175) both\n}\n\n.wui-message[data-state=exiting] {\n    -webkit-animation: msg-close .12s cubic-bezier(.4,0,1,1) both;\n    animation: msg-close .12s cubic-bezier(.4,0,1,1) both\n}\n\n.wui-message {\n    width: -webkit-fit-content;\n    width: -moz-fit-content;\n    width: fit-content;\n    z-index: 2004;\n    max-width: calc(100% - 32px);\n    margin-top: 8px;\n    box-sizing: border-box;\n    /*border-radius: var(--wui-border-radius-base);*/\n    /*border-width: var(--wui-border-width);*/\n    /*border-style: var(--wui-border-style);*/\n    border-color: var(--wui-message-border-color);\n    /*left: 50%;*/\n    /*top: 20px;*/\n    /*transform: translateX(-50%);*/\n    background-color: var(--wui-message-bg-color);\n    /*transition: opacity var(--wui-transition-duration),transform .4s,top .4s;*/\n    /*padding: var(--wui-message-padding);*/\n    display: flex;\n    align-items: center;\n}\n\n/*.wui-message--success */\n.wui-message__content {\n    color: var(--wui-message-text-color);\n    font-size: 14px;\n    line-height: 18px;\n    margin: 10px 14px 10px 14px;\n    overflow-wrap: break-word;\n}\n\n.wui-message__closeBtn {\n    /*cursor: pointer;*/\n    font-style: normal;\n    /*color: gray;*/\n    padding-right: 14px;\n    /*font-size: 13px;*/\n    user-select: none;\n\n    background: transparent;\n    border: none;\n    color: gray;\n    cursor: pointer;\n    font-size: 13px;\n    font-weight: 400;\n    line-height: 1;\n    outline: none;\n    /*padding: 4px;*/\n    text-align: center;\n    transition: opacity .3s;\n    /*width: 100%;*/\n}",
       "_esm": "function closeMsg(msgDom) {\n  if (!msgDom) {\n    return;\n  }\n  msgDom.setAttribute('data-state', 'exiting');\n  msgDom.remove();\n}\n\nfunction createMsg(options) {\n  const {message, msg_id, type = 'info', show_close = false} = options;\n  const msgDom = document.createElement('div');\n  msgDom.className += ` wui-message--${type} wui-message`;\n  msgDom.setAttribute('data-state', 'entered');\n  msgDom.setAttribute('id', msg_id);\n  const msgContent = document.createElement('p');\n  msgContent.className += ` wui-message--${type} wui-message__content`;\n  msgContent.innerText = message;\n  msgDom.appendChild(msgContent);\n  if (show_close) {\n    const closeBtn = document.createElement('i');\n    closeBtn.className += 'wui-message__closeBtn';\n    closeBtn.innerText = 'x';\n    closeBtn.addEventListener('click', (ev) => {\n      closeMsg(msgDom);\n    })\n    msgDom.appendChild(closeBtn);\n  }\n  return msgDom;\n}\n\nexport async function render(view) {\n  let model = view.model;\n  const msgRoot = view.el;\n  msgRoot.className += ' wui-message-root'\n\n  const msgContainer = document.createElement('div');\n  msgContainer.className += ' wui-message-container';\n  msgRoot.appendChild(msgContainer)\n\n  model.on(\"change:message_options\", () => {\n    const options = model.get(\"message_options\");\n    const msg = createMsg(options);\n    msgContainer.appendChild(msg);\n    const {duration = 3000} = options;\n    if (duration > 0) {\n      setTimeout(() => {\n        closeMsg(msg)\n      }, duration);\n    }\n  })\n\n  model.on(\"change:close_msg_id\", () => {\n    const msg_id = model.get(\"close_msg_id\");\n    const msgDom = document.getElementById(msg_id);\n    closeMsg(msgDom);\n  })\n}\n",
       "_model_module": "anywidget",
       "_model_module_version": "~0.9.*",
       "_model_name": "AnyModel",
       "_view_module": "anywidget",
       "_view_module_version": "~0.9.*",
       "_view_name": "AnyView",
       "close_msg_id": "",
       "layout": "IPY_MODEL_167bb3fd952c4823a8485a7303134626",
       "message_options": {
        "duration": 3000,
        "message": "",
        "show_close": false,
        "type": "info"
       }
      }
     },
     "6557b3b1f2a04fc2bec3a5825951e39f": {
      "model_module": "jupyter-leaflet",
      "model_module_version": "^0.19",
      "model_name": "LeafletTileLayerModel",
      "state": {
       "_model_module_version": "^0.19",
       "_view_module_version": "^0.19",
       "attribution": "&copy; <a href=\"https://www.openstreetmap.org/copyright\">OpenStreetMap</a> contributors",
       "base": true,
       "max_zoom": 19,
       "min_zoom": 1,
       "name": "OpenStreetMap.Mapnik",
       "options": [
        "attribution",
        "bounds",
        "detect_retina",
        "max_native_zoom",
        "max_zoom",
        "min_native_zoom",
        "min_zoom",
        "no_wrap",
        "tile_size",
        "tms",
        "zoom_offset"
       ],
       "url": "https://tile.openstreetmap.org/{z}/{x}/{y}.png"
      }
     },
     "6638ed6cf3de425597e2e5a13dfdd693": {
      "model_module": "@jupyter-widgets/controls",
      "model_module_version": "2.0.0",
      "model_name": "VBoxModel",
      "state": {
       "children": [
        "IPY_MODEL_fbd228672243423f9a32263ffd86513d"
       ],
       "layout": "IPY_MODEL_29ad1f80c64a46218cdad53dbdec1b0a"
      }
     },
     "6df3c290edfe4481af267cf8481ba2e2": {
      "model_module": "jupyter-leaflet",
      "model_module_version": "^0.19",
      "model_name": "LeafletMapStyleModel",
      "state": {
       "_model_module_version": "^0.19",
       "cursor": "move"
      }
     },
     "703578d276de43d2a846721f04435627": {
      "model_module": "jupyter-leaflet",
      "model_module_version": "^0.19",
      "model_name": "LeafletMapModel",
      "state": {
       "_model_module_version": "^0.19",
       "_view_module_version": "^0.19",
       "bottom": 43374,
       "center": [
        52.204793,
        360.121558
       ],
       "controls": [
        "IPY_MODEL_82d1fb9ad1a043abbbcfbc808fadde7f",
        "IPY_MODEL_d39c9840612e4a7089a77deb82c20862",
        "IPY_MODEL_5d8f1d52dfca43df82274a48032c78a6"
       ],
       "default_style": "IPY_MODEL_9ea09d0a8bb34dd7a26eebd41b93c97a",
       "dragging_style": "IPY_MODEL_5eb31868adfe43a3929ef645d6640177",
       "east": 361.30187988281256,
       "fullscreen": false,
       "interpolation": "bilinear",
       "layers": [
        "IPY_MODEL_c29e471c95054e44a0d7a90c3934bb51",
        "IPY_MODEL_b7b685fdc49144668295e9d846e3e0e5"
       ],
       "layout": "IPY_MODEL_80d0336f9d974319bf055d88c4271c5b",
       "left": 196222,
       "modisdate": "2025-04-07",
       "north": 52.53961418106945,
       "options": [
        "bounce_at_zoom_limits",
        "box_zoom",
        "center",
        "close_popup_on_click",
        "double_click_zoom",
        "dragging",
        "fullscreen",
        "inertia",
        "inertia_deceleration",
        "inertia_max_speed",
        "interpolation",
        "keyboard",
        "keyboard_pan_offset",
        "keyboard_zoom_offset",
        "max_zoom",
        "min_zoom",
        "prefer_canvas",
        "scroll_wheel_zoom",
        "tap",
        "tap_tolerance",
        "touch_zoom",
        "world_copy_jump",
        "zoom",
        "zoom_animation_threshold",
        "zoom_delta",
        "zoom_snap"
       ],
       "prefer_canvas": false,
       "right": 197082,
       "south": 51.86631606154492,
       "style": "IPY_MODEL_7d55397067bf423aa3073709728fefd0",
       "top": 42974,
       "west": 358.93981933593756,
       "window_url": "http://localhost:2071/lab/tree/nb_llm/pyvue/examples/vleaflet/layers/VectorTileLayer.ipynb",
       "zoom": 9
      }
     },
     "7d4de14f2c9f47d287b709607e459334": {
      "model_module": "@jupyter-widgets/controls",
      "model_module_version": "2.0.0",
      "model_name": "VBoxModel",
      "state": {
       "children": [
        "IPY_MODEL_5a18a9f9e92b4aa995f32aef2d6bcba7"
       ],
       "layout": "IPY_MODEL_ce12d11890af4540ae3235c86294fa40"
      }
     },
     "7d55397067bf423aa3073709728fefd0": {
      "model_module": "jupyter-leaflet",
      "model_module_version": "^0.19",
      "model_name": "LeafletMapStyleModel",
      "state": {
       "_model_module_version": "^0.19"
      }
     },
     "80d0336f9d974319bf055d88c4271c5b": {
      "model_module": "@jupyter-widgets/base",
      "model_module_version": "2.0.0",
      "model_name": "LayoutModel",
      "state": {}
     },
     "82d1fb9ad1a043abbbcfbc808fadde7f": {
      "model_module": "jupyter-leaflet",
      "model_module_version": "^0.19",
      "model_name": "LeafletZoomControlModel",
      "state": {
       "_model_module_version": "^0.19",
       "_view_module_version": "^0.19",
       "options": [
        "position",
        "zoom_in_text",
        "zoom_in_title",
        "zoom_out_text",
        "zoom_out_title"
       ]
      }
     },
     "90e913301a4b45c989843935c7bf1054": {
      "model_module": "anywidget",
      "model_module_version": "~0.9.*",
      "model_name": "AnyModel",
      "state": {
       "_anywidget_id": "ipywui.widgets.custom.message.MessageWidget",
       "_css": ".wui-message-root {\n    display: flex;\n    position: absolute;\n    left: 0;\n    right: 0;\n    top: 0;\n}\n\n.wui-message-container {\n    align-items: center;\n    display: flex;\n    flex-direction: column-reverse;\n    justify-content: center;\n    min-height: 100%;\n    outline: none;\n    width: 100%;\n\n    -webkit-tap-highlight-color: rgba(0,0,0,0);\n    bottom: 0;\n    left: 0;\n    right: 0;\n    top: 0;\n}\n\n.wui-message--success {\n    --wui-message-bg-color: #f0f9eb;\n    --wui-message-border-color: #e1f3d8;\n    --wui-message-text-color: #67c23a;\n}\n.wui-message--warning {\n    --wui-message-bg-color: #fdf6ec;\n    --wui-message-border-color: #faecd8;\n    --wui-message-text-color: #e6a23c;\n}\n.wui-message--info {\n    --wui-message-bg-color: #f4f4f5;\n    --wui-message-border-color: #e9e9eb;\n    --wui-message-text-color: #909399;\n}\n.wui-message--error {\n    --wui-message-bg-color: #fef0f0;\n    --wui-message-border-color: #fde2e2;\n    --wui-message-text-color: #f56c6c;\n}\n\n@keyframes msg-open {\n    0% {\n        opacity: 0;\n        -webkit-transform: translateY(-120%);\n        transform: translateY(-120%)\n    }\n    to {\n        -webkit-transform: translateY(0);\n        transform: translateY(0)\n    }\n}\n\n@keyframes msg-close {\n    0% {\n        opacity: 1;\n        -webkit-transform: scale(1);\n        transform: scale(1)\n    }\n    to {\n        opacity: 0;\n        -webkit-transform: scale(.9);\n        transform: scale(.9)\n    }\n}\n.wui-message[data-state=entered],.wui-message[data-state=entering] {\n    -webkit-animation: msg-open .24s cubic-bezier(.175,.885,.32,1.175) both;\n    animation: msg-open .24s cubic-bezier(.175,.885,.32,1.175) both\n}\n\n.wui-message[data-state=exiting] {\n    -webkit-animation: msg-close .12s cubic-bezier(.4,0,1,1) both;\n    animation: msg-close .12s cubic-bezier(.4,0,1,1) both\n}\n\n.wui-message {\n    width: -webkit-fit-content;\n    width: -moz-fit-content;\n    width: fit-content;\n    z-index: 2004;\n    max-width: calc(100% - 32px);\n    margin-top: 8px;\n    box-sizing: border-box;\n    /*border-radius: var(--wui-border-radius-base);*/\n    /*border-width: var(--wui-border-width);*/\n    /*border-style: var(--wui-border-style);*/\n    border-color: var(--wui-message-border-color);\n    /*left: 50%;*/\n    /*top: 20px;*/\n    /*transform: translateX(-50%);*/\n    background-color: var(--wui-message-bg-color);\n    /*transition: opacity var(--wui-transition-duration),transform .4s,top .4s;*/\n    /*padding: var(--wui-message-padding);*/\n    display: flex;\n    align-items: center;\n}\n\n/*.wui-message--success */\n.wui-message__content {\n    color: var(--wui-message-text-color);\n    font-size: 14px;\n    line-height: 18px;\n    margin: 10px 14px 10px 14px;\n    overflow-wrap: break-word;\n}\n\n.wui-message__closeBtn {\n    /*cursor: pointer;*/\n    font-style: normal;\n    /*color: gray;*/\n    padding-right: 14px;\n    /*font-size: 13px;*/\n    user-select: none;\n\n    background: transparent;\n    border: none;\n    color: gray;\n    cursor: pointer;\n    font-size: 13px;\n    font-weight: 400;\n    line-height: 1;\n    outline: none;\n    /*padding: 4px;*/\n    text-align: center;\n    transition: opacity .3s;\n    /*width: 100%;*/\n}",
       "_esm": "function closeMsg(msgDom) {\n  if (!msgDom) {\n    return;\n  }\n  msgDom.setAttribute('data-state', 'exiting');\n  msgDom.remove();\n}\n\nfunction createMsg(options) {\n  const {message, msg_id, type = 'info', show_close = false} = options;\n  const msgDom = document.createElement('div');\n  msgDom.className += ` wui-message--${type} wui-message`;\n  msgDom.setAttribute('data-state', 'entered');\n  msgDom.setAttribute('id', msg_id);\n  const msgContent = document.createElement('p');\n  msgContent.className += ` wui-message--${type} wui-message__content`;\n  msgContent.innerText = message;\n  msgDom.appendChild(msgContent);\n  if (show_close) {\n    const closeBtn = document.createElement('i');\n    closeBtn.className += 'wui-message__closeBtn';\n    closeBtn.innerText = 'x';\n    closeBtn.addEventListener('click', (ev) => {\n      closeMsg(msgDom);\n    })\n    msgDom.appendChild(closeBtn);\n  }\n  return msgDom;\n}\n\nexport async function render(view) {\n  let model = view.model;\n  const msgRoot = view.el;\n  msgRoot.className += ' wui-message-root'\n\n  const msgContainer = document.createElement('div');\n  msgContainer.className += ' wui-message-container';\n  msgRoot.appendChild(msgContainer)\n\n  model.on(\"change:message_options\", () => {\n    const options = model.get(\"message_options\");\n    const msg = createMsg(options);\n    msgContainer.appendChild(msg);\n    const {duration = 3000} = options;\n    if (duration > 0) {\n      setTimeout(() => {\n        closeMsg(msg)\n      }, duration);\n    }\n  })\n\n  model.on(\"change:close_msg_id\", () => {\n    const msg_id = model.get(\"close_msg_id\");\n    const msgDom = document.getElementById(msg_id);\n    closeMsg(msgDom);\n  })\n}\n",
       "_model_module": "anywidget",
       "_model_module_version": "~0.9.*",
       "_model_name": "AnyModel",
       "_view_module": "anywidget",
       "_view_module_version": "~0.9.*",
       "_view_name": "AnyView",
       "close_msg_id": "",
       "layout": "IPY_MODEL_0b94b048a0604a3e81496350e3a1963b",
       "message_options": {
        "duration": 3000,
        "message": "",
        "show_close": false,
        "type": "info"
       }
      }
     },
     "92f3ab7b9cb14f7eb884e0c40679d2c2": {
      "model_module": "anywidget",
      "model_module_version": "~0.9.*",
      "model_name": "AnyModel",
      "state": {
       "_anywidget_id": "ipywui.widgets.custom.message.MessageWidget",
       "_css": ".wui-message-root {\n    display: flex;\n    position: absolute;\n    left: 0;\n    right: 0;\n    top: 0;\n}\n\n.wui-message-container {\n    align-items: center;\n    display: flex;\n    flex-direction: column-reverse;\n    justify-content: center;\n    min-height: 100%;\n    outline: none;\n    width: 100%;\n\n    -webkit-tap-highlight-color: rgba(0,0,0,0);\n    bottom: 0;\n    left: 0;\n    right: 0;\n    top: 0;\n}\n\n.wui-message--success {\n    --wui-message-bg-color: #f0f9eb;\n    --wui-message-border-color: #e1f3d8;\n    --wui-message-text-color: #67c23a;\n}\n.wui-message--warning {\n    --wui-message-bg-color: #fdf6ec;\n    --wui-message-border-color: #faecd8;\n    --wui-message-text-color: #e6a23c;\n}\n.wui-message--info {\n    --wui-message-bg-color: #f4f4f5;\n    --wui-message-border-color: #e9e9eb;\n    --wui-message-text-color: #909399;\n}\n.wui-message--error {\n    --wui-message-bg-color: #fef0f0;\n    --wui-message-border-color: #fde2e2;\n    --wui-message-text-color: #f56c6c;\n}\n\n@keyframes msg-open {\n    0% {\n        opacity: 0;\n        -webkit-transform: translateY(-120%);\n        transform: translateY(-120%)\n    }\n    to {\n        -webkit-transform: translateY(0);\n        transform: translateY(0)\n    }\n}\n\n@keyframes msg-close {\n    0% {\n        opacity: 1;\n        -webkit-transform: scale(1);\n        transform: scale(1)\n    }\n    to {\n        opacity: 0;\n        -webkit-transform: scale(.9);\n        transform: scale(.9)\n    }\n}\n.wui-message[data-state=entered],.wui-message[data-state=entering] {\n    -webkit-animation: msg-open .24s cubic-bezier(.175,.885,.32,1.175) both;\n    animation: msg-open .24s cubic-bezier(.175,.885,.32,1.175) both\n}\n\n.wui-message[data-state=exiting] {\n    -webkit-animation: msg-close .12s cubic-bezier(.4,0,1,1) both;\n    animation: msg-close .12s cubic-bezier(.4,0,1,1) both\n}\n\n.wui-message {\n    width: -webkit-fit-content;\n    width: -moz-fit-content;\n    width: fit-content;\n    z-index: 2004;\n    max-width: calc(100% - 32px);\n    margin-top: 8px;\n    box-sizing: border-box;\n    /*border-radius: var(--wui-border-radius-base);*/\n    /*border-width: var(--wui-border-width);*/\n    /*border-style: var(--wui-border-style);*/\n    border-color: var(--wui-message-border-color);\n    /*left: 50%;*/\n    /*top: 20px;*/\n    /*transform: translateX(-50%);*/\n    background-color: var(--wui-message-bg-color);\n    /*transition: opacity var(--wui-transition-duration),transform .4s,top .4s;*/\n    /*padding: var(--wui-message-padding);*/\n    display: flex;\n    align-items: center;\n}\n\n/*.wui-message--success */\n.wui-message__content {\n    color: var(--wui-message-text-color);\n    font-size: 14px;\n    line-height: 18px;\n    margin: 10px 14px 10px 14px;\n    overflow-wrap: break-word;\n}\n\n.wui-message__closeBtn {\n    /*cursor: pointer;*/\n    font-style: normal;\n    /*color: gray;*/\n    padding-right: 14px;\n    /*font-size: 13px;*/\n    user-select: none;\n\n    background: transparent;\n    border: none;\n    color: gray;\n    cursor: pointer;\n    font-size: 13px;\n    font-weight: 400;\n    line-height: 1;\n    outline: none;\n    /*padding: 4px;*/\n    text-align: center;\n    transition: opacity .3s;\n    /*width: 100%;*/\n}",
       "_esm": "function closeMsg(msgDom) {\n  if (!msgDom) {\n    return;\n  }\n  msgDom.setAttribute('data-state', 'exiting');\n  msgDom.remove();\n}\n\nfunction createMsg(options) {\n  const {message, msg_id, type = 'info', show_close = false} = options;\n  const msgDom = document.createElement('div');\n  msgDom.className += ` wui-message--${type} wui-message`;\n  msgDom.setAttribute('data-state', 'entered');\n  msgDom.setAttribute('id', msg_id);\n  const msgContent = document.createElement('p');\n  msgContent.className += ` wui-message--${type} wui-message__content`;\n  msgContent.innerText = message;\n  msgDom.appendChild(msgContent);\n  if (show_close) {\n    const closeBtn = document.createElement('i');\n    closeBtn.className += 'wui-message__closeBtn';\n    closeBtn.innerText = 'x';\n    closeBtn.addEventListener('click', (ev) => {\n      closeMsg(msgDom);\n    })\n    msgDom.appendChild(closeBtn);\n  }\n  return msgDom;\n}\n\nexport async function render(view) {\n  let model = view.model;\n  const msgRoot = view.el;\n  msgRoot.className += ' wui-message-root'\n\n  const msgContainer = document.createElement('div');\n  msgContainer.className += ' wui-message-container';\n  msgRoot.appendChild(msgContainer)\n\n  model.on(\"change:message_options\", () => {\n    const options = model.get(\"message_options\");\n    const msg = createMsg(options);\n    msgContainer.appendChild(msg);\n    const {duration = 3000} = options;\n    if (duration > 0) {\n      setTimeout(() => {\n        closeMsg(msg)\n      }, duration);\n    }\n  })\n\n  model.on(\"change:close_msg_id\", () => {\n    const msg_id = model.get(\"close_msg_id\");\n    const msgDom = document.getElementById(msg_id);\n    closeMsg(msgDom);\n  })\n}\n",
       "_model_module": "anywidget",
       "_model_module_version": "~0.9.*",
       "_model_name": "AnyModel",
       "_view_module": "anywidget",
       "_view_module_version": "~0.9.*",
       "_view_name": "AnyView",
       "close_msg_id": "",
       "layout": "IPY_MODEL_172ceb7883944eeaafcf8d78237e9c33",
       "message_options": {
        "duration": 3000,
        "message": "",
        "show_close": false,
        "type": "info"
       }
      }
     },
     "99e7eeb270654db7bb50ba7c1796e085": {
      "model_module": "@jupyter-widgets/base",
      "model_module_version": "2.0.0",
      "model_name": "LayoutModel",
      "state": {}
     },
     "9ea09d0a8bb34dd7a26eebd41b93c97a": {
      "model_module": "jupyter-leaflet",
      "model_module_version": "^0.19",
      "model_name": "LeafletMapStyleModel",
      "state": {
       "_model_module_version": "^0.19"
      }
     },
     "a4105f8df2844c60a1db26ed77264474": {
      "model_module": "@jupyter-widgets/controls",
      "model_module_version": "2.0.0",
      "model_name": "VBoxModel",
      "state": {
       "children": [
        "IPY_MODEL_90e913301a4b45c989843935c7bf1054",
        "IPY_MODEL_29cbc8d19126429194a4cad8fc74bbd2"
       ],
       "layout": "IPY_MODEL_3b8d91e8b0a947eeb7d8b4de84241bd1"
      }
     },
     "a947bfd70c674417be77302e45ec47fa": {
      "model_module": "jupyter-leaflet",
      "model_module_version": "^0.19",
      "model_name": "LeafletAttributionControlModel",
      "state": {
       "_model_module_version": "^0.19",
       "_view_module_version": "^0.19",
       "options": [
        "position",
        "prefix"
       ],
       "position": "bottomright",
       "prefix": "ipyleaflet"
      }
     },
     "a9ee6e7d17e24001bfad294b65d99e28": {
      "model_module": "jupyter-leaflet",
      "model_module_version": "^0.19",
      "model_name": "LeafletMapStyleModel",
      "state": {
       "_model_module_version": "^0.19"
      }
     },
     "adf54d67df0c4e6594e0d18de7511393": {
      "model_module": "@jupyter-widgets/controls",
      "model_module_version": "2.0.0",
      "model_name": "VBoxModel",
      "state": {
       "children": [
        "IPY_MODEL_5d8f1d52dfca43df82274a48032c78a6"
       ],
       "layout": "IPY_MODEL_99e7eeb270654db7bb50ba7c1796e085"
      }
     },
     "b3d2c30095a046ad8ec95302013a0bb6": {
      "model_module": "jupyter-leaflet",
      "model_module_version": "^0.19",
      "model_name": "LeafletZoomControlModel",
      "state": {
       "_model_module_version": "^0.19",
       "_view_module_version": "^0.19",
       "options": [
        "position",
        "zoom_in_text",
        "zoom_in_title",
        "zoom_out_text",
        "zoom_out_title"
       ]
      }
     },
     "b7b685fdc49144668295e9d846e3e0e5": {
      "model_module": "jupyter-leaflet",
      "model_module_version": "^0.19",
      "model_name": "LeafletVectorTileLayerModel",
      "state": {
       "_model_module_version": "^0.19",
       "_view_module_version": "^0.19",
       "api_key": "gCZXZglvRQa6sB2z7JzL1w",
       "attribution": "",
       "feature_id": null,
       "feature_style": {},
       "layer_styles": {
        "admin": {
         "color": "pink",
         "fillColor": "pink",
         "fillOpacity": 0.2,
         "opacity": 0.4,
         "weight": 1
        },
        "aeroway": {
         "color": "#51aeb5",
         "fillColor": "#51aeb5",
         "fillOpacity": 0.2,
         "opacity": 0.4,
         "weight": 1
        },
        "andcover": {
         "color": "#53e033",
         "fill": "true",
         "fillColor": "#53e033",
         "fillOpacity": 0.2,
         "opacity": 0.4,
         "weight": 1
        },
        "boundaries": {
         "color": "#c545d3",
         "fillColor": "#c545d3",
         "fillOpacity": 0.2,
         "opacity": 0.4,
         "weight": 1
        },
        "buildings": {
         "color": "#2b2b2b",
         "fill": "true",
         "fillColor": "#2b2b2b",
         "fillOpacity": 0.2,
         "opacity": 0.4,
         "weight": 1
        },
        "earth": {
         "color": "#c0c0c0",
         "fill": "true",
         "fillColor": "#c0c0c0",
         "fillOpacity": 0.2,
         "opacity": 0.4,
         "weight": 1
        },
        "housenumber": {
         "color": "#ef4c8b",
         "fillColor": "#ef4c8b",
         "fillOpacity": 0.2,
         "opacity": 0.4,
         "weight": 1
        },
        "landuse": {
         "color": "#e5b404",
         "fill": "true",
         "fillColor": "#e5b404",
         "fillOpacity": 0.2,
         "opacity": 0.4,
         "weight": 1
        },
        "park": {
         "color": "#84ea5b",
         "fill": "true",
         "fillColor": "#84ea5b",
         "fillOpacity": 0.2,
         "opacity": 0.4,
         "weight": 1
        },
        "places": {
         "color": "#f20e93",
         "fillColor": "#f20e93",
         "fillOpacity": 0.2,
         "opacity": 0.4,
         "weight": 1
        },
        "pois": {
         "color": "#3bb50a",
         "fillColor": "#3bb50a",
         "fillOpacity": 0.2,
         "opacity": 0.4,
         "weight": 1
        },
        "roads": {
         "color": "#f2b648",
         "fillColor": "#f2b648",
         "fillOpacity": 0.2,
         "opacity": 0.4,
         "weight": 1
        },
        "transit": {
         "color": "#f2b648",
         "fillColor": "#f2b648",
         "fillOpacity": 0.2,
         "opacity": 0.4,
         "weight": 0.5
        },
        "transportation_name": {
         "color": "#bc6b38",
         "fillColor": "#bc6b38",
         "fillOpacity": 0.2,
         "opacity": 0.4,
         "weight": 1
        },
        "water": {
         "color": "#06cccc",
         "fill": "true",
         "fillColor": "#06cccc",
         "fillOpacity": 0.2,
         "opacity": 0.4,
         "weight": 1
        },
        "water_name": {
         "color": "#022c5b",
         "fillColor": "#022c5b",
         "fillOpacity": 0.2,
         "opacity": 0.4,
         "weight": 1
        },
        "waterway": {
         "color": "#2375e0",
         "fillColor": "#2375e0",
         "fillOpacity": 0.2,
         "opacity": 0.4,
         "weight": 1
        }
       },
       "options": [
        "api_key",
        "attribution",
        "feature_id",
        "interactive",
        "layer_styles",
        "max_native_zoom",
        "max_zoom",
        "min_native_zoom",
        "min_zoom",
        "opacity",
        "renderer",
        "url",
        "visible"
       ],
       "renderer": "svg",
       "url": "https://tile.nextzen.org/tilezen/vector/v1/512/all/{z}/{x}/{y}.mvt?api_key={apiKey}"
      }
     },
     "b98404658e7041dfbded10e74073c561": {
      "model_module": "@jupyter-widgets/base",
      "model_module_version": "2.0.0",
      "model_name": "LayoutModel",
      "state": {}
     },
     "bc5bcbf2be7041c2a867c79bfe29bc1d": {
      "model_module": "@jupyter-widgets/base",
      "model_module_version": "2.0.0",
      "model_name": "LayoutModel",
      "state": {}
     },
     "c29e471c95054e44a0d7a90c3934bb51": {
      "model_module": "jupyter-leaflet",
      "model_module_version": "^0.19",
      "model_name": "LeafletTileLayerModel",
      "state": {
       "_model_module_version": "^0.19",
       "_view_module_version": "^0.19",
       "attribution": "&copy; <a href=\"https://www.openstreetmap.org/copyright\">OpenStreetMap</a> contributors",
       "base": true,
       "max_zoom": 19,
       "min_zoom": 1,
       "name": "OpenStreetMap.Mapnik",
       "options": [
        "attribution",
        "bounds",
        "detect_retina",
        "max_native_zoom",
        "max_zoom",
        "min_native_zoom",
        "min_zoom",
        "no_wrap",
        "tile_size",
        "tms",
        "zoom_offset"
       ],
       "url": "https://tile.openstreetmap.org/{z}/{x}/{y}.png"
      }
     },
     "ce12d11890af4540ae3235c86294fa40": {
      "model_module": "@jupyter-widgets/base",
      "model_module_version": "2.0.0",
      "model_name": "LayoutModel",
      "state": {}
     },
     "d03830176c9e4c39903b99528c3df4a7": {
      "model_module": "jupyter-leaflet",
      "model_module_version": "^0.19",
      "model_name": "LeafletVectorTileLayerModel",
      "state": {
       "_model_module_version": "^0.19",
       "_view_module_version": "^0.19",
       "api_key": "gCZXZglvRQa6sB2z7JzL1w",
       "attribution": "",
       "feature_id": null,
       "feature_style": {},
       "layer_styles": {
        "admin": {
         "color": "pink",
         "fillColor": "pink",
         "fillOpacity": 0.2,
         "opacity": 0.4,
         "weight": 1
        },
        "aeroway": {
         "color": "#51aeb5",
         "fillColor": "#51aeb5",
         "fillOpacity": 0.2,
         "opacity": 0.4,
         "weight": 1
        },
        "andcover": {
         "color": "#53e033",
         "fill": "true",
         "fillColor": "#53e033",
         "fillOpacity": 0.2,
         "opacity": 0.4,
         "weight": 1
        },
        "boundaries": {
         "color": "#c545d3",
         "fillColor": "#c545d3",
         "fillOpacity": 0.2,
         "opacity": 0.4,
         "weight": 1
        },
        "buildings": {
         "color": "#2b2b2b",
         "fill": "true",
         "fillColor": "#2b2b2b",
         "fillOpacity": 0.2,
         "opacity": 0.4,
         "weight": 1
        },
        "earth": {
         "color": "#c0c0c0",
         "fill": "true",
         "fillColor": "#c0c0c0",
         "fillOpacity": 0.2,
         "opacity": 0.4,
         "weight": 1
        },
        "housenumber": {
         "color": "#ef4c8b",
         "fillColor": "#ef4c8b",
         "fillOpacity": 0.2,
         "opacity": 0.4,
         "weight": 1
        },
        "landuse": {
         "color": "#e5b404",
         "fill": "true",
         "fillColor": "#e5b404",
         "fillOpacity": 0.2,
         "opacity": 0.4,
         "weight": 1
        },
        "park": {
         "color": "#84ea5b",
         "fill": "true",
         "fillColor": "#84ea5b",
         "fillOpacity": 0.2,
         "opacity": 0.4,
         "weight": 1
        },
        "places": {
         "color": "#f20e93",
         "fillColor": "#f20e93",
         "fillOpacity": 0.2,
         "opacity": 0.4,
         "weight": 1
        },
        "pois": {
         "color": "#3bb50a",
         "fillColor": "#3bb50a",
         "fillOpacity": 0.2,
         "opacity": 0.4,
         "weight": 1
        },
        "roads": {
         "color": "#f2b648",
         "fillColor": "#f2b648",
         "fillOpacity": 0.2,
         "opacity": 0.4,
         "weight": 1
        },
        "transit": {
         "color": "#f2b648",
         "fillColor": "#f2b648",
         "fillOpacity": 0.2,
         "opacity": 0.4,
         "weight": 0.5
        },
        "transportation_name": {
         "color": "#bc6b38",
         "fillColor": "#bc6b38",
         "fillOpacity": 0.2,
         "opacity": 0.4,
         "weight": 1
        },
        "water": {
         "color": "#06cccc",
         "fill": "true",
         "fillColor": "#06cccc",
         "fillOpacity": 0.2,
         "opacity": 0.4,
         "weight": 1
        },
        "water_name": {
         "color": "#022c5b",
         "fillColor": "#022c5b",
         "fillOpacity": 0.2,
         "opacity": 0.4,
         "weight": 1
        },
        "waterway": {
         "color": "#2375e0",
         "fillColor": "#2375e0",
         "fillOpacity": 0.2,
         "opacity": 0.4,
         "weight": 1
        }
       },
       "name": "custom",
       "options": [
        "api_key",
        "attribution",
        "feature_id",
        "interactive",
        "layer_styles",
        "max_native_zoom",
        "max_zoom",
        "min_native_zoom",
        "min_zoom",
        "opacity",
        "renderer",
        "url",
        "visible"
       ],
       "renderer": "svg",
       "url": "https://tile.nextzen.org/tilezen/vector/v1/512/all/{z}/{x}/{y}.mvt?api_key={apiKey}"
      }
     },
     "d39c9840612e4a7089a77deb82c20862": {
      "model_module": "jupyter-leaflet",
      "model_module_version": "^0.19",
      "model_name": "LeafletAttributionControlModel",
      "state": {
       "_model_module_version": "^0.19",
       "_view_module_version": "^0.19",
       "options": [
        "position",
        "prefix"
       ],
       "position": "bottomright",
       "prefix": "ipyleaflet"
      }
     },
     "e76253ab963f46d1bdd0833da715a73f": {
      "model_module": "@jupyter-widgets/output",
      "model_module_version": "1.0.0",
      "model_name": "OutputModel",
      "state": {
       "layout": "IPY_MODEL_bc5bcbf2be7041c2a867c79bfe29bc1d",
       "outputs": [
        {
         "name": "stdout",
         "output_type": "stream",
         "text": "2025-04-08 23:28:09,647 [INFO] api_create_app.py:render:126 - App render end.\n"
        },
        {
         "name": "stdout",
         "output_type": "stream",
         "text": "2025-04-08 23:28:09,644 [INFO] sfc_codegen.py:render:165 - 🔥 Rerender SFC<__tmp_for_str.vue> at 4393773968\n"
        },
        {
         "name": "stdout",
         "output_type": "stream",
         "text": "2025-04-08 23:28:09,643 [INFO] api_create_app.py:render:116 - App render start.\n"
        },
        {
         "name": "stdout",
         "output_type": "stream",
         "text": "2025-04-08 23:27:48,825 [INFO] api_create_app.py:render:126 - App render end.\n"
        },
        {
         "name": "stdout",
         "output_type": "stream",
         "text": "2025-04-08 23:27:48,804 [INFO] sfc_codegen.py:render:165 - 🔥 Rerender SFC<__tmp_for_str.vue> at 4591484352\n"
        },
        {
         "name": "stdout",
         "output_type": "stream",
         "text": "2025-04-08 23:27:48,804 [INFO] api_create_app.py:render:116 - App render start.\n"
        }
       ]
      }
     },
     "fbd228672243423f9a32263ffd86513d": {
      "model_module": "@jupyter-widgets/controls",
      "model_module_version": "2.0.0",
      "model_name": "VBoxModel",
      "state": {
       "children": [
        "IPY_MODEL_92f3ab7b9cb14f7eb884e0c40679d2c2",
        "IPY_MODEL_7d4de14f2c9f47d287b709607e459334"
       ],
       "layout": "IPY_MODEL_b98404658e7041dfbded10e74073c561"
      }
     }
    },
    "version_major": 2,
    "version_minor": 0
   }
  }
 },
 "nbformat": 4,
 "nbformat_minor": 5
}
