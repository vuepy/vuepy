{
 "cells": [
  {
   "cell_type": "markdown",
   "id": "a1e2fa29-7566-4426-be1e-a750658d83a5",
   "metadata": {},
   "source": [
    "# Vector Tile Layer\n"
   ]
  },
  {
   "cell_type": "markdown",
   "id": "7cdc5e8c-2aa8-41d1-9461-3e451f6ef6ea",
   "metadata": {},
   "source": [
    "## 基础用法\n"
   ]
  },
  {
   "cell_type": "code",
   "execution_count": 1,
   "id": "f5928b17-e8c8-47b0-9774-a8bb1f7e6af3",
   "metadata": {},
   "outputs": [],
   "source": [
    "import os\n",
    "import pathlib\n",
    "from vuepy.utils import magic\n",
    "from vleaflet import leaflet\n",
    "%load_ext vuepy"
   ]
  },
  {
   "cell_type": "code",
   "execution_count": 2,
   "id": "7982482f-985d-44b5-89d6-57b3bb2c3427",
   "metadata": {},
   "outputs": [
    {
     "name": "stdout",
     "output_type": "stream",
     "text": [
      "{\"vue\": \"<template>\\n  <vl-map :center=\\\"center\\\" :zoom=9 ref='m'>\\n    <template #controls>\\n      <vl-layers-control position='topleft' :collapsed='False'/>\\n    </template>\\n  </vl-map>\\n</template>\\n<script lang='py'>\\nfrom ipyleaflet import VectorTileLayer\\nfrom traitlets import Unicode\\nfrom vuepy import ref, onMounted\\n\\nm = ref(None)\\ncenter = [52.204793, 360.121558]\\n\\n# This is a custom VectorTileLayer subclass, allowing to pass our api key to the url\\nclass CustomVectorTileLayer(VectorTileLayer):\\n    api_key = Unicode('gCZXZglvRQa6sB2z7JzL1w').tag(sync=True, o=True)\\n\\nwater_style = dict(\\nfill=\\\"true\\\",\\nweight=1,\\nfillColor=\\\"#06cccc\\\",\\ncolor=\\\"#06cccc\\\",\\nfillOpacity=0.2,\\nopacity=0.4,\\n)\\n\\nwaterway_style = dict(\\n    weight=1, fillColor=\\\"#2375e0\\\", color=\\\"#2375e0\\\", fillOpacity=0.2, opacity=0.4\\n)\\n\\nadmin_style = dict(\\n    weight=1, fillColor=\\\"pink\\\", color=\\\"pink\\\", fillOpacity=0.2, opacity=0.4\\n)\\n\\nlandcover_style = dict(\\n    fill=\\\"true\\\",\\n    weight=1,\\n    fillColor=\\\"#53e033\\\",\\n    color=\\\"#53e033\\\",\\n    fillOpacity=0.2,\\n    opacity=0.4,\\n)\\n\\nlanduse_style = dict(\\n    fill=\\\"true\\\",\\n    weight=1,\\n    fillColor=\\\"#e5b404\\\",\\n    color=\\\"#e5b404\\\",\\n    fillOpacity=0.2,\\n    opacity=0.4,\\n)\\n\\npark_style = dict(\\n    fill=\\\"true\\\",\\n    weight=1,\\n    fillColor=\\\"#84ea5b\\\",\\n    color=\\\"#84ea5b\\\",\\n    fillOpacity=0.2,\\n    opacity=0.4,\\n)\\n\\nboundary_style = dict(\\n    weight=1, fillColor=\\\"#c545d3\\\", color=\\\"#c545d3\\\", fillOpacity=0.2, opacity=0.4\\n)\\n\\naeroway = dict(\\n    weight=1, fillColor=\\\"#51aeb5\\\", color=\\\"#51aeb5\\\", fillOpacity=0.2, opacity=0.4\\n)\\n\\nroad = dict(\\n    weight=1, fillColor=\\\"#f2b648\\\", color=\\\"#f2b648\\\", fillOpacity=0.2, opacity=0.4\\n)\\n\\ntransit = dict(\\n    weight=0.5, fillColor=\\\"#f2b648\\\", color=\\\"#f2b648\\\", fillOpacity=0.2, opacity=0.4\\n)\\n\\nbuildings = dict(\\n    fill=\\\"true\\\",\\n    weight=1,\\n    fillColor=\\\"#2b2b2b\\\",\\n    color=\\\"#2b2b2b\\\",\\n    fillOpacity=0.2,\\n    opacity=0.4,\\n)\\n\\nwater_name = dict(\\n    weight=1, fillColor=\\\"#022c5b\\\", color=\\\"#022c5b\\\", fillOpacity=0.2, opacity=0.4\\n)\\n\\ntransportation_name = dict(\\n    weight=1, fillColor=\\\"#bc6b38\\\", color=\\\"#bc6b38\\\", fillOpacity=0.2, opacity=0.4\\n)\\n\\nplace = dict(\\n    weight=1, fillColor=\\\"#f20e93\\\", color=\\\"#f20e93\\\", fillOpacity=0.2, opacity=0.4\\n)\\n\\nhousenumber = dict(\\n    weight=1, fillColor=\\\"#ef4c8b\\\", color=\\\"#ef4c8b\\\", fillOpacity=0.2, opacity=0.4\\n)\\n\\npoi = dict(weight=1, fillColor=\\\"#3bb50a\\\", color=\\\"#3bb50a\\\", fillOpacity=0.2, opacity=0.4)\\n\\nearth = dict(\\n    fill=\\\"true\\\",\\n    weight=1,\\n    fillColor=\\\"#c0c0c0\\\",\\n    color=\\\"#c0c0c0\\\",\\n    fillOpacity=0.2,\\n    opacity=0.4,\\n)\\n\\nurl = 'https://tile.nextzen.org/tilezen/vector/v1/512/all/{z}/{x}/{y}.mvt?api_key={apiKey}'\\nvector_tile_layer_styles = dict(\\n    water=water_style,\\n    waterway=waterway_style,\\n    admin=admin_style,\\n    andcover=landcover_style,\\n    landuse=landuse_style,\\n    park=park_style,\\n    boundaries=boundary_style,\\n    aeroway=aeroway,\\n    roads=road,\\n    transit=transit,\\n    buildings=buildings,\\n    water_name=water_name,\\n    transportation_name=transportation_name,\\n    places=place,\\n    housenumber=housenumber,\\n    pois=poi,\\n    earth=earth\\n)\\n\\nvl = CustomVectorTileLayer(\\n    name='custom', url=url, vector_tile_layer_styles=vector_tile_layer_styles)\\n\\n@onMounted\\ndef add_layer():\\n    m.value.add(vl)\\n    \\n</script>\\n\", \"setup\": \"\"}\n"
     ]
    },
    {
     "data": {
      "application/vnd.jupyter.widget-view+json": {
       "model_id": "f95be8cfd07244efb30ba4f12debde1a",
       "version_major": 2,
       "version_minor": 0
      },
      "text/plain": [
       "Document(children=(Dom(children=(MessageWidget(message_options={'message': '', 'type': 'info', 'show_close': F…"
      ]
     },
     "execution_count": 2,
     "metadata": {},
     "output_type": "execute_result"
    }
   ],
   "source": [
    "%%vuepy_run --plugins leaflet --show-code\n",
    "<template>\n",
    "  <vl-map :center=\"center\" :zoom=9 ref='m'>\n",
    "    <template #controls>\n",
    "      <vl-layers-control position='topleft' :collapsed='False'/>\n",
    "    </template>\n",
    "  </vl-map>\n",
    "</template>\n",
    "<script lang='py'>\n",
    "from ipyleaflet import VectorTileLayer\n",
    "from traitlets import Unicode\n",
    "from vuepy import ref, onMounted\n",
    "\n",
    "m = ref(None)\n",
    "center = [52.204793, 360.121558]\n",
    "\n",
    "# This is a custom VectorTileLayer subclass, allowing to pass our api key to the url\n",
    "class CustomVectorTileLayer(VectorTileLayer):\n",
    "    api_key = Unicode('gCZXZglvRQa6sB2z7JzL1w').tag(sync=True, o=True)\n",
    "\n",
    "water_style = dict(\n",
    "fill=\"true\",\n",
    "weight=1,\n",
    "fillColor=\"#06cccc\",\n",
    "color=\"#06cccc\",\n",
    "fillOpacity=0.2,\n",
    "opacity=0.4,\n",
    ")\n",
    "\n",
    "waterway_style = dict(\n",
    "    weight=1, fillColor=\"#2375e0\", color=\"#2375e0\", fillOpacity=0.2, opacity=0.4\n",
    ")\n",
    "\n",
    "admin_style = dict(\n",
    "    weight=1, fillColor=\"pink\", color=\"pink\", fillOpacity=0.2, opacity=0.4\n",
    ")\n",
    "\n",
    "landcover_style = dict(\n",
    "    fill=\"true\",\n",
    "    weight=1,\n",
    "    fillColor=\"#53e033\",\n",
    "    color=\"#53e033\",\n",
    "    fillOpacity=0.2,\n",
    "    opacity=0.4,\n",
    ")\n",
    "\n",
    "landuse_style = dict(\n",
    "    fill=\"true\",\n",
    "    weight=1,\n",
    "    fillColor=\"#e5b404\",\n",
    "    color=\"#e5b404\",\n",
    "    fillOpacity=0.2,\n",
    "    opacity=0.4,\n",
    ")\n",
    "\n",
    "park_style = dict(\n",
    "    fill=\"true\",\n",
    "    weight=1,\n",
    "    fillColor=\"#84ea5b\",\n",
    "    color=\"#84ea5b\",\n",
    "    fillOpacity=0.2,\n",
    "    opacity=0.4,\n",
    ")\n",
    "\n",
    "boundary_style = dict(\n",
    "    weight=1, fillColor=\"#c545d3\", color=\"#c545d3\", fillOpacity=0.2, opacity=0.4\n",
    ")\n",
    "\n",
    "aeroway = dict(\n",
    "    weight=1, fillColor=\"#51aeb5\", color=\"#51aeb5\", fillOpacity=0.2, opacity=0.4\n",
    ")\n",
    "\n",
    "road = dict(\n",
    "    weight=1, fillColor=\"#f2b648\", color=\"#f2b648\", fillOpacity=0.2, opacity=0.4\n",
    ")\n",
    "\n",
    "transit = dict(\n",
    "    weight=0.5, fillColor=\"#f2b648\", color=\"#f2b648\", fillOpacity=0.2, opacity=0.4\n",
    ")\n",
    "\n",
    "buildings = dict(\n",
    "    fill=\"true\",\n",
    "    weight=1,\n",
    "    fillColor=\"#2b2b2b\",\n",
    "    color=\"#2b2b2b\",\n",
    "    fillOpacity=0.2,\n",
    "    opacity=0.4,\n",
    ")\n",
    "\n",
    "water_name = dict(\n",
    "    weight=1, fillColor=\"#022c5b\", color=\"#022c5b\", fillOpacity=0.2, opacity=0.4\n",
    ")\n",
    "\n",
    "transportation_name = dict(\n",
    "    weight=1, fillColor=\"#bc6b38\", color=\"#bc6b38\", fillOpacity=0.2, opacity=0.4\n",
    ")\n",
    "\n",
    "place = dict(\n",
    "    weight=1, fillColor=\"#f20e93\", color=\"#f20e93\", fillOpacity=0.2, opacity=0.4\n",
    ")\n",
    "\n",
    "housenumber = dict(\n",
    "    weight=1, fillColor=\"#ef4c8b\", color=\"#ef4c8b\", fillOpacity=0.2, opacity=0.4\n",
    ")\n",
    "\n",
    "poi = dict(weight=1, fillColor=\"#3bb50a\", color=\"#3bb50a\", fillOpacity=0.2, opacity=0.4)\n",
    "\n",
    "earth = dict(\n",
    "    fill=\"true\",\n",
    "    weight=1,\n",
    "    fillColor=\"#c0c0c0\",\n",
    "    color=\"#c0c0c0\",\n",
    "    fillOpacity=0.2,\n",
    "    opacity=0.4,\n",
    ")\n",
    "\n",
    "url = 'https://tile.nextzen.org/tilezen/vector/v1/512/all/{z}/{x}/{y}.mvt?api_key={apiKey}'\n",
    "vector_tile_layer_styles = dict(\n",
    "    water=water_style,\n",
    "    waterway=waterway_style,\n",
    "    admin=admin_style,\n",
    "    andcover=landcover_style,\n",
    "    landuse=landuse_style,\n",
    "    park=park_style,\n",
    "    boundaries=boundary_style,\n",
    "    aeroway=aeroway,\n",
    "    roads=road,\n",
    "    transit=transit,\n",
    "    buildings=buildings,\n",
    "    water_name=water_name,\n",
    "    transportation_name=transportation_name,\n",
    "    places=place,\n",
    "    housenumber=housenumber,\n",
    "    pois=poi,\n",
    "    earth=earth\n",
    ")\n",
    "\n",
    "vl = CustomVectorTileLayer(\n",
    "    name='custom', url=url, vector_tile_layer_styles=vector_tile_layer_styles)\n",
    "\n",
    "@onMounted\n",
    "def add_layer():\n",
    "    m.value.add(vl)\n",
    "    \n",
    "</script>"
   ]
  },
  {
   "cell_type": "markdown",
   "id": "8685d144-029f-4afa-8547-4f3d84529504",
   "metadata": {},
   "source": [
    "## API\n",
    "\n",
    "### 属性\n",
    "\n",
    "| 属性名 | 说明 | 类型 | 默认值 | 必填 | 备注 |\n",
    "|--------|------|------|--------|------|------|\n",
    "| url | 矢量tile服务URL | string | - | 是 | 必须为有效矢量瓦片服务地址 |\n",
    "| name | 图层名称 | string | '' | 否 | - |\n",
    "| attribution | 数据源属性说明 | string | '' | 否 | - |\n",
    "| vector_tile_layer_styles | 矢量数据样式配置 | Object | `{}` | 否 | 支持Mapbox GL样式规范 |\n",
    "\n",
    "### 事件\n",
    "\n",
    "| 事件名 | 说明 | 参数 |\n",
    "|--------|------|------|\n",
    "| - | - | - |\n",
    "\n",
    "### 插槽\n",
    "\n",
    "| 插槽名 | 说明 |\n",
    "|--------|------|\n",
    "| default | 自定义图层内容 |\n",
    "\n",
    "### 方法\n",
    "\n",
    "| 方法名 | 说明 | 参数 | 返回值 |\n",
    "|--------|------|------|--------|\n",
    "| redraw | 强制重绘矢量tile | - | void |\n",
    "\n",
    "ref: // https://ipyleaflet.readthedocs.io/en/latest/layers/vector_tile.html\n"
   ]
  },
  {
   "cell_type": "code",
   "execution_count": null,
   "id": "db17c770-7085-4365-b5f0-bd4f66ebc948",
   "metadata": {},
   "outputs": [],
   "source": []
  }
 ],
 "metadata": {
  "kernelspec": {
   "display_name": "Python 3 (ipykernel)",
   "language": "python",
   "name": "python3"
  },
  "language_info": {
   "codemirror_mode": {
    "name": "ipython",
    "version": 3
   },
   "file_extension": ".py",
   "mimetype": "text/x-python",
   "name": "python",
   "nbconvert_exporter": "python",
   "pygments_lexer": "ipython3",
   "version": "3.10.12"
  },
  "widgets": {
   "application/vnd.jupyter.widget-state+json": {
    "state": {
     "04bb8a03534947f48ac7d1ba5bb361f5": {
      "model_module": "@jupyter-widgets/controls",
      "model_module_version": "2.0.0",
      "model_name": "VBoxModel",
      "state": {
       "children": [
        "IPY_MODEL_eb806817b45747ce8bb1db31fbaec1d8"
       ],
       "layout": "IPY_MODEL_6f46124e758b4a82aabe3c6b1a701b28"
      }
     },
     "072e111cbf374b5492126aaef92d16b3": {
      "model_module": "@jupyter-widgets/base",
      "model_module_version": "2.0.0",
      "model_name": "LayoutModel",
      "state": {}
     },
     "07c29dd158e64f9baf00c1ed067be3e2": {
      "model_module": "@jupyter-widgets/base",
      "model_module_version": "2.0.0",
      "model_name": "LayoutModel",
      "state": {}
     },
     "0e99931aba574e3d95a2ca05b20c6153": {
      "model_module": "jupyter-leaflet",
      "model_module_version": "^0.19",
      "model_name": "LeafletMapStyleModel",
      "state": {
       "_model_module_version": "^0.19"
      }
     },
     "1a35f2ad76704b7ab2dbeef08bc6e3df": {
      "model_module": "@jupyter-widgets/base",
      "model_module_version": "2.0.0",
      "model_name": "LayoutModel",
      "state": {}
     },
     "221692897f914dcbb0cc2037f66daddf": {
      "model_module": "anywidget",
      "model_module_version": "~0.9.*",
      "model_name": "AnyModel",
      "state": {
       "_anywidget_id": "ipywui.widgets.custom.message.MessageWidget",
       "_css": ".wui-message-root {\n    display: flex;\n    position: absolute;\n    left: 0;\n    right: 0;\n    top: 0;\n}\n\n.wui-message-container {\n    align-items: center;\n    display: flex;\n    flex-direction: column-reverse;\n    justify-content: center;\n    min-height: 100%;\n    outline: none;\n    width: 100%;\n\n    -webkit-tap-highlight-color: rgba(0,0,0,0);\n    bottom: 0;\n    left: 0;\n    right: 0;\n    top: 0;\n}\n\n.wui-message--success {\n    --wui-message-bg-color: #f0f9eb;\n    --wui-message-border-color: #e1f3d8;\n    --wui-message-text-color: #67c23a;\n}\n.wui-message--warning {\n    --wui-message-bg-color: #fdf6ec;\n    --wui-message-border-color: #faecd8;\n    --wui-message-text-color: #e6a23c;\n}\n.wui-message--info {\n    --wui-message-bg-color: #f4f4f5;\n    --wui-message-border-color: #e9e9eb;\n    --wui-message-text-color: #909399;\n}\n.wui-message--error {\n    --wui-message-bg-color: #fef0f0;\n    --wui-message-border-color: #fde2e2;\n    --wui-message-text-color: #f56c6c;\n}\n\n@keyframes msg-open {\n    0% {\n        opacity: 0;\n        -webkit-transform: translateY(-120%);\n        transform: translateY(-120%)\n    }\n    to {\n        -webkit-transform: translateY(0);\n        transform: translateY(0)\n    }\n}\n\n@keyframes msg-close {\n    0% {\n        opacity: 1;\n        -webkit-transform: scale(1);\n        transform: scale(1)\n    }\n    to {\n        opacity: 0;\n        -webkit-transform: scale(.9);\n        transform: scale(.9)\n    }\n}\n.wui-message[data-state=entered],.wui-message[data-state=entering] {\n    -webkit-animation: msg-open .24s cubic-bezier(.175,.885,.32,1.175) both;\n    animation: msg-open .24s cubic-bezier(.175,.885,.32,1.175) both\n}\n\n.wui-message[data-state=exiting] {\n    -webkit-animation: msg-close .12s cubic-bezier(.4,0,1,1) both;\n    animation: msg-close .12s cubic-bezier(.4,0,1,1) both\n}\n\n.wui-message {\n    width: -webkit-fit-content;\n    width: -moz-fit-content;\n    width: fit-content;\n    z-index: 2004;\n    max-width: calc(100% - 32px);\n    margin-top: 8px;\n    box-sizing: border-box;\n    /*border-radius: var(--wui-border-radius-base);*/\n    /*border-width: var(--wui-border-width);*/\n    /*border-style: var(--wui-border-style);*/\n    border-color: var(--wui-message-border-color);\n    /*left: 50%;*/\n    /*top: 20px;*/\n    /*transform: translateX(-50%);*/\n    background-color: var(--wui-message-bg-color);\n    /*transition: opacity var(--wui-transition-duration),transform .4s,top .4s;*/\n    /*padding: var(--wui-message-padding);*/\n    display: flex;\n    align-items: center;\n}\n\n/*.wui-message--success */\n.wui-message__content {\n    color: var(--wui-message-text-color);\n    font-size: 14px;\n    line-height: 18px;\n    margin: 10px 14px 10px 14px;\n    overflow-wrap: break-word;\n}\n\n.wui-message__closeBtn {\n    /*cursor: pointer;*/\n    font-style: normal;\n    /*color: gray;*/\n    padding-right: 14px;\n    /*font-size: 13px;*/\n    user-select: none;\n\n    background: transparent;\n    border: none;\n    color: gray;\n    cursor: pointer;\n    font-size: 13px;\n    font-weight: 400;\n    line-height: 1;\n    outline: none;\n    /*padding: 4px;*/\n    text-align: center;\n    transition: opacity .3s;\n    /*width: 100%;*/\n}",
       "_esm": "function closeMsg(msgDom) {\n  if (!msgDom) {\n    return;\n  }\n  msgDom.setAttribute('data-state', 'exiting');\n  msgDom.remove();\n}\n\nfunction createMsg(options) {\n  const {message, msg_id, type = 'info', show_close = false} = options;\n  const msgDom = document.createElement('div');\n  msgDom.className += ` wui-message--${type} wui-message`;\n  msgDom.setAttribute('data-state', 'entered');\n  msgDom.setAttribute('id', msg_id);\n  const msgContent = document.createElement('p');\n  msgContent.className += ` wui-message--${type} wui-message__content`;\n  msgContent.innerText = message;\n  msgDom.appendChild(msgContent);\n  if (show_close) {\n    const closeBtn = document.createElement('i');\n    closeBtn.className += 'wui-message__closeBtn';\n    closeBtn.innerText = 'x';\n    closeBtn.addEventListener('click', (ev) => {\n      closeMsg(msgDom);\n    })\n    msgDom.appendChild(closeBtn);\n  }\n  return msgDom;\n}\n\nexport async function render(view) {\n  let model = view.model;\n  const msgRoot = view.el;\n  msgRoot.className += ' wui-message-root'\n\n  const msgContainer = document.createElement('div');\n  msgContainer.className += ' wui-message-container';\n  msgRoot.appendChild(msgContainer)\n\n  model.on(\"change:message_options\", () => {\n    const options = model.get(\"message_options\");\n    const msg = createMsg(options);\n    msgContainer.appendChild(msg);\n    const {duration = 3000} = options;\n    if (duration > 0) {\n      setTimeout(() => {\n        closeMsg(msg)\n      }, duration);\n    }\n  })\n\n  model.on(\"change:close_msg_id\", () => {\n    const msg_id = model.get(\"close_msg_id\");\n    const msgDom = document.getElementById(msg_id);\n    closeMsg(msgDom);\n  })\n}\n",
       "_model_module": "anywidget",
       "_model_module_version": "~0.9.*",
       "_model_name": "AnyModel",
       "_view_module": "anywidget",
       "_view_module_version": "~0.9.*",
       "_view_name": "AnyView",
       "close_msg_id": "",
       "layout": "IPY_MODEL_072e111cbf374b5492126aaef92d16b3",
       "message_options": {
        "duration": 3000,
        "message": "",
        "show_close": false,
        "type": "info"
       }
      }
     },
     "24c3d392c8a346f08a2f69f6fd0dbc16": {
      "model_module": "@jupyter-widgets/output",
      "model_module_version": "1.0.0",
      "model_name": "OutputModel",
      "state": {
       "layout": "IPY_MODEL_1a35f2ad76704b7ab2dbeef08bc6e3df",
       "outputs": [
        {
         "name": "stdout",
         "output_type": "stream",
         "text": "2025-04-12 01:19:04,534 [INFO] api_create_app.py:render:126 - App render end.\n"
        },
        {
         "name": "stdout",
         "output_type": "stream",
         "text": "2025-04-12 01:19:04,487 [INFO] sfc_codegen.py:render:165 - 🔥 Rerender SFC<__tmp_for_str.vue> at 4475747776\n"
        },
        {
         "name": "stdout",
         "output_type": "stream",
         "text": "2025-04-12 01:19:04,487 [INFO] api_create_app.py:render:116 - App render start.\n"
        }
       ]
      }
     },
     "5e0c1abc7e6646a0a8204e7f912ab93b": {
      "model_module": "jupyter-leaflet",
      "model_module_version": "^0.19",
      "model_name": "LeafletAttributionControlModel",
      "state": {
       "_model_module_version": "^0.19",
       "_view_module_version": "^0.19",
       "options": [
        "position",
        "prefix"
       ],
       "position": "bottomright",
       "prefix": "ipyleaflet"
      }
     },
     "6f46124e758b4a82aabe3c6b1a701b28": {
      "model_module": "@jupyter-widgets/base",
      "model_module_version": "2.0.0",
      "model_name": "LayoutModel",
      "state": {}
     },
     "70fbdc88937d48ddbda8f592cea7e485": {
      "model_module": "@jupyter-widgets/base",
      "model_module_version": "2.0.0",
      "model_name": "LayoutModel",
      "state": {}
     },
     "8edaa379347a4dec8b9499eaf62c65ec": {
      "model_module": "@jupyter-widgets/controls",
      "model_module_version": "2.0.0",
      "model_name": "VBoxModel",
      "state": {
       "children": [
        "IPY_MODEL_a8420df0dcef4682ac2532eaf097eab3"
       ],
       "layout": "IPY_MODEL_9f263e72d8984e0c8d46f45a005a1c89"
      }
     },
     "9f263e72d8984e0c8d46f45a005a1c89": {
      "model_module": "@jupyter-widgets/base",
      "model_module_version": "2.0.0",
      "model_name": "LayoutModel",
      "state": {}
     },
     "a454d366d0ad473d806227d0abe27c79": {
      "model_module": "jupyter-leaflet",
      "model_module_version": "^0.19",
      "model_name": "LeafletZoomControlModel",
      "state": {
       "_model_module_version": "^0.19",
       "_view_module_version": "^0.19",
       "options": [
        "position",
        "zoom_in_text",
        "zoom_in_title",
        "zoom_out_text",
        "zoom_out_title"
       ]
      }
     },
     "a6271c390542465892e42e3565b9678b": {
      "model_module": "jupyter-leaflet",
      "model_module_version": "^0.19",
      "model_name": "LeafletMapStyleModel",
      "state": {
       "_model_module_version": "^0.19",
       "cursor": "move"
      }
     },
     "a8420df0dcef4682ac2532eaf097eab3": {
      "model_module": "jupyter-leaflet",
      "model_module_version": "^0.19",
      "model_name": "LeafletMapModel",
      "state": {
       "_model_module_version": "^0.19",
       "_view_module_version": "^0.19",
       "bottom": 43374,
       "center": [
        52.204793,
        360.121558
       ],
       "controls": [
        "IPY_MODEL_a454d366d0ad473d806227d0abe27c79",
        "IPY_MODEL_5e0c1abc7e6646a0a8204e7f912ab93b",
        "IPY_MODEL_eb806817b45747ce8bb1db31fbaec1d8"
       ],
       "default_style": "IPY_MODEL_0e99931aba574e3d95a2ca05b20c6153",
       "dragging_style": "IPY_MODEL_a6271c390542465892e42e3565b9678b",
       "east": 361.9143676757813,
       "fullscreen": false,
       "interpolation": "bilinear",
       "layers": [
        "IPY_MODEL_a8536a69337846f3b2bf5baccc9ca7b8",
        "IPY_MODEL_c6c79cd8cec441ffa9c45240af86f003"
       ],
       "layout": "IPY_MODEL_b7bd6622e01347f693ff99a1ca9e1b48",
       "left": 195999,
       "modisdate": "2025-04-11",
       "north": 52.53961418106945,
       "options": [
        "bounce_at_zoom_limits",
        "box_zoom",
        "center",
        "close_popup_on_click",
        "double_click_zoom",
        "dragging",
        "fullscreen",
        "inertia",
        "inertia_deceleration",
        "inertia_max_speed",
        "interpolation",
        "keyboard",
        "keyboard_pan_offset",
        "keyboard_zoom_offset",
        "max_zoom",
        "min_zoom",
        "prefer_canvas",
        "scroll_wheel_zoom",
        "tap",
        "tap_tolerance",
        "touch_zoom",
        "world_copy_jump",
        "zoom",
        "zoom_animation_threshold",
        "zoom_delta",
        "zoom_snap"
       ],
       "prefer_canvas": false,
       "right": 197305,
       "south": 51.86631606154492,
       "style": "IPY_MODEL_b938fcb03d0d4b649fd83edd8ce81a04",
       "top": 42974,
       "west": 358.3273315429688,
       "window_url": "http://localhost:2071/lab/tree/nb_llm/pyvue/examples/vleaflet/layers/VectorTileLayer.ipynb",
       "zoom": 9
      }
     },
     "a8536a69337846f3b2bf5baccc9ca7b8": {
      "model_module": "jupyter-leaflet",
      "model_module_version": "^0.19",
      "model_name": "LeafletTileLayerModel",
      "state": {
       "_model_module_version": "^0.19",
       "_view_module_version": "^0.19",
       "attribution": "&copy; <a href=\"https://www.openstreetmap.org/copyright\">OpenStreetMap</a> contributors",
       "base": true,
       "max_zoom": 19,
       "min_zoom": 1,
       "name": "OpenStreetMap.Mapnik",
       "options": [
        "attribution",
        "bounds",
        "detect_retina",
        "max_native_zoom",
        "max_zoom",
        "min_native_zoom",
        "min_zoom",
        "no_wrap",
        "tile_size",
        "tms",
        "zoom_offset"
       ],
       "url": "https://tile.openstreetmap.org/{z}/{x}/{y}.png"
      }
     },
     "b16716b349244dbfae3d16e7a32c0685": {
      "model_module": "@jupyter-widgets/controls",
      "model_module_version": "2.0.0",
      "model_name": "VBoxModel",
      "state": {
       "children": [
        "IPY_MODEL_221692897f914dcbb0cc2037f66daddf",
        "IPY_MODEL_8edaa379347a4dec8b9499eaf62c65ec"
       ],
       "layout": "IPY_MODEL_07c29dd158e64f9baf00c1ed067be3e2"
      }
     },
     "b7bd6622e01347f693ff99a1ca9e1b48": {
      "model_module": "@jupyter-widgets/base",
      "model_module_version": "2.0.0",
      "model_name": "LayoutModel",
      "state": {}
     },
     "b938fcb03d0d4b649fd83edd8ce81a04": {
      "model_module": "jupyter-leaflet",
      "model_module_version": "^0.19",
      "model_name": "LeafletMapStyleModel",
      "state": {
       "_model_module_version": "^0.19"
      }
     },
     "bc5bae29cc544eb5bc4bdf525eddb723": {
      "model_module": "anywidget",
      "model_module_version": "~0.9.*",
      "model_name": "AnyModel",
      "state": {
       "_anywidget_id": "ipywui.widgets.custom.message.MessageWidget",
       "_css": ".wui-message-root {\n    display: flex;\n    position: absolute;\n    left: 0;\n    right: 0;\n    top: 0;\n}\n\n.wui-message-container {\n    align-items: center;\n    display: flex;\n    flex-direction: column-reverse;\n    justify-content: center;\n    min-height: 100%;\n    outline: none;\n    width: 100%;\n\n    -webkit-tap-highlight-color: rgba(0,0,0,0);\n    bottom: 0;\n    left: 0;\n    right: 0;\n    top: 0;\n}\n\n.wui-message--success {\n    --wui-message-bg-color: #f0f9eb;\n    --wui-message-border-color: #e1f3d8;\n    --wui-message-text-color: #67c23a;\n}\n.wui-message--warning {\n    --wui-message-bg-color: #fdf6ec;\n    --wui-message-border-color: #faecd8;\n    --wui-message-text-color: #e6a23c;\n}\n.wui-message--info {\n    --wui-message-bg-color: #f4f4f5;\n    --wui-message-border-color: #e9e9eb;\n    --wui-message-text-color: #909399;\n}\n.wui-message--error {\n    --wui-message-bg-color: #fef0f0;\n    --wui-message-border-color: #fde2e2;\n    --wui-message-text-color: #f56c6c;\n}\n\n@keyframes msg-open {\n    0% {\n        opacity: 0;\n        -webkit-transform: translateY(-120%);\n        transform: translateY(-120%)\n    }\n    to {\n        -webkit-transform: translateY(0);\n        transform: translateY(0)\n    }\n}\n\n@keyframes msg-close {\n    0% {\n        opacity: 1;\n        -webkit-transform: scale(1);\n        transform: scale(1)\n    }\n    to {\n        opacity: 0;\n        -webkit-transform: scale(.9);\n        transform: scale(.9)\n    }\n}\n.wui-message[data-state=entered],.wui-message[data-state=entering] {\n    -webkit-animation: msg-open .24s cubic-bezier(.175,.885,.32,1.175) both;\n    animation: msg-open .24s cubic-bezier(.175,.885,.32,1.175) both\n}\n\n.wui-message[data-state=exiting] {\n    -webkit-animation: msg-close .12s cubic-bezier(.4,0,1,1) both;\n    animation: msg-close .12s cubic-bezier(.4,0,1,1) both\n}\n\n.wui-message {\n    width: -webkit-fit-content;\n    width: -moz-fit-content;\n    width: fit-content;\n    z-index: 2004;\n    max-width: calc(100% - 32px);\n    margin-top: 8px;\n    box-sizing: border-box;\n    /*border-radius: var(--wui-border-radius-base);*/\n    /*border-width: var(--wui-border-width);*/\n    /*border-style: var(--wui-border-style);*/\n    border-color: var(--wui-message-border-color);\n    /*left: 50%;*/\n    /*top: 20px;*/\n    /*transform: translateX(-50%);*/\n    background-color: var(--wui-message-bg-color);\n    /*transition: opacity var(--wui-transition-duration),transform .4s,top .4s;*/\n    /*padding: var(--wui-message-padding);*/\n    display: flex;\n    align-items: center;\n}\n\n/*.wui-message--success */\n.wui-message__content {\n    color: var(--wui-message-text-color);\n    font-size: 14px;\n    line-height: 18px;\n    margin: 10px 14px 10px 14px;\n    overflow-wrap: break-word;\n}\n\n.wui-message__closeBtn {\n    /*cursor: pointer;*/\n    font-style: normal;\n    /*color: gray;*/\n    padding-right: 14px;\n    /*font-size: 13px;*/\n    user-select: none;\n\n    background: transparent;\n    border: none;\n    color: gray;\n    cursor: pointer;\n    font-size: 13px;\n    font-weight: 400;\n    line-height: 1;\n    outline: none;\n    /*padding: 4px;*/\n    text-align: center;\n    transition: opacity .3s;\n    /*width: 100%;*/\n}",
       "_esm": "function closeMsg(msgDom) {\n  if (!msgDom) {\n    return;\n  }\n  msgDom.setAttribute('data-state', 'exiting');\n  msgDom.remove();\n}\n\nfunction createMsg(options) {\n  const {message, msg_id, type = 'info', show_close = false} = options;\n  const msgDom = document.createElement('div');\n  msgDom.className += ` wui-message--${type} wui-message`;\n  msgDom.setAttribute('data-state', 'entered');\n  msgDom.setAttribute('id', msg_id);\n  const msgContent = document.createElement('p');\n  msgContent.className += ` wui-message--${type} wui-message__content`;\n  msgContent.innerText = message;\n  msgDom.appendChild(msgContent);\n  if (show_close) {\n    const closeBtn = document.createElement('i');\n    closeBtn.className += 'wui-message__closeBtn';\n    closeBtn.innerText = 'x';\n    closeBtn.addEventListener('click', (ev) => {\n      closeMsg(msgDom);\n    })\n    msgDom.appendChild(closeBtn);\n  }\n  return msgDom;\n}\n\nexport async function render(view) {\n  let model = view.model;\n  const msgRoot = view.el;\n  msgRoot.className += ' wui-message-root'\n\n  const msgContainer = document.createElement('div');\n  msgContainer.className += ' wui-message-container';\n  msgRoot.appendChild(msgContainer)\n\n  model.on(\"change:message_options\", () => {\n    const options = model.get(\"message_options\");\n    const msg = createMsg(options);\n    msgContainer.appendChild(msg);\n    const {duration = 3000} = options;\n    if (duration > 0) {\n      setTimeout(() => {\n        closeMsg(msg)\n      }, duration);\n    }\n  })\n\n  model.on(\"change:close_msg_id\", () => {\n    const msg_id = model.get(\"close_msg_id\");\n    const msgDom = document.getElementById(msg_id);\n    closeMsg(msgDom);\n  })\n}\n",
       "_model_module": "anywidget",
       "_model_module_version": "~0.9.*",
       "_model_name": "AnyModel",
       "_view_module": "anywidget",
       "_view_module_version": "~0.9.*",
       "_view_name": "AnyView",
       "close_msg_id": "",
       "layout": "IPY_MODEL_70fbdc88937d48ddbda8f592cea7e485",
       "message_options": {
        "duration": 3000,
        "message": "",
        "show_close": false,
        "type": "info"
       }
      }
     },
     "c6c79cd8cec441ffa9c45240af86f003": {
      "model_module": "jupyter-leaflet",
      "model_module_version": "^0.19",
      "model_name": "LeafletVectorTileLayerModel",
      "state": {
       "_model_module_version": "^0.19",
       "_view_module_version": "^0.19",
       "api_key": "gCZXZglvRQa6sB2z7JzL1w",
       "attribution": "",
       "feature_id": null,
       "feature_style": {},
       "layer_styles": {
        "admin": {
         "color": "pink",
         "fillColor": "pink",
         "fillOpacity": 0.2,
         "opacity": 0.4,
         "weight": 1
        },
        "aeroway": {
         "color": "#51aeb5",
         "fillColor": "#51aeb5",
         "fillOpacity": 0.2,
         "opacity": 0.4,
         "weight": 1
        },
        "andcover": {
         "color": "#53e033",
         "fill": "true",
         "fillColor": "#53e033",
         "fillOpacity": 0.2,
         "opacity": 0.4,
         "weight": 1
        },
        "boundaries": {
         "color": "#c545d3",
         "fillColor": "#c545d3",
         "fillOpacity": 0.2,
         "opacity": 0.4,
         "weight": 1
        },
        "buildings": {
         "color": "#2b2b2b",
         "fill": "true",
         "fillColor": "#2b2b2b",
         "fillOpacity": 0.2,
         "opacity": 0.4,
         "weight": 1
        },
        "earth": {
         "color": "#c0c0c0",
         "fill": "true",
         "fillColor": "#c0c0c0",
         "fillOpacity": 0.2,
         "opacity": 0.4,
         "weight": 1
        },
        "housenumber": {
         "color": "#ef4c8b",
         "fillColor": "#ef4c8b",
         "fillOpacity": 0.2,
         "opacity": 0.4,
         "weight": 1
        },
        "landuse": {
         "color": "#e5b404",
         "fill": "true",
         "fillColor": "#e5b404",
         "fillOpacity": 0.2,
         "opacity": 0.4,
         "weight": 1
        },
        "park": {
         "color": "#84ea5b",
         "fill": "true",
         "fillColor": "#84ea5b",
         "fillOpacity": 0.2,
         "opacity": 0.4,
         "weight": 1
        },
        "places": {
         "color": "#f20e93",
         "fillColor": "#f20e93",
         "fillOpacity": 0.2,
         "opacity": 0.4,
         "weight": 1
        },
        "pois": {
         "color": "#3bb50a",
         "fillColor": "#3bb50a",
         "fillOpacity": 0.2,
         "opacity": 0.4,
         "weight": 1
        },
        "roads": {
         "color": "#f2b648",
         "fillColor": "#f2b648",
         "fillOpacity": 0.2,
         "opacity": 0.4,
         "weight": 1
        },
        "transit": {
         "color": "#f2b648",
         "fillColor": "#f2b648",
         "fillOpacity": 0.2,
         "opacity": 0.4,
         "weight": 0.5
        },
        "transportation_name": {
         "color": "#bc6b38",
         "fillColor": "#bc6b38",
         "fillOpacity": 0.2,
         "opacity": 0.4,
         "weight": 1
        },
        "water": {
         "color": "#06cccc",
         "fill": "true",
         "fillColor": "#06cccc",
         "fillOpacity": 0.2,
         "opacity": 0.4,
         "weight": 1
        },
        "water_name": {
         "color": "#022c5b",
         "fillColor": "#022c5b",
         "fillOpacity": 0.2,
         "opacity": 0.4,
         "weight": 1
        },
        "waterway": {
         "color": "#2375e0",
         "fillColor": "#2375e0",
         "fillOpacity": 0.2,
         "opacity": 0.4,
         "weight": 1
        }
       },
       "name": "custom",
       "options": [
        "api_key",
        "attribution",
        "feature_id",
        "interactive",
        "layer_styles",
        "max_native_zoom",
        "max_zoom",
        "min_native_zoom",
        "min_zoom",
        "opacity",
        "renderer",
        "url",
        "visible"
       ],
       "renderer": "svg",
       "url": "https://tile.nextzen.org/tilezen/vector/v1/512/all/{z}/{x}/{y}.mvt?api_key={apiKey}"
      }
     },
     "eb806817b45747ce8bb1db31fbaec1d8": {
      "model_module": "jupyter-leaflet",
      "model_module_version": "^0.19",
      "model_name": "LeafletLayersControlModel",
      "state": {
       "_model_module_version": "^0.19",
       "_view_module_version": "^0.19",
       "collapsed": false,
       "options": [
        "collapsed",
        "position"
       ]
      }
     },
     "f7ebb182858a4f3d837838ce1fab0847": {
      "model_module": "@jupyter-widgets/base",
      "model_module_version": "2.0.0",
      "model_name": "LayoutModel",
      "state": {}
     },
     "f95be8cfd07244efb30ba4f12debde1a": {
      "model_module": "@jupyter-widgets/controls",
      "model_module_version": "2.0.0",
      "model_name": "VBoxModel",
      "state": {
       "children": [
        "IPY_MODEL_b16716b349244dbfae3d16e7a32c0685"
       ],
       "layout": "IPY_MODEL_f7ebb182858a4f3d837838ce1fab0847"
      }
     }
    },
    "version_major": 2,
    "version_minor": 0
   }
  }
 },
 "nbformat": 4,
 "nbformat_minor": 5
}
