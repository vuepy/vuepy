{
 "cells": [
  {
   "cell_type": "markdown",
   "id": "a1e2fa29-7566-4426-be1e-a750658d83a5",
   "metadata": {},
   "source": [
    "# AntPath\n"
   ]
  },
  {
   "cell_type": "markdown",
   "id": "7cdc5e8c-2aa8-41d1-9461-3e451f6ef6ea",
   "metadata": {},
   "source": [
    "## 基础用法\n"
   ]
  },
  {
   "cell_type": "code",
   "execution_count": 1,
   "id": "f5928b17-e8c8-47b0-9774-a8bb1f7e6af3",
   "metadata": {},
   "outputs": [],
   "source": [
    "import os\n",
    "import pathlib\n",
    "from vuepy.utils import magic\n",
    "from vleaflet import leaflet\n",
    "%load_ext vuepy"
   ]
  },
  {
   "cell_type": "code",
   "execution_count": 2,
   "id": "7982482f-985d-44b5-89d6-57b3bb2c3427",
   "metadata": {},
   "outputs": [
    {
     "name": "stdout",
     "output_type": "stream",
     "text": [
      "{\"vue\": \"<template>\\n  <Button @click='on_click()'>Switch color</Button>\\n  <vl-map :center=\\\"[51.332, 6.853]\\\" :zoom=10>\\n    <template #layers>\\n      <vl-ant-path\\n        :locations=\\\"path\\\"\\n        :dash_array=\\\"[1, 10]\\\"\\n        :delay=\\\"1000\\\"\\n        :color='color.value',\\n        pulse_color='#3f6fba'\\n        name='ant path'\\n      />\\n    </template>\\n    <template #controls>\\n      <vl-layers-control position='topleft' :collapsed='False'/>\\n    </template>\\n  </vl-map>\\n</template>\\n<script lang='py'>\\nfrom vuepy import ref\\n\\npath = [\\n    [51.185, 6.773], [51.182, 6.752], [51.185, 6.733], [51.194, 6.729],\\n    [51.205, 6.732], [51.219, 6.723], [51.224, 6.723], [51.227, 6.728],\\n    [51.228, 6.734], [51.226, 6.742], [51.221, 6.752], [51.221, 6.758],\\n    [51.224, 6.765], [51.230, 6.768], [51.239, 6.765], [51.246, 6.758],\\n    [51.252, 6.745], [51.257, 6.724], [51.262, 6.711], [51.271, 6.701],\\n    [51.276, 6.702], [51.283, 6.710], [51.297, 6.725], [51.304, 6.732],\\n    [51.312, 6.735], [51.320, 6.734], [51.326, 6.726], [51.334, 6.713],\\n    [51.340, 6.696], [51.344, 6.678], [51.349, 6.662], [51.354, 6.655],\\n    [51.360, 6.655], [51.366, 6.662], [51.369, 6.675], [51.373, 6.704],\\n    [51.376, 6.715], [51.385, 6.732], [51.394, 6.741], [51.402, 6.743],\\n    [51.411, 6.742], [51.420, 6.733], [51.429, 6.718], [51.439, 6.711],\\n    [51.448, 6.716], [51.456, 6.724], [51.466, 6.719], [51.469, 6.713],\\n    [51.470, 6.701], [51.473, 6.686], [51.479, 6.680], [51.484, 6.680],\\n    [51.489, 6.685], [51.493, 6.700], [51.497, 6.714]\\n]\\ncolor = ref('#7590ba')\\n\\ndef on_click():\\n    color.value = 'red'\\n</script>\\n\", \"setup\": \"\"}\n"
     ]
    },
    {
     "data": {
      "application/vnd.jupyter.widget-view+json": {
       "model_id": "f6507b0893ec4d9f9e897056b10b0dd2",
       "version_major": 2,
       "version_minor": 0
      },
      "text/plain": [
       "Document(children=(Dom(children=(MessageWidget(message_options={'message': '', 'type': 'info', 'show_close': F…"
      ]
     },
     "execution_count": 2,
     "metadata": {},
     "output_type": "execute_result"
    }
   ],
   "source": [
    "%%vuepy_run --plugins leaflet --show-code\n",
    "<template>\n",
    "  <Button @click='on_click()'>Switch color</Button>\n",
    "  <vl-map :center=\"[51.332, 6.853]\" :zoom=10>\n",
    "    <template #layers>\n",
    "      <vl-ant-path\n",
    "        :locations=\"path\"\n",
    "        :dash_array=\"[1, 10]\"\n",
    "        :delay=\"1000\"\n",
    "        :color='color.value',\n",
    "        pulse_color='#3f6fba'\n",
    "        name='ant path'\n",
    "      />\n",
    "    </template>\n",
    "    <template #controls>\n",
    "      <vl-layers-control position='topleft' :collapsed='False'/>\n",
    "    </template>\n",
    "  </vl-map>\n",
    "</template>\n",
    "<script lang='py'>\n",
    "from vuepy import ref\n",
    "\n",
    "path = [\n",
    "    [51.185, 6.773], [51.182, 6.752], [51.185, 6.733], [51.194, 6.729],\n",
    "    [51.205, 6.732], [51.219, 6.723], [51.224, 6.723], [51.227, 6.728],\n",
    "    [51.228, 6.734], [51.226, 6.742], [51.221, 6.752], [51.221, 6.758],\n",
    "    [51.224, 6.765], [51.230, 6.768], [51.239, 6.765], [51.246, 6.758],\n",
    "    [51.252, 6.745], [51.257, 6.724], [51.262, 6.711], [51.271, 6.701],\n",
    "    [51.276, 6.702], [51.283, 6.710], [51.297, 6.725], [51.304, 6.732],\n",
    "    [51.312, 6.735], [51.320, 6.734], [51.326, 6.726], [51.334, 6.713],\n",
    "    [51.340, 6.696], [51.344, 6.678], [51.349, 6.662], [51.354, 6.655],\n",
    "    [51.360, 6.655], [51.366, 6.662], [51.369, 6.675], [51.373, 6.704],\n",
    "    [51.376, 6.715], [51.385, 6.732], [51.394, 6.741], [51.402, 6.743],\n",
    "    [51.411, 6.742], [51.420, 6.733], [51.429, 6.718], [51.439, 6.711],\n",
    "    [51.448, 6.716], [51.456, 6.724], [51.466, 6.719], [51.469, 6.713],\n",
    "    [51.470, 6.701], [51.473, 6.686], [51.479, 6.680], [51.484, 6.680],\n",
    "    [51.489, 6.685], [51.493, 6.700], [51.497, 6.714]\n",
    "]\n",
    "color = ref('#7590ba')\n",
    "\n",
    "def on_click():\n",
    "    color.value = 'red'\n",
    "</script>"
   ]
  },
  {
   "cell_type": "markdown",
   "id": "8685d144-029f-4afa-8547-4f3d84529504",
   "metadata": {},
   "source": [
    "## API\n",
    "\n",
    "### 属性\n",
    "\n",
    "| 属性名 | 说明 | 类型 | 默认值 | 必填 |\n",
    "|--------|------|------|--------|------|\n",
    "| locations | ant-path 经过的坐标点 | Array<[lat: number, long: number]> | - | 是 |\n",
    "| name | 图层名称 | string | '' | 否 |\n",
    "| use | 路径形状类型 | 'polyline'\\|'polygon'\\|'rectangle'\\|'circle' | 'polyline' | 否 |\n",
    "| color | 主虚线颜色 | string | '#0000FF' | 否 |\n",
    "| weight | 路径宽度 | number | 5 | 否 |\n",
    "| radius | 圆形半径(当use为circle时生效) | number | 10 | 否 |\n",
    "| dash_array | 动画虚线大小 | string | '10, 20' | 否 |\n",
    "| delay | 动画延迟时间(毫秒) | number | 400 | 否 |\n",
    "| paused | 是否暂停动画 | boolean | false | 否 |\n",
    "| reverse | 是否反向动画 | boolean | false | 否 |\n",
    "| hardware_accelerated | 是否使用硬件加速 | boolean | false | 否 |\n",
    "| pulse_color | 次虚线颜色 | string | '#ffffff' | 否 |\n",
    "\n",
    "### 事件\n",
    "\n",
    "| 事件名 | 说明 | 参数 |\n",
    "|--------|------|------|\n",
    "| - | - | - |\n",
    "\n",
    "### 插槽\n",
    "\n",
    "| 插槽名 | 说明 |\n",
    "|--------|------|\n",
    "| popup | 自定义弹出内容 |\n",
    "\n",
    "### 方法\n",
    "\n",
    "| 方法名 | 说明 | 参数 | 返回值 |\n",
    "|--------|------|------|--------|\n",
    "| - | - | - | - |"
   ]
  },
  {
   "cell_type": "code",
   "execution_count": null,
   "id": "db17c770-7085-4365-b5f0-bd4f66ebc948",
   "metadata": {},
   "outputs": [],
   "source": []
  }
 ],
 "metadata": {
  "kernelspec": {
   "display_name": "Python 3 (ipykernel)",
   "language": "python",
   "name": "python3"
  },
  "language_info": {
   "codemirror_mode": {
    "name": "ipython",
    "version": 3
   },
   "file_extension": ".py",
   "mimetype": "text/x-python",
   "name": "python",
   "nbconvert_exporter": "python",
   "pygments_lexer": "ipython3",
   "version": "3.10.12"
  },
  "widgets": {
   "application/vnd.jupyter.widget-state+json": {
    "state": {
     "00a4a8d8d76f4cd5a6437a00189ae570": {
      "model_module": "@jupyter-widgets/base",
      "model_module_version": "2.0.0",
      "model_name": "LayoutModel",
      "state": {}
     },
     "01bf8edde8084ed3af4ceae96c4d69ea": {
      "model_module": "@jupyter-widgets/controls",
      "model_module_version": "2.0.0",
      "model_name": "VBoxModel",
      "state": {
       "children": [
        "IPY_MODEL_fa8faab365484f6eac7a5f946bc7f1e2"
       ],
       "layout": "IPY_MODEL_3bb21c8bfd444306adcc8f9a54b9615e"
      }
     },
     "0f3dc5ac099346bf9491b31d8cf8c2b3": {
      "model_module": "@jupyter-widgets/base",
      "model_module_version": "2.0.0",
      "model_name": "LayoutModel",
      "state": {}
     },
     "2525ed1bff2648db95c21a16ae21de18": {
      "model_module": "@jupyter-widgets/controls",
      "model_module_version": "2.0.0",
      "model_name": "VBoxModel",
      "state": {
       "children": [
        "IPY_MODEL_dd7ba57b97fb4665bc79742f16105cb9",
        "IPY_MODEL_51ea0b089d5940dfb147ee67a0944d7f"
       ],
       "layout": "IPY_MODEL_d5e7dbf909fa41008a4fbe4dfffdd38c"
      }
     },
     "28880522dc5a41d7a0a72a8da145a305": {
      "model_module": "@jupyter-widgets/base",
      "model_module_version": "2.0.0",
      "model_name": "LayoutModel",
      "state": {}
     },
     "2b055135a4af4242bafa0ab2f5dc0a2c": {
      "model_module": "jupyter-leaflet",
      "model_module_version": "^0.19",
      "model_name": "LeafletZoomControlModel",
      "state": {
       "_model_module_version": "^0.19",
       "_view_module_version": "^0.19",
       "options": [
        "position",
        "zoom_in_text",
        "zoom_in_title",
        "zoom_out_text",
        "zoom_out_title"
       ]
      }
     },
     "3bb21c8bfd444306adcc8f9a54b9615e": {
      "model_module": "@jupyter-widgets/base",
      "model_module_version": "2.0.0",
      "model_name": "LayoutModel",
      "state": {}
     },
     "3d2d557104004a3b8521d733b14d67ca": {
      "model_module": "@jupyter-widgets/base",
      "model_module_version": "2.0.0",
      "model_name": "LayoutModel",
      "state": {}
     },
     "40ef6cb0b7c0468c9156d85cabbf3dd4": {
      "model_module": "@jupyter-widgets/output",
      "model_module_version": "1.0.0",
      "model_name": "OutputModel",
      "state": {
       "layout": "IPY_MODEL_00a4a8d8d76f4cd5a6437a00189ae570",
       "outputs": [
        {
         "name": "stdout",
         "output_type": "stream",
         "text": "2025-04-12 00:21:36,496 [INFO] api_create_app.py:render:126 - App render end.\n"
        },
        {
         "name": "stdout",
         "output_type": "stream",
         "text": "2025-04-12 00:21:36,456 [INFO] sfc_codegen.py:render:165 - 🔥 Rerender SFC<__tmp_for_str.vue> at 4447042912\n"
        },
        {
         "name": "stdout",
         "output_type": "stream",
         "text": "2025-04-12 00:21:36,456 [INFO] api_create_app.py:render:116 - App render start.\n"
        }
       ]
      }
     },
     "48fc92050086429187da6c8dae30efca": {
      "model_module": "anywidget",
      "model_module_version": "~0.9.*",
      "model_name": "AnyModel",
      "state": {
       "_anywidget_id": "ipywui.widgets.custom.message.MessageWidget",
       "_css": ".wui-message-root {\n    display: flex;\n    position: absolute;\n    left: 0;\n    right: 0;\n    top: 0;\n}\n\n.wui-message-container {\n    align-items: center;\n    display: flex;\n    flex-direction: column-reverse;\n    justify-content: center;\n    min-height: 100%;\n    outline: none;\n    width: 100%;\n\n    -webkit-tap-highlight-color: rgba(0,0,0,0);\n    bottom: 0;\n    left: 0;\n    right: 0;\n    top: 0;\n}\n\n.wui-message--success {\n    --wui-message-bg-color: #f0f9eb;\n    --wui-message-border-color: #e1f3d8;\n    --wui-message-text-color: #67c23a;\n}\n.wui-message--warning {\n    --wui-message-bg-color: #fdf6ec;\n    --wui-message-border-color: #faecd8;\n    --wui-message-text-color: #e6a23c;\n}\n.wui-message--info {\n    --wui-message-bg-color: #f4f4f5;\n    --wui-message-border-color: #e9e9eb;\n    --wui-message-text-color: #909399;\n}\n.wui-message--error {\n    --wui-message-bg-color: #fef0f0;\n    --wui-message-border-color: #fde2e2;\n    --wui-message-text-color: #f56c6c;\n}\n\n@keyframes msg-open {\n    0% {\n        opacity: 0;\n        -webkit-transform: translateY(-120%);\n        transform: translateY(-120%)\n    }\n    to {\n        -webkit-transform: translateY(0);\n        transform: translateY(0)\n    }\n}\n\n@keyframes msg-close {\n    0% {\n        opacity: 1;\n        -webkit-transform: scale(1);\n        transform: scale(1)\n    }\n    to {\n        opacity: 0;\n        -webkit-transform: scale(.9);\n        transform: scale(.9)\n    }\n}\n.wui-message[data-state=entered],.wui-message[data-state=entering] {\n    -webkit-animation: msg-open .24s cubic-bezier(.175,.885,.32,1.175) both;\n    animation: msg-open .24s cubic-bezier(.175,.885,.32,1.175) both\n}\n\n.wui-message[data-state=exiting] {\n    -webkit-animation: msg-close .12s cubic-bezier(.4,0,1,1) both;\n    animation: msg-close .12s cubic-bezier(.4,0,1,1) both\n}\n\n.wui-message {\n    width: -webkit-fit-content;\n    width: -moz-fit-content;\n    width: fit-content;\n    z-index: 2004;\n    max-width: calc(100% - 32px);\n    margin-top: 8px;\n    box-sizing: border-box;\n    /*border-radius: var(--wui-border-radius-base);*/\n    /*border-width: var(--wui-border-width);*/\n    /*border-style: var(--wui-border-style);*/\n    border-color: var(--wui-message-border-color);\n    /*left: 50%;*/\n    /*top: 20px;*/\n    /*transform: translateX(-50%);*/\n    background-color: var(--wui-message-bg-color);\n    /*transition: opacity var(--wui-transition-duration),transform .4s,top .4s;*/\n    /*padding: var(--wui-message-padding);*/\n    display: flex;\n    align-items: center;\n}\n\n/*.wui-message--success */\n.wui-message__content {\n    color: var(--wui-message-text-color);\n    font-size: 14px;\n    line-height: 18px;\n    margin: 10px 14px 10px 14px;\n    overflow-wrap: break-word;\n}\n\n.wui-message__closeBtn {\n    /*cursor: pointer;*/\n    font-style: normal;\n    /*color: gray;*/\n    padding-right: 14px;\n    /*font-size: 13px;*/\n    user-select: none;\n\n    background: transparent;\n    border: none;\n    color: gray;\n    cursor: pointer;\n    font-size: 13px;\n    font-weight: 400;\n    line-height: 1;\n    outline: none;\n    /*padding: 4px;*/\n    text-align: center;\n    transition: opacity .3s;\n    /*width: 100%;*/\n}",
       "_esm": "function closeMsg(msgDom) {\n  if (!msgDom) {\n    return;\n  }\n  msgDom.setAttribute('data-state', 'exiting');\n  msgDom.remove();\n}\n\nfunction createMsg(options) {\n  const {message, msg_id, type = 'info', show_close = false} = options;\n  const msgDom = document.createElement('div');\n  msgDom.className += ` wui-message--${type} wui-message`;\n  msgDom.setAttribute('data-state', 'entered');\n  msgDom.setAttribute('id', msg_id);\n  const msgContent = document.createElement('p');\n  msgContent.className += ` wui-message--${type} wui-message__content`;\n  msgContent.innerText = message;\n  msgDom.appendChild(msgContent);\n  if (show_close) {\n    const closeBtn = document.createElement('i');\n    closeBtn.className += 'wui-message__closeBtn';\n    closeBtn.innerText = 'x';\n    closeBtn.addEventListener('click', (ev) => {\n      closeMsg(msgDom);\n    })\n    msgDom.appendChild(closeBtn);\n  }\n  return msgDom;\n}\n\nexport async function render(view) {\n  let model = view.model;\n  const msgRoot = view.el;\n  msgRoot.className += ' wui-message-root'\n\n  const msgContainer = document.createElement('div');\n  msgContainer.className += ' wui-message-container';\n  msgRoot.appendChild(msgContainer)\n\n  model.on(\"change:message_options\", () => {\n    const options = model.get(\"message_options\");\n    const msg = createMsg(options);\n    msgContainer.appendChild(msg);\n    const {duration = 3000} = options;\n    if (duration > 0) {\n      setTimeout(() => {\n        closeMsg(msg)\n      }, duration);\n    }\n  })\n\n  model.on(\"change:close_msg_id\", () => {\n    const msg_id = model.get(\"close_msg_id\");\n    const msgDom = document.getElementById(msg_id);\n    closeMsg(msgDom);\n  })\n}\n",
       "_model_module": "anywidget",
       "_model_module_version": "~0.9.*",
       "_model_name": "AnyModel",
       "_view_module": "anywidget",
       "_view_module_version": "~0.9.*",
       "_view_name": "AnyView",
       "close_msg_id": "",
       "layout": "IPY_MODEL_c087fb125f1f4e1f8cd2e77719dbe643",
       "message_options": {
        "duration": 3000,
        "message": "",
        "show_close": false,
        "type": "info"
       }
      }
     },
     "514c5e364eb546b5931397c0433afa0b": {
      "model_module": "@jupyter-widgets/controls",
      "model_module_version": "2.0.0",
      "model_name": "ButtonStyleModel",
      "state": {
       "font_family": null,
       "font_size": null,
       "font_style": null,
       "font_variant": null,
       "font_weight": null,
       "text_color": null,
       "text_decoration": null
      }
     },
     "51ea0b089d5940dfb147ee67a0944d7f": {
      "model_module": "@jupyter-widgets/controls",
      "model_module_version": "2.0.0",
      "model_name": "VBoxModel",
      "state": {
       "children": [
        "IPY_MODEL_5807a09be369464ea1ea34bf8bb5e14e"
       ],
       "layout": "IPY_MODEL_d5383622a3ab4c6e92bb7ba515965391"
      }
     },
     "55719798df7a4f31bf9a5c3b74a532dd": {
      "model_module": "@jupyter-widgets/base",
      "model_module_version": "2.0.0",
      "model_name": "LayoutModel",
      "state": {}
     },
     "57255064876d440fbc6949ef49bf83e0": {
      "model_module": "jupyter-leaflet",
      "model_module_version": "^0.19",
      "model_name": "LeafletMapStyleModel",
      "state": {
       "_model_module_version": "^0.19",
       "cursor": "move"
      }
     },
     "5807a09be369464ea1ea34bf8bb5e14e": {
      "model_module": "@jupyter-widgets/controls",
      "model_module_version": "2.0.0",
      "model_name": "VBoxModel",
      "state": {
       "children": [
        "IPY_MODEL_b269962044f244538a47519b67f6f12d",
        "IPY_MODEL_d482f4b686e94a0b81ef864a120ce4e4"
       ],
       "layout": "IPY_MODEL_3d2d557104004a3b8521d733b14d67ca"
      }
     },
     "6006402c91ce4389ab0007cc42127bd6": {
      "model_module": "jupyter-leaflet",
      "model_module_version": "^0.19",
      "model_name": "LeafletAttributionControlModel",
      "state": {
       "_model_module_version": "^0.19",
       "_view_module_version": "^0.19",
       "options": [
        "position",
        "prefix"
       ],
       "position": "bottomright",
       "prefix": "ipyleaflet"
      }
     },
     "6f954c881c3d4010b90bf414a8434abd": {
      "model_module": "@jupyter-widgets/controls",
      "model_module_version": "2.0.0",
      "model_name": "HTMLMathStyleModel",
      "state": {
       "description_width": "",
       "font_size": null,
       "text_color": null
      }
     },
     "75d54b4e53d64ddb9c8cd307322ab9f7": {
      "model_module": "jupyter-leaflet",
      "model_module_version": "^0.19",
      "model_name": "LeafletTileLayerModel",
      "state": {
       "_model_module_version": "^0.19",
       "_view_module_version": "^0.19",
       "attribution": "&copy; <a href=\"https://www.openstreetmap.org/copyright\">OpenStreetMap</a> contributors",
       "base": true,
       "max_zoom": 19,
       "min_zoom": 1,
       "name": "OpenStreetMap.Mapnik",
       "options": [
        "attribution",
        "bounds",
        "detect_retina",
        "max_native_zoom",
        "max_zoom",
        "min_native_zoom",
        "min_zoom",
        "no_wrap",
        "tile_size",
        "tms",
        "zoom_offset"
       ],
       "url": "https://tile.openstreetmap.org/{z}/{x}/{y}.png"
      }
     },
     "8ac4e827f9cf471abfda782d2d714247": {
      "model_module": "@jupyter-widgets/base",
      "model_module_version": "2.0.0",
      "model_name": "LayoutModel",
      "state": {}
     },
     "a0369d8cd41f48ffb878c9523bf1ddca": {
      "model_module": "@jupyter-widgets/base",
      "model_module_version": "2.0.0",
      "model_name": "LayoutModel",
      "state": {}
     },
     "a87473b3a3e34017b1336e1e387f2568": {
      "model_module": "@jupyter-widgets/controls",
      "model_module_version": "2.0.0",
      "model_name": "VBoxModel",
      "state": {
       "children": [
        "IPY_MODEL_b82491aedf77426395b3de5ee447f3f6"
       ],
       "layout": "IPY_MODEL_28880522dc5a41d7a0a72a8da145a305"
      }
     },
     "b269962044f244538a47519b67f6f12d": {
      "model_module": "@jupyter-widgets/controls",
      "model_module_version": "2.0.0",
      "model_name": "ButtonModel",
      "state": {
       "description": "Switch color",
       "layout": "IPY_MODEL_0f3dc5ac099346bf9491b31d8cf8c2b3",
       "style": "IPY_MODEL_514c5e364eb546b5931397c0433afa0b",
       "tooltip": null
      }
     },
     "b82491aedf77426395b3de5ee447f3f6": {
      "model_module": "jupyter-leaflet",
      "model_module_version": "^0.19",
      "model_name": "LeafletAntPathModel",
      "state": {
       "_model_module_version": "^0.19",
       "_view_module_version": "^0.19",
       "color": "#7590ba",
       "dash_array": [
        1,
        10
       ],
       "delay": 1000,
       "locations": [
        [
         51.185,
         6.773
        ],
        [
         51.182,
         6.752
        ],
        [
         51.185,
         6.733
        ],
        [
         51.194,
         6.729
        ],
        [
         51.205,
         6.732
        ],
        [
         51.219,
         6.723
        ],
        [
         51.224,
         6.723
        ],
        [
         51.227,
         6.728
        ],
        [
         51.228,
         6.734
        ],
        [
         51.226,
         6.742
        ],
        [
         51.221,
         6.752
        ],
        [
         51.221,
         6.758
        ],
        [
         51.224,
         6.765
        ],
        [
         51.23,
         6.768
        ],
        [
         51.239,
         6.765
        ],
        [
         51.246,
         6.758
        ],
        [
         51.252,
         6.745
        ],
        [
         51.257,
         6.724
        ],
        [
         51.262,
         6.711
        ],
        [
         51.271,
         6.701
        ],
        [
         51.276,
         6.702
        ],
        [
         51.283,
         6.71
        ],
        [
         51.297,
         6.725
        ],
        [
         51.304,
         6.732
        ],
        [
         51.312,
         6.735
        ],
        [
         51.32,
         6.734
        ],
        [
         51.326,
         6.726
        ],
        [
         51.334,
         6.713
        ],
        [
         51.34,
         6.696
        ],
        [
         51.344,
         6.678
        ],
        [
         51.349,
         6.662
        ],
        [
         51.354,
         6.655
        ],
        [
         51.36,
         6.655
        ],
        [
         51.366,
         6.662
        ],
        [
         51.369,
         6.675
        ],
        [
         51.373,
         6.704
        ],
        [
         51.376,
         6.715
        ],
        [
         51.385,
         6.732
        ],
        [
         51.394,
         6.741
        ],
        [
         51.402,
         6.743
        ],
        [
         51.411,
         6.742
        ],
        [
         51.42,
         6.733
        ],
        [
         51.429,
         6.718
        ],
        [
         51.439,
         6.711
        ],
        [
         51.448,
         6.716
        ],
        [
         51.456,
         6.724
        ],
        [
         51.466,
         6.719
        ],
        [
         51.469,
         6.713
        ],
        [
         51.47,
         6.701
        ],
        [
         51.473,
         6.686
        ],
        [
         51.479,
         6.68
        ],
        [
         51.484,
         6.68
        ],
        [
         51.489,
         6.685
        ],
        [
         51.493,
         6.7
        ],
        [
         51.497,
         6.714
        ]
       ],
       "name": "ant path",
       "options": [
        "color",
        "dash_array",
        "delay",
        "hardware_accelerated",
        "paused",
        "pulse_color",
        "radius",
        "reverse",
        "use",
        "weight"
       ],
       "pulse_color": "#3f6fba"
      }
     },
     "c087fb125f1f4e1f8cd2e77719dbe643": {
      "model_module": "@jupyter-widgets/base",
      "model_module_version": "2.0.0",
      "model_name": "LayoutModel",
      "state": {}
     },
     "c52e9adf992540839f7071f72fd69abe": {
      "model_module": "jupyter-leaflet",
      "model_module_version": "^0.19",
      "model_name": "LeafletMapStyleModel",
      "state": {
       "_model_module_version": "^0.19"
      }
     },
     "c54f24ceea8b44caa6202e1e2a4d5bb5": {
      "model_module": "@jupyter-widgets/controls",
      "model_module_version": "2.0.0",
      "model_name": "HTMLMathModel",
      "state": {
       "layout": "IPY_MODEL_f62ccab0642d4693bab3f1b9ef91247d",
       "style": "IPY_MODEL_6f954c881c3d4010b90bf414a8434abd",
       "value": "Switch color"
      }
     },
     "d482f4b686e94a0b81ef864a120ce4e4": {
      "model_module": "jupyter-leaflet",
      "model_module_version": "^0.19",
      "model_name": "LeafletMapModel",
      "state": {
       "_model_module_version": "^0.19",
       "_view_module_version": "^0.19",
       "bottom": 87574,
       "center": [
        51.332,
        6.853
       ],
       "controls": [
        "IPY_MODEL_2b055135a4af4242bafa0ab2f5dc0a2c",
        "IPY_MODEL_6006402c91ce4389ab0007cc42127bd6",
        "IPY_MODEL_fa8faab365484f6eac7a5f946bc7f1e2"
       ],
       "default_style": "IPY_MODEL_c52e9adf992540839f7071f72fd69abe",
       "dragging_style": "IPY_MODEL_57255064876d440fbc6949ef49bf83e0",
       "east": 7.922515869140625,
       "fullscreen": false,
       "interpolation": "bilinear",
       "layers": [
        "IPY_MODEL_75d54b4e53d64ddb9c8cd307322ab9f7",
        "IPY_MODEL_b82491aedf77426395b3de5ee447f3f6"
       ],
       "layout": "IPY_MODEL_8ac4e827f9cf471abfda782d2d714247",
       "left": 135283,
       "modisdate": "2025-04-11",
       "north": 51.50361379162684,
       "options": [
        "bounce_at_zoom_limits",
        "box_zoom",
        "center",
        "close_popup_on_click",
        "double_click_zoom",
        "dragging",
        "fullscreen",
        "inertia",
        "inertia_deceleration",
        "inertia_max_speed",
        "interpolation",
        "keyboard",
        "keyboard_pan_offset",
        "keyboard_zoom_offset",
        "max_zoom",
        "min_zoom",
        "prefer_canvas",
        "scroll_wheel_zoom",
        "tap",
        "tap_tolerance",
        "touch_zoom",
        "world_copy_jump",
        "zoom",
        "zoom_animation_threshold",
        "zoom_delta",
        "zoom_snap"
       ],
       "prefer_canvas": false,
       "right": 136841,
       "south": 51.16039939438,
       "style": "IPY_MODEL_da235d008ca040e6a9c0588734af1869",
       "top": 87174,
       "west": 5.782928466796875,
       "window_url": "http://localhost:2071/lab/tree/nb_llm/pyvue/examples/vleaflet/layers/AntPath.ipynb",
       "zoom": 10
      }
     },
     "d5383622a3ab4c6e92bb7ba515965391": {
      "model_module": "@jupyter-widgets/base",
      "model_module_version": "2.0.0",
      "model_name": "LayoutModel",
      "state": {}
     },
     "d5e7dbf909fa41008a4fbe4dfffdd38c": {
      "model_module": "@jupyter-widgets/base",
      "model_module_version": "2.0.0",
      "model_name": "LayoutModel",
      "state": {}
     },
     "da235d008ca040e6a9c0588734af1869": {
      "model_module": "jupyter-leaflet",
      "model_module_version": "^0.19",
      "model_name": "LeafletMapStyleModel",
      "state": {
       "_model_module_version": "^0.19"
      }
     },
     "dd7ba57b97fb4665bc79742f16105cb9": {
      "model_module": "anywidget",
      "model_module_version": "~0.9.*",
      "model_name": "AnyModel",
      "state": {
       "_anywidget_id": "ipywui.widgets.custom.message.MessageWidget",
       "_css": ".wui-message-root {\n    display: flex;\n    position: absolute;\n    left: 0;\n    right: 0;\n    top: 0;\n}\n\n.wui-message-container {\n    align-items: center;\n    display: flex;\n    flex-direction: column-reverse;\n    justify-content: center;\n    min-height: 100%;\n    outline: none;\n    width: 100%;\n\n    -webkit-tap-highlight-color: rgba(0,0,0,0);\n    bottom: 0;\n    left: 0;\n    right: 0;\n    top: 0;\n}\n\n.wui-message--success {\n    --wui-message-bg-color: #f0f9eb;\n    --wui-message-border-color: #e1f3d8;\n    --wui-message-text-color: #67c23a;\n}\n.wui-message--warning {\n    --wui-message-bg-color: #fdf6ec;\n    --wui-message-border-color: #faecd8;\n    --wui-message-text-color: #e6a23c;\n}\n.wui-message--info {\n    --wui-message-bg-color: #f4f4f5;\n    --wui-message-border-color: #e9e9eb;\n    --wui-message-text-color: #909399;\n}\n.wui-message--error {\n    --wui-message-bg-color: #fef0f0;\n    --wui-message-border-color: #fde2e2;\n    --wui-message-text-color: #f56c6c;\n}\n\n@keyframes msg-open {\n    0% {\n        opacity: 0;\n        -webkit-transform: translateY(-120%);\n        transform: translateY(-120%)\n    }\n    to {\n        -webkit-transform: translateY(0);\n        transform: translateY(0)\n    }\n}\n\n@keyframes msg-close {\n    0% {\n        opacity: 1;\n        -webkit-transform: scale(1);\n        transform: scale(1)\n    }\n    to {\n        opacity: 0;\n        -webkit-transform: scale(.9);\n        transform: scale(.9)\n    }\n}\n.wui-message[data-state=entered],.wui-message[data-state=entering] {\n    -webkit-animation: msg-open .24s cubic-bezier(.175,.885,.32,1.175) both;\n    animation: msg-open .24s cubic-bezier(.175,.885,.32,1.175) both\n}\n\n.wui-message[data-state=exiting] {\n    -webkit-animation: msg-close .12s cubic-bezier(.4,0,1,1) both;\n    animation: msg-close .12s cubic-bezier(.4,0,1,1) both\n}\n\n.wui-message {\n    width: -webkit-fit-content;\n    width: -moz-fit-content;\n    width: fit-content;\n    z-index: 2004;\n    max-width: calc(100% - 32px);\n    margin-top: 8px;\n    box-sizing: border-box;\n    /*border-radius: var(--wui-border-radius-base);*/\n    /*border-width: var(--wui-border-width);*/\n    /*border-style: var(--wui-border-style);*/\n    border-color: var(--wui-message-border-color);\n    /*left: 50%;*/\n    /*top: 20px;*/\n    /*transform: translateX(-50%);*/\n    background-color: var(--wui-message-bg-color);\n    /*transition: opacity var(--wui-transition-duration),transform .4s,top .4s;*/\n    /*padding: var(--wui-message-padding);*/\n    display: flex;\n    align-items: center;\n}\n\n/*.wui-message--success */\n.wui-message__content {\n    color: var(--wui-message-text-color);\n    font-size: 14px;\n    line-height: 18px;\n    margin: 10px 14px 10px 14px;\n    overflow-wrap: break-word;\n}\n\n.wui-message__closeBtn {\n    /*cursor: pointer;*/\n    font-style: normal;\n    /*color: gray;*/\n    padding-right: 14px;\n    /*font-size: 13px;*/\n    user-select: none;\n\n    background: transparent;\n    border: none;\n    color: gray;\n    cursor: pointer;\n    font-size: 13px;\n    font-weight: 400;\n    line-height: 1;\n    outline: none;\n    /*padding: 4px;*/\n    text-align: center;\n    transition: opacity .3s;\n    /*width: 100%;*/\n}",
       "_esm": "function closeMsg(msgDom) {\n  if (!msgDom) {\n    return;\n  }\n  msgDom.setAttribute('data-state', 'exiting');\n  msgDom.remove();\n}\n\nfunction createMsg(options) {\n  const {message, msg_id, type = 'info', show_close = false} = options;\n  const msgDom = document.createElement('div');\n  msgDom.className += ` wui-message--${type} wui-message`;\n  msgDom.setAttribute('data-state', 'entered');\n  msgDom.setAttribute('id', msg_id);\n  const msgContent = document.createElement('p');\n  msgContent.className += ` wui-message--${type} wui-message__content`;\n  msgContent.innerText = message;\n  msgDom.appendChild(msgContent);\n  if (show_close) {\n    const closeBtn = document.createElement('i');\n    closeBtn.className += 'wui-message__closeBtn';\n    closeBtn.innerText = 'x';\n    closeBtn.addEventListener('click', (ev) => {\n      closeMsg(msgDom);\n    })\n    msgDom.appendChild(closeBtn);\n  }\n  return msgDom;\n}\n\nexport async function render(view) {\n  let model = view.model;\n  const msgRoot = view.el;\n  msgRoot.className += ' wui-message-root'\n\n  const msgContainer = document.createElement('div');\n  msgContainer.className += ' wui-message-container';\n  msgRoot.appendChild(msgContainer)\n\n  model.on(\"change:message_options\", () => {\n    const options = model.get(\"message_options\");\n    const msg = createMsg(options);\n    msgContainer.appendChild(msg);\n    const {duration = 3000} = options;\n    if (duration > 0) {\n      setTimeout(() => {\n        closeMsg(msg)\n      }, duration);\n    }\n  })\n\n  model.on(\"change:close_msg_id\", () => {\n    const msg_id = model.get(\"close_msg_id\");\n    const msgDom = document.getElementById(msg_id);\n    closeMsg(msgDom);\n  })\n}\n",
       "_model_module": "anywidget",
       "_model_module_version": "~0.9.*",
       "_model_name": "AnyModel",
       "_view_module": "anywidget",
       "_view_module_version": "~0.9.*",
       "_view_name": "AnyView",
       "close_msg_id": "",
       "layout": "IPY_MODEL_a0369d8cd41f48ffb878c9523bf1ddca",
       "message_options": {
        "duration": 3000,
        "message": "",
        "show_close": false,
        "type": "info"
       }
      }
     },
     "f62ccab0642d4693bab3f1b9ef91247d": {
      "model_module": "@jupyter-widgets/base",
      "model_module_version": "2.0.0",
      "model_name": "LayoutModel",
      "state": {}
     },
     "f6507b0893ec4d9f9e897056b10b0dd2": {
      "model_module": "@jupyter-widgets/controls",
      "model_module_version": "2.0.0",
      "model_name": "VBoxModel",
      "state": {
       "children": [
        "IPY_MODEL_2525ed1bff2648db95c21a16ae21de18"
       ],
       "layout": "IPY_MODEL_55719798df7a4f31bf9a5c3b74a532dd"
      }
     },
     "fa8faab365484f6eac7a5f946bc7f1e2": {
      "model_module": "jupyter-leaflet",
      "model_module_version": "^0.19",
      "model_name": "LeafletLayersControlModel",
      "state": {
       "_model_module_version": "^0.19",
       "_view_module_version": "^0.19",
       "collapsed": false,
       "options": [
        "collapsed",
        "position"
       ]
      }
     }
    },
    "version_major": 2,
    "version_minor": 0
   }
  }
 },
 "nbformat": 4,
 "nbformat_minor": 5
}
