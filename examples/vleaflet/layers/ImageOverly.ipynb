{
 "cells": [
  {
   "cell_type": "markdown",
   "id": "a1e2fa29-7566-4426-be1e-a750658d83a5",
   "metadata": {},
   "source": [
    "# Image overlay and Video overlay\n"
   ]
  },
  {
   "cell_type": "markdown",
   "id": "7cdc5e8c-2aa8-41d1-9461-3e451f6ef6ea",
   "metadata": {},
   "source": [
    "## 基础用法\n"
   ]
  },
  {
   "cell_type": "code",
   "execution_count": 1,
   "id": "f5928b17-e8c8-47b0-9774-a8bb1f7e6af3",
   "metadata": {},
   "outputs": [],
   "source": [
    "import os\n",
    "import pathlib\n",
    "from vuepy.utils import magic\n",
    "from vleaflet import leaflet\n",
    "%load_ext vuepy"
   ]
  },
  {
   "cell_type": "code",
   "execution_count": 22,
   "id": "7982482f-985d-44b5-89d6-57b3bb2c3427",
   "metadata": {},
   "outputs": [
    {
     "name": "stdout",
     "output_type": "stream",
     "text": [
      "{\"vue\": \"<template>\\n  <vl-map :center=\\\"[25, -115]\\\" :zoom=4>\\n    <template #layers>\\n      <vl-image-overlay url=\\\"https://www.vuepy.org/images/vuepy-logo.svg\\\" \\n                        name='image'\\n                        :bounds=\\\"((13, -130), (32, -100))\\\"\\n      ></vl-image-overlay>\\n    </template>\\n    <template #controls>\\n      <vl-layers-control position='topleft' :collapsed='False'></vl-layers-control>\\n    </template>\\n  </vl-map>\\n</template>\\n<script lang='py'>\\n</script>\\n\", \"setup\": \"\"}\n"
     ]
    },
    {
     "data": {
      "application/vnd.jupyter.widget-view+json": {
       "model_id": "339d41e59a3942baac74ea3f431ff41b",
       "version_major": 2,
       "version_minor": 0
      },
      "text/plain": [
       "Document(children=(Dom(children=(MessageWidget(message_options={'message': '', 'type': 'info', 'show_close': F…"
      ]
     },
     "execution_count": 22,
     "metadata": {},
     "output_type": "execute_result"
    }
   ],
   "source": [
    "%%vuepy_run --plugins leaflet --show-code\n",
    "<template>\n",
    "  <vl-map :center=\"[25, -115]\" :zoom=4>\n",
    "    <template #layers>\n",
    "      <vl-image-overlay url=\"https://www.vuepy.org/images/vuepy-logo.svg\" \n",
    "                        name='image'\n",
    "                        :bounds=\"((13, -130), (32, -100))\"\n",
    "      ></vl-image-overlay>\n",
    "    </template>\n",
    "    <template #controls>\n",
    "      <vl-layers-control position='topleft' :collapsed='False'></vl-layers-control>\n",
    "    </template>\n",
    "  </vl-map>\n",
    "</template>\n",
    "<script lang='py'>\n",
    "</script>"
   ]
  },
  {
   "cell_type": "code",
   "execution_count": 21,
   "id": "bf3bf5e3-5ff6-4f46-a226-50f92e561944",
   "metadata": {},
   "outputs": [
    {
     "name": "stdout",
     "output_type": "stream",
     "text": [
      "{\"vue\": \"<template>\\n  <vl-map :center=\\\"[25, -115]\\\" :zoom=4>\\n    <template #layers>\\n      <vl-video-overlay url=\\\"https://www.mapbox.com/bites/00188/patricia_nasa.webm\\\" \\n                        name='video'\\n                        :bounds=\\\"((13, -130), (32, -100))\\\"\\n      ></vl-video-overlay>\\n    </template>\\n    <template #controls>\\n      <vl-layers-control position='topleft' :collapsed='False'></vl-layers-control>\\n    </template>\\n  </vl-map>\\n</template>\\n<script lang='py'>\\n</script>\\n\", \"setup\": \"\"}\n"
     ]
    },
    {
     "data": {
      "application/vnd.jupyter.widget-view+json": {
       "model_id": "74acb6548dc44e12bea8bafd4dd01637",
       "version_major": 2,
       "version_minor": 0
      },
      "text/plain": [
       "Document(children=(Dom(children=(MessageWidget(message_options={'message': '', 'type': 'info', 'show_close': F…"
      ]
     },
     "execution_count": 21,
     "metadata": {},
     "output_type": "execute_result"
    }
   ],
   "source": [
    "%%vuepy_run --plugins leaflet --show-code\n",
    "<template>\n",
    "  <vl-map :center=\"[25, -115]\" :zoom=4>\n",
    "    <template #layers>\n",
    "      <vl-video-overlay url=\"https://www.mapbox.com/bites/00188/patricia_nasa.webm\" \n",
    "                        name='video'\n",
    "                        :bounds=\"((13, -130), (32, -100))\"\n",
    "      ></vl-video-overlay>\n",
    "    </template>\n",
    "    <template #controls>\n",
    "      <vl-layers-control position='topleft' :collapsed='False'></vl-layers-control>\n",
    "    </template>\n",
    "  </vl-map>\n",
    "</template>\n",
    "<script lang='py'>\n",
    "</script>"
   ]
  },
  {
   "cell_type": "code",
   "execution_count": 23,
   "id": "7784ce76-e54d-44f8-96d9-57f320d01e50",
   "metadata": {},
   "outputs": [],
   "source": [
    "##ignore\n",
    "from ipyleaflet import Map, ImageOverlay\n",
    "\n",
    "m = Map(center=(25, -115), zoom=4)\n",
    "\n",
    "image = ImageOverlay(\n",
    "    url=\"https://www.vuepy.org/images/vuepy-logo.svg\",\n",
    "    # url='../06Q1fSz.png',\n",
    "    bounds=((13, -130), (32, -100))\n",
    ")\n",
    "\n",
    "m.add(image);\n",
    "# m"
   ]
  },
  {
   "cell_type": "markdown",
   "id": "392aa25a-4073-4d2b-93f9-d89666b38369",
   "metadata": {},
   "source": [
    "## 禁用状态\n",
    "\n",
    "你可以使用 `disabled` 属性来定义是否被禁用。  \n",
    "使用 `disabled` 属性来控制是否为禁用状态。该属性接受一个 `bool` 类型的值。"
   ]
  },
  {
   "cell_type": "code",
   "execution_count": 2,
   "id": "4555cd32-d66d-411b-8b39-01153e8fb53d",
   "metadata": {},
   "outputs": [
    {
     "name": "stdout",
     "output_type": "stream",
     "text": [
      "{\"vue\": \"<template>\\n  <HBox>\\n    <Button desc=\\\"Default\\\" :disabled=\\\"True\\\"></Button>\\n    <Button desc=\\\"Success\\\" type=\\\"success\\\" :disabled=\\\"True\\\"></Button>\\n    <Button desc=\\\"Info\\\" type=\\\"info\\\" :disabled=\\\"True\\\"></Button>\\n    <Button desc=\\\"Warning\\\" type=\\\"warning\\\" :disabled=\\\"True\\\"></Button>\\n    <Button desc=\\\"Danger\\\" type=\\\"danger\\\" :disabled=\\\"True\\\"></Button>\\n  </HBox>\\n</template>\\n\\n<script setup>\\nimport Button from \\\"../../../src/ipywui/components/Button\\\";\\nimport HBox from \\\"../../../src/ipywui/components/HBox\\\";\\n</script>\", \"setup\": 0}\n"
     ]
    },
    {
     "data": {
      "application/vnd.jupyter.widget-view+json": {
       "model_id": "23b4b2afa6294668abf0a192ce53a20c",
       "version_major": 2,
       "version_minor": 0
      },
      "text/plain": [
       "Document(children=(Dom(children=(MessageWidget(message_options={'message': '', 'type': 'info', 'show_close': F…"
      ]
     },
     "execution_count": 2,
     "metadata": {},
     "output_type": "execute_result"
    }
   ],
   "source": [
    "%vuepy_demo disabled.vue"
   ]
  },
  {
   "cell_type": "markdown",
   "id": "8685d144-029f-4afa-8547-4f3d84529504",
   "metadata": {},
   "source": [
    "## API\n",
    "\n",
    "### 属性\n",
    "\n",
    "| 属性名    | 说明                 | 类型                                                           | 默认值 |\n",
    "| -------- | ------------------- | ---------------------------------------------------------------| ------- |\n",
    "| v-model/value | 绑定值             | ^[str]                                                      | —       |\n",
    "| desc     | 按钮文字             | ^[str]                                                         | —       |\n",
    "| icon     | 按钮图标             | ^[str]                                                         | —       |\n",
    "| type     | 类型                | ^[enum]`''\\| 'success'\\| 'warning'\\| 'danger'\\| 'info'`        | —       |\n",
    "| tooltip  | 提示信息             | ^[str]                                                         | —       |\n",
    "| disabled | 按钮是否为禁用状态     | ^[boolean]                                                     | false   |\n",
    "| style    | 自定义css样式             | ^[str]                                                         | -       |\n",
    "\n",
    "### Events\n",
    "\n",
    "| 事件名 | 说明                  | 类型                                   |\n",
    "| ---   | ---                  | ---                                    |\n",
    "| click | 当按钮被点击时触发的事件 |  ^[Callable]`(button: Widget) -> None` |\n",
    "\n",
    "\n",
    "### Slots\n",
    "\n",
    "| 插槽名   | 说明               |\n",
    "| ---     | ---               |\n",
    "| default | 自定义默认内容      |\n",
    "\n",
    "\n",
    "### 方法\n",
    "\n",
    "| 属性名 | 说明 | 类型 |\n",
    "| --- | --- | --- |"
   ]
  },
  {
   "cell_type": "code",
   "execution_count": null,
   "id": "db17c770-7085-4365-b5f0-bd4f66ebc948",
   "metadata": {},
   "outputs": [],
   "source": []
  }
 ],
 "metadata": {
  "kernelspec": {
   "display_name": "Python 3 (ipykernel)",
   "language": "python",
   "name": "python3"
  },
  "language_info": {
   "codemirror_mode": {
    "name": "ipython",
    "version": 3
   },
   "file_extension": ".py",
   "mimetype": "text/x-python",
   "name": "python",
   "nbconvert_exporter": "python",
   "pygments_lexer": "ipython3",
   "version": "3.10.12"
  },
  "widgets": {
   "application/vnd.jupyter.widget-state+json": {
    "state": {
     "002d841bc7414e749eb07e6abc4c8fa9": {
      "model_module": "jupyter-leaflet",
      "model_module_version": "^0.19",
      "model_name": "LeafletZoomControlModel",
      "state": {
       "_model_module_version": "^0.19",
       "_view_module_version": "^0.19",
       "options": [
        "position",
        "zoom_in_text",
        "zoom_in_title",
        "zoom_out_text",
        "zoom_out_title"
       ]
      }
     },
     "013dc020bd404bf188f2cf8622762878": {
      "model_module": "jupyter-leaflet",
      "model_module_version": "^0.19",
      "model_name": "LeafletMapStyleModel",
      "state": {
       "_model_module_version": "^0.19"
      }
     },
     "01c0e0306a074101ac9b68927f54e92b": {
      "model_module": "anywidget",
      "model_module_version": "~0.9.*",
      "model_name": "AnyModel",
      "state": {
       "_anywidget_id": "ipywui.widgets.custom.message.MessageWidget",
       "_css": ".wui-message-root {\n    display: flex;\n    position: absolute;\n    left: 0;\n    right: 0;\n    top: 0;\n}\n\n.wui-message-container {\n    align-items: center;\n    display: flex;\n    flex-direction: column-reverse;\n    justify-content: center;\n    min-height: 100%;\n    outline: none;\n    width: 100%;\n\n    -webkit-tap-highlight-color: rgba(0,0,0,0);\n    bottom: 0;\n    left: 0;\n    right: 0;\n    top: 0;\n}\n\n.wui-message--success {\n    --wui-message-bg-color: #f0f9eb;\n    --wui-message-border-color: #e1f3d8;\n    --wui-message-text-color: #67c23a;\n}\n.wui-message--warning {\n    --wui-message-bg-color: #fdf6ec;\n    --wui-message-border-color: #faecd8;\n    --wui-message-text-color: #e6a23c;\n}\n.wui-message--info {\n    --wui-message-bg-color: #f4f4f5;\n    --wui-message-border-color: #e9e9eb;\n    --wui-message-text-color: #909399;\n}\n.wui-message--error {\n    --wui-message-bg-color: #fef0f0;\n    --wui-message-border-color: #fde2e2;\n    --wui-message-text-color: #f56c6c;\n}\n\n@keyframes msg-open {\n    0% {\n        opacity: 0;\n        -webkit-transform: translateY(-120%);\n        transform: translateY(-120%)\n    }\n    to {\n        -webkit-transform: translateY(0);\n        transform: translateY(0)\n    }\n}\n\n@keyframes msg-close {\n    0% {\n        opacity: 1;\n        -webkit-transform: scale(1);\n        transform: scale(1)\n    }\n    to {\n        opacity: 0;\n        -webkit-transform: scale(.9);\n        transform: scale(.9)\n    }\n}\n.wui-message[data-state=entered],.wui-message[data-state=entering] {\n    -webkit-animation: msg-open .24s cubic-bezier(.175,.885,.32,1.175) both;\n    animation: msg-open .24s cubic-bezier(.175,.885,.32,1.175) both\n}\n\n.wui-message[data-state=exiting] {\n    -webkit-animation: msg-close .12s cubic-bezier(.4,0,1,1) both;\n    animation: msg-close .12s cubic-bezier(.4,0,1,1) both\n}\n\n.wui-message {\n    width: -webkit-fit-content;\n    width: -moz-fit-content;\n    width: fit-content;\n    z-index: 2004;\n    max-width: calc(100% - 32px);\n    margin-top: 8px;\n    box-sizing: border-box;\n    /*border-radius: var(--wui-border-radius-base);*/\n    /*border-width: var(--wui-border-width);*/\n    /*border-style: var(--wui-border-style);*/\n    border-color: var(--wui-message-border-color);\n    /*left: 50%;*/\n    /*top: 20px;*/\n    /*transform: translateX(-50%);*/\n    background-color: var(--wui-message-bg-color);\n    /*transition: opacity var(--wui-transition-duration),transform .4s,top .4s;*/\n    /*padding: var(--wui-message-padding);*/\n    display: flex;\n    align-items: center;\n}\n\n/*.wui-message--success */\n.wui-message__content {\n    color: var(--wui-message-text-color);\n    font-size: 14px;\n    line-height: 18px;\n    margin: 10px 14px 10px 14px;\n    overflow-wrap: break-word;\n}\n\n.wui-message__closeBtn {\n    /*cursor: pointer;*/\n    font-style: normal;\n    /*color: gray;*/\n    padding-right: 14px;\n    /*font-size: 13px;*/\n    user-select: none;\n\n    background: transparent;\n    border: none;\n    color: gray;\n    cursor: pointer;\n    font-size: 13px;\n    font-weight: 400;\n    line-height: 1;\n    outline: none;\n    /*padding: 4px;*/\n    text-align: center;\n    transition: opacity .3s;\n    /*width: 100%;*/\n}",
       "_esm": "function closeMsg(msgDom) {\n  if (!msgDom) {\n    return;\n  }\n  msgDom.setAttribute('data-state', 'exiting');\n  msgDom.remove();\n}\n\nfunction createMsg(options) {\n  const {message, msg_id, type = 'info', show_close = false} = options;\n  const msgDom = document.createElement('div');\n  msgDom.className += ` wui-message--${type} wui-message`;\n  msgDom.setAttribute('data-state', 'entered');\n  msgDom.setAttribute('id', msg_id);\n  const msgContent = document.createElement('p');\n  msgContent.className += ` wui-message--${type} wui-message__content`;\n  msgContent.innerText = message;\n  msgDom.appendChild(msgContent);\n  if (show_close) {\n    const closeBtn = document.createElement('i');\n    closeBtn.className += 'wui-message__closeBtn';\n    closeBtn.innerText = 'x';\n    closeBtn.addEventListener('click', (ev) => {\n      closeMsg(msgDom);\n    })\n    msgDom.appendChild(closeBtn);\n  }\n  return msgDom;\n}\n\nexport async function render(view) {\n  let model = view.model;\n  const msgRoot = view.el;\n  msgRoot.className += ' wui-message-root'\n\n  const msgContainer = document.createElement('div');\n  msgContainer.className += ' wui-message-container';\n  msgRoot.appendChild(msgContainer)\n\n  model.on(\"change:message_options\", () => {\n    const options = model.get(\"message_options\");\n    const msg = createMsg(options);\n    msgContainer.appendChild(msg);\n    const {duration = 3000} = options;\n    if (duration > 0) {\n      setTimeout(() => {\n        closeMsg(msg)\n      }, duration);\n    }\n  })\n\n  model.on(\"change:close_msg_id\", () => {\n    const msg_id = model.get(\"close_msg_id\");\n    const msgDom = document.getElementById(msg_id);\n    closeMsg(msgDom);\n  })\n}\n",
       "_model_module": "anywidget",
       "_model_module_version": "~0.9.*",
       "_model_name": "AnyModel",
       "_view_module": "anywidget",
       "_view_module_version": "~0.9.*",
       "_view_name": "AnyView",
       "close_msg_id": "",
       "layout": "IPY_MODEL_5ec1653596884a82bebbb0f12e6c5e01",
       "message_options": {
        "duration": 3000,
        "message": "",
        "show_close": false,
        "type": "info"
       }
      }
     },
     "02d5b0643bf9433c8152f51804cc5b00": {
      "model_module": "jupyter-leaflet",
      "model_module_version": "^0.19",
      "model_name": "LeafletMapStyleModel",
      "state": {
       "_model_module_version": "^0.19"
      }
     },
     "02f6049f5db34c518662a4f7f26797f5": {
      "model_module": "@jupyter-widgets/base",
      "model_module_version": "2.0.0",
      "model_name": "LayoutModel",
      "state": {}
     },
     "033da71b99d94ff6b38b566b4a8160a2": {
      "model_module": "@jupyter-widgets/controls",
      "model_module_version": "2.0.0",
      "model_name": "VBoxModel",
      "state": {
       "children": [
        "IPY_MODEL_9e7990a0bfd14a77ac3aa89c797df460"
       ],
       "layout": "IPY_MODEL_050309d523d340b59c4a44fca39cbb29"
      }
     },
     "043f9681632a4c85aa5459d9d343b7d4": {
      "model_module": "jupyter-leaflet",
      "model_module_version": "^0.19",
      "model_name": "LeafletMapStyleModel",
      "state": {
       "_model_module_version": "^0.19"
      }
     },
     "04a9388991a64f7cb2275431d17ef31c": {
      "model_module": "@jupyter-widgets/base",
      "model_module_version": "2.0.0",
      "model_name": "LayoutModel",
      "state": {}
     },
     "050309d523d340b59c4a44fca39cbb29": {
      "model_module": "@jupyter-widgets/base",
      "model_module_version": "2.0.0",
      "model_name": "LayoutModel",
      "state": {}
     },
     "057a9980e1ee4ef38db96b4fdd95e333": {
      "model_module": "jupyter-leaflet",
      "model_module_version": "^0.19",
      "model_name": "LeafletImageOverlayModel",
      "state": {
       "_model_module_version": "^0.19",
       "_view_module_version": "^0.19",
       "bounds": [
        [
         13,
         -130
        ],
        [
         32,
         -100
        ]
       ],
       "name": "image",
       "options": [
        "attribution"
       ],
       "url": "https://i.imgur.com/06Q1fSz.png"
      }
     },
     "05a50d7e2e834ae4baa34d7c7f791049": {
      "model_module": "@jupyter-widgets/base",
      "model_module_version": "2.0.0",
      "model_name": "LayoutModel",
      "state": {}
     },
     "05cdd879111a441b8b50e216b283136a": {
      "model_module": "jupyter-leaflet",
      "model_module_version": "^0.19",
      "model_name": "LeafletMapStyleModel",
      "state": {
       "_model_module_version": "^0.19",
       "cursor": "move"
      }
     },
     "064ef49658d5429d9be04a02f032eaa7": {
      "model_module": "@jupyter-widgets/base",
      "model_module_version": "2.0.0",
      "model_name": "LayoutModel",
      "state": {}
     },
     "0665875ac0f442969dfece351d1df3bc": {
      "model_module": "anywidget",
      "model_module_version": "~0.9.*",
      "model_name": "AnyModel",
      "state": {
       "_anywidget_id": "ipywui.widgets.custom.message.MessageWidget",
       "_css": ".wui-message-root {\n    display: flex;\n    position: absolute;\n    left: 0;\n    right: 0;\n    top: 0;\n}\n\n.wui-message-container {\n    align-items: center;\n    display: flex;\n    flex-direction: column-reverse;\n    justify-content: center;\n    min-height: 100%;\n    outline: none;\n    width: 100%;\n\n    -webkit-tap-highlight-color: rgba(0,0,0,0);\n    bottom: 0;\n    left: 0;\n    right: 0;\n    top: 0;\n}\n\n.wui-message--success {\n    --wui-message-bg-color: #f0f9eb;\n    --wui-message-border-color: #e1f3d8;\n    --wui-message-text-color: #67c23a;\n}\n.wui-message--warning {\n    --wui-message-bg-color: #fdf6ec;\n    --wui-message-border-color: #faecd8;\n    --wui-message-text-color: #e6a23c;\n}\n.wui-message--info {\n    --wui-message-bg-color: #f4f4f5;\n    --wui-message-border-color: #e9e9eb;\n    --wui-message-text-color: #909399;\n}\n.wui-message--error {\n    --wui-message-bg-color: #fef0f0;\n    --wui-message-border-color: #fde2e2;\n    --wui-message-text-color: #f56c6c;\n}\n\n@keyframes msg-open {\n    0% {\n        opacity: 0;\n        -webkit-transform: translateY(-120%);\n        transform: translateY(-120%)\n    }\n    to {\n        -webkit-transform: translateY(0);\n        transform: translateY(0)\n    }\n}\n\n@keyframes msg-close {\n    0% {\n        opacity: 1;\n        -webkit-transform: scale(1);\n        transform: scale(1)\n    }\n    to {\n        opacity: 0;\n        -webkit-transform: scale(.9);\n        transform: scale(.9)\n    }\n}\n.wui-message[data-state=entered],.wui-message[data-state=entering] {\n    -webkit-animation: msg-open .24s cubic-bezier(.175,.885,.32,1.175) both;\n    animation: msg-open .24s cubic-bezier(.175,.885,.32,1.175) both\n}\n\n.wui-message[data-state=exiting] {\n    -webkit-animation: msg-close .12s cubic-bezier(.4,0,1,1) both;\n    animation: msg-close .12s cubic-bezier(.4,0,1,1) both\n}\n\n.wui-message {\n    width: -webkit-fit-content;\n    width: -moz-fit-content;\n    width: fit-content;\n    z-index: 2004;\n    max-width: calc(100% - 32px);\n    margin-top: 8px;\n    box-sizing: border-box;\n    /*border-radius: var(--wui-border-radius-base);*/\n    /*border-width: var(--wui-border-width);*/\n    /*border-style: var(--wui-border-style);*/\n    border-color: var(--wui-message-border-color);\n    /*left: 50%;*/\n    /*top: 20px;*/\n    /*transform: translateX(-50%);*/\n    background-color: var(--wui-message-bg-color);\n    /*transition: opacity var(--wui-transition-duration),transform .4s,top .4s;*/\n    /*padding: var(--wui-message-padding);*/\n    display: flex;\n    align-items: center;\n}\n\n/*.wui-message--success */\n.wui-message__content {\n    color: var(--wui-message-text-color);\n    font-size: 14px;\n    line-height: 18px;\n    margin: 10px 14px 10px 14px;\n    overflow-wrap: break-word;\n}\n\n.wui-message__closeBtn {\n    /*cursor: pointer;*/\n    font-style: normal;\n    /*color: gray;*/\n    padding-right: 14px;\n    /*font-size: 13px;*/\n    user-select: none;\n\n    background: transparent;\n    border: none;\n    color: gray;\n    cursor: pointer;\n    font-size: 13px;\n    font-weight: 400;\n    line-height: 1;\n    outline: none;\n    /*padding: 4px;*/\n    text-align: center;\n    transition: opacity .3s;\n    /*width: 100%;*/\n}",
       "_esm": "function closeMsg(msgDom) {\n  if (!msgDom) {\n    return;\n  }\n  msgDom.setAttribute('data-state', 'exiting');\n  msgDom.remove();\n}\n\nfunction createMsg(options) {\n  const {message, msg_id, type = 'info', show_close = false} = options;\n  const msgDom = document.createElement('div');\n  msgDom.className += ` wui-message--${type} wui-message`;\n  msgDom.setAttribute('data-state', 'entered');\n  msgDom.setAttribute('id', msg_id);\n  const msgContent = document.createElement('p');\n  msgContent.className += ` wui-message--${type} wui-message__content`;\n  msgContent.innerText = message;\n  msgDom.appendChild(msgContent);\n  if (show_close) {\n    const closeBtn = document.createElement('i');\n    closeBtn.className += 'wui-message__closeBtn';\n    closeBtn.innerText = 'x';\n    closeBtn.addEventListener('click', (ev) => {\n      closeMsg(msgDom);\n    })\n    msgDom.appendChild(closeBtn);\n  }\n  return msgDom;\n}\n\nexport async function render(view) {\n  let model = view.model;\n  const msgRoot = view.el;\n  msgRoot.className += ' wui-message-root'\n\n  const msgContainer = document.createElement('div');\n  msgContainer.className += ' wui-message-container';\n  msgRoot.appendChild(msgContainer)\n\n  model.on(\"change:message_options\", () => {\n    const options = model.get(\"message_options\");\n    const msg = createMsg(options);\n    msgContainer.appendChild(msg);\n    const {duration = 3000} = options;\n    if (duration > 0) {\n      setTimeout(() => {\n        closeMsg(msg)\n      }, duration);\n    }\n  })\n\n  model.on(\"change:close_msg_id\", () => {\n    const msg_id = model.get(\"close_msg_id\");\n    const msgDom = document.getElementById(msg_id);\n    closeMsg(msgDom);\n  })\n}\n",
       "_model_module": "anywidget",
       "_model_module_version": "~0.9.*",
       "_model_name": "AnyModel",
       "_view_module": "anywidget",
       "_view_module_version": "~0.9.*",
       "_view_name": "AnyView",
       "close_msg_id": "",
       "layout": "IPY_MODEL_94879f2ef00944d1b5463fe4512ff4bc",
       "message_options": {
        "duration": 3000,
        "message": "",
        "show_close": false,
        "type": "info"
       }
      }
     },
     "07d7022ecc6d427e9dd044f95a572647": {
      "model_module": "@jupyter-widgets/base",
      "model_module_version": "2.0.0",
      "model_name": "LayoutModel",
      "state": {}
     },
     "091a8ebf4daf4fe098b52376d9918872": {
      "model_module": "@jupyter-widgets/controls",
      "model_module_version": "2.0.0",
      "model_name": "VBoxModel",
      "state": {
       "children": [
        "IPY_MODEL_cc4f3bf7bf6a4e5c90543a061199d2ef"
       ],
       "layout": "IPY_MODEL_88fe1b9c33a347d79975caf293359b98"
      }
     },
     "09413578d5f947ef927cfd9d26bdc3f1": {
      "model_module": "@jupyter-widgets/base",
      "model_module_version": "2.0.0",
      "model_name": "LayoutModel",
      "state": {}
     },
     "095e25f4f1774451a279beecadfc996e": {
      "model_module": "jupyter-leaflet",
      "model_module_version": "^0.19",
      "model_name": "LeafletZoomControlModel",
      "state": {
       "_model_module_version": "^0.19",
       "_view_module_version": "^0.19",
       "options": [
        "position",
        "zoom_in_text",
        "zoom_in_title",
        "zoom_out_text",
        "zoom_out_title"
       ]
      }
     },
     "09bfef52039b45e19bc5f1777addba45": {
      "model_module": "jupyter-leaflet",
      "model_module_version": "^0.19",
      "model_name": "LeafletZoomControlModel",
      "state": {
       "_model_module_version": "^0.19",
       "_view_module_version": "^0.19",
       "options": [
        "position",
        "zoom_in_text",
        "zoom_in_title",
        "zoom_out_text",
        "zoom_out_title"
       ]
      }
     },
     "09ca81cf95aa4a688e1b9b28bfcf5207": {
      "model_module": "@jupyter-widgets/base",
      "model_module_version": "2.0.0",
      "model_name": "LayoutModel",
      "state": {}
     },
     "09fb50054b0c47069c58518edc1dcb24": {
      "model_module": "@jupyter-widgets/controls",
      "model_module_version": "2.0.0",
      "model_name": "VBoxModel",
      "state": {
       "children": [
        "IPY_MODEL_7602c526da98449ab98d290a20a5878d"
       ],
       "layout": "IPY_MODEL_9b69ac5f36d84d279778ecd4182c422f"
      }
     },
     "0b04e3c88a9d449eb2dfffa633ecd13e": {
      "model_module": "jupyter-leaflet",
      "model_module_version": "^0.19",
      "model_name": "LeafletMapStyleModel",
      "state": {
       "_model_module_version": "^0.19"
      }
     },
     "0b1520f02ddb44fdbf45f73a2c81eb11": {
      "model_module": "@jupyter-widgets/controls",
      "model_module_version": "2.0.0",
      "model_name": "VBoxModel",
      "state": {
       "layout": "IPY_MODEL_1ba5c59f6fdc48418449ba5dfdb1ef65"
      }
     },
     "0bacad33caf64826ac69a6be506dccfc": {
      "model_module": "@jupyter-widgets/controls",
      "model_module_version": "2.0.0",
      "model_name": "VBoxModel",
      "state": {
       "children": [
        "IPY_MODEL_0665875ac0f442969dfece351d1df3bc",
        "IPY_MODEL_eff82a5e890645a88d35c5d0d29ef5bc"
       ],
       "layout": "IPY_MODEL_1e6333affe874c00aea81afad2693017"
      }
     },
     "0c89e1d29cc24a93955763b87e53e664": {
      "model_module": "jupyter-leaflet",
      "model_module_version": "^0.19",
      "model_name": "LeafletMapStyleModel",
      "state": {
       "_model_module_version": "^0.19"
      }
     },
     "0cf0f192b6a54db980523cf486d706d4": {
      "model_module": "jupyter-leaflet",
      "model_module_version": "^0.19",
      "model_name": "LeafletImageOverlayModel",
      "state": {
       "_model_module_version": "^0.19",
       "_view_module_version": "^0.19",
       "bounds": [
        [
         13,
         -130
        ],
        [
         32,
         -100
        ]
       ],
       "name": "image",
       "options": [
        "attribution"
       ],
       "url": "https://www.vuepy.org/images/vuepy-logo.svg"
      }
     },
     "0d790d1444764d9eb67802ff7c46a200": {
      "model_module": "jupyter-leaflet",
      "model_module_version": "^0.19",
      "model_name": "LeafletMapModel",
      "state": {
       "_model_module_version": "^0.19",
       "_view_module_version": "^0.19",
       "bottom": 1954,
       "center": [
        25,
        -115
       ],
       "controls": [
        "IPY_MODEL_c5a32512458a4784af42f7a0a1bdc810",
        "IPY_MODEL_bd7cc2d5876d48269811c7f7e2a4838e",
        "IPY_MODEL_9eb97dcd60654cab8e6dcdab93dc95e2"
       ],
       "default_style": "IPY_MODEL_544a3033f18749f38981e9073d41ad5a",
       "dragging_style": "IPY_MODEL_faf90cc5df84410db33b7caac03edc79",
       "east": -64.68750000000001,
       "fullscreen": false,
       "interpolation": "bilinear",
       "layers": [
        "IPY_MODEL_cf50aefb6eea45ee8c193d4b28916c30",
        "IPY_MODEL_cd8b8fc0e78e4326890d1ac2b31efdb1"
       ],
       "layout": "IPY_MODEL_f680d7a88f564d67ab7e1ea8601c34a9",
       "left": 167,
       "modisdate": "2025-04-05",
       "north": 39.774769485295465,
       "options": [
        "bounce_at_zoom_limits",
        "box_zoom",
        "center",
        "close_popup_on_click",
        "double_click_zoom",
        "dragging",
        "fullscreen",
        "inertia",
        "inertia_deceleration",
        "inertia_max_speed",
        "interpolation",
        "keyboard",
        "keyboard_pan_offset",
        "keyboard_zoom_offset",
        "max_zoom",
        "min_zoom",
        "prefer_canvas",
        "scroll_wheel_zoom",
        "tap",
        "tap_tolerance",
        "touch_zoom",
        "world_copy_jump",
        "zoom",
        "zoom_animation_threshold",
        "zoom_delta",
        "zoom_snap"
       ],
       "prefer_canvas": false,
       "right": 1312,
       "south": 8.233237111274565,
       "style": "IPY_MODEL_544a3033f18749f38981e9073d41ad5a",
       "top": 1554,
       "west": -165.32226562500003,
       "window_url": "http://localhost:2071/lab/tree/nb_llm/pyvue/examples/vleaflet/layers/ImageOverly.ipynb",
       "zoom": 4
      }
     },
     "0dee9ff238ae42d992736ab7cd7f5877": {
      "model_module": "@jupyter-widgets/base",
      "model_module_version": "2.0.0",
      "model_name": "LayoutModel",
      "state": {}
     },
     "0e59f178ede8452b82b2edd3e7ec664a": {
      "model_module": "jupyter-leaflet",
      "model_module_version": "^0.19",
      "model_name": "LeafletMapStyleModel",
      "state": {
       "_model_module_version": "^0.19"
      }
     },
     "0f608dd91bd5411ea5c2251cb698ec8b": {
      "model_module": "jupyter-leaflet",
      "model_module_version": "^0.19",
      "model_name": "LeafletMapStyleModel",
      "state": {
       "_model_module_version": "^0.19",
       "cursor": "move"
      }
     },
     "1006722b1f624471ad36447117138347": {
      "model_module": "jupyter-leaflet",
      "model_module_version": "^0.19",
      "model_name": "LeafletImageOverlayModel",
      "state": {
       "_model_module_version": "^0.19",
       "_view_module_version": "^0.19",
       "bounds": [
        [
         13,
         -130
        ],
        [
         32,
         -100
        ]
       ],
       "name": "video",
       "options": [
        "attribution"
       ],
       "url": "https://www.vuepy.org/images/vuepy-logo.svg"
      }
     },
     "102b06344b6843b9b8fd670a78604eab": {
      "model_module": "@jupyter-widgets/base",
      "model_module_version": "2.0.0",
      "model_name": "LayoutModel",
      "state": {}
     },
     "105dd675124b45249104f40168b402b6": {
      "model_module": "@jupyter-widgets/base",
      "model_module_version": "2.0.0",
      "model_name": "LayoutModel",
      "state": {}
     },
     "121f464b00d54cbfb42e0f39848cde9c": {
      "model_module": "anywidget",
      "model_module_version": "~0.9.*",
      "model_name": "AnyModel",
      "state": {
       "_anywidget_id": "ipywui.widgets.custom.message.MessageWidget",
       "_css": ".wui-message-root {\n    display: flex;\n    position: absolute;\n    left: 0;\n    right: 0;\n    top: 0;\n}\n\n.wui-message-container {\n    align-items: center;\n    display: flex;\n    flex-direction: column-reverse;\n    justify-content: center;\n    min-height: 100%;\n    outline: none;\n    width: 100%;\n\n    -webkit-tap-highlight-color: rgba(0,0,0,0);\n    bottom: 0;\n    left: 0;\n    right: 0;\n    top: 0;\n}\n\n.wui-message--success {\n    --wui-message-bg-color: #f0f9eb;\n    --wui-message-border-color: #e1f3d8;\n    --wui-message-text-color: #67c23a;\n}\n.wui-message--warning {\n    --wui-message-bg-color: #fdf6ec;\n    --wui-message-border-color: #faecd8;\n    --wui-message-text-color: #e6a23c;\n}\n.wui-message--info {\n    --wui-message-bg-color: #f4f4f5;\n    --wui-message-border-color: #e9e9eb;\n    --wui-message-text-color: #909399;\n}\n.wui-message--error {\n    --wui-message-bg-color: #fef0f0;\n    --wui-message-border-color: #fde2e2;\n    --wui-message-text-color: #f56c6c;\n}\n\n@keyframes msg-open {\n    0% {\n        opacity: 0;\n        -webkit-transform: translateY(-120%);\n        transform: translateY(-120%)\n    }\n    to {\n        -webkit-transform: translateY(0);\n        transform: translateY(0)\n    }\n}\n\n@keyframes msg-close {\n    0% {\n        opacity: 1;\n        -webkit-transform: scale(1);\n        transform: scale(1)\n    }\n    to {\n        opacity: 0;\n        -webkit-transform: scale(.9);\n        transform: scale(.9)\n    }\n}\n.wui-message[data-state=entered],.wui-message[data-state=entering] {\n    -webkit-animation: msg-open .24s cubic-bezier(.175,.885,.32,1.175) both;\n    animation: msg-open .24s cubic-bezier(.175,.885,.32,1.175) both\n}\n\n.wui-message[data-state=exiting] {\n    -webkit-animation: msg-close .12s cubic-bezier(.4,0,1,1) both;\n    animation: msg-close .12s cubic-bezier(.4,0,1,1) both\n}\n\n.wui-message {\n    width: -webkit-fit-content;\n    width: -moz-fit-content;\n    width: fit-content;\n    z-index: 2004;\n    max-width: calc(100% - 32px);\n    margin-top: 8px;\n    box-sizing: border-box;\n    /*border-radius: var(--wui-border-radius-base);*/\n    /*border-width: var(--wui-border-width);*/\n    /*border-style: var(--wui-border-style);*/\n    border-color: var(--wui-message-border-color);\n    /*left: 50%;*/\n    /*top: 20px;*/\n    /*transform: translateX(-50%);*/\n    background-color: var(--wui-message-bg-color);\n    /*transition: opacity var(--wui-transition-duration),transform .4s,top .4s;*/\n    /*padding: var(--wui-message-padding);*/\n    display: flex;\n    align-items: center;\n}\n\n/*.wui-message--success */\n.wui-message__content {\n    color: var(--wui-message-text-color);\n    font-size: 14px;\n    line-height: 18px;\n    margin: 10px 14px 10px 14px;\n    overflow-wrap: break-word;\n}\n\n.wui-message__closeBtn {\n    /*cursor: pointer;*/\n    font-style: normal;\n    /*color: gray;*/\n    padding-right: 14px;\n    /*font-size: 13px;*/\n    user-select: none;\n\n    background: transparent;\n    border: none;\n    color: gray;\n    cursor: pointer;\n    font-size: 13px;\n    font-weight: 400;\n    line-height: 1;\n    outline: none;\n    /*padding: 4px;*/\n    text-align: center;\n    transition: opacity .3s;\n    /*width: 100%;*/\n}",
       "_esm": "function closeMsg(msgDom) {\n  if (!msgDom) {\n    return;\n  }\n  msgDom.setAttribute('data-state', 'exiting');\n  msgDom.remove();\n}\n\nfunction createMsg(options) {\n  const {message, msg_id, type = 'info', show_close = false} = options;\n  const msgDom = document.createElement('div');\n  msgDom.className += ` wui-message--${type} wui-message`;\n  msgDom.setAttribute('data-state', 'entered');\n  msgDom.setAttribute('id', msg_id);\n  const msgContent = document.createElement('p');\n  msgContent.className += ` wui-message--${type} wui-message__content`;\n  msgContent.innerText = message;\n  msgDom.appendChild(msgContent);\n  if (show_close) {\n    const closeBtn = document.createElement('i');\n    closeBtn.className += 'wui-message__closeBtn';\n    closeBtn.innerText = 'x';\n    closeBtn.addEventListener('click', (ev) => {\n      closeMsg(msgDom);\n    })\n    msgDom.appendChild(closeBtn);\n  }\n  return msgDom;\n}\n\nexport async function render(view) {\n  let model = view.model;\n  const msgRoot = view.el;\n  msgRoot.className += ' wui-message-root'\n\n  const msgContainer = document.createElement('div');\n  msgContainer.className += ' wui-message-container';\n  msgRoot.appendChild(msgContainer)\n\n  model.on(\"change:message_options\", () => {\n    const options = model.get(\"message_options\");\n    const msg = createMsg(options);\n    msgContainer.appendChild(msg);\n    const {duration = 3000} = options;\n    if (duration > 0) {\n      setTimeout(() => {\n        closeMsg(msg)\n      }, duration);\n    }\n  })\n\n  model.on(\"change:close_msg_id\", () => {\n    const msg_id = model.get(\"close_msg_id\");\n    const msgDom = document.getElementById(msg_id);\n    closeMsg(msgDom);\n  })\n}\n",
       "_model_module": "anywidget",
       "_model_module_version": "~0.9.*",
       "_model_name": "AnyModel",
       "_view_module": "anywidget",
       "_view_module_version": "~0.9.*",
       "_view_name": "AnyView",
       "close_msg_id": "",
       "layout": "IPY_MODEL_e4ffa4f6c1554c93807e80a73a242f00",
       "message_options": {
        "duration": 3000,
        "message": "",
        "show_close": false,
        "type": "info"
       }
      }
     },
     "12792700a97e4afd881a0c54b8be7608": {
      "model_module": "anywidget",
      "model_module_version": "~0.9.*",
      "model_name": "AnyModel",
      "state": {
       "_anywidget_id": "ipywui.widgets.custom.message.MessageWidget",
       "_css": ".wui-message-root {\n    display: flex;\n    position: absolute;\n    left: 0;\n    right: 0;\n    top: 0;\n}\n\n.wui-message-container {\n    align-items: center;\n    display: flex;\n    flex-direction: column-reverse;\n    justify-content: center;\n    min-height: 100%;\n    outline: none;\n    width: 100%;\n\n    -webkit-tap-highlight-color: rgba(0,0,0,0);\n    bottom: 0;\n    left: 0;\n    right: 0;\n    top: 0;\n}\n\n.wui-message--success {\n    --wui-message-bg-color: #f0f9eb;\n    --wui-message-border-color: #e1f3d8;\n    --wui-message-text-color: #67c23a;\n}\n.wui-message--warning {\n    --wui-message-bg-color: #fdf6ec;\n    --wui-message-border-color: #faecd8;\n    --wui-message-text-color: #e6a23c;\n}\n.wui-message--info {\n    --wui-message-bg-color: #f4f4f5;\n    --wui-message-border-color: #e9e9eb;\n    --wui-message-text-color: #909399;\n}\n.wui-message--error {\n    --wui-message-bg-color: #fef0f0;\n    --wui-message-border-color: #fde2e2;\n    --wui-message-text-color: #f56c6c;\n}\n\n@keyframes msg-open {\n    0% {\n        opacity: 0;\n        -webkit-transform: translateY(-120%);\n        transform: translateY(-120%)\n    }\n    to {\n        -webkit-transform: translateY(0);\n        transform: translateY(0)\n    }\n}\n\n@keyframes msg-close {\n    0% {\n        opacity: 1;\n        -webkit-transform: scale(1);\n        transform: scale(1)\n    }\n    to {\n        opacity: 0;\n        -webkit-transform: scale(.9);\n        transform: scale(.9)\n    }\n}\n.wui-message[data-state=entered],.wui-message[data-state=entering] {\n    -webkit-animation: msg-open .24s cubic-bezier(.175,.885,.32,1.175) both;\n    animation: msg-open .24s cubic-bezier(.175,.885,.32,1.175) both\n}\n\n.wui-message[data-state=exiting] {\n    -webkit-animation: msg-close .12s cubic-bezier(.4,0,1,1) both;\n    animation: msg-close .12s cubic-bezier(.4,0,1,1) both\n}\n\n.wui-message {\n    width: -webkit-fit-content;\n    width: -moz-fit-content;\n    width: fit-content;\n    z-index: 2004;\n    max-width: calc(100% - 32px);\n    margin-top: 8px;\n    box-sizing: border-box;\n    /*border-radius: var(--wui-border-radius-base);*/\n    /*border-width: var(--wui-border-width);*/\n    /*border-style: var(--wui-border-style);*/\n    border-color: var(--wui-message-border-color);\n    /*left: 50%;*/\n    /*top: 20px;*/\n    /*transform: translateX(-50%);*/\n    background-color: var(--wui-message-bg-color);\n    /*transition: opacity var(--wui-transition-duration),transform .4s,top .4s;*/\n    /*padding: var(--wui-message-padding);*/\n    display: flex;\n    align-items: center;\n}\n\n/*.wui-message--success */\n.wui-message__content {\n    color: var(--wui-message-text-color);\n    font-size: 14px;\n    line-height: 18px;\n    margin: 10px 14px 10px 14px;\n    overflow-wrap: break-word;\n}\n\n.wui-message__closeBtn {\n    /*cursor: pointer;*/\n    font-style: normal;\n    /*color: gray;*/\n    padding-right: 14px;\n    /*font-size: 13px;*/\n    user-select: none;\n\n    background: transparent;\n    border: none;\n    color: gray;\n    cursor: pointer;\n    font-size: 13px;\n    font-weight: 400;\n    line-height: 1;\n    outline: none;\n    /*padding: 4px;*/\n    text-align: center;\n    transition: opacity .3s;\n    /*width: 100%;*/\n}",
       "_esm": "function closeMsg(msgDom) {\n  if (!msgDom) {\n    return;\n  }\n  msgDom.setAttribute('data-state', 'exiting');\n  msgDom.remove();\n}\n\nfunction createMsg(options) {\n  const {message, msg_id, type = 'info', show_close = false} = options;\n  const msgDom = document.createElement('div');\n  msgDom.className += ` wui-message--${type} wui-message`;\n  msgDom.setAttribute('data-state', 'entered');\n  msgDom.setAttribute('id', msg_id);\n  const msgContent = document.createElement('p');\n  msgContent.className += ` wui-message--${type} wui-message__content`;\n  msgContent.innerText = message;\n  msgDom.appendChild(msgContent);\n  if (show_close) {\n    const closeBtn = document.createElement('i');\n    closeBtn.className += 'wui-message__closeBtn';\n    closeBtn.innerText = 'x';\n    closeBtn.addEventListener('click', (ev) => {\n      closeMsg(msgDom);\n    })\n    msgDom.appendChild(closeBtn);\n  }\n  return msgDom;\n}\n\nexport async function render(view) {\n  let model = view.model;\n  const msgRoot = view.el;\n  msgRoot.className += ' wui-message-root'\n\n  const msgContainer = document.createElement('div');\n  msgContainer.className += ' wui-message-container';\n  msgRoot.appendChild(msgContainer)\n\n  model.on(\"change:message_options\", () => {\n    const options = model.get(\"message_options\");\n    const msg = createMsg(options);\n    msgContainer.appendChild(msg);\n    const {duration = 3000} = options;\n    if (duration > 0) {\n      setTimeout(() => {\n        closeMsg(msg)\n      }, duration);\n    }\n  })\n\n  model.on(\"change:close_msg_id\", () => {\n    const msg_id = model.get(\"close_msg_id\");\n    const msgDom = document.getElementById(msg_id);\n    closeMsg(msgDom);\n  })\n}\n",
       "_model_module": "anywidget",
       "_model_module_version": "~0.9.*",
       "_model_name": "AnyModel",
       "_view_module": "anywidget",
       "_view_module_version": "~0.9.*",
       "_view_name": "AnyView",
       "close_msg_id": "",
       "layout": "IPY_MODEL_48909b130ac5499eaebf621d6293a2a0",
       "message_options": {
        "duration": 3000,
        "message": "",
        "show_close": false,
        "type": "info"
       }
      }
     },
     "129008781b7c4f00a68fc3def1163cea": {
      "model_module": "@jupyter-widgets/base",
      "model_module_version": "2.0.0",
      "model_name": "LayoutModel",
      "state": {}
     },
     "14430039d8d544ab9629c0495fdf063f": {
      "model_module": "jupyter-leaflet",
      "model_module_version": "^0.19",
      "model_name": "LeafletAttributionControlModel",
      "state": {
       "_model_module_version": "^0.19",
       "_view_module_version": "^0.19",
       "options": [
        "position",
        "prefix"
       ],
       "position": "bottomright",
       "prefix": "ipyleaflet"
      }
     },
     "15f48f215f5e494cbea20da6f1a52dcd": {
      "model_module": "jupyter-leaflet",
      "model_module_version": "^0.19",
      "model_name": "LeafletImageOverlayModel",
      "state": {
       "_model_module_version": "^0.19",
       "_view_module_version": "^0.19",
       "bounds": [
        [
         13,
         -130
        ],
        [
         32,
         -100
        ]
       ],
       "options": [
        "attribution"
       ],
       "url": "https://www.vuepy.org/images/vuepy-logo.svg"
      }
     },
     "164c6049c28b46b1b7dac4a3b5bec9c9": {
      "model_module": "jupyter-leaflet",
      "model_module_version": "^0.19",
      "model_name": "LeafletMapStyleModel",
      "state": {
       "_model_module_version": "^0.19"
      }
     },
     "18254c123d8547a7b7c3b86dc0270962": {
      "model_module": "@jupyter-widgets/controls",
      "model_module_version": "2.0.0",
      "model_name": "VBoxModel",
      "state": {
       "children": [
        "IPY_MODEL_21d02bea39d44d34b39f4a5957c9d9e8"
       ],
       "layout": "IPY_MODEL_baaee9d9377441ee954a777aa047bea7"
      }
     },
     "18a34761565e4007af9af30f5163edc9": {
      "model_module": "jupyter-leaflet",
      "model_module_version": "^0.19",
      "model_name": "LeafletTileLayerModel",
      "state": {
       "_model_module_version": "^0.19",
       "_view_module_version": "^0.19",
       "attribution": "&copy; <a href=\"https://www.openstreetmap.org/copyright\">OpenStreetMap</a> contributors",
       "base": true,
       "max_zoom": 19,
       "min_zoom": 1,
       "name": "OpenStreetMap.Mapnik",
       "options": [
        "attribution",
        "bounds",
        "detect_retina",
        "max_native_zoom",
        "max_zoom",
        "min_native_zoom",
        "min_zoom",
        "no_wrap",
        "tile_size",
        "tms",
        "zoom_offset"
       ],
       "url": "https://tile.openstreetmap.org/{z}/{x}/{y}.png"
      }
     },
     "1a2b7bd376304459b338fbe6d6539f30": {
      "model_module": "jupyter-leaflet",
      "model_module_version": "^0.19",
      "model_name": "LeafletZoomControlModel",
      "state": {
       "_model_module_version": "^0.19",
       "_view_module_version": "^0.19",
       "options": [
        "position",
        "zoom_in_text",
        "zoom_in_title",
        "zoom_out_text",
        "zoom_out_title"
       ]
      }
     },
     "1a968bc4d4554781a57a6c490df50305": {
      "model_module": "@jupyter-widgets/base",
      "model_module_version": "2.0.0",
      "model_name": "LayoutModel",
      "state": {}
     },
     "1ba5c59f6fdc48418449ba5dfdb1ef65": {
      "model_module": "@jupyter-widgets/base",
      "model_module_version": "2.0.0",
      "model_name": "LayoutModel",
      "state": {}
     },
     "1cb690aad8ce4cb88381cf6dc36a055f": {
      "model_module": "@jupyter-widgets/controls",
      "model_module_version": "2.0.0",
      "model_name": "VBoxModel",
      "state": {
       "children": [
        "IPY_MODEL_21607f09a6614266aaabb20322f44c46"
       ],
       "layout": "IPY_MODEL_924aa57af97641708a3857473b3d1ea2"
      }
     },
     "1d0231c5b39143769b96db3d47ecbfef": {
      "model_module": "jupyter-leaflet",
      "model_module_version": "^0.19",
      "model_name": "LeafletVideoOverlayModel",
      "state": {
       "_model_module_version": "^0.19",
       "_view_module_version": "^0.19",
       "bounds": [
        [
         13,
         -130
        ],
        [
         32,
         -100
        ]
       ],
       "name": "video",
       "options": [
        "attribution"
       ],
       "url": "https://www.mapbox.com/bites/00188/patricia_nasa.webm"
      }
     },
     "1db5873ac0164b96886c44f253d3b86d": {
      "model_module": "jupyter-leaflet",
      "model_module_version": "^0.19",
      "model_name": "LeafletZoomControlModel",
      "state": {
       "_model_module_version": "^0.19",
       "_view_module_version": "^0.19",
       "options": [
        "position",
        "zoom_in_text",
        "zoom_in_title",
        "zoom_out_text",
        "zoom_out_title"
       ]
      }
     },
     "1e6333affe874c00aea81afad2693017": {
      "model_module": "@jupyter-widgets/base",
      "model_module_version": "2.0.0",
      "model_name": "LayoutModel",
      "state": {}
     },
     "1f820dbe540f455cbc5610eee8f506d5": {
      "model_module": "@jupyter-widgets/controls",
      "model_module_version": "2.0.0",
      "model_name": "VBoxModel",
      "state": {
       "children": [
        "IPY_MODEL_9c90fb36f314470b8b983f3d311fa29f"
       ],
       "layout": "IPY_MODEL_ab1500e161da429a9e6f5ea9c497bebe"
      }
     },
     "1f86bccd13224841b3548d5cc6c65897": {
      "model_module": "jupyter-leaflet",
      "model_module_version": "^0.19",
      "model_name": "LeafletMapStyleModel",
      "state": {
       "_model_module_version": "^0.19"
      }
     },
     "2062b0f294564ec29da00ac775816f75": {
      "model_module": "jupyter-leaflet",
      "model_module_version": "^0.19",
      "model_name": "LeafletLayersControlModel",
      "state": {
       "_model_module_version": "^0.19",
       "_view_module_version": "^0.19",
       "collapsed": false,
       "options": [
        "collapsed",
        "position"
       ]
      }
     },
     "213cb956a6aa4fb8af046d89c3970126": {
      "model_module": "@jupyter-widgets/base",
      "model_module_version": "2.0.0",
      "model_name": "LayoutModel",
      "state": {}
     },
     "21607f09a6614266aaabb20322f44c46": {
      "model_module": "@jupyter-widgets/controls",
      "model_module_version": "2.0.0",
      "model_name": "VBoxModel",
      "state": {
       "children": [
        "IPY_MODEL_dbaa3f2440d14da9a441e6d2d1f72799",
        "IPY_MODEL_d0680c7540774494b8d21302cb37a41d"
       ],
       "layout": "IPY_MODEL_102b06344b6843b9b8fd670a78604eab"
      }
     },
     "219fd4b683ce4c04aec2801eceadcf1c": {
      "model_module": "@jupyter-widgets/base",
      "model_module_version": "2.0.0",
      "model_name": "LayoutModel",
      "state": {}
     },
     "21d02bea39d44d34b39f4a5957c9d9e8": {
      "model_module": "jupyter-leaflet",
      "model_module_version": "^0.19",
      "model_name": "LeafletMapModel",
      "state": {
       "_model_module_version": "^0.19",
       "_view_module_version": "^0.19",
       "center": [
        52.214338608258224,
        360.17578125
       ],
       "controls": [
        "IPY_MODEL_1a2b7bd376304459b338fbe6d6539f30",
        "IPY_MODEL_14430039d8d544ab9629c0495fdf063f",
        "IPY_MODEL_3ce55c408c8e4404acd672895461c756"
       ],
       "default_style": "IPY_MODEL_d9e62274c1b948e8a1e15b532831ad4e",
       "dragging_style": "IPY_MODEL_a09ca4b4a78a44bfa87ec30a2c0fc3e1",
       "east": null,
       "fullscreen": false,
       "interpolation": "bilinear",
       "layers": [
        "IPY_MODEL_4264a62fb8f941bc8186d21d9412f80c",
        "IPY_MODEL_0cf0f192b6a54db980523cf486d706d4"
       ],
       "layout": "IPY_MODEL_ae31ca86301e4ab6b70d656ec187a548",
       "modisdate": "2025-04-05",
       "north": -90,
       "options": [
        "bounce_at_zoom_limits",
        "box_zoom",
        "center",
        "close_popup_on_click",
        "double_click_zoom",
        "dragging",
        "fullscreen",
        "inertia",
        "inertia_deceleration",
        "inertia_max_speed",
        "interpolation",
        "keyboard",
        "keyboard_pan_offset",
        "keyboard_zoom_offset",
        "max_zoom",
        "min_zoom",
        "prefer_canvas",
        "scroll_wheel_zoom",
        "tap",
        "tap_tolerance",
        "touch_zoom",
        "world_copy_jump",
        "zoom",
        "zoom_animation_threshold",
        "zoom_delta",
        "zoom_snap"
       ],
       "prefer_canvas": false,
       "south": 90,
       "style": "IPY_MODEL_d9e62274c1b948e8a1e15b532831ad4e",
       "west": null,
       "window_url": "http://localhost:2071/lab/tree/nb_llm/pyvue/examples/vleaflet/layers/ImageOverly.ipynb",
       "zoom": 4
      }
     },
     "22cd0f58c68e4bbfa16c5ec4011afe77": {
      "model_module": "@jupyter-widgets/base",
      "model_module_version": "2.0.0",
      "model_name": "LayoutModel",
      "state": {}
     },
     "22ebc8579018404bb78aefd244fb8ebd": {
      "model_module": "@jupyter-widgets/controls",
      "model_module_version": "2.0.0",
      "model_name": "VBoxModel",
      "state": {
       "children": [
        "IPY_MODEL_9118a552a8174cc18377caa17318b94e",
        "IPY_MODEL_5c7715f668a04cd094b8eb1aabed1eac"
       ],
       "layout": "IPY_MODEL_2c0758e9d31644f68100ec3e8d85cba0"
      }
     },
     "23245e1c5c3640b1ae9aef6fbbb7c1dc": {
      "model_module": "@jupyter-widgets/controls",
      "model_module_version": "2.0.0",
      "model_name": "VBoxModel",
      "state": {
       "children": [
        "IPY_MODEL_01c0e0306a074101ac9b68927f54e92b",
        "IPY_MODEL_7e800565070f4a758d21def0b8c5e83a"
       ],
       "layout": "IPY_MODEL_29a0bd2f84df401590b3a35e0b63d9af"
      }
     },
     "25787c608ae34406aca107cff4979660": {
      "model_module": "jupyter-leaflet",
      "model_module_version": "^0.19",
      "model_name": "LeafletZoomControlModel",
      "state": {
       "_model_module_version": "^0.19",
       "_view_module_version": "^0.19",
       "options": [
        "position",
        "zoom_in_text",
        "zoom_in_title",
        "zoom_out_text",
        "zoom_out_title"
       ]
      }
     },
     "2606bee933a04b40b625bff71bc01668": {
      "model_module": "anywidget",
      "model_module_version": "~0.9.*",
      "model_name": "AnyModel",
      "state": {
       "_anywidget_id": "ipywui.widgets.custom.message.MessageWidget",
       "_css": ".wui-message-root {\n    display: flex;\n    position: absolute;\n    left: 0;\n    right: 0;\n    top: 0;\n}\n\n.wui-message-container {\n    align-items: center;\n    display: flex;\n    flex-direction: column-reverse;\n    justify-content: center;\n    min-height: 100%;\n    outline: none;\n    width: 100%;\n\n    -webkit-tap-highlight-color: rgba(0,0,0,0);\n    bottom: 0;\n    left: 0;\n    right: 0;\n    top: 0;\n}\n\n.wui-message--success {\n    --wui-message-bg-color: #f0f9eb;\n    --wui-message-border-color: #e1f3d8;\n    --wui-message-text-color: #67c23a;\n}\n.wui-message--warning {\n    --wui-message-bg-color: #fdf6ec;\n    --wui-message-border-color: #faecd8;\n    --wui-message-text-color: #e6a23c;\n}\n.wui-message--info {\n    --wui-message-bg-color: #f4f4f5;\n    --wui-message-border-color: #e9e9eb;\n    --wui-message-text-color: #909399;\n}\n.wui-message--error {\n    --wui-message-bg-color: #fef0f0;\n    --wui-message-border-color: #fde2e2;\n    --wui-message-text-color: #f56c6c;\n}\n\n@keyframes msg-open {\n    0% {\n        opacity: 0;\n        -webkit-transform: translateY(-120%);\n        transform: translateY(-120%)\n    }\n    to {\n        -webkit-transform: translateY(0);\n        transform: translateY(0)\n    }\n}\n\n@keyframes msg-close {\n    0% {\n        opacity: 1;\n        -webkit-transform: scale(1);\n        transform: scale(1)\n    }\n    to {\n        opacity: 0;\n        -webkit-transform: scale(.9);\n        transform: scale(.9)\n    }\n}\n.wui-message[data-state=entered],.wui-message[data-state=entering] {\n    -webkit-animation: msg-open .24s cubic-bezier(.175,.885,.32,1.175) both;\n    animation: msg-open .24s cubic-bezier(.175,.885,.32,1.175) both\n}\n\n.wui-message[data-state=exiting] {\n    -webkit-animation: msg-close .12s cubic-bezier(.4,0,1,1) both;\n    animation: msg-close .12s cubic-bezier(.4,0,1,1) both\n}\n\n.wui-message {\n    width: -webkit-fit-content;\n    width: -moz-fit-content;\n    width: fit-content;\n    z-index: 2004;\n    max-width: calc(100% - 32px);\n    margin-top: 8px;\n    box-sizing: border-box;\n    /*border-radius: var(--wui-border-radius-base);*/\n    /*border-width: var(--wui-border-width);*/\n    /*border-style: var(--wui-border-style);*/\n    border-color: var(--wui-message-border-color);\n    /*left: 50%;*/\n    /*top: 20px;*/\n    /*transform: translateX(-50%);*/\n    background-color: var(--wui-message-bg-color);\n    /*transition: opacity var(--wui-transition-duration),transform .4s,top .4s;*/\n    /*padding: var(--wui-message-padding);*/\n    display: flex;\n    align-items: center;\n}\n\n/*.wui-message--success */\n.wui-message__content {\n    color: var(--wui-message-text-color);\n    font-size: 14px;\n    line-height: 18px;\n    margin: 10px 14px 10px 14px;\n    overflow-wrap: break-word;\n}\n\n.wui-message__closeBtn {\n    /*cursor: pointer;*/\n    font-style: normal;\n    /*color: gray;*/\n    padding-right: 14px;\n    /*font-size: 13px;*/\n    user-select: none;\n\n    background: transparent;\n    border: none;\n    color: gray;\n    cursor: pointer;\n    font-size: 13px;\n    font-weight: 400;\n    line-height: 1;\n    outline: none;\n    /*padding: 4px;*/\n    text-align: center;\n    transition: opacity .3s;\n    /*width: 100%;*/\n}",
       "_esm": "function closeMsg(msgDom) {\n  if (!msgDom) {\n    return;\n  }\n  msgDom.setAttribute('data-state', 'exiting');\n  msgDom.remove();\n}\n\nfunction createMsg(options) {\n  const {message, msg_id, type = 'info', show_close = false} = options;\n  const msgDom = document.createElement('div');\n  msgDom.className += ` wui-message--${type} wui-message`;\n  msgDom.setAttribute('data-state', 'entered');\n  msgDom.setAttribute('id', msg_id);\n  const msgContent = document.createElement('p');\n  msgContent.className += ` wui-message--${type} wui-message__content`;\n  msgContent.innerText = message;\n  msgDom.appendChild(msgContent);\n  if (show_close) {\n    const closeBtn = document.createElement('i');\n    closeBtn.className += 'wui-message__closeBtn';\n    closeBtn.innerText = 'x';\n    closeBtn.addEventListener('click', (ev) => {\n      closeMsg(msgDom);\n    })\n    msgDom.appendChild(closeBtn);\n  }\n  return msgDom;\n}\n\nexport async function render(view) {\n  let model = view.model;\n  const msgRoot = view.el;\n  msgRoot.className += ' wui-message-root'\n\n  const msgContainer = document.createElement('div');\n  msgContainer.className += ' wui-message-container';\n  msgRoot.appendChild(msgContainer)\n\n  model.on(\"change:message_options\", () => {\n    const options = model.get(\"message_options\");\n    const msg = createMsg(options);\n    msgContainer.appendChild(msg);\n    const {duration = 3000} = options;\n    if (duration > 0) {\n      setTimeout(() => {\n        closeMsg(msg)\n      }, duration);\n    }\n  })\n\n  model.on(\"change:close_msg_id\", () => {\n    const msg_id = model.get(\"close_msg_id\");\n    const msgDom = document.getElementById(msg_id);\n    closeMsg(msgDom);\n  })\n}\n",
       "_model_module": "anywidget",
       "_model_module_version": "~0.9.*",
       "_model_name": "AnyModel",
       "_view_module": "anywidget",
       "_view_module_version": "~0.9.*",
       "_view_name": "AnyView",
       "close_msg_id": "",
       "layout": "IPY_MODEL_064ef49658d5429d9be04a02f032eaa7",
       "message_options": {
        "duration": 3000,
        "message": "",
        "show_close": false,
        "type": "info"
       }
      }
     },
     "26c595f3dc954991b65fd4e7c43b1bd4": {
      "model_module": "@jupyter-widgets/base",
      "model_module_version": "2.0.0",
      "model_name": "LayoutModel",
      "state": {}
     },
     "280e2aed17214ec0bff718d87bdbcf53": {
      "model_module": "@jupyter-widgets/base",
      "model_module_version": "2.0.0",
      "model_name": "LayoutModel",
      "state": {}
     },
     "29a0bd2f84df401590b3a35e0b63d9af": {
      "model_module": "@jupyter-widgets/base",
      "model_module_version": "2.0.0",
      "model_name": "LayoutModel",
      "state": {}
     },
     "2a031c058596446d89de2fa4e1e9a6f9": {
      "model_module": "anywidget",
      "model_module_version": "~0.9.*",
      "model_name": "AnyModel",
      "state": {
       "_anywidget_id": "ipywui.widgets.custom.message.MessageWidget",
       "_css": ".wui-message-root {\n    display: flex;\n    position: absolute;\n    left: 0;\n    right: 0;\n    top: 0;\n}\n\n.wui-message-container {\n    align-items: center;\n    display: flex;\n    flex-direction: column-reverse;\n    justify-content: center;\n    min-height: 100%;\n    outline: none;\n    width: 100%;\n\n    -webkit-tap-highlight-color: rgba(0,0,0,0);\n    bottom: 0;\n    left: 0;\n    right: 0;\n    top: 0;\n}\n\n.wui-message--success {\n    --wui-message-bg-color: #f0f9eb;\n    --wui-message-border-color: #e1f3d8;\n    --wui-message-text-color: #67c23a;\n}\n.wui-message--warning {\n    --wui-message-bg-color: #fdf6ec;\n    --wui-message-border-color: #faecd8;\n    --wui-message-text-color: #e6a23c;\n}\n.wui-message--info {\n    --wui-message-bg-color: #f4f4f5;\n    --wui-message-border-color: #e9e9eb;\n    --wui-message-text-color: #909399;\n}\n.wui-message--error {\n    --wui-message-bg-color: #fef0f0;\n    --wui-message-border-color: #fde2e2;\n    --wui-message-text-color: #f56c6c;\n}\n\n@keyframes msg-open {\n    0% {\n        opacity: 0;\n        -webkit-transform: translateY(-120%);\n        transform: translateY(-120%)\n    }\n    to {\n        -webkit-transform: translateY(0);\n        transform: translateY(0)\n    }\n}\n\n@keyframes msg-close {\n    0% {\n        opacity: 1;\n        -webkit-transform: scale(1);\n        transform: scale(1)\n    }\n    to {\n        opacity: 0;\n        -webkit-transform: scale(.9);\n        transform: scale(.9)\n    }\n}\n.wui-message[data-state=entered],.wui-message[data-state=entering] {\n    -webkit-animation: msg-open .24s cubic-bezier(.175,.885,.32,1.175) both;\n    animation: msg-open .24s cubic-bezier(.175,.885,.32,1.175) both\n}\n\n.wui-message[data-state=exiting] {\n    -webkit-animation: msg-close .12s cubic-bezier(.4,0,1,1) both;\n    animation: msg-close .12s cubic-bezier(.4,0,1,1) both\n}\n\n.wui-message {\n    width: -webkit-fit-content;\n    width: -moz-fit-content;\n    width: fit-content;\n    z-index: 2004;\n    max-width: calc(100% - 32px);\n    margin-top: 8px;\n    box-sizing: border-box;\n    /*border-radius: var(--wui-border-radius-base);*/\n    /*border-width: var(--wui-border-width);*/\n    /*border-style: var(--wui-border-style);*/\n    border-color: var(--wui-message-border-color);\n    /*left: 50%;*/\n    /*top: 20px;*/\n    /*transform: translateX(-50%);*/\n    background-color: var(--wui-message-bg-color);\n    /*transition: opacity var(--wui-transition-duration),transform .4s,top .4s;*/\n    /*padding: var(--wui-message-padding);*/\n    display: flex;\n    align-items: center;\n}\n\n/*.wui-message--success */\n.wui-message__content {\n    color: var(--wui-message-text-color);\n    font-size: 14px;\n    line-height: 18px;\n    margin: 10px 14px 10px 14px;\n    overflow-wrap: break-word;\n}\n\n.wui-message__closeBtn {\n    /*cursor: pointer;*/\n    font-style: normal;\n    /*color: gray;*/\n    padding-right: 14px;\n    /*font-size: 13px;*/\n    user-select: none;\n\n    background: transparent;\n    border: none;\n    color: gray;\n    cursor: pointer;\n    font-size: 13px;\n    font-weight: 400;\n    line-height: 1;\n    outline: none;\n    /*padding: 4px;*/\n    text-align: center;\n    transition: opacity .3s;\n    /*width: 100%;*/\n}",
       "_esm": "function closeMsg(msgDom) {\n  if (!msgDom) {\n    return;\n  }\n  msgDom.setAttribute('data-state', 'exiting');\n  msgDom.remove();\n}\n\nfunction createMsg(options) {\n  const {message, msg_id, type = 'info', show_close = false} = options;\n  const msgDom = document.createElement('div');\n  msgDom.className += ` wui-message--${type} wui-message`;\n  msgDom.setAttribute('data-state', 'entered');\n  msgDom.setAttribute('id', msg_id);\n  const msgContent = document.createElement('p');\n  msgContent.className += ` wui-message--${type} wui-message__content`;\n  msgContent.innerText = message;\n  msgDom.appendChild(msgContent);\n  if (show_close) {\n    const closeBtn = document.createElement('i');\n    closeBtn.className += 'wui-message__closeBtn';\n    closeBtn.innerText = 'x';\n    closeBtn.addEventListener('click', (ev) => {\n      closeMsg(msgDom);\n    })\n    msgDom.appendChild(closeBtn);\n  }\n  return msgDom;\n}\n\nexport async function render(view) {\n  let model = view.model;\n  const msgRoot = view.el;\n  msgRoot.className += ' wui-message-root'\n\n  const msgContainer = document.createElement('div');\n  msgContainer.className += ' wui-message-container';\n  msgRoot.appendChild(msgContainer)\n\n  model.on(\"change:message_options\", () => {\n    const options = model.get(\"message_options\");\n    const msg = createMsg(options);\n    msgContainer.appendChild(msg);\n    const {duration = 3000} = options;\n    if (duration > 0) {\n      setTimeout(() => {\n        closeMsg(msg)\n      }, duration);\n    }\n  })\n\n  model.on(\"change:close_msg_id\", () => {\n    const msg_id = model.get(\"close_msg_id\");\n    const msgDom = document.getElementById(msg_id);\n    closeMsg(msgDom);\n  })\n}\n",
       "_model_module": "anywidget",
       "_model_module_version": "~0.9.*",
       "_model_name": "AnyModel",
       "_view_module": "anywidget",
       "_view_module_version": "~0.9.*",
       "_view_name": "AnyView",
       "close_msg_id": "",
       "layout": "IPY_MODEL_2b9b242a0a7d4e3ab213d9270a5df6a4",
       "message_options": {
        "duration": 3000,
        "message": "",
        "show_close": false,
        "type": "info"
       }
      }
     },
     "2a93b2ed7e574cd4a8ac3ed718937216": {
      "model_module": "jupyter-leaflet",
      "model_module_version": "^0.19",
      "model_name": "LeafletMapModel",
      "state": {
       "_model_module_version": "^0.19",
       "_view_module_version": "^0.19",
       "center": [
        52.214338608258224,
        360.17578125
       ],
       "controls": [
        "IPY_MODEL_095e25f4f1774451a279beecadfc996e",
        "IPY_MODEL_e6d51329b1ac4bbe87a20257f079c223",
        "IPY_MODEL_6615c4df5dab4ce2aabfc308512dd286"
       ],
       "default_style": "IPY_MODEL_d3f60139be4e4fdabd9b51c7904afd41",
       "dragging_style": "IPY_MODEL_f74351324d884c88b46eb4b10ef0497c",
       "east": null,
       "fullscreen": false,
       "interpolation": "bilinear",
       "layers": [
        "IPY_MODEL_7ff504d451f844a38b6faaed6ab12b1a",
        "IPY_MODEL_8a4998d277064b4cad0ab5add7c03afd"
       ],
       "layout": "IPY_MODEL_87387a9d2b3e4a3697e8301b08290ad4",
       "modisdate": "2025-04-05",
       "north": -90,
       "options": [
        "bounce_at_zoom_limits",
        "box_zoom",
        "center",
        "close_popup_on_click",
        "double_click_zoom",
        "dragging",
        "fullscreen",
        "inertia",
        "inertia_deceleration",
        "inertia_max_speed",
        "interpolation",
        "keyboard",
        "keyboard_pan_offset",
        "keyboard_zoom_offset",
        "max_zoom",
        "min_zoom",
        "prefer_canvas",
        "scroll_wheel_zoom",
        "tap",
        "tap_tolerance",
        "touch_zoom",
        "world_copy_jump",
        "zoom",
        "zoom_animation_threshold",
        "zoom_delta",
        "zoom_snap"
       ],
       "prefer_canvas": false,
       "south": 90,
       "style": "IPY_MODEL_d3f60139be4e4fdabd9b51c7904afd41",
       "west": null,
       "window_url": "http://localhost:2071/lab/tree/nb_llm/pyvue/examples/vleaflet/layers/ImageOverly.ipynb",
       "zoom": 4
      }
     },
     "2a978a30152044e5b1cde817f85d76f9": {
      "model_module": "@jupyter-widgets/base",
      "model_module_version": "2.0.0",
      "model_name": "LayoutModel",
      "state": {}
     },
     "2af2068c0f914f4198da51f62fe61b14": {
      "model_module": "@jupyter-widgets/base",
      "model_module_version": "2.0.0",
      "model_name": "LayoutModel",
      "state": {}
     },
     "2b3beb219b094fb9a938d116ae2a5193": {
      "model_module": "jupyter-leaflet",
      "model_module_version": "^0.19",
      "model_name": "LeafletMapModel",
      "state": {
       "_model_module_version": "^0.19",
       "_view_module_version": "^0.19",
       "center": [
        52.20487153271788,
        360.1215362548828
       ],
       "controls": [
        "IPY_MODEL_72dd414f01db4accac7eebcf30d6fead",
        "IPY_MODEL_63928830ae81464180163874f68eae74",
        "IPY_MODEL_5c109e77c2c74c38988bd02d09e66c21"
       ],
       "default_style": "IPY_MODEL_70c0ffb18f2e4581a925fdf5c68cf1ec",
       "dragging_style": "IPY_MODEL_9a17af6339654be2830c4eb598f4f28a",
       "east": null,
       "fullscreen": false,
       "interpolation": "bilinear",
       "layers": [
        "IPY_MODEL_b9df18afc44643d6a6e036644902d48e",
        "IPY_MODEL_f78cf078895848639cf1ddd254c58184"
       ],
       "layout": "IPY_MODEL_9bd409e5c8da4a5fa8f68fdd64963693",
       "modisdate": "2025-04-05",
       "north": -90,
       "options": [
        "bounce_at_zoom_limits",
        "box_zoom",
        "center",
        "close_popup_on_click",
        "double_click_zoom",
        "dragging",
        "fullscreen",
        "inertia",
        "inertia_deceleration",
        "inertia_max_speed",
        "interpolation",
        "keyboard",
        "keyboard_pan_offset",
        "keyboard_zoom_offset",
        "max_zoom",
        "min_zoom",
        "prefer_canvas",
        "scroll_wheel_zoom",
        "tap",
        "tap_tolerance",
        "touch_zoom",
        "world_copy_jump",
        "zoom",
        "zoom_animation_threshold",
        "zoom_delta",
        "zoom_snap"
       ],
       "prefer_canvas": false,
       "south": 90,
       "style": "IPY_MODEL_70c0ffb18f2e4581a925fdf5c68cf1ec",
       "west": null,
       "window_url": "http://localhost:2071/lab/tree/nb_llm/pyvue/examples/vleaflet/layers/ImageOverly.ipynb"
      }
     },
     "2b9b242a0a7d4e3ab213d9270a5df6a4": {
      "model_module": "@jupyter-widgets/base",
      "model_module_version": "2.0.0",
      "model_name": "LayoutModel",
      "state": {}
     },
     "2be1e12673084938972fc9db1d497a39": {
      "model_module": "@jupyter-widgets/base",
      "model_module_version": "2.0.0",
      "model_name": "LayoutModel",
      "state": {}
     },
     "2c0758e9d31644f68100ec3e8d85cba0": {
      "model_module": "@jupyter-widgets/base",
      "model_module_version": "2.0.0",
      "model_name": "LayoutModel",
      "state": {}
     },
     "2c8946780d4e4746af389856a03e73dc": {
      "model_module": "jupyter-leaflet",
      "model_module_version": "^0.19",
      "model_name": "LeafletTileLayerModel",
      "state": {
       "_model_module_version": "^0.19",
       "_view_module_version": "^0.19",
       "attribution": "&copy; <a href=\"https://www.openstreetmap.org/copyright\">OpenStreetMap</a> contributors",
       "base": true,
       "max_zoom": 19,
       "min_zoom": 1,
       "name": "OpenStreetMap.Mapnik",
       "options": [
        "attribution",
        "bounds",
        "detect_retina",
        "max_native_zoom",
        "max_zoom",
        "min_native_zoom",
        "min_zoom",
        "no_wrap",
        "tile_size",
        "tms",
        "zoom_offset"
       ],
       "url": "https://tile.openstreetmap.org/{z}/{x}/{y}.png"
      }
     },
     "2cc0cb0b5e4944f291e15427010eddae": {
      "model_module": "@jupyter-widgets/base",
      "model_module_version": "2.0.0",
      "model_name": "LayoutModel",
      "state": {}
     },
     "2d6c753dbe7b4741bc41b3a0805f8c5d": {
      "model_module": "jupyter-leaflet",
      "model_module_version": "^0.19",
      "model_name": "LeafletAttributionControlModel",
      "state": {
       "_model_module_version": "^0.19",
       "_view_module_version": "^0.19",
       "options": [
        "position",
        "prefix"
       ],
       "position": "bottomright",
       "prefix": "ipyleaflet"
      }
     },
     "2daf72b3ae9344aa84e3a53e764feb40": {
      "model_module": "jupyter-leaflet",
      "model_module_version": "^0.19",
      "model_name": "LeafletAttributionControlModel",
      "state": {
       "_model_module_version": "^0.19",
       "_view_module_version": "^0.19",
       "options": [
        "position",
        "prefix"
       ],
       "position": "bottomright",
       "prefix": "ipyleaflet"
      }
     },
     "2dbf945069a741fbb67940586e099bd1": {
      "model_module": "@jupyter-widgets/base",
      "model_module_version": "2.0.0",
      "model_name": "LayoutModel",
      "state": {}
     },
     "2dc6044ec1ed4aeeb6dfcdebeae1372a": {
      "model_module": "@jupyter-widgets/base",
      "model_module_version": "2.0.0",
      "model_name": "LayoutModel",
      "state": {}
     },
     "2e14c25dcd79452980d8ac2b1a3a047c": {
      "model_module": "jupyter-leaflet",
      "model_module_version": "^0.19",
      "model_name": "LeafletMapStyleModel",
      "state": {
       "_model_module_version": "^0.19",
       "cursor": "move"
      }
     },
     "2f0e342040a24c01989032fd8aa727d4": {
      "model_module": "@jupyter-widgets/controls",
      "model_module_version": "2.0.0",
      "model_name": "VBoxModel",
      "state": {
       "children": [
        "IPY_MODEL_1d0231c5b39143769b96db3d47ecbfef"
       ],
       "layout": "IPY_MODEL_05a50d7e2e834ae4baa34d7c7f791049"
      }
     },
     "2f6036234e91427394447acae34239f8": {
      "model_module": "@jupyter-widgets/base",
      "model_module_version": "2.0.0",
      "model_name": "LayoutModel",
      "state": {}
     },
     "2f643ee9eb4d4cb69a358c17cc353667": {
      "model_module": "@jupyter-widgets/controls",
      "model_module_version": "2.0.0",
      "model_name": "VBoxModel",
      "state": {
       "children": [
        "IPY_MODEL_5f45f2d991ed49159ff16432a98a805f"
       ],
       "layout": "IPY_MODEL_ef7ad674808e4d438c7fce3486c4ac64"
      }
     },
     "30af2d2970604e089f29ec04216c02dd": {
      "model_module": "@jupyter-widgets/controls",
      "model_module_version": "2.0.0",
      "model_name": "VBoxModel",
      "state": {
       "children": [
        "IPY_MODEL_97ad73a0024e4f2782361f9560ba685b"
       ],
       "layout": "IPY_MODEL_a6ecb06e68334427b0631676516e0784"
      }
     },
     "326d373a6f88435d9652b2c20d0ba55f": {
      "model_module": "@jupyter-widgets/controls",
      "model_module_version": "2.0.0",
      "model_name": "VBoxModel",
      "state": {
       "children": [
        "IPY_MODEL_12792700a97e4afd881a0c54b8be7608",
        "IPY_MODEL_a603efe8156049d99b021ff312e355b1"
       ],
       "layout": "IPY_MODEL_c6968708218a4f10bdc72a206f5ee30f"
      }
     },
     "32c1bc832f7246679b59f5a32ea54745": {
      "model_module": "jupyter-leaflet",
      "model_module_version": "^0.19",
      "model_name": "LeafletMapModel",
      "state": {
       "_model_module_version": "^0.19",
       "_view_module_version": "^0.19",
       "bottom": 1954,
       "center": [
        25,
        -115
       ],
       "controls": [
        "IPY_MODEL_e3d19fc145ef4ce7a42e73a448f4a581",
        "IPY_MODEL_9e66473605d14a6390303b668cd07720",
        "IPY_MODEL_f457fde2648b42da808f85de7e17da39"
       ],
       "default_style": "IPY_MODEL_f51e306964034afe8fe6d70311a717a2",
       "dragging_style": "IPY_MODEL_4da8ea5eaa3a4eabb93a97698c1e848a",
       "east": -64.68750000000001,
       "fullscreen": false,
       "interpolation": "bilinear",
       "layers": [
        "IPY_MODEL_a68cde4f67d140ef811d1d66b08737fc",
        "IPY_MODEL_81da813005444be5a421f444d17554e6"
       ],
       "layout": "IPY_MODEL_b8676da823ef4c88a4850afbb45343b1",
       "left": 167,
       "modisdate": "2025-04-05",
       "north": 39.774769485295465,
       "options": [
        "bounce_at_zoom_limits",
        "box_zoom",
        "center",
        "close_popup_on_click",
        "double_click_zoom",
        "dragging",
        "fullscreen",
        "inertia",
        "inertia_deceleration",
        "inertia_max_speed",
        "interpolation",
        "keyboard",
        "keyboard_pan_offset",
        "keyboard_zoom_offset",
        "max_zoom",
        "min_zoom",
        "prefer_canvas",
        "scroll_wheel_zoom",
        "tap",
        "tap_tolerance",
        "touch_zoom",
        "world_copy_jump",
        "zoom",
        "zoom_animation_threshold",
        "zoom_delta",
        "zoom_snap"
       ],
       "prefer_canvas": false,
       "right": 1312,
       "south": 8.233237111274565,
       "style": "IPY_MODEL_02d5b0643bf9433c8152f51804cc5b00",
       "top": 1554,
       "west": -165.32226562500003,
       "window_url": "http://localhost:2071/lab/tree/nb_llm/pyvue/examples/vleaflet/layers/ImageOverly.ipynb",
       "zoom": 4
      }
     },
     "339d41e59a3942baac74ea3f431ff41b": {
      "model_module": "@jupyter-widgets/controls",
      "model_module_version": "2.0.0",
      "model_name": "VBoxModel",
      "state": {
       "children": [
        "IPY_MODEL_326d373a6f88435d9652b2c20d0ba55f"
       ],
       "layout": "IPY_MODEL_7a806aadc24b4467a0cba630b98dc7b2"
      }
     },
     "33ac4f7d60a2438db654440872203a40": {
      "model_module": "@jupyter-widgets/base",
      "model_module_version": "2.0.0",
      "model_name": "LayoutModel",
      "state": {}
     },
     "356901f032664fd297888e05a9fbae4c": {
      "model_module": "jupyter-leaflet",
      "model_module_version": "^0.19",
      "model_name": "LeafletMapStyleModel",
      "state": {
       "_model_module_version": "^0.19"
      }
     },
     "37671fe8e5c24032971ceb8f2166da75": {
      "model_module": "@jupyter-widgets/controls",
      "model_module_version": "2.0.0",
      "model_name": "VBoxModel",
      "state": {
       "children": [
        "IPY_MODEL_e85ad054d99043508150c0ec6e9fdd00",
        "IPY_MODEL_9aad2e0a38514d199aba2235d3f91f50"
       ],
       "layout": "IPY_MODEL_4036587f2db64c83b3df5f22486bb811"
      }
     },
     "389d44ea17a347ecb5e1a3c64be13b48": {
      "model_module": "jupyter-leaflet",
      "model_module_version": "^0.19",
      "model_name": "LeafletMapModel",
      "state": {
       "_model_module_version": "^0.19",
       "_view_module_version": "^0.19",
       "bottom": 1954,
       "center": [
        25,
        -115
       ],
       "controls": [
        "IPY_MODEL_c99604c917cc43b4a630b64858512357",
        "IPY_MODEL_2d6c753dbe7b4741bc41b3a0805f8c5d"
       ],
       "default_style": "IPY_MODEL_c75f91b9dbba4d5bb180bc019b5a9d71",
       "dragging_style": "IPY_MODEL_7c07e49fa89b4bd8b68352c7e6fd7a9e",
       "east": -64.68750000000001,
       "fullscreen": false,
       "interpolation": "bilinear",
       "layers": [
        "IPY_MODEL_9dfb1fbfbbb04984a040d5aba6407deb",
        "IPY_MODEL_47717651e29a4f0ea59d19b23534cebe"
       ],
       "layout": "IPY_MODEL_280e2aed17214ec0bff718d87bdbcf53",
       "left": 167,
       "modisdate": "2025-04-05",
       "north": 39.774769485295465,
       "options": [
        "bounce_at_zoom_limits",
        "box_zoom",
        "center",
        "close_popup_on_click",
        "double_click_zoom",
        "dragging",
        "fullscreen",
        "inertia",
        "inertia_deceleration",
        "inertia_max_speed",
        "interpolation",
        "keyboard",
        "keyboard_pan_offset",
        "keyboard_zoom_offset",
        "max_zoom",
        "min_zoom",
        "prefer_canvas",
        "scroll_wheel_zoom",
        "tap",
        "tap_tolerance",
        "touch_zoom",
        "world_copy_jump",
        "zoom",
        "zoom_animation_threshold",
        "zoom_delta",
        "zoom_snap"
       ],
       "prefer_canvas": false,
       "right": 1312,
       "south": 8.233237111274565,
       "style": "IPY_MODEL_c75f91b9dbba4d5bb180bc019b5a9d71",
       "top": 1554,
       "west": -165.32226562500003,
       "window_url": "http://localhost:2071/lab/tree/nb_llm/pyvue/examples/vleaflet/layers/ImageOverly.ipynb",
       "zoom": 4
      }
     },
     "38eb21d5ae674881983fa0999dfdb015": {
      "model_module": "jupyter-leaflet",
      "model_module_version": "^0.19",
      "model_name": "LeafletTileLayerModel",
      "state": {
       "_model_module_version": "^0.19",
       "_view_module_version": "^0.19",
       "attribution": "&copy; <a href=\"https://www.openstreetmap.org/copyright\">OpenStreetMap</a> contributors",
       "base": true,
       "max_zoom": 19,
       "min_zoom": 1,
       "name": "OpenStreetMap.Mapnik",
       "options": [
        "attribution",
        "bounds",
        "detect_retina",
        "max_native_zoom",
        "max_zoom",
        "min_native_zoom",
        "min_zoom",
        "no_wrap",
        "tile_size",
        "tms",
        "zoom_offset"
       ],
       "url": "https://tile.openstreetmap.org/{z}/{x}/{y}.png"
      }
     },
     "39d6556c06784a349cb0b169d5e29692": {
      "model_module": "@jupyter-widgets/base",
      "model_module_version": "2.0.0",
      "model_name": "LayoutModel",
      "state": {}
     },
     "3aa98a944ee84d2b9662ea44d3e63bfa": {
      "model_module": "jupyter-leaflet",
      "model_module_version": "^0.19",
      "model_name": "LeafletMapStyleModel",
      "state": {
       "_model_module_version": "^0.19"
      }
     },
     "3b05fc28a16444fe9b8891d5fb791f70": {
      "model_module": "@jupyter-widgets/controls",
      "model_module_version": "2.0.0",
      "model_name": "VBoxModel",
      "state": {
       "children": [
        "IPY_MODEL_2b3beb219b094fb9a938d116ae2a5193"
       ],
       "layout": "IPY_MODEL_e9867f0f9f1c49b0bd4865a01586806c"
      }
     },
     "3b744ffd3b8e402386fce25580bcf95e": {
      "model_module": "@jupyter-widgets/base",
      "model_module_version": "2.0.0",
      "model_name": "LayoutModel",
      "state": {}
     },
     "3bce002296e14b208e6575f0e18d64bf": {
      "model_module": "@jupyter-widgets/base",
      "model_module_version": "2.0.0",
      "model_name": "LayoutModel",
      "state": {}
     },
     "3c4aefa8f9ac4059aa506d9e7b1e2914": {
      "model_module": "@jupyter-widgets/base",
      "model_module_version": "2.0.0",
      "model_name": "LayoutModel",
      "state": {}
     },
     "3ce55c408c8e4404acd672895461c756": {
      "model_module": "jupyter-leaflet",
      "model_module_version": "^0.19",
      "model_name": "LeafletLayersControlModel",
      "state": {
       "_model_module_version": "^0.19",
       "_view_module_version": "^0.19",
       "collapsed": false,
       "options": [
        "collapsed",
        "position"
       ]
      }
     },
     "3d1f23f56b94459789cbf3715480dff2": {
      "model_module": "@jupyter-widgets/controls",
      "model_module_version": "2.0.0",
      "model_name": "VBoxModel",
      "state": {
       "children": [
        "IPY_MODEL_23245e1c5c3640b1ae9aef6fbbb7c1dc"
       ],
       "layout": "IPY_MODEL_735ffe0e5f244c6e8ca081c70f0fa752"
      }
     },
     "3eda746579584813b2c9686bec000a59": {
      "model_module": "jupyter-leaflet",
      "model_module_version": "^0.19",
      "model_name": "LeafletTileLayerModel",
      "state": {
       "_model_module_version": "^0.19",
       "_view_module_version": "^0.19",
       "attribution": "&copy; <a href=\"https://www.openstreetmap.org/copyright\">OpenStreetMap</a> contributors",
       "base": true,
       "max_zoom": 19,
       "min_zoom": 1,
       "name": "OpenStreetMap.Mapnik",
       "options": [
        "attribution",
        "bounds",
        "detect_retina",
        "max_native_zoom",
        "max_zoom",
        "min_native_zoom",
        "min_zoom",
        "no_wrap",
        "tile_size",
        "tms",
        "zoom_offset"
       ],
       "url": "https://tile.openstreetmap.org/{z}/{x}/{y}.png"
      }
     },
     "3ef3abc392784dfda606ac398bea01bb": {
      "model_module": "@jupyter-widgets/base",
      "model_module_version": "2.0.0",
      "model_name": "LayoutModel",
      "state": {}
     },
     "3f71f4d81a234f4f92ca7b98560b6211": {
      "model_module": "jupyter-leaflet",
      "model_module_version": "^0.19",
      "model_name": "LeafletLayersControlModel",
      "state": {
       "_model_module_version": "^0.19",
       "_view_module_version": "^0.19",
       "collapsed": false,
       "options": [
        "collapsed",
        "position"
       ]
      }
     },
     "3fc5f49834814228945558e5bb952723": {
      "model_module": "jupyter-leaflet",
      "model_module_version": "^0.19",
      "model_name": "LeafletMapModel",
      "state": {
       "_model_module_version": "^0.19",
       "_view_module_version": "^0.19",
       "center": [
        52.16045455774706,
        360.17578125
       ],
       "controls": [
        "IPY_MODEL_eff913f990554a528f23620da9684593",
        "IPY_MODEL_d61dfc8109954556a17469a86c50600a",
        "IPY_MODEL_3f71f4d81a234f4f92ca7b98560b6211"
       ],
       "default_style": "IPY_MODEL_cdad695bc269407895d66270e74792ee",
       "dragging_style": "IPY_MODEL_d03529bb469749b5b454ed4606ab7135",
       "east": null,
       "fullscreen": false,
       "interpolation": "bilinear",
       "layers": [
        "IPY_MODEL_568f022cd2604b71a1ed7f2a5a6553b2",
        "IPY_MODEL_b247d0e5671e422b881a6e4911e0ff03"
       ],
       "layout": "IPY_MODEL_a990be8445924f9e9607e9ae2d14330c",
       "modisdate": "2025-04-05",
       "north": -90,
       "options": [
        "bounce_at_zoom_limits",
        "box_zoom",
        "center",
        "close_popup_on_click",
        "double_click_zoom",
        "dragging",
        "fullscreen",
        "inertia",
        "inertia_deceleration",
        "inertia_max_speed",
        "interpolation",
        "keyboard",
        "keyboard_pan_offset",
        "keyboard_zoom_offset",
        "max_zoom",
        "min_zoom",
        "prefer_canvas",
        "scroll_wheel_zoom",
        "tap",
        "tap_tolerance",
        "touch_zoom",
        "world_copy_jump",
        "zoom",
        "zoom_animation_threshold",
        "zoom_delta",
        "zoom_snap"
       ],
       "prefer_canvas": false,
       "south": 90,
       "style": "IPY_MODEL_cdad695bc269407895d66270e74792ee",
       "west": null,
       "window_url": "http://localhost:2071/lab/tree/nb_llm/pyvue/examples/vleaflet/layers/ImageOverly.ipynb",
       "zoom": 3
      }
     },
     "4036587f2db64c83b3df5f22486bb811": {
      "model_module": "@jupyter-widgets/base",
      "model_module_version": "2.0.0",
      "model_name": "LayoutModel",
      "state": {}
     },
     "40c8f59d500b4c9d93f22d7aa2ec2517": {
      "model_module": "jupyter-leaflet",
      "model_module_version": "^0.19",
      "model_name": "LeafletAttributionControlModel",
      "state": {
       "_model_module_version": "^0.19",
       "_view_module_version": "^0.19",
       "options": [
        "position",
        "prefix"
       ],
       "position": "bottomright",
       "prefix": "ipyleaflet"
      }
     },
     "40da8aafcf7144248a5774c79910597c": {
      "model_module": "jupyter-leaflet",
      "model_module_version": "^0.19",
      "model_name": "LeafletMapStyleModel",
      "state": {
       "_model_module_version": "^0.19",
       "cursor": "move"
      }
     },
     "4264a62fb8f941bc8186d21d9412f80c": {
      "model_module": "jupyter-leaflet",
      "model_module_version": "^0.19",
      "model_name": "LeafletTileLayerModel",
      "state": {
       "_model_module_version": "^0.19",
       "_view_module_version": "^0.19",
       "attribution": "&copy; <a href=\"https://www.openstreetmap.org/copyright\">OpenStreetMap</a> contributors",
       "base": true,
       "max_zoom": 19,
       "min_zoom": 1,
       "name": "OpenStreetMap.Mapnik",
       "options": [
        "attribution",
        "bounds",
        "detect_retina",
        "max_native_zoom",
        "max_zoom",
        "min_native_zoom",
        "min_zoom",
        "no_wrap",
        "tile_size",
        "tms",
        "zoom_offset"
       ],
       "url": "https://tile.openstreetmap.org/{z}/{x}/{y}.png"
      }
     },
     "43edc47dc7fb44a38a322ed7db363f18": {
      "model_module": "jupyter-leaflet",
      "model_module_version": "^0.19",
      "model_name": "LeafletMapStyleModel",
      "state": {
       "_model_module_version": "^0.19"
      }
     },
     "440f1930352042b09632ecd2ef81ca1e": {
      "model_module": "@jupyter-widgets/controls",
      "model_module_version": "2.0.0",
      "model_name": "VBoxModel",
      "state": {
       "children": [
        "IPY_MODEL_77191f27bd354d5d974b6996a0aed026",
        "IPY_MODEL_18254c123d8547a7b7c3b86dc0270962"
       ],
       "layout": "IPY_MODEL_f9799329b9e34d2586773e07dcb4bb11"
      }
     },
     "44a01c75d5824a7da9ecc0a17752a279": {
      "model_module": "@jupyter-widgets/controls",
      "model_module_version": "2.0.0",
      "model_name": "VBoxModel",
      "state": {
       "children": [
        "IPY_MODEL_f457fde2648b42da808f85de7e17da39"
       ],
       "layout": "IPY_MODEL_a803ae03c9f143719a6114bf112d0b29"
      }
     },
     "46117980a696482181de5510c2d485be": {
      "model_module": "@jupyter-widgets/controls",
      "model_module_version": "2.0.0",
      "model_name": "VBoxModel",
      "state": {
       "children": [
        "IPY_MODEL_89f0b81dcc2a4559b432899a8769b249",
        "IPY_MODEL_867c87bcad324f7ca876732c0ba65e2e"
       ],
       "layout": "IPY_MODEL_dead4bcf12344a61b65aa7fb2963d91c"
      }
     },
     "46643fc6b80d496db32feacda9b25035": {
      "model_module": "@jupyter-widgets/base",
      "model_module_version": "2.0.0",
      "model_name": "LayoutModel",
      "state": {}
     },
     "46c66ac15acc4f18a3f700b02912afbe": {
      "model_module": "@jupyter-widgets/controls",
      "model_module_version": "2.0.0",
      "model_name": "VBoxModel",
      "state": {
       "children": [
        "IPY_MODEL_f4f0233eb23b4eb79a85ae4acad27ba8"
       ],
       "layout": "IPY_MODEL_95cf5a55d60948298cf5994d17396294"
      }
     },
     "4769b861958d4680be7b2f75e4e2c163": {
      "model_module": "@jupyter-widgets/base",
      "model_module_version": "2.0.0",
      "model_name": "LayoutModel",
      "state": {}
     },
     "47717651e29a4f0ea59d19b23534cebe": {
      "model_module": "jupyter-leaflet",
      "model_module_version": "^0.19",
      "model_name": "LeafletImageOverlayModel",
      "state": {
       "_model_module_version": "^0.19",
       "_view_module_version": "^0.19",
       "bounds": [
        [
         13,
         -130
        ],
        [
         32,
         -100
        ]
       ],
       "options": [
        "attribution"
       ],
       "url": "https://www.vuepy.org/images/vuepy-logo.svg"
      }
     },
     "48909b130ac5499eaebf621d6293a2a0": {
      "model_module": "@jupyter-widgets/base",
      "model_module_version": "2.0.0",
      "model_name": "LayoutModel",
      "state": {}
     },
     "49029087127041008978fdc041f01b51": {
      "model_module": "@jupyter-widgets/base",
      "model_module_version": "2.0.0",
      "model_name": "LayoutModel",
      "state": {}
     },
     "4a1edea9adf54b95a644c6c6fed866aa": {
      "model_module": "@jupyter-widgets/base",
      "model_module_version": "2.0.0",
      "model_name": "LayoutModel",
      "state": {}
     },
     "4b00783cd9d74e15ae366f6e04d658fc": {
      "model_module": "@jupyter-widgets/controls",
      "model_module_version": "2.0.0",
      "model_name": "VBoxModel",
      "state": {
       "children": [
        "IPY_MODEL_8a4998d277064b4cad0ab5add7c03afd"
       ],
       "layout": "IPY_MODEL_e65950e37f584a7ba296fe88414fe99c"
      }
     },
     "4b046fb0dcf54e4c81edebbfb97f8ac3": {
      "model_module": "jupyter-leaflet",
      "model_module_version": "^0.19",
      "model_name": "LeafletImageOverlayModel",
      "state": {
       "_model_module_version": "^0.19",
       "_view_module_version": "^0.19",
       "bounds": [
        [
         13,
         -130
        ],
        [
         32,
         -100
        ]
       ],
       "name": "image",
       "options": [
        "attribution"
       ],
       "url": "http://www.vuepy.org/images/vuepy-logo.svg"
      }
     },
     "4b7a9a2df1b144ff9c7a204628b122c4": {
      "model_module": "@jupyter-widgets/base",
      "model_module_version": "2.0.0",
      "model_name": "LayoutModel",
      "state": {}
     },
     "4b8088315cd24fac961df27e222ae176": {
      "model_module": "@jupyter-widgets/base",
      "model_module_version": "2.0.0",
      "model_name": "LayoutModel",
      "state": {}
     },
     "4c8bb6fc676a46d4a33a16ed0754c20b": {
      "model_module": "jupyter-leaflet",
      "model_module_version": "^0.19",
      "model_name": "LeafletZoomControlModel",
      "state": {
       "_model_module_version": "^0.19",
       "_view_module_version": "^0.19",
       "options": [
        "position",
        "zoom_in_text",
        "zoom_in_title",
        "zoom_out_text",
        "zoom_out_title"
       ]
      }
     },
     "4cfbbc130e464b07871b78d9e7167112": {
      "model_module": "@jupyter-widgets/base",
      "model_module_version": "2.0.0",
      "model_name": "LayoutModel",
      "state": {}
     },
     "4d11eabaaf0043b3a8bf60455916930e": {
      "model_module": "@jupyter-widgets/controls",
      "model_module_version": "2.0.0",
      "model_name": "VBoxModel",
      "state": {
       "children": [
        "IPY_MODEL_8d9fc044f0394bbf815901c3896c3015"
       ],
       "layout": "IPY_MODEL_d2f0dab4d0d3462bb07f35b852d0ed33"
      }
     },
     "4d9714e8a7954f20afe7e624ef1aaace": {
      "model_module": "@jupyter-widgets/base",
      "model_module_version": "2.0.0",
      "model_name": "LayoutModel",
      "state": {}
     },
     "4da8ea5eaa3a4eabb93a97698c1e848a": {
      "model_module": "jupyter-leaflet",
      "model_module_version": "^0.19",
      "model_name": "LeafletMapStyleModel",
      "state": {
       "_model_module_version": "^0.19",
       "cursor": "move"
      }
     },
     "4df4c5e28e7541728f90ad8b13a135e7": {
      "model_module": "@jupyter-widgets/base",
      "model_module_version": "2.0.0",
      "model_name": "LayoutModel",
      "state": {}
     },
     "4e8770307f6444fcabc41be967623e0a": {
      "model_module": "@jupyter-widgets/controls",
      "model_module_version": "2.0.0",
      "model_name": "VBoxModel",
      "state": {
       "children": [
        "IPY_MODEL_93bd37984c2047d4b0fac0aeead5545f"
       ],
       "layout": "IPY_MODEL_c99671cebd5d42ccb1fb51c1d4c6ca84"
      }
     },
     "51731ad5966348399e88a4818251924b": {
      "model_module": "@jupyter-widgets/controls",
      "model_module_version": "2.0.0",
      "model_name": "VBoxModel",
      "state": {
       "children": [
        "IPY_MODEL_cd8b8fc0e78e4326890d1ac2b31efdb1"
       ],
       "layout": "IPY_MODEL_68b321a432354e33a8d0680ae3f6817a"
      }
     },
     "51e3bbe633824dd393b1a51523c5def2": {
      "model_module": "@jupyter-widgets/controls",
      "model_module_version": "2.0.0",
      "model_name": "VBoxModel",
      "state": {
       "children": [
        "IPY_MODEL_9eb97dcd60654cab8e6dcdab93dc95e2"
       ],
       "layout": "IPY_MODEL_81e9f6a09c0a4d2d8fda25c4c0ca9db8"
      }
     },
     "5263d01e025349dca3854ace52a2c205": {
      "model_module": "jupyter-leaflet",
      "model_module_version": "^0.19",
      "model_name": "LeafletMapModel",
      "state": {
       "_model_module_version": "^0.19",
       "_view_module_version": "^0.19",
       "bottom": 1954,
       "center": [
        25,
        -115
       ],
       "controls": [
        "IPY_MODEL_bf28c1545e1f48c9b5f04c9f12bb6c92",
        "IPY_MODEL_fac4fd117a304648bef608527f5eb007",
        "IPY_MODEL_b6f81ce4fa904e6cbbab92039291c3b3"
       ],
       "default_style": "IPY_MODEL_e57a367fb5df46da86d5b528b821c89e",
       "dragging_style": "IPY_MODEL_9b92253e233b4020929c01bfe1caf11e",
       "east": -64.68750000000001,
       "fullscreen": false,
       "interpolation": "bilinear",
       "layers": [
        "IPY_MODEL_8a4e4178075440e18b3259545fed15a3",
        "IPY_MODEL_1006722b1f624471ad36447117138347"
       ],
       "layout": "IPY_MODEL_ccd36692a7b3492684dce663cc3fbc84",
       "left": 167,
       "modisdate": "2025-04-05",
       "north": 39.774769485295465,
       "options": [
        "bounce_at_zoom_limits",
        "box_zoom",
        "center",
        "close_popup_on_click",
        "double_click_zoom",
        "dragging",
        "fullscreen",
        "inertia",
        "inertia_deceleration",
        "inertia_max_speed",
        "interpolation",
        "keyboard",
        "keyboard_pan_offset",
        "keyboard_zoom_offset",
        "max_zoom",
        "min_zoom",
        "prefer_canvas",
        "scroll_wheel_zoom",
        "tap",
        "tap_tolerance",
        "touch_zoom",
        "world_copy_jump",
        "zoom",
        "zoom_animation_threshold",
        "zoom_delta",
        "zoom_snap"
       ],
       "prefer_canvas": false,
       "right": 1312,
       "south": 8.233237111274565,
       "style": "IPY_MODEL_1f86bccd13224841b3548d5cc6c65897",
       "top": 1554,
       "west": -165.32226562500003,
       "window_url": "http://localhost:2071/lab/tree/nb_llm/pyvue/examples/vleaflet/layers/ImageOverly.ipynb",
       "zoom": 4
      }
     },
     "533e21f3336b4295b3ed775d4ddc1490": {
      "model_module": "@jupyter-widgets/controls",
      "model_module_version": "2.0.0",
      "model_name": "VBoxModel",
      "state": {
       "children": [
        "IPY_MODEL_adba4a5713a341acb0273ff954acccee"
       ],
       "layout": "IPY_MODEL_82d44e88e29c4f7e952db57c947fdd22"
      }
     },
     "53c2ebd69d364b529e458c295496d775": {
      "model_module": "@jupyter-widgets/base",
      "model_module_version": "2.0.0",
      "model_name": "LayoutModel",
      "state": {}
     },
     "544a3033f18749f38981e9073d41ad5a": {
      "model_module": "jupyter-leaflet",
      "model_module_version": "^0.19",
      "model_name": "LeafletMapStyleModel",
      "state": {
       "_model_module_version": "^0.19"
      }
     },
     "54b60a05afaa4232968c524446f00dfd": {
      "model_module": "@jupyter-widgets/controls",
      "model_module_version": "2.0.0",
      "model_name": "VBoxModel",
      "state": {
       "children": [
        "IPY_MODEL_2a93b2ed7e574cd4a8ac3ed718937216"
       ],
       "layout": "IPY_MODEL_3b744ffd3b8e402386fce25580bcf95e"
      }
     },
     "54ca394fe64b451980cfef100decfeb1": {
      "model_module": "jupyter-leaflet",
      "model_module_version": "^0.19",
      "model_name": "LeafletAttributionControlModel",
      "state": {
       "_model_module_version": "^0.19",
       "_view_module_version": "^0.19",
       "options": [
        "position",
        "prefix"
       ],
       "position": "bottomright",
       "prefix": "ipyleaflet"
      }
     },
     "5585dc087c7645888c1daabb270317a7": {
      "model_module": "@jupyter-widgets/controls",
      "model_module_version": "2.0.0",
      "model_name": "VBoxModel",
      "state": {
       "children": [
        "IPY_MODEL_3fc5f49834814228945558e5bb952723"
       ],
       "layout": "IPY_MODEL_2dc6044ec1ed4aeeb6dfcdebeae1372a"
      }
     },
     "55f9caf76a964308b8eef8b57736dc18": {
      "model_module": "@jupyter-widgets/controls",
      "model_module_version": "2.0.0",
      "model_name": "VBoxModel",
      "state": {
       "children": [
        "IPY_MODEL_b6f81ce4fa904e6cbbab92039291c3b3"
       ],
       "layout": "IPY_MODEL_6073ea57dc2f4fc48742f1f391b86ee5"
      }
     },
     "564b62e3bebd4f69b00772b851e49286": {
      "model_module": "@jupyter-widgets/controls",
      "model_module_version": "2.0.0",
      "model_name": "VBoxModel",
      "state": {
       "children": [
        "IPY_MODEL_c2961ba13c6b422dab51947f7b40f1b5"
       ],
       "layout": "IPY_MODEL_c07a7b9705e941f292920973defa7014"
      }
     },
     "568f022cd2604b71a1ed7f2a5a6553b2": {
      "model_module": "jupyter-leaflet",
      "model_module_version": "^0.19",
      "model_name": "LeafletTileLayerModel",
      "state": {
       "_model_module_version": "^0.19",
       "_view_module_version": "^0.19",
       "attribution": "&copy; <a href=\"https://www.openstreetmap.org/copyright\">OpenStreetMap</a> contributors",
       "base": true,
       "max_zoom": 19,
       "min_zoom": 1,
       "name": "OpenStreetMap.Mapnik",
       "options": [
        "attribution",
        "bounds",
        "detect_retina",
        "max_native_zoom",
        "max_zoom",
        "min_native_zoom",
        "min_zoom",
        "no_wrap",
        "tile_size",
        "tms",
        "zoom_offset"
       ],
       "url": "https://tile.openstreetmap.org/{z}/{x}/{y}.png"
      }
     },
     "57dbc1ccedd64367a7049bd22601ef88": {
      "model_module": "@jupyter-widgets/base",
      "model_module_version": "2.0.0",
      "model_name": "LayoutModel",
      "state": {}
     },
     "5967e3d4db644d8f88554631ffe67b91": {
      "model_module": "@jupyter-widgets/base",
      "model_module_version": "2.0.0",
      "model_name": "LayoutModel",
      "state": {}
     },
     "5a8c8b829d9e4f97a6d4ba21bb7a14ec": {
      "model_module": "@jupyter-widgets/controls",
      "model_module_version": "2.0.0",
      "model_name": "VBoxModel",
      "state": {
       "children": [
        "IPY_MODEL_057a9980e1ee4ef38db96b4fdd95e333"
       ],
       "layout": "IPY_MODEL_93ac71a6e056461eb2aa6dca92dc7620"
      }
     },
     "5afd08490127416088ac83c46135e1f9": {
      "model_module": "jupyter-leaflet",
      "model_module_version": "^0.19",
      "model_name": "LeafletTileLayerModel",
      "state": {
       "_model_module_version": "^0.19",
       "_view_module_version": "^0.19",
       "attribution": "&copy; <a href=\"https://www.openstreetmap.org/copyright\">OpenStreetMap</a> contributors",
       "base": true,
       "max_zoom": 19,
       "min_zoom": 1,
       "name": "OpenStreetMap.Mapnik",
       "options": [
        "attribution",
        "bounds",
        "detect_retina",
        "max_native_zoom",
        "max_zoom",
        "min_native_zoom",
        "min_zoom",
        "no_wrap",
        "tile_size",
        "tms",
        "zoom_offset"
       ],
       "url": "https://tile.openstreetmap.org/{z}/{x}/{y}.png"
      }
     },
     "5ba9c5e30cce4416a9dffad7dda415af": {
      "model_module": "@jupyter-widgets/controls",
      "model_module_version": "2.0.0",
      "model_name": "VBoxModel",
      "state": {
       "children": [
        "IPY_MODEL_edeca56591944bbc9489eed9f6883dde"
       ],
       "layout": "IPY_MODEL_46643fc6b80d496db32feacda9b25035"
      }
     },
     "5bed743491a04e7ab8bf12f3c7f290f8": {
      "model_module": "@jupyter-widgets/controls",
      "model_module_version": "2.0.0",
      "model_name": "VBoxModel",
      "state": {
       "children": [
        "IPY_MODEL_81da813005444be5a421f444d17554e6"
       ],
       "layout": "IPY_MODEL_26c595f3dc954991b65fd4e7c43b1bd4"
      }
     },
     "5c109e77c2c74c38988bd02d09e66c21": {
      "model_module": "jupyter-leaflet",
      "model_module_version": "^0.19",
      "model_name": "LeafletLayersControlModel",
      "state": {
       "_model_module_version": "^0.19",
       "_view_module_version": "^0.19",
       "collapsed": false,
       "options": [
        "collapsed",
        "position"
       ]
      }
     },
     "5c7715f668a04cd094b8eb1aabed1eac": {
      "model_module": "@jupyter-widgets/controls",
      "model_module_version": "2.0.0",
      "model_name": "VBoxModel",
      "state": {
       "children": [
        "IPY_MODEL_0d790d1444764d9eb67802ff7c46a200"
       ],
       "layout": "IPY_MODEL_745db73db5734fb7a5e994731c44c9a3"
      }
     },
     "5ec1653596884a82bebbb0f12e6c5e01": {
      "model_module": "@jupyter-widgets/base",
      "model_module_version": "2.0.0",
      "model_name": "LayoutModel",
      "state": {}
     },
     "5ec5ef6a18ed40db98ceea5b028213f2": {
      "model_module": "@jupyter-widgets/controls",
      "model_module_version": "2.0.0",
      "model_name": "VBoxModel",
      "state": {
       "children": [
        "IPY_MODEL_e18fef5d595b4a108806880839c4d6c1"
       ],
       "layout": "IPY_MODEL_2af2068c0f914f4198da51f62fe61b14"
      }
     },
     "5f45f2d991ed49159ff16432a98a805f": {
      "model_module": "jupyter-leaflet",
      "model_module_version": "^0.19",
      "model_name": "LeafletImageOverlayModel",
      "state": {
       "_model_module_version": "^0.19",
       "_view_module_version": "^0.19",
       "bounds": [
        [
         13,
         -130
        ],
        [
         32,
         -100
        ]
       ],
       "name": "image",
       "options": [
        "attribution"
       ],
       "url": "https://www.vuepy.org/images/vuepy-logo.svg"
      }
     },
     "5f5824884fb4435d861f8231b360cf49": {
      "model_module": "jupyter-leaflet",
      "model_module_version": "^0.19",
      "model_name": "LeafletLayersControlModel",
      "state": {
       "_model_module_version": "^0.19",
       "_view_module_version": "^0.19",
       "collapsed": false,
       "options": [
        "collapsed",
        "position"
       ]
      }
     },
     "6073ea57dc2f4fc48742f1f391b86ee5": {
      "model_module": "@jupyter-widgets/base",
      "model_module_version": "2.0.0",
      "model_name": "LayoutModel",
      "state": {}
     },
     "61c4646734b04aecaa54f7a3fb5aa4a1": {
      "model_module": "@jupyter-widgets/base",
      "model_module_version": "2.0.0",
      "model_name": "LayoutModel",
      "state": {}
     },
     "61ff4429896541489f6cfbc3a5863dd7": {
      "model_module": "@jupyter-widgets/controls",
      "model_module_version": "2.0.0",
      "model_name": "VBoxModel",
      "state": {
       "children": [
        "IPY_MODEL_65047233d15345e09ce2f7b798ced2f8"
       ],
       "layout": "IPY_MODEL_213cb956a6aa4fb8af046d89c3970126"
      }
     },
     "62bbe4ed3f3b4c24b2512ad96770e262": {
      "model_module": "@jupyter-widgets/base",
      "model_module_version": "2.0.0",
      "model_name": "LayoutModel",
      "state": {}
     },
     "63928830ae81464180163874f68eae74": {
      "model_module": "jupyter-leaflet",
      "model_module_version": "^0.19",
      "model_name": "LeafletAttributionControlModel",
      "state": {
       "_model_module_version": "^0.19",
       "_view_module_version": "^0.19",
       "options": [
        "position",
        "prefix"
       ],
       "position": "bottomright",
       "prefix": "ipyleaflet"
      }
     },
     "63cd78834d8942a590d7b8b566f2844a": {
      "model_module": "jupyter-leaflet",
      "model_module_version": "^0.19",
      "model_name": "LeafletImageOverlayModel",
      "state": {
       "_model_module_version": "^0.19",
       "_view_module_version": "^0.19",
       "bounds": [
        [
         13,
         -130
        ],
        [
         32,
         -100
        ]
       ],
       "name": "image",
       "options": [
        "attribution"
       ],
       "url": "https://www.vuepy.org/images/vuepy-logo.svg"
      }
     },
     "648ce3f2339f47d8a26d25600c3a49f0": {
      "model_module": "anywidget",
      "model_module_version": "~0.9.*",
      "model_name": "AnyModel",
      "state": {
       "_anywidget_id": "ipywui.widgets.custom.message.MessageWidget",
       "_css": ".wui-message-root {\n    display: flex;\n    position: absolute;\n    left: 0;\n    right: 0;\n    top: 0;\n}\n\n.wui-message-container {\n    align-items: center;\n    display: flex;\n    flex-direction: column-reverse;\n    justify-content: center;\n    min-height: 100%;\n    outline: none;\n    width: 100%;\n\n    -webkit-tap-highlight-color: rgba(0,0,0,0);\n    bottom: 0;\n    left: 0;\n    right: 0;\n    top: 0;\n}\n\n.wui-message--success {\n    --wui-message-bg-color: #f0f9eb;\n    --wui-message-border-color: #e1f3d8;\n    --wui-message-text-color: #67c23a;\n}\n.wui-message--warning {\n    --wui-message-bg-color: #fdf6ec;\n    --wui-message-border-color: #faecd8;\n    --wui-message-text-color: #e6a23c;\n}\n.wui-message--info {\n    --wui-message-bg-color: #f4f4f5;\n    --wui-message-border-color: #e9e9eb;\n    --wui-message-text-color: #909399;\n}\n.wui-message--error {\n    --wui-message-bg-color: #fef0f0;\n    --wui-message-border-color: #fde2e2;\n    --wui-message-text-color: #f56c6c;\n}\n\n@keyframes msg-open {\n    0% {\n        opacity: 0;\n        -webkit-transform: translateY(-120%);\n        transform: translateY(-120%)\n    }\n    to {\n        -webkit-transform: translateY(0);\n        transform: translateY(0)\n    }\n}\n\n@keyframes msg-close {\n    0% {\n        opacity: 1;\n        -webkit-transform: scale(1);\n        transform: scale(1)\n    }\n    to {\n        opacity: 0;\n        -webkit-transform: scale(.9);\n        transform: scale(.9)\n    }\n}\n.wui-message[data-state=entered],.wui-message[data-state=entering] {\n    -webkit-animation: msg-open .24s cubic-bezier(.175,.885,.32,1.175) both;\n    animation: msg-open .24s cubic-bezier(.175,.885,.32,1.175) both\n}\n\n.wui-message[data-state=exiting] {\n    -webkit-animation: msg-close .12s cubic-bezier(.4,0,1,1) both;\n    animation: msg-close .12s cubic-bezier(.4,0,1,1) both\n}\n\n.wui-message {\n    width: -webkit-fit-content;\n    width: -moz-fit-content;\n    width: fit-content;\n    z-index: 2004;\n    max-width: calc(100% - 32px);\n    margin-top: 8px;\n    box-sizing: border-box;\n    /*border-radius: var(--wui-border-radius-base);*/\n    /*border-width: var(--wui-border-width);*/\n    /*border-style: var(--wui-border-style);*/\n    border-color: var(--wui-message-border-color);\n    /*left: 50%;*/\n    /*top: 20px;*/\n    /*transform: translateX(-50%);*/\n    background-color: var(--wui-message-bg-color);\n    /*transition: opacity var(--wui-transition-duration),transform .4s,top .4s;*/\n    /*padding: var(--wui-message-padding);*/\n    display: flex;\n    align-items: center;\n}\n\n/*.wui-message--success */\n.wui-message__content {\n    color: var(--wui-message-text-color);\n    font-size: 14px;\n    line-height: 18px;\n    margin: 10px 14px 10px 14px;\n    overflow-wrap: break-word;\n}\n\n.wui-message__closeBtn {\n    /*cursor: pointer;*/\n    font-style: normal;\n    /*color: gray;*/\n    padding-right: 14px;\n    /*font-size: 13px;*/\n    user-select: none;\n\n    background: transparent;\n    border: none;\n    color: gray;\n    cursor: pointer;\n    font-size: 13px;\n    font-weight: 400;\n    line-height: 1;\n    outline: none;\n    /*padding: 4px;*/\n    text-align: center;\n    transition: opacity .3s;\n    /*width: 100%;*/\n}",
       "_esm": "function closeMsg(msgDom) {\n  if (!msgDom) {\n    return;\n  }\n  msgDom.setAttribute('data-state', 'exiting');\n  msgDom.remove();\n}\n\nfunction createMsg(options) {\n  const {message, msg_id, type = 'info', show_close = false} = options;\n  const msgDom = document.createElement('div');\n  msgDom.className += ` wui-message--${type} wui-message`;\n  msgDom.setAttribute('data-state', 'entered');\n  msgDom.setAttribute('id', msg_id);\n  const msgContent = document.createElement('p');\n  msgContent.className += ` wui-message--${type} wui-message__content`;\n  msgContent.innerText = message;\n  msgDom.appendChild(msgContent);\n  if (show_close) {\n    const closeBtn = document.createElement('i');\n    closeBtn.className += 'wui-message__closeBtn';\n    closeBtn.innerText = 'x';\n    closeBtn.addEventListener('click', (ev) => {\n      closeMsg(msgDom);\n    })\n    msgDom.appendChild(closeBtn);\n  }\n  return msgDom;\n}\n\nexport async function render(view) {\n  let model = view.model;\n  const msgRoot = view.el;\n  msgRoot.className += ' wui-message-root'\n\n  const msgContainer = document.createElement('div');\n  msgContainer.className += ' wui-message-container';\n  msgRoot.appendChild(msgContainer)\n\n  model.on(\"change:message_options\", () => {\n    const options = model.get(\"message_options\");\n    const msg = createMsg(options);\n    msgContainer.appendChild(msg);\n    const {duration = 3000} = options;\n    if (duration > 0) {\n      setTimeout(() => {\n        closeMsg(msg)\n      }, duration);\n    }\n  })\n\n  model.on(\"change:close_msg_id\", () => {\n    const msg_id = model.get(\"close_msg_id\");\n    const msgDom = document.getElementById(msg_id);\n    closeMsg(msgDom);\n  })\n}\n",
       "_model_module": "anywidget",
       "_model_module_version": "~0.9.*",
       "_model_name": "AnyModel",
       "_view_module": "anywidget",
       "_view_module_version": "~0.9.*",
       "_view_name": "AnyView",
       "close_msg_id": "",
       "layout": "IPY_MODEL_07d7022ecc6d427e9dd044f95a572647",
       "message_options": {
        "duration": 3000,
        "message": "",
        "show_close": false,
        "type": "info"
       }
      }
     },
     "65047233d15345e09ce2f7b798ced2f8": {
      "model_module": "jupyter-leaflet",
      "model_module_version": "^0.19",
      "model_name": "LeafletMapModel",
      "state": {
       "_model_module_version": "^0.19",
       "_view_module_version": "^0.19",
       "center": [
        52.214338608258224,
        360.087890625
       ],
       "controls": [
        "IPY_MODEL_4c8bb6fc676a46d4a33a16ed0754c20b",
        "IPY_MODEL_54ca394fe64b451980cfef100decfeb1",
        "IPY_MODEL_c2961ba13c6b422dab51947f7b40f1b5"
       ],
       "default_style": "IPY_MODEL_c96ddca783b04569bb7ba94a51b5e20e",
       "dragging_style": "IPY_MODEL_b85b3d1c33aa483b9687f630e9712fd8",
       "east": null,
       "fullscreen": false,
       "interpolation": "bilinear",
       "layers": [
        "IPY_MODEL_18a34761565e4007af9af30f5163edc9",
        "IPY_MODEL_057a9980e1ee4ef38db96b4fdd95e333"
       ],
       "layout": "IPY_MODEL_bb00d72d476e495d9784ef40306b5cfb",
       "modisdate": "2025-04-05",
       "north": -90,
       "options": [
        "bounce_at_zoom_limits",
        "box_zoom",
        "center",
        "close_popup_on_click",
        "double_click_zoom",
        "dragging",
        "fullscreen",
        "inertia",
        "inertia_deceleration",
        "inertia_max_speed",
        "interpolation",
        "keyboard",
        "keyboard_pan_offset",
        "keyboard_zoom_offset",
        "max_zoom",
        "min_zoom",
        "prefer_canvas",
        "scroll_wheel_zoom",
        "tap",
        "tap_tolerance",
        "touch_zoom",
        "world_copy_jump",
        "zoom",
        "zoom_animation_threshold",
        "zoom_delta",
        "zoom_snap"
       ],
       "prefer_canvas": false,
       "south": 90,
       "style": "IPY_MODEL_c96ddca783b04569bb7ba94a51b5e20e",
       "west": null,
       "window_url": "http://localhost:2071/lab/tree/nb_llm/pyvue/examples/vleaflet/layers/ImageOverly.ipynb",
       "zoom": 4
      }
     },
     "651fa2a0569349c98889cca8c6ddff24": {
      "model_module": "@jupyter-widgets/controls",
      "model_module_version": "2.0.0",
      "model_name": "VBoxModel",
      "state": {
       "children": [
        "IPY_MODEL_88d3807ac8d143a284e4d6596acf75ec"
       ],
       "layout": "IPY_MODEL_e6ff22cca7b349b19d93bd9c85bd6f63"
      }
     },
     "6615c4df5dab4ce2aabfc308512dd286": {
      "model_module": "jupyter-leaflet",
      "model_module_version": "^0.19",
      "model_name": "LeafletLayersControlModel",
      "state": {
       "_model_module_version": "^0.19",
       "_view_module_version": "^0.19",
       "collapsed": false,
       "options": [
        "collapsed",
        "position"
       ]
      }
     },
     "685f0ddfaa1d486194e180f3d5028a6b": {
      "model_module": "jupyter-leaflet",
      "model_module_version": "^0.19",
      "model_name": "LeafletZoomControlModel",
      "state": {
       "_model_module_version": "^0.19",
       "_view_module_version": "^0.19",
       "options": [
        "position",
        "zoom_in_text",
        "zoom_in_title",
        "zoom_out_text",
        "zoom_out_title"
       ]
      }
     },
     "68b321a432354e33a8d0680ae3f6817a": {
      "model_module": "@jupyter-widgets/base",
      "model_module_version": "2.0.0",
      "model_name": "LayoutModel",
      "state": {}
     },
     "697491988d0d4f54b2af0ee41836a281": {
      "model_module": "jupyter-leaflet",
      "model_module_version": "^0.19",
      "model_name": "LeafletZoomControlModel",
      "state": {
       "_model_module_version": "^0.19",
       "_view_module_version": "^0.19",
       "options": [
        "position",
        "zoom_in_text",
        "zoom_in_title",
        "zoom_out_text",
        "zoom_out_title"
       ]
      }
     },
     "69a03ffd5fca4edab29b7e5ffa9213eb": {
      "model_module": "@jupyter-widgets/base",
      "model_module_version": "2.0.0",
      "model_name": "LayoutModel",
      "state": {}
     },
     "69f63c154c1941279de6a2ca7a0e7de4": {
      "model_module": "@jupyter-widgets/base",
      "model_module_version": "2.0.0",
      "model_name": "LayoutModel",
      "state": {}
     },
     "6a011e39977a41848bfec98cce81179b": {
      "model_module": "@jupyter-widgets/controls",
      "model_module_version": "2.0.0",
      "model_name": "VBoxModel",
      "state": {
       "children": [
        "IPY_MODEL_f3f5432598884e0a8344faf5e3bfe335"
       ],
       "layout": "IPY_MODEL_69f63c154c1941279de6a2ca7a0e7de4"
      }
     },
     "6aaf3b99d0e3482e8b0af2836fb16f79": {
      "model_module": "@jupyter-widgets/controls",
      "model_module_version": "2.0.0",
      "model_name": "VBoxModel",
      "state": {
       "children": [
        "IPY_MODEL_648ce3f2339f47d8a26d25600c3a49f0",
        "IPY_MODEL_ae36c51756df4ad19974add73eab37ba"
       ],
       "layout": "IPY_MODEL_2cc0cb0b5e4944f291e15427010eddae"
      }
     },
     "6b075b4dd5ee4711accad47d9e7aee9a": {
      "model_module": "@jupyter-widgets/controls",
      "model_module_version": "2.0.0",
      "model_name": "VBoxModel",
      "state": {
       "children": [
        "IPY_MODEL_1006722b1f624471ad36447117138347"
       ],
       "layout": "IPY_MODEL_4a1edea9adf54b95a644c6c6fed866aa"
      }
     },
     "6b42863656ab44c499ca99555ec00db1": {
      "model_module": "@jupyter-widgets/base",
      "model_module_version": "2.0.0",
      "model_name": "LayoutModel",
      "state": {}
     },
     "6bbbfffb02594cb2a8c89394ab081b93": {
      "model_module": "jupyter-leaflet",
      "model_module_version": "^0.19",
      "model_name": "LeafletMapStyleModel",
      "state": {
       "_model_module_version": "^0.19"
      }
     },
     "6c32e4925a3346dcb04f3b942ca4d62d": {
      "model_module": "@jupyter-widgets/controls",
      "model_module_version": "2.0.0",
      "model_name": "VBoxModel",
      "state": {
       "children": [
        "IPY_MODEL_b247d0e5671e422b881a6e4911e0ff03"
       ],
       "layout": "IPY_MODEL_768e08b3d6a64f7181edbc50247b749f"
      }
     },
     "6cf73570fdd549368aa6e3daf120fe82": {
      "model_module": "@jupyter-widgets/base",
      "model_module_version": "2.0.0",
      "model_name": "LayoutModel",
      "state": {}
     },
     "6d5fce0c6d6f4d71911f3576f6bdaea6": {
      "model_module": "@jupyter-widgets/base",
      "model_module_version": "2.0.0",
      "model_name": "LayoutModel",
      "state": {}
     },
     "6e476089eee24f97b330702d9472a2b2": {
      "model_module": "jupyter-leaflet",
      "model_module_version": "^0.19",
      "model_name": "LeafletTileLayerModel",
      "state": {
       "_model_module_version": "^0.19",
       "_view_module_version": "^0.19",
       "attribution": "&copy; <a href=\"https://www.openstreetmap.org/copyright\">OpenStreetMap</a> contributors",
       "base": true,
       "max_zoom": 19,
       "min_zoom": 1,
       "name": "OpenStreetMap.Mapnik",
       "options": [
        "attribution",
        "bounds",
        "detect_retina",
        "max_native_zoom",
        "max_zoom",
        "min_native_zoom",
        "min_zoom",
        "no_wrap",
        "tile_size",
        "tms",
        "zoom_offset"
       ],
       "url": "https://tile.openstreetmap.org/{z}/{x}/{y}.png"
      }
     },
     "6e94898472724b41b7f81790c86cfb6a": {
      "model_module": "@jupyter-widgets/base",
      "model_module_version": "2.0.0",
      "model_name": "LayoutModel",
      "state": {}
     },
     "6efac78b9c1a485e9831a7f7c481b05f": {
      "model_module": "jupyter-leaflet",
      "model_module_version": "^0.19",
      "model_name": "LeafletTileLayerModel",
      "state": {
       "_model_module_version": "^0.19",
       "_view_module_version": "^0.19",
       "attribution": "&copy; <a href=\"https://www.openstreetmap.org/copyright\">OpenStreetMap</a> contributors",
       "base": true,
       "max_zoom": 19,
       "min_zoom": 1,
       "name": "OpenStreetMap.Mapnik",
       "options": [
        "attribution",
        "bounds",
        "detect_retina",
        "max_native_zoom",
        "max_zoom",
        "min_native_zoom",
        "min_zoom",
        "no_wrap",
        "tile_size",
        "tms",
        "zoom_offset"
       ],
       "url": "https://tile.openstreetmap.org/{z}/{x}/{y}.png"
      }
     },
     "6f7343ce7daa4efcaa649622918020e2": {
      "model_module": "@jupyter-widgets/base",
      "model_module_version": "2.0.0",
      "model_name": "LayoutModel",
      "state": {}
     },
     "6f93e8fa02d84673b097489e6e365c18": {
      "model_module": "@jupyter-widgets/controls",
      "model_module_version": "2.0.0",
      "model_name": "VBoxModel",
      "state": {
       "children": [
        "IPY_MODEL_4b046fb0dcf54e4c81edebbfb97f8ac3"
       ],
       "layout": "IPY_MODEL_91f111b7c4c2472a82af9d9f14328587"
      }
     },
     "6fe9d244f72c45c888a9aaaa8b4337b8": {
      "model_module": "@jupyter-widgets/controls",
      "model_module_version": "2.0.0",
      "model_name": "VBoxModel",
      "state": {
       "children": [
        "IPY_MODEL_3ce55c408c8e4404acd672895461c756"
       ],
       "layout": "IPY_MODEL_0dee9ff238ae42d992736ab7cd7f5877"
      }
     },
     "70c0ffb18f2e4581a925fdf5c68cf1ec": {
      "model_module": "jupyter-leaflet",
      "model_module_version": "^0.19",
      "model_name": "LeafletMapStyleModel",
      "state": {
       "_model_module_version": "^0.19"
      }
     },
     "71cef7f09ce44af6aab653c5bfa1fefc": {
      "model_module": "jupyter-leaflet",
      "model_module_version": "^0.19",
      "model_name": "LeafletAttributionControlModel",
      "state": {
       "_model_module_version": "^0.19",
       "_view_module_version": "^0.19",
       "options": [
        "position",
        "prefix"
       ],
       "position": "bottomright",
       "prefix": "ipyleaflet"
      }
     },
     "71e4293b6cfd418fbbf35bc3f36883e2": {
      "model_module": "@jupyter-widgets/base",
      "model_module_version": "2.0.0",
      "model_name": "LayoutModel",
      "state": {}
     },
     "72dd414f01db4accac7eebcf30d6fead": {
      "model_module": "jupyter-leaflet",
      "model_module_version": "^0.19",
      "model_name": "LeafletZoomControlModel",
      "state": {
       "_model_module_version": "^0.19",
       "_view_module_version": "^0.19",
       "options": [
        "position",
        "zoom_in_text",
        "zoom_in_title",
        "zoom_out_text",
        "zoom_out_title"
       ]
      }
     },
     "730b7bb9919845d28c0d13fb6c3671bc": {
      "model_module": "@jupyter-widgets/controls",
      "model_module_version": "2.0.0",
      "model_name": "VBoxModel",
      "state": {
       "children": [
        "IPY_MODEL_46117980a696482181de5510c2d485be"
       ],
       "layout": "IPY_MODEL_c5f0a598f8fb4033ae7db51857997ed1"
      }
     },
     "735aa8b0b7ba417d95ba40a1ee245472": {
      "model_module": "jupyter-leaflet",
      "model_module_version": "^0.19",
      "model_name": "LeafletAttributionControlModel",
      "state": {
       "_model_module_version": "^0.19",
       "_view_module_version": "^0.19",
       "options": [
        "position",
        "prefix"
       ],
       "position": "bottomright",
       "prefix": "ipyleaflet"
      }
     },
     "735ffe0e5f244c6e8ca081c70f0fa752": {
      "model_module": "@jupyter-widgets/base",
      "model_module_version": "2.0.0",
      "model_name": "LayoutModel",
      "state": {}
     },
     "7374cd57027d4ab9a6c2456e8aa8df31": {
      "model_module": "@jupyter-widgets/controls",
      "model_module_version": "2.0.0",
      "model_name": "VBoxModel",
      "state": {
       "children": [
        "IPY_MODEL_7b3f288d86a448b8ae0d91e3f441d71e"
       ],
       "layout": "IPY_MODEL_4769b861958d4680be7b2f75e4e2c163"
      }
     },
     "745db73db5734fb7a5e994731c44c9a3": {
      "model_module": "@jupyter-widgets/base",
      "model_module_version": "2.0.0",
      "model_name": "LayoutModel",
      "state": {}
     },
     "74acb6548dc44e12bea8bafd4dd01637": {
      "model_module": "@jupyter-widgets/controls",
      "model_module_version": "2.0.0",
      "model_name": "VBoxModel",
      "state": {
       "children": [
        "IPY_MODEL_e1338984e70d45aa8a378d3aecf54a96"
       ],
       "layout": "IPY_MODEL_2be1e12673084938972fc9db1d497a39"
      }
     },
     "7602c526da98449ab98d290a20a5878d": {
      "model_module": "jupyter-leaflet",
      "model_module_version": "^0.19",
      "model_name": "LeafletMapModel",
      "state": {
       "_model_module_version": "^0.19",
       "_view_module_version": "^0.19",
       "center": [
        52.214338608258224,
        360.17578125
       ],
       "controls": [
        "IPY_MODEL_09bfef52039b45e19bc5f1777addba45",
        "IPY_MODEL_2daf72b3ae9344aa84e3a53e764feb40",
        "IPY_MODEL_edeca56591944bbc9489eed9f6883dde"
       ],
       "default_style": "IPY_MODEL_9173ab8ee82445ebb65418f249693380",
       "dragging_style": "IPY_MODEL_40da8aafcf7144248a5774c79910597c",
       "east": null,
       "fullscreen": false,
       "interpolation": "bilinear",
       "layers": [
        "IPY_MODEL_3eda746579584813b2c9686bec000a59",
        "IPY_MODEL_8a76eafacdfb41f89e36d70041e7ac2e"
       ],
       "layout": "IPY_MODEL_6b42863656ab44c499ca99555ec00db1",
       "modisdate": "2025-04-05",
       "north": -90,
       "options": [
        "bounce_at_zoom_limits",
        "box_zoom",
        "center",
        "close_popup_on_click",
        "double_click_zoom",
        "dragging",
        "fullscreen",
        "inertia",
        "inertia_deceleration",
        "inertia_max_speed",
        "interpolation",
        "keyboard",
        "keyboard_pan_offset",
        "keyboard_zoom_offset",
        "max_zoom",
        "min_zoom",
        "prefer_canvas",
        "scroll_wheel_zoom",
        "tap",
        "tap_tolerance",
        "touch_zoom",
        "world_copy_jump",
        "zoom",
        "zoom_animation_threshold",
        "zoom_delta",
        "zoom_snap"
       ],
       "prefer_canvas": false,
       "south": 90,
       "style": "IPY_MODEL_9173ab8ee82445ebb65418f249693380",
       "west": null,
       "window_url": "http://localhost:2071/lab/tree/nb_llm/pyvue/examples/vleaflet/layers/ImageOverly.ipynb",
       "zoom": 4
      }
     },
     "760e2f00438f44229ee526c7d2d6a1e3": {
      "model_module": "@jupyter-widgets/controls",
      "model_module_version": "2.0.0",
      "model_name": "VBoxModel",
      "state": {
       "children": [
        "IPY_MODEL_f78cf078895848639cf1ddd254c58184"
       ],
       "layout": "IPY_MODEL_4cfbbc130e464b07871b78d9e7167112"
      }
     },
     "768e08b3d6a64f7181edbc50247b749f": {
      "model_module": "@jupyter-widgets/base",
      "model_module_version": "2.0.0",
      "model_name": "LayoutModel",
      "state": {}
     },
     "77191f27bd354d5d974b6996a0aed026": {
      "model_module": "anywidget",
      "model_module_version": "~0.9.*",
      "model_name": "AnyModel",
      "state": {
       "_anywidget_id": "ipywui.widgets.custom.message.MessageWidget",
       "_css": ".wui-message-root {\n    display: flex;\n    position: absolute;\n    left: 0;\n    right: 0;\n    top: 0;\n}\n\n.wui-message-container {\n    align-items: center;\n    display: flex;\n    flex-direction: column-reverse;\n    justify-content: center;\n    min-height: 100%;\n    outline: none;\n    width: 100%;\n\n    -webkit-tap-highlight-color: rgba(0,0,0,0);\n    bottom: 0;\n    left: 0;\n    right: 0;\n    top: 0;\n}\n\n.wui-message--success {\n    --wui-message-bg-color: #f0f9eb;\n    --wui-message-border-color: #e1f3d8;\n    --wui-message-text-color: #67c23a;\n}\n.wui-message--warning {\n    --wui-message-bg-color: #fdf6ec;\n    --wui-message-border-color: #faecd8;\n    --wui-message-text-color: #e6a23c;\n}\n.wui-message--info {\n    --wui-message-bg-color: #f4f4f5;\n    --wui-message-border-color: #e9e9eb;\n    --wui-message-text-color: #909399;\n}\n.wui-message--error {\n    --wui-message-bg-color: #fef0f0;\n    --wui-message-border-color: #fde2e2;\n    --wui-message-text-color: #f56c6c;\n}\n\n@keyframes msg-open {\n    0% {\n        opacity: 0;\n        -webkit-transform: translateY(-120%);\n        transform: translateY(-120%)\n    }\n    to {\n        -webkit-transform: translateY(0);\n        transform: translateY(0)\n    }\n}\n\n@keyframes msg-close {\n    0% {\n        opacity: 1;\n        -webkit-transform: scale(1);\n        transform: scale(1)\n    }\n    to {\n        opacity: 0;\n        -webkit-transform: scale(.9);\n        transform: scale(.9)\n    }\n}\n.wui-message[data-state=entered],.wui-message[data-state=entering] {\n    -webkit-animation: msg-open .24s cubic-bezier(.175,.885,.32,1.175) both;\n    animation: msg-open .24s cubic-bezier(.175,.885,.32,1.175) both\n}\n\n.wui-message[data-state=exiting] {\n    -webkit-animation: msg-close .12s cubic-bezier(.4,0,1,1) both;\n    animation: msg-close .12s cubic-bezier(.4,0,1,1) both\n}\n\n.wui-message {\n    width: -webkit-fit-content;\n    width: -moz-fit-content;\n    width: fit-content;\n    z-index: 2004;\n    max-width: calc(100% - 32px);\n    margin-top: 8px;\n    box-sizing: border-box;\n    /*border-radius: var(--wui-border-radius-base);*/\n    /*border-width: var(--wui-border-width);*/\n    /*border-style: var(--wui-border-style);*/\n    border-color: var(--wui-message-border-color);\n    /*left: 50%;*/\n    /*top: 20px;*/\n    /*transform: translateX(-50%);*/\n    background-color: var(--wui-message-bg-color);\n    /*transition: opacity var(--wui-transition-duration),transform .4s,top .4s;*/\n    /*padding: var(--wui-message-padding);*/\n    display: flex;\n    align-items: center;\n}\n\n/*.wui-message--success */\n.wui-message__content {\n    color: var(--wui-message-text-color);\n    font-size: 14px;\n    line-height: 18px;\n    margin: 10px 14px 10px 14px;\n    overflow-wrap: break-word;\n}\n\n.wui-message__closeBtn {\n    /*cursor: pointer;*/\n    font-style: normal;\n    /*color: gray;*/\n    padding-right: 14px;\n    /*font-size: 13px;*/\n    user-select: none;\n\n    background: transparent;\n    border: none;\n    color: gray;\n    cursor: pointer;\n    font-size: 13px;\n    font-weight: 400;\n    line-height: 1;\n    outline: none;\n    /*padding: 4px;*/\n    text-align: center;\n    transition: opacity .3s;\n    /*width: 100%;*/\n}",
       "_esm": "function closeMsg(msgDom) {\n  if (!msgDom) {\n    return;\n  }\n  msgDom.setAttribute('data-state', 'exiting');\n  msgDom.remove();\n}\n\nfunction createMsg(options) {\n  const {message, msg_id, type = 'info', show_close = false} = options;\n  const msgDom = document.createElement('div');\n  msgDom.className += ` wui-message--${type} wui-message`;\n  msgDom.setAttribute('data-state', 'entered');\n  msgDom.setAttribute('id', msg_id);\n  const msgContent = document.createElement('p');\n  msgContent.className += ` wui-message--${type} wui-message__content`;\n  msgContent.innerText = message;\n  msgDom.appendChild(msgContent);\n  if (show_close) {\n    const closeBtn = document.createElement('i');\n    closeBtn.className += 'wui-message__closeBtn';\n    closeBtn.innerText = 'x';\n    closeBtn.addEventListener('click', (ev) => {\n      closeMsg(msgDom);\n    })\n    msgDom.appendChild(closeBtn);\n  }\n  return msgDom;\n}\n\nexport async function render(view) {\n  let model = view.model;\n  const msgRoot = view.el;\n  msgRoot.className += ' wui-message-root'\n\n  const msgContainer = document.createElement('div');\n  msgContainer.className += ' wui-message-container';\n  msgRoot.appendChild(msgContainer)\n\n  model.on(\"change:message_options\", () => {\n    const options = model.get(\"message_options\");\n    const msg = createMsg(options);\n    msgContainer.appendChild(msg);\n    const {duration = 3000} = options;\n    if (duration > 0) {\n      setTimeout(() => {\n        closeMsg(msg)\n      }, duration);\n    }\n  })\n\n  model.on(\"change:close_msg_id\", () => {\n    const msg_id = model.get(\"close_msg_id\");\n    const msgDom = document.getElementById(msg_id);\n    closeMsg(msgDom);\n  })\n}\n",
       "_model_module": "anywidget",
       "_model_module_version": "~0.9.*",
       "_model_name": "AnyModel",
       "_view_module": "anywidget",
       "_view_module_version": "~0.9.*",
       "_view_name": "AnyView",
       "close_msg_id": "",
       "layout": "IPY_MODEL_61c4646734b04aecaa54f7a3fb5aa4a1",
       "message_options": {
        "duration": 3000,
        "message": "",
        "show_close": false,
        "type": "info"
       }
      }
     },
     "77ea16507ae94b1499ec707f62f61b1f": {
      "model_module": "jupyter-leaflet",
      "model_module_version": "^0.19",
      "model_name": "LeafletMapStyleModel",
      "state": {
       "_model_module_version": "^0.19"
      }
     },
     "78f556cd4863424f8620d1e6302440cc": {
      "model_module": "@jupyter-widgets/base",
      "model_module_version": "2.0.0",
      "model_name": "LayoutModel",
      "state": {}
     },
     "7929e8ff179b4b81bca1a163dfb46491": {
      "model_module": "@jupyter-widgets/controls",
      "model_module_version": "2.0.0",
      "model_name": "VBoxModel",
      "state": {
       "children": [
        "IPY_MODEL_440f1930352042b09632ecd2ef81ca1e"
       ],
       "layout": "IPY_MODEL_a0780fa25d0541a884b47542a552aa54"
      }
     },
     "79e12419cd3742599678363d3c262565": {
      "model_module": "jupyter-leaflet",
      "model_module_version": "^0.19",
      "model_name": "LeafletMapStyleModel",
      "state": {
       "_model_module_version": "^0.19"
      }
     },
     "7a806aadc24b4467a0cba630b98dc7b2": {
      "model_module": "@jupyter-widgets/base",
      "model_module_version": "2.0.0",
      "model_name": "LayoutModel",
      "state": {}
     },
     "7b3f288d86a448b8ae0d91e3f441d71e": {
      "model_module": "jupyter-leaflet",
      "model_module_version": "^0.19",
      "model_name": "LeafletMapModel",
      "state": {
       "_model_module_version": "^0.19",
       "_view_module_version": "^0.19",
       "bottom": 1954,
       "center": [
        25,
        -115
       ],
       "controls": [
        "IPY_MODEL_685f0ddfaa1d486194e180f3d5028a6b",
        "IPY_MODEL_71cef7f09ce44af6aab653c5bfa1fefc",
        "IPY_MODEL_f3f5432598884e0a8344faf5e3bfe335"
       ],
       "default_style": "IPY_MODEL_f9323407a7694da081caeeb9f86583fa",
       "dragging_style": "IPY_MODEL_2e14c25dcd79452980d8ac2b1a3a047c",
       "east": -64.68750000000001,
       "fullscreen": false,
       "interpolation": "bilinear",
       "layers": [
        "IPY_MODEL_5afd08490127416088ac83c46135e1f9",
        "IPY_MODEL_1d0231c5b39143769b96db3d47ecbfef"
       ],
       "layout": "IPY_MODEL_39d6556c06784a349cb0b169d5e29692",
       "left": 167,
       "modisdate": "2025-04-05",
       "north": 39.774769485295465,
       "options": [
        "bounce_at_zoom_limits",
        "box_zoom",
        "center",
        "close_popup_on_click",
        "double_click_zoom",
        "dragging",
        "fullscreen",
        "inertia",
        "inertia_deceleration",
        "inertia_max_speed",
        "interpolation",
        "keyboard",
        "keyboard_pan_offset",
        "keyboard_zoom_offset",
        "max_zoom",
        "min_zoom",
        "prefer_canvas",
        "scroll_wheel_zoom",
        "tap",
        "tap_tolerance",
        "touch_zoom",
        "world_copy_jump",
        "zoom",
        "zoom_animation_threshold",
        "zoom_delta",
        "zoom_snap"
       ],
       "prefer_canvas": false,
       "right": 1312,
       "south": 8.233237111274565,
       "style": "IPY_MODEL_ce59dd0c334141f5858673394b5de051",
       "top": 1554,
       "west": -165.32226562500003,
       "window_url": "http://localhost:2071/lab/tree/nb_llm/pyvue/examples/vleaflet/layers/ImageOverly.ipynb",
       "zoom": 4
      }
     },
     "7b7cb57d258c43f89680c1391ad898a2": {
      "model_module": "@jupyter-widgets/base",
      "model_module_version": "2.0.0",
      "model_name": "LayoutModel",
      "state": {}
     },
     "7c07e49fa89b4bd8b68352c7e6fd7a9e": {
      "model_module": "jupyter-leaflet",
      "model_module_version": "^0.19",
      "model_name": "LeafletMapStyleModel",
      "state": {
       "_model_module_version": "^0.19",
       "cursor": "move"
      }
     },
     "7c9748b06d264e148ff3facfd7d441e8": {
      "model_module": "anywidget",
      "model_module_version": "~0.9.*",
      "model_name": "AnyModel",
      "state": {
       "_anywidget_id": "ipywui.widgets.custom.message.MessageWidget",
       "_css": ".wui-message-root {\n    display: flex;\n    position: absolute;\n    left: 0;\n    right: 0;\n    top: 0;\n}\n\n.wui-message-container {\n    align-items: center;\n    display: flex;\n    flex-direction: column-reverse;\n    justify-content: center;\n    min-height: 100%;\n    outline: none;\n    width: 100%;\n\n    -webkit-tap-highlight-color: rgba(0,0,0,0);\n    bottom: 0;\n    left: 0;\n    right: 0;\n    top: 0;\n}\n\n.wui-message--success {\n    --wui-message-bg-color: #f0f9eb;\n    --wui-message-border-color: #e1f3d8;\n    --wui-message-text-color: #67c23a;\n}\n.wui-message--warning {\n    --wui-message-bg-color: #fdf6ec;\n    --wui-message-border-color: #faecd8;\n    --wui-message-text-color: #e6a23c;\n}\n.wui-message--info {\n    --wui-message-bg-color: #f4f4f5;\n    --wui-message-border-color: #e9e9eb;\n    --wui-message-text-color: #909399;\n}\n.wui-message--error {\n    --wui-message-bg-color: #fef0f0;\n    --wui-message-border-color: #fde2e2;\n    --wui-message-text-color: #f56c6c;\n}\n\n@keyframes msg-open {\n    0% {\n        opacity: 0;\n        -webkit-transform: translateY(-120%);\n        transform: translateY(-120%)\n    }\n    to {\n        -webkit-transform: translateY(0);\n        transform: translateY(0)\n    }\n}\n\n@keyframes msg-close {\n    0% {\n        opacity: 1;\n        -webkit-transform: scale(1);\n        transform: scale(1)\n    }\n    to {\n        opacity: 0;\n        -webkit-transform: scale(.9);\n        transform: scale(.9)\n    }\n}\n.wui-message[data-state=entered],.wui-message[data-state=entering] {\n    -webkit-animation: msg-open .24s cubic-bezier(.175,.885,.32,1.175) both;\n    animation: msg-open .24s cubic-bezier(.175,.885,.32,1.175) both\n}\n\n.wui-message[data-state=exiting] {\n    -webkit-animation: msg-close .12s cubic-bezier(.4,0,1,1) both;\n    animation: msg-close .12s cubic-bezier(.4,0,1,1) both\n}\n\n.wui-message {\n    width: -webkit-fit-content;\n    width: -moz-fit-content;\n    width: fit-content;\n    z-index: 2004;\n    max-width: calc(100% - 32px);\n    margin-top: 8px;\n    box-sizing: border-box;\n    /*border-radius: var(--wui-border-radius-base);*/\n    /*border-width: var(--wui-border-width);*/\n    /*border-style: var(--wui-border-style);*/\n    border-color: var(--wui-message-border-color);\n    /*left: 50%;*/\n    /*top: 20px;*/\n    /*transform: translateX(-50%);*/\n    background-color: var(--wui-message-bg-color);\n    /*transition: opacity var(--wui-transition-duration),transform .4s,top .4s;*/\n    /*padding: var(--wui-message-padding);*/\n    display: flex;\n    align-items: center;\n}\n\n/*.wui-message--success */\n.wui-message__content {\n    color: var(--wui-message-text-color);\n    font-size: 14px;\n    line-height: 18px;\n    margin: 10px 14px 10px 14px;\n    overflow-wrap: break-word;\n}\n\n.wui-message__closeBtn {\n    /*cursor: pointer;*/\n    font-style: normal;\n    /*color: gray;*/\n    padding-right: 14px;\n    /*font-size: 13px;*/\n    user-select: none;\n\n    background: transparent;\n    border: none;\n    color: gray;\n    cursor: pointer;\n    font-size: 13px;\n    font-weight: 400;\n    line-height: 1;\n    outline: none;\n    /*padding: 4px;*/\n    text-align: center;\n    transition: opacity .3s;\n    /*width: 100%;*/\n}",
       "_esm": "function closeMsg(msgDom) {\n  if (!msgDom) {\n    return;\n  }\n  msgDom.setAttribute('data-state', 'exiting');\n  msgDom.remove();\n}\n\nfunction createMsg(options) {\n  const {message, msg_id, type = 'info', show_close = false} = options;\n  const msgDom = document.createElement('div');\n  msgDom.className += ` wui-message--${type} wui-message`;\n  msgDom.setAttribute('data-state', 'entered');\n  msgDom.setAttribute('id', msg_id);\n  const msgContent = document.createElement('p');\n  msgContent.className += ` wui-message--${type} wui-message__content`;\n  msgContent.innerText = message;\n  msgDom.appendChild(msgContent);\n  if (show_close) {\n    const closeBtn = document.createElement('i');\n    closeBtn.className += 'wui-message__closeBtn';\n    closeBtn.innerText = 'x';\n    closeBtn.addEventListener('click', (ev) => {\n      closeMsg(msgDom);\n    })\n    msgDom.appendChild(closeBtn);\n  }\n  return msgDom;\n}\n\nexport async function render(view) {\n  let model = view.model;\n  const msgRoot = view.el;\n  msgRoot.className += ' wui-message-root'\n\n  const msgContainer = document.createElement('div');\n  msgContainer.className += ' wui-message-container';\n  msgRoot.appendChild(msgContainer)\n\n  model.on(\"change:message_options\", () => {\n    const options = model.get(\"message_options\");\n    const msg = createMsg(options);\n    msgContainer.appendChild(msg);\n    const {duration = 3000} = options;\n    if (duration > 0) {\n      setTimeout(() => {\n        closeMsg(msg)\n      }, duration);\n    }\n  })\n\n  model.on(\"change:close_msg_id\", () => {\n    const msg_id = model.get(\"close_msg_id\");\n    const msgDom = document.getElementById(msg_id);\n    closeMsg(msgDom);\n  })\n}\n",
       "_model_module": "anywidget",
       "_model_module_version": "~0.9.*",
       "_model_name": "AnyModel",
       "_view_module": "anywidget",
       "_view_module_version": "~0.9.*",
       "_view_name": "AnyView",
       "close_msg_id": "",
       "layout": "IPY_MODEL_2dbf945069a741fbb67940586e099bd1",
       "message_options": {
        "duration": 3000,
        "message": "",
        "show_close": false,
        "type": "info"
       }
      }
     },
     "7d7ba98edd144b3cabda97f7efd8c896": {
      "model_module": "@jupyter-widgets/controls",
      "model_module_version": "2.0.0",
      "model_name": "VBoxModel",
      "state": {
       "children": [
        "IPY_MODEL_3f71f4d81a234f4f92ca7b98560b6211"
       ],
       "layout": "IPY_MODEL_2a978a30152044e5b1cde817f85d76f9"
      }
     },
     "7e800565070f4a758d21def0b8c5e83a": {
      "model_module": "@jupyter-widgets/controls",
      "model_module_version": "2.0.0",
      "model_name": "VBoxModel",
      "state": {
       "children": [
        "IPY_MODEL_b0a78c05f30b403ba043f7aa65351e49"
       ],
       "layout": "IPY_MODEL_4d9714e8a7954f20afe7e624ef1aaace"
      }
     },
     "7eff25f6cde14a5cae16f8fa200015f6": {
      "model_module": "jupyter-leaflet",
      "model_module_version": "^0.19",
      "model_name": "LeafletLayersControlModel",
      "state": {
       "_model_module_version": "^0.19",
       "_view_module_version": "^0.19",
       "collapsed": false,
       "options": [
        "collapsed",
        "position"
       ]
      }
     },
     "7ff504d451f844a38b6faaed6ab12b1a": {
      "model_module": "jupyter-leaflet",
      "model_module_version": "^0.19",
      "model_name": "LeafletTileLayerModel",
      "state": {
       "_model_module_version": "^0.19",
       "_view_module_version": "^0.19",
       "attribution": "&copy; <a href=\"https://www.openstreetmap.org/copyright\">OpenStreetMap</a> contributors",
       "base": true,
       "max_zoom": 19,
       "min_zoom": 1,
       "name": "OpenStreetMap.Mapnik",
       "options": [
        "attribution",
        "bounds",
        "detect_retina",
        "max_native_zoom",
        "max_zoom",
        "min_native_zoom",
        "min_zoom",
        "no_wrap",
        "tile_size",
        "tms",
        "zoom_offset"
       ],
       "url": "https://tile.openstreetmap.org/{z}/{x}/{y}.png"
      }
     },
     "80359d66de0941858b1a4e49d4747e12": {
      "model_module": "jupyter-leaflet",
      "model_module_version": "^0.19",
      "model_name": "LeafletMapModel",
      "state": {
       "_model_module_version": "^0.19",
       "_view_module_version": "^0.19",
       "center": [
        52.20424032262008,
        360.12084960937506
       ],
       "controls": [
        "IPY_MODEL_9214f594da0d462b9532cdba24e85d9e",
        "IPY_MODEL_ad3a362616824f8e9ed9696654abe340",
        "IPY_MODEL_5f5824884fb4435d861f8231b360cf49"
       ],
       "default_style": "IPY_MODEL_c9732367a15d4a818653c8cd00df672c",
       "dragging_style": "IPY_MODEL_961d78f103f84a349fb9f89ad950557f",
       "east": null,
       "fullscreen": false,
       "interpolation": "bilinear",
       "layers": [
        "IPY_MODEL_96860123585e4719af68581fa90f17b3",
        "IPY_MODEL_5f45f2d991ed49159ff16432a98a805f"
       ],
       "layout": "IPY_MODEL_09ca81cf95aa4a688e1b9b28bfcf5207",
       "modisdate": "2025-04-05",
       "north": -90,
       "options": [
        "bounce_at_zoom_limits",
        "box_zoom",
        "center",
        "close_popup_on_click",
        "double_click_zoom",
        "dragging",
        "fullscreen",
        "inertia",
        "inertia_deceleration",
        "inertia_max_speed",
        "interpolation",
        "keyboard",
        "keyboard_pan_offset",
        "keyboard_zoom_offset",
        "max_zoom",
        "min_zoom",
        "prefer_canvas",
        "scroll_wheel_zoom",
        "tap",
        "tap_tolerance",
        "touch_zoom",
        "world_copy_jump",
        "zoom",
        "zoom_animation_threshold",
        "zoom_delta",
        "zoom_snap"
       ],
       "prefer_canvas": false,
       "south": 90,
       "style": "IPY_MODEL_c9732367a15d4a818653c8cd00df672c",
       "west": null,
       "window_url": "http://localhost:2071/lab/tree/nb_llm/pyvue/examples/vleaflet/layers/ImageOverly.ipynb",
       "zoom": 8
      }
     },
     "808bb2ce826743e7a0ef31f66cabb8ae": {
      "model_module": "jupyter-leaflet",
      "model_module_version": "^0.19",
      "model_name": "LeafletImageOverlayModel",
      "state": {
       "_model_module_version": "^0.19",
       "_view_module_version": "^0.19",
       "bounds": [
        [
         13,
         -130
        ],
        [
         32,
         -100
        ]
       ],
       "name": "image",
       "options": [
        "attribution"
       ],
       "url": "://www.vuepy.org/images/vuepy-logo.svg"
      }
     },
     "81da813005444be5a421f444d17554e6": {
      "model_module": "jupyter-leaflet",
      "model_module_version": "^0.19",
      "model_name": "LeafletImageOverlayModel",
      "state": {
       "_model_module_version": "^0.19",
       "_view_module_version": "^0.19",
       "bounds": [
        [
         13,
         -130
        ],
        [
         32,
         -100
        ]
       ],
       "name": "video",
       "options": [
        "attribution"
       ],
       "url": "https://www.mapbox.com/bites/00188/patricia_nasa.webm"
      }
     },
     "81e9f6a09c0a4d2d8fda25c4c0ca9db8": {
      "model_module": "@jupyter-widgets/base",
      "model_module_version": "2.0.0",
      "model_name": "LayoutModel",
      "state": {}
     },
     "823863e57a654fc58eb460c534aa3bf3": {
      "model_module": "jupyter-leaflet",
      "model_module_version": "^0.19",
      "model_name": "LeafletMapStyleModel",
      "state": {
       "_model_module_version": "^0.19"
      }
     },
     "82d44e88e29c4f7e952db57c947fdd22": {
      "model_module": "@jupyter-widgets/base",
      "model_module_version": "2.0.0",
      "model_name": "LayoutModel",
      "state": {}
     },
     "85342f51816b4c2d86684e5d30856be0": {
      "model_module": "jupyter-leaflet",
      "model_module_version": "^0.19",
      "model_name": "LeafletZoomControlModel",
      "state": {
       "_model_module_version": "^0.19",
       "_view_module_version": "^0.19",
       "options": [
        "position",
        "zoom_in_text",
        "zoom_in_title",
        "zoom_out_text",
        "zoom_out_title"
       ]
      }
     },
     "85384003b98642e1b512f0631dadc6d8": {
      "model_module": "jupyter-leaflet",
      "model_module_version": "^0.19",
      "model_name": "LeafletMapStyleModel",
      "state": {
       "_model_module_version": "^0.19"
      }
     },
     "8632b7b196324233824a5cfe766507d8": {
      "model_module": "@jupyter-widgets/controls",
      "model_module_version": "2.0.0",
      "model_name": "VBoxModel",
      "state": {
       "children": [
        "IPY_MODEL_c6652093b92b4498a3484e6aa13cea71"
       ],
       "layout": "IPY_MODEL_04a9388991a64f7cb2275431d17ef31c"
      }
     },
     "867c87bcad324f7ca876732c0ba65e2e": {
      "model_module": "@jupyter-widgets/controls",
      "model_module_version": "2.0.0",
      "model_name": "VBoxModel",
      "state": {
       "children": [
        "IPY_MODEL_32c1bc832f7246679b59f5a32ea54745"
       ],
       "layout": "IPY_MODEL_f4df98a4856d4b65a929c7766418d2da"
      }
     },
     "86cb368ba7a14586a05146e3d9617bf3": {
      "model_module": "@jupyter-widgets/controls",
      "model_module_version": "2.0.0",
      "model_name": "VBoxModel",
      "state": {
       "children": [
        "IPY_MODEL_e4bfc1b5f8f6412181a15bce510a4979"
       ],
       "layout": "IPY_MODEL_57dbc1ccedd64367a7049bd22601ef88"
      }
     },
     "87387a9d2b3e4a3697e8301b08290ad4": {
      "model_module": "@jupyter-widgets/base",
      "model_module_version": "2.0.0",
      "model_name": "LayoutModel",
      "state": {}
     },
     "88d3807ac8d143a284e4d6596acf75ec": {
      "model_module": "@jupyter-widgets/controls",
      "model_module_version": "2.0.0",
      "model_name": "VBoxModel",
      "state": {
       "children": [
        "IPY_MODEL_2606bee933a04b40b625bff71bc01668",
        "IPY_MODEL_d717b5463e2441ea96f05bf563ffbd87"
       ],
       "layout": "IPY_MODEL_9f3a53a97225431e8c289499120be985"
      }
     },
     "88fe1b9c33a347d79975caf293359b98": {
      "model_module": "@jupyter-widgets/base",
      "model_module_version": "2.0.0",
      "model_name": "LayoutModel",
      "state": {}
     },
     "89f0b81dcc2a4559b432899a8769b249": {
      "model_module": "anywidget",
      "model_module_version": "~0.9.*",
      "model_name": "AnyModel",
      "state": {
       "_anywidget_id": "ipywui.widgets.custom.message.MessageWidget",
       "_css": ".wui-message-root {\n    display: flex;\n    position: absolute;\n    left: 0;\n    right: 0;\n    top: 0;\n}\n\n.wui-message-container {\n    align-items: center;\n    display: flex;\n    flex-direction: column-reverse;\n    justify-content: center;\n    min-height: 100%;\n    outline: none;\n    width: 100%;\n\n    -webkit-tap-highlight-color: rgba(0,0,0,0);\n    bottom: 0;\n    left: 0;\n    right: 0;\n    top: 0;\n}\n\n.wui-message--success {\n    --wui-message-bg-color: #f0f9eb;\n    --wui-message-border-color: #e1f3d8;\n    --wui-message-text-color: #67c23a;\n}\n.wui-message--warning {\n    --wui-message-bg-color: #fdf6ec;\n    --wui-message-border-color: #faecd8;\n    --wui-message-text-color: #e6a23c;\n}\n.wui-message--info {\n    --wui-message-bg-color: #f4f4f5;\n    --wui-message-border-color: #e9e9eb;\n    --wui-message-text-color: #909399;\n}\n.wui-message--error {\n    --wui-message-bg-color: #fef0f0;\n    --wui-message-border-color: #fde2e2;\n    --wui-message-text-color: #f56c6c;\n}\n\n@keyframes msg-open {\n    0% {\n        opacity: 0;\n        -webkit-transform: translateY(-120%);\n        transform: translateY(-120%)\n    }\n    to {\n        -webkit-transform: translateY(0);\n        transform: translateY(0)\n    }\n}\n\n@keyframes msg-close {\n    0% {\n        opacity: 1;\n        -webkit-transform: scale(1);\n        transform: scale(1)\n    }\n    to {\n        opacity: 0;\n        -webkit-transform: scale(.9);\n        transform: scale(.9)\n    }\n}\n.wui-message[data-state=entered],.wui-message[data-state=entering] {\n    -webkit-animation: msg-open .24s cubic-bezier(.175,.885,.32,1.175) both;\n    animation: msg-open .24s cubic-bezier(.175,.885,.32,1.175) both\n}\n\n.wui-message[data-state=exiting] {\n    -webkit-animation: msg-close .12s cubic-bezier(.4,0,1,1) both;\n    animation: msg-close .12s cubic-bezier(.4,0,1,1) both\n}\n\n.wui-message {\n    width: -webkit-fit-content;\n    width: -moz-fit-content;\n    width: fit-content;\n    z-index: 2004;\n    max-width: calc(100% - 32px);\n    margin-top: 8px;\n    box-sizing: border-box;\n    /*border-radius: var(--wui-border-radius-base);*/\n    /*border-width: var(--wui-border-width);*/\n    /*border-style: var(--wui-border-style);*/\n    border-color: var(--wui-message-border-color);\n    /*left: 50%;*/\n    /*top: 20px;*/\n    /*transform: translateX(-50%);*/\n    background-color: var(--wui-message-bg-color);\n    /*transition: opacity var(--wui-transition-duration),transform .4s,top .4s;*/\n    /*padding: var(--wui-message-padding);*/\n    display: flex;\n    align-items: center;\n}\n\n/*.wui-message--success */\n.wui-message__content {\n    color: var(--wui-message-text-color);\n    font-size: 14px;\n    line-height: 18px;\n    margin: 10px 14px 10px 14px;\n    overflow-wrap: break-word;\n}\n\n.wui-message__closeBtn {\n    /*cursor: pointer;*/\n    font-style: normal;\n    /*color: gray;*/\n    padding-right: 14px;\n    /*font-size: 13px;*/\n    user-select: none;\n\n    background: transparent;\n    border: none;\n    color: gray;\n    cursor: pointer;\n    font-size: 13px;\n    font-weight: 400;\n    line-height: 1;\n    outline: none;\n    /*padding: 4px;*/\n    text-align: center;\n    transition: opacity .3s;\n    /*width: 100%;*/\n}",
       "_esm": "function closeMsg(msgDom) {\n  if (!msgDom) {\n    return;\n  }\n  msgDom.setAttribute('data-state', 'exiting');\n  msgDom.remove();\n}\n\nfunction createMsg(options) {\n  const {message, msg_id, type = 'info', show_close = false} = options;\n  const msgDom = document.createElement('div');\n  msgDom.className += ` wui-message--${type} wui-message`;\n  msgDom.setAttribute('data-state', 'entered');\n  msgDom.setAttribute('id', msg_id);\n  const msgContent = document.createElement('p');\n  msgContent.className += ` wui-message--${type} wui-message__content`;\n  msgContent.innerText = message;\n  msgDom.appendChild(msgContent);\n  if (show_close) {\n    const closeBtn = document.createElement('i');\n    closeBtn.className += 'wui-message__closeBtn';\n    closeBtn.innerText = 'x';\n    closeBtn.addEventListener('click', (ev) => {\n      closeMsg(msgDom);\n    })\n    msgDom.appendChild(closeBtn);\n  }\n  return msgDom;\n}\n\nexport async function render(view) {\n  let model = view.model;\n  const msgRoot = view.el;\n  msgRoot.className += ' wui-message-root'\n\n  const msgContainer = document.createElement('div');\n  msgContainer.className += ' wui-message-container';\n  msgRoot.appendChild(msgContainer)\n\n  model.on(\"change:message_options\", () => {\n    const options = model.get(\"message_options\");\n    const msg = createMsg(options);\n    msgContainer.appendChild(msg);\n    const {duration = 3000} = options;\n    if (duration > 0) {\n      setTimeout(() => {\n        closeMsg(msg)\n      }, duration);\n    }\n  })\n\n  model.on(\"change:close_msg_id\", () => {\n    const msg_id = model.get(\"close_msg_id\");\n    const msgDom = document.getElementById(msg_id);\n    closeMsg(msgDom);\n  })\n}\n",
       "_model_module": "anywidget",
       "_model_module_version": "~0.9.*",
       "_model_name": "AnyModel",
       "_view_module": "anywidget",
       "_view_module_version": "~0.9.*",
       "_view_name": "AnyView",
       "close_msg_id": "",
       "layout": "IPY_MODEL_53c2ebd69d364b529e458c295496d775",
       "message_options": {
        "duration": 3000,
        "message": "",
        "show_close": false,
        "type": "info"
       }
      }
     },
     "8a4998d277064b4cad0ab5add7c03afd": {
      "model_module": "jupyter-leaflet",
      "model_module_version": "^0.19",
      "model_name": "LeafletImageOverlayModel",
      "state": {
       "_model_module_version": "^0.19",
       "_view_module_version": "^0.19",
       "bounds": [
        [
         13,
         -130
        ],
        [
         32,
         -100
        ]
       ],
       "name": "image",
       "options": [
        "attribution"
       ],
       "url": "https://www.vuepy.org/images/vuepy-logo.svg"
      }
     },
     "8a4e4178075440e18b3259545fed15a3": {
      "model_module": "jupyter-leaflet",
      "model_module_version": "^0.19",
      "model_name": "LeafletTileLayerModel",
      "state": {
       "_model_module_version": "^0.19",
       "_view_module_version": "^0.19",
       "attribution": "&copy; <a href=\"https://www.openstreetmap.org/copyright\">OpenStreetMap</a> contributors",
       "base": true,
       "max_zoom": 19,
       "min_zoom": 1,
       "name": "OpenStreetMap.Mapnik",
       "options": [
        "attribution",
        "bounds",
        "detect_retina",
        "max_native_zoom",
        "max_zoom",
        "min_native_zoom",
        "min_zoom",
        "no_wrap",
        "tile_size",
        "tms",
        "zoom_offset"
       ],
       "url": "https://tile.openstreetmap.org/{z}/{x}/{y}.png"
      }
     },
     "8a76eafacdfb41f89e36d70041e7ac2e": {
      "model_module": "jupyter-leaflet",
      "model_module_version": "^0.19",
      "model_name": "LeafletImageOverlayModel",
      "state": {
       "_model_module_version": "^0.19",
       "_view_module_version": "^0.19",
       "bounds": [
        [
         13,
         -130
        ],
        [
         32,
         -100
        ]
       ],
       "name": "image",
       "options": [
        "attribution"
       ],
       "url": "https://www.vuepy.org/images/vuepy-logo.svg"
      }
     },
     "8b3e5abbb2d04f8ea7694c8e6ff84007": {
      "model_module": "jupyter-leaflet",
      "model_module_version": "^0.19",
      "model_name": "LeafletMapStyleModel",
      "state": {
       "_model_module_version": "^0.19"
      }
     },
     "8bfd9c52ba614dc3897f5161d5ba71e4": {
      "model_module": "@jupyter-widgets/base",
      "model_module_version": "2.0.0",
      "model_name": "LayoutModel",
      "state": {}
     },
     "8c40279e957040ef9d14d4dcb804fd15": {
      "model_module": "@jupyter-widgets/base",
      "model_module_version": "2.0.0",
      "model_name": "LayoutModel",
      "state": {}
     },
     "8cac1848f2174251befbac8051b57342": {
      "model_module": "@jupyter-widgets/controls",
      "model_module_version": "2.0.0",
      "model_name": "VBoxModel",
      "state": {
       "children": [
        "IPY_MODEL_5c109e77c2c74c38988bd02d09e66c21"
       ],
       "layout": "IPY_MODEL_6d5fce0c6d6f4d71911f3576f6bdaea6"
      }
     },
     "8d9fc044f0394bbf815901c3896c3015": {
      "model_module": "@jupyter-widgets/controls",
      "model_module_version": "2.0.0",
      "model_name": "VBoxModel",
      "state": {
       "children": [
        "IPY_MODEL_121f464b00d54cbfb42e0f39848cde9c",
        "IPY_MODEL_3b05fc28a16444fe9b8891d5fb791f70"
       ],
       "layout": "IPY_MODEL_3ef3abc392784dfda606ac398bea01bb"
      }
     },
     "8dda481c23b94a5a9dcd00ac9539c1d7": {
      "model_module": "jupyter-leaflet",
      "model_module_version": "^0.19",
      "model_name": "LeafletTileLayerModel",
      "state": {
       "_model_module_version": "^0.19",
       "_view_module_version": "^0.19",
       "attribution": "&copy; <a href=\"https://www.openstreetmap.org/copyright\">OpenStreetMap</a> contributors",
       "base": true,
       "max_zoom": 19,
       "min_zoom": 1,
       "name": "OpenStreetMap.Mapnik",
       "options": [
        "attribution",
        "bounds",
        "detect_retina",
        "max_native_zoom",
        "max_zoom",
        "min_native_zoom",
        "min_zoom",
        "no_wrap",
        "tile_size",
        "tms",
        "zoom_offset"
       ],
       "url": "https://tile.openstreetmap.org/{z}/{x}/{y}.png"
      }
     },
     "9118a552a8174cc18377caa17318b94e": {
      "model_module": "anywidget",
      "model_module_version": "~0.9.*",
      "model_name": "AnyModel",
      "state": {
       "_anywidget_id": "ipywui.widgets.custom.message.MessageWidget",
       "_css": ".wui-message-root {\n    display: flex;\n    position: absolute;\n    left: 0;\n    right: 0;\n    top: 0;\n}\n\n.wui-message-container {\n    align-items: center;\n    display: flex;\n    flex-direction: column-reverse;\n    justify-content: center;\n    min-height: 100%;\n    outline: none;\n    width: 100%;\n\n    -webkit-tap-highlight-color: rgba(0,0,0,0);\n    bottom: 0;\n    left: 0;\n    right: 0;\n    top: 0;\n}\n\n.wui-message--success {\n    --wui-message-bg-color: #f0f9eb;\n    --wui-message-border-color: #e1f3d8;\n    --wui-message-text-color: #67c23a;\n}\n.wui-message--warning {\n    --wui-message-bg-color: #fdf6ec;\n    --wui-message-border-color: #faecd8;\n    --wui-message-text-color: #e6a23c;\n}\n.wui-message--info {\n    --wui-message-bg-color: #f4f4f5;\n    --wui-message-border-color: #e9e9eb;\n    --wui-message-text-color: #909399;\n}\n.wui-message--error {\n    --wui-message-bg-color: #fef0f0;\n    --wui-message-border-color: #fde2e2;\n    --wui-message-text-color: #f56c6c;\n}\n\n@keyframes msg-open {\n    0% {\n        opacity: 0;\n        -webkit-transform: translateY(-120%);\n        transform: translateY(-120%)\n    }\n    to {\n        -webkit-transform: translateY(0);\n        transform: translateY(0)\n    }\n}\n\n@keyframes msg-close {\n    0% {\n        opacity: 1;\n        -webkit-transform: scale(1);\n        transform: scale(1)\n    }\n    to {\n        opacity: 0;\n        -webkit-transform: scale(.9);\n        transform: scale(.9)\n    }\n}\n.wui-message[data-state=entered],.wui-message[data-state=entering] {\n    -webkit-animation: msg-open .24s cubic-bezier(.175,.885,.32,1.175) both;\n    animation: msg-open .24s cubic-bezier(.175,.885,.32,1.175) both\n}\n\n.wui-message[data-state=exiting] {\n    -webkit-animation: msg-close .12s cubic-bezier(.4,0,1,1) both;\n    animation: msg-close .12s cubic-bezier(.4,0,1,1) both\n}\n\n.wui-message {\n    width: -webkit-fit-content;\n    width: -moz-fit-content;\n    width: fit-content;\n    z-index: 2004;\n    max-width: calc(100% - 32px);\n    margin-top: 8px;\n    box-sizing: border-box;\n    /*border-radius: var(--wui-border-radius-base);*/\n    /*border-width: var(--wui-border-width);*/\n    /*border-style: var(--wui-border-style);*/\n    border-color: var(--wui-message-border-color);\n    /*left: 50%;*/\n    /*top: 20px;*/\n    /*transform: translateX(-50%);*/\n    background-color: var(--wui-message-bg-color);\n    /*transition: opacity var(--wui-transition-duration),transform .4s,top .4s;*/\n    /*padding: var(--wui-message-padding);*/\n    display: flex;\n    align-items: center;\n}\n\n/*.wui-message--success */\n.wui-message__content {\n    color: var(--wui-message-text-color);\n    font-size: 14px;\n    line-height: 18px;\n    margin: 10px 14px 10px 14px;\n    overflow-wrap: break-word;\n}\n\n.wui-message__closeBtn {\n    /*cursor: pointer;*/\n    font-style: normal;\n    /*color: gray;*/\n    padding-right: 14px;\n    /*font-size: 13px;*/\n    user-select: none;\n\n    background: transparent;\n    border: none;\n    color: gray;\n    cursor: pointer;\n    font-size: 13px;\n    font-weight: 400;\n    line-height: 1;\n    outline: none;\n    /*padding: 4px;*/\n    text-align: center;\n    transition: opacity .3s;\n    /*width: 100%;*/\n}",
       "_esm": "function closeMsg(msgDom) {\n  if (!msgDom) {\n    return;\n  }\n  msgDom.setAttribute('data-state', 'exiting');\n  msgDom.remove();\n}\n\nfunction createMsg(options) {\n  const {message, msg_id, type = 'info', show_close = false} = options;\n  const msgDom = document.createElement('div');\n  msgDom.className += ` wui-message--${type} wui-message`;\n  msgDom.setAttribute('data-state', 'entered');\n  msgDom.setAttribute('id', msg_id);\n  const msgContent = document.createElement('p');\n  msgContent.className += ` wui-message--${type} wui-message__content`;\n  msgContent.innerText = message;\n  msgDom.appendChild(msgContent);\n  if (show_close) {\n    const closeBtn = document.createElement('i');\n    closeBtn.className += 'wui-message__closeBtn';\n    closeBtn.innerText = 'x';\n    closeBtn.addEventListener('click', (ev) => {\n      closeMsg(msgDom);\n    })\n    msgDom.appendChild(closeBtn);\n  }\n  return msgDom;\n}\n\nexport async function render(view) {\n  let model = view.model;\n  const msgRoot = view.el;\n  msgRoot.className += ' wui-message-root'\n\n  const msgContainer = document.createElement('div');\n  msgContainer.className += ' wui-message-container';\n  msgRoot.appendChild(msgContainer)\n\n  model.on(\"change:message_options\", () => {\n    const options = model.get(\"message_options\");\n    const msg = createMsg(options);\n    msgContainer.appendChild(msg);\n    const {duration = 3000} = options;\n    if (duration > 0) {\n      setTimeout(() => {\n        closeMsg(msg)\n      }, duration);\n    }\n  })\n\n  model.on(\"change:close_msg_id\", () => {\n    const msg_id = model.get(\"close_msg_id\");\n    const msgDom = document.getElementById(msg_id);\n    closeMsg(msgDom);\n  })\n}\n",
       "_model_module": "anywidget",
       "_model_module_version": "~0.9.*",
       "_model_name": "AnyModel",
       "_view_module": "anywidget",
       "_view_module_version": "~0.9.*",
       "_view_name": "AnyView",
       "close_msg_id": "",
       "layout": "IPY_MODEL_c3108d99e496434f90e31b0e965af93f",
       "message_options": {
        "duration": 3000,
        "message": "",
        "show_close": false,
        "type": "info"
       }
      }
     },
     "9173ab8ee82445ebb65418f249693380": {
      "model_module": "jupyter-leaflet",
      "model_module_version": "^0.19",
      "model_name": "LeafletMapStyleModel",
      "state": {
       "_model_module_version": "^0.19"
      }
     },
     "919d441ce65842278cc0125722d958ab": {
      "model_module": "jupyter-leaflet",
      "model_module_version": "^0.19",
      "model_name": "LeafletMapStyleModel",
      "state": {
       "_model_module_version": "^0.19"
      }
     },
     "91f111b7c4c2472a82af9d9f14328587": {
      "model_module": "@jupyter-widgets/base",
      "model_module_version": "2.0.0",
      "model_name": "LayoutModel",
      "state": {}
     },
     "91f5f50460b14229a50392c3dd60cc28": {
      "model_module": "jupyter-leaflet",
      "model_module_version": "^0.19",
      "model_name": "LeafletAttributionControlModel",
      "state": {
       "_model_module_version": "^0.19",
       "_view_module_version": "^0.19",
       "options": [
        "position",
        "prefix"
       ],
       "position": "bottomright",
       "prefix": "ipyleaflet"
      }
     },
     "9209ef7e05e84a619d5b3c602d341741": {
      "model_module": "jupyter-leaflet",
      "model_module_version": "^0.19",
      "model_name": "LeafletMapStyleModel",
      "state": {
       "_model_module_version": "^0.19",
       "cursor": "move"
      }
     },
     "9214f594da0d462b9532cdba24e85d9e": {
      "model_module": "jupyter-leaflet",
      "model_module_version": "^0.19",
      "model_name": "LeafletZoomControlModel",
      "state": {
       "_model_module_version": "^0.19",
       "_view_module_version": "^0.19",
       "options": [
        "position",
        "zoom_in_text",
        "zoom_in_title",
        "zoom_out_text",
        "zoom_out_title"
       ]
      }
     },
     "92430deed592432882552866d58c295f": {
      "model_module": "@jupyter-widgets/controls",
      "model_module_version": "2.0.0",
      "model_name": "VBoxModel",
      "state": {
       "children": [
        "IPY_MODEL_37671fe8e5c24032971ceb8f2166da75"
       ],
       "layout": "IPY_MODEL_f856cbc075c0466daf85e775d3cd69b1"
      }
     },
     "924aa57af97641708a3857473b3d1ea2": {
      "model_module": "@jupyter-widgets/base",
      "model_module_version": "2.0.0",
      "model_name": "LayoutModel",
      "state": {}
     },
     "926d4107ac1f4834a7ac170b4ed3d684": {
      "model_module": "@jupyter-widgets/base",
      "model_module_version": "2.0.0",
      "model_name": "LayoutModel",
      "state": {}
     },
     "92b13c5f9534464c89aa0202a9c968f3": {
      "model_module": "@jupyter-widgets/base",
      "model_module_version": "2.0.0",
      "model_name": "LayoutModel",
      "state": {}
     },
     "93ac71a6e056461eb2aa6dca92dc7620": {
      "model_module": "@jupyter-widgets/base",
      "model_module_version": "2.0.0",
      "model_name": "LayoutModel",
      "state": {}
     },
     "93b4124b8d2447008ea3c41771dd7c24": {
      "model_module": "anywidget",
      "model_module_version": "~0.9.*",
      "model_name": "AnyModel",
      "state": {
       "_anywidget_id": "ipywui.widgets.custom.message.MessageWidget",
       "_css": ".wui-message-root {\n    display: flex;\n    position: absolute;\n    left: 0;\n    right: 0;\n    top: 0;\n}\n\n.wui-message-container {\n    align-items: center;\n    display: flex;\n    flex-direction: column-reverse;\n    justify-content: center;\n    min-height: 100%;\n    outline: none;\n    width: 100%;\n\n    -webkit-tap-highlight-color: rgba(0,0,0,0);\n    bottom: 0;\n    left: 0;\n    right: 0;\n    top: 0;\n}\n\n.wui-message--success {\n    --wui-message-bg-color: #f0f9eb;\n    --wui-message-border-color: #e1f3d8;\n    --wui-message-text-color: #67c23a;\n}\n.wui-message--warning {\n    --wui-message-bg-color: #fdf6ec;\n    --wui-message-border-color: #faecd8;\n    --wui-message-text-color: #e6a23c;\n}\n.wui-message--info {\n    --wui-message-bg-color: #f4f4f5;\n    --wui-message-border-color: #e9e9eb;\n    --wui-message-text-color: #909399;\n}\n.wui-message--error {\n    --wui-message-bg-color: #fef0f0;\n    --wui-message-border-color: #fde2e2;\n    --wui-message-text-color: #f56c6c;\n}\n\n@keyframes msg-open {\n    0% {\n        opacity: 0;\n        -webkit-transform: translateY(-120%);\n        transform: translateY(-120%)\n    }\n    to {\n        -webkit-transform: translateY(0);\n        transform: translateY(0)\n    }\n}\n\n@keyframes msg-close {\n    0% {\n        opacity: 1;\n        -webkit-transform: scale(1);\n        transform: scale(1)\n    }\n    to {\n        opacity: 0;\n        -webkit-transform: scale(.9);\n        transform: scale(.9)\n    }\n}\n.wui-message[data-state=entered],.wui-message[data-state=entering] {\n    -webkit-animation: msg-open .24s cubic-bezier(.175,.885,.32,1.175) both;\n    animation: msg-open .24s cubic-bezier(.175,.885,.32,1.175) both\n}\n\n.wui-message[data-state=exiting] {\n    -webkit-animation: msg-close .12s cubic-bezier(.4,0,1,1) both;\n    animation: msg-close .12s cubic-bezier(.4,0,1,1) both\n}\n\n.wui-message {\n    width: -webkit-fit-content;\n    width: -moz-fit-content;\n    width: fit-content;\n    z-index: 2004;\n    max-width: calc(100% - 32px);\n    margin-top: 8px;\n    box-sizing: border-box;\n    /*border-radius: var(--wui-border-radius-base);*/\n    /*border-width: var(--wui-border-width);*/\n    /*border-style: var(--wui-border-style);*/\n    border-color: var(--wui-message-border-color);\n    /*left: 50%;*/\n    /*top: 20px;*/\n    /*transform: translateX(-50%);*/\n    background-color: var(--wui-message-bg-color);\n    /*transition: opacity var(--wui-transition-duration),transform .4s,top .4s;*/\n    /*padding: var(--wui-message-padding);*/\n    display: flex;\n    align-items: center;\n}\n\n/*.wui-message--success */\n.wui-message__content {\n    color: var(--wui-message-text-color);\n    font-size: 14px;\n    line-height: 18px;\n    margin: 10px 14px 10px 14px;\n    overflow-wrap: break-word;\n}\n\n.wui-message__closeBtn {\n    /*cursor: pointer;*/\n    font-style: normal;\n    /*color: gray;*/\n    padding-right: 14px;\n    /*font-size: 13px;*/\n    user-select: none;\n\n    background: transparent;\n    border: none;\n    color: gray;\n    cursor: pointer;\n    font-size: 13px;\n    font-weight: 400;\n    line-height: 1;\n    outline: none;\n    /*padding: 4px;*/\n    text-align: center;\n    transition: opacity .3s;\n    /*width: 100%;*/\n}",
       "_esm": "function closeMsg(msgDom) {\n  if (!msgDom) {\n    return;\n  }\n  msgDom.setAttribute('data-state', 'exiting');\n  msgDom.remove();\n}\n\nfunction createMsg(options) {\n  const {message, msg_id, type = 'info', show_close = false} = options;\n  const msgDom = document.createElement('div');\n  msgDom.className += ` wui-message--${type} wui-message`;\n  msgDom.setAttribute('data-state', 'entered');\n  msgDom.setAttribute('id', msg_id);\n  const msgContent = document.createElement('p');\n  msgContent.className += ` wui-message--${type} wui-message__content`;\n  msgContent.innerText = message;\n  msgDom.appendChild(msgContent);\n  if (show_close) {\n    const closeBtn = document.createElement('i');\n    closeBtn.className += 'wui-message__closeBtn';\n    closeBtn.innerText = 'x';\n    closeBtn.addEventListener('click', (ev) => {\n      closeMsg(msgDom);\n    })\n    msgDom.appendChild(closeBtn);\n  }\n  return msgDom;\n}\n\nexport async function render(view) {\n  let model = view.model;\n  const msgRoot = view.el;\n  msgRoot.className += ' wui-message-root'\n\n  const msgContainer = document.createElement('div');\n  msgContainer.className += ' wui-message-container';\n  msgRoot.appendChild(msgContainer)\n\n  model.on(\"change:message_options\", () => {\n    const options = model.get(\"message_options\");\n    const msg = createMsg(options);\n    msgContainer.appendChild(msg);\n    const {duration = 3000} = options;\n    if (duration > 0) {\n      setTimeout(() => {\n        closeMsg(msg)\n      }, duration);\n    }\n  })\n\n  model.on(\"change:close_msg_id\", () => {\n    const msg_id = model.get(\"close_msg_id\");\n    const msgDom = document.getElementById(msg_id);\n    closeMsg(msgDom);\n  })\n}\n",
       "_model_module": "anywidget",
       "_model_module_version": "~0.9.*",
       "_model_name": "AnyModel",
       "_view_module": "anywidget",
       "_view_module_version": "~0.9.*",
       "_view_name": "AnyView",
       "close_msg_id": "",
       "layout": "IPY_MODEL_49029087127041008978fdc041f01b51",
       "message_options": {
        "duration": 3000,
        "message": "",
        "show_close": false,
        "type": "info"
       }
      }
     },
     "93bd37984c2047d4b0fac0aeead5545f": {
      "model_module": "jupyter-leaflet",
      "model_module_version": "^0.19",
      "model_name": "LeafletLayersControlModel",
      "state": {
       "_model_module_version": "^0.19",
       "_view_module_version": "^0.19",
       "collapsed": false,
       "options": [
        "collapsed",
        "position"
       ]
      }
     },
     "943feb61ae1444e08fe85e802ac0cb58": {
      "model_module": "jupyter-leaflet",
      "model_module_version": "^0.19",
      "model_name": "LeafletMapModel",
      "state": {
       "_model_module_version": "^0.19",
       "_view_module_version": "^0.19",
       "center": [
        25,
        -115
       ],
       "controls": [
        "IPY_MODEL_002d841bc7414e749eb07e6abc4c8fa9",
        "IPY_MODEL_40c8f59d500b4c9d93f22d7aa2ec2517"
       ],
       "default_style": "IPY_MODEL_0e59f178ede8452b82b2edd3e7ec664a",
       "dragging_style": "IPY_MODEL_05cdd879111a441b8b50e216b283136a",
       "fullscreen": false,
       "interpolation": "bilinear",
       "layers": [
        "IPY_MODEL_8dda481c23b94a5a9dcd00ac9539c1d7",
        "IPY_MODEL_15f48f215f5e494cbea20da6f1a52dcd"
       ],
       "layout": "IPY_MODEL_a8d1d60bb22848779deb73ec2e410a6e",
       "modisdate": "2025-04-05",
       "options": [
        "bounce_at_zoom_limits",
        "box_zoom",
        "center",
        "close_popup_on_click",
        "double_click_zoom",
        "dragging",
        "fullscreen",
        "inertia",
        "inertia_deceleration",
        "inertia_max_speed",
        "interpolation",
        "keyboard",
        "keyboard_pan_offset",
        "keyboard_zoom_offset",
        "max_zoom",
        "min_zoom",
        "prefer_canvas",
        "scroll_wheel_zoom",
        "tap",
        "tap_tolerance",
        "touch_zoom",
        "world_copy_jump",
        "zoom",
        "zoom_animation_threshold",
        "zoom_delta",
        "zoom_snap"
       ],
       "prefer_canvas": false,
       "style": "IPY_MODEL_356901f032664fd297888e05a9fbae4c",
       "window_url": "http://localhost:2071/lab/tree/nb_llm/pyvue/examples/vleaflet/layers/ImageOverly.ipynb",
       "zoom": 4
      }
     },
     "94879f2ef00944d1b5463fe4512ff4bc": {
      "model_module": "@jupyter-widgets/base",
      "model_module_version": "2.0.0",
      "model_name": "LayoutModel",
      "state": {}
     },
     "95152cb2a4bb4adfb4881c9236e6aef7": {
      "model_module": "@jupyter-widgets/base",
      "model_module_version": "2.0.0",
      "model_name": "LayoutModel",
      "state": {}
     },
     "95cf5a55d60948298cf5994d17396294": {
      "model_module": "@jupyter-widgets/base",
      "model_module_version": "2.0.0",
      "model_name": "LayoutModel",
      "state": {}
     },
     "960350f12ed346659cfb3fc0f322f55e": {
      "model_module": "jupyter-leaflet",
      "model_module_version": "^0.19",
      "model_name": "LeafletMapModel",
      "state": {
       "_model_module_version": "^0.19",
       "_view_module_version": "^0.19",
       "bottom": 1954,
       "center": [
        25,
        -115
       ],
       "controls": [
        "IPY_MODEL_1db5873ac0164b96886c44f253d3b86d",
        "IPY_MODEL_aa6c2c147da4425d8aac81289a4b1667",
        "IPY_MODEL_f4f0233eb23b4eb79a85ae4acad27ba8"
       ],
       "default_style": "IPY_MODEL_77ea16507ae94b1499ec707f62f61b1f",
       "dragging_style": "IPY_MODEL_0f608dd91bd5411ea5c2251cb698ec8b",
       "east": -64.68750000000001,
       "fullscreen": false,
       "interpolation": "bilinear",
       "layers": [
        "IPY_MODEL_6e476089eee24f97b330702d9472a2b2",
        "IPY_MODEL_f59fdd6bd80b4d3f95cfbaea0c611080"
       ],
       "layout": "IPY_MODEL_09413578d5f947ef927cfd9d26bdc3f1",
       "left": 167,
       "modisdate": "2025-04-05",
       "north": 39.774769485295465,
       "options": [
        "bounce_at_zoom_limits",
        "box_zoom",
        "center",
        "close_popup_on_click",
        "double_click_zoom",
        "dragging",
        "fullscreen",
        "inertia",
        "inertia_deceleration",
        "inertia_max_speed",
        "interpolation",
        "keyboard",
        "keyboard_pan_offset",
        "keyboard_zoom_offset",
        "max_zoom",
        "min_zoom",
        "prefer_canvas",
        "scroll_wheel_zoom",
        "tap",
        "tap_tolerance",
        "touch_zoom",
        "world_copy_jump",
        "zoom",
        "zoom_animation_threshold",
        "zoom_delta",
        "zoom_snap"
       ],
       "prefer_canvas": false,
       "right": 1312,
       "south": 8.233237111274565,
       "style": "IPY_MODEL_96776c437d7b416c97418866d4bab1e5",
       "top": 1554,
       "west": -165.32226562500003,
       "window_url": "http://localhost:2071/lab/tree/nb_llm/pyvue/examples/vleaflet/layers/ImageOverly.ipynb",
       "zoom": 4
      }
     },
     "961d78f103f84a349fb9f89ad950557f": {
      "model_module": "jupyter-leaflet",
      "model_module_version": "^0.19",
      "model_name": "LeafletMapStyleModel",
      "state": {
       "_model_module_version": "^0.19",
       "cursor": "move"
      }
     },
     "96776c437d7b416c97418866d4bab1e5": {
      "model_module": "jupyter-leaflet",
      "model_module_version": "^0.19",
      "model_name": "LeafletMapStyleModel",
      "state": {
       "_model_module_version": "^0.19"
      }
     },
     "96860123585e4719af68581fa90f17b3": {
      "model_module": "jupyter-leaflet",
      "model_module_version": "^0.19",
      "model_name": "LeafletTileLayerModel",
      "state": {
       "_model_module_version": "^0.19",
       "_view_module_version": "^0.19",
       "attribution": "&copy; <a href=\"https://www.openstreetmap.org/copyright\">OpenStreetMap</a> contributors",
       "base": true,
       "max_zoom": 19,
       "min_zoom": 1,
       "name": "OpenStreetMap.Mapnik",
       "options": [
        "attribution",
        "bounds",
        "detect_retina",
        "max_native_zoom",
        "max_zoom",
        "min_native_zoom",
        "min_zoom",
        "no_wrap",
        "tile_size",
        "tms",
        "zoom_offset"
       ],
       "url": "https://tile.openstreetmap.org/{z}/{x}/{y}.png"
      }
     },
     "96abc91ba27d4a4993f054923d0fe7cf": {
      "model_module": "jupyter-leaflet",
      "model_module_version": "^0.19",
      "model_name": "LeafletMapStyleModel",
      "state": {
       "_model_module_version": "^0.19",
       "cursor": "move"
      }
     },
     "9743a81ab8204313b32a8c7b3dae7535": {
      "model_module": "jupyter-leaflet",
      "model_module_version": "^0.19",
      "model_name": "LeafletAttributionControlModel",
      "state": {
       "_model_module_version": "^0.19",
       "_view_module_version": "^0.19",
       "options": [
        "position",
        "prefix"
       ],
       "position": "bottomright",
       "prefix": "ipyleaflet"
      }
     },
     "97ad73a0024e4f2782361f9560ba685b": {
      "model_module": "jupyter-leaflet",
      "model_module_version": "^0.19",
      "model_name": "LeafletImageOverlayModel",
      "state": {
       "_model_module_version": "^0.19",
       "_view_module_version": "^0.19",
       "bounds": [
        [
         13,
         -130
        ],
        [
         32,
         -100
        ]
       ],
       "name": "image",
       "options": [
        "attribution"
       ],
       "url": "://www.vuepy.org/images/vuepy-logo.svg"
      }
     },
     "97d2a187f29f44ab81972be54c9a649f": {
      "model_module": "anywidget",
      "model_module_version": "~0.9.*",
      "model_name": "AnyModel",
      "state": {
       "_anywidget_id": "ipywui.widgets.custom.message.MessageWidget",
       "_css": ".wui-message-root {\n    display: flex;\n    position: absolute;\n    left: 0;\n    right: 0;\n    top: 0;\n}\n\n.wui-message-container {\n    align-items: center;\n    display: flex;\n    flex-direction: column-reverse;\n    justify-content: center;\n    min-height: 100%;\n    outline: none;\n    width: 100%;\n\n    -webkit-tap-highlight-color: rgba(0,0,0,0);\n    bottom: 0;\n    left: 0;\n    right: 0;\n    top: 0;\n}\n\n.wui-message--success {\n    --wui-message-bg-color: #f0f9eb;\n    --wui-message-border-color: #e1f3d8;\n    --wui-message-text-color: #67c23a;\n}\n.wui-message--warning {\n    --wui-message-bg-color: #fdf6ec;\n    --wui-message-border-color: #faecd8;\n    --wui-message-text-color: #e6a23c;\n}\n.wui-message--info {\n    --wui-message-bg-color: #f4f4f5;\n    --wui-message-border-color: #e9e9eb;\n    --wui-message-text-color: #909399;\n}\n.wui-message--error {\n    --wui-message-bg-color: #fef0f0;\n    --wui-message-border-color: #fde2e2;\n    --wui-message-text-color: #f56c6c;\n}\n\n@keyframes msg-open {\n    0% {\n        opacity: 0;\n        -webkit-transform: translateY(-120%);\n        transform: translateY(-120%)\n    }\n    to {\n        -webkit-transform: translateY(0);\n        transform: translateY(0)\n    }\n}\n\n@keyframes msg-close {\n    0% {\n        opacity: 1;\n        -webkit-transform: scale(1);\n        transform: scale(1)\n    }\n    to {\n        opacity: 0;\n        -webkit-transform: scale(.9);\n        transform: scale(.9)\n    }\n}\n.wui-message[data-state=entered],.wui-message[data-state=entering] {\n    -webkit-animation: msg-open .24s cubic-bezier(.175,.885,.32,1.175) both;\n    animation: msg-open .24s cubic-bezier(.175,.885,.32,1.175) both\n}\n\n.wui-message[data-state=exiting] {\n    -webkit-animation: msg-close .12s cubic-bezier(.4,0,1,1) both;\n    animation: msg-close .12s cubic-bezier(.4,0,1,1) both\n}\n\n.wui-message {\n    width: -webkit-fit-content;\n    width: -moz-fit-content;\n    width: fit-content;\n    z-index: 2004;\n    max-width: calc(100% - 32px);\n    margin-top: 8px;\n    box-sizing: border-box;\n    /*border-radius: var(--wui-border-radius-base);*/\n    /*border-width: var(--wui-border-width);*/\n    /*border-style: var(--wui-border-style);*/\n    border-color: var(--wui-message-border-color);\n    /*left: 50%;*/\n    /*top: 20px;*/\n    /*transform: translateX(-50%);*/\n    background-color: var(--wui-message-bg-color);\n    /*transition: opacity var(--wui-transition-duration),transform .4s,top .4s;*/\n    /*padding: var(--wui-message-padding);*/\n    display: flex;\n    align-items: center;\n}\n\n/*.wui-message--success */\n.wui-message__content {\n    color: var(--wui-message-text-color);\n    font-size: 14px;\n    line-height: 18px;\n    margin: 10px 14px 10px 14px;\n    overflow-wrap: break-word;\n}\n\n.wui-message__closeBtn {\n    /*cursor: pointer;*/\n    font-style: normal;\n    /*color: gray;*/\n    padding-right: 14px;\n    /*font-size: 13px;*/\n    user-select: none;\n\n    background: transparent;\n    border: none;\n    color: gray;\n    cursor: pointer;\n    font-size: 13px;\n    font-weight: 400;\n    line-height: 1;\n    outline: none;\n    /*padding: 4px;*/\n    text-align: center;\n    transition: opacity .3s;\n    /*width: 100%;*/\n}",
       "_esm": "function closeMsg(msgDom) {\n  if (!msgDom) {\n    return;\n  }\n  msgDom.setAttribute('data-state', 'exiting');\n  msgDom.remove();\n}\n\nfunction createMsg(options) {\n  const {message, msg_id, type = 'info', show_close = false} = options;\n  const msgDom = document.createElement('div');\n  msgDom.className += ` wui-message--${type} wui-message`;\n  msgDom.setAttribute('data-state', 'entered');\n  msgDom.setAttribute('id', msg_id);\n  const msgContent = document.createElement('p');\n  msgContent.className += ` wui-message--${type} wui-message__content`;\n  msgContent.innerText = message;\n  msgDom.appendChild(msgContent);\n  if (show_close) {\n    const closeBtn = document.createElement('i');\n    closeBtn.className += 'wui-message__closeBtn';\n    closeBtn.innerText = 'x';\n    closeBtn.addEventListener('click', (ev) => {\n      closeMsg(msgDom);\n    })\n    msgDom.appendChild(closeBtn);\n  }\n  return msgDom;\n}\n\nexport async function render(view) {\n  let model = view.model;\n  const msgRoot = view.el;\n  msgRoot.className += ' wui-message-root'\n\n  const msgContainer = document.createElement('div');\n  msgContainer.className += ' wui-message-container';\n  msgRoot.appendChild(msgContainer)\n\n  model.on(\"change:message_options\", () => {\n    const options = model.get(\"message_options\");\n    const msg = createMsg(options);\n    msgContainer.appendChild(msg);\n    const {duration = 3000} = options;\n    if (duration > 0) {\n      setTimeout(() => {\n        closeMsg(msg)\n      }, duration);\n    }\n  })\n\n  model.on(\"change:close_msg_id\", () => {\n    const msg_id = model.get(\"close_msg_id\");\n    const msgDom = document.getElementById(msg_id);\n    closeMsg(msgDom);\n  })\n}\n",
       "_model_module": "anywidget",
       "_model_module_version": "~0.9.*",
       "_model_name": "AnyModel",
       "_view_module": "anywidget",
       "_view_module_version": "~0.9.*",
       "_view_name": "AnyView",
       "close_msg_id": "",
       "layout": "IPY_MODEL_3bce002296e14b208e6575f0e18d64bf",
       "message_options": {
        "duration": 3000,
        "message": "",
        "show_close": false,
        "type": "info"
       }
      }
     },
     "97f8aab898b14b60bc5b06fdc2deb85d": {
      "model_module": "jupyter-leaflet",
      "model_module_version": "^0.19",
      "model_name": "LeafletMapStyleModel",
      "state": {
       "_model_module_version": "^0.19"
      }
     },
     "98cd5455342e474d888939379ad543e7": {
      "model_module": "jupyter-leaflet",
      "model_module_version": "^0.19",
      "model_name": "LeafletMapStyleModel",
      "state": {
       "_model_module_version": "^0.19"
      }
     },
     "9a062cdd1e544fa695a5084b5f327ea3": {
      "model_module": "@jupyter-widgets/controls",
      "model_module_version": "2.0.0",
      "model_name": "VBoxModel",
      "state": {
       "children": [
        "IPY_MODEL_22ebc8579018404bb78aefd244fb8ebd"
       ],
       "layout": "IPY_MODEL_3c4aefa8f9ac4059aa506d9e7b1e2914"
      }
     },
     "9a17af6339654be2830c4eb598f4f28a": {
      "model_module": "jupyter-leaflet",
      "model_module_version": "^0.19",
      "model_name": "LeafletMapStyleModel",
      "state": {
       "_model_module_version": "^0.19",
       "cursor": "move"
      }
     },
     "9a9424fe10ed4f40963711980c6c131f": {
      "model_module": "@jupyter-widgets/controls",
      "model_module_version": "2.0.0",
      "model_name": "VBoxModel",
      "state": {
       "children": [
        "IPY_MODEL_63cd78834d8942a590d7b8b566f2844a"
       ],
       "layout": "IPY_MODEL_78f556cd4863424f8620d1e6302440cc"
      }
     },
     "9aad2e0a38514d199aba2235d3f91f50": {
      "model_module": "@jupyter-widgets/controls",
      "model_module_version": "2.0.0",
      "model_name": "VBoxModel",
      "state": {
       "children": [
        "IPY_MODEL_d50c959a0837460a8f5966158c33644a"
       ],
       "layout": "IPY_MODEL_62bbe4ed3f3b4c24b2512ad96770e262"
      }
     },
     "9b69ac5f36d84d279778ecd4182c422f": {
      "model_module": "@jupyter-widgets/base",
      "model_module_version": "2.0.0",
      "model_name": "LayoutModel",
      "state": {}
     },
     "9b92253e233b4020929c01bfe1caf11e": {
      "model_module": "jupyter-leaflet",
      "model_module_version": "^0.19",
      "model_name": "LeafletMapStyleModel",
      "state": {
       "_model_module_version": "^0.19",
       "cursor": "move"
      }
     },
     "9bd409e5c8da4a5fa8f68fdd64963693": {
      "model_module": "@jupyter-widgets/base",
      "model_module_version": "2.0.0",
      "model_name": "LayoutModel",
      "state": {}
     },
     "9c90fb36f314470b8b983f3d311fa29f": {
      "model_module": "@jupyter-widgets/controls",
      "model_module_version": "2.0.0",
      "model_name": "VBoxModel",
      "state": {
       "children": [
        "IPY_MODEL_93b4124b8d2447008ea3c41771dd7c24",
        "IPY_MODEL_61ff4429896541489f6cfbc3a5863dd7"
       ],
       "layout": "IPY_MODEL_da2766e6ba884228aaa14c88366094c1"
      }
     },
     "9d77a35f83f44c079ef90202306ee6c5": {
      "model_module": "jupyter-leaflet",
      "model_module_version": "^0.19",
      "model_name": "LeafletMapModel",
      "state": {
       "_model_module_version": "^0.19",
       "_view_module_version": "^0.19",
       "center": [
        52.214338608258224,
        360.087890625
       ],
       "controls": [
        "IPY_MODEL_25787c608ae34406aca107cff4979660",
        "IPY_MODEL_f2a4c3261c4a4a4c836bc8af0b305ac5",
        "IPY_MODEL_9e7990a0bfd14a77ac3aa89c797df460"
       ],
       "default_style": "IPY_MODEL_85384003b98642e1b512f0631dadc6d8",
       "dragging_style": "IPY_MODEL_9209ef7e05e84a619d5b3c602d341741",
       "east": null,
       "fullscreen": false,
       "interpolation": "bilinear",
       "layers": [
        "IPY_MODEL_6efac78b9c1a485e9831a7f7c481b05f",
        "IPY_MODEL_97ad73a0024e4f2782361f9560ba685b"
       ],
       "layout": "IPY_MODEL_bac17a9af6254706a71fb6928e39243b",
       "modisdate": "2025-04-05",
       "north": -90,
       "options": [
        "bounce_at_zoom_limits",
        "box_zoom",
        "center",
        "close_popup_on_click",
        "double_click_zoom",
        "dragging",
        "fullscreen",
        "inertia",
        "inertia_deceleration",
        "inertia_max_speed",
        "interpolation",
        "keyboard",
        "keyboard_pan_offset",
        "keyboard_zoom_offset",
        "max_zoom",
        "min_zoom",
        "prefer_canvas",
        "scroll_wheel_zoom",
        "tap",
        "tap_tolerance",
        "touch_zoom",
        "world_copy_jump",
        "zoom",
        "zoom_animation_threshold",
        "zoom_delta",
        "zoom_snap"
       ],
       "prefer_canvas": false,
       "south": 90,
       "style": "IPY_MODEL_85384003b98642e1b512f0631dadc6d8",
       "west": null,
       "window_url": "http://localhost:2071/lab/tree/nb_llm/pyvue/examples/vleaflet/layers/ImageOverly.ipynb",
       "zoom": 4
      }
     },
     "9dfb1fbfbbb04984a040d5aba6407deb": {
      "model_module": "jupyter-leaflet",
      "model_module_version": "^0.19",
      "model_name": "LeafletTileLayerModel",
      "state": {
       "_model_module_version": "^0.19",
       "_view_module_version": "^0.19",
       "attribution": "&copy; <a href=\"https://www.openstreetmap.org/copyright\">OpenStreetMap</a> contributors",
       "base": true,
       "max_zoom": 19,
       "min_zoom": 1,
       "name": "OpenStreetMap.Mapnik",
       "options": [
        "attribution",
        "bounds",
        "detect_retina",
        "max_native_zoom",
        "max_zoom",
        "min_native_zoom",
        "min_zoom",
        "no_wrap",
        "tile_size",
        "tms",
        "zoom_offset"
       ],
       "url": "https://tile.openstreetmap.org/{z}/{x}/{y}.png"
      }
     },
     "9e2941ed901e4c61a9c080733ba6acd9": {
      "model_module": "jupyter-leaflet",
      "model_module_version": "^0.19",
      "model_name": "LeafletAttributionControlModel",
      "state": {
       "_model_module_version": "^0.19",
       "_view_module_version": "^0.19",
       "options": [
        "position",
        "prefix"
       ],
       "position": "bottomright",
       "prefix": "ipyleaflet"
      }
     },
     "9e64f0cef714485fa0c0939737e8814c": {
      "model_module": "jupyter-leaflet",
      "model_module_version": "^0.19",
      "model_name": "LeafletMapStyleModel",
      "state": {
       "_model_module_version": "^0.19",
       "cursor": "move"
      }
     },
     "9e66473605d14a6390303b668cd07720": {
      "model_module": "jupyter-leaflet",
      "model_module_version": "^0.19",
      "model_name": "LeafletAttributionControlModel",
      "state": {
       "_model_module_version": "^0.19",
       "_view_module_version": "^0.19",
       "options": [
        "position",
        "prefix"
       ],
       "position": "bottomright",
       "prefix": "ipyleaflet"
      }
     },
     "9e7990a0bfd14a77ac3aa89c797df460": {
      "model_module": "jupyter-leaflet",
      "model_module_version": "^0.19",
      "model_name": "LeafletLayersControlModel",
      "state": {
       "_model_module_version": "^0.19",
       "_view_module_version": "^0.19",
       "collapsed": false,
       "options": [
        "collapsed",
        "position"
       ]
      }
     },
     "9eb97dcd60654cab8e6dcdab93dc95e2": {
      "model_module": "jupyter-leaflet",
      "model_module_version": "^0.19",
      "model_name": "LeafletLayersControlModel",
      "state": {
       "_model_module_version": "^0.19",
       "_view_module_version": "^0.19",
       "collapsed": false,
       "options": [
        "collapsed",
        "position"
       ]
      }
     },
     "9f3a53a97225431e8c289499120be985": {
      "model_module": "@jupyter-widgets/base",
      "model_module_version": "2.0.0",
      "model_name": "LayoutModel",
      "state": {}
     },
     "a0780fa25d0541a884b47542a552aa54": {
      "model_module": "@jupyter-widgets/base",
      "model_module_version": "2.0.0",
      "model_name": "LayoutModel",
      "state": {}
     },
     "a09ca4b4a78a44bfa87ec30a2c0fc3e1": {
      "model_module": "jupyter-leaflet",
      "model_module_version": "^0.19",
      "model_name": "LeafletMapStyleModel",
      "state": {
       "_model_module_version": "^0.19",
       "cursor": "move"
      }
     },
     "a1617dcafd6a490499b19975d21c968b": {
      "model_module": "jupyter-leaflet",
      "model_module_version": "^0.19",
      "model_name": "LeafletLayersControlModel",
      "state": {
       "_model_module_version": "^0.19",
       "_view_module_version": "^0.19",
       "collapsed": false,
       "options": [
        "collapsed",
        "position"
       ]
      }
     },
     "a1f16fa6df6546c88f9498b6907e1a05": {
      "model_module": "anywidget",
      "model_module_version": "~0.9.*",
      "model_name": "AnyModel",
      "state": {
       "_anywidget_id": "ipywui.widgets.custom.message.MessageWidget",
       "_css": ".wui-message-root {\n    display: flex;\n    position: absolute;\n    left: 0;\n    right: 0;\n    top: 0;\n}\n\n.wui-message-container {\n    align-items: center;\n    display: flex;\n    flex-direction: column-reverse;\n    justify-content: center;\n    min-height: 100%;\n    outline: none;\n    width: 100%;\n\n    -webkit-tap-highlight-color: rgba(0,0,0,0);\n    bottom: 0;\n    left: 0;\n    right: 0;\n    top: 0;\n}\n\n.wui-message--success {\n    --wui-message-bg-color: #f0f9eb;\n    --wui-message-border-color: #e1f3d8;\n    --wui-message-text-color: #67c23a;\n}\n.wui-message--warning {\n    --wui-message-bg-color: #fdf6ec;\n    --wui-message-border-color: #faecd8;\n    --wui-message-text-color: #e6a23c;\n}\n.wui-message--info {\n    --wui-message-bg-color: #f4f4f5;\n    --wui-message-border-color: #e9e9eb;\n    --wui-message-text-color: #909399;\n}\n.wui-message--error {\n    --wui-message-bg-color: #fef0f0;\n    --wui-message-border-color: #fde2e2;\n    --wui-message-text-color: #f56c6c;\n}\n\n@keyframes msg-open {\n    0% {\n        opacity: 0;\n        -webkit-transform: translateY(-120%);\n        transform: translateY(-120%)\n    }\n    to {\n        -webkit-transform: translateY(0);\n        transform: translateY(0)\n    }\n}\n\n@keyframes msg-close {\n    0% {\n        opacity: 1;\n        -webkit-transform: scale(1);\n        transform: scale(1)\n    }\n    to {\n        opacity: 0;\n        -webkit-transform: scale(.9);\n        transform: scale(.9)\n    }\n}\n.wui-message[data-state=entered],.wui-message[data-state=entering] {\n    -webkit-animation: msg-open .24s cubic-bezier(.175,.885,.32,1.175) both;\n    animation: msg-open .24s cubic-bezier(.175,.885,.32,1.175) both\n}\n\n.wui-message[data-state=exiting] {\n    -webkit-animation: msg-close .12s cubic-bezier(.4,0,1,1) both;\n    animation: msg-close .12s cubic-bezier(.4,0,1,1) both\n}\n\n.wui-message {\n    width: -webkit-fit-content;\n    width: -moz-fit-content;\n    width: fit-content;\n    z-index: 2004;\n    max-width: calc(100% - 32px);\n    margin-top: 8px;\n    box-sizing: border-box;\n    /*border-radius: var(--wui-border-radius-base);*/\n    /*border-width: var(--wui-border-width);*/\n    /*border-style: var(--wui-border-style);*/\n    border-color: var(--wui-message-border-color);\n    /*left: 50%;*/\n    /*top: 20px;*/\n    /*transform: translateX(-50%);*/\n    background-color: var(--wui-message-bg-color);\n    /*transition: opacity var(--wui-transition-duration),transform .4s,top .4s;*/\n    /*padding: var(--wui-message-padding);*/\n    display: flex;\n    align-items: center;\n}\n\n/*.wui-message--success */\n.wui-message__content {\n    color: var(--wui-message-text-color);\n    font-size: 14px;\n    line-height: 18px;\n    margin: 10px 14px 10px 14px;\n    overflow-wrap: break-word;\n}\n\n.wui-message__closeBtn {\n    /*cursor: pointer;*/\n    font-style: normal;\n    /*color: gray;*/\n    padding-right: 14px;\n    /*font-size: 13px;*/\n    user-select: none;\n\n    background: transparent;\n    border: none;\n    color: gray;\n    cursor: pointer;\n    font-size: 13px;\n    font-weight: 400;\n    line-height: 1;\n    outline: none;\n    /*padding: 4px;*/\n    text-align: center;\n    transition: opacity .3s;\n    /*width: 100%;*/\n}",
       "_esm": "function closeMsg(msgDom) {\n  if (!msgDom) {\n    return;\n  }\n  msgDom.setAttribute('data-state', 'exiting');\n  msgDom.remove();\n}\n\nfunction createMsg(options) {\n  const {message, msg_id, type = 'info', show_close = false} = options;\n  const msgDom = document.createElement('div');\n  msgDom.className += ` wui-message--${type} wui-message`;\n  msgDom.setAttribute('data-state', 'entered');\n  msgDom.setAttribute('id', msg_id);\n  const msgContent = document.createElement('p');\n  msgContent.className += ` wui-message--${type} wui-message__content`;\n  msgContent.innerText = message;\n  msgDom.appendChild(msgContent);\n  if (show_close) {\n    const closeBtn = document.createElement('i');\n    closeBtn.className += 'wui-message__closeBtn';\n    closeBtn.innerText = 'x';\n    closeBtn.addEventListener('click', (ev) => {\n      closeMsg(msgDom);\n    })\n    msgDom.appendChild(closeBtn);\n  }\n  return msgDom;\n}\n\nexport async function render(view) {\n  let model = view.model;\n  const msgRoot = view.el;\n  msgRoot.className += ' wui-message-root'\n\n  const msgContainer = document.createElement('div');\n  msgContainer.className += ' wui-message-container';\n  msgRoot.appendChild(msgContainer)\n\n  model.on(\"change:message_options\", () => {\n    const options = model.get(\"message_options\");\n    const msg = createMsg(options);\n    msgContainer.appendChild(msg);\n    const {duration = 3000} = options;\n    if (duration > 0) {\n      setTimeout(() => {\n        closeMsg(msg)\n      }, duration);\n    }\n  })\n\n  model.on(\"change:close_msg_id\", () => {\n    const msg_id = model.get(\"close_msg_id\");\n    const msgDom = document.getElementById(msg_id);\n    closeMsg(msgDom);\n  })\n}\n",
       "_model_module": "anywidget",
       "_model_module_version": "~0.9.*",
       "_model_name": "AnyModel",
       "_view_module": "anywidget",
       "_view_module_version": "~0.9.*",
       "_view_name": "AnyView",
       "close_msg_id": "",
       "layout": "IPY_MODEL_2f6036234e91427394447acae34239f8",
       "message_options": {
        "duration": 3000,
        "message": "",
        "show_close": false,
        "type": "info"
       }
      }
     },
     "a217a5e01c2a4697b9ae50623a1e4ea8": {
      "model_module": "@jupyter-widgets/base",
      "model_module_version": "2.0.0",
      "model_name": "LayoutModel",
      "state": {}
     },
     "a331f7108c8d47c78bba4bc965be5d3d": {
      "model_module": "anywidget",
      "model_module_version": "~0.9.*",
      "model_name": "AnyModel",
      "state": {
       "_anywidget_id": "ipywui.widgets.custom.message.MessageWidget",
       "_css": ".wui-message-root {\n    display: flex;\n    position: absolute;\n    left: 0;\n    right: 0;\n    top: 0;\n}\n\n.wui-message-container {\n    align-items: center;\n    display: flex;\n    flex-direction: column-reverse;\n    justify-content: center;\n    min-height: 100%;\n    outline: none;\n    width: 100%;\n\n    -webkit-tap-highlight-color: rgba(0,0,0,0);\n    bottom: 0;\n    left: 0;\n    right: 0;\n    top: 0;\n}\n\n.wui-message--success {\n    --wui-message-bg-color: #f0f9eb;\n    --wui-message-border-color: #e1f3d8;\n    --wui-message-text-color: #67c23a;\n}\n.wui-message--warning {\n    --wui-message-bg-color: #fdf6ec;\n    --wui-message-border-color: #faecd8;\n    --wui-message-text-color: #e6a23c;\n}\n.wui-message--info {\n    --wui-message-bg-color: #f4f4f5;\n    --wui-message-border-color: #e9e9eb;\n    --wui-message-text-color: #909399;\n}\n.wui-message--error {\n    --wui-message-bg-color: #fef0f0;\n    --wui-message-border-color: #fde2e2;\n    --wui-message-text-color: #f56c6c;\n}\n\n@keyframes msg-open {\n    0% {\n        opacity: 0;\n        -webkit-transform: translateY(-120%);\n        transform: translateY(-120%)\n    }\n    to {\n        -webkit-transform: translateY(0);\n        transform: translateY(0)\n    }\n}\n\n@keyframes msg-close {\n    0% {\n        opacity: 1;\n        -webkit-transform: scale(1);\n        transform: scale(1)\n    }\n    to {\n        opacity: 0;\n        -webkit-transform: scale(.9);\n        transform: scale(.9)\n    }\n}\n.wui-message[data-state=entered],.wui-message[data-state=entering] {\n    -webkit-animation: msg-open .24s cubic-bezier(.175,.885,.32,1.175) both;\n    animation: msg-open .24s cubic-bezier(.175,.885,.32,1.175) both\n}\n\n.wui-message[data-state=exiting] {\n    -webkit-animation: msg-close .12s cubic-bezier(.4,0,1,1) both;\n    animation: msg-close .12s cubic-bezier(.4,0,1,1) both\n}\n\n.wui-message {\n    width: -webkit-fit-content;\n    width: -moz-fit-content;\n    width: fit-content;\n    z-index: 2004;\n    max-width: calc(100% - 32px);\n    margin-top: 8px;\n    box-sizing: border-box;\n    /*border-radius: var(--wui-border-radius-base);*/\n    /*border-width: var(--wui-border-width);*/\n    /*border-style: var(--wui-border-style);*/\n    border-color: var(--wui-message-border-color);\n    /*left: 50%;*/\n    /*top: 20px;*/\n    /*transform: translateX(-50%);*/\n    background-color: var(--wui-message-bg-color);\n    /*transition: opacity var(--wui-transition-duration),transform .4s,top .4s;*/\n    /*padding: var(--wui-message-padding);*/\n    display: flex;\n    align-items: center;\n}\n\n/*.wui-message--success */\n.wui-message__content {\n    color: var(--wui-message-text-color);\n    font-size: 14px;\n    line-height: 18px;\n    margin: 10px 14px 10px 14px;\n    overflow-wrap: break-word;\n}\n\n.wui-message__closeBtn {\n    /*cursor: pointer;*/\n    font-style: normal;\n    /*color: gray;*/\n    padding-right: 14px;\n    /*font-size: 13px;*/\n    user-select: none;\n\n    background: transparent;\n    border: none;\n    color: gray;\n    cursor: pointer;\n    font-size: 13px;\n    font-weight: 400;\n    line-height: 1;\n    outline: none;\n    /*padding: 4px;*/\n    text-align: center;\n    transition: opacity .3s;\n    /*width: 100%;*/\n}",
       "_esm": "function closeMsg(msgDom) {\n  if (!msgDom) {\n    return;\n  }\n  msgDom.setAttribute('data-state', 'exiting');\n  msgDom.remove();\n}\n\nfunction createMsg(options) {\n  const {message, msg_id, type = 'info', show_close = false} = options;\n  const msgDom = document.createElement('div');\n  msgDom.className += ` wui-message--${type} wui-message`;\n  msgDom.setAttribute('data-state', 'entered');\n  msgDom.setAttribute('id', msg_id);\n  const msgContent = document.createElement('p');\n  msgContent.className += ` wui-message--${type} wui-message__content`;\n  msgContent.innerText = message;\n  msgDom.appendChild(msgContent);\n  if (show_close) {\n    const closeBtn = document.createElement('i');\n    closeBtn.className += 'wui-message__closeBtn';\n    closeBtn.innerText = 'x';\n    closeBtn.addEventListener('click', (ev) => {\n      closeMsg(msgDom);\n    })\n    msgDom.appendChild(closeBtn);\n  }\n  return msgDom;\n}\n\nexport async function render(view) {\n  let model = view.model;\n  const msgRoot = view.el;\n  msgRoot.className += ' wui-message-root'\n\n  const msgContainer = document.createElement('div');\n  msgContainer.className += ' wui-message-container';\n  msgRoot.appendChild(msgContainer)\n\n  model.on(\"change:message_options\", () => {\n    const options = model.get(\"message_options\");\n    const msg = createMsg(options);\n    msgContainer.appendChild(msg);\n    const {duration = 3000} = options;\n    if (duration > 0) {\n      setTimeout(() => {\n        closeMsg(msg)\n      }, duration);\n    }\n  })\n\n  model.on(\"change:close_msg_id\", () => {\n    const msg_id = model.get(\"close_msg_id\");\n    const msgDom = document.getElementById(msg_id);\n    closeMsg(msgDom);\n  })\n}\n",
       "_model_module": "anywidget",
       "_model_module_version": "~0.9.*",
       "_model_name": "AnyModel",
       "_view_module": "anywidget",
       "_view_module_version": "~0.9.*",
       "_view_name": "AnyView",
       "close_msg_id": "",
       "layout": "IPY_MODEL_02f6049f5db34c518662a4f7f26797f5",
       "message_options": {
        "duration": 3000,
        "message": "",
        "show_close": false,
        "type": "info"
       }
      }
     },
     "a603efe8156049d99b021ff312e355b1": {
      "model_module": "@jupyter-widgets/controls",
      "model_module_version": "2.0.0",
      "model_name": "VBoxModel",
      "state": {
       "children": [
        "IPY_MODEL_960350f12ed346659cfb3fc0f322f55e"
       ],
       "layout": "IPY_MODEL_d4df8e0c7e664b419e7d0a25a35878bb"
      }
     },
     "a669059a244141f398e9e14ff362c675": {
      "model_module": "jupyter-leaflet",
      "model_module_version": "^0.19",
      "model_name": "LeafletZoomControlModel",
      "state": {
       "_model_module_version": "^0.19",
       "_view_module_version": "^0.19",
       "options": [
        "position",
        "zoom_in_text",
        "zoom_in_title",
        "zoom_out_text",
        "zoom_out_title"
       ]
      }
     },
     "a68cde4f67d140ef811d1d66b08737fc": {
      "model_module": "jupyter-leaflet",
      "model_module_version": "^0.19",
      "model_name": "LeafletTileLayerModel",
      "state": {
       "_model_module_version": "^0.19",
       "_view_module_version": "^0.19",
       "attribution": "&copy; <a href=\"https://www.openstreetmap.org/copyright\">OpenStreetMap</a> contributors",
       "base": true,
       "max_zoom": 19,
       "min_zoom": 1,
       "name": "OpenStreetMap.Mapnik",
       "options": [
        "attribution",
        "bounds",
        "detect_retina",
        "max_native_zoom",
        "max_zoom",
        "min_native_zoom",
        "min_zoom",
        "no_wrap",
        "tile_size",
        "tms",
        "zoom_offset"
       ],
       "url": "https://tile.openstreetmap.org/{z}/{x}/{y}.png"
      }
     },
     "a6d01c9b4ae64a2e9e241dcd4f300060": {
      "model_module": "@jupyter-widgets/base",
      "model_module_version": "2.0.0",
      "model_name": "LayoutModel",
      "state": {}
     },
     "a6ecb06e68334427b0631676516e0784": {
      "model_module": "@jupyter-widgets/base",
      "model_module_version": "2.0.0",
      "model_name": "LayoutModel",
      "state": {}
     },
     "a803ae03c9f143719a6114bf112d0b29": {
      "model_module": "@jupyter-widgets/base",
      "model_module_version": "2.0.0",
      "model_name": "LayoutModel",
      "state": {}
     },
     "a8d1d60bb22848779deb73ec2e410a6e": {
      "model_module": "@jupyter-widgets/base",
      "model_module_version": "2.0.0",
      "model_name": "LayoutModel",
      "state": {}
     },
     "a8f8855daedd4669806edbfed01af16b": {
      "model_module": "jupyter-leaflet",
      "model_module_version": "^0.19",
      "model_name": "LeafletMapStyleModel",
      "state": {
       "_model_module_version": "^0.19"
      }
     },
     "a990be8445924f9e9607e9ae2d14330c": {
      "model_module": "@jupyter-widgets/base",
      "model_module_version": "2.0.0",
      "model_name": "LayoutModel",
      "state": {}
     },
     "aa6c2c147da4425d8aac81289a4b1667": {
      "model_module": "jupyter-leaflet",
      "model_module_version": "^0.19",
      "model_name": "LeafletAttributionControlModel",
      "state": {
       "_model_module_version": "^0.19",
       "_view_module_version": "^0.19",
       "options": [
        "position",
        "prefix"
       ],
       "position": "bottomright",
       "prefix": "ipyleaflet"
      }
     },
     "ab1500e161da429a9e6f5ea9c497bebe": {
      "model_module": "@jupyter-widgets/base",
      "model_module_version": "2.0.0",
      "model_name": "LayoutModel",
      "state": {}
     },
     "ac911a3ff6de42f8b9c774d246e949bf": {
      "model_module": "@jupyter-widgets/base",
      "model_module_version": "2.0.0",
      "model_name": "LayoutModel",
      "state": {}
     },
     "ad3a362616824f8e9ed9696654abe340": {
      "model_module": "jupyter-leaflet",
      "model_module_version": "^0.19",
      "model_name": "LeafletAttributionControlModel",
      "state": {
       "_model_module_version": "^0.19",
       "_view_module_version": "^0.19",
       "options": [
        "position",
        "prefix"
       ],
       "position": "bottomright",
       "prefix": "ipyleaflet"
      }
     },
     "adba4a5713a341acb0273ff954acccee": {
      "model_module": "@jupyter-widgets/controls",
      "model_module_version": "2.0.0",
      "model_name": "VBoxModel",
      "state": {
       "children": [
        "IPY_MODEL_7c9748b06d264e148ff3facfd7d441e8",
        "IPY_MODEL_54b60a05afaa4232968c524446f00dfd"
       ],
       "layout": "IPY_MODEL_7b7cb57d258c43f89680c1391ad898a2"
      }
     },
     "ae31ca86301e4ab6b70d656ec187a548": {
      "model_module": "@jupyter-widgets/base",
      "model_module_version": "2.0.0",
      "model_name": "LayoutModel",
      "state": {}
     },
     "ae36c51756df4ad19974add73eab37ba": {
      "model_module": "@jupyter-widgets/controls",
      "model_module_version": "2.0.0",
      "model_name": "VBoxModel",
      "state": {
       "children": [
        "IPY_MODEL_5263d01e025349dca3854ace52a2c205"
       ],
       "layout": "IPY_MODEL_92b13c5f9534464c89aa0202a9c968f3"
      }
     },
     "af482417447a42a1ac83cf74e099c60d": {
      "model_module": "jupyter-leaflet",
      "model_module_version": "^0.19",
      "model_name": "LeafletMapStyleModel",
      "state": {
       "_model_module_version": "^0.19"
      }
     },
     "b0a78c05f30b403ba043f7aa65351e49": {
      "model_module": "jupyter-leaflet",
      "model_module_version": "^0.19",
      "model_name": "LeafletMapModel",
      "state": {
       "_model_module_version": "^0.19",
       "_view_module_version": "^0.19",
       "center": [
        52.214338608258224,
        360.17578125
       ],
       "controls": [
        "IPY_MODEL_a669059a244141f398e9e14ff362c675",
        "IPY_MODEL_735aa8b0b7ba417d95ba40a1ee245472",
        "IPY_MODEL_93bd37984c2047d4b0fac0aeead5545f"
       ],
       "default_style": "IPY_MODEL_fe2480ee0bf348b28bae8f88e9849b41",
       "dragging_style": "IPY_MODEL_fe60d71e018e4925a66dc4c4ac501083",
       "east": null,
       "fullscreen": false,
       "interpolation": "bilinear",
       "layers": [
        "IPY_MODEL_bb57e0b812714f328ab4bf54127a441f",
        "IPY_MODEL_4b046fb0dcf54e4c81edebbfb97f8ac3"
       ],
       "layout": "IPY_MODEL_d640c23005e246c1863b7888e81c953d",
       "modisdate": "2025-04-05",
       "north": -90,
       "options": [
        "bounce_at_zoom_limits",
        "box_zoom",
        "center",
        "close_popup_on_click",
        "double_click_zoom",
        "dragging",
        "fullscreen",
        "inertia",
        "inertia_deceleration",
        "inertia_max_speed",
        "interpolation",
        "keyboard",
        "keyboard_pan_offset",
        "keyboard_zoom_offset",
        "max_zoom",
        "min_zoom",
        "prefer_canvas",
        "scroll_wheel_zoom",
        "tap",
        "tap_tolerance",
        "touch_zoom",
        "world_copy_jump",
        "zoom",
        "zoom_animation_threshold",
        "zoom_delta",
        "zoom_snap"
       ],
       "prefer_canvas": false,
       "south": 90,
       "style": "IPY_MODEL_fe2480ee0bf348b28bae8f88e9849b41",
       "west": null,
       "window_url": "http://localhost:2071/lab/tree/nb_llm/pyvue/examples/vleaflet/layers/ImageOverly.ipynb",
       "zoom": 4
      }
     },
     "b247d0e5671e422b881a6e4911e0ff03": {
      "model_module": "jupyter-leaflet",
      "model_module_version": "^0.19",
      "model_name": "LeafletImageOverlayModel",
      "state": {
       "_model_module_version": "^0.19",
       "_view_module_version": "^0.19",
       "bounds": [
        [
         13,
         -130
        ],
        [
         32,
         -100
        ]
       ],
       "name": "image",
       "options": [
        "attribution"
       ],
       "url": "https://www.vuepy.org/images/vuepy-logo.svg"
      }
     },
     "b45f79bd08d44b90b9fa202d41a002de": {
      "model_module": "jupyter-leaflet",
      "model_module_version": "^0.19",
      "model_name": "LeafletMapStyleModel",
      "state": {
       "_model_module_version": "^0.19"
      }
     },
     "b47b38040e4f4fb0b690da5cfc95a77c": {
      "model_module": "anywidget",
      "model_module_version": "~0.9.*",
      "model_name": "AnyModel",
      "state": {
       "_anywidget_id": "ipywui.widgets.custom.message.MessageWidget",
       "_css": ".wui-message-root {\n    display: flex;\n    position: absolute;\n    left: 0;\n    right: 0;\n    top: 0;\n}\n\n.wui-message-container {\n    align-items: center;\n    display: flex;\n    flex-direction: column-reverse;\n    justify-content: center;\n    min-height: 100%;\n    outline: none;\n    width: 100%;\n\n    -webkit-tap-highlight-color: rgba(0,0,0,0);\n    bottom: 0;\n    left: 0;\n    right: 0;\n    top: 0;\n}\n\n.wui-message--success {\n    --wui-message-bg-color: #f0f9eb;\n    --wui-message-border-color: #e1f3d8;\n    --wui-message-text-color: #67c23a;\n}\n.wui-message--warning {\n    --wui-message-bg-color: #fdf6ec;\n    --wui-message-border-color: #faecd8;\n    --wui-message-text-color: #e6a23c;\n}\n.wui-message--info {\n    --wui-message-bg-color: #f4f4f5;\n    --wui-message-border-color: #e9e9eb;\n    --wui-message-text-color: #909399;\n}\n.wui-message--error {\n    --wui-message-bg-color: #fef0f0;\n    --wui-message-border-color: #fde2e2;\n    --wui-message-text-color: #f56c6c;\n}\n\n@keyframes msg-open {\n    0% {\n        opacity: 0;\n        -webkit-transform: translateY(-120%);\n        transform: translateY(-120%)\n    }\n    to {\n        -webkit-transform: translateY(0);\n        transform: translateY(0)\n    }\n}\n\n@keyframes msg-close {\n    0% {\n        opacity: 1;\n        -webkit-transform: scale(1);\n        transform: scale(1)\n    }\n    to {\n        opacity: 0;\n        -webkit-transform: scale(.9);\n        transform: scale(.9)\n    }\n}\n.wui-message[data-state=entered],.wui-message[data-state=entering] {\n    -webkit-animation: msg-open .24s cubic-bezier(.175,.885,.32,1.175) both;\n    animation: msg-open .24s cubic-bezier(.175,.885,.32,1.175) both\n}\n\n.wui-message[data-state=exiting] {\n    -webkit-animation: msg-close .12s cubic-bezier(.4,0,1,1) both;\n    animation: msg-close .12s cubic-bezier(.4,0,1,1) both\n}\n\n.wui-message {\n    width: -webkit-fit-content;\n    width: -moz-fit-content;\n    width: fit-content;\n    z-index: 2004;\n    max-width: calc(100% - 32px);\n    margin-top: 8px;\n    box-sizing: border-box;\n    /*border-radius: var(--wui-border-radius-base);*/\n    /*border-width: var(--wui-border-width);*/\n    /*border-style: var(--wui-border-style);*/\n    border-color: var(--wui-message-border-color);\n    /*left: 50%;*/\n    /*top: 20px;*/\n    /*transform: translateX(-50%);*/\n    background-color: var(--wui-message-bg-color);\n    /*transition: opacity var(--wui-transition-duration),transform .4s,top .4s;*/\n    /*padding: var(--wui-message-padding);*/\n    display: flex;\n    align-items: center;\n}\n\n/*.wui-message--success */\n.wui-message__content {\n    color: var(--wui-message-text-color);\n    font-size: 14px;\n    line-height: 18px;\n    margin: 10px 14px 10px 14px;\n    overflow-wrap: break-word;\n}\n\n.wui-message__closeBtn {\n    /*cursor: pointer;*/\n    font-style: normal;\n    /*color: gray;*/\n    padding-right: 14px;\n    /*font-size: 13px;*/\n    user-select: none;\n\n    background: transparent;\n    border: none;\n    color: gray;\n    cursor: pointer;\n    font-size: 13px;\n    font-weight: 400;\n    line-height: 1;\n    outline: none;\n    /*padding: 4px;*/\n    text-align: center;\n    transition: opacity .3s;\n    /*width: 100%;*/\n}",
       "_esm": "function closeMsg(msgDom) {\n  if (!msgDom) {\n    return;\n  }\n  msgDom.setAttribute('data-state', 'exiting');\n  msgDom.remove();\n}\n\nfunction createMsg(options) {\n  const {message, msg_id, type = 'info', show_close = false} = options;\n  const msgDom = document.createElement('div');\n  msgDom.className += ` wui-message--${type} wui-message`;\n  msgDom.setAttribute('data-state', 'entered');\n  msgDom.setAttribute('id', msg_id);\n  const msgContent = document.createElement('p');\n  msgContent.className += ` wui-message--${type} wui-message__content`;\n  msgContent.innerText = message;\n  msgDom.appendChild(msgContent);\n  if (show_close) {\n    const closeBtn = document.createElement('i');\n    closeBtn.className += 'wui-message__closeBtn';\n    closeBtn.innerText = 'x';\n    closeBtn.addEventListener('click', (ev) => {\n      closeMsg(msgDom);\n    })\n    msgDom.appendChild(closeBtn);\n  }\n  return msgDom;\n}\n\nexport async function render(view) {\n  let model = view.model;\n  const msgRoot = view.el;\n  msgRoot.className += ' wui-message-root'\n\n  const msgContainer = document.createElement('div');\n  msgContainer.className += ' wui-message-container';\n  msgRoot.appendChild(msgContainer)\n\n  model.on(\"change:message_options\", () => {\n    const options = model.get(\"message_options\");\n    const msg = createMsg(options);\n    msgContainer.appendChild(msg);\n    const {duration = 3000} = options;\n    if (duration > 0) {\n      setTimeout(() => {\n        closeMsg(msg)\n      }, duration);\n    }\n  })\n\n  model.on(\"change:close_msg_id\", () => {\n    const msg_id = model.get(\"close_msg_id\");\n    const msgDom = document.getElementById(msg_id);\n    closeMsg(msgDom);\n  })\n}\n",
       "_model_module": "anywidget",
       "_model_module_version": "~0.9.*",
       "_model_name": "AnyModel",
       "_view_module": "anywidget",
       "_view_module_version": "~0.9.*",
       "_view_name": "AnyView",
       "close_msg_id": "",
       "layout": "IPY_MODEL_a6d01c9b4ae64a2e9e241dcd4f300060",
       "message_options": {
        "duration": 3000,
        "message": "",
        "show_close": false,
        "type": "info"
       }
      }
     },
     "b4dfbfa9c29d43ce99afb078e8cee232": {
      "model_module": "@jupyter-widgets/base",
      "model_module_version": "2.0.0",
      "model_name": "LayoutModel",
      "state": {}
     },
     "b4e459aee9f5442d82eb6097c33c4939": {
      "model_module": "@jupyter-widgets/controls",
      "model_module_version": "2.0.0",
      "model_name": "VBoxModel",
      "state": {
       "children": [
        "IPY_MODEL_808bb2ce826743e7a0ef31f66cabb8ae"
       ],
       "layout": "IPY_MODEL_8c40279e957040ef9d14d4dcb804fd15"
      }
     },
     "b6f81ce4fa904e6cbbab92039291c3b3": {
      "model_module": "jupyter-leaflet",
      "model_module_version": "^0.19",
      "model_name": "LeafletLayersControlModel",
      "state": {
       "_model_module_version": "^0.19",
       "_view_module_version": "^0.19",
       "collapsed": false,
       "options": [
        "collapsed",
        "position"
       ]
      }
     },
     "b7835d2bf9174c4d814d6f7f2f855205": {
      "model_module": "@jupyter-widgets/controls",
      "model_module_version": "2.0.0",
      "model_name": "VBoxModel",
      "state": {
       "children": [
        "IPY_MODEL_5f5824884fb4435d861f8231b360cf49"
       ],
       "layout": "IPY_MODEL_926d4107ac1f4834a7ac170b4ed3d684"
      }
     },
     "b78c557fbbc84b5998aa6f8f19b233d7": {
      "model_module": "jupyter-leaflet",
      "model_module_version": "^0.19",
      "model_name": "LeafletImageOverlayModel",
      "state": {
       "_model_module_version": "^0.19",
       "_view_module_version": "^0.19",
       "name": "image",
       "options": [
        "attribution"
       ],
       "url": "https://www.vuepy.org/images/vuepy-logo.svg"
      }
     },
     "b85b3d1c33aa483b9687f630e9712fd8": {
      "model_module": "jupyter-leaflet",
      "model_module_version": "^0.19",
      "model_name": "LeafletMapStyleModel",
      "state": {
       "_model_module_version": "^0.19",
       "cursor": "move"
      }
     },
     "b8676da823ef4c88a4850afbb45343b1": {
      "model_module": "@jupyter-widgets/base",
      "model_module_version": "2.0.0",
      "model_name": "LayoutModel",
      "state": {}
     },
     "b86ca6e1df2e49ad930dc7ed06a46a75": {
      "model_module": "jupyter-leaflet",
      "model_module_version": "^0.19",
      "model_name": "LeafletImageOverlayModel",
      "state": {
       "_model_module_version": "^0.19",
       "_view_module_version": "^0.19",
       "bounds": [
        [
         13,
         -130
        ],
        [
         32,
         -100
        ]
       ],
       "name": "image",
       "options": [
        "attribution"
       ],
       "url": "http://i.imgur.com/06Q1fSz.png"
      }
     },
     "b8c9f9d6de7842838b72f18b1d035fbe": {
      "model_module": "@jupyter-widgets/base",
      "model_module_version": "2.0.0",
      "model_name": "LayoutModel",
      "state": {}
     },
     "b98ac74d1eab4192b155cc89a2e11421": {
      "model_module": "jupyter-leaflet",
      "model_module_version": "^0.19",
      "model_name": "LeafletZoomControlModel",
      "state": {
       "_model_module_version": "^0.19",
       "_view_module_version": "^0.19",
       "options": [
        "position",
        "zoom_in_text",
        "zoom_in_title",
        "zoom_out_text",
        "zoom_out_title"
       ]
      }
     },
     "b9a89cff91a94bf9bbaf39be5a53b33b": {
      "model_module": "@jupyter-widgets/controls",
      "model_module_version": "2.0.0",
      "model_name": "VBoxModel",
      "state": {
       "children": [
        "IPY_MODEL_c777c8003920467b8b24c2d3bbbb064d"
       ],
       "layout": "IPY_MODEL_33ac4f7d60a2438db654440872203a40"
      }
     },
     "b9df18afc44643d6a6e036644902d48e": {
      "model_module": "jupyter-leaflet",
      "model_module_version": "^0.19",
      "model_name": "LeafletTileLayerModel",
      "state": {
       "_model_module_version": "^0.19",
       "_view_module_version": "^0.19",
       "attribution": "&copy; <a href=\"https://www.openstreetmap.org/copyright\">OpenStreetMap</a> contributors",
       "base": true,
       "max_zoom": 19,
       "min_zoom": 1,
       "name": "OpenStreetMap.Mapnik",
       "options": [
        "attribution",
        "bounds",
        "detect_retina",
        "max_native_zoom",
        "max_zoom",
        "min_native_zoom",
        "min_zoom",
        "no_wrap",
        "tile_size",
        "tms",
        "zoom_offset"
       ],
       "url": "https://tile.openstreetmap.org/{z}/{x}/{y}.png"
      }
     },
     "ba1a20dc65384502adc685858555b0ea": {
      "model_module": "jupyter-leaflet",
      "model_module_version": "^0.19",
      "model_name": "LeafletZoomControlModel",
      "state": {
       "_model_module_version": "^0.19",
       "_view_module_version": "^0.19",
       "options": [
        "position",
        "zoom_in_text",
        "zoom_in_title",
        "zoom_out_text",
        "zoom_out_title"
       ]
      }
     },
     "ba46e0a5009b4a8ea439ce794e1d1222": {
      "model_module": "@jupyter-widgets/base",
      "model_module_version": "2.0.0",
      "model_name": "LayoutModel",
      "state": {}
     },
     "baaee9d9377441ee954a777aa047bea7": {
      "model_module": "@jupyter-widgets/base",
      "model_module_version": "2.0.0",
      "model_name": "LayoutModel",
      "state": {}
     },
     "bac17a9af6254706a71fb6928e39243b": {
      "model_module": "@jupyter-widgets/base",
      "model_module_version": "2.0.0",
      "model_name": "LayoutModel",
      "state": {}
     },
     "bb00d72d476e495d9784ef40306b5cfb": {
      "model_module": "@jupyter-widgets/base",
      "model_module_version": "2.0.0",
      "model_name": "LayoutModel",
      "state": {}
     },
     "bb57e0b812714f328ab4bf54127a441f": {
      "model_module": "jupyter-leaflet",
      "model_module_version": "^0.19",
      "model_name": "LeafletTileLayerModel",
      "state": {
       "_model_module_version": "^0.19",
       "_view_module_version": "^0.19",
       "attribution": "&copy; <a href=\"https://www.openstreetmap.org/copyright\">OpenStreetMap</a> contributors",
       "base": true,
       "max_zoom": 19,
       "min_zoom": 1,
       "name": "OpenStreetMap.Mapnik",
       "options": [
        "attribution",
        "bounds",
        "detect_retina",
        "max_native_zoom",
        "max_zoom",
        "min_native_zoom",
        "min_zoom",
        "no_wrap",
        "tile_size",
        "tms",
        "zoom_offset"
       ],
       "url": "https://tile.openstreetmap.org/{z}/{x}/{y}.png"
      }
     },
     "bc871ec189e84c8281d8f823e512cab4": {
      "model_module": "anywidget",
      "model_module_version": "~0.9.*",
      "model_name": "AnyModel",
      "state": {
       "_anywidget_id": "ipywui.widgets.custom.message.MessageWidget",
       "_css": ".wui-message-root {\n    display: flex;\n    position: absolute;\n    left: 0;\n    right: 0;\n    top: 0;\n}\n\n.wui-message-container {\n    align-items: center;\n    display: flex;\n    flex-direction: column-reverse;\n    justify-content: center;\n    min-height: 100%;\n    outline: none;\n    width: 100%;\n\n    -webkit-tap-highlight-color: rgba(0,0,0,0);\n    bottom: 0;\n    left: 0;\n    right: 0;\n    top: 0;\n}\n\n.wui-message--success {\n    --wui-message-bg-color: #f0f9eb;\n    --wui-message-border-color: #e1f3d8;\n    --wui-message-text-color: #67c23a;\n}\n.wui-message--warning {\n    --wui-message-bg-color: #fdf6ec;\n    --wui-message-border-color: #faecd8;\n    --wui-message-text-color: #e6a23c;\n}\n.wui-message--info {\n    --wui-message-bg-color: #f4f4f5;\n    --wui-message-border-color: #e9e9eb;\n    --wui-message-text-color: #909399;\n}\n.wui-message--error {\n    --wui-message-bg-color: #fef0f0;\n    --wui-message-border-color: #fde2e2;\n    --wui-message-text-color: #f56c6c;\n}\n\n@keyframes msg-open {\n    0% {\n        opacity: 0;\n        -webkit-transform: translateY(-120%);\n        transform: translateY(-120%)\n    }\n    to {\n        -webkit-transform: translateY(0);\n        transform: translateY(0)\n    }\n}\n\n@keyframes msg-close {\n    0% {\n        opacity: 1;\n        -webkit-transform: scale(1);\n        transform: scale(1)\n    }\n    to {\n        opacity: 0;\n        -webkit-transform: scale(.9);\n        transform: scale(.9)\n    }\n}\n.wui-message[data-state=entered],.wui-message[data-state=entering] {\n    -webkit-animation: msg-open .24s cubic-bezier(.175,.885,.32,1.175) both;\n    animation: msg-open .24s cubic-bezier(.175,.885,.32,1.175) both\n}\n\n.wui-message[data-state=exiting] {\n    -webkit-animation: msg-close .12s cubic-bezier(.4,0,1,1) both;\n    animation: msg-close .12s cubic-bezier(.4,0,1,1) both\n}\n\n.wui-message {\n    width: -webkit-fit-content;\n    width: -moz-fit-content;\n    width: fit-content;\n    z-index: 2004;\n    max-width: calc(100% - 32px);\n    margin-top: 8px;\n    box-sizing: border-box;\n    /*border-radius: var(--wui-border-radius-base);*/\n    /*border-width: var(--wui-border-width);*/\n    /*border-style: var(--wui-border-style);*/\n    border-color: var(--wui-message-border-color);\n    /*left: 50%;*/\n    /*top: 20px;*/\n    /*transform: translateX(-50%);*/\n    background-color: var(--wui-message-bg-color);\n    /*transition: opacity var(--wui-transition-duration),transform .4s,top .4s;*/\n    /*padding: var(--wui-message-padding);*/\n    display: flex;\n    align-items: center;\n}\n\n/*.wui-message--success */\n.wui-message__content {\n    color: var(--wui-message-text-color);\n    font-size: 14px;\n    line-height: 18px;\n    margin: 10px 14px 10px 14px;\n    overflow-wrap: break-word;\n}\n\n.wui-message__closeBtn {\n    /*cursor: pointer;*/\n    font-style: normal;\n    /*color: gray;*/\n    padding-right: 14px;\n    /*font-size: 13px;*/\n    user-select: none;\n\n    background: transparent;\n    border: none;\n    color: gray;\n    cursor: pointer;\n    font-size: 13px;\n    font-weight: 400;\n    line-height: 1;\n    outline: none;\n    /*padding: 4px;*/\n    text-align: center;\n    transition: opacity .3s;\n    /*width: 100%;*/\n}",
       "_esm": "function closeMsg(msgDom) {\n  if (!msgDom) {\n    return;\n  }\n  msgDom.setAttribute('data-state', 'exiting');\n  msgDom.remove();\n}\n\nfunction createMsg(options) {\n  const {message, msg_id, type = 'info', show_close = false} = options;\n  const msgDom = document.createElement('div');\n  msgDom.className += ` wui-message--${type} wui-message`;\n  msgDom.setAttribute('data-state', 'entered');\n  msgDom.setAttribute('id', msg_id);\n  const msgContent = document.createElement('p');\n  msgContent.className += ` wui-message--${type} wui-message__content`;\n  msgContent.innerText = message;\n  msgDom.appendChild(msgContent);\n  if (show_close) {\n    const closeBtn = document.createElement('i');\n    closeBtn.className += 'wui-message__closeBtn';\n    closeBtn.innerText = 'x';\n    closeBtn.addEventListener('click', (ev) => {\n      closeMsg(msgDom);\n    })\n    msgDom.appendChild(closeBtn);\n  }\n  return msgDom;\n}\n\nexport async function render(view) {\n  let model = view.model;\n  const msgRoot = view.el;\n  msgRoot.className += ' wui-message-root'\n\n  const msgContainer = document.createElement('div');\n  msgContainer.className += ' wui-message-container';\n  msgRoot.appendChild(msgContainer)\n\n  model.on(\"change:message_options\", () => {\n    const options = model.get(\"message_options\");\n    const msg = createMsg(options);\n    msgContainer.appendChild(msg);\n    const {duration = 3000} = options;\n    if (duration > 0) {\n      setTimeout(() => {\n        closeMsg(msg)\n      }, duration);\n    }\n  })\n\n  model.on(\"change:close_msg_id\", () => {\n    const msg_id = model.get(\"close_msg_id\");\n    const msgDom = document.getElementById(msg_id);\n    closeMsg(msgDom);\n  })\n}\n",
       "_model_module": "anywidget",
       "_model_module_version": "~0.9.*",
       "_model_name": "AnyModel",
       "_view_module": "anywidget",
       "_view_module_version": "~0.9.*",
       "_view_name": "AnyView",
       "close_msg_id": "",
       "layout": "IPY_MODEL_f0dd500a969c4c7da67b615c47f22539",
       "message_options": {
        "duration": 3000,
        "message": "",
        "show_close": false,
        "type": "info"
       }
      }
     },
     "bccd5265327644ed9a012fa652323705": {
      "model_module": "@jupyter-widgets/controls",
      "model_module_version": "2.0.0",
      "model_name": "VBoxModel",
      "state": {
       "children": [
        "IPY_MODEL_b86ca6e1df2e49ad930dc7ed06a46a75"
       ],
       "layout": "IPY_MODEL_6e94898472724b41b7f81790c86cfb6a"
      }
     },
     "bd7cc2d5876d48269811c7f7e2a4838e": {
      "model_module": "jupyter-leaflet",
      "model_module_version": "^0.19",
      "model_name": "LeafletAttributionControlModel",
      "state": {
       "_model_module_version": "^0.19",
       "_view_module_version": "^0.19",
       "options": [
        "position",
        "prefix"
       ],
       "position": "bottomright",
       "prefix": "ipyleaflet"
      }
     },
     "be82b98c836b41318afcb807199622c6": {
      "model_module": "jupyter-leaflet",
      "model_module_version": "^0.19",
      "model_name": "LeafletTileLayerModel",
      "state": {
       "_model_module_version": "^0.19",
       "_view_module_version": "^0.19",
       "attribution": "&copy; <a href=\"https://www.openstreetmap.org/copyright\">OpenStreetMap</a> contributors",
       "base": true,
       "max_zoom": 19,
       "min_zoom": 1,
       "name": "OpenStreetMap.Mapnik",
       "options": [
        "attribution",
        "bounds",
        "detect_retina",
        "max_native_zoom",
        "max_zoom",
        "min_native_zoom",
        "min_zoom",
        "no_wrap",
        "tile_size",
        "tms",
        "zoom_offset"
       ],
       "url": "https://tile.openstreetmap.org/{z}/{x}/{y}.png"
      }
     },
     "bf28c1545e1f48c9b5f04c9f12bb6c92": {
      "model_module": "jupyter-leaflet",
      "model_module_version": "^0.19",
      "model_name": "LeafletZoomControlModel",
      "state": {
       "_model_module_version": "^0.19",
       "_view_module_version": "^0.19",
       "options": [
        "position",
        "zoom_in_text",
        "zoom_in_title",
        "zoom_out_text",
        "zoom_out_title"
       ]
      }
     },
     "c00748e7bce248078775d07fd06759d0": {
      "model_module": "@jupyter-widgets/base",
      "model_module_version": "2.0.0",
      "model_name": "LayoutModel",
      "state": {}
     },
     "c07a7b9705e941f292920973defa7014": {
      "model_module": "@jupyter-widgets/base",
      "model_module_version": "2.0.0",
      "model_name": "LayoutModel",
      "state": {}
     },
     "c2961ba13c6b422dab51947f7b40f1b5": {
      "model_module": "jupyter-leaflet",
      "model_module_version": "^0.19",
      "model_name": "LeafletLayersControlModel",
      "state": {
       "_model_module_version": "^0.19",
       "_view_module_version": "^0.19",
       "collapsed": false,
       "options": [
        "collapsed",
        "position"
       ]
      }
     },
     "c3108d99e496434f90e31b0e965af93f": {
      "model_module": "@jupyter-widgets/base",
      "model_module_version": "2.0.0",
      "model_name": "LayoutModel",
      "state": {}
     },
     "c36d0f2500b147a6927463a28986bd6b": {
      "model_module": "jupyter-leaflet",
      "model_module_version": "^0.19",
      "model_name": "LeafletAttributionControlModel",
      "state": {
       "_model_module_version": "^0.19",
       "_view_module_version": "^0.19",
       "options": [
        "position",
        "prefix"
       ],
       "position": "bottomright",
       "prefix": "ipyleaflet"
      }
     },
     "c3702aed94e646b996cbed4ee62b2ac5": {
      "model_module": "@jupyter-widgets/controls",
      "model_module_version": "2.0.0",
      "model_name": "VBoxModel",
      "state": {
       "children": [
        "IPY_MODEL_7eff25f6cde14a5cae16f8fa200015f6"
       ],
       "layout": "IPY_MODEL_dc668e23cea1464daca744c50ea4ff5e"
      }
     },
     "c4ff5fb661ce41df83cde2deec065e7e": {
      "model_module": "@jupyter-widgets/output",
      "model_module_version": "1.0.0",
      "model_name": "OutputModel",
      "state": {
       "layout": "IPY_MODEL_e15dbffefa774bf29d5c063c49f28ce9",
       "outputs": [
        {
         "name": "stdout",
         "output_type": "stream",
         "text": "2025-04-06 22:05:56,440 [INFO] api_create_app.py:render:126 - App render end.\n"
        },
        {
         "name": "stdout",
         "output_type": "stream",
         "text": "2025-04-06 22:05:56,435 [INFO] sfc_codegen.py:render:165 - 🔥 Rerender SFC<__tmp_for_str.vue> at 4663330176\n"
        },
        {
         "name": "stdout",
         "output_type": "stream",
         "text": "2025-04-06 22:05:56,435 [INFO] api_create_app.py:render:116 - App render start.\n"
        },
        {
         "name": "stdout",
         "output_type": "stream",
         "text": "2025-04-06 22:05:50,486 [INFO] api_create_app.py:render:126 - App render end.\n"
        },
        {
         "name": "stdout",
         "output_type": "stream",
         "text": "2025-04-06 22:05:50,478 [INFO] sfc_codegen.py:render:165 - 🔥 Rerender SFC<__tmp_for_str.vue> at 4663338672\n"
        },
        {
         "name": "stdout",
         "output_type": "stream",
         "text": "2025-04-06 22:05:50,477 [INFO] api_create_app.py:render:116 - App render start.\n"
        },
        {
         "name": "stdout",
         "output_type": "stream",
         "text": "2025-04-06 22:05:41,654 [INFO] api_create_app.py:render:126 - App render end.\n"
        },
        {
         "name": "stdout",
         "output_type": "stream",
         "text": "2025-04-06 22:05:41,648 [INFO] sfc_codegen.py:render:165 - 🔥 Rerender SFC<__tmp_for_str.vue> at 4662722128\n"
        },
        {
         "name": "stdout",
         "output_type": "stream",
         "text": "2025-04-06 22:05:41,647 [INFO] api_create_app.py:render:116 - App render start.\n"
        },
        {
         "name": "stdout",
         "output_type": "stream",
         "text": "2025-04-06 22:05:28,289 [INFO] api_create_app.py:render:126 - App render end.\n"
        },
        {
         "name": "stdout",
         "output_type": "stream",
         "text": "2025-04-06 22:05:28,283 [INFO] sfc_codegen.py:render:165 - 🔥 Rerender SFC<__tmp_for_str.vue> at 4662714160\n"
        },
        {
         "name": "stdout",
         "output_type": "stream",
         "text": "2025-04-06 22:05:28,283 [INFO] api_create_app.py:render:116 - App render start.\n"
        },
        {
         "name": "stdout",
         "output_type": "stream",
         "text": "2025-04-06 22:02:05,108 [INFO] api_create_app.py:render:126 - App render end.\n"
        },
        {
         "name": "stdout",
         "output_type": "stream",
         "text": "2025-04-06 22:02:05,102 [INFO] sfc_codegen.py:render:165 - 🔥 Rerender SFC<__tmp_for_str.vue> at 4661947280\n"
        },
        {
         "name": "stdout",
         "output_type": "stream",
         "text": "2025-04-06 22:02:05,102 [INFO] api_create_app.py:render:116 - App render start.\n"
        },
        {
         "name": "stdout",
         "output_type": "stream",
         "text": "2025-04-06 22:01:45,592 [INFO] api_create_app.py:render:126 - App render end.\n"
        },
        {
         "name": "stdout",
         "output_type": "stream",
         "text": "2025-04-06 22:01:45,588 [INFO] sfc_codegen.py:render:165 - 🔥 Rerender SFC<__tmp_for_str.vue> at 4661121216\n"
        },
        {
         "name": "stdout",
         "output_type": "stream",
         "text": "2025-04-06 22:01:45,588 [INFO] api_create_app.py:render:116 - App render start.\n"
        },
        {
         "name": "stdout",
         "output_type": "stream",
         "text": "2025-04-06 22:00:05,292 [INFO] api_create_app.py:render:126 - App render end.\n"
        },
        {
         "name": "stdout",
         "output_type": "stream",
         "text": "2025-04-06 22:00:05,283 [INFO] sfc_codegen.py:render:165 - 🔥 Rerender SFC<__tmp_for_str.vue> at 4661131056\n"
        },
        {
         "name": "stdout",
         "output_type": "stream",
         "text": "2025-04-06 22:00:05,282 [INFO] api_create_app.py:render:116 - App render start.\n"
        },
        {
         "name": "stdout",
         "output_type": "stream",
         "text": "2025-04-06 21:59:41,358 [INFO] api_create_app.py:render:126 - App render end.\n"
        },
        {
         "name": "stdout",
         "output_type": "stream",
         "text": "2025-04-06 21:59:41,352 [INFO] sfc_codegen.py:render:165 - 🔥 Rerender SFC<__tmp_for_str.vue> at 4661130720\n"
        },
        {
         "name": "stdout",
         "output_type": "stream",
         "text": "2025-04-06 21:59:41,351 [INFO] api_create_app.py:render:116 - App render start.\n"
        },
        {
         "name": "stdout",
         "output_type": "stream",
         "text": "2025-04-06 21:59:19,717 [INFO] api_create_app.py:render:126 - App render end.\n"
        },
        {
         "name": "stdout",
         "output_type": "stream",
         "text": "2025-04-06 21:59:19,711 [INFO] sfc_codegen.py:render:165 - 🔥 Rerender SFC<__tmp_for_str.vue> at 4458460592\n"
        },
        {
         "name": "stdout",
         "output_type": "stream",
         "text": "2025-04-06 21:59:19,710 [INFO] api_create_app.py:render:116 - App render start.\n"
        },
        {
         "name": "stdout",
         "output_type": "stream",
         "text": "2025-04-06 21:59:13,846 [INFO] api_create_app.py:render:126 - App render end.\n"
        },
        {
         "name": "stdout",
         "output_type": "stream",
         "text": "2025-04-06 21:59:13,841 [INFO] sfc_codegen.py:render:165 - 🔥 Rerender SFC<__tmp_for_str.vue> at 4660840096\n"
        },
        {
         "name": "stdout",
         "output_type": "stream",
         "text": "2025-04-06 21:59:13,841 [INFO] api_create_app.py:render:116 - App render start.\n"
        },
        {
         "name": "stdout",
         "output_type": "stream",
         "text": "2025-04-06 21:59:00,052 [INFO] api_create_app.py:render:126 - App render end.\n"
        },
        {
         "name": "stdout",
         "output_type": "stream",
         "text": "2025-04-06 21:59:00,045 [INFO] sfc_codegen.py:render:165 - 🔥 Rerender SFC<__tmp_for_str.vue> at 4458846608\n"
        },
        {
         "name": "stdout",
         "output_type": "stream",
         "text": "2025-04-06 21:59:00,045 [INFO] api_create_app.py:render:116 - App render start.\n"
        },
        {
         "name": "stdout",
         "output_type": "stream",
         "text": "2025-04-06 21:58:52,139 [INFO] api_create_app.py:render:126 - App render end.\n"
        },
        {
         "name": "stdout",
         "output_type": "stream",
         "text": "2025-04-06 21:58:52,134 [INFO] sfc_codegen.py:render:165 - 🔥 Rerender SFC<__tmp_for_str.vue> at 4458844928\n"
        },
        {
         "name": "stdout",
         "output_type": "stream",
         "text": "2025-04-06 21:58:52,134 [INFO] api_create_app.py:render:116 - App render start.\n"
        },
        {
         "name": "stdout",
         "output_type": "stream",
         "text": "2025-04-06 21:58:34,992 [INFO] api_create_app.py:render:126 - App render end.\n"
        },
        {
         "name": "stdout",
         "output_type": "stream",
         "text": "2025-04-06 21:58:34,985 [INFO] sfc_codegen.py:render:165 - 🔥 Rerender SFC<__tmp_for_str.vue> at 4458674208\n"
        },
        {
         "name": "stdout",
         "output_type": "stream",
         "text": "2025-04-06 21:58:34,984 [INFO] api_create_app.py:render:116 - App render start.\n"
        },
        {
         "name": "stdout",
         "output_type": "stream",
         "text": "2025-04-06 21:58:05,127 [INFO] api_create_app.py:render:126 - App render end.\n"
        },
        {
         "name": "stdout",
         "output_type": "stream",
         "text": "2025-04-06 21:58:05,121 [INFO] sfc_codegen.py:render:165 - 🔥 Rerender SFC<__tmp_for_str.vue> at 4458450704\n"
        },
        {
         "name": "stdout",
         "output_type": "stream",
         "text": "2025-04-06 21:58:05,120 [INFO] api_create_app.py:render:116 - App render start.\n"
        },
        {
         "name": "stdout",
         "output_type": "stream",
         "text": "2025-04-06 21:57:14,406 [INFO] api_create_app.py:render:126 - App render end.\n"
        },
        {
         "name": "stdout",
         "output_type": "stream",
         "text": "2025-04-06 21:57:14,398 [INFO] sfc_codegen.py:render:165 - 🔥 Rerender SFC<__tmp_for_str.vue> at 4458448016\n"
        },
        {
         "name": "stdout",
         "output_type": "stream",
         "text": "2025-04-06 21:57:14,397 [INFO] api_create_app.py:render:116 - App render start.\n"
        },
        {
         "name": "stdout",
         "output_type": "stream",
         "text": "2025-04-06 21:56:46,224 [INFO] api_create_app.py:render:126 - App render end.\n"
        },
        {
         "name": "stdout",
         "output_type": "stream",
         "text": "2025-04-06 21:56:46,218 [INFO] sfc_codegen.py:render:165 - 🔥 Rerender SFC<__tmp_for_str.vue> at 4455403568\n"
        },
        {
         "name": "stdout",
         "output_type": "stream",
         "text": "2025-04-06 21:56:46,217 [INFO] api_create_app.py:render:116 - App render start.\n"
        },
        {
         "name": "stdout",
         "output_type": "stream",
         "text": "2025-04-06 21:56:39,722 [INFO] sfc_codegen.py:render:165 - 🔥 Rerender SFC<__tmp_for_str.vue> at 4455410048\n"
        },
        {
         "name": "stdout",
         "output_type": "stream",
         "text": "2025-04-06 21:56:39,721 [INFO] api_create_app.py:render:116 - App render start.\n"
        },
        {
         "name": "stdout",
         "output_type": "stream",
         "text": "2025-04-06 21:56:01,401 [INFO] api_create_app.py:render:126 - App render end.\n"
        },
        {
         "name": "stdout",
         "output_type": "stream",
         "text": "2025-04-06 21:56:01,393 [INFO] sfc_codegen.py:render:165 - 🔥 Rerender SFC<__tmp_for_str.vue> at 4455263744\n"
        },
        {
         "name": "stdout",
         "output_type": "stream",
         "text": "2025-04-06 21:56:01,393 [INFO] api_create_app.py:render:116 - App render start.\n"
        },
        {
         "name": "stdout",
         "output_type": "stream",
         "text": "2025-04-06 21:55:23,370 [INFO] api_create_app.py:render:126 - App render end.\n"
        },
        {
         "name": "stdout",
         "output_type": "stream",
         "text": "2025-04-06 21:55:23,333 [INFO] sfc_codegen.py:render:165 - 🔥 Rerender SFC<__tmp_for_str.vue> at 4455001408\n"
        },
        {
         "name": "stdout",
         "output_type": "stream",
         "text": "2025-04-06 21:55:23,333 [INFO] api_create_app.py:render:116 - App render start.\n"
        }
       ]
      }
     },
     "c5a32512458a4784af42f7a0a1bdc810": {
      "model_module": "jupyter-leaflet",
      "model_module_version": "^0.19",
      "model_name": "LeafletZoomControlModel",
      "state": {
       "_model_module_version": "^0.19",
       "_view_module_version": "^0.19",
       "options": [
        "position",
        "zoom_in_text",
        "zoom_in_title",
        "zoom_out_text",
        "zoom_out_title"
       ]
      }
     },
     "c5eec85fd8864307841851900f0f9949": {
      "model_module": "jupyter-leaflet",
      "model_module_version": "^0.19",
      "model_name": "LeafletTileLayerModel",
      "state": {
       "_model_module_version": "^0.19",
       "_view_module_version": "^0.19",
       "attribution": "&copy; <a href=\"https://www.openstreetmap.org/copyright\">OpenStreetMap</a> contributors",
       "base": true,
       "max_zoom": 19,
       "min_zoom": 1,
       "name": "OpenStreetMap.Mapnik",
       "options": [
        "attribution",
        "bounds",
        "detect_retina",
        "max_native_zoom",
        "max_zoom",
        "min_native_zoom",
        "min_zoom",
        "no_wrap",
        "tile_size",
        "tms",
        "zoom_offset"
       ],
       "url": "https://tile.openstreetmap.org/{z}/{x}/{y}.png"
      }
     },
     "c5f0a598f8fb4033ae7db51857997ed1": {
      "model_module": "@jupyter-widgets/base",
      "model_module_version": "2.0.0",
      "model_name": "LayoutModel",
      "state": {}
     },
     "c6652093b92b4498a3484e6aa13cea71": {
      "model_module": "@jupyter-widgets/controls",
      "model_module_version": "2.0.0",
      "model_name": "VBoxModel",
      "state": {
       "children": [
        "IPY_MODEL_bc871ec189e84c8281d8f823e512cab4",
        "IPY_MODEL_09fb50054b0c47069c58518edc1dcb24"
       ],
       "layout": "IPY_MODEL_71e4293b6cfd418fbbf35bc3f36883e2"
      }
     },
     "c6968708218a4f10bdc72a206f5ee30f": {
      "model_module": "@jupyter-widgets/base",
      "model_module_version": "2.0.0",
      "model_name": "LayoutModel",
      "state": {}
     },
     "c75f91b9dbba4d5bb180bc019b5a9d71": {
      "model_module": "jupyter-leaflet",
      "model_module_version": "^0.19",
      "model_name": "LeafletMapStyleModel",
      "state": {
       "_model_module_version": "^0.19"
      }
     },
     "c777c8003920467b8b24c2d3bbbb064d": {
      "model_module": "@jupyter-widgets/controls",
      "model_module_version": "2.0.0",
      "model_name": "VBoxModel",
      "state": {
       "children": [
        "IPY_MODEL_a1f16fa6df6546c88f9498b6907e1a05",
        "IPY_MODEL_fe3f62d63fd547fbb95febe64c6c1877"
       ],
       "layout": "IPY_MODEL_ec1507ee9f5e4551b3409288c5a159f8"
      }
     },
     "c90530dc9dfd46b38b30b9596481b680": {
      "model_module": "jupyter-leaflet",
      "model_module_version": "^0.19",
      "model_name": "LeafletImageOverlayModel",
      "state": {
       "_model_module_version": "^0.19",
       "_view_module_version": "^0.19",
       "bounds": [
        [
         13,
         -130
        ],
        [
         32,
         -100
        ]
       ],
       "options": [
        "attribution"
       ],
       "url": "https://i.imgur.com/06Q1fSz.png"
      }
     },
     "c96ddca783b04569bb7ba94a51b5e20e": {
      "model_module": "jupyter-leaflet",
      "model_module_version": "^0.19",
      "model_name": "LeafletMapStyleModel",
      "state": {
       "_model_module_version": "^0.19"
      }
     },
     "c9732367a15d4a818653c8cd00df672c": {
      "model_module": "jupyter-leaflet",
      "model_module_version": "^0.19",
      "model_name": "LeafletMapStyleModel",
      "state": {
       "_model_module_version": "^0.19"
      }
     },
     "c97510b06e7d4b93ba03b2dd4e784cac": {
      "model_module": "@jupyter-widgets/controls",
      "model_module_version": "2.0.0",
      "model_name": "VBoxModel",
      "state": {
       "children": [
        "IPY_MODEL_2062b0f294564ec29da00ac775816f75"
       ],
       "layout": "IPY_MODEL_b4dfbfa9c29d43ce99afb078e8cee232"
      }
     },
     "c99604c917cc43b4a630b64858512357": {
      "model_module": "jupyter-leaflet",
      "model_module_version": "^0.19",
      "model_name": "LeafletZoomControlModel",
      "state": {
       "_model_module_version": "^0.19",
       "_view_module_version": "^0.19",
       "options": [
        "position",
        "zoom_in_text",
        "zoom_in_title",
        "zoom_out_text",
        "zoom_out_title"
       ]
      }
     },
     "c99671cebd5d42ccb1fb51c1d4c6ca84": {
      "model_module": "@jupyter-widgets/base",
      "model_module_version": "2.0.0",
      "model_name": "LayoutModel",
      "state": {}
     },
     "cae503e18d4a4e599e8fe8e76b6913a6": {
      "model_module": "@jupyter-widgets/base",
      "model_module_version": "2.0.0",
      "model_name": "LayoutModel",
      "state": {}
     },
     "cb667b11574843399bd4860a9ce7c676": {
      "model_module": "jupyter-leaflet",
      "model_module_version": "^0.19",
      "model_name": "LeafletZoomControlModel",
      "state": {
       "_model_module_version": "^0.19",
       "_view_module_version": "^0.19",
       "options": [
        "position",
        "zoom_in_text",
        "zoom_in_title",
        "zoom_out_text",
        "zoom_out_title"
       ]
      }
     },
     "cc4f3bf7bf6a4e5c90543a061199d2ef": {
      "model_module": "@jupyter-widgets/controls",
      "model_module_version": "2.0.0",
      "model_name": "VBoxModel",
      "state": {
       "children": [
        "IPY_MODEL_97d2a187f29f44ab81972be54c9a649f",
        "IPY_MODEL_fbcec458fd93417ab80f3e7a25dedf84"
       ],
       "layout": "IPY_MODEL_4df4c5e28e7541728f90ad8b13a135e7"
      }
     },
     "ccd36692a7b3492684dce663cc3fbc84": {
      "model_module": "@jupyter-widgets/base",
      "model_module_version": "2.0.0",
      "model_name": "LayoutModel",
      "state": {}
     },
     "ccf71e49ded148e8a5116ea0e54a6990": {
      "model_module": "jupyter-leaflet",
      "model_module_version": "^0.19",
      "model_name": "LeafletMapModel",
      "state": {
       "_model_module_version": "^0.19",
       "_view_module_version": "^0.19",
       "center": [
        52.20487153271788,
        360.1215362548828
       ],
       "controls": [
        "IPY_MODEL_cb667b11574843399bd4860a9ce7c676",
        "IPY_MODEL_dd0e7ebd19f14c7ca4846d2fe31f83f4",
        "IPY_MODEL_7eff25f6cde14a5cae16f8fa200015f6"
       ],
       "default_style": "IPY_MODEL_fd4589a63db54d9198bf827c157b3b56",
       "dragging_style": "IPY_MODEL_f7d3190f084f4096baf82e9de43892af",
       "east": null,
       "fullscreen": false,
       "interpolation": "bilinear",
       "layers": [
        "IPY_MODEL_be82b98c836b41318afcb807199622c6",
        "IPY_MODEL_b78c557fbbc84b5998aa6f8f19b233d7"
       ],
       "layout": "IPY_MODEL_a217a5e01c2a4697b9ae50623a1e4ea8",
       "modisdate": "2025-04-05",
       "north": -90,
       "options": [
        "bounce_at_zoom_limits",
        "box_zoom",
        "center",
        "close_popup_on_click",
        "double_click_zoom",
        "dragging",
        "fullscreen",
        "inertia",
        "inertia_deceleration",
        "inertia_max_speed",
        "interpolation",
        "keyboard",
        "keyboard_pan_offset",
        "keyboard_zoom_offset",
        "max_zoom",
        "min_zoom",
        "prefer_canvas",
        "scroll_wheel_zoom",
        "tap",
        "tap_tolerance",
        "touch_zoom",
        "world_copy_jump",
        "zoom",
        "zoom_animation_threshold",
        "zoom_delta",
        "zoom_snap"
       ],
       "prefer_canvas": false,
       "south": 90,
       "style": "IPY_MODEL_fd4589a63db54d9198bf827c157b3b56",
       "west": null,
       "window_url": "http://localhost:2071/lab/tree/nb_llm/pyvue/examples/vleaflet/layers/ImageOverly.ipynb"
      }
     },
     "cd8b8fc0e78e4326890d1ac2b31efdb1": {
      "model_module": "jupyter-leaflet",
      "model_module_version": "^0.19",
      "model_name": "LeafletImageOverlayModel",
      "state": {
       "_model_module_version": "^0.19",
       "_view_module_version": "^0.19",
       "bounds": [
        [
         13,
         -130
        ],
        [
         32,
         -100
        ]
       ],
       "name": "image",
       "options": [
        "attribution"
       ],
       "url": "https://www.vuepy.org/images/vuepy-logo.svg"
      }
     },
     "cdad695bc269407895d66270e74792ee": {
      "model_module": "jupyter-leaflet",
      "model_module_version": "^0.19",
      "model_name": "LeafletMapStyleModel",
      "state": {
       "_model_module_version": "^0.19"
      }
     },
     "ce59dd0c334141f5858673394b5de051": {
      "model_module": "jupyter-leaflet",
      "model_module_version": "^0.19",
      "model_name": "LeafletMapStyleModel",
      "state": {
       "_model_module_version": "^0.19"
      }
     },
     "cf50aefb6eea45ee8c193d4b28916c30": {
      "model_module": "jupyter-leaflet",
      "model_module_version": "^0.19",
      "model_name": "LeafletTileLayerModel",
      "state": {
       "_model_module_version": "^0.19",
       "_view_module_version": "^0.19",
       "attribution": "&copy; <a href=\"https://www.openstreetmap.org/copyright\">OpenStreetMap</a> contributors",
       "base": true,
       "max_zoom": 19,
       "min_zoom": 1,
       "name": "OpenStreetMap.Mapnik",
       "options": [
        "attribution",
        "bounds",
        "detect_retina",
        "max_native_zoom",
        "max_zoom",
        "min_native_zoom",
        "min_zoom",
        "no_wrap",
        "tile_size",
        "tms",
        "zoom_offset"
       ],
       "url": "https://tile.openstreetmap.org/{z}/{x}/{y}.png"
      }
     },
     "d03529bb469749b5b454ed4606ab7135": {
      "model_module": "jupyter-leaflet",
      "model_module_version": "^0.19",
      "model_name": "LeafletMapStyleModel",
      "state": {
       "_model_module_version": "^0.19",
       "cursor": "move"
      }
     },
     "d0680c7540774494b8d21302cb37a41d": {
      "model_module": "@jupyter-widgets/controls",
      "model_module_version": "2.0.0",
      "model_name": "VBoxModel",
      "state": {
       "children": [
        "IPY_MODEL_9d77a35f83f44c079ef90202306ee6c5"
       ],
       "layout": "IPY_MODEL_e326fa5bf030423ba56ca68b2a3ac940"
      }
     },
     "d19a0bf7093c48e58640431189968f6f": {
      "model_module": "@jupyter-widgets/controls",
      "model_module_version": "2.0.0",
      "model_name": "VBoxModel",
      "state": {
       "children": [
        "IPY_MODEL_0bacad33caf64826ac69a6be506dccfc"
       ],
       "layout": "IPY_MODEL_e0e3cfb2bcb4428eb7d2a4d421b858f8"
      }
     },
     "d28e437611d64bcca77112b141350724": {
      "model_module": "jupyter-leaflet",
      "model_module_version": "^0.19",
      "model_name": "LeafletMapStyleModel",
      "state": {
       "_model_module_version": "^0.19",
       "cursor": "move"
      }
     },
     "d29ccda72c6f4e05bde9edcbb65cab14": {
      "model_module": "@jupyter-widgets/base",
      "model_module_version": "2.0.0",
      "model_name": "LayoutModel",
      "state": {}
     },
     "d2f0dab4d0d3462bb07f35b852d0ed33": {
      "model_module": "@jupyter-widgets/base",
      "model_module_version": "2.0.0",
      "model_name": "LayoutModel",
      "state": {}
     },
     "d3a97bc7caf0456ba14bfa6e9cc0523d": {
      "model_module": "jupyter-leaflet",
      "model_module_version": "^0.19",
      "model_name": "LeafletTileLayerModel",
      "state": {
       "_model_module_version": "^0.19",
       "_view_module_version": "^0.19",
       "attribution": "&copy; <a href=\"https://www.openstreetmap.org/copyright\">OpenStreetMap</a> contributors",
       "base": true,
       "max_zoom": 19,
       "min_zoom": 1,
       "name": "OpenStreetMap.Mapnik",
       "options": [
        "attribution",
        "bounds",
        "detect_retina",
        "max_native_zoom",
        "max_zoom",
        "min_native_zoom",
        "min_zoom",
        "no_wrap",
        "tile_size",
        "tms",
        "zoom_offset"
       ],
       "url": "https://tile.openstreetmap.org/{z}/{x}/{y}.png"
      }
     },
     "d3f60139be4e4fdabd9b51c7904afd41": {
      "model_module": "jupyter-leaflet",
      "model_module_version": "^0.19",
      "model_name": "LeafletMapStyleModel",
      "state": {
       "_model_module_version": "^0.19"
      }
     },
     "d4937e3b4b7244d6b7287147d69be2bf": {
      "model_module": "jupyter-leaflet",
      "model_module_version": "^0.19",
      "model_name": "LeafletMapModel",
      "state": {
       "_model_module_version": "^0.19",
       "_view_module_version": "^0.19",
       "center": [
        52.214338608258224,
        360.087890625
       ],
       "controls": [
        "IPY_MODEL_85342f51816b4c2d86684e5d30856be0",
        "IPY_MODEL_9e2941ed901e4c61a9c080733ba6acd9",
        "IPY_MODEL_a1617dcafd6a490499b19975d21c968b"
       ],
       "default_style": "IPY_MODEL_919d441ce65842278cc0125722d958ab",
       "dragging_style": "IPY_MODEL_fc96088ddaf94b94a875742ab9004a9e",
       "east": null,
       "fullscreen": false,
       "interpolation": "bilinear",
       "layers": [
        "IPY_MODEL_2c8946780d4e4746af389856a03e73dc",
        "IPY_MODEL_b86ca6e1df2e49ad930dc7ed06a46a75"
       ],
       "layout": "IPY_MODEL_8bfd9c52ba614dc3897f5161d5ba71e4",
       "modisdate": "2025-04-05",
       "north": -90,
       "options": [
        "bounce_at_zoom_limits",
        "box_zoom",
        "center",
        "close_popup_on_click",
        "double_click_zoom",
        "dragging",
        "fullscreen",
        "inertia",
        "inertia_deceleration",
        "inertia_max_speed",
        "interpolation",
        "keyboard",
        "keyboard_pan_offset",
        "keyboard_zoom_offset",
        "max_zoom",
        "min_zoom",
        "prefer_canvas",
        "scroll_wheel_zoom",
        "tap",
        "tap_tolerance",
        "touch_zoom",
        "world_copy_jump",
        "zoom",
        "zoom_animation_threshold",
        "zoom_delta",
        "zoom_snap"
       ],
       "prefer_canvas": false,
       "south": 90,
       "style": "IPY_MODEL_919d441ce65842278cc0125722d958ab",
       "west": null,
       "window_url": "http://localhost:2071/lab/tree/nb_llm/pyvue/examples/vleaflet/layers/ImageOverly.ipynb",
       "zoom": 4
      }
     },
     "d4df8e0c7e664b419e7d0a25a35878bb": {
      "model_module": "@jupyter-widgets/base",
      "model_module_version": "2.0.0",
      "model_name": "LayoutModel",
      "state": {}
     },
     "d50c959a0837460a8f5966158c33644a": {
      "model_module": "jupyter-leaflet",
      "model_module_version": "^0.19",
      "model_name": "LeafletMapModel",
      "state": {
       "_model_module_version": "^0.19",
       "_view_module_version": "^0.19",
       "center": [
        52.214338608258224,
        360.17578125
       ],
       "controls": [
        "IPY_MODEL_697491988d0d4f54b2af0ee41836a281",
        "IPY_MODEL_91f5f50460b14229a50392c3dd60cc28",
        "IPY_MODEL_e18fef5d595b4a108806880839c4d6c1"
       ],
       "default_style": "IPY_MODEL_43edc47dc7fb44a38a322ed7db363f18",
       "dragging_style": "IPY_MODEL_96abc91ba27d4a4993f054923d0fe7cf",
       "east": null,
       "fullscreen": false,
       "interpolation": "bilinear",
       "layers": [
        "IPY_MODEL_c5eec85fd8864307841851900f0f9949",
        "IPY_MODEL_63cd78834d8942a590d7b8b566f2844a"
       ],
       "layout": "IPY_MODEL_105dd675124b45249104f40168b402b6",
       "modisdate": "2025-04-05",
       "north": -90,
       "options": [
        "bounce_at_zoom_limits",
        "box_zoom",
        "center",
        "close_popup_on_click",
        "double_click_zoom",
        "dragging",
        "fullscreen",
        "inertia",
        "inertia_deceleration",
        "inertia_max_speed",
        "interpolation",
        "keyboard",
        "keyboard_pan_offset",
        "keyboard_zoom_offset",
        "max_zoom",
        "min_zoom",
        "prefer_canvas",
        "scroll_wheel_zoom",
        "tap",
        "tap_tolerance",
        "touch_zoom",
        "world_copy_jump",
        "zoom",
        "zoom_animation_threshold",
        "zoom_delta",
        "zoom_snap"
       ],
       "prefer_canvas": false,
       "south": 90,
       "style": "IPY_MODEL_43edc47dc7fb44a38a322ed7db363f18",
       "west": null,
       "window_url": "http://localhost:2071/lab/tree/nb_llm/pyvue/examples/vleaflet/layers/ImageOverly.ipynb",
       "zoom": 4
      }
     },
     "d5e19e9f373b41209bfc1e344a2fdc58": {
      "model_module": "jupyter-leaflet",
      "model_module_version": "^0.19",
      "model_name": "LeafletMapModel",
      "state": {
       "_model_module_version": "^0.19",
       "_view_module_version": "^0.19",
       "center": [
        25.005972656239187,
        -114.96093750000001
       ],
       "controls": [
        "IPY_MODEL_ba1a20dc65384502adc685858555b0ea",
        "IPY_MODEL_9743a81ab8204313b32a8c7b3dae7535"
       ],
       "default_style": "IPY_MODEL_8b3e5abbb2d04f8ea7694c8e6ff84007",
       "dragging_style": "IPY_MODEL_9e64f0cef714485fa0c0939737e8814c",
       "east": null,
       "fullscreen": false,
       "interpolation": "bilinear",
       "layers": [
        "IPY_MODEL_38eb21d5ae674881983fa0999dfdb015",
        "IPY_MODEL_c90530dc9dfd46b38b30b9596481b680"
       ],
       "layout": "IPY_MODEL_5967e3d4db644d8f88554631ffe67b91",
       "modisdate": "2025-04-05",
       "north": -90,
       "options": [
        "bounce_at_zoom_limits",
        "box_zoom",
        "center",
        "close_popup_on_click",
        "double_click_zoom",
        "dragging",
        "fullscreen",
        "inertia",
        "inertia_deceleration",
        "inertia_max_speed",
        "interpolation",
        "keyboard",
        "keyboard_pan_offset",
        "keyboard_zoom_offset",
        "max_zoom",
        "min_zoom",
        "prefer_canvas",
        "scroll_wheel_zoom",
        "tap",
        "tap_tolerance",
        "touch_zoom",
        "world_copy_jump",
        "zoom",
        "zoom_animation_threshold",
        "zoom_delta",
        "zoom_snap"
       ],
       "prefer_canvas": false,
       "south": 90,
       "style": "IPY_MODEL_8b3e5abbb2d04f8ea7694c8e6ff84007",
       "west": null,
       "window_url": "http://localhost:2071/lab/tree/nb_llm/pyvue/examples/vleaflet/layers/ImageOverly.ipynb",
       "zoom": 4
      }
     },
     "d61dfc8109954556a17469a86c50600a": {
      "model_module": "jupyter-leaflet",
      "model_module_version": "^0.19",
      "model_name": "LeafletAttributionControlModel",
      "state": {
       "_model_module_version": "^0.19",
       "_view_module_version": "^0.19",
       "options": [
        "position",
        "prefix"
       ],
       "position": "bottomright",
       "prefix": "ipyleaflet"
      }
     },
     "d640c23005e246c1863b7888e81c953d": {
      "model_module": "@jupyter-widgets/base",
      "model_module_version": "2.0.0",
      "model_name": "LayoutModel",
      "state": {}
     },
     "d717b5463e2441ea96f05bf563ffbd87": {
      "model_module": "@jupyter-widgets/controls",
      "model_module_version": "2.0.0",
      "model_name": "VBoxModel",
      "state": {
       "children": [
        "IPY_MODEL_d4937e3b4b7244d6b7287147d69be2bf"
       ],
       "layout": "IPY_MODEL_fd17f00dd1064432aae2bde380cd8f01"
      }
     },
     "d877bdf5c10e445fa9080b62639006cd": {
      "model_module": "jupyter-leaflet",
      "model_module_version": "^0.19",
      "model_name": "LeafletMapModel",
      "state": {
       "_model_module_version": "^0.19",
       "_view_module_version": "^0.19",
       "center": [
        52.214338608258224,
        360.087890625
       ],
       "controls": [
        "IPY_MODEL_b98ac74d1eab4192b155cc89a2e11421",
        "IPY_MODEL_c36d0f2500b147a6927463a28986bd6b",
        "IPY_MODEL_2062b0f294564ec29da00ac775816f75"
       ],
       "default_style": "IPY_MODEL_af482417447a42a1ac83cf74e099c60d",
       "dragging_style": "IPY_MODEL_d28e437611d64bcca77112b141350724",
       "east": null,
       "fullscreen": false,
       "interpolation": "bilinear",
       "layers": [
        "IPY_MODEL_d3a97bc7caf0456ba14bfa6e9cc0523d",
        "IPY_MODEL_808bb2ce826743e7a0ef31f66cabb8ae"
       ],
       "layout": "IPY_MODEL_4b7a9a2df1b144ff9c7a204628b122c4",
       "modisdate": "2025-04-05",
       "north": -90,
       "options": [
        "bounce_at_zoom_limits",
        "box_zoom",
        "center",
        "close_popup_on_click",
        "double_click_zoom",
        "dragging",
        "fullscreen",
        "inertia",
        "inertia_deceleration",
        "inertia_max_speed",
        "interpolation",
        "keyboard",
        "keyboard_pan_offset",
        "keyboard_zoom_offset",
        "max_zoom",
        "min_zoom",
        "prefer_canvas",
        "scroll_wheel_zoom",
        "tap",
        "tap_tolerance",
        "touch_zoom",
        "world_copy_jump",
        "zoom",
        "zoom_animation_threshold",
        "zoom_delta",
        "zoom_snap"
       ],
       "prefer_canvas": false,
       "south": 90,
       "style": "IPY_MODEL_af482417447a42a1ac83cf74e099c60d",
       "west": null,
       "window_url": "http://localhost:2071/lab/tree/nb_llm/pyvue/examples/vleaflet/layers/ImageOverly.ipynb",
       "zoom": 4
      }
     },
     "d9e62274c1b948e8a1e15b532831ad4e": {
      "model_module": "jupyter-leaflet",
      "model_module_version": "^0.19",
      "model_name": "LeafletMapStyleModel",
      "state": {
       "_model_module_version": "^0.19"
      }
     },
     "da2766e6ba884228aaa14c88366094c1": {
      "model_module": "@jupyter-widgets/base",
      "model_module_version": "2.0.0",
      "model_name": "LayoutModel",
      "state": {}
     },
     "db2557a491e24954aba9b4b096377930": {
      "model_module": "@jupyter-widgets/controls",
      "model_module_version": "2.0.0",
      "model_name": "VBoxModel",
      "state": {
       "children": [
        "IPY_MODEL_fb87a83485b1449889dea5219bc56021"
       ],
       "layout": "IPY_MODEL_c00748e7bce248078775d07fd06759d0"
      }
     },
     "dbaa3f2440d14da9a441e6d2d1f72799": {
      "model_module": "anywidget",
      "model_module_version": "~0.9.*",
      "model_name": "AnyModel",
      "state": {
       "_anywidget_id": "ipywui.widgets.custom.message.MessageWidget",
       "_css": ".wui-message-root {\n    display: flex;\n    position: absolute;\n    left: 0;\n    right: 0;\n    top: 0;\n}\n\n.wui-message-container {\n    align-items: center;\n    display: flex;\n    flex-direction: column-reverse;\n    justify-content: center;\n    min-height: 100%;\n    outline: none;\n    width: 100%;\n\n    -webkit-tap-highlight-color: rgba(0,0,0,0);\n    bottom: 0;\n    left: 0;\n    right: 0;\n    top: 0;\n}\n\n.wui-message--success {\n    --wui-message-bg-color: #f0f9eb;\n    --wui-message-border-color: #e1f3d8;\n    --wui-message-text-color: #67c23a;\n}\n.wui-message--warning {\n    --wui-message-bg-color: #fdf6ec;\n    --wui-message-border-color: #faecd8;\n    --wui-message-text-color: #e6a23c;\n}\n.wui-message--info {\n    --wui-message-bg-color: #f4f4f5;\n    --wui-message-border-color: #e9e9eb;\n    --wui-message-text-color: #909399;\n}\n.wui-message--error {\n    --wui-message-bg-color: #fef0f0;\n    --wui-message-border-color: #fde2e2;\n    --wui-message-text-color: #f56c6c;\n}\n\n@keyframes msg-open {\n    0% {\n        opacity: 0;\n        -webkit-transform: translateY(-120%);\n        transform: translateY(-120%)\n    }\n    to {\n        -webkit-transform: translateY(0);\n        transform: translateY(0)\n    }\n}\n\n@keyframes msg-close {\n    0% {\n        opacity: 1;\n        -webkit-transform: scale(1);\n        transform: scale(1)\n    }\n    to {\n        opacity: 0;\n        -webkit-transform: scale(.9);\n        transform: scale(.9)\n    }\n}\n.wui-message[data-state=entered],.wui-message[data-state=entering] {\n    -webkit-animation: msg-open .24s cubic-bezier(.175,.885,.32,1.175) both;\n    animation: msg-open .24s cubic-bezier(.175,.885,.32,1.175) both\n}\n\n.wui-message[data-state=exiting] {\n    -webkit-animation: msg-close .12s cubic-bezier(.4,0,1,1) both;\n    animation: msg-close .12s cubic-bezier(.4,0,1,1) both\n}\n\n.wui-message {\n    width: -webkit-fit-content;\n    width: -moz-fit-content;\n    width: fit-content;\n    z-index: 2004;\n    max-width: calc(100% - 32px);\n    margin-top: 8px;\n    box-sizing: border-box;\n    /*border-radius: var(--wui-border-radius-base);*/\n    /*border-width: var(--wui-border-width);*/\n    /*border-style: var(--wui-border-style);*/\n    border-color: var(--wui-message-border-color);\n    /*left: 50%;*/\n    /*top: 20px;*/\n    /*transform: translateX(-50%);*/\n    background-color: var(--wui-message-bg-color);\n    /*transition: opacity var(--wui-transition-duration),transform .4s,top .4s;*/\n    /*padding: var(--wui-message-padding);*/\n    display: flex;\n    align-items: center;\n}\n\n/*.wui-message--success */\n.wui-message__content {\n    color: var(--wui-message-text-color);\n    font-size: 14px;\n    line-height: 18px;\n    margin: 10px 14px 10px 14px;\n    overflow-wrap: break-word;\n}\n\n.wui-message__closeBtn {\n    /*cursor: pointer;*/\n    font-style: normal;\n    /*color: gray;*/\n    padding-right: 14px;\n    /*font-size: 13px;*/\n    user-select: none;\n\n    background: transparent;\n    border: none;\n    color: gray;\n    cursor: pointer;\n    font-size: 13px;\n    font-weight: 400;\n    line-height: 1;\n    outline: none;\n    /*padding: 4px;*/\n    text-align: center;\n    transition: opacity .3s;\n    /*width: 100%;*/\n}",
       "_esm": "function closeMsg(msgDom) {\n  if (!msgDom) {\n    return;\n  }\n  msgDom.setAttribute('data-state', 'exiting');\n  msgDom.remove();\n}\n\nfunction createMsg(options) {\n  const {message, msg_id, type = 'info', show_close = false} = options;\n  const msgDom = document.createElement('div');\n  msgDom.className += ` wui-message--${type} wui-message`;\n  msgDom.setAttribute('data-state', 'entered');\n  msgDom.setAttribute('id', msg_id);\n  const msgContent = document.createElement('p');\n  msgContent.className += ` wui-message--${type} wui-message__content`;\n  msgContent.innerText = message;\n  msgDom.appendChild(msgContent);\n  if (show_close) {\n    const closeBtn = document.createElement('i');\n    closeBtn.className += 'wui-message__closeBtn';\n    closeBtn.innerText = 'x';\n    closeBtn.addEventListener('click', (ev) => {\n      closeMsg(msgDom);\n    })\n    msgDom.appendChild(closeBtn);\n  }\n  return msgDom;\n}\n\nexport async function render(view) {\n  let model = view.model;\n  const msgRoot = view.el;\n  msgRoot.className += ' wui-message-root'\n\n  const msgContainer = document.createElement('div');\n  msgContainer.className += ' wui-message-container';\n  msgRoot.appendChild(msgContainer)\n\n  model.on(\"change:message_options\", () => {\n    const options = model.get(\"message_options\");\n    const msg = createMsg(options);\n    msgContainer.appendChild(msg);\n    const {duration = 3000} = options;\n    if (duration > 0) {\n      setTimeout(() => {\n        closeMsg(msg)\n      }, duration);\n    }\n  })\n\n  model.on(\"change:close_msg_id\", () => {\n    const msg_id = model.get(\"close_msg_id\");\n    const msgDom = document.getElementById(msg_id);\n    closeMsg(msgDom);\n  })\n}\n",
       "_model_module": "anywidget",
       "_model_module_version": "~0.9.*",
       "_model_name": "AnyModel",
       "_view_module": "anywidget",
       "_view_module_version": "~0.9.*",
       "_view_name": "AnyView",
       "close_msg_id": "",
       "layout": "IPY_MODEL_219fd4b683ce4c04aec2801eceadcf1c",
       "message_options": {
        "duration": 3000,
        "message": "",
        "show_close": false,
        "type": "info"
       }
      }
     },
     "dc668e23cea1464daca744c50ea4ff5e": {
      "model_module": "@jupyter-widgets/base",
      "model_module_version": "2.0.0",
      "model_name": "LayoutModel",
      "state": {}
     },
     "dd0e7ebd19f14c7ca4846d2fe31f83f4": {
      "model_module": "jupyter-leaflet",
      "model_module_version": "^0.19",
      "model_name": "LeafletAttributionControlModel",
      "state": {
       "_model_module_version": "^0.19",
       "_view_module_version": "^0.19",
       "options": [
        "position",
        "prefix"
       ],
       "position": "bottomright",
       "prefix": "ipyleaflet"
      }
     },
     "ddd9d48783b044958367fea9c06f8ebf": {
      "model_module": "@jupyter-widgets/base",
      "model_module_version": "2.0.0",
      "model_name": "LayoutModel",
      "state": {}
     },
     "ddfe6d766e3a4d77b83efd5dd3fc3ef9": {
      "model_module": "@jupyter-widgets/controls",
      "model_module_version": "2.0.0",
      "model_name": "VBoxModel",
      "state": {
       "children": [
        "IPY_MODEL_b78c557fbbc84b5998aa6f8f19b233d7"
       ],
       "layout": "IPY_MODEL_1a968bc4d4554781a57a6c490df50305"
      }
     },
     "dead4bcf12344a61b65aa7fb2963d91c": {
      "model_module": "@jupyter-widgets/base",
      "model_module_version": "2.0.0",
      "model_name": "LayoutModel",
      "state": {}
     },
     "e069b5715e9146708f53a1b177f693a5": {
      "model_module": "@jupyter-widgets/controls",
      "model_module_version": "2.0.0",
      "model_name": "VBoxModel",
      "state": {
       "children": [
        "IPY_MODEL_0cf0f192b6a54db980523cf486d706d4"
       ],
       "layout": "IPY_MODEL_ddd9d48783b044958367fea9c06f8ebf"
      }
     },
     "e0e3cfb2bcb4428eb7d2a4d421b858f8": {
      "model_module": "@jupyter-widgets/base",
      "model_module_version": "2.0.0",
      "model_name": "LayoutModel",
      "state": {}
     },
     "e10ceb2dc0124ecbb69f7cff7b5b9378": {
      "model_module": "@jupyter-widgets/controls",
      "model_module_version": "2.0.0",
      "model_name": "VBoxModel",
      "state": {
       "children": [
        "IPY_MODEL_86cb368ba7a14586a05146e3d9617bf3"
       ],
       "layout": "IPY_MODEL_129008781b7c4f00a68fc3def1163cea"
      }
     },
     "e1338984e70d45aa8a378d3aecf54a96": {
      "model_module": "@jupyter-widgets/controls",
      "model_module_version": "2.0.0",
      "model_name": "VBoxModel",
      "state": {
       "children": [
        "IPY_MODEL_b47b38040e4f4fb0b690da5cfc95a77c",
        "IPY_MODEL_7374cd57027d4ab9a6c2456e8aa8df31"
       ],
       "layout": "IPY_MODEL_6cf73570fdd549368aa6e3daf120fe82"
      }
     },
     "e15dbffefa774bf29d5c063c49f28ce9": {
      "model_module": "@jupyter-widgets/base",
      "model_module_version": "2.0.0",
      "model_name": "LayoutModel",
      "state": {}
     },
     "e18fef5d595b4a108806880839c4d6c1": {
      "model_module": "jupyter-leaflet",
      "model_module_version": "^0.19",
      "model_name": "LeafletLayersControlModel",
      "state": {
       "_model_module_version": "^0.19",
       "_view_module_version": "^0.19",
       "collapsed": false,
       "options": [
        "collapsed",
        "position"
       ]
      }
     },
     "e23ad5b4a0e94e2fa39dc87414d1a64a": {
      "model_module": "jupyter-leaflet",
      "model_module_version": "^0.19",
      "model_name": "LeafletMapStyleModel",
      "state": {
       "_model_module_version": "^0.19"
      }
     },
     "e326fa5bf030423ba56ca68b2a3ac940": {
      "model_module": "@jupyter-widgets/base",
      "model_module_version": "2.0.0",
      "model_name": "LayoutModel",
      "state": {}
     },
     "e3d19fc145ef4ce7a42e73a448f4a581": {
      "model_module": "jupyter-leaflet",
      "model_module_version": "^0.19",
      "model_name": "LeafletZoomControlModel",
      "state": {
       "_model_module_version": "^0.19",
       "_view_module_version": "^0.19",
       "options": [
        "position",
        "zoom_in_text",
        "zoom_in_title",
        "zoom_out_text",
        "zoom_out_title"
       ]
      }
     },
     "e4649e0ba5d843beae4ef16accb6ed1b": {
      "model_module": "@jupyter-widgets/controls",
      "model_module_version": "2.0.0",
      "model_name": "VBoxModel",
      "state": {
       "children": [
        "IPY_MODEL_6615c4df5dab4ce2aabfc308512dd286"
       ],
       "layout": "IPY_MODEL_95152cb2a4bb4adfb4881c9236e6aef7"
      }
     },
     "e4bfc1b5f8f6412181a15bce510a4979": {
      "model_module": "anywidget",
      "model_module_version": "~0.9.*",
      "model_name": "AnyModel",
      "state": {
       "_anywidget_id": "ipywui.widgets.custom.message.MessageWidget",
       "_css": ".wui-message-root {\n    display: flex;\n    position: absolute;\n    left: 0;\n    right: 0;\n    top: 0;\n}\n\n.wui-message-container {\n    align-items: center;\n    display: flex;\n    flex-direction: column-reverse;\n    justify-content: center;\n    min-height: 100%;\n    outline: none;\n    width: 100%;\n\n    -webkit-tap-highlight-color: rgba(0,0,0,0);\n    bottom: 0;\n    left: 0;\n    right: 0;\n    top: 0;\n}\n\n.wui-message--success {\n    --wui-message-bg-color: #f0f9eb;\n    --wui-message-border-color: #e1f3d8;\n    --wui-message-text-color: #67c23a;\n}\n.wui-message--warning {\n    --wui-message-bg-color: #fdf6ec;\n    --wui-message-border-color: #faecd8;\n    --wui-message-text-color: #e6a23c;\n}\n.wui-message--info {\n    --wui-message-bg-color: #f4f4f5;\n    --wui-message-border-color: #e9e9eb;\n    --wui-message-text-color: #909399;\n}\n.wui-message--error {\n    --wui-message-bg-color: #fef0f0;\n    --wui-message-border-color: #fde2e2;\n    --wui-message-text-color: #f56c6c;\n}\n\n@keyframes msg-open {\n    0% {\n        opacity: 0;\n        -webkit-transform: translateY(-120%);\n        transform: translateY(-120%)\n    }\n    to {\n        -webkit-transform: translateY(0);\n        transform: translateY(0)\n    }\n}\n\n@keyframes msg-close {\n    0% {\n        opacity: 1;\n        -webkit-transform: scale(1);\n        transform: scale(1)\n    }\n    to {\n        opacity: 0;\n        -webkit-transform: scale(.9);\n        transform: scale(.9)\n    }\n}\n.wui-message[data-state=entered],.wui-message[data-state=entering] {\n    -webkit-animation: msg-open .24s cubic-bezier(.175,.885,.32,1.175) both;\n    animation: msg-open .24s cubic-bezier(.175,.885,.32,1.175) both\n}\n\n.wui-message[data-state=exiting] {\n    -webkit-animation: msg-close .12s cubic-bezier(.4,0,1,1) both;\n    animation: msg-close .12s cubic-bezier(.4,0,1,1) both\n}\n\n.wui-message {\n    width: -webkit-fit-content;\n    width: -moz-fit-content;\n    width: fit-content;\n    z-index: 2004;\n    max-width: calc(100% - 32px);\n    margin-top: 8px;\n    box-sizing: border-box;\n    /*border-radius: var(--wui-border-radius-base);*/\n    /*border-width: var(--wui-border-width);*/\n    /*border-style: var(--wui-border-style);*/\n    border-color: var(--wui-message-border-color);\n    /*left: 50%;*/\n    /*top: 20px;*/\n    /*transform: translateX(-50%);*/\n    background-color: var(--wui-message-bg-color);\n    /*transition: opacity var(--wui-transition-duration),transform .4s,top .4s;*/\n    /*padding: var(--wui-message-padding);*/\n    display: flex;\n    align-items: center;\n}\n\n/*.wui-message--success */\n.wui-message__content {\n    color: var(--wui-message-text-color);\n    font-size: 14px;\n    line-height: 18px;\n    margin: 10px 14px 10px 14px;\n    overflow-wrap: break-word;\n}\n\n.wui-message__closeBtn {\n    /*cursor: pointer;*/\n    font-style: normal;\n    /*color: gray;*/\n    padding-right: 14px;\n    /*font-size: 13px;*/\n    user-select: none;\n\n    background: transparent;\n    border: none;\n    color: gray;\n    cursor: pointer;\n    font-size: 13px;\n    font-weight: 400;\n    line-height: 1;\n    outline: none;\n    /*padding: 4px;*/\n    text-align: center;\n    transition: opacity .3s;\n    /*width: 100%;*/\n}",
       "_esm": "function closeMsg(msgDom) {\n  if (!msgDom) {\n    return;\n  }\n  msgDom.setAttribute('data-state', 'exiting');\n  msgDom.remove();\n}\n\nfunction createMsg(options) {\n  const {message, msg_id, type = 'info', show_close = false} = options;\n  const msgDom = document.createElement('div');\n  msgDom.className += ` wui-message--${type} wui-message`;\n  msgDom.setAttribute('data-state', 'entered');\n  msgDom.setAttribute('id', msg_id);\n  const msgContent = document.createElement('p');\n  msgContent.className += ` wui-message--${type} wui-message__content`;\n  msgContent.innerText = message;\n  msgDom.appendChild(msgContent);\n  if (show_close) {\n    const closeBtn = document.createElement('i');\n    closeBtn.className += 'wui-message__closeBtn';\n    closeBtn.innerText = 'x';\n    closeBtn.addEventListener('click', (ev) => {\n      closeMsg(msgDom);\n    })\n    msgDom.appendChild(closeBtn);\n  }\n  return msgDom;\n}\n\nexport async function render(view) {\n  let model = view.model;\n  const msgRoot = view.el;\n  msgRoot.className += ' wui-message-root'\n\n  const msgContainer = document.createElement('div');\n  msgContainer.className += ' wui-message-container';\n  msgRoot.appendChild(msgContainer)\n\n  model.on(\"change:message_options\", () => {\n    const options = model.get(\"message_options\");\n    const msg = createMsg(options);\n    msgContainer.appendChild(msg);\n    const {duration = 3000} = options;\n    if (duration > 0) {\n      setTimeout(() => {\n        closeMsg(msg)\n      }, duration);\n    }\n  })\n\n  model.on(\"change:close_msg_id\", () => {\n    const msg_id = model.get(\"close_msg_id\");\n    const msgDom = document.getElementById(msg_id);\n    closeMsg(msgDom);\n  })\n}\n",
       "_model_module": "anywidget",
       "_model_module_version": "~0.9.*",
       "_model_name": "AnyModel",
       "_view_module": "anywidget",
       "_view_module_version": "~0.9.*",
       "_view_name": "AnyView",
       "close_msg_id": "",
       "layout": "IPY_MODEL_22cd0f58c68e4bbfa16c5ec4011afe77",
       "message_options": {
        "duration": 3000,
        "message": "",
        "show_close": false,
        "type": "info"
       }
      }
     },
     "e4ffa4f6c1554c93807e80a73a242f00": {
      "model_module": "@jupyter-widgets/base",
      "model_module_version": "2.0.0",
      "model_name": "LayoutModel",
      "state": {}
     },
     "e57a367fb5df46da86d5b528b821c89e": {
      "model_module": "jupyter-leaflet",
      "model_module_version": "^0.19",
      "model_name": "LeafletMapStyleModel",
      "state": {
       "_model_module_version": "^0.19"
      }
     },
     "e65950e37f584a7ba296fe88414fe99c": {
      "model_module": "@jupyter-widgets/base",
      "model_module_version": "2.0.0",
      "model_name": "LayoutModel",
      "state": {}
     },
     "e6d51329b1ac4bbe87a20257f079c223": {
      "model_module": "jupyter-leaflet",
      "model_module_version": "^0.19",
      "model_name": "LeafletAttributionControlModel",
      "state": {
       "_model_module_version": "^0.19",
       "_view_module_version": "^0.19",
       "options": [
        "position",
        "prefix"
       ],
       "position": "bottomright",
       "prefix": "ipyleaflet"
      }
     },
     "e6ff22cca7b349b19d93bd9c85bd6f63": {
      "model_module": "@jupyter-widgets/base",
      "model_module_version": "2.0.0",
      "model_name": "LayoutModel",
      "state": {}
     },
     "e85ad054d99043508150c0ec6e9fdd00": {
      "model_module": "anywidget",
      "model_module_version": "~0.9.*",
      "model_name": "AnyModel",
      "state": {
       "_anywidget_id": "ipywui.widgets.custom.message.MessageWidget",
       "_css": ".wui-message-root {\n    display: flex;\n    position: absolute;\n    left: 0;\n    right: 0;\n    top: 0;\n}\n\n.wui-message-container {\n    align-items: center;\n    display: flex;\n    flex-direction: column-reverse;\n    justify-content: center;\n    min-height: 100%;\n    outline: none;\n    width: 100%;\n\n    -webkit-tap-highlight-color: rgba(0,0,0,0);\n    bottom: 0;\n    left: 0;\n    right: 0;\n    top: 0;\n}\n\n.wui-message--success {\n    --wui-message-bg-color: #f0f9eb;\n    --wui-message-border-color: #e1f3d8;\n    --wui-message-text-color: #67c23a;\n}\n.wui-message--warning {\n    --wui-message-bg-color: #fdf6ec;\n    --wui-message-border-color: #faecd8;\n    --wui-message-text-color: #e6a23c;\n}\n.wui-message--info {\n    --wui-message-bg-color: #f4f4f5;\n    --wui-message-border-color: #e9e9eb;\n    --wui-message-text-color: #909399;\n}\n.wui-message--error {\n    --wui-message-bg-color: #fef0f0;\n    --wui-message-border-color: #fde2e2;\n    --wui-message-text-color: #f56c6c;\n}\n\n@keyframes msg-open {\n    0% {\n        opacity: 0;\n        -webkit-transform: translateY(-120%);\n        transform: translateY(-120%)\n    }\n    to {\n        -webkit-transform: translateY(0);\n        transform: translateY(0)\n    }\n}\n\n@keyframes msg-close {\n    0% {\n        opacity: 1;\n        -webkit-transform: scale(1);\n        transform: scale(1)\n    }\n    to {\n        opacity: 0;\n        -webkit-transform: scale(.9);\n        transform: scale(.9)\n    }\n}\n.wui-message[data-state=entered],.wui-message[data-state=entering] {\n    -webkit-animation: msg-open .24s cubic-bezier(.175,.885,.32,1.175) both;\n    animation: msg-open .24s cubic-bezier(.175,.885,.32,1.175) both\n}\n\n.wui-message[data-state=exiting] {\n    -webkit-animation: msg-close .12s cubic-bezier(.4,0,1,1) both;\n    animation: msg-close .12s cubic-bezier(.4,0,1,1) both\n}\n\n.wui-message {\n    width: -webkit-fit-content;\n    width: -moz-fit-content;\n    width: fit-content;\n    z-index: 2004;\n    max-width: calc(100% - 32px);\n    margin-top: 8px;\n    box-sizing: border-box;\n    /*border-radius: var(--wui-border-radius-base);*/\n    /*border-width: var(--wui-border-width);*/\n    /*border-style: var(--wui-border-style);*/\n    border-color: var(--wui-message-border-color);\n    /*left: 50%;*/\n    /*top: 20px;*/\n    /*transform: translateX(-50%);*/\n    background-color: var(--wui-message-bg-color);\n    /*transition: opacity var(--wui-transition-duration),transform .4s,top .4s;*/\n    /*padding: var(--wui-message-padding);*/\n    display: flex;\n    align-items: center;\n}\n\n/*.wui-message--success */\n.wui-message__content {\n    color: var(--wui-message-text-color);\n    font-size: 14px;\n    line-height: 18px;\n    margin: 10px 14px 10px 14px;\n    overflow-wrap: break-word;\n}\n\n.wui-message__closeBtn {\n    /*cursor: pointer;*/\n    font-style: normal;\n    /*color: gray;*/\n    padding-right: 14px;\n    /*font-size: 13px;*/\n    user-select: none;\n\n    background: transparent;\n    border: none;\n    color: gray;\n    cursor: pointer;\n    font-size: 13px;\n    font-weight: 400;\n    line-height: 1;\n    outline: none;\n    /*padding: 4px;*/\n    text-align: center;\n    transition: opacity .3s;\n    /*width: 100%;*/\n}",
       "_esm": "function closeMsg(msgDom) {\n  if (!msgDom) {\n    return;\n  }\n  msgDom.setAttribute('data-state', 'exiting');\n  msgDom.remove();\n}\n\nfunction createMsg(options) {\n  const {message, msg_id, type = 'info', show_close = false} = options;\n  const msgDom = document.createElement('div');\n  msgDom.className += ` wui-message--${type} wui-message`;\n  msgDom.setAttribute('data-state', 'entered');\n  msgDom.setAttribute('id', msg_id);\n  const msgContent = document.createElement('p');\n  msgContent.className += ` wui-message--${type} wui-message__content`;\n  msgContent.innerText = message;\n  msgDom.appendChild(msgContent);\n  if (show_close) {\n    const closeBtn = document.createElement('i');\n    closeBtn.className += 'wui-message__closeBtn';\n    closeBtn.innerText = 'x';\n    closeBtn.addEventListener('click', (ev) => {\n      closeMsg(msgDom);\n    })\n    msgDom.appendChild(closeBtn);\n  }\n  return msgDom;\n}\n\nexport async function render(view) {\n  let model = view.model;\n  const msgRoot = view.el;\n  msgRoot.className += ' wui-message-root'\n\n  const msgContainer = document.createElement('div');\n  msgContainer.className += ' wui-message-container';\n  msgRoot.appendChild(msgContainer)\n\n  model.on(\"change:message_options\", () => {\n    const options = model.get(\"message_options\");\n    const msg = createMsg(options);\n    msgContainer.appendChild(msg);\n    const {duration = 3000} = options;\n    if (duration > 0) {\n      setTimeout(() => {\n        closeMsg(msg)\n      }, duration);\n    }\n  })\n\n  model.on(\"change:close_msg_id\", () => {\n    const msg_id = model.get(\"close_msg_id\");\n    const msgDom = document.getElementById(msg_id);\n    closeMsg(msgDom);\n  })\n}\n",
       "_model_module": "anywidget",
       "_model_module_version": "~0.9.*",
       "_model_name": "AnyModel",
       "_view_module": "anywidget",
       "_view_module_version": "~0.9.*",
       "_view_name": "AnyView",
       "close_msg_id": "",
       "layout": "IPY_MODEL_e994b6f28fd84ab495571915c7bd27a9",
       "message_options": {
        "duration": 3000,
        "message": "",
        "show_close": false,
        "type": "info"
       }
      }
     },
     "e9867f0f9f1c49b0bd4865a01586806c": {
      "model_module": "@jupyter-widgets/base",
      "model_module_version": "2.0.0",
      "model_name": "LayoutModel",
      "state": {}
     },
     "e994b6f28fd84ab495571915c7bd27a9": {
      "model_module": "@jupyter-widgets/base",
      "model_module_version": "2.0.0",
      "model_name": "LayoutModel",
      "state": {}
     },
     "eb453bb44e4a4819aa63a030ec51e73b": {
      "model_module": "@jupyter-widgets/controls",
      "model_module_version": "2.0.0",
      "model_name": "VBoxModel",
      "state": {
       "children": [
        "IPY_MODEL_f59fdd6bd80b4d3f95cfbaea0c611080"
       ],
       "layout": "IPY_MODEL_b8c9f9d6de7842838b72f18b1d035fbe"
      }
     },
     "ec1507ee9f5e4551b3409288c5a159f8": {
      "model_module": "@jupyter-widgets/base",
      "model_module_version": "2.0.0",
      "model_name": "LayoutModel",
      "state": {}
     },
     "ec78f00a90ad4d7193f8baa1e020deed": {
      "model_module": "@jupyter-widgets/controls",
      "model_module_version": "2.0.0",
      "model_name": "VBoxModel",
      "state": {
       "children": [
        "IPY_MODEL_6aaf3b99d0e3482e8b0af2836fb16f79"
       ],
       "layout": "IPY_MODEL_4b8088315cd24fac961df27e222ae176"
      }
     },
     "edeca56591944bbc9489eed9f6883dde": {
      "model_module": "jupyter-leaflet",
      "model_module_version": "^0.19",
      "model_name": "LeafletLayersControlModel",
      "state": {
       "_model_module_version": "^0.19",
       "_view_module_version": "^0.19",
       "collapsed": false,
       "options": [
        "collapsed",
        "position"
       ]
      }
     },
     "ef7ad674808e4d438c7fce3486c4ac64": {
      "model_module": "@jupyter-widgets/base",
      "model_module_version": "2.0.0",
      "model_name": "LayoutModel",
      "state": {}
     },
     "ef9bb09fc1464b08bb79bd661a421540": {
      "model_module": "@jupyter-widgets/controls",
      "model_module_version": "2.0.0",
      "model_name": "VBoxModel",
      "state": {
       "children": [
        "IPY_MODEL_8a76eafacdfb41f89e36d70041e7ac2e"
       ],
       "layout": "IPY_MODEL_ba46e0a5009b4a8ea439ce794e1d1222"
      }
     },
     "eff82a5e890645a88d35c5d0d29ef5bc": {
      "model_module": "@jupyter-widgets/controls",
      "model_module_version": "2.0.0",
      "model_name": "VBoxModel",
      "state": {
       "children": [
        "IPY_MODEL_80359d66de0941858b1a4e49d4747e12"
       ],
       "layout": "IPY_MODEL_ac911a3ff6de42f8b9c774d246e949bf"
      }
     },
     "eff913f990554a528f23620da9684593": {
      "model_module": "jupyter-leaflet",
      "model_module_version": "^0.19",
      "model_name": "LeafletZoomControlModel",
      "state": {
       "_model_module_version": "^0.19",
       "_view_module_version": "^0.19",
       "options": [
        "position",
        "zoom_in_text",
        "zoom_in_title",
        "zoom_out_text",
        "zoom_out_title"
       ]
      }
     },
     "f0dd500a969c4c7da67b615c47f22539": {
      "model_module": "@jupyter-widgets/base",
      "model_module_version": "2.0.0",
      "model_name": "LayoutModel",
      "state": {}
     },
     "f222dc588a1a4284835026b7dda3cc84": {
      "model_module": "@jupyter-widgets/controls",
      "model_module_version": "2.0.0",
      "model_name": "VBoxModel",
      "state": {
       "children": [
        "IPY_MODEL_a1617dcafd6a490499b19975d21c968b"
       ],
       "layout": "IPY_MODEL_69a03ffd5fca4edab29b7e5ffa9213eb"
      }
     },
     "f2a4c3261c4a4a4c836bc8af0b305ac5": {
      "model_module": "jupyter-leaflet",
      "model_module_version": "^0.19",
      "model_name": "LeafletAttributionControlModel",
      "state": {
       "_model_module_version": "^0.19",
       "_view_module_version": "^0.19",
       "options": [
        "position",
        "prefix"
       ],
       "position": "bottomright",
       "prefix": "ipyleaflet"
      }
     },
     "f3f5432598884e0a8344faf5e3bfe335": {
      "model_module": "jupyter-leaflet",
      "model_module_version": "^0.19",
      "model_name": "LeafletLayersControlModel",
      "state": {
       "_model_module_version": "^0.19",
       "_view_module_version": "^0.19",
       "collapsed": false,
       "options": [
        "collapsed",
        "position"
       ]
      }
     },
     "f457fde2648b42da808f85de7e17da39": {
      "model_module": "jupyter-leaflet",
      "model_module_version": "^0.19",
      "model_name": "LeafletLayersControlModel",
      "state": {
       "_model_module_version": "^0.19",
       "_view_module_version": "^0.19",
       "collapsed": false,
       "options": [
        "collapsed",
        "position"
       ]
      }
     },
     "f4df98a4856d4b65a929c7766418d2da": {
      "model_module": "@jupyter-widgets/base",
      "model_module_version": "2.0.0",
      "model_name": "LayoutModel",
      "state": {}
     },
     "f4f0233eb23b4eb79a85ae4acad27ba8": {
      "model_module": "jupyter-leaflet",
      "model_module_version": "^0.19",
      "model_name": "LeafletLayersControlModel",
      "state": {
       "_model_module_version": "^0.19",
       "_view_module_version": "^0.19",
       "collapsed": false,
       "options": [
        "collapsed",
        "position"
       ]
      }
     },
     "f51e306964034afe8fe6d70311a717a2": {
      "model_module": "jupyter-leaflet",
      "model_module_version": "^0.19",
      "model_name": "LeafletMapStyleModel",
      "state": {
       "_model_module_version": "^0.19"
      }
     },
     "f59fdd6bd80b4d3f95cfbaea0c611080": {
      "model_module": "jupyter-leaflet",
      "model_module_version": "^0.19",
      "model_name": "LeafletImageOverlayModel",
      "state": {
       "_model_module_version": "^0.19",
       "_view_module_version": "^0.19",
       "bounds": [
        [
         13,
         -130
        ],
        [
         32,
         -100
        ]
       ],
       "name": "image",
       "options": [
        "attribution"
       ],
       "url": "https://www.vuepy.org/images/vuepy-logo.svg"
      }
     },
     "f680d7a88f564d67ab7e1ea8601c34a9": {
      "model_module": "@jupyter-widgets/base",
      "model_module_version": "2.0.0",
      "model_name": "LayoutModel",
      "state": {}
     },
     "f6ba7d26ee81492b9728efa9328767bc": {
      "model_module": "jupyter-leaflet",
      "model_module_version": "^0.19",
      "model_name": "LeafletMapStyleModel",
      "state": {
       "_model_module_version": "^0.19"
      }
     },
     "f74351324d884c88b46eb4b10ef0497c": {
      "model_module": "jupyter-leaflet",
      "model_module_version": "^0.19",
      "model_name": "LeafletMapStyleModel",
      "state": {
       "_model_module_version": "^0.19",
       "cursor": "move"
      }
     },
     "f78cf078895848639cf1ddd254c58184": {
      "model_module": "jupyter-leaflet",
      "model_module_version": "^0.19",
      "model_name": "LeafletImageOverlayModel",
      "state": {
       "_model_module_version": "^0.19",
       "_view_module_version": "^0.19",
       "name": "image",
       "options": [
        "attribution"
       ],
       "url": "https://www.vuepy.org/images/vuepy-logo.svg"
      }
     },
     "f7d3190f084f4096baf82e9de43892af": {
      "model_module": "jupyter-leaflet",
      "model_module_version": "^0.19",
      "model_name": "LeafletMapStyleModel",
      "state": {
       "_model_module_version": "^0.19",
       "cursor": "move"
      }
     },
     "f856cbc075c0466daf85e775d3cd69b1": {
      "model_module": "@jupyter-widgets/base",
      "model_module_version": "2.0.0",
      "model_name": "LayoutModel",
      "state": {}
     },
     "f9323407a7694da081caeeb9f86583fa": {
      "model_module": "jupyter-leaflet",
      "model_module_version": "^0.19",
      "model_name": "LeafletMapStyleModel",
      "state": {
       "_model_module_version": "^0.19"
      }
     },
     "f9799329b9e34d2586773e07dcb4bb11": {
      "model_module": "@jupyter-widgets/base",
      "model_module_version": "2.0.0",
      "model_name": "LayoutModel",
      "state": {}
     },
     "fa85eef3c8f54e28bef6ce23d53a9338": {
      "model_module": "jupyter-leaflet",
      "model_module_version": "^0.19",
      "model_name": "LeafletMapStyleModel",
      "state": {
       "_model_module_version": "^0.19"
      }
     },
     "fac4fd117a304648bef608527f5eb007": {
      "model_module": "jupyter-leaflet",
      "model_module_version": "^0.19",
      "model_name": "LeafletAttributionControlModel",
      "state": {
       "_model_module_version": "^0.19",
       "_view_module_version": "^0.19",
       "options": [
        "position",
        "prefix"
       ],
       "position": "bottomright",
       "prefix": "ipyleaflet"
      }
     },
     "faf90cc5df84410db33b7caac03edc79": {
      "model_module": "jupyter-leaflet",
      "model_module_version": "^0.19",
      "model_name": "LeafletMapStyleModel",
      "state": {
       "_model_module_version": "^0.19",
       "cursor": "move"
      }
     },
     "fb87a83485b1449889dea5219bc56021": {
      "model_module": "@jupyter-widgets/controls",
      "model_module_version": "2.0.0",
      "model_name": "VBoxModel",
      "state": {
       "children": [
        "IPY_MODEL_2a031c058596446d89de2fa4e1e9a6f9",
        "IPY_MODEL_5585dc087c7645888c1daabb270317a7"
       ],
       "layout": "IPY_MODEL_d29ccda72c6f4e05bde9edcbb65cab14"
      }
     },
     "fbcec458fd93417ab80f3e7a25dedf84": {
      "model_module": "@jupyter-widgets/controls",
      "model_module_version": "2.0.0",
      "model_name": "VBoxModel",
      "state": {
       "children": [
        "IPY_MODEL_ccf71e49ded148e8a5116ea0e54a6990"
       ],
       "layout": "IPY_MODEL_cae503e18d4a4e599e8fe8e76b6913a6"
      }
     },
     "fc96088ddaf94b94a875742ab9004a9e": {
      "model_module": "jupyter-leaflet",
      "model_module_version": "^0.19",
      "model_name": "LeafletMapStyleModel",
      "state": {
       "_model_module_version": "^0.19",
       "cursor": "move"
      }
     },
     "fd17f00dd1064432aae2bde380cd8f01": {
      "model_module": "@jupyter-widgets/base",
      "model_module_version": "2.0.0",
      "model_name": "LayoutModel",
      "state": {}
     },
     "fd4589a63db54d9198bf827c157b3b56": {
      "model_module": "jupyter-leaflet",
      "model_module_version": "^0.19",
      "model_name": "LeafletMapStyleModel",
      "state": {
       "_model_module_version": "^0.19"
      }
     },
     "fe2480ee0bf348b28bae8f88e9849b41": {
      "model_module": "jupyter-leaflet",
      "model_module_version": "^0.19",
      "model_name": "LeafletMapStyleModel",
      "state": {
       "_model_module_version": "^0.19"
      }
     },
     "fe3f62d63fd547fbb95febe64c6c1877": {
      "model_module": "@jupyter-widgets/controls",
      "model_module_version": "2.0.0",
      "model_name": "VBoxModel",
      "state": {
       "children": [
        "IPY_MODEL_d877bdf5c10e445fa9080b62639006cd"
       ],
       "layout": "IPY_MODEL_6f7343ce7daa4efcaa649622918020e2"
      }
     },
     "fe60d71e018e4925a66dc4c4ac501083": {
      "model_module": "jupyter-leaflet",
      "model_module_version": "^0.19",
      "model_name": "LeafletMapStyleModel",
      "state": {
       "_model_module_version": "^0.19",
       "cursor": "move"
      }
     }
    },
    "version_major": 2,
    "version_minor": 0
   }
  }
 },
 "nbformat": 4,
 "nbformat_minor": 5
}
