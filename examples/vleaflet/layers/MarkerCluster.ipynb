{
 "cells": [
  {
   "cell_type": "markdown",
   "id": "a1e2fa29-7566-4426-be1e-a750658d83a5",
   "metadata": {},
   "source": [
    "# Marker Cluster\n"
   ]
  },
  {
   "cell_type": "markdown",
   "id": "7cdc5e8c-2aa8-41d1-9461-3e451f6ef6ea",
   "metadata": {},
   "source": [
    "## 基础用法\n"
   ]
  },
  {
   "cell_type": "code",
   "execution_count": 1,
   "id": "f5928b17-e8c8-47b0-9774-a8bb1f7e6af3",
   "metadata": {},
   "outputs": [],
   "source": [
    "import os\n",
    "import pathlib\n",
    "from vuepy.utils import magic\n",
    "from vleaflet import leaflet\n",
    "%load_ext vuepy"
   ]
  },
  {
   "cell_type": "code",
   "execution_count": 5,
   "id": "7982482f-985d-44b5-89d6-57b3bb2c3427",
   "metadata": {},
   "outputs": [
    {
     "name": "stdout",
     "output_type": "stream",
     "text": [
      "{\"vue\": \"<template>\\n  <vl-map :center=\\\"[50, 0]\\\" :zoom=5>\\n    <template #layers>\\n      <vl-marker-cluster name='marker cluster'>\\n        <vl-marker :location=\\\"(48, -2)\\\"></vl-marker>\\n        <vl-marker :location=\\\"(50, 0)\\\"></vl-marker>\\n        <vl-marker :location=\\\"(52, 2)\\\"></vl-marker>\\n      </vl-marker-cluster>\\n    </template>\\n    <template #controls>\\n      <vl-layers-control position='topleft' :collapsed='False'></vl-layers-control>\\n    </template>\\n  </vl-map>\\n</template>\\n<script lang='py'>\\n</script>\\n\", \"setup\": \"\"}\n"
     ]
    },
    {
     "data": {
      "application/vnd.jupyter.widget-view+json": {
       "model_id": "336597202e1642e38055c40bfd02087f",
       "version_major": 2,
       "version_minor": 0
      },
      "text/plain": [
       "Document(children=(Dom(children=(MessageWidget(message_options={'message': '', 'type': 'info', 'show_close': F…"
      ]
     },
     "execution_count": 5,
     "metadata": {},
     "output_type": "execute_result"
    }
   ],
   "source": [
    "%%vuepy_run --plugins leaflet --show-code\n",
    "<template>\n",
    "  <vl-map :center=\"[50, 0]\" :zoom=5>\n",
    "    <template #layers>\n",
    "      <vl-marker-cluster name='marker cluster'>\n",
    "        <vl-marker :location=\"(48, -2)\"></vl-marker>\n",
    "        <vl-marker :location=\"(50, 0)\"></vl-marker>\n",
    "        <vl-marker :location=\"(52, 2)\"></vl-marker>\n",
    "      </vl-marker-cluster>\n",
    "    </template>\n",
    "    <template #controls>\n",
    "      <vl-layers-control position='topleft' :collapsed='False'></vl-layers-control>\n",
    "    </template>\n",
    "  </vl-map>\n",
    "</template>\n",
    "<script lang='py'>\n",
    "</script>"
   ]
  },
  {
   "cell_type": "markdown",
   "id": "392aa25a-4073-4d2b-93f9-d89666b38369",
   "metadata": {},
   "source": [
    "## 禁用状态\n",
    "\n",
    "你可以使用 `disabled` 属性来定义是否被禁用。  \n",
    "使用 `disabled` 属性来控制是否为禁用状态。该属性接受一个 `bool` 类型的值。"
   ]
  },
  {
   "cell_type": "code",
   "execution_count": null,
   "id": "4555cd32-d66d-411b-8b39-01153e8fb53d",
   "metadata": {},
   "outputs": [],
   "source": [
    "%vuepy_demo disabled.vue"
   ]
  },
  {
   "cell_type": "markdown",
   "id": "8685d144-029f-4afa-8547-4f3d84529504",
   "metadata": {},
   "source": [
    "## API\n",
    "\n",
    "### 属性\n",
    "\n",
    "| 属性名    | 说明                 | 类型                                                           | 默认值 |\n",
    "| -------- | ------------------- | ---------------------------------------------------------------| ------- |\n",
    "| v-model/value | 绑定值             | ^[str]                                                      | —       |\n",
    "| desc     | 按钮文字             | ^[str]                                                         | —       |\n",
    "| icon     | 按钮图标             | ^[str]                                                         | —       |\n",
    "| type     | 类型                | ^[enum]`''\\| 'success'\\| 'warning'\\| 'danger'\\| 'info'`        | —       |\n",
    "| tooltip  | 提示信息             | ^[str]                                                         | —       |\n",
    "| disabled | 按钮是否为禁用状态     | ^[boolean]                                                     | false   |\n",
    "| style    | 自定义css样式             | ^[str]                                                         | -       |\n",
    "\n",
    "### Events\n",
    "\n",
    "| 事件名 | 说明                  | 类型                                   |\n",
    "| ---   | ---                  | ---                                    |\n",
    "| click | 当按钮被点击时触发的事件 |  ^[Callable]`(button: Widget) -> None` |\n",
    "\n",
    "\n",
    "### Slots\n",
    "\n",
    "| 插槽名   | 说明               |\n",
    "| ---     | ---               |\n",
    "| default | 自定义默认内容      |\n",
    "\n",
    "\n",
    "### 方法\n",
    "\n",
    "| 属性名 | 说明 | 类型 |\n",
    "| --- | --- | --- |"
   ]
  },
  {
   "cell_type": "code",
   "execution_count": null,
   "id": "db17c770-7085-4365-b5f0-bd4f66ebc948",
   "metadata": {},
   "outputs": [],
   "source": []
  }
 ],
 "metadata": {
  "kernelspec": {
   "display_name": "Python 3 (ipykernel)",
   "language": "python",
   "name": "python3"
  },
  "language_info": {
   "codemirror_mode": {
    "name": "ipython",
    "version": 3
   },
   "file_extension": ".py",
   "mimetype": "text/x-python",
   "name": "python",
   "nbconvert_exporter": "python",
   "pygments_lexer": "ipython3",
   "version": "3.10.12"
  },
  "widgets": {
   "application/vnd.jupyter.widget-state+json": {
    "state": {
     "00217e33917c421bb2b4be05c537115c": {
      "model_module": "@jupyter-widgets/controls",
      "model_module_version": "2.0.0",
      "model_name": "HTMLMathModel",
      "state": {
       "layout": "IPY_MODEL_8b530fd8b435477a964acf8376eda4c5",
       "style": "IPY_MODEL_8f9065bf926a49b582d44ad8c7776aae",
       "value": "Switch color"
      }
     },
     "03fcc9bfae2149eebc2e3afe400cb806": {
      "model_module": "jupyter-leaflet",
      "model_module_version": "^0.19",
      "model_name": "LeafletMarkerModel",
      "state": {
       "_model_module_version": "^0.19",
       "_view_module_version": "^0.19",
       "location": [
        48,
        -2
       ],
       "options": [
        "alt",
        "draggable",
        "keyboard",
        "rise_offset",
        "rise_on_hover",
        "rotation_angle",
        "rotation_origin",
        "title",
        "z_index_offset"
       ]
      }
     },
     "070c605ed09b4982b41d712d79eb98a1": {
      "model_module": "@jupyter-widgets/base",
      "model_module_version": "2.0.0",
      "model_name": "LayoutModel",
      "state": {}
     },
     "07a36997754f46fdbf6eef8eb8a4f86f": {
      "model_module": "anywidget",
      "model_module_version": "~0.9.*",
      "model_name": "AnyModel",
      "state": {
       "_anywidget_id": "ipywui.widgets.custom.message.MessageWidget",
       "_css": ".wui-message-root {\n    display: flex;\n    position: absolute;\n    left: 0;\n    right: 0;\n    top: 0;\n}\n\n.wui-message-container {\n    align-items: center;\n    display: flex;\n    flex-direction: column-reverse;\n    justify-content: center;\n    min-height: 100%;\n    outline: none;\n    width: 100%;\n\n    -webkit-tap-highlight-color: rgba(0,0,0,0);\n    bottom: 0;\n    left: 0;\n    right: 0;\n    top: 0;\n}\n\n.wui-message--success {\n    --wui-message-bg-color: #f0f9eb;\n    --wui-message-border-color: #e1f3d8;\n    --wui-message-text-color: #67c23a;\n}\n.wui-message--warning {\n    --wui-message-bg-color: #fdf6ec;\n    --wui-message-border-color: #faecd8;\n    --wui-message-text-color: #e6a23c;\n}\n.wui-message--info {\n    --wui-message-bg-color: #f4f4f5;\n    --wui-message-border-color: #e9e9eb;\n    --wui-message-text-color: #909399;\n}\n.wui-message--error {\n    --wui-message-bg-color: #fef0f0;\n    --wui-message-border-color: #fde2e2;\n    --wui-message-text-color: #f56c6c;\n}\n\n@keyframes msg-open {\n    0% {\n        opacity: 0;\n        -webkit-transform: translateY(-120%);\n        transform: translateY(-120%)\n    }\n    to {\n        -webkit-transform: translateY(0);\n        transform: translateY(0)\n    }\n}\n\n@keyframes msg-close {\n    0% {\n        opacity: 1;\n        -webkit-transform: scale(1);\n        transform: scale(1)\n    }\n    to {\n        opacity: 0;\n        -webkit-transform: scale(.9);\n        transform: scale(.9)\n    }\n}\n.wui-message[data-state=entered],.wui-message[data-state=entering] {\n    -webkit-animation: msg-open .24s cubic-bezier(.175,.885,.32,1.175) both;\n    animation: msg-open .24s cubic-bezier(.175,.885,.32,1.175) both\n}\n\n.wui-message[data-state=exiting] {\n    -webkit-animation: msg-close .12s cubic-bezier(.4,0,1,1) both;\n    animation: msg-close .12s cubic-bezier(.4,0,1,1) both\n}\n\n.wui-message {\n    width: -webkit-fit-content;\n    width: -moz-fit-content;\n    width: fit-content;\n    z-index: 2004;\n    max-width: calc(100% - 32px);\n    margin-top: 8px;\n    box-sizing: border-box;\n    /*border-radius: var(--wui-border-radius-base);*/\n    /*border-width: var(--wui-border-width);*/\n    /*border-style: var(--wui-border-style);*/\n    border-color: var(--wui-message-border-color);\n    /*left: 50%;*/\n    /*top: 20px;*/\n    /*transform: translateX(-50%);*/\n    background-color: var(--wui-message-bg-color);\n    /*transition: opacity var(--wui-transition-duration),transform .4s,top .4s;*/\n    /*padding: var(--wui-message-padding);*/\n    display: flex;\n    align-items: center;\n}\n\n/*.wui-message--success */\n.wui-message__content {\n    color: var(--wui-message-text-color);\n    font-size: 14px;\n    line-height: 18px;\n    margin: 10px 14px 10px 14px;\n    overflow-wrap: break-word;\n}\n\n.wui-message__closeBtn {\n    /*cursor: pointer;*/\n    font-style: normal;\n    /*color: gray;*/\n    padding-right: 14px;\n    /*font-size: 13px;*/\n    user-select: none;\n\n    background: transparent;\n    border: none;\n    color: gray;\n    cursor: pointer;\n    font-size: 13px;\n    font-weight: 400;\n    line-height: 1;\n    outline: none;\n    /*padding: 4px;*/\n    text-align: center;\n    transition: opacity .3s;\n    /*width: 100%;*/\n}",
       "_esm": "function closeMsg(msgDom) {\n  if (!msgDom) {\n    return;\n  }\n  msgDom.setAttribute('data-state', 'exiting');\n  msgDom.remove();\n}\n\nfunction createMsg(options) {\n  const {message, msg_id, type = 'info', show_close = false} = options;\n  const msgDom = document.createElement('div');\n  msgDom.className += ` wui-message--${type} wui-message`;\n  msgDom.setAttribute('data-state', 'entered');\n  msgDom.setAttribute('id', msg_id);\n  const msgContent = document.createElement('p');\n  msgContent.className += ` wui-message--${type} wui-message__content`;\n  msgContent.innerText = message;\n  msgDom.appendChild(msgContent);\n  if (show_close) {\n    const closeBtn = document.createElement('i');\n    closeBtn.className += 'wui-message__closeBtn';\n    closeBtn.innerText = 'x';\n    closeBtn.addEventListener('click', (ev) => {\n      closeMsg(msgDom);\n    })\n    msgDom.appendChild(closeBtn);\n  }\n  return msgDom;\n}\n\nexport async function render(view) {\n  let model = view.model;\n  const msgRoot = view.el;\n  msgRoot.className += ' wui-message-root'\n\n  const msgContainer = document.createElement('div');\n  msgContainer.className += ' wui-message-container';\n  msgRoot.appendChild(msgContainer)\n\n  model.on(\"change:message_options\", () => {\n    const options = model.get(\"message_options\");\n    const msg = createMsg(options);\n    msgContainer.appendChild(msg);\n    const {duration = 3000} = options;\n    if (duration > 0) {\n      setTimeout(() => {\n        closeMsg(msg)\n      }, duration);\n    }\n  })\n\n  model.on(\"change:close_msg_id\", () => {\n    const msg_id = model.get(\"close_msg_id\");\n    const msgDom = document.getElementById(msg_id);\n    closeMsg(msgDom);\n  })\n}\n",
       "_model_module": "anywidget",
       "_model_module_version": "~0.9.*",
       "_model_name": "AnyModel",
       "_view_module": "anywidget",
       "_view_module_version": "~0.9.*",
       "_view_name": "AnyView",
       "close_msg_id": "",
       "layout": "IPY_MODEL_a2e8f92a5c6a4b229de683223298761d",
       "message_options": {
        "duration": 3000,
        "message": "",
        "show_close": false,
        "type": "info"
       }
      }
     },
     "0d1b84568ae343ddb9b628ba4c75faab": {
      "model_module": "jupyter-leaflet",
      "model_module_version": "^0.19",
      "model_name": "LeafletMarkerModel",
      "state": {
       "_model_module_version": "^0.19",
       "_view_module_version": "^0.19",
       "location": [
        50,
        0
       ],
       "options": [
        "alt",
        "draggable",
        "keyboard",
        "rise_offset",
        "rise_on_hover",
        "rotation_angle",
        "rotation_origin",
        "title",
        "z_index_offset"
       ]
      }
     },
     "139684f3e0e346329a26baaa6a778bd7": {
      "model_module": "@jupyter-widgets/base",
      "model_module_version": "2.0.0",
      "model_name": "LayoutModel",
      "state": {}
     },
     "15da44688bec42c99eae810045c8fdc6": {
      "model_module": "jupyter-leaflet",
      "model_module_version": "^0.19",
      "model_name": "LeafletMapStyleModel",
      "state": {
       "_model_module_version": "^0.19",
       "cursor": "move"
      }
     },
     "1815de96a4a347cd9c5d94dcd83afb86": {
      "model_module": "@jupyter-widgets/base",
      "model_module_version": "2.0.0",
      "model_name": "LayoutModel",
      "state": {}
     },
     "20e23ddb427d448a8dabb5e4a879eba2": {
      "model_module": "@jupyter-widgets/base",
      "model_module_version": "2.0.0",
      "model_name": "LayoutModel",
      "state": {}
     },
     "2252fcf68cba4cf5b224876d52d72c0e": {
      "model_module": "@jupyter-widgets/controls",
      "model_module_version": "2.0.0",
      "model_name": "VBoxModel",
      "state": {
       "children": [
        "IPY_MODEL_d72e122e2a934840816ac526f137a6f7",
        "IPY_MODEL_be83fbe2c9f143ea8c31cc4d3b729826"
       ],
       "layout": "IPY_MODEL_3c1678b4c75442dfbb772253f12ffb03"
      }
     },
     "22667ca841b04b35a19d2e053df48c2b": {
      "model_module": "@jupyter-widgets/base",
      "model_module_version": "2.0.0",
      "model_name": "LayoutModel",
      "state": {}
     },
     "285c8d247f74474799d49c68779fa387": {
      "model_module": "@jupyter-widgets/base",
      "model_module_version": "2.0.0",
      "model_name": "LayoutModel",
      "state": {}
     },
     "288e20be46c744e8abae9838611db62c": {
      "model_module": "@jupyter-widgets/controls",
      "model_module_version": "2.0.0",
      "model_name": "VBoxModel",
      "state": {
       "children": [
        "IPY_MODEL_7d2421d2dc8741c588daf0c5d4e86c66",
        "IPY_MODEL_88fdd7f1996c416691f06e99cdbef151"
       ],
       "layout": "IPY_MODEL_139684f3e0e346329a26baaa6a778bd7"
      }
     },
     "2986cf9a231a4def8172dc4d3e796cf5": {
      "model_module": "@jupyter-widgets/base",
      "model_module_version": "2.0.0",
      "model_name": "LayoutModel",
      "state": {}
     },
     "2f7fb01ebb354348bbba60776ecaf945": {
      "model_module": "@jupyter-widgets/base",
      "model_module_version": "2.0.0",
      "model_name": "LayoutModel",
      "state": {}
     },
     "2f96ea4b0f194aeda3dc869fda671057": {
      "model_module": "@jupyter-widgets/base",
      "model_module_version": "2.0.0",
      "model_name": "LayoutModel",
      "state": {}
     },
     "336597202e1642e38055c40bfd02087f": {
      "model_module": "@jupyter-widgets/controls",
      "model_module_version": "2.0.0",
      "model_name": "VBoxModel",
      "state": {
       "children": [
        "IPY_MODEL_2252fcf68cba4cf5b224876d52d72c0e"
       ],
       "layout": "IPY_MODEL_d8fc9f94d5474c2eb82ab637a5e8a3dd"
      }
     },
     "3370e57b02d3415183f14b0ce47fb622": {
      "model_module": "jupyter-leaflet",
      "model_module_version": "^0.19",
      "model_name": "LeafletMarkerModel",
      "state": {
       "_model_module_version": "^0.19",
       "_view_module_version": "^0.19",
       "location": [
        50,
        0
       ],
       "options": [
        "alt",
        "draggable",
        "keyboard",
        "rise_offset",
        "rise_on_hover",
        "rotation_angle",
        "rotation_origin",
        "title",
        "z_index_offset"
       ]
      }
     },
     "387ddab9bfb34d7e8de491afd22cac1d": {
      "model_module": "@jupyter-widgets/controls",
      "model_module_version": "2.0.0",
      "model_name": "VBoxModel",
      "state": {
       "children": [
        "IPY_MODEL_adc19bb156994b7dbc960ed787ad8afb"
       ],
       "layout": "IPY_MODEL_db9fe7982ee84ca096cf480f7e728eef"
      }
     },
     "3c1678b4c75442dfbb772253f12ffb03": {
      "model_module": "@jupyter-widgets/base",
      "model_module_version": "2.0.0",
      "model_name": "LayoutModel",
      "state": {}
     },
     "3f14b3f68eda4ec0a1196b05bca9f872": {
      "model_module": "@jupyter-widgets/controls",
      "model_module_version": "2.0.0",
      "model_name": "VBoxModel",
      "state": {
       "children": [
        "IPY_MODEL_a27b59df0821420a8d8f207e480cb376",
        "IPY_MODEL_788664c7921b46a98f99e5a3379dda93"
       ],
       "layout": "IPY_MODEL_22667ca841b04b35a19d2e053df48c2b"
      }
     },
     "4245f84c136e4e839b1943ef710f5ae8": {
      "model_module": "@jupyter-widgets/base",
      "model_module_version": "2.0.0",
      "model_name": "LayoutModel",
      "state": {}
     },
     "44fae92b281240d2bceca95de5f3b0e9": {
      "model_module": "jupyter-leaflet",
      "model_module_version": "^0.19",
      "model_name": "LeafletMapStyleModel",
      "state": {
       "_model_module_version": "^0.19"
      }
     },
     "496c6f7db8274438943fdafa83bfedd1": {
      "model_module": "jupyter-leaflet",
      "model_module_version": "^0.19",
      "model_name": "LeafletMapStyleModel",
      "state": {
       "_model_module_version": "^0.19"
      }
     },
     "4991d96c0ada432aa367421fe7864246": {
      "model_module": "@jupyter-widgets/controls",
      "model_module_version": "2.0.0",
      "model_name": "VBoxModel",
      "state": {
       "children": [
        "IPY_MODEL_6c413db348ef4b4587c05a35df98cfa0"
       ],
       "layout": "IPY_MODEL_070c605ed09b4982b41d712d79eb98a1"
      }
     },
     "4c9ea44bd6fe432aa830870a5ba74709": {
      "model_module": "jupyter-leaflet",
      "model_module_version": "^0.19",
      "model_name": "LeafletMarkerModel",
      "state": {
       "_model_module_version": "^0.19",
       "_view_module_version": "^0.19",
       "location": [
        50,
        0
       ],
       "options": [
        "alt",
        "draggable",
        "keyboard",
        "rise_offset",
        "rise_on_hover",
        "rotation_angle",
        "rotation_origin",
        "title",
        "z_index_offset"
       ]
      }
     },
     "4dccb6c5aaae4ecf93197c25561beb4b": {
      "model_module": "jupyter-leaflet",
      "model_module_version": "^0.19",
      "model_name": "LeafletLayersControlModel",
      "state": {
       "_model_module_version": "^0.19",
       "_view_module_version": "^0.19",
       "collapsed": false,
       "options": [
        "collapsed",
        "position"
       ]
      }
     },
     "4e92ba92a00146a4a7225908f6a930fd": {
      "model_module": "@jupyter-widgets/controls",
      "model_module_version": "2.0.0",
      "model_name": "HTMLMathModel",
      "state": {
       "layout": "IPY_MODEL_c9b49d554f804d9dab593985ac20d39b",
       "style": "IPY_MODEL_f252cda385ab4a1e811d8fa8e200ccbd",
       "value": "Switch color"
      }
     },
     "4fddcc044de142e38ae6788d711afb99": {
      "model_module": "@jupyter-widgets/controls",
      "model_module_version": "2.0.0",
      "model_name": "VBoxModel",
      "state": {
       "children": [
        "IPY_MODEL_288e20be46c744e8abae9838611db62c"
       ],
       "layout": "IPY_MODEL_f3baba8c0eee4ae1b937b4853b38846a"
      }
     },
     "542cd208fdb749e68195f6cd1d0b3673": {
      "model_module": "jupyter-leaflet",
      "model_module_version": "^0.19",
      "model_name": "LeafletMapStyleModel",
      "state": {
       "_model_module_version": "^0.19"
      }
     },
     "59238ea977d9435f884c1825c8de0c2b": {
      "model_module": "jupyter-leaflet",
      "model_module_version": "^0.19",
      "model_name": "LeafletTileLayerModel",
      "state": {
       "_model_module_version": "^0.19",
       "_view_module_version": "^0.19",
       "attribution": "&copy; <a href=\"https://www.openstreetmap.org/copyright\">OpenStreetMap</a> contributors",
       "base": true,
       "max_zoom": 19,
       "min_zoom": 1,
       "name": "OpenStreetMap.Mapnik",
       "options": [
        "attribution",
        "bounds",
        "detect_retina",
        "max_native_zoom",
        "max_zoom",
        "min_native_zoom",
        "min_zoom",
        "no_wrap",
        "tile_size",
        "tms",
        "zoom_offset"
       ],
       "url": "https://tile.openstreetmap.org/{z}/{x}/{y}.png"
      }
     },
     "5fa91a754c8b476fa2459702aa1b86b1": {
      "model_module": "@jupyter-widgets/controls",
      "model_module_version": "2.0.0",
      "model_name": "VBoxModel",
      "state": {
       "children": [
        "IPY_MODEL_85d2f0e9e89e48f7970bb2cf3d14962f",
        "IPY_MODEL_89e4feede3054effa7d00a974c9b5d6a"
       ],
       "layout": "IPY_MODEL_6380daeca6924a11b05220b44247b64d"
      }
     },
     "6380daeca6924a11b05220b44247b64d": {
      "model_module": "@jupyter-widgets/base",
      "model_module_version": "2.0.0",
      "model_name": "LayoutModel",
      "state": {}
     },
     "67c725eb911e47fb90ee56ec9a45df1c": {
      "model_module": "jupyter-leaflet",
      "model_module_version": "^0.19",
      "model_name": "LeafletZoomControlModel",
      "state": {
       "_model_module_version": "^0.19",
       "_view_module_version": "^0.19",
       "options": [
        "position",
        "zoom_in_text",
        "zoom_in_title",
        "zoom_out_text",
        "zoom_out_title"
       ]
      }
     },
     "6b8e32ee887144829a7af0565a428472": {
      "model_module": "@jupyter-widgets/controls",
      "model_module_version": "2.0.0",
      "model_name": "ButtonStyleModel",
      "state": {
       "font_family": null,
       "font_size": null,
       "font_style": null,
       "font_variant": null,
       "font_weight": null,
       "text_color": null,
       "text_decoration": null
      }
     },
     "6c413db348ef4b4587c05a35df98cfa0": {
      "model_module": "jupyter-leaflet",
      "model_module_version": "^0.19",
      "model_name": "LeafletMarkerClusterModel",
      "state": {
       "_model_module_version": "^0.19",
       "_view_module_version": "^0.19",
       "disable_clustering_at_zoom": 18,
       "markers": [
        "IPY_MODEL_03fcc9bfae2149eebc2e3afe400cb806",
        "IPY_MODEL_3370e57b02d3415183f14b0ce47fb622",
        "IPY_MODEL_bee68d8e642240028b4285629e8c3eb0"
       ],
       "max_cluster_radius": 80,
       "name": "marker cluster",
       "options": [
        "animate",
        "animate_adding_markers",
        "disable_clustering_at_zoom",
        "max_cluster_radius",
        "polygon_options",
        "remove_outside_visible_bounds",
        "show_coverage_on_hover",
        "spider_leg_polyline_options",
        "spiderfy_distance_multiplier",
        "spiderfy_on_max_zoom",
        "zoom_to_bounds_on_click"
       ],
       "spider_leg_polyline_options": {
        "color": "#222",
        "opacity": 0.5,
        "weight": 1.5
       }
      }
     },
     "6ec6479299894e70bed86b2583ad33e6": {
      "model_module": "jupyter-leaflet",
      "model_module_version": "^0.19",
      "model_name": "LeafletZoomControlModel",
      "state": {
       "_model_module_version": "^0.19",
       "_view_module_version": "^0.19",
       "options": [
        "position",
        "zoom_in_text",
        "zoom_in_title",
        "zoom_out_text",
        "zoom_out_title"
       ]
      }
     },
     "73e08281f6f04501bee3368b804a78b1": {
      "model_module": "jupyter-leaflet",
      "model_module_version": "^0.19",
      "model_name": "LeafletMapModel",
      "state": {
       "_model_module_version": "^0.19",
       "_view_module_version": "^0.19",
       "bottom": 2978,
       "center": [
        50,
        0
       ],
       "controls": [
        "IPY_MODEL_a4ede67e3d92450d98d41e6759eb55ed",
        "IPY_MODEL_a35e8728f72a410b829d1e498edb6cc3",
        "IPY_MODEL_4dccb6c5aaae4ecf93197c25561beb4b"
       ],
       "default_style": "IPY_MODEL_542cd208fdb749e68195f6cd1d0b3673",
       "dragging_style": "IPY_MODEL_c62c4cb091e246f59d20bd86f996c4f8",
       "east": 23.73046875,
       "fullscreen": false,
       "interpolation": "bilinear",
       "layers": [
        "IPY_MODEL_f1476faea81d4df09dcdd963eb47560c",
        "IPY_MODEL_adc19bb156994b7dbc960ed787ad8afb"
       ],
       "layout": "IPY_MODEL_b098e3032f914797874f813090650b38",
       "left": 3557,
       "modisdate": "2025-04-05",
       "north": 55.32914440840507,
       "options": [
        "bounce_at_zoom_limits",
        "box_zoom",
        "center",
        "close_popup_on_click",
        "double_click_zoom",
        "dragging",
        "fullscreen",
        "inertia",
        "inertia_deceleration",
        "inertia_max_speed",
        "interpolation",
        "keyboard",
        "keyboard_pan_offset",
        "keyboard_zoom_offset",
        "max_zoom",
        "min_zoom",
        "prefer_canvas",
        "scroll_wheel_zoom",
        "tap",
        "tap_tolerance",
        "touch_zoom",
        "world_copy_jump",
        "zoom",
        "zoom_animation_threshold",
        "zoom_delta",
        "zoom_snap"
       ],
       "prefer_canvas": false,
       "right": 4636,
       "south": 44.02442151965934,
       "style": "IPY_MODEL_9ae2e914740e40d29810b8bdf8cd1f88",
       "top": 2578,
       "west": -23.686523437500004,
       "window_url": "http://localhost:2071/lab/tree/nb_llm/pyvue/examples/vleaflet/layers/MarkerCluster.ipynb",
       "zoom": 5
      }
     },
     "741645de197f43c1b870ac57bad2112f": {
      "model_module": "jupyter-leaflet",
      "model_module_version": "^0.19",
      "model_name": "LeafletLayersControlModel",
      "state": {
       "_model_module_version": "^0.19",
       "_view_module_version": "^0.19",
       "collapsed": false,
       "options": [
        "collapsed",
        "position"
       ]
      }
     },
     "77a3a54309224e75bdff3768480fd529": {
      "model_module": "jupyter-leaflet",
      "model_module_version": "^0.19",
      "model_name": "LeafletMarkerModel",
      "state": {
       "_model_module_version": "^0.19",
       "_view_module_version": "^0.19",
       "location": [
        52,
        2
       ],
       "options": [
        "alt",
        "draggable",
        "keyboard",
        "rise_offset",
        "rise_on_hover",
        "rotation_angle",
        "rotation_origin",
        "title",
        "z_index_offset"
       ]
      }
     },
     "788664c7921b46a98f99e5a3379dda93": {
      "model_module": "jupyter-leaflet",
      "model_module_version": "^0.19",
      "model_name": "LeafletMapModel",
      "state": {
       "_model_module_version": "^0.19",
       "_view_module_version": "^0.19",
       "bottom": 2869,
       "center": [
        53,
        354
       ],
       "controls": [
        "IPY_MODEL_67c725eb911e47fb90ee56ec9a45df1c",
        "IPY_MODEL_b8fb14b24bf643d48906aecfe599cf18",
        "IPY_MODEL_b63ea78284c940f785967071e551933c"
       ],
       "default_style": "IPY_MODEL_fb805d0cd32c4807a38ca58772fa261b",
       "dragging_style": "IPY_MODEL_f5ee94397a8d471da5bebb7b7c42f98f",
       "east": 377.70996093750006,
       "fullscreen": false,
       "interpolation": "bilinear",
       "layers": [
        "IPY_MODEL_59238ea977d9435f884c1825c8de0c2b",
        "IPY_MODEL_a14a4954c9624bfc8ec7c325b942087e"
       ],
       "layout": "IPY_MODEL_805c98e951ac44609d70ff48332e61f6",
       "left": 11612,
       "modisdate": "2025-04-05",
       "north": 57.961503094284794,
       "options": [
        "bounce_at_zoom_limits",
        "box_zoom",
        "center",
        "close_popup_on_click",
        "double_click_zoom",
        "dragging",
        "fullscreen",
        "inertia",
        "inertia_deceleration",
        "inertia_max_speed",
        "interpolation",
        "keyboard",
        "keyboard_pan_offset",
        "keyboard_zoom_offset",
        "max_zoom",
        "min_zoom",
        "prefer_canvas",
        "scroll_wheel_zoom",
        "tap",
        "tap_tolerance",
        "touch_zoom",
        "world_copy_jump",
        "zoom",
        "zoom_animation_threshold",
        "zoom_delta",
        "zoom_snap"
       ],
       "prefer_canvas": false,
       "right": 12691,
       "south": 47.368594345213374,
       "style": "IPY_MODEL_496c6f7db8274438943fdafa83bfedd1",
       "top": 2469,
       "west": 330.29296875000006,
       "window_url": "http://localhost:2071/lab/tree/nb_llm/pyvue/examples/vleaflet/layers/MarkerCluster.ipynb",
       "zoom": 5
      }
     },
     "7d2421d2dc8741c588daf0c5d4e86c66": {
      "model_module": "@jupyter-widgets/controls",
      "model_module_version": "2.0.0",
      "model_name": "ButtonModel",
      "state": {
       "description": "Switch color",
       "layout": "IPY_MODEL_f7d9eb52ce0349e2b2b58d070b2ea50a",
       "style": "IPY_MODEL_e414a5edc1d7404384c895d395b347d4",
       "tooltip": null
      }
     },
     "805c98e951ac44609d70ff48332e61f6": {
      "model_module": "@jupyter-widgets/base",
      "model_module_version": "2.0.0",
      "model_name": "LayoutModel",
      "state": {}
     },
     "833e5259f4bd41678cdc46ec3bc981d9": {
      "model_module": "@jupyter-widgets/base",
      "model_module_version": "2.0.0",
      "model_name": "LayoutModel",
      "state": {}
     },
     "85d2f0e9e89e48f7970bb2cf3d14962f": {
      "model_module": "anywidget",
      "model_module_version": "~0.9.*",
      "model_name": "AnyModel",
      "state": {
       "_anywidget_id": "ipywui.widgets.custom.message.MessageWidget",
       "_css": ".wui-message-root {\n    display: flex;\n    position: absolute;\n    left: 0;\n    right: 0;\n    top: 0;\n}\n\n.wui-message-container {\n    align-items: center;\n    display: flex;\n    flex-direction: column-reverse;\n    justify-content: center;\n    min-height: 100%;\n    outline: none;\n    width: 100%;\n\n    -webkit-tap-highlight-color: rgba(0,0,0,0);\n    bottom: 0;\n    left: 0;\n    right: 0;\n    top: 0;\n}\n\n.wui-message--success {\n    --wui-message-bg-color: #f0f9eb;\n    --wui-message-border-color: #e1f3d8;\n    --wui-message-text-color: #67c23a;\n}\n.wui-message--warning {\n    --wui-message-bg-color: #fdf6ec;\n    --wui-message-border-color: #faecd8;\n    --wui-message-text-color: #e6a23c;\n}\n.wui-message--info {\n    --wui-message-bg-color: #f4f4f5;\n    --wui-message-border-color: #e9e9eb;\n    --wui-message-text-color: #909399;\n}\n.wui-message--error {\n    --wui-message-bg-color: #fef0f0;\n    --wui-message-border-color: #fde2e2;\n    --wui-message-text-color: #f56c6c;\n}\n\n@keyframes msg-open {\n    0% {\n        opacity: 0;\n        -webkit-transform: translateY(-120%);\n        transform: translateY(-120%)\n    }\n    to {\n        -webkit-transform: translateY(0);\n        transform: translateY(0)\n    }\n}\n\n@keyframes msg-close {\n    0% {\n        opacity: 1;\n        -webkit-transform: scale(1);\n        transform: scale(1)\n    }\n    to {\n        opacity: 0;\n        -webkit-transform: scale(.9);\n        transform: scale(.9)\n    }\n}\n.wui-message[data-state=entered],.wui-message[data-state=entering] {\n    -webkit-animation: msg-open .24s cubic-bezier(.175,.885,.32,1.175) both;\n    animation: msg-open .24s cubic-bezier(.175,.885,.32,1.175) both\n}\n\n.wui-message[data-state=exiting] {\n    -webkit-animation: msg-close .12s cubic-bezier(.4,0,1,1) both;\n    animation: msg-close .12s cubic-bezier(.4,0,1,1) both\n}\n\n.wui-message {\n    width: -webkit-fit-content;\n    width: -moz-fit-content;\n    width: fit-content;\n    z-index: 2004;\n    max-width: calc(100% - 32px);\n    margin-top: 8px;\n    box-sizing: border-box;\n    /*border-radius: var(--wui-border-radius-base);*/\n    /*border-width: var(--wui-border-width);*/\n    /*border-style: var(--wui-border-style);*/\n    border-color: var(--wui-message-border-color);\n    /*left: 50%;*/\n    /*top: 20px;*/\n    /*transform: translateX(-50%);*/\n    background-color: var(--wui-message-bg-color);\n    /*transition: opacity var(--wui-transition-duration),transform .4s,top .4s;*/\n    /*padding: var(--wui-message-padding);*/\n    display: flex;\n    align-items: center;\n}\n\n/*.wui-message--success */\n.wui-message__content {\n    color: var(--wui-message-text-color);\n    font-size: 14px;\n    line-height: 18px;\n    margin: 10px 14px 10px 14px;\n    overflow-wrap: break-word;\n}\n\n.wui-message__closeBtn {\n    /*cursor: pointer;*/\n    font-style: normal;\n    /*color: gray;*/\n    padding-right: 14px;\n    /*font-size: 13px;*/\n    user-select: none;\n\n    background: transparent;\n    border: none;\n    color: gray;\n    cursor: pointer;\n    font-size: 13px;\n    font-weight: 400;\n    line-height: 1;\n    outline: none;\n    /*padding: 4px;*/\n    text-align: center;\n    transition: opacity .3s;\n    /*width: 100%;*/\n}",
       "_esm": "function closeMsg(msgDom) {\n  if (!msgDom) {\n    return;\n  }\n  msgDom.setAttribute('data-state', 'exiting');\n  msgDom.remove();\n}\n\nfunction createMsg(options) {\n  const {message, msg_id, type = 'info', show_close = false} = options;\n  const msgDom = document.createElement('div');\n  msgDom.className += ` wui-message--${type} wui-message`;\n  msgDom.setAttribute('data-state', 'entered');\n  msgDom.setAttribute('id', msg_id);\n  const msgContent = document.createElement('p');\n  msgContent.className += ` wui-message--${type} wui-message__content`;\n  msgContent.innerText = message;\n  msgDom.appendChild(msgContent);\n  if (show_close) {\n    const closeBtn = document.createElement('i');\n    closeBtn.className += 'wui-message__closeBtn';\n    closeBtn.innerText = 'x';\n    closeBtn.addEventListener('click', (ev) => {\n      closeMsg(msgDom);\n    })\n    msgDom.appendChild(closeBtn);\n  }\n  return msgDom;\n}\n\nexport async function render(view) {\n  let model = view.model;\n  const msgRoot = view.el;\n  msgRoot.className += ' wui-message-root'\n\n  const msgContainer = document.createElement('div');\n  msgContainer.className += ' wui-message-container';\n  msgRoot.appendChild(msgContainer)\n\n  model.on(\"change:message_options\", () => {\n    const options = model.get(\"message_options\");\n    const msg = createMsg(options);\n    msgContainer.appendChild(msg);\n    const {duration = 3000} = options;\n    if (duration > 0) {\n      setTimeout(() => {\n        closeMsg(msg)\n      }, duration);\n    }\n  })\n\n  model.on(\"change:close_msg_id\", () => {\n    const msg_id = model.get(\"close_msg_id\");\n    const msgDom = document.getElementById(msg_id);\n    closeMsg(msgDom);\n  })\n}\n",
       "_model_module": "anywidget",
       "_model_module_version": "~0.9.*",
       "_model_name": "AnyModel",
       "_view_module": "anywidget",
       "_view_module_version": "~0.9.*",
       "_view_name": "AnyView",
       "close_msg_id": "",
       "layout": "IPY_MODEL_2f7fb01ebb354348bbba60776ecaf945",
       "message_options": {
        "duration": 3000,
        "message": "",
        "show_close": false,
        "type": "info"
       }
      }
     },
     "88fdd7f1996c416691f06e99cdbef151": {
      "model_module": "jupyter-leaflet",
      "model_module_version": "^0.19",
      "model_name": "LeafletMapModel",
      "state": {
       "_model_module_version": "^0.19",
       "_view_module_version": "^0.19",
       "bottom": 2978,
       "center": [
        50,
        0
       ],
       "controls": [
        "IPY_MODEL_6ec6479299894e70bed86b2583ad33e6",
        "IPY_MODEL_c1d5b8309da347adada26e2734c50852",
        "IPY_MODEL_741645de197f43c1b870ac57bad2112f"
       ],
       "default_style": "IPY_MODEL_44fae92b281240d2bceca95de5f3b0e9",
       "dragging_style": "IPY_MODEL_15da44688bec42c99eae810045c8fdc6",
       "east": 23.73046875,
       "fullscreen": false,
       "interpolation": "bilinear",
       "layers": [
        "IPY_MODEL_ced859a3751f4ad48d0ace836dff9446",
        "IPY_MODEL_6c413db348ef4b4587c05a35df98cfa0"
       ],
       "layout": "IPY_MODEL_1815de96a4a347cd9c5d94dcd83afb86",
       "left": 3557,
       "modisdate": "2025-04-05",
       "north": 55.32914440840507,
       "options": [
        "bounce_at_zoom_limits",
        "box_zoom",
        "center",
        "close_popup_on_click",
        "double_click_zoom",
        "dragging",
        "fullscreen",
        "inertia",
        "inertia_deceleration",
        "inertia_max_speed",
        "interpolation",
        "keyboard",
        "keyboard_pan_offset",
        "keyboard_zoom_offset",
        "max_zoom",
        "min_zoom",
        "prefer_canvas",
        "scroll_wheel_zoom",
        "tap",
        "tap_tolerance",
        "touch_zoom",
        "world_copy_jump",
        "zoom",
        "zoom_animation_threshold",
        "zoom_delta",
        "zoom_snap"
       ],
       "prefer_canvas": false,
       "right": 4636,
       "south": 44.02442151965934,
       "style": "IPY_MODEL_c70caea33dcc4b66bdb95ef9c09bdea5",
       "top": 2578,
       "west": -23.686523437500004,
       "window_url": "http://localhost:2071/lab/tree/nb_llm/pyvue/examples/vleaflet/layers/MarkerCluster.ipynb",
       "zoom": 5
      }
     },
     "89e4feede3054effa7d00a974c9b5d6a": {
      "model_module": "@jupyter-widgets/controls",
      "model_module_version": "2.0.0",
      "model_name": "VBoxModel",
      "state": {
       "children": [
        "IPY_MODEL_3f14b3f68eda4ec0a1196b05bca9f872"
       ],
       "layout": "IPY_MODEL_a17d0e1c2bba466a859c07a59824cfb3"
      }
     },
     "8b530fd8b435477a964acf8376eda4c5": {
      "model_module": "@jupyter-widgets/base",
      "model_module_version": "2.0.0",
      "model_name": "LayoutModel",
      "state": {}
     },
     "8f9065bf926a49b582d44ad8c7776aae": {
      "model_module": "@jupyter-widgets/controls",
      "model_module_version": "2.0.0",
      "model_name": "HTMLMathStyleModel",
      "state": {
       "description_width": "",
       "font_size": null,
       "text_color": null
      }
     },
     "903577dc8ac2485cb5c84873dab54985": {
      "model_module": "@jupyter-widgets/controls",
      "model_module_version": "2.0.0",
      "model_name": "VBoxModel",
      "state": {
       "children": [
        "IPY_MODEL_ccbbe1329c7641f5b02fb57331439c91"
       ],
       "layout": "IPY_MODEL_285c8d247f74474799d49c68779fa387"
      }
     },
     "96b20759e6634916bab2e3c49278160f": {
      "model_module": "@jupyter-widgets/controls",
      "model_module_version": "2.0.0",
      "model_name": "VBoxModel",
      "state": {
       "children": [
        "IPY_MODEL_5fa91a754c8b476fa2459702aa1b86b1"
       ],
       "layout": "IPY_MODEL_4245f84c136e4e839b1943ef710f5ae8"
      }
     },
     "9ae2e914740e40d29810b8bdf8cd1f88": {
      "model_module": "jupyter-leaflet",
      "model_module_version": "^0.19",
      "model_name": "LeafletMapStyleModel",
      "state": {
       "_model_module_version": "^0.19"
      }
     },
     "9c0433fd601c402ab255937bf5f3691d": {
      "model_module": "@jupyter-widgets/base",
      "model_module_version": "2.0.0",
      "model_name": "LayoutModel",
      "state": {}
     },
     "9d01c3a083044506b844521226192085": {
      "model_module": "@jupyter-widgets/controls",
      "model_module_version": "2.0.0",
      "model_name": "VBoxModel",
      "state": {
       "children": [
        "IPY_MODEL_741645de197f43c1b870ac57bad2112f"
       ],
       "layout": "IPY_MODEL_9df3516d13f1412ba1f1d0c36baa5769"
      }
     },
     "9d515e90066247b980f8d85b4a171aed": {
      "model_module": "jupyter-leaflet",
      "model_module_version": "^0.19",
      "model_name": "LeafletMarkerModel",
      "state": {
       "_model_module_version": "^0.19",
       "_view_module_version": "^0.19",
       "location": [
        48,
        -2
       ],
       "options": [
        "alt",
        "draggable",
        "keyboard",
        "rise_offset",
        "rise_on_hover",
        "rotation_angle",
        "rotation_origin",
        "title",
        "z_index_offset"
       ]
      }
     },
     "9d5df9b421eb4cd3a0be3741be7e73f9": {
      "model_module": "@jupyter-widgets/output",
      "model_module_version": "1.0.0",
      "model_name": "OutputModel",
      "state": {
       "layout": "IPY_MODEL_c37bbd428b314605b2d6e408974bda20",
       "outputs": [
        {
         "name": "stdout",
         "output_type": "stream",
         "text": "2025-04-06 23:21:30,238 [INFO] api_create_app.py:render:126 - App render end.\n"
        },
        {
         "name": "stdout",
         "output_type": "stream",
         "text": "2025-04-06 23:21:30,233 [INFO] sfc_codegen.py:render:165 - 🔥 Rerender SFC<__tmp_for_str.vue> at 4428026576\n"
        },
        {
         "name": "stdout",
         "output_type": "stream",
         "text": "2025-04-06 23:21:30,233 [INFO] api_create_app.py:render:116 - App render start.\n"
        },
        {
         "name": "stdout",
         "output_type": "stream",
         "text": "2025-04-06 23:15:43,858 [INFO] api_create_app.py:render:126 - App render end.\n"
        },
        {
         "name": "stdout",
         "output_type": "stream",
         "text": "2025-04-06 23:15:43,849 [INFO] sfc_codegen.py:render:165 - 🔥 Rerender SFC<__tmp_for_str.vue> at 4389009584\n"
        },
        {
         "name": "stdout",
         "output_type": "stream",
         "text": "2025-04-06 23:15:43,848 [INFO] api_create_app.py:render:116 - App render start.\n"
        },
        {
         "name": "stdout",
         "output_type": "stream",
         "text": "2025-04-06 23:15:09,691 [INFO] api_create_app.py:render:126 - App render end.\n"
        },
        {
         "name": "stdout",
         "output_type": "stream",
         "text": "2025-04-06 23:15:09,676 [INFO] sfc_codegen.py:render:165 - 🔥 Rerender SFC<__tmp_for_str.vue> at 4427361984\n"
        },
        {
         "name": "stdout",
         "output_type": "stream",
         "text": "2025-04-06 23:15:09,676 [INFO] api_create_app.py:render:116 - App render start.\n"
        }
       ]
      }
     },
     "9df3516d13f1412ba1f1d0c36baa5769": {
      "model_module": "@jupyter-widgets/base",
      "model_module_version": "2.0.0",
      "model_name": "LayoutModel",
      "state": {}
     },
     "a00d81a61cc64ab49eb8ce26bad3f19a": {
      "model_module": "@jupyter-widgets/base",
      "model_module_version": "2.0.0",
      "model_name": "LayoutModel",
      "state": {}
     },
     "a14a4954c9624bfc8ec7c325b942087e": {
      "model_module": "jupyter-leaflet",
      "model_module_version": "^0.19",
      "model_name": "LeafletMarkerClusterModel",
      "state": {
       "_model_module_version": "^0.19",
       "_view_module_version": "^0.19",
       "disable_clustering_at_zoom": 18,
       "markers": [
        "IPY_MODEL_9d515e90066247b980f8d85b4a171aed",
        "IPY_MODEL_4c9ea44bd6fe432aa830870a5ba74709",
        "IPY_MODEL_f772af467dbb47d58e8f24b7a76ef0c2"
       ],
       "max_cluster_radius": 80,
       "name": "circle marker",
       "options": [
        "animate",
        "animate_adding_markers",
        "disable_clustering_at_zoom",
        "max_cluster_radius",
        "polygon_options",
        "remove_outside_visible_bounds",
        "show_coverage_on_hover",
        "spider_leg_polyline_options",
        "spiderfy_distance_multiplier",
        "spiderfy_on_max_zoom",
        "zoom_to_bounds_on_click"
       ],
       "spider_leg_polyline_options": {
        "color": "#222",
        "opacity": 0.5,
        "weight": 1.5
       }
      }
     },
     "a17d0e1c2bba466a859c07a59824cfb3": {
      "model_module": "@jupyter-widgets/base",
      "model_module_version": "2.0.0",
      "model_name": "LayoutModel",
      "state": {}
     },
     "a27b59df0821420a8d8f207e480cb376": {
      "model_module": "@jupyter-widgets/controls",
      "model_module_version": "2.0.0",
      "model_name": "ButtonModel",
      "state": {
       "description": "Switch color",
       "layout": "IPY_MODEL_ec2921abb8044a2da79ac76c50da7a9f",
       "style": "IPY_MODEL_6b8e32ee887144829a7af0565a428472",
       "tooltip": null
      }
     },
     "a2db6abe309f4212a1c9633b82c2c97d": {
      "model_module": "@jupyter-widgets/base",
      "model_module_version": "2.0.0",
      "model_name": "LayoutModel",
      "state": {}
     },
     "a2e8f92a5c6a4b229de683223298761d": {
      "model_module": "@jupyter-widgets/base",
      "model_module_version": "2.0.0",
      "model_name": "LayoutModel",
      "state": {}
     },
     "a35e8728f72a410b829d1e498edb6cc3": {
      "model_module": "jupyter-leaflet",
      "model_module_version": "^0.19",
      "model_name": "LeafletAttributionControlModel",
      "state": {
       "_model_module_version": "^0.19",
       "_view_module_version": "^0.19",
       "options": [
        "position",
        "prefix"
       ],
       "position": "bottomright",
       "prefix": "ipyleaflet"
      }
     },
     "a4ede67e3d92450d98d41e6759eb55ed": {
      "model_module": "jupyter-leaflet",
      "model_module_version": "^0.19",
      "model_name": "LeafletZoomControlModel",
      "state": {
       "_model_module_version": "^0.19",
       "_view_module_version": "^0.19",
       "options": [
        "position",
        "zoom_in_text",
        "zoom_in_title",
        "zoom_out_text",
        "zoom_out_title"
       ]
      }
     },
     "a6dc60b6e6f0442cabd555098db473fd": {
      "model_module": "jupyter-leaflet",
      "model_module_version": "^0.19",
      "model_name": "LeafletMarkerModel",
      "state": {
       "_model_module_version": "^0.19",
       "_view_module_version": "^0.19",
       "location": [
        48,
        -2
       ],
       "options": [
        "alt",
        "draggable",
        "keyboard",
        "rise_offset",
        "rise_on_hover",
        "rotation_angle",
        "rotation_origin",
        "title",
        "z_index_offset"
       ]
      }
     },
     "adc19bb156994b7dbc960ed787ad8afb": {
      "model_module": "jupyter-leaflet",
      "model_module_version": "^0.19",
      "model_name": "LeafletMarkerClusterModel",
      "state": {
       "_model_module_version": "^0.19",
       "_view_module_version": "^0.19",
       "disable_clustering_at_zoom": 18,
       "markers": [
        "IPY_MODEL_a6dc60b6e6f0442cabd555098db473fd",
        "IPY_MODEL_0d1b84568ae343ddb9b628ba4c75faab",
        "IPY_MODEL_77a3a54309224e75bdff3768480fd529"
       ],
       "max_cluster_radius": 80,
       "name": "marker cluster",
       "options": [
        "animate",
        "animate_adding_markers",
        "disable_clustering_at_zoom",
        "max_cluster_radius",
        "polygon_options",
        "remove_outside_visible_bounds",
        "show_coverage_on_hover",
        "spider_leg_polyline_options",
        "spiderfy_distance_multiplier",
        "spiderfy_on_max_zoom",
        "zoom_to_bounds_on_click"
       ],
       "spider_leg_polyline_options": {
        "color": "#222",
        "opacity": 0.5,
        "weight": 1.5
       }
      }
     },
     "b098e3032f914797874f813090650b38": {
      "model_module": "@jupyter-widgets/base",
      "model_module_version": "2.0.0",
      "model_name": "LayoutModel",
      "state": {}
     },
     "b1fe2d3d02af4131a30c73a0ef1a3ad6": {
      "model_module": "@jupyter-widgets/controls",
      "model_module_version": "2.0.0",
      "model_name": "VBoxModel",
      "state": {
       "children": [
        "IPY_MODEL_b63ea78284c940f785967071e551933c"
       ],
       "layout": "IPY_MODEL_2f96ea4b0f194aeda3dc869fda671057"
      }
     },
     "b63ea78284c940f785967071e551933c": {
      "model_module": "jupyter-leaflet",
      "model_module_version": "^0.19",
      "model_name": "LeafletLayersControlModel",
      "state": {
       "_model_module_version": "^0.19",
       "_view_module_version": "^0.19",
       "collapsed": false,
       "options": [
        "collapsed",
        "position"
       ]
      }
     },
     "b8fb14b24bf643d48906aecfe599cf18": {
      "model_module": "jupyter-leaflet",
      "model_module_version": "^0.19",
      "model_name": "LeafletAttributionControlModel",
      "state": {
       "_model_module_version": "^0.19",
       "_view_module_version": "^0.19",
       "options": [
        "position",
        "prefix"
       ],
       "position": "bottomright",
       "prefix": "ipyleaflet"
      }
     },
     "ba633e2874cf48d18162623f68c330fc": {
      "model_module": "anywidget",
      "model_module_version": "~0.9.*",
      "model_name": "AnyModel",
      "state": {
       "_anywidget_id": "ipywui.widgets.custom.message.MessageWidget",
       "_css": ".wui-message-root {\n    display: flex;\n    position: absolute;\n    left: 0;\n    right: 0;\n    top: 0;\n}\n\n.wui-message-container {\n    align-items: center;\n    display: flex;\n    flex-direction: column-reverse;\n    justify-content: center;\n    min-height: 100%;\n    outline: none;\n    width: 100%;\n\n    -webkit-tap-highlight-color: rgba(0,0,0,0);\n    bottom: 0;\n    left: 0;\n    right: 0;\n    top: 0;\n}\n\n.wui-message--success {\n    --wui-message-bg-color: #f0f9eb;\n    --wui-message-border-color: #e1f3d8;\n    --wui-message-text-color: #67c23a;\n}\n.wui-message--warning {\n    --wui-message-bg-color: #fdf6ec;\n    --wui-message-border-color: #faecd8;\n    --wui-message-text-color: #e6a23c;\n}\n.wui-message--info {\n    --wui-message-bg-color: #f4f4f5;\n    --wui-message-border-color: #e9e9eb;\n    --wui-message-text-color: #909399;\n}\n.wui-message--error {\n    --wui-message-bg-color: #fef0f0;\n    --wui-message-border-color: #fde2e2;\n    --wui-message-text-color: #f56c6c;\n}\n\n@keyframes msg-open {\n    0% {\n        opacity: 0;\n        -webkit-transform: translateY(-120%);\n        transform: translateY(-120%)\n    }\n    to {\n        -webkit-transform: translateY(0);\n        transform: translateY(0)\n    }\n}\n\n@keyframes msg-close {\n    0% {\n        opacity: 1;\n        -webkit-transform: scale(1);\n        transform: scale(1)\n    }\n    to {\n        opacity: 0;\n        -webkit-transform: scale(.9);\n        transform: scale(.9)\n    }\n}\n.wui-message[data-state=entered],.wui-message[data-state=entering] {\n    -webkit-animation: msg-open .24s cubic-bezier(.175,.885,.32,1.175) both;\n    animation: msg-open .24s cubic-bezier(.175,.885,.32,1.175) both\n}\n\n.wui-message[data-state=exiting] {\n    -webkit-animation: msg-close .12s cubic-bezier(.4,0,1,1) both;\n    animation: msg-close .12s cubic-bezier(.4,0,1,1) both\n}\n\n.wui-message {\n    width: -webkit-fit-content;\n    width: -moz-fit-content;\n    width: fit-content;\n    z-index: 2004;\n    max-width: calc(100% - 32px);\n    margin-top: 8px;\n    box-sizing: border-box;\n    /*border-radius: var(--wui-border-radius-base);*/\n    /*border-width: var(--wui-border-width);*/\n    /*border-style: var(--wui-border-style);*/\n    border-color: var(--wui-message-border-color);\n    /*left: 50%;*/\n    /*top: 20px;*/\n    /*transform: translateX(-50%);*/\n    background-color: var(--wui-message-bg-color);\n    /*transition: opacity var(--wui-transition-duration),transform .4s,top .4s;*/\n    /*padding: var(--wui-message-padding);*/\n    display: flex;\n    align-items: center;\n}\n\n/*.wui-message--success */\n.wui-message__content {\n    color: var(--wui-message-text-color);\n    font-size: 14px;\n    line-height: 18px;\n    margin: 10px 14px 10px 14px;\n    overflow-wrap: break-word;\n}\n\n.wui-message__closeBtn {\n    /*cursor: pointer;*/\n    font-style: normal;\n    /*color: gray;*/\n    padding-right: 14px;\n    /*font-size: 13px;*/\n    user-select: none;\n\n    background: transparent;\n    border: none;\n    color: gray;\n    cursor: pointer;\n    font-size: 13px;\n    font-weight: 400;\n    line-height: 1;\n    outline: none;\n    /*padding: 4px;*/\n    text-align: center;\n    transition: opacity .3s;\n    /*width: 100%;*/\n}",
       "_esm": "function closeMsg(msgDom) {\n  if (!msgDom) {\n    return;\n  }\n  msgDom.setAttribute('data-state', 'exiting');\n  msgDom.remove();\n}\n\nfunction createMsg(options) {\n  const {message, msg_id, type = 'info', show_close = false} = options;\n  const msgDom = document.createElement('div');\n  msgDom.className += ` wui-message--${type} wui-message`;\n  msgDom.setAttribute('data-state', 'entered');\n  msgDom.setAttribute('id', msg_id);\n  const msgContent = document.createElement('p');\n  msgContent.className += ` wui-message--${type} wui-message__content`;\n  msgContent.innerText = message;\n  msgDom.appendChild(msgContent);\n  if (show_close) {\n    const closeBtn = document.createElement('i');\n    closeBtn.className += 'wui-message__closeBtn';\n    closeBtn.innerText = 'x';\n    closeBtn.addEventListener('click', (ev) => {\n      closeMsg(msgDom);\n    })\n    msgDom.appendChild(closeBtn);\n  }\n  return msgDom;\n}\n\nexport async function render(view) {\n  let model = view.model;\n  const msgRoot = view.el;\n  msgRoot.className += ' wui-message-root'\n\n  const msgContainer = document.createElement('div');\n  msgContainer.className += ' wui-message-container';\n  msgRoot.appendChild(msgContainer)\n\n  model.on(\"change:message_options\", () => {\n    const options = model.get(\"message_options\");\n    const msg = createMsg(options);\n    msgContainer.appendChild(msg);\n    const {duration = 3000} = options;\n    if (duration > 0) {\n      setTimeout(() => {\n        closeMsg(msg)\n      }, duration);\n    }\n  })\n\n  model.on(\"change:close_msg_id\", () => {\n    const msg_id = model.get(\"close_msg_id\");\n    const msgDom = document.getElementById(msg_id);\n    closeMsg(msgDom);\n  })\n}\n",
       "_model_module": "anywidget",
       "_model_module_version": "~0.9.*",
       "_model_name": "AnyModel",
       "_view_module": "anywidget",
       "_view_module_version": "~0.9.*",
       "_view_name": "AnyView",
       "close_msg_id": "",
       "layout": "IPY_MODEL_2986cf9a231a4def8172dc4d3e796cf5",
       "message_options": {
        "duration": 3000,
        "message": "",
        "show_close": false,
        "type": "info"
       }
      }
     },
     "be83fbe2c9f143ea8c31cc4d3b729826": {
      "model_module": "@jupyter-widgets/controls",
      "model_module_version": "2.0.0",
      "model_name": "VBoxModel",
      "state": {
       "children": [
        "IPY_MODEL_73e08281f6f04501bee3368b804a78b1"
       ],
       "layout": "IPY_MODEL_9c0433fd601c402ab255937bf5f3691d"
      }
     },
     "bee68d8e642240028b4285629e8c3eb0": {
      "model_module": "jupyter-leaflet",
      "model_module_version": "^0.19",
      "model_name": "LeafletMarkerModel",
      "state": {
       "_model_module_version": "^0.19",
       "_view_module_version": "^0.19",
       "location": [
        52,
        2
       ],
       "options": [
        "alt",
        "draggable",
        "keyboard",
        "rise_offset",
        "rise_on_hover",
        "rotation_angle",
        "rotation_origin",
        "title",
        "z_index_offset"
       ]
      }
     },
     "c1d5b8309da347adada26e2734c50852": {
      "model_module": "jupyter-leaflet",
      "model_module_version": "^0.19",
      "model_name": "LeafletAttributionControlModel",
      "state": {
       "_model_module_version": "^0.19",
       "_view_module_version": "^0.19",
       "options": [
        "position",
        "prefix"
       ],
       "position": "bottomright",
       "prefix": "ipyleaflet"
      }
     },
     "c37bbd428b314605b2d6e408974bda20": {
      "model_module": "@jupyter-widgets/base",
      "model_module_version": "2.0.0",
      "model_name": "LayoutModel",
      "state": {}
     },
     "c62c4cb091e246f59d20bd86f996c4f8": {
      "model_module": "jupyter-leaflet",
      "model_module_version": "^0.19",
      "model_name": "LeafletMapStyleModel",
      "state": {
       "_model_module_version": "^0.19",
       "cursor": "move"
      }
     },
     "c70caea33dcc4b66bdb95ef9c09bdea5": {
      "model_module": "jupyter-leaflet",
      "model_module_version": "^0.19",
      "model_name": "LeafletMapStyleModel",
      "state": {
       "_model_module_version": "^0.19"
      }
     },
     "c9b49d554f804d9dab593985ac20d39b": {
      "model_module": "@jupyter-widgets/base",
      "model_module_version": "2.0.0",
      "model_name": "LayoutModel",
      "state": {}
     },
     "ccbbe1329c7641f5b02fb57331439c91": {
      "model_module": "@jupyter-widgets/controls",
      "model_module_version": "2.0.0",
      "model_name": "VBoxModel",
      "state": {
       "children": [
        "IPY_MODEL_07a36997754f46fdbf6eef8eb8a4f86f",
        "IPY_MODEL_4fddcc044de142e38ae6788d711afb99"
       ],
       "layout": "IPY_MODEL_a00d81a61cc64ab49eb8ce26bad3f19a"
      }
     },
     "ced859a3751f4ad48d0ace836dff9446": {
      "model_module": "jupyter-leaflet",
      "model_module_version": "^0.19",
      "model_name": "LeafletTileLayerModel",
      "state": {
       "_model_module_version": "^0.19",
       "_view_module_version": "^0.19",
       "attribution": "&copy; <a href=\"https://www.openstreetmap.org/copyright\">OpenStreetMap</a> contributors",
       "base": true,
       "max_zoom": 19,
       "min_zoom": 1,
       "name": "OpenStreetMap.Mapnik",
       "options": [
        "attribution",
        "bounds",
        "detect_retina",
        "max_native_zoom",
        "max_zoom",
        "min_native_zoom",
        "min_zoom",
        "no_wrap",
        "tile_size",
        "tms",
        "zoom_offset"
       ],
       "url": "https://tile.openstreetmap.org/{z}/{x}/{y}.png"
      }
     },
     "d72e122e2a934840816ac526f137a6f7": {
      "model_module": "anywidget",
      "model_module_version": "~0.9.*",
      "model_name": "AnyModel",
      "state": {
       "_anywidget_id": "ipywui.widgets.custom.message.MessageWidget",
       "_css": ".wui-message-root {\n    display: flex;\n    position: absolute;\n    left: 0;\n    right: 0;\n    top: 0;\n}\n\n.wui-message-container {\n    align-items: center;\n    display: flex;\n    flex-direction: column-reverse;\n    justify-content: center;\n    min-height: 100%;\n    outline: none;\n    width: 100%;\n\n    -webkit-tap-highlight-color: rgba(0,0,0,0);\n    bottom: 0;\n    left: 0;\n    right: 0;\n    top: 0;\n}\n\n.wui-message--success {\n    --wui-message-bg-color: #f0f9eb;\n    --wui-message-border-color: #e1f3d8;\n    --wui-message-text-color: #67c23a;\n}\n.wui-message--warning {\n    --wui-message-bg-color: #fdf6ec;\n    --wui-message-border-color: #faecd8;\n    --wui-message-text-color: #e6a23c;\n}\n.wui-message--info {\n    --wui-message-bg-color: #f4f4f5;\n    --wui-message-border-color: #e9e9eb;\n    --wui-message-text-color: #909399;\n}\n.wui-message--error {\n    --wui-message-bg-color: #fef0f0;\n    --wui-message-border-color: #fde2e2;\n    --wui-message-text-color: #f56c6c;\n}\n\n@keyframes msg-open {\n    0% {\n        opacity: 0;\n        -webkit-transform: translateY(-120%);\n        transform: translateY(-120%)\n    }\n    to {\n        -webkit-transform: translateY(0);\n        transform: translateY(0)\n    }\n}\n\n@keyframes msg-close {\n    0% {\n        opacity: 1;\n        -webkit-transform: scale(1);\n        transform: scale(1)\n    }\n    to {\n        opacity: 0;\n        -webkit-transform: scale(.9);\n        transform: scale(.9)\n    }\n}\n.wui-message[data-state=entered],.wui-message[data-state=entering] {\n    -webkit-animation: msg-open .24s cubic-bezier(.175,.885,.32,1.175) both;\n    animation: msg-open .24s cubic-bezier(.175,.885,.32,1.175) both\n}\n\n.wui-message[data-state=exiting] {\n    -webkit-animation: msg-close .12s cubic-bezier(.4,0,1,1) both;\n    animation: msg-close .12s cubic-bezier(.4,0,1,1) both\n}\n\n.wui-message {\n    width: -webkit-fit-content;\n    width: -moz-fit-content;\n    width: fit-content;\n    z-index: 2004;\n    max-width: calc(100% - 32px);\n    margin-top: 8px;\n    box-sizing: border-box;\n    /*border-radius: var(--wui-border-radius-base);*/\n    /*border-width: var(--wui-border-width);*/\n    /*border-style: var(--wui-border-style);*/\n    border-color: var(--wui-message-border-color);\n    /*left: 50%;*/\n    /*top: 20px;*/\n    /*transform: translateX(-50%);*/\n    background-color: var(--wui-message-bg-color);\n    /*transition: opacity var(--wui-transition-duration),transform .4s,top .4s;*/\n    /*padding: var(--wui-message-padding);*/\n    display: flex;\n    align-items: center;\n}\n\n/*.wui-message--success */\n.wui-message__content {\n    color: var(--wui-message-text-color);\n    font-size: 14px;\n    line-height: 18px;\n    margin: 10px 14px 10px 14px;\n    overflow-wrap: break-word;\n}\n\n.wui-message__closeBtn {\n    /*cursor: pointer;*/\n    font-style: normal;\n    /*color: gray;*/\n    padding-right: 14px;\n    /*font-size: 13px;*/\n    user-select: none;\n\n    background: transparent;\n    border: none;\n    color: gray;\n    cursor: pointer;\n    font-size: 13px;\n    font-weight: 400;\n    line-height: 1;\n    outline: none;\n    /*padding: 4px;*/\n    text-align: center;\n    transition: opacity .3s;\n    /*width: 100%;*/\n}",
       "_esm": "function closeMsg(msgDom) {\n  if (!msgDom) {\n    return;\n  }\n  msgDom.setAttribute('data-state', 'exiting');\n  msgDom.remove();\n}\n\nfunction createMsg(options) {\n  const {message, msg_id, type = 'info', show_close = false} = options;\n  const msgDom = document.createElement('div');\n  msgDom.className += ` wui-message--${type} wui-message`;\n  msgDom.setAttribute('data-state', 'entered');\n  msgDom.setAttribute('id', msg_id);\n  const msgContent = document.createElement('p');\n  msgContent.className += ` wui-message--${type} wui-message__content`;\n  msgContent.innerText = message;\n  msgDom.appendChild(msgContent);\n  if (show_close) {\n    const closeBtn = document.createElement('i');\n    closeBtn.className += 'wui-message__closeBtn';\n    closeBtn.innerText = 'x';\n    closeBtn.addEventListener('click', (ev) => {\n      closeMsg(msgDom);\n    })\n    msgDom.appendChild(closeBtn);\n  }\n  return msgDom;\n}\n\nexport async function render(view) {\n  let model = view.model;\n  const msgRoot = view.el;\n  msgRoot.className += ' wui-message-root'\n\n  const msgContainer = document.createElement('div');\n  msgContainer.className += ' wui-message-container';\n  msgRoot.appendChild(msgContainer)\n\n  model.on(\"change:message_options\", () => {\n    const options = model.get(\"message_options\");\n    const msg = createMsg(options);\n    msgContainer.appendChild(msg);\n    const {duration = 3000} = options;\n    if (duration > 0) {\n      setTimeout(() => {\n        closeMsg(msg)\n      }, duration);\n    }\n  })\n\n  model.on(\"change:close_msg_id\", () => {\n    const msg_id = model.get(\"close_msg_id\");\n    const msgDom = document.getElementById(msg_id);\n    closeMsg(msgDom);\n  })\n}\n",
       "_model_module": "anywidget",
       "_model_module_version": "~0.9.*",
       "_model_name": "AnyModel",
       "_view_module": "anywidget",
       "_view_module_version": "~0.9.*",
       "_view_name": "AnyView",
       "close_msg_id": "",
       "layout": "IPY_MODEL_a2db6abe309f4212a1c9633b82c2c97d",
       "message_options": {
        "duration": 3000,
        "message": "",
        "show_close": false,
        "type": "info"
       }
      }
     },
     "d8fc9f94d5474c2eb82ab637a5e8a3dd": {
      "model_module": "@jupyter-widgets/base",
      "model_module_version": "2.0.0",
      "model_name": "LayoutModel",
      "state": {}
     },
     "d9bede5b0faf4149929d5c4954ac3890": {
      "model_module": "@jupyter-widgets/controls",
      "model_module_version": "2.0.0",
      "model_name": "VBoxModel",
      "state": {
       "children": [
        "IPY_MODEL_4dccb6c5aaae4ecf93197c25561beb4b"
       ],
       "layout": "IPY_MODEL_20e23ddb427d448a8dabb5e4a879eba2"
      }
     },
     "db9fe7982ee84ca096cf480f7e728eef": {
      "model_module": "@jupyter-widgets/base",
      "model_module_version": "2.0.0",
      "model_name": "LayoutModel",
      "state": {}
     },
     "df8536caf75049acb056e931fd859696": {
      "model_module": "@jupyter-widgets/controls",
      "model_module_version": "2.0.0",
      "model_name": "VBoxModel",
      "state": {
       "children": [
        "IPY_MODEL_a14a4954c9624bfc8ec7c325b942087e"
       ],
       "layout": "IPY_MODEL_833e5259f4bd41678cdc46ec3bc981d9"
      }
     },
     "e414a5edc1d7404384c895d395b347d4": {
      "model_module": "@jupyter-widgets/controls",
      "model_module_version": "2.0.0",
      "model_name": "ButtonStyleModel",
      "state": {
       "font_family": null,
       "font_size": null,
       "font_style": null,
       "font_variant": null,
       "font_weight": null,
       "text_color": null,
       "text_decoration": null
      }
     },
     "ec2921abb8044a2da79ac76c50da7a9f": {
      "model_module": "@jupyter-widgets/base",
      "model_module_version": "2.0.0",
      "model_name": "LayoutModel",
      "state": {}
     },
     "f1476faea81d4df09dcdd963eb47560c": {
      "model_module": "jupyter-leaflet",
      "model_module_version": "^0.19",
      "model_name": "LeafletTileLayerModel",
      "state": {
       "_model_module_version": "^0.19",
       "_view_module_version": "^0.19",
       "attribution": "&copy; <a href=\"https://www.openstreetmap.org/copyright\">OpenStreetMap</a> contributors",
       "base": true,
       "max_zoom": 19,
       "min_zoom": 1,
       "name": "OpenStreetMap.Mapnik",
       "options": [
        "attribution",
        "bounds",
        "detect_retina",
        "max_native_zoom",
        "max_zoom",
        "min_native_zoom",
        "min_zoom",
        "no_wrap",
        "tile_size",
        "tms",
        "zoom_offset"
       ],
       "url": "https://tile.openstreetmap.org/{z}/{x}/{y}.png"
      }
     },
     "f252cda385ab4a1e811d8fa8e200ccbd": {
      "model_module": "@jupyter-widgets/controls",
      "model_module_version": "2.0.0",
      "model_name": "HTMLMathStyleModel",
      "state": {
       "description_width": "",
       "font_size": null,
       "text_color": null
      }
     },
     "f3baba8c0eee4ae1b937b4853b38846a": {
      "model_module": "@jupyter-widgets/base",
      "model_module_version": "2.0.0",
      "model_name": "LayoutModel",
      "state": {}
     },
     "f5ee94397a8d471da5bebb7b7c42f98f": {
      "model_module": "jupyter-leaflet",
      "model_module_version": "^0.19",
      "model_name": "LeafletMapStyleModel",
      "state": {
       "_model_module_version": "^0.19",
       "cursor": "move"
      }
     },
     "f772af467dbb47d58e8f24b7a76ef0c2": {
      "model_module": "jupyter-leaflet",
      "model_module_version": "^0.19",
      "model_name": "LeafletMarkerModel",
      "state": {
       "_model_module_version": "^0.19",
       "_view_module_version": "^0.19",
       "location": [
        52,
        2
       ],
       "options": [
        "alt",
        "draggable",
        "keyboard",
        "rise_offset",
        "rise_on_hover",
        "rotation_angle",
        "rotation_origin",
        "title",
        "z_index_offset"
       ]
      }
     },
     "f7d9eb52ce0349e2b2b58d070b2ea50a": {
      "model_module": "@jupyter-widgets/base",
      "model_module_version": "2.0.0",
      "model_name": "LayoutModel",
      "state": {}
     },
     "fb805d0cd32c4807a38ca58772fa261b": {
      "model_module": "jupyter-leaflet",
      "model_module_version": "^0.19",
      "model_name": "LeafletMapStyleModel",
      "state": {
       "_model_module_version": "^0.19"
      }
     }
    },
    "version_major": 2,
    "version_minor": 0
   }
  }
 },
 "nbformat": 4,
 "nbformat_minor": 5
}
