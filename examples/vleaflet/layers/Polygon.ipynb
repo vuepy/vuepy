{
 "cells": [
  {
   "cell_type": "markdown",
   "id": "a1e2fa29-7566-4426-be1e-a750658d83a5",
   "metadata": {},
   "source": [
    "# Polygon\n"
   ]
  },
  {
   "cell_type": "markdown",
   "id": "7cdc5e8c-2aa8-41d1-9461-3e451f6ef6ea",
   "metadata": {},
   "source": [
    "## 基础用法\n"
   ]
  },
  {
   "cell_type": "code",
   "execution_count": 1,
   "id": "f5928b17-e8c8-47b0-9774-a8bb1f7e6af3",
   "metadata": {},
   "outputs": [],
   "source": [
    "import os\n",
    "import pathlib\n",
    "from vuepy.utils import magic\n",
    "from vleaflet import leaflet\n",
    "%load_ext vuepy"
   ]
  },
  {
   "cell_type": "code",
   "execution_count": 2,
   "id": "7982482f-985d-44b5-89d6-57b3bb2c3427",
   "metadata": {},
   "outputs": [
    {
     "name": "stdout",
     "output_type": "stream",
     "text": [
      "{\"vue\": \"<template>\\n  <vl-map :center=\\\"[37, -109]\\\" :zoom=5>\\n    <template #layers>\\n      <vl-polygon\\n        :locations=\\\"[(37, -100), (43, -100), (43, -90)]\\\"\\n        :color='color.value',\\n        :fill='True'\\n        name='polygon'/>\\n      <vl-polygon\\n        :locations=\\\"[(30, -110), (35, -110), (35, -122)]\\\"\\n        :color='color.value',\\n        :fill='True'\\n        :transform=\\\"True\\\"\\n        name='editable polygon'/>\\n      <vl-polygon\\n        :locations=\\\"paths\\\"\\n        color='red',\\n        :fill='False'\\n        name='polygon with holes'/>\\n    </template>\\n    <template #controls>\\n      <vl-layers-control position='topleft' :collapsed='False'/>\\n    </template>\\n  </vl-map>\\n</template>\\n<script lang='py'>\\nfrom vuepy import ref\\n\\ncolor = ref('green')\\npaths = [\\n    [(37, -109.05), (41, -109.03), (41, -102.05), (37, -102.04)],\\n    [(37.29, -108.58), (40.71, -108.58), (40.71, -102.50), (37.29, -102.50)],\\n]\\n\\ndef on_click():\\n    color.value = 'red'\\n</script>\\n\", \"setup\": \"\"}\n"
     ]
    },
    {
     "data": {
      "application/vnd.jupyter.widget-view+json": {
       "model_id": "81b41cf49dcd4194a60737564fefb356",
       "version_major": 2,
       "version_minor": 0
      },
      "text/plain": [
       "Document(children=(Dom(children=(MessageWidget(message_options={'message': '', 'type': 'info', 'show_close': F…"
      ]
     },
     "execution_count": 2,
     "metadata": {},
     "output_type": "execute_result"
    }
   ],
   "source": [
    "%%vuepy_run --plugins leaflet --show-code\n",
    "<template>\n",
    "  <vl-map :center=\"[37, -109]\" :zoom=5>\n",
    "    <template #layers>\n",
    "      <vl-polygon\n",
    "        :locations=\"[(37, -100), (43, -100), (43, -90)]\"\n",
    "        :color='color.value',\n",
    "        :fill='True'\n",
    "        name='polygon'/>\n",
    "      <vl-polygon\n",
    "        :locations=\"[(30, -110), (35, -110), (35, -122)]\"\n",
    "        :color='color.value',\n",
    "        :fill='True'\n",
    "        :transform=\"True\"\n",
    "        name='editable polygon'/>\n",
    "      <vl-polygon\n",
    "        :locations=\"paths\"\n",
    "        color='red',\n",
    "        :fill='False'\n",
    "        name='polygon with holes'/>\n",
    "    </template>\n",
    "    <template #controls>\n",
    "      <vl-layers-control position='topleft' :collapsed='False'/>\n",
    "    </template>\n",
    "  </vl-map>\n",
    "</template>\n",
    "<script lang='py'>\n",
    "from vuepy import ref\n",
    "\n",
    "color = ref('green')\n",
    "paths = [\n",
    "    [(37, -109.05), (41, -109.03), (41, -102.05), (37, -102.04)],\n",
    "    [(37.29, -108.58), (40.71, -108.58), (40.71, -102.50), (37.29, -102.50)],\n",
    "]\n",
    "\n",
    "def on_click():\n",
    "    color.value = 'red'\n",
    "</script>"
   ]
  },
  {
   "cell_type": "markdown",
   "id": "8685d144-029f-4afa-8547-4f3d84529504",
   "metadata": {},
   "source": [
    "## API\n",
    "\n",
    "### 属性\n",
    "\n",
    "| 属性名 | 说明 | 类型 | 默认值 | 必填 | 验证规则 |\n",
    "|--------|------|------|--------|------|----------|\n",
    "| locations | 多边形顶点坐标数组 | Array<[number, number]> | - | 是 | 每个元素必须是[经度,纬度] |\n",
    "| name | 图层名称 | string | '' | 否 | - |\n",
    "| color | 边框颜色 | string | '#0000ff' | 否 | CSS颜色值 |\n",
    "| scaling | 是否可缩放 | boolean | true | 否 | - |\n",
    "| rotation | 是否可旋转 | boolean | true | 否 | - |\n",
    "| uniform_scaling | 是否等比例缩放 | boolean | true | 否 | - |\n",
    "| fill | 是否填充 | boolean | false | 否 | - |\n",
    "| fill_color | 填充颜色 | string | null | 否 | CSS颜色值 |\n",
    "| fill_opacity | 填充不透明度 | number | 0.2 | 否 | 0-1之间 |\n",
    "| fill_rule | 填充规则 | string | 'evenodd' | 否 | 'evenodd'或'nonzero' |\n",
    "| transform | 是否可变形 | boolean | false | 否 | 修正原文档False为false |\n",
    "| smooth_factor | 平滑强度 | number | 1.0 | 否 | - |\n",
    "| draggable | 是否可拖动 | boolean | false | 否 | - |\n",
    "\n",
    "### 事件\n",
    "\n",
    "| 事件名 | 说明 | 参数 |\n",
    "|--------|------|------|\n",
    "| - | - | - |\n",
    "\n",
    "### 插槽\n",
    "\n",
    "| 插槽名 | 说明 |\n",
    "|--------|------|\n",
    "| - | - |\n",
    "\n",
    "### 方法\n",
    "\n",
    "| 方法名 | 说明 | 参数 | 返回值 |\n",
    "|--------|------|------|--------|\n",
    "| - | - | - | - |"
   ]
  },
  {
   "cell_type": "code",
   "execution_count": null,
   "id": "db17c770-7085-4365-b5f0-bd4f66ebc948",
   "metadata": {},
   "outputs": [],
   "source": []
  }
 ],
 "metadata": {
  "kernelspec": {
   "display_name": "Python 3 (ipykernel)",
   "language": "python",
   "name": "python3"
  },
  "language_info": {
   "codemirror_mode": {
    "name": "ipython",
    "version": 3
   },
   "file_extension": ".py",
   "mimetype": "text/x-python",
   "name": "python",
   "nbconvert_exporter": "python",
   "pygments_lexer": "ipython3",
   "version": "3.10.12"
  },
  "widgets": {
   "application/vnd.jupyter.widget-state+json": {
    "state": {
     "134ca93f9872464db5778c4a84786150": {
      "model_module": "jupyter-leaflet",
      "model_module_version": "^0.19",
      "model_name": "LeafletPolygonModel",
      "state": {
       "_model_module_version": "^0.19",
       "_view_module_version": "^0.19",
       "color": "green",
       "draggable": false,
       "locations": [
        [
         30,
         -110
        ],
        [
         35,
         -110
        ],
        [
         35,
         -122
        ]
       ],
       "name": "editable polygon",
       "options": [
        "color",
        "dash_array",
        "draggable",
        "fill",
        "fill_color",
        "fill_opacity",
        "line_cap",
        "line_join",
        "no_clip",
        "opacity",
        "pointer_events",
        "smooth_factor",
        "stroke",
        "transform",
        "weight"
       ],
       "rotation": true,
       "scaling": true,
       "transform": true,
       "uniform_scaling": false
      }
     },
     "1f4c04eab2134a6d882b712bdfee9368": {
      "model_module": "jupyter-leaflet",
      "model_module_version": "^0.19",
      "model_name": "LeafletMapStyleModel",
      "state": {
       "_model_module_version": "^0.19"
      }
     },
     "21d331f08469484ebe571399336c9dc1": {
      "model_module": "@jupyter-widgets/base",
      "model_module_version": "2.0.0",
      "model_name": "LayoutModel",
      "state": {}
     },
     "34cc2d337ca74931872b3071f021e56f": {
      "model_module": "anywidget",
      "model_module_version": "~0.9.*",
      "model_name": "AnyModel",
      "state": {
       "_anywidget_id": "ipywui.widgets.custom.message.MessageWidget",
       "_css": ".wui-message-root {\n    display: flex;\n    position: absolute;\n    left: 0;\n    right: 0;\n    top: 0;\n}\n\n.wui-message-container {\n    align-items: center;\n    display: flex;\n    flex-direction: column-reverse;\n    justify-content: center;\n    min-height: 100%;\n    outline: none;\n    width: 100%;\n\n    -webkit-tap-highlight-color: rgba(0,0,0,0);\n    bottom: 0;\n    left: 0;\n    right: 0;\n    top: 0;\n}\n\n.wui-message--success {\n    --wui-message-bg-color: #f0f9eb;\n    --wui-message-border-color: #e1f3d8;\n    --wui-message-text-color: #67c23a;\n}\n.wui-message--warning {\n    --wui-message-bg-color: #fdf6ec;\n    --wui-message-border-color: #faecd8;\n    --wui-message-text-color: #e6a23c;\n}\n.wui-message--info {\n    --wui-message-bg-color: #f4f4f5;\n    --wui-message-border-color: #e9e9eb;\n    --wui-message-text-color: #909399;\n}\n.wui-message--error {\n    --wui-message-bg-color: #fef0f0;\n    --wui-message-border-color: #fde2e2;\n    --wui-message-text-color: #f56c6c;\n}\n\n@keyframes msg-open {\n    0% {\n        opacity: 0;\n        -webkit-transform: translateY(-120%);\n        transform: translateY(-120%)\n    }\n    to {\n        -webkit-transform: translateY(0);\n        transform: translateY(0)\n    }\n}\n\n@keyframes msg-close {\n    0% {\n        opacity: 1;\n        -webkit-transform: scale(1);\n        transform: scale(1)\n    }\n    to {\n        opacity: 0;\n        -webkit-transform: scale(.9);\n        transform: scale(.9)\n    }\n}\n.wui-message[data-state=entered],.wui-message[data-state=entering] {\n    -webkit-animation: msg-open .24s cubic-bezier(.175,.885,.32,1.175) both;\n    animation: msg-open .24s cubic-bezier(.175,.885,.32,1.175) both\n}\n\n.wui-message[data-state=exiting] {\n    -webkit-animation: msg-close .12s cubic-bezier(.4,0,1,1) both;\n    animation: msg-close .12s cubic-bezier(.4,0,1,1) both\n}\n\n.wui-message {\n    width: -webkit-fit-content;\n    width: -moz-fit-content;\n    width: fit-content;\n    z-index: 2004;\n    max-width: calc(100% - 32px);\n    margin-top: 8px;\n    box-sizing: border-box;\n    /*border-radius: var(--wui-border-radius-base);*/\n    /*border-width: var(--wui-border-width);*/\n    /*border-style: var(--wui-border-style);*/\n    border-color: var(--wui-message-border-color);\n    /*left: 50%;*/\n    /*top: 20px;*/\n    /*transform: translateX(-50%);*/\n    background-color: var(--wui-message-bg-color);\n    /*transition: opacity var(--wui-transition-duration),transform .4s,top .4s;*/\n    /*padding: var(--wui-message-padding);*/\n    display: flex;\n    align-items: center;\n}\n\n/*.wui-message--success */\n.wui-message__content {\n    color: var(--wui-message-text-color);\n    font-size: 14px;\n    line-height: 18px;\n    margin: 10px 14px 10px 14px;\n    overflow-wrap: break-word;\n}\n\n.wui-message__closeBtn {\n    /*cursor: pointer;*/\n    font-style: normal;\n    /*color: gray;*/\n    padding-right: 14px;\n    /*font-size: 13px;*/\n    user-select: none;\n\n    background: transparent;\n    border: none;\n    color: gray;\n    cursor: pointer;\n    font-size: 13px;\n    font-weight: 400;\n    line-height: 1;\n    outline: none;\n    /*padding: 4px;*/\n    text-align: center;\n    transition: opacity .3s;\n    /*width: 100%;*/\n}",
       "_esm": "function closeMsg(msgDom) {\n  if (!msgDom) {\n    return;\n  }\n  msgDom.setAttribute('data-state', 'exiting');\n  msgDom.remove();\n}\n\nfunction createMsg(options) {\n  const {message, msg_id, type = 'info', show_close = false} = options;\n  const msgDom = document.createElement('div');\n  msgDom.className += ` wui-message--${type} wui-message`;\n  msgDom.setAttribute('data-state', 'entered');\n  msgDom.setAttribute('id', msg_id);\n  const msgContent = document.createElement('p');\n  msgContent.className += ` wui-message--${type} wui-message__content`;\n  msgContent.innerText = message;\n  msgDom.appendChild(msgContent);\n  if (show_close) {\n    const closeBtn = document.createElement('i');\n    closeBtn.className += 'wui-message__closeBtn';\n    closeBtn.innerText = 'x';\n    closeBtn.addEventListener('click', (ev) => {\n      closeMsg(msgDom);\n    })\n    msgDom.appendChild(closeBtn);\n  }\n  return msgDom;\n}\n\nexport async function render(view) {\n  let model = view.model;\n  const msgRoot = view.el;\n  msgRoot.className += ' wui-message-root'\n\n  const msgContainer = document.createElement('div');\n  msgContainer.className += ' wui-message-container';\n  msgRoot.appendChild(msgContainer)\n\n  model.on(\"change:message_options\", () => {\n    const options = model.get(\"message_options\");\n    const msg = createMsg(options);\n    msgContainer.appendChild(msg);\n    const {duration = 3000} = options;\n    if (duration > 0) {\n      setTimeout(() => {\n        closeMsg(msg)\n      }, duration);\n    }\n  })\n\n  model.on(\"change:close_msg_id\", () => {\n    const msg_id = model.get(\"close_msg_id\");\n    const msgDom = document.getElementById(msg_id);\n    closeMsg(msgDom);\n  })\n}\n",
       "_model_module": "anywidget",
       "_model_module_version": "~0.9.*",
       "_model_name": "AnyModel",
       "_view_module": "anywidget",
       "_view_module_version": "~0.9.*",
       "_view_name": "AnyView",
       "close_msg_id": "",
       "layout": "IPY_MODEL_79695ed132a94fe08b8f3b4dd935ee10",
       "message_options": {
        "duration": 3000,
        "message": "",
        "show_close": false,
        "type": "info"
       }
      }
     },
     "46aef340312847638516fd4087086b1d": {
      "model_module": "@jupyter-widgets/base",
      "model_module_version": "2.0.0",
      "model_name": "LayoutModel",
      "state": {}
     },
     "5018f579a0934cbf910f9b78cdb77b0a": {
      "model_module": "@jupyter-widgets/base",
      "model_module_version": "2.0.0",
      "model_name": "LayoutModel",
      "state": {}
     },
     "66c3124c38e0437b9a8213118c6ca19f": {
      "model_module": "@jupyter-widgets/controls",
      "model_module_version": "2.0.0",
      "model_name": "VBoxModel",
      "state": {
       "children": [
        "IPY_MODEL_e5b7adff26ec4ac5ba3dabf31fd36077",
        "IPY_MODEL_8e689e25813542d8bdde9ee412eafe37"
       ],
       "layout": "IPY_MODEL_46aef340312847638516fd4087086b1d"
      }
     },
     "79695ed132a94fe08b8f3b4dd935ee10": {
      "model_module": "@jupyter-widgets/base",
      "model_module_version": "2.0.0",
      "model_name": "LayoutModel",
      "state": {}
     },
     "81b41cf49dcd4194a60737564fefb356": {
      "model_module": "@jupyter-widgets/controls",
      "model_module_version": "2.0.0",
      "model_name": "VBoxModel",
      "state": {
       "children": [
        "IPY_MODEL_66c3124c38e0437b9a8213118c6ca19f"
       ],
       "layout": "IPY_MODEL_9800ad72c2054795b4c4604eb0fab882"
      }
     },
     "884f3e8b43c64baf85b7c305b37d8fbb": {
      "model_module": "jupyter-leaflet",
      "model_module_version": "^0.19",
      "model_name": "LeafletPolygonModel",
      "state": {
       "_model_module_version": "^0.19",
       "_view_module_version": "^0.19",
       "color": "red",
       "draggable": false,
       "fill": false,
       "locations": [
        [
         [
          37,
          -109.05
         ],
         [
          41,
          -109.03
         ],
         [
          41,
          -102.05
         ],
         [
          37,
          -102.04
         ]
        ],
        [
         [
          37.29,
          -108.58
         ],
         [
          40.71,
          -108.58
         ],
         [
          40.71,
          -102.5
         ],
         [
          37.29,
          -102.5
         ]
        ]
       ],
       "name": "polygon with holes",
       "options": [
        "color",
        "dash_array",
        "draggable",
        "fill",
        "fill_color",
        "fill_opacity",
        "line_cap",
        "line_join",
        "no_clip",
        "opacity",
        "pointer_events",
        "smooth_factor",
        "stroke",
        "transform",
        "weight"
       ],
       "rotation": true,
       "scaling": true,
       "transform": false,
       "uniform_scaling": false
      }
     },
     "8e689e25813542d8bdde9ee412eafe37": {
      "model_module": "@jupyter-widgets/controls",
      "model_module_version": "2.0.0",
      "model_name": "VBoxModel",
      "state": {
       "children": [
        "IPY_MODEL_a8e1d576bbde4c6d8aeb5d45d1817f99"
       ],
       "layout": "IPY_MODEL_f0a98bbf252c4d6999e9dc3efc547d31"
      }
     },
     "951e86f0a03f4fef9357b52953505b85": {
      "model_module": "@jupyter-widgets/controls",
      "model_module_version": "2.0.0",
      "model_name": "VBoxModel",
      "state": {
       "children": [
        "IPY_MODEL_f29f88e96041457e975a3356571d753c"
       ],
       "layout": "IPY_MODEL_ed0e62945fd1442e96f09fc550842caa"
      }
     },
     "9800ad72c2054795b4c4604eb0fab882": {
      "model_module": "@jupyter-widgets/base",
      "model_module_version": "2.0.0",
      "model_name": "LayoutModel",
      "state": {}
     },
     "a3b914df1c2a4a65aeb39a67b659a01e": {
      "model_module": "@jupyter-widgets/output",
      "model_module_version": "1.0.0",
      "model_name": "OutputModel",
      "state": {
       "layout": "IPY_MODEL_d6e63ae716bf449e9c71572ee6383e62",
       "outputs": [
        {
         "name": "stdout",
         "output_type": "stream",
         "text": "2025-04-12 01:06:10,655 [INFO] api_create_app.py:render:126 - App render end.\n"
        },
        {
         "name": "stdout",
         "output_type": "stream",
         "text": "2025-04-12 01:06:10,619 [INFO] sfc_codegen.py:render:165 - 🔥 Rerender SFC<__tmp_for_str.vue> at 4395007088\n"
        },
        {
         "name": "stdout",
         "output_type": "stream",
         "text": "2025-04-12 01:06:10,619 [INFO] api_create_app.py:render:116 - App render start.\n"
        }
       ]
      }
     },
     "a79fe0abeb3a4838902769f84d47e7db": {
      "model_module": "jupyter-leaflet",
      "model_module_version": "^0.19",
      "model_name": "LeafletMapStyleModel",
      "state": {
       "_model_module_version": "^0.19",
       "cursor": "move"
      }
     },
     "a8e1d576bbde4c6d8aeb5d45d1817f99": {
      "model_module": "jupyter-leaflet",
      "model_module_version": "^0.19",
      "model_name": "LeafletMapModel",
      "state": {
       "_model_module_version": "^0.19",
       "_view_module_version": "^0.19",
       "bottom": 3389,
       "center": [
        37,
        -109
       ],
       "controls": [
        "IPY_MODEL_d13158f698d2434cbfae6796e9d49151",
        "IPY_MODEL_b0dd5ad22adb445381009cb879b71c1c",
        "IPY_MODEL_f29f88e96041457e975a3356571d753c"
       ],
       "default_style": "IPY_MODEL_c9e9319b93d84523acf0f98826f32996",
       "dragging_style": "IPY_MODEL_a79fe0abeb3a4838902769f84d47e7db",
       "east": -80.2880859375,
       "fullscreen": false,
       "interpolation": "bilinear",
       "layers": [
        "IPY_MODEL_e30867eab56d496bb4077d8ff5d03c31",
        "IPY_MODEL_de3e126c0b074fb78403ee34e346076d",
        "IPY_MODEL_134ca93f9872464db5778c4a84786150",
        "IPY_MODEL_884f3e8b43c64baf85b7c305b37d8fbb"
       ],
       "layout": "IPY_MODEL_5018f579a0934cbf910f9b78cdb77b0a",
       "left": 963,
       "modisdate": "2025-04-11",
       "north": 43.67581809328341,
       "options": [
        "bounce_at_zoom_limits",
        "box_zoom",
        "center",
        "close_popup_on_click",
        "double_click_zoom",
        "dragging",
        "fullscreen",
        "inertia",
        "inertia_deceleration",
        "inertia_max_speed",
        "interpolation",
        "keyboard",
        "keyboard_pan_offset",
        "keyboard_zoom_offset",
        "max_zoom",
        "min_zoom",
        "prefer_canvas",
        "scroll_wheel_zoom",
        "tap",
        "tap_tolerance",
        "touch_zoom",
        "world_copy_jump",
        "zoom",
        "zoom_animation_threshold",
        "zoom_delta",
        "zoom_snap"
       ],
       "prefer_canvas": false,
       "right": 2269,
       "south": 29.649868677972304,
       "style": "IPY_MODEL_1f4c04eab2134a6d882b712bdfee9368",
       "top": 2989,
       "west": -137.68066406250003,
       "window_url": "http://localhost:2071/lab/tree/nb_llm/pyvue/examples/vleaflet/layers/Polygon.ipynb",
       "zoom": 5
      }
     },
     "b0dd5ad22adb445381009cb879b71c1c": {
      "model_module": "jupyter-leaflet",
      "model_module_version": "^0.19",
      "model_name": "LeafletAttributionControlModel",
      "state": {
       "_model_module_version": "^0.19",
       "_view_module_version": "^0.19",
       "options": [
        "position",
        "prefix"
       ],
       "position": "bottomright",
       "prefix": "ipyleaflet"
      }
     },
     "c9e9319b93d84523acf0f98826f32996": {
      "model_module": "jupyter-leaflet",
      "model_module_version": "^0.19",
      "model_name": "LeafletMapStyleModel",
      "state": {
       "_model_module_version": "^0.19"
      }
     },
     "ccf752cdff554aadaf5aa1ca7b5b352a": {
      "model_module": "@jupyter-widgets/controls",
      "model_module_version": "2.0.0",
      "model_name": "VBoxModel",
      "state": {
       "children": [
        "IPY_MODEL_de3e126c0b074fb78403ee34e346076d",
        "IPY_MODEL_134ca93f9872464db5778c4a84786150",
        "IPY_MODEL_884f3e8b43c64baf85b7c305b37d8fbb"
       ],
       "layout": "IPY_MODEL_21d331f08469484ebe571399336c9dc1"
      }
     },
     "d13158f698d2434cbfae6796e9d49151": {
      "model_module": "jupyter-leaflet",
      "model_module_version": "^0.19",
      "model_name": "LeafletZoomControlModel",
      "state": {
       "_model_module_version": "^0.19",
       "_view_module_version": "^0.19",
       "options": [
        "position",
        "zoom_in_text",
        "zoom_in_title",
        "zoom_out_text",
        "zoom_out_title"
       ]
      }
     },
     "d6e63ae716bf449e9c71572ee6383e62": {
      "model_module": "@jupyter-widgets/base",
      "model_module_version": "2.0.0",
      "model_name": "LayoutModel",
      "state": {}
     },
     "de3e126c0b074fb78403ee34e346076d": {
      "model_module": "jupyter-leaflet",
      "model_module_version": "^0.19",
      "model_name": "LeafletPolygonModel",
      "state": {
       "_model_module_version": "^0.19",
       "_view_module_version": "^0.19",
       "color": "green",
       "draggable": false,
       "locations": [
        [
         37,
         -100
        ],
        [
         43,
         -100
        ],
        [
         43,
         -90
        ]
       ],
       "name": "polygon",
       "options": [
        "color",
        "dash_array",
        "draggable",
        "fill",
        "fill_color",
        "fill_opacity",
        "line_cap",
        "line_join",
        "no_clip",
        "opacity",
        "pointer_events",
        "smooth_factor",
        "stroke",
        "transform",
        "weight"
       ],
       "rotation": true,
       "scaling": true,
       "transform": false,
       "uniform_scaling": false
      }
     },
     "e30867eab56d496bb4077d8ff5d03c31": {
      "model_module": "jupyter-leaflet",
      "model_module_version": "^0.19",
      "model_name": "LeafletTileLayerModel",
      "state": {
       "_model_module_version": "^0.19",
       "_view_module_version": "^0.19",
       "attribution": "&copy; <a href=\"https://www.openstreetmap.org/copyright\">OpenStreetMap</a> contributors",
       "base": true,
       "max_zoom": 19,
       "min_zoom": 1,
       "name": "OpenStreetMap.Mapnik",
       "options": [
        "attribution",
        "bounds",
        "detect_retina",
        "max_native_zoom",
        "max_zoom",
        "min_native_zoom",
        "min_zoom",
        "no_wrap",
        "tile_size",
        "tms",
        "zoom_offset"
       ],
       "url": "https://tile.openstreetmap.org/{z}/{x}/{y}.png"
      }
     },
     "e5b7adff26ec4ac5ba3dabf31fd36077": {
      "model_module": "anywidget",
      "model_module_version": "~0.9.*",
      "model_name": "AnyModel",
      "state": {
       "_anywidget_id": "ipywui.widgets.custom.message.MessageWidget",
       "_css": ".wui-message-root {\n    display: flex;\n    position: absolute;\n    left: 0;\n    right: 0;\n    top: 0;\n}\n\n.wui-message-container {\n    align-items: center;\n    display: flex;\n    flex-direction: column-reverse;\n    justify-content: center;\n    min-height: 100%;\n    outline: none;\n    width: 100%;\n\n    -webkit-tap-highlight-color: rgba(0,0,0,0);\n    bottom: 0;\n    left: 0;\n    right: 0;\n    top: 0;\n}\n\n.wui-message--success {\n    --wui-message-bg-color: #f0f9eb;\n    --wui-message-border-color: #e1f3d8;\n    --wui-message-text-color: #67c23a;\n}\n.wui-message--warning {\n    --wui-message-bg-color: #fdf6ec;\n    --wui-message-border-color: #faecd8;\n    --wui-message-text-color: #e6a23c;\n}\n.wui-message--info {\n    --wui-message-bg-color: #f4f4f5;\n    --wui-message-border-color: #e9e9eb;\n    --wui-message-text-color: #909399;\n}\n.wui-message--error {\n    --wui-message-bg-color: #fef0f0;\n    --wui-message-border-color: #fde2e2;\n    --wui-message-text-color: #f56c6c;\n}\n\n@keyframes msg-open {\n    0% {\n        opacity: 0;\n        -webkit-transform: translateY(-120%);\n        transform: translateY(-120%)\n    }\n    to {\n        -webkit-transform: translateY(0);\n        transform: translateY(0)\n    }\n}\n\n@keyframes msg-close {\n    0% {\n        opacity: 1;\n        -webkit-transform: scale(1);\n        transform: scale(1)\n    }\n    to {\n        opacity: 0;\n        -webkit-transform: scale(.9);\n        transform: scale(.9)\n    }\n}\n.wui-message[data-state=entered],.wui-message[data-state=entering] {\n    -webkit-animation: msg-open .24s cubic-bezier(.175,.885,.32,1.175) both;\n    animation: msg-open .24s cubic-bezier(.175,.885,.32,1.175) both\n}\n\n.wui-message[data-state=exiting] {\n    -webkit-animation: msg-close .12s cubic-bezier(.4,0,1,1) both;\n    animation: msg-close .12s cubic-bezier(.4,0,1,1) both\n}\n\n.wui-message {\n    width: -webkit-fit-content;\n    width: -moz-fit-content;\n    width: fit-content;\n    z-index: 2004;\n    max-width: calc(100% - 32px);\n    margin-top: 8px;\n    box-sizing: border-box;\n    /*border-radius: var(--wui-border-radius-base);*/\n    /*border-width: var(--wui-border-width);*/\n    /*border-style: var(--wui-border-style);*/\n    border-color: var(--wui-message-border-color);\n    /*left: 50%;*/\n    /*top: 20px;*/\n    /*transform: translateX(-50%);*/\n    background-color: var(--wui-message-bg-color);\n    /*transition: opacity var(--wui-transition-duration),transform .4s,top .4s;*/\n    /*padding: var(--wui-message-padding);*/\n    display: flex;\n    align-items: center;\n}\n\n/*.wui-message--success */\n.wui-message__content {\n    color: var(--wui-message-text-color);\n    font-size: 14px;\n    line-height: 18px;\n    margin: 10px 14px 10px 14px;\n    overflow-wrap: break-word;\n}\n\n.wui-message__closeBtn {\n    /*cursor: pointer;*/\n    font-style: normal;\n    /*color: gray;*/\n    padding-right: 14px;\n    /*font-size: 13px;*/\n    user-select: none;\n\n    background: transparent;\n    border: none;\n    color: gray;\n    cursor: pointer;\n    font-size: 13px;\n    font-weight: 400;\n    line-height: 1;\n    outline: none;\n    /*padding: 4px;*/\n    text-align: center;\n    transition: opacity .3s;\n    /*width: 100%;*/\n}",
       "_esm": "function closeMsg(msgDom) {\n  if (!msgDom) {\n    return;\n  }\n  msgDom.setAttribute('data-state', 'exiting');\n  msgDom.remove();\n}\n\nfunction createMsg(options) {\n  const {message, msg_id, type = 'info', show_close = false} = options;\n  const msgDom = document.createElement('div');\n  msgDom.className += ` wui-message--${type} wui-message`;\n  msgDom.setAttribute('data-state', 'entered');\n  msgDom.setAttribute('id', msg_id);\n  const msgContent = document.createElement('p');\n  msgContent.className += ` wui-message--${type} wui-message__content`;\n  msgContent.innerText = message;\n  msgDom.appendChild(msgContent);\n  if (show_close) {\n    const closeBtn = document.createElement('i');\n    closeBtn.className += 'wui-message__closeBtn';\n    closeBtn.innerText = 'x';\n    closeBtn.addEventListener('click', (ev) => {\n      closeMsg(msgDom);\n    })\n    msgDom.appendChild(closeBtn);\n  }\n  return msgDom;\n}\n\nexport async function render(view) {\n  let model = view.model;\n  const msgRoot = view.el;\n  msgRoot.className += ' wui-message-root'\n\n  const msgContainer = document.createElement('div');\n  msgContainer.className += ' wui-message-container';\n  msgRoot.appendChild(msgContainer)\n\n  model.on(\"change:message_options\", () => {\n    const options = model.get(\"message_options\");\n    const msg = createMsg(options);\n    msgContainer.appendChild(msg);\n    const {duration = 3000} = options;\n    if (duration > 0) {\n      setTimeout(() => {\n        closeMsg(msg)\n      }, duration);\n    }\n  })\n\n  model.on(\"change:close_msg_id\", () => {\n    const msg_id = model.get(\"close_msg_id\");\n    const msgDom = document.getElementById(msg_id);\n    closeMsg(msgDom);\n  })\n}\n",
       "_model_module": "anywidget",
       "_model_module_version": "~0.9.*",
       "_model_name": "AnyModel",
       "_view_module": "anywidget",
       "_view_module_version": "~0.9.*",
       "_view_name": "AnyView",
       "close_msg_id": "",
       "layout": "IPY_MODEL_f38b368d793e4fa186daa678647e5e79",
       "message_options": {
        "duration": 3000,
        "message": "",
        "show_close": false,
        "type": "info"
       }
      }
     },
     "ed0e62945fd1442e96f09fc550842caa": {
      "model_module": "@jupyter-widgets/base",
      "model_module_version": "2.0.0",
      "model_name": "LayoutModel",
      "state": {}
     },
     "f0a98bbf252c4d6999e9dc3efc547d31": {
      "model_module": "@jupyter-widgets/base",
      "model_module_version": "2.0.0",
      "model_name": "LayoutModel",
      "state": {}
     },
     "f29f88e96041457e975a3356571d753c": {
      "model_module": "jupyter-leaflet",
      "model_module_version": "^0.19",
      "model_name": "LeafletLayersControlModel",
      "state": {
       "_model_module_version": "^0.19",
       "_view_module_version": "^0.19",
       "collapsed": false,
       "options": [
        "collapsed",
        "position"
       ]
      }
     },
     "f38b368d793e4fa186daa678647e5e79": {
      "model_module": "@jupyter-widgets/base",
      "model_module_version": "2.0.0",
      "model_name": "LayoutModel",
      "state": {}
     }
    },
    "version_major": 2,
    "version_minor": 0
   }
  }
 },
 "nbformat": 4,
 "nbformat_minor": 5
}
