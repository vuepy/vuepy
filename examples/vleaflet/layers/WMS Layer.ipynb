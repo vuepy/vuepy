{
 "cells": [
  {
   "cell_type": "markdown",
   "id": "a1e2fa29-7566-4426-be1e-a750658d83a5",
   "metadata": {},
   "source": [
    "# WMS Layer\n"
   ]
  },
  {
   "cell_type": "markdown",
   "id": "7cdc5e8c-2aa8-41d1-9461-3e451f6ef6ea",
   "metadata": {},
   "source": [
    "## 基础用法\n"
   ]
  },
  {
   "cell_type": "code",
   "execution_count": 1,
   "id": "f5928b17-e8c8-47b0-9774-a8bb1f7e6af3",
   "metadata": {},
   "outputs": [],
   "source": [
    "import os\n",
    "import pathlib\n",
    "from vuepy.utils import magic\n",
    "from vleaflet import leaflet\n",
    "%load_ext vuepy"
   ]
  },
  {
   "cell_type": "code",
   "execution_count": 6,
   "id": "7982482f-985d-44b5-89d6-57b3bb2c3427",
   "metadata": {},
   "outputs": [
    {
     "name": "stdout",
     "output_type": "stream",
     "text": [
      "{\"vue\": \"<template>\\n  <vl-map :center=\\\"[38.491, -95.712]\\\" :zoom=4 :basemap=\\\"basemaps.CartoDB.Positron\\\">\\n    <template #layers>\\n      <vl-wms-layer :url=\\\"url1\\\" layers='nexrad-n0r-900913' :transparent='True'\\n                    format='image/png' name='World Street' @load='on_load'></vl-wms-layer>\\n    </template>\\n    <template #controls>\\n      <vl-layers-control position='topleft' :collapsed='False'></vl-layers-control>\\n    </template>\\n  </vl-map>\\n</template>\\n<script lang='py'>\\nfrom ipyleaflet import basemaps\\n\\nurl1 = \\\"http://mesonet.agron.iastate.edu/cgi-bin/wms/nexrad/n0r.cgi\\\"\\n\\ndef on_load(**kwargs):\\n    print(kwargs) #  {'event': 'load'}\\n</script>\\n\", \"setup\": \"\"}\n"
     ]
    },
    {
     "data": {
      "application/vnd.jupyter.widget-view+json": {
       "model_id": "14ca6532d52240158b753ad272c4a45b",
       "version_major": 2,
       "version_minor": 0
      },
      "text/plain": [
       "Document(children=(Dom(children=(MessageWidget(message_options={'message': '', 'type': 'info', 'show_close': F…"
      ]
     },
     "execution_count": 6,
     "metadata": {},
     "output_type": "execute_result"
    }
   ],
   "source": [
    "%%vuepy_run --plugins leaflet --show-code\n",
    "<template>\n",
    "  <vl-map :center=\"[38.491, -95.712]\" :zoom=4 :basemap=\"basemaps.CartoDB.Positron\">\n",
    "    <template #layers>\n",
    "      <vl-wms-layer \n",
    "        :url=\"url1\" \n",
    "        layers='nexrad-n0r-900913' \n",
    "        :transparent='True'\n",
    "        format='image/png'\n",
    "        name='World Street' @load='on_load'\n",
    "      ></vl-wms-layer>\n",
    "    </template>\n",
    "    <template #controls>\n",
    "      <vl-layers-control position='topleft' :collapsed='False'></vl-layers-control>\n",
    "    </template>\n",
    "  </vl-map>\n",
    "</template>\n",
    "<script lang='py'>\n",
    "from ipyleaflet import basemaps\n",
    "\n",
    "url1 = \"http://mesonet.agron.iastate.edu/cgi-bin/wms/nexrad/n0r.cgi\"\n",
    "\n",
    "def on_load(**kwargs):\n",
    "    print(kwargs) #  {'event': 'load'}\n",
    "</script>"
   ]
  },
  {
   "cell_type": "markdown",
   "id": "392aa25a-4073-4d2b-93f9-d89666b38369",
   "metadata": {},
   "source": [
    "## 禁用状态\n",
    "\n",
    "你可以使用 `disabled` 属性来定义是否被禁用。  \n",
    "使用 `disabled` 属性来控制是否为禁用状态。该属性接受一个 `bool` 类型的值。"
   ]
  },
  {
   "cell_type": "code",
   "execution_count": 3,
   "id": "4555cd32-d66d-411b-8b39-01153e8fb53d",
   "metadata": {},
   "outputs": [
    {
     "ename": "FileNotFoundError",
     "evalue": "[Errno 2] No such file or directory: 'disabled.vue'",
     "output_type": "error",
     "traceback": [
      "\u001b[0;31m---------------------------------------------------------------------------\u001b[0m",
      "\u001b[0;31mFileNotFoundError\u001b[0m                         Traceback (most recent call last)",
      "Cell \u001b[0;32mIn[3], line 1\u001b[0m\n\u001b[0;32m----> 1\u001b[0m \u001b[43mget_ipython\u001b[49m\u001b[43m(\u001b[49m\u001b[43m)\u001b[49m\u001b[38;5;241;43m.\u001b[39;49m\u001b[43mrun_line_magic\u001b[49m\u001b[43m(\u001b[49m\u001b[38;5;124;43m'\u001b[39;49m\u001b[38;5;124;43mvuepy_demo\u001b[39;49m\u001b[38;5;124;43m'\u001b[39;49m\u001b[43m,\u001b[49m\u001b[43m \u001b[49m\u001b[38;5;124;43m'\u001b[39;49m\u001b[38;5;124;43mdisabled.vue\u001b[39;49m\u001b[38;5;124;43m'\u001b[39;49m\u001b[43m)\u001b[49m\n",
      "File \u001b[0;32m~/miniforge3/envs/textgen/lib/python3.10/site-packages/IPython/core/interactiveshell.py:2482\u001b[0m, in \u001b[0;36mInteractiveShell.run_line_magic\u001b[0;34m(self, magic_name, line, _stack_depth)\u001b[0m\n\u001b[1;32m   2480\u001b[0m     kwargs[\u001b[38;5;124m'\u001b[39m\u001b[38;5;124mlocal_ns\u001b[39m\u001b[38;5;124m'\u001b[39m] \u001b[38;5;241m=\u001b[39m \u001b[38;5;28mself\u001b[39m\u001b[38;5;241m.\u001b[39mget_local_scope(stack_depth)\n\u001b[1;32m   2481\u001b[0m \u001b[38;5;28;01mwith\u001b[39;00m \u001b[38;5;28mself\u001b[39m\u001b[38;5;241m.\u001b[39mbuiltin_trap:\n\u001b[0;32m-> 2482\u001b[0m     result \u001b[38;5;241m=\u001b[39m \u001b[43mfn\u001b[49m\u001b[43m(\u001b[49m\u001b[38;5;241;43m*\u001b[39;49m\u001b[43margs\u001b[49m\u001b[43m,\u001b[49m\u001b[43m \u001b[49m\u001b[38;5;241;43m*\u001b[39;49m\u001b[38;5;241;43m*\u001b[39;49m\u001b[43mkwargs\u001b[49m\u001b[43m)\u001b[49m\n\u001b[1;32m   2484\u001b[0m \u001b[38;5;66;03m# The code below prevents the output from being displayed\u001b[39;00m\n\u001b[1;32m   2485\u001b[0m \u001b[38;5;66;03m# when using magics with decorator @output_can_be_silenced\u001b[39;00m\n\u001b[1;32m   2486\u001b[0m \u001b[38;5;66;03m# when the last Python token in the expression is a ';'.\u001b[39;00m\n\u001b[1;32m   2487\u001b[0m \u001b[38;5;28;01mif\u001b[39;00m \u001b[38;5;28mgetattr\u001b[39m(fn, magic\u001b[38;5;241m.\u001b[39mMAGIC_OUTPUT_CAN_BE_SILENCED, \u001b[38;5;28;01mFalse\u001b[39;00m):\n",
      "File \u001b[0;32m~/proj/bb/url2io.com/open_sesame/nb_llm/pyvue/src/vuepy/utils/magic.py:95\u001b[0m, in \u001b[0;36mvuepy_demo\u001b[0;34m(vue_sfc)\u001b[0m\n\u001b[1;32m     92\u001b[0m     return_app \u001b[38;5;241m=\u001b[39m \u001b[38;5;124m'\u001b[39m\u001b[38;5;124mno\u001b[39m\u001b[38;5;124m'\u001b[39m\n\u001b[1;32m     94\u001b[0m sfc_file_path \u001b[38;5;241m=\u001b[39m Path(vue_sfc\u001b[38;5;241m.\u001b[39mstrip())\n\u001b[0;32m---> 95\u001b[0m sfc_metadata \u001b[38;5;241m=\u001b[39m \u001b[43mSFCMetadata\u001b[49m\u001b[38;5;241;43m.\u001b[39;49m\u001b[43mload\u001b[49m\u001b[43m(\u001b[49m\u001b[43msfc_file_path\u001b[49m\u001b[43m)\u001b[49m\n\u001b[1;32m     97\u001b[0m script_content \u001b[38;5;241m=\u001b[39m \u001b[38;5;241m0\u001b[39m\n\u001b[1;32m     98\u001b[0m \u001b[38;5;28;01mif\u001b[39;00m sfc_metadata\u001b[38;5;241m.\u001b[39mscript_src:\n",
      "File \u001b[0;32m~/proj/bb/url2io.com/open_sesame/nb_llm/pyvue/src/vuepy/compiler_sfc/sfc_parser.py:117\u001b[0m, in \u001b[0;36mSFCMetadata.load\u001b[0;34m(cls, sfc_file)\u001b[0m\n\u001b[1;32m    114\u001b[0m \u001b[38;5;129m@classmethod\u001b[39m\n\u001b[1;32m    115\u001b[0m \u001b[38;5;28;01mdef\u001b[39;00m\u001b[38;5;250m \u001b[39m\u001b[38;5;21mload\u001b[39m(\u001b[38;5;28mcls\u001b[39m, sfc_file):\n\u001b[1;32m    116\u001b[0m     sfc_file \u001b[38;5;241m=\u001b[39m pathlib\u001b[38;5;241m.\u001b[39mPath(sfc_file)\n\u001b[0;32m--> 117\u001b[0m     \u001b[38;5;28;01mwith\u001b[39;00m \u001b[38;5;28;43mopen\u001b[39;49m\u001b[43m(\u001b[49m\u001b[43msfc_file\u001b[49m\u001b[43m)\u001b[49m \u001b[38;5;28;01mas\u001b[39;00m f:\n\u001b[1;32m    118\u001b[0m         raw_content \u001b[38;5;241m=\u001b[39m f\u001b[38;5;241m.\u001b[39mread()\n\u001b[1;32m    120\u001b[0m     \u001b[38;5;28;01mreturn\u001b[39;00m \u001b[38;5;28mcls\u001b[39m\u001b[38;5;241m.\u001b[39mloads(raw_content, sfc_file)\n",
      "\u001b[0;31mFileNotFoundError\u001b[0m: [Errno 2] No such file or directory: 'disabled.vue'"
     ]
    }
   ],
   "source": [
    "%vuepy_demo disabled.vue"
   ]
  },
  {
   "cell_type": "markdown",
   "id": "8685d144-029f-4afa-8547-4f3d84529504",
   "metadata": {},
   "source": [
    "## API\n",
    "\n",
    "### 属性\n",
    "\n",
    "| 属性名    | 说明                 | 类型                                                           | 默认值 |\n",
    "| -------- | ------------------- | ---------------------------------------------------------------| ------- |\n",
    "| v-model/value | 绑定值             | ^[str]                                                      | —       |\n",
    "| desc     | 按钮文字             | ^[str]                                                         | —       |\n",
    "| icon     | 按钮图标             | ^[str]                                                         | —       |\n",
    "| type     | 类型                | ^[enum]`''\\| 'success'\\| 'warning'\\| 'danger'\\| 'info'`        | —       |\n",
    "| tooltip  | 提示信息             | ^[str]                                                         | —       |\n",
    "| disabled | 按钮是否为禁用状态     | ^[boolean]                                                     | false   |\n",
    "| style    | 自定义css样式             | ^[str]                                                         | -       |\n",
    "\n",
    "### Events\n",
    "\n",
    "| 事件名 | 说明                  | 类型                                   |\n",
    "| ---   | ---                  | ---                                    |\n",
    "| click | 当按钮被点击时触发的事件 |  ^[Callable]`(button: Widget) -> None` |\n",
    "\n",
    "\n",
    "### Slots\n",
    "\n",
    "| 插槽名   | 说明               |\n",
    "| ---     | ---               |\n",
    "| default | 自定义默认内容      |\n",
    "\n",
    "\n",
    "### 方法\n",
    "\n",
    "| 属性名 | 说明 | 类型 |\n",
    "| --- | --- | --- |"
   ]
  },
  {
   "cell_type": "code",
   "execution_count": null,
   "id": "db17c770-7085-4365-b5f0-bd4f66ebc948",
   "metadata": {},
   "outputs": [],
   "source": []
  }
 ],
 "metadata": {
  "kernelspec": {
   "display_name": "Python 3 (ipykernel)",
   "language": "python",
   "name": "python3"
  },
  "language_info": {
   "codemirror_mode": {
    "name": "ipython",
    "version": 3
   },
   "file_extension": ".py",
   "mimetype": "text/x-python",
   "name": "python",
   "nbconvert_exporter": "python",
   "pygments_lexer": "ipython3",
   "version": "3.10.12"
  },
  "widgets": {
   "application/vnd.jupyter.widget-state+json": {
    "state": {
     "007b524359684d049b35a48d667b95f7": {
      "model_module": "@jupyter-widgets/base",
      "model_module_version": "2.0.0",
      "model_name": "LayoutModel",
      "state": {}
     },
     "033283d6da8c441781ace146038bcde6": {
      "model_module": "anywidget",
      "model_module_version": "~0.9.*",
      "model_name": "AnyModel",
      "state": {
       "_anywidget_id": "ipywui.widgets.custom.message.MessageWidget",
       "_css": ".wui-message-root {\n    display: flex;\n    position: absolute;\n    left: 0;\n    right: 0;\n    top: 0;\n}\n\n.wui-message-container {\n    align-items: center;\n    display: flex;\n    flex-direction: column-reverse;\n    justify-content: center;\n    min-height: 100%;\n    outline: none;\n    width: 100%;\n\n    -webkit-tap-highlight-color: rgba(0,0,0,0);\n    bottom: 0;\n    left: 0;\n    right: 0;\n    top: 0;\n}\n\n.wui-message--success {\n    --wui-message-bg-color: #f0f9eb;\n    --wui-message-border-color: #e1f3d8;\n    --wui-message-text-color: #67c23a;\n}\n.wui-message--warning {\n    --wui-message-bg-color: #fdf6ec;\n    --wui-message-border-color: #faecd8;\n    --wui-message-text-color: #e6a23c;\n}\n.wui-message--info {\n    --wui-message-bg-color: #f4f4f5;\n    --wui-message-border-color: #e9e9eb;\n    --wui-message-text-color: #909399;\n}\n.wui-message--error {\n    --wui-message-bg-color: #fef0f0;\n    --wui-message-border-color: #fde2e2;\n    --wui-message-text-color: #f56c6c;\n}\n\n@keyframes msg-open {\n    0% {\n        opacity: 0;\n        -webkit-transform: translateY(-120%);\n        transform: translateY(-120%)\n    }\n    to {\n        -webkit-transform: translateY(0);\n        transform: translateY(0)\n    }\n}\n\n@keyframes msg-close {\n    0% {\n        opacity: 1;\n        -webkit-transform: scale(1);\n        transform: scale(1)\n    }\n    to {\n        opacity: 0;\n        -webkit-transform: scale(.9);\n        transform: scale(.9)\n    }\n}\n.wui-message[data-state=entered],.wui-message[data-state=entering] {\n    -webkit-animation: msg-open .24s cubic-bezier(.175,.885,.32,1.175) both;\n    animation: msg-open .24s cubic-bezier(.175,.885,.32,1.175) both\n}\n\n.wui-message[data-state=exiting] {\n    -webkit-animation: msg-close .12s cubic-bezier(.4,0,1,1) both;\n    animation: msg-close .12s cubic-bezier(.4,0,1,1) both\n}\n\n.wui-message {\n    width: -webkit-fit-content;\n    width: -moz-fit-content;\n    width: fit-content;\n    z-index: 2004;\n    max-width: calc(100% - 32px);\n    margin-top: 8px;\n    box-sizing: border-box;\n    /*border-radius: var(--wui-border-radius-base);*/\n    /*border-width: var(--wui-border-width);*/\n    /*border-style: var(--wui-border-style);*/\n    border-color: var(--wui-message-border-color);\n    /*left: 50%;*/\n    /*top: 20px;*/\n    /*transform: translateX(-50%);*/\n    background-color: var(--wui-message-bg-color);\n    /*transition: opacity var(--wui-transition-duration),transform .4s,top .4s;*/\n    /*padding: var(--wui-message-padding);*/\n    display: flex;\n    align-items: center;\n}\n\n/*.wui-message--success */\n.wui-message__content {\n    color: var(--wui-message-text-color);\n    font-size: 14px;\n    line-height: 18px;\n    margin: 10px 14px 10px 14px;\n    overflow-wrap: break-word;\n}\n\n.wui-message__closeBtn {\n    /*cursor: pointer;*/\n    font-style: normal;\n    /*color: gray;*/\n    padding-right: 14px;\n    /*font-size: 13px;*/\n    user-select: none;\n\n    background: transparent;\n    border: none;\n    color: gray;\n    cursor: pointer;\n    font-size: 13px;\n    font-weight: 400;\n    line-height: 1;\n    outline: none;\n    /*padding: 4px;*/\n    text-align: center;\n    transition: opacity .3s;\n    /*width: 100%;*/\n}",
       "_esm": "function closeMsg(msgDom) {\n  if (!msgDom) {\n    return;\n  }\n  msgDom.setAttribute('data-state', 'exiting');\n  msgDom.remove();\n}\n\nfunction createMsg(options) {\n  const {message, msg_id, type = 'info', show_close = false} = options;\n  const msgDom = document.createElement('div');\n  msgDom.className += ` wui-message--${type} wui-message`;\n  msgDom.setAttribute('data-state', 'entered');\n  msgDom.setAttribute('id', msg_id);\n  const msgContent = document.createElement('p');\n  msgContent.className += ` wui-message--${type} wui-message__content`;\n  msgContent.innerText = message;\n  msgDom.appendChild(msgContent);\n  if (show_close) {\n    const closeBtn = document.createElement('i');\n    closeBtn.className += 'wui-message__closeBtn';\n    closeBtn.innerText = 'x';\n    closeBtn.addEventListener('click', (ev) => {\n      closeMsg(msgDom);\n    })\n    msgDom.appendChild(closeBtn);\n  }\n  return msgDom;\n}\n\nexport async function render(view) {\n  let model = view.model;\n  const msgRoot = view.el;\n  msgRoot.className += ' wui-message-root'\n\n  const msgContainer = document.createElement('div');\n  msgContainer.className += ' wui-message-container';\n  msgRoot.appendChild(msgContainer)\n\n  model.on(\"change:message_options\", () => {\n    const options = model.get(\"message_options\");\n    const msg = createMsg(options);\n    msgContainer.appendChild(msg);\n    const {duration = 3000} = options;\n    if (duration > 0) {\n      setTimeout(() => {\n        closeMsg(msg)\n      }, duration);\n    }\n  })\n\n  model.on(\"change:close_msg_id\", () => {\n    const msg_id = model.get(\"close_msg_id\");\n    const msgDom = document.getElementById(msg_id);\n    closeMsg(msgDom);\n  })\n}\n",
       "_model_module": "anywidget",
       "_model_module_version": "~0.9.*",
       "_model_name": "AnyModel",
       "_view_module": "anywidget",
       "_view_module_version": "~0.9.*",
       "_view_name": "AnyView",
       "close_msg_id": "",
       "layout": "IPY_MODEL_1e2b087517ae4ee7890c269ae2e366be",
       "message_options": {
        "duration": 3000,
        "message": "",
        "show_close": false,
        "type": "info"
       }
      }
     },
     "0408f47dc3114b86940f93370ea99fb9": {
      "model_module": "anywidget",
      "model_module_version": "~0.9.*",
      "model_name": "AnyModel",
      "state": {
       "_anywidget_id": "ipywui.widgets.custom.message.MessageWidget",
       "_css": ".wui-message-root {\n    display: flex;\n    position: absolute;\n    left: 0;\n    right: 0;\n    top: 0;\n}\n\n.wui-message-container {\n    align-items: center;\n    display: flex;\n    flex-direction: column-reverse;\n    justify-content: center;\n    min-height: 100%;\n    outline: none;\n    width: 100%;\n\n    -webkit-tap-highlight-color: rgba(0,0,0,0);\n    bottom: 0;\n    left: 0;\n    right: 0;\n    top: 0;\n}\n\n.wui-message--success {\n    --wui-message-bg-color: #f0f9eb;\n    --wui-message-border-color: #e1f3d8;\n    --wui-message-text-color: #67c23a;\n}\n.wui-message--warning {\n    --wui-message-bg-color: #fdf6ec;\n    --wui-message-border-color: #faecd8;\n    --wui-message-text-color: #e6a23c;\n}\n.wui-message--info {\n    --wui-message-bg-color: #f4f4f5;\n    --wui-message-border-color: #e9e9eb;\n    --wui-message-text-color: #909399;\n}\n.wui-message--error {\n    --wui-message-bg-color: #fef0f0;\n    --wui-message-border-color: #fde2e2;\n    --wui-message-text-color: #f56c6c;\n}\n\n@keyframes msg-open {\n    0% {\n        opacity: 0;\n        -webkit-transform: translateY(-120%);\n        transform: translateY(-120%)\n    }\n    to {\n        -webkit-transform: translateY(0);\n        transform: translateY(0)\n    }\n}\n\n@keyframes msg-close {\n    0% {\n        opacity: 1;\n        -webkit-transform: scale(1);\n        transform: scale(1)\n    }\n    to {\n        opacity: 0;\n        -webkit-transform: scale(.9);\n        transform: scale(.9)\n    }\n}\n.wui-message[data-state=entered],.wui-message[data-state=entering] {\n    -webkit-animation: msg-open .24s cubic-bezier(.175,.885,.32,1.175) both;\n    animation: msg-open .24s cubic-bezier(.175,.885,.32,1.175) both\n}\n\n.wui-message[data-state=exiting] {\n    -webkit-animation: msg-close .12s cubic-bezier(.4,0,1,1) both;\n    animation: msg-close .12s cubic-bezier(.4,0,1,1) both\n}\n\n.wui-message {\n    width: -webkit-fit-content;\n    width: -moz-fit-content;\n    width: fit-content;\n    z-index: 2004;\n    max-width: calc(100% - 32px);\n    margin-top: 8px;\n    box-sizing: border-box;\n    /*border-radius: var(--wui-border-radius-base);*/\n    /*border-width: var(--wui-border-width);*/\n    /*border-style: var(--wui-border-style);*/\n    border-color: var(--wui-message-border-color);\n    /*left: 50%;*/\n    /*top: 20px;*/\n    /*transform: translateX(-50%);*/\n    background-color: var(--wui-message-bg-color);\n    /*transition: opacity var(--wui-transition-duration),transform .4s,top .4s;*/\n    /*padding: var(--wui-message-padding);*/\n    display: flex;\n    align-items: center;\n}\n\n/*.wui-message--success */\n.wui-message__content {\n    color: var(--wui-message-text-color);\n    font-size: 14px;\n    line-height: 18px;\n    margin: 10px 14px 10px 14px;\n    overflow-wrap: break-word;\n}\n\n.wui-message__closeBtn {\n    /*cursor: pointer;*/\n    font-style: normal;\n    /*color: gray;*/\n    padding-right: 14px;\n    /*font-size: 13px;*/\n    user-select: none;\n\n    background: transparent;\n    border: none;\n    color: gray;\n    cursor: pointer;\n    font-size: 13px;\n    font-weight: 400;\n    line-height: 1;\n    outline: none;\n    /*padding: 4px;*/\n    text-align: center;\n    transition: opacity .3s;\n    /*width: 100%;*/\n}",
       "_esm": "function closeMsg(msgDom) {\n  if (!msgDom) {\n    return;\n  }\n  msgDom.setAttribute('data-state', 'exiting');\n  msgDom.remove();\n}\n\nfunction createMsg(options) {\n  const {message, msg_id, type = 'info', show_close = false} = options;\n  const msgDom = document.createElement('div');\n  msgDom.className += ` wui-message--${type} wui-message`;\n  msgDom.setAttribute('data-state', 'entered');\n  msgDom.setAttribute('id', msg_id);\n  const msgContent = document.createElement('p');\n  msgContent.className += ` wui-message--${type} wui-message__content`;\n  msgContent.innerText = message;\n  msgDom.appendChild(msgContent);\n  if (show_close) {\n    const closeBtn = document.createElement('i');\n    closeBtn.className += 'wui-message__closeBtn';\n    closeBtn.innerText = 'x';\n    closeBtn.addEventListener('click', (ev) => {\n      closeMsg(msgDom);\n    })\n    msgDom.appendChild(closeBtn);\n  }\n  return msgDom;\n}\n\nexport async function render(view) {\n  let model = view.model;\n  const msgRoot = view.el;\n  msgRoot.className += ' wui-message-root'\n\n  const msgContainer = document.createElement('div');\n  msgContainer.className += ' wui-message-container';\n  msgRoot.appendChild(msgContainer)\n\n  model.on(\"change:message_options\", () => {\n    const options = model.get(\"message_options\");\n    const msg = createMsg(options);\n    msgContainer.appendChild(msg);\n    const {duration = 3000} = options;\n    if (duration > 0) {\n      setTimeout(() => {\n        closeMsg(msg)\n      }, duration);\n    }\n  })\n\n  model.on(\"change:close_msg_id\", () => {\n    const msg_id = model.get(\"close_msg_id\");\n    const msgDom = document.getElementById(msg_id);\n    closeMsg(msgDom);\n  })\n}\n",
       "_model_module": "anywidget",
       "_model_module_version": "~0.9.*",
       "_model_name": "AnyModel",
       "_view_module": "anywidget",
       "_view_module_version": "~0.9.*",
       "_view_name": "AnyView",
       "close_msg_id": "",
       "layout": "IPY_MODEL_414018729b174b2aae52f8f81f7e63e0",
       "message_options": {
        "duration": 3000,
        "message": "",
        "show_close": false,
        "type": "info"
       }
      }
     },
     "09e9cf10a4e04ef6a69c0ebaeb26fb3e": {
      "model_module": "jupyter-leaflet",
      "model_module_version": "^0.19",
      "model_name": "LeafletTileLayerModel",
      "state": {
       "_model_module_version": "^0.19",
       "_view_module_version": "^0.19",
       "attribution": "&copy; <a href=\"https://www.openstreetmap.org/copyright\">OpenStreetMap</a> contributors &copy; <a href=\"https://carto.com/attributions\">CARTO</a>",
       "base": true,
       "max_zoom": 20,
       "min_zoom": 1,
       "name": "CartoDB.Positron",
       "options": [
        "attribution",
        "bounds",
        "detect_retina",
        "max_native_zoom",
        "max_zoom",
        "min_native_zoom",
        "min_zoom",
        "no_wrap",
        "tile_size",
        "tms",
        "zoom_offset"
       ],
       "url": "https://a.basemaps.cartocdn.com/light_all/{z}/{x}/{y}.png"
      }
     },
     "0a162ef623204b8ba239c67f681c7bce": {
      "model_module": "jupyter-leaflet",
      "model_module_version": "^0.19",
      "model_name": "LeafletMapStyleModel",
      "state": {
       "_model_module_version": "^0.19"
      }
     },
     "0b5c5fe9a2274ca08c52956cee3caace": {
      "model_module": "@jupyter-widgets/controls",
      "model_module_version": "2.0.0",
      "model_name": "VBoxModel",
      "state": {
       "children": [
        "IPY_MODEL_c1cfba49a0ea49e4838a28a860da7016"
       ],
       "layout": "IPY_MODEL_83f3c4278a9f4450834a02b471c0787e"
      }
     },
     "0bf431df501c441688c7c9312c860092": {
      "model_module": "@jupyter-widgets/controls",
      "model_module_version": "2.0.0",
      "model_name": "VBoxModel",
      "state": {
       "children": [
        "IPY_MODEL_033283d6da8c441781ace146038bcde6",
        "IPY_MODEL_baf87ce3cd7841ec9f247af8a8ef456c"
       ],
       "layout": "IPY_MODEL_2fac0fdbd1f2431b9e0ff5ef67a0aeca"
      }
     },
     "0ed4d091465d40fc8985e2b66bade1e3": {
      "model_module": "@jupyter-widgets/base",
      "model_module_version": "2.0.0",
      "model_name": "LayoutModel",
      "state": {}
     },
     "126222e1fc0a4d0c9c56d6b9f81e5f5f": {
      "model_module": "jupyter-leaflet",
      "model_module_version": "^0.19",
      "model_name": "LeafletMapStyleModel",
      "state": {
       "_model_module_version": "^0.19",
       "cursor": "move"
      }
     },
     "1267c2a74c224ba38458a59d485a0cf4": {
      "model_module": "jupyter-leaflet",
      "model_module_version": "^0.19",
      "model_name": "LeafletMapStyleModel",
      "state": {
       "_model_module_version": "^0.19"
      }
     },
     "14ca6532d52240158b753ad272c4a45b": {
      "model_module": "@jupyter-widgets/controls",
      "model_module_version": "2.0.0",
      "model_name": "VBoxModel",
      "state": {
       "children": [
        "IPY_MODEL_d3f7777670ce4e0fa890e3c1c243299e"
       ],
       "layout": "IPY_MODEL_94c432583b8e46b59aec4d720fed0acd"
      }
     },
     "155d66af833e4919818c8814c16eb2c1": {
      "model_module": "@jupyter-widgets/base",
      "model_module_version": "2.0.0",
      "model_name": "LayoutModel",
      "state": {}
     },
     "1d551b2a77d842afaa876b9937b92cbd": {
      "model_module": "@jupyter-widgets/controls",
      "model_module_version": "2.0.0",
      "model_name": "VBoxModel",
      "state": {
       "children": [
        "IPY_MODEL_2531ecaef775417d89eefff9c93a2b63"
       ],
       "layout": "IPY_MODEL_58226af539874f26b2f35ca3e46221e9"
      }
     },
     "1dfa92c5dc9847ab9ea93fe447facbac": {
      "model_module": "@jupyter-widgets/base",
      "model_module_version": "2.0.0",
      "model_name": "LayoutModel",
      "state": {}
     },
     "1e2b087517ae4ee7890c269ae2e366be": {
      "model_module": "@jupyter-widgets/base",
      "model_module_version": "2.0.0",
      "model_name": "LayoutModel",
      "state": {}
     },
     "21bc0cc9be574024a9ef5268e37ff045": {
      "model_module": "anywidget",
      "model_module_version": "~0.9.*",
      "model_name": "AnyModel",
      "state": {
       "_anywidget_id": "ipywui.widgets.custom.message.MessageWidget",
       "_css": ".wui-message-root {\n    display: flex;\n    position: absolute;\n    left: 0;\n    right: 0;\n    top: 0;\n}\n\n.wui-message-container {\n    align-items: center;\n    display: flex;\n    flex-direction: column-reverse;\n    justify-content: center;\n    min-height: 100%;\n    outline: none;\n    width: 100%;\n\n    -webkit-tap-highlight-color: rgba(0,0,0,0);\n    bottom: 0;\n    left: 0;\n    right: 0;\n    top: 0;\n}\n\n.wui-message--success {\n    --wui-message-bg-color: #f0f9eb;\n    --wui-message-border-color: #e1f3d8;\n    --wui-message-text-color: #67c23a;\n}\n.wui-message--warning {\n    --wui-message-bg-color: #fdf6ec;\n    --wui-message-border-color: #faecd8;\n    --wui-message-text-color: #e6a23c;\n}\n.wui-message--info {\n    --wui-message-bg-color: #f4f4f5;\n    --wui-message-border-color: #e9e9eb;\n    --wui-message-text-color: #909399;\n}\n.wui-message--error {\n    --wui-message-bg-color: #fef0f0;\n    --wui-message-border-color: #fde2e2;\n    --wui-message-text-color: #f56c6c;\n}\n\n@keyframes msg-open {\n    0% {\n        opacity: 0;\n        -webkit-transform: translateY(-120%);\n        transform: translateY(-120%)\n    }\n    to {\n        -webkit-transform: translateY(0);\n        transform: translateY(0)\n    }\n}\n\n@keyframes msg-close {\n    0% {\n        opacity: 1;\n        -webkit-transform: scale(1);\n        transform: scale(1)\n    }\n    to {\n        opacity: 0;\n        -webkit-transform: scale(.9);\n        transform: scale(.9)\n    }\n}\n.wui-message[data-state=entered],.wui-message[data-state=entering] {\n    -webkit-animation: msg-open .24s cubic-bezier(.175,.885,.32,1.175) both;\n    animation: msg-open .24s cubic-bezier(.175,.885,.32,1.175) both\n}\n\n.wui-message[data-state=exiting] {\n    -webkit-animation: msg-close .12s cubic-bezier(.4,0,1,1) both;\n    animation: msg-close .12s cubic-bezier(.4,0,1,1) both\n}\n\n.wui-message {\n    width: -webkit-fit-content;\n    width: -moz-fit-content;\n    width: fit-content;\n    z-index: 2004;\n    max-width: calc(100% - 32px);\n    margin-top: 8px;\n    box-sizing: border-box;\n    /*border-radius: var(--wui-border-radius-base);*/\n    /*border-width: var(--wui-border-width);*/\n    /*border-style: var(--wui-border-style);*/\n    border-color: var(--wui-message-border-color);\n    /*left: 50%;*/\n    /*top: 20px;*/\n    /*transform: translateX(-50%);*/\n    background-color: var(--wui-message-bg-color);\n    /*transition: opacity var(--wui-transition-duration),transform .4s,top .4s;*/\n    /*padding: var(--wui-message-padding);*/\n    display: flex;\n    align-items: center;\n}\n\n/*.wui-message--success */\n.wui-message__content {\n    color: var(--wui-message-text-color);\n    font-size: 14px;\n    line-height: 18px;\n    margin: 10px 14px 10px 14px;\n    overflow-wrap: break-word;\n}\n\n.wui-message__closeBtn {\n    /*cursor: pointer;*/\n    font-style: normal;\n    /*color: gray;*/\n    padding-right: 14px;\n    /*font-size: 13px;*/\n    user-select: none;\n\n    background: transparent;\n    border: none;\n    color: gray;\n    cursor: pointer;\n    font-size: 13px;\n    font-weight: 400;\n    line-height: 1;\n    outline: none;\n    /*padding: 4px;*/\n    text-align: center;\n    transition: opacity .3s;\n    /*width: 100%;*/\n}",
       "_esm": "function closeMsg(msgDom) {\n  if (!msgDom) {\n    return;\n  }\n  msgDom.setAttribute('data-state', 'exiting');\n  msgDom.remove();\n}\n\nfunction createMsg(options) {\n  const {message, msg_id, type = 'info', show_close = false} = options;\n  const msgDom = document.createElement('div');\n  msgDom.className += ` wui-message--${type} wui-message`;\n  msgDom.setAttribute('data-state', 'entered');\n  msgDom.setAttribute('id', msg_id);\n  const msgContent = document.createElement('p');\n  msgContent.className += ` wui-message--${type} wui-message__content`;\n  msgContent.innerText = message;\n  msgDom.appendChild(msgContent);\n  if (show_close) {\n    const closeBtn = document.createElement('i');\n    closeBtn.className += 'wui-message__closeBtn';\n    closeBtn.innerText = 'x';\n    closeBtn.addEventListener('click', (ev) => {\n      closeMsg(msgDom);\n    })\n    msgDom.appendChild(closeBtn);\n  }\n  return msgDom;\n}\n\nexport async function render(view) {\n  let model = view.model;\n  const msgRoot = view.el;\n  msgRoot.className += ' wui-message-root'\n\n  const msgContainer = document.createElement('div');\n  msgContainer.className += ' wui-message-container';\n  msgRoot.appendChild(msgContainer)\n\n  model.on(\"change:message_options\", () => {\n    const options = model.get(\"message_options\");\n    const msg = createMsg(options);\n    msgContainer.appendChild(msg);\n    const {duration = 3000} = options;\n    if (duration > 0) {\n      setTimeout(() => {\n        closeMsg(msg)\n      }, duration);\n    }\n  })\n\n  model.on(\"change:close_msg_id\", () => {\n    const msg_id = model.get(\"close_msg_id\");\n    const msgDom = document.getElementById(msg_id);\n    closeMsg(msgDom);\n  })\n}\n",
       "_model_module": "anywidget",
       "_model_module_version": "~0.9.*",
       "_model_name": "AnyModel",
       "_view_module": "anywidget",
       "_view_module_version": "~0.9.*",
       "_view_name": "AnyView",
       "close_msg_id": "",
       "layout": "IPY_MODEL_91ad035ef18245fca2c80bc2e5d897dd",
       "message_options": {
        "duration": 3000,
        "message": "",
        "show_close": false,
        "type": "info"
       }
      }
     },
     "21dbd60f32884fefb96a542d15c3f3d2": {
      "model_module": "@jupyter-widgets/base",
      "model_module_version": "2.0.0",
      "model_name": "LayoutModel",
      "state": {}
     },
     "24218ee1722a46d9a430ee3e8e2e374b": {
      "model_module": "jupyter-leaflet",
      "model_module_version": "^0.19",
      "model_name": "LeafletMapStyleModel",
      "state": {
       "_model_module_version": "^0.19"
      }
     },
     "2531ecaef775417d89eefff9c93a2b63": {
      "model_module": "jupyter-leaflet",
      "model_module_version": "^0.19",
      "model_name": "LeafletWMSLayerModel",
      "state": {
       "_model_module_version": "^0.19",
       "_view_module_version": "^0.19",
       "crs": {
        "custom": false,
        "name": "EPSG3857"
       },
       "format": "image/png",
       "layers": "nexrad-n0r-900913",
       "name": "World Street",
       "options": [
        "attribution",
        "bounds",
        "detect_retina",
        "format",
        "layers",
        "max_native_zoom",
        "max_zoom",
        "min_native_zoom",
        "min_zoom",
        "no_wrap",
        "styles",
        "tile_size",
        "tms",
        "transparent",
        "uppercase",
        "zoom_offset"
       ],
       "url": "http://mesonet.agron.iastate.edu/cgi-bin/wms/nexrad/n0r.cgi"
      }
     },
     "2955c89725c943168615f5b1d6fc8451": {
      "model_module": "jupyter-leaflet",
      "model_module_version": "^0.19",
      "model_name": "LeafletMapStyleModel",
      "state": {
       "_model_module_version": "^0.19"
      }
     },
     "2a39cdf0c06041c2b22c14889ce449d9": {
      "model_module": "@jupyter-widgets/controls",
      "model_module_version": "2.0.0",
      "model_name": "VBoxModel",
      "state": {
       "children": [
        "IPY_MODEL_5ad65aa793784f4fa75bf6089998ffb1"
       ],
       "layout": "IPY_MODEL_cb426c37ef6544d49da61052ca332fb8"
      }
     },
     "2fac0fdbd1f2431b9e0ff5ef67a0aeca": {
      "model_module": "@jupyter-widgets/base",
      "model_module_version": "2.0.0",
      "model_name": "LayoutModel",
      "state": {}
     },
     "30a36951c4bc403aad280e54e5fe1848": {
      "model_module": "jupyter-leaflet",
      "model_module_version": "^0.19",
      "model_name": "LeafletMapModel",
      "state": {
       "_model_module_version": "^0.19",
       "_view_module_version": "^0.19",
       "bottom": 1773,
       "center": [
        38.491,
        -95.712
       ],
       "controls": [
        "IPY_MODEL_c4538746761541308f28ec0438d46c4d",
        "IPY_MODEL_96dfb159ab534930987912632ed61612",
        "IPY_MODEL_cfb7d10526c343d4bafef79d9da89828"
       ],
       "default_style": "IPY_MODEL_24218ee1722a46d9a430ee3e8e2e374b",
       "dragging_style": "IPY_MODEL_44b7f98d6cc04a65ba3a97d6edca19cf",
       "east": -51.85546875000001,
       "fullscreen": false,
       "interpolation": "bilinear",
       "layers": [
        "IPY_MODEL_eb29d02138e14f349913fa812ff26d28",
        "IPY_MODEL_5ad65aa793784f4fa75bf6089998ffb1"
       ],
       "layout": "IPY_MODEL_8a4080be9d7e442893194e142a50d1fb",
       "left": 460,
       "modisdate": "2025-04-05",
       "north": 50.90303283111257,
       "options": [
        "bounce_at_zoom_limits",
        "box_zoom",
        "center",
        "close_popup_on_click",
        "double_click_zoom",
        "dragging",
        "fullscreen",
        "inertia",
        "inertia_deceleration",
        "inertia_max_speed",
        "interpolation",
        "keyboard",
        "keyboard_pan_offset",
        "keyboard_zoom_offset",
        "max_zoom",
        "min_zoom",
        "prefer_canvas",
        "scroll_wheel_zoom",
        "tap",
        "tap_tolerance",
        "touch_zoom",
        "world_copy_jump",
        "zoom",
        "zoom_animation_threshold",
        "zoom_delta",
        "zoom_snap"
       ],
       "prefer_canvas": false,
       "right": 1458,
       "south": 23.483400654325642,
       "style": "IPY_MODEL_c4d0a6bbd8084bf88837e84ca8283651",
       "top": 1373,
       "west": -139.57031250000003,
       "window_url": "http://localhost:2071/lab/tree/nb_llm/pyvue/examples/vleaflet/layers/WMS%20Layer.ipynb",
       "zoom": 4
      }
     },
     "323d0f1bc9254dcf9567faf80b83df96": {
      "model_module": "@jupyter-widgets/base",
      "model_module_version": "2.0.0",
      "model_name": "LayoutModel",
      "state": {}
     },
     "334013fcd8de49dc8af3cf50afeab8f4": {
      "model_module": "@jupyter-widgets/base",
      "model_module_version": "2.0.0",
      "model_name": "LayoutModel",
      "state": {}
     },
     "34e43733e0a34e19a9a103ce1f92c108": {
      "model_module": "@jupyter-widgets/base",
      "model_module_version": "2.0.0",
      "model_name": "LayoutModel",
      "state": {}
     },
     "34fdfe086ff64ba1b3118a104bdbadc2": {
      "model_module": "@jupyter-widgets/base",
      "model_module_version": "2.0.0",
      "model_name": "LayoutModel",
      "state": {}
     },
     "3aa15f3126f243e4b10ad7b700116587": {
      "model_module": "@jupyter-widgets/controls",
      "model_module_version": "2.0.0",
      "model_name": "VBoxModel",
      "state": {
       "children": [
        "IPY_MODEL_4d75d1b8f00a44eeb559d6c755f44d1e"
       ],
       "layout": "IPY_MODEL_cce4be2534374e729995b30fa84cbc8b"
      }
     },
     "3d150cf1f2c4409eab6c2470115377ad": {
      "model_module": "@jupyter-widgets/controls",
      "model_module_version": "2.0.0",
      "model_name": "VBoxModel",
      "state": {
       "children": [
        "IPY_MODEL_f5adfcd47dd44ea5a52f2df59993884c"
       ],
       "layout": "IPY_MODEL_de2e68dae9564487a59d1cbaa1bfe9f7"
      }
     },
     "3de0129360de42e29ca27e8a8f4c6fdd": {
      "model_module": "jupyter-leaflet",
      "model_module_version": "^0.19",
      "model_name": "LeafletMapModel",
      "state": {
       "_model_module_version": "^0.19",
       "_view_module_version": "^0.19",
       "bottom": 345921,
       "center": [
        52.1349631943158,
        360.13389587402344
       ],
       "controls": [
        "IPY_MODEL_df9a0b599c694ec3a473690a0587f318",
        "IPY_MODEL_50de4aa540d44a71a607f2765ef60a85",
        "IPY_MODEL_f5adfcd47dd44ea5a52f2df59993884c"
       ],
       "default_style": "IPY_MODEL_9472bf99142241c4be3c0766a64d9dc6",
       "dragging_style": "IPY_MODEL_b0f1eaf5b8b546f6944ae39463ed4f2f",
       "east": 360.3052139282227,
       "fullscreen": false,
       "interpolation": "bilinear",
       "layers": [
        "IPY_MODEL_8157f7aca7414432847e408abd50bbe5",
        "IPY_MODEL_2531ecaef775417d89eefff9c93a2b63"
       ],
       "layout": "IPY_MODEL_0ed4d091465d40fc8985e2b66bade1e3",
       "left": 1572755,
       "modisdate": "2025-04-05",
       "north": 52.17708980557962,
       "options": [
        "bounce_at_zoom_limits",
        "box_zoom",
        "center",
        "close_popup_on_click",
        "double_click_zoom",
        "dragging",
        "fullscreen",
        "inertia",
        "inertia_deceleration",
        "inertia_max_speed",
        "interpolation",
        "keyboard",
        "keyboard_pan_offset",
        "keyboard_zoom_offset",
        "max_zoom",
        "min_zoom",
        "prefer_canvas",
        "scroll_wheel_zoom",
        "tap",
        "tap_tolerance",
        "touch_zoom",
        "world_copy_jump",
        "zoom",
        "zoom_animation_threshold",
        "zoom_delta",
        "zoom_snap"
       ],
       "prefer_canvas": false,
       "right": 1573753,
       "south": 52.09279670799275,
       "style": "IPY_MODEL_9472bf99142241c4be3c0766a64d9dc6",
       "top": 345521,
       "west": 359.9625778198243,
       "window_url": "http://localhost:2071/lab/tree/nb_llm/pyvue/examples/vleaflet/layers/WMS%20Layer.ipynb"
      }
     },
     "414018729b174b2aae52f8f81f7e63e0": {
      "model_module": "@jupyter-widgets/base",
      "model_module_version": "2.0.0",
      "model_name": "LayoutModel",
      "state": {}
     },
     "44b7f98d6cc04a65ba3a97d6edca19cf": {
      "model_module": "jupyter-leaflet",
      "model_module_version": "^0.19",
      "model_name": "LeafletMapStyleModel",
      "state": {
       "_model_module_version": "^0.19",
       "cursor": "move"
      }
     },
     "4898054067fc4fadb4113c9ec27c7656": {
      "model_module": "jupyter-leaflet",
      "model_module_version": "^0.19",
      "model_name": "LeafletZoomControlModel",
      "state": {
       "_model_module_version": "^0.19",
       "_view_module_version": "^0.19",
       "options": [
        "position",
        "zoom_in_text",
        "zoom_in_title",
        "zoom_out_text",
        "zoom_out_title"
       ]
      }
     },
     "4b3b4d38311e47628033b9bd486a2924": {
      "model_module": "@jupyter-widgets/base",
      "model_module_version": "2.0.0",
      "model_name": "LayoutModel",
      "state": {}
     },
     "4d75d1b8f00a44eeb559d6c755f44d1e": {
      "model_module": "jupyter-leaflet",
      "model_module_version": "^0.19",
      "model_name": "LeafletLayersControlModel",
      "state": {
       "_model_module_version": "^0.19",
       "_view_module_version": "^0.19",
       "collapsed": false,
       "options": [
        "collapsed",
        "position"
       ]
      }
     },
     "50de4aa540d44a71a607f2765ef60a85": {
      "model_module": "jupyter-leaflet",
      "model_module_version": "^0.19",
      "model_name": "LeafletAttributionControlModel",
      "state": {
       "_model_module_version": "^0.19",
       "_view_module_version": "^0.19",
       "options": [
        "position",
        "prefix"
       ],
       "position": "bottomright",
       "prefix": "ipyleaflet"
      }
     },
     "5362e95a2e6347829a359e6ff81931ba": {
      "model_module": "@jupyter-widgets/controls",
      "model_module_version": "2.0.0",
      "model_name": "VBoxModel",
      "state": {
       "children": [
        "IPY_MODEL_30a36951c4bc403aad280e54e5fe1848"
       ],
       "layout": "IPY_MODEL_b530a04f057f41019e68217bfaf7b2b3"
      }
     },
     "58226af539874f26b2f35ca3e46221e9": {
      "model_module": "@jupyter-widgets/base",
      "model_module_version": "2.0.0",
      "model_name": "LayoutModel",
      "state": {}
     },
     "5a2c289b34bf4e7fb8035e542983a90b": {
      "model_module": "jupyter-leaflet",
      "model_module_version": "^0.19",
      "model_name": "LeafletMapStyleModel",
      "state": {
       "_model_module_version": "^0.19",
       "cursor": "move"
      }
     },
     "5ad65aa793784f4fa75bf6089998ffb1": {
      "model_module": "jupyter-leaflet",
      "model_module_version": "^0.19",
      "model_name": "LeafletWMSLayerModel",
      "state": {
       "_model_module_version": "^0.19",
       "_view_module_version": "^0.19",
       "crs": {
        "custom": false,
        "name": "EPSG3857"
       },
       "format": "image/png",
       "layers": "nexrad-n0r-900913",
       "name": "World Street",
       "options": [
        "attribution",
        "bounds",
        "detect_retina",
        "format",
        "layers",
        "max_native_zoom",
        "max_zoom",
        "min_native_zoom",
        "min_zoom",
        "no_wrap",
        "styles",
        "tile_size",
        "tms",
        "transparent",
        "uppercase",
        "zoom_offset"
       ],
       "url": "http://mesonet.agron.iastate.edu/cgi-bin/wms/nexrad/n0r.cgi"
      }
     },
     "5c0d54130b244169b0c7ca8c862626f2": {
      "model_module": "jupyter-leaflet",
      "model_module_version": "^0.19",
      "model_name": "LeafletTileLayerModel",
      "state": {
       "_model_module_version": "^0.19",
       "_view_module_version": "^0.19",
       "attribution": "&copy; <a href=\"https://www.openstreetmap.org/copyright\">OpenStreetMap</a> contributors",
       "base": true,
       "max_zoom": 19,
       "min_zoom": 1,
       "name": "OpenStreetMap.Mapnik",
       "options": [
        "attribution",
        "bounds",
        "detect_retina",
        "max_native_zoom",
        "max_zoom",
        "min_native_zoom",
        "min_zoom",
        "no_wrap",
        "tile_size",
        "tms",
        "zoom_offset"
       ],
       "url": "https://tile.openstreetmap.org/{z}/{x}/{y}.png"
      }
     },
     "5dbdf33d2dfd4a9b8ca3709221a34ec1": {
      "model_module": "anywidget",
      "model_module_version": "~0.9.*",
      "model_name": "AnyModel",
      "state": {
       "_anywidget_id": "ipywui.widgets.custom.message.MessageWidget",
       "_css": ".wui-message-root {\n    display: flex;\n    position: absolute;\n    left: 0;\n    right: 0;\n    top: 0;\n}\n\n.wui-message-container {\n    align-items: center;\n    display: flex;\n    flex-direction: column-reverse;\n    justify-content: center;\n    min-height: 100%;\n    outline: none;\n    width: 100%;\n\n    -webkit-tap-highlight-color: rgba(0,0,0,0);\n    bottom: 0;\n    left: 0;\n    right: 0;\n    top: 0;\n}\n\n.wui-message--success {\n    --wui-message-bg-color: #f0f9eb;\n    --wui-message-border-color: #e1f3d8;\n    --wui-message-text-color: #67c23a;\n}\n.wui-message--warning {\n    --wui-message-bg-color: #fdf6ec;\n    --wui-message-border-color: #faecd8;\n    --wui-message-text-color: #e6a23c;\n}\n.wui-message--info {\n    --wui-message-bg-color: #f4f4f5;\n    --wui-message-border-color: #e9e9eb;\n    --wui-message-text-color: #909399;\n}\n.wui-message--error {\n    --wui-message-bg-color: #fef0f0;\n    --wui-message-border-color: #fde2e2;\n    --wui-message-text-color: #f56c6c;\n}\n\n@keyframes msg-open {\n    0% {\n        opacity: 0;\n        -webkit-transform: translateY(-120%);\n        transform: translateY(-120%)\n    }\n    to {\n        -webkit-transform: translateY(0);\n        transform: translateY(0)\n    }\n}\n\n@keyframes msg-close {\n    0% {\n        opacity: 1;\n        -webkit-transform: scale(1);\n        transform: scale(1)\n    }\n    to {\n        opacity: 0;\n        -webkit-transform: scale(.9);\n        transform: scale(.9)\n    }\n}\n.wui-message[data-state=entered],.wui-message[data-state=entering] {\n    -webkit-animation: msg-open .24s cubic-bezier(.175,.885,.32,1.175) both;\n    animation: msg-open .24s cubic-bezier(.175,.885,.32,1.175) both\n}\n\n.wui-message[data-state=exiting] {\n    -webkit-animation: msg-close .12s cubic-bezier(.4,0,1,1) both;\n    animation: msg-close .12s cubic-bezier(.4,0,1,1) both\n}\n\n.wui-message {\n    width: -webkit-fit-content;\n    width: -moz-fit-content;\n    width: fit-content;\n    z-index: 2004;\n    max-width: calc(100% - 32px);\n    margin-top: 8px;\n    box-sizing: border-box;\n    /*border-radius: var(--wui-border-radius-base);*/\n    /*border-width: var(--wui-border-width);*/\n    /*border-style: var(--wui-border-style);*/\n    border-color: var(--wui-message-border-color);\n    /*left: 50%;*/\n    /*top: 20px;*/\n    /*transform: translateX(-50%);*/\n    background-color: var(--wui-message-bg-color);\n    /*transition: opacity var(--wui-transition-duration),transform .4s,top .4s;*/\n    /*padding: var(--wui-message-padding);*/\n    display: flex;\n    align-items: center;\n}\n\n/*.wui-message--success */\n.wui-message__content {\n    color: var(--wui-message-text-color);\n    font-size: 14px;\n    line-height: 18px;\n    margin: 10px 14px 10px 14px;\n    overflow-wrap: break-word;\n}\n\n.wui-message__closeBtn {\n    /*cursor: pointer;*/\n    font-style: normal;\n    /*color: gray;*/\n    padding-right: 14px;\n    /*font-size: 13px;*/\n    user-select: none;\n\n    background: transparent;\n    border: none;\n    color: gray;\n    cursor: pointer;\n    font-size: 13px;\n    font-weight: 400;\n    line-height: 1;\n    outline: none;\n    /*padding: 4px;*/\n    text-align: center;\n    transition: opacity .3s;\n    /*width: 100%;*/\n}",
       "_esm": "function closeMsg(msgDom) {\n  if (!msgDom) {\n    return;\n  }\n  msgDom.setAttribute('data-state', 'exiting');\n  msgDom.remove();\n}\n\nfunction createMsg(options) {\n  const {message, msg_id, type = 'info', show_close = false} = options;\n  const msgDom = document.createElement('div');\n  msgDom.className += ` wui-message--${type} wui-message`;\n  msgDom.setAttribute('data-state', 'entered');\n  msgDom.setAttribute('id', msg_id);\n  const msgContent = document.createElement('p');\n  msgContent.className += ` wui-message--${type} wui-message__content`;\n  msgContent.innerText = message;\n  msgDom.appendChild(msgContent);\n  if (show_close) {\n    const closeBtn = document.createElement('i');\n    closeBtn.className += 'wui-message__closeBtn';\n    closeBtn.innerText = 'x';\n    closeBtn.addEventListener('click', (ev) => {\n      closeMsg(msgDom);\n    })\n    msgDom.appendChild(closeBtn);\n  }\n  return msgDom;\n}\n\nexport async function render(view) {\n  let model = view.model;\n  const msgRoot = view.el;\n  msgRoot.className += ' wui-message-root'\n\n  const msgContainer = document.createElement('div');\n  msgContainer.className += ' wui-message-container';\n  msgRoot.appendChild(msgContainer)\n\n  model.on(\"change:message_options\", () => {\n    const options = model.get(\"message_options\");\n    const msg = createMsg(options);\n    msgContainer.appendChild(msg);\n    const {duration = 3000} = options;\n    if (duration > 0) {\n      setTimeout(() => {\n        closeMsg(msg)\n      }, duration);\n    }\n  })\n\n  model.on(\"change:close_msg_id\", () => {\n    const msg_id = model.get(\"close_msg_id\");\n    const msgDom = document.getElementById(msg_id);\n    closeMsg(msgDom);\n  })\n}\n",
       "_model_module": "anywidget",
       "_model_module_version": "~0.9.*",
       "_model_name": "AnyModel",
       "_view_module": "anywidget",
       "_view_module_version": "~0.9.*",
       "_view_name": "AnyView",
       "close_msg_id": "",
       "layout": "IPY_MODEL_eca081cae05d4d538600890fb364340b",
       "message_options": {
        "duration": 3000,
        "message": "",
        "show_close": false,
        "type": "info"
       }
      }
     },
     "5fc09ed69d544f058c6e482bb67503c8": {
      "model_module": "jupyter-leaflet",
      "model_module_version": "^0.19",
      "model_name": "LeafletWMSLayerModel",
      "state": {
       "_model_module_version": "^0.19",
       "_view_module_version": "^0.19",
       "crs": {
        "custom": false,
        "name": "EPSG3857"
       },
       "format": "image/png",
       "layers": "nexrad-n0r-900913",
       "name": "World Street",
       "options": [
        "attribution",
        "bounds",
        "detect_retina",
        "format",
        "layers",
        "max_native_zoom",
        "max_zoom",
        "min_native_zoom",
        "min_zoom",
        "no_wrap",
        "styles",
        "tile_size",
        "tms",
        "transparent",
        "uppercase",
        "zoom_offset"
       ],
       "transparent": true,
       "url": "http://mesonet.agron.iastate.edu/cgi-bin/wms/nexrad/n0r.cgi"
      }
     },
     "60c55029396b4c1a999bf145d9b662d9": {
      "model_module": "@jupyter-widgets/controls",
      "model_module_version": "2.0.0",
      "model_name": "VBoxModel",
      "state": {
       "children": [
        "IPY_MODEL_fffd5f6b8dc4498ea3f99a410ddf0c60"
       ],
       "layout": "IPY_MODEL_a58233ec23de4aa3a2c20e94e3744a2c"
      }
     },
     "660f4e0bb3474598b112ed20b6b87c9d": {
      "model_module": "@jupyter-widgets/controls",
      "model_module_version": "2.0.0",
      "model_name": "VBoxModel",
      "state": {
       "children": [
        "IPY_MODEL_cfb7d10526c343d4bafef79d9da89828"
       ],
       "layout": "IPY_MODEL_007b524359684d049b35a48d667b95f7"
      }
     },
     "8069852d5d964896afe90562a2ca0dae": {
      "model_module": "@jupyter-widgets/base",
      "model_module_version": "2.0.0",
      "model_name": "LayoutModel",
      "state": {}
     },
     "8157f7aca7414432847e408abd50bbe5": {
      "model_module": "jupyter-leaflet",
      "model_module_version": "^0.19",
      "model_name": "LeafletTileLayerModel",
      "state": {
       "_model_module_version": "^0.19",
       "_view_module_version": "^0.19",
       "attribution": "&copy; <a href=\"https://www.openstreetmap.org/copyright\">OpenStreetMap</a> contributors",
       "base": true,
       "max_zoom": 19,
       "min_zoom": 1,
       "name": "OpenStreetMap.Mapnik",
       "options": [
        "attribution",
        "bounds",
        "detect_retina",
        "max_native_zoom",
        "max_zoom",
        "min_native_zoom",
        "min_zoom",
        "no_wrap",
        "tile_size",
        "tms",
        "zoom_offset"
       ],
       "url": "https://tile.openstreetmap.org/{z}/{x}/{y}.png"
      }
     },
     "83f3c4278a9f4450834a02b471c0787e": {
      "model_module": "@jupyter-widgets/base",
      "model_module_version": "2.0.0",
      "model_name": "LayoutModel",
      "state": {}
     },
     "88908265ee4e409da58e41abba730e4d": {
      "model_module": "@jupyter-widgets/base",
      "model_module_version": "2.0.0",
      "model_name": "LayoutModel",
      "state": {}
     },
     "8a4080be9d7e442893194e142a50d1fb": {
      "model_module": "@jupyter-widgets/base",
      "model_module_version": "2.0.0",
      "model_name": "LayoutModel",
      "state": {}
     },
     "8d7a0d2039eb44d294e376f9b0e5e4ee": {
      "model_module": "@jupyter-widgets/controls",
      "model_module_version": "2.0.0",
      "model_name": "VBoxModel",
      "state": {
       "children": [
        "IPY_MODEL_9a9933a2d3a94fe3ad38524665afd125"
       ],
       "layout": "IPY_MODEL_93fa7a9f3b11414998b228a2d86c60fb"
      }
     },
     "91ad035ef18245fca2c80bc2e5d897dd": {
      "model_module": "@jupyter-widgets/base",
      "model_module_version": "2.0.0",
      "model_name": "LayoutModel",
      "state": {}
     },
     "93fa7a9f3b11414998b228a2d86c60fb": {
      "model_module": "@jupyter-widgets/base",
      "model_module_version": "2.0.0",
      "model_name": "LayoutModel",
      "state": {}
     },
     "9472bf99142241c4be3c0766a64d9dc6": {
      "model_module": "jupyter-leaflet",
      "model_module_version": "^0.19",
      "model_name": "LeafletMapStyleModel",
      "state": {
       "_model_module_version": "^0.19"
      }
     },
     "94c432583b8e46b59aec4d720fed0acd": {
      "model_module": "@jupyter-widgets/base",
      "model_module_version": "2.0.0",
      "model_name": "LayoutModel",
      "state": {}
     },
     "957d6e0bd9ee4c3a92c37d1bc818101d": {
      "model_module": "anywidget",
      "model_module_version": "~0.9.*",
      "model_name": "AnyModel",
      "state": {
       "_anywidget_id": "ipywui.widgets.custom.message.MessageWidget",
       "_css": ".wui-message-root {\n    display: flex;\n    position: absolute;\n    left: 0;\n    right: 0;\n    top: 0;\n}\n\n.wui-message-container {\n    align-items: center;\n    display: flex;\n    flex-direction: column-reverse;\n    justify-content: center;\n    min-height: 100%;\n    outline: none;\n    width: 100%;\n\n    -webkit-tap-highlight-color: rgba(0,0,0,0);\n    bottom: 0;\n    left: 0;\n    right: 0;\n    top: 0;\n}\n\n.wui-message--success {\n    --wui-message-bg-color: #f0f9eb;\n    --wui-message-border-color: #e1f3d8;\n    --wui-message-text-color: #67c23a;\n}\n.wui-message--warning {\n    --wui-message-bg-color: #fdf6ec;\n    --wui-message-border-color: #faecd8;\n    --wui-message-text-color: #e6a23c;\n}\n.wui-message--info {\n    --wui-message-bg-color: #f4f4f5;\n    --wui-message-border-color: #e9e9eb;\n    --wui-message-text-color: #909399;\n}\n.wui-message--error {\n    --wui-message-bg-color: #fef0f0;\n    --wui-message-border-color: #fde2e2;\n    --wui-message-text-color: #f56c6c;\n}\n\n@keyframes msg-open {\n    0% {\n        opacity: 0;\n        -webkit-transform: translateY(-120%);\n        transform: translateY(-120%)\n    }\n    to {\n        -webkit-transform: translateY(0);\n        transform: translateY(0)\n    }\n}\n\n@keyframes msg-close {\n    0% {\n        opacity: 1;\n        -webkit-transform: scale(1);\n        transform: scale(1)\n    }\n    to {\n        opacity: 0;\n        -webkit-transform: scale(.9);\n        transform: scale(.9)\n    }\n}\n.wui-message[data-state=entered],.wui-message[data-state=entering] {\n    -webkit-animation: msg-open .24s cubic-bezier(.175,.885,.32,1.175) both;\n    animation: msg-open .24s cubic-bezier(.175,.885,.32,1.175) both\n}\n\n.wui-message[data-state=exiting] {\n    -webkit-animation: msg-close .12s cubic-bezier(.4,0,1,1) both;\n    animation: msg-close .12s cubic-bezier(.4,0,1,1) both\n}\n\n.wui-message {\n    width: -webkit-fit-content;\n    width: -moz-fit-content;\n    width: fit-content;\n    z-index: 2004;\n    max-width: calc(100% - 32px);\n    margin-top: 8px;\n    box-sizing: border-box;\n    /*border-radius: var(--wui-border-radius-base);*/\n    /*border-width: var(--wui-border-width);*/\n    /*border-style: var(--wui-border-style);*/\n    border-color: var(--wui-message-border-color);\n    /*left: 50%;*/\n    /*top: 20px;*/\n    /*transform: translateX(-50%);*/\n    background-color: var(--wui-message-bg-color);\n    /*transition: opacity var(--wui-transition-duration),transform .4s,top .4s;*/\n    /*padding: var(--wui-message-padding);*/\n    display: flex;\n    align-items: center;\n}\n\n/*.wui-message--success */\n.wui-message__content {\n    color: var(--wui-message-text-color);\n    font-size: 14px;\n    line-height: 18px;\n    margin: 10px 14px 10px 14px;\n    overflow-wrap: break-word;\n}\n\n.wui-message__closeBtn {\n    /*cursor: pointer;*/\n    font-style: normal;\n    /*color: gray;*/\n    padding-right: 14px;\n    /*font-size: 13px;*/\n    user-select: none;\n\n    background: transparent;\n    border: none;\n    color: gray;\n    cursor: pointer;\n    font-size: 13px;\n    font-weight: 400;\n    line-height: 1;\n    outline: none;\n    /*padding: 4px;*/\n    text-align: center;\n    transition: opacity .3s;\n    /*width: 100%;*/\n}",
       "_esm": "function closeMsg(msgDom) {\n  if (!msgDom) {\n    return;\n  }\n  msgDom.setAttribute('data-state', 'exiting');\n  msgDom.remove();\n}\n\nfunction createMsg(options) {\n  const {message, msg_id, type = 'info', show_close = false} = options;\n  const msgDom = document.createElement('div');\n  msgDom.className += ` wui-message--${type} wui-message`;\n  msgDom.setAttribute('data-state', 'entered');\n  msgDom.setAttribute('id', msg_id);\n  const msgContent = document.createElement('p');\n  msgContent.className += ` wui-message--${type} wui-message__content`;\n  msgContent.innerText = message;\n  msgDom.appendChild(msgContent);\n  if (show_close) {\n    const closeBtn = document.createElement('i');\n    closeBtn.className += 'wui-message__closeBtn';\n    closeBtn.innerText = 'x';\n    closeBtn.addEventListener('click', (ev) => {\n      closeMsg(msgDom);\n    })\n    msgDom.appendChild(closeBtn);\n  }\n  return msgDom;\n}\n\nexport async function render(view) {\n  let model = view.model;\n  const msgRoot = view.el;\n  msgRoot.className += ' wui-message-root'\n\n  const msgContainer = document.createElement('div');\n  msgContainer.className += ' wui-message-container';\n  msgRoot.appendChild(msgContainer)\n\n  model.on(\"change:message_options\", () => {\n    const options = model.get(\"message_options\");\n    const msg = createMsg(options);\n    msgContainer.appendChild(msg);\n    const {duration = 3000} = options;\n    if (duration > 0) {\n      setTimeout(() => {\n        closeMsg(msg)\n      }, duration);\n    }\n  })\n\n  model.on(\"change:close_msg_id\", () => {\n    const msg_id = model.get(\"close_msg_id\");\n    const msgDom = document.getElementById(msg_id);\n    closeMsg(msgDom);\n  })\n}\n",
       "_model_module": "anywidget",
       "_model_module_version": "~0.9.*",
       "_model_name": "AnyModel",
       "_view_module": "anywidget",
       "_view_module_version": "~0.9.*",
       "_view_name": "AnyView",
       "close_msg_id": "",
       "layout": "IPY_MODEL_8069852d5d964896afe90562a2ca0dae",
       "message_options": {
        "duration": 3000,
        "message": "",
        "show_close": false,
        "type": "info"
       }
      }
     },
     "96dfb159ab534930987912632ed61612": {
      "model_module": "jupyter-leaflet",
      "model_module_version": "^0.19",
      "model_name": "LeafletAttributionControlModel",
      "state": {
       "_model_module_version": "^0.19",
       "_view_module_version": "^0.19",
       "options": [
        "position",
        "prefix"
       ],
       "position": "bottomright",
       "prefix": "ipyleaflet"
      }
     },
     "978db344a381445992af6c5dc93fc000": {
      "model_module": "jupyter-leaflet",
      "model_module_version": "^0.19",
      "model_name": "LeafletAttributionControlModel",
      "state": {
       "_model_module_version": "^0.19",
       "_view_module_version": "^0.19",
       "options": [
        "position",
        "prefix"
       ],
       "position": "bottomright",
       "prefix": "ipyleaflet"
      }
     },
     "9a9933a2d3a94fe3ad38524665afd125": {
      "model_module": "jupyter-leaflet",
      "model_module_version": "^0.19",
      "model_name": "LeafletMapModel",
      "state": {
       "_model_module_version": "^0.19",
       "_view_module_version": "^0.19",
       "bottom": 1773,
       "center": [
        38.491,
        -95.712
       ],
       "controls": [
        "IPY_MODEL_e02eb534a46046a8bbcc15ca789510b4",
        "IPY_MODEL_978db344a381445992af6c5dc93fc000",
        "IPY_MODEL_ba0e93a3f04647d5943183d9a67cec1f"
       ],
       "default_style": "IPY_MODEL_1267c2a74c224ba38458a59d485a0cf4",
       "dragging_style": "IPY_MODEL_5a2c289b34bf4e7fb8035e542983a90b",
       "east": -51.85546875000001,
       "fullscreen": false,
       "interpolation": "bilinear",
       "layers": [
        "IPY_MODEL_09e9cf10a4e04ef6a69c0ebaeb26fb3e",
        "IPY_MODEL_5fc09ed69d544f058c6e482bb67503c8"
       ],
       "layout": "IPY_MODEL_88908265ee4e409da58e41abba730e4d",
       "left": 460,
       "modisdate": "2025-04-05",
       "north": 50.90303283111257,
       "options": [
        "bounce_at_zoom_limits",
        "box_zoom",
        "center",
        "close_popup_on_click",
        "double_click_zoom",
        "dragging",
        "fullscreen",
        "inertia",
        "inertia_deceleration",
        "inertia_max_speed",
        "interpolation",
        "keyboard",
        "keyboard_pan_offset",
        "keyboard_zoom_offset",
        "max_zoom",
        "min_zoom",
        "prefer_canvas",
        "scroll_wheel_zoom",
        "tap",
        "tap_tolerance",
        "touch_zoom",
        "world_copy_jump",
        "zoom",
        "zoom_animation_threshold",
        "zoom_delta",
        "zoom_snap"
       ],
       "prefer_canvas": false,
       "right": 1458,
       "south": 23.483400654325642,
       "style": "IPY_MODEL_a7d8a978e5f94f129f98a48b7554e441",
       "top": 1373,
       "west": -139.57031250000003,
       "window_url": "http://localhost:2071/lab/tree/nb_llm/pyvue/examples/vleaflet/layers/WMS%20Layer.ipynb",
       "zoom": 4
      }
     },
     "a44063197ade4785868e8077791aa4b0": {
      "model_module": "@jupyter-widgets/controls",
      "model_module_version": "2.0.0",
      "model_name": "VBoxModel",
      "state": {
       "children": [
        "IPY_MODEL_cd935698e85849aa952c0dac83154e58"
       ],
       "layout": "IPY_MODEL_1dfa92c5dc9847ab9ea93fe447facbac"
      }
     },
     "a58233ec23de4aa3a2c20e94e3744a2c": {
      "model_module": "@jupyter-widgets/base",
      "model_module_version": "2.0.0",
      "model_name": "LayoutModel",
      "state": {}
     },
     "a7d8a978e5f94f129f98a48b7554e441": {
      "model_module": "jupyter-leaflet",
      "model_module_version": "^0.19",
      "model_name": "LeafletMapStyleModel",
      "state": {
       "_model_module_version": "^0.19"
      }
     },
     "b0f1eaf5b8b546f6944ae39463ed4f2f": {
      "model_module": "jupyter-leaflet",
      "model_module_version": "^0.19",
      "model_name": "LeafletMapStyleModel",
      "state": {
       "_model_module_version": "^0.19",
       "cursor": "move"
      }
     },
     "b530a04f057f41019e68217bfaf7b2b3": {
      "model_module": "@jupyter-widgets/base",
      "model_module_version": "2.0.0",
      "model_name": "LayoutModel",
      "state": {}
     },
     "ba0e93a3f04647d5943183d9a67cec1f": {
      "model_module": "jupyter-leaflet",
      "model_module_version": "^0.19",
      "model_name": "LeafletLayersControlModel",
      "state": {
       "_model_module_version": "^0.19",
       "_view_module_version": "^0.19",
       "collapsed": false,
       "options": [
        "collapsed",
        "position"
       ]
      }
     },
     "baf87ce3cd7841ec9f247af8a8ef456c": {
      "model_module": "@jupyter-widgets/controls",
      "model_module_version": "2.0.0",
      "model_name": "VBoxModel",
      "state": {
       "children": [
        "IPY_MODEL_3de0129360de42e29ca27e8a8f4c6fdd"
       ],
       "layout": "IPY_MODEL_21dbd60f32884fefb96a542d15c3f3d2"
      }
     },
     "c1cfba49a0ea49e4838a28a860da7016": {
      "model_module": "jupyter-leaflet",
      "model_module_version": "^0.19",
      "model_name": "LeafletMapModel",
      "state": {
       "_model_module_version": "^0.19",
       "_view_module_version": "^0.19",
       "bottom": 1773,
       "center": [
        38.491,
        -95.712
       ],
       "controls": [
        "IPY_MODEL_4898054067fc4fadb4113c9ec27c7656",
        "IPY_MODEL_e79a31f0a607419f83010b0751b9fb90",
        "IPY_MODEL_4d75d1b8f00a44eeb559d6c755f44d1e"
       ],
       "default_style": "IPY_MODEL_0a162ef623204b8ba239c67f681c7bce",
       "dragging_style": "IPY_MODEL_126222e1fc0a4d0c9c56d6b9f81e5f5f",
       "east": -51.85546875000001,
       "fullscreen": false,
       "interpolation": "bilinear",
       "layers": [
        "IPY_MODEL_5c0d54130b244169b0c7ca8c862626f2",
        "IPY_MODEL_cd935698e85849aa952c0dac83154e58"
       ],
       "layout": "IPY_MODEL_323d0f1bc9254dcf9567faf80b83df96",
       "left": 460,
       "modisdate": "2025-04-05",
       "north": 50.90303283111257,
       "options": [
        "bounce_at_zoom_limits",
        "box_zoom",
        "center",
        "close_popup_on_click",
        "double_click_zoom",
        "dragging",
        "fullscreen",
        "inertia",
        "inertia_deceleration",
        "inertia_max_speed",
        "interpolation",
        "keyboard",
        "keyboard_pan_offset",
        "keyboard_zoom_offset",
        "max_zoom",
        "min_zoom",
        "prefer_canvas",
        "scroll_wheel_zoom",
        "tap",
        "tap_tolerance",
        "touch_zoom",
        "world_copy_jump",
        "zoom",
        "zoom_animation_threshold",
        "zoom_delta",
        "zoom_snap"
       ],
       "prefer_canvas": false,
       "right": 1458,
       "south": 23.483400654325642,
       "style": "IPY_MODEL_ebadde88f9ec4e5eb70cec0f3dda6434",
       "top": 1373,
       "west": -139.57031250000003,
       "window_url": "http://localhost:2071/lab/tree/nb_llm/pyvue/examples/vleaflet/layers/WMS%20Layer.ipynb",
       "zoom": 4
      }
     },
     "c4538746761541308f28ec0438d46c4d": {
      "model_module": "jupyter-leaflet",
      "model_module_version": "^0.19",
      "model_name": "LeafletZoomControlModel",
      "state": {
       "_model_module_version": "^0.19",
       "_view_module_version": "^0.19",
       "options": [
        "position",
        "zoom_in_text",
        "zoom_in_title",
        "zoom_out_text",
        "zoom_out_title"
       ]
      }
     },
     "c4d0a6bbd8084bf88837e84ca8283651": {
      "model_module": "jupyter-leaflet",
      "model_module_version": "^0.19",
      "model_name": "LeafletMapStyleModel",
      "state": {
       "_model_module_version": "^0.19"
      }
     },
     "cb426c37ef6544d49da61052ca332fb8": {
      "model_module": "@jupyter-widgets/base",
      "model_module_version": "2.0.0",
      "model_name": "LayoutModel",
      "state": {}
     },
     "cce4be2534374e729995b30fa84cbc8b": {
      "model_module": "@jupyter-widgets/base",
      "model_module_version": "2.0.0",
      "model_name": "LayoutModel",
      "state": {}
     },
     "cd935698e85849aa952c0dac83154e58": {
      "model_module": "jupyter-leaflet",
      "model_module_version": "^0.19",
      "model_name": "LeafletWMSLayerModel",
      "state": {
       "_model_module_version": "^0.19",
       "_view_module_version": "^0.19",
       "crs": {
        "custom": false,
        "name": "EPSG3857"
       },
       "format": "image/png",
       "layers": "nexrad-n0r-900913",
       "name": "World Street",
       "options": [
        "attribution",
        "bounds",
        "detect_retina",
        "format",
        "layers",
        "max_native_zoom",
        "max_zoom",
        "min_native_zoom",
        "min_zoom",
        "no_wrap",
        "styles",
        "tile_size",
        "tms",
        "transparent",
        "uppercase",
        "zoom_offset"
       ],
       "url": "http://mesonet.agron.iastate.edu/cgi-bin/wms/nexrad/n0r.cgi"
      }
     },
     "cfb7d10526c343d4bafef79d9da89828": {
      "model_module": "jupyter-leaflet",
      "model_module_version": "^0.19",
      "model_name": "LeafletLayersControlModel",
      "state": {
       "_model_module_version": "^0.19",
       "_view_module_version": "^0.19",
       "collapsed": false,
       "options": [
        "collapsed",
        "position"
       ]
      }
     },
     "d3f7777670ce4e0fa890e3c1c243299e": {
      "model_module": "@jupyter-widgets/controls",
      "model_module_version": "2.0.0",
      "model_name": "VBoxModel",
      "state": {
       "children": [
        "IPY_MODEL_0408f47dc3114b86940f93370ea99fb9",
        "IPY_MODEL_8d7a0d2039eb44d294e376f9b0e5e4ee"
       ],
       "layout": "IPY_MODEL_e83fa379ab994512a964374b788e4183"
      }
     },
     "d8c9faf13c54405987155a3251924095": {
      "model_module": "@jupyter-widgets/controls",
      "model_module_version": "2.0.0",
      "model_name": "VBoxModel",
      "state": {
       "children": [
        "IPY_MODEL_5dbdf33d2dfd4a9b8ca3709221a34ec1",
        "IPY_MODEL_0b5c5fe9a2274ca08c52956cee3caace"
       ],
       "layout": "IPY_MODEL_334013fcd8de49dc8af3cf50afeab8f4"
      }
     },
     "de2e68dae9564487a59d1cbaa1bfe9f7": {
      "model_module": "@jupyter-widgets/base",
      "model_module_version": "2.0.0",
      "model_name": "LayoutModel",
      "state": {}
     },
     "decc1ddd2ba645d988c092523e63a05d": {
      "model_module": "@jupyter-widgets/controls",
      "model_module_version": "2.0.0",
      "model_name": "VBoxModel",
      "state": {
       "children": [
        "IPY_MODEL_0bf431df501c441688c7c9312c860092"
       ],
       "layout": "IPY_MODEL_df3553409eb545e2bbdd8204595c57c3"
      }
     },
     "df3553409eb545e2bbdd8204595c57c3": {
      "model_module": "@jupyter-widgets/base",
      "model_module_version": "2.0.0",
      "model_name": "LayoutModel",
      "state": {}
     },
     "df9a0b599c694ec3a473690a0587f318": {
      "model_module": "jupyter-leaflet",
      "model_module_version": "^0.19",
      "model_name": "LeafletZoomControlModel",
      "state": {
       "_model_module_version": "^0.19",
       "_view_module_version": "^0.19",
       "options": [
        "position",
        "zoom_in_text",
        "zoom_in_title",
        "zoom_out_text",
        "zoom_out_title"
       ]
      }
     },
     "e02eb534a46046a8bbcc15ca789510b4": {
      "model_module": "jupyter-leaflet",
      "model_module_version": "^0.19",
      "model_name": "LeafletZoomControlModel",
      "state": {
       "_model_module_version": "^0.19",
       "_view_module_version": "^0.19",
       "options": [
        "position",
        "zoom_in_text",
        "zoom_in_title",
        "zoom_out_text",
        "zoom_out_title"
       ]
      }
     },
     "e79a31f0a607419f83010b0751b9fb90": {
      "model_module": "jupyter-leaflet",
      "model_module_version": "^0.19",
      "model_name": "LeafletAttributionControlModel",
      "state": {
       "_model_module_version": "^0.19",
       "_view_module_version": "^0.19",
       "options": [
        "position",
        "prefix"
       ],
       "position": "bottomright",
       "prefix": "ipyleaflet"
      }
     },
     "e83fa379ab994512a964374b788e4183": {
      "model_module": "@jupyter-widgets/base",
      "model_module_version": "2.0.0",
      "model_name": "LayoutModel",
      "state": {}
     },
     "eb29d02138e14f349913fa812ff26d28": {
      "model_module": "jupyter-leaflet",
      "model_module_version": "^0.19",
      "model_name": "LeafletTileLayerModel",
      "state": {
       "_model_module_version": "^0.19",
       "_view_module_version": "^0.19",
       "attribution": "&copy; <a href=\"https://www.openstreetmap.org/copyright\">OpenStreetMap</a> contributors &copy; <a href=\"https://carto.com/attributions\">CARTO</a>",
       "base": true,
       "max_zoom": 20,
       "min_zoom": 1,
       "name": "CartoDB.Positron",
       "options": [
        "attribution",
        "bounds",
        "detect_retina",
        "max_native_zoom",
        "max_zoom",
        "min_native_zoom",
        "min_zoom",
        "no_wrap",
        "tile_size",
        "tms",
        "zoom_offset"
       ],
       "url": "https://a.basemaps.cartocdn.com/light_all/{z}/{x}/{y}.png"
      }
     },
     "ebadde88f9ec4e5eb70cec0f3dda6434": {
      "model_module": "jupyter-leaflet",
      "model_module_version": "^0.19",
      "model_name": "LeafletMapStyleModel",
      "state": {
       "_model_module_version": "^0.19"
      }
     },
     "eca081cae05d4d538600890fb364340b": {
      "model_module": "@jupyter-widgets/base",
      "model_module_version": "2.0.0",
      "model_name": "LayoutModel",
      "state": {}
     },
     "f02f3b6756b649dd8264952decc52378": {
      "model_module": "@jupyter-widgets/controls",
      "model_module_version": "2.0.0",
      "model_name": "VBoxModel",
      "state": {
       "children": [
        "IPY_MODEL_ba0e93a3f04647d5943183d9a67cec1f"
       ],
       "layout": "IPY_MODEL_155d66af833e4919818c8814c16eb2c1"
      }
     },
     "f5adfcd47dd44ea5a52f2df59993884c": {
      "model_module": "jupyter-leaflet",
      "model_module_version": "^0.19",
      "model_name": "LeafletLayersControlModel",
      "state": {
       "_model_module_version": "^0.19",
       "_view_module_version": "^0.19",
       "collapsed": false,
       "options": [
        "collapsed",
        "position"
       ]
      }
     },
     "f752eea1455044abba0a2b7074d9d83e": {
      "model_module": "@jupyter-widgets/controls",
      "model_module_version": "2.0.0",
      "model_name": "VBoxModel",
      "state": {
       "children": [
        "IPY_MODEL_d8c9faf13c54405987155a3251924095"
       ],
       "layout": "IPY_MODEL_fa8d35a1b5334e79bb2edcec2a6967e4"
      }
     },
     "f85f96a0096d425286731cc931375721": {
      "model_module": "@jupyter-widgets/output",
      "model_module_version": "1.0.0",
      "model_name": "OutputModel",
      "state": {
       "layout": "IPY_MODEL_4b3b4d38311e47628033b9bd486a2924",
       "outputs": [
        {
         "name": "stdout",
         "output_type": "stream",
         "text": "2025-04-06 21:37:30,653 [INFO] api_create_app.py:render:126 - App render end.\n"
        },
        {
         "name": "stdout",
         "output_type": "stream",
         "text": "2025-04-06 21:37:30,646 [INFO] sfc_codegen.py:render:165 - 🔥 Rerender SFC<__tmp_for_str.vue> at 4424983328\n"
        },
        {
         "name": "stdout",
         "output_type": "stream",
         "text": "2025-04-06 21:37:30,645 [INFO] api_create_app.py:render:116 - App render start.\n"
        },
        {
         "name": "stdout",
         "output_type": "stream",
         "text": "2025-04-06 21:36:51,719 [INFO] api_create_app.py:render:126 - App render end.\n"
        },
        {
         "name": "stdout",
         "output_type": "stream",
         "text": "2025-04-06 21:36:51,712 [INFO] sfc_codegen.py:render:165 - 🔥 Rerender SFC<__tmp_for_str.vue> at 4424802000\n"
        },
        {
         "name": "stdout",
         "output_type": "stream",
         "text": "2025-04-06 21:36:51,711 [INFO] api_create_app.py:render:116 - App render start.\n"
        },
        {
         "name": "stdout",
         "output_type": "stream",
         "text": "2025-04-06 21:35:39,819 [INFO] api_create_app.py:render:126 - App render end.\n"
        },
        {
         "name": "stdout",
         "output_type": "stream",
         "text": "2025-04-06 21:35:39,814 [INFO] sfc_codegen.py:render:165 - 🔥 Rerender SFC<__tmp_for_str.vue> at 4424799504\n"
        },
        {
         "name": "stdout",
         "output_type": "stream",
         "text": "2025-04-06 21:35:39,813 [INFO] api_create_app.py:render:116 - App render start.\n"
        },
        {
         "name": "stdout",
         "output_type": "stream",
         "text": "2025-04-06 21:35:04,270 [INFO] api_create_app.py:render:126 - App render end.\n"
        },
        {
         "name": "stdout",
         "output_type": "stream",
         "text": "2025-04-06 21:35:04,240 [INFO] sfc_codegen.py:render:165 - 🔥 Rerender SFC<__tmp_for_str.vue> at 4415616624\n"
        },
        {
         "name": "stdout",
         "output_type": "stream",
         "text": "2025-04-06 21:35:04,240 [INFO] api_create_app.py:render:116 - App render start.\n"
        }
       ]
      }
     },
     "f993f8edb64e4a09bd237fe6790bc2c7": {
      "model_module": "@jupyter-widgets/controls",
      "model_module_version": "2.0.0",
      "model_name": "VBoxModel",
      "state": {
       "children": [
        "IPY_MODEL_5fc09ed69d544f058c6e482bb67503c8"
       ],
       "layout": "IPY_MODEL_34e43733e0a34e19a9a103ce1f92c108"
      }
     },
     "fa8d35a1b5334e79bb2edcec2a6967e4": {
      "model_module": "@jupyter-widgets/base",
      "model_module_version": "2.0.0",
      "model_name": "LayoutModel",
      "state": {}
     },
     "fffd5f6b8dc4498ea3f99a410ddf0c60": {
      "model_module": "@jupyter-widgets/controls",
      "model_module_version": "2.0.0",
      "model_name": "VBoxModel",
      "state": {
       "children": [
        "IPY_MODEL_957d6e0bd9ee4c3a92c37d1bc818101d",
        "IPY_MODEL_5362e95a2e6347829a359e6ff81931ba"
       ],
       "layout": "IPY_MODEL_34fdfe086ff64ba1b3118a104bdbadc2"
      }
     }
    },
    "version_major": 2,
    "version_minor": 0
   }
  }
 },
 "nbformat": 4,
 "nbformat_minor": 5
}
