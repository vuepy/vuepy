{
 "cells": [
  {
   "cell_type": "markdown",
   "id": "a1e2fa29-7566-4426-be1e-a750658d83a5",
   "metadata": {},
   "source": [
    "# Map\n"
   ]
  },
  {
   "cell_type": "markdown",
   "id": "7cdc5e8c-2aa8-41d1-9461-3e451f6ef6ea",
   "metadata": {},
   "source": [
    "## 基础用法\n"
   ]
  },
  {
   "cell_type": "code",
   "execution_count": 1,
   "id": "f5928b17-e8c8-47b0-9774-a8bb1f7e6af3",
   "metadata": {},
   "outputs": [],
   "source": [
    "import os\n",
    "import pathlib\n",
    "from vuepy.utils import magic\n",
    "from vleaflet import leaflet\n",
    "%load_ext vuepy"
   ]
  },
  {
   "cell_type": "code",
   "execution_count": 2,
   "id": "13ebc5e0-006a-4330-b13f-7c88b0bde66b",
   "metadata": {},
   "outputs": [
    {
     "name": "stdout",
     "output_type": "stream",
     "text": [
      "{\"vue\": \"<template>\\n  <Slider v-model=\\\"zoom.value\\\" description='zoom' :min=3 :max=13 />\\n  <p>zoom: {{ zoom.value }}, center: {{ center.value }}</p>\\n\\n  <vl-map\\n    v-model:center=\\\"center.value\\\"\\n    v-model:zoom=\\\"zoom.value\\\"\\n    :zoom-control='False'\\n    :scroll-wheel-zoom='True'\\n    :keyboard=\\\"True\\\"\\n    :basemap=\\\"basemaps.Esri.WorldTopoMap\\\"\\n    style='width: 90%; height: 500px; border: 1px solid red;'\\n    ref=m\\n  >\\n    <template #controls>\\n      <vl-zoom-control position='topleft'/>\\n    </template>\\n    <template #layers>\\n        <vl-marker name='marker' :location='[53, 354]'/>\\n    </template>\\n  </vl-map>\\n</template>\\n<script lang='py'>\\nfrom ipyleaflet import basemaps, Marker\\nfrom vuepy import ref\\n\\nm = ref(None)\\nzoom = ref(5)\\ncenter = ref((53, 354))\\n\\n</script>\\n\", \"setup\": \"\"}\n"
     ]
    },
    {
     "data": {
      "application/vnd.jupyter.widget-view+json": {
       "model_id": "7a79f17c528d48708bca0377a4bb79a9",
       "version_major": 2,
       "version_minor": 0
      },
      "text/plain": [
       "Document(children=(Dom(children=(MessageWidget(message_options={'message': '', 'type': 'info', 'show_close': F…"
      ]
     },
     "execution_count": 2,
     "metadata": {},
     "output_type": "execute_result"
    }
   ],
   "source": [
    "%%vuepy_run --plugins leaflet --show-code\n",
    "<template>\n",
    "  <Slider v-model=\"zoom.value\" description='zoom' :min=3 :max=13 />\n",
    "  <p>zoom: {{ zoom.value }}, center: {{ center.value }}</p>\n",
    "\n",
    "  <vl-map\n",
    "    v-model:center=\"center.value\"\n",
    "    v-model:zoom=\"zoom.value\"\n",
    "    :zoom-control='False'\n",
    "    :scroll-wheel-zoom='True'\n",
    "    :keyboard=\"True\"\n",
    "    :basemap=\"basemaps.Esri.WorldTopoMap\"\n",
    "    style='width: 90%; height: 500px; border: 1px solid red;'\n",
    "    ref=m\n",
    "  >\n",
    "    <template #controls>\n",
    "      <vl-zoom-control position='topleft'/>\n",
    "    </template>\n",
    "    <template #layers>\n",
    "        <vl-marker name='marker' :location='[53, 354]'/>\n",
    "    </template>\n",
    "  </vl-map>\n",
    "</template>\n",
    "<script lang='py'>\n",
    "from ipyleaflet import basemaps, Marker\n",
    "from vuepy import ref\n",
    "\n",
    "m = ref(None)\n",
    "zoom = ref(5)\n",
    "center = ref((53, 354))\n",
    "\n",
    "</script>"
   ]
  },
  {
   "cell_type": "markdown",
   "id": "8685d144-029f-4afa-8547-4f3d84529504",
   "metadata": {},
   "source": [
    "## API\n",
    "\n",
    "### 属性\n",
    "\n",
    "| 属性名 | 说明 | 类型 | 默认值 |\n",
    "|--------|------|------|--------|\n",
    "| v-model:center | 地图中心点 | ^[Array]`[number, number]` | [0, 0] |\n",
    "| v-model:zoom | 地图缩放级别 | ^[number] | 12 |\n",
    "| max_zoom | 最大缩放级别 | ^[number] | null |\n",
    "| min_zoom | 最小缩放级别 | ^[number] | null |\n",
    "| zoom_snap | 缩放步长 | ^[number] | 1 |\n",
    "| zoom_delta | 缩放增量 | ^[number] | 1 |\n",
    "| crs | 坐标参考系统 | ^[enum]`'Earth'\\|'EPSG3395'\\|'EPSG3857'\\|'EPSG4326'\\|'Base'\\|'Simple'` | 'EPSG3857' |\n",
    "| dragging | 是否可拖动 | ^[boolean] | true |\n",
    "| touch_zoom | 是否支持触摸缩放 | ^[boolean] | true |\n",
    "| scroll_wheel_zoom | 是否支持滚轮缩放 | ^[boolean] | false |\n",
    "| double_click_zoom | 是否支持双击缩放 | ^[boolean] | true |\n",
    "| box_zoom | 是否支持框选缩放 | ^[boolean] | true |\n",
    "| tap | 是否启用移动端点击支持 | ^[boolean] | true |\n",
    "| tap_tolerance | 触摸容差 | ^[number] | 15 |\n",
    "| world_copy_jump | 是否支持世界复制跳转 | ^[boolean] | false |\n",
    "| close_popup_on_click | 点击地图时是否关闭弹窗 | ^[boolean] | true |\n",
    "| bounce_at_zoom_limits | 是否在缩放限制时反弹 | ^[boolean] | true |\n",
    "| keyboard | 是否支持键盘控制 | ^[boolean] | true |\n",
    "| keyboard_pan_offset | 键盘平移偏移量 | ^[number] | 80 |\n",
    "| keyboard_zoom_offset | 键盘缩放偏移量 | ^[number] | 1 |\n",
    "| inertia | 是否启用惯性效果 | ^[boolean] | true |\n",
    "| inertia_deceleration | 惯性减速率 | ^[number] | 3000 |\n",
    "| inertia_max_speed | 最大惯性速度 | ^[number] | 1500 |\n",
    "| zoom_control | 是否显示缩放控件 | ^[boolean] | true |\n",
    "| attribution_control | 是否显示属性控件 | ^[boolean] | true |\n",
    "| zoom_animation_threshold | 缩放动画阈值 | ^[number] | 4 |\n",
    "| basemap | 底图样式 | ^[object] | {} |\n",
    "| style | 自定义样式 | ^[string] | '' |\n",
    "\n",
    "### 方法\n",
    "\n",
    "| 方法名 | 说明 | 类型 |\n",
    "|--------|------|------|\n",
    "| add | 添加图层或控件 | `(item: any, index?: number) => void` |\n",
    "| clear | 清除所有图层和控件 | `() => void` |\n",
    "| fit_bounds | 设置地图视图以包含给定的地理边界 | `(bounds: any) => void` |\n",
    "| remove | 移除图层或控件 | `(item: any) => void` |\n",
    "| save | 将地图保存为HTML文件 | `(outfile: string, title: string) => void` |\n",
    "| substitute | 替换地图上的图层或控件 | `(old: any, new_: any) => void` |\n",
    "\n",
    "### Slots\n",
    "\n",
    "| 插槽名 | 说明 |\n",
    "|--------|------|\n",
    "| layers | 地图图层插槽 |\n",
    "| controls | 地图控件插槽 |\n",
    "\n",
    "### Events\n",
    "\n",
    "| 事件名 | 说明                  | 类型                                   |\n",
    "| ---   | ---                  | ---                                    |\n"
   ]
  },
  {
   "cell_type": "code",
   "execution_count": null,
   "id": "3ee45f9e-a204-4dc8-bc17-67673c1bc23c",
   "metadata": {},
   "outputs": [],
   "source": []
  }
 ],
 "metadata": {
  "kernelspec": {
   "display_name": "Python 3 (ipykernel)",
   "language": "python",
   "name": "python3"
  },
  "language_info": {
   "codemirror_mode": {
    "name": "ipython",
    "version": 3
   },
   "file_extension": ".py",
   "mimetype": "text/x-python",
   "name": "python",
   "nbconvert_exporter": "python",
   "pygments_lexer": "ipython3",
   "version": "3.10.12"
  },
  "widgets": {
   "application/vnd.jupyter.widget-state+json": {
    "state": {
     "12afb26d60a84167b6cb5cee25d5a58a": {
      "model_module": "@jupyter-widgets/base",
      "model_module_version": "2.0.0",
      "model_name": "LayoutModel",
      "state": {}
     },
     "19696f75b5984d1287ec7366f33f9427": {
      "model_module": "jupyter-leaflet",
      "model_module_version": "^0.19",
      "model_name": "LeafletMarkerModel",
      "state": {
       "_model_module_version": "^0.19",
       "_view_module_version": "^0.19",
       "location": [
        53,
        354
       ],
       "name": "marker",
       "options": [
        "alt",
        "draggable",
        "keyboard",
        "rise_offset",
        "rise_on_hover",
        "rotation_angle",
        "rotation_origin",
        "title",
        "z_index_offset"
       ]
      }
     },
     "20e9d41757174cad9e0e55d85b2ffd5f": {
      "model_module": "@jupyter-widgets/controls",
      "model_module_version": "2.0.0",
      "model_name": "VBoxModel",
      "state": {
       "children": [
        "IPY_MODEL_46d0e59e8c024058a1eeebb9b5be50b0"
       ],
       "layout": "IPY_MODEL_e4b00ef68d9148bdb595bd300165fa9f"
      }
     },
     "3174716a63e847319adc854cd5d65c5d": {
      "model_module": "@jupyter-widgets/controls",
      "model_module_version": "2.0.0",
      "model_name": "VBoxModel",
      "state": {
       "children": [
        "IPY_MODEL_bcf8f6bf32fb4baf863b2f0a97862871",
        "IPY_MODEL_20e9d41757174cad9e0e55d85b2ffd5f"
       ],
       "layout": "IPY_MODEL_6b676750cf944650a131ad867b11c6ac"
      }
     },
     "3a0f6fb3258445f2964d2ec767404160": {
      "model_module": "@jupyter-widgets/base",
      "model_module_version": "2.0.0",
      "model_name": "LayoutModel",
      "state": {}
     },
     "42ff8ca10960493291f0ec1b98e34005": {
      "model_module": "@jupyter-widgets/base",
      "model_module_version": "2.0.0",
      "model_name": "LayoutModel",
      "state": {}
     },
     "46d0e59e8c024058a1eeebb9b5be50b0": {
      "model_module": "@jupyter-widgets/controls",
      "model_module_version": "2.0.0",
      "model_name": "VBoxModel",
      "state": {
       "children": [
        "IPY_MODEL_a736d03e21224e48ab131ff6604e9604",
        "IPY_MODEL_5a81ad52973c426abd959e002090bab7",
        "IPY_MODEL_a1af1bd62db94fae861b6993c9fe131f"
       ],
       "layout": "IPY_MODEL_3a0f6fb3258445f2964d2ec767404160"
      }
     },
     "491faf9f7ea046f7a73ad70edb82fdb2": {
      "model_module": "@jupyter-widgets/controls",
      "model_module_version": "2.0.0",
      "model_name": "VBoxModel",
      "state": {
       "children": [
        "IPY_MODEL_b7dfbcaa206b4e399a39fc12f5cd0526"
       ],
       "layout": "IPY_MODEL_d1a1157c301f4e24a0785445bb70c71c"
      }
     },
     "4a11556311af40588f0e163fbb2a67c8": {
      "model_module": "@jupyter-widgets/base",
      "model_module_version": "2.0.0",
      "model_name": "LayoutModel",
      "state": {}
     },
     "4b1e933efbeb491dbac0e847c57b4efd": {
      "model_module": "jupyter-leaflet",
      "model_module_version": "^0.19",
      "model_name": "LeafletMapStyleModel",
      "state": {
       "_model_module_version": "^0.19"
      }
     },
     "4c725140020643fea4bf56110bfebc49": {
      "model_module": "@jupyter-widgets/base",
      "model_module_version": "2.0.0",
      "model_name": "LayoutModel",
      "state": {
       "border_bottom": "1px solid red",
       "border_left": "1px solid red",
       "border_right": "1px solid red",
       "border_top": "1px solid red",
       "height": "500px",
       "width": "90%"
      }
     },
     "4ebb3855025e4cb886e12e458610a396": {
      "model_module": "anywidget",
      "model_module_version": "~0.9.*",
      "model_name": "AnyModel",
      "state": {
       "_anywidget_id": "ipywui.widgets.custom.message.MessageWidget",
       "_css": ".wui-message-root {\n    display: flex;\n    position: absolute;\n    left: 0;\n    right: 0;\n    top: 0;\n}\n\n.wui-message-container {\n    align-items: center;\n    display: flex;\n    flex-direction: column-reverse;\n    justify-content: center;\n    min-height: 100%;\n    outline: none;\n    width: 100%;\n\n    -webkit-tap-highlight-color: rgba(0,0,0,0);\n    bottom: 0;\n    left: 0;\n    right: 0;\n    top: 0;\n}\n\n.wui-message--success {\n    --wui-message-bg-color: #f0f9eb;\n    --wui-message-border-color: #e1f3d8;\n    --wui-message-text-color: #67c23a;\n}\n.wui-message--warning {\n    --wui-message-bg-color: #fdf6ec;\n    --wui-message-border-color: #faecd8;\n    --wui-message-text-color: #e6a23c;\n}\n.wui-message--info {\n    --wui-message-bg-color: #f4f4f5;\n    --wui-message-border-color: #e9e9eb;\n    --wui-message-text-color: #909399;\n}\n.wui-message--error {\n    --wui-message-bg-color: #fef0f0;\n    --wui-message-border-color: #fde2e2;\n    --wui-message-text-color: #f56c6c;\n}\n\n@keyframes msg-open {\n    0% {\n        opacity: 0;\n        -webkit-transform: translateY(-120%);\n        transform: translateY(-120%)\n    }\n    to {\n        -webkit-transform: translateY(0);\n        transform: translateY(0)\n    }\n}\n\n@keyframes msg-close {\n    0% {\n        opacity: 1;\n        -webkit-transform: scale(1);\n        transform: scale(1)\n    }\n    to {\n        opacity: 0;\n        -webkit-transform: scale(.9);\n        transform: scale(.9)\n    }\n}\n.wui-message[data-state=entered],.wui-message[data-state=entering] {\n    -webkit-animation: msg-open .24s cubic-bezier(.175,.885,.32,1.175) both;\n    animation: msg-open .24s cubic-bezier(.175,.885,.32,1.175) both\n}\n\n.wui-message[data-state=exiting] {\n    -webkit-animation: msg-close .12s cubic-bezier(.4,0,1,1) both;\n    animation: msg-close .12s cubic-bezier(.4,0,1,1) both\n}\n\n.wui-message {\n    width: -webkit-fit-content;\n    width: -moz-fit-content;\n    width: fit-content;\n    z-index: 2004;\n    max-width: calc(100% - 32px);\n    margin-top: 8px;\n    box-sizing: border-box;\n    /*border-radius: var(--wui-border-radius-base);*/\n    /*border-width: var(--wui-border-width);*/\n    /*border-style: var(--wui-border-style);*/\n    border-color: var(--wui-message-border-color);\n    /*left: 50%;*/\n    /*top: 20px;*/\n    /*transform: translateX(-50%);*/\n    background-color: var(--wui-message-bg-color);\n    /*transition: opacity var(--wui-transition-duration),transform .4s,top .4s;*/\n    /*padding: var(--wui-message-padding);*/\n    display: flex;\n    align-items: center;\n}\n\n/*.wui-message--success */\n.wui-message__content {\n    color: var(--wui-message-text-color);\n    font-size: 14px;\n    line-height: 18px;\n    margin: 10px 14px 10px 14px;\n    overflow-wrap: break-word;\n}\n\n.wui-message__closeBtn {\n    /*cursor: pointer;*/\n    font-style: normal;\n    /*color: gray;*/\n    padding-right: 14px;\n    /*font-size: 13px;*/\n    user-select: none;\n\n    background: transparent;\n    border: none;\n    color: gray;\n    cursor: pointer;\n    font-size: 13px;\n    font-weight: 400;\n    line-height: 1;\n    outline: none;\n    /*padding: 4px;*/\n    text-align: center;\n    transition: opacity .3s;\n    /*width: 100%;*/\n}",
       "_esm": "function closeMsg(msgDom) {\n  if (!msgDom) {\n    return;\n  }\n  msgDom.setAttribute('data-state', 'exiting');\n  msgDom.remove();\n}\n\nfunction createMsg(options) {\n  const {message, msg_id, type = 'info', show_close = false} = options;\n  const msgDom = document.createElement('div');\n  msgDom.className += ` wui-message--${type} wui-message`;\n  msgDom.setAttribute('data-state', 'entered');\n  msgDom.setAttribute('id', msg_id);\n  const msgContent = document.createElement('p');\n  msgContent.className += ` wui-message--${type} wui-message__content`;\n  msgContent.innerText = message;\n  msgDom.appendChild(msgContent);\n  if (show_close) {\n    const closeBtn = document.createElement('i');\n    closeBtn.className += 'wui-message__closeBtn';\n    closeBtn.innerText = 'x';\n    closeBtn.addEventListener('click', (ev) => {\n      closeMsg(msgDom);\n    })\n    msgDom.appendChild(closeBtn);\n  }\n  return msgDom;\n}\n\nexport async function render(view) {\n  let model = view.model;\n  const msgRoot = view.el;\n  msgRoot.className += ' wui-message-root'\n\n  const msgContainer = document.createElement('div');\n  msgContainer.className += ' wui-message-container';\n  msgRoot.appendChild(msgContainer)\n\n  model.on(\"change:message_options\", () => {\n    const options = model.get(\"message_options\");\n    const msg = createMsg(options);\n    msgContainer.appendChild(msg);\n    const {duration = 3000} = options;\n    if (duration > 0) {\n      setTimeout(() => {\n        closeMsg(msg)\n      }, duration);\n    }\n  })\n\n  model.on(\"change:close_msg_id\", () => {\n    const msg_id = model.get(\"close_msg_id\");\n    const msgDom = document.getElementById(msg_id);\n    closeMsg(msgDom);\n  })\n}\n",
       "_model_module": "anywidget",
       "_model_module_version": "~0.9.*",
       "_model_name": "AnyModel",
       "_view_module": "anywidget",
       "_view_module_version": "~0.9.*",
       "_view_name": "AnyView",
       "close_msg_id": "",
       "layout": "IPY_MODEL_4a11556311af40588f0e163fbb2a67c8",
       "message_options": {
        "duration": 3000,
        "message": "",
        "show_close": false,
        "type": "info"
       }
      }
     },
     "5262da763874476aabd69ffe9a65eac0": {
      "model_module": "jupyter-leaflet",
      "model_module_version": "^0.19",
      "model_name": "LeafletAttributionControlModel",
      "state": {
       "_model_module_version": "^0.19",
       "_view_module_version": "^0.19",
       "options": [
        "position",
        "prefix"
       ],
       "position": "bottomright",
       "prefix": "ipyleaflet"
      }
     },
     "58397b654d18414ab780da20245d317f": {
      "model_module": "@jupyter-widgets/base",
      "model_module_version": "2.0.0",
      "model_name": "LayoutModel",
      "state": {}
     },
     "5a81ad52973c426abd959e002090bab7": {
      "model_module": "@jupyter-widgets/controls",
      "model_module_version": "2.0.0",
      "model_name": "HTMLMathModel",
      "state": {
       "layout": "IPY_MODEL_fa705416837842508c323d8a65a5996e",
       "style": "IPY_MODEL_5e855b6a443d4545aeb6bc25d4a0105a",
       "value": "\n                <p >\n                  zoom: 5.0, center: ListProxy: [52.98296343157188, 353.97684832726776]\n                </p>"
      }
     },
     "5e855b6a443d4545aeb6bc25d4a0105a": {
      "model_module": "@jupyter-widgets/controls",
      "model_module_version": "2.0.0",
      "model_name": "HTMLMathStyleModel",
      "state": {
       "description_width": "",
       "font_size": null,
       "text_color": null
      }
     },
     "6a2e9ed9651c43458238af54ead112a0": {
      "model_module": "@jupyter-widgets/output",
      "model_module_version": "1.0.0",
      "model_name": "OutputModel",
      "state": {
       "layout": "IPY_MODEL_8173261d5b3241f18a78bf4f3e4b5987",
       "outputs": [
        {
         "name": "stdout",
         "output_type": "stream",
         "text": "2025-04-13 23:33:52,683 [INFO] api_create_app.py:render:126 - App render end.\n"
        },
        {
         "name": "stdout",
         "output_type": "stream",
         "text": "2025-04-13 23:33:52,653 [INFO] sfc_codegen.py:render:165 - 🔥 Rerender SFC<__tmp_for_str.vue> at 4384520704\n"
        },
        {
         "name": "stdout",
         "output_type": "stream",
         "text": "2025-04-13 23:33:52,652 [INFO] api_create_app.py:render:116 - App render start.\n"
        }
       ]
      }
     },
     "6b676750cf944650a131ad867b11c6ac": {
      "model_module": "@jupyter-widgets/base",
      "model_module_version": "2.0.0",
      "model_name": "LayoutModel",
      "state": {}
     },
     "7a79f17c528d48708bca0377a4bb79a9": {
      "model_module": "@jupyter-widgets/controls",
      "model_module_version": "2.0.0",
      "model_name": "VBoxModel",
      "state": {
       "children": [
        "IPY_MODEL_3174716a63e847319adc854cd5d65c5d"
       ],
       "layout": "IPY_MODEL_ac9e99c1acbc436795ab7e5e9b642bd9"
      }
     },
     "8173261d5b3241f18a78bf4f3e4b5987": {
      "model_module": "@jupyter-widgets/base",
      "model_module_version": "2.0.0",
      "model_name": "LayoutModel",
      "state": {}
     },
     "8820a9363a194c5f90cbba1e4da71438": {
      "model_module": "jupyter-leaflet",
      "model_module_version": "^0.19",
      "model_name": "LeafletMapStyleModel",
      "state": {
       "_model_module_version": "^0.19"
      }
     },
     "8e3565f2d8df4c9b934a8ec2d8527416": {
      "model_module": "@jupyter-widgets/controls",
      "model_module_version": "2.0.0",
      "model_name": "SliderStyleModel",
      "state": {
       "description_width": ""
      }
     },
     "a1af1bd62db94fae861b6993c9fe131f": {
      "model_module": "jupyter-leaflet",
      "model_module_version": "^0.19",
      "model_name": "LeafletMapModel",
      "state": {
       "_model_module_version": "^0.19",
       "_view_module_version": "^0.19",
       "bottom": 2918,
       "center": [
        52.98296343157188,
        353.97684832726776
       ],
       "controls": [
        "IPY_MODEL_5262da763874476aabd69ffe9a65eac0",
        "IPY_MODEL_b7dfbcaa206b4e399a39fc12f5cd0526"
       ],
       "default_style": "IPY_MODEL_4b1e933efbeb491dbac0e847c57b4efd",
       "dragging_style": "IPY_MODEL_d9ec6807d7854def9d377417d5c2891f",
       "east": 374.94140625,
       "fullscreen": false,
       "interpolation": "bilinear",
       "layers": [
        "IPY_MODEL_e916220052184bd183090a2f3f10ebd6",
        "IPY_MODEL_19696f75b5984d1287ec7366f33f9427"
       ],
       "layout": "IPY_MODEL_4c725140020643fea4bf56110bfebc49",
       "left": 11674,
       "modisdate": "2025-04-12",
       "north": 59.085738569819505,
       "options": [
        "bounce_at_zoom_limits",
        "box_zoom",
        "center",
        "close_popup_on_click",
        "double_click_zoom",
        "dragging",
        "fullscreen",
        "inertia",
        "inertia_deceleration",
        "inertia_max_speed",
        "interpolation",
        "keyboard",
        "keyboard_pan_offset",
        "keyboard_zoom_offset",
        "max_zoom",
        "min_zoom",
        "prefer_canvas",
        "scroll_wheel_zoom",
        "tap",
        "tap_tolerance",
        "touch_zoom",
        "world_copy_jump",
        "zoom",
        "zoom_animation_threshold",
        "zoom_delta",
        "zoom_snap"
       ],
       "prefer_canvas": false,
       "right": 12628,
       "scroll_wheel_zoom": true,
       "south": 45.89000815866184,
       "style": "IPY_MODEL_4b1e933efbeb491dbac0e847c57b4efd",
       "top": 2420,
       "west": 333.01757812500006,
       "window_url": "http://localhost:2071/lab/workspaces/auto-t/tree/nb_llm/pyvue/examples/vleaflet/Map.ipynb",
       "zoom": 5
      }
     },
     "a736d03e21224e48ab131ff6604e9604": {
      "model_module": "@jupyter-widgets/controls",
      "model_module_version": "2.0.0",
      "model_name": "IntSliderModel",
      "state": {
       "behavior": "drag-tap",
       "continuous_update": false,
       "description": "zoom",
       "layout": "IPY_MODEL_12afb26d60a84167b6cb5cee25d5a58a",
       "max": 13,
       "min": 3,
       "style": "IPY_MODEL_8e3565f2d8df4c9b934a8ec2d8527416",
       "value": 5
      }
     },
     "ac9e99c1acbc436795ab7e5e9b642bd9": {
      "model_module": "@jupyter-widgets/base",
      "model_module_version": "2.0.0",
      "model_name": "LayoutModel",
      "state": {}
     },
     "b7dfbcaa206b4e399a39fc12f5cd0526": {
      "model_module": "jupyter-leaflet",
      "model_module_version": "^0.19",
      "model_name": "LeafletZoomControlModel",
      "state": {
       "_model_module_version": "^0.19",
       "_view_module_version": "^0.19",
       "options": [
        "position",
        "zoom_in_text",
        "zoom_in_title",
        "zoom_out_text",
        "zoom_out_title"
       ]
      }
     },
     "bcf8f6bf32fb4baf863b2f0a97862871": {
      "model_module": "anywidget",
      "model_module_version": "~0.9.*",
      "model_name": "AnyModel",
      "state": {
       "_anywidget_id": "ipywui.widgets.custom.message.MessageWidget",
       "_css": ".wui-message-root {\n    display: flex;\n    position: absolute;\n    left: 0;\n    right: 0;\n    top: 0;\n}\n\n.wui-message-container {\n    align-items: center;\n    display: flex;\n    flex-direction: column-reverse;\n    justify-content: center;\n    min-height: 100%;\n    outline: none;\n    width: 100%;\n\n    -webkit-tap-highlight-color: rgba(0,0,0,0);\n    bottom: 0;\n    left: 0;\n    right: 0;\n    top: 0;\n}\n\n.wui-message--success {\n    --wui-message-bg-color: #f0f9eb;\n    --wui-message-border-color: #e1f3d8;\n    --wui-message-text-color: #67c23a;\n}\n.wui-message--warning {\n    --wui-message-bg-color: #fdf6ec;\n    --wui-message-border-color: #faecd8;\n    --wui-message-text-color: #e6a23c;\n}\n.wui-message--info {\n    --wui-message-bg-color: #f4f4f5;\n    --wui-message-border-color: #e9e9eb;\n    --wui-message-text-color: #909399;\n}\n.wui-message--error {\n    --wui-message-bg-color: #fef0f0;\n    --wui-message-border-color: #fde2e2;\n    --wui-message-text-color: #f56c6c;\n}\n\n@keyframes msg-open {\n    0% {\n        opacity: 0;\n        -webkit-transform: translateY(-120%);\n        transform: translateY(-120%)\n    }\n    to {\n        -webkit-transform: translateY(0);\n        transform: translateY(0)\n    }\n}\n\n@keyframes msg-close {\n    0% {\n        opacity: 1;\n        -webkit-transform: scale(1);\n        transform: scale(1)\n    }\n    to {\n        opacity: 0;\n        -webkit-transform: scale(.9);\n        transform: scale(.9)\n    }\n}\n.wui-message[data-state=entered],.wui-message[data-state=entering] {\n    -webkit-animation: msg-open .24s cubic-bezier(.175,.885,.32,1.175) both;\n    animation: msg-open .24s cubic-bezier(.175,.885,.32,1.175) both\n}\n\n.wui-message[data-state=exiting] {\n    -webkit-animation: msg-close .12s cubic-bezier(.4,0,1,1) both;\n    animation: msg-close .12s cubic-bezier(.4,0,1,1) both\n}\n\n.wui-message {\n    width: -webkit-fit-content;\n    width: -moz-fit-content;\n    width: fit-content;\n    z-index: 2004;\n    max-width: calc(100% - 32px);\n    margin-top: 8px;\n    box-sizing: border-box;\n    /*border-radius: var(--wui-border-radius-base);*/\n    /*border-width: var(--wui-border-width);*/\n    /*border-style: var(--wui-border-style);*/\n    border-color: var(--wui-message-border-color);\n    /*left: 50%;*/\n    /*top: 20px;*/\n    /*transform: translateX(-50%);*/\n    background-color: var(--wui-message-bg-color);\n    /*transition: opacity var(--wui-transition-duration),transform .4s,top .4s;*/\n    /*padding: var(--wui-message-padding);*/\n    display: flex;\n    align-items: center;\n}\n\n/*.wui-message--success */\n.wui-message__content {\n    color: var(--wui-message-text-color);\n    font-size: 14px;\n    line-height: 18px;\n    margin: 10px 14px 10px 14px;\n    overflow-wrap: break-word;\n}\n\n.wui-message__closeBtn {\n    /*cursor: pointer;*/\n    font-style: normal;\n    /*color: gray;*/\n    padding-right: 14px;\n    /*font-size: 13px;*/\n    user-select: none;\n\n    background: transparent;\n    border: none;\n    color: gray;\n    cursor: pointer;\n    font-size: 13px;\n    font-weight: 400;\n    line-height: 1;\n    outline: none;\n    /*padding: 4px;*/\n    text-align: center;\n    transition: opacity .3s;\n    /*width: 100%;*/\n}",
       "_esm": "function closeMsg(msgDom) {\n  if (!msgDom) {\n    return;\n  }\n  msgDom.setAttribute('data-state', 'exiting');\n  msgDom.remove();\n}\n\nfunction createMsg(options) {\n  const {message, msg_id, type = 'info', show_close = false} = options;\n  const msgDom = document.createElement('div');\n  msgDom.className += ` wui-message--${type} wui-message`;\n  msgDom.setAttribute('data-state', 'entered');\n  msgDom.setAttribute('id', msg_id);\n  const msgContent = document.createElement('p');\n  msgContent.className += ` wui-message--${type} wui-message__content`;\n  msgContent.innerText = message;\n  msgDom.appendChild(msgContent);\n  if (show_close) {\n    const closeBtn = document.createElement('i');\n    closeBtn.className += 'wui-message__closeBtn';\n    closeBtn.innerText = 'x';\n    closeBtn.addEventListener('click', (ev) => {\n      closeMsg(msgDom);\n    })\n    msgDom.appendChild(closeBtn);\n  }\n  return msgDom;\n}\n\nexport async function render(view) {\n  let model = view.model;\n  const msgRoot = view.el;\n  msgRoot.className += ' wui-message-root'\n\n  const msgContainer = document.createElement('div');\n  msgContainer.className += ' wui-message-container';\n  msgRoot.appendChild(msgContainer)\n\n  model.on(\"change:message_options\", () => {\n    const options = model.get(\"message_options\");\n    const msg = createMsg(options);\n    msgContainer.appendChild(msg);\n    const {duration = 3000} = options;\n    if (duration > 0) {\n      setTimeout(() => {\n        closeMsg(msg)\n      }, duration);\n    }\n  })\n\n  model.on(\"change:close_msg_id\", () => {\n    const msg_id = model.get(\"close_msg_id\");\n    const msgDom = document.getElementById(msg_id);\n    closeMsg(msgDom);\n  })\n}\n",
       "_model_module": "anywidget",
       "_model_module_version": "~0.9.*",
       "_model_name": "AnyModel",
       "_view_module": "anywidget",
       "_view_module_version": "~0.9.*",
       "_view_name": "AnyView",
       "close_msg_id": "",
       "layout": "IPY_MODEL_58397b654d18414ab780da20245d317f",
       "message_options": {
        "duration": 3000,
        "message": "",
        "show_close": false,
        "type": "info"
       }
      }
     },
     "d1a1157c301f4e24a0785445bb70c71c": {
      "model_module": "@jupyter-widgets/base",
      "model_module_version": "2.0.0",
      "model_name": "LayoutModel",
      "state": {}
     },
     "d9ec6807d7854def9d377417d5c2891f": {
      "model_module": "jupyter-leaflet",
      "model_module_version": "^0.19",
      "model_name": "LeafletMapStyleModel",
      "state": {
       "_model_module_version": "^0.19",
       "cursor": "move"
      }
     },
     "e4b00ef68d9148bdb595bd300165fa9f": {
      "model_module": "@jupyter-widgets/base",
      "model_module_version": "2.0.0",
      "model_name": "LayoutModel",
      "state": {}
     },
     "e916220052184bd183090a2f3f10ebd6": {
      "model_module": "jupyter-leaflet",
      "model_module_version": "^0.19",
      "model_name": "LeafletTileLayerModel",
      "state": {
       "_model_module_version": "^0.19",
       "_view_module_version": "^0.19",
       "attribution": "Tiles &copy; Esri &mdash; Esri, DeLorme, NAVTEQ, TomTom, Intermap, iPC, USGS, FAO, NPS, NRCAN, GeoBase, Kadaster NL, Ordnance Survey, Esri Japan, METI, Esri China (Hong Kong), and the GIS User Community",
       "base": true,
       "min_zoom": 1,
       "name": "Esri.WorldTopoMap",
       "options": [
        "attribution",
        "bounds",
        "detect_retina",
        "max_native_zoom",
        "max_zoom",
        "min_native_zoom",
        "min_zoom",
        "no_wrap",
        "tile_size",
        "tms",
        "zoom_offset"
       ],
       "url": "https://server.arcgisonline.com/ArcGIS/rest/services/World_Topo_Map/MapServer/tile/{z}/{y}/{x}"
      }
     },
     "e9cfaa950c744de281e80e176103fcdb": {
      "model_module": "@jupyter-widgets/controls",
      "model_module_version": "2.0.0",
      "model_name": "VBoxModel",
      "state": {
       "children": [
        "IPY_MODEL_19696f75b5984d1287ec7366f33f9427"
       ],
       "layout": "IPY_MODEL_42ff8ca10960493291f0ec1b98e34005"
      }
     },
     "fa705416837842508c323d8a65a5996e": {
      "model_module": "@jupyter-widgets/base",
      "model_module_version": "2.0.0",
      "model_name": "LayoutModel",
      "state": {}
     }
    },
    "version_major": 2,
    "version_minor": 0
   }
  }
 },
 "nbformat": 4,
 "nbformat_minor": 5
}
