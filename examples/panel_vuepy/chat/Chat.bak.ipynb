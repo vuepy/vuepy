{
 "cells": [
  {
   "cell_type": "markdown",
   "id": "2e447be0",
   "metadata": {},
   "source": [
    "# ChatFeed 聊天消息流组件\n",
    "\n",
    "中层级的布局组件，用于管理一系列 ChatMessage 消息组件。该组件提供后端方法来：\n",
    "- 发送(附加)消息到聊天记录\n",
    "- 将字符流式显示到最近的 ChatMessage 中\n",
    "- 当用户发送消息时执行回调\n",
    "- 撤销多条 ChatMessage 消息\n",
    "- 清空所有 ChatMessage 消息\n",
    "\n",
    "底层实现为`panel.chat.ChatFeed`，参数基本一致，参考文档：https://panel.holoviz.org/reference/chat/ChatFeed.html\n"
   ]
  },
  {
   "cell_type": "code",
   "execution_count": null,
   "id": "fb054fa3",
   "metadata": {},
   "outputs": [],
   "source": [
    "##ignore\n",
    "%load_ext vuepy\n",
    "from panel_vuepy import vpanel"
   ]
  },
  {
   "cell_type": "markdown",
   "id": "ce222688",
   "metadata": {},
   "source": [
    "\n",
    "## 基本用法\n",
    "\n",
    "基本的消息流组件可以不带任何参数初始化：\n"
   ]
  },
  {
   "cell_type": "code",
   "execution_count": null,
   "id": "a4ddaff9",
   "metadata": {},
   "outputs": [],
   "source": [
    "%%vuepy_run --plugins vpanel --show-code\n",
    "<template>\n",
    "<PnChatFeed ref=\"chat\" />\n",
    "</template>\n",
    "<script lang='py'>\n",
    "from vuepy import ref\n",
    "\n",
    "# You can use the chat.value.send method to send messages\n",
    "</script>"
   ]
  },
  {
   "cell_type": "markdown",
   "id": "8fedcb8e",
   "metadata": {},
   "source": [
    "\n",
    "可以通过 send 方法发送消息：\n"
   ]
  },
  {
   "cell_type": "code",
   "execution_count": null,
   "id": "982c5a3b",
   "metadata": {},
   "outputs": [],
   "source": [
    "%%vuepy_run --plugins vpanel --show-code\n",
    "<template>\n",
    "<PnColumn>\n",
    "  <PnChatFeed ref=\"chat\" />\n",
    "  <PnButton name=\"Send Message\" @click=\"send_message\" />\n",
    "</PnColumn>\n",
    "</template>\n",
    "<script lang='py'>\n",
    "from vuepy import ref\n",
    "\n",
    "def send_message():\n",
    "    chat.value.send(\n",
    "        \"Hello world!\",\n",
    "        user=\"Bot\",\n",
    "        avatar=\"B\",\n",
    "        footer_objects=[pn.widgets.Button(name=\"Footer Object\")]\n",
    "    )\n",
    "</script>"
   ]
  },
  {
   "cell_type": "markdown",
   "id": "5cb2d4db",
   "metadata": {},
   "source": [
    "\n",
    "## 消息回调\n",
    "\n",
    "可以通过设置 callback 来创建更有趣的交互：\n"
   ]
  },
  {
   "cell_type": "code",
   "execution_count": null,
   "id": "7b2f290a",
   "metadata": {},
   "outputs": [],
   "source": [
    "%%vuepy_run --plugins vpanel --show-code\n",
    "<template>\n",
    "<PnChatFeed :callback=\"echo_message\" />\n",
    "</template>\n",
    "<script lang='py'>\n",
    "from vuepy import ref\n",
    "\n",
    "def echo_message(contents, user, instance):\n",
    "    return f\"Echoing {user}... {contents}\"\n",
    "</script>"
   ]
  },
  {
   "cell_type": "markdown",
   "id": "7966009a",
   "metadata": {},
   "source": [
    "\n",
    "回调函数可以根据需要包含不同的参数：\n",
    "- 只有一个参数时为 contents (消息内容)\n",
    "- 两个参数时为 contents 和 user (用户名)\n",
    "- 三个参数时为 contents、user 和 instance (组件实例)\n",
    "\n",
    "可以通过设置 callback_user 和 callback_avatar 来修改响应者的默认名称和头像：\n"
   ]
  },
  {
   "cell_type": "code",
   "execution_count": null,
   "id": "eb689357",
   "metadata": {},
   "outputs": [],
   "source": [
    "%%vuepy_run --plugins vpanel --show-code\n",
    "<template>\n",
    "<PnChatFeed :callback=\"echo_message\" callback-user=\"Echo Bot\" callback-avatar=\"🛸\" />\n",
    "</template>\n",
    "<script lang='py'>\n",
    "from vuepy import ref\n",
    "\n",
    "def echo_message(contents, user):\n",
    "    return f\"Echoing {user}... {contents}\"\n",
    "</script>"
   ]
  },
  {
   "cell_type": "markdown",
   "id": "d0aaf718",
   "metadata": {},
   "source": [
    "\n",
    "## 消息流式显示\n",
    "\n",
    "通过 async generators 可以实现最简单和最理想的输出流式显示：\n"
   ]
  },
  {
   "cell_type": "code",
   "execution_count": null,
   "id": "9e4cdab3",
   "metadata": {},
   "outputs": [],
   "source": [
    "%%vuepy_run --plugins vpanel --show-code\n",
    "<template>\n",
    "<PnChatFeed :callback=\"stream_message\" />\n",
    "</template>\n",
    "<script lang='py'>\n",
    "from vuepy import ref\n",
    "\n",
    "async def stream_message(contents):\n",
    "    message = \"\"\n",
    "    for character in contents:\n",
    "        message += character\n",
    "        yield message\n",
    "</script>"
   ]
  },
  {
   "cell_type": "markdown",
   "id": "967221f6",
   "metadata": {},
   "source": [
    "\n",
    "对于非生成器输出(比如LangChain输出)，也可以使用 stream 方法进行流式显示：\n"
   ]
  },
  {
   "cell_type": "code",
   "execution_count": null,
   "id": "0e0ec2eb",
   "metadata": {},
   "outputs": [],
   "source": [
    "%%vuepy_run --plugins vpanel --show-code\n",
    "<template>\n",
    "<PnColumn>\n",
    "  <PnChatFeed ref=\"chat\" />\n",
    "  <PnButton name=\"Stream Message\" @click=\"stream_demo\" />\n",
    "</PnColumn>\n",
    "</template>\n",
    "<script lang='py'>\n",
    "from vuepy import ref\n",
    "import time\n",
    "\n",
    "def stream_demo():\n",
    "    message = None\n",
    "    for n in \"123456789 abcdefghijklmnopqrstuvxyz\":\n",
    "        time.sleep(0.1)\n",
    "        message = chat.value.stream(n, message=message)\n",
    "</script>"
   ]
  },
  {
   "cell_type": "markdown",
   "id": "a14bdce6",
   "metadata": {},
   "source": [
    "\n",
    "## 自定义样式\n",
    "\n",
    "可以通过 message_params 传递 ChatEntry 参数：\n"
   ]
  },
  {
   "cell_type": "code",
   "execution_count": null,
   "id": "b45488fa",
   "metadata": {},
   "outputs": [],
   "source": [
    "%%vuepy_run --plugins vpanel --show-code\n",
    "<template>\n",
    "<PnChatFeed \n",
    "  :message-params=\"{\n",
    "    'default_avatars': {'System': 'S', 'User': '👤'},\n",
    "    'reaction_icons': {'like': 'thumb-up'}\n",
    "  }\"\n",
    "  ref=\"chat\"\n",
    "/>\n",
    "</template>\n",
    "<script lang='py'>\n",
    "from vuepy import ref\n",
    "\n",
    "# Send some test messages\n",
    "def mounted():\n",
    "    chat.value.send(user=\"System\", value=\"This is the System speaking.\")\n",
    "    chat.value.send(user=\"User\", value=\"This is the User speaking.\")\n",
    "</script>"
   ]
  },
  {
   "cell_type": "markdown",
   "id": "130dbdd7",
   "metadata": {},
   "source": [
    "\n",
    "还可以通过 CSS 自定义消息外观：\n"
   ]
  },
  {
   "cell_type": "code",
   "execution_count": null,
   "id": "3f569598",
   "metadata": {},
   "outputs": [],
   "source": [
    "%%vuepy_run --plugins vpanel --show-code\n",
    "<template>\n",
    "<PnChatFeed \n",
    "  :show-activity-dot=\"true\"\n",
    "  :message-params=\"{\n",
    "    'stylesheets': [\n",
    "      '''\n",
    "      .message {\n",
    "          background-color: tan;\n",
    "          font-family: \\\"Courier New\\\";\n",
    "          font-size: 24px;\n",
    "      }\n",
    "      '''\n",
    "    ]\n",
    "  }\"\n",
    "  ref=\"chat\"\n",
    "/>\n",
    "</template>\n",
    "<script lang='py'>\n",
    "from vuepy import ref\n",
    "\n",
    "def mounted():\n",
    "    chat.value.send(\"I am so stylish!\")\n",
    "</script>"
   ]
  },
  {
   "cell_type": "markdown",
   "id": "8389d360",
   "metadata": {},
   "source": [
    "\n",
    "## API\n",
    "\n",
    "### 属性\n",
    "\n",
    "| 属性名            | 说明                   | 类型                                                   | 默认值  |\n",
    "| ---------------- | --------------------- | ----------------------------------------------------- | ------- |\n",
    "| callback         | 消息回调函数           | ^[Callable]                                           | None    |\n",
    "| callback_user    | 回调消息的默认用户名    | ^[str]                                                | —      |\n",
    "| callback_avatar  | 回调消息的默认头像      | ^[str]                                               | —      |\n",
    "| message_params   | ChatEntry 参数         | ^[dict]                                              | {}     |\n",
    "| show_activity_dot| 显示活动状态点         | ^[bool]                                              | False  |\n",
    "| height          | 组件高度              | ^[int \\| str]                                         | —      |\n",
    "| width           | 组件宽度              | ^[int \\| str]                                         | —      |\n",
    "\n",
    "### Events\n",
    "\n",
    "| 事件名   | 说明                  | 类型                                     |\n",
    "| ------- | -------------------- | ---------------------------------------- |\n",
    "| message | 发送新消息时触发       | ^[Callable]`(message: dict) -> None`     |\n",
    "| clear   | 清空消息时触发        | ^[Callable]`() -> None`                  |\n",
    "\n",
    "### Slots\n",
    "\n",
    "| 插槽名   | 说明               |\n",
    "| ------- | ----------------- |\n",
    "| default | 自定义默认内容      |\n",
    "\n",
    "### 方法\n",
    "\n",
    "| 方法名    | 说明                  | 参数                                    |\n",
    "| -------- | ------------------- | --------------------------------------- |\n",
    "| send     | 发送消息            | value, user, avatar, footer_objects     |\n",
    "| stream   | 流式发送消息         | value, user, avatar, message            |\n",
    "| clear    | 清空所有消息         | -                                       |\n",
    "| undo     | 撤销最后的消息       | count: int = 1                          |\n"
   ]
  },
  {
   "cell_type": "code",
   "execution_count": null,
   "id": "637a362d",
   "metadata": {},
   "outputs": [],
   "source": [
    "##ignore\n",
    "import panel as pn\n",
    "pn.extension()\n",
    "\n",
    "chat_feed = pn.chat.ChatFeed()\n",
    "chat_feed.send(\n",
    "    \"Hello world!\",\n",
    "    user=\"Bot\",\n",
    "    avatar=\"B\",\n",
    "    footer_objects=[pn.widgets.Button(name=\"Footer Object\")],\n",
    ")"
   ]
  },
  {
   "cell_type": "markdown",
   "id": "02687526",
   "metadata": {},
   "source": []
  }
 ],
 "metadata": {},
 "nbformat": 4,
 "nbformat_minor": 5
}
