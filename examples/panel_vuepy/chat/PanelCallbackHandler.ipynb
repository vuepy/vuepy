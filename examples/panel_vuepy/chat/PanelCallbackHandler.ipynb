{
 "cells": [
  {
   "cell_type": "markdown",
   "id": "6a26bd64",
   "metadata": {},
   "source": [
    "# PanelCallbackHandler LangChain 回调处理器\n",
    "\n",
    "用于在 Panel 聊天组件中渲染和流式显示 LangChain 对象（如工具、代理和链）的思维链。继承自 LangChain 的 BaseCallbackHandler。\n",
    "\n",
    "底层实现为`panel.chat.langchain.PanelCallbackHandler`，参数基本一致，参考文档：https://panel.holoviz.org/reference/chat/PanelCallbackHandler.html\n"
   ]
  },
  {
   "cell_type": "code",
   "execution_count": null,
   "id": "ed4149bd",
   "metadata": {},
   "outputs": [],
   "source": [
    "##ignore\n",
    "%load_ext vuepy\n",
    "from panel_vuepy import vpanel"
   ]
  },
  {
   "cell_type": "markdown",
   "id": "acf3220d",
   "metadata": {},
   "source": [
    "\n",
    "## 基本用法\n",
    "\n",
    "基本的 LangChain 集成示例：\n"
   ]
  },
  {
   "cell_type": "code",
   "execution_count": null,
   "id": "ab5cb1b7",
   "metadata": {},
   "outputs": [],
   "source": [
    "%%vuepy_run --plugins vpanel --show-code\n",
    "<template>\n",
    "<PnChatInterface ref=\"chat\" />\n",
    "</template>\n",
    "<script lang='py'>\n",
    "from vuepy import ref\n",
    "from langchain.llms import OpenAI\n",
    "import panel as pn\n",
    "\n",
    "llm = OpenAI(temperature=0)\n",
    "\n",
    "async def callback(contents, user, instance):\n",
    "    callback_handler = pn.chat.langchain.PanelCallbackHandler(instance)\n",
    "    return await llm.apredict(contents, callbacks=[callback_handler])\n",
    "</script>"
   ]
  },
  {
   "cell_type": "markdown",
   "id": "423c6827",
   "metadata": {},
   "source": [
    "\n",
    "## 流式输出\n",
    "\n",
    "通过设置 LLM 的 streaming=True 来启用流式输出：\n"
   ]
  },
  {
   "cell_type": "code",
   "execution_count": null,
   "id": "2ccd5cc8",
   "metadata": {},
   "outputs": [],
   "source": [
    "%%vuepy_run --plugins vpanel --show-code\n",
    "<template>\n",
    "<PnChatInterface ref=\"chat\" />\n",
    "</template>\n",
    "<script lang='py'>\n",
    "from vuepy import ref\n",
    "from langchain.llms import OpenAI\n",
    "import panel as pn\n",
    "\n",
    "# Enable streaming\n",
    "llm = OpenAI(temperature=0, streaming=True)\n",
    "\n",
    "async def callback(contents, user, instance):\n",
    "    callback_handler = pn.chat.langchain.PanelCallbackHandler(instance)\n",
    "    return await llm.apredict(contents, callbacks=[callback_handler])\n",
    "</script>"
   ]
  },
  {
   "cell_type": "markdown",
   "id": "11bf1111",
   "metadata": {},
   "source": [
    "\n",
    "## API\n",
    "\n",
    "### 属性\n",
    "\n",
    "| 属性名    | 说明                  | 类型                                 | 默认值  |\n",
    "| -------- | -------------------- | ----------------------------------- | ------- |\n",
    "| instance | 目标聊天组件实例       | ^[ChatFeed \\| ChatInterface]        | —      |\n",
    "| user     | 用户名               | ^[str]                              | —      |\n",
    "| avatar   | 用户头像              | ^[str \\| BinaryIO]                  | —      |\n",
    "\n",
    "### Events\n",
    "\n",
    "| 事件名   | 说明           | 类型                               |\n",
    "| ------- | ------------- | ---------------------------------- |\n",
    "| -       | -            | -                                  |\n",
    "\n",
    "### Slots\n",
    "\n",
    "| 插槽名   | 说明               |\n",
    "| ------- | ----------------- |\n",
    "| -       | -                |\n",
    "\n",
    "### 方法\n",
    "\n",
    "| 方法名    | 说明                  | 参数                                    |\n",
    "| -------- | ------------------- | --------------------------------------- |\n",
    "| -        | -                  | -                                       |\n"
   ]
  },
  {
   "cell_type": "code",
   "execution_count": null,
   "id": "005e9661",
   "metadata": {},
   "outputs": [],
   "source": [
    "##ignore\n",
    "import panel as pn\n",
    "from langchain.llms import OpenAI\n",
    "pn.extension()\n",
    "\n",
    "llm = OpenAI(temperature=0)\n",
    "callback_handler = pn.chat.langchain.PanelCallbackHandler(chat_interface)"
   ]
  },
  {
   "cell_type": "markdown",
   "id": "e10d9e64",
   "metadata": {},
   "source": []
  }
 ],
 "metadata": {
  "kernelspec": {
   "display_name": "Python 3 (ipykernel)",
   "language": "python",
   "name": "python3"
  },
  "language_info": {
   "codemirror_mode": {
    "name": "ipython",
    "version": 3
   },
   "file_extension": ".py",
   "mimetype": "text/x-python",
   "name": "python",
   "nbconvert_exporter": "python",
   "pygments_lexer": "ipython3",
   "version": "3.10.12"
  },
  "widgets": {
   "application/vnd.jupyter.widget-state+json": {
    "state": {},
    "version_major": 2,
    "version_minor": 0
   }
  }
 },
 "nbformat": 4,
 "nbformat_minor": 5
}
