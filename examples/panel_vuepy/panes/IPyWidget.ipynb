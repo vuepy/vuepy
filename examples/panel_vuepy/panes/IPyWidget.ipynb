{
 "cells": [
  {
   "cell_type": "markdown",
   "id": "e8a918b5",
   "metadata": {},
   "source": [
    "# IPyWidget 组件\n",
    "\n",
    "`PnIPyWidget` 组件可以在 Panel 应用程序中渲染任何 ipywidgets 模型，不论是在笔记本环境中还是在部署的服务器上。这使得可以直接从 Panel 中利用这个不断发展的生态系统，只需将组件包装在面板中即可。\n",
    "\n",
    "在笔记本中，这不是必需的，因为 Panel 只是使用常规的笔记本 ipywidget 渲染器。特别是在 JupyterLab 中，以这种方式导入 ipywidgets 扩展可能会干扰 UI 并使 JupyterLab UI 无法使用，因此请谨慎启用扩展。\n",
    "\n",
    "底层实现为`panel.pane.IPyWidget`，参数基本一致，参考文档：https://panel.holoviz.org/reference/panes/IPyWidget.html\n"
   ]
  },
  {
   "cell_type": "code",
   "execution_count": null,
   "id": "f8901282",
   "metadata": {},
   "outputs": [],
   "source": [
    "##ignore\n",
    "%load_ext vuepy\n",
    "from panel_vuepy import vpanel"
   ]
  },
  {
   "cell_type": "markdown",
   "id": "6fefcb25",
   "metadata": {},
   "source": [
    "\n",
    "## 基本用法\n",
    "\n",
    "`panel_vuepy` 函数会自动将任何 `ipywidgets` 对象转换为可显示的面板，同时保持其所有交互功能：\n"
   ]
  },
  {
   "cell_type": "code",
   "execution_count": null,
   "id": "4dbc0aae",
   "metadata": {},
   "outputs": [],
   "source": [
    "%%vuepy_run --plugins vpanel --show-code\n",
    "<template>\n",
    "  <PnIPyWidget :object=\"layout\" />\n",
    "</template>\n",
    "<script lang='py'>\n",
    "import ipywidgets as ipw\n",
    "\n",
    "date = ipw.DatePicker(description='日期')\n",
    "slider = ipw.FloatSlider(description='浮点数')\n",
    "play = ipw.Play()\n",
    "\n",
    "layout = ipw.HBox(children=[date, slider, play])\n",
    "</script>"
   ]
  },
  {
   "cell_type": "markdown",
   "id": "67d4f9fe",
   "metadata": {},
   "source": [
    "\n",
    "## 交互性和回调\n",
    "\n",
    "任何具有 `value` 参数的 ipywidget 也可以在 `pn.depends` 装饰的回调中使用，例如，这里我们声明一个依赖于 `FloatSlider` 值的函数：\n"
   ]
  },
  {
   "cell_type": "code",
   "execution_count": null,
   "id": "b5ca5e91",
   "metadata": {},
   "outputs": [],
   "source": [
    "%%vuepy_run --plugins vpanel --show-code\n",
    "<template>\n",
    "  <PnRow>\n",
    "    <PnIPyWidget :object=\"slider\" />\n",
    "    <PnStr :object=\"bind_value\" />\n",
    "  </PnRow>\n",
    "</template>\n",
    "<script lang='py'>\n",
    "import ipywidgets as ipw\n",
    "from panel_vuepy import vpanel\n",
    "\n",
    "slider = ipw.IntSlider(description='滑块', min=-5, max=5)\n",
    "\n",
    "def cb(value):\n",
    "    return '滑块值为 ' + ('负数' if value < 0 else '非负数')\n",
    "\n",
    "bind_value = vpanel.bind(cb, slider)\n",
    "</script>"
   ]
  },
  {
   "cell_type": "markdown",
   "id": "1b90a49a",
   "metadata": {},
   "source": [
    "\n",
    "如果您想自己编写回调，也可以像通常一样使用 `traitlets` 的 `observe` 方法。要了解更多信息，请参阅 ipywidgets 文档中的 [Widget Events](https://ipywidgets.readthedocs.io/en/stable/examples/Widget%20Events.html) 部分。\n"
   ]
  },
  {
   "cell_type": "code",
   "execution_count": null,
   "id": "09483969",
   "metadata": {},
   "outputs": [],
   "source": [
    "%%vuepy_run --plugins vpanel --show-code\n",
    "<template>\n",
    "  <PnRow>\n",
    "    <PnIPyWidget :object=\"slider\" />\n",
    "    <PnIPyWidget :object=\"caption\" />\n",
    "  </PnRow>\n",
    "</template>\n",
    "<script lang='py'>\n",
    "import ipywidgets as ipw\n",
    "\n",
    "caption = ipw.Label(value='滑块值为非负数')\n",
    "slider = ipw.IntSlider(min=-5, max=5, value=1, description='滑块')\n",
    "\n",
    "def handle_slider_change(change):\n",
    "    caption.value = '滑块值为 ' + ('负数' if change.new < 0 else '非负数')\n",
    "\n",
    "slider.observe(handle_slider_change, names='value')\n",
    "</script>"
   ]
  },
  {
   "cell_type": "markdown",
   "id": "bbef5a55",
   "metadata": {},
   "source": [
    "\n",
    "## 外部小部件库\n",
    "\n",
    "`PnIPyWidget` 组件不仅限于简单的小部件，ipywidget 库（如 [`ipyvolume`](https://ipyvolume.readthedocs.io/en/latest/index.html) 和 [`ipyleaflet`](https://ipyleaflet.readthedocs.io/en/latest/)）也受支持。\n"
   ]
  },
  {
   "cell_type": "code",
   "execution_count": null,
   "id": "661ad3bf",
   "metadata": {},
   "outputs": [],
   "source": [
    "%%vuepy_run --plugins vpanel --show-code\n",
    "<template>\n",
    "  <PnIPyWidget :object=\"fig\" />\n",
    "</template>\n",
    "<script lang='py'>\n",
    "import ipyvolume as ipv\n",
    "\n",
    "x, y, z, u, v = ipv.examples.klein_bottle(draw=False)\n",
    "fig = ipv.figure()\n",
    "m = ipv.plot_mesh(x, y, z, wireframe=False)\n",
    "ipv.squarelim()\n",
    "</script>"
   ]
  },
  {
   "cell_type": "markdown",
   "id": "2e09c9ff",
   "metadata": {},
   "source": []
  },
  {
   "cell_type": "code",
   "execution_count": null,
   "id": "f8e19e2e",
   "metadata": {},
   "outputs": [],
   "source": [
    "%%vuepy_run --plugins vpanel --show-code\n",
    "<template>\n",
    "  <PnIPyWidget :object=\"m\" />\n",
    "</template>\n",
    "<script lang='py'>\n",
    "from ipyleaflet import Map, VideoOverlay\n",
    "\n",
    "m = Map(center=(25, -115), zoom=4)\n",
    "\n",
    "video = VideoOverlay(\n",
    "    url=\"https://www.mapbox.com/bites/00188/patricia_nasa.webm\",\n",
    "    bounds=((13, -130), (32, -100))\n",
    ")\n",
    "\n",
    "m.add(video)\n",
    "</script>"
   ]
  },
  {
   "cell_type": "markdown",
   "id": "452c6b11",
   "metadata": {},
   "source": [
    "\n",
    "## 限制\n",
    "\n",
    "ipywidgets 支持有一些限制，因为它整合了两个截然不同的生态系统。特别是，目前还不能在 Panel 和 ipywidget 对象之间设置 JS 链接或支持嵌入。这些限制不是基本的技术限制，可能在未来得到解决。\n",
    "\n",
    "## API\n",
    "\n",
    "### 属性\n",
    "\n",
    "| 属性名            | 说明                          | 类型                                                           | 默认值 |\n",
    "| ---------------- | ----------------------------- | ---------------------------------------------------------------| ------- |\n",
    "| object           | 被显示的 ipywidget 对象        | ^[object]                                                      | None |\n",
    "| default_layout   | 包装图表和小部件的布局        | ^[pn.layout.Panel]                                             | Row |\n",
    "| sizing_mode      | 尺寸调整模式                  | ^[str]                                                         | 'fixed'  |\n",
    "| width            | 宽度                          | ^[int, str]                                                    | None    |\n",
    "| height           | 高度                          | ^[int, str]                                                    | None    |\n",
    "| min_width        | 最小宽度                      | ^[int]                                                         | None    |\n",
    "| min_height       | 最小高度                      | ^[int]                                                         | None    |\n",
    "| max_width        | 最大宽度                      | ^[int]                                                         | None    |\n",
    "| max_height       | 最大高度                      | ^[int]                                                         | None    |\n",
    "| margin           | 外边距                        | ^[int, tuple]                                                  | 5       |\n",
    "| css_classes      | CSS类名列表                   | ^[list]                                                        | []      |\n",
    "\n",
    "### Events\n",
    "\n",
    "| 事件名 | 说明                  | 类型                                   |\n",
    "| ---   | ---                  | ---                                    |\n",
    "\n",
    "### Slots\n",
    "\n",
    "| 插槽名   | 说明               |\n",
    "| ---     | ---               |\n",
    "| default | 自定义默认内容      |\n",
    "\n",
    "### 方法\n",
    "\n",
    "| 属性名 | 说明 | 类型 |\n",
    "| --- | --- | --- |\n"
   ]
  },
  {
   "cell_type": "code",
   "execution_count": null,
   "id": "d6745b78",
   "metadata": {},
   "outputs": [],
   "source": [
    "##ignore\n",
    "import numpy as np\n",
    "import panel as pn\n",
    "import ipywidgets as ipw\n",
    "\n",
    "pn.extension('ipywidgets')\n",
    "\n",
    "date = ipw.DatePicker(description='Date')\n",
    "slider = ipw.FloatSlider(description='Float')\n",
    "play = ipw.Play()\n",
    "\n",
    "layout = ipw.HBox(children=[date, slider, play])\n",
    "\n",
    "pn.panel(layout)"
   ]
  }
 ],
 "metadata": {},
 "nbformat": 4,
 "nbformat_minor": 5
}
