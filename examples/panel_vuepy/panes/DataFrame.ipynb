{
 "cells": [
  {
   "cell_type": "markdown",
   "id": "e49cb322",
   "metadata": {},
   "source": [
    "# DataFrame 数据框\n",
    "\n",
    "`PnDataFrame` 组件将 pandas、dask 和 streamz 的 `DataFrame` 和 `Series` 类型渲染为 HTML 表格。该组件支持 `DataFrame.to_html` 函数的所有参数。\n",
    "\n",
    "如果需要显示更大的 `DataFrame` 或使用高级表格功能和交互性，我们建议使用 `PnTabulator` 组件或 `PnPerspective` 组件。\n",
    "\n",
    "底层实现为`panel.pane.DataFrame`，参数基本一致，参考文档：https://panel.holoviz.org/reference/panes/DataFrame.html\n"
   ]
  },
  {
   "cell_type": "code",
   "execution_count": null,
   "id": "6d5a411a",
   "metadata": {},
   "outputs": [],
   "source": [
    "##ignore\n",
    "%load_ext vuepy\n",
    "from panel_vuepy import vpanel"
   ]
  },
  {
   "cell_type": "markdown",
   "id": "11036bc2",
   "metadata": {},
   "source": [
    "\n",
    "## 基本用法\n",
    "\n",
    "`PnDataFrame` 使用内置的 HTML 表示来渲染底层的 DataFrame：\n"
   ]
  },
  {
   "cell_type": "code",
   "execution_count": null,
   "id": "49e7866b",
   "metadata": {},
   "outputs": [],
   "source": [
    "%%vuepy_run --plugins vpanel --show-code\n",
    "<template>\n",
    "  <PnDataFrame :object=\"df\" :width=\"400\" />\n",
    "</template>\n",
    "<script lang='py'>\n",
    "import pandas as pd\n",
    "\n",
    "df = pd.DataFrame({\n",
    "    'int': [1, 2, 3],\n",
    "    'float': [3.14, 6.28, 9.42],\n",
    "    'str': ['A', 'B', 'C'],\n",
    "    'bool': [True, False, True],\n",
    "}, index=[1, 2, 3])\n",
    "</script>"
   ]
  },
  {
   "cell_type": "markdown",
   "id": "666b6497",
   "metadata": {},
   "source": [
    "\n",
    "## 参数控制\n",
    "\n",
    "与所有其他 Panel 对象一样，更改参数将更新视图，使我们能够控制数据框的样式：\n"
   ]
  },
  {
   "cell_type": "code",
   "execution_count": null,
   "id": "163ed52d",
   "metadata": {},
   "outputs": [],
   "source": [
    "%%vuepy_run --plugins vpanel --show-code\n",
    "<template>\n",
    "  <PnRow>\n",
    "    <PnCol>\n",
    "      <PnDataFrame :object=\"df\" \n",
    "                  :bold_rows=\"bold_rows\" \n",
    "                  :index=\"index\" \n",
    "                  :header=\"header\" \n",
    "                  :max_rows=\"max_rows\" \n",
    "                  :show_dimensions=\"show_dimensions\" \n",
    "                  :width=\"400\" />\n",
    "    </PnCol>\n",
    "    <PnCol>\n",
    "      <PnCheckbox v-model=\"bold_rows\" label=\"Bold Rows\" />\n",
    "      <PnCheckbox v-model=\"index\" label=\"Show Index\" />\n",
    "      <PnCheckbox v-model=\"header\" label=\"Show Header\" />\n",
    "      <PnCheckbox v-model=\"show_dimensions\" label=\"Show Dimensions\" />\n",
    "      <PnSlider v-model=\"max_rows\" description=\"Max Rows\" :start=\"1\" :end=\"3\" />\n",
    "    </PnCol>\n",
    "  </PnRow>\n",
    "</template>\n",
    "<script lang='py'>\n",
    "import pandas as pd\n",
    "from vuepy import ref\n",
    "\n",
    "df = pd.DataFrame({\n",
    "    'int': [1, 2, 3],\n",
    "    'float': [3.14, 6.28, 9.42],\n",
    "    'str': ['A', 'B', 'C'],\n",
    "    'bool': [True, False, True],\n",
    "}, index=[1, 2, 3])\n",
    "\n",
    "bold_rows = ref(True)\n",
    "index = ref(True)\n",
    "header = ref(True)\n",
    "max_rows = ref(3)\n",
    "show_dimensions = ref(False)\n",
    "</script>"
   ]
  },
  {
   "cell_type": "markdown",
   "id": "879e52b0",
   "metadata": {},
   "source": [
    "\n",
    "## HTML 标记\n",
    "\n",
    "通过将 `escape` 设置为 False，您可以在 `DataFrame` 组件中包含 *HTML 标记*：\n"
   ]
  },
  {
   "cell_type": "code",
   "execution_count": null,
   "id": "0b3cc4d5",
   "metadata": {},
   "outputs": [],
   "source": [
    "%%vuepy_run --plugins vpanel --show-code\n",
    "<template>\n",
    "  <PnDataFrame :object=\"links\" :escape=\"False\" :width=\"800\" :index=\"False\" />\n",
    "</template>\n",
    "<script lang='py'>\n",
    "import pandas as pd\n",
    "\n",
    "links = pd.DataFrame({\n",
    "    \"site\": [\"Docs\", \"Discourse\", \"Github\", \"Twitter\"], \n",
    "    \"url\": [\"https://panel.holoviz.org/\", \"https://discourse.holoviz.org/\", \"https://github.com/holoviz/panel\", \"https://twitter.com/Panel_org\"]\n",
    "})\n",
    "links[\"value\"] = \"<a href='\" + links[\"url\"] + \"' target='_blank'>\" + links[\"site\"] + \"</a>\"\n",
    "</script>"
   ]
  },
  {
   "cell_type": "markdown",
   "id": "255f0032",
   "metadata": {},
   "source": [
    "\n",
    "## 大型数据框\n",
    "\n",
    "对于较大的数据框，设置 `sizing_mode=\"stretch_both\"` 可以确保它们不会*溢出*很有用。这样做时，可以使用 `max_height` 指定（最大）高度：\n"
   ]
  },
  {
   "cell_type": "code",
   "execution_count": null,
   "id": "a80c3129",
   "metadata": {},
   "outputs": [],
   "source": [
    "%%vuepy_run --plugins vpanel --show-code\n",
    "<template>\n",
    "  <PnColumn height=\"400\" width=\"500\">\n",
    "    <template v-slot:default>\n",
    "      <h2>Header</h2>\n",
    "      <PnDataFrame :object=\"airports\" sizing_mode=\"stretch_both\" :max_height=\"300\" />\n",
    "      <h2>Footer</h2>\n",
    "    </template>\n",
    "  </PnColumn>\n",
    "</template>\n",
    "<script lang='py'>\n",
    "from bokeh.sampledata.airport_routes import airports\n",
    "</script>"
   ]
  },
  {
   "cell_type": "markdown",
   "id": "adb60771",
   "metadata": {},
   "source": [
    "\n",
    "## Streamz DataFrames\n",
    "\n",
    "除了渲染标准的 pandas `DataFrame` 和 `Series` 类型外，`PnDataFrame` 组件还将渲染更新的 `streamz` 类型：\n",
    "注意：\n",
    "- 在活动内核中，您应该看到数据框每 0.5 秒更新一次。\n",
    "- `streamz` 当前在 Pyodide/PyScript 中不起作用。\n"
   ]
  },
  {
   "cell_type": "code",
   "execution_count": null,
   "id": "5546baf6",
   "metadata": {},
   "outputs": [],
   "source": [
    "%%vuepy_run --plugins vpanel --show-code\n",
    "<template>\n",
    "  <PnDataFrame :object=\"sdf\" :width=\"500\" />\n",
    "</template>\n",
    "<script lang='py'>\n",
    "from streamz.dataframe import Random\n",
    "\n",
    "sdf = Random(interval='200ms', freq='50ms')\n",
    "</script>"
   ]
  },
  {
   "cell_type": "markdown",
   "id": "aee9f24d",
   "metadata": {},
   "source": [
    "\n",
    "## API\n",
    "\n",
    "### 属性\n",
    "\n",
    "| 属性名      | 说明                 | 类型                                                           | 默认值 |\n",
    "| ---------- | ------------------- | ---------------------------------------------------------------| ------- |\n",
    "| object     | 被显示的DataFrame对象 | ^[pandas.DataFrame, dask.DataFrame, streamz.DataFrame]          | None |\n",
    "| bold_rows  | 在输出中使行标签加粗  | ^[boolean]                                                      | True |\n",
    "| border     | 在开始的table标签中包含的边框宽度 | ^[int]                                                | 0 |\n",
    "| classes    | 应用于结果HTML表格的CSS类 | ^[list[str]]                                                | None |\n",
    "| col_space  | 每列的最小宽度（以CSS长度单位表示）| ^[int, str, dict]                                    | None |\n",
    "| decimal    | 识别为小数分隔符的字符，例如欧洲的',' | ^[str]                                             | '.' |\n",
    "| escape     | 将字符 <, >, 和 & 转换为HTML安全序列 | ^[boolean]                                        | True |\n",
    "| float_format | 如果列元素是浮点数，则应用的格式化函数 | ^[function]                                     | None |\n",
    "| formatters | 按位置或名称应用于列元素的格式化函数 | ^[dict, list]                                       | None |\n",
    "| header     | 是否打印列标签        | ^[boolean]                                                     | True |\n",
    "| index      | 是否打印索引（行）标签 | ^[boolean]                                                     | True |\n",
    "| index_names | 是否打印索引的名称    | ^[boolean]                                                     | True |\n",
    "| justify    | 如何对齐列标签        | ^[str]                                                          | None |\n",
    "| max_rows   | 要显示的最大行数      | ^[int]                                                          | None |\n",
    "| max_cols   | 要显示的最大列数      | ^[int]                                                          | None |\n",
    "| na_rep     | NAN的字符串表示      | ^[str]                                                          | 'NaN' |\n",
    "| render_links | 将URL转换为HTML链接 | ^[boolean]                                                     | False |\n",
    "| show_dimensions | 显示DataFrame维度（行数乘以列数） | ^[boolean]                                       | False |\n",
    "| sparsify   | 对于具有分层索引的DataFrame，设置为False以在每行打印每个多索引键 | ^[boolean]            | True |\n",
    "| text_align | 如何对齐非标题单元格  | ^[str]                                                         | None |\n",
    "| sizing_mode | 尺寸调整模式         | ^[str]                                                         | 'fixed' |\n",
    "| width      | 宽度                 | ^[int, str]                                                    | None |\n",
    "| height     | 高度                 | ^[int, str]                                                    | None |\n",
    "| max_height | 最大高度             | ^[int]                                                         | None |\n",
    "\n",
    "### Events\n",
    "\n",
    "| 事件名 | 说明                  | 类型                                   |\n",
    "| ---   | ---                  | ---                                    |\n",
    "\n",
    "### Slots\n",
    "\n",
    "| 插槽名   | 说明               |\n",
    "| ---     | ---               |\n",
    "| default | 自定义默认内容      |\n",
    "\n",
    "### 方法\n",
    "\n",
    "| 属性名 | 说明 | 类型 |\n",
    "| --- | --- | --- |\n"
   ]
  },
  {
   "cell_type": "code",
   "execution_count": null,
   "id": "28bae2cb",
   "metadata": {},
   "outputs": [],
   "source": [
    "##ignore\n",
    "import pandas as pd\n",
    "import panel as pn\n",
    "\n",
    "pn.extension()\n",
    "\n",
    "df = pd.DataFrame({\n",
    "    'int': [1, 2, 3],\n",
    "    'float': [3.14, 6.28, 9.42],\n",
    "    'str': ['A', 'B', 'C'],\n",
    "    'bool': [True, False, True],\n",
    "}, index=[1, 2, 3])\n",
    "\n",
    "df_pane = pn.pane.DataFrame(df, width=400)\n",
    "\n",
    "pn.Column(\"## Header\", df_pane, \"## Footer\", height=400, width=500) "
   ]
  }
 ],
 "metadata": {},
 "nbformat": 4,
 "nbformat_minor": 5
}
