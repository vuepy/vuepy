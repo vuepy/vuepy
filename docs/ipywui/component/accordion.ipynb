{
 "cells": [
  {
   "cell_type": "markdown",
   "id": "a1e2fa29-7566-4426-be1e-a750658d83a5",
   "metadata": {},
   "source": [
    "# Accordion 手风琴面板 \n",
    "\n",
    "通过手风琴面板收纳内容区域"
   ]
  },
  {
   "cell_type": "markdown",
   "id": "7cdc5e8c-2aa8-41d1-9461-3e451f6ef6ea",
   "metadata": {},
   "source": [
    "## 基础用法\n",
    "\n",
    "每次只能展开一个面板。\n",
    "\n",
    "通过设置 `selected_index` 属性 或 `v-model` 绑定的变量值来打开选中的面板。  \n",
    "如果设置为 `None` 将关闭所有面板。面板的索引值从`0`开始。"
   ]
  },
  {
   "cell_type": "code",
   "execution_count": 1,
   "id": "f5928b17-e8c8-47b0-9774-a8bb1f7e6af3",
   "metadata": {},
   "outputs": [
    {
     "name": "stdout",
     "output_type": "stream",
     "text": [
      "{\"vue\": \"<!-- basic.vue -->\\n<template>\\n  <Accordion v-model=\\\"selected.value\\\" @change=\\\"on_change\\\">\\n    <AccordionItem title=\\\"Item0\\\">\\n      <Slider description=\\\"slider\\\"></Slider>\\n    </AccordionItem>\\n\\n    <AccordionItem title=\\\"Item1\\\">\\n      <Input placeholder=\\\"input\\\"></Input>\\n    </AccordionItem>\\n\\n    <AccordionItem title=\\\"Item2\\\">\\n      <Button label=\\\"click\\\" type=\\\"info\\\"></Button>\\n    </AccordionItem>\\n\\n  </Accordion>\\n</template>\\n<script setup>\\nimport Accordion from \\\"../../../src/ipywui/components/Accordion\\\";\\nimport AccordionItem from \\\"../../../src/ipywui/components/AccordionItem\\\";\\nimport Slider from \\\"../../../src/ipywui/components/Slider\\\";\\nimport Input from \\\"../../../src/ipywui/components/Input\\\";\\nimport Button from \\\"../../../src/ipywui/components/Button\\\";\\n</script>\\n<script lang=\\\"py\\\">\\nfrom vuepy import ref\\n\\nselected = ref(1)\\n\\ndef on_change(event):\\n    print(event) # {'new': 1, 'old': 0, 'owner': Accordion(...)}\\n</script>\", \"setup\": 0}\n"
     ]
    },
    {
     "data": {
      "application/vnd.jupyter.widget-view+json": {
       "model_id": "0796e0f740c14af7b041b3cddf560c33",
       "version_major": 2,
       "version_minor": 0
      },
      "text/plain": [
       "Document(children=(Dom(children=(MessageWidget(message_options={'message': '', 'type': 'info', 'show_close': F…"
      ]
     },
     "execution_count": 1,
     "metadata": {},
     "output_type": "execute_result"
    }
   ],
   "source": [
    "import os\n",
    "import pathlib\n",
    "from vuepy.utils import magic\n",
    "\n",
    "cur_path = pathlib.Path()\n",
    "source_root = cur_path.absolute().parent.parent.parent\n",
    "os.chdir(source_root / 'examples' / 'ipywui' / 'accordion')\n",
    "\n",
    "%vuepy_demo basic.vue"
   ]
  },
  {
   "cell_type": "markdown",
   "id": "8685d144-029f-4afa-8547-4f3d84529504",
   "metadata": {},
   "source": [
    "## Accordion API\n",
    "\n",
    "### Accordion 属性\n",
    "\n",
    "| 属性名        | 说明                 | 类型                                                           | 默认值 |\n",
    "| --------     | ------------------- | ---------------------------------------------------------------| ------- |\n",
    "| v-model/selected_index | 绑定值，当前活动面板对应的索引值 | ^[int]                                                         | —       |\n",
    "| style        | 自定义css样式        | ^[str]                                                         | -       |\n",
    "\n",
    "::: tip\n",
    "\n",
    "**style 支持的其它css属性**\n",
    "\n",
    "Sizes相关\n",
    "* height\n",
    "* width\n",
    "* max_height\n",
    "* max_width\n",
    "* min_height\n",
    "* min_width\n",
    "\n",
    "Display相关\n",
    "* visibility\n",
    "* display\n",
    "* overflow\n",
    "\n",
    "Box model相关\n",
    "* border\n",
    "* margin\n",
    "* padding\n",
    "\n",
    "Positioning相关\n",
    "* top\n",
    "* left\n",
    "* bottom\n",
    "* right\n",
    "\n",
    ":::\n",
    "\n",
    "### Accordion Events\n",
    "\n",
    "| 事件名 | 说明                  | 类型                                   |\n",
    "| ---   | ---                  | ---                                    |\n",
    "| change | 切换活动面板时触发 |  ^[Callable]`({'new': int, 'old': int, 'owner':widget}) -> None` |\n",
    "\n",
    "### Accordion Slots\n",
    "\n",
    "| 插槽名   | 说明               | 子标签 |\n",
    "| ---     | ---               | --- |\n",
    "| default | 自定义默认内容      | Accordion Item |\n",
    "\n",
    "### Accordion 方法\n",
    "\n",
    "| 属性名 | 说明 | 类型 |\n",
    "| --- | --- | --- |\n",
    "\n",
    "\n",
    "## Accordion Item API\n",
    "\n",
    "### Accordion Item 属性\n",
    "\n",
    "| 属性名        | 说明                 | 类型                                                           | 默认值 |\n",
    "| --------     | ------------------- | ---------------------------------------------------------------| ------- |\n",
    "| title | 面板标题 | ^[str]                                                         | —       |\n",
    "\n",
    "### Accordion Item Slots\n",
    "\n",
    "| 插槽名   | 说明               | \n",
    "| ---     | ---               |\n",
    "| default | 自定义默认内容      |\n"
   ]
  }
 ],
 "metadata": {
  "kernelspec": {
   "display_name": "Python 3 (ipykernel)",
   "language": "python",
   "name": "python3"
  },
  "language_info": {
   "codemirror_mode": {
    "name": "ipython",
    "version": 3
   },
   "file_extension": ".py",
   "mimetype": "text/x-python",
   "name": "python",
   "nbconvert_exporter": "python",
   "pygments_lexer": "ipython3",
   "version": "3.10.12"
  },
  "widgets": {
   "application/vnd.jupyter.widget-state+json": {
    "state": {
     "015b202c3e2c42dea4acc43d0191157e": {
      "model_module": "@jupyter-widgets/base",
      "model_module_version": "2.0.0",
      "model_name": "LayoutModel",
      "state": {}
     },
     "0796e0f740c14af7b041b3cddf560c33": {
      "model_module": "@jupyter-widgets/controls",
      "model_module_version": "2.0.0",
      "model_name": "VBoxModel",
      "state": {
       "children": [
        "IPY_MODEL_1b913ec24db24cdda1fca1a6bbeaf480"
       ],
       "layout": "IPY_MODEL_61bd6013cf1245bc91009f3f3d61f51a"
      }
     },
     "1b913ec24db24cdda1fca1a6bbeaf480": {
      "model_module": "@jupyter-widgets/controls",
      "model_module_version": "2.0.0",
      "model_name": "VBoxModel",
      "state": {
       "children": [
        "IPY_MODEL_6c96a044b521401995a8db06d4dccf68",
        "IPY_MODEL_6c96a044b521401995a8db06d4dccf68",
        "IPY_MODEL_76635a0acc7d453f9c2c0ee52effca58"
       ],
       "layout": "IPY_MODEL_d84ab246af014abbb976e0bcc0cee52a"
      }
     },
     "20a08da318f049e99fba005f00918aed": {
      "model_module": "@jupyter-widgets/controls",
      "model_module_version": "2.0.0",
      "model_name": "SliderStyleModel",
      "state": {
       "description_width": ""
      }
     },
     "22f2dcca1d824d8ca664419f63fd33dc": {
      "model_module": "@jupyter-widgets/base",
      "model_module_version": "2.0.0",
      "model_name": "LayoutModel",
      "state": {}
     },
     "26a7e85db1ee4995b55d8b11cbea3e6a": {
      "model_module": "anywidget",
      "model_module_version": "~0.9.*",
      "model_name": "AnyModel",
      "state": {
       "_anywidget_id": "ipywui.widgets.custom.message.MessageWidget",
       "_css": ".wui-message-root {\n    display: flex;\n    position: absolute;\n    left: 0;\n    right: 0;\n    top: 0;\n}\n\n.wui-message-container {\n    align-items: center;\n    display: flex;\n    flex-direction: column-reverse;\n    justify-content: center;\n    min-height: 100%;\n    outline: none;\n    width: 100%;\n\n    -webkit-tap-highlight-color: rgba(0,0,0,0);\n    bottom: 0;\n    left: 0;\n    right: 0;\n    top: 0;\n}\n\n.wui-message--success {\n    --wui-message-bg-color: #f0f9eb;\n    --wui-message-border-color: #e1f3d8;\n    --wui-message-text-color: #67c23a;\n}\n.wui-message--warning {\n    --wui-message-bg-color: #fdf6ec;\n    --wui-message-border-color: #faecd8;\n    --wui-message-text-color: #e6a23c;\n}\n.wui-message--info {\n    --wui-message-bg-color: #f4f4f5;\n    --wui-message-border-color: #e9e9eb;\n    --wui-message-text-color: #909399;\n}\n.wui-message--error {\n    --wui-message-bg-color: #fef0f0;\n    --wui-message-border-color: #fde2e2;\n    --wui-message-text-color: #f56c6c;\n}\n\n@keyframes msg-open {\n    0% {\n        opacity: 0;\n        -webkit-transform: translateY(-120%);\n        transform: translateY(-120%)\n    }\n    to {\n        -webkit-transform: translateY(0);\n        transform: translateY(0)\n    }\n}\n\n@keyframes msg-close {\n    0% {\n        opacity: 1;\n        -webkit-transform: scale(1);\n        transform: scale(1)\n    }\n    to {\n        opacity: 0;\n        -webkit-transform: scale(.9);\n        transform: scale(.9)\n    }\n}\n.wui-message[data-state=entered],.wui-message[data-state=entering] {\n    -webkit-animation: msg-open .24s cubic-bezier(.175,.885,.32,1.175) both;\n    animation: msg-open .24s cubic-bezier(.175,.885,.32,1.175) both\n}\n\n.wui-message[data-state=exiting] {\n    -webkit-animation: msg-close .12s cubic-bezier(.4,0,1,1) both;\n    animation: msg-close .12s cubic-bezier(.4,0,1,1) both\n}\n\n.wui-message {\n    width: -webkit-fit-content;\n    width: -moz-fit-content;\n    width: fit-content;\n    z-index: 2004;\n    max-width: calc(100% - 32px);\n    margin-top: 8px;\n    box-sizing: border-box;\n    /*border-radius: var(--wui-border-radius-base);*/\n    /*border-width: var(--wui-border-width);*/\n    /*border-style: var(--wui-border-style);*/\n    border-color: var(--wui-message-border-color);\n    /*left: 50%;*/\n    /*top: 20px;*/\n    /*transform: translateX(-50%);*/\n    background-color: var(--wui-message-bg-color);\n    /*transition: opacity var(--wui-transition-duration),transform .4s,top .4s;*/\n    /*padding: var(--wui-message-padding);*/\n    display: flex;\n    align-items: center;\n}\n\n/*.wui-message--success */\n.wui-message__content {\n    color: var(--wui-message-text-color);\n    font-size: 14px;\n    line-height: 18px;\n    margin: 10px 14px 10px 14px;\n    overflow-wrap: break-word;\n}\n\n.wui-message__closeBtn {\n    /*cursor: pointer;*/\n    font-style: normal;\n    /*color: gray;*/\n    padding-right: 14px;\n    /*font-size: 13px;*/\n    user-select: none;\n\n    background: transparent;\n    border: none;\n    color: gray;\n    cursor: pointer;\n    font-size: 13px;\n    font-weight: 400;\n    line-height: 1;\n    outline: none;\n    /*padding: 4px;*/\n    text-align: center;\n    transition: opacity .3s;\n    /*width: 100%;*/\n}",
       "_esm": "function closeMsg(msgDom) {\n  if (!msgDom) {\n    return;\n  }\n  msgDom.setAttribute('data-state', 'exiting');\n  msgDom.remove();\n}\n\nfunction createMsg(options) {\n  const {message, msg_id, type = 'info', show_close = false} = options;\n  const msgDom = document.createElement('div');\n  msgDom.className += ` wui-message--${type} wui-message`;\n  msgDom.setAttribute('data-state', 'entered');\n  msgDom.setAttribute('id', msg_id);\n  const msgContent = document.createElement('p');\n  msgContent.className += ` wui-message--${type} wui-message__content`;\n  msgContent.innerText = message;\n  msgDom.appendChild(msgContent);\n  if (show_close) {\n    const closeBtn = document.createElement('i');\n    closeBtn.className += 'wui-message__closeBtn';\n    closeBtn.innerText = 'x';\n    closeBtn.addEventListener('click', (ev) => {\n      closeMsg(msgDom);\n    })\n    msgDom.appendChild(closeBtn);\n  }\n  return msgDom;\n}\n\nexport async function render(view) {\n  let model = view.model;\n  const msgRoot = view.el;\n  msgRoot.className += ' wui-message-root'\n\n  const msgContainer = document.createElement('div');\n  msgContainer.className += ' wui-message-container';\n  msgRoot.appendChild(msgContainer)\n\n  model.on(\"change:message_options\", () => {\n    const options = model.get(\"message_options\");\n    const msg = createMsg(options);\n    msgContainer.appendChild(msg);\n    const {duration = 3000} = options;\n    if (duration > 0) {\n      setTimeout(() => {\n        closeMsg(msg)\n      }, duration);\n    }\n  })\n\n  model.on(\"change:close_msg_id\", () => {\n    const msg_id = model.get(\"close_msg_id\");\n    const msgDom = document.getElementById(msg_id);\n    closeMsg(msgDom);\n  })\n}\n",
       "_model_module": "anywidget",
       "_model_module_version": "~0.9.*",
       "_model_name": "AnyModel",
       "_view_module": "anywidget",
       "_view_module_version": "~0.9.*",
       "_view_name": "AnyView",
       "close_msg_id": "",
       "layout": "IPY_MODEL_289b566ffb614350bf1823cb84150196",
       "message_options": {
        "duration": 3000,
        "message": "",
        "show_close": false,
        "type": "info"
       }
      }
     },
     "289b566ffb614350bf1823cb84150196": {
      "model_module": "@jupyter-widgets/base",
      "model_module_version": "2.0.0",
      "model_name": "LayoutModel",
      "state": {}
     },
     "2b0850d5f76542af99388b12dde41465": {
      "model_module": "@jupyter-widgets/output",
      "model_module_version": "1.0.0",
      "model_name": "OutputModel",
      "state": {
       "layout": "IPY_MODEL_7b1715e11d6a4732b89082585beac7c1"
      }
     },
     "5d4f3c0eb83e433693fe3c9259917a8f": {
      "model_module": "@jupyter-widgets/controls",
      "model_module_version": "2.0.0",
      "model_name": "ButtonModel",
      "state": {
       "button_style": "info",
       "description": "click",
       "layout": "IPY_MODEL_015b202c3e2c42dea4acc43d0191157e",
       "style": "IPY_MODEL_d27575b72a94461f805cfe0befaefe80",
       "tooltip": null
      }
     },
     "61bd6013cf1245bc91009f3f3d61f51a": {
      "model_module": "@jupyter-widgets/base",
      "model_module_version": "2.0.0",
      "model_name": "LayoutModel",
      "state": {}
     },
     "6b933c48c012487db986c8de2a8e394c": {
      "model_module": "@jupyter-widgets/base",
      "model_module_version": "2.0.0",
      "model_name": "LayoutModel",
      "state": {}
     },
     "6c96a044b521401995a8db06d4dccf68": {
      "model_module": "anywidget",
      "model_module_version": "~0.9.*",
      "model_name": "AnyModel",
      "state": {
       "_anywidget_id": "ipywui.widgets.custom.message.MessageWidget",
       "_css": ".wui-message-root {\n    display: flex;\n    position: absolute;\n    left: 0;\n    right: 0;\n    top: 0;\n}\n\n.wui-message-container {\n    align-items: center;\n    display: flex;\n    flex-direction: column-reverse;\n    justify-content: center;\n    min-height: 100%;\n    outline: none;\n    width: 100%;\n\n    -webkit-tap-highlight-color: rgba(0,0,0,0);\n    bottom: 0;\n    left: 0;\n    right: 0;\n    top: 0;\n}\n\n.wui-message--success {\n    --wui-message-bg-color: #f0f9eb;\n    --wui-message-border-color: #e1f3d8;\n    --wui-message-text-color: #67c23a;\n}\n.wui-message--warning {\n    --wui-message-bg-color: #fdf6ec;\n    --wui-message-border-color: #faecd8;\n    --wui-message-text-color: #e6a23c;\n}\n.wui-message--info {\n    --wui-message-bg-color: #f4f4f5;\n    --wui-message-border-color: #e9e9eb;\n    --wui-message-text-color: #909399;\n}\n.wui-message--error {\n    --wui-message-bg-color: #fef0f0;\n    --wui-message-border-color: #fde2e2;\n    --wui-message-text-color: #f56c6c;\n}\n\n@keyframes msg-open {\n    0% {\n        opacity: 0;\n        -webkit-transform: translateY(-120%);\n        transform: translateY(-120%)\n    }\n    to {\n        -webkit-transform: translateY(0);\n        transform: translateY(0)\n    }\n}\n\n@keyframes msg-close {\n    0% {\n        opacity: 1;\n        -webkit-transform: scale(1);\n        transform: scale(1)\n    }\n    to {\n        opacity: 0;\n        -webkit-transform: scale(.9);\n        transform: scale(.9)\n    }\n}\n.wui-message[data-state=entered],.wui-message[data-state=entering] {\n    -webkit-animation: msg-open .24s cubic-bezier(.175,.885,.32,1.175) both;\n    animation: msg-open .24s cubic-bezier(.175,.885,.32,1.175) both\n}\n\n.wui-message[data-state=exiting] {\n    -webkit-animation: msg-close .12s cubic-bezier(.4,0,1,1) both;\n    animation: msg-close .12s cubic-bezier(.4,0,1,1) both\n}\n\n.wui-message {\n    width: -webkit-fit-content;\n    width: -moz-fit-content;\n    width: fit-content;\n    z-index: 2004;\n    max-width: calc(100% - 32px);\n    margin-top: 8px;\n    box-sizing: border-box;\n    /*border-radius: var(--wui-border-radius-base);*/\n    /*border-width: var(--wui-border-width);*/\n    /*border-style: var(--wui-border-style);*/\n    border-color: var(--wui-message-border-color);\n    /*left: 50%;*/\n    /*top: 20px;*/\n    /*transform: translateX(-50%);*/\n    background-color: var(--wui-message-bg-color);\n    /*transition: opacity var(--wui-transition-duration),transform .4s,top .4s;*/\n    /*padding: var(--wui-message-padding);*/\n    display: flex;\n    align-items: center;\n}\n\n/*.wui-message--success */\n.wui-message__content {\n    color: var(--wui-message-text-color);\n    font-size: 14px;\n    line-height: 18px;\n    margin: 10px 14px 10px 14px;\n    overflow-wrap: break-word;\n}\n\n.wui-message__closeBtn {\n    /*cursor: pointer;*/\n    font-style: normal;\n    /*color: gray;*/\n    padding-right: 14px;\n    /*font-size: 13px;*/\n    user-select: none;\n\n    background: transparent;\n    border: none;\n    color: gray;\n    cursor: pointer;\n    font-size: 13px;\n    font-weight: 400;\n    line-height: 1;\n    outline: none;\n    /*padding: 4px;*/\n    text-align: center;\n    transition: opacity .3s;\n    /*width: 100%;*/\n}",
       "_esm": "function closeMsg(msgDom) {\n  if (!msgDom) {\n    return;\n  }\n  msgDom.setAttribute('data-state', 'exiting');\n  msgDom.remove();\n}\n\nfunction createMsg(options) {\n  const {message, msg_id, type = 'info', show_close = false} = options;\n  const msgDom = document.createElement('div');\n  msgDom.className += ` wui-message--${type} wui-message`;\n  msgDom.setAttribute('data-state', 'entered');\n  msgDom.setAttribute('id', msg_id);\n  const msgContent = document.createElement('p');\n  msgContent.className += ` wui-message--${type} wui-message__content`;\n  msgContent.innerText = message;\n  msgDom.appendChild(msgContent);\n  if (show_close) {\n    const closeBtn = document.createElement('i');\n    closeBtn.className += 'wui-message__closeBtn';\n    closeBtn.innerText = 'x';\n    closeBtn.addEventListener('click', (ev) => {\n      closeMsg(msgDom);\n    })\n    msgDom.appendChild(closeBtn);\n  }\n  return msgDom;\n}\n\nexport async function render(view) {\n  let model = view.model;\n  const msgRoot = view.el;\n  msgRoot.className += ' wui-message-root'\n\n  const msgContainer = document.createElement('div');\n  msgContainer.className += ' wui-message-container';\n  msgRoot.appendChild(msgContainer)\n\n  model.on(\"change:message_options\", () => {\n    const options = model.get(\"message_options\");\n    const msg = createMsg(options);\n    msgContainer.appendChild(msg);\n    const {duration = 3000} = options;\n    if (duration > 0) {\n      setTimeout(() => {\n        closeMsg(msg)\n      }, duration);\n    }\n  })\n\n  model.on(\"change:close_msg_id\", () => {\n    const msg_id = model.get(\"close_msg_id\");\n    const msgDom = document.getElementById(msg_id);\n    closeMsg(msgDom);\n  })\n}\n",
       "_model_module": "anywidget",
       "_model_module_version": "~0.9.*",
       "_model_name": "AnyModel",
       "_view_module": "anywidget",
       "_view_module_version": "~0.9.*",
       "_view_name": "AnyView",
       "close_msg_id": "",
       "layout": "IPY_MODEL_e4792790d93d4e5c97c84b3b9d1c2a81",
       "message_options": {
        "duration": 3000,
        "message": "",
        "show_close": false,
        "type": "info"
       }
      }
     },
     "76635a0acc7d453f9c2c0ee52effca58": {
      "model_module": "@jupyter-widgets/controls",
      "model_module_version": "2.0.0",
      "model_name": "VBoxModel",
      "state": {
       "children": [
        "IPY_MODEL_bb44e4567a284677bdef2a2f8dd44388"
       ],
       "layout": "IPY_MODEL_6b933c48c012487db986c8de2a8e394c"
      }
     },
     "7b1715e11d6a4732b89082585beac7c1": {
      "model_module": "@jupyter-widgets/base",
      "model_module_version": "2.0.0",
      "model_name": "LayoutModel",
      "state": {}
     },
     "7d71f7f15bad4eb4adc778350af941ff": {
      "model_module": "@jupyter-widgets/base",
      "model_module_version": "2.0.0",
      "model_name": "LayoutModel",
      "state": {}
     },
     "8287cf8955754a98a39b063045f934f4": {
      "model_module": "@jupyter-widgets/controls",
      "model_module_version": "2.0.0",
      "model_name": "TextStyleModel",
      "state": {
       "description_width": "",
       "font_size": null,
       "text_color": null
      }
     },
     "8a1a140eb20a47cda8b3f4a9ce53144f": {
      "model_module": "@jupyter-widgets/base",
      "model_module_version": "2.0.0",
      "model_name": "LayoutModel",
      "state": {}
     },
     "9757889e22c041819cc552ad52180842": {
      "model_module": "@jupyter-widgets/controls",
      "model_module_version": "2.0.0",
      "model_name": "VBoxModel",
      "state": {
       "children": [
        "IPY_MODEL_5d4f3c0eb83e433693fe3c9259917a8f"
       ],
       "layout": "IPY_MODEL_e2b4795d1af7425eabd8ad2472ba08b0"
      }
     },
     "a8be1312a18749cdaa8dab69b6a7238a": {
      "model_module": "@jupyter-widgets/controls",
      "model_module_version": "2.0.0",
      "model_name": "VBoxModel",
      "state": {
       "children": [
        "IPY_MODEL_b09770bc2a5848e9983679f7100c7a29"
       ],
       "layout": "IPY_MODEL_8a1a140eb20a47cda8b3f4a9ce53144f"
      }
     },
     "b09770bc2a5848e9983679f7100c7a29": {
      "model_module": "@jupyter-widgets/controls",
      "model_module_version": "2.0.0",
      "model_name": "IntSliderModel",
      "state": {
       "behavior": "drag-tap",
       "continuous_update": false,
       "description": "slider",
       "layout": "IPY_MODEL_22f2dcca1d824d8ca664419f63fd33dc",
       "style": "IPY_MODEL_20a08da318f049e99fba005f00918aed"
      }
     },
     "bb44e4567a284677bdef2a2f8dd44388": {
      "model_module": "@jupyter-widgets/controls",
      "model_module_version": "2.0.0",
      "model_name": "AccordionModel",
      "state": {
       "children": [
        "IPY_MODEL_a8be1312a18749cdaa8dab69b6a7238a",
        "IPY_MODEL_d7580769a2c34ab1a8878ad4a93c6e6c",
        "IPY_MODEL_9757889e22c041819cc552ad52180842"
       ],
       "layout": "IPY_MODEL_7d71f7f15bad4eb4adc778350af941ff",
       "selected_index": 1,
       "titles": [
        "Item0",
        "Item1",
        "Item2"
       ]
      }
     },
     "d27575b72a94461f805cfe0befaefe80": {
      "model_module": "@jupyter-widgets/controls",
      "model_module_version": "2.0.0",
      "model_name": "ButtonStyleModel",
      "state": {
       "font_family": null,
       "font_size": null,
       "font_style": null,
       "font_variant": null,
       "font_weight": null,
       "text_color": null,
       "text_decoration": null
      }
     },
     "d7580769a2c34ab1a8878ad4a93c6e6c": {
      "model_module": "@jupyter-widgets/controls",
      "model_module_version": "2.0.0",
      "model_name": "VBoxModel",
      "state": {
       "children": [
        "IPY_MODEL_ff7d57788ea147fabdd043834f2f8df7"
       ],
       "layout": "IPY_MODEL_f943374c2c7646a99e6ad21176a816e1"
      }
     },
     "d84ab246af014abbb976e0bcc0cee52a": {
      "model_module": "@jupyter-widgets/base",
      "model_module_version": "2.0.0",
      "model_name": "LayoutModel",
      "state": {}
     },
     "e2b4795d1af7425eabd8ad2472ba08b0": {
      "model_module": "@jupyter-widgets/base",
      "model_module_version": "2.0.0",
      "model_name": "LayoutModel",
      "state": {}
     },
     "e4792790d93d4e5c97c84b3b9d1c2a81": {
      "model_module": "@jupyter-widgets/base",
      "model_module_version": "2.0.0",
      "model_name": "LayoutModel",
      "state": {}
     },
     "f3326f956343496b955e59ba39d7b000": {
      "model_module": "@jupyter-widgets/base",
      "model_module_version": "2.0.0",
      "model_name": "LayoutModel",
      "state": {}
     },
     "f943374c2c7646a99e6ad21176a816e1": {
      "model_module": "@jupyter-widgets/base",
      "model_module_version": "2.0.0",
      "model_name": "LayoutModel",
      "state": {}
     },
     "ff7d57788ea147fabdd043834f2f8df7": {
      "model_module": "@jupyter-widgets/controls",
      "model_module_version": "2.0.0",
      "model_name": "TextModel",
      "state": {
       "continuous_update": false,
       "layout": "IPY_MODEL_f3326f956343496b955e59ba39d7b000",
       "placeholder": "input",
       "style": "IPY_MODEL_8287cf8955754a98a39b063045f934f4"
      }
     }
    },
    "version_major": 2,
    "version_minor": 0
   }
  }
 },
 "nbformat": 4,
 "nbformat_minor": 5
}