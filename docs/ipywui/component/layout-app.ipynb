{
 "cells": [
  {
   "cell_type": "markdown",
   "id": "a1e2fa29-7566-4426-be1e-a750658d83a5",
   "metadata": {},
   "source": [
    "# AppLayout 应用布局\n",
    "\n",
    "用于布局的容器组件，方便快速搭建页面的基本结构：  \n",
    "\n",
    "`<AppLayout>`：外层容器。有`header`，`left_sidebar`，`center`，`right_sider`，`footer`等5个插槽，分别表示顶栏、左侧边栏、主要区域、右侧边栏、底栏。"
   ]
  },
  {
   "cell_type": "markdown",
   "id": "7cdc5e8c-2aa8-41d1-9461-3e451f6ef6ea",
   "metadata": {},
   "source": [
    "## 常见页面布局"
   ]
  },
  {
   "cell_type": "code",
   "execution_count": 1,
   "id": "f5928b17-e8c8-47b0-9774-a8bb1f7e6af3",
   "metadata": {},
   "outputs": [
    {
     "name": "stdout",
     "output_type": "stream",
     "text": [
      "{\"vue\": \"<!-- layout-hc.vue -->\\n<template>\\n  <AppLayout>\\n    <template v-slot:header>\\n      <Button\\n          label=\\\"header\\\"\\n          style=\\\"width: auto; height: auto; background-color: #c8e3fe\\\"\\n      ></Button>\\n    </template>\\n    <template v-slot:center>\\n      <Button\\n          style=\\\"width: auto; height: auto; background-color: #ecf5fe\\\"\\n      ></Button>\\n      <Button\\n          label=\\\"center\\\"\\n          style=\\\"width: auto; height: auto; background-color: #ecf5fe\\\"\\n      ></Button>\\n      <Button\\n          style=\\\"width: auto; height: auto; background-color: #ecf5fe\\\"\\n      ></Button>\\n    </template>\\n  </AppLayout>\\n</template>\\n\\n<script setup>\\nimport Button from \\\"../../../src/ipywui/components/Button\\\";\\nimport AppLayout from \\\"../../../src/ipywui/components/AppLayout\\\";\\n</script>\", \"setup\": 0}\n"
     ]
    },
    {
     "data": {
      "application/vnd.jupyter.widget-view+json": {
       "model_id": "f88a59414b4446189905298481427c90",
       "version_major": 2,
       "version_minor": 0
      },
      "text/plain": [
       "Document(children=(Dom(children=(MessageWidget(message_options={'message': '', 'type': 'info', 'show_close': F…"
      ]
     },
     "execution_count": 1,
     "metadata": {},
     "output_type": "execute_result"
    }
   ],
   "source": [
    "import os\n",
    "import pathlib\n",
    "from vuepy.utils import magic\n",
    "\n",
    "cur_path = pathlib.Path()\n",
    "source_root = cur_path.absolute().parent.parent.parent\n",
    "os.chdir(source_root / 'examples' / 'ipywui' / 'layout_app')\n",
    "\n",
    "%vuepy_demo layout-hc.vue"
   ]
  },
  {
   "cell_type": "code",
   "execution_count": 2,
   "id": "b04d7eb3-30e1-4ff3-9b40-e2e6b7c48097",
   "metadata": {},
   "outputs": [
    {
     "name": "stdout",
     "output_type": "stream",
     "text": [
      "{\"vue\": \"<!-- layout-hcf.vue -->\\n<template>\\n  <AppLayout>\\n    <template v-slot:header>\\n      <Button label=\\\"header\\\" style=\\\"width: auto; height: auto; background-color: #c8e3fe\\\"></Button>\\n    </template>\\n    <template v-slot:center>\\n      <Button style=\\\"width: auto; height: auto; background-color: #ecf5fe\\\"></Button>\\n      <Button label=\\\"center\\\" style=\\\"width: auto; height: auto; background-color: #ecf5fe\\\"></Button>\\n      <Button style=\\\"width: auto; height: auto; background-color: #ecf5fe\\\"></Button>\\n    </template>\\n    <template v-slot:footer>\\n      <Button label=\\\"footer\\\" style=\\\"width: auto; height: auto; background-color: #c8e3fe\\\"></Button>\\n    </template>\\n  </AppLayout>\\n</template>\\n\\n<script setup>\\nimport Button from \\\"../../../src/ipywui/components/Button\\\";\\nimport AppLayout from \\\"../../../src/ipywui/components/AppLayout\\\";\\n</script>\", \"setup\": 0}\n"
     ]
    },
    {
     "data": {
      "application/vnd.jupyter.widget-view+json": {
       "model_id": "125acafcb0bf4b4fb995e5755ba5735c",
       "version_major": 2,
       "version_minor": 0
      },
      "text/plain": [
       "Document(children=(Dom(children=(MessageWidget(message_options={'message': '', 'type': 'info', 'show_close': F…"
      ]
     },
     "execution_count": 2,
     "metadata": {},
     "output_type": "execute_result"
    }
   ],
   "source": [
    "%vuepy_demo layout-hcf.vue"
   ]
  },
  {
   "cell_type": "code",
   "execution_count": 3,
   "id": "5ea865e1-2910-4add-9470-9ce66935a047",
   "metadata": {},
   "outputs": [
    {
     "name": "stdout",
     "output_type": "stream",
     "text": [
      "{\"vue\": \"<!-- layout-lcr.vue -->\\n<template>\\n  <AppLayout>\\n    <template v-slot:left_sidebar>\\n      <Button label=\\\"\\\" style=\\\"width: auto; height: auto; background-color: #c8e3fe\\\"></Button>\\n      <Button label=\\\"left\\\" style=\\\"width: auto; height: auto; background-color: #c8e3fe\\\"></Button>\\n      <Button label=\\\"\\\" style=\\\"width: auto; height: auto; background-color: #c8e3fe\\\"></Button>\\n    </template>\\n    <template v-slot:right_sidebar>\\n      <Button label=\\\"\\\" style=\\\"width: auto; height: auto; background-color: #c8e3fe\\\"></Button>\\n      <Button label=\\\"right\\\" style=\\\"width: auto; height: auto; background-color: #c8e3fe\\\"></Button>\\n      <Button label=\\\"\\\" style=\\\"width: auto; height: auto; background-color: #c8e3fe\\\"></Button>\\n    </template>\\n    <template v-slot:center>\\n      <Button style=\\\"width: auto; height: auto; background-color: #ecf5fe\\\"></Button>\\n      <Button label=\\\"center\\\" style=\\\"width: auto; height: auto; background-color: #ecf5fe\\\"></Button>\\n      <Button style=\\\"width: auto; height: auto; background-color: #ecf5fe\\\"></Button>\\n    </template>\\n  </AppLayout>\\n</template>\\n\\n<script setup>\\nimport Button from \\\"../../../src/ipywui/components/Button\\\";\\nimport AppLayout from \\\"../../../src/ipywui/components/AppLayout\\\";\\n</script>\", \"setup\": 0}\n"
     ]
    },
    {
     "data": {
      "application/vnd.jupyter.widget-view+json": {
       "model_id": "b2842d86aab9422dbf507d088cbb5e1a",
       "version_major": 2,
       "version_minor": 0
      },
      "text/plain": [
       "Document(children=(Dom(children=(MessageWidget(message_options={'message': '', 'type': 'info', 'show_close': F…"
      ]
     },
     "execution_count": 3,
     "metadata": {},
     "output_type": "execute_result"
    }
   ],
   "source": [
    "%vuepy_demo layout-lcr.vue"
   ]
  },
  {
   "cell_type": "code",
   "execution_count": 4,
   "id": "b0c87cc5-2233-41a9-a387-9642009b32ac",
   "metadata": {},
   "outputs": [
    {
     "name": "stdout",
     "output_type": "stream",
     "text": [
      "{\"vue\": \"<!-- layout-hlc.vue -->\\n<template>\\n  <AppLayout>\\n    <template v-slot:header>\\n      <Button label=\\\"header\\\" style=\\\"width: auto; height: auto; background-color: #c8e3fe\\\"></Button>\\n    </template>\\n    <template v-slot:left_sidebar>\\n      <Button label=\\\"\\\" style=\\\"width: auto; height: auto; background-color: #dbecfe\\\"></Button>\\n      <Button label=\\\"left\\\" style=\\\"width: auto; height: auto; background-color: #dbecfe\\\"></Button>\\n      <Button label=\\\"\\\" style=\\\"width: auto; height: auto; background-color: #dbecfe\\\"></Button>\\n    </template>\\n    <template v-slot:center>\\n      <Button style=\\\"width: auto; height: auto; background-color: #ecf5fe\\\"></Button>\\n      <Button label=\\\"center\\\" style=\\\"width: auto; height: auto; background-color: #ecf5fe\\\"></Button>\\n      <Button style=\\\"width: auto; height: auto; background-color: #ecf5fe\\\"></Button>\\n    </template>\\n  </AppLayout>\\n</template>\\n\\n<script setup>\\nimport Button from \\\"../../../src/ipywui/components/Button\\\";\\nimport AppLayout from \\\"../../../src/ipywui/components/AppLayout\\\";\\n</script>\", \"setup\": 0}\n"
     ]
    },
    {
     "data": {
      "application/vnd.jupyter.widget-view+json": {
       "model_id": "5f767577b38342a9b5f2960ff53be18b",
       "version_major": 2,
       "version_minor": 0
      },
      "text/plain": [
       "Document(children=(Dom(children=(MessageWidget(message_options={'message': '', 'type': 'info', 'show_close': F…"
      ]
     },
     "execution_count": 4,
     "metadata": {},
     "output_type": "execute_result"
    }
   ],
   "source": [
    "%vuepy_demo layout-hlc.vue"
   ]
  },
  {
   "cell_type": "code",
   "execution_count": 5,
   "id": "e8e49a95-1d51-4433-9355-b7f102e8a9a5",
   "metadata": {},
   "outputs": [
    {
     "name": "stdout",
     "output_type": "stream",
     "text": [
      "{\"vue\": \"<!-- layout-hlcf.vue -->\\n<template>\\n  <AppLayout>\\n    <template v-slot:header>\\n      <Button label=\\\"header\\\" style=\\\"width: auto; height: auto; background-color: #c8e3fe\\\"></Button>\\n    </template>\\n    <template v-slot:left_sidebar>\\n      <Button label=\\\"\\\" style=\\\"width: auto; height: auto; background-color: #dbecfe\\\"></Button>\\n      <Button label=\\\"left\\\" style=\\\"width: auto; height: auto; background-color: #dbecfe\\\"></Button>\\n      <Button label=\\\"\\\" style=\\\"width: auto; height: auto; background-color: #dbecfe\\\"></Button>\\n    </template>\\n    <template v-slot:center>\\n      <Button style=\\\"width: auto; height: auto; background-color: #ecf5fe\\\"></Button>\\n      <Button label=\\\"center\\\" style=\\\"width: auto; height: auto; background-color: #ecf5fe\\\"></Button>\\n      <Button style=\\\"width: auto; height: auto; background-color: #ecf5fe\\\"></Button>\\n    </template>\\n    <template v-slot:footer>\\n      <Button label=\\\"footer\\\" style=\\\"width: auto; height: auto; background-color: #c8e3fe\\\"></Button>\\n    </template>\\n  </AppLayout>\\n</template>\\n\\n<script setup>\\nimport Button from \\\"../../../src/ipywui/components/Button\\\";\\nimport AppLayout from \\\"../../../src/ipywui/components/AppLayout\\\";\\n</script>\", \"setup\": 0}\n"
     ]
    },
    {
     "data": {
      "application/vnd.jupyter.widget-view+json": {
       "model_id": "de813817776541e6af4438efde37b47b",
       "version_major": 2,
       "version_minor": 0
      },
      "text/plain": [
       "Document(children=(Dom(children=(MessageWidget(message_options={'message': '', 'type': 'info', 'show_close': F…"
      ]
     },
     "execution_count": 5,
     "metadata": {},
     "output_type": "execute_result"
    }
   ],
   "source": [
    "%vuepy_demo layout-hlcf.vue"
   ]
  },
  {
   "cell_type": "code",
   "execution_count": 6,
   "id": "aefac00b-059b-4ab0-b472-f0bba5e69db8",
   "metadata": {},
   "outputs": [
    {
     "name": "stdout",
     "output_type": "stream",
     "text": [
      "{\"vue\": \"<!-- layout-hl-cf.vue -->\\n<template>\\n  <AppLayout>\\n    <template v-slot:header>\\n      <Button label=\\\"header\\\" style=\\\"width: auto; height: auto; background-color: #c8e3fe\\\"></Button>\\n    </template>\\n\\n    <template v-slot:left_sidebar>\\n      <Button label=\\\"\\\" style=\\\"width: auto; height: auto; background-color: #dbecfe\\\"></Button>\\n      <Button label=\\\"left\\\" style=\\\"width: auto; height: auto; background-color: #dbecfe\\\"></Button>\\n      <Button label=\\\"\\\" style=\\\"width: auto; height: auto; background-color: #dbecfe\\\"></Button>\\n      <Button label=\\\"\\\" style=\\\"width: auto; height: auto; background-color: #dbecfe\\\"></Button>\\n    </template>\\n\\n    <template v-slot:center>\\n      <AppLayout>\\n        <template v-slot:center>\\n          <Button style=\\\"width: auto; height: auto; background-color: #ecf5fe\\\"></Button>\\n          <Button label=\\\"center\\\" style=\\\"width: auto; height: auto; background-color: #ecf5fe\\\"></Button>\\n          <Button style=\\\"width: auto; height: auto; background-color: #ecf5fe\\\"></Button>\\n        </template>\\n\\n        <template v-slot:footer>\\n          <Button label=\\\"footer\\\" style=\\\"width: auto; height: auto; background-color: #c8e3fe\\\"></Button>\\n        </template>\\n      </AppLayout>\\n    </template>\\n  </AppLayout>\\n</template>\\n\\n<script setup>\\nimport Button from \\\"../../../src/ipywui/components/Button\\\";\\nimport AppLayout from \\\"../../../src/ipywui/components/AppLayout\\\";\\n</script>\", \"setup\": 0}\n"
     ]
    },
    {
     "data": {
      "application/vnd.jupyter.widget-view+json": {
       "model_id": "08660ffab0f642bf91a1d80472317977",
       "version_major": 2,
       "version_minor": 0
      },
      "text/plain": [
       "Document(children=(Dom(children=(MessageWidget(message_options={'message': '', 'type': 'info', 'show_close': F…"
      ]
     },
     "execution_count": 6,
     "metadata": {},
     "output_type": "execute_result"
    }
   ],
   "source": [
    "%vuepy_demo layout-hl-cf.vue"
   ]
  },
  {
   "cell_type": "code",
   "execution_count": 7,
   "id": "c41e06a3-2410-4c43-a342-040b3d4e643d",
   "metadata": {},
   "outputs": [
    {
     "name": "stdout",
     "output_type": "stream",
     "text": [
      "{\"vue\": \"<!-- layout-l-hc.vue -->\\n<template>\\n  <AppLayout>\\n    <template v-slot:left_sidebar>\\n      <Button label=\\\"\\\" style=\\\"width: auto; height: auto; background-color: #dbecfe\\\"></Button>\\n      <Button label=\\\"left\\\" style=\\\"width: auto; height: auto; background-color: #dbecfe\\\"></Button>\\n      <Button label=\\\"\\\" style=\\\"width: auto; height: auto; background-color: #dbecfe\\\"></Button>\\n      <Button label=\\\"\\\" style=\\\"width: auto; height: auto; background-color: #dbecfe\\\"></Button>\\n    </template>\\n\\n    <template v-slot:center>\\n      <AppLayout>\\n        <template v-slot:header>\\n          <Button label=\\\"header\\\" style=\\\"width: auto; height: auto; background-color: #c8e3fe\\\"></Button>\\n        </template>\\n        <template v-slot:center>\\n          <Button style=\\\"width: auto; height: auto; background-color: #ecf5fe\\\"></Button>\\n          <Button label=\\\"center\\\" style=\\\"width: auto; height: auto; background-color: #ecf5fe\\\"></Button>\\n          <Button style=\\\"width: auto; height: auto; background-color: #ecf5fe\\\"></Button>\\n        </template>\\n      </AppLayout>\\n    </template>\\n  </AppLayout>\\n</template>\\n\\n<script setup>\\nimport Button from \\\"../../../src/ipywui/components/Button\\\";\\nimport AppLayout from \\\"../../../src/ipywui/components/AppLayout\\\";\\n</script>\", \"setup\": 0}\n"
     ]
    },
    {
     "data": {
      "application/vnd.jupyter.widget-view+json": {
       "model_id": "cb997d9f8e8b4b7a83fba6205ab9e9cb",
       "version_major": 2,
       "version_minor": 0
      },
      "text/plain": [
       "Document(children=(Dom(children=(MessageWidget(message_options={'message': '', 'type': 'info', 'show_close': F…"
      ]
     },
     "execution_count": 7,
     "metadata": {},
     "output_type": "execute_result"
    }
   ],
   "source": [
    "%vuepy_demo layout-l-hc.vue"
   ]
  },
  {
   "cell_type": "code",
   "execution_count": 8,
   "id": "84d0a1d3-ca64-4210-828f-436e29f6e703",
   "metadata": {},
   "outputs": [
    {
     "name": "stdout",
     "output_type": "stream",
     "text": [
      "{\"vue\": \"<!-- layout-l-hcf.vue -->\\n<template>\\n  <AppLayout>\\n    <template v-slot:left_sidebar>\\n      <Button label=\\\"\\\" style=\\\"width: auto; height: auto; background-color: #dbecfe\\\"></Button>\\n      <Button label=\\\"\\\" style=\\\"width: auto; height: auto; background-color: #dbecfe\\\"></Button>\\n      <Button label=\\\"left\\\" style=\\\"width: auto; height: auto; background-color: #dbecfe\\\"></Button>\\n      <Button label=\\\"\\\" style=\\\"width: auto; height: auto; background-color: #dbecfe\\\"></Button>\\n      <Button label=\\\"\\\" style=\\\"width: auto; height: auto; background-color: #dbecfe\\\"></Button>\\n    </template>\\n\\n    <template v-slot:center>\\n      <AppLayout>\\n        <template v-slot:header>\\n          <Button label=\\\"header\\\" style=\\\"width: auto; height: auto; background-color: #c8e3fe\\\"></Button>\\n        </template>\\n        <template v-slot:center>\\n          <Button style=\\\"width: auto; height: auto; background-color: #ecf5fe\\\"></Button>\\n          <Button label=\\\"center\\\" style=\\\"width: auto; height: auto; background-color: #ecf5fe\\\"></Button>\\n          <Button style=\\\"width: auto; height: auto; background-color: #ecf5fe\\\"></Button>\\n        </template>\\n        <template v-slot:footer>\\n          <Button label=\\\"footer\\\" style=\\\"width: auto; height: auto; background-color: #c8e3fe\\\"></Button>\\n        </template>\\n      </AppLayout>\\n    </template>\\n  </AppLayout>\\n</template>\\n\\n<script setup>\\nimport Button from \\\"../../../src/ipywui/components/Button\\\";\\nimport AppLayout from \\\"../../../src/ipywui/components/AppLayout\\\";\\n</script>\", \"setup\": 0}\n"
     ]
    },
    {
     "data": {
      "application/vnd.jupyter.widget-view+json": {
       "model_id": "4bb7c918d19e42f780e135dbe03455da",
       "version_major": 2,
       "version_minor": 0
      },
      "text/plain": [
       "Document(children=(Dom(children=(MessageWidget(message_options={'message': '', 'type': 'info', 'show_close': F…"
      ]
     },
     "execution_count": 8,
     "metadata": {},
     "output_type": "execute_result"
    }
   ],
   "source": [
    "%vuepy_demo layout-l-hcf.vue"
   ]
  },
  {
   "cell_type": "markdown",
   "id": "12c2efad-b30b-4a2e-903b-67624ab3ae76",
   "metadata": {},
   "source": [
    "## 自定义面板宽高\n",
    "\n",
    "您还可以使用以下参数自定义面板宽高：\n",
    "* `pane_widths`: 左侧边栏，主要区域，右侧边栏的绝对或相对宽度\n",
    "* `pane_heights`: 顶栏，主要区域，底栏的绝对或相对高度\n",
    "\n",
    "两者都接受三个元素的序列，每个元素要么是整数或`'1fr'`（与整数相同）表示相对占比。或者为`'100px'`形式，表示绝对占比。"
   ]
  },
  {
   "cell_type": "code",
   "execution_count": 9,
   "id": "fe202d82-29c7-4fe7-adfd-0118cd6ca18c",
   "metadata": {},
   "outputs": [
    {
     "name": "stdout",
     "output_type": "stream",
     "text": [
      "{\"vue\": \"<!-- custom.vue -->\\n<template>\\n  <AppLayout :pane_widths=\\\"['100px', 1, 1]\\\" :pane_heights=\\\"[1, 3, '30px']\\\">\\n    <template v-slot:header>\\n      <Button label=\\\"header\\\" style=\\\"width: auto; height: auto; background-color: #c8e3fe\\\"></Button>\\n    </template>\\n    <template v-slot:left_sidebar>\\n      <Button label=\\\"\\\" style=\\\"width: auto; height: auto; background-color: #dbecfe\\\"></Button>\\n      <Button label=\\\"left 100px\\\" style=\\\"width: auto; height: auto; background-color: #dbecfe\\\"></Button>\\n      <Button label=\\\"\\\" style=\\\"width: auto; height: auto; background-color: #dbecfe\\\"></Button>\\n    </template>\\n    <template v-slot:right_sidebar>\\n      <Button label=\\\"\\\" style=\\\"width: auto; height: auto; background-color: #dbecfe\\\"></Button>\\n      <Button label=\\\"right\\\" style=\\\"width: auto; height: auto; background-color: #dbecfe\\\"></Button>\\n      <Button label=\\\"\\\" style=\\\"width: auto; height: auto; background-color: #dbecfe\\\"></Button>\\n    </template>\\n    <template v-slot:center>\\n      <Button style=\\\"width: auto; height: auto; background-color: #ecf5fe\\\"></Button>\\n      <Button label=\\\"center\\\" style=\\\"width: auto; height: auto; background-color: #ecf5fe\\\"></Button>\\n      <Button style=\\\"width: auto; height: auto; background-color: #ecf5fe\\\"></Button>\\n    </template>\\n    <template v-slot:footer>\\n      <Button label=\\\"footer\\\" style=\\\"width: auto; height: auto; background-color: #c8e3fe\\\"></Button>\\n    </template>\\n  </AppLayout>\\n</template>\\n\\n<script setup>\\nimport Button from \\\"../../../src/ipywui/components/Button\\\";\\nimport AppLayout from \\\"../../../src/ipywui/components/AppLayout\\\";\\n</script>\", \"setup\": 0}\n"
     ]
    },
    {
     "data": {
      "application/vnd.jupyter.widget-view+json": {
       "model_id": "4fbd07da98fa4f0c8dd96cd9bbb2aa87",
       "version_major": 2,
       "version_minor": 0
      },
      "text/plain": [
       "Document(children=(Dom(children=(MessageWidget(message_options={'message': '', 'type': 'info', 'show_close': F…"
      ]
     },
     "execution_count": 9,
     "metadata": {},
     "output_type": "execute_result"
    }
   ],
   "source": [
    "%vuepy_demo custom.vue"
   ]
  },
  {
   "cell_type": "markdown",
   "id": "8685d144-029f-4afa-8547-4f3d84529504",
   "metadata": {},
   "source": [
    "## AppLayout API\n",
    "\n",
    "### AppLayout 属性\n",
    "\n",
    "| 属性名        | 说明                 | 类型                                                           | 默认值 |\n",
    "| --------     | ------------------- | ---------------------------------------------------------------| ------- |\n",
    "| width        | 容器宽                 | ^[str]                                                         | -       |\n",
    "| height       | 容器高                 | ^[str]                                                         | -       |\n",
    "| pane_widths   | (左侧边栏，主要区域，右侧边栏)的绝对或相对宽度                 | ^[str]                                                         | -       |\n",
    "| pane_heights   | (顶栏，主要区域，底栏)的绝对或相对高度                 | ^[str]                                                         | -       |\n",
    "| gutter（保留参数）       | 栅格间隔, css flex布局下的 gride-gap  | ^[str]                                              | -       |\n",
    "| justify（保留参数） | css flex布局下的水平排列方式  | ^[enum]`'start' \\| 'end' \\| 'center' \\| 'space-around' \\| 'space-between' \\| 'space-evenly'` | start   |\n",
    "| align（保留参数）   | css flex布局下的垂直排列方式 | ^[enum]`'top' \\| 'middle' \\| 'bottom'`                                                       | —       |\n",
    "| style        | 自定义css样式        | ^[str]                                                         | -       |\n",
    "\n",
    "::: tip\n",
    "\n",
    "**style 支持的其它css属性**\n",
    "\n",
    "Sizes相关\n",
    "* height\n",
    "* width\n",
    "* max_height\n",
    "* max_width\n",
    "* min_height\n",
    "* min_width\n",
    "\n",
    "Display相关\n",
    "* visibility\n",
    "* display\n",
    "* overflow\n",
    "\n",
    "Box model相关\n",
    "* border\n",
    "* margin\n",
    "* padding\n",
    "\n",
    "Positioning相关\n",
    "* top\n",
    "* left\n",
    "* bottom\n",
    "* right\n",
    "\n",
    ":::\n",
    "\n",
    "### AppLayout Slots\n",
    "\n",
    "| 插槽名   | 说明               | 子标签 |\n",
    "| ---     | ---               | --- |\n",
    "| header |  顶栏自定义内容 |  |\n",
    "| left_sidebar | 左侧边栏自定义内容      | |\n",
    "| right_sidebar | 右侧边栏自定义内容      | |\n",
    "| center | 主要区域自定义内容      | |\n",
    "| footer | 底栏自定义内容      | |\n",
    "\n",
    "### AppLayout 方法\n",
    "\n",
    "| 属性名 | 说明 | 类型 |\n",
    "| --- | --- | --- |\n"
   ]
  }
 ],
 "metadata": {
  "kernelspec": {
   "display_name": "Python 3 (ipykernel)",
   "language": "python",
   "name": "python3"
  },
  "language_info": {
   "codemirror_mode": {
    "name": "ipython",
    "version": 3
   },
   "file_extension": ".py",
   "mimetype": "text/x-python",
   "name": "python",
   "nbconvert_exporter": "python",
   "pygments_lexer": "ipython3",
   "version": "3.10.12"
  },
  "widgets": {
   "application/vnd.jupyter.widget-state+json": {
    "state": {
     "00458df2c2a543c98bc03ebc8c93f8d8": {
      "model_module": "@jupyter-widgets/base",
      "model_module_version": "2.0.0",
      "model_name": "LayoutModel",
      "state": {
       "grid_area": "center"
      }
     },
     "010b922f2e594b89a6f48916a7dcbe9a": {
      "model_module": "@jupyter-widgets/controls",
      "model_module_version": "2.0.0",
      "model_name": "ButtonModel",
      "state": {
       "layout": "IPY_MODEL_8fbab6d68d2b4886af2ca6d7f537891a",
       "style": "IPY_MODEL_b7b1448511b342ecbc5dcca24f282afe",
       "tooltip": null
      }
     },
     "0135619e02314fe5ba6382e24497dd3a": {
      "model_module": "@jupyter-widgets/controls",
      "model_module_version": "2.0.0",
      "model_name": "VBoxModel",
      "state": {
       "children": [
        "IPY_MODEL_138e37d105804fdc85e2563ceef5ab7d",
        "IPY_MODEL_138e37d105804fdc85e2563ceef5ab7d",
        "IPY_MODEL_72ab848265e740a586d8a6a2bd4714e8"
       ],
       "layout": "IPY_MODEL_11f0f82e0d2f4ba4bbc551c73db805ac"
      }
     },
     "0137fad881ca4e938710d90f442a43ee": {
      "model_module": "@jupyter-widgets/base",
      "model_module_version": "2.0.0",
      "model_name": "LayoutModel",
      "state": {
       "grid_area": "center"
      }
     },
     "02af723fce5d4117a2872d398464a8cf": {
      "model_module": "@jupyter-widgets/controls",
      "model_module_version": "2.0.0",
      "model_name": "VBoxModel",
      "state": {
       "children": [
        "IPY_MODEL_a267fbd878e6424d8f70994aecac0f89"
       ],
       "layout": "IPY_MODEL_00458df2c2a543c98bc03ebc8c93f8d8"
      }
     },
     "02bf51fb79c6443bb7f7809b474e9f3a": {
      "model_module": "@jupyter-widgets/controls",
      "model_module_version": "2.0.0",
      "model_name": "ButtonStyleModel",
      "state": {
       "button_color": "#c8e3fe",
       "font_family": null,
       "font_size": null,
       "font_style": null,
       "font_variant": null,
       "font_weight": null,
       "text_color": null,
       "text_decoration": null
      }
     },
     "02d053502d9e4515863a1378fb9d309b": {
      "model_module": "@jupyter-widgets/controls",
      "model_module_version": "2.0.0",
      "model_name": "ButtonStyleModel",
      "state": {
       "button_color": "#dbecfe",
       "font_family": null,
       "font_size": null,
       "font_style": null,
       "font_variant": null,
       "font_weight": null,
       "text_color": null,
       "text_decoration": null
      }
     },
     "031c48e390b743edbf56a24b5a804d65": {
      "model_module": "@jupyter-widgets/controls",
      "model_module_version": "2.0.0",
      "model_name": "VBoxModel",
      "state": {
       "children": [
        "IPY_MODEL_3e8a7a641d9449e8b95b184ff61ab542",
        "IPY_MODEL_77c68a0ead9f44f0903fd9040fa8c226",
        "IPY_MODEL_f7a70d1c8c6e4b758d489976445c140e",
        "IPY_MODEL_71abe0ef419c40a0907b3cd56e44d0ac",
        "IPY_MODEL_218fdf97ee524649968ae58714253f6c"
       ],
       "layout": "IPY_MODEL_fe117b3897064c24a58d0e7bf5b2f0fe"
      }
     },
     "0323abd0f7b0484cbb804c700cc80ce1": {
      "model_module": "@jupyter-widgets/controls",
      "model_module_version": "2.0.0",
      "model_name": "ButtonStyleModel",
      "state": {
       "button_color": "#dbecfe",
       "font_family": null,
       "font_size": null,
       "font_style": null,
       "font_variant": null,
       "font_weight": null,
       "text_color": null,
       "text_decoration": null
      }
     },
     "0335ecc0944244d8bf78a6fa0fdae9fe": {
      "model_module": "@jupyter-widgets/base",
      "model_module_version": "2.0.0",
      "model_name": "LayoutModel",
      "state": {}
     },
     "04272caba9254f8bb35cc61607638ed8": {
      "model_module": "@jupyter-widgets/base",
      "model_module_version": "2.0.0",
      "model_name": "LayoutModel",
      "state": {
       "height": "auto",
       "width": "auto"
      }
     },
     "04664bb864f3455c84ec46a2334763f5": {
      "model_module": "@jupyter-widgets/base",
      "model_module_version": "2.0.0",
      "model_name": "LayoutModel",
      "state": {}
     },
     "05cc8132398d44379de2baa7d4ad0457": {
      "model_module": "@jupyter-widgets/base",
      "model_module_version": "2.0.0",
      "model_name": "LayoutModel",
      "state": {
       "height": "auto",
       "width": "auto"
      }
     },
     "0666028ceaec4832bef668058a5a481e": {
      "model_module": "@jupyter-widgets/controls",
      "model_module_version": "2.0.0",
      "model_name": "ButtonModel",
      "state": {
       "layout": "IPY_MODEL_76c188bed3bc4c95a8f23cc11ef76204",
       "style": "IPY_MODEL_1cf44360790941ec8a40281e956ed778",
       "tooltip": null
      }
     },
     "06adfb40e7e94c9f8bc7702b897dba7a": {
      "model_module": "@jupyter-widgets/controls",
      "model_module_version": "2.0.0",
      "model_name": "ButtonModel",
      "state": {
       "layout": "IPY_MODEL_21110336137045e883c651ff76effe4d",
       "style": "IPY_MODEL_0cb4ab7175b34092ba83349760053da7",
       "tooltip": null
      }
     },
     "077c03df5f744b5e9e4b4ebf68c17542": {
      "model_module": "@jupyter-widgets/controls",
      "model_module_version": "2.0.0",
      "model_name": "ButtonModel",
      "state": {
       "layout": "IPY_MODEL_8d31d289fc0b40a6ac041125a442802a",
       "style": "IPY_MODEL_f52aa25975714bb7b81d879180a5def2",
       "tooltip": null
      }
     },
     "083f2562a6ce4c0fbfe2f84f46395ba0": {
      "model_module": "@jupyter-widgets/base",
      "model_module_version": "2.0.0",
      "model_name": "LayoutModel",
      "state": {
       "height": "auto",
       "width": "auto"
      }
     },
     "08660ffab0f642bf91a1d80472317977": {
      "model_module": "@jupyter-widgets/controls",
      "model_module_version": "2.0.0",
      "model_name": "VBoxModel",
      "state": {
       "children": [
        "IPY_MODEL_56b5ae9a23be451e92a72bdfa2c9150e"
       ],
       "layout": "IPY_MODEL_0b62a3c215a3402fbebca857419120b4"
      }
     },
     "086df41e79d7426facee8d26f86f59ff": {
      "model_module": "@jupyter-widgets/controls",
      "model_module_version": "2.0.0",
      "model_name": "ButtonStyleModel",
      "state": {
       "button_color": "#c8e3fe",
       "font_family": null,
       "font_size": null,
       "font_style": null,
       "font_variant": null,
       "font_weight": null,
       "text_color": null,
       "text_decoration": null
      }
     },
     "0911845ffd3b4d40b28f1b52ef87a579": {
      "model_module": "@jupyter-widgets/controls",
      "model_module_version": "2.0.0",
      "model_name": "ButtonStyleModel",
      "state": {
       "button_color": "#ecf5fe",
       "font_family": null,
       "font_size": null,
       "font_style": null,
       "font_variant": null,
       "font_weight": null,
       "text_color": null,
       "text_decoration": null
      }
     },
     "0958cea870544c888af1c74fb60e88d2": {
      "model_module": "@jupyter-widgets/controls",
      "model_module_version": "2.0.0",
      "model_name": "ButtonModel",
      "state": {
       "description": "header",
       "layout": "IPY_MODEL_701f5edab7254635a190c4bd85d8fbd5",
       "style": "IPY_MODEL_863087347092417dafbf4c3b683181de",
       "tooltip": null
      }
     },
     "0964e502c27341e886ed814f3dc545f5": {
      "model_module": "@jupyter-widgets/base",
      "model_module_version": "2.0.0",
      "model_name": "LayoutModel",
      "state": {
       "grid_area": "header"
      }
     },
     "0acf5e77bcf34f2aa507824faa9a3975": {
      "model_module": "@jupyter-widgets/controls",
      "model_module_version": "2.0.0",
      "model_name": "VBoxModel",
      "state": {
       "children": [
        "IPY_MODEL_95bd7873c972446da325524b9c5ff5f4"
       ],
       "layout": "IPY_MODEL_26e1f88b34b7443b9e517123cd58d3da"
      }
     },
     "0ad11881ed654ee697fdf408bde66950": {
      "model_module": "@jupyter-widgets/controls",
      "model_module_version": "2.0.0",
      "model_name": "VBoxModel",
      "state": {
       "children": [
        "IPY_MODEL_738e147e02194f61a8aa1c501dd8bcc4"
       ],
       "layout": "IPY_MODEL_5fd0418c9f5c498d885cbf56becbfbe3"
      }
     },
     "0b33e366cac7490ca5d283cf5b3eee47": {
      "model_module": "@jupyter-widgets/base",
      "model_module_version": "2.0.0",
      "model_name": "LayoutModel",
      "state": {
       "height": "auto",
       "width": "auto"
      }
     },
     "0b62a3c215a3402fbebca857419120b4": {
      "model_module": "@jupyter-widgets/base",
      "model_module_version": "2.0.0",
      "model_name": "LayoutModel",
      "state": {}
     },
     "0c22608a89984878bfb956082bc92ba5": {
      "model_module": "@jupyter-widgets/controls",
      "model_module_version": "2.0.0",
      "model_name": "VBoxModel",
      "state": {
       "children": [
        "IPY_MODEL_6109964654c04927a1d002a4429a056b",
        "IPY_MODEL_6109964654c04927a1d002a4429a056b",
        "IPY_MODEL_12bdb310ed2e43449af3fc90c39b5a0d"
       ],
       "layout": "IPY_MODEL_898e5bc566a24990a67b0be56b2b8018"
      }
     },
     "0c5dab8a026a4b329efdf7b38ba83bf4": {
      "model_module": "@jupyter-widgets/base",
      "model_module_version": "2.0.0",
      "model_name": "LayoutModel",
      "state": {
       "grid_area": "header"
      }
     },
     "0cb4ab7175b34092ba83349760053da7": {
      "model_module": "@jupyter-widgets/controls",
      "model_module_version": "2.0.0",
      "model_name": "ButtonStyleModel",
      "state": {
       "button_color": "#ecf5fe",
       "font_family": null,
       "font_size": null,
       "font_style": null,
       "font_variant": null,
       "font_weight": null,
       "text_color": null,
       "text_decoration": null
      }
     },
     "0ceec01ca5954bc5bddee85262eab0cf": {
      "model_module": "@jupyter-widgets/base",
      "model_module_version": "2.0.0",
      "model_name": "LayoutModel",
      "state": {}
     },
     "0d55d2ea1243418c83c71b299b620893": {
      "model_module": "@jupyter-widgets/controls",
      "model_module_version": "2.0.0",
      "model_name": "ButtonModel",
      "state": {
       "description": "header",
       "layout": "IPY_MODEL_8792937f13904a25b648162b24402b97",
       "style": "IPY_MODEL_6ba5d07f5b3c414d864db2725dea7da0",
       "tooltip": null
      }
     },
     "0e316ba67de04aad9ba588b904d668d5": {
      "model_module": "@jupyter-widgets/controls",
      "model_module_version": "2.0.0",
      "model_name": "VBoxModel",
      "state": {
       "children": [
        "IPY_MODEL_189e14c8f61d4ce9b4fbc3a6649c56f2"
       ],
       "layout": "IPY_MODEL_19c529a422224278adbaafd4399d9c67"
      }
     },
     "0e3b5e6bfe6b43318c1ed7f066684d9b": {
      "model_module": "@jupyter-widgets/base",
      "model_module_version": "2.0.0",
      "model_name": "LayoutModel",
      "state": {
       "grid_template_areas": "\"header header header\"\n\"center center center\"\n\"footer footer footer\"",
       "grid_template_columns": "1fr 2fr 1fr",
       "grid_template_rows": "1fr 3fr 1fr"
      }
     },
     "0f2bb71b61b54c0cbce16672713ef459": {
      "model_module": "@jupyter-widgets/controls",
      "model_module_version": "2.0.0",
      "model_name": "ButtonModel",
      "state": {
       "layout": "IPY_MODEL_de17d00f277e4c3fb6de739a47a2bb88",
       "style": "IPY_MODEL_6fddad031b184f2fb03093ff21e0592a",
       "tooltip": null
      }
     },
     "0f54b49f603b43c9b4da69c6a080f9d0": {
      "model_module": "@jupyter-widgets/base",
      "model_module_version": "2.0.0",
      "model_name": "LayoutModel",
      "state": {
       "height": "auto",
       "width": "auto"
      }
     },
     "0f75d108a86b4acba1174583865a9d29": {
      "model_module": "@jupyter-widgets/controls",
      "model_module_version": "2.0.0",
      "model_name": "VBoxModel",
      "state": {
       "children": [
        "IPY_MODEL_e923c21de8614e00854350d9509f0576"
       ],
       "layout": "IPY_MODEL_c9420ecabd3d460eb014fbbaca9bdf90"
      }
     },
     "10b0420e9389436ab9033789e57e4e57": {
      "model_module": "@jupyter-widgets/base",
      "model_module_version": "2.0.0",
      "model_name": "LayoutModel",
      "state": {}
     },
     "11761fc312224ba28ac5985065eea873": {
      "model_module": "@jupyter-widgets/base",
      "model_module_version": "2.0.0",
      "model_name": "LayoutModel",
      "state": {
       "height": "auto",
       "width": "auto"
      }
     },
     "11f0f82e0d2f4ba4bbc551c73db805ac": {
      "model_module": "@jupyter-widgets/base",
      "model_module_version": "2.0.0",
      "model_name": "LayoutModel",
      "state": {}
     },
     "1255ed66dff040df877b46f499878162": {
      "model_module": "@jupyter-widgets/base",
      "model_module_version": "2.0.0",
      "model_name": "LayoutModel",
      "state": {}
     },
     "125acafcb0bf4b4fb995e5755ba5735c": {
      "model_module": "@jupyter-widgets/controls",
      "model_module_version": "2.0.0",
      "model_name": "VBoxModel",
      "state": {
       "children": [
        "IPY_MODEL_59062c562fb64f199869eaccd2eb5df4"
       ],
       "layout": "IPY_MODEL_be4646859e8c491bb22543fde9caba4b"
      }
     },
     "12bdb310ed2e43449af3fc90c39b5a0d": {
      "model_module": "@jupyter-widgets/controls",
      "model_module_version": "2.0.0",
      "model_name": "VBoxModel",
      "state": {
       "children": [
        "IPY_MODEL_9aa3fe7edaa94f458e27111d2a2f3754"
       ],
       "layout": "IPY_MODEL_3ad807ff8867457f88eba2db96b611f6"
      }
     },
     "138e37d105804fdc85e2563ceef5ab7d": {
      "model_module": "anywidget",
      "model_module_version": "0.9.3",
      "model_name": "AnyModel",
      "state": {
       "_anywidget_id": "ipywui.widgets.custom.message.MessageWidget",
       "_css": ".wui-message-root {\n    display: flex;\n    position: absolute;\n    left: 0;\n    right: 0;\n    top: 0;\n}\n\n.wui-message-container {\n    align-items: center;\n    display: flex;\n    flex-direction: column-reverse;\n    justify-content: center;\n    min-height: 100%;\n    outline: none;\n    width: 100%;\n\n    -webkit-tap-highlight-color: rgba(0,0,0,0);\n    bottom: 0;\n    left: 0;\n    right: 0;\n    top: 0;\n}\n\n.wui-message--success {\n    --wui-message-bg-color: #f0f9eb;\n    --wui-message-border-color: #e1f3d8;\n    --wui-message-text-color: #67c23a;\n}\n.wui-message--warning {\n    --wui-message-bg-color: #fdf6ec;\n    --wui-message-border-color: #faecd8;\n    --wui-message-text-color: #e6a23c;\n}\n.wui-message--info {\n    --wui-message-bg-color: #f4f4f5;\n    --wui-message-border-color: #e9e9eb;\n    --wui-message-text-color: #909399;\n}\n.wui-message--error {\n    --wui-message-bg-color: #fef0f0;\n    --wui-message-border-color: #fde2e2;\n    --wui-message-text-color: #f56c6c;\n}\n\n@keyframes msg-open {\n    0% {\n        opacity: 0;\n        -webkit-transform: translateY(-120%);\n        transform: translateY(-120%)\n    }\n    to {\n        -webkit-transform: translateY(0);\n        transform: translateY(0)\n    }\n}\n\n@keyframes msg-close {\n    0% {\n        opacity: 1;\n        -webkit-transform: scale(1);\n        transform: scale(1)\n    }\n    to {\n        opacity: 0;\n        -webkit-transform: scale(.9);\n        transform: scale(.9)\n    }\n}\n.wui-message[data-state=entered],.wui-message[data-state=entering] {\n    -webkit-animation: msg-open .24s cubic-bezier(.175,.885,.32,1.175) both;\n    animation: msg-open .24s cubic-bezier(.175,.885,.32,1.175) both\n}\n\n.wui-message[data-state=exiting] {\n    -webkit-animation: msg-close .12s cubic-bezier(.4,0,1,1) both;\n    animation: msg-close .12s cubic-bezier(.4,0,1,1) both\n}\n\n.wui-message {\n    width: -webkit-fit-content;\n    width: -moz-fit-content;\n    width: fit-content;\n    z-index: 2004;\n    max-width: calc(100% - 32px);\n    margin-top: 8px;\n    box-sizing: border-box;\n    /*border-radius: var(--wui-border-radius-base);*/\n    /*border-width: var(--wui-border-width);*/\n    /*border-style: var(--wui-border-style);*/\n    border-color: var(--wui-message-border-color);\n    /*left: 50%;*/\n    /*top: 20px;*/\n    /*transform: translateX(-50%);*/\n    background-color: var(--wui-message-bg-color);\n    /*transition: opacity var(--wui-transition-duration),transform .4s,top .4s;*/\n    /*padding: var(--wui-message-padding);*/\n    display: flex;\n    align-items: center;\n}\n\n/*.wui-message--success */\n.wui-message__content {\n    color: var(--wui-message-text-color);\n    font-size: 14px;\n    line-height: 18px;\n    margin: 10px 14px 10px 14px;\n    overflow-wrap: break-word;\n}\n\n.wui-message__closeBtn {\n    /*cursor: pointer;*/\n    font-style: normal;\n    /*color: gray;*/\n    padding-right: 14px;\n    /*font-size: 13px;*/\n    user-select: none;\n\n    background: transparent;\n    border: none;\n    color: gray;\n    cursor: pointer;\n    font-size: 13px;\n    font-weight: 400;\n    line-height: 1;\n    outline: none;\n    /*padding: 4px;*/\n    text-align: center;\n    transition: opacity .3s;\n    /*width: 100%;*/\n}",
       "_esm": "function closeMsg(msgDom) {\n  if (!msgDom) {\n    return;\n  }\n  msgDom.setAttribute('data-state', 'exiting');\n  msgDom.remove();\n}\n\nfunction createMsg(options) {\n  const {message, msg_id, type = 'info', show_close = false} = options;\n  const msgDom = document.createElement('div');\n  msgDom.className += ` wui-message--${type} wui-message`;\n  msgDom.setAttribute('data-state', 'entered');\n  msgDom.setAttribute('id', msg_id);\n  const msgContent = document.createElement('p');\n  msgContent.className += ` wui-message--${type} wui-message__content`;\n  msgContent.innerText = message;\n  msgDom.appendChild(msgContent);\n  if (show_close) {\n    const closeBtn = document.createElement('i');\n    closeBtn.className += 'wui-message__closeBtn';\n    closeBtn.innerText = 'x';\n    closeBtn.addEventListener('click', (ev) => {\n      closeMsg(msgDom);\n    })\n    msgDom.appendChild(closeBtn);\n  }\n  return msgDom;\n}\n\nexport async function render(view) {\n  let model = view.model;\n  const msgRoot = view.el;\n  msgRoot.className += ' wui-message-root'\n\n  const msgContainer = document.createElement('div');\n  msgContainer.className += ' wui-message-container';\n  msgRoot.appendChild(msgContainer)\n\n  model.on(\"change:message_options\", () => {\n    const options = model.get(\"message_options\");\n    const msg = createMsg(options);\n    msgContainer.appendChild(msg);\n    const {duration = 3000} = options;\n    if (duration > 0) {\n      setTimeout(() => {\n        closeMsg(msg)\n      }, duration);\n    }\n  })\n\n  model.on(\"change:close_msg_id\", () => {\n    const msg_id = model.get(\"close_msg_id\");\n    const msgDom = document.getElementById(msg_id);\n    closeMsg(msgDom);\n  })\n}\n",
       "_model_module": "anywidget",
       "_model_module_version": "0.9.3",
       "_model_name": "AnyModel",
       "_view_module": "anywidget",
       "_view_module_version": "0.9.3",
       "_view_name": "AnyView",
       "close_msg_id": "",
       "layout": "IPY_MODEL_10b0420e9389436ab9033789e57e4e57",
       "message_options": {
        "duration": 3000,
        "message": "",
        "show_close": false,
        "type": "info"
       }
      }
     },
     "148572828c5148a181efcd6b434943eb": {
      "model_module": "@jupyter-widgets/base",
      "model_module_version": "2.0.0",
      "model_name": "LayoutModel",
      "state": {
       "height": "auto",
       "width": "auto"
      }
     },
     "15ca0f4b1383448bbe0e68542774ec99": {
      "model_module": "@jupyter-widgets/controls",
      "model_module_version": "2.0.0",
      "model_name": "ButtonModel",
      "state": {
       "description": "header",
       "layout": "IPY_MODEL_79c62317738d4301b7f787ea80e559c6",
       "style": "IPY_MODEL_eed251cacff34a95bce7c39edb9feb7c",
       "tooltip": null
      }
     },
     "15ef4d11f33d46019495c09de725c9c3": {
      "model_module": "@jupyter-widgets/controls",
      "model_module_version": "2.0.0",
      "model_name": "ButtonModel",
      "state": {
       "description": "left",
       "layout": "IPY_MODEL_8dabbaa0a3b14462be12fdb053ff69d8",
       "style": "IPY_MODEL_4c6616df002f4430b1619f07db37f27c",
       "tooltip": null
      }
     },
     "160fd1d5bd0a40efb445f7aac6a5b5c3": {
      "model_module": "anywidget",
      "model_module_version": "0.9.3",
      "model_name": "AnyModel",
      "state": {
       "_anywidget_id": "ipywui.widgets.custom.message.MessageWidget",
       "_css": ".wui-message-root {\n    display: flex;\n    position: absolute;\n    left: 0;\n    right: 0;\n    top: 0;\n}\n\n.wui-message-container {\n    align-items: center;\n    display: flex;\n    flex-direction: column-reverse;\n    justify-content: center;\n    min-height: 100%;\n    outline: none;\n    width: 100%;\n\n    -webkit-tap-highlight-color: rgba(0,0,0,0);\n    bottom: 0;\n    left: 0;\n    right: 0;\n    top: 0;\n}\n\n.wui-message--success {\n    --wui-message-bg-color: #f0f9eb;\n    --wui-message-border-color: #e1f3d8;\n    --wui-message-text-color: #67c23a;\n}\n.wui-message--warning {\n    --wui-message-bg-color: #fdf6ec;\n    --wui-message-border-color: #faecd8;\n    --wui-message-text-color: #e6a23c;\n}\n.wui-message--info {\n    --wui-message-bg-color: #f4f4f5;\n    --wui-message-border-color: #e9e9eb;\n    --wui-message-text-color: #909399;\n}\n.wui-message--error {\n    --wui-message-bg-color: #fef0f0;\n    --wui-message-border-color: #fde2e2;\n    --wui-message-text-color: #f56c6c;\n}\n\n@keyframes msg-open {\n    0% {\n        opacity: 0;\n        -webkit-transform: translateY(-120%);\n        transform: translateY(-120%)\n    }\n    to {\n        -webkit-transform: translateY(0);\n        transform: translateY(0)\n    }\n}\n\n@keyframes msg-close {\n    0% {\n        opacity: 1;\n        -webkit-transform: scale(1);\n        transform: scale(1)\n    }\n    to {\n        opacity: 0;\n        -webkit-transform: scale(.9);\n        transform: scale(.9)\n    }\n}\n.wui-message[data-state=entered],.wui-message[data-state=entering] {\n    -webkit-animation: msg-open .24s cubic-bezier(.175,.885,.32,1.175) both;\n    animation: msg-open .24s cubic-bezier(.175,.885,.32,1.175) both\n}\n\n.wui-message[data-state=exiting] {\n    -webkit-animation: msg-close .12s cubic-bezier(.4,0,1,1) both;\n    animation: msg-close .12s cubic-bezier(.4,0,1,1) both\n}\n\n.wui-message {\n    width: -webkit-fit-content;\n    width: -moz-fit-content;\n    width: fit-content;\n    z-index: 2004;\n    max-width: calc(100% - 32px);\n    margin-top: 8px;\n    box-sizing: border-box;\n    /*border-radius: var(--wui-border-radius-base);*/\n    /*border-width: var(--wui-border-width);*/\n    /*border-style: var(--wui-border-style);*/\n    border-color: var(--wui-message-border-color);\n    /*left: 50%;*/\n    /*top: 20px;*/\n    /*transform: translateX(-50%);*/\n    background-color: var(--wui-message-bg-color);\n    /*transition: opacity var(--wui-transition-duration),transform .4s,top .4s;*/\n    /*padding: var(--wui-message-padding);*/\n    display: flex;\n    align-items: center;\n}\n\n/*.wui-message--success */\n.wui-message__content {\n    color: var(--wui-message-text-color);\n    font-size: 14px;\n    line-height: 18px;\n    margin: 10px 14px 10px 14px;\n    overflow-wrap: break-word;\n}\n\n.wui-message__closeBtn {\n    /*cursor: pointer;*/\n    font-style: normal;\n    /*color: gray;*/\n    padding-right: 14px;\n    /*font-size: 13px;*/\n    user-select: none;\n\n    background: transparent;\n    border: none;\n    color: gray;\n    cursor: pointer;\n    font-size: 13px;\n    font-weight: 400;\n    line-height: 1;\n    outline: none;\n    /*padding: 4px;*/\n    text-align: center;\n    transition: opacity .3s;\n    /*width: 100%;*/\n}",
       "_esm": "function closeMsg(msgDom) {\n  if (!msgDom) {\n    return;\n  }\n  msgDom.setAttribute('data-state', 'exiting');\n  msgDom.remove();\n}\n\nfunction createMsg(options) {\n  const {message, msg_id, type = 'info', show_close = false} = options;\n  const msgDom = document.createElement('div');\n  msgDom.className += ` wui-message--${type} wui-message`;\n  msgDom.setAttribute('data-state', 'entered');\n  msgDom.setAttribute('id', msg_id);\n  const msgContent = document.createElement('p');\n  msgContent.className += ` wui-message--${type} wui-message__content`;\n  msgContent.innerText = message;\n  msgDom.appendChild(msgContent);\n  if (show_close) {\n    const closeBtn = document.createElement('i');\n    closeBtn.className += 'wui-message__closeBtn';\n    closeBtn.innerText = 'x';\n    closeBtn.addEventListener('click', (ev) => {\n      closeMsg(msgDom);\n    })\n    msgDom.appendChild(closeBtn);\n  }\n  return msgDom;\n}\n\nexport async function render(view) {\n  let model = view.model;\n  const msgRoot = view.el;\n  msgRoot.className += ' wui-message-root'\n\n  const msgContainer = document.createElement('div');\n  msgContainer.className += ' wui-message-container';\n  msgRoot.appendChild(msgContainer)\n\n  model.on(\"change:message_options\", () => {\n    const options = model.get(\"message_options\");\n    const msg = createMsg(options);\n    msgContainer.appendChild(msg);\n    const {duration = 3000} = options;\n    if (duration > 0) {\n      setTimeout(() => {\n        closeMsg(msg)\n      }, duration);\n    }\n  })\n\n  model.on(\"change:close_msg_id\", () => {\n    const msg_id = model.get(\"close_msg_id\");\n    const msgDom = document.getElementById(msg_id);\n    closeMsg(msgDom);\n  })\n}\n",
       "_model_module": "anywidget",
       "_model_module_version": "0.9.3",
       "_model_name": "AnyModel",
       "_view_module": "anywidget",
       "_view_module_version": "0.9.3",
       "_view_name": "AnyView",
       "close_msg_id": "",
       "layout": "IPY_MODEL_f202916be36e46d6bbfcc3253ab16801",
       "message_options": {
        "duration": 3000,
        "message": "",
        "show_close": false,
        "type": "info"
       }
      }
     },
     "174456d0955c4be9be3bba759d144319": {
      "model_module": "@jupyter-widgets/controls",
      "model_module_version": "2.0.0",
      "model_name": "ButtonModel",
      "state": {
       "description": "center",
       "layout": "IPY_MODEL_36afb52a1bd143c6a4ead5d402ff58ad",
       "style": "IPY_MODEL_cab1e49e967340679f4da0cf14567583",
       "tooltip": null
      }
     },
     "17a5254e9d0a4a3a9a47564ab952825d": {
      "model_module": "@jupyter-widgets/base",
      "model_module_version": "2.0.0",
      "model_name": "LayoutModel",
      "state": {}
     },
     "17bfa4776d7b48fc891aac22aa9eb2d6": {
      "model_module": "@jupyter-widgets/base",
      "model_module_version": "2.0.0",
      "model_name": "LayoutModel",
      "state": {
       "height": "auto",
       "width": "auto"
      }
     },
     "1880e5dfc232459b8045c3f46b8600e5": {
      "model_module": "@jupyter-widgets/controls",
      "model_module_version": "2.0.0",
      "model_name": "ButtonModel",
      "state": {
       "description": "footer",
       "layout": "IPY_MODEL_4058906f1642450f96931e1645e19db0",
       "style": "IPY_MODEL_1b5c3087075d4247b74717eb3d3d7502",
       "tooltip": null
      }
     },
     "189e14c8f61d4ce9b4fbc3a6649c56f2": {
      "model_module": "@jupyter-widgets/controls",
      "model_module_version": "2.0.0",
      "model_name": "GridBoxModel",
      "state": {
       "children": [
        "IPY_MODEL_bf21d2ac85984d4685b3e590aff5e8e2",
        "IPY_MODEL_18e63467ec5a4001a7edb222081683ef",
        "IPY_MODEL_02af723fce5d4117a2872d398464a8cf"
       ],
       "layout": "IPY_MODEL_ad5c87e741a24acdb5ce8d96f553dde0"
      }
     },
     "18e63467ec5a4001a7edb222081683ef": {
      "model_module": "@jupyter-widgets/controls",
      "model_module_version": "2.0.0",
      "model_name": "VBoxModel",
      "state": {
       "children": [
        "IPY_MODEL_51087c0af9144e838738d5bb4b44d074",
        "IPY_MODEL_5ed93421ba2d49b8bf45442fa4a64f47",
        "IPY_MODEL_71c710874edf4dc18f5ecb1cbd2997d8",
        "IPY_MODEL_79877f34b0f14e77b78f0f38b8aefc8c"
       ],
       "layout": "IPY_MODEL_4b506b68bdf14ffaa5cda5e44c3094e1"
      }
     },
     "19285924b47644f0bd060fae81ee7d31": {
      "model_module": "@jupyter-widgets/controls",
      "model_module_version": "2.0.0",
      "model_name": "ButtonStyleModel",
      "state": {
       "button_color": "#ecf5fe",
       "font_family": null,
       "font_size": null,
       "font_style": null,
       "font_variant": null,
       "font_weight": null,
       "text_color": null,
       "text_decoration": null
      }
     },
     "194e5608e35849bdb70c38f61232331b": {
      "model_module": "@jupyter-widgets/controls",
      "model_module_version": "2.0.0",
      "model_name": "ButtonStyleModel",
      "state": {
       "button_color": "#ecf5fe",
       "font_family": null,
       "font_size": null,
       "font_style": null,
       "font_variant": null,
       "font_weight": null,
       "text_color": null,
       "text_decoration": null
      }
     },
     "19c529a422224278adbaafd4399d9c67": {
      "model_module": "@jupyter-widgets/base",
      "model_module_version": "2.0.0",
      "model_name": "LayoutModel",
      "state": {}
     },
     "1a6e62a005594777925bad465462c749": {
      "model_module": "@jupyter-widgets/controls",
      "model_module_version": "2.0.0",
      "model_name": "ButtonModel",
      "state": {
       "layout": "IPY_MODEL_4320db89b3cc470da634a1499e1a8872",
       "style": "IPY_MODEL_e2d8740cca084b978d109165228f8892",
       "tooltip": null
      }
     },
     "1b5c3087075d4247b74717eb3d3d7502": {
      "model_module": "@jupyter-widgets/controls",
      "model_module_version": "2.0.0",
      "model_name": "ButtonStyleModel",
      "state": {
       "button_color": "#c8e3fe",
       "font_family": null,
       "font_size": null,
       "font_style": null,
       "font_variant": null,
       "font_weight": null,
       "text_color": null,
       "text_decoration": null
      }
     },
     "1c1f075b42114dec99380e063d2510d7": {
      "model_module": "@jupyter-widgets/base",
      "model_module_version": "2.0.0",
      "model_name": "LayoutModel",
      "state": {
       "grid_area": "right-sidebar"
      }
     },
     "1c3cc44ac1e6455e8d920a34de63c4b6": {
      "model_module": "@jupyter-widgets/base",
      "model_module_version": "2.0.0",
      "model_name": "LayoutModel",
      "state": {
       "height": "auto",
       "width": "auto"
      }
     },
     "1c7b63b25df24008bc2dd80094a60778": {
      "model_module": "@jupyter-widgets/base",
      "model_module_version": "2.0.0",
      "model_name": "LayoutModel",
      "state": {
       "height": "auto",
       "width": "auto"
      }
     },
     "1c9cccda11664256b7d45427baa98ddf": {
      "model_module": "@jupyter-widgets/controls",
      "model_module_version": "2.0.0",
      "model_name": "GridBoxModel",
      "state": {
       "children": [
        "IPY_MODEL_7bbbdedf32a74deea4a1db19ce089461",
        "IPY_MODEL_edfb2e4a40134c89a71186c59e80b361"
       ],
       "layout": "IPY_MODEL_3e07410686bd47b6a28b9e2d737e25e6"
      }
     },
     "1cf44360790941ec8a40281e956ed778": {
      "model_module": "@jupyter-widgets/controls",
      "model_module_version": "2.0.0",
      "model_name": "ButtonStyleModel",
      "state": {
       "button_color": "#c8e3fe",
       "font_family": null,
       "font_size": null,
       "font_style": null,
       "font_variant": null,
       "font_weight": null,
       "text_color": null,
       "text_decoration": null
      }
     },
     "1e3f707359f7473099636dd5a3065a94": {
      "model_module": "anywidget",
      "model_module_version": "0.9.3",
      "model_name": "AnyModel",
      "state": {
       "_anywidget_id": "ipywui.widgets.custom.message.MessageWidget",
       "_css": ".wui-message-root {\n    display: flex;\n    position: absolute;\n    left: 0;\n    right: 0;\n    top: 0;\n}\n\n.wui-message-container {\n    align-items: center;\n    display: flex;\n    flex-direction: column-reverse;\n    justify-content: center;\n    min-height: 100%;\n    outline: none;\n    width: 100%;\n\n    -webkit-tap-highlight-color: rgba(0,0,0,0);\n    bottom: 0;\n    left: 0;\n    right: 0;\n    top: 0;\n}\n\n.wui-message--success {\n    --wui-message-bg-color: #f0f9eb;\n    --wui-message-border-color: #e1f3d8;\n    --wui-message-text-color: #67c23a;\n}\n.wui-message--warning {\n    --wui-message-bg-color: #fdf6ec;\n    --wui-message-border-color: #faecd8;\n    --wui-message-text-color: #e6a23c;\n}\n.wui-message--info {\n    --wui-message-bg-color: #f4f4f5;\n    --wui-message-border-color: #e9e9eb;\n    --wui-message-text-color: #909399;\n}\n.wui-message--error {\n    --wui-message-bg-color: #fef0f0;\n    --wui-message-border-color: #fde2e2;\n    --wui-message-text-color: #f56c6c;\n}\n\n@keyframes msg-open {\n    0% {\n        opacity: 0;\n        -webkit-transform: translateY(-120%);\n        transform: translateY(-120%)\n    }\n    to {\n        -webkit-transform: translateY(0);\n        transform: translateY(0)\n    }\n}\n\n@keyframes msg-close {\n    0% {\n        opacity: 1;\n        -webkit-transform: scale(1);\n        transform: scale(1)\n    }\n    to {\n        opacity: 0;\n        -webkit-transform: scale(.9);\n        transform: scale(.9)\n    }\n}\n.wui-message[data-state=entered],.wui-message[data-state=entering] {\n    -webkit-animation: msg-open .24s cubic-bezier(.175,.885,.32,1.175) both;\n    animation: msg-open .24s cubic-bezier(.175,.885,.32,1.175) both\n}\n\n.wui-message[data-state=exiting] {\n    -webkit-animation: msg-close .12s cubic-bezier(.4,0,1,1) both;\n    animation: msg-close .12s cubic-bezier(.4,0,1,1) both\n}\n\n.wui-message {\n    width: -webkit-fit-content;\n    width: -moz-fit-content;\n    width: fit-content;\n    z-index: 2004;\n    max-width: calc(100% - 32px);\n    margin-top: 8px;\n    box-sizing: border-box;\n    /*border-radius: var(--wui-border-radius-base);*/\n    /*border-width: var(--wui-border-width);*/\n    /*border-style: var(--wui-border-style);*/\n    border-color: var(--wui-message-border-color);\n    /*left: 50%;*/\n    /*top: 20px;*/\n    /*transform: translateX(-50%);*/\n    background-color: var(--wui-message-bg-color);\n    /*transition: opacity var(--wui-transition-duration),transform .4s,top .4s;*/\n    /*padding: var(--wui-message-padding);*/\n    display: flex;\n    align-items: center;\n}\n\n/*.wui-message--success */\n.wui-message__content {\n    color: var(--wui-message-text-color);\n    font-size: 14px;\n    line-height: 18px;\n    margin: 10px 14px 10px 14px;\n    overflow-wrap: break-word;\n}\n\n.wui-message__closeBtn {\n    /*cursor: pointer;*/\n    font-style: normal;\n    /*color: gray;*/\n    padding-right: 14px;\n    /*font-size: 13px;*/\n    user-select: none;\n\n    background: transparent;\n    border: none;\n    color: gray;\n    cursor: pointer;\n    font-size: 13px;\n    font-weight: 400;\n    line-height: 1;\n    outline: none;\n    /*padding: 4px;*/\n    text-align: center;\n    transition: opacity .3s;\n    /*width: 100%;*/\n}",
       "_esm": "function closeMsg(msgDom) {\n  if (!msgDom) {\n    return;\n  }\n  msgDom.setAttribute('data-state', 'exiting');\n  msgDom.remove();\n}\n\nfunction createMsg(options) {\n  const {message, msg_id, type = 'info', show_close = false} = options;\n  const msgDom = document.createElement('div');\n  msgDom.className += ` wui-message--${type} wui-message`;\n  msgDom.setAttribute('data-state', 'entered');\n  msgDom.setAttribute('id', msg_id);\n  const msgContent = document.createElement('p');\n  msgContent.className += ` wui-message--${type} wui-message__content`;\n  msgContent.innerText = message;\n  msgDom.appendChild(msgContent);\n  if (show_close) {\n    const closeBtn = document.createElement('i');\n    closeBtn.className += 'wui-message__closeBtn';\n    closeBtn.innerText = 'x';\n    closeBtn.addEventListener('click', (ev) => {\n      closeMsg(msgDom);\n    })\n    msgDom.appendChild(closeBtn);\n  }\n  return msgDom;\n}\n\nexport async function render(view) {\n  let model = view.model;\n  const msgRoot = view.el;\n  msgRoot.className += ' wui-message-root'\n\n  const msgContainer = document.createElement('div');\n  msgContainer.className += ' wui-message-container';\n  msgRoot.appendChild(msgContainer)\n\n  model.on(\"change:message_options\", () => {\n    const options = model.get(\"message_options\");\n    const msg = createMsg(options);\n    msgContainer.appendChild(msg);\n    const {duration = 3000} = options;\n    if (duration > 0) {\n      setTimeout(() => {\n        closeMsg(msg)\n      }, duration);\n    }\n  })\n\n  model.on(\"change:close_msg_id\", () => {\n    const msg_id = model.get(\"close_msg_id\");\n    const msgDom = document.getElementById(msg_id);\n    closeMsg(msgDom);\n  })\n}\n",
       "_model_module": "anywidget",
       "_model_module_version": "0.9.3",
       "_model_name": "AnyModel",
       "_view_module": "anywidget",
       "_view_module_version": "0.9.3",
       "_view_name": "AnyView",
       "close_msg_id": "",
       "layout": "IPY_MODEL_0335ecc0944244d8bf78a6fa0fdae9fe",
       "message_options": {
        "duration": 3000,
        "message": "",
        "show_close": false,
        "type": "info"
       }
      }
     },
     "1edb36a37ccf4adf88a5f1370a8a3d25": {
      "model_module": "@jupyter-widgets/controls",
      "model_module_version": "2.0.0",
      "model_name": "VBoxModel",
      "state": {
       "children": [
        "IPY_MODEL_720b977e11fe450d8b0bbedc4e47ec89",
        "IPY_MODEL_d0a0ebe6bfb741faa51d54a3e460e314",
        "IPY_MODEL_5232f8dcf29e4cdfa8f8b741530d0c71"
       ],
       "layout": "IPY_MODEL_671ea8886ecf472c93f4b01ac6702ae4"
      }
     },
     "1f8bbb2450bc48188085dbd96f246c97": {
      "model_module": "@jupyter-widgets/controls",
      "model_module_version": "2.0.0",
      "model_name": "ButtonStyleModel",
      "state": {
       "button_color": "#dbecfe",
       "font_family": null,
       "font_size": null,
       "font_style": null,
       "font_variant": null,
       "font_weight": null,
       "text_color": null,
       "text_decoration": null
      }
     },
     "21110336137045e883c651ff76effe4d": {
      "model_module": "@jupyter-widgets/base",
      "model_module_version": "2.0.0",
      "model_name": "LayoutModel",
      "state": {
       "height": "auto",
       "width": "auto"
      }
     },
     "2115ad2829a9477fb1168fe6246d0c96": {
      "model_module": "@jupyter-widgets/controls",
      "model_module_version": "2.0.0",
      "model_name": "ButtonStyleModel",
      "state": {
       "button_color": "#ecf5fe",
       "font_family": null,
       "font_size": null,
       "font_style": null,
       "font_variant": null,
       "font_weight": null,
       "text_color": null,
       "text_decoration": null
      }
     },
     "218fdf97ee524649968ae58714253f6c": {
      "model_module": "@jupyter-widgets/controls",
      "model_module_version": "2.0.0",
      "model_name": "ButtonModel",
      "state": {
       "layout": "IPY_MODEL_b166f32f8e9d4ae8979267931e6117b4",
       "style": "IPY_MODEL_6278fb6d8eb84112b32b21e34aced831",
       "tooltip": null
      }
     },
     "2221bbe18eb94b598d1c8c334159af5e": {
      "model_module": "@jupyter-widgets/controls",
      "model_module_version": "2.0.0",
      "model_name": "ButtonModel",
      "state": {
       "description": "center",
       "layout": "IPY_MODEL_964361e38788447190f4f5a3e628f4da",
       "style": "IPY_MODEL_19285924b47644f0bd060fae81ee7d31",
       "tooltip": null
      }
     },
     "223b65e1b9364a4c942859c5ff1c9836": {
      "model_module": "@jupyter-widgets/controls",
      "model_module_version": "2.0.0",
      "model_name": "ButtonStyleModel",
      "state": {
       "button_color": "#dbecfe",
       "font_family": null,
       "font_size": null,
       "font_style": null,
       "font_variant": null,
       "font_weight": null,
       "text_color": null,
       "text_decoration": null
      }
     },
     "245ef2509dc14faa9052bcad8a4fab50": {
      "model_module": "@jupyter-widgets/controls",
      "model_module_version": "2.0.0",
      "model_name": "ButtonModel",
      "state": {
       "description": "center",
       "layout": "IPY_MODEL_84f1733a97a64167ac3f9caf515278c7",
       "style": "IPY_MODEL_de5792f9cc5544a6835b0c50bbdb1a44",
       "tooltip": null
      }
     },
     "24ba62819a1b40fc83fb01f56775a9d1": {
      "model_module": "@jupyter-widgets/controls",
      "model_module_version": "2.0.0",
      "model_name": "VBoxModel",
      "state": {
       "children": [
        "IPY_MODEL_2fe7009d3f334c5da66ae20e73aca3ae",
        "IPY_MODEL_15ef4d11f33d46019495c09de725c9c3",
        "IPY_MODEL_0f2bb71b61b54c0cbce16672713ef459"
       ],
       "layout": "IPY_MODEL_6a177e56a5254171b4a96873422427b0"
      }
     },
     "24d44223d6b648929443e21da136073d": {
      "model_module": "@jupyter-widgets/base",
      "model_module_version": "2.0.0",
      "model_name": "LayoutModel",
      "state": {}
     },
     "259d57de756047d6abc4129af61ea304": {
      "model_module": "@jupyter-widgets/controls",
      "model_module_version": "2.0.0",
      "model_name": "ButtonStyleModel",
      "state": {
       "button_color": "#dbecfe",
       "font_family": null,
       "font_size": null,
       "font_style": null,
       "font_variant": null,
       "font_weight": null,
       "text_color": null,
       "text_decoration": null
      }
     },
     "260cd39a305c46e2a50d9fdd6a9f8a09": {
      "model_module": "@jupyter-widgets/base",
      "model_module_version": "2.0.0",
      "model_name": "LayoutModel",
      "state": {
       "height": "auto",
       "width": "auto"
      }
     },
     "26ade59b4c2d482d8a48444330fe48a2": {
      "model_module": "@jupyter-widgets/base",
      "model_module_version": "2.0.0",
      "model_name": "LayoutModel",
      "state": {
       "height": "auto",
       "width": "auto"
      }
     },
     "26e1f88b34b7443b9e517123cd58d3da": {
      "model_module": "@jupyter-widgets/base",
      "model_module_version": "2.0.0",
      "model_name": "LayoutModel",
      "state": {
       "grid_area": "footer"
      }
     },
     "272b133ef4a242da93ae246cd9d4aab4": {
      "model_module": "@jupyter-widgets/base",
      "model_module_version": "2.0.0",
      "model_name": "LayoutModel",
      "state": {
       "height": "auto",
       "width": "auto"
      }
     },
     "273949e0384c4cfabd462cbed84a7cfd": {
      "model_module": "@jupyter-widgets/controls",
      "model_module_version": "2.0.0",
      "model_name": "VBoxModel",
      "state": {
       "children": [
        "IPY_MODEL_6cbd246617884a81a9448d1d5d0406c9",
        "IPY_MODEL_8558800fcff04986a5bf0dd904b96955",
        "IPY_MODEL_9ca3fd415e5c4f99998ed35a932d6350"
       ],
       "layout": "IPY_MODEL_8da1af48aff24538abca4c086623bf25"
      }
     },
     "28e4fdc3312840979228ad506b024b7c": {
      "model_module": "@jupyter-widgets/controls",
      "model_module_version": "2.0.0",
      "model_name": "ButtonStyleModel",
      "state": {
       "button_color": "#dbecfe",
       "font_family": null,
       "font_size": null,
       "font_style": null,
       "font_variant": null,
       "font_weight": null,
       "text_color": null,
       "text_decoration": null
      }
     },
     "29dc8d642e7c4d0f96a77f15fc352a77": {
      "model_module": "@jupyter-widgets/controls",
      "model_module_version": "2.0.0",
      "model_name": "ButtonStyleModel",
      "state": {
       "button_color": "#ecf5fe",
       "font_family": null,
       "font_size": null,
       "font_style": null,
       "font_variant": null,
       "font_weight": null,
       "text_color": null,
       "text_decoration": null
      }
     },
     "29e62816ac0b46f481880030bce70cc0": {
      "model_module": "@jupyter-widgets/base",
      "model_module_version": "2.0.0",
      "model_name": "LayoutModel",
      "state": {}
     },
     "2a702641b68446bb884306e82000af2f": {
      "model_module": "@jupyter-widgets/base",
      "model_module_version": "2.0.0",
      "model_name": "LayoutModel",
      "state": {
       "grid_template_areas": "\"left-sidebar center center\"",
       "grid_template_columns": "1fr 2fr 1fr",
       "grid_template_rows": "3fr"
      }
     },
     "2aa8901c7b4c47edb800b4ba9ebde912": {
      "model_module": "@jupyter-widgets/base",
      "model_module_version": "2.0.0",
      "model_name": "LayoutModel",
      "state": {}
     },
     "2b27cb8d4c394c6c9904ea3edd161f2a": {
      "model_module": "@jupyter-widgets/controls",
      "model_module_version": "2.0.0",
      "model_name": "ButtonModel",
      "state": {
       "description": "right",
       "layout": "IPY_MODEL_148572828c5148a181efcd6b434943eb",
       "style": "IPY_MODEL_d4ada51267c140b79f2ac497de7dcd6d",
       "tooltip": null
      }
     },
     "2b3432a73f434ca185d0dd1302851889": {
      "model_module": "@jupyter-widgets/controls",
      "model_module_version": "2.0.0",
      "model_name": "ButtonModel",
      "state": {
       "layout": "IPY_MODEL_7dc51ee8ba364eb8b02bc374dcb5f511",
       "style": "IPY_MODEL_e03759500f7d4c509d677374b671bd96",
       "tooltip": null
      }
     },
     "2be2c351fd8041468e8987fbeaa1f11c": {
      "model_module": "@jupyter-widgets/controls",
      "model_module_version": "2.0.0",
      "model_name": "ButtonModel",
      "state": {
       "layout": "IPY_MODEL_cf54ec6b04b14f3b8695a21ec051d008",
       "style": "IPY_MODEL_1f8bbb2450bc48188085dbd96f246c97",
       "tooltip": null
      }
     },
     "2c824a6c91c74b47ba678f07e76dade0": {
      "model_module": "@jupyter-widgets/base",
      "model_module_version": "2.0.0",
      "model_name": "LayoutModel",
      "state": {}
     },
     "2d23d17fcff64acf8f4e215ddec5a3b8": {
      "model_module": "@jupyter-widgets/controls",
      "model_module_version": "2.0.0",
      "model_name": "ButtonStyleModel",
      "state": {
       "button_color": "#ecf5fe",
       "font_family": null,
       "font_size": null,
       "font_style": null,
       "font_variant": null,
       "font_weight": null,
       "text_color": null,
       "text_decoration": null
      }
     },
     "2dcb2cc774c046ddb96352a07ab2ca43": {
      "model_module": "@jupyter-widgets/controls",
      "model_module_version": "2.0.0",
      "model_name": "ButtonModel",
      "state": {
       "layout": "IPY_MODEL_5a2c8c29002c486182c89fa279e6d11e",
       "style": "IPY_MODEL_259d57de756047d6abc4129af61ea304",
       "tooltip": null
      }
     },
     "2ebcaa92becb469582867f694959bcb3": {
      "model_module": "@jupyter-widgets/controls",
      "model_module_version": "2.0.0",
      "model_name": "ButtonStyleModel",
      "state": {
       "button_color": "#dbecfe",
       "font_family": null,
       "font_size": null,
       "font_style": null,
       "font_variant": null,
       "font_weight": null,
       "text_color": null,
       "text_decoration": null
      }
     },
     "2fb4102d047c4013b66965e83f152c87": {
      "model_module": "@jupyter-widgets/controls",
      "model_module_version": "2.0.0",
      "model_name": "ButtonModel",
      "state": {
       "description": "left",
       "layout": "IPY_MODEL_4c90386d4d874e49b4aa127d8bbb88a5",
       "style": "IPY_MODEL_02d053502d9e4515863a1378fb9d309b",
       "tooltip": null
      }
     },
     "2fe7009d3f334c5da66ae20e73aca3ae": {
      "model_module": "@jupyter-widgets/controls",
      "model_module_version": "2.0.0",
      "model_name": "ButtonModel",
      "state": {
       "layout": "IPY_MODEL_daa42aa51fe34c658c7951e0095ef736",
       "style": "IPY_MODEL_61bbe5223115421f885958148704f97c",
       "tooltip": null
      }
     },
     "315b74196e0c43ec966d4d1503ac743d": {
      "model_module": "@jupyter-widgets/base",
      "model_module_version": "2.0.0",
      "model_name": "LayoutModel",
      "state": {
       "grid_area": "header"
      }
     },
     "321ff3c6bbc645439a0f3c4077d17a0d": {
      "model_module": "@jupyter-widgets/controls",
      "model_module_version": "2.0.0",
      "model_name": "ButtonStyleModel",
      "state": {
       "button_color": "#ecf5fe",
       "font_family": null,
       "font_size": null,
       "font_style": null,
       "font_variant": null,
       "font_weight": null,
       "text_color": null,
       "text_decoration": null
      }
     },
     "3318bf0d077040fcaf00dcf8b19efc0a": {
      "model_module": "@jupyter-widgets/base",
      "model_module_version": "2.0.0",
      "model_name": "LayoutModel",
      "state": {
       "grid_template_areas": "\"left-sidebar center right-sidebar\"",
       "grid_template_columns": "1fr 2fr 1fr",
       "grid_template_rows": "3fr"
      }
     },
     "33a785df3db142788892c1e90b59add6": {
      "model_module": "@jupyter-widgets/base",
      "model_module_version": "2.0.0",
      "model_name": "LayoutModel",
      "state": {}
     },
     "349f0dd01f914f9faeab2814d4a66e65": {
      "model_module": "@jupyter-widgets/controls",
      "model_module_version": "2.0.0",
      "model_name": "VBoxModel",
      "state": {
       "children": [
        "IPY_MODEL_2b3432a73f434ca185d0dd1302851889",
        "IPY_MODEL_95df5aa1bce74b7a929d25f7c850e508",
        "IPY_MODEL_2dcb2cc774c046ddb96352a07ab2ca43"
       ],
       "layout": "IPY_MODEL_9c12be7ce20b4e7eb1010e0cdc1ec2f5"
      }
     },
     "34c7cfb9b2bf41ee9dcf42f39c352da2": {
      "model_module": "@jupyter-widgets/controls",
      "model_module_version": "2.0.0",
      "model_name": "ButtonStyleModel",
      "state": {
       "button_color": "#ecf5fe",
       "font_family": null,
       "font_size": null,
       "font_style": null,
       "font_variant": null,
       "font_weight": null,
       "text_color": null,
       "text_decoration": null
      }
     },
     "34df06ad9aa94001a66f97d3915cbc44": {
      "model_module": "@jupyter-widgets/controls",
      "model_module_version": "2.0.0",
      "model_name": "ButtonModel",
      "state": {
       "description": "footer",
       "layout": "IPY_MODEL_6868efaa30ad465da0f19eb7c52c1cb7",
       "style": "IPY_MODEL_f720f281df0246d9a88c6ff9f920303b",
       "tooltip": null
      }
     },
     "3511be00d53f4bcfb45df866f2214ae4": {
      "model_module": "@jupyter-widgets/controls",
      "model_module_version": "2.0.0",
      "model_name": "ButtonStyleModel",
      "state": {
       "button_color": "#dbecfe",
       "font_family": null,
       "font_size": null,
       "font_style": null,
       "font_variant": null,
       "font_weight": null,
       "text_color": null,
       "text_decoration": null
      }
     },
     "356a970ade634debbe2941d0abf9f9a0": {
      "model_module": "@jupyter-widgets/controls",
      "model_module_version": "2.0.0",
      "model_name": "ButtonModel",
      "state": {
       "description": "header",
       "layout": "IPY_MODEL_975405bd375a4a94a9757762ede730e7",
       "style": "IPY_MODEL_dbdffc732f394b1c9f4ea2b72e065b82",
       "tooltip": null
      }
     },
     "36afb52a1bd143c6a4ead5d402ff58ad": {
      "model_module": "@jupyter-widgets/base",
      "model_module_version": "2.0.0",
      "model_name": "LayoutModel",
      "state": {
       "height": "auto",
       "width": "auto"
      }
     },
     "376ec75f430744e4902547adb3293ada": {
      "model_module": "@jupyter-widgets/controls",
      "model_module_version": "2.0.0",
      "model_name": "VBoxModel",
      "state": {
       "children": [
        "IPY_MODEL_b440ca20f936444bb1f191468f866300"
       ],
       "layout": "IPY_MODEL_3fe5fc51274244d5ab5935f3b36e21c6"
      }
     },
     "39e4241e9ad3455b87bb4fe5ec56f8f6": {
      "model_module": "@jupyter-widgets/base",
      "model_module_version": "2.0.0",
      "model_name": "LayoutModel",
      "state": {
       "height": "auto",
       "width": "auto"
      }
     },
     "3ad807ff8867457f88eba2db96b611f6": {
      "model_module": "@jupyter-widgets/base",
      "model_module_version": "2.0.0",
      "model_name": "LayoutModel",
      "state": {}
     },
     "3b97c9dd4c524d13a7a20049beab6cbb": {
      "model_module": "@jupyter-widgets/controls",
      "model_module_version": "2.0.0",
      "model_name": "ButtonStyleModel",
      "state": {
       "button_color": "#dbecfe",
       "font_family": null,
       "font_size": null,
       "font_style": null,
       "font_variant": null,
       "font_weight": null,
       "text_color": null,
       "text_decoration": null
      }
     },
     "3e07410686bd47b6a28b9e2d737e25e6": {
      "model_module": "@jupyter-widgets/base",
      "model_module_version": "2.0.0",
      "model_name": "LayoutModel",
      "state": {
       "grid_template_areas": "\"header header header\"\n\"center center center\"",
       "grid_template_columns": "1fr 2fr 1fr",
       "grid_template_rows": "1fr 3fr"
      }
     },
     "3e36f893677d4c6893fd72835bca0fa4": {
      "model_module": "@jupyter-widgets/base",
      "model_module_version": "2.0.0",
      "model_name": "LayoutModel",
      "state": {}
     },
     "3e42093657d14d4d8a54d5252bd29d9c": {
      "model_module": "anywidget",
      "model_module_version": "0.9.3",
      "model_name": "AnyModel",
      "state": {
       "_anywidget_id": "ipywui.widgets.custom.message.MessageWidget",
       "_css": ".wui-message-root {\n    display: flex;\n    position: absolute;\n    left: 0;\n    right: 0;\n    top: 0;\n}\n\n.wui-message-container {\n    align-items: center;\n    display: flex;\n    flex-direction: column-reverse;\n    justify-content: center;\n    min-height: 100%;\n    outline: none;\n    width: 100%;\n\n    -webkit-tap-highlight-color: rgba(0,0,0,0);\n    bottom: 0;\n    left: 0;\n    right: 0;\n    top: 0;\n}\n\n.wui-message--success {\n    --wui-message-bg-color: #f0f9eb;\n    --wui-message-border-color: #e1f3d8;\n    --wui-message-text-color: #67c23a;\n}\n.wui-message--warning {\n    --wui-message-bg-color: #fdf6ec;\n    --wui-message-border-color: #faecd8;\n    --wui-message-text-color: #e6a23c;\n}\n.wui-message--info {\n    --wui-message-bg-color: #f4f4f5;\n    --wui-message-border-color: #e9e9eb;\n    --wui-message-text-color: #909399;\n}\n.wui-message--error {\n    --wui-message-bg-color: #fef0f0;\n    --wui-message-border-color: #fde2e2;\n    --wui-message-text-color: #f56c6c;\n}\n\n@keyframes msg-open {\n    0% {\n        opacity: 0;\n        -webkit-transform: translateY(-120%);\n        transform: translateY(-120%)\n    }\n    to {\n        -webkit-transform: translateY(0);\n        transform: translateY(0)\n    }\n}\n\n@keyframes msg-close {\n    0% {\n        opacity: 1;\n        -webkit-transform: scale(1);\n        transform: scale(1)\n    }\n    to {\n        opacity: 0;\n        -webkit-transform: scale(.9);\n        transform: scale(.9)\n    }\n}\n.wui-message[data-state=entered],.wui-message[data-state=entering] {\n    -webkit-animation: msg-open .24s cubic-bezier(.175,.885,.32,1.175) both;\n    animation: msg-open .24s cubic-bezier(.175,.885,.32,1.175) both\n}\n\n.wui-message[data-state=exiting] {\n    -webkit-animation: msg-close .12s cubic-bezier(.4,0,1,1) both;\n    animation: msg-close .12s cubic-bezier(.4,0,1,1) both\n}\n\n.wui-message {\n    width: -webkit-fit-content;\n    width: -moz-fit-content;\n    width: fit-content;\n    z-index: 2004;\n    max-width: calc(100% - 32px);\n    margin-top: 8px;\n    box-sizing: border-box;\n    /*border-radius: var(--wui-border-radius-base);*/\n    /*border-width: var(--wui-border-width);*/\n    /*border-style: var(--wui-border-style);*/\n    border-color: var(--wui-message-border-color);\n    /*left: 50%;*/\n    /*top: 20px;*/\n    /*transform: translateX(-50%);*/\n    background-color: var(--wui-message-bg-color);\n    /*transition: opacity var(--wui-transition-duration),transform .4s,top .4s;*/\n    /*padding: var(--wui-message-padding);*/\n    display: flex;\n    align-items: center;\n}\n\n/*.wui-message--success */\n.wui-message__content {\n    color: var(--wui-message-text-color);\n    font-size: 14px;\n    line-height: 18px;\n    margin: 10px 14px 10px 14px;\n    overflow-wrap: break-word;\n}\n\n.wui-message__closeBtn {\n    /*cursor: pointer;*/\n    font-style: normal;\n    /*color: gray;*/\n    padding-right: 14px;\n    /*font-size: 13px;*/\n    user-select: none;\n\n    background: transparent;\n    border: none;\n    color: gray;\n    cursor: pointer;\n    font-size: 13px;\n    font-weight: 400;\n    line-height: 1;\n    outline: none;\n    /*padding: 4px;*/\n    text-align: center;\n    transition: opacity .3s;\n    /*width: 100%;*/\n}",
       "_esm": "function closeMsg(msgDom) {\n  if (!msgDom) {\n    return;\n  }\n  msgDom.setAttribute('data-state', 'exiting');\n  msgDom.remove();\n}\n\nfunction createMsg(options) {\n  const {message, msg_id, type = 'info', show_close = false} = options;\n  const msgDom = document.createElement('div');\n  msgDom.className += ` wui-message--${type} wui-message`;\n  msgDom.setAttribute('data-state', 'entered');\n  msgDom.setAttribute('id', msg_id);\n  const msgContent = document.createElement('p');\n  msgContent.className += ` wui-message--${type} wui-message__content`;\n  msgContent.innerText = message;\n  msgDom.appendChild(msgContent);\n  if (show_close) {\n    const closeBtn = document.createElement('i');\n    closeBtn.className += 'wui-message__closeBtn';\n    closeBtn.innerText = 'x';\n    closeBtn.addEventListener('click', (ev) => {\n      closeMsg(msgDom);\n    })\n    msgDom.appendChild(closeBtn);\n  }\n  return msgDom;\n}\n\nexport async function render(view) {\n  let model = view.model;\n  const msgRoot = view.el;\n  msgRoot.className += ' wui-message-root'\n\n  const msgContainer = document.createElement('div');\n  msgContainer.className += ' wui-message-container';\n  msgRoot.appendChild(msgContainer)\n\n  model.on(\"change:message_options\", () => {\n    const options = model.get(\"message_options\");\n    const msg = createMsg(options);\n    msgContainer.appendChild(msg);\n    const {duration = 3000} = options;\n    if (duration > 0) {\n      setTimeout(() => {\n        closeMsg(msg)\n      }, duration);\n    }\n  })\n\n  model.on(\"change:close_msg_id\", () => {\n    const msg_id = model.get(\"close_msg_id\");\n    const msgDom = document.getElementById(msg_id);\n    closeMsg(msgDom);\n  })\n}\n",
       "_model_module": "anywidget",
       "_model_module_version": "0.9.3",
       "_model_name": "AnyModel",
       "_view_module": "anywidget",
       "_view_module_version": "0.9.3",
       "_view_name": "AnyView",
       "close_msg_id": "",
       "layout": "IPY_MODEL_aea3939459f84678b77d0ca34cd92e74",
       "message_options": {
        "duration": 3000,
        "message": "",
        "show_close": false,
        "type": "info"
       }
      }
     },
     "3e80d40980444d71ace5549d31673a0f": {
      "model_module": "@jupyter-widgets/base",
      "model_module_version": "2.0.0",
      "model_name": "LayoutModel",
      "state": {
       "height": "auto",
       "width": "auto"
      }
     },
     "3e8a7a641d9449e8b95b184ff61ab542": {
      "model_module": "@jupyter-widgets/controls",
      "model_module_version": "2.0.0",
      "model_name": "ButtonModel",
      "state": {
       "layout": "IPY_MODEL_7a91880fbf1b4b2aa4361f40be344c9d",
       "style": "IPY_MODEL_ef9b1027067845b88d49ebb5efe32dcb",
       "tooltip": null
      }
     },
     "3f7c3a2d280c4d79b1fd8b2ef67e2250": {
      "model_module": "@jupyter-widgets/base",
      "model_module_version": "2.0.0",
      "model_name": "LayoutModel",
      "state": {
       "height": "auto",
       "width": "auto"
      }
     },
     "3fe5fc51274244d5ab5935f3b36e21c6": {
      "model_module": "@jupyter-widgets/base",
      "model_module_version": "2.0.0",
      "model_name": "LayoutModel",
      "state": {}
     },
     "3ff79a325fc443099df06c901eb784c3": {
      "model_module": "anywidget",
      "model_module_version": "0.9.3",
      "model_name": "AnyModel",
      "state": {
       "_anywidget_id": "ipywui.widgets.custom.message.MessageWidget",
       "_css": ".wui-message-root {\n    display: flex;\n    position: absolute;\n    left: 0;\n    right: 0;\n    top: 0;\n}\n\n.wui-message-container {\n    align-items: center;\n    display: flex;\n    flex-direction: column-reverse;\n    justify-content: center;\n    min-height: 100%;\n    outline: none;\n    width: 100%;\n\n    -webkit-tap-highlight-color: rgba(0,0,0,0);\n    bottom: 0;\n    left: 0;\n    right: 0;\n    top: 0;\n}\n\n.wui-message--success {\n    --wui-message-bg-color: #f0f9eb;\n    --wui-message-border-color: #e1f3d8;\n    --wui-message-text-color: #67c23a;\n}\n.wui-message--warning {\n    --wui-message-bg-color: #fdf6ec;\n    --wui-message-border-color: #faecd8;\n    --wui-message-text-color: #e6a23c;\n}\n.wui-message--info {\n    --wui-message-bg-color: #f4f4f5;\n    --wui-message-border-color: #e9e9eb;\n    --wui-message-text-color: #909399;\n}\n.wui-message--error {\n    --wui-message-bg-color: #fef0f0;\n    --wui-message-border-color: #fde2e2;\n    --wui-message-text-color: #f56c6c;\n}\n\n@keyframes msg-open {\n    0% {\n        opacity: 0;\n        -webkit-transform: translateY(-120%);\n        transform: translateY(-120%)\n    }\n    to {\n        -webkit-transform: translateY(0);\n        transform: translateY(0)\n    }\n}\n\n@keyframes msg-close {\n    0% {\n        opacity: 1;\n        -webkit-transform: scale(1);\n        transform: scale(1)\n    }\n    to {\n        opacity: 0;\n        -webkit-transform: scale(.9);\n        transform: scale(.9)\n    }\n}\n.wui-message[data-state=entered],.wui-message[data-state=entering] {\n    -webkit-animation: msg-open .24s cubic-bezier(.175,.885,.32,1.175) both;\n    animation: msg-open .24s cubic-bezier(.175,.885,.32,1.175) both\n}\n\n.wui-message[data-state=exiting] {\n    -webkit-animation: msg-close .12s cubic-bezier(.4,0,1,1) both;\n    animation: msg-close .12s cubic-bezier(.4,0,1,1) both\n}\n\n.wui-message {\n    width: -webkit-fit-content;\n    width: -moz-fit-content;\n    width: fit-content;\n    z-index: 2004;\n    max-width: calc(100% - 32px);\n    margin-top: 8px;\n    box-sizing: border-box;\n    /*border-radius: var(--wui-border-radius-base);*/\n    /*border-width: var(--wui-border-width);*/\n    /*border-style: var(--wui-border-style);*/\n    border-color: var(--wui-message-border-color);\n    /*left: 50%;*/\n    /*top: 20px;*/\n    /*transform: translateX(-50%);*/\n    background-color: var(--wui-message-bg-color);\n    /*transition: opacity var(--wui-transition-duration),transform .4s,top .4s;*/\n    /*padding: var(--wui-message-padding);*/\n    display: flex;\n    align-items: center;\n}\n\n/*.wui-message--success */\n.wui-message__content {\n    color: var(--wui-message-text-color);\n    font-size: 14px;\n    line-height: 18px;\n    margin: 10px 14px 10px 14px;\n    overflow-wrap: break-word;\n}\n\n.wui-message__closeBtn {\n    /*cursor: pointer;*/\n    font-style: normal;\n    /*color: gray;*/\n    padding-right: 14px;\n    /*font-size: 13px;*/\n    user-select: none;\n\n    background: transparent;\n    border: none;\n    color: gray;\n    cursor: pointer;\n    font-size: 13px;\n    font-weight: 400;\n    line-height: 1;\n    outline: none;\n    /*padding: 4px;*/\n    text-align: center;\n    transition: opacity .3s;\n    /*width: 100%;*/\n}",
       "_esm": "function closeMsg(msgDom) {\n  if (!msgDom) {\n    return;\n  }\n  msgDom.setAttribute('data-state', 'exiting');\n  msgDom.remove();\n}\n\nfunction createMsg(options) {\n  const {message, msg_id, type = 'info', show_close = false} = options;\n  const msgDom = document.createElement('div');\n  msgDom.className += ` wui-message--${type} wui-message`;\n  msgDom.setAttribute('data-state', 'entered');\n  msgDom.setAttribute('id', msg_id);\n  const msgContent = document.createElement('p');\n  msgContent.className += ` wui-message--${type} wui-message__content`;\n  msgContent.innerText = message;\n  msgDom.appendChild(msgContent);\n  if (show_close) {\n    const closeBtn = document.createElement('i');\n    closeBtn.className += 'wui-message__closeBtn';\n    closeBtn.innerText = 'x';\n    closeBtn.addEventListener('click', (ev) => {\n      closeMsg(msgDom);\n    })\n    msgDom.appendChild(closeBtn);\n  }\n  return msgDom;\n}\n\nexport async function render(view) {\n  let model = view.model;\n  const msgRoot = view.el;\n  msgRoot.className += ' wui-message-root'\n\n  const msgContainer = document.createElement('div');\n  msgContainer.className += ' wui-message-container';\n  msgRoot.appendChild(msgContainer)\n\n  model.on(\"change:message_options\", () => {\n    const options = model.get(\"message_options\");\n    const msg = createMsg(options);\n    msgContainer.appendChild(msg);\n    const {duration = 3000} = options;\n    if (duration > 0) {\n      setTimeout(() => {\n        closeMsg(msg)\n      }, duration);\n    }\n  })\n\n  model.on(\"change:close_msg_id\", () => {\n    const msg_id = model.get(\"close_msg_id\");\n    const msgDom = document.getElementById(msg_id);\n    closeMsg(msgDom);\n  })\n}\n",
       "_model_module": "anywidget",
       "_model_module_version": "0.9.3",
       "_model_name": "AnyModel",
       "_view_module": "anywidget",
       "_view_module_version": "0.9.3",
       "_view_name": "AnyView",
       "close_msg_id": "",
       "layout": "IPY_MODEL_17a5254e9d0a4a3a9a47564ab952825d",
       "message_options": {
        "duration": 3000,
        "message": "",
        "show_close": false,
        "type": "info"
       }
      }
     },
     "4028ab6e637d43198b7c971575762096": {
      "model_module": "@jupyter-widgets/base",
      "model_module_version": "2.0.0",
      "model_name": "LayoutModel",
      "state": {
       "height": "auto",
       "width": "auto"
      }
     },
     "4058906f1642450f96931e1645e19db0": {
      "model_module": "@jupyter-widgets/base",
      "model_module_version": "2.0.0",
      "model_name": "LayoutModel",
      "state": {
       "height": "auto",
       "width": "auto"
      }
     },
     "408db01c166145a0a56c8b352374fbdd": {
      "model_module": "@jupyter-widgets/base",
      "model_module_version": "2.0.0",
      "model_name": "LayoutModel",
      "state": {
       "height": "auto",
       "width": "auto"
      }
     },
     "4241f5ca32554e17b383a881ad8788fd": {
      "model_module": "@jupyter-widgets/base",
      "model_module_version": "2.0.0",
      "model_name": "LayoutModel",
      "state": {
       "grid_area": "footer"
      }
     },
     "4320db89b3cc470da634a1499e1a8872": {
      "model_module": "@jupyter-widgets/base",
      "model_module_version": "2.0.0",
      "model_name": "LayoutModel",
      "state": {
       "height": "auto",
       "width": "auto"
      }
     },
     "44017280319042098e403eed2d9a4c5b": {
      "model_module": "@jupyter-widgets/base",
      "model_module_version": "2.0.0",
      "model_name": "LayoutModel",
      "state": {
       "height": "auto",
       "width": "auto"
      }
     },
     "44c03a706ba441d4b54fe7b90be7f475": {
      "model_module": "@jupyter-widgets/controls",
      "model_module_version": "2.0.0",
      "model_name": "ButtonStyleModel",
      "state": {
       "button_color": "#dbecfe",
       "font_family": null,
       "font_size": null,
       "font_style": null,
       "font_variant": null,
       "font_weight": null,
       "text_color": null,
       "text_decoration": null
      }
     },
     "45323768ee93470fb5f3707a65aa4782": {
      "model_module": "@jupyter-widgets/controls",
      "model_module_version": "2.0.0",
      "model_name": "ButtonModel",
      "state": {
       "layout": "IPY_MODEL_81e3b80e6ad74ea7ab3b48cfe83159e0",
       "style": "IPY_MODEL_28e4fdc3312840979228ad506b024b7c",
       "tooltip": null
      }
     },
     "453e54b4380e49dbb0be47b053cb07f5": {
      "model_module": "@jupyter-widgets/controls",
      "model_module_version": "2.0.0",
      "model_name": "ButtonStyleModel",
      "state": {
       "button_color": "#dbecfe",
       "font_family": null,
       "font_size": null,
       "font_style": null,
       "font_variant": null,
       "font_weight": null,
       "text_color": null,
       "text_decoration": null
      }
     },
     "456c2df193ab4031847de35aa499c5f6": {
      "model_module": "@jupyter-widgets/controls",
      "model_module_version": "2.0.0",
      "model_name": "ButtonStyleModel",
      "state": {
       "button_color": "#c8e3fe",
       "font_family": null,
       "font_size": null,
       "font_style": null,
       "font_variant": null,
       "font_weight": null,
       "text_color": null,
       "text_decoration": null
      }
     },
     "457f0c6a8de34023ac16d48479906300": {
      "model_module": "@jupyter-widgets/base",
      "model_module_version": "2.0.0",
      "model_name": "LayoutModel",
      "state": {
       "height": "auto",
       "width": "auto"
      }
     },
     "4a06edf71f4c42deb37568e45a76ee54": {
      "model_module": "@jupyter-widgets/controls",
      "model_module_version": "2.0.0",
      "model_name": "ButtonModel",
      "state": {
       "description": "center",
       "layout": "IPY_MODEL_17bfa4776d7b48fc891aac22aa9eb2d6",
       "style": "IPY_MODEL_b0105c1afa53485885afdc0214f380db",
       "tooltip": null
      }
     },
     "4a376f6559cd458baaa121096720a44d": {
      "model_module": "@jupyter-widgets/base",
      "model_module_version": "2.0.0",
      "model_name": "LayoutModel",
      "state": {
       "grid_area": "left-sidebar"
      }
     },
     "4b0f8c28f6274f0a85bf541aa0375475": {
      "model_module": "@jupyter-widgets/base",
      "model_module_version": "2.0.0",
      "model_name": "LayoutModel",
      "state": {
       "grid_area": "footer"
      }
     },
     "4b506b68bdf14ffaa5cda5e44c3094e1": {
      "model_module": "@jupyter-widgets/base",
      "model_module_version": "2.0.0",
      "model_name": "LayoutModel",
      "state": {
       "grid_area": "left-sidebar"
      }
     },
     "4bb7c918d19e42f780e135dbe03455da": {
      "model_module": "@jupyter-widgets/controls",
      "model_module_version": "2.0.0",
      "model_name": "VBoxModel",
      "state": {
       "children": [
        "IPY_MODEL_5f4f8667ff3946c4a15b7925895944ba"
       ],
       "layout": "IPY_MODEL_5d3c3a3166f74605bcf24a02c7c0ef8c"
      }
     },
     "4c6616df002f4430b1619f07db37f27c": {
      "model_module": "@jupyter-widgets/controls",
      "model_module_version": "2.0.0",
      "model_name": "ButtonStyleModel",
      "state": {
       "button_color": "#dbecfe",
       "font_family": null,
       "font_size": null,
       "font_style": null,
       "font_variant": null,
       "font_weight": null,
       "text_color": null,
       "text_decoration": null
      }
     },
     "4c90386d4d874e49b4aa127d8bbb88a5": {
      "model_module": "@jupyter-widgets/base",
      "model_module_version": "2.0.0",
      "model_name": "LayoutModel",
      "state": {
       "height": "auto",
       "width": "auto"
      }
     },
     "4f5269ec2bb94c42988f92ea2bff320b": {
      "model_module": "@jupyter-widgets/base",
      "model_module_version": "2.0.0",
      "model_name": "LayoutModel",
      "state": {}
     },
     "4f98bd3f45774064b377aa582451cfd1": {
      "model_module": "@jupyter-widgets/controls",
      "model_module_version": "2.0.0",
      "model_name": "VBoxModel",
      "state": {
       "children": [
        "IPY_MODEL_1a6e62a005594777925bad465462c749",
        "IPY_MODEL_174456d0955c4be9be3bba759d144319",
        "IPY_MODEL_dc44ff6d9f1c41f98320c6766dc9ba83"
       ],
       "layout": "IPY_MODEL_79df3c54511a44b28fdaba698d8876c6"
      }
     },
     "4fb2df7b21c94c0eb874ea69080be609": {
      "model_module": "@jupyter-widgets/base",
      "model_module_version": "2.0.0",
      "model_name": "LayoutModel",
      "state": {}
     },
     "4fbd07da98fa4f0c8dd96cd9bbb2aa87": {
      "model_module": "@jupyter-widgets/controls",
      "model_module_version": "2.0.0",
      "model_name": "VBoxModel",
      "state": {
       "children": [
        "IPY_MODEL_0135619e02314fe5ba6382e24497dd3a"
       ],
       "layout": "IPY_MODEL_2c824a6c91c74b47ba678f07e76dade0"
      }
     },
     "4ff36c0fafc040ec82be8d2b09a7596a": {
      "model_module": "@jupyter-widgets/controls",
      "model_module_version": "2.0.0",
      "model_name": "ButtonStyleModel",
      "state": {
       "button_color": "#ecf5fe",
       "font_family": null,
       "font_size": null,
       "font_style": null,
       "font_variant": null,
       "font_weight": null,
       "text_color": null,
       "text_decoration": null
      }
     },
     "51087c0af9144e838738d5bb4b44d074": {
      "model_module": "@jupyter-widgets/controls",
      "model_module_version": "2.0.0",
      "model_name": "ButtonModel",
      "state": {
       "layout": "IPY_MODEL_39e4241e9ad3455b87bb4fe5ec56f8f6",
       "style": "IPY_MODEL_3b97c9dd4c524d13a7a20049beab6cbb",
       "tooltip": null
      }
     },
     "51222a82eef84eb58f7c894aeaa837f4": {
      "model_module": "@jupyter-widgets/base",
      "model_module_version": "2.0.0",
      "model_name": "LayoutModel",
      "state": {
       "grid_area": "center"
      }
     },
     "5186c0d381184a0cbf9599fbd6f37db2": {
      "model_module": "@jupyter-widgets/controls",
      "model_module_version": "2.0.0",
      "model_name": "ButtonStyleModel",
      "state": {
       "button_color": "#ecf5fe",
       "font_family": null,
       "font_size": null,
       "font_style": null,
       "font_variant": null,
       "font_weight": null,
       "text_color": null,
       "text_decoration": null
      }
     },
     "51ff7c0d7b80435aa6aec820a573af3d": {
      "model_module": "@jupyter-widgets/base",
      "model_module_version": "2.0.0",
      "model_name": "LayoutModel",
      "state": {
       "height": "auto",
       "width": "auto"
      }
     },
     "5232f8dcf29e4cdfa8f8b741530d0c71": {
      "model_module": "@jupyter-widgets/controls",
      "model_module_version": "2.0.0",
      "model_name": "ButtonModel",
      "state": {
       "layout": "IPY_MODEL_de4cbf265cb44cad9402f15a39bac19a",
       "style": "IPY_MODEL_2d23d17fcff64acf8f4e215ddec5a3b8",
       "tooltip": null
      }
     },
     "523354b467da435cbb3b74a86c6d7d26": {
      "model_module": "@jupyter-widgets/controls",
      "model_module_version": "2.0.0",
      "model_name": "GridBoxModel",
      "state": {
       "children": [
        "IPY_MODEL_59acb8c5cb1840fcb877f2c0903e19fb",
        "IPY_MODEL_8ee67a1408cd48d98e5cec4ff57f65e6",
        "IPY_MODEL_4f98bd3f45774064b377aa582451cfd1"
       ],
       "layout": "IPY_MODEL_f2ae1e7bb0f148b1a0c07733a74b4e36"
      }
     },
     "52401740517a450c933d553ea514f215": {
      "model_module": "@jupyter-widgets/controls",
      "model_module_version": "2.0.0",
      "model_name": "VBoxModel",
      "state": {
       "children": [
        "IPY_MODEL_34df06ad9aa94001a66f97d3915cbc44"
       ],
       "layout": "IPY_MODEL_4b0f8c28f6274f0a85bf541aa0375475"
      }
     },
     "52b36c14be1d46efa91e253d6c26e56d": {
      "model_module": "@jupyter-widgets/controls",
      "model_module_version": "2.0.0",
      "model_name": "ButtonStyleModel",
      "state": {
       "button_color": "#dbecfe",
       "font_family": null,
       "font_size": null,
       "font_style": null,
       "font_variant": null,
       "font_weight": null,
       "text_color": null,
       "text_decoration": null
      }
     },
     "52bac2fc4cce46d9b06e18be1f6f32b2": {
      "model_module": "@jupyter-widgets/base",
      "model_module_version": "2.0.0",
      "model_name": "LayoutModel",
      "state": {
       "height": "auto",
       "width": "auto"
      }
     },
     "52deec7d97e64e0180ee546e689550e0": {
      "model_module": "@jupyter-widgets/base",
      "model_module_version": "2.0.0",
      "model_name": "LayoutModel",
      "state": {}
     },
     "530e92870a274fcb8d8254f5073fb83f": {
      "model_module": "@jupyter-widgets/base",
      "model_module_version": "2.0.0",
      "model_name": "LayoutModel",
      "state": {}
     },
     "5347eca635784bee986596b789d8a5dd": {
      "model_module": "@jupyter-widgets/base",
      "model_module_version": "2.0.0",
      "model_name": "LayoutModel",
      "state": {
       "grid_template_areas": "\"left-sidebar center center\"",
       "grid_template_columns": "1fr 2fr 1fr",
       "grid_template_rows": "3fr"
      }
     },
     "559014f41a104916b1cbfc577adbfb2f": {
      "model_module": "@jupyter-widgets/controls",
      "model_module_version": "2.0.0",
      "model_name": "ButtonModel",
      "state": {
       "description": "header",
       "layout": "IPY_MODEL_c7c387be33e9421ea036b9f5813533c4",
       "style": "IPY_MODEL_ef770636913b49e08566a2a14afc4492",
       "tooltip": null
      }
     },
     "55a95866f0b247e2985b524fac11d5f0": {
      "model_module": "@jupyter-widgets/controls",
      "model_module_version": "2.0.0",
      "model_name": "ButtonModel",
      "state": {
       "layout": "IPY_MODEL_7889ee538f4841b88b92e1ad2b96904c",
       "style": "IPY_MODEL_44c03a706ba441d4b54fe7b90be7f475",
       "tooltip": null
      }
     },
     "56b5ae9a23be451e92a72bdfa2c9150e": {
      "model_module": "@jupyter-widgets/controls",
      "model_module_version": "2.0.0",
      "model_name": "VBoxModel",
      "state": {
       "children": [
        "IPY_MODEL_94bf8a163ea84011b28ed1f32f595f25",
        "IPY_MODEL_94bf8a163ea84011b28ed1f32f595f25",
        "IPY_MODEL_0e316ba67de04aad9ba588b904d668d5"
       ],
       "layout": "IPY_MODEL_24d44223d6b648929443e21da136073d"
      }
     },
     "56fe4e74b81542a390af207ba8a57e68": {
      "model_module": "@jupyter-widgets/controls",
      "model_module_version": "2.0.0",
      "model_name": "ButtonStyleModel",
      "state": {
       "button_color": "#ecf5fe",
       "font_family": null,
       "font_size": null,
       "font_style": null,
       "font_variant": null,
       "font_weight": null,
       "text_color": null,
       "text_decoration": null
      }
     },
     "59062c562fb64f199869eaccd2eb5df4": {
      "model_module": "@jupyter-widgets/controls",
      "model_module_version": "2.0.0",
      "model_name": "VBoxModel",
      "state": {
       "children": [
        "IPY_MODEL_ed8a785a67404842802eee1ee7ffdb31",
        "IPY_MODEL_ed8a785a67404842802eee1ee7ffdb31",
        "IPY_MODEL_0ad11881ed654ee697fdf408bde66950"
       ],
       "layout": "IPY_MODEL_2aa8901c7b4c47edb800b4ba9ebde912"
      }
     },
     "59acb8c5cb1840fcb877f2c0903e19fb": {
      "model_module": "@jupyter-widgets/controls",
      "model_module_version": "2.0.0",
      "model_name": "VBoxModel",
      "state": {
       "children": [
        "IPY_MODEL_f909e396edb4422d84fa35f9bc8ab3de"
       ],
       "layout": "IPY_MODEL_a59c81ac62af4db5b43f38bfa995470b"
      }
     },
     "5a05d3f9a391481dae6cac01369f465e": {
      "model_module": "@jupyter-widgets/controls",
      "model_module_version": "2.0.0",
      "model_name": "VBoxModel",
      "state": {
       "children": [
        "IPY_MODEL_356a970ade634debbe2941d0abf9f9a0"
       ],
       "layout": "IPY_MODEL_315b74196e0c43ec966d4d1503ac743d"
      }
     },
     "5a2c8c29002c486182c89fa279e6d11e": {
      "model_module": "@jupyter-widgets/base",
      "model_module_version": "2.0.0",
      "model_name": "LayoutModel",
      "state": {
       "height": "auto",
       "width": "auto"
      }
     },
     "5ad937f05df34c8c868d19f493d6ea3b": {
      "model_module": "@jupyter-widgets/controls",
      "model_module_version": "2.0.0",
      "model_name": "GridBoxModel",
      "state": {
       "children": [
        "IPY_MODEL_fde97c97cf4c4e86be58c3723402ef70",
        "IPY_MODEL_b74de3ef127e49a8afe5385a243a85ac",
        "IPY_MODEL_349f0dd01f914f9faeab2814d4a66e65",
        "IPY_MODEL_75b3f881e8674ab29e315a01bbb4c238",
        "IPY_MODEL_ea70bb4446e6436f96e1f88f61ff0b46"
       ],
       "layout": "IPY_MODEL_d2e0b95156dd4a0aa314c5422aa6e7e2"
      }
     },
     "5b8ed45ba7e647b6b5728d223b9745c9": {
      "model_module": "@jupyter-widgets/controls",
      "model_module_version": "2.0.0",
      "model_name": "ButtonStyleModel",
      "state": {
       "button_color": "#dbecfe",
       "font_family": null,
       "font_size": null,
       "font_style": null,
       "font_variant": null,
       "font_weight": null,
       "text_color": null,
       "text_decoration": null
      }
     },
     "5d3c3a3166f74605bcf24a02c7c0ef8c": {
      "model_module": "@jupyter-widgets/base",
      "model_module_version": "2.0.0",
      "model_name": "LayoutModel",
      "state": {}
     },
     "5d9068b86eac46b1b2e40bc8f8f0ea78": {
      "model_module": "@jupyter-widgets/controls",
      "model_module_version": "2.0.0",
      "model_name": "ButtonStyleModel",
      "state": {
       "button_color": "#dbecfe",
       "font_family": null,
       "font_size": null,
       "font_style": null,
       "font_variant": null,
       "font_weight": null,
       "text_color": null,
       "text_decoration": null
      }
     },
     "5e1f0f86d4d442bf9ee2ea6e375d5dca": {
      "model_module": "@jupyter-widgets/base",
      "model_module_version": "2.0.0",
      "model_name": "LayoutModel",
      "state": {
       "height": "auto",
       "width": "auto"
      }
     },
     "5ed93421ba2d49b8bf45442fa4a64f47": {
      "model_module": "@jupyter-widgets/controls",
      "model_module_version": "2.0.0",
      "model_name": "ButtonModel",
      "state": {
       "description": "left",
       "layout": "IPY_MODEL_a074922d6a7a4fcab28310f028edd1b5",
       "style": "IPY_MODEL_c595ab47fbd74224ad39524240689a43",
       "tooltip": null
      }
     },
     "5f4f8667ff3946c4a15b7925895944ba": {
      "model_module": "@jupyter-widgets/controls",
      "model_module_version": "2.0.0",
      "model_name": "VBoxModel",
      "state": {
       "children": [
        "IPY_MODEL_1e3f707359f7473099636dd5a3065a94",
        "IPY_MODEL_1e3f707359f7473099636dd5a3065a94",
        "IPY_MODEL_95eb33a2a91a414082533dddafdfeac2"
       ],
       "layout": "IPY_MODEL_fe26f2da31e14d5fb96206e8cdcd4dc6"
      }
     },
     "5f767577b38342a9b5f2960ff53be18b": {
      "model_module": "@jupyter-widgets/controls",
      "model_module_version": "2.0.0",
      "model_name": "VBoxModel",
      "state": {
       "children": [
        "IPY_MODEL_dedc1e16badc4118a9053d430fe1e6ff"
       ],
       "layout": "IPY_MODEL_1255ed66dff040df877b46f499878162"
      }
     },
     "5fd0418c9f5c498d885cbf56becbfbe3": {
      "model_module": "@jupyter-widgets/base",
      "model_module_version": "2.0.0",
      "model_name": "LayoutModel",
      "state": {}
     },
     "605553a47bbf49cfb6911998c0043097": {
      "model_module": "@jupyter-widgets/controls",
      "model_module_version": "2.0.0",
      "model_name": "VBoxModel",
      "state": {
       "children": [
        "IPY_MODEL_3ff79a325fc443099df06c901eb784c3",
        "IPY_MODEL_3ff79a325fc443099df06c901eb784c3",
        "IPY_MODEL_376ec75f430744e4902547adb3293ada"
       ],
       "layout": "IPY_MODEL_9c6e993f68a7449eab363959506976b8"
      }
     },
     "6109964654c04927a1d002a4429a056b": {
      "model_module": "anywidget",
      "model_module_version": "0.9.3",
      "model_name": "AnyModel",
      "state": {
       "_anywidget_id": "ipywui.widgets.custom.message.MessageWidget",
       "_css": ".wui-message-root {\n    display: flex;\n    position: absolute;\n    left: 0;\n    right: 0;\n    top: 0;\n}\n\n.wui-message-container {\n    align-items: center;\n    display: flex;\n    flex-direction: column-reverse;\n    justify-content: center;\n    min-height: 100%;\n    outline: none;\n    width: 100%;\n\n    -webkit-tap-highlight-color: rgba(0,0,0,0);\n    bottom: 0;\n    left: 0;\n    right: 0;\n    top: 0;\n}\n\n.wui-message--success {\n    --wui-message-bg-color: #f0f9eb;\n    --wui-message-border-color: #e1f3d8;\n    --wui-message-text-color: #67c23a;\n}\n.wui-message--warning {\n    --wui-message-bg-color: #fdf6ec;\n    --wui-message-border-color: #faecd8;\n    --wui-message-text-color: #e6a23c;\n}\n.wui-message--info {\n    --wui-message-bg-color: #f4f4f5;\n    --wui-message-border-color: #e9e9eb;\n    --wui-message-text-color: #909399;\n}\n.wui-message--error {\n    --wui-message-bg-color: #fef0f0;\n    --wui-message-border-color: #fde2e2;\n    --wui-message-text-color: #f56c6c;\n}\n\n@keyframes msg-open {\n    0% {\n        opacity: 0;\n        -webkit-transform: translateY(-120%);\n        transform: translateY(-120%)\n    }\n    to {\n        -webkit-transform: translateY(0);\n        transform: translateY(0)\n    }\n}\n\n@keyframes msg-close {\n    0% {\n        opacity: 1;\n        -webkit-transform: scale(1);\n        transform: scale(1)\n    }\n    to {\n        opacity: 0;\n        -webkit-transform: scale(.9);\n        transform: scale(.9)\n    }\n}\n.wui-message[data-state=entered],.wui-message[data-state=entering] {\n    -webkit-animation: msg-open .24s cubic-bezier(.175,.885,.32,1.175) both;\n    animation: msg-open .24s cubic-bezier(.175,.885,.32,1.175) both\n}\n\n.wui-message[data-state=exiting] {\n    -webkit-animation: msg-close .12s cubic-bezier(.4,0,1,1) both;\n    animation: msg-close .12s cubic-bezier(.4,0,1,1) both\n}\n\n.wui-message {\n    width: -webkit-fit-content;\n    width: -moz-fit-content;\n    width: fit-content;\n    z-index: 2004;\n    max-width: calc(100% - 32px);\n    margin-top: 8px;\n    box-sizing: border-box;\n    /*border-radius: var(--wui-border-radius-base);*/\n    /*border-width: var(--wui-border-width);*/\n    /*border-style: var(--wui-border-style);*/\n    border-color: var(--wui-message-border-color);\n    /*left: 50%;*/\n    /*top: 20px;*/\n    /*transform: translateX(-50%);*/\n    background-color: var(--wui-message-bg-color);\n    /*transition: opacity var(--wui-transition-duration),transform .4s,top .4s;*/\n    /*padding: var(--wui-message-padding);*/\n    display: flex;\n    align-items: center;\n}\n\n/*.wui-message--success */\n.wui-message__content {\n    color: var(--wui-message-text-color);\n    font-size: 14px;\n    line-height: 18px;\n    margin: 10px 14px 10px 14px;\n    overflow-wrap: break-word;\n}\n\n.wui-message__closeBtn {\n    /*cursor: pointer;*/\n    font-style: normal;\n    /*color: gray;*/\n    padding-right: 14px;\n    /*font-size: 13px;*/\n    user-select: none;\n\n    background: transparent;\n    border: none;\n    color: gray;\n    cursor: pointer;\n    font-size: 13px;\n    font-weight: 400;\n    line-height: 1;\n    outline: none;\n    /*padding: 4px;*/\n    text-align: center;\n    transition: opacity .3s;\n    /*width: 100%;*/\n}",
       "_esm": "function closeMsg(msgDom) {\n  if (!msgDom) {\n    return;\n  }\n  msgDom.setAttribute('data-state', 'exiting');\n  msgDom.remove();\n}\n\nfunction createMsg(options) {\n  const {message, msg_id, type = 'info', show_close = false} = options;\n  const msgDom = document.createElement('div');\n  msgDom.className += ` wui-message--${type} wui-message`;\n  msgDom.setAttribute('data-state', 'entered');\n  msgDom.setAttribute('id', msg_id);\n  const msgContent = document.createElement('p');\n  msgContent.className += ` wui-message--${type} wui-message__content`;\n  msgContent.innerText = message;\n  msgDom.appendChild(msgContent);\n  if (show_close) {\n    const closeBtn = document.createElement('i');\n    closeBtn.className += 'wui-message__closeBtn';\n    closeBtn.innerText = 'x';\n    closeBtn.addEventListener('click', (ev) => {\n      closeMsg(msgDom);\n    })\n    msgDom.appendChild(closeBtn);\n  }\n  return msgDom;\n}\n\nexport async function render(view) {\n  let model = view.model;\n  const msgRoot = view.el;\n  msgRoot.className += ' wui-message-root'\n\n  const msgContainer = document.createElement('div');\n  msgContainer.className += ' wui-message-container';\n  msgRoot.appendChild(msgContainer)\n\n  model.on(\"change:message_options\", () => {\n    const options = model.get(\"message_options\");\n    const msg = createMsg(options);\n    msgContainer.appendChild(msg);\n    const {duration = 3000} = options;\n    if (duration > 0) {\n      setTimeout(() => {\n        closeMsg(msg)\n      }, duration);\n    }\n  })\n\n  model.on(\"change:close_msg_id\", () => {\n    const msg_id = model.get(\"close_msg_id\");\n    const msgDom = document.getElementById(msg_id);\n    closeMsg(msgDom);\n  })\n}\n",
       "_model_module": "anywidget",
       "_model_module_version": "0.9.3",
       "_model_name": "AnyModel",
       "_view_module": "anywidget",
       "_view_module_version": "0.9.3",
       "_view_name": "AnyView",
       "close_msg_id": "",
       "layout": "IPY_MODEL_c6d58a9431ef464db99b8b968164e54b",
       "message_options": {
        "duration": 3000,
        "message": "",
        "show_close": false,
        "type": "info"
       }
      }
     },
     "61bbe5223115421f885958148704f97c": {
      "model_module": "@jupyter-widgets/controls",
      "model_module_version": "2.0.0",
      "model_name": "ButtonStyleModel",
      "state": {
       "button_color": "#dbecfe",
       "font_family": null,
       "font_size": null,
       "font_style": null,
       "font_variant": null,
       "font_weight": null,
       "text_color": null,
       "text_decoration": null
      }
     },
     "62125b9e1c9a4b7687ab69eab4398124": {
      "model_module": "@jupyter-widgets/controls",
      "model_module_version": "2.0.0",
      "model_name": "VBoxModel",
      "state": {
       "children": [
        "IPY_MODEL_998a08c5583847269c8dd620844c11dd",
        "IPY_MODEL_2221bbe18eb94b598d1c8c334159af5e",
        "IPY_MODEL_854861be7b974ab2830a2a72be0b3863"
       ],
       "layout": "IPY_MODEL_a7167e0f93764c75a676e7216c11d577"
      }
     },
     "6278fb6d8eb84112b32b21e34aced831": {
      "model_module": "@jupyter-widgets/controls",
      "model_module_version": "2.0.0",
      "model_name": "ButtonStyleModel",
      "state": {
       "button_color": "#dbecfe",
       "font_family": null,
       "font_size": null,
       "font_style": null,
       "font_variant": null,
       "font_weight": null,
       "text_color": null,
       "text_decoration": null
      }
     },
     "629d2344c5a24dfbb5729bf696663ddc": {
      "model_module": "@jupyter-widgets/output",
      "model_module_version": "1.0.0",
      "model_name": "OutputModel",
      "state": {
       "layout": "IPY_MODEL_530e92870a274fcb8d8254f5073fb83f"
      }
     },
     "631c1e5c8fcb4d1c92eaedf29bc7488e": {
      "model_module": "@jupyter-widgets/controls",
      "model_module_version": "2.0.0",
      "model_name": "ButtonModel",
      "state": {
       "description": "center",
       "layout": "IPY_MODEL_9d58259de2274d019dfcc485cd245fe7",
       "style": "IPY_MODEL_56fe4e74b81542a390af207ba8a57e68",
       "tooltip": null
      }
     },
     "6520cf7f2c434b89b00efd4d3041091a": {
      "model_module": "@jupyter-widgets/controls",
      "model_module_version": "2.0.0",
      "model_name": "ButtonModel",
      "state": {
       "layout": "IPY_MODEL_44017280319042098e403eed2d9a4c5b",
       "style": "IPY_MODEL_89b5c047cc644f5caa838526909cfe7c",
       "tooltip": null
      }
     },
     "671ea8886ecf472c93f4b01ac6702ae4": {
      "model_module": "@jupyter-widgets/base",
      "model_module_version": "2.0.0",
      "model_name": "LayoutModel",
      "state": {
       "grid_area": "center"
      }
     },
     "6817880f204d4693b7f6549a10ed5a2a": {
      "model_module": "@jupyter-widgets/base",
      "model_module_version": "2.0.0",
      "model_name": "LayoutModel",
      "state": {
       "grid_template_areas": "\"center center center\"\n\"footer footer footer\"",
       "grid_template_columns": "1fr 2fr 1fr",
       "grid_template_rows": "3fr 1fr"
      }
     },
     "6868efaa30ad465da0f19eb7c52c1cb7": {
      "model_module": "@jupyter-widgets/base",
      "model_module_version": "2.0.0",
      "model_name": "LayoutModel",
      "state": {
       "height": "auto",
       "width": "auto"
      }
     },
     "6872632e84b94a6baa91a43bc8147831": {
      "model_module": "@jupyter-widgets/base",
      "model_module_version": "2.0.0",
      "model_name": "LayoutModel",
      "state": {
       "grid_area": "left-sidebar"
      }
     },
     "6968eee71ff34f1c8b8bd2c436b27273": {
      "model_module": "@jupyter-widgets/base",
      "model_module_version": "2.0.0",
      "model_name": "LayoutModel",
      "state": {
       "grid_area": "center"
      }
     },
     "6a177e56a5254171b4a96873422427b0": {
      "model_module": "@jupyter-widgets/base",
      "model_module_version": "2.0.0",
      "model_name": "LayoutModel",
      "state": {
       "grid_area": "left-sidebar"
      }
     },
     "6a429cd4ea544251ac313ee7f321f602": {
      "model_module": "@jupyter-widgets/controls",
      "model_module_version": "2.0.0",
      "model_name": "ButtonStyleModel",
      "state": {
       "button_color": "#c8e3fe",
       "font_family": null,
       "font_size": null,
       "font_style": null,
       "font_variant": null,
       "font_weight": null,
       "text_color": null,
       "text_decoration": null
      }
     },
     "6ba5d07f5b3c414d864db2725dea7da0": {
      "model_module": "@jupyter-widgets/controls",
      "model_module_version": "2.0.0",
      "model_name": "ButtonStyleModel",
      "state": {
       "button_color": "#c8e3fe",
       "font_family": null,
       "font_size": null,
       "font_style": null,
       "font_variant": null,
       "font_weight": null,
       "text_color": null,
       "text_decoration": null
      }
     },
     "6c889a0e74f148abbb4fab3473f853e2": {
      "model_module": "@jupyter-widgets/base",
      "model_module_version": "2.0.0",
      "model_name": "LayoutModel",
      "state": {
       "height": "auto",
       "width": "auto"
      }
     },
     "6cbd246617884a81a9448d1d5d0406c9": {
      "model_module": "@jupyter-widgets/controls",
      "model_module_version": "2.0.0",
      "model_name": "ButtonModel",
      "state": {
       "layout": "IPY_MODEL_ceb07ee2e9174ef9b2ec78e7cfc7e9b5",
       "style": "IPY_MODEL_086df41e79d7426facee8d26f86f59ff",
       "tooltip": null
      }
     },
     "6cfabd4c8a5b456b916709c33ff99414": {
      "model_module": "@jupyter-widgets/controls",
      "model_module_version": "2.0.0",
      "model_name": "VBoxModel",
      "state": {
       "children": [
        "IPY_MODEL_06adfb40e7e94c9f8bc7702b897dba7a",
        "IPY_MODEL_245ef2509dc14faa9052bcad8a4fab50",
        "IPY_MODEL_bdb91f442de24e1b8306be99d6a46886"
       ],
       "layout": "IPY_MODEL_0137fad881ca4e938710d90f442a43ee"
      }
     },
     "6d9deda96fca4d74a8bdec43d6567d7e": {
      "model_module": "@jupyter-widgets/controls",
      "model_module_version": "2.0.0",
      "model_name": "ButtonStyleModel",
      "state": {
       "button_color": "#ecf5fe",
       "font_family": null,
       "font_size": null,
       "font_style": null,
       "font_variant": null,
       "font_weight": null,
       "text_color": null,
       "text_decoration": null
      }
     },
     "6fddad031b184f2fb03093ff21e0592a": {
      "model_module": "@jupyter-widgets/controls",
      "model_module_version": "2.0.0",
      "model_name": "ButtonStyleModel",
      "state": {
       "button_color": "#dbecfe",
       "font_family": null,
       "font_size": null,
       "font_style": null,
       "font_variant": null,
       "font_weight": null,
       "text_color": null,
       "text_decoration": null
      }
     },
     "701f5edab7254635a190c4bd85d8fbd5": {
      "model_module": "@jupyter-widgets/base",
      "model_module_version": "2.0.0",
      "model_name": "LayoutModel",
      "state": {
       "height": "auto",
       "width": "auto"
      }
     },
     "70bf416829334840b1dae90ff9c2eb74": {
      "model_module": "@jupyter-widgets/base",
      "model_module_version": "2.0.0",
      "model_name": "LayoutModel",
      "state": {}
     },
     "71abe0ef419c40a0907b3cd56e44d0ac": {
      "model_module": "@jupyter-widgets/controls",
      "model_module_version": "2.0.0",
      "model_name": "ButtonModel",
      "state": {
       "layout": "IPY_MODEL_5e1f0f86d4d442bf9ee2ea6e375d5dca",
       "style": "IPY_MODEL_0323abd0f7b0484cbb804c700cc80ce1",
       "tooltip": null
      }
     },
     "71c710874edf4dc18f5ecb1cbd2997d8": {
      "model_module": "@jupyter-widgets/controls",
      "model_module_version": "2.0.0",
      "model_name": "ButtonModel",
      "state": {
       "layout": "IPY_MODEL_260cd39a305c46e2a50d9fdd6a9f8a09",
       "style": "IPY_MODEL_52b36c14be1d46efa91e253d6c26e56d",
       "tooltip": null
      }
     },
     "720b977e11fe450d8b0bbedc4e47ec89": {
      "model_module": "@jupyter-widgets/controls",
      "model_module_version": "2.0.0",
      "model_name": "ButtonModel",
      "state": {
       "layout": "IPY_MODEL_4028ab6e637d43198b7c971575762096",
       "style": "IPY_MODEL_b90b0d24ddb1433d9b923e7ad7f54f64",
       "tooltip": null
      }
     },
     "722528f48f5242b986c33396d6822100": {
      "model_module": "@jupyter-widgets/base",
      "model_module_version": "2.0.0",
      "model_name": "LayoutModel",
      "state": {
       "grid_area": "right-sidebar"
      }
     },
     "72ab848265e740a586d8a6a2bd4714e8": {
      "model_module": "@jupyter-widgets/controls",
      "model_module_version": "2.0.0",
      "model_name": "VBoxModel",
      "state": {
       "children": [
        "IPY_MODEL_5ad937f05df34c8c868d19f493d6ea3b"
       ],
       "layout": "IPY_MODEL_52deec7d97e64e0180ee546e689550e0"
      }
     },
     "73812ec23a3f4c498a6c10f3926447e8": {
      "model_module": "@jupyter-widgets/controls",
      "model_module_version": "2.0.0",
      "model_name": "ButtonModel",
      "state": {
       "layout": "IPY_MODEL_11761fc312224ba28ac5985065eea873",
       "style": "IPY_MODEL_f8e14c6c8db14e0399ecd9e80676166c",
       "tooltip": null
      }
     },
     "738e147e02194f61a8aa1c501dd8bcc4": {
      "model_module": "@jupyter-widgets/controls",
      "model_module_version": "2.0.0",
      "model_name": "GridBoxModel",
      "state": {
       "children": [
        "IPY_MODEL_947ab9ef888846a48170ce48f1f5e5a7",
        "IPY_MODEL_52401740517a450c933d553ea514f215",
        "IPY_MODEL_62125b9e1c9a4b7687ab69eab4398124"
       ],
       "layout": "IPY_MODEL_0e3b5e6bfe6b43318c1ed7f066684d9b"
      }
     },
     "755f415ee2cf4cd7bb0c2e759e2b6244": {
      "model_module": "@jupyter-widgets/controls",
      "model_module_version": "2.0.0",
      "model_name": "ButtonStyleModel",
      "state": {
       "button_color": "#ecf5fe",
       "font_family": null,
       "font_size": null,
       "font_style": null,
       "font_variant": null,
       "font_weight": null,
       "text_color": null,
       "text_decoration": null
      }
     },
     "75b3f881e8674ab29e315a01bbb4c238": {
      "model_module": "@jupyter-widgets/controls",
      "model_module_version": "2.0.0",
      "model_name": "VBoxModel",
      "state": {
       "children": [
        "IPY_MODEL_6520cf7f2c434b89b00efd4d3041091a",
        "IPY_MODEL_2b27cb8d4c394c6c9904ea3edd161f2a",
        "IPY_MODEL_55a95866f0b247e2985b524fac11d5f0"
       ],
       "layout": "IPY_MODEL_722528f48f5242b986c33396d6822100"
      }
     },
     "75e376aa1ab346f39086c9fe93dd2ec9": {
      "model_module": "@jupyter-widgets/controls",
      "model_module_version": "2.0.0",
      "model_name": "ButtonModel",
      "state": {
       "layout": "IPY_MODEL_82238354921647ce8899c0145b226a06",
       "style": "IPY_MODEL_194e5608e35849bdb70c38f61232331b",
       "tooltip": null
      }
     },
     "769deb3919884722bb85219945feb744": {
      "model_module": "@jupyter-widgets/base",
      "model_module_version": "2.0.0",
      "model_name": "LayoutModel",
      "state": {}
     },
     "76c188bed3bc4c95a8f23cc11ef76204": {
      "model_module": "@jupyter-widgets/base",
      "model_module_version": "2.0.0",
      "model_name": "LayoutModel",
      "state": {
       "height": "auto",
       "width": "auto"
      }
     },
     "7753afdc7dfe405ba4af9e19964ee926": {
      "model_module": "@jupyter-widgets/base",
      "model_module_version": "2.0.0",
      "model_name": "LayoutModel",
      "state": {}
     },
     "77c68a0ead9f44f0903fd9040fa8c226": {
      "model_module": "@jupyter-widgets/controls",
      "model_module_version": "2.0.0",
      "model_name": "ButtonModel",
      "state": {
       "layout": "IPY_MODEL_6c889a0e74f148abbb4fab3473f853e2",
       "style": "IPY_MODEL_ee045bfd5f474531b8f88cfe160464e2",
       "tooltip": null
      }
     },
     "786ccb5d676f4d41ae9e5a4f9bfa0f53": {
      "model_module": "@jupyter-widgets/base",
      "model_module_version": "2.0.0",
      "model_name": "LayoutModel",
      "state": {}
     },
     "7889ee538f4841b88b92e1ad2b96904c": {
      "model_module": "@jupyter-widgets/base",
      "model_module_version": "2.0.0",
      "model_name": "LayoutModel",
      "state": {
       "height": "auto",
       "width": "auto"
      }
     },
     "79877f34b0f14e77b78f0f38b8aefc8c": {
      "model_module": "@jupyter-widgets/controls",
      "model_module_version": "2.0.0",
      "model_name": "ButtonModel",
      "state": {
       "layout": "IPY_MODEL_ac9bbe0871614e6196b47ef50a70127f",
       "style": "IPY_MODEL_3511be00d53f4bcfb45df866f2214ae4",
       "tooltip": null
      }
     },
     "79c62317738d4301b7f787ea80e559c6": {
      "model_module": "@jupyter-widgets/base",
      "model_module_version": "2.0.0",
      "model_name": "LayoutModel",
      "state": {
       "height": "auto",
       "width": "auto"
      }
     },
     "79df3c54511a44b28fdaba698d8876c6": {
      "model_module": "@jupyter-widgets/base",
      "model_module_version": "2.0.0",
      "model_name": "LayoutModel",
      "state": {
       "grid_area": "center"
      }
     },
     "7a91880fbf1b4b2aa4361f40be344c9d": {
      "model_module": "@jupyter-widgets/base",
      "model_module_version": "2.0.0",
      "model_name": "LayoutModel",
      "state": {
       "height": "auto",
       "width": "auto"
      }
     },
     "7bbbdedf32a74deea4a1db19ce089461": {
      "model_module": "@jupyter-widgets/controls",
      "model_module_version": "2.0.0",
      "model_name": "VBoxModel",
      "state": {
       "children": [
        "IPY_MODEL_15ca0f4b1383448bbe0e68542774ec99"
       ],
       "layout": "IPY_MODEL_0c5dab8a026a4b329efdf7b38ba83bf4"
      }
     },
     "7dc51ee8ba364eb8b02bc374dcb5f511": {
      "model_module": "@jupyter-widgets/base",
      "model_module_version": "2.0.0",
      "model_name": "LayoutModel",
      "state": {
       "height": "auto",
       "width": "auto"
      }
     },
     "7ed6b99a930d4882acaf69a9628df635": {
      "model_module": "@jupyter-widgets/base",
      "model_module_version": "2.0.0",
      "model_name": "LayoutModel",
      "state": {
       "height": "auto",
       "width": "auto"
      }
     },
     "7f31ce87763247c3a032b86fe57c9541": {
      "model_module": "@jupyter-widgets/base",
      "model_module_version": "2.0.0",
      "model_name": "LayoutModel",
      "state": {
       "height": "auto",
       "width": "auto"
      }
     },
     "7fb115b7e57d4403853b142f523cbfea": {
      "model_module": "@jupyter-widgets/base",
      "model_module_version": "2.0.0",
      "model_name": "LayoutModel",
      "state": {
       "grid_area": "center"
      }
     },
     "80367909dae740e59b350dbc8f42daaf": {
      "model_module": "@jupyter-widgets/base",
      "model_module_version": "2.0.0",
      "model_name": "LayoutModel",
      "state": {
       "grid_area": "center"
      }
     },
     "81e3b80e6ad74ea7ab3b48cfe83159e0": {
      "model_module": "@jupyter-widgets/base",
      "model_module_version": "2.0.0",
      "model_name": "LayoutModel",
      "state": {
       "height": "auto",
       "width": "auto"
      }
     },
     "82238354921647ce8899c0145b226a06": {
      "model_module": "@jupyter-widgets/base",
      "model_module_version": "2.0.0",
      "model_name": "LayoutModel",
      "state": {
       "height": "auto",
       "width": "auto"
      }
     },
     "842215868c4e45ac852c34161594b57a": {
      "model_module": "@jupyter-widgets/controls",
      "model_module_version": "2.0.0",
      "model_name": "ButtonStyleModel",
      "state": {
       "button_color": "#c8e3fe",
       "font_family": null,
       "font_size": null,
       "font_style": null,
       "font_variant": null,
       "font_weight": null,
       "text_color": null,
       "text_decoration": null
      }
     },
     "84f1733a97a64167ac3f9caf515278c7": {
      "model_module": "@jupyter-widgets/base",
      "model_module_version": "2.0.0",
      "model_name": "LayoutModel",
      "state": {
       "height": "auto",
       "width": "auto"
      }
     },
     "85207d0d2d8a4238a67ddcab86e8770c": {
      "model_module": "@jupyter-widgets/controls",
      "model_module_version": "2.0.0",
      "model_name": "GridBoxModel",
      "state": {
       "children": [
        "IPY_MODEL_5a05d3f9a391481dae6cac01369f465e",
        "IPY_MODEL_bdbea3b24a2e4a85a2ffbd7d701c6238"
       ],
       "layout": "IPY_MODEL_c5627c19b4064ed6bb7d2f5db1d72448"
      }
     },
     "854861be7b974ab2830a2a72be0b3863": {
      "model_module": "@jupyter-widgets/controls",
      "model_module_version": "2.0.0",
      "model_name": "ButtonModel",
      "state": {
       "layout": "IPY_MODEL_b2382b8d0c2448a288aa91de037ade69",
       "style": "IPY_MODEL_755f415ee2cf4cd7bb0c2e759e2b6244",
       "tooltip": null
      }
     },
     "8558800fcff04986a5bf0dd904b96955": {
      "model_module": "@jupyter-widgets/controls",
      "model_module_version": "2.0.0",
      "model_name": "ButtonModel",
      "state": {
       "description": "left",
       "layout": "IPY_MODEL_05cc8132398d44379de2baa7d4ad0457",
       "style": "IPY_MODEL_842215868c4e45ac852c34161594b57a",
       "tooltip": null
      }
     },
     "863087347092417dafbf4c3b683181de": {
      "model_module": "@jupyter-widgets/controls",
      "model_module_version": "2.0.0",
      "model_name": "ButtonStyleModel",
      "state": {
       "button_color": "#c8e3fe",
       "font_family": null,
       "font_size": null,
       "font_style": null,
       "font_variant": null,
       "font_weight": null,
       "text_color": null,
       "text_decoration": null
      }
     },
     "8792937f13904a25b648162b24402b97": {
      "model_module": "@jupyter-widgets/base",
      "model_module_version": "2.0.0",
      "model_name": "LayoutModel",
      "state": {
       "height": "auto",
       "width": "auto"
      }
     },
     "88c566cb21ad4d9a9e30aafee32d3134": {
      "model_module": "@jupyter-widgets/base",
      "model_module_version": "2.0.0",
      "model_name": "LayoutModel",
      "state": {}
     },
     "898e5bc566a24990a67b0be56b2b8018": {
      "model_module": "@jupyter-widgets/base",
      "model_module_version": "2.0.0",
      "model_name": "LayoutModel",
      "state": {}
     },
     "89b5c047cc644f5caa838526909cfe7c": {
      "model_module": "@jupyter-widgets/controls",
      "model_module_version": "2.0.0",
      "model_name": "ButtonStyleModel",
      "state": {
       "button_color": "#dbecfe",
       "font_family": null,
       "font_size": null,
       "font_style": null,
       "font_variant": null,
       "font_weight": null,
       "text_color": null,
       "text_decoration": null
      }
     },
     "8ac41fed6bb241228b01b7cd01dfe9ec": {
      "model_module": "@jupyter-widgets/base",
      "model_module_version": "2.0.0",
      "model_name": "LayoutModel",
      "state": {
       "grid_area": "header"
      }
     },
     "8d31d289fc0b40a6ac041125a442802a": {
      "model_module": "@jupyter-widgets/base",
      "model_module_version": "2.0.0",
      "model_name": "LayoutModel",
      "state": {
       "height": "auto",
       "width": "auto"
      }
     },
     "8da1af48aff24538abca4c086623bf25": {
      "model_module": "@jupyter-widgets/base",
      "model_module_version": "2.0.0",
      "model_name": "LayoutModel",
      "state": {
       "grid_area": "left-sidebar"
      }
     },
     "8dabbaa0a3b14462be12fdb053ff69d8": {
      "model_module": "@jupyter-widgets/base",
      "model_module_version": "2.0.0",
      "model_name": "LayoutModel",
      "state": {
       "height": "auto",
       "width": "auto"
      }
     },
     "8ee67a1408cd48d98e5cec4ff57f65e6": {
      "model_module": "@jupyter-widgets/controls",
      "model_module_version": "2.0.0",
      "model_name": "VBoxModel",
      "state": {
       "children": [
        "IPY_MODEL_9ca225419f6640b38e9e5f8784321045",
        "IPY_MODEL_f72a801557dd42bd828a6b0fb5545ec8",
        "IPY_MODEL_eb927f23128a4351a9cc2e752ccaa9fd"
       ],
       "layout": "IPY_MODEL_4a376f6559cd458baaa121096720a44d"
      }
     },
     "8f99bf9da6084816953a76bba31a8093": {
      "model_module": "@jupyter-widgets/controls",
      "model_module_version": "2.0.0",
      "model_name": "ButtonStyleModel",
      "state": {
       "button_color": "#ecf5fe",
       "font_family": null,
       "font_size": null,
       "font_style": null,
       "font_variant": null,
       "font_weight": null,
       "text_color": null,
       "text_decoration": null
      }
     },
     "8fbab6d68d2b4886af2ca6d7f537891a": {
      "model_module": "@jupyter-widgets/base",
      "model_module_version": "2.0.0",
      "model_name": "LayoutModel",
      "state": {
       "height": "auto",
       "width": "auto"
      }
     },
     "918aa266d44348c680f2d337ef2b2c86": {
      "model_module": "@jupyter-widgets/controls",
      "model_module_version": "2.0.0",
      "model_name": "GridBoxModel",
      "state": {
       "children": [
        "IPY_MODEL_031c48e390b743edbf56a24b5a804d65",
        "IPY_MODEL_c9a4a9358be74398a9f79e0ed77e563f"
       ],
       "layout": "IPY_MODEL_5347eca635784bee986596b789d8a5dd"
      }
     },
     "9249da605b5d4ab58d7cf7d9b564735e": {
      "model_module": "@jupyter-widgets/controls",
      "model_module_version": "2.0.0",
      "model_name": "VBoxModel",
      "state": {
       "children": [
        "IPY_MODEL_b857592549974c7eb4b7093bab95e505"
       ],
       "layout": "IPY_MODEL_ee1bcce455fc487ea24f6b8e3f3050ac"
      }
     },
     "947ab9ef888846a48170ce48f1f5e5a7": {
      "model_module": "@jupyter-widgets/controls",
      "model_module_version": "2.0.0",
      "model_name": "VBoxModel",
      "state": {
       "children": [
        "IPY_MODEL_0d55d2ea1243418c83c71b299b620893"
       ],
       "layout": "IPY_MODEL_0964e502c27341e886ed814f3dc545f5"
      }
     },
     "9499ce31311f44a394f65a8acf7b0bce": {
      "model_module": "@jupyter-widgets/controls",
      "model_module_version": "2.0.0",
      "model_name": "VBoxModel",
      "state": {
       "children": [
        "IPY_MODEL_523354b467da435cbb3b74a86c6d7d26"
       ],
       "layout": "IPY_MODEL_04664bb864f3455c84ec46a2334763f5"
      }
     },
     "94bf8a163ea84011b28ed1f32f595f25": {
      "model_module": "anywidget",
      "model_module_version": "0.9.3",
      "model_name": "AnyModel",
      "state": {
       "_anywidget_id": "ipywui.widgets.custom.message.MessageWidget",
       "_css": ".wui-message-root {\n    display: flex;\n    position: absolute;\n    left: 0;\n    right: 0;\n    top: 0;\n}\n\n.wui-message-container {\n    align-items: center;\n    display: flex;\n    flex-direction: column-reverse;\n    justify-content: center;\n    min-height: 100%;\n    outline: none;\n    width: 100%;\n\n    -webkit-tap-highlight-color: rgba(0,0,0,0);\n    bottom: 0;\n    left: 0;\n    right: 0;\n    top: 0;\n}\n\n.wui-message--success {\n    --wui-message-bg-color: #f0f9eb;\n    --wui-message-border-color: #e1f3d8;\n    --wui-message-text-color: #67c23a;\n}\n.wui-message--warning {\n    --wui-message-bg-color: #fdf6ec;\n    --wui-message-border-color: #faecd8;\n    --wui-message-text-color: #e6a23c;\n}\n.wui-message--info {\n    --wui-message-bg-color: #f4f4f5;\n    --wui-message-border-color: #e9e9eb;\n    --wui-message-text-color: #909399;\n}\n.wui-message--error {\n    --wui-message-bg-color: #fef0f0;\n    --wui-message-border-color: #fde2e2;\n    --wui-message-text-color: #f56c6c;\n}\n\n@keyframes msg-open {\n    0% {\n        opacity: 0;\n        -webkit-transform: translateY(-120%);\n        transform: translateY(-120%)\n    }\n    to {\n        -webkit-transform: translateY(0);\n        transform: translateY(0)\n    }\n}\n\n@keyframes msg-close {\n    0% {\n        opacity: 1;\n        -webkit-transform: scale(1);\n        transform: scale(1)\n    }\n    to {\n        opacity: 0;\n        -webkit-transform: scale(.9);\n        transform: scale(.9)\n    }\n}\n.wui-message[data-state=entered],.wui-message[data-state=entering] {\n    -webkit-animation: msg-open .24s cubic-bezier(.175,.885,.32,1.175) both;\n    animation: msg-open .24s cubic-bezier(.175,.885,.32,1.175) both\n}\n\n.wui-message[data-state=exiting] {\n    -webkit-animation: msg-close .12s cubic-bezier(.4,0,1,1) both;\n    animation: msg-close .12s cubic-bezier(.4,0,1,1) both\n}\n\n.wui-message {\n    width: -webkit-fit-content;\n    width: -moz-fit-content;\n    width: fit-content;\n    z-index: 2004;\n    max-width: calc(100% - 32px);\n    margin-top: 8px;\n    box-sizing: border-box;\n    /*border-radius: var(--wui-border-radius-base);*/\n    /*border-width: var(--wui-border-width);*/\n    /*border-style: var(--wui-border-style);*/\n    border-color: var(--wui-message-border-color);\n    /*left: 50%;*/\n    /*top: 20px;*/\n    /*transform: translateX(-50%);*/\n    background-color: var(--wui-message-bg-color);\n    /*transition: opacity var(--wui-transition-duration),transform .4s,top .4s;*/\n    /*padding: var(--wui-message-padding);*/\n    display: flex;\n    align-items: center;\n}\n\n/*.wui-message--success */\n.wui-message__content {\n    color: var(--wui-message-text-color);\n    font-size: 14px;\n    line-height: 18px;\n    margin: 10px 14px 10px 14px;\n    overflow-wrap: break-word;\n}\n\n.wui-message__closeBtn {\n    /*cursor: pointer;*/\n    font-style: normal;\n    /*color: gray;*/\n    padding-right: 14px;\n    /*font-size: 13px;*/\n    user-select: none;\n\n    background: transparent;\n    border: none;\n    color: gray;\n    cursor: pointer;\n    font-size: 13px;\n    font-weight: 400;\n    line-height: 1;\n    outline: none;\n    /*padding: 4px;*/\n    text-align: center;\n    transition: opacity .3s;\n    /*width: 100%;*/\n}",
       "_esm": "function closeMsg(msgDom) {\n  if (!msgDom) {\n    return;\n  }\n  msgDom.setAttribute('data-state', 'exiting');\n  msgDom.remove();\n}\n\nfunction createMsg(options) {\n  const {message, msg_id, type = 'info', show_close = false} = options;\n  const msgDom = document.createElement('div');\n  msgDom.className += ` wui-message--${type} wui-message`;\n  msgDom.setAttribute('data-state', 'entered');\n  msgDom.setAttribute('id', msg_id);\n  const msgContent = document.createElement('p');\n  msgContent.className += ` wui-message--${type} wui-message__content`;\n  msgContent.innerText = message;\n  msgDom.appendChild(msgContent);\n  if (show_close) {\n    const closeBtn = document.createElement('i');\n    closeBtn.className += 'wui-message__closeBtn';\n    closeBtn.innerText = 'x';\n    closeBtn.addEventListener('click', (ev) => {\n      closeMsg(msgDom);\n    })\n    msgDom.appendChild(closeBtn);\n  }\n  return msgDom;\n}\n\nexport async function render(view) {\n  let model = view.model;\n  const msgRoot = view.el;\n  msgRoot.className += ' wui-message-root'\n\n  const msgContainer = document.createElement('div');\n  msgContainer.className += ' wui-message-container';\n  msgRoot.appendChild(msgContainer)\n\n  model.on(\"change:message_options\", () => {\n    const options = model.get(\"message_options\");\n    const msg = createMsg(options);\n    msgContainer.appendChild(msg);\n    const {duration = 3000} = options;\n    if (duration > 0) {\n      setTimeout(() => {\n        closeMsg(msg)\n      }, duration);\n    }\n  })\n\n  model.on(\"change:close_msg_id\", () => {\n    const msg_id = model.get(\"close_msg_id\");\n    const msgDom = document.getElementById(msg_id);\n    closeMsg(msgDom);\n  })\n}\n",
       "_model_module": "anywidget",
       "_model_module_version": "0.9.3",
       "_model_name": "AnyModel",
       "_view_module": "anywidget",
       "_view_module_version": "0.9.3",
       "_view_name": "AnyView",
       "close_msg_id": "",
       "layout": "IPY_MODEL_4f5269ec2bb94c42988f92ea2bff320b",
       "message_options": {
        "duration": 3000,
        "message": "",
        "show_close": false,
        "type": "info"
       }
      }
     },
     "95bd7873c972446da325524b9c5ff5f4": {
      "model_module": "@jupyter-widgets/controls",
      "model_module_version": "2.0.0",
      "model_name": "ButtonModel",
      "state": {
       "description": "footer",
       "layout": "IPY_MODEL_26ade59b4c2d482d8a48444330fe48a2",
       "style": "IPY_MODEL_fa0882bc40084b8889caa6719488154b",
       "tooltip": null
      }
     },
     "95d106ce964b4703aa5b91100ac266d4": {
      "model_module": "@jupyter-widgets/base",
      "model_module_version": "2.0.0",
      "model_name": "LayoutModel",
      "state": {}
     },
     "95df5aa1bce74b7a929d25f7c850e508": {
      "model_module": "@jupyter-widgets/controls",
      "model_module_version": "2.0.0",
      "model_name": "ButtonModel",
      "state": {
       "description": "left 100px",
       "layout": "IPY_MODEL_272b133ef4a242da93ae246cd9d4aab4",
       "style": "IPY_MODEL_5d9068b86eac46b1b2e40bc8f8f0ea78",
       "tooltip": null
      }
     },
     "95eb33a2a91a414082533dddafdfeac2": {
      "model_module": "@jupyter-widgets/controls",
      "model_module_version": "2.0.0",
      "model_name": "VBoxModel",
      "state": {
       "children": [
        "IPY_MODEL_918aa266d44348c680f2d337ef2b2c86"
       ],
       "layout": "IPY_MODEL_7753afdc7dfe405ba4af9e19964ee926"
      }
     },
     "964361e38788447190f4f5a3e628f4da": {
      "model_module": "@jupyter-widgets/base",
      "model_module_version": "2.0.0",
      "model_name": "LayoutModel",
      "state": {
       "height": "auto",
       "width": "auto"
      }
     },
     "975405bd375a4a94a9757762ede730e7": {
      "model_module": "@jupyter-widgets/base",
      "model_module_version": "2.0.0",
      "model_name": "LayoutModel",
      "state": {
       "height": "auto",
       "width": "auto"
      }
     },
     "998a08c5583847269c8dd620844c11dd": {
      "model_module": "@jupyter-widgets/controls",
      "model_module_version": "2.0.0",
      "model_name": "ButtonModel",
      "state": {
       "layout": "IPY_MODEL_d37987113cf34a3d83dcb81044a74eaf",
       "style": "IPY_MODEL_34c7cfb9b2bf41ee9dcf42f39c352da2",
       "tooltip": null
      }
     },
     "9aa3fe7edaa94f458e27111d2a2f3754": {
      "model_module": "@jupyter-widgets/controls",
      "model_module_version": "2.0.0",
      "model_name": "GridBoxModel",
      "state": {
       "children": [
        "IPY_MODEL_273949e0384c4cfabd462cbed84a7cfd",
        "IPY_MODEL_fa8e62b3bec34a57a76035935cc7fabb",
        "IPY_MODEL_cd641691aa8440c19cad4f0c0993efce"
       ],
       "layout": "IPY_MODEL_3318bf0d077040fcaf00dcf8b19efc0a"
      }
     },
     "9adbde73500e4daba583e09a4ddf0103": {
      "model_module": "@jupyter-widgets/controls",
      "model_module_version": "2.0.0",
      "model_name": "VBoxModel",
      "state": {
       "children": [
        "IPY_MODEL_b36303d82b92484986d1676a3bcbe265",
        "IPY_MODEL_b36303d82b92484986d1676a3bcbe265",
        "IPY_MODEL_c7fc4251213544ec9cd49943e75caa23"
       ],
       "layout": "IPY_MODEL_33a785df3db142788892c1e90b59add6"
      }
     },
     "9c12be7ce20b4e7eb1010e0cdc1ec2f5": {
      "model_module": "@jupyter-widgets/base",
      "model_module_version": "2.0.0",
      "model_name": "LayoutModel",
      "state": {
       "grid_area": "left-sidebar"
      }
     },
     "9c6e993f68a7449eab363959506976b8": {
      "model_module": "@jupyter-widgets/base",
      "model_module_version": "2.0.0",
      "model_name": "LayoutModel",
      "state": {}
     },
     "9ca225419f6640b38e9e5f8784321045": {
      "model_module": "@jupyter-widgets/controls",
      "model_module_version": "2.0.0",
      "model_name": "ButtonModel",
      "state": {
       "layout": "IPY_MODEL_51ff7c0d7b80435aa6aec820a573af3d",
       "style": "IPY_MODEL_5b8ed45ba7e647b6b5728d223b9745c9",
       "tooltip": null
      }
     },
     "9ca3fd415e5c4f99998ed35a932d6350": {
      "model_module": "@jupyter-widgets/controls",
      "model_module_version": "2.0.0",
      "model_name": "ButtonModel",
      "state": {
       "layout": "IPY_MODEL_b4d0bddab75e4b0bb2b734cf46e3f2fb",
       "style": "IPY_MODEL_02bf51fb79c6443bb7f7809b474e9f3a",
       "tooltip": null
      }
     },
     "9d58259de2274d019dfcc485cd245fe7": {
      "model_module": "@jupyter-widgets/base",
      "model_module_version": "2.0.0",
      "model_name": "LayoutModel",
      "state": {
       "height": "auto",
       "width": "auto"
      }
     },
     "9e4143a164f146df96e38f2dab6ed9f3": {
      "model_module": "@jupyter-widgets/controls",
      "model_module_version": "2.0.0",
      "model_name": "ButtonModel",
      "state": {
       "layout": "IPY_MODEL_e9479602b6d6417c949ee742e6fbca66",
       "style": "IPY_MODEL_2115ad2829a9477fb1168fe6246d0c96",
       "tooltip": null
      }
     },
     "9e6bd0f50d784aba9b4d642fc2867703": {
      "model_module": "@jupyter-widgets/controls",
      "model_module_version": "2.0.0",
      "model_name": "ButtonStyleModel",
      "state": {
       "button_color": "#ecf5fe",
       "font_family": null,
       "font_size": null,
       "font_style": null,
       "font_variant": null,
       "font_weight": null,
       "text_color": null,
       "text_decoration": null
      }
     },
     "9f2d4470495a4b12aa29117302d69f14": {
      "model_module": "@jupyter-widgets/base",
      "model_module_version": "2.0.0",
      "model_name": "LayoutModel",
      "state": {
       "height": "auto",
       "width": "auto"
      }
     },
     "a074922d6a7a4fcab28310f028edd1b5": {
      "model_module": "@jupyter-widgets/base",
      "model_module_version": "2.0.0",
      "model_name": "LayoutModel",
      "state": {
       "height": "auto",
       "width": "auto"
      }
     },
     "a07586e3bf11428cad1f9ce5693933c8": {
      "model_module": "@jupyter-widgets/controls",
      "model_module_version": "2.0.0",
      "model_name": "ButtonModel",
      "state": {
       "layout": "IPY_MODEL_1c7b63b25df24008bc2dd80094a60778",
       "style": "IPY_MODEL_4ff36c0fafc040ec82be8d2b09a7596a",
       "tooltip": null
      }
     },
     "a1bfe8cce9f446a587e0cad4ecde3efb": {
      "model_module": "@jupyter-widgets/base",
      "model_module_version": "2.0.0",
      "model_name": "LayoutModel",
      "state": {
       "grid_area": "header"
      }
     },
     "a20719ea30624a16b016afad60ac2ee0": {
      "model_module": "@jupyter-widgets/controls",
      "model_module_version": "2.0.0",
      "model_name": "VBoxModel",
      "state": {
       "children": [
        "IPY_MODEL_85207d0d2d8a4238a67ddcab86e8770c"
       ],
       "layout": "IPY_MODEL_80367909dae740e59b350dbc8f42daaf"
      }
     },
     "a267fbd878e6424d8f70994aecac0f89": {
      "model_module": "@jupyter-widgets/controls",
      "model_module_version": "2.0.0",
      "model_name": "GridBoxModel",
      "state": {
       "children": [
        "IPY_MODEL_dd56bd662f0b47e18b0144c3837636b0",
        "IPY_MODEL_6cfabd4c8a5b456b916709c33ff99414"
       ],
       "layout": "IPY_MODEL_6817880f204d4693b7f6549a10ed5a2a"
      }
     },
     "a59c81ac62af4db5b43f38bfa995470b": {
      "model_module": "@jupyter-widgets/base",
      "model_module_version": "2.0.0",
      "model_name": "LayoutModel",
      "state": {
       "grid_area": "header"
      }
     },
     "a6972f7f67f54a6ebd6df234b3a65a2b": {
      "model_module": "@jupyter-widgets/controls",
      "model_module_version": "2.0.0",
      "model_name": "ButtonStyleModel",
      "state": {
       "button_color": "#ecf5fe",
       "font_family": null,
       "font_size": null,
       "font_style": null,
       "font_variant": null,
       "font_weight": null,
       "text_color": null,
       "text_decoration": null
      }
     },
     "a7167e0f93764c75a676e7216c11d577": {
      "model_module": "@jupyter-widgets/base",
      "model_module_version": "2.0.0",
      "model_name": "LayoutModel",
      "state": {
       "grid_area": "center"
      }
     },
     "a8009fb0f1cb4840b70d0de237552111": {
      "model_module": "@jupyter-widgets/controls",
      "model_module_version": "2.0.0",
      "model_name": "ButtonModel",
      "state": {
       "description": "center",
       "layout": "IPY_MODEL_04272caba9254f8bb35cc61607638ed8",
       "style": "IPY_MODEL_0911845ffd3b4d40b28f1b52ef87a579",
       "tooltip": null
      }
     },
     "ac9bbe0871614e6196b47ef50a70127f": {
      "model_module": "@jupyter-widgets/base",
      "model_module_version": "2.0.0",
      "model_name": "LayoutModel",
      "state": {
       "height": "auto",
       "width": "auto"
      }
     },
     "ad5c87e741a24acdb5ce8d96f553dde0": {
      "model_module": "@jupyter-widgets/base",
      "model_module_version": "2.0.0",
      "model_name": "LayoutModel",
      "state": {
       "grid_template_areas": "\"header header header\"\n\"left-sidebar center center\"",
       "grid_template_columns": "1fr 2fr 1fr",
       "grid_template_rows": "1fr 3fr"
      }
     },
     "ae638c944bfb444c8328aa914d4b85cf": {
      "model_module": "@jupyter-widgets/base",
      "model_module_version": "2.0.0",
      "model_name": "LayoutModel",
      "state": {
       "height": "auto",
       "width": "auto"
      }
     },
     "aea3939459f84678b77d0ca34cd92e74": {
      "model_module": "@jupyter-widgets/base",
      "model_module_version": "2.0.0",
      "model_name": "LayoutModel",
      "state": {}
     },
     "b0105c1afa53485885afdc0214f380db": {
      "model_module": "@jupyter-widgets/controls",
      "model_module_version": "2.0.0",
      "model_name": "ButtonStyleModel",
      "state": {
       "button_color": "#ecf5fe",
       "font_family": null,
       "font_size": null,
       "font_style": null,
       "font_variant": null,
       "font_weight": null,
       "text_color": null,
       "text_decoration": null
      }
     },
     "b166f32f8e9d4ae8979267931e6117b4": {
      "model_module": "@jupyter-widgets/base",
      "model_module_version": "2.0.0",
      "model_name": "LayoutModel",
      "state": {
       "height": "auto",
       "width": "auto"
      }
     },
     "b2382b8d0c2448a288aa91de037ade69": {
      "model_module": "@jupyter-widgets/base",
      "model_module_version": "2.0.0",
      "model_name": "LayoutModel",
      "state": {
       "height": "auto",
       "width": "auto"
      }
     },
     "b2842d86aab9422dbf507d088cbb5e1a": {
      "model_module": "@jupyter-widgets/controls",
      "model_module_version": "2.0.0",
      "model_name": "VBoxModel",
      "state": {
       "children": [
        "IPY_MODEL_0c22608a89984878bfb956082bc92ba5"
       ],
       "layout": "IPY_MODEL_786ccb5d676f4d41ae9e5a4f9bfa0f53"
      }
     },
     "b36303d82b92484986d1676a3bcbe265": {
      "model_module": "anywidget",
      "model_module_version": "0.9.3",
      "model_name": "AnyModel",
      "state": {
       "_anywidget_id": "ipywui.widgets.custom.message.MessageWidget",
       "_css": ".wui-message-root {\n    display: flex;\n    position: absolute;\n    left: 0;\n    right: 0;\n    top: 0;\n}\n\n.wui-message-container {\n    align-items: center;\n    display: flex;\n    flex-direction: column-reverse;\n    justify-content: center;\n    min-height: 100%;\n    outline: none;\n    width: 100%;\n\n    -webkit-tap-highlight-color: rgba(0,0,0,0);\n    bottom: 0;\n    left: 0;\n    right: 0;\n    top: 0;\n}\n\n.wui-message--success {\n    --wui-message-bg-color: #f0f9eb;\n    --wui-message-border-color: #e1f3d8;\n    --wui-message-text-color: #67c23a;\n}\n.wui-message--warning {\n    --wui-message-bg-color: #fdf6ec;\n    --wui-message-border-color: #faecd8;\n    --wui-message-text-color: #e6a23c;\n}\n.wui-message--info {\n    --wui-message-bg-color: #f4f4f5;\n    --wui-message-border-color: #e9e9eb;\n    --wui-message-text-color: #909399;\n}\n.wui-message--error {\n    --wui-message-bg-color: #fef0f0;\n    --wui-message-border-color: #fde2e2;\n    --wui-message-text-color: #f56c6c;\n}\n\n@keyframes msg-open {\n    0% {\n        opacity: 0;\n        -webkit-transform: translateY(-120%);\n        transform: translateY(-120%)\n    }\n    to {\n        -webkit-transform: translateY(0);\n        transform: translateY(0)\n    }\n}\n\n@keyframes msg-close {\n    0% {\n        opacity: 1;\n        -webkit-transform: scale(1);\n        transform: scale(1)\n    }\n    to {\n        opacity: 0;\n        -webkit-transform: scale(.9);\n        transform: scale(.9)\n    }\n}\n.wui-message[data-state=entered],.wui-message[data-state=entering] {\n    -webkit-animation: msg-open .24s cubic-bezier(.175,.885,.32,1.175) both;\n    animation: msg-open .24s cubic-bezier(.175,.885,.32,1.175) both\n}\n\n.wui-message[data-state=exiting] {\n    -webkit-animation: msg-close .12s cubic-bezier(.4,0,1,1) both;\n    animation: msg-close .12s cubic-bezier(.4,0,1,1) both\n}\n\n.wui-message {\n    width: -webkit-fit-content;\n    width: -moz-fit-content;\n    width: fit-content;\n    z-index: 2004;\n    max-width: calc(100% - 32px);\n    margin-top: 8px;\n    box-sizing: border-box;\n    /*border-radius: var(--wui-border-radius-base);*/\n    /*border-width: var(--wui-border-width);*/\n    /*border-style: var(--wui-border-style);*/\n    border-color: var(--wui-message-border-color);\n    /*left: 50%;*/\n    /*top: 20px;*/\n    /*transform: translateX(-50%);*/\n    background-color: var(--wui-message-bg-color);\n    /*transition: opacity var(--wui-transition-duration),transform .4s,top .4s;*/\n    /*padding: var(--wui-message-padding);*/\n    display: flex;\n    align-items: center;\n}\n\n/*.wui-message--success */\n.wui-message__content {\n    color: var(--wui-message-text-color);\n    font-size: 14px;\n    line-height: 18px;\n    margin: 10px 14px 10px 14px;\n    overflow-wrap: break-word;\n}\n\n.wui-message__closeBtn {\n    /*cursor: pointer;*/\n    font-style: normal;\n    /*color: gray;*/\n    padding-right: 14px;\n    /*font-size: 13px;*/\n    user-select: none;\n\n    background: transparent;\n    border: none;\n    color: gray;\n    cursor: pointer;\n    font-size: 13px;\n    font-weight: 400;\n    line-height: 1;\n    outline: none;\n    /*padding: 4px;*/\n    text-align: center;\n    transition: opacity .3s;\n    /*width: 100%;*/\n}",
       "_esm": "function closeMsg(msgDom) {\n  if (!msgDom) {\n    return;\n  }\n  msgDom.setAttribute('data-state', 'exiting');\n  msgDom.remove();\n}\n\nfunction createMsg(options) {\n  const {message, msg_id, type = 'info', show_close = false} = options;\n  const msgDom = document.createElement('div');\n  msgDom.className += ` wui-message--${type} wui-message`;\n  msgDom.setAttribute('data-state', 'entered');\n  msgDom.setAttribute('id', msg_id);\n  const msgContent = document.createElement('p');\n  msgContent.className += ` wui-message--${type} wui-message__content`;\n  msgContent.innerText = message;\n  msgDom.appendChild(msgContent);\n  if (show_close) {\n    const closeBtn = document.createElement('i');\n    closeBtn.className += 'wui-message__closeBtn';\n    closeBtn.innerText = 'x';\n    closeBtn.addEventListener('click', (ev) => {\n      closeMsg(msgDom);\n    })\n    msgDom.appendChild(closeBtn);\n  }\n  return msgDom;\n}\n\nexport async function render(view) {\n  let model = view.model;\n  const msgRoot = view.el;\n  msgRoot.className += ' wui-message-root'\n\n  const msgContainer = document.createElement('div');\n  msgContainer.className += ' wui-message-container';\n  msgRoot.appendChild(msgContainer)\n\n  model.on(\"change:message_options\", () => {\n    const options = model.get(\"message_options\");\n    const msg = createMsg(options);\n    msgContainer.appendChild(msg);\n    const {duration = 3000} = options;\n    if (duration > 0) {\n      setTimeout(() => {\n        closeMsg(msg)\n      }, duration);\n    }\n  })\n\n  model.on(\"change:close_msg_id\", () => {\n    const msg_id = model.get(\"close_msg_id\");\n    const msgDom = document.getElementById(msg_id);\n    closeMsg(msgDom);\n  })\n}\n",
       "_model_module": "anywidget",
       "_model_module_version": "0.9.3",
       "_model_name": "AnyModel",
       "_view_module": "anywidget",
       "_view_module_version": "0.9.3",
       "_view_name": "AnyView",
       "close_msg_id": "",
       "layout": "IPY_MODEL_fb615ba9e4a64f44864f95620b0e1172",
       "message_options": {
        "duration": 3000,
        "message": "",
        "show_close": false,
        "type": "info"
       }
      }
     },
     "b440ca20f936444bb1f191468f866300": {
      "model_module": "@jupyter-widgets/controls",
      "model_module_version": "2.0.0",
      "model_name": "GridBoxModel",
      "state": {
       "children": [
        "IPY_MODEL_d01b47d5e3834f789aaac926cbcac46a",
        "IPY_MODEL_a20719ea30624a16b016afad60ac2ee0"
       ],
       "layout": "IPY_MODEL_2a702641b68446bb884306e82000af2f"
      }
     },
     "b4d0bddab75e4b0bb2b734cf46e3f2fb": {
      "model_module": "@jupyter-widgets/base",
      "model_module_version": "2.0.0",
      "model_name": "LayoutModel",
      "state": {
       "height": "auto",
       "width": "auto"
      }
     },
     "b5c9cdfc5f934cf2b85bfd698e6ba11c": {
      "model_module": "@jupyter-widgets/base",
      "model_module_version": "2.0.0",
      "model_name": "LayoutModel",
      "state": {
       "grid_area": "center"
      }
     },
     "b6364d850eee4d0a820577948381a2d7": {
      "model_module": "@jupyter-widgets/controls",
      "model_module_version": "2.0.0",
      "model_name": "VBoxModel",
      "state": {
       "children": [
        "IPY_MODEL_1c9cccda11664256b7d45427baa98ddf"
       ],
       "layout": "IPY_MODEL_3e36f893677d4c6893fd72835bca0fa4"
      }
     },
     "b6a6c685770247eaa218d29b6cfa5d9b": {
      "model_module": "@jupyter-widgets/base",
      "model_module_version": "2.0.0",
      "model_name": "LayoutModel",
      "state": {
       "grid_area": "header"
      }
     },
     "b74de3ef127e49a8afe5385a243a85ac": {
      "model_module": "@jupyter-widgets/controls",
      "model_module_version": "2.0.0",
      "model_name": "VBoxModel",
      "state": {
       "children": [
        "IPY_MODEL_fc6a815bac71463682d0d14ec28572d5"
       ],
       "layout": "IPY_MODEL_dbfe69936fe74c5dbd2308768375989a"
      }
     },
     "b7b1448511b342ecbc5dcca24f282afe": {
      "model_module": "@jupyter-widgets/controls",
      "model_module_version": "2.0.0",
      "model_name": "ButtonStyleModel",
      "state": {
       "button_color": "#ecf5fe",
       "font_family": null,
       "font_size": null,
       "font_style": null,
       "font_variant": null,
       "font_weight": null,
       "text_color": null,
       "text_decoration": null
      }
     },
     "b7ef155baffb47fcb4559d103f0f027d": {
      "model_module": "@jupyter-widgets/controls",
      "model_module_version": "2.0.0",
      "model_name": "GridBoxModel",
      "state": {
       "children": [
        "IPY_MODEL_9249da605b5d4ab58d7cf7d9b564735e",
        "IPY_MODEL_0f75d108a86b4acba1174583865a9d29",
        "IPY_MODEL_ed8a5573bee04812bb484a7e73a8c96f"
       ],
       "layout": "IPY_MODEL_d06c6f58ada74e9cbbc6047c9a49eea2"
      }
     },
     "b857592549974c7eb4b7093bab95e505": {
      "model_module": "@jupyter-widgets/controls",
      "model_module_version": "2.0.0",
      "model_name": "ButtonModel",
      "state": {
       "description": "header",
       "layout": "IPY_MODEL_cb5494c9ae194ee9800e00704fcbd032",
       "style": "IPY_MODEL_d59ad443c50741bea418d2ce008367ec",
       "tooltip": null
      }
     },
     "b8ea567408064e8f95410c71ae5fddc7": {
      "model_module": "@jupyter-widgets/controls",
      "model_module_version": "2.0.0",
      "model_name": "ButtonStyleModel",
      "state": {
       "button_color": "#c8e3fe",
       "font_family": null,
       "font_size": null,
       "font_style": null,
       "font_variant": null,
       "font_weight": null,
       "text_color": null,
       "text_decoration": null
      }
     },
     "b90b0d24ddb1433d9b923e7ad7f54f64": {
      "model_module": "@jupyter-widgets/controls",
      "model_module_version": "2.0.0",
      "model_name": "ButtonStyleModel",
      "state": {
       "button_color": "#ecf5fe",
       "font_family": null,
       "font_size": null,
       "font_style": null,
       "font_variant": null,
       "font_weight": null,
       "text_color": null,
       "text_decoration": null
      }
     },
     "ba4a9a12dca9428cbfa8efe4c3385219": {
      "model_module": "@jupyter-widgets/controls",
      "model_module_version": "2.0.0",
      "model_name": "ButtonModel",
      "state": {
       "layout": "IPY_MODEL_1c3cc44ac1e6455e8d920a34de63c4b6",
       "style": "IPY_MODEL_223b65e1b9364a4c942859c5ff1c9836",
       "tooltip": null
      }
     },
     "baf8751a67fa4179886f5b4d74aac439": {
      "model_module": "@jupyter-widgets/controls",
      "model_module_version": "2.0.0",
      "model_name": "ButtonModel",
      "state": {
       "layout": "IPY_MODEL_3f7c3a2d280c4d79b1fd8b2ef67e2250",
       "style": "IPY_MODEL_a6972f7f67f54a6ebd6df234b3a65a2b",
       "tooltip": null
      }
     },
     "bb4d75663bc24b7ea1fc798a99e3cff5": {
      "model_module": "@jupyter-widgets/controls",
      "model_module_version": "2.0.0",
      "model_name": "ButtonModel",
      "state": {
       "layout": "IPY_MODEL_f33f81f7b6744358816b5ecd91d180cd",
       "style": "IPY_MODEL_29dc8d642e7c4d0f96a77f15fc352a77",
       "tooltip": null
      }
     },
     "bc3faefba367486280d5d9766cec161c": {
      "model_module": "@jupyter-widgets/base",
      "model_module_version": "2.0.0",
      "model_name": "LayoutModel",
      "state": {
       "grid_area": "center"
      }
     },
     "bd29e66cbe9d493c8a3f2207528fe41b": {
      "model_module": "@jupyter-widgets/controls",
      "model_module_version": "2.0.0",
      "model_name": "ButtonModel",
      "state": {
       "layout": "IPY_MODEL_0f54b49f603b43c9b4da69c6a080f9d0",
       "style": "IPY_MODEL_9e6bd0f50d784aba9b4d642fc2867703",
       "tooltip": null
      }
     },
     "bdb91f442de24e1b8306be99d6a46886": {
      "model_module": "@jupyter-widgets/controls",
      "model_module_version": "2.0.0",
      "model_name": "ButtonModel",
      "state": {
       "layout": "IPY_MODEL_3e80d40980444d71ace5549d31673a0f",
       "style": "IPY_MODEL_321ff3c6bbc645439a0f3c4077d17a0d",
       "tooltip": null
      }
     },
     "bdbea3b24a2e4a85a2ffbd7d701c6238": {
      "model_module": "@jupyter-widgets/controls",
      "model_module_version": "2.0.0",
      "model_name": "VBoxModel",
      "state": {
       "children": [
        "IPY_MODEL_75e376aa1ab346f39086c9fe93dd2ec9",
        "IPY_MODEL_d15d874bedff4063a5de1f6192309230",
        "IPY_MODEL_077c03df5f744b5e9e4b4ebf68c17542"
       ],
       "layout": "IPY_MODEL_51222a82eef84eb58f7c894aeaa837f4"
      }
     },
     "be4646859e8c491bb22543fde9caba4b": {
      "model_module": "@jupyter-widgets/base",
      "model_module_version": "2.0.0",
      "model_name": "LayoutModel",
      "state": {}
     },
     "bf21d2ac85984d4685b3e590aff5e8e2": {
      "model_module": "@jupyter-widgets/controls",
      "model_module_version": "2.0.0",
      "model_name": "VBoxModel",
      "state": {
       "children": [
        "IPY_MODEL_c306ea09f32f41a9a75d09bfaa4d1852"
       ],
       "layout": "IPY_MODEL_8ac41fed6bb241228b01b7cd01dfe9ec"
      }
     },
     "c306ea09f32f41a9a75d09bfaa4d1852": {
      "model_module": "@jupyter-widgets/controls",
      "model_module_version": "2.0.0",
      "model_name": "ButtonModel",
      "state": {
       "description": "header",
       "layout": "IPY_MODEL_408db01c166145a0a56c8b352374fbdd",
       "style": "IPY_MODEL_456c2df193ab4031847de35aa499c5f6",
       "tooltip": null
      }
     },
     "c51873c8a3e44a179250f54d4ce98f24": {
      "model_module": "@jupyter-widgets/base",
      "model_module_version": "2.0.0",
      "model_name": "LayoutModel",
      "state": {
       "height": "auto",
       "width": "auto"
      }
     },
     "c5627c19b4064ed6bb7d2f5db1d72448": {
      "model_module": "@jupyter-widgets/base",
      "model_module_version": "2.0.0",
      "model_name": "LayoutModel",
      "state": {
       "grid_template_areas": "\"header header header\"\n\"center center center\"",
       "grid_template_columns": "1fr 2fr 1fr",
       "grid_template_rows": "1fr 3fr"
      }
     },
     "c595ab47fbd74224ad39524240689a43": {
      "model_module": "@jupyter-widgets/controls",
      "model_module_version": "2.0.0",
      "model_name": "ButtonStyleModel",
      "state": {
       "button_color": "#dbecfe",
       "font_family": null,
       "font_size": null,
       "font_style": null,
       "font_variant": null,
       "font_weight": null,
       "text_color": null,
       "text_decoration": null
      }
     },
     "c6d58a9431ef464db99b8b968164e54b": {
      "model_module": "@jupyter-widgets/base",
      "model_module_version": "2.0.0",
      "model_name": "LayoutModel",
      "state": {}
     },
     "c72a9c505750446ca7774a3d8a0224ca": {
      "model_module": "@jupyter-widgets/base",
      "model_module_version": "2.0.0",
      "model_name": "LayoutModel",
      "state": {
       "grid_template_areas": "\"header header header\"\n\"left-sidebar center center\"\n\"footer footer footer\"",
       "grid_template_columns": "1fr 2fr 1fr",
       "grid_template_rows": "1fr 3fr 1fr"
      }
     },
     "c7acf37284f24038921e29d2fb653424": {
      "model_module": "@jupyter-widgets/controls",
      "model_module_version": "2.0.0",
      "model_name": "ButtonModel",
      "state": {
       "description": "center",
       "layout": "IPY_MODEL_7ed6b99a930d4882acaf69a9628df635",
       "style": "IPY_MODEL_8f99bf9da6084816953a76bba31a8093",
       "tooltip": null
      }
     },
     "c7ad57e50631467e9c9d4a0f2dbb40ad": {
      "model_module": "@jupyter-widgets/base",
      "model_module_version": "2.0.0",
      "model_name": "LayoutModel",
      "state": {
       "height": "auto",
       "width": "auto"
      }
     },
     "c7c387be33e9421ea036b9f5813533c4": {
      "model_module": "@jupyter-widgets/base",
      "model_module_version": "2.0.0",
      "model_name": "LayoutModel",
      "state": {
       "height": "auto",
       "width": "auto"
      }
     },
     "c7fc4251213544ec9cd49943e75caa23": {
      "model_module": "@jupyter-widgets/controls",
      "model_module_version": "2.0.0",
      "model_name": "VBoxModel",
      "state": {
       "children": [
        "IPY_MODEL_f91f17033f2f45c3bf3649b7020c0a3c"
       ],
       "layout": "IPY_MODEL_0ceec01ca5954bc5bddee85262eab0cf"
      }
     },
     "c9420ecabd3d460eb014fbbaca9bdf90": {
      "model_module": "@jupyter-widgets/base",
      "model_module_version": "2.0.0",
      "model_name": "LayoutModel",
      "state": {
       "grid_area": "footer"
      }
     },
     "c9a4a9358be74398a9f79e0ed77e563f": {
      "model_module": "@jupyter-widgets/controls",
      "model_module_version": "2.0.0",
      "model_name": "VBoxModel",
      "state": {
       "children": [
        "IPY_MODEL_b7ef155baffb47fcb4559d103f0f027d"
       ],
       "layout": "IPY_MODEL_7fb115b7e57d4403853b142f523cbfea"
      }
     },
     "cab1e49e967340679f4da0cf14567583": {
      "model_module": "@jupyter-widgets/controls",
      "model_module_version": "2.0.0",
      "model_name": "ButtonStyleModel",
      "state": {
       "button_color": "#ecf5fe",
       "font_family": null,
       "font_size": null,
       "font_style": null,
       "font_variant": null,
       "font_weight": null,
       "text_color": null,
       "text_decoration": null
      }
     },
     "cb5494c9ae194ee9800e00704fcbd032": {
      "model_module": "@jupyter-widgets/base",
      "model_module_version": "2.0.0",
      "model_name": "LayoutModel",
      "state": {
       "height": "auto",
       "width": "auto"
      }
     },
     "cb997d9f8e8b4b7a83fba6205ab9e9cb": {
      "model_module": "@jupyter-widgets/controls",
      "model_module_version": "2.0.0",
      "model_name": "VBoxModel",
      "state": {
       "children": [
        "IPY_MODEL_605553a47bbf49cfb6911998c0043097"
       ],
       "layout": "IPY_MODEL_769deb3919884722bb85219945feb744"
      }
     },
     "cd641691aa8440c19cad4f0c0993efce": {
      "model_module": "@jupyter-widgets/controls",
      "model_module_version": "2.0.0",
      "model_name": "VBoxModel",
      "state": {
       "children": [
        "IPY_MODEL_73812ec23a3f4c498a6c10f3926447e8",
        "IPY_MODEL_4a06edf71f4c42deb37568e45a76ee54",
        "IPY_MODEL_bd29e66cbe9d493c8a3f2207528fe41b"
       ],
       "layout": "IPY_MODEL_6968eee71ff34f1c8b8bd2c436b27273"
      }
     },
     "cd74ae63338c4754a0c82240a152281c": {
      "model_module": "@jupyter-widgets/controls",
      "model_module_version": "2.0.0",
      "model_name": "VBoxModel",
      "state": {
       "children": [
        "IPY_MODEL_0958cea870544c888af1c74fb60e88d2"
       ],
       "layout": "IPY_MODEL_b6a6c685770247eaa218d29b6cfa5d9b"
      }
     },
     "cdaa3b67c95b4bc2b34ca14d5f370703": {
      "model_module": "@jupyter-widgets/controls",
      "model_module_version": "2.0.0",
      "model_name": "ButtonStyleModel",
      "state": {
       "button_color": "#dbecfe",
       "font_family": null,
       "font_size": null,
       "font_style": null,
       "font_variant": null,
       "font_weight": null,
       "text_color": null,
       "text_decoration": null
      }
     },
     "ceb07ee2e9174ef9b2ec78e7cfc7e9b5": {
      "model_module": "@jupyter-widgets/base",
      "model_module_version": "2.0.0",
      "model_name": "LayoutModel",
      "state": {
       "height": "auto",
       "width": "auto"
      }
     },
     "cf54ec6b04b14f3b8695a21ec051d008": {
      "model_module": "@jupyter-widgets/base",
      "model_module_version": "2.0.0",
      "model_name": "LayoutModel",
      "state": {
       "height": "auto",
       "width": "auto"
      }
     },
     "d01b47d5e3834f789aaac926cbcac46a": {
      "model_module": "@jupyter-widgets/controls",
      "model_module_version": "2.0.0",
      "model_name": "VBoxModel",
      "state": {
       "children": [
        "IPY_MODEL_2be2c351fd8041468e8987fbeaa1f11c",
        "IPY_MODEL_2fb4102d047c4013b66965e83f152c87",
        "IPY_MODEL_ba4a9a12dca9428cbfa8efe4c3385219",
        "IPY_MODEL_45323768ee93470fb5f3707a65aa4782"
       ],
       "layout": "IPY_MODEL_6872632e84b94a6baa91a43bc8147831"
      }
     },
     "d06c6f58ada74e9cbbc6047c9a49eea2": {
      "model_module": "@jupyter-widgets/base",
      "model_module_version": "2.0.0",
      "model_name": "LayoutModel",
      "state": {
       "grid_template_areas": "\"header header header\"\n\"center center center\"\n\"footer footer footer\"",
       "grid_template_columns": "1fr 2fr 1fr",
       "grid_template_rows": "1fr 3fr 1fr"
      }
     },
     "d0a0ebe6bfb741faa51d54a3e460e314": {
      "model_module": "@jupyter-widgets/controls",
      "model_module_version": "2.0.0",
      "model_name": "ButtonModel",
      "state": {
       "description": "center",
       "layout": "IPY_MODEL_0b33e366cac7490ca5d283cf5b3eee47",
       "style": "IPY_MODEL_5186c0d381184a0cbf9599fbd6f37db2",
       "tooltip": null
      }
     },
     "d15d874bedff4063a5de1f6192309230": {
      "model_module": "@jupyter-widgets/controls",
      "model_module_version": "2.0.0",
      "model_name": "ButtonModel",
      "state": {
       "description": "center",
       "layout": "IPY_MODEL_083f2562a6ce4c0fbfe2f84f46395ba0",
       "style": "IPY_MODEL_f01cecbd1f814e1bb2c3dc2eafbb5b50",
       "tooltip": null
      }
     },
     "d258f48d943b4f95915f639d7d3f49a7": {
      "model_module": "@jupyter-widgets/controls",
      "model_module_version": "2.0.0",
      "model_name": "ButtonStyleModel",
      "state": {
       "button_color": "#c8e3fe",
       "font_family": null,
       "font_size": null,
       "font_style": null,
       "font_variant": null,
       "font_weight": null,
       "text_color": null,
       "text_decoration": null
      }
     },
     "d2e0b95156dd4a0aa314c5422aa6e7e2": {
      "model_module": "@jupyter-widgets/base",
      "model_module_version": "2.0.0",
      "model_name": "LayoutModel",
      "state": {
       "grid_template_areas": "\"header header header\"\n\"left-sidebar center right-sidebar\"\n\"footer footer footer\"",
       "grid_template_columns": "100px 1fr 1fr",
       "grid_template_rows": "1fr 3fr 30px"
      }
     },
     "d37987113cf34a3d83dcb81044a74eaf": {
      "model_module": "@jupyter-widgets/base",
      "model_module_version": "2.0.0",
      "model_name": "LayoutModel",
      "state": {
       "height": "auto",
       "width": "auto"
      }
     },
     "d4ada51267c140b79f2ac497de7dcd6d": {
      "model_module": "@jupyter-widgets/controls",
      "model_module_version": "2.0.0",
      "model_name": "ButtonStyleModel",
      "state": {
       "button_color": "#dbecfe",
       "font_family": null,
       "font_size": null,
       "font_style": null,
       "font_variant": null,
       "font_weight": null,
       "text_color": null,
       "text_decoration": null
      }
     },
     "d59ad443c50741bea418d2ce008367ec": {
      "model_module": "@jupyter-widgets/controls",
      "model_module_version": "2.0.0",
      "model_name": "ButtonStyleModel",
      "state": {
       "button_color": "#c8e3fe",
       "font_family": null,
       "font_size": null,
       "font_style": null,
       "font_variant": null,
       "font_weight": null,
       "text_color": null,
       "text_decoration": null
      }
     },
     "d623bce664c7477a93831e2d79c3d56e": {
      "model_module": "@jupyter-widgets/controls",
      "model_module_version": "2.0.0",
      "model_name": "ButtonModel",
      "state": {
       "description": "right",
       "layout": "IPY_MODEL_7f31ce87763247c3a032b86fe57c9541",
       "style": "IPY_MODEL_6a429cd4ea544251ac313ee7f321f602",
       "tooltip": null
      }
     },
     "d73cc26377f6417385a3dcb67303e4e5": {
      "model_module": "@jupyter-widgets/base",
      "model_module_version": "2.0.0",
      "model_name": "LayoutModel",
      "state": {
       "height": "auto",
       "width": "auto"
      }
     },
     "d99bba3956264acb9a4abadafa46665b": {
      "model_module": "@jupyter-widgets/controls",
      "model_module_version": "2.0.0",
      "model_name": "ButtonModel",
      "state": {
       "layout": "IPY_MODEL_9f2d4470495a4b12aa29117302d69f14",
       "style": "IPY_MODEL_d258f48d943b4f95915f639d7d3f49a7",
       "tooltip": null
      }
     },
     "daa42aa51fe34c658c7951e0095ef736": {
      "model_module": "@jupyter-widgets/base",
      "model_module_version": "2.0.0",
      "model_name": "LayoutModel",
      "state": {
       "height": "auto",
       "width": "auto"
      }
     },
     "db97f46a9a214e20b7fff6e964c8c090": {
      "model_module": "@jupyter-widgets/controls",
      "model_module_version": "2.0.0",
      "model_name": "ButtonModel",
      "state": {
       "layout": "IPY_MODEL_d73cc26377f6417385a3dcb67303e4e5",
       "style": "IPY_MODEL_6d9deda96fca4d74a8bdec43d6567d7e",
       "tooltip": null
      }
     },
     "dbdffc732f394b1c9f4ea2b72e065b82": {
      "model_module": "@jupyter-widgets/controls",
      "model_module_version": "2.0.0",
      "model_name": "ButtonStyleModel",
      "state": {
       "button_color": "#c8e3fe",
       "font_family": null,
       "font_size": null,
       "font_style": null,
       "font_variant": null,
       "font_weight": null,
       "text_color": null,
       "text_decoration": null
      }
     },
     "dbfe69936fe74c5dbd2308768375989a": {
      "model_module": "@jupyter-widgets/base",
      "model_module_version": "2.0.0",
      "model_name": "LayoutModel",
      "state": {
       "grid_area": "footer"
      }
     },
     "dc44ff6d9f1c41f98320c6766dc9ba83": {
      "model_module": "@jupyter-widgets/controls",
      "model_module_version": "2.0.0",
      "model_name": "ButtonModel",
      "state": {
       "layout": "IPY_MODEL_c51873c8a3e44a179250f54d4ce98f24",
       "style": "IPY_MODEL_e8a4c80668b44cbb8c9bd67ac462814a",
       "tooltip": null
      }
     },
     "dd56bd662f0b47e18b0144c3837636b0": {
      "model_module": "@jupyter-widgets/controls",
      "model_module_version": "2.0.0",
      "model_name": "VBoxModel",
      "state": {
       "children": [
        "IPY_MODEL_1880e5dfc232459b8045c3f46b8600e5"
       ],
       "layout": "IPY_MODEL_4241f5ca32554e17b383a881ad8788fd"
      }
     },
     "dd74976f8f514a578af7a4d33bb327e6": {
      "model_module": "@jupyter-widgets/controls",
      "model_module_version": "2.0.0",
      "model_name": "VBoxModel",
      "state": {
       "children": [
        "IPY_MODEL_3e42093657d14d4d8a54d5252bd29d9c",
        "IPY_MODEL_3e42093657d14d4d8a54d5252bd29d9c",
        "IPY_MODEL_b6364d850eee4d0a820577948381a2d7"
       ],
       "layout": "IPY_MODEL_88c566cb21ad4d9a9e30aafee32d3134"
      }
     },
     "de17d00f277e4c3fb6de739a47a2bb88": {
      "model_module": "@jupyter-widgets/base",
      "model_module_version": "2.0.0",
      "model_name": "LayoutModel",
      "state": {
       "height": "auto",
       "width": "auto"
      }
     },
     "de4cbf265cb44cad9402f15a39bac19a": {
      "model_module": "@jupyter-widgets/base",
      "model_module_version": "2.0.0",
      "model_name": "LayoutModel",
      "state": {
       "height": "auto",
       "width": "auto"
      }
     },
     "de5792f9cc5544a6835b0c50bbdb1a44": {
      "model_module": "@jupyter-widgets/controls",
      "model_module_version": "2.0.0",
      "model_name": "ButtonStyleModel",
      "state": {
       "button_color": "#ecf5fe",
       "font_family": null,
       "font_size": null,
       "font_style": null,
       "font_variant": null,
       "font_weight": null,
       "text_color": null,
       "text_decoration": null
      }
     },
     "de813817776541e6af4438efde37b47b": {
      "model_module": "@jupyter-widgets/controls",
      "model_module_version": "2.0.0",
      "model_name": "VBoxModel",
      "state": {
       "children": [
        "IPY_MODEL_9adbde73500e4daba583e09a4ddf0103"
       ],
       "layout": "IPY_MODEL_4fb2df7b21c94c0eb874ea69080be609"
      }
     },
     "dedc1e16badc4118a9053d430fe1e6ff": {
      "model_module": "@jupyter-widgets/controls",
      "model_module_version": "2.0.0",
      "model_name": "VBoxModel",
      "state": {
       "children": [
        "IPY_MODEL_e21b82f09af74802b0d22f702508e6f8",
        "IPY_MODEL_e21b82f09af74802b0d22f702508e6f8",
        "IPY_MODEL_9499ce31311f44a394f65a8acf7b0bce"
       ],
       "layout": "IPY_MODEL_95d106ce964b4703aa5b91100ac266d4"
      }
     },
     "e03759500f7d4c509d677374b671bd96": {
      "model_module": "@jupyter-widgets/controls",
      "model_module_version": "2.0.0",
      "model_name": "ButtonStyleModel",
      "state": {
       "button_color": "#dbecfe",
       "font_family": null,
       "font_size": null,
       "font_style": null,
       "font_variant": null,
       "font_weight": null,
       "text_color": null,
       "text_decoration": null
      }
     },
     "e21b82f09af74802b0d22f702508e6f8": {
      "model_module": "anywidget",
      "model_module_version": "0.9.3",
      "model_name": "AnyModel",
      "state": {
       "_anywidget_id": "ipywui.widgets.custom.message.MessageWidget",
       "_css": ".wui-message-root {\n    display: flex;\n    position: absolute;\n    left: 0;\n    right: 0;\n    top: 0;\n}\n\n.wui-message-container {\n    align-items: center;\n    display: flex;\n    flex-direction: column-reverse;\n    justify-content: center;\n    min-height: 100%;\n    outline: none;\n    width: 100%;\n\n    -webkit-tap-highlight-color: rgba(0,0,0,0);\n    bottom: 0;\n    left: 0;\n    right: 0;\n    top: 0;\n}\n\n.wui-message--success {\n    --wui-message-bg-color: #f0f9eb;\n    --wui-message-border-color: #e1f3d8;\n    --wui-message-text-color: #67c23a;\n}\n.wui-message--warning {\n    --wui-message-bg-color: #fdf6ec;\n    --wui-message-border-color: #faecd8;\n    --wui-message-text-color: #e6a23c;\n}\n.wui-message--info {\n    --wui-message-bg-color: #f4f4f5;\n    --wui-message-border-color: #e9e9eb;\n    --wui-message-text-color: #909399;\n}\n.wui-message--error {\n    --wui-message-bg-color: #fef0f0;\n    --wui-message-border-color: #fde2e2;\n    --wui-message-text-color: #f56c6c;\n}\n\n@keyframes msg-open {\n    0% {\n        opacity: 0;\n        -webkit-transform: translateY(-120%);\n        transform: translateY(-120%)\n    }\n    to {\n        -webkit-transform: translateY(0);\n        transform: translateY(0)\n    }\n}\n\n@keyframes msg-close {\n    0% {\n        opacity: 1;\n        -webkit-transform: scale(1);\n        transform: scale(1)\n    }\n    to {\n        opacity: 0;\n        -webkit-transform: scale(.9);\n        transform: scale(.9)\n    }\n}\n.wui-message[data-state=entered],.wui-message[data-state=entering] {\n    -webkit-animation: msg-open .24s cubic-bezier(.175,.885,.32,1.175) both;\n    animation: msg-open .24s cubic-bezier(.175,.885,.32,1.175) both\n}\n\n.wui-message[data-state=exiting] {\n    -webkit-animation: msg-close .12s cubic-bezier(.4,0,1,1) both;\n    animation: msg-close .12s cubic-bezier(.4,0,1,1) both\n}\n\n.wui-message {\n    width: -webkit-fit-content;\n    width: -moz-fit-content;\n    width: fit-content;\n    z-index: 2004;\n    max-width: calc(100% - 32px);\n    margin-top: 8px;\n    box-sizing: border-box;\n    /*border-radius: var(--wui-border-radius-base);*/\n    /*border-width: var(--wui-border-width);*/\n    /*border-style: var(--wui-border-style);*/\n    border-color: var(--wui-message-border-color);\n    /*left: 50%;*/\n    /*top: 20px;*/\n    /*transform: translateX(-50%);*/\n    background-color: var(--wui-message-bg-color);\n    /*transition: opacity var(--wui-transition-duration),transform .4s,top .4s;*/\n    /*padding: var(--wui-message-padding);*/\n    display: flex;\n    align-items: center;\n}\n\n/*.wui-message--success */\n.wui-message__content {\n    color: var(--wui-message-text-color);\n    font-size: 14px;\n    line-height: 18px;\n    margin: 10px 14px 10px 14px;\n    overflow-wrap: break-word;\n}\n\n.wui-message__closeBtn {\n    /*cursor: pointer;*/\n    font-style: normal;\n    /*color: gray;*/\n    padding-right: 14px;\n    /*font-size: 13px;*/\n    user-select: none;\n\n    background: transparent;\n    border: none;\n    color: gray;\n    cursor: pointer;\n    font-size: 13px;\n    font-weight: 400;\n    line-height: 1;\n    outline: none;\n    /*padding: 4px;*/\n    text-align: center;\n    transition: opacity .3s;\n    /*width: 100%;*/\n}",
       "_esm": "function closeMsg(msgDom) {\n  if (!msgDom) {\n    return;\n  }\n  msgDom.setAttribute('data-state', 'exiting');\n  msgDom.remove();\n}\n\nfunction createMsg(options) {\n  const {message, msg_id, type = 'info', show_close = false} = options;\n  const msgDom = document.createElement('div');\n  msgDom.className += ` wui-message--${type} wui-message`;\n  msgDom.setAttribute('data-state', 'entered');\n  msgDom.setAttribute('id', msg_id);\n  const msgContent = document.createElement('p');\n  msgContent.className += ` wui-message--${type} wui-message__content`;\n  msgContent.innerText = message;\n  msgDom.appendChild(msgContent);\n  if (show_close) {\n    const closeBtn = document.createElement('i');\n    closeBtn.className += 'wui-message__closeBtn';\n    closeBtn.innerText = 'x';\n    closeBtn.addEventListener('click', (ev) => {\n      closeMsg(msgDom);\n    })\n    msgDom.appendChild(closeBtn);\n  }\n  return msgDom;\n}\n\nexport async function render(view) {\n  let model = view.model;\n  const msgRoot = view.el;\n  msgRoot.className += ' wui-message-root'\n\n  const msgContainer = document.createElement('div');\n  msgContainer.className += ' wui-message-container';\n  msgRoot.appendChild(msgContainer)\n\n  model.on(\"change:message_options\", () => {\n    const options = model.get(\"message_options\");\n    const msg = createMsg(options);\n    msgContainer.appendChild(msg);\n    const {duration = 3000} = options;\n    if (duration > 0) {\n      setTimeout(() => {\n        closeMsg(msg)\n      }, duration);\n    }\n  })\n\n  model.on(\"change:close_msg_id\", () => {\n    const msg_id = model.get(\"close_msg_id\");\n    const msgDom = document.getElementById(msg_id);\n    closeMsg(msgDom);\n  })\n}\n",
       "_model_module": "anywidget",
       "_model_module_version": "0.9.3",
       "_model_name": "AnyModel",
       "_view_module": "anywidget",
       "_view_module_version": "0.9.3",
       "_view_name": "AnyView",
       "close_msg_id": "",
       "layout": "IPY_MODEL_ec23b6e7dd0a4e5f88a0ade754ad5225",
       "message_options": {
        "duration": 3000,
        "message": "",
        "show_close": false,
        "type": "info"
       }
      }
     },
     "e2d8740cca084b978d109165228f8892": {
      "model_module": "@jupyter-widgets/controls",
      "model_module_version": "2.0.0",
      "model_name": "ButtonStyleModel",
      "state": {
       "button_color": "#ecf5fe",
       "font_family": null,
       "font_size": null,
       "font_style": null,
       "font_variant": null,
       "font_weight": null,
       "text_color": null,
       "text_decoration": null
      }
     },
     "e4c1b2eefdb44a7099b1dd568f255a7c": {
      "model_module": "@jupyter-widgets/controls",
      "model_module_version": "2.0.0",
      "model_name": "ButtonStyleModel",
      "state": {
       "button_color": "#c8e3fe",
       "font_family": null,
       "font_size": null,
       "font_style": null,
       "font_variant": null,
       "font_weight": null,
       "text_color": null,
       "text_decoration": null
      }
     },
     "e5a9f8eb2da549e49af1047e69bf0717": {
      "model_module": "@jupyter-widgets/base",
      "model_module_version": "2.0.0",
      "model_name": "LayoutModel",
      "state": {
       "height": "auto",
       "width": "auto"
      }
     },
     "e8a4c80668b44cbb8c9bd67ac462814a": {
      "model_module": "@jupyter-widgets/controls",
      "model_module_version": "2.0.0",
      "model_name": "ButtonStyleModel",
      "state": {
       "button_color": "#ecf5fe",
       "font_family": null,
       "font_size": null,
       "font_style": null,
       "font_variant": null,
       "font_weight": null,
       "text_color": null,
       "text_decoration": null
      }
     },
     "e8f49da6fa3644f79a44ec92b867faec": {
      "model_module": "@jupyter-widgets/controls",
      "model_module_version": "2.0.0",
      "model_name": "ButtonStyleModel",
      "state": {
       "button_color": "#c8e3fe",
       "font_family": null,
       "font_size": null,
       "font_style": null,
       "font_variant": null,
       "font_weight": null,
       "text_color": null,
       "text_decoration": null
      }
     },
     "e923c21de8614e00854350d9509f0576": {
      "model_module": "@jupyter-widgets/controls",
      "model_module_version": "2.0.0",
      "model_name": "ButtonModel",
      "state": {
       "description": "footer",
       "layout": "IPY_MODEL_c7ad57e50631467e9c9d4a0f2dbb40ad",
       "style": "IPY_MODEL_b8ea567408064e8f95410c71ae5fddc7",
       "tooltip": null
      }
     },
     "e9479602b6d6417c949ee742e6fbca66": {
      "model_module": "@jupyter-widgets/base",
      "model_module_version": "2.0.0",
      "model_name": "LayoutModel",
      "state": {
       "height": "auto",
       "width": "auto"
      }
     },
     "ea70bb4446e6436f96e1f88f61ff0b46": {
      "model_module": "@jupyter-widgets/controls",
      "model_module_version": "2.0.0",
      "model_name": "VBoxModel",
      "state": {
       "children": [
        "IPY_MODEL_db97f46a9a214e20b7fff6e964c8c090",
        "IPY_MODEL_631c1e5c8fcb4d1c92eaedf29bc7488e",
        "IPY_MODEL_a07586e3bf11428cad1f9ce5693933c8"
       ],
       "layout": "IPY_MODEL_bc3faefba367486280d5d9766cec161c"
      }
     },
     "eb927f23128a4351a9cc2e752ccaa9fd": {
      "model_module": "@jupyter-widgets/controls",
      "model_module_version": "2.0.0",
      "model_name": "ButtonModel",
      "state": {
       "layout": "IPY_MODEL_ae638c944bfb444c8328aa914d4b85cf",
       "style": "IPY_MODEL_cdaa3b67c95b4bc2b34ca14d5f370703",
       "tooltip": null
      }
     },
     "ec23b6e7dd0a4e5f88a0ade754ad5225": {
      "model_module": "@jupyter-widgets/base",
      "model_module_version": "2.0.0",
      "model_name": "LayoutModel",
      "state": {}
     },
     "ed8a5573bee04812bb484a7e73a8c96f": {
      "model_module": "@jupyter-widgets/controls",
      "model_module_version": "2.0.0",
      "model_name": "VBoxModel",
      "state": {
       "children": [
        "IPY_MODEL_010b922f2e594b89a6f48916a7dcbe9a",
        "IPY_MODEL_c7acf37284f24038921e29d2fb653424",
        "IPY_MODEL_9e4143a164f146df96e38f2dab6ed9f3"
       ],
       "layout": "IPY_MODEL_b5c9cdfc5f934cf2b85bfd698e6ba11c"
      }
     },
     "ed8a785a67404842802eee1ee7ffdb31": {
      "model_module": "anywidget",
      "model_module_version": "0.9.3",
      "model_name": "AnyModel",
      "state": {
       "_anywidget_id": "ipywui.widgets.custom.message.MessageWidget",
       "_css": ".wui-message-root {\n    display: flex;\n    position: absolute;\n    left: 0;\n    right: 0;\n    top: 0;\n}\n\n.wui-message-container {\n    align-items: center;\n    display: flex;\n    flex-direction: column-reverse;\n    justify-content: center;\n    min-height: 100%;\n    outline: none;\n    width: 100%;\n\n    -webkit-tap-highlight-color: rgba(0,0,0,0);\n    bottom: 0;\n    left: 0;\n    right: 0;\n    top: 0;\n}\n\n.wui-message--success {\n    --wui-message-bg-color: #f0f9eb;\n    --wui-message-border-color: #e1f3d8;\n    --wui-message-text-color: #67c23a;\n}\n.wui-message--warning {\n    --wui-message-bg-color: #fdf6ec;\n    --wui-message-border-color: #faecd8;\n    --wui-message-text-color: #e6a23c;\n}\n.wui-message--info {\n    --wui-message-bg-color: #f4f4f5;\n    --wui-message-border-color: #e9e9eb;\n    --wui-message-text-color: #909399;\n}\n.wui-message--error {\n    --wui-message-bg-color: #fef0f0;\n    --wui-message-border-color: #fde2e2;\n    --wui-message-text-color: #f56c6c;\n}\n\n@keyframes msg-open {\n    0% {\n        opacity: 0;\n        -webkit-transform: translateY(-120%);\n        transform: translateY(-120%)\n    }\n    to {\n        -webkit-transform: translateY(0);\n        transform: translateY(0)\n    }\n}\n\n@keyframes msg-close {\n    0% {\n        opacity: 1;\n        -webkit-transform: scale(1);\n        transform: scale(1)\n    }\n    to {\n        opacity: 0;\n        -webkit-transform: scale(.9);\n        transform: scale(.9)\n    }\n}\n.wui-message[data-state=entered],.wui-message[data-state=entering] {\n    -webkit-animation: msg-open .24s cubic-bezier(.175,.885,.32,1.175) both;\n    animation: msg-open .24s cubic-bezier(.175,.885,.32,1.175) both\n}\n\n.wui-message[data-state=exiting] {\n    -webkit-animation: msg-close .12s cubic-bezier(.4,0,1,1) both;\n    animation: msg-close .12s cubic-bezier(.4,0,1,1) both\n}\n\n.wui-message {\n    width: -webkit-fit-content;\n    width: -moz-fit-content;\n    width: fit-content;\n    z-index: 2004;\n    max-width: calc(100% - 32px);\n    margin-top: 8px;\n    box-sizing: border-box;\n    /*border-radius: var(--wui-border-radius-base);*/\n    /*border-width: var(--wui-border-width);*/\n    /*border-style: var(--wui-border-style);*/\n    border-color: var(--wui-message-border-color);\n    /*left: 50%;*/\n    /*top: 20px;*/\n    /*transform: translateX(-50%);*/\n    background-color: var(--wui-message-bg-color);\n    /*transition: opacity var(--wui-transition-duration),transform .4s,top .4s;*/\n    /*padding: var(--wui-message-padding);*/\n    display: flex;\n    align-items: center;\n}\n\n/*.wui-message--success */\n.wui-message__content {\n    color: var(--wui-message-text-color);\n    font-size: 14px;\n    line-height: 18px;\n    margin: 10px 14px 10px 14px;\n    overflow-wrap: break-word;\n}\n\n.wui-message__closeBtn {\n    /*cursor: pointer;*/\n    font-style: normal;\n    /*color: gray;*/\n    padding-right: 14px;\n    /*font-size: 13px;*/\n    user-select: none;\n\n    background: transparent;\n    border: none;\n    color: gray;\n    cursor: pointer;\n    font-size: 13px;\n    font-weight: 400;\n    line-height: 1;\n    outline: none;\n    /*padding: 4px;*/\n    text-align: center;\n    transition: opacity .3s;\n    /*width: 100%;*/\n}",
       "_esm": "function closeMsg(msgDom) {\n  if (!msgDom) {\n    return;\n  }\n  msgDom.setAttribute('data-state', 'exiting');\n  msgDom.remove();\n}\n\nfunction createMsg(options) {\n  const {message, msg_id, type = 'info', show_close = false} = options;\n  const msgDom = document.createElement('div');\n  msgDom.className += ` wui-message--${type} wui-message`;\n  msgDom.setAttribute('data-state', 'entered');\n  msgDom.setAttribute('id', msg_id);\n  const msgContent = document.createElement('p');\n  msgContent.className += ` wui-message--${type} wui-message__content`;\n  msgContent.innerText = message;\n  msgDom.appendChild(msgContent);\n  if (show_close) {\n    const closeBtn = document.createElement('i');\n    closeBtn.className += 'wui-message__closeBtn';\n    closeBtn.innerText = 'x';\n    closeBtn.addEventListener('click', (ev) => {\n      closeMsg(msgDom);\n    })\n    msgDom.appendChild(closeBtn);\n  }\n  return msgDom;\n}\n\nexport async function render(view) {\n  let model = view.model;\n  const msgRoot = view.el;\n  msgRoot.className += ' wui-message-root'\n\n  const msgContainer = document.createElement('div');\n  msgContainer.className += ' wui-message-container';\n  msgRoot.appendChild(msgContainer)\n\n  model.on(\"change:message_options\", () => {\n    const options = model.get(\"message_options\");\n    const msg = createMsg(options);\n    msgContainer.appendChild(msg);\n    const {duration = 3000} = options;\n    if (duration > 0) {\n      setTimeout(() => {\n        closeMsg(msg)\n      }, duration);\n    }\n  })\n\n  model.on(\"change:close_msg_id\", () => {\n    const msg_id = model.get(\"close_msg_id\");\n    const msgDom = document.getElementById(msg_id);\n    closeMsg(msgDom);\n  })\n}\n",
       "_model_module": "anywidget",
       "_model_module_version": "0.9.3",
       "_model_name": "AnyModel",
       "_view_module": "anywidget",
       "_view_module_version": "0.9.3",
       "_view_name": "AnyView",
       "close_msg_id": "",
       "layout": "IPY_MODEL_29e62816ac0b46f481880030bce70cc0",
       "message_options": {
        "duration": 3000,
        "message": "",
        "show_close": false,
        "type": "info"
       }
      }
     },
     "edfb2e4a40134c89a71186c59e80b361": {
      "model_module": "@jupyter-widgets/controls",
      "model_module_version": "2.0.0",
      "model_name": "VBoxModel",
      "state": {
       "children": [
        "IPY_MODEL_bb4d75663bc24b7ea1fc798a99e3cff5",
        "IPY_MODEL_a8009fb0f1cb4840b70d0de237552111",
        "IPY_MODEL_baf8751a67fa4179886f5b4d74aac439"
       ],
       "layout": "IPY_MODEL_f34cdf362ae24b30889f4dfa47e021a0"
      }
     },
     "ee045bfd5f474531b8f88cfe160464e2": {
      "model_module": "@jupyter-widgets/controls",
      "model_module_version": "2.0.0",
      "model_name": "ButtonStyleModel",
      "state": {
       "button_color": "#dbecfe",
       "font_family": null,
       "font_size": null,
       "font_style": null,
       "font_variant": null,
       "font_weight": null,
       "text_color": null,
       "text_decoration": null
      }
     },
     "ee1bcce455fc487ea24f6b8e3f3050ac": {
      "model_module": "@jupyter-widgets/base",
      "model_module_version": "2.0.0",
      "model_name": "LayoutModel",
      "state": {
       "grid_area": "header"
      }
     },
     "eed251cacff34a95bce7c39edb9feb7c": {
      "model_module": "@jupyter-widgets/controls",
      "model_module_version": "2.0.0",
      "model_name": "ButtonStyleModel",
      "state": {
       "button_color": "#c8e3fe",
       "font_family": null,
       "font_size": null,
       "font_style": null,
       "font_variant": null,
       "font_weight": null,
       "text_color": null,
       "text_decoration": null
      }
     },
     "ef770636913b49e08566a2a14afc4492": {
      "model_module": "@jupyter-widgets/controls",
      "model_module_version": "2.0.0",
      "model_name": "ButtonStyleModel",
      "state": {
       "button_color": "#c8e3fe",
       "font_family": null,
       "font_size": null,
       "font_style": null,
       "font_variant": null,
       "font_weight": null,
       "text_color": null,
       "text_decoration": null
      }
     },
     "ef9b1027067845b88d49ebb5efe32dcb": {
      "model_module": "@jupyter-widgets/controls",
      "model_module_version": "2.0.0",
      "model_name": "ButtonStyleModel",
      "state": {
       "button_color": "#dbecfe",
       "font_family": null,
       "font_size": null,
       "font_style": null,
       "font_variant": null,
       "font_weight": null,
       "text_color": null,
       "text_decoration": null
      }
     },
     "f01cecbd1f814e1bb2c3dc2eafbb5b50": {
      "model_module": "@jupyter-widgets/controls",
      "model_module_version": "2.0.0",
      "model_name": "ButtonStyleModel",
      "state": {
       "button_color": "#ecf5fe",
       "font_family": null,
       "font_size": null,
       "font_style": null,
       "font_variant": null,
       "font_weight": null,
       "text_color": null,
       "text_decoration": null
      }
     },
     "f202916be36e46d6bbfcc3253ab16801": {
      "model_module": "@jupyter-widgets/base",
      "model_module_version": "2.0.0",
      "model_name": "LayoutModel",
      "state": {}
     },
     "f2ae1e7bb0f148b1a0c07733a74b4e36": {
      "model_module": "@jupyter-widgets/base",
      "model_module_version": "2.0.0",
      "model_name": "LayoutModel",
      "state": {
       "grid_template_areas": "\"header header header\"\n\"left-sidebar center center\"",
       "grid_template_columns": "1fr 2fr 1fr",
       "grid_template_rows": "1fr 3fr"
      }
     },
     "f33f81f7b6744358816b5ecd91d180cd": {
      "model_module": "@jupyter-widgets/base",
      "model_module_version": "2.0.0",
      "model_name": "LayoutModel",
      "state": {
       "height": "auto",
       "width": "auto"
      }
     },
     "f34cdf362ae24b30889f4dfa47e021a0": {
      "model_module": "@jupyter-widgets/base",
      "model_module_version": "2.0.0",
      "model_name": "LayoutModel",
      "state": {
       "grid_area": "center"
      }
     },
     "f52aa25975714bb7b81d879180a5def2": {
      "model_module": "@jupyter-widgets/controls",
      "model_module_version": "2.0.0",
      "model_name": "ButtonStyleModel",
      "state": {
       "button_color": "#ecf5fe",
       "font_family": null,
       "font_size": null,
       "font_style": null,
       "font_variant": null,
       "font_weight": null,
       "text_color": null,
       "text_decoration": null
      }
     },
     "f720f281df0246d9a88c6ff9f920303b": {
      "model_module": "@jupyter-widgets/controls",
      "model_module_version": "2.0.0",
      "model_name": "ButtonStyleModel",
      "state": {
       "button_color": "#c8e3fe",
       "font_family": null,
       "font_size": null,
       "font_style": null,
       "font_variant": null,
       "font_weight": null,
       "text_color": null,
       "text_decoration": null
      }
     },
     "f72a801557dd42bd828a6b0fb5545ec8": {
      "model_module": "@jupyter-widgets/controls",
      "model_module_version": "2.0.0",
      "model_name": "ButtonModel",
      "state": {
       "description": "left",
       "layout": "IPY_MODEL_e5a9f8eb2da549e49af1047e69bf0717",
       "style": "IPY_MODEL_2ebcaa92becb469582867f694959bcb3",
       "tooltip": null
      }
     },
     "f7a70d1c8c6e4b758d489976445c140e": {
      "model_module": "@jupyter-widgets/controls",
      "model_module_version": "2.0.0",
      "model_name": "ButtonModel",
      "state": {
       "description": "left",
       "layout": "IPY_MODEL_457f0c6a8de34023ac16d48479906300",
       "style": "IPY_MODEL_453e54b4380e49dbb0be47b053cb07f5",
       "tooltip": null
      }
     },
     "f88a59414b4446189905298481427c90": {
      "model_module": "@jupyter-widgets/controls",
      "model_module_version": "2.0.0",
      "model_name": "VBoxModel",
      "state": {
       "children": [
        "IPY_MODEL_dd74976f8f514a578af7a4d33bb327e6"
       ],
       "layout": "IPY_MODEL_70bf416829334840b1dae90ff9c2eb74"
      }
     },
     "f8e14c6c8db14e0399ecd9e80676166c": {
      "model_module": "@jupyter-widgets/controls",
      "model_module_version": "2.0.0",
      "model_name": "ButtonStyleModel",
      "state": {
       "button_color": "#ecf5fe",
       "font_family": null,
       "font_size": null,
       "font_style": null,
       "font_variant": null,
       "font_weight": null,
       "text_color": null,
       "text_decoration": null
      }
     },
     "f909e396edb4422d84fa35f9bc8ab3de": {
      "model_module": "@jupyter-widgets/controls",
      "model_module_version": "2.0.0",
      "model_name": "ButtonModel",
      "state": {
       "description": "header",
       "layout": "IPY_MODEL_52bac2fc4cce46d9b06e18be1f6f32b2",
       "style": "IPY_MODEL_e8f49da6fa3644f79a44ec92b867faec",
       "tooltip": null
      }
     },
     "f91f17033f2f45c3bf3649b7020c0a3c": {
      "model_module": "@jupyter-widgets/controls",
      "model_module_version": "2.0.0",
      "model_name": "GridBoxModel",
      "state": {
       "children": [
        "IPY_MODEL_cd74ae63338c4754a0c82240a152281c",
        "IPY_MODEL_0acf5e77bcf34f2aa507824faa9a3975",
        "IPY_MODEL_24ba62819a1b40fc83fb01f56775a9d1",
        "IPY_MODEL_1edb36a37ccf4adf88a5f1370a8a3d25"
       ],
       "layout": "IPY_MODEL_c72a9c505750446ca7774a3d8a0224ca"
      }
     },
     "fa0882bc40084b8889caa6719488154b": {
      "model_module": "@jupyter-widgets/controls",
      "model_module_version": "2.0.0",
      "model_name": "ButtonStyleModel",
      "state": {
       "button_color": "#c8e3fe",
       "font_family": null,
       "font_size": null,
       "font_style": null,
       "font_variant": null,
       "font_weight": null,
       "text_color": null,
       "text_decoration": null
      }
     },
     "fa8e62b3bec34a57a76035935cc7fabb": {
      "model_module": "@jupyter-widgets/controls",
      "model_module_version": "2.0.0",
      "model_name": "VBoxModel",
      "state": {
       "children": [
        "IPY_MODEL_d99bba3956264acb9a4abadafa46665b",
        "IPY_MODEL_d623bce664c7477a93831e2d79c3d56e",
        "IPY_MODEL_0666028ceaec4832bef668058a5a481e"
       ],
       "layout": "IPY_MODEL_1c1f075b42114dec99380e063d2510d7"
      }
     },
     "fa9427c4655a4248bbd317c7d77db57e": {
      "model_module": "@jupyter-widgets/base",
      "model_module_version": "2.0.0",
      "model_name": "LayoutModel",
      "state": {
       "height": "auto",
       "width": "auto"
      }
     },
     "fb615ba9e4a64f44864f95620b0e1172": {
      "model_module": "@jupyter-widgets/base",
      "model_module_version": "2.0.0",
      "model_name": "LayoutModel",
      "state": {}
     },
     "fc6a815bac71463682d0d14ec28572d5": {
      "model_module": "@jupyter-widgets/controls",
      "model_module_version": "2.0.0",
      "model_name": "ButtonModel",
      "state": {
       "description": "footer",
       "layout": "IPY_MODEL_fa9427c4655a4248bbd317c7d77db57e",
       "style": "IPY_MODEL_e4c1b2eefdb44a7099b1dd568f255a7c",
       "tooltip": null
      }
     },
     "fde97c97cf4c4e86be58c3723402ef70": {
      "model_module": "@jupyter-widgets/controls",
      "model_module_version": "2.0.0",
      "model_name": "VBoxModel",
      "state": {
       "children": [
        "IPY_MODEL_559014f41a104916b1cbfc577adbfb2f"
       ],
       "layout": "IPY_MODEL_a1bfe8cce9f446a587e0cad4ecde3efb"
      }
     },
     "fe117b3897064c24a58d0e7bf5b2f0fe": {
      "model_module": "@jupyter-widgets/base",
      "model_module_version": "2.0.0",
      "model_name": "LayoutModel",
      "state": {
       "grid_area": "left-sidebar"
      }
     },
     "fe26f2da31e14d5fb96206e8cdcd4dc6": {
      "model_module": "@jupyter-widgets/base",
      "model_module_version": "2.0.0",
      "model_name": "LayoutModel",
      "state": {}
     }
    },
    "version_major": 2,
    "version_minor": 0
   }
  }
 },
 "nbformat": 4,
 "nbformat_minor": 5
}
